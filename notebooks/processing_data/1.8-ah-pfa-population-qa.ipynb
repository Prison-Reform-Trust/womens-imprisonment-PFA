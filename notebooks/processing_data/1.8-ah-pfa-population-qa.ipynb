{
 "cells": [
  {
   "cell_type": "markdown",
   "id": "0788caa7",
   "metadata": {},
   "source": [
    "# Women's imprisonment rates\n",
    "## ONS population by Police Force Area: Data QA\n",
    "Checking that my new dataset values are in line with previous years"
   ]
  },
  {
   "cell_type": "markdown",
   "id": "aa047ed7",
   "metadata": {},
   "source": [
    "## Loading newly processed data"
   ]
  },
  {
   "cell_type": "code",
   "execution_count": 1,
   "id": "7736731f",
   "metadata": {},
   "outputs": [],
   "source": [
    "%load_ext autoreload\n",
    "%autoreload 2"
   ]
  },
  {
   "cell_type": "code",
   "execution_count": 2,
   "id": "8d906ddb",
   "metadata": {},
   "outputs": [],
   "source": [
    "import pandas as pd\n",
    "import src.utilities as utils\n",
    "config = utils.read_config()"
   ]
  },
  {
   "cell_type": "code",
   "execution_count": 3,
   "id": "65824de3",
   "metadata": {},
   "outputs": [
    {
     "name": "stderr",
     "output_type": "stream",
     "text": [
      "2025-07-21 12:31:01,876 - INFO - Loaded data from data/interim/LA_PFA_population_women_2011-2023.csv\n"
     ]
    },
    {
     "data": {
      "text/html": [
       "<div>\n",
       "<style scoped>\n",
       "    .dataframe tbody tr th:only-of-type {\n",
       "        vertical-align: middle;\n",
       "    }\n",
       "\n",
       "    .dataframe tbody tr th {\n",
       "        vertical-align: top;\n",
       "    }\n",
       "\n",
       "    .dataframe thead th {\n",
       "        text-align: right;\n",
       "    }\n",
       "</style>\n",
       "<table border=\"1\" class=\"dataframe\">\n",
       "  <thead>\n",
       "    <tr style=\"text-align: right;\">\n",
       "      <th></th>\n",
       "      <th>ladcode</th>\n",
       "      <th>laname</th>\n",
       "      <th>year</th>\n",
       "      <th>freq</th>\n",
       "      <th>pfa</th>\n",
       "    </tr>\n",
       "  </thead>\n",
       "  <tbody>\n",
       "    <tr>\n",
       "      <th>0</th>\n",
       "      <td>E06000001</td>\n",
       "      <td>Hartlepool</td>\n",
       "      <td>2011</td>\n",
       "      <td>37332</td>\n",
       "      <td>Cleveland</td>\n",
       "    </tr>\n",
       "    <tr>\n",
       "      <th>1</th>\n",
       "      <td>E06000001</td>\n",
       "      <td>Hartlepool</td>\n",
       "      <td>2012</td>\n",
       "      <td>37470</td>\n",
       "      <td>Cleveland</td>\n",
       "    </tr>\n",
       "    <tr>\n",
       "      <th>2</th>\n",
       "      <td>E06000001</td>\n",
       "      <td>Hartlepool</td>\n",
       "      <td>2013</td>\n",
       "      <td>37476</td>\n",
       "      <td>Cleveland</td>\n",
       "    </tr>\n",
       "    <tr>\n",
       "      <th>3</th>\n",
       "      <td>E06000001</td>\n",
       "      <td>Hartlepool</td>\n",
       "      <td>2014</td>\n",
       "      <td>37491</td>\n",
       "      <td>Cleveland</td>\n",
       "    </tr>\n",
       "    <tr>\n",
       "      <th>4</th>\n",
       "      <td>E06000001</td>\n",
       "      <td>Hartlepool</td>\n",
       "      <td>2015</td>\n",
       "      <td>37524</td>\n",
       "      <td>Cleveland</td>\n",
       "    </tr>\n",
       "    <tr>\n",
       "      <th>...</th>\n",
       "      <td>...</td>\n",
       "      <td>...</td>\n",
       "      <td>...</td>\n",
       "      <td>...</td>\n",
       "      <td>...</td>\n",
       "    </tr>\n",
       "    <tr>\n",
       "      <th>4116</th>\n",
       "      <td>W06000024</td>\n",
       "      <td>Merthyr Tydfil</td>\n",
       "      <td>2019</td>\n",
       "      <td>24168</td>\n",
       "      <td>South Wales</td>\n",
       "    </tr>\n",
       "    <tr>\n",
       "      <th>4117</th>\n",
       "      <td>W06000024</td>\n",
       "      <td>Merthyr Tydfil</td>\n",
       "      <td>2020</td>\n",
       "      <td>24134</td>\n",
       "      <td>South Wales</td>\n",
       "    </tr>\n",
       "    <tr>\n",
       "      <th>4118</th>\n",
       "      <td>W06000024</td>\n",
       "      <td>Merthyr Tydfil</td>\n",
       "      <td>2021</td>\n",
       "      <td>24061</td>\n",
       "      <td>South Wales</td>\n",
       "    </tr>\n",
       "    <tr>\n",
       "      <th>4119</th>\n",
       "      <td>W06000024</td>\n",
       "      <td>Merthyr Tydfil</td>\n",
       "      <td>2022</td>\n",
       "      <td>24056</td>\n",
       "      <td>South Wales</td>\n",
       "    </tr>\n",
       "    <tr>\n",
       "      <th>4120</th>\n",
       "      <td>W06000024</td>\n",
       "      <td>Merthyr Tydfil</td>\n",
       "      <td>2023</td>\n",
       "      <td>23909</td>\n",
       "      <td>South Wales</td>\n",
       "    </tr>\n",
       "  </tbody>\n",
       "</table>\n",
       "<p>4121 rows × 5 columns</p>\n",
       "</div>"
      ],
      "text/plain": [
       "        ladcode          laname  year   freq          pfa\n",
       "0     E06000001      Hartlepool  2011  37332    Cleveland\n",
       "1     E06000001      Hartlepool  2012  37470    Cleveland\n",
       "2     E06000001      Hartlepool  2013  37476    Cleveland\n",
       "3     E06000001      Hartlepool  2014  37491    Cleveland\n",
       "4     E06000001      Hartlepool  2015  37524    Cleveland\n",
       "...         ...             ...   ...    ...          ...\n",
       "4116  W06000024  Merthyr Tydfil  2019  24168  South Wales\n",
       "4117  W06000024  Merthyr Tydfil  2020  24134  South Wales\n",
       "4118  W06000024  Merthyr Tydfil  2021  24061  South Wales\n",
       "4119  W06000024  Merthyr Tydfil  2022  24056  South Wales\n",
       "4120  W06000024  Merthyr Tydfil  2023  23909  South Wales\n",
       "\n",
       "[4121 rows x 5 columns]"
      ]
     },
     "execution_count": 3,
     "metadata": {},
     "output_type": "execute_result"
    }
   ],
   "source": [
    "df = utils.load_data('interim', 'LA_PFA_population_women_2011-2023.csv')\n",
    "df"
   ]
  },
  {
   "cell_type": "markdown",
   "id": "00956c62",
   "metadata": {},
   "source": [
    "## Loading previous analysis' data\n",
    "\n",
    "Steps to reproduce:\n",
    "1. Download ONS mid-year estimates (with 2021 geog LA codes)\n",
    "2. Process for adult women in England and Wales\n",
    "3. Match LAs to earlier PFA codes and process"
   ]
  },
  {
   "cell_type": "markdown",
   "id": "8b7d71c8",
   "metadata": {},
   "source": [
    "1. The pre-2021 Census data requires a manual download of the data and can be found within the zip file of the [Mid-2001 to mid-2020 detailed time series edition of this dataset](https://www.ons.gov.uk/peoplepopulationandcommunity/populationandmigration/populationestimates/datasets/populationestimatesforukenglandandwalesscotlandandnorthernireland). I will look to automate this in the future."
   ]
  },
  {
   "cell_type": "markdown",
   "id": "053748aa",
   "metadata": {},
   "source": [
    "2. The data is then processed by `ons_comparator.py` to produce `LA_population_women_2001-2020.csv`, ready for matching with the PFA codes."
   ]
  },
  {
   "cell_type": "markdown",
   "id": "2c3449e1",
   "metadata": {},
   "source": [
    "Both of these steps have already been completed in preparation for the QA process for the population data in `1.5-ah-pfa-population-qa.ipynb` and are documented in the notebook."
   ]
  },
  {
   "cell_type": "code",
   "execution_count": 5,
   "id": "d64bf33f",
   "metadata": {},
   "outputs": [
    {
     "name": "stderr",
     "output_type": "stream",
     "text": [
      "2025-07-21 12:33:13,364 - INFO - Loaded data from data/interim/LA_population_women_2001-2020.csv\n"
     ]
    },
    {
     "data": {
      "text/html": [
       "<div>\n",
       "<style scoped>\n",
       "    .dataframe tbody tr th:only-of-type {\n",
       "        vertical-align: middle;\n",
       "    }\n",
       "\n",
       "    .dataframe tbody tr th {\n",
       "        vertical-align: top;\n",
       "    }\n",
       "\n",
       "    .dataframe thead th {\n",
       "        text-align: right;\n",
       "    }\n",
       "</style>\n",
       "<table border=\"1\" class=\"dataframe\">\n",
       "  <thead>\n",
       "    <tr style=\"text-align: right;\">\n",
       "      <th></th>\n",
       "      <th>ladcode</th>\n",
       "      <th>laname</th>\n",
       "      <th>year</th>\n",
       "      <th>freq</th>\n",
       "    </tr>\n",
       "  </thead>\n",
       "  <tbody>\n",
       "    <tr>\n",
       "      <th>0</th>\n",
       "      <td>E06000001</td>\n",
       "      <td>Hartlepool</td>\n",
       "      <td>2001</td>\n",
       "      <td>35629</td>\n",
       "    </tr>\n",
       "    <tr>\n",
       "      <th>1</th>\n",
       "      <td>E06000001</td>\n",
       "      <td>Hartlepool</td>\n",
       "      <td>2002</td>\n",
       "      <td>35660</td>\n",
       "    </tr>\n",
       "    <tr>\n",
       "      <th>2</th>\n",
       "      <td>E06000001</td>\n",
       "      <td>Hartlepool</td>\n",
       "      <td>2003</td>\n",
       "      <td>35795</td>\n",
       "    </tr>\n",
       "    <tr>\n",
       "      <th>3</th>\n",
       "      <td>E06000001</td>\n",
       "      <td>Hartlepool</td>\n",
       "      <td>2004</td>\n",
       "      <td>35901</td>\n",
       "    </tr>\n",
       "    <tr>\n",
       "      <th>4</th>\n",
       "      <td>E06000001</td>\n",
       "      <td>Hartlepool</td>\n",
       "      <td>2005</td>\n",
       "      <td>36065</td>\n",
       "    </tr>\n",
       "    <tr>\n",
       "      <th>...</th>\n",
       "      <td>...</td>\n",
       "      <td>...</td>\n",
       "      <td>...</td>\n",
       "      <td>...</td>\n",
       "    </tr>\n",
       "    <tr>\n",
       "      <th>6615</th>\n",
       "      <td>W06000024</td>\n",
       "      <td>Merthyr Tydfil</td>\n",
       "      <td>2016</td>\n",
       "      <td>24249</td>\n",
       "    </tr>\n",
       "    <tr>\n",
       "      <th>6616</th>\n",
       "      <td>W06000024</td>\n",
       "      <td>Merthyr Tydfil</td>\n",
       "      <td>2017</td>\n",
       "      <td>24358</td>\n",
       "    </tr>\n",
       "    <tr>\n",
       "      <th>6617</th>\n",
       "      <td>W06000024</td>\n",
       "      <td>Merthyr Tydfil</td>\n",
       "      <td>2018</td>\n",
       "      <td>24426</td>\n",
       "    </tr>\n",
       "    <tr>\n",
       "      <th>6618</th>\n",
       "      <td>W06000024</td>\n",
       "      <td>Merthyr Tydfil</td>\n",
       "      <td>2019</td>\n",
       "      <td>24493</td>\n",
       "    </tr>\n",
       "    <tr>\n",
       "      <th>6619</th>\n",
       "      <td>W06000024</td>\n",
       "      <td>Merthyr Tydfil</td>\n",
       "      <td>2020</td>\n",
       "      <td>24519</td>\n",
       "    </tr>\n",
       "  </tbody>\n",
       "</table>\n",
       "<p>6620 rows × 4 columns</p>\n",
       "</div>"
      ],
      "text/plain": [
       "        ladcode          laname  year   freq\n",
       "0     E06000001      Hartlepool  2001  35629\n",
       "1     E06000001      Hartlepool  2002  35660\n",
       "2     E06000001      Hartlepool  2003  35795\n",
       "3     E06000001      Hartlepool  2004  35901\n",
       "4     E06000001      Hartlepool  2005  36065\n",
       "...         ...             ...   ...    ...\n",
       "6615  W06000024  Merthyr Tydfil  2016  24249\n",
       "6616  W06000024  Merthyr Tydfil  2017  24358\n",
       "6617  W06000024  Merthyr Tydfil  2018  24426\n",
       "6618  W06000024  Merthyr Tydfil  2019  24493\n",
       "6619  W06000024  Merthyr Tydfil  2020  24519\n",
       "\n",
       "[6620 rows x 4 columns]"
      ]
     },
     "execution_count": 5,
     "metadata": {},
     "output_type": "execute_result"
    }
   ],
   "source": [
    "df_old = utils.load_data('interim', 'LA_population_women_2001-2020.csv')\n",
    "df_old"
   ]
  },
  {
   "cell_type": "markdown",
   "id": "c6765b2e",
   "metadata": {},
   "source": [
    "### 3. Matching PFA codes to `df_old`"
   ]
  },
  {
   "cell_type": "code",
   "execution_count": 6,
   "id": "17985f91",
   "metadata": {},
   "outputs": [],
   "source": [
    "from src.data.processing import la_to_pfa_matching"
   ]
  },
  {
   "cell_type": "code",
   "execution_count": 10,
   "id": "1058ad97",
   "metadata": {},
   "outputs": [
    {
     "name": "stderr",
     "output_type": "stream",
     "text": [
      "2025-07-21 12:53:12,545 - INFO - Loaded data from data/raw/LA_to_PFA_(December_2022)_Lookup_in_EW.csv\n"
     ]
    },
    {
     "data": {
      "text/html": [
       "<div>\n",
       "<style scoped>\n",
       "    .dataframe tbody tr th:only-of-type {\n",
       "        vertical-align: middle;\n",
       "    }\n",
       "\n",
       "    .dataframe tbody tr th {\n",
       "        vertical-align: top;\n",
       "    }\n",
       "\n",
       "    .dataframe thead th {\n",
       "        text-align: right;\n",
       "    }\n",
       "</style>\n",
       "<table border=\"1\" class=\"dataframe\">\n",
       "  <thead>\n",
       "    <tr style=\"text-align: right;\">\n",
       "      <th></th>\n",
       "      <th>LAD22CD</th>\n",
       "      <th>LAD22NM</th>\n",
       "      <th>PFA22CD</th>\n",
       "      <th>PFA22NM</th>\n",
       "    </tr>\n",
       "  </thead>\n",
       "  <tbody>\n",
       "    <tr>\n",
       "      <th>0</th>\n",
       "      <td>E08000001</td>\n",
       "      <td>Bolton</td>\n",
       "      <td>E23000005</td>\n",
       "      <td>Greater Manchester</td>\n",
       "    </tr>\n",
       "    <tr>\n",
       "      <th>1</th>\n",
       "      <td>E08000002</td>\n",
       "      <td>Bury</td>\n",
       "      <td>E23000005</td>\n",
       "      <td>Greater Manchester</td>\n",
       "    </tr>\n",
       "    <tr>\n",
       "      <th>2</th>\n",
       "      <td>E08000003</td>\n",
       "      <td>Manchester</td>\n",
       "      <td>E23000005</td>\n",
       "      <td>Greater Manchester</td>\n",
       "    </tr>\n",
       "    <tr>\n",
       "      <th>3</th>\n",
       "      <td>E08000004</td>\n",
       "      <td>Oldham</td>\n",
       "      <td>E23000005</td>\n",
       "      <td>Greater Manchester</td>\n",
       "    </tr>\n",
       "    <tr>\n",
       "      <th>4</th>\n",
       "      <td>E08000005</td>\n",
       "      <td>Rochdale</td>\n",
       "      <td>E23000005</td>\n",
       "      <td>Greater Manchester</td>\n",
       "    </tr>\n",
       "    <tr>\n",
       "      <th>...</th>\n",
       "      <td>...</td>\n",
       "      <td>...</td>\n",
       "      <td>...</td>\n",
       "      <td>...</td>\n",
       "    </tr>\n",
       "    <tr>\n",
       "      <th>336</th>\n",
       "      <td>E07000227</td>\n",
       "      <td>Horsham</td>\n",
       "      <td>E23000033</td>\n",
       "      <td>Sussex</td>\n",
       "    </tr>\n",
       "    <tr>\n",
       "      <th>337</th>\n",
       "      <td>E07000063</td>\n",
       "      <td>Lewes</td>\n",
       "      <td>E23000033</td>\n",
       "      <td>Sussex</td>\n",
       "    </tr>\n",
       "    <tr>\n",
       "      <th>338</th>\n",
       "      <td>E07000228</td>\n",
       "      <td>Mid Sussex</td>\n",
       "      <td>E23000033</td>\n",
       "      <td>Sussex</td>\n",
       "    </tr>\n",
       "    <tr>\n",
       "      <th>339</th>\n",
       "      <td>E07000064</td>\n",
       "      <td>Rother</td>\n",
       "      <td>E23000033</td>\n",
       "      <td>Sussex</td>\n",
       "    </tr>\n",
       "    <tr>\n",
       "      <th>340</th>\n",
       "      <td>E07000065</td>\n",
       "      <td>Wealden</td>\n",
       "      <td>E23000033</td>\n",
       "      <td>Sussex</td>\n",
       "    </tr>\n",
       "  </tbody>\n",
       "</table>\n",
       "<p>341 rows × 4 columns</p>\n",
       "</div>"
      ],
      "text/plain": [
       "       LAD22CD     LAD22NM    PFA22CD             PFA22NM\n",
       "0    E08000001      Bolton  E23000005  Greater Manchester\n",
       "1    E08000002        Bury  E23000005  Greater Manchester\n",
       "2    E08000003  Manchester  E23000005  Greater Manchester\n",
       "3    E08000004      Oldham  E23000005  Greater Manchester\n",
       "4    E08000005    Rochdale  E23000005  Greater Manchester\n",
       "..         ...         ...        ...                 ...\n",
       "336  E07000227     Horsham  E23000033              Sussex\n",
       "337  E07000063       Lewes  E23000033              Sussex\n",
       "338  E07000228  Mid Sussex  E23000033              Sussex\n",
       "339  E07000064      Rother  E23000033              Sussex\n",
       "340  E07000065     Wealden  E23000033              Sussex\n",
       "\n",
       "[341 rows x 4 columns]"
      ]
     },
     "execution_count": 10,
     "metadata": {},
     "output_type": "execute_result"
    }
   ],
   "source": [
    "old_pfa_lookup_filename = config['data']['qaFilenames']['la_to_pfa_lookup']\n",
    "old_pfa_lookup = utils.load_data('raw', old_pfa_lookup_filename)\n",
    "old_pfa_lookup"
   ]
  },
  {
   "cell_type": "code",
   "execution_count": 11,
   "id": "2a3633c6",
   "metadata": {},
   "outputs": [
    {
     "name": "stderr",
     "output_type": "stream",
     "text": [
      "2025-07-21 12:53:15,155 - INFO - Matching Local Authority Districts to Police Force Areas...\n",
      "2025-07-21 12:53:15,157 - INFO - Creating lookup dictionary...\n",
      "2025-07-21 12:53:15,159 - INFO - Standardising column names...\n",
      "2025-07-21 12:53:15,218 - INFO - Filtering and cleaning population data...\n"
     ]
    },
    {
     "data": {
      "text/html": [
       "<div>\n",
       "<style scoped>\n",
       "    .dataframe tbody tr th:only-of-type {\n",
       "        vertical-align: middle;\n",
       "    }\n",
       "\n",
       "    .dataframe tbody tr th {\n",
       "        vertical-align: top;\n",
       "    }\n",
       "\n",
       "    .dataframe thead th {\n",
       "        text-align: right;\n",
       "    }\n",
       "</style>\n",
       "<table border=\"1\" class=\"dataframe\">\n",
       "  <thead>\n",
       "    <tr style=\"text-align: right;\">\n",
       "      <th></th>\n",
       "      <th>ladcode</th>\n",
       "      <th>laname</th>\n",
       "      <th>year</th>\n",
       "      <th>freq</th>\n",
       "      <th>pfa</th>\n",
       "    </tr>\n",
       "  </thead>\n",
       "  <tbody>\n",
       "    <tr>\n",
       "      <th>0</th>\n",
       "      <td>E06000001</td>\n",
       "      <td>Hartlepool</td>\n",
       "      <td>2001</td>\n",
       "      <td>35629</td>\n",
       "      <td>Cleveland</td>\n",
       "    </tr>\n",
       "    <tr>\n",
       "      <th>1</th>\n",
       "      <td>E06000001</td>\n",
       "      <td>Hartlepool</td>\n",
       "      <td>2002</td>\n",
       "      <td>35660</td>\n",
       "      <td>Cleveland</td>\n",
       "    </tr>\n",
       "    <tr>\n",
       "      <th>2</th>\n",
       "      <td>E06000001</td>\n",
       "      <td>Hartlepool</td>\n",
       "      <td>2003</td>\n",
       "      <td>35795</td>\n",
       "      <td>Cleveland</td>\n",
       "    </tr>\n",
       "    <tr>\n",
       "      <th>3</th>\n",
       "      <td>E06000001</td>\n",
       "      <td>Hartlepool</td>\n",
       "      <td>2004</td>\n",
       "      <td>35901</td>\n",
       "      <td>Cleveland</td>\n",
       "    </tr>\n",
       "    <tr>\n",
       "      <th>4</th>\n",
       "      <td>E06000001</td>\n",
       "      <td>Hartlepool</td>\n",
       "      <td>2005</td>\n",
       "      <td>36065</td>\n",
       "      <td>Cleveland</td>\n",
       "    </tr>\n",
       "    <tr>\n",
       "      <th>...</th>\n",
       "      <td>...</td>\n",
       "      <td>...</td>\n",
       "      <td>...</td>\n",
       "      <td>...</td>\n",
       "      <td>...</td>\n",
       "    </tr>\n",
       "    <tr>\n",
       "      <th>6615</th>\n",
       "      <td>W06000024</td>\n",
       "      <td>Merthyr Tydfil</td>\n",
       "      <td>2016</td>\n",
       "      <td>24249</td>\n",
       "      <td>South Wales</td>\n",
       "    </tr>\n",
       "    <tr>\n",
       "      <th>6616</th>\n",
       "      <td>W06000024</td>\n",
       "      <td>Merthyr Tydfil</td>\n",
       "      <td>2017</td>\n",
       "      <td>24358</td>\n",
       "      <td>South Wales</td>\n",
       "    </tr>\n",
       "    <tr>\n",
       "      <th>6617</th>\n",
       "      <td>W06000024</td>\n",
       "      <td>Merthyr Tydfil</td>\n",
       "      <td>2018</td>\n",
       "      <td>24426</td>\n",
       "      <td>South Wales</td>\n",
       "    </tr>\n",
       "    <tr>\n",
       "      <th>6618</th>\n",
       "      <td>W06000024</td>\n",
       "      <td>Merthyr Tydfil</td>\n",
       "      <td>2019</td>\n",
       "      <td>24493</td>\n",
       "      <td>South Wales</td>\n",
       "    </tr>\n",
       "    <tr>\n",
       "      <th>6619</th>\n",
       "      <td>W06000024</td>\n",
       "      <td>Merthyr Tydfil</td>\n",
       "      <td>2020</td>\n",
       "      <td>24519</td>\n",
       "      <td>South Wales</td>\n",
       "    </tr>\n",
       "  </tbody>\n",
       "</table>\n",
       "<p>6600 rows × 5 columns</p>\n",
       "</div>"
      ],
      "text/plain": [
       "        ladcode          laname  year   freq          pfa\n",
       "0     E06000001      Hartlepool  2001  35629    Cleveland\n",
       "1     E06000001      Hartlepool  2002  35660    Cleveland\n",
       "2     E06000001      Hartlepool  2003  35795    Cleveland\n",
       "3     E06000001      Hartlepool  2004  35901    Cleveland\n",
       "4     E06000001      Hartlepool  2005  36065    Cleveland\n",
       "...         ...             ...   ...    ...          ...\n",
       "6615  W06000024  Merthyr Tydfil  2016  24249  South Wales\n",
       "6616  W06000024  Merthyr Tydfil  2017  24358  South Wales\n",
       "6617  W06000024  Merthyr Tydfil  2018  24426  South Wales\n",
       "6618  W06000024  Merthyr Tydfil  2019  24493  South Wales\n",
       "6619  W06000024  Merthyr Tydfil  2020  24519  South Wales\n",
       "\n",
       "[6600 rows x 5 columns]"
      ]
     },
     "execution_count": 11,
     "metadata": {},
     "output_type": "execute_result"
    }
   ],
   "source": [
    "df_old_qa = (\n",
    "    la_to_pfa_matching.assign_pfa(old_pfa_lookup, df_old)\n",
    "    .pipe(la_to_pfa_matching.filter_and_clean_data)\n",
    ")\n",
    "df_old_qa"
   ]
  },
  {
   "cell_type": "markdown",
   "id": "93245d91",
   "metadata": {},
   "source": [
    "### Comparing the old and new dataset values"
   ]
  },
  {
   "cell_type": "code",
   "execution_count": 12,
   "id": "a859c1f6",
   "metadata": {},
   "outputs": [
    {
     "data": {
      "text/html": [
       "<div>\n",
       "<style scoped>\n",
       "    .dataframe tbody tr th:only-of-type {\n",
       "        vertical-align: middle;\n",
       "    }\n",
       "\n",
       "    .dataframe tbody tr th {\n",
       "        vertical-align: top;\n",
       "    }\n",
       "\n",
       "    .dataframe thead th {\n",
       "        text-align: right;\n",
       "    }\n",
       "</style>\n",
       "<table border=\"1\" class=\"dataframe\">\n",
       "  <thead>\n",
       "    <tr style=\"text-align: right;\">\n",
       "      <th></th>\n",
       "      <th>ladcode</th>\n",
       "      <th>laname</th>\n",
       "      <th>year</th>\n",
       "      <th>freq</th>\n",
       "      <th>pfa</th>\n",
       "    </tr>\n",
       "  </thead>\n",
       "  <tbody>\n",
       "    <tr>\n",
       "      <th>433</th>\n",
       "      <td>E06000022</td>\n",
       "      <td>Bath and North East Somerset</td>\n",
       "      <td>2014</td>\n",
       "      <td>75367</td>\n",
       "      <td>Avon and Somerset</td>\n",
       "    </tr>\n",
       "    <tr>\n",
       "      <th>453</th>\n",
       "      <td>E06000023</td>\n",
       "      <td>Bristol, City of</td>\n",
       "      <td>2014</td>\n",
       "      <td>177077</td>\n",
       "      <td>Avon and Somerset</td>\n",
       "    </tr>\n",
       "    <tr>\n",
       "      <th>473</th>\n",
       "      <td>E06000024</td>\n",
       "      <td>North Somerset</td>\n",
       "      <td>2014</td>\n",
       "      <td>86277</td>\n",
       "      <td>Avon and Somerset</td>\n",
       "    </tr>\n",
       "    <tr>\n",
       "      <th>493</th>\n",
       "      <td>E06000025</td>\n",
       "      <td>South Gloucestershire</td>\n",
       "      <td>2014</td>\n",
       "      <td>108608</td>\n",
       "      <td>Avon and Somerset</td>\n",
       "    </tr>\n",
       "    <tr>\n",
       "      <th>3813</th>\n",
       "      <td>E07000187</td>\n",
       "      <td>Mendip</td>\n",
       "      <td>2014</td>\n",
       "      <td>45653</td>\n",
       "      <td>Avon and Somerset</td>\n",
       "    </tr>\n",
       "    <tr>\n",
       "      <th>3833</th>\n",
       "      <td>E07000188</td>\n",
       "      <td>Sedgemoor</td>\n",
       "      <td>2014</td>\n",
       "      <td>48795</td>\n",
       "      <td>Avon and Somerset</td>\n",
       "    </tr>\n",
       "    <tr>\n",
       "      <th>3853</th>\n",
       "      <td>E07000189</td>\n",
       "      <td>South Somerset</td>\n",
       "      <td>2014</td>\n",
       "      <td>67660</td>\n",
       "      <td>Avon and Somerset</td>\n",
       "    </tr>\n",
       "    <tr>\n",
       "      <th>4793</th>\n",
       "      <td>E07000246</td>\n",
       "      <td>Somerset West and Taunton</td>\n",
       "      <td>2014</td>\n",
       "      <td>62070</td>\n",
       "      <td>Avon and Somerset</td>\n",
       "    </tr>\n",
       "  </tbody>\n",
       "</table>\n",
       "</div>"
      ],
      "text/plain": [
       "        ladcode                        laname  year    freq                pfa\n",
       "433   E06000022  Bath and North East Somerset  2014   75367  Avon and Somerset\n",
       "453   E06000023              Bristol, City of  2014  177077  Avon and Somerset\n",
       "473   E06000024                North Somerset  2014   86277  Avon and Somerset\n",
       "493   E06000025         South Gloucestershire  2014  108608  Avon and Somerset\n",
       "3813  E07000187                        Mendip  2014   45653  Avon and Somerset\n",
       "3833  E07000188                     Sedgemoor  2014   48795  Avon and Somerset\n",
       "3853  E07000189                South Somerset  2014   67660  Avon and Somerset\n",
       "4793  E07000246     Somerset West and Taunton  2014   62070  Avon and Somerset"
      ]
     },
     "execution_count": 12,
     "metadata": {},
     "output_type": "execute_result"
    }
   ],
   "source": [
    "df_old_qa.query('pfa == \"Avon and Somerset\" and year == 2014')"
   ]
  },
  {
   "cell_type": "code",
   "execution_count": 13,
   "id": "7cab96a6",
   "metadata": {},
   "outputs": [
    {
     "data": {
      "text/html": [
       "<div>\n",
       "<style scoped>\n",
       "    .dataframe tbody tr th:only-of-type {\n",
       "        vertical-align: middle;\n",
       "    }\n",
       "\n",
       "    .dataframe tbody tr th {\n",
       "        vertical-align: top;\n",
       "    }\n",
       "\n",
       "    .dataframe thead th {\n",
       "        text-align: right;\n",
       "    }\n",
       "</style>\n",
       "<table border=\"1\" class=\"dataframe\">\n",
       "  <thead>\n",
       "    <tr style=\"text-align: right;\">\n",
       "      <th></th>\n",
       "      <th>ladcode</th>\n",
       "      <th>laname</th>\n",
       "      <th>year</th>\n",
       "      <th>freq</th>\n",
       "      <th>pfa</th>\n",
       "    </tr>\n",
       "  </thead>\n",
       "  <tbody>\n",
       "    <tr>\n",
       "      <th>276</th>\n",
       "      <td>E06000022</td>\n",
       "      <td>Bath and North East Somerset</td>\n",
       "      <td>2014</td>\n",
       "      <td>75340</td>\n",
       "      <td>Avon and Somerset</td>\n",
       "    </tr>\n",
       "    <tr>\n",
       "      <th>289</th>\n",
       "      <td>E06000023</td>\n",
       "      <td>Bristol, City of</td>\n",
       "      <td>2014</td>\n",
       "      <td>178108</td>\n",
       "      <td>Avon and Somerset</td>\n",
       "    </tr>\n",
       "    <tr>\n",
       "      <th>302</th>\n",
       "      <td>E06000024</td>\n",
       "      <td>North Somerset</td>\n",
       "      <td>2014</td>\n",
       "      <td>86610</td>\n",
       "      <td>Avon and Somerset</td>\n",
       "    </tr>\n",
       "    <tr>\n",
       "      <th>315</th>\n",
       "      <td>E06000025</td>\n",
       "      <td>South Gloucestershire</td>\n",
       "      <td>2014</td>\n",
       "      <td>108410</td>\n",
       "      <td>Avon and Somerset</td>\n",
       "    </tr>\n",
       "    <tr>\n",
       "      <th>809</th>\n",
       "      <td>E06000066</td>\n",
       "      <td>Somerset</td>\n",
       "      <td>2014</td>\n",
       "      <td>225122</td>\n",
       "      <td>Avon and Somerset</td>\n",
       "    </tr>\n",
       "  </tbody>\n",
       "</table>\n",
       "</div>"
      ],
      "text/plain": [
       "       ladcode                        laname  year    freq                pfa\n",
       "276  E06000022  Bath and North East Somerset  2014   75340  Avon and Somerset\n",
       "289  E06000023              Bristol, City of  2014  178108  Avon and Somerset\n",
       "302  E06000024                North Somerset  2014   86610  Avon and Somerset\n",
       "315  E06000025         South Gloucestershire  2014  108410  Avon and Somerset\n",
       "809  E06000066                      Somerset  2014  225122  Avon and Somerset"
      ]
     },
     "execution_count": 13,
     "metadata": {},
     "output_type": "execute_result"
    }
   ],
   "source": [
    "df.query('pfa == \"Avon and Somerset\" and year == 2014')"
   ]
  },
  {
   "cell_type": "markdown",
   "id": "77a74df1",
   "metadata": {},
   "source": [
    "Hmmm, seems as though there are some missing values"
   ]
  },
  {
   "cell_type": "code",
   "execution_count": 10,
   "id": "4f1c088d",
   "metadata": {},
   "outputs": [
    {
     "data": {
      "text/html": [
       "<div>\n",
       "<style scoped>\n",
       "    .dataframe tbody tr th:only-of-type {\n",
       "        vertical-align: middle;\n",
       "    }\n",
       "\n",
       "    .dataframe tbody tr th {\n",
       "        vertical-align: top;\n",
       "    }\n",
       "\n",
       "    .dataframe thead th {\n",
       "        text-align: right;\n",
       "    }\n",
       "</style>\n",
       "<table border=\"1\" class=\"dataframe\">\n",
       "  <thead>\n",
       "    <tr style=\"text-align: right;\">\n",
       "      <th></th>\n",
       "      <th>ladcode</th>\n",
       "      <th>laname</th>\n",
       "      <th>year</th>\n",
       "      <th>freq</th>\n",
       "      <th>pfa</th>\n",
       "    </tr>\n",
       "  </thead>\n",
       "  <tbody>\n",
       "  </tbody>\n",
       "</table>\n",
       "</div>"
      ],
      "text/plain": [
       "Empty DataFrame\n",
       "Columns: [ladcode, laname, year, freq, pfa]\n",
       "Index: []"
      ]
     },
     "execution_count": 10,
     "metadata": {},
     "output_type": "execute_result"
    }
   ],
   "source": [
    "df.query('laname == \"Mendip\" and year == 2014')"
   ]
  },
  {
   "cell_type": "markdown",
   "id": "e9036481",
   "metadata": {},
   "source": [
    "Checking population differences"
   ]
  },
  {
   "cell_type": "code",
   "execution_count": 16,
   "id": "d881296d",
   "metadata": {},
   "outputs": [
    {
     "name": "stdout",
     "output_type": "stream",
     "text": [
      "The new population for the Avon and Somerset PFA is 673590, and the old was 671507. A difference of 2083.\n"
     ]
    }
   ],
   "source": [
    "new_pop_sum = df.query('pfa == \"Avon and Somerset\" and year == 2014')['freq'].sum()\n",
    "old_pop_sum = df_old_qa.query('pfa == \"Avon and Somerset\" and year == 2014')['freq'].sum()\n",
    "print(f'The new population for the Avon and Somerset PFA is {new_pop_sum}, and the old was {old_pop_sum}. A difference of {new_pop_sum - old_pop_sum}.')"
   ]
  },
  {
   "cell_type": "code",
   "execution_count": 12,
   "id": "29338ecc",
   "metadata": {},
   "outputs": [
    {
     "data": {
      "text/plain": [
       "np.float64(0.3101978088091412)"
      ]
     },
     "execution_count": 12,
     "metadata": {},
     "output_type": "execute_result"
    }
   ],
   "source": [
    "pct_diff = ((new_pop_sum - old_pop_sum)/abs(old_pop_sum)) * 100\n",
    "pct_diff"
   ]
  },
  {
   "cell_type": "markdown",
   "id": "3e0e5f82",
   "metadata": {},
   "source": [
    "0.3%, so not massively out. Will investigate where those missing LAs have gone"
   ]
  },
  {
   "cell_type": "markdown",
   "id": "2c75325b",
   "metadata": {},
   "source": [
    "Looking at the ONS' [*A Beginner's Guide to UK Geography*](https://geoportal.statistics.gov.uk/datasets/d1f39e20edb940d58307a54d6e1045cd/about) in 2023 \"the four districts within the county of Somerset were merged to form Somerset UA\"."
   ]
  },
  {
   "cell_type": "markdown",
   "id": "7d3b421a",
   "metadata": {},
   "source": [
    "Looking at the explanation of the *ONS' coding and naming policy* and the UK Geography guide codes starting with E06 refer to unitary authorities and E07 refer to non-metropolitan districts, so it would make sense that the E07 values have been dropped and a new E06 value has appeared in this more recent dataset. The coding policy explains:\n",
    "\n",
    "*\"Instances must not be coded with, and/or be based on, inbuilt intelligence (for example, alphabetically or hierarchically). This is because any later change (like renaming) that may occur might upset this inbuilt intelligence.\"*\n",
    "\n",
    "Again, this makes it more understandable to see that there is no logical pattern to the last two numeric digits for the Somerset UA."
   ]
  },
  {
   "cell_type": "markdown",
   "id": "5e70c7fc",
   "metadata": {},
   "source": [
    "## Checking values for other UAs"
   ]
  },
  {
   "cell_type": "markdown",
   "id": "2ef10ee2",
   "metadata": {},
   "source": [
    "There are three other UAs that have been created that I need to check:\n",
    "1. North Yorkshire\n",
    "2. Cumberland\n",
    "3. Westmorland"
   ]
  },
  {
   "cell_type": "code",
   "execution_count": 30,
   "id": "d3e57c51",
   "metadata": {},
   "outputs": [
    {
     "data": {
      "text/html": [
       "<div>\n",
       "<style scoped>\n",
       "    .dataframe tbody tr th:only-of-type {\n",
       "        vertical-align: middle;\n",
       "    }\n",
       "\n",
       "    .dataframe tbody tr th {\n",
       "        vertical-align: top;\n",
       "    }\n",
       "\n",
       "    .dataframe thead th {\n",
       "        text-align: right;\n",
       "    }\n",
       "</style>\n",
       "<table border=\"1\" class=\"dataframe\">\n",
       "  <thead>\n",
       "    <tr style=\"text-align: right;\">\n",
       "      <th></th>\n",
       "      <th>ladcode</th>\n",
       "      <th>laname</th>\n",
       "      <th>year</th>\n",
       "      <th>freq</th>\n",
       "      <th>pfa</th>\n",
       "    </tr>\n",
       "  </thead>\n",
       "  <tbody>\n",
       "    <tr>\n",
       "      <th>172</th>\n",
       "      <td>E06000014</td>\n",
       "      <td>York</td>\n",
       "      <td>2014</td>\n",
       "      <td>86320</td>\n",
       "      <td>North Yorkshire</td>\n",
       "    </tr>\n",
       "    <tr>\n",
       "      <th>796</th>\n",
       "      <td>E06000065</td>\n",
       "      <td>North Yorkshire</td>\n",
       "      <td>2014</td>\n",
       "      <td>250054</td>\n",
       "      <td>North Yorkshire</td>\n",
       "    </tr>\n",
       "  </tbody>\n",
       "</table>\n",
       "</div>"
      ],
      "text/plain": [
       "       ladcode           laname  year    freq              pfa\n",
       "172  E06000014             York  2014   86320  North Yorkshire\n",
       "796  E06000065  North Yorkshire  2014  250054  North Yorkshire"
      ]
     },
     "execution_count": 30,
     "metadata": {},
     "output_type": "execute_result"
    }
   ],
   "source": [
    "df.query('pfa == \"North Yorkshire\" and year == 2014')"
   ]
  },
  {
   "cell_type": "code",
   "execution_count": 32,
   "id": "87a58863",
   "metadata": {},
   "outputs": [
    {
     "data": {
      "text/html": [
       "<div>\n",
       "<style scoped>\n",
       "    .dataframe tbody tr th:only-of-type {\n",
       "        vertical-align: middle;\n",
       "    }\n",
       "\n",
       "    .dataframe tbody tr th {\n",
       "        vertical-align: top;\n",
       "    }\n",
       "\n",
       "    .dataframe thead th {\n",
       "        text-align: right;\n",
       "    }\n",
       "</style>\n",
       "<table border=\"1\" class=\"dataframe\">\n",
       "  <thead>\n",
       "    <tr style=\"text-align: right;\">\n",
       "      <th></th>\n",
       "      <th>ladcode</th>\n",
       "      <th>laname</th>\n",
       "      <th>year</th>\n",
       "      <th>freq</th>\n",
       "      <th>pfa</th>\n",
       "    </tr>\n",
       "  </thead>\n",
       "  <tbody>\n",
       "    <tr>\n",
       "      <th>273</th>\n",
       "      <td>E06000014</td>\n",
       "      <td>York</td>\n",
       "      <td>2014</td>\n",
       "      <td>86247</td>\n",
       "      <td>North Yorkshire</td>\n",
       "    </tr>\n",
       "    <tr>\n",
       "      <th>3433</th>\n",
       "      <td>E07000163</td>\n",
       "      <td>Craven</td>\n",
       "      <td>2014</td>\n",
       "      <td>23833</td>\n",
       "      <td>North Yorkshire</td>\n",
       "    </tr>\n",
       "    <tr>\n",
       "      <th>3453</th>\n",
       "      <td>E07000164</td>\n",
       "      <td>Hambleton</td>\n",
       "      <td>2014</td>\n",
       "      <td>37436</td>\n",
       "      <td>North Yorkshire</td>\n",
       "    </tr>\n",
       "    <tr>\n",
       "      <th>3473</th>\n",
       "      <td>E07000165</td>\n",
       "      <td>Harrogate</td>\n",
       "      <td>2014</td>\n",
       "      <td>65720</td>\n",
       "      <td>North Yorkshire</td>\n",
       "    </tr>\n",
       "    <tr>\n",
       "      <th>3493</th>\n",
       "      <td>E07000166</td>\n",
       "      <td>Richmondshire</td>\n",
       "      <td>2014</td>\n",
       "      <td>19659</td>\n",
       "      <td>North Yorkshire</td>\n",
       "    </tr>\n",
       "    <tr>\n",
       "      <th>3513</th>\n",
       "      <td>E07000167</td>\n",
       "      <td>Ryedale</td>\n",
       "      <td>2014</td>\n",
       "      <td>22220</td>\n",
       "      <td>North Yorkshire</td>\n",
       "    </tr>\n",
       "    <tr>\n",
       "      <th>3533</th>\n",
       "      <td>E07000168</td>\n",
       "      <td>Scarborough</td>\n",
       "      <td>2014</td>\n",
       "      <td>46306</td>\n",
       "      <td>North Yorkshire</td>\n",
       "    </tr>\n",
       "    <tr>\n",
       "      <th>3553</th>\n",
       "      <td>E07000169</td>\n",
       "      <td>Selby</td>\n",
       "      <td>2014</td>\n",
       "      <td>34952</td>\n",
       "      <td>North Yorkshire</td>\n",
       "    </tr>\n",
       "  </tbody>\n",
       "</table>\n",
       "</div>"
      ],
      "text/plain": [
       "        ladcode         laname  year   freq              pfa\n",
       "273   E06000014           York  2014  86247  North Yorkshire\n",
       "3433  E07000163         Craven  2014  23833  North Yorkshire\n",
       "3453  E07000164      Hambleton  2014  37436  North Yorkshire\n",
       "3473  E07000165      Harrogate  2014  65720  North Yorkshire\n",
       "3493  E07000166  Richmondshire  2014  19659  North Yorkshire\n",
       "3513  E07000167        Ryedale  2014  22220  North Yorkshire\n",
       "3533  E07000168    Scarborough  2014  46306  North Yorkshire\n",
       "3553  E07000169          Selby  2014  34952  North Yorkshire"
      ]
     },
     "execution_count": 32,
     "metadata": {},
     "output_type": "execute_result"
    }
   ],
   "source": [
    "df_old_qa.query('pfa == \"North Yorkshire\" and year == 2014')"
   ]
  },
  {
   "cell_type": "markdown",
   "id": "d4d2986c",
   "metadata": {},
   "source": [
    "As the Beginner's Guide to UK Geography explains, \"The seven districts within the county of North Yorkshire were merged to form North Yorkshire UA\". So this appears to marry up with the data we have for North Yorkshire. I'll compare the population values again."
   ]
  },
  {
   "cell_type": "markdown",
   "id": "d77ace90",
   "metadata": {},
   "source": [
    "Building on the previous code, I will now check the values for the other UAs."
   ]
  },
  {
   "cell_type": "code",
   "execution_count": 33,
   "id": "e6ca7eeb",
   "metadata": {},
   "outputs": [],
   "source": [
    "def compare_pfa_population(df_new: pd.DataFrame, df_old: pd.DataFrame, pfas: list, year: int) -> pd.DataFrame:\n",
    "    \"\"\"\n",
    "    Compare population data for multiple PFAs between two datasets.\n",
    "\n",
    "    Parameters\n",
    "    ----------\n",
    "    df_new : pd.DataFrame\n",
    "        The new population dataset.\n",
    "    df_old : pd.DataFrame\n",
    "        The old population dataset.\n",
    "    pfas : list\n",
    "        List of PFAs to compare.\n",
    "    year : int\n",
    "        The year to compare.\n",
    "\n",
    "    Returns\n",
    "    -------\n",
    "    pd.DataFrame\n",
    "        A DataFrame summarizing the population comparison for each PFA.\n",
    "    \"\"\"\n",
    "    results = []\n",
    "    for pfa in pfas:\n",
    "        new_pop_sum = df_new.query('pfa == @pfa and year == @year')['freq'].sum()\n",
    "        old_pop_sum = df_old.query('pfa == @pfa and year == @year')['freq'].sum()\n",
    "        diff = new_pop_sum - old_pop_sum\n",
    "        pct_diff = (diff / abs(old_pop_sum)) * 100 if old_pop_sum != 0 else None\n",
    "\n",
    "        results.append({\n",
    "            'PFA': pfa,\n",
    "            'Year': year,\n",
    "            'New Population': new_pop_sum,\n",
    "            'Old Population': old_pop_sum,\n",
    "            'Difference': diff,\n",
    "            'Percentage Difference': pct_diff\n",
    "        })\n",
    "\n",
    "    return pd.DataFrame(results)"
   ]
  },
  {
   "cell_type": "code",
   "execution_count": 37,
   "id": "577edf5a",
   "metadata": {},
   "outputs": [
    {
     "data": {
      "text/html": [
       "<div>\n",
       "<style scoped>\n",
       "    .dataframe tbody tr th:only-of-type {\n",
       "        vertical-align: middle;\n",
       "    }\n",
       "\n",
       "    .dataframe tbody tr th {\n",
       "        vertical-align: top;\n",
       "    }\n",
       "\n",
       "    .dataframe thead th {\n",
       "        text-align: right;\n",
       "    }\n",
       "</style>\n",
       "<table border=\"1\" class=\"dataframe\">\n",
       "  <thead>\n",
       "    <tr style=\"text-align: right;\">\n",
       "      <th></th>\n",
       "      <th>PFA</th>\n",
       "      <th>Year</th>\n",
       "      <th>New Population</th>\n",
       "      <th>Old Population</th>\n",
       "      <th>Difference</th>\n",
       "      <th>Percentage Difference</th>\n",
       "    </tr>\n",
       "  </thead>\n",
       "  <tbody>\n",
       "    <tr>\n",
       "      <th>0</th>\n",
       "      <td>Avon and Somerset</td>\n",
       "      <td>2014</td>\n",
       "      <td>673590</td>\n",
       "      <td>671507</td>\n",
       "      <td>2083</td>\n",
       "      <td>0.310198</td>\n",
       "    </tr>\n",
       "    <tr>\n",
       "      <th>1</th>\n",
       "      <td>North Yorkshire</td>\n",
       "      <td>2014</td>\n",
       "      <td>336374</td>\n",
       "      <td>336373</td>\n",
       "      <td>1</td>\n",
       "      <td>0.000297</td>\n",
       "    </tr>\n",
       "    <tr>\n",
       "      <th>2</th>\n",
       "      <td>Cumbria</td>\n",
       "      <td>2014</td>\n",
       "      <td>207498</td>\n",
       "      <td>207419</td>\n",
       "      <td>79</td>\n",
       "      <td>0.038087</td>\n",
       "    </tr>\n",
       "  </tbody>\n",
       "</table>\n",
       "</div>"
      ],
      "text/plain": [
       "                 PFA  Year  New Population  Old Population  Difference  \\\n",
       "0  Avon and Somerset  2014          673590          671507        2083   \n",
       "1    North Yorkshire  2014          336374          336373           1   \n",
       "2            Cumbria  2014          207498          207419          79   \n",
       "\n",
       "   Percentage Difference  \n",
       "0               0.310198  \n",
       "1               0.000297  \n",
       "2               0.038087  "
      ]
     },
     "execution_count": 37,
     "metadata": {},
     "output_type": "execute_result"
    }
   ],
   "source": [
    "# List of PFAs to compare\n",
    "pfas_to_compare = [\"Avon and Somerset\", \"North Yorkshire\", \"Cumbria\"]\n",
    "\n",
    "# Year to compare\n",
    "comparison_year = 2014\n",
    "\n",
    "# Call the function\n",
    "comparison_results = compare_pfa_population(df, df_old_qa, pfas_to_compare, comparison_year)\n",
    "comparison_results"
   ]
  },
  {
   "cell_type": "markdown",
   "id": "fea90375",
   "metadata": {},
   "source": [
    "These values all show very small differences, and within a reasonable range of 0.3% to 0.5%. I will accept these as being within the margin of error for the data.\n",
    "\n",
    "Checking Cumbria next"
   ]
  },
  {
   "cell_type": "code",
   "execution_count": 31,
   "id": "9f27cdd6",
   "metadata": {},
   "outputs": [
    {
     "data": {
      "text/html": [
       "<div>\n",
       "<style scoped>\n",
       "    .dataframe tbody tr th:only-of-type {\n",
       "        vertical-align: middle;\n",
       "    }\n",
       "\n",
       "    .dataframe tbody tr th {\n",
       "        vertical-align: top;\n",
       "    }\n",
       "\n",
       "    .dataframe thead th {\n",
       "        text-align: right;\n",
       "    }\n",
       "</style>\n",
       "<table border=\"1\" class=\"dataframe\">\n",
       "  <thead>\n",
       "    <tr style=\"text-align: right;\">\n",
       "      <th></th>\n",
       "      <th>ladcode</th>\n",
       "      <th>laname</th>\n",
       "      <th>year</th>\n",
       "      <th>freq</th>\n",
       "      <th>pfa</th>\n",
       "    </tr>\n",
       "  </thead>\n",
       "  <tbody>\n",
       "    <tr>\n",
       "      <th>770</th>\n",
       "      <td>E06000063</td>\n",
       "      <td>Cumberland</td>\n",
       "      <td>2014</td>\n",
       "      <td>113421</td>\n",
       "      <td>Cumbria</td>\n",
       "    </tr>\n",
       "    <tr>\n",
       "      <th>783</th>\n",
       "      <td>E06000064</td>\n",
       "      <td>Westmorland and Furness</td>\n",
       "      <td>2014</td>\n",
       "      <td>94077</td>\n",
       "      <td>Cumbria</td>\n",
       "    </tr>\n",
       "  </tbody>\n",
       "</table>\n",
       "</div>"
      ],
      "text/plain": [
       "       ladcode                   laname  year    freq      pfa\n",
       "770  E06000063               Cumberland  2014  113421  Cumbria\n",
       "783  E06000064  Westmorland and Furness  2014   94077  Cumbria"
      ]
     },
     "execution_count": 31,
     "metadata": {},
     "output_type": "execute_result"
    }
   ],
   "source": [
    "df.query('pfa == \"Cumbria\" and year == 2014')"
   ]
  },
  {
   "cell_type": "code",
   "execution_count": 38,
   "id": "be6c9e0b",
   "metadata": {},
   "outputs": [
    {
     "data": {
      "text/html": [
       "<div>\n",
       "<style scoped>\n",
       "    .dataframe tbody tr th:only-of-type {\n",
       "        vertical-align: middle;\n",
       "    }\n",
       "\n",
       "    .dataframe tbody tr th {\n",
       "        vertical-align: top;\n",
       "    }\n",
       "\n",
       "    .dataframe thead th {\n",
       "        text-align: right;\n",
       "    }\n",
       "</style>\n",
       "<table border=\"1\" class=\"dataframe\">\n",
       "  <thead>\n",
       "    <tr style=\"text-align: right;\">\n",
       "      <th></th>\n",
       "      <th>ladcode</th>\n",
       "      <th>laname</th>\n",
       "      <th>year</th>\n",
       "      <th>freq</th>\n",
       "      <th>pfa</th>\n",
       "    </tr>\n",
       "  </thead>\n",
       "  <tbody>\n",
       "    <tr>\n",
       "      <th>1293</th>\n",
       "      <td>E07000026</td>\n",
       "      <td>Allerdale</td>\n",
       "      <td>2014</td>\n",
       "      <td>40130</td>\n",
       "      <td>Cumbria</td>\n",
       "    </tr>\n",
       "    <tr>\n",
       "      <th>1313</th>\n",
       "      <td>E07000027</td>\n",
       "      <td>Barrow-in-Furness</td>\n",
       "      <td>2014</td>\n",
       "      <td>27647</td>\n",
       "      <td>Cumbria</td>\n",
       "    </tr>\n",
       "    <tr>\n",
       "      <th>1333</th>\n",
       "      <td>E07000028</td>\n",
       "      <td>Carlisle</td>\n",
       "      <td>2014</td>\n",
       "      <td>44921</td>\n",
       "      <td>Cumbria</td>\n",
       "    </tr>\n",
       "    <tr>\n",
       "      <th>1353</th>\n",
       "      <td>E07000029</td>\n",
       "      <td>Copeland</td>\n",
       "      <td>2014</td>\n",
       "      <td>28330</td>\n",
       "      <td>Cumbria</td>\n",
       "    </tr>\n",
       "    <tr>\n",
       "      <th>1373</th>\n",
       "      <td>E07000030</td>\n",
       "      <td>Eden</td>\n",
       "      <td>2014</td>\n",
       "      <td>22031</td>\n",
       "      <td>Cumbria</td>\n",
       "    </tr>\n",
       "    <tr>\n",
       "      <th>1393</th>\n",
       "      <td>E07000031</td>\n",
       "      <td>South Lakeland</td>\n",
       "      <td>2014</td>\n",
       "      <td>44360</td>\n",
       "      <td>Cumbria</td>\n",
       "    </tr>\n",
       "  </tbody>\n",
       "</table>\n",
       "</div>"
      ],
      "text/plain": [
       "        ladcode             laname  year   freq      pfa\n",
       "1293  E07000026          Allerdale  2014  40130  Cumbria\n",
       "1313  E07000027  Barrow-in-Furness  2014  27647  Cumbria\n",
       "1333  E07000028           Carlisle  2014  44921  Cumbria\n",
       "1353  E07000029           Copeland  2014  28330  Cumbria\n",
       "1373  E07000030               Eden  2014  22031  Cumbria\n",
       "1393  E07000031     South Lakeland  2014  44360  Cumbria"
      ]
     },
     "execution_count": 38,
     "metadata": {},
     "output_type": "execute_result"
    }
   ],
   "source": [
    "df_old_qa.query('pfa == \"Cumbria\" and year == 2014')"
   ]
  },
  {
   "cell_type": "markdown",
   "id": "68cb8681",
   "metadata": {},
   "source": [
    "Again, the change in the number of local authority districts is explained by the restructuring of local governance in the area, and the population difference is minimal. \"The six districts in the county of Cumbria were split into two UAs, Cumberland UA (comprising the districts of Allerdale, Carlisle and Copeland) and Westmorland UA (comprising the districts of Barrow-in-Furness, Eden and South Lakeland).\""
   ]
  },
  {
   "cell_type": "markdown",
   "id": "2d969ef3",
   "metadata": {},
   "source": [
    "## Visualising the differences over the entire time period"
   ]
  },
  {
   "cell_type": "code",
   "execution_count": 40,
   "id": "c439527c",
   "metadata": {},
   "outputs": [],
   "source": [
    "def compare_pfa_population(df_new: pd.DataFrame, df_old: pd.DataFrame, pfas: list) -> pd.DataFrame:\n",
    "    \"\"\"\n",
    "    Compare population data for multiple PFAs between two datasets.\n",
    "\n",
    "    Parameters\n",
    "    ----------\n",
    "    df_new : pd.DataFrame\n",
    "        The new population dataset.\n",
    "    df_old : pd.DataFrame\n",
    "        The old population dataset.\n",
    "    pfas : list\n",
    "        List of PFAs to compare.\n",
    "\n",
    "    Returns\n",
    "    -------\n",
    "    pd.DataFrame\n",
    "        A DataFrame summarizing the population comparison for each PFA.\n",
    "    \"\"\"\n",
    "    shared_years = sorted(set(df_new['year']).intersection(set(df_old['year'])))\n",
    "    comparison_results = []\n",
    "    for year in shared_years:\n",
    "        for pfa in pfas:\n",
    "            new_pop_sum = df_new.query('pfa == @pfa and year == @year')['freq'].sum()\n",
    "            old_pop_sum = df_old.query('pfa == @pfa and year == @year')['freq'].sum()\n",
    "            diff = new_pop_sum - old_pop_sum\n",
    "            pct_diff = (diff / abs(old_pop_sum)) * 100 if old_pop_sum != 0 else None\n",
    "\n",
    "            comparison_results.append({\n",
    "                'PFA': pfa,\n",
    "                'Year': year,\n",
    "                'New Population': new_pop_sum,\n",
    "                'Old Population': old_pop_sum,\n",
    "                'Difference': diff,\n",
    "                'Percentage Difference': pct_diff\n",
    "            })\n",
    "\n",
    "    return pd.DataFrame(comparison_results)"
   ]
  },
  {
   "cell_type": "code",
   "execution_count": 97,
   "id": "6d6fa6b0",
   "metadata": {},
   "outputs": [
    {
     "data": {
      "text/html": [
       "<div>\n",
       "<style scoped>\n",
       "    .dataframe tbody tr th:only-of-type {\n",
       "        vertical-align: middle;\n",
       "    }\n",
       "\n",
       "    .dataframe tbody tr th {\n",
       "        vertical-align: top;\n",
       "    }\n",
       "\n",
       "    .dataframe thead th {\n",
       "        text-align: right;\n",
       "    }\n",
       "</style>\n",
       "<table border=\"1\" class=\"dataframe\">\n",
       "  <thead>\n",
       "    <tr style=\"text-align: right;\">\n",
       "      <th></th>\n",
       "      <th>PFA</th>\n",
       "      <th>Year</th>\n",
       "      <th>New Population</th>\n",
       "      <th>Old Population</th>\n",
       "      <th>Difference</th>\n",
       "      <th>Percentage Difference</th>\n",
       "    </tr>\n",
       "  </thead>\n",
       "  <tbody>\n",
       "    <tr>\n",
       "      <th>0</th>\n",
       "      <td>Avon and Somerset</td>\n",
       "      <td>2011</td>\n",
       "      <td>652988</td>\n",
       "      <td>652988</td>\n",
       "      <td>0</td>\n",
       "      <td>0.000000</td>\n",
       "    </tr>\n",
       "    <tr>\n",
       "      <th>1</th>\n",
       "      <td>North Yorkshire</td>\n",
       "      <td>2011</td>\n",
       "      <td>331242</td>\n",
       "      <td>331242</td>\n",
       "      <td>0</td>\n",
       "      <td>0.000000</td>\n",
       "    </tr>\n",
       "    <tr>\n",
       "      <th>2</th>\n",
       "      <td>Cumbria</td>\n",
       "      <td>2011</td>\n",
       "      <td>207349</td>\n",
       "      <td>207349</td>\n",
       "      <td>0</td>\n",
       "      <td>0.000000</td>\n",
       "    </tr>\n",
       "    <tr>\n",
       "      <th>3</th>\n",
       "      <td>Avon and Somerset</td>\n",
       "      <td>2012</td>\n",
       "      <td>659643</td>\n",
       "      <td>658816</td>\n",
       "      <td>827</td>\n",
       "      <td>0.125528</td>\n",
       "    </tr>\n",
       "    <tr>\n",
       "      <th>4</th>\n",
       "      <td>North Yorkshire</td>\n",
       "      <td>2012</td>\n",
       "      <td>333345</td>\n",
       "      <td>333067</td>\n",
       "      <td>278</td>\n",
       "      <td>0.083467</td>\n",
       "    </tr>\n",
       "    <tr>\n",
       "      <th>5</th>\n",
       "      <td>Cumbria</td>\n",
       "      <td>2012</td>\n",
       "      <td>207293</td>\n",
       "      <td>207356</td>\n",
       "      <td>-63</td>\n",
       "      <td>-0.030383</td>\n",
       "    </tr>\n",
       "    <tr>\n",
       "      <th>6</th>\n",
       "      <td>Avon and Somerset</td>\n",
       "      <td>2013</td>\n",
       "      <td>666906</td>\n",
       "      <td>665230</td>\n",
       "      <td>1676</td>\n",
       "      <td>0.251943</td>\n",
       "    </tr>\n",
       "    <tr>\n",
       "      <th>7</th>\n",
       "      <td>North Yorkshire</td>\n",
       "      <td>2013</td>\n",
       "      <td>334883</td>\n",
       "      <td>334893</td>\n",
       "      <td>-10</td>\n",
       "      <td>-0.002986</td>\n",
       "    </tr>\n",
       "    <tr>\n",
       "      <th>8</th>\n",
       "      <td>Cumbria</td>\n",
       "      <td>2013</td>\n",
       "      <td>206992</td>\n",
       "      <td>207085</td>\n",
       "      <td>-93</td>\n",
       "      <td>-0.044909</td>\n",
       "    </tr>\n",
       "    <tr>\n",
       "      <th>9</th>\n",
       "      <td>Avon and Somerset</td>\n",
       "      <td>2014</td>\n",
       "      <td>673590</td>\n",
       "      <td>671507</td>\n",
       "      <td>2083</td>\n",
       "      <td>0.310198</td>\n",
       "    </tr>\n",
       "    <tr>\n",
       "      <th>10</th>\n",
       "      <td>North Yorkshire</td>\n",
       "      <td>2014</td>\n",
       "      <td>336374</td>\n",
       "      <td>336373</td>\n",
       "      <td>1</td>\n",
       "      <td>0.000297</td>\n",
       "    </tr>\n",
       "    <tr>\n",
       "      <th>11</th>\n",
       "      <td>Cumbria</td>\n",
       "      <td>2014</td>\n",
       "      <td>207498</td>\n",
       "      <td>207419</td>\n",
       "      <td>79</td>\n",
       "      <td>0.038087</td>\n",
       "    </tr>\n",
       "    <tr>\n",
       "      <th>12</th>\n",
       "      <td>Avon and Somerset</td>\n",
       "      <td>2015</td>\n",
       "      <td>682193</td>\n",
       "      <td>679322</td>\n",
       "      <td>2871</td>\n",
       "      <td>0.422627</td>\n",
       "    </tr>\n",
       "    <tr>\n",
       "      <th>13</th>\n",
       "      <td>North Yorkshire</td>\n",
       "      <td>2015</td>\n",
       "      <td>337521</td>\n",
       "      <td>338195</td>\n",
       "      <td>-674</td>\n",
       "      <td>-0.199293</td>\n",
       "    </tr>\n",
       "    <tr>\n",
       "      <th>14</th>\n",
       "      <td>Cumbria</td>\n",
       "      <td>2015</td>\n",
       "      <td>207962</td>\n",
       "      <td>207631</td>\n",
       "      <td>331</td>\n",
       "      <td>0.159417</td>\n",
       "    </tr>\n",
       "    <tr>\n",
       "      <th>15</th>\n",
       "      <td>Avon and Somerset</td>\n",
       "      <td>2016</td>\n",
       "      <td>692443</td>\n",
       "      <td>686399</td>\n",
       "      <td>6044</td>\n",
       "      <td>0.880537</td>\n",
       "    </tr>\n",
       "    <tr>\n",
       "      <th>16</th>\n",
       "      <td>North Yorkshire</td>\n",
       "      <td>2016</td>\n",
       "      <td>338591</td>\n",
       "      <td>339978</td>\n",
       "      <td>-1387</td>\n",
       "      <td>-0.407968</td>\n",
       "    </tr>\n",
       "    <tr>\n",
       "      <th>17</th>\n",
       "      <td>Cumbria</td>\n",
       "      <td>2016</td>\n",
       "      <td>208198</td>\n",
       "      <td>207704</td>\n",
       "      <td>494</td>\n",
       "      <td>0.237838</td>\n",
       "    </tr>\n",
       "    <tr>\n",
       "      <th>18</th>\n",
       "      <td>Avon and Somerset</td>\n",
       "      <td>2017</td>\n",
       "      <td>698921</td>\n",
       "      <td>691747</td>\n",
       "      <td>7174</td>\n",
       "      <td>1.037084</td>\n",
       "    </tr>\n",
       "    <tr>\n",
       "      <th>19</th>\n",
       "      <td>North Yorkshire</td>\n",
       "      <td>2017</td>\n",
       "      <td>340485</td>\n",
       "      <td>341943</td>\n",
       "      <td>-1458</td>\n",
       "      <td>-0.426387</td>\n",
       "    </tr>\n",
       "    <tr>\n",
       "      <th>20</th>\n",
       "      <td>Cumbria</td>\n",
       "      <td>2017</td>\n",
       "      <td>208378</td>\n",
       "      <td>207688</td>\n",
       "      <td>690</td>\n",
       "      <td>0.332229</td>\n",
       "    </tr>\n",
       "    <tr>\n",
       "      <th>21</th>\n",
       "      <td>Avon and Somerset</td>\n",
       "      <td>2018</td>\n",
       "      <td>706285</td>\n",
       "      <td>699074</td>\n",
       "      <td>7211</td>\n",
       "      <td>1.031507</td>\n",
       "    </tr>\n",
       "    <tr>\n",
       "      <th>22</th>\n",
       "      <td>North Yorkshire</td>\n",
       "      <td>2018</td>\n",
       "      <td>341847</td>\n",
       "      <td>344084</td>\n",
       "      <td>-2237</td>\n",
       "      <td>-0.650132</td>\n",
       "    </tr>\n",
       "    <tr>\n",
       "      <th>23</th>\n",
       "      <td>Cumbria</td>\n",
       "      <td>2018</td>\n",
       "      <td>208587</td>\n",
       "      <td>207966</td>\n",
       "      <td>621</td>\n",
       "      <td>0.298607</td>\n",
       "    </tr>\n",
       "    <tr>\n",
       "      <th>24</th>\n",
       "      <td>Avon and Somerset</td>\n",
       "      <td>2019</td>\n",
       "      <td>711974</td>\n",
       "      <td>702746</td>\n",
       "      <td>9228</td>\n",
       "      <td>1.313134</td>\n",
       "    </tr>\n",
       "    <tr>\n",
       "      <th>25</th>\n",
       "      <td>North Yorkshire</td>\n",
       "      <td>2019</td>\n",
       "      <td>343859</td>\n",
       "      <td>346023</td>\n",
       "      <td>-2164</td>\n",
       "      <td>-0.625392</td>\n",
       "    </tr>\n",
       "    <tr>\n",
       "      <th>26</th>\n",
       "      <td>Cumbria</td>\n",
       "      <td>2019</td>\n",
       "      <td>209151</td>\n",
       "      <td>208688</td>\n",
       "      <td>463</td>\n",
       "      <td>0.221862</td>\n",
       "    </tr>\n",
       "    <tr>\n",
       "      <th>27</th>\n",
       "      <td>Avon and Somerset</td>\n",
       "      <td>2020</td>\n",
       "      <td>716322</td>\n",
       "      <td>706446</td>\n",
       "      <td>9876</td>\n",
       "      <td>1.397984</td>\n",
       "    </tr>\n",
       "    <tr>\n",
       "      <th>28</th>\n",
       "      <td>North Yorkshire</td>\n",
       "      <td>2020</td>\n",
       "      <td>343760</td>\n",
       "      <td>347321</td>\n",
       "      <td>-3561</td>\n",
       "      <td>-1.025276</td>\n",
       "    </tr>\n",
       "    <tr>\n",
       "      <th>29</th>\n",
       "      <td>Cumbria</td>\n",
       "      <td>2020</td>\n",
       "      <td>209165</td>\n",
       "      <td>208800</td>\n",
       "      <td>365</td>\n",
       "      <td>0.174808</td>\n",
       "    </tr>\n",
       "  </tbody>\n",
       "</table>\n",
       "</div>"
      ],
      "text/plain": [
       "                  PFA  Year  New Population  Old Population  Difference  \\\n",
       "0   Avon and Somerset  2011          652988          652988           0   \n",
       "1     North Yorkshire  2011          331242          331242           0   \n",
       "2             Cumbria  2011          207349          207349           0   \n",
       "3   Avon and Somerset  2012          659643          658816         827   \n",
       "4     North Yorkshire  2012          333345          333067         278   \n",
       "5             Cumbria  2012          207293          207356         -63   \n",
       "6   Avon and Somerset  2013          666906          665230        1676   \n",
       "7     North Yorkshire  2013          334883          334893         -10   \n",
       "8             Cumbria  2013          206992          207085         -93   \n",
       "9   Avon and Somerset  2014          673590          671507        2083   \n",
       "10    North Yorkshire  2014          336374          336373           1   \n",
       "11            Cumbria  2014          207498          207419          79   \n",
       "12  Avon and Somerset  2015          682193          679322        2871   \n",
       "13    North Yorkshire  2015          337521          338195        -674   \n",
       "14            Cumbria  2015          207962          207631         331   \n",
       "15  Avon and Somerset  2016          692443          686399        6044   \n",
       "16    North Yorkshire  2016          338591          339978       -1387   \n",
       "17            Cumbria  2016          208198          207704         494   \n",
       "18  Avon and Somerset  2017          698921          691747        7174   \n",
       "19    North Yorkshire  2017          340485          341943       -1458   \n",
       "20            Cumbria  2017          208378          207688         690   \n",
       "21  Avon and Somerset  2018          706285          699074        7211   \n",
       "22    North Yorkshire  2018          341847          344084       -2237   \n",
       "23            Cumbria  2018          208587          207966         621   \n",
       "24  Avon and Somerset  2019          711974          702746        9228   \n",
       "25    North Yorkshire  2019          343859          346023       -2164   \n",
       "26            Cumbria  2019          209151          208688         463   \n",
       "27  Avon and Somerset  2020          716322          706446        9876   \n",
       "28    North Yorkshire  2020          343760          347321       -3561   \n",
       "29            Cumbria  2020          209165          208800         365   \n",
       "\n",
       "    Percentage Difference  \n",
       "0                0.000000  \n",
       "1                0.000000  \n",
       "2                0.000000  \n",
       "3                0.125528  \n",
       "4                0.083467  \n",
       "5               -0.030383  \n",
       "6                0.251943  \n",
       "7               -0.002986  \n",
       "8               -0.044909  \n",
       "9                0.310198  \n",
       "10               0.000297  \n",
       "11               0.038087  \n",
       "12               0.422627  \n",
       "13              -0.199293  \n",
       "14               0.159417  \n",
       "15               0.880537  \n",
       "16              -0.407968  \n",
       "17               0.237838  \n",
       "18               1.037084  \n",
       "19              -0.426387  \n",
       "20               0.332229  \n",
       "21               1.031507  \n",
       "22              -0.650132  \n",
       "23               0.298607  \n",
       "24               1.313134  \n",
       "25              -0.625392  \n",
       "26               0.221862  \n",
       "27               1.397984  \n",
       "28              -1.025276  \n",
       "29               0.174808  "
      ]
     },
     "execution_count": 97,
     "metadata": {},
     "output_type": "execute_result"
    }
   ],
   "source": [
    "# List of PFAs to compare\n",
    "pfas_to_compare = [\"Avon and Somerset\", \"North Yorkshire\", \"Cumbria\"]\n",
    "\n",
    "# Call the function\n",
    "comparison_results = compare_pfa_population(df, df_old_qa, pfas_to_compare)\n",
    "comparison_results"
   ]
  },
  {
   "cell_type": "code",
   "execution_count": 46,
   "id": "261b9ff1",
   "metadata": {},
   "outputs": [],
   "source": [
    "import plotly.graph_objects as go\n",
    "from plotly.subplots import make_subplots\n",
    "import plotly.io as pio\n",
    "\n",
    "from src.visualization import prt_theme\n",
    "pio.templates.default = \"prt_template\""
   ]
  },
  {
   "cell_type": "code",
   "execution_count": 99,
   "id": "505ea429",
   "metadata": {},
   "outputs": [
    {
     "data": {
      "application/vnd.plotly.v1+json": {
       "config": {
        "displayModeBar": false,
        "plotlyServerURL": "https://plot.ly"
       },
       "data": [
        {
         "hovertemplate": "%{y:.2f}%<extra>Percentage difference</extra>",
         "line": {
          "width": 2
         },
         "marker": {
          "size": 6
         },
         "mode": "lines+markers",
         "name": "Avon and Somerset",
         "showlegend": false,
         "type": "scatter",
         "x": {
          "bdata": "2wfcB90H3gffB+AH4QfiB+MH5Ac=",
          "dtype": "i2"
         },
         "xaxis": "x",
         "y": {
          "bdata": "AAAAAAAAAABsUYEITxHAP/7vv0TVH9A/YxII6Ufa0z/Q9xs8UwzbP1WQKsxcLew/Bykdx+WX8D+LmbHlDYHwP4qnrEuZAvU/4iutKiRe9j8=",
          "dtype": "f8"
         },
         "yaxis": "y"
        },
        {
         "hovertemplate": "%{y:.2f}%<extra>Percentage difference</extra>",
         "line": {
          "width": 2
         },
         "marker": {
          "size": 6
         },
         "mode": "lines+markers",
         "name": "North Yorkshire",
         "showlegend": false,
         "type": "scatter",
         "x": {
          "bdata": "2wfcB90H3gffB+AH4QfiB+MH5Ac=",
          "dtype": "i2"
         },
         "xaxis": "x2",
         "y": {
          "bdata": "AAAAAAAAAABdxVyvEl61Pzjxp8Yndmi/S8Pan657Mz8R1S9ucYLJv7SFcAckHNq/QwhKFuxJ27+cQfqB4c3kvxFFjPw1A+S/knkBJ4hn8L8=",
          "dtype": "f8"
         },
         "yaxis": "y2"
        },
        {
         "hovertemplate": "%{y:.2f}%<extra>Percentage difference</extra>",
         "line": {
          "width": 2
         },
         "marker": {
          "size": 6
         },
         "mode": "lines+markers",
         "name": "Cumbria",
         "showlegend": false,
         "type": "scatter",
         "x": {
          "bdata": "2wfcB90H3gffB+AH4QfiB+MH5Ac=",
          "dtype": "i2"
         },
         "xaxis": "x3",
         "y": {
          "bdata": "AAAAAAAAAAAStO8bmRyfvzZfNC9T/qa/3lOw6iiAoz8GbehPymfEP06X7aB9cc4/wdir5T1D1T9GrSxzXhzTP/vq1OD7Zcw/oawQYx9gxj8=",
          "dtype": "f8"
         },
         "yaxis": "y3"
        }
       ],
       "layout": {
        "annotations": [
         {
          "font": {
           "size": 16
          },
          "showarrow": false,
          "text": "Avon and Somerset",
          "x": 0.13999999999999999,
          "xanchor": "center",
          "xref": "paper",
          "y": 1,
          "yanchor": "bottom",
          "yref": "paper"
         },
         {
          "font": {
           "size": 16
          },
          "showarrow": false,
          "text": "North Yorkshire",
          "x": 0.49999999999999994,
          "xanchor": "center",
          "xref": "paper",
          "y": 1,
          "yanchor": "bottom",
          "yref": "paper"
         },
         {
          "font": {
           "size": 16
          },
          "showarrow": false,
          "text": "Cumbria",
          "x": 0.86,
          "xanchor": "center",
          "xref": "paper",
          "y": 1,
          "yanchor": "bottom",
          "yref": "paper"
         }
        ],
        "height": 300,
        "margin": {
         "l": 30,
         "r": 15
        },
        "template": {
         "data": {
          "scatter": [
           {
            "line": {
             "width": 4
            },
            "marker": {
             "size": 10
            },
            "type": "scatter"
           }
          ]
         },
         "layout": {
          "colorway": [
           "#A01D28",
           "#499CC9",
           "#F9A237",
           "#6FBA3A",
           "#573D6B"
          ],
          "dragmode": false,
          "font": {
           "color": "#54565B",
           "family": "Helvetica Neue, Arial",
           "size": 14
          },
          "height": 360,
          "margin": {
           "b": 70,
           "l": 40,
           "r": 100,
           "t": 80
          },
          "modebar": {
           "activecolor": "#A01D28"
          },
          "paper_bgcolor": "#F7F2F2",
          "plot_bgcolor": "#F7F2F2",
          "showlegend": false,
          "title": {
           "font": {
            "family": "Helvetica Neue, Arial",
            "size": 20
           },
           "y": 0.94,
           "yanchor": "bottom"
          },
          "width": 655,
          "xaxis": {
           "gridcolor": "rgba(84, 86, 91, 0.15)",
           "showgrid": false,
           "tickcolor": "#54565B",
           "ticks": "outside"
          },
          "yaxis": {
           "gridcolor": "rgba(84, 86, 91, 0.15)"
          }
         }
        },
        "title": {
         "text": "Percentage Differences in Population by PFA (New vs Old Data)"
        },
        "xaxis": {
         "anchor": "y",
         "domain": [
          0,
          0.27999999999999997
         ],
         "nticks": 6
        },
        "xaxis2": {
         "anchor": "y2",
         "domain": [
          0.36,
          0.6399999999999999
         ],
         "nticks": 6
        },
        "xaxis3": {
         "anchor": "y3",
         "domain": [
          0.72,
          1
         ],
         "nticks": 6
        },
        "yaxis": {
         "anchor": "x",
         "domain": [
          0,
          1
         ],
         "nticks": 5,
         "range": [
          -2.1,
          6.1
         ],
         "ticksuffix": "%"
        },
        "yaxis2": {
         "anchor": "x2",
         "domain": [
          0,
          1
         ],
         "nticks": 5,
         "range": [
          -2.1,
          6.1
         ],
         "ticksuffix": "%"
        },
        "yaxis3": {
         "anchor": "x3",
         "domain": [
          0,
          1
         ],
         "nticks": 5,
         "range": [
          -2.1,
          6.1
         ],
         "ticksuffix": "%"
        }
       }
      }
     },
     "metadata": {},
     "output_type": "display_data"
    }
   ],
   "source": [
    "no_modebar = {'displayModeBar': False}\n",
    "# Filter data for visualization\n",
    "sample_pfas = comparison_results['PFA'].unique()\n",
    "\n",
    "# Dynamically calculate vertical spacing based on the number of rows\n",
    "num_cols = 3\n",
    "num_rows = -(-len(sample_pfas) // num_cols)  # Ceiling division to determine rows\n",
    "max_vertical_spacing = 1 / (num_rows - 1) if num_rows > 1 else 0.1\n",
    "vertical_spacing = min(0.02, max_vertical_spacing)  # Use 0.02 or the maximum allowed value\n",
    "\n",
    "# Create subplots\n",
    "fig = make_subplots(\n",
    "    rows=num_rows, cols=num_cols,\n",
    "    subplot_titles=sample_pfas,\n",
    "    vertical_spacing=vertical_spacing,\n",
    "    horizontal_spacing=0.08\n",
    ")\n",
    "\n",
    "for i, pfa in enumerate(sample_pfas):\n",
    "    pfa_data = comparison_results[comparison_results['PFA'] == pfa]\n",
    "    \n",
    "    # Calculate row and column position (Plotly uses 1-based indexing)\n",
    "    row = (i // num_cols) + 1\n",
    "    col = (i % num_cols) + 1\n",
    "    \n",
    "    fig.add_trace(\n",
    "        go.Scatter(\n",
    "            x=pfa_data['Year'],\n",
    "            y=pfa_data['Percentage Difference'],\n",
    "            mode='lines+markers',\n",
    "            name=pfa,\n",
    "            showlegend=False,\n",
    "            line=dict(width=2),\n",
    "            marker=dict(size=6),\n",
    "            hovertemplate=\"%{y:.2f}%<extra>Percentage difference</extra>\",\n",
    "        ),\n",
    "        row=row, col=col\n",
    "    )\n",
    "\n",
    "# Update layout\n",
    "fig.update_layout(\n",
    "    margin=dict(l=30, r=15),\n",
    "    height=300 * num_rows,  # Adjust height dynamically based on rows\n",
    "    title_text=\"Percentage Differences in Population by PFA (New vs Old Data)\",\n",
    ")\n",
    "\n",
    "# Update x and y axis labels\n",
    "fig.update_xaxes(nticks=6)\n",
    "fig.update_yaxes(nticks=5, ticksuffix=\"%\", range=[-2.1, 6.1])\n",
    "\n",
    "fig.show(config=no_modebar)"
   ]
  },
  {
   "cell_type": "markdown",
   "id": "7289d299",
   "metadata": {},
   "source": [
    "All very minimal differences, so I will accept these as being within the margin of error for the data."
   ]
  },
  {
   "cell_type": "markdown",
   "id": "ba25cd9d",
   "metadata": {},
   "source": [
    "### Exporting the visualisation\n",
    "Exporting the visualisation to HTML for inclusion in the documentation"
   ]
  },
  {
   "cell_type": "code",
   "execution_count": 87,
   "id": "d24b9cea",
   "metadata": {},
   "outputs": [],
   "source": [
    "fig.write_html(\"docs/assets/pfa_population_comparison.html\", config=no_modebar, include_plotlyjs=\"cdn\")"
   ]
  },
  {
   "cell_type": "markdown",
   "id": "99179b6a",
   "metadata": {},
   "source": [
    "### Visualising the differences in population for all PFAs"
   ]
  },
  {
   "cell_type": "code",
   "execution_count": 88,
   "id": "24014017",
   "metadata": {},
   "outputs": [
    {
     "data": {
      "text/html": [
       "<div>\n",
       "<style scoped>\n",
       "    .dataframe tbody tr th:only-of-type {\n",
       "        vertical-align: middle;\n",
       "    }\n",
       "\n",
       "    .dataframe tbody tr th {\n",
       "        vertical-align: top;\n",
       "    }\n",
       "\n",
       "    .dataframe thead th {\n",
       "        text-align: right;\n",
       "    }\n",
       "</style>\n",
       "<table border=\"1\" class=\"dataframe\">\n",
       "  <thead>\n",
       "    <tr style=\"text-align: right;\">\n",
       "      <th></th>\n",
       "      <th>PFA</th>\n",
       "      <th>Year</th>\n",
       "      <th>New Population</th>\n",
       "      <th>Old Population</th>\n",
       "      <th>Difference</th>\n",
       "      <th>Percentage Difference</th>\n",
       "    </tr>\n",
       "  </thead>\n",
       "  <tbody>\n",
       "    <tr>\n",
       "      <th>0</th>\n",
       "      <td>Cleveland</td>\n",
       "      <td>2011</td>\n",
       "      <td>225604</td>\n",
       "      <td>225604</td>\n",
       "      <td>0</td>\n",
       "      <td>0.000000</td>\n",
       "    </tr>\n",
       "    <tr>\n",
       "      <th>1</th>\n",
       "      <td>Durham</td>\n",
       "      <td>2011</td>\n",
       "      <td>255745</td>\n",
       "      <td>255745</td>\n",
       "      <td>0</td>\n",
       "      <td>0.000000</td>\n",
       "    </tr>\n",
       "    <tr>\n",
       "      <th>2</th>\n",
       "      <td>Cheshire</td>\n",
       "      <td>2011</td>\n",
       "      <td>420894</td>\n",
       "      <td>420894</td>\n",
       "      <td>0</td>\n",
       "      <td>0.000000</td>\n",
       "    </tr>\n",
       "    <tr>\n",
       "      <th>3</th>\n",
       "      <td>Lancashire</td>\n",
       "      <td>2011</td>\n",
       "      <td>591265</td>\n",
       "      <td>591265</td>\n",
       "      <td>0</td>\n",
       "      <td>0.000000</td>\n",
       "    </tr>\n",
       "    <tr>\n",
       "      <th>4</th>\n",
       "      <td>Humberside</td>\n",
       "      <td>2011</td>\n",
       "      <td>373171</td>\n",
       "      <td>373171</td>\n",
       "      <td>0</td>\n",
       "      <td>0.000000</td>\n",
       "    </tr>\n",
       "    <tr>\n",
       "      <th>...</th>\n",
       "      <td>...</td>\n",
       "      <td>...</td>\n",
       "      <td>...</td>\n",
       "      <td>...</td>\n",
       "      <td>...</td>\n",
       "      <td>...</td>\n",
       "    </tr>\n",
       "    <tr>\n",
       "      <th>415</th>\n",
       "      <td>Metropolitan Police</td>\n",
       "      <td>2020</td>\n",
       "      <td>3614063</td>\n",
       "      <td>3486556</td>\n",
       "      <td>127507</td>\n",
       "      <td>3.657105</td>\n",
       "    </tr>\n",
       "    <tr>\n",
       "      <th>416</th>\n",
       "      <td>North Wales</td>\n",
       "      <td>2020</td>\n",
       "      <td>285472</td>\n",
       "      <td>288072</td>\n",
       "      <td>-2600</td>\n",
       "      <td>-0.902552</td>\n",
       "    </tr>\n",
       "    <tr>\n",
       "      <th>417</th>\n",
       "      <td>Dyfed-Powys</td>\n",
       "      <td>2020</td>\n",
       "      <td>215341</td>\n",
       "      <td>217989</td>\n",
       "      <td>-2648</td>\n",
       "      <td>-1.214740</td>\n",
       "    </tr>\n",
       "    <tr>\n",
       "      <th>418</th>\n",
       "      <td>South Wales</td>\n",
       "      <td>2020</td>\n",
       "      <td>539902</td>\n",
       "      <td>548809</td>\n",
       "      <td>-8907</td>\n",
       "      <td>-1.622969</td>\n",
       "    </tr>\n",
       "    <tr>\n",
       "      <th>419</th>\n",
       "      <td>Gwent</td>\n",
       "      <td>2020</td>\n",
       "      <td>240526</td>\n",
       "      <td>244141</td>\n",
       "      <td>-3615</td>\n",
       "      <td>-1.480702</td>\n",
       "    </tr>\n",
       "  </tbody>\n",
       "</table>\n",
       "<p>420 rows × 6 columns</p>\n",
       "</div>"
      ],
      "text/plain": [
       "                     PFA  Year  New Population  Old Population  Difference  \\\n",
       "0              Cleveland  2011          225604          225604           0   \n",
       "1                 Durham  2011          255745          255745           0   \n",
       "2               Cheshire  2011          420894          420894           0   \n",
       "3             Lancashire  2011          591265          591265           0   \n",
       "4             Humberside  2011          373171          373171           0   \n",
       "..                   ...   ...             ...             ...         ...   \n",
       "415  Metropolitan Police  2020         3614063         3486556      127507   \n",
       "416          North Wales  2020          285472          288072       -2600   \n",
       "417          Dyfed-Powys  2020          215341          217989       -2648   \n",
       "418          South Wales  2020          539902          548809       -8907   \n",
       "419                Gwent  2020          240526          244141       -3615   \n",
       "\n",
       "     Percentage Difference  \n",
       "0                 0.000000  \n",
       "1                 0.000000  \n",
       "2                 0.000000  \n",
       "3                 0.000000  \n",
       "4                 0.000000  \n",
       "..                     ...  \n",
       "415               3.657105  \n",
       "416              -0.902552  \n",
       "417              -1.214740  \n",
       "418              -1.622969  \n",
       "419              -1.480702  \n",
       "\n",
       "[420 rows x 6 columns]"
      ]
     },
     "execution_count": 88,
     "metadata": {},
     "output_type": "execute_result"
    }
   ],
   "source": [
    "comparison_results = compare_pfa_population(df, df_old_qa, list(df['pfa'].unique()))\n",
    "comparison_results"
   ]
  },
  {
   "cell_type": "code",
   "execution_count": 96,
   "id": "1b57b1d0",
   "metadata": {},
   "outputs": [
    {
     "data": {
      "application/vnd.plotly.v1+json": {
       "config": {
        "displayModeBar": false,
        "plotlyServerURL": "https://plot.ly"
       },
       "data": [
        {
         "hovertemplate": "%{y:.2f}%<extra>Percentage difference</extra>",
         "line": {
          "width": 2
         },
         "marker": {
          "size": 6
         },
         "mode": "lines+markers",
         "name": "Cleveland",
         "showlegend": false,
         "type": "scatter",
         "x": {
          "bdata": "2wfcB90H3gffB+AH4QfiB+MH5Ac=",
          "dtype": "i2"
         },
         "xaxis": "x",
         "y": {
          "bdata": "AAAAAAAAAABASfLQbXWYP9PWrZ5Cpp+/rhna0Pcquz9IejYZOMPIP27fxXI+5NA/6mxaRfAS2T8RqO5W2Y/VP8XJatG3nds/DcIYQyNX2z8=",
          "dtype": "f8"
         },
         "yaxis": "y"
        },
        {
         "hovertemplate": "%{y:.2f}%<extra>Percentage difference</extra>",
         "line": {
          "width": 2
         },
         "marker": {
          "size": 6
         },
         "mode": "lines+markers",
         "name": "Durham",
         "showlegend": false,
         "type": "scatter",
         "x": {
          "bdata": "2wfcB90H3gffB+AH4QfiB+MH5Ac=",
          "dtype": "i2"
         },
         "xaxis": "x2",
         "y": {
          "bdata": "AAAAAAAAAABTOtSTOsm+vyJsbzuWXde/Q2BVqOy13b+vtHjWCYPkv9n2oHa1Z+2/ZVIybsMw7L8Qu+qQKVr0vwK+BDLRwfa/zXYqCU1z/L8=",
          "dtype": "f8"
         },
         "yaxis": "y2"
        },
        {
         "hovertemplate": "%{y:.2f}%<extra>Percentage difference</extra>",
         "line": {
          "width": 2
         },
         "marker": {
          "size": 6
         },
         "mode": "lines+markers",
         "name": "Cheshire",
         "showlegend": false,
         "type": "scatter",
         "x": {
          "bdata": "2wfcB90H3gffB+AH4QfiB+MH5Ac=",
          "dtype": "i2"
         },
         "xaxis": "x3",
         "y": {
          "bdata": "AAAAAAAAAADhOOLWPx++P3NdSR3+qdY/qK8JvUyG5z/aS8yZ287uP2DOvVa9dfQ/yeM+w7N1+j94IRMnUpX/P0Wsl6cfbQFA3SWozzV0AkA=",
          "dtype": "f8"
         },
         "yaxis": "y3"
        },
        {
         "hovertemplate": "%{y:.2f}%<extra>Percentage difference</extra>",
         "line": {
          "width": 2
         },
         "marker": {
          "size": 6
         },
         "mode": "lines+markers",
         "name": "Lancashire",
         "showlegend": false,
         "type": "scatter",
         "x": {
          "bdata": "2wfcB90H3gffB+AH4QfiB+MH5Ac=",
          "dtype": "i2"
         },
         "xaxis": "x4",
         "y": {
          "bdata": "AAAAAAAAAACzBfFyLLezPyJ5Ims4odI//o+7eCEa4D+A0UhI2TziP02PEZf8beU/8jP940nG6z+SDnJK4XjsP0KFBzuiEfE/YKRuVVbJ8z8=",
          "dtype": "f8"
         },
         "yaxis": "y4"
        },
        {
         "hovertemplate": "%{y:.2f}%<extra>Percentage difference</extra>",
         "line": {
          "width": 2
         },
         "marker": {
          "size": 6
         },
         "mode": "lines+markers",
         "name": "Humberside",
         "showlegend": false,
         "type": "scatter",
         "x": {
          "bdata": "2wfcB90H3gffB+AH4QfiB+MH5Ac=",
          "dtype": "i2"
         },
         "xaxis": "x5",
         "y": {
          "bdata": "AAAAAAAAAACzlBn9kciRv0teNIP64HW/oGodato3xz/9JXYrKj/DPzFsXYi3G98/tlMKM+tx5z/2Au8iBiDkP5aJCwhNTew/sbyGXYPd6j8=",
          "dtype": "f8"
         },
         "yaxis": "y5"
        },
        {
         "hovertemplate": "%{y:.2f}%<extra>Percentage difference</extra>",
         "line": {
          "width": 2
         },
         "marker": {
          "size": 6
         },
         "mode": "lines+markers",
         "name": "North Yorkshire",
         "showlegend": false,
         "type": "scatter",
         "x": {
          "bdata": "2wfcB90H3gffB+AH4QfiB+MH5Ac=",
          "dtype": "i2"
         },
         "xaxis": "x6",
         "y": {
          "bdata": "AAAAAAAAAABdxVyvEl61Pzjxp8Yndmi/S8Pan657Mz8R1S9ucYLJv7SFcAckHNq/QwhKFuxJ27+cQfqB4c3kvxFFjPw1A+S/knkBJ4hn8L8=",
          "dtype": "f8"
         },
         "yaxis": "y6"
        },
        {
         "hovertemplate": "%{y:.2f}%<extra>Percentage difference</extra>",
         "line": {
          "width": 2
         },
         "marker": {
          "size": 6
         },
         "mode": "lines+markers",
         "name": "Derbyshire",
         "showlegend": false,
         "type": "scatter",
         "x": {
          "bdata": "2wfcB90H3gffB+AH4QfiB+MH5Ac=",
          "dtype": "i2"
         },
         "xaxis": "x7",
         "y": {
          "bdata": "AAAAAAAAAAC64hTb7faRP/cXcW6cZW0/1P8Oqs5Nqr+M42OmRQvCv9seZyNvq8W/iHZh8r+e0r8/xSzz+KvUv8A/Riunddq/WQ1gJrC8478=",
          "dtype": "f8"
         },
         "yaxis": "y7"
        },
        {
         "hovertemplate": "%{y:.2f}%<extra>Percentage difference</extra>",
         "line": {
          "width": 2
         },
         "marker": {
          "size": 6
         },
         "mode": "lines+markers",
         "name": "Leicestershire",
         "showlegend": false,
         "type": "scatter",
         "x": {
          "bdata": "2wfcB90H3gffB+AH4QfiB+MH5Ac=",
          "dtype": "i2"
         },
         "xaxis": "x8",
         "y": {
          "bdata": "AAAAAAAAAABInyONTTPAP47+PEeDkdU/8Hnn6t4n3z+FoysLlp/fP6RdnMA9w+k/df01hsOl7z9pgqUTyu/2PzTwSwYIQvs/iv26f0vS+D8=",
          "dtype": "f8"
         },
         "yaxis": "y8"
        },
        {
         "hovertemplate": "%{y:.2f}%<extra>Percentage difference</extra>",
         "line": {
          "width": 2
         },
         "marker": {
          "size": 6
         },
         "mode": "lines+markers",
         "name": "Nottinghamshire",
         "showlegend": false,
         "type": "scatter",
         "x": {
          "bdata": "2wfcB90H3gffB+AH4QfiB+MH5Ac=",
          "dtype": "i2"
         },
         "xaxis": "x9",
         "y": {
          "bdata": "AAAAAAAAAADaWoLbkHxNv4wTs/JD81W/51jqCT2Mwr9QWJP2HkjTv9VcNUuC28u/atv0+/fqzL8EAxql+xqkv196i/03gr+/vdqTuuNL4L8=",
          "dtype": "f8"
         },
         "yaxis": "y9"
        },
        {
         "hovertemplate": "%{y:.2f}%<extra>Percentage difference</extra>",
         "line": {
          "width": 2
         },
         "marker": {
          "size": 6
         },
         "mode": "lines+markers",
         "name": "West Mercia",
         "showlegend": false,
         "type": "scatter",
         "x": {
          "bdata": "2wfcB90H3gffB+AH4QfiB+MH5Ac=",
          "dtype": "i2"
         },
         "xaxis": "x10",
         "y": {
          "bdata": "AAAAAAAAAACGQKS/Nb+xP9JEMwBCq7k/e0GSJdB00T8K/dUq6YDXP2VhAA/X6OE//ZSo2LRp3z+Ca7a8gqXaP7RN9Cb9q+E/goi+uUAY3T8=",
          "dtype": "f8"
         },
         "yaxis": "y10"
        },
        {
         "hovertemplate": "%{y:.2f}%<extra>Percentage difference</extra>",
         "line": {
          "width": 2
         },
         "marker": {
          "size": 6
         },
         "mode": "lines+markers",
         "name": "Staffordshire",
         "showlegend": false,
         "type": "scatter",
         "x": {
          "bdata": "2wfcB90H3gffB+AH4QfiB+MH5Ac=",
          "dtype": "i2"
         },
         "xaxis": "x11",
         "y": {
          "bdata": "AAAAAAAAAABb/rF6N06TP+xO3O09I6A/FOH820h7rz89BEtRQbOev8J4JdtoJqQ/SX9lq8WRob/BbCadrbSMv96jpuepOZk/9TSSJfL5s78=",
          "dtype": "f8"
         },
         "yaxis": "y11"
        },
        {
         "hovertemplate": "%{y:.2f}%<extra>Percentage difference</extra>",
         "line": {
          "width": 2
         },
         "marker": {
          "size": 6
         },
         "mode": "lines+markers",
         "name": "Avon and Somerset",
         "showlegend": false,
         "type": "scatter",
         "x": {
          "bdata": "2wfcB90H3gffB+AH4QfiB+MH5Ac=",
          "dtype": "i2"
         },
         "xaxis": "x12",
         "y": {
          "bdata": "AAAAAAAAAABsUYEITxHAP/7vv0TVH9A/YxII6Ufa0z/Q9xs8UwzbP1WQKsxcLew/Bykdx+WX8D+LmbHlDYHwP4qnrEuZAvU/4iutKiRe9j8=",
          "dtype": "f8"
         },
         "yaxis": "y12"
        },
        {
         "hovertemplate": "%{y:.2f}%<extra>Percentage difference</extra>",
         "line": {
          "width": 2
         },
         "marker": {
          "size": 6
         },
         "mode": "lines+markers",
         "name": "Devon and Cornwall",
         "showlegend": false,
         "type": "scatter",
         "x": {
          "bdata": "2wfcB90H3gffB+AH4QfiB+MH5Ac=",
          "dtype": "i2"
         },
         "xaxis": "x13",
         "y": {
          "bdata": "AAAAAAAAAABf8Q+z0cSbvx4Ci8HRwZi/Qb7BPSoApj/strTMqOWdP4TWVQ4ovcw/Oebd/yA11D8TsHEOx4jUP1JxUDHr2Ns/Nx7suN4Hwj8=",
          "dtype": "f8"
         },
         "yaxis": "y13"
        },
        {
         "hovertemplate": "%{y:.2f}%<extra>Percentage difference</extra>",
         "line": {
          "width": 2
         },
         "marker": {
          "size": 6
         },
         "mode": "lines+markers",
         "name": "Wiltshire",
         "showlegend": false,
         "type": "scatter",
         "x": {
          "bdata": "2wfcB90H3gffB+AH4QfiB+MH5Ac=",
          "dtype": "i2"
         },
         "xaxis": "x14",
         "y": {
          "bdata": "AAAAAAAAAAAl/dqv8izRP2UBmAcMDuE/g7X+IvCX7D+loCMiQpTzP/Il1k2ap/s/CgSMJ4PsAEC602sajjoCQN9D37DpbQdA1TLyBdU4CEA=",
          "dtype": "f8"
         },
         "yaxis": "y14"
        },
        {
         "hovertemplate": "%{y:.2f}%<extra>Percentage difference</extra>",
         "line": {
          "width": 2
         },
         "marker": {
          "size": 6
         },
         "mode": "lines+markers",
         "name": "Cambridgeshire",
         "showlegend": false,
         "type": "scatter",
         "x": {
          "bdata": "2wfcB90H3gffB+AH4QfiB+MH5Ac=",
          "dtype": "i2"
         },
         "xaxis": "x15",
         "y": {
          "bdata": "AAAAAAAAAACE5ypD30jrP7J4LBkCbvw/wf6VpdK8A0CbCughA8wIQAFAhgS+eRBArSwyuZwqEkCSHrdhtk8UQEs4nLhp3RVAOoy4Avy+F0A=",
          "dtype": "f8"
         },
         "yaxis": "y15"
        },
        {
         "hovertemplate": "%{y:.2f}%<extra>Percentage difference</extra>",
         "line": {
          "width": 2
         },
         "marker": {
          "size": 6
         },
         "mode": "lines+markers",
         "name": "Bedfordshire",
         "showlegend": false,
         "type": "scatter",
         "x": {
          "bdata": "2wfcB90H3gffB+AH4QfiB+MH5Ac=",
          "dtype": "i2"
         },
         "xaxis": "x16",
         "y": {
          "bdata": "AAAAAAAAAAAh/BEVsCjMP9xeWBQfrec/ADyL8HaS8j9tQls0EIr2PxuYs0cCRwBAdmBjT27tAkBi2AfjKG0GQKDuMvlbGAtAjNNjAD6CDEA=",
          "dtype": "f8"
         },
         "yaxis": "y16"
        },
        {
         "hovertemplate": "%{y:.2f}%<extra>Percentage difference</extra>",
         "line": {
          "width": 2
         },
         "marker": {
          "size": 6
         },
         "mode": "lines+markers",
         "name": "Essex",
         "showlegend": false,
         "type": "scatter",
         "x": {
          "bdata": "2wfcB90H3gffB+AH4QfiB+MH5Ac=",
          "dtype": "i2"
         },
         "xaxis": "x17",
         "y": {
          "bdata": "AAAAAAAAAAD+EXB92N28P7x/tjKWd80/xPaso3OZ2z9pjI27fQrcP3Qw7wFJpeI/dOHLwEYA4z/WyhXXqlLlP7xkg5puXeo/0MRVsWfD6D8=",
          "dtype": "f8"
         },
         "yaxis": "y17"
        },
        {
         "hovertemplate": "%{y:.2f}%<extra>Percentage difference</extra>",
         "line": {
          "width": 2
         },
         "marker": {
          "size": 6
         },
         "mode": "lines+markers",
         "name": "Kent",
         "showlegend": false,
         "type": "scatter",
         "x": {
          "bdata": "2wfcB90H3gffB+AH4QfiB+MH5Ac=",
          "dtype": "i2"
         },
         "xaxis": "x18",
         "y": {
          "bdata": "AAAAAAAAAACxyLHAvCqrPwq9O5psU8U/gHMQABNH1j9ZUBMFcxvTP7X5YafiEdE/Md6fS1Bk1D+DeSN4wFzRP8VPwotV2dc/guS8Ax0O1T8=",
          "dtype": "f8"
         },
         "yaxis": "y18"
        },
        {
         "hovertemplate": "%{y:.2f}%<extra>Percentage difference</extra>",
         "line": {
          "width": 2
         },
         "marker": {
          "size": 6
         },
         "mode": "lines+markers",
         "name": "Thames Valley",
         "showlegend": false,
         "type": "scatter",
         "x": {
          "bdata": "2wfcB90H3gffB+AH4QfiB+MH5Ac=",
          "dtype": "i2"
         },
         "xaxis": "x19",
         "y": {
          "bdata": "AAAAAAAAAAAvjiWsSyrkPwcCxLdLd/Q/5EOWqjR7/D8kg9IzVwwCQPK7nZsB9wZAQwBnxItLCkDcqKV+FXENQN+uMMT/nxBAyPX60LuzEkA=",
          "dtype": "f8"
         },
         "yaxis": "y19"
        },
        {
         "hovertemplate": "%{y:.2f}%<extra>Percentage difference</extra>",
         "line": {
          "width": 2
         },
         "marker": {
          "size": 6
         },
         "mode": "lines+markers",
         "name": "Sussex",
         "showlegend": false,
         "type": "scatter",
         "x": {
          "bdata": "2wfcB90H3gffB+AH4QfiB+MH5Ac=",
          "dtype": "i2"
         },
         "xaxis": "x20",
         "y": {
          "bdata": "AAAAAAAAAAAnb1jOSBe4P+iQuyd9q8E/2pqKCgiwuj/u2YpYKOaZPwI+IyBMOsI/vOldeXGEzz+UwpAgD67QP9aRqiyDdso/r3A4SNa3uD8=",
          "dtype": "f8"
         },
         "yaxis": "y20"
        },
        {
         "hovertemplate": "%{y:.2f}%<extra>Percentage difference</extra>",
         "line": {
          "width": 2
         },
         "marker": {
          "size": 6
         },
         "mode": "lines+markers",
         "name": "Hampshire",
         "showlegend": false,
         "type": "scatter",
         "x": {
          "bdata": "2wfcB90H3gffB+AH4QfiB+MH5Ac=",
          "dtype": "i2"
         },
         "xaxis": "x21",
         "y": {
          "bdata": "AAAAAAAAAAAZ8slz35+TP5ffStlXsL8/3mYVtPYXzD++a2mu8xHUP7/6gP7g5eA/TqqxTxVP5T+F5PnrNrjoP9pZkIQaRuo/Zourocj06T8=",
          "dtype": "f8"
         },
         "yaxis": "y21"
        },
        {
         "hovertemplate": "%{y:.2f}%<extra>Percentage difference</extra>",
         "line": {
          "width": 2
         },
         "marker": {
          "size": 6
         },
         "mode": "lines+markers",
         "name": "Northumbria",
         "showlegend": false,
         "type": "scatter",
         "x": {
          "bdata": "2wfcB90H3gffB+AH4QfiB+MH5Ac=",
          "dtype": "i2"
         },
         "xaxis": "x22",
         "y": {
          "bdata": "AAAAAAAAAABAl099JLTBv+9zgl3iR8q/SCD9s1y6y7+RftRpuFDXv7GPjTOghd6/2RQOmaDF4r/d+pFrRlvpv/1edSl8Bu6/VKX7z0MI9L8=",
          "dtype": "f8"
         },
         "yaxis": "y22"
        },
        {
         "hovertemplate": "%{y:.2f}%<extra>Percentage difference</extra>",
         "line": {
          "width": 2
         },
         "marker": {
          "size": 6
         },
         "mode": "lines+markers",
         "name": "Dorset",
         "showlegend": false,
         "type": "scatter",
         "x": {
          "bdata": "2wfcB90H3gffB+AH4QfiB+MH5Ac=",
          "dtype": "i2"
         },
         "xaxis": "x23",
         "y": {
          "bdata": "AAAAAAAAAACGBh+X6NTBPzkckSCKQdk/m4ighfVi6T+GyqNgyWzwP4Vp3nxv7vg/Ua1za+3Z/j9yCdzgqycCQMK1QXYtiANAY7QRK7ObAUA=",
          "dtype": "f8"
         },
         "yaxis": "y23"
        },
        {
         "hovertemplate": "%{y:.2f}%<extra>Percentage difference</extra>",
         "line": {
          "width": 2
         },
         "marker": {
          "size": 6
         },
         "mode": "lines+markers",
         "name": "Northamptonshire",
         "showlegend": false,
         "type": "scatter",
         "x": {
          "bdata": "2wfcB90H3gffB+AH4QfiB+MH5Ac=",
          "dtype": "i2"
         },
         "xaxis": "x24",
         "y": {
          "bdata": "AAAAAAAAAAAkyatiHvbhP2lKMgw8+/E/KuI3aPHE+D+9bcVgDRIAQFEnTwNdlwRAfRv7bnhACkBpkaR8VQsQQCaE47eJmxJAgoCSPF9gEkA=",
          "dtype": "f8"
         },
         "yaxis": "y24"
        },
        {
         "hovertemplate": "%{y:.2f}%<extra>Percentage difference</extra>",
         "line": {
          "width": 2
         },
         "marker": {
          "size": 6
         },
         "mode": "lines+markers",
         "name": "Cumbria",
         "showlegend": false,
         "type": "scatter",
         "x": {
          "bdata": "2wfcB90H3gffB+AH4QfiB+MH5Ac=",
          "dtype": "i2"
         },
         "xaxis": "x25",
         "y": {
          "bdata": "AAAAAAAAAAAStO8bmRyfvzZfNC9T/qa/3lOw6iiAoz8GbehPymfEP06X7aB9cc4/wdir5T1D1T9GrSxzXhzTP/vq1OD7Zcw/oawQYx9gxj8=",
          "dtype": "f8"
         },
         "yaxis": "y25"
        },
        {
         "hovertemplate": "%{y:.2f}%<extra>Percentage difference</extra>",
         "line": {
          "width": 2
         },
         "marker": {
          "size": 6
         },
         "mode": "lines+markers",
         "name": "Gloucestershire",
         "showlegend": false,
         "type": "scatter",
         "x": {
          "bdata": "2wfcB90H3gffB+AH4QfiB+MH5Ac=",
          "dtype": "i2"
         },
         "xaxis": "x26",
         "y": {
          "bdata": "AAAAAAAAAABvxdgMNaK0vyaXHa68crY/v0kIjMtMxz838a+p5ErZPwkgRX4WfuQ/6fAHkPf26D9JO2t3zYLnP/rM/RKKB/A/nbdMiDCx6D8=",
          "dtype": "f8"
         },
         "yaxis": "y26"
        },
        {
         "hovertemplate": "%{y:.2f}%<extra>Percentage difference</extra>",
         "line": {
          "width": 2
         },
         "marker": {
          "size": 6
         },
         "mode": "lines+markers",
         "name": "Hertfordshire",
         "showlegend": false,
         "type": "scatter",
         "x": {
          "bdata": "2wfcB90H3gffB+AH4QfiB+MH5Ac=",
          "dtype": "i2"
         },
         "xaxis": "x27",
         "y": {
          "bdata": "AAAAAAAAAACTvy9981DQP0QHM5q2TNk/QQ8OksTv2T85QTepxDzbPwlV1nwaDeg/K2PsAgEX7T8HJGl2DpLwPxyWVwukhPI/eOLZl5R48T8=",
          "dtype": "f8"
         },
         "yaxis": "y27"
        },
        {
         "hovertemplate": "%{y:.2f}%<extra>Percentage difference</extra>",
         "line": {
          "width": 2
         },
         "marker": {
          "size": 6
         },
         "mode": "lines+markers",
         "name": "Lincolnshire",
         "showlegend": false,
         "type": "scatter",
         "x": {
          "bdata": "2wfcB90H3gffB+AH4QfiB+MH5Ac=",
          "dtype": "i2"
         },
         "xaxis": "x28",
         "y": {
          "bdata": "AAAAAAAAAAApumE8R7q3Px1H45IlbtA/yTtE/Apf1T9uqwYSaLjWPxO0A4D2I+A/akAztI6J4T+1/IMkWUDkP1he+yYThuM/aAq+c45g1D8=",
          "dtype": "f8"
         },
         "yaxis": "y28"
        },
        {
         "hovertemplate": "%{y:.2f}%<extra>Percentage difference</extra>",
         "line": {
          "width": 2
         },
         "marker": {
          "size": 6
         },
         "mode": "lines+markers",
         "name": "Norfolk",
         "showlegend": false,
         "type": "scatter",
         "x": {
          "bdata": "2wfcB90H3gffB+AH4QfiB+MH5Ac=",
          "dtype": "i2"
         },
         "xaxis": "x29",
         "y": {
          "bdata": "AAAAAAAAAADckJHGOUyfP/SMRen25sY/MP+duXP2wj9R9oW4oqCiPzFUMOIqPNc/fuIK202k4D+SdHkpIfXiPwt34OfQ9eQ/H9RAVdT+1z8=",
          "dtype": "f8"
         },
         "yaxis": "y29"
        },
        {
         "hovertemplate": "%{y:.2f}%<extra>Percentage difference</extra>",
         "line": {
          "width": 2
         },
         "marker": {
          "size": 6
         },
         "mode": "lines+markers",
         "name": "Suffolk",
         "showlegend": false,
         "type": "scatter",
         "x": {
          "bdata": "2wfcB90H3gffB+AH4QfiB+MH5Ac=",
          "dtype": "i2"
         },
         "xaxis": "x30",
         "y": {
          "bdata": "AAAAAAAAAAAgykNrq5msP+wEIZmRHYE/ya2tbW83u7/7of5k+YLAvzS8mP4Oc5O/y54Zc/1qwD9BdQepRZDMPzbEUxKrN9I/txY8CaGa1D8=",
          "dtype": "f8"
         },
         "yaxis": "y30"
        },
        {
         "hovertemplate": "%{y:.2f}%<extra>Percentage difference</extra>",
         "line": {
          "width": 2
         },
         "marker": {
          "size": 6
         },
         "mode": "lines+markers",
         "name": "Surrey",
         "showlegend": false,
         "type": "scatter",
         "x": {
          "bdata": "2wfcB90H3gffB+AH4QfiB+MH5Ac=",
          "dtype": "i2"
         },
         "xaxis": "x31",
         "y": {
          "bdata": "AAAAAAAAAACNX9W52LPFP1lVH9Owido/1kM/qTLi5D9Ym/Y0pCzmP4eozuIbZ+k/9j86LIr56z+W9ptLMdjoP6E5SQSKbeo/5Xr4mm0S8D8=",
          "dtype": "f8"
         },
         "yaxis": "y31"
        },
        {
         "hovertemplate": "%{y:.2f}%<extra>Percentage difference</extra>",
         "line": {
          "width": 2
         },
         "marker": {
          "size": 6
         },
         "mode": "lines+markers",
         "name": "Warwickshire",
         "showlegend": false,
         "type": "scatter",
         "x": {
          "bdata": "2wfcB90H3gffB+AH4QfiB+MH5Ac=",
          "dtype": "i2"
         },
         "xaxis": "x32",
         "y": {
          "bdata": "AAAAAAAAAACJvr6R4zXcP4CR6WMvkOg/yA2o1gd88D/C7gh7jUPzP2LVoPFwOvk/YL97vTge+z9XR6d+CjD7P92tVAkfsfo/+epm+Z7Z+T8=",
          "dtype": "f8"
         },
         "yaxis": "y32"
        },
        {
         "hovertemplate": "%{y:.2f}%<extra>Percentage difference</extra>",
         "line": {
          "width": 2
         },
         "marker": {
          "size": 6
         },
         "mode": "lines+markers",
         "name": "Greater Manchester",
         "showlegend": false,
         "type": "scatter",
         "x": {
          "bdata": "2wfcB90H3gffB+AH4QfiB+MH5Ac=",
          "dtype": "i2"
         },
         "xaxis": "x33",
         "y": {
          "bdata": "AAAAAAAAAAADeuHuw8KSP4OR2T9aX8k/rYO/ouXG1j+4HTudm1DbP30w0vB4nuU/A/zlktx+6j81JUmxy93yP9uY4J5PFvY/51krCZnd9j8=",
          "dtype": "f8"
         },
         "yaxis": "y33"
        },
        {
         "hovertemplate": "%{y:.2f}%<extra>Percentage difference</extra>",
         "line": {
          "width": 2
         },
         "marker": {
          "size": 6
         },
         "mode": "lines+markers",
         "name": "Merseyside",
         "showlegend": false,
         "type": "scatter",
         "x": {
          "bdata": "2wfcB90H3gffB+AH4QfiB+MH5Ac=",
          "dtype": "i2"
         },
         "xaxis": "x34",
         "y": {
          "bdata": "AAAAAAAAAACOzjfkvBzOvytD0ek5x8y/7mDUr03fyb8K/tVHMP7Qv5TmjB20n8W/XthSFW+ZsD9E7gZ0+3LTP0kXvNMLUs0/wLxaua2ZtT8=",
          "dtype": "f8"
         },
         "yaxis": "y34"
        },
        {
         "hovertemplate": "%{y:.2f}%<extra>Percentage difference</extra>",
         "line": {
          "width": 2
         },
         "marker": {
          "size": 6
         },
         "mode": "lines+markers",
         "name": "South Yorkshire",
         "showlegend": false,
         "type": "scatter",
         "x": {
          "bdata": "2wfcB90H3gffB+AH4QfiB+MH5Ac=",
          "dtype": "i2"
         },
         "xaxis": "x35",
         "y": {
          "bdata": "AAAAAAAAAAAqJO7r5FrNv6aohSzPMNW/cCX1ZHKF4L9f4LKG0sbtv2G3pa1fqPG/N1Qz2piy978yC7Fcl8r6v3Mn6cg9tPy/km64LQbxAMA=",
          "dtype": "f8"
         },
         "yaxis": "y35"
        },
        {
         "hovertemplate": "%{y:.2f}%<extra>Percentage difference</extra>",
         "line": {
          "width": 2
         },
         "marker": {
          "size": 6
         },
         "mode": "lines+markers",
         "name": "West Midlands",
         "showlegend": false,
         "type": "scatter",
         "x": {
          "bdata": "2wfcB90H3gffB+AH4QfiB+MH5Ac=",
          "dtype": "i2"
         },
         "xaxis": "x36",
         "y": {
          "bdata": "AAAAAAAAAABeAoDeQt6qv1i596fd0cI/vnQAkKExxj8yRCJMVF3BP9BcsQYgqtA/gt5AwBhh0z/47n8HGOvdP9UiJZIHIuY/HC7tcEBk4z8=",
          "dtype": "f8"
         },
         "yaxis": "y36"
        },
        {
         "hovertemplate": "%{y:.2f}%<extra>Percentage difference</extra>",
         "line": {
          "width": 2
         },
         "marker": {
          "size": 6
         },
         "mode": "lines+markers",
         "name": "West Yorkshire",
         "showlegend": false,
         "type": "scatter",
         "x": {
          "bdata": "2wfcB90H3gffB+AH4QfiB+MH5Ac=",
          "dtype": "i2"
         },
         "xaxis": "x37",
         "y": {
          "bdata": "AAAAAAAAAADdrC50uiPDP8bSKEhqqNs/CLmzeVrI5T8XvPs1EHDnPwV7GgwSqO0/VQYh8QKk8T/W3ExdE8PwP8W8Y7aYCfU/8awxnKyp8j8=",
          "dtype": "f8"
         },
         "yaxis": "y37"
        },
        {
         "hovertemplate": "%{y:.2f}%<extra>Percentage difference</extra>",
         "line": {
          "width": 2
         },
         "marker": {
          "size": 6
         },
         "mode": "lines+markers",
         "name": "Metropolitan Police",
         "showlegend": false,
         "type": "scatter",
         "x": {
          "bdata": "2wfcB90H3gffB+AH4QfiB+MH5Ac=",
          "dtype": "i2"
         },
         "xaxis": "x38",
         "y": {
          "bdata": "AAAAAAAAAAB2hh0kH1bjP3zwPxQTAvY/J9YXHPDp+z9hBs+iLJoAQM56VkZmxwVAZh5rBoAjB0D2o49X/bkJQC6VMfMF8QtAXMQED8BBDUA=",
          "dtype": "f8"
         },
         "yaxis": "y38"
        },
        {
         "hovertemplate": "%{y:.2f}%<extra>Percentage difference</extra>",
         "line": {
          "width": 2
         },
         "marker": {
          "size": 6
         },
         "mode": "lines+markers",
         "name": "North Wales",
         "showlegend": false,
         "type": "scatter",
         "x": {
          "bdata": "2wfcB90H3gffB+AH4QfiB+MH5Ac=",
          "dtype": "i2"
         },
         "xaxis": "x39",
         "y": {
          "bdata": "AAAAAAAAAAA5cr/8sFCQPxdGK8k4V7m/MEzXSA0Kxb9mfhhQ9U3LvzgNjsAI6Ne/gafi4Has4L8HZnjLeIbqv2Mlmu5arO2/pitkBrXh7L8=",
          "dtype": "f8"
         },
         "yaxis": "y39"
        },
        {
         "hovertemplate": "%{y:.2f}%<extra>Percentage difference</extra>",
         "line": {
          "width": 2
         },
         "marker": {
          "size": 6
         },
         "mode": "lines+markers",
         "name": "Dyfed-Powys",
         "showlegend": false,
         "type": "scatter",
         "x": {
          "bdata": "2wfcB90H3gffB+AH4QfiB+MH5Ac=",
          "dtype": "i2"
         },
         "xaxis": "x40",
         "y": {
          "bdata": "AAAAAAAAAADX3UVD10yAP8oAIkUIkri/XfAZivQ8zr/rmej9U+rVvxnONBon692/AELIE5QT6b82R3BMryLzv7ZNshROWve/eZ+2aZNv878=",
          "dtype": "f8"
         },
         "yaxis": "y40"
        },
        {
         "hovertemplate": "%{y:.2f}%<extra>Percentage difference</extra>",
         "line": {
          "width": 2
         },
         "marker": {
          "size": 6
         },
         "mode": "lines+markers",
         "name": "South Wales",
         "showlegend": false,
         "type": "scatter",
         "x": {
          "bdata": "2wfcB90H3gffB+AH4QfiB+MH5Ac=",
          "dtype": "i2"
         },
         "xaxis": "x41",
         "y": {
          "bdata": "AAAAAAAAAABYSA6v1ya7vyPxp/zYONe/xgEgHcn54r9Lt+2zA6ztv/dplYEF4PK//uwqQyaK9b9n93mpJOH4v9CP7ghorP2/ZO+PWq73+b8=",
          "dtype": "f8"
         },
         "yaxis": "y41"
        },
        {
         "hovertemplate": "%{y:.2f}%<extra>Percentage difference</extra>",
         "line": {
          "width": 2
         },
         "marker": {
          "size": 6
         },
         "mode": "lines+markers",
         "name": "Gwent",
         "showlegend": false,
         "type": "scatter",
         "x": {
          "bdata": "2wfcB90H3gffB+AH4QfiB+MH5Ac=",
          "dtype": "i2"
         },
         "xaxis": "x42",
         "y": {
          "bdata": "AAAAAAAAAADLZCVMn0Syv4uzUlKZFs6/8bqA5Zww1b8Dt6DEEKfhvzkPfPZLBeW/NgMyX0Ou7L8p0qF5c+rxv+dPeTnxVfW/gjjsSvSw978=",
          "dtype": "f8"
         },
         "yaxis": "y42"
        }
       ],
       "layout": {
        "annotations": [
         {
          "font": {
           "size": 16
          },
          "showarrow": false,
          "text": "Cleveland",
          "x": 0.13999999999999999,
          "xanchor": "center",
          "xref": "paper",
          "y": 1,
          "yanchor": "bottom",
          "yref": "paper"
         },
         {
          "font": {
           "size": 16
          },
          "showarrow": false,
          "text": "Durham",
          "x": 0.49999999999999994,
          "xanchor": "center",
          "xref": "paper",
          "y": 1,
          "yanchor": "bottom",
          "yref": "paper"
         },
         {
          "font": {
           "size": 16
          },
          "showarrow": false,
          "text": "Cheshire",
          "x": 0.86,
          "xanchor": "center",
          "xref": "paper",
          "y": 1,
          "yanchor": "bottom",
          "yref": "paper"
         },
         {
          "font": {
           "size": 16
          },
          "showarrow": false,
          "text": "Lancashire",
          "x": 0.13999999999999999,
          "xanchor": "center",
          "xref": "paper",
          "y": 0.9271428571428572,
          "yanchor": "bottom",
          "yref": "paper"
         },
         {
          "font": {
           "size": 16
          },
          "showarrow": false,
          "text": "Humberside",
          "x": 0.49999999999999994,
          "xanchor": "center",
          "xref": "paper",
          "y": 0.9271428571428572,
          "yanchor": "bottom",
          "yref": "paper"
         },
         {
          "font": {
           "size": 16
          },
          "showarrow": false,
          "text": "North Yorkshire",
          "x": 0.86,
          "xanchor": "center",
          "xref": "paper",
          "y": 0.9271428571428572,
          "yanchor": "bottom",
          "yref": "paper"
         },
         {
          "font": {
           "size": 16
          },
          "showarrow": false,
          "text": "Derbyshire",
          "x": 0.13999999999999999,
          "xanchor": "center",
          "xref": "paper",
          "y": 0.8542857142857142,
          "yanchor": "bottom",
          "yref": "paper"
         },
         {
          "font": {
           "size": 16
          },
          "showarrow": false,
          "text": "Leicestershire",
          "x": 0.49999999999999994,
          "xanchor": "center",
          "xref": "paper",
          "y": 0.8542857142857142,
          "yanchor": "bottom",
          "yref": "paper"
         },
         {
          "font": {
           "size": 16
          },
          "showarrow": false,
          "text": "Nottinghamshire",
          "x": 0.86,
          "xanchor": "center",
          "xref": "paper",
          "y": 0.8542857142857142,
          "yanchor": "bottom",
          "yref": "paper"
         },
         {
          "font": {
           "size": 16
          },
          "showarrow": false,
          "text": "West Mercia",
          "x": 0.13999999999999999,
          "xanchor": "center",
          "xref": "paper",
          "y": 0.7814285714285715,
          "yanchor": "bottom",
          "yref": "paper"
         },
         {
          "font": {
           "size": 16
          },
          "showarrow": false,
          "text": "Staffordshire",
          "x": 0.49999999999999994,
          "xanchor": "center",
          "xref": "paper",
          "y": 0.7814285714285715,
          "yanchor": "bottom",
          "yref": "paper"
         },
         {
          "font": {
           "size": 16
          },
          "showarrow": false,
          "text": "Avon and Somerset",
          "x": 0.86,
          "xanchor": "center",
          "xref": "paper",
          "y": 0.7814285714285715,
          "yanchor": "bottom",
          "yref": "paper"
         },
         {
          "font": {
           "size": 16
          },
          "showarrow": false,
          "text": "Devon and Cornwall",
          "x": 0.13999999999999999,
          "xanchor": "center",
          "xref": "paper",
          "y": 0.7085714285714285,
          "yanchor": "bottom",
          "yref": "paper"
         },
         {
          "font": {
           "size": 16
          },
          "showarrow": false,
          "text": "Wiltshire",
          "x": 0.49999999999999994,
          "xanchor": "center",
          "xref": "paper",
          "y": 0.7085714285714285,
          "yanchor": "bottom",
          "yref": "paper"
         },
         {
          "font": {
           "size": 16
          },
          "showarrow": false,
          "text": "Cambridgeshire",
          "x": 0.86,
          "xanchor": "center",
          "xref": "paper",
          "y": 0.7085714285714285,
          "yanchor": "bottom",
          "yref": "paper"
         },
         {
          "font": {
           "size": 16
          },
          "showarrow": false,
          "text": "Bedfordshire",
          "x": 0.13999999999999999,
          "xanchor": "center",
          "xref": "paper",
          "y": 0.6357142857142857,
          "yanchor": "bottom",
          "yref": "paper"
         },
         {
          "font": {
           "size": 16
          },
          "showarrow": false,
          "text": "Essex",
          "x": 0.49999999999999994,
          "xanchor": "center",
          "xref": "paper",
          "y": 0.6357142857142857,
          "yanchor": "bottom",
          "yref": "paper"
         },
         {
          "font": {
           "size": 16
          },
          "showarrow": false,
          "text": "Kent",
          "x": 0.86,
          "xanchor": "center",
          "xref": "paper",
          "y": 0.6357142857142857,
          "yanchor": "bottom",
          "yref": "paper"
         },
         {
          "font": {
           "size": 16
          },
          "showarrow": false,
          "text": "Thames Valley",
          "x": 0.13999999999999999,
          "xanchor": "center",
          "xref": "paper",
          "y": 0.5628571428571428,
          "yanchor": "bottom",
          "yref": "paper"
         },
         {
          "font": {
           "size": 16
          },
          "showarrow": false,
          "text": "Sussex",
          "x": 0.49999999999999994,
          "xanchor": "center",
          "xref": "paper",
          "y": 0.5628571428571428,
          "yanchor": "bottom",
          "yref": "paper"
         },
         {
          "font": {
           "size": 16
          },
          "showarrow": false,
          "text": "Hampshire",
          "x": 0.86,
          "xanchor": "center",
          "xref": "paper",
          "y": 0.5628571428571428,
          "yanchor": "bottom",
          "yref": "paper"
         },
         {
          "font": {
           "size": 16
          },
          "showarrow": false,
          "text": "Northumbria",
          "x": 0.13999999999999999,
          "xanchor": "center",
          "xref": "paper",
          "y": 0.49000000000000005,
          "yanchor": "bottom",
          "yref": "paper"
         },
         {
          "font": {
           "size": 16
          },
          "showarrow": false,
          "text": "Dorset",
          "x": 0.49999999999999994,
          "xanchor": "center",
          "xref": "paper",
          "y": 0.49000000000000005,
          "yanchor": "bottom",
          "yref": "paper"
         },
         {
          "font": {
           "size": 16
          },
          "showarrow": false,
          "text": "Northamptonshire",
          "x": 0.86,
          "xanchor": "center",
          "xref": "paper",
          "y": 0.49000000000000005,
          "yanchor": "bottom",
          "yref": "paper"
         },
         {
          "font": {
           "size": 16
          },
          "showarrow": false,
          "text": "Cumbria",
          "x": 0.13999999999999999,
          "xanchor": "center",
          "xref": "paper",
          "y": 0.4171428571428572,
          "yanchor": "bottom",
          "yref": "paper"
         },
         {
          "font": {
           "size": 16
          },
          "showarrow": false,
          "text": "Gloucestershire",
          "x": 0.49999999999999994,
          "xanchor": "center",
          "xref": "paper",
          "y": 0.4171428571428572,
          "yanchor": "bottom",
          "yref": "paper"
         },
         {
          "font": {
           "size": 16
          },
          "showarrow": false,
          "text": "Hertfordshire",
          "x": 0.86,
          "xanchor": "center",
          "xref": "paper",
          "y": 0.4171428571428572,
          "yanchor": "bottom",
          "yref": "paper"
         },
         {
          "font": {
           "size": 16
          },
          "showarrow": false,
          "text": "Lincolnshire",
          "x": 0.13999999999999999,
          "xanchor": "center",
          "xref": "paper",
          "y": 0.3442857142857143,
          "yanchor": "bottom",
          "yref": "paper"
         },
         {
          "font": {
           "size": 16
          },
          "showarrow": false,
          "text": "Norfolk",
          "x": 0.49999999999999994,
          "xanchor": "center",
          "xref": "paper",
          "y": 0.3442857142857143,
          "yanchor": "bottom",
          "yref": "paper"
         },
         {
          "font": {
           "size": 16
          },
          "showarrow": false,
          "text": "Suffolk",
          "x": 0.86,
          "xanchor": "center",
          "xref": "paper",
          "y": 0.3442857142857143,
          "yanchor": "bottom",
          "yref": "paper"
         },
         {
          "font": {
           "size": 16
          },
          "showarrow": false,
          "text": "Surrey",
          "x": 0.13999999999999999,
          "xanchor": "center",
          "xref": "paper",
          "y": 0.27142857142857146,
          "yanchor": "bottom",
          "yref": "paper"
         },
         {
          "font": {
           "size": 16
          },
          "showarrow": false,
          "text": "Warwickshire",
          "x": 0.49999999999999994,
          "xanchor": "center",
          "xref": "paper",
          "y": 0.27142857142857146,
          "yanchor": "bottom",
          "yref": "paper"
         },
         {
          "font": {
           "size": 16
          },
          "showarrow": false,
          "text": "Greater Manchester",
          "x": 0.86,
          "xanchor": "center",
          "xref": "paper",
          "y": 0.27142857142857146,
          "yanchor": "bottom",
          "yref": "paper"
         },
         {
          "font": {
           "size": 16
          },
          "showarrow": false,
          "text": "Merseyside",
          "x": 0.13999999999999999,
          "xanchor": "center",
          "xref": "paper",
          "y": 0.19857142857142857,
          "yanchor": "bottom",
          "yref": "paper"
         },
         {
          "font": {
           "size": 16
          },
          "showarrow": false,
          "text": "South Yorkshire",
          "x": 0.49999999999999994,
          "xanchor": "center",
          "xref": "paper",
          "y": 0.19857142857142857,
          "yanchor": "bottom",
          "yref": "paper"
         },
         {
          "font": {
           "size": 16
          },
          "showarrow": false,
          "text": "West Midlands",
          "x": 0.86,
          "xanchor": "center",
          "xref": "paper",
          "y": 0.19857142857142857,
          "yanchor": "bottom",
          "yref": "paper"
         },
         {
          "font": {
           "size": 16
          },
          "showarrow": false,
          "text": "West Yorkshire",
          "x": 0.13999999999999999,
          "xanchor": "center",
          "xref": "paper",
          "y": 0.12571428571428572,
          "yanchor": "bottom",
          "yref": "paper"
         },
         {
          "font": {
           "size": 16
          },
          "showarrow": false,
          "text": "Metropolitan Police",
          "x": 0.49999999999999994,
          "xanchor": "center",
          "xref": "paper",
          "y": 0.12571428571428572,
          "yanchor": "bottom",
          "yref": "paper"
         },
         {
          "font": {
           "size": 16
          },
          "showarrow": false,
          "text": "North Wales",
          "x": 0.86,
          "xanchor": "center",
          "xref": "paper",
          "y": 0.12571428571428572,
          "yanchor": "bottom",
          "yref": "paper"
         },
         {
          "font": {
           "size": 16
          },
          "showarrow": false,
          "text": "Dyfed-Powys",
          "x": 0.13999999999999999,
          "xanchor": "center",
          "xref": "paper",
          "y": 0.05285714285714286,
          "yanchor": "bottom",
          "yref": "paper"
         },
         {
          "font": {
           "size": 16
          },
          "showarrow": false,
          "text": "South Wales",
          "x": 0.49999999999999994,
          "xanchor": "center",
          "xref": "paper",
          "y": 0.05285714285714286,
          "yanchor": "bottom",
          "yref": "paper"
         },
         {
          "font": {
           "size": 16
          },
          "showarrow": false,
          "text": "Gwent",
          "x": 0.86,
          "xanchor": "center",
          "xref": "paper",
          "y": 0.05285714285714286,
          "yanchor": "bottom",
          "yref": "paper"
         }
        ],
        "height": 4200,
        "margin": {
         "l": 30,
         "r": 15
        },
        "template": {
         "data": {
          "scatter": [
           {
            "line": {
             "width": 4
            },
            "marker": {
             "size": 10
            },
            "type": "scatter"
           }
          ]
         },
         "layout": {
          "colorway": [
           "#A01D28",
           "#499CC9",
           "#F9A237",
           "#6FBA3A",
           "#573D6B"
          ],
          "dragmode": false,
          "font": {
           "color": "#54565B",
           "family": "Helvetica Neue, Arial",
           "size": 14
          },
          "height": 360,
          "margin": {
           "b": 70,
           "l": 40,
           "r": 100,
           "t": 80
          },
          "modebar": {
           "activecolor": "#A01D28"
          },
          "paper_bgcolor": "#F7F2F2",
          "plot_bgcolor": "#F7F2F2",
          "showlegend": false,
          "title": {
           "font": {
            "family": "Helvetica Neue, Arial",
            "size": 20
           },
           "y": 0.94,
           "yanchor": "bottom"
          },
          "width": 655,
          "xaxis": {
           "gridcolor": "rgba(84, 86, 91, 0.15)",
           "showgrid": false,
           "tickcolor": "#54565B",
           "ticks": "outside"
          },
          "yaxis": {
           "gridcolor": "rgba(84, 86, 91, 0.15)"
          }
         }
        },
        "xaxis": {
         "anchor": "y",
         "domain": [
          0,
          0.27999999999999997
         ],
         "nticks": 6
        },
        "xaxis10": {
         "anchor": "y10",
         "domain": [
          0,
          0.27999999999999997
         ],
         "nticks": 6
        },
        "xaxis11": {
         "anchor": "y11",
         "domain": [
          0.36,
          0.6399999999999999
         ],
         "nticks": 6
        },
        "xaxis12": {
         "anchor": "y12",
         "domain": [
          0.72,
          1
         ],
         "nticks": 6
        },
        "xaxis13": {
         "anchor": "y13",
         "domain": [
          0,
          0.27999999999999997
         ],
         "nticks": 6
        },
        "xaxis14": {
         "anchor": "y14",
         "domain": [
          0.36,
          0.6399999999999999
         ],
         "nticks": 6
        },
        "xaxis15": {
         "anchor": "y15",
         "domain": [
          0.72,
          1
         ],
         "nticks": 6
        },
        "xaxis16": {
         "anchor": "y16",
         "domain": [
          0,
          0.27999999999999997
         ],
         "nticks": 6
        },
        "xaxis17": {
         "anchor": "y17",
         "domain": [
          0.36,
          0.6399999999999999
         ],
         "nticks": 6
        },
        "xaxis18": {
         "anchor": "y18",
         "domain": [
          0.72,
          1
         ],
         "nticks": 6
        },
        "xaxis19": {
         "anchor": "y19",
         "domain": [
          0,
          0.27999999999999997
         ],
         "nticks": 6
        },
        "xaxis2": {
         "anchor": "y2",
         "domain": [
          0.36,
          0.6399999999999999
         ],
         "nticks": 6
        },
        "xaxis20": {
         "anchor": "y20",
         "domain": [
          0.36,
          0.6399999999999999
         ],
         "nticks": 6
        },
        "xaxis21": {
         "anchor": "y21",
         "domain": [
          0.72,
          1
         ],
         "nticks": 6
        },
        "xaxis22": {
         "anchor": "y22",
         "domain": [
          0,
          0.27999999999999997
         ],
         "nticks": 6
        },
        "xaxis23": {
         "anchor": "y23",
         "domain": [
          0.36,
          0.6399999999999999
         ],
         "nticks": 6
        },
        "xaxis24": {
         "anchor": "y24",
         "domain": [
          0.72,
          1
         ],
         "nticks": 6
        },
        "xaxis25": {
         "anchor": "y25",
         "domain": [
          0,
          0.27999999999999997
         ],
         "nticks": 6
        },
        "xaxis26": {
         "anchor": "y26",
         "domain": [
          0.36,
          0.6399999999999999
         ],
         "nticks": 6
        },
        "xaxis27": {
         "anchor": "y27",
         "domain": [
          0.72,
          1
         ],
         "nticks": 6
        },
        "xaxis28": {
         "anchor": "y28",
         "domain": [
          0,
          0.27999999999999997
         ],
         "nticks": 6
        },
        "xaxis29": {
         "anchor": "y29",
         "domain": [
          0.36,
          0.6399999999999999
         ],
         "nticks": 6
        },
        "xaxis3": {
         "anchor": "y3",
         "domain": [
          0.72,
          1
         ],
         "nticks": 6
        },
        "xaxis30": {
         "anchor": "y30",
         "domain": [
          0.72,
          1
         ],
         "nticks": 6
        },
        "xaxis31": {
         "anchor": "y31",
         "domain": [
          0,
          0.27999999999999997
         ],
         "nticks": 6
        },
        "xaxis32": {
         "anchor": "y32",
         "domain": [
          0.36,
          0.6399999999999999
         ],
         "nticks": 6
        },
        "xaxis33": {
         "anchor": "y33",
         "domain": [
          0.72,
          1
         ],
         "nticks": 6
        },
        "xaxis34": {
         "anchor": "y34",
         "domain": [
          0,
          0.27999999999999997
         ],
         "nticks": 6
        },
        "xaxis35": {
         "anchor": "y35",
         "domain": [
          0.36,
          0.6399999999999999
         ],
         "nticks": 6
        },
        "xaxis36": {
         "anchor": "y36",
         "domain": [
          0.72,
          1
         ],
         "nticks": 6
        },
        "xaxis37": {
         "anchor": "y37",
         "domain": [
          0,
          0.27999999999999997
         ],
         "nticks": 6
        },
        "xaxis38": {
         "anchor": "y38",
         "domain": [
          0.36,
          0.6399999999999999
         ],
         "nticks": 6
        },
        "xaxis39": {
         "anchor": "y39",
         "domain": [
          0.72,
          1
         ],
         "nticks": 6
        },
        "xaxis4": {
         "anchor": "y4",
         "domain": [
          0,
          0.27999999999999997
         ],
         "nticks": 6
        },
        "xaxis40": {
         "anchor": "y40",
         "domain": [
          0,
          0.27999999999999997
         ],
         "nticks": 6
        },
        "xaxis41": {
         "anchor": "y41",
         "domain": [
          0.36,
          0.6399999999999999
         ],
         "nticks": 6
        },
        "xaxis42": {
         "anchor": "y42",
         "domain": [
          0.72,
          1
         ],
         "nticks": 6
        },
        "xaxis5": {
         "anchor": "y5",
         "domain": [
          0.36,
          0.6399999999999999
         ],
         "nticks": 6
        },
        "xaxis6": {
         "anchor": "y6",
         "domain": [
          0.72,
          1
         ],
         "nticks": 6
        },
        "xaxis7": {
         "anchor": "y7",
         "domain": [
          0,
          0.27999999999999997
         ],
         "nticks": 6
        },
        "xaxis8": {
         "anchor": "y8",
         "domain": [
          0.36,
          0.6399999999999999
         ],
         "nticks": 6
        },
        "xaxis9": {
         "anchor": "y9",
         "domain": [
          0.72,
          1
         ],
         "nticks": 6
        },
        "yaxis": {
         "anchor": "x",
         "domain": [
          0.9471428571428572,
          1
         ],
         "nticks": 5,
         "range": [
          -2.1,
          6.1
         ],
         "ticksuffix": "%"
        },
        "yaxis10": {
         "anchor": "x10",
         "domain": [
          0.7285714285714286,
          0.7814285714285715
         ],
         "nticks": 5,
         "range": [
          -2.1,
          6.1
         ],
         "ticksuffix": "%"
        },
        "yaxis11": {
         "anchor": "x11",
         "domain": [
          0.7285714285714286,
          0.7814285714285715
         ],
         "nticks": 5,
         "range": [
          -2.1,
          6.1
         ],
         "ticksuffix": "%"
        },
        "yaxis12": {
         "anchor": "x12",
         "domain": [
          0.7285714285714286,
          0.7814285714285715
         ],
         "nticks": 5,
         "range": [
          -2.1,
          6.1
         ],
         "ticksuffix": "%"
        },
        "yaxis13": {
         "anchor": "x13",
         "domain": [
          0.6557142857142857,
          0.7085714285714285
         ],
         "nticks": 5,
         "range": [
          -2.1,
          6.1
         ],
         "ticksuffix": "%"
        },
        "yaxis14": {
         "anchor": "x14",
         "domain": [
          0.6557142857142857,
          0.7085714285714285
         ],
         "nticks": 5,
         "range": [
          -2.1,
          6.1
         ],
         "ticksuffix": "%"
        },
        "yaxis15": {
         "anchor": "x15",
         "domain": [
          0.6557142857142857,
          0.7085714285714285
         ],
         "nticks": 5,
         "range": [
          -2.1,
          6.1
         ],
         "ticksuffix": "%"
        },
        "yaxis16": {
         "anchor": "x16",
         "domain": [
          0.5828571428571429,
          0.6357142857142857
         ],
         "nticks": 5,
         "range": [
          -2.1,
          6.1
         ],
         "ticksuffix": "%"
        },
        "yaxis17": {
         "anchor": "x17",
         "domain": [
          0.5828571428571429,
          0.6357142857142857
         ],
         "nticks": 5,
         "range": [
          -2.1,
          6.1
         ],
         "ticksuffix": "%"
        },
        "yaxis18": {
         "anchor": "x18",
         "domain": [
          0.5828571428571429,
          0.6357142857142857
         ],
         "nticks": 5,
         "range": [
          -2.1,
          6.1
         ],
         "ticksuffix": "%"
        },
        "yaxis19": {
         "anchor": "x19",
         "domain": [
          0.51,
          0.5628571428571428
         ],
         "nticks": 5,
         "range": [
          -2.1,
          6.1
         ],
         "ticksuffix": "%"
        },
        "yaxis2": {
         "anchor": "x2",
         "domain": [
          0.9471428571428572,
          1
         ],
         "nticks": 5,
         "range": [
          -2.1,
          6.1
         ],
         "ticksuffix": "%"
        },
        "yaxis20": {
         "anchor": "x20",
         "domain": [
          0.51,
          0.5628571428571428
         ],
         "nticks": 5,
         "range": [
          -2.1,
          6.1
         ],
         "ticksuffix": "%"
        },
        "yaxis21": {
         "anchor": "x21",
         "domain": [
          0.51,
          0.5628571428571428
         ],
         "nticks": 5,
         "range": [
          -2.1,
          6.1
         ],
         "ticksuffix": "%"
        },
        "yaxis22": {
         "anchor": "x22",
         "domain": [
          0.43714285714285717,
          0.49000000000000005
         ],
         "nticks": 5,
         "range": [
          -2.1,
          6.1
         ],
         "ticksuffix": "%"
        },
        "yaxis23": {
         "anchor": "x23",
         "domain": [
          0.43714285714285717,
          0.49000000000000005
         ],
         "nticks": 5,
         "range": [
          -2.1,
          6.1
         ],
         "ticksuffix": "%"
        },
        "yaxis24": {
         "anchor": "x24",
         "domain": [
          0.43714285714285717,
          0.49000000000000005
         ],
         "nticks": 5,
         "range": [
          -2.1,
          6.1
         ],
         "ticksuffix": "%"
        },
        "yaxis25": {
         "anchor": "x25",
         "domain": [
          0.3642857142857143,
          0.4171428571428572
         ],
         "nticks": 5,
         "range": [
          -2.1,
          6.1
         ],
         "ticksuffix": "%"
        },
        "yaxis26": {
         "anchor": "x26",
         "domain": [
          0.3642857142857143,
          0.4171428571428572
         ],
         "nticks": 5,
         "range": [
          -2.1,
          6.1
         ],
         "ticksuffix": "%"
        },
        "yaxis27": {
         "anchor": "x27",
         "domain": [
          0.3642857142857143,
          0.4171428571428572
         ],
         "nticks": 5,
         "range": [
          -2.1,
          6.1
         ],
         "ticksuffix": "%"
        },
        "yaxis28": {
         "anchor": "x28",
         "domain": [
          0.2914285714285714,
          0.3442857142857143
         ],
         "nticks": 5,
         "range": [
          -2.1,
          6.1
         ],
         "ticksuffix": "%"
        },
        "yaxis29": {
         "anchor": "x29",
         "domain": [
          0.2914285714285714,
          0.3442857142857143
         ],
         "nticks": 5,
         "range": [
          -2.1,
          6.1
         ],
         "ticksuffix": "%"
        },
        "yaxis3": {
         "anchor": "x3",
         "domain": [
          0.9471428571428572,
          1
         ],
         "nticks": 5,
         "range": [
          -2.1,
          6.1
         ],
         "ticksuffix": "%"
        },
        "yaxis30": {
         "anchor": "x30",
         "domain": [
          0.2914285714285714,
          0.3442857142857143
         ],
         "nticks": 5,
         "range": [
          -2.1,
          6.1
         ],
         "ticksuffix": "%"
        },
        "yaxis31": {
         "anchor": "x31",
         "domain": [
          0.21857142857142858,
          0.27142857142857146
         ],
         "nticks": 5,
         "range": [
          -2.1,
          6.1
         ],
         "ticksuffix": "%"
        },
        "yaxis32": {
         "anchor": "x32",
         "domain": [
          0.21857142857142858,
          0.27142857142857146
         ],
         "nticks": 5,
         "range": [
          -2.1,
          6.1
         ],
         "ticksuffix": "%"
        },
        "yaxis33": {
         "anchor": "x33",
         "domain": [
          0.21857142857142858,
          0.27142857142857146
         ],
         "nticks": 5,
         "range": [
          -2.1,
          6.1
         ],
         "ticksuffix": "%"
        },
        "yaxis34": {
         "anchor": "x34",
         "domain": [
          0.1457142857142857,
          0.19857142857142857
         ],
         "nticks": 5,
         "range": [
          -2.1,
          6.1
         ],
         "ticksuffix": "%"
        },
        "yaxis35": {
         "anchor": "x35",
         "domain": [
          0.1457142857142857,
          0.19857142857142857
         ],
         "nticks": 5,
         "range": [
          -2.1,
          6.1
         ],
         "ticksuffix": "%"
        },
        "yaxis36": {
         "anchor": "x36",
         "domain": [
          0.1457142857142857,
          0.19857142857142857
         ],
         "nticks": 5,
         "range": [
          -2.1,
          6.1
         ],
         "ticksuffix": "%"
        },
        "yaxis37": {
         "anchor": "x37",
         "domain": [
          0.07285714285714286,
          0.12571428571428572
         ],
         "nticks": 5,
         "range": [
          -2.1,
          6.1
         ],
         "ticksuffix": "%"
        },
        "yaxis38": {
         "anchor": "x38",
         "domain": [
          0.07285714285714286,
          0.12571428571428572
         ],
         "nticks": 5,
         "range": [
          -2.1,
          6.1
         ],
         "ticksuffix": "%"
        },
        "yaxis39": {
         "anchor": "x39",
         "domain": [
          0.07285714285714286,
          0.12571428571428572
         ],
         "nticks": 5,
         "range": [
          -2.1,
          6.1
         ],
         "ticksuffix": "%"
        },
        "yaxis4": {
         "anchor": "x4",
         "domain": [
          0.8742857142857143,
          0.9271428571428572
         ],
         "nticks": 5,
         "range": [
          -2.1,
          6.1
         ],
         "ticksuffix": "%"
        },
        "yaxis40": {
         "anchor": "x40",
         "domain": [
          0,
          0.05285714285714286
         ],
         "nticks": 5,
         "range": [
          -2.1,
          6.1
         ],
         "ticksuffix": "%"
        },
        "yaxis41": {
         "anchor": "x41",
         "domain": [
          0,
          0.05285714285714286
         ],
         "nticks": 5,
         "range": [
          -2.1,
          6.1
         ],
         "ticksuffix": "%"
        },
        "yaxis42": {
         "anchor": "x42",
         "domain": [
          0,
          0.05285714285714286
         ],
         "nticks": 5,
         "range": [
          -2.1,
          6.1
         ],
         "ticksuffix": "%"
        },
        "yaxis5": {
         "anchor": "x5",
         "domain": [
          0.8742857142857143,
          0.9271428571428572
         ],
         "nticks": 5,
         "range": [
          -2.1,
          6.1
         ],
         "ticksuffix": "%"
        },
        "yaxis6": {
         "anchor": "x6",
         "domain": [
          0.8742857142857143,
          0.9271428571428572
         ],
         "nticks": 5,
         "range": [
          -2.1,
          6.1
         ],
         "ticksuffix": "%"
        },
        "yaxis7": {
         "anchor": "x7",
         "domain": [
          0.8014285714285714,
          0.8542857142857142
         ],
         "nticks": 5,
         "range": [
          -2.1,
          6.1
         ],
         "ticksuffix": "%"
        },
        "yaxis8": {
         "anchor": "x8",
         "domain": [
          0.8014285714285714,
          0.8542857142857142
         ],
         "nticks": 5,
         "range": [
          -2.1,
          6.1
         ],
         "ticksuffix": "%"
        },
        "yaxis9": {
         "anchor": "x9",
         "domain": [
          0.8014285714285714,
          0.8542857142857142
         ],
         "nticks": 5,
         "range": [
          -2.1,
          6.1
         ],
         "ticksuffix": "%"
        }
       }
      }
     },
     "metadata": {},
     "output_type": "display_data"
    }
   ],
   "source": [
    "no_modebar = {'displayModeBar': False}\n",
    "# Filter data for visualization\n",
    "sample_pfas = comparison_results['PFA'].unique()\n",
    "\n",
    "# Dynamically calculate vertical spacing based on the number of rows\n",
    "num_cols = 3\n",
    "num_rows = -(-len(sample_pfas) // num_cols)  # Ceiling division to determine rows\n",
    "max_vertical_spacing = 1 / (num_rows - 1) if num_rows > 1 else 0.1\n",
    "vertical_spacing = min(0.02, max_vertical_spacing)  # Use 0.02 or the maximum allowed value\n",
    "\n",
    "# Create subplots\n",
    "fig = make_subplots(\n",
    "    rows=num_rows, cols=num_cols,\n",
    "    subplot_titles=sample_pfas,\n",
    "    vertical_spacing=vertical_spacing,\n",
    "    horizontal_spacing=0.08\n",
    ")\n",
    "\n",
    "for i, pfa in enumerate(sample_pfas):\n",
    "    pfa_data = comparison_results[comparison_results['PFA'] == pfa]\n",
    "    \n",
    "    # Calculate row and column position (Plotly uses 1-based indexing)\n",
    "    row = (i // num_cols) + 1\n",
    "    col = (i % num_cols) + 1\n",
    "    \n",
    "    fig.add_trace(\n",
    "        go.Scatter(\n",
    "            x=pfa_data['Year'],\n",
    "            y=pfa_data['Percentage Difference'],\n",
    "            mode='lines+markers',\n",
    "            name=pfa,\n",
    "            showlegend=False,\n",
    "            line=dict(width=2),\n",
    "            marker=dict(size=6),\n",
    "            hovertemplate=\"%{y:.2f}%<extra>Percentage difference</extra>\",\n",
    "        ),\n",
    "        row=row, col=col\n",
    "    )\n",
    "\n",
    "# Update layout\n",
    "fig.update_layout(\n",
    "    margin=dict(l=30, r=15),\n",
    "    height=300 * num_rows,  # Adjust height dynamically based on rows\n",
    "    # title_text=\"Percentage Differences in Population by PFA (New vs Old Data)\",\n",
    ")\n",
    "\n",
    "# Update x and y axis labels\n",
    "fig.update_xaxes(nticks=6)\n",
    "fig.update_yaxes(nticks=5, ticksuffix=\"%\", range=[-2.1, 6.1])\n",
    "\n",
    "fig.show(config=no_modebar)"
   ]
  },
  {
   "cell_type": "markdown",
   "id": "2fd56da3",
   "metadata": {},
   "source": [
    "### Checking which local authorities are represented in those PFAs with the largest differences"
   ]
  },
  {
   "cell_type": "markdown",
   "id": "006eebe4",
   "metadata": {},
   "source": [
    "* Cambridgeshire\n",
    "* Bedfordshire\n",
    "* Thames Valley\n",
    "* Metropolitan Police"
   ]
  },
  {
   "cell_type": "code",
   "execution_count": 26,
   "id": "998e5b34",
   "metadata": {},
   "outputs": [
    {
     "data": {
      "text/html": [
       "<div>\n",
       "<style scoped>\n",
       "    .dataframe tbody tr th:only-of-type {\n",
       "        vertical-align: middle;\n",
       "    }\n",
       "\n",
       "    .dataframe tbody tr th {\n",
       "        vertical-align: top;\n",
       "    }\n",
       "\n",
       "    .dataframe thead th {\n",
       "        text-align: right;\n",
       "    }\n",
       "</style>\n",
       "<table border=\"1\" class=\"dataframe\">\n",
       "  <thead>\n",
       "    <tr style=\"text-align: right;\">\n",
       "      <th></th>\n",
       "      <th>ladcode</th>\n",
       "      <th>laname</th>\n",
       "      <th>year</th>\n",
       "      <th>freq</th>\n",
       "      <th>pfa</th>\n",
       "    </tr>\n",
       "  </thead>\n",
       "  <tbody>\n",
       "    <tr>\n",
       "      <th>673</th>\n",
       "      <td>E06000036</td>\n",
       "      <td>Bracknell Forest</td>\n",
       "      <td>2014</td>\n",
       "      <td>45845</td>\n",
       "      <td>Thames Valley</td>\n",
       "    </tr>\n",
       "    <tr>\n",
       "      <th>693</th>\n",
       "      <td>E06000037</td>\n",
       "      <td>West Berkshire</td>\n",
       "      <td>2014</td>\n",
       "      <td>61448</td>\n",
       "      <td>Thames Valley</td>\n",
       "    </tr>\n",
       "    <tr>\n",
       "      <th>713</th>\n",
       "      <td>E06000038</td>\n",
       "      <td>Reading</td>\n",
       "      <td>2014</td>\n",
       "      <td>62159</td>\n",
       "      <td>Thames Valley</td>\n",
       "    </tr>\n",
       "    <tr>\n",
       "      <th>733</th>\n",
       "      <td>E06000039</td>\n",
       "      <td>Slough</td>\n",
       "      <td>2014</td>\n",
       "      <td>52590</td>\n",
       "      <td>Thames Valley</td>\n",
       "    </tr>\n",
       "    <tr>\n",
       "      <th>753</th>\n",
       "      <td>E06000040</td>\n",
       "      <td>Windsor and Maidenhead</td>\n",
       "      <td>2014</td>\n",
       "      <td>58573</td>\n",
       "      <td>Thames Valley</td>\n",
       "    </tr>\n",
       "    <tr>\n",
       "      <th>773</th>\n",
       "      <td>E06000041</td>\n",
       "      <td>Wokingham</td>\n",
       "      <td>2014</td>\n",
       "      <td>62817</td>\n",
       "      <td>Thames Valley</td>\n",
       "    </tr>\n",
       "    <tr>\n",
       "      <th>793</th>\n",
       "      <td>E06000042</td>\n",
       "      <td>Milton Keynes</td>\n",
       "      <td>2014</td>\n",
       "      <td>99507</td>\n",
       "      <td>Thames Valley</td>\n",
       "    </tr>\n",
       "    <tr>\n",
       "      <th>1133</th>\n",
       "      <td>E06000060</td>\n",
       "      <td>Buckinghamshire</td>\n",
       "      <td>2014</td>\n",
       "      <td>207716</td>\n",
       "      <td>Thames Valley</td>\n",
       "    </tr>\n",
       "    <tr>\n",
       "      <th>3713</th>\n",
       "      <td>E07000177</td>\n",
       "      <td>Cherwell</td>\n",
       "      <td>2014</td>\n",
       "      <td>57109</td>\n",
       "      <td>Thames Valley</td>\n",
       "    </tr>\n",
       "    <tr>\n",
       "      <th>3733</th>\n",
       "      <td>E07000178</td>\n",
       "      <td>Oxford</td>\n",
       "      <td>2014</td>\n",
       "      <td>62277</td>\n",
       "      <td>Thames Valley</td>\n",
       "    </tr>\n",
       "    <tr>\n",
       "      <th>3753</th>\n",
       "      <td>E07000179</td>\n",
       "      <td>South Oxfordshire</td>\n",
       "      <td>2014</td>\n",
       "      <td>55167</td>\n",
       "      <td>Thames Valley</td>\n",
       "    </tr>\n",
       "    <tr>\n",
       "      <th>3773</th>\n",
       "      <td>E07000180</td>\n",
       "      <td>Vale of White Horse</td>\n",
       "      <td>2014</td>\n",
       "      <td>49793</td>\n",
       "      <td>Thames Valley</td>\n",
       "    </tr>\n",
       "    <tr>\n",
       "      <th>3793</th>\n",
       "      <td>E07000181</td>\n",
       "      <td>West Oxfordshire</td>\n",
       "      <td>2014</td>\n",
       "      <td>43722</td>\n",
       "      <td>Thames Valley</td>\n",
       "    </tr>\n",
       "  </tbody>\n",
       "</table>\n",
       "</div>"
      ],
      "text/plain": [
       "        ladcode                  laname  year    freq            pfa\n",
       "673   E06000036        Bracknell Forest  2014   45845  Thames Valley\n",
       "693   E06000037          West Berkshire  2014   61448  Thames Valley\n",
       "713   E06000038                 Reading  2014   62159  Thames Valley\n",
       "733   E06000039                  Slough  2014   52590  Thames Valley\n",
       "753   E06000040  Windsor and Maidenhead  2014   58573  Thames Valley\n",
       "773   E06000041               Wokingham  2014   62817  Thames Valley\n",
       "793   E06000042           Milton Keynes  2014   99507  Thames Valley\n",
       "1133  E06000060         Buckinghamshire  2014  207716  Thames Valley\n",
       "3713  E07000177                Cherwell  2014   57109  Thames Valley\n",
       "3733  E07000178                  Oxford  2014   62277  Thames Valley\n",
       "3753  E07000179       South Oxfordshire  2014   55167  Thames Valley\n",
       "3773  E07000180     Vale of White Horse  2014   49793  Thames Valley\n",
       "3793  E07000181        West Oxfordshire  2014   43722  Thames Valley"
      ]
     },
     "execution_count": 26,
     "metadata": {},
     "output_type": "execute_result"
    }
   ],
   "source": [
    "df_old_qa.query('pfa == \"Thames Valley\" and year == 2014')"
   ]
  },
  {
   "cell_type": "code",
   "execution_count": 27,
   "id": "8e651d26",
   "metadata": {},
   "outputs": [
    {
     "data": {
      "text/html": [
       "<div>\n",
       "<style scoped>\n",
       "    .dataframe tbody tr th:only-of-type {\n",
       "        vertical-align: middle;\n",
       "    }\n",
       "\n",
       "    .dataframe tbody tr th {\n",
       "        vertical-align: top;\n",
       "    }\n",
       "\n",
       "    .dataframe thead th {\n",
       "        text-align: right;\n",
       "    }\n",
       "</style>\n",
       "<table border=\"1\" class=\"dataframe\">\n",
       "  <thead>\n",
       "    <tr style=\"text-align: right;\">\n",
       "      <th></th>\n",
       "      <th>ladcode</th>\n",
       "      <th>laname</th>\n",
       "      <th>year</th>\n",
       "      <th>freq</th>\n",
       "      <th>pfa</th>\n",
       "    </tr>\n",
       "  </thead>\n",
       "  <tbody>\n",
       "    <tr>\n",
       "      <th>432</th>\n",
       "      <td>E06000036</td>\n",
       "      <td>Bracknell Forest</td>\n",
       "      <td>2014</td>\n",
       "      <td>46063</td>\n",
       "      <td>Thames Valley</td>\n",
       "    </tr>\n",
       "    <tr>\n",
       "      <th>445</th>\n",
       "      <td>E06000037</td>\n",
       "      <td>West Berkshire</td>\n",
       "      <td>2014</td>\n",
       "      <td>61927</td>\n",
       "      <td>Thames Valley</td>\n",
       "    </tr>\n",
       "    <tr>\n",
       "      <th>458</th>\n",
       "      <td>E06000038</td>\n",
       "      <td>Reading</td>\n",
       "      <td>2014</td>\n",
       "      <td>65617</td>\n",
       "      <td>Thames Valley</td>\n",
       "    </tr>\n",
       "    <tr>\n",
       "      <th>471</th>\n",
       "      <td>E06000039</td>\n",
       "      <td>Slough</td>\n",
       "      <td>2014</td>\n",
       "      <td>54458</td>\n",
       "      <td>Thames Valley</td>\n",
       "    </tr>\n",
       "    <tr>\n",
       "      <th>484</th>\n",
       "      <td>E06000040</td>\n",
       "      <td>Windsor and Maidenhead</td>\n",
       "      <td>2014</td>\n",
       "      <td>59637</td>\n",
       "      <td>Thames Valley</td>\n",
       "    </tr>\n",
       "    <tr>\n",
       "      <th>497</th>\n",
       "      <td>E06000041</td>\n",
       "      <td>Wokingham</td>\n",
       "      <td>2014</td>\n",
       "      <td>63109</td>\n",
       "      <td>Thames Valley</td>\n",
       "    </tr>\n",
       "    <tr>\n",
       "      <th>510</th>\n",
       "      <td>E06000042</td>\n",
       "      <td>Milton Keynes</td>\n",
       "      <td>2014</td>\n",
       "      <td>102025</td>\n",
       "      <td>Thames Valley</td>\n",
       "    </tr>\n",
       "    <tr>\n",
       "      <th>731</th>\n",
       "      <td>E06000060</td>\n",
       "      <td>Buckinghamshire</td>\n",
       "      <td>2014</td>\n",
       "      <td>209681</td>\n",
       "      <td>Thames Valley</td>\n",
       "    </tr>\n",
       "    <tr>\n",
       "      <th>2291</th>\n",
       "      <td>E07000177</td>\n",
       "      <td>Cherwell</td>\n",
       "      <td>2014</td>\n",
       "      <td>58044</td>\n",
       "      <td>Thames Valley</td>\n",
       "    </tr>\n",
       "    <tr>\n",
       "      <th>2304</th>\n",
       "      <td>E07000178</td>\n",
       "      <td>Oxford</td>\n",
       "      <td>2014</td>\n",
       "      <td>64558</td>\n",
       "      <td>Thames Valley</td>\n",
       "    </tr>\n",
       "    <tr>\n",
       "      <th>2317</th>\n",
       "      <td>E07000179</td>\n",
       "      <td>South Oxfordshire</td>\n",
       "      <td>2014</td>\n",
       "      <td>55939</td>\n",
       "      <td>Thames Valley</td>\n",
       "    </tr>\n",
       "    <tr>\n",
       "      <th>2330</th>\n",
       "      <td>E07000180</td>\n",
       "      <td>Vale of White Horse</td>\n",
       "      <td>2014</td>\n",
       "      <td>50019</td>\n",
       "      <td>Thames Valley</td>\n",
       "    </tr>\n",
       "    <tr>\n",
       "      <th>2343</th>\n",
       "      <td>E07000181</td>\n",
       "      <td>West Oxfordshire</td>\n",
       "      <td>2014</td>\n",
       "      <td>44000</td>\n",
       "      <td>Thames Valley</td>\n",
       "    </tr>\n",
       "  </tbody>\n",
       "</table>\n",
       "</div>"
      ],
      "text/plain": [
       "        ladcode                  laname  year    freq            pfa\n",
       "432   E06000036        Bracknell Forest  2014   46063  Thames Valley\n",
       "445   E06000037          West Berkshire  2014   61927  Thames Valley\n",
       "458   E06000038                 Reading  2014   65617  Thames Valley\n",
       "471   E06000039                  Slough  2014   54458  Thames Valley\n",
       "484   E06000040  Windsor and Maidenhead  2014   59637  Thames Valley\n",
       "497   E06000041               Wokingham  2014   63109  Thames Valley\n",
       "510   E06000042           Milton Keynes  2014  102025  Thames Valley\n",
       "731   E06000060         Buckinghamshire  2014  209681  Thames Valley\n",
       "2291  E07000177                Cherwell  2014   58044  Thames Valley\n",
       "2304  E07000178                  Oxford  2014   64558  Thames Valley\n",
       "2317  E07000179       South Oxfordshire  2014   55939  Thames Valley\n",
       "2330  E07000180     Vale of White Horse  2014   50019  Thames Valley\n",
       "2343  E07000181        West Oxfordshire  2014   44000  Thames Valley"
      ]
     },
     "execution_count": 27,
     "metadata": {},
     "output_type": "execute_result"
    }
   ],
   "source": [
    "df.query('pfa == \"Thames Valley\" and year == 2014')"
   ]
  },
  {
   "cell_type": "markdown",
   "id": "4adfc183",
   "metadata": {},
   "source": [
    "The following table shows the local authorities that are represented in the PFAs with the largest differences between the 2021 rolled-forward and 2021 Census-based mid-year estimates.\n",
    "| Police Force Area | Local Authority | ONS % difference |\n",
    "| ----------------- | --------------- | ---------------- |\n",
    "| Cambridgeshire    | Cambridge       | \\-15.66          |\n",
    "| Cambridgeshire    | Peterborough    | \\-6.53           |\n",
    "| Bedfordshire      | Luton           | \\-5.69           |\n",
    "| Thames Valley     | Reading         | \\-9.57           |\n",
    "| Thames Valley     | Slough          | \\-6.53           |\n",
    "| Thames Valley     | Oxford          | \\-5.56           |"
   ]
  },
  {
   "cell_type": "markdown",
   "id": "1fe0de4c",
   "metadata": {},
   "source": [
    "In addition, the ONS highlights that London population estimates also saw larger differences."
   ]
  },
  {
   "cell_type": "markdown",
   "id": "ce082201",
   "metadata": {},
   "source": [
    "## Final thoughts\n",
    "The analysis shows that the changes to the ONS population data have had a minimal impact on the overall population of the PFAs, and that the differences in population values are very small. The newly created UAs have had a very modest impact on the overall population of the PFAs, and the differences in population values remain within an acceptable margin of error."
   ]
  },
  {
   "cell_type": "code",
   "execution_count": null,
   "id": "3dc9453c",
   "metadata": {},
   "outputs": [],
   "source": []
  }
 ],
 "metadata": {
  "kernelspec": {
   "display_name": "envs",
   "language": "python",
   "name": "python3"
  },
  "language_info": {
   "codemirror_mode": {
    "name": "ipython",
    "version": 3
   },
   "file_extension": ".py",
   "mimetype": "text/x-python",
   "name": "python",
   "nbconvert_exporter": "python",
   "pygments_lexer": "ipython3",
   "version": "3.13.5"
  }
 },
 "nbformat": 4,
 "nbformat_minor": 5
}
