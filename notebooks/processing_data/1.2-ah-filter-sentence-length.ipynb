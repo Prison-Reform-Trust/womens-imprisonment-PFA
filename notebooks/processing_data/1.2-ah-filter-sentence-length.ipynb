{
 "cells": [
  {
   "cell_type": "markdown",
   "id": "119b4e19",
   "metadata": {},
   "source": [
    "# Filtering by custodial sentence length"
   ]
  },
  {
   "cell_type": "code",
   "execution_count": null,
   "id": "cf4a56cf",
   "metadata": {},
   "outputs": [],
   "source": [
    "import pandas as pd"
   ]
  },
  {
   "cell_type": "code",
   "execution_count": null,
   "id": "9fd9609d",
   "metadata": {},
   "outputs": [],
   "source": [
    "%load_ext autoreload\n",
    "%autoreload 2"
   ]
  },
  {
   "cell_type": "code",
   "execution_count": null,
   "id": "abcdcbdd",
   "metadata": {},
   "outputs": [],
   "source": [
    "from src.data.processing import filter_sentence_length"
   ]
  },
  {
   "cell_type": "code",
   "execution_count": null,
   "id": "627353c0",
   "metadata": {},
   "outputs": [],
   "source": [
    "df = filter_sentence_length.load_and_process_data()"
   ]
  },
  {
   "cell_type": "code",
   "execution_count": null,
   "id": "5245e637",
   "metadata": {},
   "outputs": [],
   "source": [
    "df.info()"
   ]
  },
  {
   "cell_type": "code",
   "execution_count": null,
   "id": "f647bb4b",
   "metadata": {},
   "outputs": [],
   "source": [
    "categories = df['sentence_len'].cat.categories\n",
    "categories"
   ]
  },
  {
   "cell_type": "code",
   "execution_count": null,
   "id": "417a20a0",
   "metadata": {},
   "outputs": [],
   "source": [
    "df"
   ]
  },
  {
   "cell_type": "code",
   "execution_count": null,
   "id": "501e76fa",
   "metadata": {},
   "outputs": [],
   "source": [
    "df.groupby(['pfa', 'year'], as_index=False, observed=True)['freq'].sum()"
   ]
  },
  {
   "cell_type": "code",
   "execution_count": null,
   "id": "bef4d584",
   "metadata": {},
   "outputs": [],
   "source": [
    "filter_sentence_length.load_and_process_data()"
   ]
  },
  {
   "cell_type": "code",
   "execution_count": null,
   "id": "3f95741e",
   "metadata": {},
   "outputs": [],
   "source": []
  }
 ],
 "metadata": {
  "kernelspec": {
   "display_name": "Python 3",
   "language": "python",
   "name": "python3"
  },
  "language_info": {
   "codemirror_mode": {
    "name": "ipython",
    "version": 3
   },
   "file_extension": ".py",
   "mimetype": "text/x-python",
   "name": "python",
   "nbconvert_exporter": "python",
   "pygments_lexer": "ipython3",
   "version": "3.13.3"
  }
 },
 "nbformat": 4,
 "nbformat_minor": 5
}
