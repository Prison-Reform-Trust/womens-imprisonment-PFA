{
 "cells": [
  {
   "cell_type": "markdown",
   "id": "119b4e19",
   "metadata": {},
   "source": [
    "# Filtering by custodial sentence length"
   ]
  },
  {
   "cell_type": "code",
   "execution_count": 1,
   "id": "cf4a56cf",
   "metadata": {},
   "outputs": [],
   "source": [
    "import pandas as pd"
   ]
  },
  {
   "cell_type": "code",
   "execution_count": 2,
   "id": "9fd9609d",
   "metadata": {},
   "outputs": [],
   "source": [
    "%load_ext autoreload\n",
    "%autoreload 2"
   ]
  },
  {
   "cell_type": "code",
   "execution_count": 8,
   "id": "abcdcbdd",
   "metadata": {},
   "outputs": [],
   "source": [
    "from src.data.processing import filter_sentence_length"
   ]
  },
  {
   "cell_type": "code",
   "execution_count": 25,
   "id": "627353c0",
   "metadata": {},
   "outputs": [
    {
     "name": "stderr",
     "output_type": "stream",
     "text": [
      "2025-06-09 16:02:02,347 - INFO - Loaded data from data/interim/women_cust_comm_sus.csv\n",
      "2025-06-09 16:02:02,583 - INFO - Filtering data for custodial sentences...\n",
      "2025-06-09 16:02:02,592 - INFO - Grouping sentence lengths...\n",
      "2025-06-09 16:02:02,682 - INFO - Sentence lengths grouped and recategorised.\n"
     ]
    }
   ],
   "source": [
    "df = filter_sentence_length.main()"
   ]
  },
  {
   "cell_type": "code",
   "execution_count": 26,
   "id": "5245e637",
   "metadata": {},
   "outputs": [
    {
     "name": "stdout",
     "output_type": "stream",
     "text": [
      "<class 'pandas.core.frame.DataFrame'>\n",
      "Index: 82823 entries, 0 to 331014\n",
      "Data columns (total 8 columns):\n",
      " #   Column        Non-Null Count  Dtype   \n",
      "---  ------        --------------  -----   \n",
      " 0   year          82823 non-null  int64   \n",
      " 1   pfa           82823 non-null  category\n",
      " 2   sex           82823 non-null  category\n",
      " 3   age_group     82823 non-null  category\n",
      " 4   offence       82823 non-null  category\n",
      " 5   outcome       82823 non-null  category\n",
      " 6   sentence_len  82823 non-null  category\n",
      " 7   freq          82823 non-null  int64   \n",
      "dtypes: category(6), int64(2)\n",
      "memory usage: 2.4 MB\n"
     ]
    }
   ],
   "source": [
    "df.info()"
   ]
  },
  {
   "cell_type": "code",
   "execution_count": 27,
   "id": "f647bb4b",
   "metadata": {},
   "outputs": [
    {
     "data": {
      "text/plain": [
       "Index(['Less than 6 months', '6–12 months', 'Over 12 months'], dtype='object')"
      ]
     },
     "execution_count": 27,
     "metadata": {},
     "output_type": "execute_result"
    }
   ],
   "source": [
    "categories = df['sentence_len'].cat.categories\n",
    "categories"
   ]
  },
  {
   "cell_type": "code",
   "execution_count": 28,
   "id": "417a20a0",
   "metadata": {},
   "outputs": [
    {
     "data": {
      "text/html": [
       "<div>\n",
       "<style scoped>\n",
       "    .dataframe tbody tr th:only-of-type {\n",
       "        vertical-align: middle;\n",
       "    }\n",
       "\n",
       "    .dataframe tbody tr th {\n",
       "        vertical-align: top;\n",
       "    }\n",
       "\n",
       "    .dataframe thead th {\n",
       "        text-align: right;\n",
       "    }\n",
       "</style>\n",
       "<table border=\"1\" class=\"dataframe\">\n",
       "  <thead>\n",
       "    <tr style=\"text-align: right;\">\n",
       "      <th></th>\n",
       "      <th>year</th>\n",
       "      <th>pfa</th>\n",
       "      <th>sex</th>\n",
       "      <th>age_group</th>\n",
       "      <th>offence</th>\n",
       "      <th>outcome</th>\n",
       "      <th>sentence_len</th>\n",
       "      <th>freq</th>\n",
       "    </tr>\n",
       "  </thead>\n",
       "  <tbody>\n",
       "    <tr>\n",
       "      <th>0</th>\n",
       "      <td>2010</td>\n",
       "      <td>Avon and Somerset</td>\n",
       "      <td>Female</td>\n",
       "      <td>Adults</td>\n",
       "      <td>Drug offences</td>\n",
       "      <td>Immediate Custody</td>\n",
       "      <td>Over 12 months</td>\n",
       "      <td>1</td>\n",
       "    </tr>\n",
       "    <tr>\n",
       "      <th>16</th>\n",
       "      <td>2010</td>\n",
       "      <td>Avon and Somerset</td>\n",
       "      <td>Female</td>\n",
       "      <td>Young adults</td>\n",
       "      <td>Violence against the person</td>\n",
       "      <td>Immediate Custody</td>\n",
       "      <td>Over 12 months</td>\n",
       "      <td>1</td>\n",
       "    </tr>\n",
       "    <tr>\n",
       "      <th>24</th>\n",
       "      <td>2010</td>\n",
       "      <td>Avon and Somerset</td>\n",
       "      <td>Female</td>\n",
       "      <td>Adults</td>\n",
       "      <td>Theft offences</td>\n",
       "      <td>Immediate Custody</td>\n",
       "      <td>Less than 6 months</td>\n",
       "      <td>1</td>\n",
       "    </tr>\n",
       "    <tr>\n",
       "      <th>26</th>\n",
       "      <td>2010</td>\n",
       "      <td>Avon and Somerset</td>\n",
       "      <td>Female</td>\n",
       "      <td>Adults</td>\n",
       "      <td>Miscellaneous crimes against society</td>\n",
       "      <td>Immediate Custody</td>\n",
       "      <td>Over 12 months</td>\n",
       "      <td>2</td>\n",
       "    </tr>\n",
       "    <tr>\n",
       "      <th>30</th>\n",
       "      <td>2010</td>\n",
       "      <td>Avon and Somerset</td>\n",
       "      <td>Female</td>\n",
       "      <td>Young adults</td>\n",
       "      <td>Drug offences</td>\n",
       "      <td>Immediate Custody</td>\n",
       "      <td>6–12 months</td>\n",
       "      <td>1</td>\n",
       "    </tr>\n",
       "    <tr>\n",
       "      <th>...</th>\n",
       "      <td>...</td>\n",
       "      <td>...</td>\n",
       "      <td>...</td>\n",
       "      <td>...</td>\n",
       "      <td>...</td>\n",
       "      <td>...</td>\n",
       "      <td>...</td>\n",
       "      <td>...</td>\n",
       "    </tr>\n",
       "    <tr>\n",
       "      <th>330974</th>\n",
       "      <td>2024</td>\n",
       "      <td>Wiltshire</td>\n",
       "      <td>Female</td>\n",
       "      <td>Adults</td>\n",
       "      <td>Sexual offences</td>\n",
       "      <td>Immediate Custody</td>\n",
       "      <td>Over 12 months</td>\n",
       "      <td>1</td>\n",
       "    </tr>\n",
       "    <tr>\n",
       "      <th>330979</th>\n",
       "      <td>2024</td>\n",
       "      <td>Wiltshire</td>\n",
       "      <td>Female</td>\n",
       "      <td>Adults</td>\n",
       "      <td>Theft offences</td>\n",
       "      <td>Immediate Custody</td>\n",
       "      <td>Less than 6 months</td>\n",
       "      <td>1</td>\n",
       "    </tr>\n",
       "    <tr>\n",
       "      <th>330982</th>\n",
       "      <td>2024</td>\n",
       "      <td>Wiltshire</td>\n",
       "      <td>Female</td>\n",
       "      <td>Adults</td>\n",
       "      <td>Drug offences</td>\n",
       "      <td>Immediate Custody</td>\n",
       "      <td>Less than 6 months</td>\n",
       "      <td>1</td>\n",
       "    </tr>\n",
       "    <tr>\n",
       "      <th>330988</th>\n",
       "      <td>2024</td>\n",
       "      <td>Wiltshire</td>\n",
       "      <td>Female</td>\n",
       "      <td>Adults</td>\n",
       "      <td>Theft offences</td>\n",
       "      <td>Immediate Custody</td>\n",
       "      <td>Less than 6 months</td>\n",
       "      <td>1</td>\n",
       "    </tr>\n",
       "    <tr>\n",
       "      <th>331014</th>\n",
       "      <td>2024</td>\n",
       "      <td>Wiltshire</td>\n",
       "      <td>Female</td>\n",
       "      <td>Adults</td>\n",
       "      <td>Violence against the person</td>\n",
       "      <td>Immediate Custody</td>\n",
       "      <td>Less than 6 months</td>\n",
       "      <td>1</td>\n",
       "    </tr>\n",
       "  </tbody>\n",
       "</table>\n",
       "<p>82823 rows × 8 columns</p>\n",
       "</div>"
      ],
      "text/plain": [
       "        year                pfa     sex     age_group  \\\n",
       "0       2010  Avon and Somerset  Female        Adults   \n",
       "16      2010  Avon and Somerset  Female  Young adults   \n",
       "24      2010  Avon and Somerset  Female        Adults   \n",
       "26      2010  Avon and Somerset  Female        Adults   \n",
       "30      2010  Avon and Somerset  Female  Young adults   \n",
       "...      ...                ...     ...           ...   \n",
       "330974  2024          Wiltshire  Female        Adults   \n",
       "330979  2024          Wiltshire  Female        Adults   \n",
       "330982  2024          Wiltshire  Female        Adults   \n",
       "330988  2024          Wiltshire  Female        Adults   \n",
       "331014  2024          Wiltshire  Female        Adults   \n",
       "\n",
       "                                     offence            outcome  \\\n",
       "0                              Drug offences  Immediate Custody   \n",
       "16               Violence against the person  Immediate Custody   \n",
       "24                            Theft offences  Immediate Custody   \n",
       "26      Miscellaneous crimes against society  Immediate Custody   \n",
       "30                             Drug offences  Immediate Custody   \n",
       "...                                      ...                ...   \n",
       "330974                       Sexual offences  Immediate Custody   \n",
       "330979                        Theft offences  Immediate Custody   \n",
       "330982                         Drug offences  Immediate Custody   \n",
       "330988                        Theft offences  Immediate Custody   \n",
       "331014           Violence against the person  Immediate Custody   \n",
       "\n",
       "              sentence_len  freq  \n",
       "0           Over 12 months     1  \n",
       "16          Over 12 months     1  \n",
       "24      Less than 6 months     1  \n",
       "26          Over 12 months     2  \n",
       "30             6–12 months     1  \n",
       "...                    ...   ...  \n",
       "330974      Over 12 months     1  \n",
       "330979  Less than 6 months     1  \n",
       "330982  Less than 6 months     1  \n",
       "330988  Less than 6 months     1  \n",
       "331014  Less than 6 months     1  \n",
       "\n",
       "[82823 rows x 8 columns]"
      ]
     },
     "execution_count": 28,
     "metadata": {},
     "output_type": "execute_result"
    }
   ],
   "source": [
    "df"
   ]
  },
  {
   "cell_type": "code",
   "execution_count": null,
   "id": "d06698a0",
   "metadata": {},
   "outputs": [],
   "source": []
  }
 ],
 "metadata": {
  "kernelspec": {
   "display_name": "Python 3",
   "language": "python",
   "name": "python3"
  },
  "language_info": {
   "codemirror_mode": {
    "name": "ipython",
    "version": 3
   },
   "file_extension": ".py",
   "mimetype": "text/x-python",
   "name": "python",
   "nbconvert_exporter": "python",
   "pygments_lexer": "ipython3",
   "version": "3.13.3"
  }
 },
 "nbformat": 4,
 "nbformat_minor": 5
}
