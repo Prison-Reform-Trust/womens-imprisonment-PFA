{
 "cells": [
  {
   "cell_type": "markdown",
   "id": "119b4e19",
   "metadata": {},
   "source": [
    "# Filtering by custodial sentence length"
   ]
  },
  {
   "cell_type": "code",
   "execution_count": 1,
   "id": "cf4a56cf",
   "metadata": {},
   "outputs": [],
   "source": [
    "import pandas as pd"
   ]
  },
  {
   "cell_type": "code",
   "execution_count": 2,
   "id": "9fd9609d",
   "metadata": {},
   "outputs": [],
   "source": [
    "%load_ext autoreload\n",
    "%autoreload 2"
   ]
  },
  {
   "cell_type": "code",
   "execution_count": 3,
   "id": "abcdcbdd",
   "metadata": {},
   "outputs": [],
   "source": [
    "from src.data.processing import filter_sentence_length"
   ]
  },
  {
   "cell_type": "code",
   "execution_count": 24,
   "id": "627353c0",
   "metadata": {},
   "outputs": [
    {
     "name": "stderr",
     "output_type": "stream",
     "text": [
      "2025-06-10 12:05:14,348 - INFO - Loaded data from data/interim/women_cust_comm_sus.csv\n",
      "2025-06-10 12:05:14,649 - INFO - Filtering data for custodial sentences...\n",
      "2025-06-10 12:05:14,660 - INFO - Grouping sentence lengths...\n",
      "2025-06-10 12:05:14,749 - INFO - Sentence lengths grouped and recategorised.\n",
      "2025-06-10 12:05:14,750 - INFO - Grouping data by PFA, year, and sentence length...\n"
     ]
    }
   ],
   "source": [
    "df = filter_sentence_length.load_and_process_data()"
   ]
  },
  {
   "cell_type": "code",
   "execution_count": 5,
   "id": "5245e637",
   "metadata": {},
   "outputs": [
    {
     "name": "stdout",
     "output_type": "stream",
     "text": [
      "<class 'pandas.core.frame.DataFrame'>\n",
      "Index: 82823 entries, 0 to 331014\n",
      "Data columns (total 8 columns):\n",
      " #   Column        Non-Null Count  Dtype   \n",
      "---  ------        --------------  -----   \n",
      " 0   year          82823 non-null  int64   \n",
      " 1   pfa           82823 non-null  category\n",
      " 2   sex           82823 non-null  category\n",
      " 3   age_group     82823 non-null  category\n",
      " 4   offence       82823 non-null  category\n",
      " 5   outcome       82823 non-null  category\n",
      " 6   sentence_len  82823 non-null  category\n",
      " 7   freq          82823 non-null  int64   \n",
      "dtypes: category(6), int64(2)\n",
      "memory usage: 2.4 MB\n"
     ]
    }
   ],
   "source": [
    "df.info()"
   ]
  },
  {
   "cell_type": "code",
   "execution_count": 6,
   "id": "f647bb4b",
   "metadata": {},
   "outputs": [
    {
     "data": {
      "text/plain": [
       "Index(['Less than 6 months', '6–12 months', 'Over 12 months'], dtype='object')"
      ]
     },
     "execution_count": 6,
     "metadata": {},
     "output_type": "execute_result"
    }
   ],
   "source": [
    "categories = df['sentence_len'].cat.categories\n",
    "categories"
   ]
  },
  {
   "cell_type": "code",
   "execution_count": 25,
   "id": "417a20a0",
   "metadata": {},
   "outputs": [
    {
     "data": {
      "text/html": [
       "<div>\n",
       "<style scoped>\n",
       "    .dataframe tbody tr th:only-of-type {\n",
       "        vertical-align: middle;\n",
       "    }\n",
       "\n",
       "    .dataframe tbody tr th {\n",
       "        vertical-align: top;\n",
       "    }\n",
       "\n",
       "    .dataframe thead th {\n",
       "        text-align: right;\n",
       "    }\n",
       "</style>\n",
       "<table border=\"1\" class=\"dataframe\">\n",
       "  <thead>\n",
       "    <tr style=\"text-align: right;\">\n",
       "      <th></th>\n",
       "      <th>pfa</th>\n",
       "      <th>year</th>\n",
       "      <th>sentence_len</th>\n",
       "      <th>freq</th>\n",
       "    </tr>\n",
       "  </thead>\n",
       "  <tbody>\n",
       "    <tr>\n",
       "      <th>0</th>\n",
       "      <td>Avon and Somerset</td>\n",
       "      <td>2010</td>\n",
       "      <td>Less than 6 months</td>\n",
       "      <td>113</td>\n",
       "    </tr>\n",
       "    <tr>\n",
       "      <th>1</th>\n",
       "      <td>Avon and Somerset</td>\n",
       "      <td>2010</td>\n",
       "      <td>6–12 months</td>\n",
       "      <td>16</td>\n",
       "    </tr>\n",
       "    <tr>\n",
       "      <th>2</th>\n",
       "      <td>Avon and Somerset</td>\n",
       "      <td>2010</td>\n",
       "      <td>Over 12 months</td>\n",
       "      <td>49</td>\n",
       "    </tr>\n",
       "    <tr>\n",
       "      <th>3</th>\n",
       "      <td>Avon and Somerset</td>\n",
       "      <td>2011</td>\n",
       "      <td>Less than 6 months</td>\n",
       "      <td>142</td>\n",
       "    </tr>\n",
       "    <tr>\n",
       "      <th>4</th>\n",
       "      <td>Avon and Somerset</td>\n",
       "      <td>2011</td>\n",
       "      <td>6–12 months</td>\n",
       "      <td>21</td>\n",
       "    </tr>\n",
       "    <tr>\n",
       "      <th>...</th>\n",
       "      <td>...</td>\n",
       "      <td>...</td>\n",
       "      <td>...</td>\n",
       "      <td>...</td>\n",
       "    </tr>\n",
       "    <tr>\n",
       "      <th>1839</th>\n",
       "      <td>Wiltshire</td>\n",
       "      <td>2023</td>\n",
       "      <td>6–12 months</td>\n",
       "      <td>4</td>\n",
       "    </tr>\n",
       "    <tr>\n",
       "      <th>1840</th>\n",
       "      <td>Wiltshire</td>\n",
       "      <td>2023</td>\n",
       "      <td>Over 12 months</td>\n",
       "      <td>10</td>\n",
       "    </tr>\n",
       "    <tr>\n",
       "      <th>1841</th>\n",
       "      <td>Wiltshire</td>\n",
       "      <td>2024</td>\n",
       "      <td>Less than 6 months</td>\n",
       "      <td>22</td>\n",
       "    </tr>\n",
       "    <tr>\n",
       "      <th>1842</th>\n",
       "      <td>Wiltshire</td>\n",
       "      <td>2024</td>\n",
       "      <td>6–12 months</td>\n",
       "      <td>1</td>\n",
       "    </tr>\n",
       "    <tr>\n",
       "      <th>1843</th>\n",
       "      <td>Wiltshire</td>\n",
       "      <td>2024</td>\n",
       "      <td>Over 12 months</td>\n",
       "      <td>9</td>\n",
       "    </tr>\n",
       "  </tbody>\n",
       "</table>\n",
       "<p>1844 rows × 4 columns</p>\n",
       "</div>"
      ],
      "text/plain": [
       "                    pfa  year        sentence_len  freq\n",
       "0     Avon and Somerset  2010  Less than 6 months   113\n",
       "1     Avon and Somerset  2010         6–12 months    16\n",
       "2     Avon and Somerset  2010      Over 12 months    49\n",
       "3     Avon and Somerset  2011  Less than 6 months   142\n",
       "4     Avon and Somerset  2011         6–12 months    21\n",
       "...                 ...   ...                 ...   ...\n",
       "1839          Wiltshire  2023         6–12 months     4\n",
       "1840          Wiltshire  2023      Over 12 months    10\n",
       "1841          Wiltshire  2024  Less than 6 months    22\n",
       "1842          Wiltshire  2024         6–12 months     1\n",
       "1843          Wiltshire  2024      Over 12 months     9\n",
       "\n",
       "[1844 rows x 4 columns]"
      ]
     },
     "execution_count": 25,
     "metadata": {},
     "output_type": "execute_result"
    }
   ],
   "source": [
    "df"
   ]
  },
  {
   "cell_type": "code",
   "execution_count": null,
   "id": "501e76fa",
   "metadata": {},
   "outputs": [],
   "source": []
  }
 ],
 "metadata": {
  "kernelspec": {
   "display_name": "Python 3",
   "language": "python",
   "name": "python3"
  },
  "language_info": {
   "codemirror_mode": {
    "name": "ipython",
    "version": 3
   },
   "file_extension": ".py",
   "mimetype": "text/x-python",
   "name": "python",
   "nbconvert_exporter": "python",
   "pygments_lexer": "ipython3",
   "version": "3.13.3"
  }
 },
 "nbformat": 4,
 "nbformat_minor": 5
}
