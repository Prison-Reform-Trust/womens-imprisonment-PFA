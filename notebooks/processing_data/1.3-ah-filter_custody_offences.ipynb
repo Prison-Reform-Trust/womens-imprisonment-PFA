{
 "cells": [
  {
   "cell_type": "markdown",
   "id": "22cdb80c",
   "metadata": {},
   "source": [
    "# Women's imprisonment rates\n",
    "## Criminal Justice Statistics Police Force Area: Filtering by custodial sentences and offence"
   ]
  },
  {
   "cell_type": "code",
   "execution_count": 1,
   "id": "eb1d6c82",
   "metadata": {},
   "outputs": [],
   "source": [
    "import pandas as pd"
   ]
  },
  {
   "cell_type": "code",
   "execution_count": 25,
   "id": "cd156eef",
   "metadata": {},
   "outputs": [
    {
     "name": "stdout",
     "output_type": "stream",
     "text": [
      "The autoreload extension is already loaded. To reload it, use:\n",
      "  %reload_ext autoreload\n"
     ]
    }
   ],
   "source": [
    "%load_ext autoreload\n",
    "%autoreload 2"
   ]
  },
  {
   "cell_type": "code",
   "execution_count": 3,
   "id": "01c46876",
   "metadata": {},
   "outputs": [],
   "source": [
    "from src.data.processing import filter_custody_offences, filter_years"
   ]
  },
  {
   "cell_type": "code",
   "execution_count": 27,
   "id": "5f29555a",
   "metadata": {},
   "outputs": [
    {
     "name": "stderr",
     "output_type": "stream",
     "text": [
      "2025-08-01 15:58:10,284 - INFO - Loading interim data for custody offences...\n",
      "2025-08-01 15:58:10,992 - INFO - Loaded data from data/interim/women_cust_comm_sus.csv\n",
      "2025-08-01 15:58:11,362 - INFO - Filtering data for custodial sentences...\n"
     ]
    }
   ],
   "source": [
    "df = filter_custody_offences.load_data()"
   ]
  },
  {
   "cell_type": "code",
   "execution_count": 28,
   "id": "3d26d386",
   "metadata": {},
   "outputs": [
    {
     "data": {
      "text/html": [
       "<div>\n",
       "<style scoped>\n",
       "    .dataframe tbody tr th:only-of-type {\n",
       "        vertical-align: middle;\n",
       "    }\n",
       "\n",
       "    .dataframe tbody tr th {\n",
       "        vertical-align: top;\n",
       "    }\n",
       "\n",
       "    .dataframe thead th {\n",
       "        text-align: right;\n",
       "    }\n",
       "</style>\n",
       "<table border=\"1\" class=\"dataframe\">\n",
       "  <thead>\n",
       "    <tr style=\"text-align: right;\">\n",
       "      <th></th>\n",
       "      <th>year</th>\n",
       "      <th>pfa</th>\n",
       "      <th>sex</th>\n",
       "      <th>age_group</th>\n",
       "      <th>offence</th>\n",
       "      <th>specific_offence</th>\n",
       "      <th>outcome</th>\n",
       "      <th>sentence_len</th>\n",
       "      <th>freq</th>\n",
       "    </tr>\n",
       "  </thead>\n",
       "  <tbody>\n",
       "    <tr>\n",
       "      <th>0</th>\n",
       "      <td>2010</td>\n",
       "      <td>Avon and Somerset</td>\n",
       "      <td>Female</td>\n",
       "      <td>Adults</td>\n",
       "      <td>Drug offences</td>\n",
       "      <td>Unlawful importation - Class A</td>\n",
       "      <td>Immediate Custody</td>\n",
       "      <td>More than 12 months and up to and including 18...</td>\n",
       "      <td>1</td>\n",
       "    </tr>\n",
       "    <tr>\n",
       "      <th>16</th>\n",
       "      <td>2010</td>\n",
       "      <td>Avon and Somerset</td>\n",
       "      <td>Female</td>\n",
       "      <td>Young adults</td>\n",
       "      <td>Violence against the person</td>\n",
       "      <td>Murder</td>\n",
       "      <td>Immediate Custody</td>\n",
       "      <td>Life sentence</td>\n",
       "      <td>1</td>\n",
       "    </tr>\n",
       "    <tr>\n",
       "      <th>24</th>\n",
       "      <td>2010</td>\n",
       "      <td>Avon and Somerset</td>\n",
       "      <td>Female</td>\n",
       "      <td>Adults</td>\n",
       "      <td>Theft offences</td>\n",
       "      <td>Theft from Shops</td>\n",
       "      <td>Immediate Custody</td>\n",
       "      <td>More than 1 month and up to and including 2 mo...</td>\n",
       "      <td>1</td>\n",
       "    </tr>\n",
       "    <tr>\n",
       "      <th>26</th>\n",
       "      <td>2010</td>\n",
       "      <td>Avon and Somerset</td>\n",
       "      <td>Female</td>\n",
       "      <td>Adults</td>\n",
       "      <td>Miscellaneous crimes against society</td>\n",
       "      <td>Perverting the Course of Justice - indictable ...</td>\n",
       "      <td>Immediate Custody</td>\n",
       "      <td>More than 18 months and up to and including 2 ...</td>\n",
       "      <td>2</td>\n",
       "    </tr>\n",
       "    <tr>\n",
       "      <th>30</th>\n",
       "      <td>2010</td>\n",
       "      <td>Avon and Somerset</td>\n",
       "      <td>Female</td>\n",
       "      <td>Young adults</td>\n",
       "      <td>Drug offences</td>\n",
       "      <td>Production, supply and possession with intent ...</td>\n",
       "      <td>Immediate Custody</td>\n",
       "      <td>More than 6 months and up to and including 9 m...</td>\n",
       "      <td>1</td>\n",
       "    </tr>\n",
       "    <tr>\n",
       "      <th>...</th>\n",
       "      <td>...</td>\n",
       "      <td>...</td>\n",
       "      <td>...</td>\n",
       "      <td>...</td>\n",
       "      <td>...</td>\n",
       "      <td>...</td>\n",
       "      <td>...</td>\n",
       "      <td>...</td>\n",
       "      <td>...</td>\n",
       "    </tr>\n",
       "    <tr>\n",
       "      <th>330974</th>\n",
       "      <td>2024</td>\n",
       "      <td>Wiltshire</td>\n",
       "      <td>Female</td>\n",
       "      <td>Adults</td>\n",
       "      <td>Sexual offences</td>\n",
       "      <td>Sexual assault of a female child under 13</td>\n",
       "      <td>Immediate Custody</td>\n",
       "      <td>More than 12 months and up to and including 18...</td>\n",
       "      <td>1</td>\n",
       "    </tr>\n",
       "    <tr>\n",
       "      <th>330979</th>\n",
       "      <td>2024</td>\n",
       "      <td>Wiltshire</td>\n",
       "      <td>Female</td>\n",
       "      <td>Adults</td>\n",
       "      <td>Theft offences</td>\n",
       "      <td>Burglary in a Building Other than a Dwelling -...</td>\n",
       "      <td>Immediate Custody</td>\n",
       "      <td>More than 1 month and up to and including 2 mo...</td>\n",
       "      <td>1</td>\n",
       "    </tr>\n",
       "    <tr>\n",
       "      <th>330982</th>\n",
       "      <td>2024</td>\n",
       "      <td>Wiltshire</td>\n",
       "      <td>Female</td>\n",
       "      <td>Adults</td>\n",
       "      <td>Drug offences</td>\n",
       "      <td>Possession of a controlled drug - Class A</td>\n",
       "      <td>Immediate Custody</td>\n",
       "      <td>More than 2 months and up to and including 3 m...</td>\n",
       "      <td>1</td>\n",
       "    </tr>\n",
       "    <tr>\n",
       "      <th>330988</th>\n",
       "      <td>2024</td>\n",
       "      <td>Wiltshire</td>\n",
       "      <td>Female</td>\n",
       "      <td>Adults</td>\n",
       "      <td>Theft offences</td>\n",
       "      <td>Theft from Shops</td>\n",
       "      <td>Immediate Custody</td>\n",
       "      <td>Up to and including 1 month</td>\n",
       "      <td>1</td>\n",
       "    </tr>\n",
       "    <tr>\n",
       "      <th>331014</th>\n",
       "      <td>2024</td>\n",
       "      <td>Wiltshire</td>\n",
       "      <td>Female</td>\n",
       "      <td>Adults</td>\n",
       "      <td>Violence against the person</td>\n",
       "      <td>Assault of an emergency worker</td>\n",
       "      <td>Immediate Custody</td>\n",
       "      <td>More than 3 months and up to 6 months</td>\n",
       "      <td>1</td>\n",
       "    </tr>\n",
       "  </tbody>\n",
       "</table>\n",
       "<p>82823 rows × 9 columns</p>\n",
       "</div>"
      ],
      "text/plain": [
       "        year                pfa     sex     age_group  \\\n",
       "0       2010  Avon and Somerset  Female        Adults   \n",
       "16      2010  Avon and Somerset  Female  Young adults   \n",
       "24      2010  Avon and Somerset  Female        Adults   \n",
       "26      2010  Avon and Somerset  Female        Adults   \n",
       "30      2010  Avon and Somerset  Female  Young adults   \n",
       "...      ...                ...     ...           ...   \n",
       "330974  2024          Wiltshire  Female        Adults   \n",
       "330979  2024          Wiltshire  Female        Adults   \n",
       "330982  2024          Wiltshire  Female        Adults   \n",
       "330988  2024          Wiltshire  Female        Adults   \n",
       "331014  2024          Wiltshire  Female        Adults   \n",
       "\n",
       "                                     offence  \\\n",
       "0                              Drug offences   \n",
       "16               Violence against the person   \n",
       "24                            Theft offences   \n",
       "26      Miscellaneous crimes against society   \n",
       "30                             Drug offences   \n",
       "...                                      ...   \n",
       "330974                       Sexual offences   \n",
       "330979                        Theft offences   \n",
       "330982                         Drug offences   \n",
       "330988                        Theft offences   \n",
       "331014           Violence against the person   \n",
       "\n",
       "                                         specific_offence            outcome  \\\n",
       "0                          Unlawful importation - Class A  Immediate Custody   \n",
       "16                                                 Murder  Immediate Custody   \n",
       "24                                       Theft from Shops  Immediate Custody   \n",
       "26      Perverting the Course of Justice - indictable ...  Immediate Custody   \n",
       "30      Production, supply and possession with intent ...  Immediate Custody   \n",
       "...                                                   ...                ...   \n",
       "330974          Sexual assault of a female child under 13  Immediate Custody   \n",
       "330979  Burglary in a Building Other than a Dwelling -...  Immediate Custody   \n",
       "330982          Possession of a controlled drug - Class A  Immediate Custody   \n",
       "330988                                   Theft from Shops  Immediate Custody   \n",
       "331014                     Assault of an emergency worker  Immediate Custody   \n",
       "\n",
       "                                             sentence_len  freq  \n",
       "0       More than 12 months and up to and including 18...     1  \n",
       "16                                          Life sentence     1  \n",
       "24      More than 1 month and up to and including 2 mo...     1  \n",
       "26      More than 18 months and up to and including 2 ...     2  \n",
       "30      More than 6 months and up to and including 9 m...     1  \n",
       "...                                                   ...   ...  \n",
       "330974  More than 12 months and up to and including 18...     1  \n",
       "330979  More than 1 month and up to and including 2 mo...     1  \n",
       "330982  More than 2 months and up to and including 3 m...     1  \n",
       "330988                        Up to and including 1 month     1  \n",
       "331014              More than 3 months and up to 6 months     1  \n",
       "\n",
       "[82823 rows x 9 columns]"
      ]
     },
     "execution_count": 28,
     "metadata": {},
     "output_type": "execute_result"
    }
   ],
   "source": [
    "df"
   ]
  },
  {
   "cell_type": "code",
   "execution_count": 6,
   "id": "083588ea",
   "metadata": {},
   "outputs": [
    {
     "name": "stderr",
     "output_type": "stream",
     "text": [
      "2025-08-01 14:13:42,265 - INFO - Filtering data from 2024 onwards\n",
      "2025-08-01 14:13:42,267 - INFO - Grouping data by PFA, year, offence and specific offence...\n"
     ]
    }
   ],
   "source": [
    "max_year = df[\"year\"].max()\n",
    "\n",
    "df_processed = (\n",
    "    df\n",
    "    .pipe(filter_years.get_year, year_from=max_year)\n",
    "    .pipe(filter_custody_offences.group_by_pfa_and_offence)\n",
    ")"
   ]
  },
  {
   "cell_type": "code",
   "execution_count": 7,
   "id": "e51c537b",
   "metadata": {},
   "outputs": [
    {
     "data": {
      "text/html": [
       "<div>\n",
       "<style scoped>\n",
       "    .dataframe tbody tr th:only-of-type {\n",
       "        vertical-align: middle;\n",
       "    }\n",
       "\n",
       "    .dataframe tbody tr th {\n",
       "        vertical-align: top;\n",
       "    }\n",
       "\n",
       "    .dataframe thead th {\n",
       "        text-align: right;\n",
       "    }\n",
       "</style>\n",
       "<table border=\"1\" class=\"dataframe\">\n",
       "  <thead>\n",
       "    <tr style=\"text-align: right;\">\n",
       "      <th></th>\n",
       "      <th>pfa</th>\n",
       "      <th>year</th>\n",
       "      <th>offence</th>\n",
       "      <th>specific_offence</th>\n",
       "      <th>freq</th>\n",
       "    </tr>\n",
       "  </thead>\n",
       "  <tbody>\n",
       "    <tr>\n",
       "      <th>0</th>\n",
       "      <td>Avon and Somerset</td>\n",
       "      <td>2024</td>\n",
       "      <td>Criminal damage and arson</td>\n",
       "      <td>Arson endangering life</td>\n",
       "      <td>2</td>\n",
       "    </tr>\n",
       "    <tr>\n",
       "      <th>1</th>\n",
       "      <td>Avon and Somerset</td>\n",
       "      <td>2024</td>\n",
       "      <td>Criminal damage and arson</td>\n",
       "      <td>Other Criminal Damage</td>\n",
       "      <td>1</td>\n",
       "    </tr>\n",
       "    <tr>\n",
       "      <th>2</th>\n",
       "      <td>Avon and Somerset</td>\n",
       "      <td>2024</td>\n",
       "      <td>Drug offences</td>\n",
       "      <td>Possession of a controlled drug - Class A</td>\n",
       "      <td>2</td>\n",
       "    </tr>\n",
       "    <tr>\n",
       "      <th>3</th>\n",
       "      <td>Avon and Somerset</td>\n",
       "      <td>2024</td>\n",
       "      <td>Drug offences</td>\n",
       "      <td>Production, supply and possession with intent ...</td>\n",
       "      <td>6</td>\n",
       "    </tr>\n",
       "    <tr>\n",
       "      <th>4</th>\n",
       "      <td>Avon and Somerset</td>\n",
       "      <td>2024</td>\n",
       "      <td>Drug offences</td>\n",
       "      <td>Production, supply and possession with intent ...</td>\n",
       "      <td>1</td>\n",
       "    </tr>\n",
       "    <tr>\n",
       "      <th>...</th>\n",
       "      <td>...</td>\n",
       "      <td>...</td>\n",
       "      <td>...</td>\n",
       "      <td>...</td>\n",
       "      <td>...</td>\n",
       "    </tr>\n",
       "    <tr>\n",
       "      <th>1436</th>\n",
       "      <td>Wiltshire</td>\n",
       "      <td>2024</td>\n",
       "      <td>Theft offences</td>\n",
       "      <td>Burglary in a Dwelling - triable either way</td>\n",
       "      <td>1</td>\n",
       "    </tr>\n",
       "    <tr>\n",
       "      <th>1437</th>\n",
       "      <td>Wiltshire</td>\n",
       "      <td>2024</td>\n",
       "      <td>Theft offences</td>\n",
       "      <td>Theft from Shops</td>\n",
       "      <td>9</td>\n",
       "    </tr>\n",
       "    <tr>\n",
       "      <th>1438</th>\n",
       "      <td>Wiltshire</td>\n",
       "      <td>2024</td>\n",
       "      <td>Theft offences</td>\n",
       "      <td>Theft from the Person of Another</td>\n",
       "      <td>2</td>\n",
       "    </tr>\n",
       "    <tr>\n",
       "      <th>1439</th>\n",
       "      <td>Wiltshire</td>\n",
       "      <td>2024</td>\n",
       "      <td>Violence against the person</td>\n",
       "      <td>Assault occasioning actual bodily harm</td>\n",
       "      <td>1</td>\n",
       "    </tr>\n",
       "    <tr>\n",
       "      <th>1440</th>\n",
       "      <td>Wiltshire</td>\n",
       "      <td>2024</td>\n",
       "      <td>Violence against the person</td>\n",
       "      <td>Assault of an emergency worker</td>\n",
       "      <td>4</td>\n",
       "    </tr>\n",
       "  </tbody>\n",
       "</table>\n",
       "<p>1441 rows × 5 columns</p>\n",
       "</div>"
      ],
      "text/plain": [
       "                    pfa  year                      offence  \\\n",
       "0     Avon and Somerset  2024    Criminal damage and arson   \n",
       "1     Avon and Somerset  2024    Criminal damage and arson   \n",
       "2     Avon and Somerset  2024                Drug offences   \n",
       "3     Avon and Somerset  2024                Drug offences   \n",
       "4     Avon and Somerset  2024                Drug offences   \n",
       "...                 ...   ...                          ...   \n",
       "1436          Wiltshire  2024               Theft offences   \n",
       "1437          Wiltshire  2024               Theft offences   \n",
       "1438          Wiltshire  2024               Theft offences   \n",
       "1439          Wiltshire  2024  Violence against the person   \n",
       "1440          Wiltshire  2024  Violence against the person   \n",
       "\n",
       "                                       specific_offence  freq  \n",
       "0                                Arson endangering life     2  \n",
       "1                                 Other Criminal Damage     1  \n",
       "2             Possession of a controlled drug - Class A     2  \n",
       "3     Production, supply and possession with intent ...     6  \n",
       "4     Production, supply and possession with intent ...     1  \n",
       "...                                                 ...   ...  \n",
       "1436        Burglary in a Dwelling - triable either way     1  \n",
       "1437                                   Theft from Shops     9  \n",
       "1438                   Theft from the Person of Another     2  \n",
       "1439             Assault occasioning actual bodily harm     1  \n",
       "1440                     Assault of an emergency worker     4  \n",
       "\n",
       "[1441 rows x 5 columns]"
      ]
     },
     "execution_count": 7,
     "metadata": {},
     "output_type": "execute_result"
    }
   ],
   "source": [
    "df_processed"
   ]
  },
  {
   "cell_type": "markdown",
   "id": "3fca659f",
   "metadata": {},
   "source": [
    "## Examining other implementations of the sunburst chart to direct data processing steps"
   ]
  },
  {
   "cell_type": "code",
   "execution_count": 10,
   "id": "2b1268da",
   "metadata": {},
   "outputs": [
    {
     "data": {
      "application/vnd.plotly.v1+json": {
       "config": {
        "plotlyServerURL": "https://plot.ly"
       },
       "data": [
        {
         "hovertemplate": "<b>%{label}</b><br>%{percentParent: .0%} of %{parent}<extra></extra>",
         "labels": [
          "Eve",
          "Cain",
          "Seth",
          "Enos",
          "Noam",
          "Abel",
          "Awan",
          "Enoch",
          "Azura"
         ],
         "parents": [
          "",
          "Eve",
          "Eve",
          "Seth",
          "Seth",
          "Eve",
          "Eve",
          "Awan",
          "Eve"
         ],
         "texttemplate": "%{label} <b>%{percentRoot: .0%}</b>",
         "type": "sunburst",
         "values": [
          10,
          14,
          12,
          10,
          2,
          6,
          6,
          4,
          4
         ]
        }
       ],
       "layout": {
        "margin": {
         "b": 0,
         "l": 0,
         "r": 0,
         "t": 0
        },
        "template": {
         "data": {
          "bar": [
           {
            "error_x": {
             "color": "#2a3f5f"
            },
            "error_y": {
             "color": "#2a3f5f"
            },
            "marker": {
             "line": {
              "color": "#E5ECF6",
              "width": 0.5
             },
             "pattern": {
              "fillmode": "overlay",
              "size": 10,
              "solidity": 0.2
             }
            },
            "type": "bar"
           }
          ],
          "barpolar": [
           {
            "marker": {
             "line": {
              "color": "#E5ECF6",
              "width": 0.5
             },
             "pattern": {
              "fillmode": "overlay",
              "size": 10,
              "solidity": 0.2
             }
            },
            "type": "barpolar"
           }
          ],
          "carpet": [
           {
            "aaxis": {
             "endlinecolor": "#2a3f5f",
             "gridcolor": "white",
             "linecolor": "white",
             "minorgridcolor": "white",
             "startlinecolor": "#2a3f5f"
            },
            "baxis": {
             "endlinecolor": "#2a3f5f",
             "gridcolor": "white",
             "linecolor": "white",
             "minorgridcolor": "white",
             "startlinecolor": "#2a3f5f"
            },
            "type": "carpet"
           }
          ],
          "choropleth": [
           {
            "colorbar": {
             "outlinewidth": 0,
             "ticks": ""
            },
            "type": "choropleth"
           }
          ],
          "contour": [
           {
            "colorbar": {
             "outlinewidth": 0,
             "ticks": ""
            },
            "colorscale": [
             [
              0,
              "#0d0887"
             ],
             [
              0.1111111111111111,
              "#46039f"
             ],
             [
              0.2222222222222222,
              "#7201a8"
             ],
             [
              0.3333333333333333,
              "#9c179e"
             ],
             [
              0.4444444444444444,
              "#bd3786"
             ],
             [
              0.5555555555555556,
              "#d8576b"
             ],
             [
              0.6666666666666666,
              "#ed7953"
             ],
             [
              0.7777777777777778,
              "#fb9f3a"
             ],
             [
              0.8888888888888888,
              "#fdca26"
             ],
             [
              1,
              "#f0f921"
             ]
            ],
            "type": "contour"
           }
          ],
          "contourcarpet": [
           {
            "colorbar": {
             "outlinewidth": 0,
             "ticks": ""
            },
            "type": "contourcarpet"
           }
          ],
          "heatmap": [
           {
            "colorbar": {
             "outlinewidth": 0,
             "ticks": ""
            },
            "colorscale": [
             [
              0,
              "#0d0887"
             ],
             [
              0.1111111111111111,
              "#46039f"
             ],
             [
              0.2222222222222222,
              "#7201a8"
             ],
             [
              0.3333333333333333,
              "#9c179e"
             ],
             [
              0.4444444444444444,
              "#bd3786"
             ],
             [
              0.5555555555555556,
              "#d8576b"
             ],
             [
              0.6666666666666666,
              "#ed7953"
             ],
             [
              0.7777777777777778,
              "#fb9f3a"
             ],
             [
              0.8888888888888888,
              "#fdca26"
             ],
             [
              1,
              "#f0f921"
             ]
            ],
            "type": "heatmap"
           }
          ],
          "histogram": [
           {
            "marker": {
             "pattern": {
              "fillmode": "overlay",
              "size": 10,
              "solidity": 0.2
             }
            },
            "type": "histogram"
           }
          ],
          "histogram2d": [
           {
            "colorbar": {
             "outlinewidth": 0,
             "ticks": ""
            },
            "colorscale": [
             [
              0,
              "#0d0887"
             ],
             [
              0.1111111111111111,
              "#46039f"
             ],
             [
              0.2222222222222222,
              "#7201a8"
             ],
             [
              0.3333333333333333,
              "#9c179e"
             ],
             [
              0.4444444444444444,
              "#bd3786"
             ],
             [
              0.5555555555555556,
              "#d8576b"
             ],
             [
              0.6666666666666666,
              "#ed7953"
             ],
             [
              0.7777777777777778,
              "#fb9f3a"
             ],
             [
              0.8888888888888888,
              "#fdca26"
             ],
             [
              1,
              "#f0f921"
             ]
            ],
            "type": "histogram2d"
           }
          ],
          "histogram2dcontour": [
           {
            "colorbar": {
             "outlinewidth": 0,
             "ticks": ""
            },
            "colorscale": [
             [
              0,
              "#0d0887"
             ],
             [
              0.1111111111111111,
              "#46039f"
             ],
             [
              0.2222222222222222,
              "#7201a8"
             ],
             [
              0.3333333333333333,
              "#9c179e"
             ],
             [
              0.4444444444444444,
              "#bd3786"
             ],
             [
              0.5555555555555556,
              "#d8576b"
             ],
             [
              0.6666666666666666,
              "#ed7953"
             ],
             [
              0.7777777777777778,
              "#fb9f3a"
             ],
             [
              0.8888888888888888,
              "#fdca26"
             ],
             [
              1,
              "#f0f921"
             ]
            ],
            "type": "histogram2dcontour"
           }
          ],
          "mesh3d": [
           {
            "colorbar": {
             "outlinewidth": 0,
             "ticks": ""
            },
            "type": "mesh3d"
           }
          ],
          "parcoords": [
           {
            "line": {
             "colorbar": {
              "outlinewidth": 0,
              "ticks": ""
             }
            },
            "type": "parcoords"
           }
          ],
          "pie": [
           {
            "automargin": true,
            "type": "pie"
           }
          ],
          "scatter": [
           {
            "fillpattern": {
             "fillmode": "overlay",
             "size": 10,
             "solidity": 0.2
            },
            "type": "scatter"
           }
          ],
          "scatter3d": [
           {
            "line": {
             "colorbar": {
              "outlinewidth": 0,
              "ticks": ""
             }
            },
            "marker": {
             "colorbar": {
              "outlinewidth": 0,
              "ticks": ""
             }
            },
            "type": "scatter3d"
           }
          ],
          "scattercarpet": [
           {
            "marker": {
             "colorbar": {
              "outlinewidth": 0,
              "ticks": ""
             }
            },
            "type": "scattercarpet"
           }
          ],
          "scattergeo": [
           {
            "marker": {
             "colorbar": {
              "outlinewidth": 0,
              "ticks": ""
             }
            },
            "type": "scattergeo"
           }
          ],
          "scattergl": [
           {
            "marker": {
             "colorbar": {
              "outlinewidth": 0,
              "ticks": ""
             }
            },
            "type": "scattergl"
           }
          ],
          "scattermap": [
           {
            "marker": {
             "colorbar": {
              "outlinewidth": 0,
              "ticks": ""
             }
            },
            "type": "scattermap"
           }
          ],
          "scattermapbox": [
           {
            "marker": {
             "colorbar": {
              "outlinewidth": 0,
              "ticks": ""
             }
            },
            "type": "scattermapbox"
           }
          ],
          "scatterpolar": [
           {
            "marker": {
             "colorbar": {
              "outlinewidth": 0,
              "ticks": ""
             }
            },
            "type": "scatterpolar"
           }
          ],
          "scatterpolargl": [
           {
            "marker": {
             "colorbar": {
              "outlinewidth": 0,
              "ticks": ""
             }
            },
            "type": "scatterpolargl"
           }
          ],
          "scatterternary": [
           {
            "marker": {
             "colorbar": {
              "outlinewidth": 0,
              "ticks": ""
             }
            },
            "type": "scatterternary"
           }
          ],
          "surface": [
           {
            "colorbar": {
             "outlinewidth": 0,
             "ticks": ""
            },
            "colorscale": [
             [
              0,
              "#0d0887"
             ],
             [
              0.1111111111111111,
              "#46039f"
             ],
             [
              0.2222222222222222,
              "#7201a8"
             ],
             [
              0.3333333333333333,
              "#9c179e"
             ],
             [
              0.4444444444444444,
              "#bd3786"
             ],
             [
              0.5555555555555556,
              "#d8576b"
             ],
             [
              0.6666666666666666,
              "#ed7953"
             ],
             [
              0.7777777777777778,
              "#fb9f3a"
             ],
             [
              0.8888888888888888,
              "#fdca26"
             ],
             [
              1,
              "#f0f921"
             ]
            ],
            "type": "surface"
           }
          ],
          "table": [
           {
            "cells": {
             "fill": {
              "color": "#EBF0F8"
             },
             "line": {
              "color": "white"
             }
            },
            "header": {
             "fill": {
              "color": "#C8D4E3"
             },
             "line": {
              "color": "white"
             }
            },
            "type": "table"
           }
          ]
         },
         "layout": {
          "annotationdefaults": {
           "arrowcolor": "#2a3f5f",
           "arrowhead": 0,
           "arrowwidth": 1
          },
          "autotypenumbers": "strict",
          "coloraxis": {
           "colorbar": {
            "outlinewidth": 0,
            "ticks": ""
           }
          },
          "colorscale": {
           "diverging": [
            [
             0,
             "#8e0152"
            ],
            [
             0.1,
             "#c51b7d"
            ],
            [
             0.2,
             "#de77ae"
            ],
            [
             0.3,
             "#f1b6da"
            ],
            [
             0.4,
             "#fde0ef"
            ],
            [
             0.5,
             "#f7f7f7"
            ],
            [
             0.6,
             "#e6f5d0"
            ],
            [
             0.7,
             "#b8e186"
            ],
            [
             0.8,
             "#7fbc41"
            ],
            [
             0.9,
             "#4d9221"
            ],
            [
             1,
             "#276419"
            ]
           ],
           "sequential": [
            [
             0,
             "#0d0887"
            ],
            [
             0.1111111111111111,
             "#46039f"
            ],
            [
             0.2222222222222222,
             "#7201a8"
            ],
            [
             0.3333333333333333,
             "#9c179e"
            ],
            [
             0.4444444444444444,
             "#bd3786"
            ],
            [
             0.5555555555555556,
             "#d8576b"
            ],
            [
             0.6666666666666666,
             "#ed7953"
            ],
            [
             0.7777777777777778,
             "#fb9f3a"
            ],
            [
             0.8888888888888888,
             "#fdca26"
            ],
            [
             1,
             "#f0f921"
            ]
           ],
           "sequentialminus": [
            [
             0,
             "#0d0887"
            ],
            [
             0.1111111111111111,
             "#46039f"
            ],
            [
             0.2222222222222222,
             "#7201a8"
            ],
            [
             0.3333333333333333,
             "#9c179e"
            ],
            [
             0.4444444444444444,
             "#bd3786"
            ],
            [
             0.5555555555555556,
             "#d8576b"
            ],
            [
             0.6666666666666666,
             "#ed7953"
            ],
            [
             0.7777777777777778,
             "#fb9f3a"
            ],
            [
             0.8888888888888888,
             "#fdca26"
            ],
            [
             1,
             "#f0f921"
            ]
           ]
          },
          "colorway": [
           "#636efa",
           "#EF553B",
           "#00cc96",
           "#ab63fa",
           "#FFA15A",
           "#19d3f3",
           "#FF6692",
           "#B6E880",
           "#FF97FF",
           "#FECB52"
          ],
          "font": {
           "color": "#2a3f5f"
          },
          "geo": {
           "bgcolor": "white",
           "lakecolor": "white",
           "landcolor": "#E5ECF6",
           "showlakes": true,
           "showland": true,
           "subunitcolor": "white"
          },
          "hoverlabel": {
           "align": "left"
          },
          "hovermode": "closest",
          "mapbox": {
           "style": "light"
          },
          "paper_bgcolor": "white",
          "plot_bgcolor": "#E5ECF6",
          "polar": {
           "angularaxis": {
            "gridcolor": "white",
            "linecolor": "white",
            "ticks": ""
           },
           "bgcolor": "#E5ECF6",
           "radialaxis": {
            "gridcolor": "white",
            "linecolor": "white",
            "ticks": ""
           }
          },
          "scene": {
           "xaxis": {
            "backgroundcolor": "#E5ECF6",
            "gridcolor": "white",
            "gridwidth": 2,
            "linecolor": "white",
            "showbackground": true,
            "ticks": "",
            "zerolinecolor": "white"
           },
           "yaxis": {
            "backgroundcolor": "#E5ECF6",
            "gridcolor": "white",
            "gridwidth": 2,
            "linecolor": "white",
            "showbackground": true,
            "ticks": "",
            "zerolinecolor": "white"
           },
           "zaxis": {
            "backgroundcolor": "#E5ECF6",
            "gridcolor": "white",
            "gridwidth": 2,
            "linecolor": "white",
            "showbackground": true,
            "ticks": "",
            "zerolinecolor": "white"
           }
          },
          "shapedefaults": {
           "line": {
            "color": "#2a3f5f"
           }
          },
          "ternary": {
           "aaxis": {
            "gridcolor": "white",
            "linecolor": "white",
            "ticks": ""
           },
           "baxis": {
            "gridcolor": "white",
            "linecolor": "white",
            "ticks": ""
           },
           "bgcolor": "#E5ECF6",
           "caxis": {
            "gridcolor": "white",
            "linecolor": "white",
            "ticks": ""
           }
          },
          "title": {
           "x": 0.05
          },
          "xaxis": {
           "automargin": true,
           "gridcolor": "white",
           "linecolor": "white",
           "ticks": "",
           "title": {
            "standoff": 15
           },
           "zerolinecolor": "white",
           "zerolinewidth": 2
          },
          "yaxis": {
           "automargin": true,
           "gridcolor": "white",
           "linecolor": "white",
           "ticks": "",
           "title": {
            "standoff": 15
           },
           "zerolinecolor": "white",
           "zerolinewidth": 2
          }
         }
        }
       }
      }
     },
     "metadata": {},
     "output_type": "display_data"
    }
   ],
   "source": [
    "import plotly.graph_objects as go\n",
    "\n",
    "fig =go.Figure(go.Sunburst(\n",
    "    labels=[\"Eve\", \"Cain\", \"Seth\", \"Enos\", \"Noam\", \"Abel\", \"Awan\", \"Enoch\", \"Azura\"],\n",
    "    parents=[\"\", \"Eve\", \"Eve\", \"Seth\", \"Seth\", \"Eve\", \"Eve\", \"Awan\", \"Eve\" ],\n",
    "    values=[10, 14, 12, 10, 2, 6, 6, 4, 4],\n",
    "    texttemplate=\"%{label} <b>%{percentRoot: .0%}</b>\",\n",
    "    hovertemplate=\"<b>%{label}</b><br>%{percentParent: .0%} of %{parent}<extra></extra>\",\n",
    "))\n",
    "# Update layout for tight margin\n",
    "# See https://plotly.com/python/creating-and-updating-figures/\n",
    "fig.update_layout(margin = dict(t=0, l=0, r=0, b=0))\n",
    "\n",
    "fig.show()"
   ]
  },
  {
   "cell_type": "markdown",
   "id": "c6b82f32",
   "metadata": {},
   "source": [
    "Okay, this is helpful, as it suggests that I don't need to make the calculations for the proportions of offences in the sunburst chart data processing step. Instead, I can just pass the data as it is, and Plotly will handle the calculations for me, as long as the parent-child relationships are correctly defined."
   ]
  },
  {
   "cell_type": "markdown",
   "id": "4560b15d",
   "metadata": {},
   "source": [
    "## Using Plotly example code as a guide to engineer the data processing steps for the sunburst chart"
   ]
  },
  {
   "cell_type": "code",
   "execution_count": 65,
   "id": "fadd77c7",
   "metadata": {},
   "outputs": [],
   "source": [
    "import plotly.graph_objects as go"
   ]
  },
  {
   "cell_type": "code",
   "execution_count": null,
   "id": "63b251f1",
   "metadata": {},
   "outputs": [
    {
     "data": {
      "application/vnd.plotly.v1+json": {
       "config": {
        "plotlyServerURL": "https://plot.ly"
       },
       "data": [
        {
         "branchvalues": "total",
         "domain": {
          "column": 0,
          "row": 0
         },
         "hoverinfo": "label+percent parent",
         "hovertemplate": "<b>%{label}</b><br>%{percentParent: .0%} of %{parent}<extra></extra>",
         "insidetextorientation": "radial",
         "labels": [
          "All offences",
          "Theft",
          "Other",
          "Fraud",
          "Summary",
          "Drugs",
          "VAP",
          "Assault EW"
         ],
         "parents": [
          "",
          "All offences",
          "All offences",
          "Other",
          "Other",
          "All offences",
          "All offences",
          "VAP"
         ],
         "sort": false,
         "texttemplate": "%{label} <b>%{percentRoot: .0%}</b>",
         "type": "sunburst",
         "values": [
          38,
          14,
          12,
          10,
          2,
          6,
          6,
          4
         ]
        }
       ],
       "layout": {
        "margin": {
         "b": 0,
         "l": 0,
         "r": 0,
         "t": 0
        },
        "template": {
         "data": {
          "bar": [
           {
            "error_x": {
             "color": "#2a3f5f"
            },
            "error_y": {
             "color": "#2a3f5f"
            },
            "marker": {
             "line": {
              "color": "#E5ECF6",
              "width": 0.5
             },
             "pattern": {
              "fillmode": "overlay",
              "size": 10,
              "solidity": 0.2
             }
            },
            "type": "bar"
           }
          ],
          "barpolar": [
           {
            "marker": {
             "line": {
              "color": "#E5ECF6",
              "width": 0.5
             },
             "pattern": {
              "fillmode": "overlay",
              "size": 10,
              "solidity": 0.2
             }
            },
            "type": "barpolar"
           }
          ],
          "carpet": [
           {
            "aaxis": {
             "endlinecolor": "#2a3f5f",
             "gridcolor": "white",
             "linecolor": "white",
             "minorgridcolor": "white",
             "startlinecolor": "#2a3f5f"
            },
            "baxis": {
             "endlinecolor": "#2a3f5f",
             "gridcolor": "white",
             "linecolor": "white",
             "minorgridcolor": "white",
             "startlinecolor": "#2a3f5f"
            },
            "type": "carpet"
           }
          ],
          "choropleth": [
           {
            "colorbar": {
             "outlinewidth": 0,
             "ticks": ""
            },
            "type": "choropleth"
           }
          ],
          "contour": [
           {
            "colorbar": {
             "outlinewidth": 0,
             "ticks": ""
            },
            "colorscale": [
             [
              0,
              "#0d0887"
             ],
             [
              0.1111111111111111,
              "#46039f"
             ],
             [
              0.2222222222222222,
              "#7201a8"
             ],
             [
              0.3333333333333333,
              "#9c179e"
             ],
             [
              0.4444444444444444,
              "#bd3786"
             ],
             [
              0.5555555555555556,
              "#d8576b"
             ],
             [
              0.6666666666666666,
              "#ed7953"
             ],
             [
              0.7777777777777778,
              "#fb9f3a"
             ],
             [
              0.8888888888888888,
              "#fdca26"
             ],
             [
              1,
              "#f0f921"
             ]
            ],
            "type": "contour"
           }
          ],
          "contourcarpet": [
           {
            "colorbar": {
             "outlinewidth": 0,
             "ticks": ""
            },
            "type": "contourcarpet"
           }
          ],
          "heatmap": [
           {
            "colorbar": {
             "outlinewidth": 0,
             "ticks": ""
            },
            "colorscale": [
             [
              0,
              "#0d0887"
             ],
             [
              0.1111111111111111,
              "#46039f"
             ],
             [
              0.2222222222222222,
              "#7201a8"
             ],
             [
              0.3333333333333333,
              "#9c179e"
             ],
             [
              0.4444444444444444,
              "#bd3786"
             ],
             [
              0.5555555555555556,
              "#d8576b"
             ],
             [
              0.6666666666666666,
              "#ed7953"
             ],
             [
              0.7777777777777778,
              "#fb9f3a"
             ],
             [
              0.8888888888888888,
              "#fdca26"
             ],
             [
              1,
              "#f0f921"
             ]
            ],
            "type": "heatmap"
           }
          ],
          "histogram": [
           {
            "marker": {
             "pattern": {
              "fillmode": "overlay",
              "size": 10,
              "solidity": 0.2
             }
            },
            "type": "histogram"
           }
          ],
          "histogram2d": [
           {
            "colorbar": {
             "outlinewidth": 0,
             "ticks": ""
            },
            "colorscale": [
             [
              0,
              "#0d0887"
             ],
             [
              0.1111111111111111,
              "#46039f"
             ],
             [
              0.2222222222222222,
              "#7201a8"
             ],
             [
              0.3333333333333333,
              "#9c179e"
             ],
             [
              0.4444444444444444,
              "#bd3786"
             ],
             [
              0.5555555555555556,
              "#d8576b"
             ],
             [
              0.6666666666666666,
              "#ed7953"
             ],
             [
              0.7777777777777778,
              "#fb9f3a"
             ],
             [
              0.8888888888888888,
              "#fdca26"
             ],
             [
              1,
              "#f0f921"
             ]
            ],
            "type": "histogram2d"
           }
          ],
          "histogram2dcontour": [
           {
            "colorbar": {
             "outlinewidth": 0,
             "ticks": ""
            },
            "colorscale": [
             [
              0,
              "#0d0887"
             ],
             [
              0.1111111111111111,
              "#46039f"
             ],
             [
              0.2222222222222222,
              "#7201a8"
             ],
             [
              0.3333333333333333,
              "#9c179e"
             ],
             [
              0.4444444444444444,
              "#bd3786"
             ],
             [
              0.5555555555555556,
              "#d8576b"
             ],
             [
              0.6666666666666666,
              "#ed7953"
             ],
             [
              0.7777777777777778,
              "#fb9f3a"
             ],
             [
              0.8888888888888888,
              "#fdca26"
             ],
             [
              1,
              "#f0f921"
             ]
            ],
            "type": "histogram2dcontour"
           }
          ],
          "mesh3d": [
           {
            "colorbar": {
             "outlinewidth": 0,
             "ticks": ""
            },
            "type": "mesh3d"
           }
          ],
          "parcoords": [
           {
            "line": {
             "colorbar": {
              "outlinewidth": 0,
              "ticks": ""
             }
            },
            "type": "parcoords"
           }
          ],
          "pie": [
           {
            "automargin": true,
            "type": "pie"
           }
          ],
          "scatter": [
           {
            "fillpattern": {
             "fillmode": "overlay",
             "size": 10,
             "solidity": 0.2
            },
            "type": "scatter"
           }
          ],
          "scatter3d": [
           {
            "line": {
             "colorbar": {
              "outlinewidth": 0,
              "ticks": ""
             }
            },
            "marker": {
             "colorbar": {
              "outlinewidth": 0,
              "ticks": ""
             }
            },
            "type": "scatter3d"
           }
          ],
          "scattercarpet": [
           {
            "marker": {
             "colorbar": {
              "outlinewidth": 0,
              "ticks": ""
             }
            },
            "type": "scattercarpet"
           }
          ],
          "scattergeo": [
           {
            "marker": {
             "colorbar": {
              "outlinewidth": 0,
              "ticks": ""
             }
            },
            "type": "scattergeo"
           }
          ],
          "scattergl": [
           {
            "marker": {
             "colorbar": {
              "outlinewidth": 0,
              "ticks": ""
             }
            },
            "type": "scattergl"
           }
          ],
          "scattermap": [
           {
            "marker": {
             "colorbar": {
              "outlinewidth": 0,
              "ticks": ""
             }
            },
            "type": "scattermap"
           }
          ],
          "scattermapbox": [
           {
            "marker": {
             "colorbar": {
              "outlinewidth": 0,
              "ticks": ""
             }
            },
            "type": "scattermapbox"
           }
          ],
          "scatterpolar": [
           {
            "marker": {
             "colorbar": {
              "outlinewidth": 0,
              "ticks": ""
             }
            },
            "type": "scatterpolar"
           }
          ],
          "scatterpolargl": [
           {
            "marker": {
             "colorbar": {
              "outlinewidth": 0,
              "ticks": ""
             }
            },
            "type": "scatterpolargl"
           }
          ],
          "scatterternary": [
           {
            "marker": {
             "colorbar": {
              "outlinewidth": 0,
              "ticks": ""
             }
            },
            "type": "scatterternary"
           }
          ],
          "surface": [
           {
            "colorbar": {
             "outlinewidth": 0,
             "ticks": ""
            },
            "colorscale": [
             [
              0,
              "#0d0887"
             ],
             [
              0.1111111111111111,
              "#46039f"
             ],
             [
              0.2222222222222222,
              "#7201a8"
             ],
             [
              0.3333333333333333,
              "#9c179e"
             ],
             [
              0.4444444444444444,
              "#bd3786"
             ],
             [
              0.5555555555555556,
              "#d8576b"
             ],
             [
              0.6666666666666666,
              "#ed7953"
             ],
             [
              0.7777777777777778,
              "#fb9f3a"
             ],
             [
              0.8888888888888888,
              "#fdca26"
             ],
             [
              1,
              "#f0f921"
             ]
            ],
            "type": "surface"
           }
          ],
          "table": [
           {
            "cells": {
             "fill": {
              "color": "#EBF0F8"
             },
             "line": {
              "color": "white"
             }
            },
            "header": {
             "fill": {
              "color": "#C8D4E3"
             },
             "line": {
              "color": "white"
             }
            },
            "type": "table"
           }
          ]
         },
         "layout": {
          "annotationdefaults": {
           "arrowcolor": "#2a3f5f",
           "arrowhead": 0,
           "arrowwidth": 1
          },
          "autotypenumbers": "strict",
          "coloraxis": {
           "colorbar": {
            "outlinewidth": 0,
            "ticks": ""
           }
          },
          "colorscale": {
           "diverging": [
            [
             0,
             "#8e0152"
            ],
            [
             0.1,
             "#c51b7d"
            ],
            [
             0.2,
             "#de77ae"
            ],
            [
             0.3,
             "#f1b6da"
            ],
            [
             0.4,
             "#fde0ef"
            ],
            [
             0.5,
             "#f7f7f7"
            ],
            [
             0.6,
             "#e6f5d0"
            ],
            [
             0.7,
             "#b8e186"
            ],
            [
             0.8,
             "#7fbc41"
            ],
            [
             0.9,
             "#4d9221"
            ],
            [
             1,
             "#276419"
            ]
           ],
           "sequential": [
            [
             0,
             "#0d0887"
            ],
            [
             0.1111111111111111,
             "#46039f"
            ],
            [
             0.2222222222222222,
             "#7201a8"
            ],
            [
             0.3333333333333333,
             "#9c179e"
            ],
            [
             0.4444444444444444,
             "#bd3786"
            ],
            [
             0.5555555555555556,
             "#d8576b"
            ],
            [
             0.6666666666666666,
             "#ed7953"
            ],
            [
             0.7777777777777778,
             "#fb9f3a"
            ],
            [
             0.8888888888888888,
             "#fdca26"
            ],
            [
             1,
             "#f0f921"
            ]
           ],
           "sequentialminus": [
            [
             0,
             "#0d0887"
            ],
            [
             0.1111111111111111,
             "#46039f"
            ],
            [
             0.2222222222222222,
             "#7201a8"
            ],
            [
             0.3333333333333333,
             "#9c179e"
            ],
            [
             0.4444444444444444,
             "#bd3786"
            ],
            [
             0.5555555555555556,
             "#d8576b"
            ],
            [
             0.6666666666666666,
             "#ed7953"
            ],
            [
             0.7777777777777778,
             "#fb9f3a"
            ],
            [
             0.8888888888888888,
             "#fdca26"
            ],
            [
             1,
             "#f0f921"
            ]
           ]
          },
          "colorway": [
           "#636efa",
           "#EF553B",
           "#00cc96",
           "#ab63fa",
           "#FFA15A",
           "#19d3f3",
           "#FF6692",
           "#B6E880",
           "#FF97FF",
           "#FECB52"
          ],
          "font": {
           "color": "#2a3f5f"
          },
          "geo": {
           "bgcolor": "white",
           "lakecolor": "white",
           "landcolor": "#E5ECF6",
           "showlakes": true,
           "showland": true,
           "subunitcolor": "white"
          },
          "hoverlabel": {
           "align": "left"
          },
          "hovermode": "closest",
          "mapbox": {
           "style": "light"
          },
          "paper_bgcolor": "white",
          "plot_bgcolor": "#E5ECF6",
          "polar": {
           "angularaxis": {
            "gridcolor": "white",
            "linecolor": "white",
            "ticks": ""
           },
           "bgcolor": "#E5ECF6",
           "radialaxis": {
            "gridcolor": "white",
            "linecolor": "white",
            "ticks": ""
           }
          },
          "scene": {
           "xaxis": {
            "backgroundcolor": "#E5ECF6",
            "gridcolor": "white",
            "gridwidth": 2,
            "linecolor": "white",
            "showbackground": true,
            "ticks": "",
            "zerolinecolor": "white"
           },
           "yaxis": {
            "backgroundcolor": "#E5ECF6",
            "gridcolor": "white",
            "gridwidth": 2,
            "linecolor": "white",
            "showbackground": true,
            "ticks": "",
            "zerolinecolor": "white"
           },
           "zaxis": {
            "backgroundcolor": "#E5ECF6",
            "gridcolor": "white",
            "gridwidth": 2,
            "linecolor": "white",
            "showbackground": true,
            "ticks": "",
            "zerolinecolor": "white"
           }
          },
          "shapedefaults": {
           "line": {
            "color": "#2a3f5f"
           }
          },
          "ternary": {
           "aaxis": {
            "gridcolor": "white",
            "linecolor": "white",
            "ticks": ""
           },
           "baxis": {
            "gridcolor": "white",
            "linecolor": "white",
            "ticks": ""
           },
           "bgcolor": "#E5ECF6",
           "caxis": {
            "gridcolor": "white",
            "linecolor": "white",
            "ticks": ""
           }
          },
          "title": {
           "x": 0.05
          },
          "xaxis": {
           "automargin": true,
           "gridcolor": "white",
           "linecolor": "white",
           "ticks": "",
           "title": {
            "standoff": 15
           },
           "zerolinecolor": "white",
           "zerolinewidth": 2
          },
          "yaxis": {
           "automargin": true,
           "gridcolor": "white",
           "linecolor": "white",
           "ticks": "",
           "title": {
            "standoff": 15
           },
           "zerolinecolor": "white",
           "zerolinewidth": 2
          }
         }
        }
       }
      }
     },
     "metadata": {},
     "output_type": "display_data"
    }
   ],
   "source": [
    "fig = go.Figure(go.Sunburst(\n",
    "    labels=[\"All offences\", \"Theft\", \"Other\", \"Fraud\", \"Summary\", \"Drugs\", \"VAP\", \"Assault EW\"],\n",
    "    parents=[\"\", \"All offences\", \"All offences\", \"Other\", \"Other\", \"All offences\", \"All offences\", \"VAP\"],\n",
    "    values=[38, 14, 12, 10, 2, 6, 6, 4],\n",
    "    sort=False,\n",
    "    branchvalues='total',\n",
    "    texttemplate=\"%{label} <b>%{percentRoot: .0%}</b>\",\n",
    "    hovertemplate=\"<b>%{label}</b><br>%{percentParent: .0%} of %{parent}<extra></extra>\",\n",
    "    hoverinfo='label+percent parent',\n",
    "    insidetextorientation='radial',\n",
    "    domain_column=0,\n",
    "    domain_row=0\n",
    "))\n",
    "\n",
    "fig.update_layout(margin = dict(t=0, l=0, r=0, b=0))\n",
    "\n",
    "fig.show()"
   ]
  },
  {
   "cell_type": "markdown",
   "id": "4d71f07b",
   "metadata": {},
   "source": [
    "Taking the dummy data from the Plotly example, I can create a DataFrame that mimics the structure of the data used in the sunburst chart. This will help me understand how to structure my own data for the sunburst chart."
   ]
  },
  {
   "cell_type": "code",
   "execution_count": null,
   "id": "a5ac5532",
   "metadata": {},
   "outputs": [
    {
     "data": {
      "text/html": [
       "<div>\n",
       "<style scoped>\n",
       "    .dataframe tbody tr th:only-of-type {\n",
       "        vertical-align: middle;\n",
       "    }\n",
       "\n",
       "    .dataframe tbody tr th {\n",
       "        vertical-align: top;\n",
       "    }\n",
       "\n",
       "    .dataframe thead th {\n",
       "        text-align: right;\n",
       "    }\n",
       "</style>\n",
       "<table border=\"1\" class=\"dataframe\">\n",
       "  <thead>\n",
       "    <tr style=\"text-align: right;\">\n",
       "      <th></th>\n",
       "      <th>offence</th>\n",
       "      <th>parent</th>\n",
       "      <th>freq</th>\n",
       "    </tr>\n",
       "  </thead>\n",
       "  <tbody>\n",
       "    <tr>\n",
       "      <th>0</th>\n",
       "      <td>All offences</td>\n",
       "      <td></td>\n",
       "      <td>38</td>\n",
       "    </tr>\n",
       "    <tr>\n",
       "      <th>1</th>\n",
       "      <td>Theft</td>\n",
       "      <td>All offences</td>\n",
       "      <td>14</td>\n",
       "    </tr>\n",
       "    <tr>\n",
       "      <th>2</th>\n",
       "      <td>Other</td>\n",
       "      <td>All offences</td>\n",
       "      <td>12</td>\n",
       "    </tr>\n",
       "    <tr>\n",
       "      <th>3</th>\n",
       "      <td>Fraud</td>\n",
       "      <td>Other</td>\n",
       "      <td>10</td>\n",
       "    </tr>\n",
       "    <tr>\n",
       "      <th>4</th>\n",
       "      <td>Summary</td>\n",
       "      <td>Other</td>\n",
       "      <td>2</td>\n",
       "    </tr>\n",
       "    <tr>\n",
       "      <th>5</th>\n",
       "      <td>Drugs</td>\n",
       "      <td>All offences</td>\n",
       "      <td>6</td>\n",
       "    </tr>\n",
       "    <tr>\n",
       "      <th>6</th>\n",
       "      <td>VAP</td>\n",
       "      <td>All offences</td>\n",
       "      <td>6</td>\n",
       "    </tr>\n",
       "    <tr>\n",
       "      <th>7</th>\n",
       "      <td>Assault EW</td>\n",
       "      <td>VAP</td>\n",
       "      <td>4</td>\n",
       "    </tr>\n",
       "  </tbody>\n",
       "</table>\n",
       "</div>"
      ],
      "text/plain": [
       "        offence        parent  freq\n",
       "0  All offences                  38\n",
       "1         Theft  All offences    14\n",
       "2         Other  All offences    12\n",
       "3         Fraud         Other    10\n",
       "4       Summary         Other     2\n",
       "5         Drugs  All offences     6\n",
       "6           VAP  All offences     6\n",
       "7    Assault EW           VAP     4"
      ]
     },
     "metadata": {},
     "output_type": "display_data"
    }
   ],
   "source": [
    "d = {'offence':[\"All offences\", \"Theft\", \"Other\", \"Fraud\", \"Summary\", \"Drugs\", \"VAP\", \"Assault EW\"],\n",
    "'parent':[\"\", \"All offences\", \"All offences\", \"Other\", \"Other\", \"All offences\", \"All offences\", \"VAP\"],\n",
    "'freq':[38, 14, 12, 10, 2, 6, 6, 4]}\n",
    "\n",
    "test_data = pd.DataFrame(data=d)\n",
    "test_data"
   ]
  },
  {
   "cell_type": "markdown",
   "id": "49e3905a",
   "metadata": {},
   "source": [
    "## Returning to data processing"
   ]
  },
  {
   "cell_type": "code",
   "execution_count": null,
   "id": "4deef8ec",
   "metadata": {},
   "outputs": [
    {
     "name": "stderr",
     "output_type": "stream",
     "text": [
      "2025-08-06 09:53:57,437 - INFO - Loading interim data for custody offences...\n",
      "2025-08-06 09:53:59,156 - INFO - Loaded data from data/interim/women_cust_comm_sus.csv\n",
      "2025-08-06 09:53:59,635 - INFO - Filtering data for custodial sentences...\n",
      "2025-08-06 09:53:59,685 - INFO - Running test processing...\n",
      "2025-08-06 09:53:59,694 - INFO - Filtering data from 2024 onwards\n",
      "2025-08-06 09:53:59,706 - INFO - Grouping data by PFA, year, offence and specific offence...\n",
      "2025-08-06 09:53:59,799 - INFO - Creating filter for highlighted offence groups...\n",
      "2025-08-06 09:53:59,808 - INFO - Setting parent column for offence groups...\n",
      "2025-08-06 09:53:59,827 - INFO - Setting plot order for offences...\n",
      "2025-08-06 09:53:59,846 - INFO - Test processing function executed successfully.\n"
     ]
    },
    {
     "data": {
      "text/html": [
       "<div>\n",
       "<style scoped>\n",
       "    .dataframe tbody tr th:only-of-type {\n",
       "        vertical-align: middle;\n",
       "    }\n",
       "\n",
       "    .dataframe tbody tr th {\n",
       "        vertical-align: top;\n",
       "    }\n",
       "\n",
       "    .dataframe thead th {\n",
       "        text-align: right;\n",
       "    }\n",
       "</style>\n",
       "<table border=\"1\" class=\"dataframe\">\n",
       "  <thead>\n",
       "    <tr style=\"text-align: right;\">\n",
       "      <th></th>\n",
       "      <th>pfa</th>\n",
       "      <th>year</th>\n",
       "      <th>offence</th>\n",
       "      <th>specific_offence</th>\n",
       "      <th>freq</th>\n",
       "      <th>parent</th>\n",
       "      <th>plot_order</th>\n",
       "    </tr>\n",
       "  </thead>\n",
       "  <tbody>\n",
       "    <tr>\n",
       "      <th>0</th>\n",
       "      <td>Avon and Somerset</td>\n",
       "      <td>2024</td>\n",
       "      <td>Criminal damage and arson</td>\n",
       "      <td>Arson endangering life</td>\n",
       "      <td>2</td>\n",
       "      <td>All other offences</td>\n",
       "      <td>0.0</td>\n",
       "    </tr>\n",
       "    <tr>\n",
       "      <th>1</th>\n",
       "      <td>Avon and Somerset</td>\n",
       "      <td>2024</td>\n",
       "      <td>Criminal damage and arson</td>\n",
       "      <td>Other Criminal Damage</td>\n",
       "      <td>1</td>\n",
       "      <td>All other offences</td>\n",
       "      <td>0.0</td>\n",
       "    </tr>\n",
       "    <tr>\n",
       "      <th>2</th>\n",
       "      <td>Avon and Somerset</td>\n",
       "      <td>2024</td>\n",
       "      <td>Drug offences</td>\n",
       "      <td>Possession of a controlled drug - Class A</td>\n",
       "      <td>2</td>\n",
       "      <td>All offences</td>\n",
       "      <td>2.0</td>\n",
       "    </tr>\n",
       "    <tr>\n",
       "      <th>3</th>\n",
       "      <td>Avon and Somerset</td>\n",
       "      <td>2024</td>\n",
       "      <td>Drug offences</td>\n",
       "      <td>Production, supply and possession with intent ...</td>\n",
       "      <td>6</td>\n",
       "      <td>All offences</td>\n",
       "      <td>2.0</td>\n",
       "    </tr>\n",
       "    <tr>\n",
       "      <th>4</th>\n",
       "      <td>Avon and Somerset</td>\n",
       "      <td>2024</td>\n",
       "      <td>Drug offences</td>\n",
       "      <td>Production, supply and possession with intent ...</td>\n",
       "      <td>1</td>\n",
       "      <td>All offences</td>\n",
       "      <td>2.0</td>\n",
       "    </tr>\n",
       "    <tr>\n",
       "      <th>...</th>\n",
       "      <td>...</td>\n",
       "      <td>...</td>\n",
       "      <td>...</td>\n",
       "      <td>...</td>\n",
       "      <td>...</td>\n",
       "      <td>...</td>\n",
       "      <td>...</td>\n",
       "    </tr>\n",
       "    <tr>\n",
       "      <th>1436</th>\n",
       "      <td>Wiltshire</td>\n",
       "      <td>2024</td>\n",
       "      <td>Theft offences</td>\n",
       "      <td>Burglary in a Dwelling - triable either way</td>\n",
       "      <td>1</td>\n",
       "      <td>All offences</td>\n",
       "      <td>1.0</td>\n",
       "    </tr>\n",
       "    <tr>\n",
       "      <th>1437</th>\n",
       "      <td>Wiltshire</td>\n",
       "      <td>2024</td>\n",
       "      <td>Theft offences</td>\n",
       "      <td>Theft from Shops</td>\n",
       "      <td>9</td>\n",
       "      <td>All offences</td>\n",
       "      <td>1.0</td>\n",
       "    </tr>\n",
       "    <tr>\n",
       "      <th>1438</th>\n",
       "      <td>Wiltshire</td>\n",
       "      <td>2024</td>\n",
       "      <td>Theft offences</td>\n",
       "      <td>Theft from the Person of Another</td>\n",
       "      <td>2</td>\n",
       "      <td>All offences</td>\n",
       "      <td>1.0</td>\n",
       "    </tr>\n",
       "    <tr>\n",
       "      <th>1439</th>\n",
       "      <td>Wiltshire</td>\n",
       "      <td>2024</td>\n",
       "      <td>Violence against the person</td>\n",
       "      <td>Assault occasioning actual bodily harm</td>\n",
       "      <td>1</td>\n",
       "      <td>All offences</td>\n",
       "      <td>3.0</td>\n",
       "    </tr>\n",
       "    <tr>\n",
       "      <th>1440</th>\n",
       "      <td>Wiltshire</td>\n",
       "      <td>2024</td>\n",
       "      <td>Violence against the person</td>\n",
       "      <td>Assault of an emergency worker</td>\n",
       "      <td>4</td>\n",
       "      <td>Violence against the person</td>\n",
       "      <td>3.0</td>\n",
       "    </tr>\n",
       "  </tbody>\n",
       "</table>\n",
       "<p>1441 rows × 7 columns</p>\n",
       "</div>"
      ],
      "text/plain": [
       "                    pfa  year                      offence  \\\n",
       "0     Avon and Somerset  2024    Criminal damage and arson   \n",
       "1     Avon and Somerset  2024    Criminal damage and arson   \n",
       "2     Avon and Somerset  2024                Drug offences   \n",
       "3     Avon and Somerset  2024                Drug offences   \n",
       "4     Avon and Somerset  2024                Drug offences   \n",
       "...                 ...   ...                          ...   \n",
       "1436          Wiltshire  2024               Theft offences   \n",
       "1437          Wiltshire  2024               Theft offences   \n",
       "1438          Wiltshire  2024               Theft offences   \n",
       "1439          Wiltshire  2024  Violence against the person   \n",
       "1440          Wiltshire  2024  Violence against the person   \n",
       "\n",
       "                                       specific_offence  freq  \\\n",
       "0                                Arson endangering life     2   \n",
       "1                                 Other Criminal Damage     1   \n",
       "2             Possession of a controlled drug - Class A     2   \n",
       "3     Production, supply and possession with intent ...     6   \n",
       "4     Production, supply and possession with intent ...     1   \n",
       "...                                                 ...   ...   \n",
       "1436        Burglary in a Dwelling - triable either way     1   \n",
       "1437                                   Theft from Shops     9   \n",
       "1438                   Theft from the Person of Another     2   \n",
       "1439             Assault occasioning actual bodily harm     1   \n",
       "1440                     Assault of an emergency worker     4   \n",
       "\n",
       "                           parent  plot_order  \n",
       "0              All other offences         0.0  \n",
       "1              All other offences         0.0  \n",
       "2                    All offences         2.0  \n",
       "3                    All offences         2.0  \n",
       "4                    All offences         2.0  \n",
       "...                           ...         ...  \n",
       "1436                 All offences         1.0  \n",
       "1437                 All offences         1.0  \n",
       "1438                 All offences         1.0  \n",
       "1439                 All offences         3.0  \n",
       "1440  Violence against the person         3.0  \n",
       "\n",
       "[1441 rows x 7 columns]"
      ]
     },
     "execution_count": 39,
     "metadata": {},
     "output_type": "execute_result"
    }
   ],
   "source": [
    "df = (\n",
    "    filter_custody_offences.load_data()\n",
    "    .pipe(filter_custody_offences.process_data)\n",
    "    )\n",
    "df"
   ]
  },
  {
   "cell_type": "markdown",
   "id": "cc1a99bc",
   "metadata": {},
   "source": [
    "I feel that I need to group by offence, but somehow also keep the assault of an emergency worker as a separate offence, with VAP as the parent.\n",
    "\n",
    "Store the data as a variable and then concat it with the original DataFrame."
   ]
  },
  {
   "cell_type": "code",
   "execution_count": 47,
   "id": "429fb763",
   "metadata": {},
   "outputs": [
    {
     "name": "stderr",
     "output_type": "stream",
     "text": [
      "2025-08-06 10:24:14,785 - INFO - Extracting 'Assault of an emergency worker' offence...\n"
     ]
    },
    {
     "data": {
      "text/html": [
       "<div>\n",
       "<style scoped>\n",
       "    .dataframe tbody tr th:only-of-type {\n",
       "        vertical-align: middle;\n",
       "    }\n",
       "\n",
       "    .dataframe tbody tr th {\n",
       "        vertical-align: top;\n",
       "    }\n",
       "\n",
       "    .dataframe thead th {\n",
       "        text-align: right;\n",
       "    }\n",
       "</style>\n",
       "<table border=\"1\" class=\"dataframe\">\n",
       "  <thead>\n",
       "    <tr style=\"text-align: right;\">\n",
       "      <th></th>\n",
       "      <th>pfa</th>\n",
       "      <th>year</th>\n",
       "      <th>offence</th>\n",
       "      <th>specific_offence</th>\n",
       "      <th>freq</th>\n",
       "      <th>parent</th>\n",
       "      <th>plot_order</th>\n",
       "    </tr>\n",
       "  </thead>\n",
       "  <tbody>\n",
       "    <tr>\n",
       "      <th>27</th>\n",
       "      <td>Avon and Somerset</td>\n",
       "      <td>2024</td>\n",
       "      <td>Assault of an emergency worker</td>\n",
       "      <td>Assault of an emergency worker</td>\n",
       "      <td>25</td>\n",
       "      <td>Violence against the person</td>\n",
       "      <td>3.0</td>\n",
       "    </tr>\n",
       "    <tr>\n",
       "      <th>72</th>\n",
       "      <td>Cambridgeshire</td>\n",
       "      <td>2024</td>\n",
       "      <td>Assault of an emergency worker</td>\n",
       "      <td>Assault of an emergency worker</td>\n",
       "      <td>6</td>\n",
       "      <td>Violence against the person</td>\n",
       "      <td>3.0</td>\n",
       "    </tr>\n",
       "    <tr>\n",
       "      <th>102</th>\n",
       "      <td>Cheshire</td>\n",
       "      <td>2024</td>\n",
       "      <td>Assault of an emergency worker</td>\n",
       "      <td>Assault of an emergency worker</td>\n",
       "      <td>17</td>\n",
       "      <td>Violence against the person</td>\n",
       "      <td>3.0</td>\n",
       "    </tr>\n",
       "    <tr>\n",
       "      <th>137</th>\n",
       "      <td>Cleveland</td>\n",
       "      <td>2024</td>\n",
       "      <td>Assault of an emergency worker</td>\n",
       "      <td>Assault of an emergency worker</td>\n",
       "      <td>19</td>\n",
       "      <td>Violence against the person</td>\n",
       "      <td>3.0</td>\n",
       "    </tr>\n",
       "    <tr>\n",
       "      <th>164</th>\n",
       "      <td>Cumbria</td>\n",
       "      <td>2024</td>\n",
       "      <td>Assault of an emergency worker</td>\n",
       "      <td>Assault of an emergency worker</td>\n",
       "      <td>5</td>\n",
       "      <td>Violence against the person</td>\n",
       "      <td>3.0</td>\n",
       "    </tr>\n",
       "    <tr>\n",
       "      <th>190</th>\n",
       "      <td>Derbyshire</td>\n",
       "      <td>2024</td>\n",
       "      <td>Assault of an emergency worker</td>\n",
       "      <td>Assault of an emergency worker</td>\n",
       "      <td>13</td>\n",
       "      <td>Violence against the person</td>\n",
       "      <td>3.0</td>\n",
       "    </tr>\n",
       "    <tr>\n",
       "      <th>227</th>\n",
       "      <td>Devon and Cornwall</td>\n",
       "      <td>2024</td>\n",
       "      <td>Assault of an emergency worker</td>\n",
       "      <td>Assault of an emergency worker</td>\n",
       "      <td>12</td>\n",
       "      <td>Violence against the person</td>\n",
       "      <td>3.0</td>\n",
       "    </tr>\n",
       "    <tr>\n",
       "      <th>254</th>\n",
       "      <td>Dorset</td>\n",
       "      <td>2024</td>\n",
       "      <td>Assault of an emergency worker</td>\n",
       "      <td>Assault of an emergency worker</td>\n",
       "      <td>3</td>\n",
       "      <td>Violence against the person</td>\n",
       "      <td>3.0</td>\n",
       "    </tr>\n",
       "    <tr>\n",
       "      <th>280</th>\n",
       "      <td>Durham</td>\n",
       "      <td>2024</td>\n",
       "      <td>Assault of an emergency worker</td>\n",
       "      <td>Assault of an emergency worker</td>\n",
       "      <td>4</td>\n",
       "      <td>Violence against the person</td>\n",
       "      <td>3.0</td>\n",
       "    </tr>\n",
       "    <tr>\n",
       "      <th>289</th>\n",
       "      <td>Dyfed Powys</td>\n",
       "      <td>2024</td>\n",
       "      <td>Assault of an emergency worker</td>\n",
       "      <td>Assault of an emergency worker</td>\n",
       "      <td>5</td>\n",
       "      <td>Violence against the person</td>\n",
       "      <td>3.0</td>\n",
       "    </tr>\n",
       "    <tr>\n",
       "      <th>314</th>\n",
       "      <td>Essex</td>\n",
       "      <td>2024</td>\n",
       "      <td>Assault of an emergency worker</td>\n",
       "      <td>Assault of an emergency worker</td>\n",
       "      <td>4</td>\n",
       "      <td>Violence against the person</td>\n",
       "      <td>3.0</td>\n",
       "    </tr>\n",
       "    <tr>\n",
       "      <th>336</th>\n",
       "      <td>Gloucestershire</td>\n",
       "      <td>2024</td>\n",
       "      <td>Assault of an emergency worker</td>\n",
       "      <td>Assault of an emergency worker</td>\n",
       "      <td>1</td>\n",
       "      <td>Violence against the person</td>\n",
       "      <td>3.0</td>\n",
       "    </tr>\n",
       "    <tr>\n",
       "      <th>392</th>\n",
       "      <td>Greater Manchester</td>\n",
       "      <td>2024</td>\n",
       "      <td>Assault of an emergency worker</td>\n",
       "      <td>Assault of an emergency worker</td>\n",
       "      <td>15</td>\n",
       "      <td>Violence against the person</td>\n",
       "      <td>3.0</td>\n",
       "    </tr>\n",
       "    <tr>\n",
       "      <th>413</th>\n",
       "      <td>Gwent</td>\n",
       "      <td>2024</td>\n",
       "      <td>Assault of an emergency worker</td>\n",
       "      <td>Assault of an emergency worker</td>\n",
       "      <td>7</td>\n",
       "      <td>Violence against the person</td>\n",
       "      <td>3.0</td>\n",
       "    </tr>\n",
       "    <tr>\n",
       "      <th>451</th>\n",
       "      <td>Hampshire</td>\n",
       "      <td>2024</td>\n",
       "      <td>Assault of an emergency worker</td>\n",
       "      <td>Assault of an emergency worker</td>\n",
       "      <td>7</td>\n",
       "      <td>Violence against the person</td>\n",
       "      <td>3.0</td>\n",
       "    </tr>\n",
       "    <tr>\n",
       "      <th>479</th>\n",
       "      <td>Hertfordshire</td>\n",
       "      <td>2024</td>\n",
       "      <td>Assault of an emergency worker</td>\n",
       "      <td>Assault of an emergency worker</td>\n",
       "      <td>4</td>\n",
       "      <td>Violence against the person</td>\n",
       "      <td>3.0</td>\n",
       "    </tr>\n",
       "    <tr>\n",
       "      <th>508</th>\n",
       "      <td>Humberside</td>\n",
       "      <td>2024</td>\n",
       "      <td>Assault of an emergency worker</td>\n",
       "      <td>Assault of an emergency worker</td>\n",
       "      <td>21</td>\n",
       "      <td>Violence against the person</td>\n",
       "      <td>3.0</td>\n",
       "    </tr>\n",
       "    <tr>\n",
       "      <th>546</th>\n",
       "      <td>Kent</td>\n",
       "      <td>2024</td>\n",
       "      <td>Assault of an emergency worker</td>\n",
       "      <td>Assault of an emergency worker</td>\n",
       "      <td>8</td>\n",
       "      <td>Violence against the person</td>\n",
       "      <td>3.0</td>\n",
       "    </tr>\n",
       "    <tr>\n",
       "      <th>600</th>\n",
       "      <td>Lancashire</td>\n",
       "      <td>2024</td>\n",
       "      <td>Assault of an emergency worker</td>\n",
       "      <td>Assault of an emergency worker</td>\n",
       "      <td>17</td>\n",
       "      <td>Violence against the person</td>\n",
       "      <td>3.0</td>\n",
       "    </tr>\n",
       "    <tr>\n",
       "      <th>631</th>\n",
       "      <td>Leicestershire</td>\n",
       "      <td>2024</td>\n",
       "      <td>Assault of an emergency worker</td>\n",
       "      <td>Assault of an emergency worker</td>\n",
       "      <td>3</td>\n",
       "      <td>Violence against the person</td>\n",
       "      <td>3.0</td>\n",
       "    </tr>\n",
       "    <tr>\n",
       "      <th>657</th>\n",
       "      <td>Lincolnshire</td>\n",
       "      <td>2024</td>\n",
       "      <td>Assault of an emergency worker</td>\n",
       "      <td>Assault of an emergency worker</td>\n",
       "      <td>4</td>\n",
       "      <td>Violence against the person</td>\n",
       "      <td>3.0</td>\n",
       "    </tr>\n",
       "    <tr>\n",
       "      <th>731</th>\n",
       "      <td>London</td>\n",
       "      <td>2024</td>\n",
       "      <td>Assault of an emergency worker</td>\n",
       "      <td>Assault of an emergency worker</td>\n",
       "      <td>61</td>\n",
       "      <td>Violence against the person</td>\n",
       "      <td>3.0</td>\n",
       "    </tr>\n",
       "    <tr>\n",
       "      <th>790</th>\n",
       "      <td>Merseyside</td>\n",
       "      <td>2024</td>\n",
       "      <td>Assault of an emergency worker</td>\n",
       "      <td>Assault of an emergency worker</td>\n",
       "      <td>9</td>\n",
       "      <td>Violence against the person</td>\n",
       "      <td>3.0</td>\n",
       "    </tr>\n",
       "    <tr>\n",
       "      <th>820</th>\n",
       "      <td>Norfolk</td>\n",
       "      <td>2024</td>\n",
       "      <td>Assault of an emergency worker</td>\n",
       "      <td>Assault of an emergency worker</td>\n",
       "      <td>4</td>\n",
       "      <td>Violence against the person</td>\n",
       "      <td>3.0</td>\n",
       "    </tr>\n",
       "    <tr>\n",
       "      <th>845</th>\n",
       "      <td>North Wales</td>\n",
       "      <td>2024</td>\n",
       "      <td>Assault of an emergency worker</td>\n",
       "      <td>Assault of an emergency worker</td>\n",
       "      <td>5</td>\n",
       "      <td>Violence against the person</td>\n",
       "      <td>3.0</td>\n",
       "    </tr>\n",
       "    <tr>\n",
       "      <th>872</th>\n",
       "      <td>North Yorkshire</td>\n",
       "      <td>2024</td>\n",
       "      <td>Assault of an emergency worker</td>\n",
       "      <td>Assault of an emergency worker</td>\n",
       "      <td>3</td>\n",
       "      <td>Violence against the person</td>\n",
       "      <td>3.0</td>\n",
       "    </tr>\n",
       "    <tr>\n",
       "      <th>900</th>\n",
       "      <td>Northamptonshire</td>\n",
       "      <td>2024</td>\n",
       "      <td>Assault of an emergency worker</td>\n",
       "      <td>Assault of an emergency worker</td>\n",
       "      <td>2</td>\n",
       "      <td>Violence against the person</td>\n",
       "      <td>3.0</td>\n",
       "    </tr>\n",
       "    <tr>\n",
       "      <th>931</th>\n",
       "      <td>Northumbria</td>\n",
       "      <td>2024</td>\n",
       "      <td>Assault of an emergency worker</td>\n",
       "      <td>Assault of an emergency worker</td>\n",
       "      <td>7</td>\n",
       "      <td>Violence against the person</td>\n",
       "      <td>3.0</td>\n",
       "    </tr>\n",
       "    <tr>\n",
       "      <th>973</th>\n",
       "      <td>Nottinghamshire</td>\n",
       "      <td>2024</td>\n",
       "      <td>Assault of an emergency worker</td>\n",
       "      <td>Assault of an emergency worker</td>\n",
       "      <td>6</td>\n",
       "      <td>Violence against the person</td>\n",
       "      <td>3.0</td>\n",
       "    </tr>\n",
       "    <tr>\n",
       "      <th>1029</th>\n",
       "      <td>South Wales</td>\n",
       "      <td>2024</td>\n",
       "      <td>Assault of an emergency worker</td>\n",
       "      <td>Assault of an emergency worker</td>\n",
       "      <td>25</td>\n",
       "      <td>Violence against the person</td>\n",
       "      <td>3.0</td>\n",
       "    </tr>\n",
       "    <tr>\n",
       "      <th>1085</th>\n",
       "      <td>South Yorkshire</td>\n",
       "      <td>2024</td>\n",
       "      <td>Assault of an emergency worker</td>\n",
       "      <td>Assault of an emergency worker</td>\n",
       "      <td>22</td>\n",
       "      <td>Violence against the person</td>\n",
       "      <td>3.0</td>\n",
       "    </tr>\n",
       "    <tr>\n",
       "      <th>1128</th>\n",
       "      <td>Staffordshire</td>\n",
       "      <td>2024</td>\n",
       "      <td>Assault of an emergency worker</td>\n",
       "      <td>Assault of an emergency worker</td>\n",
       "      <td>8</td>\n",
       "      <td>Violence against the person</td>\n",
       "      <td>3.0</td>\n",
       "    </tr>\n",
       "    <tr>\n",
       "      <th>1149</th>\n",
       "      <td>Suffolk</td>\n",
       "      <td>2024</td>\n",
       "      <td>Assault of an emergency worker</td>\n",
       "      <td>Assault of an emergency worker</td>\n",
       "      <td>3</td>\n",
       "      <td>Violence against the person</td>\n",
       "      <td>3.0</td>\n",
       "    </tr>\n",
       "    <tr>\n",
       "      <th>1174</th>\n",
       "      <td>Surrey</td>\n",
       "      <td>2024</td>\n",
       "      <td>Assault of an emergency worker</td>\n",
       "      <td>Assault of an emergency worker</td>\n",
       "      <td>5</td>\n",
       "      <td>Violence against the person</td>\n",
       "      <td>3.0</td>\n",
       "    </tr>\n",
       "    <tr>\n",
       "      <th>1199</th>\n",
       "      <td>Sussex</td>\n",
       "      <td>2024</td>\n",
       "      <td>Assault of an emergency worker</td>\n",
       "      <td>Assault of an emergency worker</td>\n",
       "      <td>10</td>\n",
       "      <td>Violence against the person</td>\n",
       "      <td>3.0</td>\n",
       "    </tr>\n",
       "    <tr>\n",
       "      <th>1242</th>\n",
       "      <td>Thames Valley</td>\n",
       "      <td>2024</td>\n",
       "      <td>Assault of an emergency worker</td>\n",
       "      <td>Assault of an emergency worker</td>\n",
       "      <td>10</td>\n",
       "      <td>Violence against the person</td>\n",
       "      <td>3.0</td>\n",
       "    </tr>\n",
       "    <tr>\n",
       "      <th>1291</th>\n",
       "      <td>West Mercia</td>\n",
       "      <td>2024</td>\n",
       "      <td>Assault of an emergency worker</td>\n",
       "      <td>Assault of an emergency worker</td>\n",
       "      <td>1</td>\n",
       "      <td>Violence against the person</td>\n",
       "      <td>3.0</td>\n",
       "    </tr>\n",
       "    <tr>\n",
       "      <th>1336</th>\n",
       "      <td>West Midlands</td>\n",
       "      <td>2024</td>\n",
       "      <td>Assault of an emergency worker</td>\n",
       "      <td>Assault of an emergency worker</td>\n",
       "      <td>24</td>\n",
       "      <td>Violence against the person</td>\n",
       "      <td>3.0</td>\n",
       "    </tr>\n",
       "    <tr>\n",
       "      <th>1406</th>\n",
       "      <td>West Yorkshire</td>\n",
       "      <td>2024</td>\n",
       "      <td>Assault of an emergency worker</td>\n",
       "      <td>Assault of an emergency worker</td>\n",
       "      <td>30</td>\n",
       "      <td>Violence against the person</td>\n",
       "      <td>3.0</td>\n",
       "    </tr>\n",
       "    <tr>\n",
       "      <th>1440</th>\n",
       "      <td>Wiltshire</td>\n",
       "      <td>2024</td>\n",
       "      <td>Assault of an emergency worker</td>\n",
       "      <td>Assault of an emergency worker</td>\n",
       "      <td>4</td>\n",
       "      <td>Violence against the person</td>\n",
       "      <td>3.0</td>\n",
       "    </tr>\n",
       "  </tbody>\n",
       "</table>\n",
       "</div>"
      ],
      "text/plain": [
       "                     pfa  year                         offence  \\\n",
       "27     Avon and Somerset  2024  Assault of an emergency worker   \n",
       "72        Cambridgeshire  2024  Assault of an emergency worker   \n",
       "102             Cheshire  2024  Assault of an emergency worker   \n",
       "137            Cleveland  2024  Assault of an emergency worker   \n",
       "164              Cumbria  2024  Assault of an emergency worker   \n",
       "190           Derbyshire  2024  Assault of an emergency worker   \n",
       "227   Devon and Cornwall  2024  Assault of an emergency worker   \n",
       "254               Dorset  2024  Assault of an emergency worker   \n",
       "280               Durham  2024  Assault of an emergency worker   \n",
       "289          Dyfed Powys  2024  Assault of an emergency worker   \n",
       "314                Essex  2024  Assault of an emergency worker   \n",
       "336      Gloucestershire  2024  Assault of an emergency worker   \n",
       "392   Greater Manchester  2024  Assault of an emergency worker   \n",
       "413                Gwent  2024  Assault of an emergency worker   \n",
       "451            Hampshire  2024  Assault of an emergency worker   \n",
       "479        Hertfordshire  2024  Assault of an emergency worker   \n",
       "508           Humberside  2024  Assault of an emergency worker   \n",
       "546                 Kent  2024  Assault of an emergency worker   \n",
       "600           Lancashire  2024  Assault of an emergency worker   \n",
       "631       Leicestershire  2024  Assault of an emergency worker   \n",
       "657         Lincolnshire  2024  Assault of an emergency worker   \n",
       "731               London  2024  Assault of an emergency worker   \n",
       "790           Merseyside  2024  Assault of an emergency worker   \n",
       "820              Norfolk  2024  Assault of an emergency worker   \n",
       "845          North Wales  2024  Assault of an emergency worker   \n",
       "872      North Yorkshire  2024  Assault of an emergency worker   \n",
       "900     Northamptonshire  2024  Assault of an emergency worker   \n",
       "931          Northumbria  2024  Assault of an emergency worker   \n",
       "973      Nottinghamshire  2024  Assault of an emergency worker   \n",
       "1029         South Wales  2024  Assault of an emergency worker   \n",
       "1085     South Yorkshire  2024  Assault of an emergency worker   \n",
       "1128       Staffordshire  2024  Assault of an emergency worker   \n",
       "1149             Suffolk  2024  Assault of an emergency worker   \n",
       "1174              Surrey  2024  Assault of an emergency worker   \n",
       "1199              Sussex  2024  Assault of an emergency worker   \n",
       "1242       Thames Valley  2024  Assault of an emergency worker   \n",
       "1291         West Mercia  2024  Assault of an emergency worker   \n",
       "1336       West Midlands  2024  Assault of an emergency worker   \n",
       "1406      West Yorkshire  2024  Assault of an emergency worker   \n",
       "1440           Wiltshire  2024  Assault of an emergency worker   \n",
       "\n",
       "                    specific_offence  freq                       parent  \\\n",
       "27    Assault of an emergency worker    25  Violence against the person   \n",
       "72    Assault of an emergency worker     6  Violence against the person   \n",
       "102   Assault of an emergency worker    17  Violence against the person   \n",
       "137   Assault of an emergency worker    19  Violence against the person   \n",
       "164   Assault of an emergency worker     5  Violence against the person   \n",
       "190   Assault of an emergency worker    13  Violence against the person   \n",
       "227   Assault of an emergency worker    12  Violence against the person   \n",
       "254   Assault of an emergency worker     3  Violence against the person   \n",
       "280   Assault of an emergency worker     4  Violence against the person   \n",
       "289   Assault of an emergency worker     5  Violence against the person   \n",
       "314   Assault of an emergency worker     4  Violence against the person   \n",
       "336   Assault of an emergency worker     1  Violence against the person   \n",
       "392   Assault of an emergency worker    15  Violence against the person   \n",
       "413   Assault of an emergency worker     7  Violence against the person   \n",
       "451   Assault of an emergency worker     7  Violence against the person   \n",
       "479   Assault of an emergency worker     4  Violence against the person   \n",
       "508   Assault of an emergency worker    21  Violence against the person   \n",
       "546   Assault of an emergency worker     8  Violence against the person   \n",
       "600   Assault of an emergency worker    17  Violence against the person   \n",
       "631   Assault of an emergency worker     3  Violence against the person   \n",
       "657   Assault of an emergency worker     4  Violence against the person   \n",
       "731   Assault of an emergency worker    61  Violence against the person   \n",
       "790   Assault of an emergency worker     9  Violence against the person   \n",
       "820   Assault of an emergency worker     4  Violence against the person   \n",
       "845   Assault of an emergency worker     5  Violence against the person   \n",
       "872   Assault of an emergency worker     3  Violence against the person   \n",
       "900   Assault of an emergency worker     2  Violence against the person   \n",
       "931   Assault of an emergency worker     7  Violence against the person   \n",
       "973   Assault of an emergency worker     6  Violence against the person   \n",
       "1029  Assault of an emergency worker    25  Violence against the person   \n",
       "1085  Assault of an emergency worker    22  Violence against the person   \n",
       "1128  Assault of an emergency worker     8  Violence against the person   \n",
       "1149  Assault of an emergency worker     3  Violence against the person   \n",
       "1174  Assault of an emergency worker     5  Violence against the person   \n",
       "1199  Assault of an emergency worker    10  Violence against the person   \n",
       "1242  Assault of an emergency worker    10  Violence against the person   \n",
       "1291  Assault of an emergency worker     1  Violence against the person   \n",
       "1336  Assault of an emergency worker    24  Violence against the person   \n",
       "1406  Assault of an emergency worker    30  Violence against the person   \n",
       "1440  Assault of an emergency worker     4  Violence against the person   \n",
       "\n",
       "      plot_order  \n",
       "27           3.0  \n",
       "72           3.0  \n",
       "102          3.0  \n",
       "137          3.0  \n",
       "164          3.0  \n",
       "190          3.0  \n",
       "227          3.0  \n",
       "254          3.0  \n",
       "280          3.0  \n",
       "289          3.0  \n",
       "314          3.0  \n",
       "336          3.0  \n",
       "392          3.0  \n",
       "413          3.0  \n",
       "451          3.0  \n",
       "479          3.0  \n",
       "508          3.0  \n",
       "546          3.0  \n",
       "600          3.0  \n",
       "631          3.0  \n",
       "657          3.0  \n",
       "731          3.0  \n",
       "790          3.0  \n",
       "820          3.0  \n",
       "845          3.0  \n",
       "872          3.0  \n",
       "900          3.0  \n",
       "931          3.0  \n",
       "973          3.0  \n",
       "1029         3.0  \n",
       "1085         3.0  \n",
       "1128         3.0  \n",
       "1149         3.0  \n",
       "1174         3.0  \n",
       "1199         3.0  \n",
       "1242         3.0  \n",
       "1291         3.0  \n",
       "1336         3.0  \n",
       "1406         3.0  \n",
       "1440         3.0  "
      ]
     },
     "execution_count": 47,
     "metadata": {},
     "output_type": "execute_result"
    }
   ],
   "source": [
    "ew_df = filter_custody_offences.extract_assault_of_emergency_worker(df)\n",
    "ew_df"
   ]
  },
  {
   "cell_type": "markdown",
   "id": "2e556f19",
   "metadata": {},
   "source": [
    "Great, that seems to have worked. Now let's further develop the test processing function to now perform the following steps:\n",
    "1. Extract the assault of an emergency worker offence.\n",
    "2. Group `df` by PFA and offence (again!) to collapse all of the specific offences into a single offence.\n",
    "3. Add the assault of an emergency worker offence back into `df`.\n",
    "4. Set the plot order for the offences.\n",
    "5. Drop the `specific_offence` column.\n",
    "6. Set the `parent` column values."
   ]
  },
  {
   "cell_type": "code",
   "execution_count": null,
   "id": "0e550198",
   "metadata": {},
   "outputs": [
    {
     "name": "stderr",
     "output_type": "stream",
     "text": [
      "2025-08-06 10:44:29,531 - INFO - Loading interim data for custody offences...\n",
      "2025-08-06 10:44:30,131 - INFO - Loaded data from data/interim/women_cust_comm_sus.csv\n",
      "2025-08-06 10:44:30,485 - INFO - Filtering data for custodial sentences...\n",
      "2025-08-06 10:44:30,494 - INFO - Running test processing...\n",
      "2025-08-06 10:44:30,495 - INFO - Filtering data from 2024 onwards\n",
      "2025-08-06 10:44:30,499 - INFO - Grouping data by pfa, year, offence, specific_offence and summing frequencies...\n",
      "2025-08-06 10:44:30,512 - INFO - Extracting 'Assault of an emergency worker' offence...\n",
      "2025-08-06 10:44:30,514 - INFO - Grouping data by pfa, year, offence and summing frequencies...\n",
      "2025-08-06 10:44:30,519 - INFO - Adding 'Assault of an emergency worker' offence to the main DataFrame...\n",
      "2025-08-06 10:44:30,527 - INFO - Setting plot order for offences...\n",
      "2025-08-06 10:44:30,530 - INFO - Creating filter for highlighted offence groups...\n",
      "2025-08-06 10:44:30,531 - INFO - Setting parent column for offence groups...\n",
      "2025-08-06 10:44:30,536 - INFO - Test processing function executed successfully.\n"
     ]
    },
    {
     "data": {
      "text/html": [
       "<div>\n",
       "<style scoped>\n",
       "    .dataframe tbody tr th:only-of-type {\n",
       "        vertical-align: middle;\n",
       "    }\n",
       "\n",
       "    .dataframe tbody tr th {\n",
       "        vertical-align: top;\n",
       "    }\n",
       "\n",
       "    .dataframe thead th {\n",
       "        text-align: right;\n",
       "    }\n",
       "</style>\n",
       "<table border=\"1\" class=\"dataframe\">\n",
       "  <thead>\n",
       "    <tr style=\"text-align: right;\">\n",
       "      <th></th>\n",
       "      <th>pfa</th>\n",
       "      <th>year</th>\n",
       "      <th>offence</th>\n",
       "      <th>freq</th>\n",
       "      <th>plot_order</th>\n",
       "      <th>parent</th>\n",
       "    </tr>\n",
       "  </thead>\n",
       "  <tbody>\n",
       "    <tr>\n",
       "      <th>0</th>\n",
       "      <td>Gloucestershire</td>\n",
       "      <td>2024</td>\n",
       "      <td>Assault of an emergency worker</td>\n",
       "      <td>1</td>\n",
       "      <td>0.0</td>\n",
       "      <td>Violence against the person</td>\n",
       "    </tr>\n",
       "    <tr>\n",
       "      <th>1</th>\n",
       "      <td>West Mercia</td>\n",
       "      <td>2024</td>\n",
       "      <td>Assault of an emergency worker</td>\n",
       "      <td>1</td>\n",
       "      <td>0.0</td>\n",
       "      <td>Violence against the person</td>\n",
       "    </tr>\n",
       "    <tr>\n",
       "      <th>2</th>\n",
       "      <td>Northamptonshire</td>\n",
       "      <td>2024</td>\n",
       "      <td>Assault of an emergency worker</td>\n",
       "      <td>2</td>\n",
       "      <td>0.0</td>\n",
       "      <td>Violence against the person</td>\n",
       "    </tr>\n",
       "    <tr>\n",
       "      <th>3</th>\n",
       "      <td>Dorset</td>\n",
       "      <td>2024</td>\n",
       "      <td>Assault of an emergency worker</td>\n",
       "      <td>3</td>\n",
       "      <td>0.0</td>\n",
       "      <td>Violence against the person</td>\n",
       "    </tr>\n",
       "    <tr>\n",
       "      <th>4</th>\n",
       "      <td>Leicestershire</td>\n",
       "      <td>2024</td>\n",
       "      <td>Assault of an emergency worker</td>\n",
       "      <td>3</td>\n",
       "      <td>0.0</td>\n",
       "      <td>Violence against the person</td>\n",
       "    </tr>\n",
       "    <tr>\n",
       "      <th>...</th>\n",
       "      <td>...</td>\n",
       "      <td>...</td>\n",
       "      <td>...</td>\n",
       "      <td>...</td>\n",
       "      <td>...</td>\n",
       "      <td>...</td>\n",
       "    </tr>\n",
       "    <tr>\n",
       "      <th>463</th>\n",
       "      <td>Lancashire</td>\n",
       "      <td>2024</td>\n",
       "      <td>Violence against the person</td>\n",
       "      <td>52</td>\n",
       "      <td>3.0</td>\n",
       "      <td>All offences</td>\n",
       "    </tr>\n",
       "    <tr>\n",
       "      <th>464</th>\n",
       "      <td>West Midlands</td>\n",
       "      <td>2024</td>\n",
       "      <td>Violence against the person</td>\n",
       "      <td>55</td>\n",
       "      <td>3.0</td>\n",
       "      <td>All offences</td>\n",
       "    </tr>\n",
       "    <tr>\n",
       "      <th>465</th>\n",
       "      <td>South Wales</td>\n",
       "      <td>2024</td>\n",
       "      <td>Violence against the person</td>\n",
       "      <td>58</td>\n",
       "      <td>3.0</td>\n",
       "      <td>All offences</td>\n",
       "    </tr>\n",
       "    <tr>\n",
       "      <th>466</th>\n",
       "      <td>West Yorkshire</td>\n",
       "      <td>2024</td>\n",
       "      <td>Violence against the person</td>\n",
       "      <td>77</td>\n",
       "      <td>3.0</td>\n",
       "      <td>All offences</td>\n",
       "    </tr>\n",
       "    <tr>\n",
       "      <th>467</th>\n",
       "      <td>London</td>\n",
       "      <td>2024</td>\n",
       "      <td>Violence against the person</td>\n",
       "      <td>144</td>\n",
       "      <td>3.0</td>\n",
       "      <td>All offences</td>\n",
       "    </tr>\n",
       "  </tbody>\n",
       "</table>\n",
       "<p>468 rows × 6 columns</p>\n",
       "</div>"
      ],
      "text/plain": [
       "                  pfa  year                         offence  freq  plot_order  \\\n",
       "0     Gloucestershire  2024  Assault of an emergency worker     1         0.0   \n",
       "1         West Mercia  2024  Assault of an emergency worker     1         0.0   \n",
       "2    Northamptonshire  2024  Assault of an emergency worker     2         0.0   \n",
       "3              Dorset  2024  Assault of an emergency worker     3         0.0   \n",
       "4      Leicestershire  2024  Assault of an emergency worker     3         0.0   \n",
       "..                ...   ...                             ...   ...         ...   \n",
       "463        Lancashire  2024     Violence against the person    52         3.0   \n",
       "464     West Midlands  2024     Violence against the person    55         3.0   \n",
       "465       South Wales  2024     Violence against the person    58         3.0   \n",
       "466    West Yorkshire  2024     Violence against the person    77         3.0   \n",
       "467            London  2024     Violence against the person   144         3.0   \n",
       "\n",
       "                          parent  \n",
       "0    Violence against the person  \n",
       "1    Violence against the person  \n",
       "2    Violence against the person  \n",
       "3    Violence against the person  \n",
       "4    Violence against the person  \n",
       "..                           ...  \n",
       "463                 All offences  \n",
       "464                 All offences  \n",
       "465                 All offences  \n",
       "466                 All offences  \n",
       "467                 All offences  \n",
       "\n",
       "[468 rows x 6 columns]"
      ]
     },
     "execution_count": 61,
     "metadata": {},
     "output_type": "execute_result"
    }
   ],
   "source": [
    "df = (\n",
    "    filter_custody_offences.load_data()\n",
    "    .pipe(filter_custody_offences.process_data)\n",
    "    )\n",
    "df"
   ]
  },
  {
   "cell_type": "code",
   "execution_count": 62,
   "id": "8729da61",
   "metadata": {},
   "outputs": [
    {
     "data": {
      "text/html": [
       "<div>\n",
       "<style scoped>\n",
       "    .dataframe tbody tr th:only-of-type {\n",
       "        vertical-align: middle;\n",
       "    }\n",
       "\n",
       "    .dataframe tbody tr th {\n",
       "        vertical-align: top;\n",
       "    }\n",
       "\n",
       "    .dataframe thead th {\n",
       "        text-align: right;\n",
       "    }\n",
       "</style>\n",
       "<table border=\"1\" class=\"dataframe\">\n",
       "  <thead>\n",
       "    <tr style=\"text-align: right;\">\n",
       "      <th></th>\n",
       "      <th>pfa</th>\n",
       "      <th>year</th>\n",
       "      <th>offence</th>\n",
       "      <th>freq</th>\n",
       "      <th>plot_order</th>\n",
       "      <th>parent</th>\n",
       "    </tr>\n",
       "  </thead>\n",
       "  <tbody>\n",
       "    <tr>\n",
       "      <th>387</th>\n",
       "      <td>Wiltshire</td>\n",
       "      <td>2024</td>\n",
       "      <td>Theft offences</td>\n",
       "      <td>13</td>\n",
       "      <td>1.0</td>\n",
       "      <td>All offences</td>\n",
       "    </tr>\n",
       "    <tr>\n",
       "      <th>429</th>\n",
       "      <td>Wiltshire</td>\n",
       "      <td>2024</td>\n",
       "      <td>Violence against the person</td>\n",
       "      <td>5</td>\n",
       "      <td>3.0</td>\n",
       "      <td>All offences</td>\n",
       "    </tr>\n",
       "    <tr>\n",
       "      <th>12</th>\n",
       "      <td>Wiltshire</td>\n",
       "      <td>2024</td>\n",
       "      <td>Assault of an emergency worker</td>\n",
       "      <td>4</td>\n",
       "      <td>0.0</td>\n",
       "      <td>Violence against the person</td>\n",
       "    </tr>\n",
       "    <tr>\n",
       "      <th>131</th>\n",
       "      <td>Wiltshire</td>\n",
       "      <td>2024</td>\n",
       "      <td>Fraud offences</td>\n",
       "      <td>4</td>\n",
       "      <td>0.0</td>\n",
       "      <td>All other offences</td>\n",
       "    </tr>\n",
       "    <tr>\n",
       "      <th>302</th>\n",
       "      <td>Wiltshire</td>\n",
       "      <td>2024</td>\n",
       "      <td>Sexual offences</td>\n",
       "      <td>2</td>\n",
       "      <td>0.0</td>\n",
       "      <td>All other offences</td>\n",
       "    </tr>\n",
       "    <tr>\n",
       "      <th>225</th>\n",
       "      <td>Wiltshire</td>\n",
       "      <td>2024</td>\n",
       "      <td>Public order offences</td>\n",
       "      <td>2</td>\n",
       "      <td>0.0</td>\n",
       "      <td>All other offences</td>\n",
       "    </tr>\n",
       "    <tr>\n",
       "      <th>69</th>\n",
       "      <td>Wiltshire</td>\n",
       "      <td>2024</td>\n",
       "      <td>Drug offences</td>\n",
       "      <td>1</td>\n",
       "      <td>2.0</td>\n",
       "      <td>All offences</td>\n",
       "    </tr>\n",
       "    <tr>\n",
       "      <th>46</th>\n",
       "      <td>Wiltshire</td>\n",
       "      <td>2024</td>\n",
       "      <td>Criminal damage and arson</td>\n",
       "      <td>1</td>\n",
       "      <td>0.0</td>\n",
       "      <td>All other offences</td>\n",
       "    </tr>\n",
       "    <tr>\n",
       "      <th>145</th>\n",
       "      <td>Wiltshire</td>\n",
       "      <td>2024</td>\n",
       "      <td>Miscellaneous crimes against society</td>\n",
       "      <td>1</td>\n",
       "      <td>0.0</td>\n",
       "      <td>All other offences</td>\n",
       "    </tr>\n",
       "    <tr>\n",
       "      <th>187</th>\n",
       "      <td>Wiltshire</td>\n",
       "      <td>2024</td>\n",
       "      <td>Possession of weapons</td>\n",
       "      <td>1</td>\n",
       "      <td>0.0</td>\n",
       "      <td>All other offences</td>\n",
       "    </tr>\n",
       "    <tr>\n",
       "      <th>346</th>\n",
       "      <td>Wiltshire</td>\n",
       "      <td>2024</td>\n",
       "      <td>Summary non-motoring</td>\n",
       "      <td>1</td>\n",
       "      <td>0.0</td>\n",
       "      <td>All other offences</td>\n",
       "    </tr>\n",
       "    <tr>\n",
       "      <th>325</th>\n",
       "      <td>Wiltshire</td>\n",
       "      <td>2024</td>\n",
       "      <td>Summary motoring</td>\n",
       "      <td>1</td>\n",
       "      <td>0.0</td>\n",
       "      <td>All other offences</td>\n",
       "    </tr>\n",
       "  </tbody>\n",
       "</table>\n",
       "</div>"
      ],
      "text/plain": [
       "           pfa  year                               offence  freq  plot_order  \\\n",
       "387  Wiltshire  2024                        Theft offences    13         1.0   \n",
       "429  Wiltshire  2024           Violence against the person     5         3.0   \n",
       "12   Wiltshire  2024        Assault of an emergency worker     4         0.0   \n",
       "131  Wiltshire  2024                        Fraud offences     4         0.0   \n",
       "302  Wiltshire  2024                       Sexual offences     2         0.0   \n",
       "225  Wiltshire  2024                 Public order offences     2         0.0   \n",
       "69   Wiltshire  2024                         Drug offences     1         2.0   \n",
       "46   Wiltshire  2024             Criminal damage and arson     1         0.0   \n",
       "145  Wiltshire  2024  Miscellaneous crimes against society     1         0.0   \n",
       "187  Wiltshire  2024                 Possession of weapons     1         0.0   \n",
       "346  Wiltshire  2024                  Summary non-motoring     1         0.0   \n",
       "325  Wiltshire  2024                      Summary motoring     1         0.0   \n",
       "\n",
       "                          parent  \n",
       "387                 All offences  \n",
       "429                 All offences  \n",
       "12   Violence against the person  \n",
       "131           All other offences  \n",
       "302           All other offences  \n",
       "225           All other offences  \n",
       "69                  All offences  \n",
       "46            All other offences  \n",
       "145           All other offences  \n",
       "187           All other offences  \n",
       "346           All other offences  \n",
       "325           All other offences  "
      ]
     },
     "execution_count": 62,
     "metadata": {},
     "output_type": "execute_result"
    }
   ],
   "source": [
    "wiltshire_df = df.query(\"pfa == 'Wiltshire'\").sort_values(by='freq', ascending=False)\n",
    "wiltshire_df"
   ]
  },
  {
   "cell_type": "markdown",
   "id": "5a9410f7",
   "metadata": {},
   "source": [
    "Let's finally ensure that the `All other offences` subtotal is calculated. I can do this by grouping the data by the 'offence' and 'parent' columns, summing the 'freq' column, and then creating a new row for 'All other offences' with the total frequency."
   ]
  },
  {
   "cell_type": "code",
   "execution_count": 63,
   "id": "47603498",
   "metadata": {},
   "outputs": [],
   "source": [
    "def create_all_offences_group(pfa_df: pd.DataFrame) -> pd.DataFrame:\n",
    "    \"\"\"\n",
    "    This method filters out the highlighted offences and aggregates the remaining offences\n",
    "    into a single group. It then creates a new row in the DataFrame for \"All other offences\"\n",
    "    with the sum of their proportions.\n",
    "    \"\"\"\n",
    "    mask_filter = ~filter_custody_offences.filter_offences(pfa_df)  # Filter out highlighted offences\n",
    "    pfa_df = pd.concat([\n",
    "        pfa_df,\n",
    "        pd.DataFrame.from_records([{\n",
    "            'pfa': pfa_df['pfa'].iloc[0],\n",
    "            'year': pfa_df['year'].iloc[0],\n",
    "            'offence': \"All other offences\",\n",
    "            'freq': pfa_df.loc[mask_filter, 'freq'].sum(),\n",
    "            'parent': \"All offences\",\n",
    "            'plot_order': 0\n",
    "        }])\n",
    "    ], ignore_index=True).sort_values(by=['plot_order', 'freq'], ascending=True)\n",
    "    return pfa_df"
   ]
  },
  {
   "cell_type": "code",
   "execution_count": 66,
   "id": "8aded824",
   "metadata": {},
   "outputs": [
    {
     "name": "stderr",
     "output_type": "stream",
     "text": [
      "2025-08-06 11:19:24,421 - INFO - Creating filter for highlighted offence groups...\n"
     ]
    },
    {
     "data": {
      "text/html": [
       "<div>\n",
       "<style scoped>\n",
       "    .dataframe tbody tr th:only-of-type {\n",
       "        vertical-align: middle;\n",
       "    }\n",
       "\n",
       "    .dataframe tbody tr th {\n",
       "        vertical-align: top;\n",
       "    }\n",
       "\n",
       "    .dataframe thead th {\n",
       "        text-align: right;\n",
       "    }\n",
       "</style>\n",
       "<table border=\"1\" class=\"dataframe\">\n",
       "  <thead>\n",
       "    <tr style=\"text-align: right;\">\n",
       "      <th></th>\n",
       "      <th>pfa</th>\n",
       "      <th>year</th>\n",
       "      <th>offence</th>\n",
       "      <th>freq</th>\n",
       "      <th>plot_order</th>\n",
       "      <th>parent</th>\n",
       "    </tr>\n",
       "  </thead>\n",
       "  <tbody>\n",
       "    <tr>\n",
       "      <th>7</th>\n",
       "      <td>Wiltshire</td>\n",
       "      <td>2024</td>\n",
       "      <td>Criminal damage and arson</td>\n",
       "      <td>1</td>\n",
       "      <td>0.0</td>\n",
       "      <td>All other offences</td>\n",
       "    </tr>\n",
       "    <tr>\n",
       "      <th>8</th>\n",
       "      <td>Wiltshire</td>\n",
       "      <td>2024</td>\n",
       "      <td>Miscellaneous crimes against society</td>\n",
       "      <td>1</td>\n",
       "      <td>0.0</td>\n",
       "      <td>All other offences</td>\n",
       "    </tr>\n",
       "    <tr>\n",
       "      <th>9</th>\n",
       "      <td>Wiltshire</td>\n",
       "      <td>2024</td>\n",
       "      <td>Possession of weapons</td>\n",
       "      <td>1</td>\n",
       "      <td>0.0</td>\n",
       "      <td>All other offences</td>\n",
       "    </tr>\n",
       "    <tr>\n",
       "      <th>10</th>\n",
       "      <td>Wiltshire</td>\n",
       "      <td>2024</td>\n",
       "      <td>Summary non-motoring</td>\n",
       "      <td>1</td>\n",
       "      <td>0.0</td>\n",
       "      <td>All other offences</td>\n",
       "    </tr>\n",
       "    <tr>\n",
       "      <th>11</th>\n",
       "      <td>Wiltshire</td>\n",
       "      <td>2024</td>\n",
       "      <td>Summary motoring</td>\n",
       "      <td>1</td>\n",
       "      <td>0.0</td>\n",
       "      <td>All other offences</td>\n",
       "    </tr>\n",
       "    <tr>\n",
       "      <th>4</th>\n",
       "      <td>Wiltshire</td>\n",
       "      <td>2024</td>\n",
       "      <td>Sexual offences</td>\n",
       "      <td>2</td>\n",
       "      <td>0.0</td>\n",
       "      <td>All other offences</td>\n",
       "    </tr>\n",
       "    <tr>\n",
       "      <th>5</th>\n",
       "      <td>Wiltshire</td>\n",
       "      <td>2024</td>\n",
       "      <td>Public order offences</td>\n",
       "      <td>2</td>\n",
       "      <td>0.0</td>\n",
       "      <td>All other offences</td>\n",
       "    </tr>\n",
       "    <tr>\n",
       "      <th>2</th>\n",
       "      <td>Wiltshire</td>\n",
       "      <td>2024</td>\n",
       "      <td>Assault of an emergency worker</td>\n",
       "      <td>4</td>\n",
       "      <td>0.0</td>\n",
       "      <td>Violence against the person</td>\n",
       "    </tr>\n",
       "    <tr>\n",
       "      <th>3</th>\n",
       "      <td>Wiltshire</td>\n",
       "      <td>2024</td>\n",
       "      <td>Fraud offences</td>\n",
       "      <td>4</td>\n",
       "      <td>0.0</td>\n",
       "      <td>All other offences</td>\n",
       "    </tr>\n",
       "    <tr>\n",
       "      <th>12</th>\n",
       "      <td>Wiltshire</td>\n",
       "      <td>2024</td>\n",
       "      <td>All other offences</td>\n",
       "      <td>17</td>\n",
       "      <td>0.0</td>\n",
       "      <td>All offences</td>\n",
       "    </tr>\n",
       "    <tr>\n",
       "      <th>0</th>\n",
       "      <td>Wiltshire</td>\n",
       "      <td>2024</td>\n",
       "      <td>Theft offences</td>\n",
       "      <td>13</td>\n",
       "      <td>1.0</td>\n",
       "      <td>All offences</td>\n",
       "    </tr>\n",
       "    <tr>\n",
       "      <th>6</th>\n",
       "      <td>Wiltshire</td>\n",
       "      <td>2024</td>\n",
       "      <td>Drug offences</td>\n",
       "      <td>1</td>\n",
       "      <td>2.0</td>\n",
       "      <td>All offences</td>\n",
       "    </tr>\n",
       "    <tr>\n",
       "      <th>1</th>\n",
       "      <td>Wiltshire</td>\n",
       "      <td>2024</td>\n",
       "      <td>Violence against the person</td>\n",
       "      <td>5</td>\n",
       "      <td>3.0</td>\n",
       "      <td>All offences</td>\n",
       "    </tr>\n",
       "  </tbody>\n",
       "</table>\n",
       "</div>"
      ],
      "text/plain": [
       "          pfa  year                               offence  freq  plot_order  \\\n",
       "7   Wiltshire  2024             Criminal damage and arson     1         0.0   \n",
       "8   Wiltshire  2024  Miscellaneous crimes against society     1         0.0   \n",
       "9   Wiltshire  2024                 Possession of weapons     1         0.0   \n",
       "10  Wiltshire  2024                  Summary non-motoring     1         0.0   \n",
       "11  Wiltshire  2024                      Summary motoring     1         0.0   \n",
       "4   Wiltshire  2024                       Sexual offences     2         0.0   \n",
       "5   Wiltshire  2024                 Public order offences     2         0.0   \n",
       "2   Wiltshire  2024        Assault of an emergency worker     4         0.0   \n",
       "3   Wiltshire  2024                        Fraud offences     4         0.0   \n",
       "12  Wiltshire  2024                    All other offences    17         0.0   \n",
       "0   Wiltshire  2024                        Theft offences    13         1.0   \n",
       "6   Wiltshire  2024                         Drug offences     1         2.0   \n",
       "1   Wiltshire  2024           Violence against the person     5         3.0   \n",
       "\n",
       "                         parent  \n",
       "7            All other offences  \n",
       "8            All other offences  \n",
       "9            All other offences  \n",
       "10           All other offences  \n",
       "11           All other offences  \n",
       "4            All other offences  \n",
       "5            All other offences  \n",
       "2   Violence against the person  \n",
       "3            All other offences  \n",
       "12                 All offences  \n",
       "0                  All offences  \n",
       "6                  All offences  \n",
       "1                  All offences  "
      ]
     },
     "execution_count": 66,
     "metadata": {},
     "output_type": "execute_result"
    }
   ],
   "source": [
    "test_data = create_all_offences_group(wiltshire_df)\n",
    "test_data"
   ]
  },
  {
   "cell_type": "markdown",
   "id": "9016e228",
   "metadata": {},
   "source": [
    "## Testing with Plotly"
   ]
  },
  {
   "cell_type": "code",
   "execution_count": 67,
   "id": "af819448",
   "metadata": {},
   "outputs": [
    {
     "data": {
      "application/vnd.plotly.v1+json": {
       "config": {
        "plotlyServerURL": "https://plot.ly"
       },
       "data": [
        {
         "branchvalues": "total",
         "domain": {
          "column": 0,
          "row": 0
         },
         "hoverinfo": "label+percent parent",
         "hovertemplate": "<b>%{label}</b><br>%{percentParent: .0%} of %{parent}<extra></extra>",
         "insidetextorientation": "radial",
         "labels": [
          "Criminal damage and arson",
          "Miscellaneous crimes against society",
          "Possession of weapons",
          "Summary non-motoring",
          "Summary motoring",
          "Sexual offences",
          "Public order offences",
          "Assault of an emergency worker",
          "Fraud offences",
          "All other offences",
          "Theft offences",
          "Drug offences",
          "Violence against the person"
         ],
         "parents": [
          "All other offences",
          "All other offences",
          "All other offences",
          "All other offences",
          "All other offences",
          "All other offences",
          "All other offences",
          "Violence against the person",
          "All other offences",
          "All offences",
          "All offences",
          "All offences",
          "All offences"
         ],
         "sort": false,
         "texttemplate": "%{label} <b>%{percentRoot: .0%}</b>",
         "type": "sunburst",
         "values": {
          "bdata": "AQEBAQECAgQEEQ0BBQ==",
          "dtype": "i1"
         }
        }
       ],
       "layout": {
        "margin": {
         "b": 0,
         "l": 0,
         "r": 0,
         "t": 0
        },
        "template": {
         "data": {
          "bar": [
           {
            "error_x": {
             "color": "#2a3f5f"
            },
            "error_y": {
             "color": "#2a3f5f"
            },
            "marker": {
             "line": {
              "color": "#E5ECF6",
              "width": 0.5
             },
             "pattern": {
              "fillmode": "overlay",
              "size": 10,
              "solidity": 0.2
             }
            },
            "type": "bar"
           }
          ],
          "barpolar": [
           {
            "marker": {
             "line": {
              "color": "#E5ECF6",
              "width": 0.5
             },
             "pattern": {
              "fillmode": "overlay",
              "size": 10,
              "solidity": 0.2
             }
            },
            "type": "barpolar"
           }
          ],
          "carpet": [
           {
            "aaxis": {
             "endlinecolor": "#2a3f5f",
             "gridcolor": "white",
             "linecolor": "white",
             "minorgridcolor": "white",
             "startlinecolor": "#2a3f5f"
            },
            "baxis": {
             "endlinecolor": "#2a3f5f",
             "gridcolor": "white",
             "linecolor": "white",
             "minorgridcolor": "white",
             "startlinecolor": "#2a3f5f"
            },
            "type": "carpet"
           }
          ],
          "choropleth": [
           {
            "colorbar": {
             "outlinewidth": 0,
             "ticks": ""
            },
            "type": "choropleth"
           }
          ],
          "contour": [
           {
            "colorbar": {
             "outlinewidth": 0,
             "ticks": ""
            },
            "colorscale": [
             [
              0,
              "#0d0887"
             ],
             [
              0.1111111111111111,
              "#46039f"
             ],
             [
              0.2222222222222222,
              "#7201a8"
             ],
             [
              0.3333333333333333,
              "#9c179e"
             ],
             [
              0.4444444444444444,
              "#bd3786"
             ],
             [
              0.5555555555555556,
              "#d8576b"
             ],
             [
              0.6666666666666666,
              "#ed7953"
             ],
             [
              0.7777777777777778,
              "#fb9f3a"
             ],
             [
              0.8888888888888888,
              "#fdca26"
             ],
             [
              1,
              "#f0f921"
             ]
            ],
            "type": "contour"
           }
          ],
          "contourcarpet": [
           {
            "colorbar": {
             "outlinewidth": 0,
             "ticks": ""
            },
            "type": "contourcarpet"
           }
          ],
          "heatmap": [
           {
            "colorbar": {
             "outlinewidth": 0,
             "ticks": ""
            },
            "colorscale": [
             [
              0,
              "#0d0887"
             ],
             [
              0.1111111111111111,
              "#46039f"
             ],
             [
              0.2222222222222222,
              "#7201a8"
             ],
             [
              0.3333333333333333,
              "#9c179e"
             ],
             [
              0.4444444444444444,
              "#bd3786"
             ],
             [
              0.5555555555555556,
              "#d8576b"
             ],
             [
              0.6666666666666666,
              "#ed7953"
             ],
             [
              0.7777777777777778,
              "#fb9f3a"
             ],
             [
              0.8888888888888888,
              "#fdca26"
             ],
             [
              1,
              "#f0f921"
             ]
            ],
            "type": "heatmap"
           }
          ],
          "histogram": [
           {
            "marker": {
             "pattern": {
              "fillmode": "overlay",
              "size": 10,
              "solidity": 0.2
             }
            },
            "type": "histogram"
           }
          ],
          "histogram2d": [
           {
            "colorbar": {
             "outlinewidth": 0,
             "ticks": ""
            },
            "colorscale": [
             [
              0,
              "#0d0887"
             ],
             [
              0.1111111111111111,
              "#46039f"
             ],
             [
              0.2222222222222222,
              "#7201a8"
             ],
             [
              0.3333333333333333,
              "#9c179e"
             ],
             [
              0.4444444444444444,
              "#bd3786"
             ],
             [
              0.5555555555555556,
              "#d8576b"
             ],
             [
              0.6666666666666666,
              "#ed7953"
             ],
             [
              0.7777777777777778,
              "#fb9f3a"
             ],
             [
              0.8888888888888888,
              "#fdca26"
             ],
             [
              1,
              "#f0f921"
             ]
            ],
            "type": "histogram2d"
           }
          ],
          "histogram2dcontour": [
           {
            "colorbar": {
             "outlinewidth": 0,
             "ticks": ""
            },
            "colorscale": [
             [
              0,
              "#0d0887"
             ],
             [
              0.1111111111111111,
              "#46039f"
             ],
             [
              0.2222222222222222,
              "#7201a8"
             ],
             [
              0.3333333333333333,
              "#9c179e"
             ],
             [
              0.4444444444444444,
              "#bd3786"
             ],
             [
              0.5555555555555556,
              "#d8576b"
             ],
             [
              0.6666666666666666,
              "#ed7953"
             ],
             [
              0.7777777777777778,
              "#fb9f3a"
             ],
             [
              0.8888888888888888,
              "#fdca26"
             ],
             [
              1,
              "#f0f921"
             ]
            ],
            "type": "histogram2dcontour"
           }
          ],
          "mesh3d": [
           {
            "colorbar": {
             "outlinewidth": 0,
             "ticks": ""
            },
            "type": "mesh3d"
           }
          ],
          "parcoords": [
           {
            "line": {
             "colorbar": {
              "outlinewidth": 0,
              "ticks": ""
             }
            },
            "type": "parcoords"
           }
          ],
          "pie": [
           {
            "automargin": true,
            "type": "pie"
           }
          ],
          "scatter": [
           {
            "fillpattern": {
             "fillmode": "overlay",
             "size": 10,
             "solidity": 0.2
            },
            "type": "scatter"
           }
          ],
          "scatter3d": [
           {
            "line": {
             "colorbar": {
              "outlinewidth": 0,
              "ticks": ""
             }
            },
            "marker": {
             "colorbar": {
              "outlinewidth": 0,
              "ticks": ""
             }
            },
            "type": "scatter3d"
           }
          ],
          "scattercarpet": [
           {
            "marker": {
             "colorbar": {
              "outlinewidth": 0,
              "ticks": ""
             }
            },
            "type": "scattercarpet"
           }
          ],
          "scattergeo": [
           {
            "marker": {
             "colorbar": {
              "outlinewidth": 0,
              "ticks": ""
             }
            },
            "type": "scattergeo"
           }
          ],
          "scattergl": [
           {
            "marker": {
             "colorbar": {
              "outlinewidth": 0,
              "ticks": ""
             }
            },
            "type": "scattergl"
           }
          ],
          "scattermap": [
           {
            "marker": {
             "colorbar": {
              "outlinewidth": 0,
              "ticks": ""
             }
            },
            "type": "scattermap"
           }
          ],
          "scattermapbox": [
           {
            "marker": {
             "colorbar": {
              "outlinewidth": 0,
              "ticks": ""
             }
            },
            "type": "scattermapbox"
           }
          ],
          "scatterpolar": [
           {
            "marker": {
             "colorbar": {
              "outlinewidth": 0,
              "ticks": ""
             }
            },
            "type": "scatterpolar"
           }
          ],
          "scatterpolargl": [
           {
            "marker": {
             "colorbar": {
              "outlinewidth": 0,
              "ticks": ""
             }
            },
            "type": "scatterpolargl"
           }
          ],
          "scatterternary": [
           {
            "marker": {
             "colorbar": {
              "outlinewidth": 0,
              "ticks": ""
             }
            },
            "type": "scatterternary"
           }
          ],
          "surface": [
           {
            "colorbar": {
             "outlinewidth": 0,
             "ticks": ""
            },
            "colorscale": [
             [
              0,
              "#0d0887"
             ],
             [
              0.1111111111111111,
              "#46039f"
             ],
             [
              0.2222222222222222,
              "#7201a8"
             ],
             [
              0.3333333333333333,
              "#9c179e"
             ],
             [
              0.4444444444444444,
              "#bd3786"
             ],
             [
              0.5555555555555556,
              "#d8576b"
             ],
             [
              0.6666666666666666,
              "#ed7953"
             ],
             [
              0.7777777777777778,
              "#fb9f3a"
             ],
             [
              0.8888888888888888,
              "#fdca26"
             ],
             [
              1,
              "#f0f921"
             ]
            ],
            "type": "surface"
           }
          ],
          "table": [
           {
            "cells": {
             "fill": {
              "color": "#EBF0F8"
             },
             "line": {
              "color": "white"
             }
            },
            "header": {
             "fill": {
              "color": "#C8D4E3"
             },
             "line": {
              "color": "white"
             }
            },
            "type": "table"
           }
          ]
         },
         "layout": {
          "annotationdefaults": {
           "arrowcolor": "#2a3f5f",
           "arrowhead": 0,
           "arrowwidth": 1
          },
          "autotypenumbers": "strict",
          "coloraxis": {
           "colorbar": {
            "outlinewidth": 0,
            "ticks": ""
           }
          },
          "colorscale": {
           "diverging": [
            [
             0,
             "#8e0152"
            ],
            [
             0.1,
             "#c51b7d"
            ],
            [
             0.2,
             "#de77ae"
            ],
            [
             0.3,
             "#f1b6da"
            ],
            [
             0.4,
             "#fde0ef"
            ],
            [
             0.5,
             "#f7f7f7"
            ],
            [
             0.6,
             "#e6f5d0"
            ],
            [
             0.7,
             "#b8e186"
            ],
            [
             0.8,
             "#7fbc41"
            ],
            [
             0.9,
             "#4d9221"
            ],
            [
             1,
             "#276419"
            ]
           ],
           "sequential": [
            [
             0,
             "#0d0887"
            ],
            [
             0.1111111111111111,
             "#46039f"
            ],
            [
             0.2222222222222222,
             "#7201a8"
            ],
            [
             0.3333333333333333,
             "#9c179e"
            ],
            [
             0.4444444444444444,
             "#bd3786"
            ],
            [
             0.5555555555555556,
             "#d8576b"
            ],
            [
             0.6666666666666666,
             "#ed7953"
            ],
            [
             0.7777777777777778,
             "#fb9f3a"
            ],
            [
             0.8888888888888888,
             "#fdca26"
            ],
            [
             1,
             "#f0f921"
            ]
           ],
           "sequentialminus": [
            [
             0,
             "#0d0887"
            ],
            [
             0.1111111111111111,
             "#46039f"
            ],
            [
             0.2222222222222222,
             "#7201a8"
            ],
            [
             0.3333333333333333,
             "#9c179e"
            ],
            [
             0.4444444444444444,
             "#bd3786"
            ],
            [
             0.5555555555555556,
             "#d8576b"
            ],
            [
             0.6666666666666666,
             "#ed7953"
            ],
            [
             0.7777777777777778,
             "#fb9f3a"
            ],
            [
             0.8888888888888888,
             "#fdca26"
            ],
            [
             1,
             "#f0f921"
            ]
           ]
          },
          "colorway": [
           "#636efa",
           "#EF553B",
           "#00cc96",
           "#ab63fa",
           "#FFA15A",
           "#19d3f3",
           "#FF6692",
           "#B6E880",
           "#FF97FF",
           "#FECB52"
          ],
          "font": {
           "color": "#2a3f5f"
          },
          "geo": {
           "bgcolor": "white",
           "lakecolor": "white",
           "landcolor": "#E5ECF6",
           "showlakes": true,
           "showland": true,
           "subunitcolor": "white"
          },
          "hoverlabel": {
           "align": "left"
          },
          "hovermode": "closest",
          "mapbox": {
           "style": "light"
          },
          "paper_bgcolor": "white",
          "plot_bgcolor": "#E5ECF6",
          "polar": {
           "angularaxis": {
            "gridcolor": "white",
            "linecolor": "white",
            "ticks": ""
           },
           "bgcolor": "#E5ECF6",
           "radialaxis": {
            "gridcolor": "white",
            "linecolor": "white",
            "ticks": ""
           }
          },
          "scene": {
           "xaxis": {
            "backgroundcolor": "#E5ECF6",
            "gridcolor": "white",
            "gridwidth": 2,
            "linecolor": "white",
            "showbackground": true,
            "ticks": "",
            "zerolinecolor": "white"
           },
           "yaxis": {
            "backgroundcolor": "#E5ECF6",
            "gridcolor": "white",
            "gridwidth": 2,
            "linecolor": "white",
            "showbackground": true,
            "ticks": "",
            "zerolinecolor": "white"
           },
           "zaxis": {
            "backgroundcolor": "#E5ECF6",
            "gridcolor": "white",
            "gridwidth": 2,
            "linecolor": "white",
            "showbackground": true,
            "ticks": "",
            "zerolinecolor": "white"
           }
          },
          "shapedefaults": {
           "line": {
            "color": "#2a3f5f"
           }
          },
          "ternary": {
           "aaxis": {
            "gridcolor": "white",
            "linecolor": "white",
            "ticks": ""
           },
           "baxis": {
            "gridcolor": "white",
            "linecolor": "white",
            "ticks": ""
           },
           "bgcolor": "#E5ECF6",
           "caxis": {
            "gridcolor": "white",
            "linecolor": "white",
            "ticks": ""
           }
          },
          "title": {
           "x": 0.05
          },
          "xaxis": {
           "automargin": true,
           "gridcolor": "white",
           "linecolor": "white",
           "ticks": "",
           "title": {
            "standoff": 15
           },
           "zerolinecolor": "white",
           "zerolinewidth": 2
          },
          "yaxis": {
           "automargin": true,
           "gridcolor": "white",
           "linecolor": "white",
           "ticks": "",
           "title": {
            "standoff": 15
           },
           "zerolinecolor": "white",
           "zerolinewidth": 2
          }
         }
        }
       }
      }
     },
     "metadata": {},
     "output_type": "display_data"
    }
   ],
   "source": [
    "fig = go.Figure(go.Sunburst(\n",
    "    labels=test_data['offence'],\n",
    "    parents=test_data['parent'],\n",
    "    values=test_data['freq'],\n",
    "    sort=False,\n",
    "    branchvalues='total',\n",
    "    texttemplate=\"%{label} <b>%{percentRoot: .0%}</b>\",\n",
    "    hovertemplate=\"<b>%{label}</b><br>%{percentParent: .0%} of %{parent}<extra></extra>\",\n",
    "    hoverinfo='label+percent parent',\n",
    "    insidetextorientation='radial',\n",
    "    domain_column=0,\n",
    "    domain_row=0\n",
    "))\n",
    "\n",
    "fig.update_layout(margin = dict(t=0, l=0, r=0, b=0))\n",
    "\n",
    "fig.show()"
   ]
  },
  {
   "cell_type": "markdown",
   "id": "77d0ba15",
   "metadata": {},
   "source": [
    "Great, that's worked. Now to run `filter_custody_offences.py` to ensure that the data processing steps are correctly implemented and test with the production code in `custody_offences.py`."
   ]
  },
  {
   "cell_type": "markdown",
   "id": "ed6337a9",
   "metadata": {},
   "source": [
    "## Testing `custody_offences.py`"
   ]
  },
  {
   "cell_type": "code",
   "execution_count": 68,
   "id": "52c1409c",
   "metadata": {},
   "outputs": [],
   "source": [
    "from src.visualization import custody_offences"
   ]
  },
  {
   "cell_type": "code",
   "execution_count": 106,
   "id": "1946eb6e",
   "metadata": {},
   "outputs": [
    {
     "name": "stderr",
     "output_type": "stream",
     "text": [
      "2025-08-06 13:18:56,964 - INFO - Loaded data from data/processed/PFA_custodial_sentences_by_offence_2024_FINAL.csv\n"
     ]
    },
    {
     "name": "stderr",
     "output_type": "stream",
     "text": [
      "2025-08-06 13:18:56,972 - INFO - Creating filter for highlighted offence groups...\n",
      "2025-08-06 13:18:56,996 - INFO - Adding chart annotations...\n",
      "2025-08-06 13:18:57,006 - INFO - Setting source annotation...\n",
      "2025-08-06 13:18:57,009 - INFO - Annotations added successfully.\n"
     ]
    },
    {
     "data": {
      "application/vnd.plotly.v1+json": {
       "config": {
        "plotlyServerURL": "https://plot.ly"
       },
       "data": [
        {
         "branchvalues": "total",
         "domain": {
          "column": 0,
          "row": 0
         },
         "hoverinfo": "label+percent parent",
         "hovertemplate": "<b>%{label}</b><br>%{percentParent: .0%} of %{parent}<extra></extra>",
         "insidetextorientation": "radial",
         "labels": [
          "Criminal damage<br>and arson",
          "Miscellaneous<br>crimes against<br>society",
          "Possession of<br>weapons",
          "Summary motoring",
          "Summary non-<br>motoring",
          "Public order<br>offences",
          "Sexual offences",
          "Fraud offences",
          "All other<br>offences",
          "Theft offences",
          "Assault of an<br>emergency worker",
          "Violence against<br>the person",
          "Drug offences"
         ],
         "marker": {
          "colors": [
           "#A01D28",
           "#A01D28",
           "#A01D28",
           "#A01D28",
           "#A01D28",
           "#A01D28",
           "#A01D28",
           "#A01D28",
           "#A01D28",
           "#499CC9",
           "#F9A237",
           "#F9A237",
           "#6FBA3A"
          ]
         },
         "parents": [
          "All other<br>offences",
          "All other<br>offences",
          "All other<br>offences",
          "All other<br>offences",
          "All other<br>offences",
          "All other<br>offences",
          "All other<br>offences",
          "All other<br>offences",
          "All offences",
          "All offences",
          "Violence against<br>the person",
          "All offences",
          "All offences"
         ],
         "rotation": 70,
         "sort": false,
         "texttemplate": "%{label} <b>%{percentRoot: .0%}</b>",
         "type": "sunburst",
         "values": {
          "bdata": "AQEBAQECAgQRDQQFAQ==",
          "dtype": "i1"
         }
        }
       ],
       "layout": {
        "annotations": [
         {
          "align": "left",
          "font": {
           "size": 12
          },
          "showarrow": false,
          "text": "Source: Ministry of Justice, Criminal justice statistics",
          "x": 0.03,
          "xanchor": "left",
          "xref": "paper",
          "y": 0.05,
          "yanchor": "top",
          "yref": "paper"
         }
        ],
        "height": 630,
        "margin": {
         "b": 0,
         "l": 0,
         "r": 0,
         "t": 75
        },
        "template": {
         "data": {
          "scatter": [
           {
            "line": {
             "width": 4
            },
            "marker": {
             "size": 10
            },
            "type": "scatter"
           }
          ]
         },
         "layout": {
          "colorway": [
           "#A01D28",
           "#499CC9",
           "#F9A237",
           "#6FBA3A",
           "#573D6B"
          ],
          "dragmode": false,
          "font": {
           "color": "#54565B",
           "family": "Helvetica Neue, Arial",
           "size": 14
          },
          "height": 360,
          "margin": {
           "b": 70,
           "l": 40,
           "r": 100,
           "t": 80
          },
          "modebar": {
           "activecolor": "#A01D28"
          },
          "paper_bgcolor": "#F7F2F2",
          "plot_bgcolor": "#F7F2F2",
          "showlegend": false,
          "title": {
           "font": {
            "family": "Helvetica Neue, Arial",
            "size": 20
           },
           "y": 0.94,
           "yanchor": "bottom"
          },
          "width": 655,
          "xaxis": {
           "gridcolor": "rgba(84, 86, 91, 0.15)",
           "showgrid": false,
           "tickcolor": "#54565B",
           "ticks": "outside"
          },
          "yaxis": {
           "gridcolor": "rgba(84, 86, 91, 0.15)"
          }
         }
        },
        "title": {
         "automargin": true,
         "text": "<b>Imprisonment of women in Wiltshire<br>by offence group, 2024</b>",
         "x": 0.025,
         "xanchor": "left",
         "yref": "container"
        },
        "uniformtext": {
         "minsize": 8,
         "mode": "hide"
        },
        "width": 630
       }
      }
     },
     "metadata": {},
     "output_type": "display_data"
    }
   ],
   "source": [
    "custody_offences.test_chart(pfa='Wiltshire')"
   ]
  },
  {
   "cell_type": "code",
   "execution_count": null,
   "id": "1bf6b9ee",
   "metadata": {},
   "outputs": [
    {
     "name": "stderr",
     "output_type": "stream",
     "text": [
      "2025-08-06 13:44:36,290 - INFO - Loaded data from data/processed/PFA_custodial_sentences_by_offence_2024_FINAL.csv\n"
     ]
    },
    {
     "name": "stderr",
     "output_type": "stream",
     "text": [
      "2025-08-06 13:44:36,305 - INFO - Creating filter for highlighted offence groups...\n",
      "2025-08-06 13:44:36,334 - INFO - Adding chart annotations...\n",
      "2025-08-06 13:44:36,341 - INFO - Setting source annotation...\n",
      "2025-08-06 13:44:36,343 - INFO - Annotations added successfully.\n",
      "2025-08-06 13:44:36,344 - INFO - Saving chart...\n",
      "2025-08-06 13:44:39,295 - INFO - Figure saved to reports/figures/custody_offences/Northamptonshire.pdf\n"
     ]
    }
   ],
   "source": [
    "custody_offences.test_chart(pfa='Northamptonshire')"
   ]
  },
  {
   "cell_type": "code",
   "execution_count": 102,
   "id": "fa9e8cae",
   "metadata": {},
   "outputs": [
    {
     "name": "stderr",
     "output_type": "stream",
     "text": [
      "2025-08-06 13:16:03,942 - INFO - Loaded data from data/processed/PFA_custodial_sentences_by_offence_2024_FINAL.csv\n",
      "2025-08-06 13:16:03,947 - INFO - Creating filter for highlighted offence groups...\n"
     ]
    },
    {
     "name": "stderr",
     "output_type": "stream",
     "text": [
      "2025-08-06 13:16:03,968 - INFO - Adding chart annotations...\n",
      "2025-08-06 13:16:03,975 - INFO - Setting source annotation...\n",
      "2025-08-06 13:16:03,977 - INFO - Annotations added successfully.\n"
     ]
    },
    {
     "data": {
      "application/vnd.plotly.v1+json": {
       "config": {
        "plotlyServerURL": "https://plot.ly"
       },
       "data": [
        {
         "branchvalues": "total",
         "domain": {
          "column": 0,
          "row": 0
         },
         "hoverinfo": "label+percent parent",
         "hovertemplate": "<b>%{label}</b><br>%{percentParent: .0%} of %{parent}<extra></extra>",
         "insidetextorientation": "radial",
         "labels": [
          "Miscellaneous<br>crimes against<br>society",
          "Summary non-<br>motoring",
          "Possession of<br>weapons",
          "Public order<br>offences",
          "All other<br>offences",
          "Theft offences",
          "Assault of an<br>emergency worker",
          "Violence against<br>the person"
         ],
         "marker": {
          "colors": [
           "#A01D28",
           "#A01D28",
           "#A01D28",
           "#A01D28",
           "#A01D28",
           "#499CC9",
           "#F9A237",
           "#F9A237"
          ]
         },
         "parents": [
          "All other<br>offences",
          "All other<br>offences",
          "All other<br>offences",
          "All other<br>offences",
          "All offences",
          "All offences",
          "Violence against<br>the person",
          "All offences"
         ],
         "rotation": 100,
         "sort": false,
         "texttemplate": "%{label} <b>%{percentRoot: .0%}</b>",
         "type": "sunburst",
         "values": {
          "bdata": "AQECBxIgBwk=",
          "dtype": "i1"
         }
        }
       ],
       "layout": {
        "annotations": [
         {
          "align": "left",
          "font": {
           "size": 12
          },
          "showarrow": false,
          "text": "Source: Ministry of Justice, Criminal justice statistics",
          "x": 0.03,
          "xanchor": "left",
          "xref": "paper",
          "y": 0.05,
          "yanchor": "top",
          "yref": "paper"
         }
        ],
        "height": 630,
        "margin": {
         "b": 0,
         "l": 0,
         "r": 0,
         "t": 75
        },
        "template": {
         "data": {
          "scatter": [
           {
            "line": {
             "width": 4
            },
            "marker": {
             "size": 10
            },
            "type": "scatter"
           }
          ]
         },
         "layout": {
          "colorway": [
           "#A01D28",
           "#499CC9",
           "#F9A237",
           "#6FBA3A",
           "#573D6B"
          ],
          "dragmode": false,
          "font": {
           "color": "#54565B",
           "family": "Helvetica Neue, Arial",
           "size": 14
          },
          "height": 360,
          "margin": {
           "b": 70,
           "l": 40,
           "r": 100,
           "t": 80
          },
          "modebar": {
           "activecolor": "#A01D28"
          },
          "paper_bgcolor": "#F7F2F2",
          "plot_bgcolor": "#F7F2F2",
          "showlegend": false,
          "title": {
           "font": {
            "family": "Helvetica Neue, Arial",
            "size": 20
           },
           "y": 0.94,
           "yanchor": "bottom"
          },
          "width": 655,
          "xaxis": {
           "gridcolor": "rgba(84, 86, 91, 0.15)",
           "showgrid": false,
           "tickcolor": "#54565B",
           "ticks": "outside"
          },
          "yaxis": {
           "gridcolor": "rgba(84, 86, 91, 0.15)"
          }
         }
        },
        "title": {
         "automargin": true,
         "text": "<b>Imprisonment of women in Gwent<br>by offence group, 2024</b>",
         "x": 0.025,
         "xanchor": "left",
         "yref": "container"
        },
        "uniformtext": {
         "minsize": 8,
         "mode": "hide"
        },
        "width": 630
       }
      }
     },
     "metadata": {},
     "output_type": "display_data"
    }
   ],
   "source": [
    "test_chart = custody_offences.test_chart()\n",
    "test_chart"
   ]
  },
  {
   "cell_type": "code",
   "execution_count": null,
   "id": "5bea2d4b",
   "metadata": {},
   "outputs": [],
   "source": []
  }
 ],
 "metadata": {
  "kernelspec": {
   "display_name": "Python 3",
   "language": "python",
   "name": "python3"
  },
  "language_info": {
   "codemirror_mode": {
    "name": "ipython",
    "version": 3
   },
   "file_extension": ".py",
   "mimetype": "text/x-python",
   "name": "python",
   "nbconvert_exporter": "python",
   "pygments_lexer": "ipython3",
   "version": "3.13.5"
  }
 },
 "nbformat": 4,
 "nbformat_minor": 5
}
