{
 "cells": [
  {
   "cell_type": "markdown",
   "id": "98fed0c2",
   "metadata": {},
   "source": [
    "# Examining downloaded Criminal Justice System statistics datasets"
   ]
  },
  {
   "cell_type": "code",
   "execution_count": null,
   "id": "95e33194",
   "metadata": {},
   "outputs": [],
   "source": [
    "import pandas as pd"
   ]
  },
  {
   "cell_type": "code",
   "execution_count": 1,
   "id": "56f9c3d8",
   "metadata": {},
   "outputs": [],
   "source": [
    "%load_ext autoreload\n",
    "%autoreload 2"
   ]
  },
  {
   "cell_type": "code",
   "execution_count": 2,
   "id": "be4c190c",
   "metadata": {},
   "outputs": [],
   "source": [
    "from src.data.processing import filter_sentence_type"
   ]
  },
  {
   "cell_type": "markdown",
   "id": "f921104d",
   "metadata": {},
   "source": [
    "## `load_outcomes_data()`"
   ]
  },
  {
   "cell_type": "markdown",
   "id": "7059c9e7",
   "metadata": {},
   "source": [
    "Loading the outcomes concatenated DataFrame with no further processing"
   ]
  },
  {
   "cell_type": "code",
   "execution_count": null,
   "id": "8e45d3e8",
   "metadata": {},
   "outputs": [],
   "source": [
    "df = filter_sentence_type.load_outcomes_data()"
   ]
  },
  {
   "cell_type": "code",
   "execution_count": null,
   "id": "f2524584",
   "metadata": {},
   "outputs": [],
   "source": [
    "df"
   ]
  },
  {
   "cell_type": "code",
   "execution_count": null,
   "id": "52805a00",
   "metadata": {},
   "outputs": [],
   "source": [
    "sorted(df['Year'].unique())"
   ]
  },
  {
   "cell_type": "markdown",
   "id": "0b8e75f4",
   "metadata": {},
   "source": [
    "## `rename_and_reorder_columns()`"
   ]
  },
  {
   "cell_type": "code",
   "execution_count": null,
   "id": "5408b719",
   "metadata": {},
   "outputs": [],
   "source": [
    "filter_sentence_type.rename_and_reorder_columns(df)"
   ]
  },
  {
   "cell_type": "code",
   "execution_count": null,
   "id": "7d599ece",
   "metadata": {},
   "outputs": [],
   "source": [
    "[outcome for outcome in df['outcome'].unique()]"
   ]
  },
  {
   "cell_type": "code",
   "execution_count": null,
   "id": "7c22e67e",
   "metadata": {},
   "outputs": [],
   "source": [
    "[sentence_len for sentence_len in df['sentence_len'].unique()]"
   ]
  },
  {
   "cell_type": "markdown",
   "id": "1e160eb1",
   "metadata": {},
   "source": [
    "## `apply_multiple_regex_replacements()`"
   ]
  },
  {
   "cell_type": "markdown",
   "id": "9376e7ae",
   "metadata": {},
   "source": [
    "Using a dictionary to apply all of the regex replacements to:\n",
    "* Remove prefixes\n",
    "* Change wording in outcome column\n",
    "* Change wording in sentence_len column"
   ]
  },
  {
   "cell_type": "code",
   "execution_count": null,
   "id": "3f1b688b",
   "metadata": {},
   "outputs": [],
   "source": [
    "# Defining regex replacements for specific columns\n",
    "regex_replacements = {\n",
    "    'sex': [(r\"\\d\\d: \", \"\")],\n",
    "    'age_group': [(r\"\\d\\d: \", \"\")],\n",
    "    'offence': [(r\"\\d\\d: \", \"\")],\n",
    "    'outcome': [(r\"\\d\\d: \", \"\")],\n",
    "    'sentence_len': [\n",
    "        (r\"\\d\\d: \", \"\"),\n",
    "        (r\"Custody - \", \"\"),\n",
    "        (r\"Over\", \"More than\"),\n",
    "        (r\"Life$\", \"Life sentence\"),\n",
    "    ]\n",
    "}"
   ]
  },
  {
   "cell_type": "code",
   "execution_count": null,
   "id": "ce91c1e8",
   "metadata": {},
   "outputs": [],
   "source": [
    "df_regex = (\n",
    "    filter_sentence_type.apply_multiple_regex_replacements(\n",
    "        df,\n",
    "        regex_replacements)\n",
    "    )\n",
    "df_regex"
   ]
  },
  {
   "cell_type": "code",
   "execution_count": null,
   "id": "a24d41e6",
   "metadata": {},
   "outputs": [],
   "source": [
    "[sentence_len for sentence_len in df_regex['sentence_len'].unique()]"
   ]
  },
  {
   "cell_type": "markdown",
   "id": "1ee56cb1",
   "metadata": {},
   "source": [
    "## `filter_dataframe()`"
   ]
  },
  {
   "cell_type": "markdown",
   "id": "ad221826",
   "metadata": {},
   "source": [
    "Testing the application of filters to the dataframe"
   ]
  },
  {
   "cell_type": "markdown",
   "id": "301343c9",
   "metadata": {},
   "source": [
    "### Are my filters are being read in correctly?"
   ]
  },
  {
   "cell_type": "code",
   "execution_count": null,
   "id": "c0f2e0c6",
   "metadata": {},
   "outputs": [],
   "source": [
    "import src.utilities as utils\n",
    "config = utils.read_config()\n",
    "outcomes_by_offence_filter = config.get('outcomes_by_offence_filter', {})\n",
    "outcomes_by_offence_filter"
   ]
  },
  {
   "cell_type": "code",
   "execution_count": null,
   "id": "5fb75c0b",
   "metadata": {},
   "outputs": [],
   "source": [
    "include_filters = outcomes_by_offence_filter.get('include', {})\n",
    "include_filters"
   ]
  },
  {
   "cell_type": "code",
   "execution_count": null,
   "id": "042ab39f",
   "metadata": {},
   "outputs": [],
   "source": [
    "exclude_filters = outcomes_by_offence_filter.get('exclude', {})\n",
    "exclude_filters"
   ]
  },
  {
   "cell_type": "code",
   "execution_count": null,
   "id": "0c4e08c3",
   "metadata": {},
   "outputs": [],
   "source": [
    "filter_sentence_type.filter_dataframe(df_regex, outcomes_by_offence_filter)"
   ]
  },
  {
   "cell_type": "code",
   "execution_count": null,
   "id": "fe164793",
   "metadata": {},
   "outputs": [],
   "source": [
    "filter_sentence_type.process_data(df, config_file=config)"
   ]
  },
  {
   "cell_type": "markdown",
   "id": "a63fc677",
   "metadata": {},
   "source": [
    "## `load_and_process_data()`"
   ]
  },
  {
   "cell_type": "markdown",
   "id": "e521923d",
   "metadata": {},
   "source": [
    "Now testing pipeline function to bring all these steps together"
   ]
  },
  {
   "cell_type": "code",
   "execution_count": 3,
   "id": "63fb00a3",
   "metadata": {},
   "outputs": [
    {
     "name": "stderr",
     "output_type": "stream",
     "text": [
      "2025-06-05 16:08:34,404 - INFO - Loading outcomes by offence data...\n",
      "2025-06-05 16:08:58,912 - INFO - Loaded data from data/raw/sentence_outcomes_2017_2024.csv\n",
      "2025-06-05 16:09:20,151 - INFO - Loaded data from data/raw/sentence_outcomes_2010_2016.csv\n",
      "2025-06-05 16:09:23,218 - INFO - Processing data...\n",
      "2025-06-05 16:09:34,378 - INFO - Applying filters...\n",
      "2025-06-05 16:09:34,379 - INFO - Include filter on column 'sex' with values: ['Female']\n",
      "2025-06-05 16:09:34,624 - INFO - Include filter on column 'outcome' with values: ['Immediate Custody', 'Community Sentence', 'Suspended Sentence']\n",
      "2025-06-05 16:09:34,722 - INFO - Include filter on column 'age_group' with values: ['Adults', 'Young adults']\n",
      "2025-06-05 16:09:34,775 - INFO - Exclude filter on column 'pfa' with values: ['Not known']\n",
      "2025-06-05 16:09:34,863 - INFO - Data filtered.\n",
      "2025-06-05 16:09:35,040 - INFO - Data loaded and processed successfully.\n"
     ]
    },
    {
     "data": {
      "text/html": [
       "<div>\n",
       "<style scoped>\n",
       "    .dataframe tbody tr th:only-of-type {\n",
       "        vertical-align: middle;\n",
       "    }\n",
       "\n",
       "    .dataframe tbody tr th {\n",
       "        vertical-align: top;\n",
       "    }\n",
       "\n",
       "    .dataframe thead th {\n",
       "        text-align: right;\n",
       "    }\n",
       "</style>\n",
       "<table border=\"1\" class=\"dataframe\">\n",
       "  <thead>\n",
       "    <tr style=\"text-align: right;\">\n",
       "      <th></th>\n",
       "      <th>year</th>\n",
       "      <th>pfa</th>\n",
       "      <th>sex</th>\n",
       "      <th>age_group</th>\n",
       "      <th>offence</th>\n",
       "      <th>outcome</th>\n",
       "      <th>sentence_len</th>\n",
       "      <th>freq</th>\n",
       "    </tr>\n",
       "  </thead>\n",
       "  <tbody>\n",
       "    <tr>\n",
       "      <th>4268271</th>\n",
       "      <td>2010</td>\n",
       "      <td>Avon and Somerset</td>\n",
       "      <td>Female</td>\n",
       "      <td>Adults</td>\n",
       "      <td>Drug offences</td>\n",
       "      <td>Immediate Custody</td>\n",
       "      <td>More than 12 months and up to and including 18...</td>\n",
       "      <td>1</td>\n",
       "    </tr>\n",
       "    <tr>\n",
       "      <th>4269203</th>\n",
       "      <td>2010</td>\n",
       "      <td>Avon and Somerset</td>\n",
       "      <td>Female</td>\n",
       "      <td>Adults</td>\n",
       "      <td>Fraud offences</td>\n",
       "      <td>Community Sentence</td>\n",
       "      <td>NaN</td>\n",
       "      <td>2</td>\n",
       "    </tr>\n",
       "    <tr>\n",
       "      <th>4269825</th>\n",
       "      <td>2010</td>\n",
       "      <td>Avon and Somerset</td>\n",
       "      <td>Female</td>\n",
       "      <td>Young adults</td>\n",
       "      <td>Possession of weapons</td>\n",
       "      <td>Community Sentence</td>\n",
       "      <td>NaN</td>\n",
       "      <td>1</td>\n",
       "    </tr>\n",
       "    <tr>\n",
       "      <th>4270091</th>\n",
       "      <td>2010</td>\n",
       "      <td>Avon and Somerset</td>\n",
       "      <td>Female</td>\n",
       "      <td>Adults</td>\n",
       "      <td>Fraud offences</td>\n",
       "      <td>Suspended Sentence</td>\n",
       "      <td>NaN</td>\n",
       "      <td>1</td>\n",
       "    </tr>\n",
       "    <tr>\n",
       "      <th>4272402</th>\n",
       "      <td>2010</td>\n",
       "      <td>Avon and Somerset</td>\n",
       "      <td>Female</td>\n",
       "      <td>Adults</td>\n",
       "      <td>Summary non-motoring</td>\n",
       "      <td>Community Sentence</td>\n",
       "      <td>NaN</td>\n",
       "      <td>1</td>\n",
       "    </tr>\n",
       "    <tr>\n",
       "      <th>...</th>\n",
       "      <td>...</td>\n",
       "      <td>...</td>\n",
       "      <td>...</td>\n",
       "      <td>...</td>\n",
       "      <td>...</td>\n",
       "      <td>...</td>\n",
       "      <td>...</td>\n",
       "      <td>...</td>\n",
       "    </tr>\n",
       "    <tr>\n",
       "      <th>4254435</th>\n",
       "      <td>2024</td>\n",
       "      <td>Wiltshire</td>\n",
       "      <td>Female</td>\n",
       "      <td>Adults</td>\n",
       "      <td>Violence against the person</td>\n",
       "      <td>Community Sentence</td>\n",
       "      <td>NaN</td>\n",
       "      <td>1</td>\n",
       "    </tr>\n",
       "    <tr>\n",
       "      <th>4262593</th>\n",
       "      <td>2024</td>\n",
       "      <td>Wiltshire</td>\n",
       "      <td>Female</td>\n",
       "      <td>Adults</td>\n",
       "      <td>Violence against the person</td>\n",
       "      <td>Community Sentence</td>\n",
       "      <td>NaN</td>\n",
       "      <td>2</td>\n",
       "    </tr>\n",
       "    <tr>\n",
       "      <th>4263581</th>\n",
       "      <td>2024</td>\n",
       "      <td>Wiltshire</td>\n",
       "      <td>Female</td>\n",
       "      <td>Adults</td>\n",
       "      <td>Violence against the person</td>\n",
       "      <td>Community Sentence</td>\n",
       "      <td>NaN</td>\n",
       "      <td>1</td>\n",
       "    </tr>\n",
       "    <tr>\n",
       "      <th>4265810</th>\n",
       "      <td>2024</td>\n",
       "      <td>Wiltshire</td>\n",
       "      <td>Female</td>\n",
       "      <td>Adults</td>\n",
       "      <td>Theft offences</td>\n",
       "      <td>Suspended Sentence</td>\n",
       "      <td>NaN</td>\n",
       "      <td>1</td>\n",
       "    </tr>\n",
       "    <tr>\n",
       "      <th>4266336</th>\n",
       "      <td>2024</td>\n",
       "      <td>Wiltshire</td>\n",
       "      <td>Female</td>\n",
       "      <td>Adults</td>\n",
       "      <td>Fraud offences</td>\n",
       "      <td>Community Sentence</td>\n",
       "      <td>NaN</td>\n",
       "      <td>1</td>\n",
       "    </tr>\n",
       "  </tbody>\n",
       "</table>\n",
       "<p>331029 rows × 8 columns</p>\n",
       "</div>"
      ],
      "text/plain": [
       "         year                pfa     sex     age_group  \\\n",
       "4268271  2010  Avon and Somerset  Female        Adults   \n",
       "4269203  2010  Avon and Somerset  Female        Adults   \n",
       "4269825  2010  Avon and Somerset  Female  Young adults   \n",
       "4270091  2010  Avon and Somerset  Female        Adults   \n",
       "4272402  2010  Avon and Somerset  Female        Adults   \n",
       "...       ...                ...     ...           ...   \n",
       "4254435  2024          Wiltshire  Female        Adults   \n",
       "4262593  2024          Wiltshire  Female        Adults   \n",
       "4263581  2024          Wiltshire  Female        Adults   \n",
       "4265810  2024          Wiltshire  Female        Adults   \n",
       "4266336  2024          Wiltshire  Female        Adults   \n",
       "\n",
       "                             offence             outcome  \\\n",
       "4268271                Drug offences   Immediate Custody   \n",
       "4269203               Fraud offences  Community Sentence   \n",
       "4269825        Possession of weapons  Community Sentence   \n",
       "4270091               Fraud offences  Suspended Sentence   \n",
       "4272402         Summary non-motoring  Community Sentence   \n",
       "...                              ...                 ...   \n",
       "4254435  Violence against the person  Community Sentence   \n",
       "4262593  Violence against the person  Community Sentence   \n",
       "4263581  Violence against the person  Community Sentence   \n",
       "4265810               Theft offences  Suspended Sentence   \n",
       "4266336               Fraud offences  Community Sentence   \n",
       "\n",
       "                                              sentence_len  freq  \n",
       "4268271  More than 12 months and up to and including 18...     1  \n",
       "4269203                                                NaN     2  \n",
       "4269825                                                NaN     1  \n",
       "4270091                                                NaN     1  \n",
       "4272402                                                NaN     1  \n",
       "...                                                    ...   ...  \n",
       "4254435                                                NaN     1  \n",
       "4262593                                                NaN     2  \n",
       "4263581                                                NaN     1  \n",
       "4265810                                                NaN     1  \n",
       "4266336                                                NaN     1  \n",
       "\n",
       "[331029 rows x 8 columns]"
      ]
     },
     "execution_count": 3,
     "metadata": {},
     "output_type": "execute_result"
    }
   ],
   "source": [
    "filter_sentence_type.load_and_process_data()"
   ]
  },
  {
   "cell_type": "code",
   "execution_count": null,
   "id": "c68cddc2",
   "metadata": {},
   "outputs": [],
   "source": []
  }
 ],
 "metadata": {
  "kernelspec": {
   "display_name": "Python 3",
   "language": "python",
   "name": "python3"
  },
  "language_info": {
   "codemirror_mode": {
    "name": "ipython",
    "version": 3
   },
   "file_extension": ".py",
   "mimetype": "text/x-python",
   "name": "python",
   "nbconvert_exporter": "python",
   "pygments_lexer": "ipython3",
   "version": "3.13.3"
  }
 },
 "nbformat": 4,
 "nbformat_minor": 5
}
