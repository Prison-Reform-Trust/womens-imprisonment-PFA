{
 "cells": [
  {
   "cell_type": "markdown",
   "id": "f6291db8",
   "metadata": {},
   "source": [
    "# Women's imprisonment rates\n",
    "## ONS population by Police Force Area and Criminal Justice System statistics custody data: Merging datasets"
   ]
  },
  {
   "cell_type": "code",
   "execution_count": 1,
   "id": "6b6bfd13",
   "metadata": {},
   "outputs": [],
   "source": [
    "%load_ext autoreload\n",
    "%autoreload 2"
   ]
  },
  {
   "cell_type": "code",
   "execution_count": 2,
   "id": "ed98000d",
   "metadata": {},
   "outputs": [],
   "source": [
    "import pandas as pd\n",
    "import src.utilities as utils\n",
    "import src.data.processing.combine_custody_pfa_population as combine_custody_pfa_population"
   ]
  },
  {
   "cell_type": "code",
   "execution_count": 3,
   "id": "74895471",
   "metadata": {},
   "outputs": [
    {
     "name": "stderr",
     "output_type": "stream",
     "text": [
      "2025-07-11 10:47:38,304 - INFO - Loaded data from data/processed/PFA_custodial_sentences_all_FINAL.csv\n",
      "2025-07-11 10:47:38,325 - INFO - Loaded data from data/interim/LA_PFA_population_women_2011-2023.csv\n"
     ]
    }
   ],
   "source": [
    "df1, df2 = combine_custody_pfa_population.load_data()"
   ]
  },
  {
   "cell_type": "code",
   "execution_count": 4,
   "id": "dde97d22",
   "metadata": {},
   "outputs": [
    {
     "data": {
      "text/html": [
       "<div>\n",
       "<style scoped>\n",
       "    .dataframe tbody tr th:only-of-type {\n",
       "        vertical-align: middle;\n",
       "    }\n",
       "\n",
       "    .dataframe tbody tr th {\n",
       "        vertical-align: top;\n",
       "    }\n",
       "\n",
       "    .dataframe thead th {\n",
       "        text-align: right;\n",
       "    }\n",
       "</style>\n",
       "<table border=\"1\" class=\"dataframe\">\n",
       "  <thead>\n",
       "    <tr style=\"text-align: right;\">\n",
       "      <th></th>\n",
       "      <th>pfa</th>\n",
       "      <th>2014</th>\n",
       "      <th>2015</th>\n",
       "      <th>2016</th>\n",
       "      <th>2017</th>\n",
       "      <th>2018</th>\n",
       "      <th>2019</th>\n",
       "      <th>2020</th>\n",
       "      <th>2021</th>\n",
       "      <th>2022</th>\n",
       "      <th>2023</th>\n",
       "      <th>2024</th>\n",
       "      <th>per_change_2014</th>\n",
       "    </tr>\n",
       "  </thead>\n",
       "  <tbody>\n",
       "    <tr>\n",
       "      <th>0</th>\n",
       "      <td>Avon and Somerset</td>\n",
       "      <td>196</td>\n",
       "      <td>168</td>\n",
       "      <td>165</td>\n",
       "      <td>106</td>\n",
       "      <td>151</td>\n",
       "      <td>153</td>\n",
       "      <td>107</td>\n",
       "      <td>94</td>\n",
       "      <td>113</td>\n",
       "      <td>120</td>\n",
       "      <td>153</td>\n",
       "      <td>-0.219388</td>\n",
       "    </tr>\n",
       "    <tr>\n",
       "      <th>1</th>\n",
       "      <td>Bedfordshire</td>\n",
       "      <td>72</td>\n",
       "      <td>80</td>\n",
       "      <td>57</td>\n",
       "      <td>46</td>\n",
       "      <td>41</td>\n",
       "      <td>34</td>\n",
       "      <td>25</td>\n",
       "      <td>19</td>\n",
       "      <td>37</td>\n",
       "      <td>40</td>\n",
       "      <td>35</td>\n",
       "      <td>-0.513889</td>\n",
       "    </tr>\n",
       "    <tr>\n",
       "      <th>2</th>\n",
       "      <td>Cambridgeshire</td>\n",
       "      <td>93</td>\n",
       "      <td>92</td>\n",
       "      <td>119</td>\n",
       "      <td>102</td>\n",
       "      <td>117</td>\n",
       "      <td>90</td>\n",
       "      <td>76</td>\n",
       "      <td>47</td>\n",
       "      <td>69</td>\n",
       "      <td>81</td>\n",
       "      <td>83</td>\n",
       "      <td>-0.107527</td>\n",
       "    </tr>\n",
       "    <tr>\n",
       "      <th>3</th>\n",
       "      <td>Cheshire</td>\n",
       "      <td>168</td>\n",
       "      <td>179</td>\n",
       "      <td>165</td>\n",
       "      <td>148</td>\n",
       "      <td>160</td>\n",
       "      <td>139</td>\n",
       "      <td>120</td>\n",
       "      <td>102</td>\n",
       "      <td>65</td>\n",
       "      <td>108</td>\n",
       "      <td>96</td>\n",
       "      <td>-0.428571</td>\n",
       "    </tr>\n",
       "    <tr>\n",
       "      <th>4</th>\n",
       "      <td>Cleveland</td>\n",
       "      <td>113</td>\n",
       "      <td>90</td>\n",
       "      <td>121</td>\n",
       "      <td>129</td>\n",
       "      <td>161</td>\n",
       "      <td>101</td>\n",
       "      <td>55</td>\n",
       "      <td>96</td>\n",
       "      <td>96</td>\n",
       "      <td>140</td>\n",
       "      <td>192</td>\n",
       "      <td>0.699115</td>\n",
       "    </tr>\n",
       "    <tr>\n",
       "      <th>5</th>\n",
       "      <td>Cumbria</td>\n",
       "      <td>85</td>\n",
       "      <td>84</td>\n",
       "      <td>82</td>\n",
       "      <td>80</td>\n",
       "      <td>120</td>\n",
       "      <td>72</td>\n",
       "      <td>41</td>\n",
       "      <td>39</td>\n",
       "      <td>27</td>\n",
       "      <td>53</td>\n",
       "      <td>68</td>\n",
       "      <td>-0.200000</td>\n",
       "    </tr>\n",
       "    <tr>\n",
       "      <th>6</th>\n",
       "      <td>Derbyshire</td>\n",
       "      <td>165</td>\n",
       "      <td>174</td>\n",
       "      <td>170</td>\n",
       "      <td>125</td>\n",
       "      <td>169</td>\n",
       "      <td>120</td>\n",
       "      <td>126</td>\n",
       "      <td>121</td>\n",
       "      <td>112</td>\n",
       "      <td>110</td>\n",
       "      <td>112</td>\n",
       "      <td>-0.321212</td>\n",
       "    </tr>\n",
       "    <tr>\n",
       "      <th>7</th>\n",
       "      <td>Devon and Cornwall</td>\n",
       "      <td>116</td>\n",
       "      <td>127</td>\n",
       "      <td>119</td>\n",
       "      <td>93</td>\n",
       "      <td>124</td>\n",
       "      <td>110</td>\n",
       "      <td>105</td>\n",
       "      <td>87</td>\n",
       "      <td>66</td>\n",
       "      <td>88</td>\n",
       "      <td>118</td>\n",
       "      <td>0.017241</td>\n",
       "    </tr>\n",
       "    <tr>\n",
       "      <th>8</th>\n",
       "      <td>Dorset</td>\n",
       "      <td>58</td>\n",
       "      <td>65</td>\n",
       "      <td>54</td>\n",
       "      <td>46</td>\n",
       "      <td>54</td>\n",
       "      <td>63</td>\n",
       "      <td>36</td>\n",
       "      <td>35</td>\n",
       "      <td>22</td>\n",
       "      <td>47</td>\n",
       "      <td>44</td>\n",
       "      <td>-0.241379</td>\n",
       "    </tr>\n",
       "    <tr>\n",
       "      <th>9</th>\n",
       "      <td>Durham</td>\n",
       "      <td>75</td>\n",
       "      <td>71</td>\n",
       "      <td>71</td>\n",
       "      <td>42</td>\n",
       "      <td>66</td>\n",
       "      <td>37</td>\n",
       "      <td>58</td>\n",
       "      <td>47</td>\n",
       "      <td>57</td>\n",
       "      <td>60</td>\n",
       "      <td>71</td>\n",
       "      <td>-0.053333</td>\n",
       "    </tr>\n",
       "    <tr>\n",
       "      <th>10</th>\n",
       "      <td>Dyfed Powys</td>\n",
       "      <td>18</td>\n",
       "      <td>19</td>\n",
       "      <td>19</td>\n",
       "      <td>26</td>\n",
       "      <td>20</td>\n",
       "      <td>31</td>\n",
       "      <td>15</td>\n",
       "      <td>13</td>\n",
       "      <td>20</td>\n",
       "      <td>24</td>\n",
       "      <td>10</td>\n",
       "      <td>-0.444444</td>\n",
       "    </tr>\n",
       "    <tr>\n",
       "      <th>11</th>\n",
       "      <td>Essex</td>\n",
       "      <td>199</td>\n",
       "      <td>167</td>\n",
       "      <td>180</td>\n",
       "      <td>131</td>\n",
       "      <td>183</td>\n",
       "      <td>154</td>\n",
       "      <td>93</td>\n",
       "      <td>80</td>\n",
       "      <td>86</td>\n",
       "      <td>93</td>\n",
       "      <td>92</td>\n",
       "      <td>-0.537688</td>\n",
       "    </tr>\n",
       "    <tr>\n",
       "      <th>12</th>\n",
       "      <td>Gloucestershire</td>\n",
       "      <td>64</td>\n",
       "      <td>70</td>\n",
       "      <td>56</td>\n",
       "      <td>40</td>\n",
       "      <td>39</td>\n",
       "      <td>42</td>\n",
       "      <td>17</td>\n",
       "      <td>14</td>\n",
       "      <td>24</td>\n",
       "      <td>27</td>\n",
       "      <td>45</td>\n",
       "      <td>-0.296875</td>\n",
       "    </tr>\n",
       "    <tr>\n",
       "      <th>13</th>\n",
       "      <td>Greater Manchester</td>\n",
       "      <td>432</td>\n",
       "      <td>382</td>\n",
       "      <td>290</td>\n",
       "      <td>206</td>\n",
       "      <td>227</td>\n",
       "      <td>237</td>\n",
       "      <td>177</td>\n",
       "      <td>170</td>\n",
       "      <td>190</td>\n",
       "      <td>253</td>\n",
       "      <td>354</td>\n",
       "      <td>-0.180556</td>\n",
       "    </tr>\n",
       "    <tr>\n",
       "      <th>14</th>\n",
       "      <td>Gwent</td>\n",
       "      <td>56</td>\n",
       "      <td>51</td>\n",
       "      <td>55</td>\n",
       "      <td>74</td>\n",
       "      <td>56</td>\n",
       "      <td>27</td>\n",
       "      <td>18</td>\n",
       "      <td>24</td>\n",
       "      <td>17</td>\n",
       "      <td>31</td>\n",
       "      <td>52</td>\n",
       "      <td>-0.071429</td>\n",
       "    </tr>\n",
       "    <tr>\n",
       "      <th>15</th>\n",
       "      <td>Hampshire</td>\n",
       "      <td>190</td>\n",
       "      <td>210</td>\n",
       "      <td>157</td>\n",
       "      <td>128</td>\n",
       "      <td>157</td>\n",
       "      <td>128</td>\n",
       "      <td>134</td>\n",
       "      <td>105</td>\n",
       "      <td>92</td>\n",
       "      <td>97</td>\n",
       "      <td>186</td>\n",
       "      <td>-0.021053</td>\n",
       "    </tr>\n",
       "    <tr>\n",
       "      <th>16</th>\n",
       "      <td>Hertfordshire</td>\n",
       "      <td>86</td>\n",
       "      <td>84</td>\n",
       "      <td>99</td>\n",
       "      <td>80</td>\n",
       "      <td>69</td>\n",
       "      <td>65</td>\n",
       "      <td>37</td>\n",
       "      <td>37</td>\n",
       "      <td>41</td>\n",
       "      <td>55</td>\n",
       "      <td>54</td>\n",
       "      <td>-0.372093</td>\n",
       "    </tr>\n",
       "    <tr>\n",
       "      <th>17</th>\n",
       "      <td>Humberside</td>\n",
       "      <td>149</td>\n",
       "      <td>122</td>\n",
       "      <td>133</td>\n",
       "      <td>98</td>\n",
       "      <td>168</td>\n",
       "      <td>142</td>\n",
       "      <td>140</td>\n",
       "      <td>134</td>\n",
       "      <td>120</td>\n",
       "      <td>127</td>\n",
       "      <td>141</td>\n",
       "      <td>-0.053691</td>\n",
       "    </tr>\n",
       "    <tr>\n",
       "      <th>18</th>\n",
       "      <td>Kent</td>\n",
       "      <td>196</td>\n",
       "      <td>188</td>\n",
       "      <td>217</td>\n",
       "      <td>146</td>\n",
       "      <td>185</td>\n",
       "      <td>149</td>\n",
       "      <td>137</td>\n",
       "      <td>147</td>\n",
       "      <td>141</td>\n",
       "      <td>133</td>\n",
       "      <td>156</td>\n",
       "      <td>-0.204082</td>\n",
       "    </tr>\n",
       "    <tr>\n",
       "      <th>19</th>\n",
       "      <td>Lancashire</td>\n",
       "      <td>232</td>\n",
       "      <td>230</td>\n",
       "      <td>176</td>\n",
       "      <td>149</td>\n",
       "      <td>217</td>\n",
       "      <td>171</td>\n",
       "      <td>110</td>\n",
       "      <td>146</td>\n",
       "      <td>118</td>\n",
       "      <td>157</td>\n",
       "      <td>240</td>\n",
       "      <td>0.034483</td>\n",
       "    </tr>\n",
       "    <tr>\n",
       "      <th>20</th>\n",
       "      <td>Leicestershire</td>\n",
       "      <td>101</td>\n",
       "      <td>86</td>\n",
       "      <td>98</td>\n",
       "      <td>70</td>\n",
       "      <td>106</td>\n",
       "      <td>95</td>\n",
       "      <td>86</td>\n",
       "      <td>61</td>\n",
       "      <td>66</td>\n",
       "      <td>80</td>\n",
       "      <td>84</td>\n",
       "      <td>-0.168317</td>\n",
       "    </tr>\n",
       "    <tr>\n",
       "      <th>21</th>\n",
       "      <td>Lincolnshire</td>\n",
       "      <td>45</td>\n",
       "      <td>65</td>\n",
       "      <td>81</td>\n",
       "      <td>34</td>\n",
       "      <td>78</td>\n",
       "      <td>65</td>\n",
       "      <td>29</td>\n",
       "      <td>32</td>\n",
       "      <td>44</td>\n",
       "      <td>55</td>\n",
       "      <td>50</td>\n",
       "      <td>0.111111</td>\n",
       "    </tr>\n",
       "    <tr>\n",
       "      <th>22</th>\n",
       "      <td>London</td>\n",
       "      <td>1297</td>\n",
       "      <td>1187</td>\n",
       "      <td>1267</td>\n",
       "      <td>980</td>\n",
       "      <td>1036</td>\n",
       "      <td>908</td>\n",
       "      <td>630</td>\n",
       "      <td>545</td>\n",
       "      <td>583</td>\n",
       "      <td>583</td>\n",
       "      <td>701</td>\n",
       "      <td>-0.459522</td>\n",
       "    </tr>\n",
       "    <tr>\n",
       "      <th>23</th>\n",
       "      <td>Merseyside</td>\n",
       "      <td>245</td>\n",
       "      <td>277</td>\n",
       "      <td>281</td>\n",
       "      <td>208</td>\n",
       "      <td>238</td>\n",
       "      <td>228</td>\n",
       "      <td>151</td>\n",
       "      <td>184</td>\n",
       "      <td>179</td>\n",
       "      <td>195</td>\n",
       "      <td>212</td>\n",
       "      <td>-0.134694</td>\n",
       "    </tr>\n",
       "    <tr>\n",
       "      <th>24</th>\n",
       "      <td>Norfolk</td>\n",
       "      <td>85</td>\n",
       "      <td>99</td>\n",
       "      <td>124</td>\n",
       "      <td>87</td>\n",
       "      <td>108</td>\n",
       "      <td>86</td>\n",
       "      <td>85</td>\n",
       "      <td>59</td>\n",
       "      <td>49</td>\n",
       "      <td>87</td>\n",
       "      <td>73</td>\n",
       "      <td>-0.141176</td>\n",
       "    </tr>\n",
       "    <tr>\n",
       "      <th>25</th>\n",
       "      <td>North Wales</td>\n",
       "      <td>91</td>\n",
       "      <td>109</td>\n",
       "      <td>117</td>\n",
       "      <td>76</td>\n",
       "      <td>95</td>\n",
       "      <td>82</td>\n",
       "      <td>58</td>\n",
       "      <td>70</td>\n",
       "      <td>76</td>\n",
       "      <td>85</td>\n",
       "      <td>68</td>\n",
       "      <td>-0.252747</td>\n",
       "    </tr>\n",
       "    <tr>\n",
       "      <th>26</th>\n",
       "      <td>North Yorkshire</td>\n",
       "      <td>70</td>\n",
       "      <td>72</td>\n",
       "      <td>81</td>\n",
       "      <td>71</td>\n",
       "      <td>82</td>\n",
       "      <td>95</td>\n",
       "      <td>84</td>\n",
       "      <td>61</td>\n",
       "      <td>49</td>\n",
       "      <td>65</td>\n",
       "      <td>76</td>\n",
       "      <td>0.085714</td>\n",
       "    </tr>\n",
       "    <tr>\n",
       "      <th>27</th>\n",
       "      <td>Northamptonshire</td>\n",
       "      <td>93</td>\n",
       "      <td>70</td>\n",
       "      <td>77</td>\n",
       "      <td>45</td>\n",
       "      <td>56</td>\n",
       "      <td>57</td>\n",
       "      <td>35</td>\n",
       "      <td>61</td>\n",
       "      <td>43</td>\n",
       "      <td>62</td>\n",
       "      <td>72</td>\n",
       "      <td>-0.225806</td>\n",
       "    </tr>\n",
       "    <tr>\n",
       "      <th>28</th>\n",
       "      <td>Northumbria</td>\n",
       "      <td>170</td>\n",
       "      <td>175</td>\n",
       "      <td>165</td>\n",
       "      <td>124</td>\n",
       "      <td>148</td>\n",
       "      <td>146</td>\n",
       "      <td>91</td>\n",
       "      <td>110</td>\n",
       "      <td>102</td>\n",
       "      <td>119</td>\n",
       "      <td>145</td>\n",
       "      <td>-0.147059</td>\n",
       "    </tr>\n",
       "    <tr>\n",
       "      <th>29</th>\n",
       "      <td>Nottinghamshire</td>\n",
       "      <td>147</td>\n",
       "      <td>173</td>\n",
       "      <td>152</td>\n",
       "      <td>124</td>\n",
       "      <td>186</td>\n",
       "      <td>179</td>\n",
       "      <td>104</td>\n",
       "      <td>102</td>\n",
       "      <td>128</td>\n",
       "      <td>150</td>\n",
       "      <td>194</td>\n",
       "      <td>0.319728</td>\n",
       "    </tr>\n",
       "    <tr>\n",
       "      <th>30</th>\n",
       "      <td>South Wales</td>\n",
       "      <td>399</td>\n",
       "      <td>365</td>\n",
       "      <td>432</td>\n",
       "      <td>245</td>\n",
       "      <td>414</td>\n",
       "      <td>345</td>\n",
       "      <td>235</td>\n",
       "      <td>240</td>\n",
       "      <td>205</td>\n",
       "      <td>236</td>\n",
       "      <td>294</td>\n",
       "      <td>-0.263158</td>\n",
       "    </tr>\n",
       "    <tr>\n",
       "      <th>31</th>\n",
       "      <td>South Yorkshire</td>\n",
       "      <td>244</td>\n",
       "      <td>230</td>\n",
       "      <td>194</td>\n",
       "      <td>165</td>\n",
       "      <td>164</td>\n",
       "      <td>173</td>\n",
       "      <td>134</td>\n",
       "      <td>105</td>\n",
       "      <td>104</td>\n",
       "      <td>172</td>\n",
       "      <td>214</td>\n",
       "      <td>-0.122951</td>\n",
       "    </tr>\n",
       "    <tr>\n",
       "      <th>32</th>\n",
       "      <td>Staffordshire</td>\n",
       "      <td>124</td>\n",
       "      <td>128</td>\n",
       "      <td>111</td>\n",
       "      <td>73</td>\n",
       "      <td>116</td>\n",
       "      <td>130</td>\n",
       "      <td>84</td>\n",
       "      <td>92</td>\n",
       "      <td>71</td>\n",
       "      <td>85</td>\n",
       "      <td>91</td>\n",
       "      <td>-0.266129</td>\n",
       "    </tr>\n",
       "    <tr>\n",
       "      <th>33</th>\n",
       "      <td>Suffolk</td>\n",
       "      <td>80</td>\n",
       "      <td>74</td>\n",
       "      <td>57</td>\n",
       "      <td>53</td>\n",
       "      <td>55</td>\n",
       "      <td>45</td>\n",
       "      <td>42</td>\n",
       "      <td>45</td>\n",
       "      <td>34</td>\n",
       "      <td>52</td>\n",
       "      <td>45</td>\n",
       "      <td>-0.437500</td>\n",
       "    </tr>\n",
       "    <tr>\n",
       "      <th>34</th>\n",
       "      <td>Surrey</td>\n",
       "      <td>98</td>\n",
       "      <td>77</td>\n",
       "      <td>70</td>\n",
       "      <td>53</td>\n",
       "      <td>45</td>\n",
       "      <td>43</td>\n",
       "      <td>29</td>\n",
       "      <td>34</td>\n",
       "      <td>13</td>\n",
       "      <td>27</td>\n",
       "      <td>33</td>\n",
       "      <td>-0.663265</td>\n",
       "    </tr>\n",
       "    <tr>\n",
       "      <th>35</th>\n",
       "      <td>Sussex</td>\n",
       "      <td>117</td>\n",
       "      <td>131</td>\n",
       "      <td>116</td>\n",
       "      <td>76</td>\n",
       "      <td>100</td>\n",
       "      <td>87</td>\n",
       "      <td>70</td>\n",
       "      <td>61</td>\n",
       "      <td>61</td>\n",
       "      <td>51</td>\n",
       "      <td>89</td>\n",
       "      <td>-0.239316</td>\n",
       "    </tr>\n",
       "    <tr>\n",
       "      <th>36</th>\n",
       "      <td>Thames Valley</td>\n",
       "      <td>210</td>\n",
       "      <td>258</td>\n",
       "      <td>221</td>\n",
       "      <td>172</td>\n",
       "      <td>202</td>\n",
       "      <td>159</td>\n",
       "      <td>96</td>\n",
       "      <td>138</td>\n",
       "      <td>132</td>\n",
       "      <td>118</td>\n",
       "      <td>146</td>\n",
       "      <td>-0.304762</td>\n",
       "    </tr>\n",
       "    <tr>\n",
       "      <th>37</th>\n",
       "      <td>Warwickshire</td>\n",
       "      <td>99</td>\n",
       "      <td>107</td>\n",
       "      <td>117</td>\n",
       "      <td>81</td>\n",
       "      <td>73</td>\n",
       "      <td>86</td>\n",
       "      <td>67</td>\n",
       "      <td>55</td>\n",
       "      <td>69</td>\n",
       "      <td>42</td>\n",
       "      <td>45</td>\n",
       "      <td>-0.545455</td>\n",
       "    </tr>\n",
       "    <tr>\n",
       "      <th>38</th>\n",
       "      <td>West Mercia</td>\n",
       "      <td>112</td>\n",
       "      <td>97</td>\n",
       "      <td>112</td>\n",
       "      <td>82</td>\n",
       "      <td>106</td>\n",
       "      <td>113</td>\n",
       "      <td>99</td>\n",
       "      <td>58</td>\n",
       "      <td>44</td>\n",
       "      <td>64</td>\n",
       "      <td>57</td>\n",
       "      <td>-0.491071</td>\n",
       "    </tr>\n",
       "    <tr>\n",
       "      <th>39</th>\n",
       "      <td>West Midlands</td>\n",
       "      <td>473</td>\n",
       "      <td>470</td>\n",
       "      <td>501</td>\n",
       "      <td>296</td>\n",
       "      <td>361</td>\n",
       "      <td>339</td>\n",
       "      <td>216</td>\n",
       "      <td>196</td>\n",
       "      <td>181</td>\n",
       "      <td>272</td>\n",
       "      <td>313</td>\n",
       "      <td>-0.338266</td>\n",
       "    </tr>\n",
       "    <tr>\n",
       "      <th>40</th>\n",
       "      <td>West Yorkshire</td>\n",
       "      <td>298</td>\n",
       "      <td>294</td>\n",
       "      <td>334</td>\n",
       "      <td>259</td>\n",
       "      <td>278</td>\n",
       "      <td>288</td>\n",
       "      <td>267</td>\n",
       "      <td>256</td>\n",
       "      <td>247</td>\n",
       "      <td>349</td>\n",
       "      <td>402</td>\n",
       "      <td>0.348993</td>\n",
       "    </tr>\n",
       "    <tr>\n",
       "      <th>41</th>\n",
       "      <td>Wiltshire</td>\n",
       "      <td>33</td>\n",
       "      <td>41</td>\n",
       "      <td>49</td>\n",
       "      <td>29</td>\n",
       "      <td>49</td>\n",
       "      <td>48</td>\n",
       "      <td>35</td>\n",
       "      <td>32</td>\n",
       "      <td>33</td>\n",
       "      <td>37</td>\n",
       "      <td>32</td>\n",
       "      <td>-0.030303</td>\n",
       "    </tr>\n",
       "  </tbody>\n",
       "</table>\n",
       "</div>"
      ],
      "text/plain": [
       "                   pfa  2014  2015  2016  2017  2018  2019  2020  2021  2022  \\\n",
       "0    Avon and Somerset   196   168   165   106   151   153   107    94   113   \n",
       "1         Bedfordshire    72    80    57    46    41    34    25    19    37   \n",
       "2       Cambridgeshire    93    92   119   102   117    90    76    47    69   \n",
       "3             Cheshire   168   179   165   148   160   139   120   102    65   \n",
       "4            Cleveland   113    90   121   129   161   101    55    96    96   \n",
       "5              Cumbria    85    84    82    80   120    72    41    39    27   \n",
       "6           Derbyshire   165   174   170   125   169   120   126   121   112   \n",
       "7   Devon and Cornwall   116   127   119    93   124   110   105    87    66   \n",
       "8               Dorset    58    65    54    46    54    63    36    35    22   \n",
       "9               Durham    75    71    71    42    66    37    58    47    57   \n",
       "10         Dyfed Powys    18    19    19    26    20    31    15    13    20   \n",
       "11               Essex   199   167   180   131   183   154    93    80    86   \n",
       "12     Gloucestershire    64    70    56    40    39    42    17    14    24   \n",
       "13  Greater Manchester   432   382   290   206   227   237   177   170   190   \n",
       "14               Gwent    56    51    55    74    56    27    18    24    17   \n",
       "15           Hampshire   190   210   157   128   157   128   134   105    92   \n",
       "16       Hertfordshire    86    84    99    80    69    65    37    37    41   \n",
       "17          Humberside   149   122   133    98   168   142   140   134   120   \n",
       "18                Kent   196   188   217   146   185   149   137   147   141   \n",
       "19          Lancashire   232   230   176   149   217   171   110   146   118   \n",
       "20      Leicestershire   101    86    98    70   106    95    86    61    66   \n",
       "21        Lincolnshire    45    65    81    34    78    65    29    32    44   \n",
       "22              London  1297  1187  1267   980  1036   908   630   545   583   \n",
       "23          Merseyside   245   277   281   208   238   228   151   184   179   \n",
       "24             Norfolk    85    99   124    87   108    86    85    59    49   \n",
       "25         North Wales    91   109   117    76    95    82    58    70    76   \n",
       "26     North Yorkshire    70    72    81    71    82    95    84    61    49   \n",
       "27    Northamptonshire    93    70    77    45    56    57    35    61    43   \n",
       "28         Northumbria   170   175   165   124   148   146    91   110   102   \n",
       "29     Nottinghamshire   147   173   152   124   186   179   104   102   128   \n",
       "30         South Wales   399   365   432   245   414   345   235   240   205   \n",
       "31     South Yorkshire   244   230   194   165   164   173   134   105   104   \n",
       "32       Staffordshire   124   128   111    73   116   130    84    92    71   \n",
       "33             Suffolk    80    74    57    53    55    45    42    45    34   \n",
       "34              Surrey    98    77    70    53    45    43    29    34    13   \n",
       "35              Sussex   117   131   116    76   100    87    70    61    61   \n",
       "36       Thames Valley   210   258   221   172   202   159    96   138   132   \n",
       "37        Warwickshire    99   107   117    81    73    86    67    55    69   \n",
       "38         West Mercia   112    97   112    82   106   113    99    58    44   \n",
       "39       West Midlands   473   470   501   296   361   339   216   196   181   \n",
       "40      West Yorkshire   298   294   334   259   278   288   267   256   247   \n",
       "41           Wiltshire    33    41    49    29    49    48    35    32    33   \n",
       "\n",
       "    2023  2024  per_change_2014  \n",
       "0    120   153        -0.219388  \n",
       "1     40    35        -0.513889  \n",
       "2     81    83        -0.107527  \n",
       "3    108    96        -0.428571  \n",
       "4    140   192         0.699115  \n",
       "5     53    68        -0.200000  \n",
       "6    110   112        -0.321212  \n",
       "7     88   118         0.017241  \n",
       "8     47    44        -0.241379  \n",
       "9     60    71        -0.053333  \n",
       "10    24    10        -0.444444  \n",
       "11    93    92        -0.537688  \n",
       "12    27    45        -0.296875  \n",
       "13   253   354        -0.180556  \n",
       "14    31    52        -0.071429  \n",
       "15    97   186        -0.021053  \n",
       "16    55    54        -0.372093  \n",
       "17   127   141        -0.053691  \n",
       "18   133   156        -0.204082  \n",
       "19   157   240         0.034483  \n",
       "20    80    84        -0.168317  \n",
       "21    55    50         0.111111  \n",
       "22   583   701        -0.459522  \n",
       "23   195   212        -0.134694  \n",
       "24    87    73        -0.141176  \n",
       "25    85    68        -0.252747  \n",
       "26    65    76         0.085714  \n",
       "27    62    72        -0.225806  \n",
       "28   119   145        -0.147059  \n",
       "29   150   194         0.319728  \n",
       "30   236   294        -0.263158  \n",
       "31   172   214        -0.122951  \n",
       "32    85    91        -0.266129  \n",
       "33    52    45        -0.437500  \n",
       "34    27    33        -0.663265  \n",
       "35    51    89        -0.239316  \n",
       "36   118   146        -0.304762  \n",
       "37    42    45        -0.545455  \n",
       "38    64    57        -0.491071  \n",
       "39   272   313        -0.338266  \n",
       "40   349   402         0.348993  \n",
       "41    37    32        -0.030303  "
      ]
     },
     "execution_count": 4,
     "metadata": {},
     "output_type": "execute_result"
    }
   ],
   "source": [
    "df1"
   ]
  },
  {
   "cell_type": "code",
   "execution_count": 5,
   "id": "d9647931",
   "metadata": {},
   "outputs": [
    {
     "name": "stderr",
     "output_type": "stream",
     "text": [
      "2025-07-11 10:47:43,426 - INFO - Processing CJS custody data...\n"
     ]
    },
    {
     "data": {
      "text/html": [
       "<div>\n",
       "<style scoped>\n",
       "    .dataframe tbody tr th:only-of-type {\n",
       "        vertical-align: middle;\n",
       "    }\n",
       "\n",
       "    .dataframe tbody tr th {\n",
       "        vertical-align: top;\n",
       "    }\n",
       "\n",
       "    .dataframe thead th {\n",
       "        text-align: right;\n",
       "    }\n",
       "</style>\n",
       "<table border=\"1\" class=\"dataframe\">\n",
       "  <thead>\n",
       "    <tr style=\"text-align: right;\">\n",
       "      <th></th>\n",
       "      <th>pfa</th>\n",
       "      <th>year</th>\n",
       "      <th>custody_count</th>\n",
       "    </tr>\n",
       "  </thead>\n",
       "  <tbody>\n",
       "    <tr>\n",
       "      <th>0</th>\n",
       "      <td>Avon and Somerset</td>\n",
       "      <td>2014</td>\n",
       "      <td>196</td>\n",
       "    </tr>\n",
       "    <tr>\n",
       "      <th>1</th>\n",
       "      <td>Avon and Somerset</td>\n",
       "      <td>2015</td>\n",
       "      <td>168</td>\n",
       "    </tr>\n",
       "    <tr>\n",
       "      <th>2</th>\n",
       "      <td>Avon and Somerset</td>\n",
       "      <td>2016</td>\n",
       "      <td>165</td>\n",
       "    </tr>\n",
       "    <tr>\n",
       "      <th>3</th>\n",
       "      <td>Avon and Somerset</td>\n",
       "      <td>2017</td>\n",
       "      <td>106</td>\n",
       "    </tr>\n",
       "    <tr>\n",
       "      <th>4</th>\n",
       "      <td>Avon and Somerset</td>\n",
       "      <td>2018</td>\n",
       "      <td>151</td>\n",
       "    </tr>\n",
       "    <tr>\n",
       "      <th>...</th>\n",
       "      <td>...</td>\n",
       "      <td>...</td>\n",
       "      <td>...</td>\n",
       "    </tr>\n",
       "    <tr>\n",
       "      <th>457</th>\n",
       "      <td>Wiltshire</td>\n",
       "      <td>2020</td>\n",
       "      <td>35</td>\n",
       "    </tr>\n",
       "    <tr>\n",
       "      <th>458</th>\n",
       "      <td>Wiltshire</td>\n",
       "      <td>2021</td>\n",
       "      <td>32</td>\n",
       "    </tr>\n",
       "    <tr>\n",
       "      <th>459</th>\n",
       "      <td>Wiltshire</td>\n",
       "      <td>2022</td>\n",
       "      <td>33</td>\n",
       "    </tr>\n",
       "    <tr>\n",
       "      <th>460</th>\n",
       "      <td>Wiltshire</td>\n",
       "      <td>2023</td>\n",
       "      <td>37</td>\n",
       "    </tr>\n",
       "    <tr>\n",
       "      <th>461</th>\n",
       "      <td>Wiltshire</td>\n",
       "      <td>2024</td>\n",
       "      <td>32</td>\n",
       "    </tr>\n",
       "  </tbody>\n",
       "</table>\n",
       "<p>462 rows × 3 columns</p>\n",
       "</div>"
      ],
      "text/plain": [
       "                   pfa  year  custody_count\n",
       "0    Avon and Somerset  2014            196\n",
       "1    Avon and Somerset  2015            168\n",
       "2    Avon and Somerset  2016            165\n",
       "3    Avon and Somerset  2017            106\n",
       "4    Avon and Somerset  2018            151\n",
       "..                 ...   ...            ...\n",
       "457          Wiltshire  2020             35\n",
       "458          Wiltshire  2021             32\n",
       "459          Wiltshire  2022             33\n",
       "460          Wiltshire  2023             37\n",
       "461          Wiltshire  2024             32\n",
       "\n",
       "[462 rows x 3 columns]"
      ]
     },
     "execution_count": 5,
     "metadata": {},
     "output_type": "execute_result"
    }
   ],
   "source": [
    "custody_data = combine_custody_pfa_population.process_custody_data(df1)\n",
    "custody_data"
   ]
  },
  {
   "cell_type": "code",
   "execution_count": 6,
   "id": "9d409b23",
   "metadata": {},
   "outputs": [
    {
     "data": {
      "text/html": [
       "<div>\n",
       "<style scoped>\n",
       "    .dataframe tbody tr th:only-of-type {\n",
       "        vertical-align: middle;\n",
       "    }\n",
       "\n",
       "    .dataframe tbody tr th {\n",
       "        vertical-align: top;\n",
       "    }\n",
       "\n",
       "    .dataframe thead th {\n",
       "        text-align: right;\n",
       "    }\n",
       "</style>\n",
       "<table border=\"1\" class=\"dataframe\">\n",
       "  <thead>\n",
       "    <tr style=\"text-align: right;\">\n",
       "      <th></th>\n",
       "      <th>ladcode</th>\n",
       "      <th>laname</th>\n",
       "      <th>year</th>\n",
       "      <th>freq</th>\n",
       "      <th>pfa</th>\n",
       "    </tr>\n",
       "  </thead>\n",
       "  <tbody>\n",
       "    <tr>\n",
       "      <th>0</th>\n",
       "      <td>E06000001</td>\n",
       "      <td>Hartlepool</td>\n",
       "      <td>2011</td>\n",
       "      <td>37332</td>\n",
       "      <td>Cleveland</td>\n",
       "    </tr>\n",
       "    <tr>\n",
       "      <th>1</th>\n",
       "      <td>E06000001</td>\n",
       "      <td>Hartlepool</td>\n",
       "      <td>2012</td>\n",
       "      <td>37470</td>\n",
       "      <td>Cleveland</td>\n",
       "    </tr>\n",
       "    <tr>\n",
       "      <th>2</th>\n",
       "      <td>E06000001</td>\n",
       "      <td>Hartlepool</td>\n",
       "      <td>2013</td>\n",
       "      <td>37476</td>\n",
       "      <td>Cleveland</td>\n",
       "    </tr>\n",
       "    <tr>\n",
       "      <th>3</th>\n",
       "      <td>E06000001</td>\n",
       "      <td>Hartlepool</td>\n",
       "      <td>2014</td>\n",
       "      <td>37491</td>\n",
       "      <td>Cleveland</td>\n",
       "    </tr>\n",
       "    <tr>\n",
       "      <th>4</th>\n",
       "      <td>E06000001</td>\n",
       "      <td>Hartlepool</td>\n",
       "      <td>2015</td>\n",
       "      <td>37524</td>\n",
       "      <td>Cleveland</td>\n",
       "    </tr>\n",
       "    <tr>\n",
       "      <th>...</th>\n",
       "      <td>...</td>\n",
       "      <td>...</td>\n",
       "      <td>...</td>\n",
       "      <td>...</td>\n",
       "      <td>...</td>\n",
       "    </tr>\n",
       "    <tr>\n",
       "      <th>4116</th>\n",
       "      <td>W06000024</td>\n",
       "      <td>Merthyr Tydfil</td>\n",
       "      <td>2019</td>\n",
       "      <td>24168</td>\n",
       "      <td>South Wales</td>\n",
       "    </tr>\n",
       "    <tr>\n",
       "      <th>4117</th>\n",
       "      <td>W06000024</td>\n",
       "      <td>Merthyr Tydfil</td>\n",
       "      <td>2020</td>\n",
       "      <td>24134</td>\n",
       "      <td>South Wales</td>\n",
       "    </tr>\n",
       "    <tr>\n",
       "      <th>4118</th>\n",
       "      <td>W06000024</td>\n",
       "      <td>Merthyr Tydfil</td>\n",
       "      <td>2021</td>\n",
       "      <td>24061</td>\n",
       "      <td>South Wales</td>\n",
       "    </tr>\n",
       "    <tr>\n",
       "      <th>4119</th>\n",
       "      <td>W06000024</td>\n",
       "      <td>Merthyr Tydfil</td>\n",
       "      <td>2022</td>\n",
       "      <td>24056</td>\n",
       "      <td>South Wales</td>\n",
       "    </tr>\n",
       "    <tr>\n",
       "      <th>4120</th>\n",
       "      <td>W06000024</td>\n",
       "      <td>Merthyr Tydfil</td>\n",
       "      <td>2023</td>\n",
       "      <td>23909</td>\n",
       "      <td>South Wales</td>\n",
       "    </tr>\n",
       "  </tbody>\n",
       "</table>\n",
       "<p>4121 rows × 5 columns</p>\n",
       "</div>"
      ],
      "text/plain": [
       "        ladcode          laname  year   freq          pfa\n",
       "0     E06000001      Hartlepool  2011  37332    Cleveland\n",
       "1     E06000001      Hartlepool  2012  37470    Cleveland\n",
       "2     E06000001      Hartlepool  2013  37476    Cleveland\n",
       "3     E06000001      Hartlepool  2014  37491    Cleveland\n",
       "4     E06000001      Hartlepool  2015  37524    Cleveland\n",
       "...         ...             ...   ...    ...          ...\n",
       "4116  W06000024  Merthyr Tydfil  2019  24168  South Wales\n",
       "4117  W06000024  Merthyr Tydfil  2020  24134  South Wales\n",
       "4118  W06000024  Merthyr Tydfil  2021  24061  South Wales\n",
       "4119  W06000024  Merthyr Tydfil  2022  24056  South Wales\n",
       "4120  W06000024  Merthyr Tydfil  2023  23909  South Wales\n",
       "\n",
       "[4121 rows x 5 columns]"
      ]
     },
     "execution_count": 6,
     "metadata": {},
     "output_type": "execute_result"
    }
   ],
   "source": [
    "df2"
   ]
  },
  {
   "cell_type": "code",
   "execution_count": 8,
   "id": "da757f1a",
   "metadata": {},
   "outputs": [
    {
     "name": "stderr",
     "output_type": "stream",
     "text": [
      "2025-07-11 10:48:22,083 - INFO - Processing population data...\n",
      "2025-07-11 10:48:22,089 - INFO - Aggregating by: pfa, year\n"
     ]
    },
    {
     "data": {
      "text/html": [
       "<div>\n",
       "<style scoped>\n",
       "    .dataframe tbody tr th:only-of-type {\n",
       "        vertical-align: middle;\n",
       "    }\n",
       "\n",
       "    .dataframe tbody tr th {\n",
       "        vertical-align: top;\n",
       "    }\n",
       "\n",
       "    .dataframe thead th {\n",
       "        text-align: right;\n",
       "    }\n",
       "</style>\n",
       "<table border=\"1\" class=\"dataframe\">\n",
       "  <thead>\n",
       "    <tr style=\"text-align: right;\">\n",
       "      <th></th>\n",
       "      <th>pfa</th>\n",
       "      <th>year</th>\n",
       "      <th>freq</th>\n",
       "    </tr>\n",
       "  </thead>\n",
       "  <tbody>\n",
       "    <tr>\n",
       "      <th>0</th>\n",
       "      <td>Avon and Somerset</td>\n",
       "      <td>2014</td>\n",
       "      <td>673590</td>\n",
       "    </tr>\n",
       "    <tr>\n",
       "      <th>1</th>\n",
       "      <td>Avon and Somerset</td>\n",
       "      <td>2015</td>\n",
       "      <td>682193</td>\n",
       "    </tr>\n",
       "    <tr>\n",
       "      <th>2</th>\n",
       "      <td>Avon and Somerset</td>\n",
       "      <td>2016</td>\n",
       "      <td>692443</td>\n",
       "    </tr>\n",
       "    <tr>\n",
       "      <th>3</th>\n",
       "      <td>Avon and Somerset</td>\n",
       "      <td>2017</td>\n",
       "      <td>698921</td>\n",
       "    </tr>\n",
       "    <tr>\n",
       "      <th>4</th>\n",
       "      <td>Avon and Somerset</td>\n",
       "      <td>2018</td>\n",
       "      <td>706285</td>\n",
       "    </tr>\n",
       "    <tr>\n",
       "      <th>...</th>\n",
       "      <td>...</td>\n",
       "      <td>...</td>\n",
       "      <td>...</td>\n",
       "    </tr>\n",
       "    <tr>\n",
       "      <th>415</th>\n",
       "      <td>Wiltshire</td>\n",
       "      <td>2019</td>\n",
       "      <td>296485</td>\n",
       "    </tr>\n",
       "    <tr>\n",
       "      <th>416</th>\n",
       "      <td>Wiltshire</td>\n",
       "      <td>2020</td>\n",
       "      <td>298390</td>\n",
       "    </tr>\n",
       "    <tr>\n",
       "      <th>417</th>\n",
       "      <td>Wiltshire</td>\n",
       "      <td>2021</td>\n",
       "      <td>301817</td>\n",
       "    </tr>\n",
       "    <tr>\n",
       "      <th>418</th>\n",
       "      <td>Wiltshire</td>\n",
       "      <td>2022</td>\n",
       "      <td>303639</td>\n",
       "    </tr>\n",
       "    <tr>\n",
       "      <th>419</th>\n",
       "      <td>Wiltshire</td>\n",
       "      <td>2023</td>\n",
       "      <td>306157</td>\n",
       "    </tr>\n",
       "  </tbody>\n",
       "</table>\n",
       "<p>420 rows × 3 columns</p>\n",
       "</div>"
      ],
      "text/plain": [
       "                   pfa  year    freq\n",
       "0    Avon and Somerset  2014  673590\n",
       "1    Avon and Somerset  2015  682193\n",
       "2    Avon and Somerset  2016  692443\n",
       "3    Avon and Somerset  2017  698921\n",
       "4    Avon and Somerset  2018  706285\n",
       "..                 ...   ...     ...\n",
       "415          Wiltshire  2019  296485\n",
       "416          Wiltshire  2020  298390\n",
       "417          Wiltshire  2021  301817\n",
       "418          Wiltshire  2022  303639\n",
       "419          Wiltshire  2023  306157\n",
       "\n",
       "[420 rows x 3 columns]"
      ]
     },
     "execution_count": 8,
     "metadata": {},
     "output_type": "execute_result"
    }
   ],
   "source": [
    "population_data = combine_custody_pfa_population.process_population_data(df2, custody_data)\n",
    "population_data"
   ]
  },
  {
   "cell_type": "markdown",
   "id": "41150db4",
   "metadata": {},
   "source": [
    "Right, we have the same issue as we've had previously where we have CJS data up to 2024, but ONS population data up to 2023"
   ]
  },
  {
   "cell_type": "markdown",
   "id": "eb576e8c",
   "metadata": {},
   "source": [
    "## Projecting the 2024 population\n",
    "\n",
    "I'm going to try three different statistical modelling approaches to best predict the 2024 population for each of the areas:"
   ]
  },
  {
   "cell_type": "markdown",
   "id": "eeba409a",
   "metadata": {},
   "source": [
    "1. Linear Trend\n",
    "   \n",
    "    **How it works**: Draws a straight line through recent population data and extends it forward.\n",
    "\n",
    "    * **Analogy**: Like using a ruler to extend a line on graph paper\n",
    "    * **Strengths**: Simple, reliable when population changes steadily\n",
    "    * **Weaknesses**: Assumes change will continue at exactly the same rate forever\n",
    "\n",
    "2. Compound Annual Growth Rate (CAGR)\n",
    "    \n",
    "    **How it works**: Calculates the average percentage growth per year and applies it forward.\n",
    "\n",
    "    * **Analogy**: Like compound interest in a savings account\n",
    "    * **Strengths**: Good for populations with consistent percentage growth\n",
    "    * **Weaknesses**: Can produce unrealistic exponential growth over long periods\n",
    "\n",
    "3. Moving Average\n",
    "    \n",
    "    **How it works**: Looks at recent year-to-year changes, averages them, and applies that average change forward.\n",
    "\n",
    "    * **Analogy**: Like predicting tomorrow's temperature based on the average of recent daily changes\n",
    "    * **Strengths**: Smooths out short-term fluctuations, adapts to recent trends\n",
    "    * **Weaknesses**: May miss longer-term patterns, sensitive to unusual recent years"
   ]
  },
  {
   "cell_type": "markdown",
   "id": "e62159c7",
   "metadata": {},
   "source": [
    "### Examining population trends by PFA to understand growth patterns"
   ]
  },
  {
   "cell_type": "code",
   "execution_count": 44,
   "id": "a3326d56",
   "metadata": {},
   "outputs": [
    {
     "name": "stdout",
     "output_type": "stream",
     "text": [
      "Population data year range: 2014 to 2023\n",
      "Custody data year range: 2014 to 2024\n"
     ]
    },
    {
     "data": {
      "application/vnd.plotly.v1+json": {
       "config": {
        "plotlyServerURL": "https://plot.ly"
       },
       "data": [
        {
         "line": {
          "width": 2
         },
         "marker": {
          "size": 6
         },
         "mode": "lines+markers",
         "name": "Bedfordshire",
         "showlegend": false,
         "type": "scatter",
         "x": {
          "bdata": "4gfjB+QH5QfmB+cH",
          "dtype": "i2"
         },
         "xaxis": "x",
         "y": {
          "bdata": "kQ0EAFgbBABWJgQAhzgEAGlDBABgUgQA",
          "dtype": "i4"
         },
         "yaxis": "y"
        },
        {
         "line": {
          "width": 2
         },
         "marker": {
          "size": 6
         },
         "mode": "lines+markers",
         "name": "Cambridgeshire",
         "showlegend": false,
         "type": "scatter",
         "x": {
          "bdata": "4gfjB+QH5QfmB+cH",
          "dtype": "i2"
         },
         "xaxis": "x2",
         "y": {
          "bdata": "818FABdqBQDbcQUACIkFAEWXBQDFpgUA",
          "dtype": "i4"
         },
         "yaxis": "y2"
        },
        {
         "line": {
          "width": 2
         },
         "marker": {
          "size": 6
         },
         "mode": "lines+markers",
         "name": "Cheshire",
         "showlegend": false,
         "type": "scatter",
         "x": {
          "bdata": "4gfjB+QH5QfmB+cH",
          "dtype": "i2"
         },
         "xaxis": "x3",
         "y": {
          "bdata": "ZsIGAEzRBgBk2AYADOsGAHT6BgCLCQcA",
          "dtype": "i4"
         },
         "yaxis": "y3"
        },
        {
         "line": {
          "width": 2
         },
         "marker": {
          "size": 6
         },
         "mode": "lines+markers",
         "name": "Cleveland",
         "showlegend": false,
         "type": "scatter",
         "x": {
          "bdata": "4gfjB+QH5QfmB+cH",
          "dtype": "i2"
         },
         "xaxis": "x4",
         "y": {
          "bdata": "84ADAESCAwAvgQMAPIcDAA6RAwABnQMA",
          "dtype": "i4"
         },
         "yaxis": "y4"
        },
        {
         "line": {
          "width": 2
         },
         "marker": {
          "size": 6
         },
         "mode": "lines+markers",
         "name": "Cumbria",
         "showlegend": false,
         "type": "scatter",
         "x": {
          "bdata": "4gfjB+QH5QfmB+cH",
          "dtype": "i2"
         },
         "xaxis": "x5",
         "y": {
          "bdata": "yy4DAP8wAwANMQMANzUDAKk4AwAlPAMA",
          "dtype": "i4"
         },
         "yaxis": "y5"
        },
        {
         "line": {
          "width": 2
         },
         "marker": {
          "size": 6
         },
         "mode": "lines+markers",
         "name": "Derbyshire",
         "showlegend": false,
         "type": "scatter",
         "x": {
          "bdata": "4gfjB+QH5QfmB+cH",
          "dtype": "i2"
         },
         "xaxis": "x6",
         "y": {
          "bdata": "0IwGACaWBgBdmQYAOaMGAAOvBgDwvgYA",
          "dtype": "i4"
         },
         "yaxis": "y6"
        }
       ],
       "layout": {
        "annotations": [
         {
          "font": {
           "size": 16
          },
          "showarrow": false,
          "text": "Bedfordshire",
          "x": 0.13999999999999999,
          "xanchor": "center",
          "xref": "paper",
          "y": 1,
          "yanchor": "bottom",
          "yref": "paper"
         },
         {
          "font": {
           "size": 16
          },
          "showarrow": false,
          "text": "Cambridgeshire",
          "x": 0.49999999999999994,
          "xanchor": "center",
          "xref": "paper",
          "y": 1,
          "yanchor": "bottom",
          "yref": "paper"
         },
         {
          "font": {
           "size": 16
          },
          "showarrow": false,
          "text": "Cheshire",
          "x": 0.86,
          "xanchor": "center",
          "xref": "paper",
          "y": 1,
          "yanchor": "bottom",
          "yref": "paper"
         },
         {
          "font": {
           "size": 16
          },
          "showarrow": false,
          "text": "Cleveland",
          "x": 0.13999999999999999,
          "xanchor": "center",
          "xref": "paper",
          "y": 0.44,
          "yanchor": "bottom",
          "yref": "paper"
         },
         {
          "font": {
           "size": 16
          },
          "showarrow": false,
          "text": "Cumbria",
          "x": 0.49999999999999994,
          "xanchor": "center",
          "xref": "paper",
          "y": 0.44,
          "yanchor": "bottom",
          "yref": "paper"
         },
         {
          "font": {
           "size": 16
          },
          "showarrow": false,
          "text": "Derbyshire",
          "x": 0.86,
          "xanchor": "center",
          "xref": "paper",
          "y": 0.44,
          "yanchor": "bottom",
          "yref": "paper"
         }
        ],
        "height": 600,
        "margin": {
         "l": 60,
         "r": 20
        },
        "template": {
         "data": {
          "scatter": [
           {
            "line": {
             "width": 4
            },
            "marker": {
             "size": 10
            },
            "type": "scatter"
           }
          ]
         },
         "layout": {
          "colorway": [
           "#A01D28",
           "#499CC9",
           "#F9A237",
           "#6FBA3A",
           "#573D6B"
          ],
          "dragmode": false,
          "font": {
           "color": "#54565B",
           "family": "Helvetica Neue, Arial",
           "size": 14
          },
          "height": 360,
          "margin": {
           "b": 70,
           "l": 40,
           "r": 100,
           "t": 80
          },
          "modebar": {
           "activecolor": "#A01D28"
          },
          "paper_bgcolor": "#F7F2F2",
          "plot_bgcolor": "#F7F2F2",
          "showlegend": false,
          "title": {
           "font": {
            "family": "Helvetica Neue, Arial",
            "size": 20
           },
           "y": 0.94,
           "yanchor": "bottom"
          },
          "width": 655,
          "xaxis": {
           "gridcolor": "rgba(84, 86, 91, 0.15)",
           "showgrid": false,
           "tickcolor": "#54565B",
           "ticks": "outside"
          },
          "yaxis": {
           "gridcolor": "rgba(84, 86, 91, 0.15)"
          }
         }
        },
        "title": {
         "text": "Population Trends by Police Force Area (2018-2023)"
        },
        "width": 850,
        "xaxis": {
         "anchor": "y",
         "domain": [
          0,
          0.27999999999999997
         ],
         "nticks": 6,
         "title": {
          "text": ""
         }
        },
        "xaxis2": {
         "anchor": "y2",
         "domain": [
          0.36,
          0.6399999999999999
         ],
         "nticks": 6,
         "title": {
          "text": ""
         }
        },
        "xaxis3": {
         "anchor": "y3",
         "domain": [
          0.72,
          1
         ],
         "nticks": 6,
         "title": {
          "text": ""
         }
        },
        "xaxis4": {
         "anchor": "y4",
         "domain": [
          0,
          0.27999999999999997
         ],
         "nticks": 6,
         "title": {
          "text": ""
         }
        },
        "xaxis5": {
         "anchor": "y5",
         "domain": [
          0.36,
          0.6399999999999999
         ],
         "nticks": 6,
         "title": {
          "text": ""
         }
        },
        "xaxis6": {
         "anchor": "y6",
         "domain": [
          0.72,
          1
         ],
         "nticks": 6,
         "title": {
          "text": ""
         }
        },
        "yaxis": {
         "anchor": "x",
         "domain": [
          0.56,
          1
         ],
         "nticks": 5,
         "tickformat": ",.0f",
         "title": {
          "text": ""
         }
        },
        "yaxis2": {
         "anchor": "x2",
         "domain": [
          0.56,
          1
         ],
         "nticks": 5,
         "tickformat": ",.0f",
         "title": {
          "text": ""
         }
        },
        "yaxis3": {
         "anchor": "x3",
         "domain": [
          0.56,
          1
         ],
         "nticks": 5,
         "tickformat": ",.0f",
         "title": {
          "text": ""
         }
        },
        "yaxis4": {
         "anchor": "x4",
         "domain": [
          0,
          0.44
         ],
         "nticks": 5,
         "tickformat": ",.0f",
         "title": {
          "text": ""
         }
        },
        "yaxis5": {
         "anchor": "x5",
         "domain": [
          0,
          0.44
         ],
         "nticks": 5,
         "tickformat": ",.0f",
         "title": {
          "text": ""
         }
        },
        "yaxis6": {
         "anchor": "x6",
         "domain": [
          0,
          0.44
         ],
         "nticks": 5,
         "tickformat": ",.0f",
         "title": {
          "text": ""
         }
        }
       }
      }
     },
     "metadata": {},
     "output_type": "display_data"
    }
   ],
   "source": [
    "import plotly.graph_objects as go\n",
    "from plotly.subplots import make_subplots\n",
    "import plotly.io as pio\n",
    "from src.visualization import prt_theme\n",
    "\n",
    "\n",
    "pio.templates.default = \"prt_template\"\n",
    "# Check the year range in our population data\n",
    "print(\"Population data year range:\", population_data['year'].min(), \"to\", population_data['year'].max())\n",
    "print(\"Custody data year range:\", custody_data['year'].min(), \"to\", custody_data['year'].max())\n",
    "\n",
    "# Look at recent population trends for a few example PFAs\n",
    "sample_pfas = population_data['pfa'].unique()[1:7]\n",
    "recent_data = population_data[population_data['year'] >= 2018].copy()\n",
    "\n",
    "# Create subplots using Plotly\n",
    "fig = make_subplots(\n",
    "    rows=2, cols=3,\n",
    "    subplot_titles=sample_pfas,\n",
    "    vertical_spacing=0.12,\n",
    "    horizontal_spacing=0.08\n",
    ")\n",
    "\n",
    "for i, pfa in enumerate(sample_pfas):\n",
    "    pfa_data = recent_data[recent_data['pfa'] == pfa].groupby('year')['freq'].sum().reset_index()\n",
    "    \n",
    "    # Calculate row and column position (Plotly uses 1-based indexing)\n",
    "    row = (i // 3) + 1\n",
    "    col = (i % 3) + 1\n",
    "    \n",
    "    fig.add_trace(\n",
    "        go.Scatter(\n",
    "            x=pfa_data['year'],\n",
    "            y=pfa_data['freq'],\n",
    "            mode='lines+markers',\n",
    "            name=pfa,\n",
    "            showlegend=False,\n",
    "            line=dict(width=2),\n",
    "            marker=dict(size=6)\n",
    "        ),\n",
    "        row=row, col=col\n",
    "    )\n",
    "\n",
    "# Update layout\n",
    "fig.update_layout(\n",
    "    margin=dict(l=60, r=20),\n",
    "    height=600,\n",
    "    width=850,\n",
    "    title_text=\"Population Trends by Police Force Area (2018-2023)\",\n",
    ")\n",
    "\n",
    "# Update x and y axis labels\n",
    "fig.update_xaxes(title_text=\"\", nticks=6)\n",
    "fig.update_yaxes(title_text=\"\", nticks=5, tickformat=\",.0f\")\n",
    "\n",
    "fig.show()"
   ]
  },
  {
   "cell_type": "code",
   "execution_count": 46,
   "id": "ab19cd9d",
   "metadata": {},
   "outputs": [
    {
     "data": {
      "application/vnd.plotly.v1+json": {
       "config": {
        "plotlyServerURL": "https://plot.ly"
       },
       "data": [
        {
         "line": {
          "width": 2
         },
         "marker": {
          "size": 6
         },
         "mode": "lines+markers",
         "name": "Bedfordshire",
         "type": "scatter",
         "x": {
          "bdata": "4gfjB+QH5QfmB+cH",
          "dtype": "i2"
         },
         "y": {
          "bdata": "kQ0EAFgbBABWJgQAhzgEAGlDBABgUgQA",
          "dtype": "i4"
         }
        },
        {
         "line": {
          "width": 2
         },
         "marker": {
          "size": 6
         },
         "mode": "lines+markers",
         "name": "Cambridgeshire",
         "type": "scatter",
         "x": {
          "bdata": "4gfjB+QH5QfmB+cH",
          "dtype": "i2"
         },
         "y": {
          "bdata": "818FABdqBQDbcQUACIkFAEWXBQDFpgUA",
          "dtype": "i4"
         }
        },
        {
         "line": {
          "width": 2
         },
         "marker": {
          "size": 6
         },
         "mode": "lines+markers",
         "name": "Cheshire",
         "type": "scatter",
         "x": {
          "bdata": "4gfjB+QH5QfmB+cH",
          "dtype": "i2"
         },
         "y": {
          "bdata": "ZsIGAEzRBgBk2AYADOsGAHT6BgCLCQcA",
          "dtype": "i4"
         }
        },
        {
         "line": {
          "width": 2
         },
         "marker": {
          "size": 6
         },
         "mode": "lines+markers",
         "name": "Cleveland",
         "type": "scatter",
         "x": {
          "bdata": "4gfjB+QH5QfmB+cH",
          "dtype": "i2"
         },
         "y": {
          "bdata": "84ADAESCAwAvgQMAPIcDAA6RAwABnQMA",
          "dtype": "i4"
         }
        },
        {
         "line": {
          "width": 2
         },
         "marker": {
          "size": 6
         },
         "mode": "lines+markers",
         "name": "Cumbria",
         "type": "scatter",
         "x": {
          "bdata": "4gfjB+QH5QfmB+cH",
          "dtype": "i2"
         },
         "y": {
          "bdata": "yy4DAP8wAwANMQMANzUDAKk4AwAlPAMA",
          "dtype": "i4"
         }
        },
        {
         "line": {
          "width": 2
         },
         "marker": {
          "size": 6
         },
         "mode": "lines+markers",
         "name": "Derbyshire",
         "type": "scatter",
         "x": {
          "bdata": "4gfjB+QH5QfmB+cH",
          "dtype": "i2"
         },
         "y": {
          "bdata": "0IwGACaWBgBdmQYAOaMGAAOvBgDwvgYA",
          "dtype": "i4"
         }
        }
       ],
       "layout": {
        "hovermode": "x unified",
        "margin": {
         "l": 60,
         "r": 20
        },
        "template": {
         "data": {
          "scatter": [
           {
            "line": {
             "width": 4
            },
            "marker": {
             "size": 10
            },
            "type": "scatter"
           }
          ]
         },
         "layout": {
          "colorway": [
           "#A01D28",
           "#499CC9",
           "#F9A237",
           "#6FBA3A",
           "#573D6B"
          ],
          "dragmode": false,
          "font": {
           "color": "#54565B",
           "family": "Helvetica Neue, Arial",
           "size": 14
          },
          "height": 360,
          "margin": {
           "b": 70,
           "l": 40,
           "r": 100,
           "t": 80
          },
          "modebar": {
           "activecolor": "#A01D28"
          },
          "paper_bgcolor": "#F7F2F2",
          "plot_bgcolor": "#F7F2F2",
          "showlegend": false,
          "title": {
           "font": {
            "family": "Helvetica Neue, Arial",
            "size": 20
           },
           "y": 0.94,
           "yanchor": "bottom"
          },
          "width": 655,
          "xaxis": {
           "gridcolor": "rgba(84, 86, 91, 0.15)",
           "showgrid": false,
           "tickcolor": "#54565B",
           "ticks": "outside"
          },
          "yaxis": {
           "gridcolor": "rgba(84, 86, 91, 0.15)"
          }
         }
        },
        "title": {
         "text": "Population Trends by Police Force Area (2018-2023)"
        },
        "width": 850,
        "xaxis": {
         "title": {
          "text": ""
         }
        },
        "yaxis": {
         "autorangeoptions": {
          "maxallowed": 500000
         },
         "dtick": 100000,
         "nticks": 5,
         "rangemode": "tozero",
         "tickformat": ",.0f",
         "title": {
          "text": ""
         }
        }
       }
      }
     },
     "metadata": {},
     "output_type": "display_data"
    }
   ],
   "source": [
    "# Alternative: Single chart with all PFAs\n",
    "fig = go.Figure()\n",
    "\n",
    "for pfa in sample_pfas:\n",
    "    pfa_data = recent_data[recent_data['pfa'] == pfa].groupby('year')['freq'].sum().reset_index()\n",
    "    \n",
    "    fig.add_trace(\n",
    "        go.Scatter(\n",
    "            x=pfa_data['year'],\n",
    "            y=pfa_data['freq'],\n",
    "            mode='lines+markers',\n",
    "            name=pfa,\n",
    "            line=dict(width=2),\n",
    "            marker=dict(size=6)\n",
    "        )\n",
    "    )\n",
    "\n",
    "fig.update_layout(\n",
    "    title=\"Population Trends by Police Force Area (2018-2023)\",\n",
    "    xaxis_title=\"\",\n",
    "    yaxis_title=\"\",\n",
    "    hovermode='x unified',\n",
    "    margin=dict(l=60, r=20),\n",
    "    width=850,\n",
    ")\n",
    "\n",
    "fig.update_yaxes(title_text=\"\", nticks=5, tickformat=\",.0f\", dtick=100000, rangemode='tozero', autorangeoptions_maxallowed=500000)  # Adjust the interval as needed\n",
    "\n",
    "fig.show()"
   ]
  },
  {
   "cell_type": "markdown",
   "id": "f2cf9758",
   "metadata": {},
   "source": [
    "### Defining projection methods"
   ]
  },
  {
   "cell_type": "code",
   "execution_count": 47,
   "id": "0cb8d361",
   "metadata": {},
   "outputs": [],
   "source": [
    "def project_linear_trend(df, pfa_col='pfa', year_col='year', pop_col='freq', \n",
    "                        projection_year=2024, trend_years=5):\n",
    "    \"\"\"\n",
    "    Project population using linear trend extrapolation.\n",
    "    Uses the most recent `trend_years` of data to fit linear trends.\n",
    "    \"\"\"\n",
    "    projections = []\n",
    "    \n",
    "    for pfa in df[pfa_col].unique():\n",
    "        pfa_data = df[df[pfa_col] == pfa].copy()\n",
    "        \n",
    "        # Get recent years for trend fitting\n",
    "        max_year = pfa_data[year_col].max()\n",
    "        min_trend_year = max_year - trend_years + 1\n",
    "        trend_data = pfa_data[pfa_data[year_col] >= min_trend_year]\n",
    "        \n",
    "        if len(trend_data) >= 3:  # Need at least 3 points for trend\n",
    "            # Aggregate by year for this PFA\n",
    "            yearly_totals = trend_data.groupby(year_col)[pop_col].sum().reset_index()\n",
    "            \n",
    "            # Fit linear trend\n",
    "            years = yearly_totals[year_col].values\n",
    "            pop = yearly_totals[pop_col].values\n",
    "            \n",
    "            # Linear regression\n",
    "            coeffs = np.polyfit(years, pop, 1)\n",
    "            slope, intercept = coeffs\n",
    "            \n",
    "            # Project to target year\n",
    "            projected_pop = slope * projection_year + intercept\n",
    "            \n",
    "            projections.append({\n",
    "                pfa_col: pfa,\n",
    "                year_col: projection_year,\n",
    "                pop_col: max(int(round(projected_pop)), 0),  # Round to integer and ensure non-negative\n",
    "                'method': 'linear_trend',\n",
    "                'trend_slope': slope\n",
    "            })\n",
    "    \n",
    "    return pd.DataFrame(projections)"
   ]
  },
  {
   "cell_type": "code",
   "execution_count": 48,
   "id": "1ca245e3",
   "metadata": {},
   "outputs": [],
   "source": [
    "def project_cagr(df, pfa_col='pfa', year_col='year', pop_col='freq', \n",
    "                projection_year=2024, base_years=5):\n",
    "    \"\"\"\n",
    "    Project population using Compound Annual Growth Rate.\n",
    "    \"\"\"\n",
    "    projections = []\n",
    "    \n",
    "    for pfa in df[pfa_col].unique():\n",
    "        pfa_data = df[df[pfa_col] == pfa].copy()\n",
    "        \n",
    "        # Get base period data\n",
    "        max_year = pfa_data[year_col].max()\n",
    "        start_year = max_year - base_years + 1\n",
    "        \n",
    "        yearly_totals = pfa_data.groupby(year_col)[pop_col].sum()\n",
    "        \n",
    "        if start_year in yearly_totals.index and max_year in yearly_totals.index:\n",
    "            start_pop = yearly_totals[start_year]\n",
    "            end_pop = yearly_totals[max_year]\n",
    "            \n",
    "            # Calculate CAGR\n",
    "            years_diff = max_year - start_year\n",
    "            if years_diff > 0 and start_pop > 0:\n",
    "                cagr = (end_pop / start_pop) ** (1/years_diff) - 1\n",
    "                \n",
    "                # Project forward\n",
    "                years_to_project = projection_year - max_year\n",
    "                projected_pop = end_pop * (1 + cagr) ** years_to_project\n",
    "                \n",
    "                projections.append({\n",
    "                    pfa_col: pfa,\n",
    "                    year_col: projection_year,\n",
    "                    pop_col: max(int(round(projected_pop)), 0),  # Round to integer and ensure non-negative\n",
    "                    'method': 'cagr',\n",
    "                    'growth_rate': cagr\n",
    "                })\n",
    "    \n",
    "    return pd.DataFrame(projections)"
   ]
  },
  {
   "cell_type": "code",
   "execution_count": 50,
   "id": "6ab7cced",
   "metadata": {},
   "outputs": [],
   "source": [
    "def project_moving_average(df, pfa_col='pfa', year_col='year', pop_col='freq', \n",
    "                          projection_year=2024, window=3):\n",
    "    \"\"\"\n",
    "    Project population using moving average of year-over-year changes.\n",
    "    \"\"\"\n",
    "    projections = []\n",
    "    \n",
    "    for pfa in df[pfa_col].unique():\n",
    "        pfa_data = df[df[pfa_col] == pfa].copy()\n",
    "        yearly_totals = pfa_data.groupby(year_col)[pop_col].sum().sort_index()\n",
    "        \n",
    "        if len(yearly_totals) >= window + 1:\n",
    "            # Calculate year-over-year changes\n",
    "            changes = yearly_totals.diff().dropna()\n",
    "            \n",
    "            # Take moving average of recent changes\n",
    "            avg_change = changes.tail(window).mean()\n",
    "            \n",
    "            # Project forward\n",
    "            latest_pop = yearly_totals.iloc[-1]\n",
    "            years_to_project = projection_year - yearly_totals.index[-1]\n",
    "            projected_pop = latest_pop + (avg_change * years_to_project)\n",
    "            \n",
    "            projections.append({\n",
    "                pfa_col: pfa,\n",
    "                year_col: projection_year,\n",
    "                pop_col: max(int(round(projected_pop)), 0),  # Round to integer and ensure non-negative\n",
    "                'method': 'moving_average',\n",
    "                'avg_annual_change': avg_change\n",
    "            })\n",
    "    \n",
    "    return pd.DataFrame(projections)"
   ]
  },
  {
   "cell_type": "markdown",
   "id": "8928cd67",
   "metadata": {},
   "source": [
    "### Apply all three methods"
   ]
  },
  {
   "cell_type": "code",
   "execution_count": 51,
   "id": "0a8a01a8",
   "metadata": {},
   "outputs": [
    {
     "name": "stdout",
     "output_type": "stream",
     "text": [
      "Generating 2024 population projections using different methods...\n",
      "Linear trend projections: 42 PFAs\n",
      "CAGR projections: 42 PFAs\n",
      "Moving average projections: 42 PFAs\n"
     ]
    }
   ],
   "source": [
    "print(\"Generating 2024 population projections using different methods...\")\n",
    "\n",
    "linear_proj = project_linear_trend(population_data)\n",
    "cagr_proj = project_cagr(population_data) \n",
    "ma_proj = project_moving_average(population_data)\n",
    "\n",
    "print(f\"Linear trend projections: {len(linear_proj)} PFAs\")\n",
    "print(f\"CAGR projections: {len(cagr_proj)} PFAs\") \n",
    "print(f\"Moving average projections: {len(ma_proj)} PFAs\")"
   ]
  },
  {
   "cell_type": "markdown",
   "id": "e46ccec5",
   "metadata": {},
   "source": [
    "### Compare the projections"
   ]
  },
  {
   "cell_type": "code",
   "execution_count": 53,
   "id": "b7bab60b",
   "metadata": {},
   "outputs": [
    {
     "name": "stdout",
     "output_type": "stream",
     "text": [
      "Comparison of projection methods:\n",
      "Average difference Linear vs CAGR: 0.16%\n",
      "Average difference Linear vs Moving Avg: 0.25%\n",
      "\n",
      "Sample projections for first 5 PFAs:\n"
     ]
    },
    {
     "data": {
      "text/html": [
       "<div>\n",
       "<style scoped>\n",
       "    .dataframe tbody tr th:only-of-type {\n",
       "        vertical-align: middle;\n",
       "    }\n",
       "\n",
       "    .dataframe tbody tr th {\n",
       "        vertical-align: top;\n",
       "    }\n",
       "\n",
       "    .dataframe thead th {\n",
       "        text-align: right;\n",
       "    }\n",
       "</style>\n",
       "<table border=\"1\" class=\"dataframe\">\n",
       "  <thead>\n",
       "    <tr style=\"text-align: right;\">\n",
       "      <th></th>\n",
       "      <th>pfa</th>\n",
       "      <th>freq_linear</th>\n",
       "      <th>freq_cagr</th>\n",
       "      <th>freq_ma</th>\n",
       "      <th>linear_vs_cagr</th>\n",
       "      <th>linear_vs_ma</th>\n",
       "    </tr>\n",
       "  </thead>\n",
       "  <tbody>\n",
       "    <tr>\n",
       "      <th>0</th>\n",
       "      <td>Avon and Somerset</td>\n",
       "      <td>743474</td>\n",
       "      <td>744535</td>\n",
       "      <td>745101</td>\n",
       "      <td>0.142708</td>\n",
       "      <td>0.218838</td>\n",
       "    </tr>\n",
       "    <tr>\n",
       "      <th>1</th>\n",
       "      <td>Bedfordshire</td>\n",
       "      <td>286756</td>\n",
       "      <td>286868</td>\n",
       "      <td>286990</td>\n",
       "      <td>0.039058</td>\n",
       "      <td>0.081602</td>\n",
       "    </tr>\n",
       "    <tr>\n",
       "      <th>2</th>\n",
       "      <td>Cambridgeshire</td>\n",
       "      <td>374435</td>\n",
       "      <td>374362</td>\n",
       "      <td>374888</td>\n",
       "      <td>0.019496</td>\n",
       "      <td>0.120982</td>\n",
       "    </tr>\n",
       "    <tr>\n",
       "      <th>3</th>\n",
       "      <td>Cheshire</td>\n",
       "      <td>464720</td>\n",
       "      <td>464867</td>\n",
       "      <td>465389</td>\n",
       "      <td>0.031632</td>\n",
       "      <td>0.143958</td>\n",
       "    </tr>\n",
       "    <tr>\n",
       "      <th>4</th>\n",
       "      <td>Cleveland</td>\n",
       "      <td>237607</td>\n",
       "      <td>238544</td>\n",
       "      <td>239175</td>\n",
       "      <td>0.394349</td>\n",
       "      <td>0.659913</td>\n",
       "    </tr>\n",
       "  </tbody>\n",
       "</table>\n",
       "</div>"
      ],
      "text/plain": [
       "                 pfa  freq_linear  freq_cagr  freq_ma  linear_vs_cagr  \\\n",
       "0  Avon and Somerset       743474     744535   745101        0.142708   \n",
       "1       Bedfordshire       286756     286868   286990        0.039058   \n",
       "2     Cambridgeshire       374435     374362   374888        0.019496   \n",
       "3           Cheshire       464720     464867   465389        0.031632   \n",
       "4          Cleveland       237607     238544   239175        0.394349   \n",
       "\n",
       "   linear_vs_ma  \n",
       "0      0.218838  \n",
       "1      0.081602  \n",
       "2      0.120982  \n",
       "3      0.143958  \n",
       "4      0.659913  "
      ]
     },
     "metadata": {},
     "output_type": "display_data"
    }
   ],
   "source": [
    "comparison = linear_proj.merge(cagr_proj, on='pfa', suffixes=('_linear', '_cagr'))\n",
    "comparison = comparison.merge(ma_proj, on='pfa')\n",
    "comparison = comparison.rename(columns={'freq': 'freq_ma'})\n",
    "\n",
    "# Calculate differences between methods\n",
    "comparison['linear_vs_cagr'] = abs(comparison['freq_linear'] - comparison['freq_cagr']) / comparison['freq_linear'] * 100\n",
    "comparison['linear_vs_ma'] = abs(comparison['freq_linear'] - comparison['freq_ma']) / comparison['freq_linear'] * 100\n",
    "\n",
    "print(\"Comparison of projection methods:\")\n",
    "print(f\"Average difference Linear vs CAGR: {comparison['linear_vs_cagr'].mean():.2f}%\")\n",
    "print(f\"Average difference Linear vs Moving Avg: {comparison['linear_vs_ma'].mean():.2f}%\")\n",
    "\n",
    "# Show some examples\n",
    "print(\"\\nSample projections for first 5 PFAs:\")\n",
    "display(comparison[['pfa', 'freq_linear', 'freq_cagr', 'freq_ma', 'linear_vs_cagr', 'linear_vs_ma']].head())"
   ]
  },
  {
   "cell_type": "markdown",
   "id": "8dc628c4",
   "metadata": {},
   "source": [
    "### Validation: Backtest the methods by predicting 2023 using 2018-2022 data"
   ]
  },
  {
   "cell_type": "code",
   "execution_count": 58,
   "id": "a7ca0e2a",
   "metadata": {},
   "outputs": [
    {
     "name": "stdout",
     "output_type": "stream",
     "text": [
      "Validating projection methods by predicting 2023 using 2018-2022 data...\n",
      "\n",
      "Validation Results (Mean Absolute Percentage Error):\n",
      "Linear Trend: 0.44422%\n",
      "CAGR: 0.30332%\n",
      "Moving Average: 0.30317%\n",
      "\n",
      "Best performing method: Moving Average (MAPE: 0.30317%)\n"
     ]
    }
   ],
   "source": [
    "def validate_projection_method(df, method_func, actual_year=2023, **kwargs):\n",
    "    \"\"\"\n",
    "    Validate projection method by predicting a known year and comparing to actual.\n",
    "    \"\"\"\n",
    "    # Use data up to year before actual_year for prediction\n",
    "    train_data = df[df['year'] < actual_year].copy()\n",
    "    \n",
    "    # Get actual values for comparison\n",
    "    actual_data = df[df['year'] == actual_year].groupby('pfa', observed=True)['freq'].sum()\n",
    "    \n",
    "    # Generate projections\n",
    "    projections = method_func(train_data, projection_year=actual_year, **kwargs)\n",
    "    \n",
    "    # Compare projections to actual\n",
    "    comparison = projections.merge(actual_data.reset_index(), on='pfa', suffixes=('_pred', '_actual'))\n",
    "    comparison['abs_error'] = abs(comparison['freq_pred'] - comparison['freq_actual'])\n",
    "    comparison['pct_error'] = comparison['abs_error'] / comparison['freq_actual'] * 100\n",
    "    \n",
    "    return comparison\n",
    "\n",
    "print(\"Validating projection methods by predicting 2023 using 2018-2022 data...\")\n",
    "\n",
    "# Validate each method\n",
    "linear_validation = validate_projection_method(population_data, project_linear_trend)\n",
    "cagr_validation = validate_projection_method(population_data, project_cagr)\n",
    "ma_validation = validate_projection_method(population_data, project_moving_average)\n",
    "\n",
    "print(f\"\\nValidation Results (Mean Absolute Percentage Error):\")\n",
    "print(f\"Linear Trend: {linear_validation['pct_error'].mean():.5f}%\")\n",
    "print(f\"CAGR: {cagr_validation['pct_error'].mean():.5f}%\")\n",
    "print(f\"Moving Average: {ma_validation['pct_error'].mean():.5f}%\")\n",
    "\n",
    "# Choose the best performing method\n",
    "methods = {\n",
    "    'Linear Trend': linear_validation['pct_error'].mean(),\n",
    "    'CAGR': cagr_validation['pct_error'].mean(),\n",
    "    'Moving Average': ma_validation['pct_error'].mean()\n",
    "}\n",
    "\n",
    "best_method = min(methods, key=methods.get)\n",
    "print(f\"\\nBest performing method: {best_method} (MAPE: {methods[best_method]:.5f}%)\")"
   ]
  },
  {
   "cell_type": "markdown",
   "id": "1dcc7328",
   "metadata": {},
   "source": [
    "## Projection recommendation\n",
    "\n",
    "Based on the validation results above, the best-performing method for 2024 projections appears to be Moving Average."
   ]
  },
  {
   "cell_type": "markdown",
   "id": "5157d677",
   "metadata": {},
   "source": [
    "### Statistical Best Practices Applied:\n",
    "\n",
    "1. **Multiple Methods Tested**: Compared linear trend, CAGR, and moving average approaches\n",
    "2. **Backtesting Validation**: Used historical data to test accuracy on known outcomes\n",
    "3. **Error Metrics**: Used Mean Absolute Percentage Error (MAPE) to evaluate performance\n",
    "4. **Conservative Bounds**: Ensured non-negative projections\n",
    "5. **Sufficient Data**: Required minimum data points for reliable estimates"
   ]
  },
  {
   "cell_type": "markdown",
   "id": "b4c45dfe",
   "metadata": {},
   "source": [
    "### Considerations for Imprisonment Rate Analysis:\n",
    "\n",
    "- **Impact of Projection Error**: Small population projection errors have minimal impact on rate calculations\n",
    "- **Consistency**: Use the same method across all PFAs for comparability\n",
    "- **Uncertainty**: Document projection method and potential error range\n",
    "- **Sensitivity Analysis**: Consider how projection uncertainty affects final conclusions"
   ]
  },
  {
   "cell_type": "markdown",
   "id": "cbfb4752",
   "metadata": {},
   "source": [
    "## Projection implementation\n",
    "Implement the best method for 2024 projections"
   ]
  },
  {
   "cell_type": "code",
   "execution_count": null,
   "id": "9b16ef9f",
   "metadata": {},
   "outputs": [
    {
     "name": "stdout",
     "output_type": "stream",
     "text": [
      "Generated 2024 population projections using Moving Average\n",
      "Total projected population: 25,056,450\n",
      "Number of PFAs: 42\n",
      "\n",
      "Sample 2024 projections:\n"
     ]
    },
    {
     "data": {
      "text/html": [
       "<div>\n",
       "<style scoped>\n",
       "    .dataframe tbody tr th:only-of-type {\n",
       "        vertical-align: middle;\n",
       "    }\n",
       "\n",
       "    .dataframe tbody tr th {\n",
       "        vertical-align: top;\n",
       "    }\n",
       "\n",
       "    .dataframe thead th {\n",
       "        text-align: right;\n",
       "    }\n",
       "</style>\n",
       "<table border=\"1\" class=\"dataframe\">\n",
       "  <thead>\n",
       "    <tr style=\"text-align: right;\">\n",
       "      <th></th>\n",
       "      <th>pfa</th>\n",
       "      <th>year</th>\n",
       "      <th>freq</th>\n",
       "    </tr>\n",
       "  </thead>\n",
       "  <tbody>\n",
       "    <tr>\n",
       "      <th>0</th>\n",
       "      <td>Avon and Somerset</td>\n",
       "      <td>2024</td>\n",
       "      <td>745101</td>\n",
       "    </tr>\n",
       "    <tr>\n",
       "      <th>1</th>\n",
       "      <td>Bedfordshire</td>\n",
       "      <td>2024</td>\n",
       "      <td>286990</td>\n",
       "    </tr>\n",
       "    <tr>\n",
       "      <th>2</th>\n",
       "      <td>Cambridgeshire</td>\n",
       "      <td>2024</td>\n",
       "      <td>374888</td>\n",
       "    </tr>\n",
       "    <tr>\n",
       "      <th>3</th>\n",
       "      <td>Cheshire</td>\n",
       "      <td>2024</td>\n",
       "      <td>465389</td>\n",
       "    </tr>\n",
       "    <tr>\n",
       "      <th>4</th>\n",
       "      <td>Cleveland</td>\n",
       "      <td>2024</td>\n",
       "      <td>239175</td>\n",
       "    </tr>\n",
       "    <tr>\n",
       "      <th>5</th>\n",
       "      <td>Cumbria</td>\n",
       "      <td>2024</td>\n",
       "      <td>212952</td>\n",
       "    </tr>\n",
       "    <tr>\n",
       "      <th>6</th>\n",
       "      <td>Derbyshire</td>\n",
       "      <td>2024</td>\n",
       "      <td>445302</td>\n",
       "    </tr>\n",
       "    <tr>\n",
       "      <th>7</th>\n",
       "      <td>Devon and Cornwall</td>\n",
       "      <td>2024</td>\n",
       "      <td>782633</td>\n",
       "    </tr>\n",
       "    <tr>\n",
       "      <th>8</th>\n",
       "      <td>Dorset</td>\n",
       "      <td>2024</td>\n",
       "      <td>338488</td>\n",
       "    </tr>\n",
       "    <tr>\n",
       "      <th>9</th>\n",
       "      <td>Durham</td>\n",
       "      <td>2024</td>\n",
       "      <td>272933</td>\n",
       "    </tr>\n",
       "  </tbody>\n",
       "</table>\n",
       "</div>"
      ],
      "text/plain": [
       "                  pfa  year    freq\n",
       "0   Avon and Somerset  2024  745101\n",
       "1        Bedfordshire  2024  286990\n",
       "2      Cambridgeshire  2024  374888\n",
       "3            Cheshire  2024  465389\n",
       "4           Cleveland  2024  239175\n",
       "5             Cumbria  2024  212952\n",
       "6          Derbyshire  2024  445302\n",
       "7  Devon and Cornwall  2024  782633\n",
       "8              Dorset  2024  338488\n",
       "9              Durham  2024  272933"
      ]
     },
     "metadata": {},
     "output_type": "display_data"
    },
    {
     "name": "stdout",
     "output_type": "stream",
     "text": [
      "\n",
      "Extended population data: 2014 to 2024\n",
      "Custody data covers: 2014 to 2024\n",
      "Ready for imprisonment rate calculations!\n"
     ]
    }
   ],
   "source": [
    "if best_method == 'Linear Trend':\n",
    "    final_2024_projections = linear_proj.copy()\n",
    "elif best_method == 'CAGR':\n",
    "    final_2024_projections = cagr_proj.copy()\n",
    "else:\n",
    "    final_2024_projections = ma_proj.copy()\n",
    "\n",
    "# Prepare the 2024 population data in the same format as existing data\n",
    "population_2024 = final_2024_projections[['pfa', 'year', 'freq']].copy()\n",
    "\n",
    "print(f\"Generated 2024 population projections using {best_method}\")\n",
    "print(f\"Total projected population: {population_2024['freq'].sum():,.0f}\")\n",
    "print(f\"Number of PFAs: {len(population_2024)}\")\n",
    "\n",
    "# Show sample of projections\n",
    "print(\"\\nSample 2024 projections:\")\n",
    "display(population_2024.head(10))\n",
    "\n",
    "# Combine with existing population data for analysis\n",
    "extended_population_data = pd.concat([population_data, population_2024], ignore_index=True).sort_values(by=['pfa', 'year']).reset_index(drop=True)\n",
    "print(f\"\\nExtended population data: {extended_population_data['year'].min()} to {extended_population_data['year'].max()}\")\n",
    "\n",
    "# Now we can merge with custody data for the full 2014-2024 period\n",
    "print(f\"Custody data covers: {custody_data['year'].min()} to {custody_data['year'].max()}\")\n",
    "print(\"Ready for imprisonment rate calculations!\")"
   ]
  },
  {
   "cell_type": "markdown",
   "id": "d4e37c24",
   "metadata": {},
   "source": [
    "### Visualising the projections"
   ]
  },
  {
   "cell_type": "code",
   "execution_count": 63,
   "id": "4a262830",
   "metadata": {},
   "outputs": [
    {
     "name": "stdout",
     "output_type": "stream",
     "text": [
      "Population data year range: 2014 to 2024\n",
      "Custody data year range: 2014 to 2024\n"
     ]
    },
    {
     "data": {
      "application/vnd.plotly.v1+json": {
       "config": {
        "plotlyServerURL": "https://plot.ly"
       },
       "data": [
        {
         "line": {
          "width": 2
         },
         "marker": {
          "size": 6
         },
         "mode": "lines+markers",
         "name": "Bedfordshire",
         "showlegend": false,
         "type": "scatter",
         "x": {
          "bdata": "4gfjB+QH5QfmB+cH6Ac=",
          "dtype": "i2"
         },
         "xaxis": "x",
         "y": {
          "bdata": "kQ0EAFgbBABWJgQAhzgEAGlDBABgUgQADmEEAA==",
          "dtype": "i4"
         },
         "yaxis": "y"
        },
        {
         "line": {
          "width": 2
         },
         "marker": {
          "size": 6
         },
         "mode": "lines+markers",
         "name": "Cambridgeshire",
         "showlegend": false,
         "type": "scatter",
         "x": {
          "bdata": "4gfjB+QH5QfmB+cH6Ac=",
          "dtype": "i2"
         },
         "xaxis": "x2",
         "y": {
          "bdata": "818FABdqBQDbcQUACIkFAEWXBQDFpgUAaLgFAA==",
          "dtype": "i4"
         },
         "yaxis": "y2"
        },
        {
         "line": {
          "width": 2
         },
         "marker": {
          "size": 6
         },
         "mode": "lines+markers",
         "name": "Cheshire",
         "showlegend": false,
         "type": "scatter",
         "x": {
          "bdata": "4gfjB+QH5QfmB+cH6Ac=",
          "dtype": "i2"
         },
         "xaxis": "x3",
         "y": {
          "bdata": "ZsIGAEzRBgBk2AYADOsGAHT6BgCLCQcA7RkHAA==",
          "dtype": "i4"
         },
         "yaxis": "y3"
        },
        {
         "line": {
          "width": 2
         },
         "marker": {
          "size": 6
         },
         "mode": "lines+markers",
         "name": "Cleveland",
         "showlegend": false,
         "type": "scatter",
         "x": {
          "bdata": "4gfjB+QH5QfmB+cH6Ac=",
          "dtype": "i2"
         },
         "xaxis": "x4",
         "y": {
          "bdata": "84ADAESCAwAvgQMAPIcDAA6RAwABnQMAR6YDAA==",
          "dtype": "i4"
         },
         "yaxis": "y4"
        },
        {
         "line": {
          "width": 2
         },
         "marker": {
          "size": 6
         },
         "mode": "lines+markers",
         "name": "Cumbria",
         "showlegend": false,
         "type": "scatter",
         "x": {
          "bdata": "4gfjB+QH5QfmB+cH6Ac=",
          "dtype": "i2"
         },
         "xaxis": "x5",
         "y": {
          "bdata": "yy4DAP8wAwANMQMANzUDAKk4AwAlPAMA2D8DAA==",
          "dtype": "i4"
         },
         "yaxis": "y5"
        },
        {
         "line": {
          "width": 2
         },
         "marker": {
          "size": 6
         },
         "mode": "lines+markers",
         "name": "Derbyshire",
         "showlegend": false,
         "type": "scatter",
         "x": {
          "bdata": "4gfjB+QH5QfmB+cH6Ac=",
          "dtype": "i2"
         },
         "xaxis": "x6",
         "y": {
          "bdata": "0IwGACaWBgBdmQYAOaMGAAOvBgDwvgYAdssGAA==",
          "dtype": "i4"
         },
         "yaxis": "y6"
        }
       ],
       "layout": {
        "annotations": [
         {
          "font": {
           "size": 16
          },
          "showarrow": false,
          "text": "Bedfordshire",
          "x": 0.13999999999999999,
          "xanchor": "center",
          "xref": "paper",
          "y": 1,
          "yanchor": "bottom",
          "yref": "paper"
         },
         {
          "font": {
           "size": 16
          },
          "showarrow": false,
          "text": "Cambridgeshire",
          "x": 0.49999999999999994,
          "xanchor": "center",
          "xref": "paper",
          "y": 1,
          "yanchor": "bottom",
          "yref": "paper"
         },
         {
          "font": {
           "size": 16
          },
          "showarrow": false,
          "text": "Cheshire",
          "x": 0.86,
          "xanchor": "center",
          "xref": "paper",
          "y": 1,
          "yanchor": "bottom",
          "yref": "paper"
         },
         {
          "font": {
           "size": 16
          },
          "showarrow": false,
          "text": "Cleveland",
          "x": 0.13999999999999999,
          "xanchor": "center",
          "xref": "paper",
          "y": 0.44,
          "yanchor": "bottom",
          "yref": "paper"
         },
         {
          "font": {
           "size": 16
          },
          "showarrow": false,
          "text": "Cumbria",
          "x": 0.49999999999999994,
          "xanchor": "center",
          "xref": "paper",
          "y": 0.44,
          "yanchor": "bottom",
          "yref": "paper"
         },
         {
          "font": {
           "size": 16
          },
          "showarrow": false,
          "text": "Derbyshire",
          "x": 0.86,
          "xanchor": "center",
          "xref": "paper",
          "y": 0.44,
          "yanchor": "bottom",
          "yref": "paper"
         }
        ],
        "height": 600,
        "margin": {
         "l": 60,
         "r": 20
        },
        "template": {
         "data": {
          "scatter": [
           {
            "line": {
             "width": 4
            },
            "marker": {
             "size": 10
            },
            "type": "scatter"
           }
          ]
         },
         "layout": {
          "colorway": [
           "#A01D28",
           "#499CC9",
           "#F9A237",
           "#6FBA3A",
           "#573D6B"
          ],
          "dragmode": false,
          "font": {
           "color": "#54565B",
           "family": "Helvetica Neue, Arial",
           "size": 14
          },
          "height": 360,
          "margin": {
           "b": 70,
           "l": 40,
           "r": 100,
           "t": 80
          },
          "modebar": {
           "activecolor": "#A01D28"
          },
          "paper_bgcolor": "#F7F2F2",
          "plot_bgcolor": "#F7F2F2",
          "showlegend": false,
          "title": {
           "font": {
            "family": "Helvetica Neue, Arial",
            "size": 20
           },
           "y": 0.94,
           "yanchor": "bottom"
          },
          "width": 655,
          "xaxis": {
           "gridcolor": "rgba(84, 86, 91, 0.15)",
           "showgrid": false,
           "tickcolor": "#54565B",
           "ticks": "outside"
          },
          "yaxis": {
           "gridcolor": "rgba(84, 86, 91, 0.15)"
          }
         }
        },
        "title": {
         "text": "Population Trends by Police Force Area (2018-2024)"
        },
        "width": 850,
        "xaxis": {
         "anchor": "y",
         "domain": [
          0,
          0.27999999999999997
         ],
         "nticks": 6,
         "title": {
          "text": ""
         }
        },
        "xaxis2": {
         "anchor": "y2",
         "domain": [
          0.36,
          0.6399999999999999
         ],
         "nticks": 6,
         "title": {
          "text": ""
         }
        },
        "xaxis3": {
         "anchor": "y3",
         "domain": [
          0.72,
          1
         ],
         "nticks": 6,
         "title": {
          "text": ""
         }
        },
        "xaxis4": {
         "anchor": "y4",
         "domain": [
          0,
          0.27999999999999997
         ],
         "nticks": 6,
         "title": {
          "text": ""
         }
        },
        "xaxis5": {
         "anchor": "y5",
         "domain": [
          0.36,
          0.6399999999999999
         ],
         "nticks": 6,
         "title": {
          "text": ""
         }
        },
        "xaxis6": {
         "anchor": "y6",
         "domain": [
          0.72,
          1
         ],
         "nticks": 6,
         "title": {
          "text": ""
         }
        },
        "yaxis": {
         "anchor": "x",
         "domain": [
          0.56,
          1
         ],
         "tickformat": ",.0f",
         "title": {
          "text": ""
         }
        },
        "yaxis2": {
         "anchor": "x2",
         "domain": [
          0.56,
          1
         ],
         "tickformat": ",.0f",
         "title": {
          "text": ""
         }
        },
        "yaxis3": {
         "anchor": "x3",
         "domain": [
          0.56,
          1
         ],
         "tickformat": ",.0f",
         "title": {
          "text": ""
         }
        },
        "yaxis4": {
         "anchor": "x4",
         "domain": [
          0,
          0.44
         ],
         "tickformat": ",.0f",
         "title": {
          "text": ""
         }
        },
        "yaxis5": {
         "anchor": "x5",
         "domain": [
          0,
          0.44
         ],
         "tickformat": ",.0f",
         "title": {
          "text": ""
         }
        },
        "yaxis6": {
         "anchor": "x6",
         "domain": [
          0,
          0.44
         ],
         "tickformat": ",.0f",
         "title": {
          "text": ""
         }
        }
       }
      }
     },
     "metadata": {},
     "output_type": "display_data"
    }
   ],
   "source": [
    "# Check the year range in our extended population data\n",
    "print(\"Population data year range:\", extended_population_data['year'].min(), \"to\", extended_population_data['year'].max())\n",
    "print(\"Custody data year range:\", custody_data['year'].min(), \"to\", custody_data['year'].max())\n",
    "\n",
    "# Examining against the same sample PFAs\n",
    "sample_pfas = extended_population_data['pfa'].unique()[1:7]\n",
    "recent_data = extended_population_data[extended_population_data['year'] >= 2018].copy()\n",
    "\n",
    "# Create subplots using Plotly\n",
    "fig = make_subplots(\n",
    "    rows=2, cols=3,\n",
    "    subplot_titles=sample_pfas,\n",
    "    vertical_spacing=0.12,\n",
    "    horizontal_spacing=0.08\n",
    ")\n",
    "\n",
    "for i, pfa in enumerate(sample_pfas):\n",
    "    pfa_data = recent_data[recent_data['pfa'] == pfa].groupby('year')['freq'].sum().reset_index()\n",
    "    \n",
    "    # Calculate row and column position (Plotly uses 1-based indexing)\n",
    "    row = (i // 3) + 1\n",
    "    col = (i % 3) + 1\n",
    "    \n",
    "    fig.add_trace(\n",
    "        go.Scatter(\n",
    "            x=pfa_data['year'],\n",
    "            y=pfa_data['freq'],\n",
    "            mode='lines+markers',\n",
    "            name=pfa,\n",
    "            showlegend=False,\n",
    "            line=dict(width=2),\n",
    "            marker=dict(size=6)\n",
    "        ),\n",
    "        row=row, col=col\n",
    "    )\n",
    "\n",
    "# Update layout\n",
    "fig.update_layout(\n",
    "    margin=dict(l=60, r=20),\n",
    "    height=600,\n",
    "    width=850,\n",
    "    title_text=\"Population Trends by Police Force Area (2018-2024)\",\n",
    ")\n",
    "\n",
    "# Update x and y axis labels\n",
    "fig.update_xaxes(title_text=\"\", nticks=6)\n",
    "fig.update_yaxes(title_text=\"\", tickformat=\",.0f\")\n",
    "\n",
    "fig.show()"
   ]
  },
  {
   "cell_type": "code",
   "execution_count": 65,
   "id": "36b98693",
   "metadata": {},
   "outputs": [
    {
     "data": {
      "application/vnd.plotly.v1+json": {
       "config": {
        "plotlyServerURL": "https://plot.ly"
       },
       "data": [
        {
         "line": {
          "width": 2
         },
         "marker": {
          "size": 6
         },
         "mode": "lines+markers",
         "name": "Bedfordshire",
         "type": "scatter",
         "x": {
          "bdata": "4gfjB+QH5QfmB+cH6Ac=",
          "dtype": "i2"
         },
         "y": {
          "bdata": "kQ0EAFgbBABWJgQAhzgEAGlDBABgUgQADmEEAA==",
          "dtype": "i4"
         }
        },
        {
         "line": {
          "width": 2
         },
         "marker": {
          "size": 6
         },
         "mode": "lines+markers",
         "name": "Cambridgeshire",
         "type": "scatter",
         "x": {
          "bdata": "4gfjB+QH5QfmB+cH6Ac=",
          "dtype": "i2"
         },
         "y": {
          "bdata": "818FABdqBQDbcQUACIkFAEWXBQDFpgUAaLgFAA==",
          "dtype": "i4"
         }
        },
        {
         "line": {
          "width": 2
         },
         "marker": {
          "size": 6
         },
         "mode": "lines+markers",
         "name": "Cheshire",
         "type": "scatter",
         "x": {
          "bdata": "4gfjB+QH5QfmB+cH6Ac=",
          "dtype": "i2"
         },
         "y": {
          "bdata": "ZsIGAEzRBgBk2AYADOsGAHT6BgCLCQcA7RkHAA==",
          "dtype": "i4"
         }
        },
        {
         "line": {
          "width": 2
         },
         "marker": {
          "size": 6
         },
         "mode": "lines+markers",
         "name": "Cleveland",
         "type": "scatter",
         "x": {
          "bdata": "4gfjB+QH5QfmB+cH6Ac=",
          "dtype": "i2"
         },
         "y": {
          "bdata": "84ADAESCAwAvgQMAPIcDAA6RAwABnQMAR6YDAA==",
          "dtype": "i4"
         }
        },
        {
         "line": {
          "width": 2
         },
         "marker": {
          "size": 6
         },
         "mode": "lines+markers",
         "name": "Cumbria",
         "type": "scatter",
         "x": {
          "bdata": "4gfjB+QH5QfmB+cH6Ac=",
          "dtype": "i2"
         },
         "y": {
          "bdata": "yy4DAP8wAwANMQMANzUDAKk4AwAlPAMA2D8DAA==",
          "dtype": "i4"
         }
        },
        {
         "line": {
          "width": 2
         },
         "marker": {
          "size": 6
         },
         "mode": "lines+markers",
         "name": "Derbyshire",
         "type": "scatter",
         "x": {
          "bdata": "4gfjB+QH5QfmB+cH6Ac=",
          "dtype": "i2"
         },
         "y": {
          "bdata": "0IwGACaWBgBdmQYAOaMGAAOvBgDwvgYAdssGAA==",
          "dtype": "i4"
         }
        }
       ],
       "layout": {
        "hovermode": "x unified",
        "margin": {
         "l": 60,
         "r": 20
        },
        "template": {
         "data": {
          "scatter": [
           {
            "line": {
             "width": 4
            },
            "marker": {
             "size": 10
            },
            "type": "scatter"
           }
          ]
         },
         "layout": {
          "colorway": [
           "#A01D28",
           "#499CC9",
           "#F9A237",
           "#6FBA3A",
           "#573D6B"
          ],
          "dragmode": false,
          "font": {
           "color": "#54565B",
           "family": "Helvetica Neue, Arial",
           "size": 14
          },
          "height": 360,
          "margin": {
           "b": 70,
           "l": 40,
           "r": 100,
           "t": 80
          },
          "modebar": {
           "activecolor": "#A01D28"
          },
          "paper_bgcolor": "#F7F2F2",
          "plot_bgcolor": "#F7F2F2",
          "showlegend": false,
          "title": {
           "font": {
            "family": "Helvetica Neue, Arial",
            "size": 20
           },
           "y": 0.94,
           "yanchor": "bottom"
          },
          "width": 655,
          "xaxis": {
           "gridcolor": "rgba(84, 86, 91, 0.15)",
           "showgrid": false,
           "tickcolor": "#54565B",
           "ticks": "outside"
          },
          "yaxis": {
           "gridcolor": "rgba(84, 86, 91, 0.15)"
          }
         }
        },
        "title": {
         "text": "Population Trends by Police Force Area (2018-2024)"
        },
        "width": 850,
        "xaxis": {
         "title": {
          "text": ""
         }
        },
        "yaxis": {
         "autorangeoptions": {
          "maxallowed": 500000
         },
         "dtick": 100000,
         "nticks": 5,
         "rangemode": "tozero",
         "tickformat": ",.0f",
         "title": {
          "text": ""
         }
        }
       }
      }
     },
     "metadata": {},
     "output_type": "display_data"
    }
   ],
   "source": [
    "# Alternative: Single chart with all PFAs\n",
    "fig = go.Figure()\n",
    "\n",
    "for pfa in sample_pfas:\n",
    "    pfa_data = recent_data[recent_data['pfa'] == pfa].groupby('year')['freq'].sum().reset_index()\n",
    "    \n",
    "    fig.add_trace(\n",
    "        go.Scatter(\n",
    "            x=pfa_data['year'],\n",
    "            y=pfa_data['freq'],\n",
    "            mode='lines+markers',\n",
    "            name=pfa,\n",
    "            line=dict(width=2),\n",
    "            marker=dict(size=6)\n",
    "        )\n",
    "    )\n",
    "\n",
    "fig.update_layout(\n",
    "    title=\"Population Trends by Police Force Area (2018-2024)\",\n",
    "    xaxis_title=\"\",\n",
    "    yaxis_title=\"\",\n",
    "    hovermode='x unified',\n",
    "    margin=dict(l=60, r=20),\n",
    "    width=850,\n",
    ")\n",
    "\n",
    "fig.update_yaxes(title_text=\"\", nticks=5, tickformat=\",.0f\", dtick=100000, rangemode='tozero', autorangeoptions_maxallowed=500000)  # Adjust the interval as needed\n",
    "\n",
    "fig.show()"
   ]
  },
  {
   "cell_type": "markdown",
   "id": "bf3f6d79",
   "metadata": {},
   "source": [
    "## Merging population data with custody data"
   ]
  },
  {
   "cell_type": "code",
   "execution_count": 42,
   "id": "beff1918",
   "metadata": {},
   "outputs": [
    {
     "data": {
      "text/html": [
       "<div>\n",
       "<style scoped>\n",
       "    .dataframe tbody tr th:only-of-type {\n",
       "        vertical-align: middle;\n",
       "    }\n",
       "\n",
       "    .dataframe tbody tr th {\n",
       "        vertical-align: top;\n",
       "    }\n",
       "\n",
       "    .dataframe thead th {\n",
       "        text-align: right;\n",
       "    }\n",
       "</style>\n",
       "<table border=\"1\" class=\"dataframe\">\n",
       "  <thead>\n",
       "    <tr style=\"text-align: right;\">\n",
       "      <th></th>\n",
       "      <th>pfa</th>\n",
       "      <th>year</th>\n",
       "      <th>freq</th>\n",
       "    </tr>\n",
       "  </thead>\n",
       "  <tbody>\n",
       "    <tr>\n",
       "      <th>0</th>\n",
       "      <td>Avon and Somerset</td>\n",
       "      <td>2014</td>\n",
       "      <td>673590</td>\n",
       "    </tr>\n",
       "    <tr>\n",
       "      <th>1</th>\n",
       "      <td>Avon and Somerset</td>\n",
       "      <td>2015</td>\n",
       "      <td>682193</td>\n",
       "    </tr>\n",
       "    <tr>\n",
       "      <th>2</th>\n",
       "      <td>Avon and Somerset</td>\n",
       "      <td>2016</td>\n",
       "      <td>692443</td>\n",
       "    </tr>\n",
       "    <tr>\n",
       "      <th>3</th>\n",
       "      <td>Avon and Somerset</td>\n",
       "      <td>2017</td>\n",
       "      <td>698921</td>\n",
       "    </tr>\n",
       "    <tr>\n",
       "      <th>4</th>\n",
       "      <td>Avon and Somerset</td>\n",
       "      <td>2018</td>\n",
       "      <td>706285</td>\n",
       "    </tr>\n",
       "    <tr>\n",
       "      <th>5</th>\n",
       "      <td>Avon and Somerset</td>\n",
       "      <td>2019</td>\n",
       "      <td>711974</td>\n",
       "    </tr>\n",
       "    <tr>\n",
       "      <th>6</th>\n",
       "      <td>Avon and Somerset</td>\n",
       "      <td>2020</td>\n",
       "      <td>716322</td>\n",
       "    </tr>\n",
       "    <tr>\n",
       "      <th>7</th>\n",
       "      <td>Avon and Somerset</td>\n",
       "      <td>2021</td>\n",
       "      <td>722184</td>\n",
       "    </tr>\n",
       "    <tr>\n",
       "      <th>8</th>\n",
       "      <td>Avon and Somerset</td>\n",
       "      <td>2022</td>\n",
       "      <td>730268</td>\n",
       "    </tr>\n",
       "    <tr>\n",
       "      <th>9</th>\n",
       "      <td>Avon and Somerset</td>\n",
       "      <td>2023</td>\n",
       "      <td>737906</td>\n",
       "    </tr>\n",
       "    <tr>\n",
       "      <th>10</th>\n",
       "      <td>Avon and Somerset</td>\n",
       "      <td>2024</td>\n",
       "      <td>745101</td>\n",
       "    </tr>\n",
       "  </tbody>\n",
       "</table>\n",
       "</div>"
      ],
      "text/plain": [
       "                  pfa  year    freq\n",
       "0   Avon and Somerset  2014  673590\n",
       "1   Avon and Somerset  2015  682193\n",
       "2   Avon and Somerset  2016  692443\n",
       "3   Avon and Somerset  2017  698921\n",
       "4   Avon and Somerset  2018  706285\n",
       "5   Avon and Somerset  2019  711974\n",
       "6   Avon and Somerset  2020  716322\n",
       "7   Avon and Somerset  2021  722184\n",
       "8   Avon and Somerset  2022  730268\n",
       "9   Avon and Somerset  2023  737906\n",
       "10  Avon and Somerset  2024  745101"
      ]
     },
     "execution_count": 42,
     "metadata": {},
     "output_type": "execute_result"
    }
   ],
   "source": [
    "extended_population_data.head(11)"
   ]
  },
  {
   "cell_type": "code",
   "execution_count": 46,
   "id": "1b73a912",
   "metadata": {},
   "outputs": [
    {
     "data": {
      "text/html": [
       "<div>\n",
       "<style scoped>\n",
       "    .dataframe tbody tr th:only-of-type {\n",
       "        vertical-align: middle;\n",
       "    }\n",
       "\n",
       "    .dataframe tbody tr th {\n",
       "        vertical-align: top;\n",
       "    }\n",
       "\n",
       "    .dataframe thead th {\n",
       "        text-align: right;\n",
       "    }\n",
       "</style>\n",
       "<table border=\"1\" class=\"dataframe\">\n",
       "  <thead>\n",
       "    <tr style=\"text-align: right;\">\n",
       "      <th></th>\n",
       "      <th>pfa</th>\n",
       "      <th>year</th>\n",
       "      <th>custody_count</th>\n",
       "    </tr>\n",
       "  </thead>\n",
       "  <tbody>\n",
       "    <tr>\n",
       "      <th>0</th>\n",
       "      <td>Avon and Somerset</td>\n",
       "      <td>2014</td>\n",
       "      <td>196</td>\n",
       "    </tr>\n",
       "    <tr>\n",
       "      <th>1</th>\n",
       "      <td>Avon and Somerset</td>\n",
       "      <td>2015</td>\n",
       "      <td>168</td>\n",
       "    </tr>\n",
       "    <tr>\n",
       "      <th>2</th>\n",
       "      <td>Avon and Somerset</td>\n",
       "      <td>2016</td>\n",
       "      <td>165</td>\n",
       "    </tr>\n",
       "    <tr>\n",
       "      <th>3</th>\n",
       "      <td>Avon and Somerset</td>\n",
       "      <td>2017</td>\n",
       "      <td>106</td>\n",
       "    </tr>\n",
       "    <tr>\n",
       "      <th>4</th>\n",
       "      <td>Avon and Somerset</td>\n",
       "      <td>2018</td>\n",
       "      <td>151</td>\n",
       "    </tr>\n",
       "    <tr>\n",
       "      <th>5</th>\n",
       "      <td>Avon and Somerset</td>\n",
       "      <td>2019</td>\n",
       "      <td>153</td>\n",
       "    </tr>\n",
       "    <tr>\n",
       "      <th>6</th>\n",
       "      <td>Avon and Somerset</td>\n",
       "      <td>2020</td>\n",
       "      <td>107</td>\n",
       "    </tr>\n",
       "    <tr>\n",
       "      <th>7</th>\n",
       "      <td>Avon and Somerset</td>\n",
       "      <td>2021</td>\n",
       "      <td>94</td>\n",
       "    </tr>\n",
       "    <tr>\n",
       "      <th>8</th>\n",
       "      <td>Avon and Somerset</td>\n",
       "      <td>2022</td>\n",
       "      <td>113</td>\n",
       "    </tr>\n",
       "    <tr>\n",
       "      <th>9</th>\n",
       "      <td>Avon and Somerset</td>\n",
       "      <td>2023</td>\n",
       "      <td>120</td>\n",
       "    </tr>\n",
       "    <tr>\n",
       "      <th>10</th>\n",
       "      <td>Avon and Somerset</td>\n",
       "      <td>2024</td>\n",
       "      <td>153</td>\n",
       "    </tr>\n",
       "  </tbody>\n",
       "</table>\n",
       "</div>"
      ],
      "text/plain": [
       "                  pfa  year  custody_count\n",
       "0   Avon and Somerset  2014            196\n",
       "1   Avon and Somerset  2015            168\n",
       "2   Avon and Somerset  2016            165\n",
       "3   Avon and Somerset  2017            106\n",
       "4   Avon and Somerset  2018            151\n",
       "5   Avon and Somerset  2019            153\n",
       "6   Avon and Somerset  2020            107\n",
       "7   Avon and Somerset  2021             94\n",
       "8   Avon and Somerset  2022            113\n",
       "9   Avon and Somerset  2023            120\n",
       "10  Avon and Somerset  2024            153"
      ]
     },
     "execution_count": 46,
     "metadata": {},
     "output_type": "execute_result"
    }
   ],
   "source": [
    "custody_data.head(11)"
   ]
  },
  {
   "cell_type": "code",
   "execution_count": 70,
   "id": "03cd447d",
   "metadata": {},
   "outputs": [
    {
     "data": {
      "text/html": [
       "<div>\n",
       "<style scoped>\n",
       "    .dataframe tbody tr th:only-of-type {\n",
       "        vertical-align: middle;\n",
       "    }\n",
       "\n",
       "    .dataframe tbody tr th {\n",
       "        vertical-align: top;\n",
       "    }\n",
       "\n",
       "    .dataframe thead th {\n",
       "        text-align: right;\n",
       "    }\n",
       "</style>\n",
       "<table border=\"1\" class=\"dataframe\">\n",
       "  <thead>\n",
       "    <tr style=\"text-align: right;\">\n",
       "      <th></th>\n",
       "      <th>pfa</th>\n",
       "      <th>year</th>\n",
       "      <th>freq</th>\n",
       "      <th>custody_count</th>\n",
       "    </tr>\n",
       "  </thead>\n",
       "  <tbody>\n",
       "    <tr>\n",
       "      <th>0</th>\n",
       "      <td>Avon and Somerset</td>\n",
       "      <td>2014</td>\n",
       "      <td>673590</td>\n",
       "      <td>196.0</td>\n",
       "    </tr>\n",
       "    <tr>\n",
       "      <th>1</th>\n",
       "      <td>Avon and Somerset</td>\n",
       "      <td>2015</td>\n",
       "      <td>682193</td>\n",
       "      <td>168.0</td>\n",
       "    </tr>\n",
       "    <tr>\n",
       "      <th>2</th>\n",
       "      <td>Avon and Somerset</td>\n",
       "      <td>2016</td>\n",
       "      <td>692443</td>\n",
       "      <td>165.0</td>\n",
       "    </tr>\n",
       "    <tr>\n",
       "      <th>3</th>\n",
       "      <td>Avon and Somerset</td>\n",
       "      <td>2017</td>\n",
       "      <td>698921</td>\n",
       "      <td>106.0</td>\n",
       "    </tr>\n",
       "    <tr>\n",
       "      <th>4</th>\n",
       "      <td>Avon and Somerset</td>\n",
       "      <td>2018</td>\n",
       "      <td>706285</td>\n",
       "      <td>151.0</td>\n",
       "    </tr>\n",
       "    <tr>\n",
       "      <th>...</th>\n",
       "      <td>...</td>\n",
       "      <td>...</td>\n",
       "      <td>...</td>\n",
       "      <td>...</td>\n",
       "    </tr>\n",
       "    <tr>\n",
       "      <th>457</th>\n",
       "      <td>Wiltshire</td>\n",
       "      <td>2020</td>\n",
       "      <td>298390</td>\n",
       "      <td>35.0</td>\n",
       "    </tr>\n",
       "    <tr>\n",
       "      <th>458</th>\n",
       "      <td>Wiltshire</td>\n",
       "      <td>2021</td>\n",
       "      <td>301817</td>\n",
       "      <td>32.0</td>\n",
       "    </tr>\n",
       "    <tr>\n",
       "      <th>459</th>\n",
       "      <td>Wiltshire</td>\n",
       "      <td>2022</td>\n",
       "      <td>303639</td>\n",
       "      <td>33.0</td>\n",
       "    </tr>\n",
       "    <tr>\n",
       "      <th>460</th>\n",
       "      <td>Wiltshire</td>\n",
       "      <td>2023</td>\n",
       "      <td>306157</td>\n",
       "      <td>37.0</td>\n",
       "    </tr>\n",
       "    <tr>\n",
       "      <th>461</th>\n",
       "      <td>Wiltshire</td>\n",
       "      <td>2024</td>\n",
       "      <td>308746</td>\n",
       "      <td>32.0</td>\n",
       "    </tr>\n",
       "  </tbody>\n",
       "</table>\n",
       "<p>462 rows × 4 columns</p>\n",
       "</div>"
      ],
      "text/plain": [
       "                   pfa  year    freq  custody_count\n",
       "0    Avon and Somerset  2014  673590          196.0\n",
       "1    Avon and Somerset  2015  682193          168.0\n",
       "2    Avon and Somerset  2016  692443          165.0\n",
       "3    Avon and Somerset  2017  698921          106.0\n",
       "4    Avon and Somerset  2018  706285          151.0\n",
       "..                 ...   ...     ...            ...\n",
       "457          Wiltshire  2020  298390           35.0\n",
       "458          Wiltshire  2021  301817           32.0\n",
       "459          Wiltshire  2022  303639           33.0\n",
       "460          Wiltshire  2023  306157           37.0\n",
       "461          Wiltshire  2024  308746           32.0\n",
       "\n",
       "[462 rows x 4 columns]"
      ]
     },
     "execution_count": 70,
     "metadata": {},
     "output_type": "execute_result"
    }
   ],
   "source": [
    "merged_df = extended_population_data.merge(\n",
    "    custody_data,\n",
    "    on=['pfa', 'year'],\n",
    "    how='left',\n",
    "    suffixes=('', '_custody')\n",
    ")\n",
    "merged_df"
   ]
  },
  {
   "cell_type": "markdown",
   "id": "1efa75ed",
   "metadata": {},
   "source": [
    "Custody count appears to have converted to float, suggesting that there may be some null values"
   ]
  },
  {
   "cell_type": "code",
   "execution_count": 71,
   "id": "73e8323a",
   "metadata": {},
   "outputs": [
    {
     "name": "stdout",
     "output_type": "stream",
     "text": [
      "<class 'pandas.core.frame.DataFrame'>\n",
      "RangeIndex: 462 entries, 0 to 461\n",
      "Data columns (total 4 columns):\n",
      " #   Column         Non-Null Count  Dtype  \n",
      "---  ------         --------------  -----  \n",
      " 0   pfa            462 non-null    object \n",
      " 1   year           462 non-null    int64  \n",
      " 2   freq           462 non-null    int64  \n",
      " 3   custody_count  440 non-null    float64\n",
      "dtypes: float64(1), int64(2), object(1)\n",
      "memory usage: 14.6+ KB\n"
     ]
    }
   ],
   "source": [
    "merged_df.info()"
   ]
  },
  {
   "cell_type": "code",
   "execution_count": 76,
   "id": "90ca4b70",
   "metadata": {},
   "outputs": [
    {
     "data": {
      "text/html": [
       "<div>\n",
       "<style scoped>\n",
       "    .dataframe tbody tr th:only-of-type {\n",
       "        vertical-align: middle;\n",
       "    }\n",
       "\n",
       "    .dataframe tbody tr th {\n",
       "        vertical-align: top;\n",
       "    }\n",
       "\n",
       "    .dataframe thead th {\n",
       "        text-align: right;\n",
       "    }\n",
       "</style>\n",
       "<table border=\"1\" class=\"dataframe\">\n",
       "  <thead>\n",
       "    <tr style=\"text-align: right;\">\n",
       "      <th></th>\n",
       "      <th>pfa</th>\n",
       "      <th>year</th>\n",
       "      <th>freq</th>\n",
       "      <th>custody_count</th>\n",
       "    </tr>\n",
       "  </thead>\n",
       "  <tbody>\n",
       "    <tr>\n",
       "      <th>110</th>\n",
       "      <td>Dyfed-Powys</td>\n",
       "      <td>2014</td>\n",
       "      <td>213265</td>\n",
       "      <td>NaN</td>\n",
       "    </tr>\n",
       "    <tr>\n",
       "      <th>111</th>\n",
       "      <td>Dyfed-Powys</td>\n",
       "      <td>2015</td>\n",
       "      <td>212745</td>\n",
       "      <td>NaN</td>\n",
       "    </tr>\n",
       "    <tr>\n",
       "      <th>112</th>\n",
       "      <td>Dyfed-Powys</td>\n",
       "      <td>2016</td>\n",
       "      <td>212914</td>\n",
       "      <td>NaN</td>\n",
       "    </tr>\n",
       "    <tr>\n",
       "      <th>113</th>\n",
       "      <td>Dyfed-Powys</td>\n",
       "      <td>2017</td>\n",
       "      <td>213084</td>\n",
       "      <td>NaN</td>\n",
       "    </tr>\n",
       "    <tr>\n",
       "      <th>114</th>\n",
       "      <td>Dyfed-Powys</td>\n",
       "      <td>2018</td>\n",
       "      <td>212897</td>\n",
       "      <td>NaN</td>\n",
       "    </tr>\n",
       "    <tr>\n",
       "      <th>115</th>\n",
       "      <td>Dyfed-Powys</td>\n",
       "      <td>2019</td>\n",
       "      <td>213278</td>\n",
       "      <td>NaN</td>\n",
       "    </tr>\n",
       "    <tr>\n",
       "      <th>116</th>\n",
       "      <td>Dyfed-Powys</td>\n",
       "      <td>2020</td>\n",
       "      <td>215341</td>\n",
       "      <td>NaN</td>\n",
       "    </tr>\n",
       "    <tr>\n",
       "      <th>117</th>\n",
       "      <td>Dyfed-Powys</td>\n",
       "      <td>2021</td>\n",
       "      <td>217306</td>\n",
       "      <td>NaN</td>\n",
       "    </tr>\n",
       "    <tr>\n",
       "      <th>118</th>\n",
       "      <td>Dyfed-Powys</td>\n",
       "      <td>2022</td>\n",
       "      <td>218738</td>\n",
       "      <td>NaN</td>\n",
       "    </tr>\n",
       "    <tr>\n",
       "      <th>119</th>\n",
       "      <td>Dyfed-Powys</td>\n",
       "      <td>2023</td>\n",
       "      <td>220541</td>\n",
       "      <td>NaN</td>\n",
       "    </tr>\n",
       "    <tr>\n",
       "      <th>120</th>\n",
       "      <td>Dyfed-Powys</td>\n",
       "      <td>2024</td>\n",
       "      <td>222274</td>\n",
       "      <td>NaN</td>\n",
       "    </tr>\n",
       "    <tr>\n",
       "      <th>253</th>\n",
       "      <td>Metropolitan Police</td>\n",
       "      <td>2014</td>\n",
       "      <td>3423050</td>\n",
       "      <td>NaN</td>\n",
       "    </tr>\n",
       "    <tr>\n",
       "      <th>254</th>\n",
       "      <td>Metropolitan Police</td>\n",
       "      <td>2015</td>\n",
       "      <td>3476288</td>\n",
       "      <td>NaN</td>\n",
       "    </tr>\n",
       "    <tr>\n",
       "      <th>255</th>\n",
       "      <td>Metropolitan Police</td>\n",
       "      <td>2016</td>\n",
       "      <td>3524092</td>\n",
       "      <td>NaN</td>\n",
       "    </tr>\n",
       "    <tr>\n",
       "      <th>256</th>\n",
       "      <td>Metropolitan Police</td>\n",
       "      <td>2017</td>\n",
       "      <td>3545747</td>\n",
       "      <td>NaN</td>\n",
       "    </tr>\n",
       "    <tr>\n",
       "      <th>257</th>\n",
       "      <td>Metropolitan Police</td>\n",
       "      <td>2018</td>\n",
       "      <td>3580408</td>\n",
       "      <td>NaN</td>\n",
       "    </tr>\n",
       "    <tr>\n",
       "      <th>258</th>\n",
       "      <td>Metropolitan Police</td>\n",
       "      <td>2019</td>\n",
       "      <td>3612968</td>\n",
       "      <td>NaN</td>\n",
       "    </tr>\n",
       "    <tr>\n",
       "      <th>259</th>\n",
       "      <td>Metropolitan Police</td>\n",
       "      <td>2020</td>\n",
       "      <td>3614063</td>\n",
       "      <td>NaN</td>\n",
       "    </tr>\n",
       "    <tr>\n",
       "      <th>260</th>\n",
       "      <td>Metropolitan Police</td>\n",
       "      <td>2021</td>\n",
       "      <td>3605016</td>\n",
       "      <td>NaN</td>\n",
       "    </tr>\n",
       "    <tr>\n",
       "      <th>261</th>\n",
       "      <td>Metropolitan Police</td>\n",
       "      <td>2022</td>\n",
       "      <td>3629765</td>\n",
       "      <td>NaN</td>\n",
       "    </tr>\n",
       "    <tr>\n",
       "      <th>262</th>\n",
       "      <td>Metropolitan Police</td>\n",
       "      <td>2023</td>\n",
       "      <td>3667643</td>\n",
       "      <td>NaN</td>\n",
       "    </tr>\n",
       "    <tr>\n",
       "      <th>263</th>\n",
       "      <td>Metropolitan Police</td>\n",
       "      <td>2024</td>\n",
       "      <td>3685503</td>\n",
       "      <td>NaN</td>\n",
       "    </tr>\n",
       "  </tbody>\n",
       "</table>\n",
       "</div>"
      ],
      "text/plain": [
       "                     pfa  year     freq  custody_count\n",
       "110          Dyfed-Powys  2014   213265            NaN\n",
       "111          Dyfed-Powys  2015   212745            NaN\n",
       "112          Dyfed-Powys  2016   212914            NaN\n",
       "113          Dyfed-Powys  2017   213084            NaN\n",
       "114          Dyfed-Powys  2018   212897            NaN\n",
       "115          Dyfed-Powys  2019   213278            NaN\n",
       "116          Dyfed-Powys  2020   215341            NaN\n",
       "117          Dyfed-Powys  2021   217306            NaN\n",
       "118          Dyfed-Powys  2022   218738            NaN\n",
       "119          Dyfed-Powys  2023   220541            NaN\n",
       "120          Dyfed-Powys  2024   222274            NaN\n",
       "253  Metropolitan Police  2014  3423050            NaN\n",
       "254  Metropolitan Police  2015  3476288            NaN\n",
       "255  Metropolitan Police  2016  3524092            NaN\n",
       "256  Metropolitan Police  2017  3545747            NaN\n",
       "257  Metropolitan Police  2018  3580408            NaN\n",
       "258  Metropolitan Police  2019  3612968            NaN\n",
       "259  Metropolitan Police  2020  3614063            NaN\n",
       "260  Metropolitan Police  2021  3605016            NaN\n",
       "261  Metropolitan Police  2022  3629765            NaN\n",
       "262  Metropolitan Police  2023  3667643            NaN\n",
       "263  Metropolitan Police  2024  3685503            NaN"
      ]
     },
     "execution_count": 76,
     "metadata": {},
     "output_type": "execute_result"
    }
   ],
   "source": [
    "merged_df[merged_df['custody_count'].isna()]"
   ]
  },
  {
   "cell_type": "markdown",
   "id": "c9241d8f",
   "metadata": {},
   "source": [
    "This is likely to be a difference in spelling between the two dataframes, let's check."
   ]
  },
  {
   "cell_type": "code",
   "execution_count": 77,
   "id": "cdf1da8f",
   "metadata": {},
   "outputs": [
    {
     "data": {
      "text/plain": [
       "array(['Avon and Somerset', 'Bedfordshire', 'Cambridgeshire', 'Cheshire',\n",
       "       'Cleveland', 'Cumbria', 'Derbyshire', 'Devon and Cornwall',\n",
       "       'Dorset', 'Durham', 'Dyfed Powys', 'Essex', 'Gloucestershire',\n",
       "       'Greater Manchester', 'Gwent', 'Hampshire', 'Hertfordshire',\n",
       "       'Humberside', 'Kent', 'Lancashire', 'Leicestershire',\n",
       "       'Lincolnshire', 'London', 'Merseyside', 'Norfolk', 'North Wales',\n",
       "       'North Yorkshire', 'Northamptonshire', 'Northumbria',\n",
       "       'Nottinghamshire', 'South Wales', 'South Yorkshire',\n",
       "       'Staffordshire', 'Suffolk', 'Surrey', 'Sussex', 'Thames Valley',\n",
       "       'Warwickshire', 'West Mercia', 'West Midlands', 'West Yorkshire',\n",
       "       'Wiltshire'], dtype=object)"
      ]
     },
     "execution_count": 77,
     "metadata": {},
     "output_type": "execute_result"
    }
   ],
   "source": [
    "custody_data['pfa'].unique()"
   ]
  },
  {
   "cell_type": "markdown",
   "id": "5c2c0b65",
   "metadata": {},
   "source": [
    "Yep, no hyphen for Dyfed Powys and Met is London, let's change that."
   ]
  },
  {
   "cell_type": "code",
   "execution_count": 83,
   "id": "49658baf",
   "metadata": {},
   "outputs": [
    {
     "data": {
      "text/plain": [
       "array(['Avon and Somerset', 'Bedfordshire', 'Cambridgeshire', 'Cheshire',\n",
       "       'Cleveland', 'Cumbria', 'Derbyshire', 'Devon and Cornwall',\n",
       "       'Dorset', 'Durham', 'Dyfed Powys', 'Essex', 'Gloucestershire',\n",
       "       'Greater Manchester', 'Gwent', 'Hampshire', 'Hertfordshire',\n",
       "       'Humberside', 'Kent', 'Lancashire', 'Leicestershire',\n",
       "       'Lincolnshire', 'Merseyside', 'London', 'Norfolk', 'North Wales',\n",
       "       'North Yorkshire', 'Northamptonshire', 'Northumbria',\n",
       "       'Nottinghamshire', 'South Wales', 'South Yorkshire',\n",
       "       'Staffordshire', 'Suffolk', 'Surrey', 'Sussex', 'Thames Valley',\n",
       "       'Warwickshire', 'West Mercia', 'West Midlands', 'West Yorkshire',\n",
       "       'Wiltshire'], dtype=object)"
      ]
     },
     "execution_count": 83,
     "metadata": {},
     "output_type": "execute_result"
    }
   ],
   "source": [
    "extended_population_data['pfa'].replace({\n",
    "    'Dyfed-Powys': 'Dyfed Powys',\n",
    "    'Metropolitan Police': 'London'\n",
    "    }, inplace=True)\n",
    "extended_population_data['pfa'].unique()"
   ]
  },
  {
   "cell_type": "code",
   "execution_count": 84,
   "id": "955746a1",
   "metadata": {},
   "outputs": [
    {
     "data": {
      "text/html": [
       "<div>\n",
       "<style scoped>\n",
       "    .dataframe tbody tr th:only-of-type {\n",
       "        vertical-align: middle;\n",
       "    }\n",
       "\n",
       "    .dataframe tbody tr th {\n",
       "        vertical-align: top;\n",
       "    }\n",
       "\n",
       "    .dataframe thead th {\n",
       "        text-align: right;\n",
       "    }\n",
       "</style>\n",
       "<table border=\"1\" class=\"dataframe\">\n",
       "  <thead>\n",
       "    <tr style=\"text-align: right;\">\n",
       "      <th></th>\n",
       "      <th>pfa</th>\n",
       "      <th>year</th>\n",
       "      <th>freq</th>\n",
       "      <th>custody_count</th>\n",
       "    </tr>\n",
       "  </thead>\n",
       "  <tbody>\n",
       "    <tr>\n",
       "      <th>0</th>\n",
       "      <td>Avon and Somerset</td>\n",
       "      <td>2014</td>\n",
       "      <td>673590</td>\n",
       "      <td>196</td>\n",
       "    </tr>\n",
       "    <tr>\n",
       "      <th>1</th>\n",
       "      <td>Avon and Somerset</td>\n",
       "      <td>2015</td>\n",
       "      <td>682193</td>\n",
       "      <td>168</td>\n",
       "    </tr>\n",
       "    <tr>\n",
       "      <th>2</th>\n",
       "      <td>Avon and Somerset</td>\n",
       "      <td>2016</td>\n",
       "      <td>692443</td>\n",
       "      <td>165</td>\n",
       "    </tr>\n",
       "    <tr>\n",
       "      <th>3</th>\n",
       "      <td>Avon and Somerset</td>\n",
       "      <td>2017</td>\n",
       "      <td>698921</td>\n",
       "      <td>106</td>\n",
       "    </tr>\n",
       "    <tr>\n",
       "      <th>4</th>\n",
       "      <td>Avon and Somerset</td>\n",
       "      <td>2018</td>\n",
       "      <td>706285</td>\n",
       "      <td>151</td>\n",
       "    </tr>\n",
       "    <tr>\n",
       "      <th>...</th>\n",
       "      <td>...</td>\n",
       "      <td>...</td>\n",
       "      <td>...</td>\n",
       "      <td>...</td>\n",
       "    </tr>\n",
       "    <tr>\n",
       "      <th>457</th>\n",
       "      <td>Wiltshire</td>\n",
       "      <td>2020</td>\n",
       "      <td>298390</td>\n",
       "      <td>35</td>\n",
       "    </tr>\n",
       "    <tr>\n",
       "      <th>458</th>\n",
       "      <td>Wiltshire</td>\n",
       "      <td>2021</td>\n",
       "      <td>301817</td>\n",
       "      <td>32</td>\n",
       "    </tr>\n",
       "    <tr>\n",
       "      <th>459</th>\n",
       "      <td>Wiltshire</td>\n",
       "      <td>2022</td>\n",
       "      <td>303639</td>\n",
       "      <td>33</td>\n",
       "    </tr>\n",
       "    <tr>\n",
       "      <th>460</th>\n",
       "      <td>Wiltshire</td>\n",
       "      <td>2023</td>\n",
       "      <td>306157</td>\n",
       "      <td>37</td>\n",
       "    </tr>\n",
       "    <tr>\n",
       "      <th>461</th>\n",
       "      <td>Wiltshire</td>\n",
       "      <td>2024</td>\n",
       "      <td>308746</td>\n",
       "      <td>32</td>\n",
       "    </tr>\n",
       "  </tbody>\n",
       "</table>\n",
       "<p>462 rows × 4 columns</p>\n",
       "</div>"
      ],
      "text/plain": [
       "                   pfa  year    freq  custody_count\n",
       "0    Avon and Somerset  2014  673590            196\n",
       "1    Avon and Somerset  2015  682193            168\n",
       "2    Avon and Somerset  2016  692443            165\n",
       "3    Avon and Somerset  2017  698921            106\n",
       "4    Avon and Somerset  2018  706285            151\n",
       "..                 ...   ...     ...            ...\n",
       "457          Wiltshire  2020  298390             35\n",
       "458          Wiltshire  2021  301817             32\n",
       "459          Wiltshire  2022  303639             33\n",
       "460          Wiltshire  2023  306157             37\n",
       "461          Wiltshire  2024  308746             32\n",
       "\n",
       "[462 rows x 4 columns]"
      ]
     },
     "execution_count": 84,
     "metadata": {},
     "output_type": "execute_result"
    }
   ],
   "source": [
    "merged_df = extended_population_data.merge(\n",
    "    custody_data,\n",
    "    on=['pfa', 'year'],\n",
    "    how='left',\n",
    "    suffixes=('', '_custody')\n",
    ")\n",
    "merged_df"
   ]
  },
  {
   "cell_type": "code",
   "execution_count": 85,
   "id": "4d316509",
   "metadata": {},
   "outputs": [
    {
     "name": "stdout",
     "output_type": "stream",
     "text": [
      "<class 'pandas.core.frame.DataFrame'>\n",
      "RangeIndex: 462 entries, 0 to 461\n",
      "Data columns (total 4 columns):\n",
      " #   Column         Non-Null Count  Dtype \n",
      "---  ------         --------------  ----- \n",
      " 0   pfa            462 non-null    object\n",
      " 1   year           462 non-null    int64 \n",
      " 2   freq           462 non-null    int64 \n",
      " 3   custody_count  462 non-null    int64 \n",
      "dtypes: int64(3), object(1)\n",
      "memory usage: 14.6+ KB\n"
     ]
    }
   ],
   "source": [
    "merged_df.info()"
   ]
  },
  {
   "cell_type": "code",
   "execution_count": 86,
   "id": "71d5d638",
   "metadata": {},
   "outputs": [
    {
     "data": {
      "text/html": [
       "<div>\n",
       "<style scoped>\n",
       "    .dataframe tbody tr th:only-of-type {\n",
       "        vertical-align: middle;\n",
       "    }\n",
       "\n",
       "    .dataframe tbody tr th {\n",
       "        vertical-align: top;\n",
       "    }\n",
       "\n",
       "    .dataframe thead th {\n",
       "        text-align: right;\n",
       "    }\n",
       "</style>\n",
       "<table border=\"1\" class=\"dataframe\">\n",
       "  <thead>\n",
       "    <tr style=\"text-align: right;\">\n",
       "      <th></th>\n",
       "      <th>pfa</th>\n",
       "      <th>year</th>\n",
       "      <th>freq</th>\n",
       "      <th>custody_count</th>\n",
       "    </tr>\n",
       "  </thead>\n",
       "  <tbody>\n",
       "    <tr>\n",
       "      <th>110</th>\n",
       "      <td>Dyfed Powys</td>\n",
       "      <td>2014</td>\n",
       "      <td>213265</td>\n",
       "      <td>18</td>\n",
       "    </tr>\n",
       "    <tr>\n",
       "      <th>111</th>\n",
       "      <td>Dyfed Powys</td>\n",
       "      <td>2015</td>\n",
       "      <td>212745</td>\n",
       "      <td>19</td>\n",
       "    </tr>\n",
       "    <tr>\n",
       "      <th>112</th>\n",
       "      <td>Dyfed Powys</td>\n",
       "      <td>2016</td>\n",
       "      <td>212914</td>\n",
       "      <td>19</td>\n",
       "    </tr>\n",
       "    <tr>\n",
       "      <th>113</th>\n",
       "      <td>Dyfed Powys</td>\n",
       "      <td>2017</td>\n",
       "      <td>213084</td>\n",
       "      <td>26</td>\n",
       "    </tr>\n",
       "    <tr>\n",
       "      <th>114</th>\n",
       "      <td>Dyfed Powys</td>\n",
       "      <td>2018</td>\n",
       "      <td>212897</td>\n",
       "      <td>20</td>\n",
       "    </tr>\n",
       "    <tr>\n",
       "      <th>115</th>\n",
       "      <td>Dyfed Powys</td>\n",
       "      <td>2019</td>\n",
       "      <td>213278</td>\n",
       "      <td>31</td>\n",
       "    </tr>\n",
       "    <tr>\n",
       "      <th>116</th>\n",
       "      <td>Dyfed Powys</td>\n",
       "      <td>2020</td>\n",
       "      <td>215341</td>\n",
       "      <td>15</td>\n",
       "    </tr>\n",
       "    <tr>\n",
       "      <th>117</th>\n",
       "      <td>Dyfed Powys</td>\n",
       "      <td>2021</td>\n",
       "      <td>217306</td>\n",
       "      <td>13</td>\n",
       "    </tr>\n",
       "    <tr>\n",
       "      <th>118</th>\n",
       "      <td>Dyfed Powys</td>\n",
       "      <td>2022</td>\n",
       "      <td>218738</td>\n",
       "      <td>20</td>\n",
       "    </tr>\n",
       "    <tr>\n",
       "      <th>119</th>\n",
       "      <td>Dyfed Powys</td>\n",
       "      <td>2023</td>\n",
       "      <td>220541</td>\n",
       "      <td>24</td>\n",
       "    </tr>\n",
       "    <tr>\n",
       "      <th>120</th>\n",
       "      <td>Dyfed Powys</td>\n",
       "      <td>2024</td>\n",
       "      <td>222274</td>\n",
       "      <td>10</td>\n",
       "    </tr>\n",
       "    <tr>\n",
       "      <th>253</th>\n",
       "      <td>London</td>\n",
       "      <td>2014</td>\n",
       "      <td>3423050</td>\n",
       "      <td>1297</td>\n",
       "    </tr>\n",
       "    <tr>\n",
       "      <th>254</th>\n",
       "      <td>London</td>\n",
       "      <td>2015</td>\n",
       "      <td>3476288</td>\n",
       "      <td>1187</td>\n",
       "    </tr>\n",
       "    <tr>\n",
       "      <th>255</th>\n",
       "      <td>London</td>\n",
       "      <td>2016</td>\n",
       "      <td>3524092</td>\n",
       "      <td>1267</td>\n",
       "    </tr>\n",
       "    <tr>\n",
       "      <th>256</th>\n",
       "      <td>London</td>\n",
       "      <td>2017</td>\n",
       "      <td>3545747</td>\n",
       "      <td>980</td>\n",
       "    </tr>\n",
       "    <tr>\n",
       "      <th>257</th>\n",
       "      <td>London</td>\n",
       "      <td>2018</td>\n",
       "      <td>3580408</td>\n",
       "      <td>1036</td>\n",
       "    </tr>\n",
       "    <tr>\n",
       "      <th>258</th>\n",
       "      <td>London</td>\n",
       "      <td>2019</td>\n",
       "      <td>3612968</td>\n",
       "      <td>908</td>\n",
       "    </tr>\n",
       "    <tr>\n",
       "      <th>259</th>\n",
       "      <td>London</td>\n",
       "      <td>2020</td>\n",
       "      <td>3614063</td>\n",
       "      <td>630</td>\n",
       "    </tr>\n",
       "    <tr>\n",
       "      <th>260</th>\n",
       "      <td>London</td>\n",
       "      <td>2021</td>\n",
       "      <td>3605016</td>\n",
       "      <td>545</td>\n",
       "    </tr>\n",
       "    <tr>\n",
       "      <th>261</th>\n",
       "      <td>London</td>\n",
       "      <td>2022</td>\n",
       "      <td>3629765</td>\n",
       "      <td>583</td>\n",
       "    </tr>\n",
       "    <tr>\n",
       "      <th>262</th>\n",
       "      <td>London</td>\n",
       "      <td>2023</td>\n",
       "      <td>3667643</td>\n",
       "      <td>583</td>\n",
       "    </tr>\n",
       "    <tr>\n",
       "      <th>263</th>\n",
       "      <td>London</td>\n",
       "      <td>2024</td>\n",
       "      <td>3685503</td>\n",
       "      <td>701</td>\n",
       "    </tr>\n",
       "  </tbody>\n",
       "</table>\n",
       "</div>"
      ],
      "text/plain": [
       "             pfa  year     freq  custody_count\n",
       "110  Dyfed Powys  2014   213265             18\n",
       "111  Dyfed Powys  2015   212745             19\n",
       "112  Dyfed Powys  2016   212914             19\n",
       "113  Dyfed Powys  2017   213084             26\n",
       "114  Dyfed Powys  2018   212897             20\n",
       "115  Dyfed Powys  2019   213278             31\n",
       "116  Dyfed Powys  2020   215341             15\n",
       "117  Dyfed Powys  2021   217306             13\n",
       "118  Dyfed Powys  2022   218738             20\n",
       "119  Dyfed Powys  2023   220541             24\n",
       "120  Dyfed Powys  2024   222274             10\n",
       "253       London  2014  3423050           1297\n",
       "254       London  2015  3476288           1187\n",
       "255       London  2016  3524092           1267\n",
       "256       London  2017  3545747            980\n",
       "257       London  2018  3580408           1036\n",
       "258       London  2019  3612968            908\n",
       "259       London  2020  3614063            630\n",
       "260       London  2021  3605016            545\n",
       "261       London  2022  3629765            583\n",
       "262       London  2023  3667643            583\n",
       "263       London  2024  3685503            701"
      ]
     },
     "execution_count": 86,
     "metadata": {},
     "output_type": "execute_result"
    }
   ],
   "source": [
    "pfa_checks = [\"Dyfed Powys\", \"London\"]\n",
    "merged_df.query(\"pfa in @pfa_checks\").sort_values(by=['pfa', 'year'])"
   ]
  },
  {
   "cell_type": "markdown",
   "id": "80c01cd0",
   "metadata": {},
   "source": [
    "## Building this out into a script"
   ]
  },
  {
   "cell_type": "code",
   "execution_count": 87,
   "id": "acdf6a96",
   "metadata": {},
   "outputs": [],
   "source": [
    "from src.data.processing import combine_custody_pfa_population"
   ]
  },
  {
   "cell_type": "code",
   "execution_count": 89,
   "id": "425a4fa2",
   "metadata": {},
   "outputs": [
    {
     "name": "stderr",
     "output_type": "stream",
     "text": [
      "2025-07-11 17:27:13,458 - INFO - Loaded data from data/processed/PFA_custodial_sentences_all_FINAL.csv\n",
      "2025-07-11 17:27:13,473 - INFO - Loaded data from data/interim/LA_PFA_population_women_2011-2023.csv\n",
      "2025-07-11 17:27:13,479 - INFO - Processing CJS custody data...\n",
      "2025-07-11 17:27:13,486 - INFO - Processing population data...\n",
      "2025-07-11 17:27:13,490 - INFO - Aggregating by: pfa, year\n",
      "2025-07-11 17:27:13,499 - INFO - Custody data extends to 2024, population data to 2023\n",
      "2025-07-11 17:27:13,500 - INFO - Generating population projections for 2024...\n",
      "2025-07-11 17:27:13,501 - INFO - Testing projection methods with backtesting validation...\n",
      "2025-07-11 17:27:13,945 - INFO - Validation Results (Mean Absolute Percentage Error):\n",
      "2025-07-11 17:27:13,946 - INFO - Linear Trend: 0.44422%\n",
      "2025-07-11 17:27:13,947 - INFO - CAGR: 0.30332%\n",
      "2025-07-11 17:27:13,948 - INFO - Moving Average: 0.30317%\n",
      "2025-07-11 17:27:13,949 - INFO - Best performing method: Moving Average (MAPE: 0.30317%)\n",
      "2025-07-11 17:27:13,950 - INFO - Adding projections for 2024 to population data...\n",
      "2025-07-11 17:27:13,956 - INFO - Extended population data: 2014 to 2024\n",
      "2025-07-11 17:27:13,956 - INFO - Merging custody and population data...\n",
      "2025-07-11 17:27:13,961 - INFO - Final merged dataset: 462 rows\n",
      "2025-07-11 17:27:13,962 - INFO - Data covers: 2014 to 2024\n",
      "2025-07-11 17:27:13,963 - INFO - Data successfully processed and merged with projections.\n",
      "2025-07-11 17:27:13,965 - INFO - Saving...\n",
      "2025-07-11 17:27:13,974 - INFO - Data successfully saved to data/processed/pfa_imprisonment_rates_2014-2024.csv\n"
     ]
    }
   ],
   "source": [
    "combine_custody_pfa_population.main()"
   ]
  },
  {
   "cell_type": "code",
   "execution_count": null,
   "id": "ecb2927b",
   "metadata": {},
   "outputs": [],
   "source": []
  }
 ],
 "metadata": {
  "kernelspec": {
   "display_name": "Python 3",
   "language": "python",
   "name": "python3"
  },
  "language_info": {
   "codemirror_mode": {
    "name": "ipython",
    "version": 3
   },
   "file_extension": ".py",
   "mimetype": "text/x-python",
   "name": "python",
   "nbconvert_exporter": "python",
   "pygments_lexer": "ipython3",
   "version": "3.13.5"
  }
 },
 "nbformat": 4,
 "nbformat_minor": 5
}
