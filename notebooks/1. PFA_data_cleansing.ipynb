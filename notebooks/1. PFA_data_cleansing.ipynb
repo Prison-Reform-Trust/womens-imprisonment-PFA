{
 "cells": [
  {
   "cell_type": "markdown",
   "id": "146b6234-4ff1-4e72-8e60-751f94aeb050",
   "metadata": {
    "tags": []
   },
   "source": [
    "# Women's imprisonment rates\n",
    "## Criminal Justice Statistics Police Force Area: Cleaning data for analysis of sentences"
   ]
  },
  {
   "cell_type": "markdown",
   "id": "0f93a57e-5ddc-49a7-840b-db1e5c323bc6",
   "metadata": {
    "tags": []
   },
   "source": [
    "#### Importing pandas library and reading in data"
   ]
  },
  {
   "cell_type": "code",
   "execution_count": 1,
   "id": "b5cc0b85-6044-4f04-8901-0635e109b075",
   "metadata": {},
   "outputs": [],
   "source": [
    "import pandas as pd"
   ]
  },
  {
   "cell_type": "markdown",
   "id": "7e646c5c-8b2f-410f-a0ab-66d626334242",
   "metadata": {},
   "source": [
    "#### Importing dataset and filtering columns"
   ]
  },
  {
   "cell_type": "code",
   "execution_count": 2,
   "id": "a6ea4ba3-827a-4f01-b269-bddfdc668638",
   "metadata": {},
   "outputs": [],
   "source": [
    "usecols =['Police Force Area', 'Year', 'Sex', 'Age group', 'Offence group', 'Sentence Outcome', 'Custodial Sentence Length','Sentenced']\n",
    "df = pd.read_csv('../data/external/sentencing.csv', usecols=usecols, encoding = 'latin1', low_memory=False)"
   ]
  },
  {
   "cell_type": "markdown",
   "id": "5ac60663-223c-44e0-b656-b4f04d0e57fd",
   "metadata": {},
   "source": [
    "#### Importing dataset going back to 2009 and filtering columns"
   ]
  },
  {
   "cell_type": "code",
   "execution_count": 3,
   "id": "65d85e1b-09df-4928-adbc-e040faa96e07",
   "metadata": {},
   "outputs": [],
   "source": [
    "usecols_2009 =['Police Force Area', 'Year of Appearance', 'Sex', 'Age Group', 'Offence Group', 'Outcome', 'Custodial Sentence Length','Count'] \n",
    "df_2009 = pd.read_csv('../../womens-pfa-analysis/data/external/court-outcomes-by-PFA-2019.csv', usecols=usecols_2009, encoding = 'latin1', low_memory=False)"
   ]
  },
  {
   "cell_type": "markdown",
   "id": "b8b7b491-6bf8-4494-aacf-be573963a830",
   "metadata": {},
   "source": [
    "#### Viewing datasets"
   ]
  },
  {
   "cell_type": "code",
   "execution_count": 4,
   "id": "51dc858f-bfe7-4fe3-ad48-aedfd8009037",
   "metadata": {},
   "outputs": [
    {
     "data": {
      "text/html": [
       "<div>\n",
       "<style scoped>\n",
       "    .dataframe tbody tr th:only-of-type {\n",
       "        vertical-align: middle;\n",
       "    }\n",
       "\n",
       "    .dataframe tbody tr th {\n",
       "        vertical-align: top;\n",
       "    }\n",
       "\n",
       "    .dataframe thead th {\n",
       "        text-align: right;\n",
       "    }\n",
       "</style>\n",
       "<table border=\"1\" class=\"dataframe\">\n",
       "  <thead>\n",
       "    <tr style=\"text-align: right;\">\n",
       "      <th></th>\n",
       "      <th>Year</th>\n",
       "      <th>Offence group</th>\n",
       "      <th>Sex</th>\n",
       "      <th>Age group</th>\n",
       "      <th>Police Force Area</th>\n",
       "      <th>Sentence Outcome</th>\n",
       "      <th>Custodial Sentence Length</th>\n",
       "      <th>Sentenced</th>\n",
       "    </tr>\n",
       "  </thead>\n",
       "  <tbody>\n",
       "    <tr>\n",
       "      <th>0</th>\n",
       "      <td>2017</td>\n",
       "      <td>01: Violence against the person</td>\n",
       "      <td>02: Male</td>\n",
       "      <td>02: Young adults</td>\n",
       "      <td>Greater Manchester</td>\n",
       "      <td>07: Total Immediate custody</td>\n",
       "      <td>23: Custody - Life</td>\n",
       "      <td>1</td>\n",
       "    </tr>\n",
       "    <tr>\n",
       "      <th>1</th>\n",
       "      <td>2017</td>\n",
       "      <td>01: Violence against the person</td>\n",
       "      <td>02: Male</td>\n",
       "      <td>03: Adults</td>\n",
       "      <td>West Yorkshire</td>\n",
       "      <td>07: Total Immediate custody</td>\n",
       "      <td>23: Custody - Life</td>\n",
       "      <td>1</td>\n",
       "    </tr>\n",
       "    <tr>\n",
       "      <th>2</th>\n",
       "      <td>2017</td>\n",
       "      <td>01: Violence against the person</td>\n",
       "      <td>02: Male</td>\n",
       "      <td>03: Adults</td>\n",
       "      <td>Metropolitan Police</td>\n",
       "      <td>07: Total Immediate custody</td>\n",
       "      <td>23: Custody - Life</td>\n",
       "      <td>1</td>\n",
       "    </tr>\n",
       "    <tr>\n",
       "      <th>3</th>\n",
       "      <td>2017</td>\n",
       "      <td>01: Violence against the person</td>\n",
       "      <td>02: Male</td>\n",
       "      <td>03: Adults</td>\n",
       "      <td>West Yorkshire</td>\n",
       "      <td>07: Total Immediate custody</td>\n",
       "      <td>23: Custody - Life</td>\n",
       "      <td>2</td>\n",
       "    </tr>\n",
       "    <tr>\n",
       "      <th>4</th>\n",
       "      <td>2017</td>\n",
       "      <td>01: Violence against the person</td>\n",
       "      <td>02: Male</td>\n",
       "      <td>01: Children</td>\n",
       "      <td>Metropolitan Police</td>\n",
       "      <td>07: Total Immediate custody</td>\n",
       "      <td>23: Custody - Life</td>\n",
       "      <td>2</td>\n",
       "    </tr>\n",
       "  </tbody>\n",
       "</table>\n",
       "</div>"
      ],
      "text/plain": [
       "   Year                    Offence group       Sex         Age group  \\\n",
       "0  2017  01: Violence against the person  02: Male  02: Young adults   \n",
       "1  2017  01: Violence against the person  02: Male        03: Adults   \n",
       "2  2017  01: Violence against the person  02: Male        03: Adults   \n",
       "3  2017  01: Violence against the person  02: Male        03: Adults   \n",
       "4  2017  01: Violence against the person  02: Male      01: Children   \n",
       "\n",
       "     Police Force Area             Sentence Outcome Custodial Sentence Length  \\\n",
       "0   Greater Manchester  07: Total Immediate custody        23: Custody - Life   \n",
       "1       West Yorkshire  07: Total Immediate custody        23: Custody - Life   \n",
       "2  Metropolitan Police  07: Total Immediate custody        23: Custody - Life   \n",
       "3       West Yorkshire  07: Total Immediate custody        23: Custody - Life   \n",
       "4  Metropolitan Police  07: Total Immediate custody        23: Custody - Life   \n",
       "\n",
       "   Sentenced  \n",
       "0          1  \n",
       "1          1  \n",
       "2          1  \n",
       "3          2  \n",
       "4          2  "
      ]
     },
     "execution_count": 4,
     "metadata": {},
     "output_type": "execute_result"
    }
   ],
   "source": [
    "df.head()"
   ]
  },
  {
   "cell_type": "code",
   "execution_count": 5,
   "id": "4a35a2cf-1a88-4f03-a08b-8f690960ee0f",
   "metadata": {},
   "outputs": [
    {
     "data": {
      "text/html": [
       "<div>\n",
       "<style scoped>\n",
       "    .dataframe tbody tr th:only-of-type {\n",
       "        vertical-align: middle;\n",
       "    }\n",
       "\n",
       "    .dataframe tbody tr th {\n",
       "        vertical-align: top;\n",
       "    }\n",
       "\n",
       "    .dataframe thead th {\n",
       "        text-align: right;\n",
       "    }\n",
       "</style>\n",
       "<table border=\"1\" class=\"dataframe\">\n",
       "  <thead>\n",
       "    <tr style=\"text-align: right;\">\n",
       "      <th></th>\n",
       "      <th>Police Force Area</th>\n",
       "      <th>Year of Appearance</th>\n",
       "      <th>Sex</th>\n",
       "      <th>Age Group</th>\n",
       "      <th>Offence Group</th>\n",
       "      <th>Outcome</th>\n",
       "      <th>Custodial Sentence Length</th>\n",
       "      <th>Count</th>\n",
       "    </tr>\n",
       "  </thead>\n",
       "  <tbody>\n",
       "    <tr>\n",
       "      <th>0</th>\n",
       "      <td>Avon and Somerset</td>\n",
       "      <td>2009</td>\n",
       "      <td>01: Male</td>\n",
       "      <td>01: Children</td>\n",
       "      <td>04: Theft Offences</td>\n",
       "      <td>13: Community sentence</td>\n",
       "      <td>NaN</td>\n",
       "      <td>1</td>\n",
       "    </tr>\n",
       "    <tr>\n",
       "      <th>1</th>\n",
       "      <td>Avon and Somerset</td>\n",
       "      <td>2009</td>\n",
       "      <td>01: Male</td>\n",
       "      <td>01: Children</td>\n",
       "      <td>03: Robbery</td>\n",
       "      <td>13: Community sentence</td>\n",
       "      <td>NaN</td>\n",
       "      <td>1</td>\n",
       "    </tr>\n",
       "    <tr>\n",
       "      <th>2</th>\n",
       "      <td>Avon and Somerset</td>\n",
       "      <td>2009</td>\n",
       "      <td>01: Male</td>\n",
       "      <td>01: Children</td>\n",
       "      <td>11: Summary non-motoring</td>\n",
       "      <td>13: Community sentence</td>\n",
       "      <td>NaN</td>\n",
       "      <td>1</td>\n",
       "    </tr>\n",
       "    <tr>\n",
       "      <th>3</th>\n",
       "      <td>Avon and Somerset</td>\n",
       "      <td>2009</td>\n",
       "      <td>01: Male</td>\n",
       "      <td>01: Children</td>\n",
       "      <td>11: Summary non-motoring</td>\n",
       "      <td>13: Community sentence</td>\n",
       "      <td>NaN</td>\n",
       "      <td>1</td>\n",
       "    </tr>\n",
       "    <tr>\n",
       "      <th>4</th>\n",
       "      <td>Avon and Somerset</td>\n",
       "      <td>2009</td>\n",
       "      <td>01: Male</td>\n",
       "      <td>01: Children</td>\n",
       "      <td>01: Violence against the person</td>\n",
       "      <td>08: Committed for trial</td>\n",
       "      <td>NaN</td>\n",
       "      <td>1</td>\n",
       "    </tr>\n",
       "  </tbody>\n",
       "</table>\n",
       "</div>"
      ],
      "text/plain": [
       "   Police Force Area  Year of Appearance       Sex     Age Group  \\\n",
       "0  Avon and Somerset                2009  01: Male  01: Children   \n",
       "1  Avon and Somerset                2009  01: Male  01: Children   \n",
       "2  Avon and Somerset                2009  01: Male  01: Children   \n",
       "3  Avon and Somerset                2009  01: Male  01: Children   \n",
       "4  Avon and Somerset                2009  01: Male  01: Children   \n",
       "\n",
       "                     Offence Group                  Outcome  \\\n",
       "0               04: Theft Offences   13: Community sentence   \n",
       "1                      03: Robbery   13: Community sentence   \n",
       "2         11: Summary non-motoring   13: Community sentence   \n",
       "3         11: Summary non-motoring   13: Community sentence   \n",
       "4  01: Violence against the person  08: Committed for trial   \n",
       "\n",
       "  Custodial Sentence Length  Count  \n",
       "0                       NaN      1  \n",
       "1                       NaN      1  \n",
       "2                       NaN      1  \n",
       "3                       NaN      1  \n",
       "4                       NaN      1  "
      ]
     },
     "execution_count": 5,
     "metadata": {},
     "output_type": "execute_result"
    }
   ],
   "source": [
    "df_2009.head()"
   ]
  },
  {
   "cell_type": "markdown",
   "id": "9c615a28-f783-403f-bea7-25ec6ae22f7e",
   "metadata": {},
   "source": [
    "#### Checking time periods for both dataframes"
   ]
  },
  {
   "cell_type": "code",
   "execution_count": 8,
   "id": "086a56f0-195b-4002-bb03-c8eec5568562",
   "metadata": {},
   "outputs": [
    {
     "data": {
      "text/plain": [
       "array([2017, 2018, 2019, 2020, 2021])"
      ]
     },
     "execution_count": 8,
     "metadata": {},
     "output_type": "execute_result"
    }
   ],
   "source": [
    "df['Year'].unique()"
   ]
  },
  {
   "cell_type": "code",
   "execution_count": 9,
   "id": "9e655876-6553-41c8-9fd9-32f1e23a4797",
   "metadata": {},
   "outputs": [
    {
     "data": {
      "text/plain": [
       "array([2009, 2010, 2011, 2012, 2013, 2014, 2015, 2016, 2017, 2018, 2019])"
      ]
     },
     "execution_count": 9,
     "metadata": {},
     "output_type": "execute_result"
    }
   ],
   "source": [
    "df_2009['Year of Appearance'].unique()"
   ]
  },
  {
   "cell_type": "code",
   "execution_count": 18,
   "id": "2c411802-4e21-4621-9f75-f692db865d51",
   "metadata": {},
   "outputs": [
    {
     "data": {
      "text/html": [
       "<div>\n",
       "<style scoped>\n",
       "    .dataframe tbody tr th:only-of-type {\n",
       "        vertical-align: middle;\n",
       "    }\n",
       "\n",
       "    .dataframe tbody tr th {\n",
       "        vertical-align: top;\n",
       "    }\n",
       "\n",
       "    .dataframe thead th {\n",
       "        text-align: right;\n",
       "    }\n",
       "</style>\n",
       "<table border=\"1\" class=\"dataframe\">\n",
       "  <thead>\n",
       "    <tr style=\"text-align: right;\">\n",
       "      <th></th>\n",
       "      <th>Year</th>\n",
       "      <th>Offence group</th>\n",
       "      <th>Sex</th>\n",
       "      <th>Age group</th>\n",
       "      <th>Police Force Area</th>\n",
       "      <th>Sentence Outcome</th>\n",
       "      <th>Custodial Sentence Length</th>\n",
       "      <th>Sentenced</th>\n",
       "    </tr>\n",
       "  </thead>\n",
       "  <tbody>\n",
       "    <tr>\n",
       "      <th>1409992</th>\n",
       "      <td>2021</td>\n",
       "      <td>01: Violence against the person</td>\n",
       "      <td>02: Male</td>\n",
       "      <td>03: Adults</td>\n",
       "      <td>Dyfed-Powys</td>\n",
       "      <td>07: Total Immediate custody</td>\n",
       "      <td>02: Custody - Over 1 month and up to and inclu...</td>\n",
       "      <td>1</td>\n",
       "    </tr>\n",
       "    <tr>\n",
       "      <th>1411577</th>\n",
       "      <td>2021</td>\n",
       "      <td>01: Violence against the person</td>\n",
       "      <td>02: Male</td>\n",
       "      <td>03: Adults</td>\n",
       "      <td>Dyfed-Powys</td>\n",
       "      <td>07: Total Immediate custody</td>\n",
       "      <td>01: Custody - Up to and including 1 month</td>\n",
       "      <td>1</td>\n",
       "    </tr>\n",
       "    <tr>\n",
       "      <th>1411803</th>\n",
       "      <td>2021</td>\n",
       "      <td>01: Violence against the person</td>\n",
       "      <td>02: Male</td>\n",
       "      <td>03: Adults</td>\n",
       "      <td>Dyfed-Powys</td>\n",
       "      <td>07: Total Immediate custody</td>\n",
       "      <td>03: Custody - Over 2 months and up to and incl...</td>\n",
       "      <td>1</td>\n",
       "    </tr>\n",
       "    <tr>\n",
       "      <th>1411804</th>\n",
       "      <td>2021</td>\n",
       "      <td>01: Violence against the person</td>\n",
       "      <td>02: Male</td>\n",
       "      <td>03: Adults</td>\n",
       "      <td>Dyfed-Powys</td>\n",
       "      <td>07: Total Immediate custody</td>\n",
       "      <td>04: Custody - More than 3 months and under 6 m...</td>\n",
       "      <td>4</td>\n",
       "    </tr>\n",
       "    <tr>\n",
       "      <th>1412017</th>\n",
       "      <td>2021</td>\n",
       "      <td>01: Violence against the person</td>\n",
       "      <td>02: Male</td>\n",
       "      <td>03: Adults</td>\n",
       "      <td>Dyfed-Powys</td>\n",
       "      <td>07: Total Immediate custody</td>\n",
       "      <td>01: Custody - Up to and including 1 month</td>\n",
       "      <td>1</td>\n",
       "    </tr>\n",
       "    <tr>\n",
       "      <th>...</th>\n",
       "      <td>...</td>\n",
       "      <td>...</td>\n",
       "      <td>...</td>\n",
       "      <td>...</td>\n",
       "      <td>...</td>\n",
       "      <td>...</td>\n",
       "      <td>...</td>\n",
       "      <td>...</td>\n",
       "    </tr>\n",
       "    <tr>\n",
       "      <th>1722077</th>\n",
       "      <td>2021</td>\n",
       "      <td>12: Summary motoring</td>\n",
       "      <td>02: Male</td>\n",
       "      <td>03: Adults</td>\n",
       "      <td>Dyfed-Powys</td>\n",
       "      <td>07: Total Immediate custody</td>\n",
       "      <td>02: Custody - Over 1 month and up to and inclu...</td>\n",
       "      <td>1</td>\n",
       "    </tr>\n",
       "    <tr>\n",
       "      <th>1722078</th>\n",
       "      <td>2021</td>\n",
       "      <td>12: Summary motoring</td>\n",
       "      <td>02: Male</td>\n",
       "      <td>03: Adults</td>\n",
       "      <td>Dyfed-Powys</td>\n",
       "      <td>07: Total Immediate custody</td>\n",
       "      <td>03: Custody - Over 2 months and up to and incl...</td>\n",
       "      <td>1</td>\n",
       "    </tr>\n",
       "    <tr>\n",
       "      <th>1722079</th>\n",
       "      <td>2021</td>\n",
       "      <td>12: Summary motoring</td>\n",
       "      <td>02: Male</td>\n",
       "      <td>03: Adults</td>\n",
       "      <td>Dyfed-Powys</td>\n",
       "      <td>07: Total Immediate custody</td>\n",
       "      <td>04: Custody - More than 3 months and under 6 m...</td>\n",
       "      <td>1</td>\n",
       "    </tr>\n",
       "    <tr>\n",
       "      <th>1722514</th>\n",
       "      <td>2021</td>\n",
       "      <td>12: Summary motoring</td>\n",
       "      <td>02: Male</td>\n",
       "      <td>03: Adults</td>\n",
       "      <td>Dyfed-Powys</td>\n",
       "      <td>07: Total Immediate custody</td>\n",
       "      <td>03: Custody - Over 2 months and up to and incl...</td>\n",
       "      <td>1</td>\n",
       "    </tr>\n",
       "    <tr>\n",
       "      <th>1722600</th>\n",
       "      <td>2021</td>\n",
       "      <td>12: Summary motoring</td>\n",
       "      <td>02: Male</td>\n",
       "      <td>03: Adults</td>\n",
       "      <td>Dyfed-Powys</td>\n",
       "      <td>07: Total Immediate custody</td>\n",
       "      <td>01: Custody - Up to and including 1 month</td>\n",
       "      <td>1</td>\n",
       "    </tr>\n",
       "  </tbody>\n",
       "</table>\n",
       "<p>159 rows × 8 columns</p>\n",
       "</div>"
      ],
      "text/plain": [
       "         Year                    Offence group       Sex   Age group  \\\n",
       "1409992  2021  01: Violence against the person  02: Male  03: Adults   \n",
       "1411577  2021  01: Violence against the person  02: Male  03: Adults   \n",
       "1411803  2021  01: Violence against the person  02: Male  03: Adults   \n",
       "1411804  2021  01: Violence against the person  02: Male  03: Adults   \n",
       "1412017  2021  01: Violence against the person  02: Male  03: Adults   \n",
       "...       ...                              ...       ...         ...   \n",
       "1722077  2021             12: Summary motoring  02: Male  03: Adults   \n",
       "1722078  2021             12: Summary motoring  02: Male  03: Adults   \n",
       "1722079  2021             12: Summary motoring  02: Male  03: Adults   \n",
       "1722514  2021             12: Summary motoring  02: Male  03: Adults   \n",
       "1722600  2021             12: Summary motoring  02: Male  03: Adults   \n",
       "\n",
       "        Police Force Area             Sentence Outcome  \\\n",
       "1409992       Dyfed-Powys  07: Total Immediate custody   \n",
       "1411577       Dyfed-Powys  07: Total Immediate custody   \n",
       "1411803       Dyfed-Powys  07: Total Immediate custody   \n",
       "1411804       Dyfed-Powys  07: Total Immediate custody   \n",
       "1412017       Dyfed-Powys  07: Total Immediate custody   \n",
       "...                   ...                          ...   \n",
       "1722077       Dyfed-Powys  07: Total Immediate custody   \n",
       "1722078       Dyfed-Powys  07: Total Immediate custody   \n",
       "1722079       Dyfed-Powys  07: Total Immediate custody   \n",
       "1722514       Dyfed-Powys  07: Total Immediate custody   \n",
       "1722600       Dyfed-Powys  07: Total Immediate custody   \n",
       "\n",
       "                                 Custodial Sentence Length  Sentenced  \n",
       "1409992  02: Custody - Over 1 month and up to and inclu...          1  \n",
       "1411577          01: Custody - Up to and including 1 month          1  \n",
       "1411803  03: Custody - Over 2 months and up to and incl...          1  \n",
       "1411804  04: Custody - More than 3 months and under 6 m...          4  \n",
       "1412017          01: Custody - Up to and including 1 month          1  \n",
       "...                                                    ...        ...  \n",
       "1722077  02: Custody - Over 1 month and up to and inclu...          1  \n",
       "1722078  03: Custody - Over 2 months and up to and incl...          1  \n",
       "1722079  04: Custody - More than 3 months and under 6 m...          1  \n",
       "1722514  03: Custody - Over 2 months and up to and incl...          1  \n",
       "1722600          01: Custody - Up to and including 1 month          1  \n",
       "\n",
       "[159 rows x 8 columns]"
      ]
     },
     "execution_count": 18,
     "metadata": {},
     "output_type": "execute_result"
    }
   ],
   "source": [
    "filt1= df['Police Force Area'] == \"Dyfed-Powys\"\n",
    "filt2= df['Year'] == 2021\n",
    "filt3= df['Sentence Outcome'] == \"07: Total Immediate custody\"\n",
    "df[filt1 & filt2 & filt3]"
   ]
  },
  {
   "cell_type": "code",
   "execution_count": null,
   "id": "a4ec23d3-c263-4a14-9d01-0db80bc3bbd5",
   "metadata": {},
   "outputs": [],
   "source": []
  },
  {
   "cell_type": "markdown",
   "id": "d7c06abf-5dbb-464f-8d20-487ba1c4e962",
   "metadata": {},
   "source": [
    "#### Right, the first thing we need to address is the overlapping time series. Let's remove all 2017, 2018 and 2019 values from df_2009"
   ]
  },
  {
   "cell_type": "code",
   "execution_count": 11,
   "id": "8c4c2b32-9a1a-469e-bcfd-b7094cdda301",
   "metadata": {},
   "outputs": [
    {
     "data": {
      "text/plain": [
       "array([2009, 2010, 2011, 2012, 2013, 2014, 2015, 2016])"
      ]
     },
     "execution_count": 11,
     "metadata": {},
     "output_type": "execute_result"
    }
   ],
   "source": [
    "filt = df_2009['Year of Appearance'] < 2017\n",
    "df_2009 = df_2009[filt]\n",
    "df_2009['Year of Appearance'].unique()"
   ]
  },
  {
   "cell_type": "markdown",
   "id": "469acbd2-57c0-449e-bf8b-2eec907b3942",
   "metadata": {},
   "source": [
    "#### Renaming and re-ordering columns"
   ]
  },
  {
   "cell_type": "code",
   "execution_count": 12,
   "id": "6a874518-499d-4f65-8195-e7e69bce6eb9",
   "metadata": {},
   "outputs": [],
   "source": [
    "df.columns = ['year', 'offence', 'sex', 'age_group', 'pfa', 'outcome', 'sentence_len', 'freq']\n",
    "df_2009.columns = ['pfa', 'year', 'sex', 'age_group', 'offence', 'outcome', 'sentence_len', 'freq']\n",
    "\n",
    "df_column_order = ['year', 'pfa', 'sex', 'age_group', 'offence', 'outcome', 'sentence_len', 'freq']\n",
    "df = df[df_column_order]\n",
    "df_2009 = df_2009[df_column_order]"
   ]
  },
  {
   "cell_type": "markdown",
   "id": "b5201545-daa8-4fbd-b8f6-744f5d1ea0fb",
   "metadata": {},
   "source": [
    "Removing sentence length prefixes"
   ]
  },
  {
   "cell_type": "code",
   "execution_count": 13,
   "id": "5d7800e5-7696-475a-ab1d-5e5e46d4c645",
   "metadata": {},
   "outputs": [],
   "source": [
    "df['sentence_len'] = df['sentence_len'].str.replace(\"^\\S*: \\S* - \",\"\", regex=True)\n",
    "df_2009['sentence_len'] = df_2009['sentence_len'].str.replace(\"\\d\\d: \",\"\", regex=True)"
   ]
  },
  {
   "cell_type": "markdown",
   "id": "894ef276-79f3-4bb9-b70d-08cadaa6c5af",
   "metadata": {},
   "source": [
    "Concatenating the two dataframes"
   ]
  },
  {
   "cell_type": "code",
   "execution_count": 15,
   "id": "b1191c04-7d5e-4c7b-8f18-b78d63d7f245",
   "metadata": {},
   "outputs": [],
   "source": [
    "df_combined = pd.concat([df_2009, df])"
   ]
  },
  {
   "cell_type": "code",
   "execution_count": 16,
   "id": "196a9cdf-f07c-4bec-8387-340b2b27ccff",
   "metadata": {},
   "outputs": [],
   "source": [
    "#Regexing unnecessary code prefixes\n",
    "df_combined['outcome'] = df_combined['outcome'].str.replace(\"\\d\\d: \",\"\", regex=True)\n",
    "df_combined['sex'] = df_combined['sex'].str.replace(\"\\d\\d: \",\"\", regex=True)\n",
    "df_combined['age_group'] = df_combined['age_group'].str.replace(\"\\d\\d: \",\"\", regex=True)\n",
    "df_combined['offence'] = df_combined['offence'].str.replace(\"\\d\\d: \",\"\", regex=True)"
   ]
  },
  {
   "cell_type": "code",
   "execution_count": 17,
   "id": "08c22707-670b-41f8-abc9-0fedbb15b655",
   "metadata": {},
   "outputs": [],
   "source": [
    "#Stansardising outcomes of interest\n",
    "df_combined['outcome'] = df_combined['outcome'].str.replace(\"(Total Immediate custody)\",\"Immediate custody\", regex=True)\n",
    "df_combined['outcome'] = df_combined['outcome'].str.replace(\"(Total Community sentence)\",\"Community sentence\", regex=True)"
   ]
  },
  {
   "cell_type": "code",
   "execution_count": 18,
   "id": "ddd5ae45-44c7-4124-bf94-2af467bcb3ac",
   "metadata": {},
   "outputs": [],
   "source": [
    "#Standardising sentence lengths\n",
    "df_combined['sentence_len'] = df_combined['sentence_len'].str.replace(\"(Over)\",\"More than\", regex=True)\n",
    "df_combined['sentence_len'] = df_combined['sentence_len'].str.replace(\"( and including)\",\"\", regex=True)\n",
    "df_combined['sentence_len'] = df_combined['sentence_len'].str.replace(\"(to less than)\",\"and under\", regex=True)\n",
    "df_combined['sentence_len'] = df_combined['sentence_len'].str.replace(\"Life$\",\"Life sentence\", regex=True)\n",
    "df_combined['sentence_len'] = df_combined['sentence_len'].str.capitalize()"
   ]
  },
  {
   "cell_type": "code",
   "execution_count": 19,
   "id": "9739fd01-e0a6-4528-88cd-6fd043fd4937",
   "metadata": {},
   "outputs": [],
   "source": [
    "#Applying filters\n",
    "filt1 = df_combined['sex'] == 'Female'\n",
    "filt2 = df_combined['outcome'].isin(['Immediate custody', 'Community sentence','Suspended sentence'])\n",
    "filt3 = df_combined['age_group'].isin([\"Adults\", \"Young adults\"])\n",
    "filt4 = df_combined['pfa'].isin([\"Special/miscellaneous and unknown police forces\", \"City of London\"])\n",
    "filt = filt1 & filt2 & filt3 & ~filt4\n",
    "women_custody = df_combined[filt]"
   ]
  },
  {
   "cell_type": "code",
   "execution_count": 21,
   "id": "6993d1f4-2f7e-4504-bf30-66eb38244f95",
   "metadata": {},
   "outputs": [],
   "source": [
    "#Outputting data for continued analysis\n",
    "women_custody.to_csv('../data/interim/PFA_2009-21_women_cust_comm_sus.csv', index=False)"
   ]
  },
  {
   "cell_type": "code",
   "execution_count": null,
   "id": "f1d75d5e-f39b-4fbb-b972-41b68c5d646e",
   "metadata": {},
   "outputs": [],
   "source": []
  }
 ],
 "metadata": {
  "kernelspec": {
   "display_name": "Python 3 (ipykernel)",
   "language": "python",
   "name": "python3"
  },
  "language_info": {
   "codemirror_mode": {
    "name": "ipython",
    "version": 3
   },
   "file_extension": ".py",
   "mimetype": "text/x-python",
   "name": "python",
   "nbconvert_exporter": "python",
   "pygments_lexer": "ipython3",
   "version": "3.9.6"
  }
 },
 "nbformat": 4,
 "nbformat_minor": 5
}
