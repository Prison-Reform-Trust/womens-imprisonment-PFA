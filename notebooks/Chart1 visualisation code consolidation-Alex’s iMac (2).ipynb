{
 "cells": [
  {
   "cell_type": "markdown",
   "metadata": {},
   "source": [
    "# Chart 1: Code consolidation"
   ]
  },
  {
   "cell_type": "code",
   "execution_count": 1,
   "metadata": {},
   "outputs": [],
   "source": [
    "import pandas as pd\n",
    "import textwrap\n",
    "import plotly.graph_objs as go\n",
    "import plotly.io as pio\n",
    "from pathlib import Path #To create unique filenames for each PFA chart\n",
    "import itertools\n",
    "\n",
    "import src.data.utilities as utils\n",
    "import src.visualization.prt_theme as prt_theme\n",
    "\n",
    "config = utils.read_config()\n",
    "pio.templates.default = \"prt_template\""
   ]
  },
  {
   "cell_type": "code",
   "execution_count": 26,
   "metadata": {},
   "outputs": [],
   "source": [
    "def loadData(status='interim', filename='women_cust_sentence_length_PFA_2010-2022.csv') -> pd.DataFrame:\n",
    "    \"\"\"Load CSV file into Pandas DataFrame and convert object columns to categories when they meet criteria in `categoryColumns()`\n",
    "\n",
    "    Parameters\n",
    "    ----------\n",
    "    status : {'raw', 'interim', 'processed'}, default is 'interim'\n",
    "        Status of the data processing.\n",
    "        * If 'raw' file is located in \"rawFilePath\" within config file\n",
    "        * If 'interim', file is located in \"intFilePath\"\n",
    "        * If 'processed', file is located in \"clnFilePath\"\n",
    "    filename : str, default is 'PFA_2010-22_women_cust_comm_sus.csv'\n",
    "        Name of CSV file to be loaded.\n",
    "\n",
    "    Returns\n",
    "    -------\n",
    "    DataFrame\n",
    "        CSV data is returned as Pandas DataFrame with any eligible object columns converted into category columns to limit memory requirements\n",
    "    \"\"\"\n",
    "    paths = {\n",
    "        \"raw\": 'rawFilePath',\n",
    "        \"interim\": 'intFilePath',\n",
    "        \"processed\": 'clnFilePath'\n",
    "    }\n",
    "\n",
    "    dfPath=f\"{config['data'][paths[status]]}{filename}\"\n",
    "    df = pd.read_csv(dfPath)\n",
    "    print('Data loaded')\n",
    "    return utils.categoryColumns(df)"
   ]
  },
  {
   "cell_type": "code",
   "execution_count": 27,
   "metadata": {},
   "outputs": [
    {
     "name": "stdout",
     "output_type": "stream",
     "text": [
      "Data loaded\n"
     ]
    }
   ],
   "source": [
    "df = loadData()"
   ]
  },
  {
   "cell_type": "code",
   "execution_count": 28,
   "metadata": {},
   "outputs": [
    {
     "data": {
      "text/html": [
       "<div>\n",
       "<style scoped>\n",
       "    .dataframe tbody tr th:only-of-type {\n",
       "        vertical-align: middle;\n",
       "    }\n",
       "\n",
       "    .dataframe tbody tr th {\n",
       "        vertical-align: top;\n",
       "    }\n",
       "\n",
       "    .dataframe thead th {\n",
       "        text-align: right;\n",
       "    }\n",
       "</style>\n",
       "<table border=\"1\" class=\"dataframe\">\n",
       "  <thead>\n",
       "    <tr style=\"text-align: right;\">\n",
       "      <th></th>\n",
       "      <th>pfa</th>\n",
       "      <th>year</th>\n",
       "      <th>sentence_length</th>\n",
       "      <th>freq</th>\n",
       "    </tr>\n",
       "  </thead>\n",
       "  <tbody>\n",
       "    <tr>\n",
       "      <th>0</th>\n",
       "      <td>Avon and Somerset</td>\n",
       "      <td>2010</td>\n",
       "      <td>12 months or more</td>\n",
       "      <td>44</td>\n",
       "    </tr>\n",
       "    <tr>\n",
       "      <th>1</th>\n",
       "      <td>Avon and Somerset</td>\n",
       "      <td>2010</td>\n",
       "      <td>6 months to less than 12 months</td>\n",
       "      <td>16</td>\n",
       "    </tr>\n",
       "    <tr>\n",
       "      <th>2</th>\n",
       "      <td>Avon and Somerset</td>\n",
       "      <td>2010</td>\n",
       "      <td>Less than 6 months</td>\n",
       "      <td>113</td>\n",
       "    </tr>\n",
       "    <tr>\n",
       "      <th>3</th>\n",
       "      <td>Avon and Somerset</td>\n",
       "      <td>2011</td>\n",
       "      <td>12 months or more</td>\n",
       "      <td>43</td>\n",
       "    </tr>\n",
       "    <tr>\n",
       "      <th>4</th>\n",
       "      <td>Avon and Somerset</td>\n",
       "      <td>2011</td>\n",
       "      <td>6 months to less than 12 months</td>\n",
       "      <td>21</td>\n",
       "    </tr>\n",
       "    <tr>\n",
       "      <th>...</th>\n",
       "      <td>...</td>\n",
       "      <td>...</td>\n",
       "      <td>...</td>\n",
       "      <td>...</td>\n",
       "    </tr>\n",
       "    <tr>\n",
       "      <th>1633</th>\n",
       "      <td>Wiltshire</td>\n",
       "      <td>2021</td>\n",
       "      <td>6 months to less than 12 months</td>\n",
       "      <td>3</td>\n",
       "    </tr>\n",
       "    <tr>\n",
       "      <th>1634</th>\n",
       "      <td>Wiltshire</td>\n",
       "      <td>2021</td>\n",
       "      <td>Less than 6 months</td>\n",
       "      <td>15</td>\n",
       "    </tr>\n",
       "    <tr>\n",
       "      <th>1635</th>\n",
       "      <td>Wiltshire</td>\n",
       "      <td>2022</td>\n",
       "      <td>12 months or more</td>\n",
       "      <td>7</td>\n",
       "    </tr>\n",
       "    <tr>\n",
       "      <th>1636</th>\n",
       "      <td>Wiltshire</td>\n",
       "      <td>2022</td>\n",
       "      <td>6 months to less than 12 months</td>\n",
       "      <td>5</td>\n",
       "    </tr>\n",
       "    <tr>\n",
       "      <th>1637</th>\n",
       "      <td>Wiltshire</td>\n",
       "      <td>2022</td>\n",
       "      <td>Less than 6 months</td>\n",
       "      <td>18</td>\n",
       "    </tr>\n",
       "  </tbody>\n",
       "</table>\n",
       "<p>1638 rows × 4 columns</p>\n",
       "</div>"
      ],
      "text/plain": [
       "                    pfa  year                  sentence_length  freq\n",
       "0     Avon and Somerset  2010                12 months or more    44\n",
       "1     Avon and Somerset  2010  6 months to less than 12 months    16\n",
       "2     Avon and Somerset  2010               Less than 6 months   113\n",
       "3     Avon and Somerset  2011                12 months or more    43\n",
       "4     Avon and Somerset  2011  6 months to less than 12 months    21\n",
       "...                 ...   ...                              ...   ...\n",
       "1633          Wiltshire  2021  6 months to less than 12 months     3\n",
       "1634          Wiltshire  2021               Less than 6 months    15\n",
       "1635          Wiltshire  2022                12 months or more     7\n",
       "1636          Wiltshire  2022  6 months to less than 12 months     5\n",
       "1637          Wiltshire  2022               Less than 6 months    18\n",
       "\n",
       "[1638 rows x 4 columns]"
      ]
     },
     "execution_count": 28,
     "metadata": {},
     "output_type": "execute_result"
    }
   ],
   "source": [
    "my_df = df.copy()\n",
    "my_df"
   ]
  },
  {
   "cell_type": "code",
   "execution_count": 5,
   "metadata": {},
   "outputs": [],
   "source": [
    "def annotation_yvals():\n",
    "    y_list = [fig.data[i]['y'][-1] for i in range(len(fig.data))] #selecting last y value for each trace \n",
    "    return y_list"
   ]
  },
  {
   "cell_type": "code",
   "execution_count": 6,
   "metadata": {},
   "outputs": [],
   "source": [
    "def trace_max():\n",
    "    trace_max_list = [(fig.data[i]['y']).max() for i in range(len(fig.data))] #Selecting maximum value from each trace\n",
    "    return trace_max_list"
   ]
  },
  {
   "cell_type": "code",
   "execution_count": 7,
   "metadata": {},
   "outputs": [],
   "source": [
    "def check_duplicates(y_vals, trace_max):\n",
    "    duplicate_vals = [idx for idx, value in enumerate(y_vals) if y_vals.count(value) > 1]\n",
    "    if len(duplicate_vals) > 0:\n",
    "        print(f'Duplicates found: index {duplicate_vals}\\nUpdating...')\n",
    "        \n",
    "        max_i = 0\n",
    "        for idx in duplicate_vals:\n",
    "            if trace_max[idx] > max_i:\n",
    "                max_i = idx\n",
    "        y_vals[max_i] = y_vals[max_i] * 1.2\n",
    "        annotations[max_i]['y'] = y_vals[max_i]"
   ]
  },
  {
   "cell_type": "code",
   "execution_count": 8,
   "metadata": {},
   "outputs": [],
   "source": [
    "def check_overlap(l, space):\n",
    "    return all(x2-x1 >= space for x1,x2 in itertools.pairwise(sorted(l)))"
   ]
  },
  {
   "cell_type": "code",
   "execution_count": 9,
   "metadata": {},
   "outputs": [],
   "source": [
    "def adjust_overlap(l, space):\n",
    "    for (idx1,num1), (idx2,num2) in itertools.permutations(enumerate(l), 2):\n",
    "        difference = abs(l[idx1] - l[idx2])\n",
    "        if difference < space:\n",
    "            largest = max((idx1,num1), (idx2,num2), key=lambda x:x[1])\n",
    "            largest_index = largest[0]\n",
    "            l[largest_index] = l[largest_index] + (space - difference)\n",
    "            annotations[largest_index]['y'] = l[largest_index]"
   ]
  },
  {
   "cell_type": "code",
   "execution_count": null,
   "metadata": {},
   "outputs": [],
   "source": []
  },
  {
   "cell_type": "code",
   "execution_count": 32,
   "metadata": {},
   "outputs": [
    {
     "data": {
      "application/vnd.plotly.v1+json": {
       "config": {
        "plotlyServerURL": "https://plot.ly"
       },
       "data": [
        {
         "hovertemplate": "%{y}<extra></extra>",
         "meta": "Avon and Somerset",
         "mode": "lines",
         "name": "12 months or more",
         "type": "scatter",
         "x": [
          2010,
          2011,
          2012,
          2013,
          2014,
          2015,
          2016,
          2017,
          2018,
          2019,
          2020,
          2021,
          2022
         ],
         "y": [
          44,
          43,
          38,
          33,
          38,
          31,
          47,
          35,
          33,
          38,
          24,
          32,
          40
         ]
        },
        {
         "hovertemplate": "%{y}<extra></extra>",
         "meta": "Avon and Somerset",
         "mode": "lines",
         "name": "6 months to less than 12 months",
         "type": "scatter",
         "x": [
          2010,
          2011,
          2012,
          2013,
          2014,
          2015,
          2016,
          2017,
          2018,
          2019,
          2020,
          2021,
          2022
         ],
         "y": [
          16,
          21,
          12,
          10,
          14,
          8,
          12,
          15,
          18,
          24,
          8,
          7,
          11
         ]
        },
        {
         "hovertemplate": "%{y}<extra></extra>",
         "meta": "Avon and Somerset",
         "mode": "lines",
         "name": "Less than 6 months",
         "type": "scatter",
         "x": [
          2010,
          2011,
          2012,
          2013,
          2014,
          2015,
          2016,
          2017,
          2018,
          2019,
          2020,
          2021,
          2022
         ],
         "y": [
          113,
          142,
          119,
          134,
          144,
          126,
          105,
          108,
          97,
          89,
          71,
          64,
          65
         ]
        }
       ],
       "layout": {
        "annotations": [
         {
          "align": "left",
          "font": {
           "color": "#A01D28",
           "size": 10
          },
          "showarrow": false,
          "text": "12 months or more",
          "x": 2022,
          "xanchor": "left",
          "xref": "x",
          "y": 40,
          "yref": "y"
         },
         {
          "align": "left",
          "font": {
           "color": "#499CC9",
           "size": 10
          },
          "showarrow": false,
          "text": "6 months to less than 12 months",
          "x": 2022,
          "xanchor": "left",
          "xref": "x",
          "y": 11,
          "yref": "y"
         },
         {
          "align": "left",
          "font": {
           "color": "#F9A237",
           "size": 10
          },
          "showarrow": false,
          "text": "Less than 6 months",
          "x": 2022,
          "xanchor": "left",
          "xref": "x",
          "y": 65,
          "yref": "y"
         },
         {
          "align": "left",
          "font": {
           "size": 12
          },
          "showarrow": false,
          "text": "Source: Ministry of Justice, Criminal justice statistics",
          "x": -0.08,
          "xref": "paper",
          "y": -0.19,
          "yref": "paper"
         },
         {
          "align": "left",
          "font": {
           "size": 12
          },
          "showarrow": false,
          "text": "Women sentenced to custody",
          "x": 2010,
          "xanchor": "left",
          "xref": "x",
          "y": 1.04,
          "yref": "paper"
         }
        ],
        "height": 500,
        "hovermode": "x",
        "margin": {
         "b": 75,
         "l": 63,
         "r": 100
        },
        "template": {
         "layout": {
          "colorway": [
           "#A01D28",
           "#499CC9",
           "#F9A237",
           "#6FBA3A",
           "#573D6B"
          ],
          "font": {
           "color": "#54565B",
           "family": "Helvetica Neue, Arial",
           "size": 12
          },
          "modebar": {
           "activecolor": "#A01D28"
          },
          "paper_bgcolor": "#F7F2F2",
          "plot_bgcolor": "#F7F2F2",
          "showlegend": false,
          "title": {
           "font": {
            "family": "Helvetica Neue, Arial",
            "size": 17
           },
           "y": 0.94,
           "yanchor": "bottom"
          },
          "xaxis": {
           "showgrid": false,
           "tickcolor": "#54565B"
          }
         }
        },
        "title": {
         "text": "<b>Use of immediate imprisonment for women in<br>Avon and Somerset 2009–2021</b>"
        },
        "width": 655,
        "xaxis": {
         "dtick": 2,
         "range": [
          2009.7,
          2022.3
         ],
         "tick0": 2010
        },
        "yaxis": {
         "range": [
          0,
          204
         ],
         "tick0": 0,
         "tickformat": ",.0f",
         "title": {
          "text": ""
         }
        }
       }
      }
     },
     "metadata": {},
     "output_type": "display_data"
    },
    {
     "data": {
      "application/vnd.plotly.v1+json": {
       "config": {
        "plotlyServerURL": "https://plot.ly"
       },
       "data": [
        {
         "hovertemplate": "%{y}<extra></extra>",
         "meta": "Bedfordshire",
         "mode": "lines",
         "name": "12 months or more",
         "type": "scatter",
         "x": [
          2010,
          2011,
          2012,
          2013,
          2014,
          2015,
          2016,
          2017,
          2018,
          2019,
          2020,
          2021,
          2022
         ],
         "y": [
          33,
          17,
          39,
          6,
          17,
          25,
          15,
          14,
          8,
          8,
          8,
          6,
          14
         ]
        },
        {
         "hovertemplate": "%{y}<extra></extra>",
         "meta": "Bedfordshire",
         "mode": "lines",
         "name": "6 months to less than 12 months",
         "type": "scatter",
         "x": [
          2010,
          2011,
          2012,
          2013,
          2014,
          2015,
          2016,
          2017,
          2018,
          2019,
          2020,
          2021,
          2022
         ],
         "y": [
          18,
          16,
          8,
          2,
          4,
          4,
          5,
          4,
          2,
          1,
          3,
          4,
          4
         ]
        },
        {
         "hovertemplate": "%{y}<extra></extra>",
         "meta": "Bedfordshire",
         "mode": "lines",
         "name": "Less than 6 months",
         "type": "scatter",
         "x": [
          2010,
          2011,
          2012,
          2013,
          2014,
          2015,
          2016,
          2017,
          2018,
          2019,
          2020,
          2021,
          2022
         ],
         "y": [
          48,
          42,
          37,
          34,
          48,
          51,
          33,
          35,
          26,
          22,
          12,
          10,
          20
         ]
        }
       ],
       "layout": {
        "annotations": [
         {
          "align": "left",
          "font": {
           "color": "#A01D28",
           "size": 10
          },
          "showarrow": false,
          "text": "12 months or more",
          "x": 2022,
          "xanchor": "left",
          "xref": "x",
          "y": 14,
          "yref": "y"
         },
         {
          "align": "left",
          "font": {
           "color": "#499CC9",
           "size": 10
          },
          "showarrow": false,
          "text": "6 months to less than 12 months",
          "x": 2022,
          "xanchor": "left",
          "xref": "x",
          "y": 4,
          "yref": "y"
         },
         {
          "align": "left",
          "font": {
           "color": "#F9A237",
           "size": 10
          },
          "showarrow": false,
          "text": "Less than 6 months",
          "x": 2022,
          "xanchor": "left",
          "xref": "x",
          "y": 20,
          "yref": "y"
         },
         {
          "align": "left",
          "font": {
           "size": 12
          },
          "showarrow": false,
          "text": "Source: Ministry of Justice, Criminal justice statistics",
          "x": -0.08,
          "xref": "paper",
          "y": -0.19,
          "yref": "paper"
         },
         {
          "align": "left",
          "font": {
           "size": 12
          },
          "showarrow": false,
          "text": "Women sentenced to custody",
          "x": 2010,
          "xanchor": "left",
          "xref": "x",
          "y": 1.04,
          "yref": "paper"
         }
        ],
        "height": 500,
        "hovermode": "x",
        "margin": {
         "b": 75,
         "l": 63,
         "r": 100
        },
        "template": {
         "layout": {
          "colorway": [
           "#A01D28",
           "#499CC9",
           "#F9A237",
           "#6FBA3A",
           "#573D6B"
          ],
          "font": {
           "color": "#54565B",
           "family": "Helvetica Neue, Arial",
           "size": 12
          },
          "modebar": {
           "activecolor": "#A01D28"
          },
          "paper_bgcolor": "#F7F2F2",
          "plot_bgcolor": "#F7F2F2",
          "showlegend": false,
          "title": {
           "font": {
            "family": "Helvetica Neue, Arial",
            "size": 17
           },
           "y": 0.94,
           "yanchor": "bottom"
          },
          "xaxis": {
           "showgrid": false,
           "tickcolor": "#54565B"
          }
         }
        },
        "title": {
         "text": "<b>Use of immediate imprisonment for women in<br>Bedfordshire 2009–2021</b>"
        },
        "width": 655,
        "xaxis": {
         "dtick": 2,
         "range": [
          2009.7,
          2022.3
         ],
         "tick0": 2010
        },
        "yaxis": {
         "range": [
          0,
          52
         ],
         "tick0": 0,
         "tickformat": ",.0f",
         "title": {
          "text": ""
         }
        }
       }
      }
     },
     "metadata": {},
     "output_type": "display_data"
    },
    {
     "data": {
      "application/vnd.plotly.v1+json": {
       "config": {
        "plotlyServerURL": "https://plot.ly"
       },
       "data": [
        {
         "hovertemplate": "%{y}<extra></extra>",
         "meta": "Cambridgeshire",
         "mode": "lines",
         "name": "12 months or more",
         "type": "scatter",
         "x": [
          2010,
          2011,
          2012,
          2013,
          2014,
          2015,
          2016,
          2017,
          2018,
          2019,
          2020,
          2021,
          2022
         ],
         "y": [
          19,
          24,
          27,
          27,
          31,
          26,
          20,
          21,
          17,
          19,
          27,
          12,
          13
         ]
        },
        {
         "hovertemplate": "%{y}<extra></extra>",
         "meta": "Cambridgeshire",
         "mode": "lines",
         "name": "6 months to less than 12 months",
         "type": "scatter",
         "x": [
          2010,
          2011,
          2012,
          2013,
          2014,
          2015,
          2016,
          2017,
          2018,
          2019,
          2020,
          2021,
          2022
         ],
         "y": [
          13,
          11,
          12,
          18,
          7,
          7,
          8,
          9,
          9,
          9,
          8,
          5,
          10
         ]
        },
        {
         "hovertemplate": "%{y}<extra></extra>",
         "meta": "Cambridgeshire",
         "mode": "lines",
         "name": "Less than 6 months",
         "type": "scatter",
         "x": [
          2010,
          2011,
          2012,
          2013,
          2014,
          2015,
          2016,
          2017,
          2018,
          2019,
          2020,
          2021,
          2022
         ],
         "y": [
          108,
          76,
          80,
          85,
          53,
          56,
          84,
          85,
          90,
          61,
          43,
          30,
          45
         ]
        }
       ],
       "layout": {
        "annotations": [
         {
          "align": "left",
          "font": {
           "color": "#A01D28",
           "size": 10
          },
          "showarrow": false,
          "text": "12 months or more",
          "x": 2022,
          "xanchor": "left",
          "xref": "x",
          "y": 15,
          "yref": "y"
         },
         {
          "align": "left",
          "font": {
           "color": "#499CC9",
           "size": 10
          },
          "showarrow": false,
          "text": "6 months to less than 12 months",
          "x": 2022,
          "xanchor": "left",
          "xref": "x",
          "y": 10,
          "yref": "y"
         },
         {
          "align": "left",
          "font": {
           "color": "#F9A237",
           "size": 10
          },
          "showarrow": false,
          "text": "Less than 6 months",
          "x": 2022,
          "xanchor": "left",
          "xref": "x",
          "y": 45,
          "yref": "y"
         },
         {
          "align": "left",
          "font": {
           "size": 12
          },
          "showarrow": false,
          "text": "Source: Ministry of Justice, Criminal justice statistics",
          "x": -0.08,
          "xref": "paper",
          "y": -0.19,
          "yref": "paper"
         },
         {
          "align": "left",
          "font": {
           "size": 12
          },
          "showarrow": false,
          "text": "Women sentenced to custody",
          "x": 2010,
          "xanchor": "left",
          "xref": "x",
          "y": 1.04,
          "yref": "paper"
         }
        ],
        "height": 500,
        "hovermode": "x",
        "margin": {
         "b": 75,
         "l": 63,
         "r": 100
        },
        "template": {
         "layout": {
          "colorway": [
           "#A01D28",
           "#499CC9",
           "#F9A237",
           "#6FBA3A",
           "#573D6B"
          ],
          "font": {
           "color": "#54565B",
           "family": "Helvetica Neue, Arial",
           "size": 12
          },
          "modebar": {
           "activecolor": "#A01D28"
          },
          "paper_bgcolor": "#F7F2F2",
          "plot_bgcolor": "#F7F2F2",
          "showlegend": false,
          "title": {
           "font": {
            "family": "Helvetica Neue, Arial",
            "size": 17
           },
           "y": 0.94,
           "yanchor": "bottom"
          },
          "xaxis": {
           "showgrid": false,
           "tickcolor": "#54565B"
          }
         }
        },
        "title": {
         "text": "<b>Use of immediate imprisonment for women in<br>Cambridgeshire 2009–2021</b>"
        },
        "width": 655,
        "xaxis": {
         "dtick": 2,
         "range": [
          2009.7,
          2022.3
         ],
         "tick0": 2010
        },
        "yaxis": {
         "range": [
          0,
          204
         ],
         "tick0": 0,
         "tickformat": ",.0f",
         "title": {
          "text": ""
         }
        }
       }
      }
     },
     "metadata": {},
     "output_type": "display_data"
    },
    {
     "data": {
      "application/vnd.plotly.v1+json": {
       "config": {
        "plotlyServerURL": "https://plot.ly"
       },
       "data": [
        {
         "hovertemplate": "%{y}<extra></extra>",
         "meta": "Cheshire",
         "mode": "lines",
         "name": "12 months or more",
         "type": "scatter",
         "x": [
          2010,
          2011,
          2012,
          2013,
          2014,
          2015,
          2016,
          2017,
          2018,
          2019,
          2020,
          2021,
          2022
         ],
         "y": [
          24,
          33,
          28,
          25,
          30,
          40,
          28,
          31,
          48,
          37,
          35,
          50,
          26
         ]
        },
        {
         "hovertemplate": "%{y}<extra></extra>",
         "meta": "Cheshire",
         "mode": "lines",
         "name": "6 months to less than 12 months",
         "type": "scatter",
         "x": [
          2010,
          2011,
          2012,
          2013,
          2014,
          2015,
          2016,
          2017,
          2018,
          2019,
          2020,
          2021,
          2022
         ],
         "y": [
          9,
          13,
          5,
          8,
          14,
          9,
          13,
          12,
          10,
          12,
          8,
          12,
          7
         ]
        },
        {
         "hovertemplate": "%{y}<extra></extra>",
         "meta": "Cheshire",
         "mode": "lines",
         "name": "Less than 6 months",
         "type": "scatter",
         "x": [
          2010,
          2011,
          2012,
          2013,
          2014,
          2015,
          2016,
          2017,
          2018,
          2019,
          2020,
          2021,
          2022
         ],
         "y": [
          102,
          83,
          87,
          83,
          125,
          132,
          126,
          129,
          118,
          100,
          80,
          55,
          41
         ]
        }
       ],
       "layout": {
        "annotations": [
         {
          "align": "left",
          "font": {
           "color": "#A01D28",
           "size": 10
          },
          "showarrow": false,
          "text": "12 months or more",
          "x": 2022,
          "xanchor": "left",
          "xref": "x",
          "y": 26,
          "yref": "y"
         },
         {
          "align": "left",
          "font": {
           "color": "#499CC9",
           "size": 10
          },
          "showarrow": false,
          "text": "6 months to less than 12 months",
          "x": 2022,
          "xanchor": "left",
          "xref": "x",
          "y": 7,
          "yref": "y"
         },
         {
          "align": "left",
          "font": {
           "color": "#F9A237",
           "size": 10
          },
          "showarrow": false,
          "text": "Less than 6 months",
          "x": 2022,
          "xanchor": "left",
          "xref": "x",
          "y": 41,
          "yref": "y"
         },
         {
          "align": "left",
          "font": {
           "size": 12
          },
          "showarrow": false,
          "text": "Source: Ministry of Justice, Criminal justice statistics",
          "x": -0.08,
          "xref": "paper",
          "y": -0.19,
          "yref": "paper"
         },
         {
          "align": "left",
          "font": {
           "size": 12
          },
          "showarrow": false,
          "text": "Women sentenced to custody",
          "x": 2010,
          "xanchor": "left",
          "xref": "x",
          "y": 1.04,
          "yref": "paper"
         }
        ],
        "height": 500,
        "hovermode": "x",
        "margin": {
         "b": 75,
         "l": 63,
         "r": 100
        },
        "template": {
         "layout": {
          "colorway": [
           "#A01D28",
           "#499CC9",
           "#F9A237",
           "#6FBA3A",
           "#573D6B"
          ],
          "font": {
           "color": "#54565B",
           "family": "Helvetica Neue, Arial",
           "size": 12
          },
          "modebar": {
           "activecolor": "#A01D28"
          },
          "paper_bgcolor": "#F7F2F2",
          "plot_bgcolor": "#F7F2F2",
          "showlegend": false,
          "title": {
           "font": {
            "family": "Helvetica Neue, Arial",
            "size": 17
           },
           "y": 0.94,
           "yanchor": "bottom"
          },
          "xaxis": {
           "showgrid": false,
           "tickcolor": "#54565B"
          }
         }
        },
        "title": {
         "text": "<b>Use of immediate imprisonment for women in<br>Cheshire 2009–2021</b>"
        },
        "width": 655,
        "xaxis": {
         "dtick": 2,
         "range": [
          2009.7,
          2022.3
         ],
         "tick0": 2010
        },
        "yaxis": {
         "range": [
          0,
          204
         ],
         "tick0": 0,
         "tickformat": ",.0f",
         "title": {
          "text": ""
         }
        }
       }
      }
     },
     "metadata": {},
     "output_type": "display_data"
    },
    {
     "data": {
      "application/vnd.plotly.v1+json": {
       "config": {
        "plotlyServerURL": "https://plot.ly"
       },
       "data": [
        {
         "hovertemplate": "%{y}<extra></extra>",
         "meta": "Cleveland",
         "mode": "lines",
         "name": "12 months or more",
         "type": "scatter",
         "x": [
          2010,
          2011,
          2012,
          2013,
          2014,
          2015,
          2016,
          2017,
          2018,
          2019,
          2020,
          2021,
          2022
         ],
         "y": [
          36,
          28,
          15,
          26,
          19,
          20,
          26,
          25,
          32,
          33,
          19,
          36,
          38
         ]
        },
        {
         "hovertemplate": "%{y}<extra></extra>",
         "meta": "Cleveland",
         "mode": "lines",
         "name": "6 months to less than 12 months",
         "type": "scatter",
         "x": [
          2010,
          2011,
          2012,
          2013,
          2014,
          2015,
          2016,
          2017,
          2018,
          2019,
          2020,
          2021,
          2022
         ],
         "y": [
          15,
          9,
          7,
          5,
          1,
          9,
          13,
          8,
          5,
          9,
          7,
          8,
          5
         ]
        },
        {
         "hovertemplate": "%{y}<extra></extra>",
         "meta": "Cleveland",
         "mode": "lines",
         "name": "Less than 6 months",
         "type": "scatter",
         "x": [
          2010,
          2011,
          2012,
          2013,
          2014,
          2015,
          2016,
          2017,
          2018,
          2019,
          2020,
          2021,
          2022
         ],
         "y": [
          65,
          52,
          70,
          62,
          71,
          49,
          69,
          119,
          103,
          56,
          29,
          59,
          57
         ]
        }
       ],
       "layout": {
        "annotations": [
         {
          "align": "left",
          "font": {
           "color": "#A01D28",
           "size": 10
          },
          "showarrow": false,
          "text": "12 months or more",
          "x": 2022,
          "xanchor": "left",
          "xref": "x",
          "y": 38,
          "yref": "y"
         },
         {
          "align": "left",
          "font": {
           "color": "#499CC9",
           "size": 10
          },
          "showarrow": false,
          "text": "6 months to less than 12 months",
          "x": 2022,
          "xanchor": "left",
          "xref": "x",
          "y": 5,
          "yref": "y"
         },
         {
          "align": "left",
          "font": {
           "color": "#F9A237",
           "size": 10
          },
          "showarrow": false,
          "text": "Less than 6 months",
          "x": 2022,
          "xanchor": "left",
          "xref": "x",
          "y": 57,
          "yref": "y"
         },
         {
          "align": "left",
          "font": {
           "size": 12
          },
          "showarrow": false,
          "text": "Source: Ministry of Justice, Criminal justice statistics",
          "x": -0.08,
          "xref": "paper",
          "y": -0.19,
          "yref": "paper"
         },
         {
          "align": "left",
          "font": {
           "size": 12
          },
          "showarrow": false,
          "text": "Women sentenced to custody",
          "x": 2010,
          "xanchor": "left",
          "xref": "x",
          "y": 1.04,
          "yref": "paper"
         }
        ],
        "height": 500,
        "hovermode": "x",
        "margin": {
         "b": 75,
         "l": 63,
         "r": 100
        },
        "template": {
         "layout": {
          "colorway": [
           "#A01D28",
           "#499CC9",
           "#F9A237",
           "#6FBA3A",
           "#573D6B"
          ],
          "font": {
           "color": "#54565B",
           "family": "Helvetica Neue, Arial",
           "size": 12
          },
          "modebar": {
           "activecolor": "#A01D28"
          },
          "paper_bgcolor": "#F7F2F2",
          "plot_bgcolor": "#F7F2F2",
          "showlegend": false,
          "title": {
           "font": {
            "family": "Helvetica Neue, Arial",
            "size": 17
           },
           "y": 0.94,
           "yanchor": "bottom"
          },
          "xaxis": {
           "showgrid": false,
           "tickcolor": "#54565B"
          }
         }
        },
        "title": {
         "text": "<b>Use of immediate imprisonment for women in<br>Cleveland 2009–2021</b>"
        },
        "width": 655,
        "xaxis": {
         "dtick": 2,
         "range": [
          2009.7,
          2022.3
         ],
         "tick0": 2010
        },
        "yaxis": {
         "range": [
          0,
          204
         ],
         "tick0": 0,
         "tickformat": ",.0f",
         "title": {
          "text": ""
         }
        }
       }
      }
     },
     "metadata": {},
     "output_type": "display_data"
    },
    {
     "data": {
      "application/vnd.plotly.v1+json": {
       "config": {
        "plotlyServerURL": "https://plot.ly"
       },
       "data": [
        {
         "hovertemplate": "%{y}<extra></extra>",
         "meta": "Cumbria",
         "mode": "lines",
         "name": "12 months or more",
         "type": "scatter",
         "x": [
          2010,
          2011,
          2012,
          2013,
          2014,
          2015,
          2016,
          2017,
          2018,
          2019,
          2020,
          2021,
          2022
         ],
         "y": [
          15,
          26,
          17,
          31,
          22,
          31,
          25,
          26,
          24,
          23,
          7,
          17,
          7
         ]
        },
        {
         "hovertemplate": "%{y}<extra></extra>",
         "meta": "Cumbria",
         "mode": "lines",
         "name": "6 months to less than 12 months",
         "type": "scatter",
         "x": [
          2010,
          2011,
          2012,
          2013,
          2014,
          2015,
          2016,
          2017,
          2018,
          2019,
          2020,
          2021,
          2022
         ],
         "y": [
          6,
          12,
          8,
          9,
          10,
          8,
          7,
          10,
          12,
          3,
          9,
          2,
          1
         ]
        },
        {
         "hovertemplate": "%{y}<extra></extra>",
         "meta": "Cumbria",
         "mode": "lines",
         "name": "Less than 6 months",
         "type": "scatter",
         "x": [
          2010,
          2011,
          2012,
          2013,
          2014,
          2015,
          2016,
          2017,
          2018,
          2019,
          2020,
          2021,
          2022
         ],
         "y": [
          56,
          69,
          58,
          48,
          60,
          64,
          60,
          68,
          96,
          46,
          29,
          21,
          21
         ]
        }
       ],
       "layout": {
        "annotations": [
         {
          "align": "left",
          "font": {
           "color": "#A01D28",
           "size": 10
          },
          "showarrow": false,
          "text": "12 months or more",
          "x": 2022,
          "xanchor": "left",
          "xref": "x",
          "y": 7,
          "yref": "y"
         },
         {
          "align": "left",
          "font": {
           "color": "#499CC9",
           "size": 10
          },
          "showarrow": false,
          "text": "6 months to less than 12 months",
          "x": 2022,
          "xanchor": "left",
          "xref": "x",
          "y": 1,
          "yref": "y"
         },
         {
          "align": "left",
          "font": {
           "color": "#F9A237",
           "size": 10
          },
          "showarrow": false,
          "text": "Less than 6 months",
          "x": 2022,
          "xanchor": "left",
          "xref": "x",
          "y": 21,
          "yref": "y"
         },
         {
          "align": "left",
          "font": {
           "size": 12
          },
          "showarrow": false,
          "text": "Source: Ministry of Justice, Criminal justice statistics",
          "x": -0.08,
          "xref": "paper",
          "y": -0.19,
          "yref": "paper"
         },
         {
          "align": "left",
          "font": {
           "size": 12
          },
          "showarrow": false,
          "text": "Women sentenced to custody",
          "x": 2010,
          "xanchor": "left",
          "xref": "x",
          "y": 1.04,
          "yref": "paper"
         }
        ],
        "height": 500,
        "hovermode": "x",
        "margin": {
         "b": 75,
         "l": 63,
         "r": 100
        },
        "template": {
         "layout": {
          "colorway": [
           "#A01D28",
           "#499CC9",
           "#F9A237",
           "#6FBA3A",
           "#573D6B"
          ],
          "font": {
           "color": "#54565B",
           "family": "Helvetica Neue, Arial",
           "size": 12
          },
          "modebar": {
           "activecolor": "#A01D28"
          },
          "paper_bgcolor": "#F7F2F2",
          "plot_bgcolor": "#F7F2F2",
          "showlegend": false,
          "title": {
           "font": {
            "family": "Helvetica Neue, Arial",
            "size": 17
           },
           "y": 0.94,
           "yanchor": "bottom"
          },
          "xaxis": {
           "showgrid": false,
           "tickcolor": "#54565B"
          }
         }
        },
        "title": {
         "text": "<b>Use of immediate imprisonment for women in<br>Cumbria 2009–2021</b>"
        },
        "width": 655,
        "xaxis": {
         "dtick": 2,
         "range": [
          2009.7,
          2022.3
         ],
         "tick0": 2010
        },
        "yaxis": {
         "range": [
          0,
          103
         ],
         "tick0": 0,
         "tickformat": ",.0f",
         "title": {
          "text": ""
         }
        }
       }
      }
     },
     "metadata": {},
     "output_type": "display_data"
    },
    {
     "data": {
      "application/vnd.plotly.v1+json": {
       "config": {
        "plotlyServerURL": "https://plot.ly"
       },
       "data": [
        {
         "hovertemplate": "%{y}<extra></extra>",
         "meta": "Derbyshire",
         "mode": "lines",
         "name": "12 months or more",
         "type": "scatter",
         "x": [
          2010,
          2011,
          2012,
          2013,
          2014,
          2015,
          2016,
          2017,
          2018,
          2019,
          2020,
          2021,
          2022
         ],
         "y": [
          34,
          26,
          34,
          31,
          27,
          28,
          29,
          29,
          35,
          23,
          18,
          24,
          20
         ]
        },
        {
         "hovertemplate": "%{y}<extra></extra>",
         "meta": "Derbyshire",
         "mode": "lines",
         "name": "6 months to less than 12 months",
         "type": "scatter",
         "x": [
          2010,
          2011,
          2012,
          2013,
          2014,
          2015,
          2016,
          2017,
          2018,
          2019,
          2020,
          2021,
          2022
         ],
         "y": [
          10,
          15,
          8,
          14,
          17,
          17,
          16,
          13,
          7,
          12,
          20,
          20,
          17
         ]
        },
        {
         "hovertemplate": "%{y}<extra></extra>",
         "meta": "Derbyshire",
         "mode": "lines",
         "name": "Less than 6 months",
         "type": "scatter",
         "x": [
          2010,
          2011,
          2012,
          2013,
          2014,
          2015,
          2016,
          2017,
          2018,
          2019,
          2020,
          2021,
          2022
         ],
         "y": [
          87,
          109,
          77,
          78,
          127,
          134,
          131,
          132,
          136,
          88,
          92,
          82,
          85
         ]
        }
       ],
       "layout": {
        "annotations": [
         {
          "align": "left",
          "font": {
           "color": "#A01D28",
           "size": 10
          },
          "showarrow": false,
          "text": "12 months or more",
          "x": 2022,
          "xanchor": "left",
          "xref": "x",
          "y": 22,
          "yref": "y"
         },
         {
          "align": "left",
          "font": {
           "color": "#499CC9",
           "size": 10
          },
          "showarrow": false,
          "text": "6 months to less than 12 months",
          "x": 2022,
          "xanchor": "left",
          "xref": "x",
          "y": 17,
          "yref": "y"
         },
         {
          "align": "left",
          "font": {
           "color": "#F9A237",
           "size": 10
          },
          "showarrow": false,
          "text": "Less than 6 months",
          "x": 2022,
          "xanchor": "left",
          "xref": "x",
          "y": 85,
          "yref": "y"
         },
         {
          "align": "left",
          "font": {
           "size": 12
          },
          "showarrow": false,
          "text": "Source: Ministry of Justice, Criminal justice statistics",
          "x": -0.08,
          "xref": "paper",
          "y": -0.19,
          "yref": "paper"
         },
         {
          "align": "left",
          "font": {
           "size": 12
          },
          "showarrow": false,
          "text": "Women sentenced to custody",
          "x": 2010,
          "xanchor": "left",
          "xref": "x",
          "y": 1.04,
          "yref": "paper"
         }
        ],
        "height": 500,
        "hovermode": "x",
        "margin": {
         "b": 75,
         "l": 63,
         "r": 100
        },
        "template": {
         "layout": {
          "colorway": [
           "#A01D28",
           "#499CC9",
           "#F9A237",
           "#6FBA3A",
           "#573D6B"
          ],
          "font": {
           "color": "#54565B",
           "family": "Helvetica Neue, Arial",
           "size": 12
          },
          "modebar": {
           "activecolor": "#A01D28"
          },
          "paper_bgcolor": "#F7F2F2",
          "plot_bgcolor": "#F7F2F2",
          "showlegend": false,
          "title": {
           "font": {
            "family": "Helvetica Neue, Arial",
            "size": 17
           },
           "y": 0.94,
           "yanchor": "bottom"
          },
          "xaxis": {
           "showgrid": false,
           "tickcolor": "#54565B"
          }
         }
        },
        "title": {
         "text": "<b>Use of immediate imprisonment for women in<br>Derbyshire 2009–2021</b>"
        },
        "width": 655,
        "xaxis": {
         "dtick": 2,
         "range": [
          2009.7,
          2022.3
         ],
         "tick0": 2010
        },
        "yaxis": {
         "range": [
          0,
          204
         ],
         "tick0": 0,
         "tickformat": ",.0f",
         "title": {
          "text": ""
         }
        }
       }
      }
     },
     "metadata": {},
     "output_type": "display_data"
    },
    {
     "data": {
      "application/vnd.plotly.v1+json": {
       "config": {
        "plotlyServerURL": "https://plot.ly"
       },
       "data": [
        {
         "hovertemplate": "%{y}<extra></extra>",
         "meta": "Devon and Cornwall",
         "mode": "lines",
         "name": "12 months or more",
         "type": "scatter",
         "x": [
          2010,
          2011,
          2012,
          2013,
          2014,
          2015,
          2016,
          2017,
          2018,
          2019,
          2020,
          2021,
          2022
         ],
         "y": [
          49,
          54,
          44,
          32,
          31,
          36,
          33,
          44,
          32,
          30,
          27,
          22,
          16
         ]
        },
        {
         "hovertemplate": "%{y}<extra></extra>",
         "meta": "Devon and Cornwall",
         "mode": "lines",
         "name": "6 months to less than 12 months",
         "type": "scatter",
         "x": [
          2010,
          2011,
          2012,
          2013,
          2014,
          2015,
          2016,
          2017,
          2018,
          2019,
          2020,
          2021,
          2022
         ],
         "y": [
          11,
          22,
          4,
          13,
          12,
          7,
          6,
          7,
          8,
          6,
          13,
          12,
          11
         ]
        },
        {
         "hovertemplate": "%{y}<extra></extra>",
         "meta": "Devon and Cornwall",
         "mode": "lines",
         "name": "Less than 6 months",
         "type": "scatter",
         "x": [
          2010,
          2011,
          2012,
          2013,
          2014,
          2015,
          2016,
          2017,
          2018,
          2019,
          2020,
          2021,
          2022
         ],
         "y": [
          78,
          80,
          70,
          64,
          73,
          83,
          81,
          97,
          80,
          70,
          66,
          52,
          36
         ]
        }
       ],
       "layout": {
        "annotations": [
         {
          "align": "left",
          "font": {
           "color": "#A01D28",
           "size": 10
          },
          "showarrow": false,
          "text": "12 months or more",
          "x": 2022,
          "xanchor": "left",
          "xref": "x",
          "y": 16,
          "yref": "y"
         },
         {
          "align": "left",
          "font": {
           "color": "#499CC9",
           "size": 10
          },
          "showarrow": false,
          "text": "6 months to less than 12 months",
          "x": 2022,
          "xanchor": "left",
          "xref": "x",
          "y": 11,
          "yref": "y"
         },
         {
          "align": "left",
          "font": {
           "color": "#F9A237",
           "size": 10
          },
          "showarrow": false,
          "text": "Less than 6 months",
          "x": 2022,
          "xanchor": "left",
          "xref": "x",
          "y": 36,
          "yref": "y"
         },
         {
          "align": "left",
          "font": {
           "size": 12
          },
          "showarrow": false,
          "text": "Source: Ministry of Justice, Criminal justice statistics",
          "x": -0.08,
          "xref": "paper",
          "y": -0.19,
          "yref": "paper"
         },
         {
          "align": "left",
          "font": {
           "size": 12
          },
          "showarrow": false,
          "text": "Women sentenced to custody",
          "x": 2010,
          "xanchor": "left",
          "xref": "x",
          "y": 1.04,
          "yref": "paper"
         }
        ],
        "height": 500,
        "hovermode": "x",
        "margin": {
         "b": 75,
         "l": 63,
         "r": 100
        },
        "template": {
         "layout": {
          "colorway": [
           "#A01D28",
           "#499CC9",
           "#F9A237",
           "#6FBA3A",
           "#573D6B"
          ],
          "font": {
           "color": "#54565B",
           "family": "Helvetica Neue, Arial",
           "size": 12
          },
          "modebar": {
           "activecolor": "#A01D28"
          },
          "paper_bgcolor": "#F7F2F2",
          "plot_bgcolor": "#F7F2F2",
          "showlegend": false,
          "title": {
           "font": {
            "family": "Helvetica Neue, Arial",
            "size": 17
           },
           "y": 0.94,
           "yanchor": "bottom"
          },
          "xaxis": {
           "showgrid": false,
           "tickcolor": "#54565B"
          }
         }
        },
        "title": {
         "text": "<b>Use of immediate imprisonment for women in<br>Devon and Cornwall 2009–2021</b>"
        },
        "width": 655,
        "xaxis": {
         "dtick": 2,
         "range": [
          2009.7,
          2022.3
         ],
         "tick0": 2010
        },
        "yaxis": {
         "range": [
          0,
          103
         ],
         "tick0": 0,
         "tickformat": ",.0f",
         "title": {
          "text": ""
         }
        }
       }
      }
     },
     "metadata": {},
     "output_type": "display_data"
    },
    {
     "data": {
      "application/vnd.plotly.v1+json": {
       "config": {
        "plotlyServerURL": "https://plot.ly"
       },
       "data": [
        {
         "hovertemplate": "%{y}<extra></extra>",
         "meta": "Dorset",
         "mode": "lines",
         "name": "12 months or more",
         "type": "scatter",
         "x": [
          2010,
          2011,
          2012,
          2013,
          2014,
          2015,
          2016,
          2017,
          2018,
          2019,
          2020,
          2021,
          2022
         ],
         "y": [
          16,
          6,
          10,
          14,
          15,
          11,
          11,
          23,
          12,
          17,
          12,
          17,
          10
         ]
        },
        {
         "hovertemplate": "%{y}<extra></extra>",
         "meta": "Dorset",
         "mode": "lines",
         "name": "6 months to less than 12 months",
         "type": "scatter",
         "x": [
          2010,
          2011,
          2012,
          2013,
          2014,
          2015,
          2016,
          2017,
          2018,
          2019,
          2020,
          2021,
          2022
         ],
         "y": [
          6,
          3,
          5,
          8,
          5,
          7,
          1,
          6,
          5,
          5,
          1,
          6,
          3
         ]
        },
        {
         "hovertemplate": "%{y}<extra></extra>",
         "meta": "Dorset",
         "mode": "lines",
         "name": "Less than 6 months",
         "type": "scatter",
         "x": [
          2010,
          2011,
          2012,
          2013,
          2014,
          2015,
          2016,
          2017,
          2018,
          2019,
          2020,
          2021,
          2022
         ],
         "y": [
          51,
          28,
          33,
          24,
          36,
          49,
          40,
          44,
          35,
          39,
          22,
          15,
          10
         ]
        }
       ],
       "layout": {
        "annotations": [
         {
          "align": "left",
          "font": {
           "color": "#A01D28",
           "size": 10
          },
          "showarrow": false,
          "text": "12 months or more",
          "x": 2022,
          "xanchor": "left",
          "xref": "x",
          "y": 15,
          "yref": "y"
         },
         {
          "align": "left",
          "font": {
           "color": "#499CC9",
           "size": 10
          },
          "showarrow": false,
          "text": "6 months to less than 12 months",
          "x": 2022,
          "xanchor": "left",
          "xref": "x",
          "y": 3,
          "yref": "y"
         },
         {
          "align": "left",
          "font": {
           "color": "#F9A237",
           "size": 10
          },
          "showarrow": false,
          "text": "Less than 6 months",
          "x": 2022,
          "xanchor": "left",
          "xref": "x",
          "y": 10,
          "yref": "y"
         },
         {
          "align": "left",
          "font": {
           "size": 12
          },
          "showarrow": false,
          "text": "Source: Ministry of Justice, Criminal justice statistics",
          "x": -0.08,
          "xref": "paper",
          "y": -0.19,
          "yref": "paper"
         },
         {
          "align": "left",
          "font": {
           "size": 12
          },
          "showarrow": false,
          "text": "Women sentenced to custody",
          "x": 2010,
          "xanchor": "left",
          "xref": "x",
          "y": 1.04,
          "yref": "paper"
         }
        ],
        "height": 500,
        "hovermode": "x",
        "margin": {
         "b": 75,
         "l": 63,
         "r": 100
        },
        "template": {
         "layout": {
          "colorway": [
           "#A01D28",
           "#499CC9",
           "#F9A237",
           "#6FBA3A",
           "#573D6B"
          ],
          "font": {
           "color": "#54565B",
           "family": "Helvetica Neue, Arial",
           "size": 12
          },
          "modebar": {
           "activecolor": "#A01D28"
          },
          "paper_bgcolor": "#F7F2F2",
          "plot_bgcolor": "#F7F2F2",
          "showlegend": false,
          "title": {
           "font": {
            "family": "Helvetica Neue, Arial",
            "size": 17
           },
           "y": 0.94,
           "yanchor": "bottom"
          },
          "xaxis": {
           "showgrid": false,
           "tickcolor": "#54565B"
          }
         }
        },
        "title": {
         "text": "<b>Use of immediate imprisonment for women in<br>Dorset 2009–2021</b>"
        },
        "width": 655,
        "xaxis": {
         "dtick": 2,
         "range": [
          2009.7,
          2022.3
         ],
         "tick0": 2010
        },
        "yaxis": {
         "range": [
          0,
          52
         ],
         "tick0": 0,
         "tickformat": ",.0f",
         "title": {
          "text": ""
         }
        }
       }
      }
     },
     "metadata": {},
     "output_type": "display_data"
    },
    {
     "data": {
      "application/vnd.plotly.v1+json": {
       "config": {
        "plotlyServerURL": "https://plot.ly"
       },
       "data": [
        {
         "hovertemplate": "%{y}<extra></extra>",
         "meta": "Durham",
         "mode": "lines",
         "name": "12 months or more",
         "type": "scatter",
         "x": [
          2010,
          2011,
          2012,
          2013,
          2014,
          2015,
          2016,
          2017,
          2018,
          2019,
          2020,
          2021,
          2022
         ],
         "y": [
          26,
          12,
          22,
          12,
          22,
          23,
          15,
          13,
          21,
          11,
          22,
          19,
          14
         ]
        },
        {
         "hovertemplate": "%{y}<extra></extra>",
         "meta": "Durham",
         "mode": "lines",
         "name": "6 months to less than 12 months",
         "type": "scatter",
         "x": [
          2010,
          2011,
          2012,
          2013,
          2014,
          2015,
          2016,
          2017,
          2018,
          2019,
          2020,
          2021,
          2022
         ],
         "y": [
          11,
          9,
          7,
          9,
          5,
          6,
          12,
          5,
          3,
          3,
          5,
          5,
          3
         ]
        },
        {
         "hovertemplate": "%{y}<extra></extra>",
         "meta": "Durham",
         "mode": "lines",
         "name": "Less than 6 months",
         "type": "scatter",
         "x": [
          2010,
          2011,
          2012,
          2013,
          2014,
          2015,
          2016,
          2017,
          2018,
          2019,
          2020,
          2021,
          2022
         ],
         "y": [
          48,
          37,
          49,
          58,
          55,
          47,
          53,
          46,
          55,
          27,
          29,
          26,
          40
         ]
        }
       ],
       "layout": {
        "annotations": [
         {
          "align": "left",
          "font": {
           "color": "#A01D28",
           "size": 10
          },
          "showarrow": false,
          "text": "12 months or more",
          "x": 2022,
          "xanchor": "left",
          "xref": "x",
          "y": 14,
          "yref": "y"
         },
         {
          "align": "left",
          "font": {
           "color": "#499CC9",
           "size": 10
          },
          "showarrow": false,
          "text": "6 months to less than 12 months",
          "x": 2022,
          "xanchor": "left",
          "xref": "x",
          "y": 3,
          "yref": "y"
         },
         {
          "align": "left",
          "font": {
           "color": "#F9A237",
           "size": 10
          },
          "showarrow": false,
          "text": "Less than 6 months",
          "x": 2022,
          "xanchor": "left",
          "xref": "x",
          "y": 40,
          "yref": "y"
         },
         {
          "align": "left",
          "font": {
           "size": 12
          },
          "showarrow": false,
          "text": "Source: Ministry of Justice, Criminal justice statistics",
          "x": -0.08,
          "xref": "paper",
          "y": -0.19,
          "yref": "paper"
         },
         {
          "align": "left",
          "font": {
           "size": 12
          },
          "showarrow": false,
          "text": "Women sentenced to custody",
          "x": 2010,
          "xanchor": "left",
          "xref": "x",
          "y": 1.04,
          "yref": "paper"
         }
        ],
        "height": 500,
        "hovermode": "x",
        "margin": {
         "b": 75,
         "l": 63,
         "r": 100
        },
        "template": {
         "layout": {
          "colorway": [
           "#A01D28",
           "#499CC9",
           "#F9A237",
           "#6FBA3A",
           "#573D6B"
          ],
          "font": {
           "color": "#54565B",
           "family": "Helvetica Neue, Arial",
           "size": 12
          },
          "modebar": {
           "activecolor": "#A01D28"
          },
          "paper_bgcolor": "#F7F2F2",
          "plot_bgcolor": "#F7F2F2",
          "showlegend": false,
          "title": {
           "font": {
            "family": "Helvetica Neue, Arial",
            "size": 17
           },
           "y": 0.94,
           "yanchor": "bottom"
          },
          "xaxis": {
           "showgrid": false,
           "tickcolor": "#54565B"
          }
         }
        },
        "title": {
         "text": "<b>Use of immediate imprisonment for women in<br>Durham 2009–2021</b>"
        },
        "width": 655,
        "xaxis": {
         "dtick": 2,
         "range": [
          2009.7,
          2022.3
         ],
         "tick0": 2010
        },
        "yaxis": {
         "range": [
          0,
          103
         ],
         "tick0": 0,
         "tickformat": ",.0f",
         "title": {
          "text": ""
         }
        }
       }
      }
     },
     "metadata": {},
     "output_type": "display_data"
    },
    {
     "data": {
      "application/vnd.plotly.v1+json": {
       "config": {
        "plotlyServerURL": "https://plot.ly"
       },
       "data": [
        {
         "hovertemplate": "%{y}<extra></extra>",
         "meta": "Dyfed-Powys",
         "mode": "lines",
         "name": "12 months or more",
         "type": "scatter",
         "x": [
          2010,
          2011,
          2012,
          2013,
          2014,
          2015,
          2016,
          2017,
          2018,
          2019,
          2020,
          2021,
          2022
         ],
         "y": [
          23,
          15,
          10,
          10,
          9,
          8,
          7,
          12,
          16,
          6,
          0,
          1,
          0
         ]
        },
        {
         "hovertemplate": "%{y}<extra></extra>",
         "meta": "Dyfed-Powys",
         "mode": "lines",
         "name": "6 months to less than 12 months",
         "type": "scatter",
         "x": [
          2010,
          2011,
          2012,
          2013,
          2014,
          2015,
          2016,
          2017,
          2018,
          2019,
          2020,
          2021,
          2022
         ],
         "y": [
          3,
          4,
          3,
          3,
          8,
          3,
          5,
          5,
          4,
          5,
          0,
          0,
          0
         ]
        },
        {
         "hovertemplate": "%{y}<extra></extra>",
         "meta": "Dyfed-Powys",
         "mode": "lines",
         "name": "Less than 6 months",
         "type": "scatter",
         "x": [
          2010,
          2011,
          2012,
          2013,
          2014,
          2015,
          2016,
          2017,
          2018,
          2019,
          2020,
          2021,
          2022
         ],
         "y": [
          22,
          39,
          29,
          31,
          20,
          22,
          20,
          27,
          21,
          27,
          14,
          13,
          20
         ]
        }
       ],
       "layout": {
        "annotations": [
         {
          "align": "left",
          "font": {
           "color": "#A01D28",
           "size": 10
          },
          "showarrow": false,
          "text": "12 months or more",
          "x": 2022,
          "xanchor": "left",
          "xref": "x",
          "y": 5,
          "yref": "y"
         },
         {
          "align": "left",
          "font": {
           "color": "#499CC9",
           "size": 10
          },
          "showarrow": false,
          "text": "6 months to less than 12 months",
          "x": 2022,
          "xanchor": "left",
          "xref": "x",
          "y": 0,
          "yref": "y"
         },
         {
          "align": "left",
          "font": {
           "color": "#F9A237",
           "size": 10
          },
          "showarrow": false,
          "text": "Less than 6 months",
          "x": 2022,
          "xanchor": "left",
          "xref": "x",
          "y": 20,
          "yref": "y"
         },
         {
          "align": "left",
          "font": {
           "size": 12
          },
          "showarrow": false,
          "text": "Source: Ministry of Justice, Criminal justice statistics",
          "x": -0.08,
          "xref": "paper",
          "y": -0.19,
          "yref": "paper"
         },
         {
          "align": "left",
          "font": {
           "size": 12
          },
          "showarrow": false,
          "text": "Women sentenced to custody",
          "x": 2010,
          "xanchor": "left",
          "xref": "x",
          "y": 1.04,
          "yref": "paper"
         }
        ],
        "height": 500,
        "hovermode": "x",
        "margin": {
         "b": 75,
         "l": 63,
         "r": 100
        },
        "template": {
         "layout": {
          "colorway": [
           "#A01D28",
           "#499CC9",
           "#F9A237",
           "#6FBA3A",
           "#573D6B"
          ],
          "font": {
           "color": "#54565B",
           "family": "Helvetica Neue, Arial",
           "size": 12
          },
          "modebar": {
           "activecolor": "#A01D28"
          },
          "paper_bgcolor": "#F7F2F2",
          "plot_bgcolor": "#F7F2F2",
          "showlegend": false,
          "title": {
           "font": {
            "family": "Helvetica Neue, Arial",
            "size": 17
           },
           "y": 0.94,
           "yanchor": "bottom"
          },
          "xaxis": {
           "showgrid": false,
           "tickcolor": "#54565B"
          }
         }
        },
        "title": {
         "text": "<b>Use of immediate imprisonment for women in<br>Dyfed-Powys 2009–2021</b>"
        },
        "width": 655,
        "xaxis": {
         "dtick": 2,
         "range": [
          2009.7,
          2022.3
         ],
         "tick0": 2010
        },
        "yaxis": {
         "range": [
          0,
          52
         ],
         "tick0": 0,
         "tickformat": ",.0f",
         "title": {
          "text": ""
         }
        }
       }
      }
     },
     "metadata": {},
     "output_type": "display_data"
    },
    {
     "data": {
      "application/vnd.plotly.v1+json": {
       "config": {
        "plotlyServerURL": "https://plot.ly"
       },
       "data": [
        {
         "hovertemplate": "%{y}<extra></extra>",
         "meta": "Essex",
         "mode": "lines",
         "name": "12 months or more",
         "type": "scatter",
         "x": [
          2010,
          2011,
          2012,
          2013,
          2014,
          2015,
          2016,
          2017,
          2018,
          2019,
          2020,
          2021,
          2022
         ],
         "y": [
          46,
          44,
          29,
          38,
          25,
          35,
          46,
          35,
          36,
          27,
          21,
          22,
          29
         ]
        },
        {
         "hovertemplate": "%{y}<extra></extra>",
         "meta": "Essex",
         "mode": "lines",
         "name": "6 months to less than 12 months",
         "type": "scatter",
         "x": [
          2010,
          2011,
          2012,
          2013,
          2014,
          2015,
          2016,
          2017,
          2018,
          2019,
          2020,
          2021,
          2022
         ],
         "y": [
          18,
          20,
          16,
          14,
          17,
          11,
          10,
          19,
          16,
          12,
          10,
          6,
          9
         ]
        },
        {
         "hovertemplate": "%{y}<extra></extra>",
         "meta": "Essex",
         "mode": "lines",
         "name": "Less than 6 months",
         "type": "scatter",
         "x": [
          2010,
          2011,
          2012,
          2013,
          2014,
          2015,
          2016,
          2017,
          2018,
          2019,
          2020,
          2021,
          2022
         ],
         "y": [
          153,
          157,
          145,
          139,
          156,
          116,
          120,
          122,
          129,
          116,
          60,
          48,
          54
         ]
        }
       ],
       "layout": {
        "annotations": [
         {
          "align": "left",
          "font": {
           "color": "#A01D28",
           "size": 10
          },
          "showarrow": false,
          "text": "12 months or more",
          "x": 2022,
          "xanchor": "left",
          "xref": "x",
          "y": 29,
          "yref": "y"
         },
         {
          "align": "left",
          "font": {
           "color": "#499CC9",
           "size": 10
          },
          "showarrow": false,
          "text": "6 months to less than 12 months",
          "x": 2022,
          "xanchor": "left",
          "xref": "x",
          "y": 9,
          "yref": "y"
         },
         {
          "align": "left",
          "font": {
           "color": "#F9A237",
           "size": 10
          },
          "showarrow": false,
          "text": "Less than 6 months",
          "x": 2022,
          "xanchor": "left",
          "xref": "x",
          "y": 54,
          "yref": "y"
         },
         {
          "align": "left",
          "font": {
           "size": 12
          },
          "showarrow": false,
          "text": "Source: Ministry of Justice, Criminal justice statistics",
          "x": -0.08,
          "xref": "paper",
          "y": -0.19,
          "yref": "paper"
         },
         {
          "align": "left",
          "font": {
           "size": 12
          },
          "showarrow": false,
          "text": "Women sentenced to custody",
          "x": 2010,
          "xanchor": "left",
          "xref": "x",
          "y": 1.04,
          "yref": "paper"
         }
        ],
        "height": 500,
        "hovermode": "x",
        "margin": {
         "b": 75,
         "l": 63,
         "r": 100
        },
        "template": {
         "layout": {
          "colorway": [
           "#A01D28",
           "#499CC9",
           "#F9A237",
           "#6FBA3A",
           "#573D6B"
          ],
          "font": {
           "color": "#54565B",
           "family": "Helvetica Neue, Arial",
           "size": 12
          },
          "modebar": {
           "activecolor": "#A01D28"
          },
          "paper_bgcolor": "#F7F2F2",
          "plot_bgcolor": "#F7F2F2",
          "showlegend": false,
          "title": {
           "font": {
            "family": "Helvetica Neue, Arial",
            "size": 17
           },
           "y": 0.94,
           "yanchor": "bottom"
          },
          "xaxis": {
           "showgrid": false,
           "tickcolor": "#54565B"
          }
         }
        },
        "title": {
         "text": "<b>Use of immediate imprisonment for women in<br>Essex 2009–2021</b>"
        },
        "width": 655,
        "xaxis": {
         "dtick": 2,
         "range": [
          2009.7,
          2022.3
         ],
         "tick0": 2010
        },
        "yaxis": {
         "range": [
          0,
          204
         ],
         "tick0": 0,
         "tickformat": ",.0f",
         "title": {
          "text": ""
         }
        }
       }
      }
     },
     "metadata": {},
     "output_type": "display_data"
    },
    {
     "data": {
      "application/vnd.plotly.v1+json": {
       "config": {
        "plotlyServerURL": "https://plot.ly"
       },
       "data": [
        {
         "hovertemplate": "%{y}<extra></extra>",
         "meta": "Gloucestershire",
         "mode": "lines",
         "name": "12 months or more",
         "type": "scatter",
         "x": [
          2010,
          2011,
          2012,
          2013,
          2014,
          2015,
          2016,
          2017,
          2018,
          2019,
          2020,
          2021,
          2022
         ],
         "y": [
          17,
          8,
          12,
          11,
          14,
          14,
          9,
          15,
          12,
          9,
          8,
          7,
          10
         ]
        },
        {
         "hovertemplate": "%{y}<extra></extra>",
         "meta": "Gloucestershire",
         "mode": "lines",
         "name": "6 months to less than 12 months",
         "type": "scatter",
         "x": [
          2010,
          2011,
          2012,
          2013,
          2014,
          2015,
          2016,
          2017,
          2018,
          2019,
          2020,
          2021,
          2022
         ],
         "y": [
          7,
          6,
          3,
          5,
          2,
          7,
          8,
          3,
          3,
          2,
          2,
          1,
          1
         ]
        },
        {
         "hovertemplate": "%{y}<extra></extra>",
         "meta": "Gloucestershire",
         "mode": "lines",
         "name": "Less than 6 months",
         "type": "scatter",
         "x": [
          2010,
          2011,
          2012,
          2013,
          2014,
          2015,
          2016,
          2017,
          2018,
          2019,
          2020,
          2021,
          2022
         ],
         "y": [
          43,
          37,
          34,
          45,
          50,
          50,
          41,
          40,
          26,
          25,
          8,
          5,
          12
         ]
        }
       ],
       "layout": {
        "annotations": [
         {
          "align": "left",
          "font": {
           "color": "#A01D28",
           "size": 10
          },
          "showarrow": false,
          "text": "12 months or more",
          "x": 2022,
          "xanchor": "left",
          "xref": "x",
          "y": 10,
          "yref": "y"
         },
         {
          "align": "left",
          "font": {
           "color": "#499CC9",
           "size": 10
          },
          "showarrow": false,
          "text": "6 months to less than 12 months",
          "x": 2022,
          "xanchor": "left",
          "xref": "x",
          "y": 1,
          "yref": "y"
         },
         {
          "align": "left",
          "font": {
           "color": "#F9A237",
           "size": 10
          },
          "showarrow": false,
          "text": "Less than 6 months",
          "x": 2022,
          "xanchor": "left",
          "xref": "x",
          "y": 15,
          "yref": "y"
         },
         {
          "align": "left",
          "font": {
           "size": 12
          },
          "showarrow": false,
          "text": "Source: Ministry of Justice, Criminal justice statistics",
          "x": -0.08,
          "xref": "paper",
          "y": -0.19,
          "yref": "paper"
         },
         {
          "align": "left",
          "font": {
           "size": 12
          },
          "showarrow": false,
          "text": "Women sentenced to custody",
          "x": 2010,
          "xanchor": "left",
          "xref": "x",
          "y": 1.04,
          "yref": "paper"
         }
        ],
        "height": 500,
        "hovermode": "x",
        "margin": {
         "b": 75,
         "l": 63,
         "r": 100
        },
        "template": {
         "layout": {
          "colorway": [
           "#A01D28",
           "#499CC9",
           "#F9A237",
           "#6FBA3A",
           "#573D6B"
          ],
          "font": {
           "color": "#54565B",
           "family": "Helvetica Neue, Arial",
           "size": 12
          },
          "modebar": {
           "activecolor": "#A01D28"
          },
          "paper_bgcolor": "#F7F2F2",
          "plot_bgcolor": "#F7F2F2",
          "showlegend": false,
          "title": {
           "font": {
            "family": "Helvetica Neue, Arial",
            "size": 17
           },
           "y": 0.94,
           "yanchor": "bottom"
          },
          "xaxis": {
           "showgrid": false,
           "tickcolor": "#54565B"
          }
         }
        },
        "title": {
         "text": "<b>Use of immediate imprisonment for women in<br>Gloucestershire 2009–2021</b>"
        },
        "width": 655,
        "xaxis": {
         "dtick": 2,
         "range": [
          2009.7,
          2022.3
         ],
         "tick0": 2010
        },
        "yaxis": {
         "range": [
          0,
          52
         ],
         "tick0": 0,
         "tickformat": ",.0f",
         "title": {
          "text": ""
         }
        }
       }
      }
     },
     "metadata": {},
     "output_type": "display_data"
    },
    {
     "data": {
      "application/vnd.plotly.v1+json": {
       "config": {
        "plotlyServerURL": "https://plot.ly"
       },
       "data": [
        {
         "hovertemplate": "%{y}<extra></extra>",
         "meta": "Greater Manchester",
         "mode": "lines",
         "name": "12 months or more",
         "type": "scatter",
         "x": [
          2010,
          2011,
          2012,
          2013,
          2014,
          2015,
          2016,
          2017,
          2018,
          2019,
          2020,
          2021,
          2022
         ],
         "y": [
          123,
          125,
          95,
          98,
          100,
          111,
          103,
          85,
          57,
          98,
          70,
          78,
          71
         ]
        },
        {
         "hovertemplate": "%{y}<extra></extra>",
         "meta": "Greater Manchester",
         "mode": "lines",
         "name": "6 months to less than 12 months",
         "type": "scatter",
         "x": [
          2010,
          2011,
          2012,
          2013,
          2014,
          2015,
          2016,
          2017,
          2018,
          2019,
          2020,
          2021,
          2022
         ],
         "y": [
          54,
          47,
          37,
          36,
          42,
          48,
          31,
          23,
          27,
          31,
          20,
          15,
          22
         ]
        },
        {
         "hovertemplate": "%{y}<extra></extra>",
         "meta": "Greater Manchester",
         "mode": "lines",
         "name": "Less than 6 months",
         "type": "scatter",
         "x": [
          2010,
          2011,
          2012,
          2013,
          2014,
          2015,
          2016,
          2017,
          2018,
          2019,
          2020,
          2021,
          2022
         ],
         "y": [
          263,
          288,
          268,
          268,
          304,
          243,
          173,
          161,
          133,
          122,
          96,
          89,
          107
         ]
        }
       ],
       "layout": {
        "annotations": [
         {
          "align": "left",
          "font": {
           "color": "#A01D28",
           "size": 10
          },
          "showarrow": false,
          "text": "12 months or more",
          "x": 2022,
          "xanchor": "left",
          "xref": "x",
          "y": 71,
          "yref": "y"
         },
         {
          "align": "left",
          "font": {
           "color": "#499CC9",
           "size": 10
          },
          "showarrow": false,
          "text": "6 months to less than 12 months",
          "x": 2022,
          "xanchor": "left",
          "xref": "x",
          "y": 22,
          "yref": "y"
         },
         {
          "align": "left",
          "font": {
           "color": "#F9A237",
           "size": 10
          },
          "showarrow": false,
          "text": "Less than 6 months",
          "x": 2022,
          "xanchor": "left",
          "xref": "x",
          "y": 107,
          "yref": "y"
         },
         {
          "align": "left",
          "font": {
           "size": 12
          },
          "showarrow": false,
          "text": "Source: Ministry of Justice, Criminal justice statistics",
          "x": -0.08,
          "xref": "paper",
          "y": -0.19,
          "yref": "paper"
         },
         {
          "align": "left",
          "font": {
           "size": 12
          },
          "showarrow": false,
          "text": "Women sentenced to custody",
          "x": 2010,
          "xanchor": "left",
          "xref": "x",
          "y": 1.04,
          "yref": "paper"
         }
        ],
        "height": 500,
        "hovermode": "x",
        "margin": {
         "b": 75,
         "l": 63,
         "r": 100
        },
        "template": {
         "layout": {
          "colorway": [
           "#A01D28",
           "#499CC9",
           "#F9A237",
           "#6FBA3A",
           "#573D6B"
          ],
          "font": {
           "color": "#54565B",
           "family": "Helvetica Neue, Arial",
           "size": 12
          },
          "modebar": {
           "activecolor": "#A01D28"
          },
          "paper_bgcolor": "#F7F2F2",
          "plot_bgcolor": "#F7F2F2",
          "showlegend": false,
          "title": {
           "font": {
            "family": "Helvetica Neue, Arial",
            "size": 17
           },
           "y": 0.94,
           "yanchor": "bottom"
          },
          "xaxis": {
           "showgrid": false,
           "tickcolor": "#54565B"
          }
         }
        },
        "title": {
         "text": "<b>Use of immediate imprisonment for women in<br>Greater Manchester 2009–2021</b>"
        },
        "width": 655,
        "xaxis": {
         "dtick": 2,
         "range": [
          2009.7,
          2022.3
         ],
         "tick0": 2010
        },
        "yaxis": {
         "range": [
          0,
          305
         ],
         "tick0": 0,
         "tickformat": ",.0f",
         "title": {
          "text": ""
         }
        }
       }
      }
     },
     "metadata": {},
     "output_type": "display_data"
    },
    {
     "data": {
      "application/vnd.plotly.v1+json": {
       "config": {
        "plotlyServerURL": "https://plot.ly"
       },
       "data": [
        {
         "hovertemplate": "%{y}<extra></extra>",
         "meta": "Gwent",
         "mode": "lines",
         "name": "12 months or more",
         "type": "scatter",
         "x": [
          2010,
          2011,
          2012,
          2013,
          2014,
          2015,
          2016,
          2017,
          2018,
          2019,
          2020,
          2021,
          2022
         ],
         "y": [
          12,
          18,
          14,
          23,
          14,
          16,
          20,
          20,
          23,
          11,
          0,
          0,
          0
         ]
        },
        {
         "hovertemplate": "%{y}<extra></extra>",
         "meta": "Gwent",
         "mode": "lines",
         "name": "6 months to less than 12 months",
         "type": "scatter",
         "x": [
          2010,
          2011,
          2012,
          2013,
          2014,
          2015,
          2016,
          2017,
          2018,
          2019,
          2020,
          2021,
          2022
         ],
         "y": [
          4,
          2,
          10,
          8,
          13,
          3,
          9,
          7,
          10,
          1,
          1,
          3,
          1
         ]
        },
        {
         "hovertemplate": "%{y}<extra></extra>",
         "meta": "Gwent",
         "mode": "lines",
         "name": "Less than 6 months",
         "type": "scatter",
         "x": [
          2010,
          2011,
          2012,
          2013,
          2014,
          2015,
          2016,
          2017,
          2018,
          2019,
          2020,
          2021,
          2022
         ],
         "y": [
          43,
          49,
          68,
          53,
          63,
          57,
          59,
          82,
          54,
          28,
          17,
          22,
          16
         ]
        }
       ],
       "layout": {
        "annotations": [
         {
          "align": "left",
          "font": {
           "color": "#A01D28",
           "size": 10
          },
          "showarrow": false,
          "text": "12 months or more",
          "x": 2022,
          "xanchor": "left",
          "xref": "x",
          "y": 0,
          "yref": "y"
         },
         {
          "align": "left",
          "font": {
           "color": "#499CC9",
           "size": 10
          },
          "showarrow": false,
          "text": "6 months to less than 12 months",
          "x": 2022,
          "xanchor": "left",
          "xref": "x",
          "y": 5,
          "yref": "y"
         },
         {
          "align": "left",
          "font": {
           "color": "#F9A237",
           "size": 10
          },
          "showarrow": false,
          "text": "Less than 6 months",
          "x": 2022,
          "xanchor": "left",
          "xref": "x",
          "y": 16,
          "yref": "y"
         },
         {
          "align": "left",
          "font": {
           "size": 12
          },
          "showarrow": false,
          "text": "Source: Ministry of Justice, Criminal justice statistics",
          "x": -0.08,
          "xref": "paper",
          "y": -0.19,
          "yref": "paper"
         },
         {
          "align": "left",
          "font": {
           "size": 12
          },
          "showarrow": false,
          "text": "Women sentenced to custody",
          "x": 2010,
          "xanchor": "left",
          "xref": "x",
          "y": 1.04,
          "yref": "paper"
         }
        ],
        "height": 500,
        "hovermode": "x",
        "margin": {
         "b": 75,
         "l": 63,
         "r": 100
        },
        "template": {
         "layout": {
          "colorway": [
           "#A01D28",
           "#499CC9",
           "#F9A237",
           "#6FBA3A",
           "#573D6B"
          ],
          "font": {
           "color": "#54565B",
           "family": "Helvetica Neue, Arial",
           "size": 12
          },
          "modebar": {
           "activecolor": "#A01D28"
          },
          "paper_bgcolor": "#F7F2F2",
          "plot_bgcolor": "#F7F2F2",
          "showlegend": false,
          "title": {
           "font": {
            "family": "Helvetica Neue, Arial",
            "size": 17
           },
           "y": 0.94,
           "yanchor": "bottom"
          },
          "xaxis": {
           "showgrid": false,
           "tickcolor": "#54565B"
          }
         }
        },
        "title": {
         "text": "<b>Use of immediate imprisonment for women in<br>Gwent 2009–2021</b>"
        },
        "width": 655,
        "xaxis": {
         "dtick": 2,
         "range": [
          2009.7,
          2022.3
         ],
         "tick0": 2010
        },
        "yaxis": {
         "range": [
          0,
          103
         ],
         "tick0": 0,
         "tickformat": ",.0f",
         "title": {
          "text": ""
         }
        }
       }
      }
     },
     "metadata": {},
     "output_type": "display_data"
    },
    {
     "data": {
      "application/vnd.plotly.v1+json": {
       "config": {
        "plotlyServerURL": "https://plot.ly"
       },
       "data": [
        {
         "hovertemplate": "%{y}<extra></extra>",
         "meta": "Hampshire",
         "mode": "lines",
         "name": "12 months or more",
         "type": "scatter",
         "x": [
          2010,
          2011,
          2012,
          2013,
          2014,
          2015,
          2016,
          2017,
          2018,
          2019,
          2020,
          2021,
          2022
         ],
         "y": [
          38,
          63,
          60,
          39,
          43,
          45,
          32,
          23,
          43,
          27,
          33,
          30,
          26
         ]
        },
        {
         "hovertemplate": "%{y}<extra></extra>",
         "meta": "Hampshire",
         "mode": "lines",
         "name": "6 months to less than 12 months",
         "type": "scatter",
         "x": [
          2010,
          2011,
          2012,
          2013,
          2014,
          2015,
          2016,
          2017,
          2018,
          2019,
          2020,
          2021,
          2022
         ],
         "y": [
          10,
          16,
          22,
          21,
          18,
          24,
          19,
          6,
          9,
          11,
          12,
          16,
          5
         ]
        },
        {
         "hovertemplate": "%{y}<extra></extra>",
         "meta": "Hampshire",
         "mode": "lines",
         "name": "Less than 6 months",
         "type": "scatter",
         "x": [
          2010,
          2011,
          2012,
          2013,
          2014,
          2015,
          2016,
          2017,
          2018,
          2019,
          2020,
          2021,
          2022
         ],
         "y": [
          141,
          175,
          160,
          93,
          130,
          138,
          107,
          143,
          106,
          88,
          83,
          54,
          57
         ]
        }
       ],
       "layout": {
        "annotations": [
         {
          "align": "left",
          "font": {
           "color": "#A01D28",
           "size": 10
          },
          "showarrow": false,
          "text": "12 months or more",
          "x": 2022,
          "xanchor": "left",
          "xref": "x",
          "y": 26,
          "yref": "y"
         },
         {
          "align": "left",
          "font": {
           "color": "#499CC9",
           "size": 10
          },
          "showarrow": false,
          "text": "6 months to less than 12 months",
          "x": 2022,
          "xanchor": "left",
          "xref": "x",
          "y": 5,
          "yref": "y"
         },
         {
          "align": "left",
          "font": {
           "color": "#F9A237",
           "size": 10
          },
          "showarrow": false,
          "text": "Less than 6 months",
          "x": 2022,
          "xanchor": "left",
          "xref": "x",
          "y": 57,
          "yref": "y"
         },
         {
          "align": "left",
          "font": {
           "size": 12
          },
          "showarrow": false,
          "text": "Source: Ministry of Justice, Criminal justice statistics",
          "x": -0.08,
          "xref": "paper",
          "y": -0.19,
          "yref": "paper"
         },
         {
          "align": "left",
          "font": {
           "size": 12
          },
          "showarrow": false,
          "text": "Women sentenced to custody",
          "x": 2010,
          "xanchor": "left",
          "xref": "x",
          "y": 1.04,
          "yref": "paper"
         }
        ],
        "height": 500,
        "hovermode": "x",
        "margin": {
         "b": 75,
         "l": 63,
         "r": 100
        },
        "template": {
         "layout": {
          "colorway": [
           "#A01D28",
           "#499CC9",
           "#F9A237",
           "#6FBA3A",
           "#573D6B"
          ],
          "font": {
           "color": "#54565B",
           "family": "Helvetica Neue, Arial",
           "size": 12
          },
          "modebar": {
           "activecolor": "#A01D28"
          },
          "paper_bgcolor": "#F7F2F2",
          "plot_bgcolor": "#F7F2F2",
          "showlegend": false,
          "title": {
           "font": {
            "family": "Helvetica Neue, Arial",
            "size": 17
           },
           "y": 0.94,
           "yanchor": "bottom"
          },
          "xaxis": {
           "showgrid": false,
           "tickcolor": "#54565B"
          }
         }
        },
        "title": {
         "text": "<b>Use of immediate imprisonment for women in<br>Hampshire 2009–2021</b>"
        },
        "width": 655,
        "xaxis": {
         "dtick": 2,
         "range": [
          2009.7,
          2022.3
         ],
         "tick0": 2010
        },
        "yaxis": {
         "range": [
          0,
          204
         ],
         "tick0": 0,
         "tickformat": ",.0f",
         "title": {
          "text": ""
         }
        }
       }
      }
     },
     "metadata": {},
     "output_type": "display_data"
    },
    {
     "data": {
      "application/vnd.plotly.v1+json": {
       "config": {
        "plotlyServerURL": "https://plot.ly"
       },
       "data": [
        {
         "hovertemplate": "%{y}<extra></extra>",
         "meta": "Hertfordshire",
         "mode": "lines",
         "name": "12 months or more",
         "type": "scatter",
         "x": [
          2010,
          2011,
          2012,
          2013,
          2014,
          2015,
          2016,
          2017,
          2018,
          2019,
          2020,
          2021,
          2022
         ],
         "y": [
          17,
          38,
          20,
          21,
          19,
          18,
          25,
          23,
          12,
          22,
          11,
          11,
          16
         ]
        },
        {
         "hovertemplate": "%{y}<extra></extra>",
         "meta": "Hertfordshire",
         "mode": "lines",
         "name": "6 months to less than 12 months",
         "type": "scatter",
         "x": [
          2010,
          2011,
          2012,
          2013,
          2014,
          2015,
          2016,
          2017,
          2018,
          2019,
          2020,
          2021,
          2022
         ],
         "y": [
          6,
          13,
          7,
          6,
          9,
          6,
          5,
          7,
          2,
          4,
          6,
          5,
          3
         ]
        },
        {
         "hovertemplate": "%{y}<extra></extra>",
         "meta": "Hertfordshire",
         "mode": "lines",
         "name": "Less than 6 months",
         "type": "scatter",
         "x": [
          2010,
          2011,
          2012,
          2013,
          2014,
          2015,
          2016,
          2017,
          2018,
          2019,
          2020,
          2021,
          2022
         ],
         "y": [
          69,
          53,
          78,
          73,
          64,
          65,
          80,
          71,
          58,
          42,
          21,
          22,
          25
         ]
        }
       ],
       "layout": {
        "annotations": [
         {
          "align": "left",
          "font": {
           "color": "#A01D28",
           "size": 10
          },
          "showarrow": false,
          "text": "12 months or more",
          "x": 2022,
          "xanchor": "left",
          "xref": "x",
          "y": 16,
          "yref": "y"
         },
         {
          "align": "left",
          "font": {
           "color": "#499CC9",
           "size": 10
          },
          "showarrow": false,
          "text": "6 months to less than 12 months",
          "x": 2022,
          "xanchor": "left",
          "xref": "x",
          "y": 3,
          "yref": "y"
         },
         {
          "align": "left",
          "font": {
           "color": "#F9A237",
           "size": 10
          },
          "showarrow": false,
          "text": "Less than 6 months",
          "x": 2022,
          "xanchor": "left",
          "xref": "x",
          "y": 25,
          "yref": "y"
         },
         {
          "align": "left",
          "font": {
           "size": 12
          },
          "showarrow": false,
          "text": "Source: Ministry of Justice, Criminal justice statistics",
          "x": -0.08,
          "xref": "paper",
          "y": -0.19,
          "yref": "paper"
         },
         {
          "align": "left",
          "font": {
           "size": 12
          },
          "showarrow": false,
          "text": "Women sentenced to custody",
          "x": 2010,
          "xanchor": "left",
          "xref": "x",
          "y": 1.04,
          "yref": "paper"
         }
        ],
        "height": 500,
        "hovermode": "x",
        "margin": {
         "b": 75,
         "l": 63,
         "r": 100
        },
        "template": {
         "layout": {
          "colorway": [
           "#A01D28",
           "#499CC9",
           "#F9A237",
           "#6FBA3A",
           "#573D6B"
          ],
          "font": {
           "color": "#54565B",
           "family": "Helvetica Neue, Arial",
           "size": 12
          },
          "modebar": {
           "activecolor": "#A01D28"
          },
          "paper_bgcolor": "#F7F2F2",
          "plot_bgcolor": "#F7F2F2",
          "showlegend": false,
          "title": {
           "font": {
            "family": "Helvetica Neue, Arial",
            "size": 17
           },
           "y": 0.94,
           "yanchor": "bottom"
          },
          "xaxis": {
           "showgrid": false,
           "tickcolor": "#54565B"
          }
         }
        },
        "title": {
         "text": "<b>Use of immediate imprisonment for women in<br>Hertfordshire 2009–2021</b>"
        },
        "width": 655,
        "xaxis": {
         "dtick": 2,
         "range": [
          2009.7,
          2022.3
         ],
         "tick0": 2010
        },
        "yaxis": {
         "range": [
          0,
          103
         ],
         "tick0": 0,
         "tickformat": ",.0f",
         "title": {
          "text": ""
         }
        }
       }
      }
     },
     "metadata": {},
     "output_type": "display_data"
    },
    {
     "data": {
      "application/vnd.plotly.v1+json": {
       "config": {
        "plotlyServerURL": "https://plot.ly"
       },
       "data": [
        {
         "hovertemplate": "%{y}<extra></extra>",
         "meta": "Humberside",
         "mode": "lines",
         "name": "12 months or more",
         "type": "scatter",
         "x": [
          2010,
          2011,
          2012,
          2013,
          2014,
          2015,
          2016,
          2017,
          2018,
          2019,
          2020,
          2021,
          2022
         ],
         "y": [
          37,
          44,
          45,
          34,
          44,
          25,
          28,
          34,
          36,
          23,
          39,
          51,
          45
         ]
        },
        {
         "hovertemplate": "%{y}<extra></extra>",
         "meta": "Humberside",
         "mode": "lines",
         "name": "6 months to less than 12 months",
         "type": "scatter",
         "x": [
          2010,
          2011,
          2012,
          2013,
          2014,
          2015,
          2016,
          2017,
          2018,
          2019,
          2020,
          2021,
          2022
         ],
         "y": [
          19,
          25,
          14,
          17,
          15,
          14,
          6,
          13,
          15,
          15,
          13,
          9,
          12
         ]
        },
        {
         "hovertemplate": "%{y}<extra></extra>",
         "meta": "Humberside",
         "mode": "lines",
         "name": "Less than 6 months",
         "type": "scatter",
         "x": [
          2010,
          2011,
          2012,
          2013,
          2014,
          2015,
          2016,
          2017,
          2018,
          2019,
          2020,
          2021,
          2022
         ],
         "y": [
          89,
          84,
          95,
          93,
          95,
          97,
          113,
          75,
          106,
          91,
          85,
          74,
          62
         ]
        }
       ],
       "layout": {
        "annotations": [
         {
          "align": "left",
          "font": {
           "color": "#A01D28",
           "size": 10
          },
          "showarrow": false,
          "text": "12 months or more",
          "x": 2022,
          "xanchor": "left",
          "xref": "x",
          "y": 45,
          "yref": "y"
         },
         {
          "align": "left",
          "font": {
           "color": "#499CC9",
           "size": 10
          },
          "showarrow": false,
          "text": "6 months to less than 12 months",
          "x": 2022,
          "xanchor": "left",
          "xref": "x",
          "y": 12,
          "yref": "y"
         },
         {
          "align": "left",
          "font": {
           "color": "#F9A237",
           "size": 10
          },
          "showarrow": false,
          "text": "Less than 6 months",
          "x": 2022,
          "xanchor": "left",
          "xref": "x",
          "y": 62,
          "yref": "y"
         },
         {
          "align": "left",
          "font": {
           "size": 12
          },
          "showarrow": false,
          "text": "Source: Ministry of Justice, Criminal justice statistics",
          "x": -0.08,
          "xref": "paper",
          "y": -0.19,
          "yref": "paper"
         },
         {
          "align": "left",
          "font": {
           "size": 12
          },
          "showarrow": false,
          "text": "Women sentenced to custody",
          "x": 2010,
          "xanchor": "left",
          "xref": "x",
          "y": 1.04,
          "yref": "paper"
         }
        ],
        "height": 500,
        "hovermode": "x",
        "margin": {
         "b": 75,
         "l": 63,
         "r": 100
        },
        "template": {
         "layout": {
          "colorway": [
           "#A01D28",
           "#499CC9",
           "#F9A237",
           "#6FBA3A",
           "#573D6B"
          ],
          "font": {
           "color": "#54565B",
           "family": "Helvetica Neue, Arial",
           "size": 12
          },
          "modebar": {
           "activecolor": "#A01D28"
          },
          "paper_bgcolor": "#F7F2F2",
          "plot_bgcolor": "#F7F2F2",
          "showlegend": false,
          "title": {
           "font": {
            "family": "Helvetica Neue, Arial",
            "size": 17
           },
           "y": 0.94,
           "yanchor": "bottom"
          },
          "xaxis": {
           "showgrid": false,
           "tickcolor": "#54565B"
          }
         }
        },
        "title": {
         "text": "<b>Use of immediate imprisonment for women in<br>Humberside 2009–2021</b>"
        },
        "width": 655,
        "xaxis": {
         "dtick": 2,
         "range": [
          2009.7,
          2022.3
         ],
         "tick0": 2010
        },
        "yaxis": {
         "range": [
          0,
          204
         ],
         "tick0": 0,
         "tickformat": ",.0f",
         "title": {
          "text": ""
         }
        }
       }
      }
     },
     "metadata": {},
     "output_type": "display_data"
    },
    {
     "data": {
      "application/vnd.plotly.v1+json": {
       "config": {
        "plotlyServerURL": "https://plot.ly"
       },
       "data": [
        {
         "hovertemplate": "%{y}<extra></extra>",
         "meta": "Kent",
         "mode": "lines",
         "name": "12 months or more",
         "type": "scatter",
         "x": [
          2010,
          2011,
          2012,
          2013,
          2014,
          2015,
          2016,
          2017,
          2018,
          2019,
          2020,
          2021,
          2022
         ],
         "y": [
          58,
          69,
          56,
          53,
          47,
          55,
          67,
          72,
          71,
          60,
          40,
          44,
          59
         ]
        },
        {
         "hovertemplate": "%{y}<extra></extra>",
         "meta": "Kent",
         "mode": "lines",
         "name": "6 months to less than 12 months",
         "type": "scatter",
         "x": [
          2010,
          2011,
          2012,
          2013,
          2014,
          2015,
          2016,
          2017,
          2018,
          2019,
          2020,
          2021,
          2022
         ],
         "y": [
          19,
          26,
          16,
          19,
          24,
          22,
          21,
          30,
          17,
          12,
          10,
          12,
          12
         ]
        },
        {
         "hovertemplate": "%{y}<extra></extra>",
         "meta": "Kent",
         "mode": "lines",
         "name": "Less than 6 months",
         "type": "scatter",
         "x": [
          2010,
          2011,
          2012,
          2013,
          2014,
          2015,
          2016,
          2017,
          2018,
          2019,
          2020,
          2021,
          2022
         ],
         "y": [
          128,
          126,
          110,
          122,
          127,
          112,
          129,
          122,
          105,
          84,
          73,
          79,
          72
         ]
        }
       ],
       "layout": {
        "annotations": [
         {
          "align": "left",
          "font": {
           "color": "#A01D28",
           "size": 10
          },
          "showarrow": false,
          "text": "12 months or more",
          "x": 2022,
          "xanchor": "left",
          "xref": "x",
          "y": 59,
          "yref": "y"
         },
         {
          "align": "left",
          "font": {
           "color": "#499CC9",
           "size": 10
          },
          "showarrow": false,
          "text": "6 months to less than 12 months",
          "x": 2022,
          "xanchor": "left",
          "xref": "x",
          "y": 12,
          "yref": "y"
         },
         {
          "align": "left",
          "font": {
           "color": "#F9A237",
           "size": 10
          },
          "showarrow": false,
          "text": "Less than 6 months",
          "x": 2022,
          "xanchor": "left",
          "xref": "x",
          "y": 72,
          "yref": "y"
         },
         {
          "align": "left",
          "font": {
           "size": 12
          },
          "showarrow": false,
          "text": "Source: Ministry of Justice, Criminal justice statistics",
          "x": -0.08,
          "xref": "paper",
          "y": -0.19,
          "yref": "paper"
         },
         {
          "align": "left",
          "font": {
           "size": 12
          },
          "showarrow": false,
          "text": "Women sentenced to custody",
          "x": 2010,
          "xanchor": "left",
          "xref": "x",
          "y": 1.04,
          "yref": "paper"
         }
        ],
        "height": 500,
        "hovermode": "x",
        "margin": {
         "b": 75,
         "l": 63,
         "r": 100
        },
        "template": {
         "layout": {
          "colorway": [
           "#A01D28",
           "#499CC9",
           "#F9A237",
           "#6FBA3A",
           "#573D6B"
          ],
          "font": {
           "color": "#54565B",
           "family": "Helvetica Neue, Arial",
           "size": 12
          },
          "modebar": {
           "activecolor": "#A01D28"
          },
          "paper_bgcolor": "#F7F2F2",
          "plot_bgcolor": "#F7F2F2",
          "showlegend": false,
          "title": {
           "font": {
            "family": "Helvetica Neue, Arial",
            "size": 17
           },
           "y": 0.94,
           "yanchor": "bottom"
          },
          "xaxis": {
           "showgrid": false,
           "tickcolor": "#54565B"
          }
         }
        },
        "title": {
         "text": "<b>Use of immediate imprisonment for women in<br>Kent 2009–2021</b>"
        },
        "width": 655,
        "xaxis": {
         "dtick": 2,
         "range": [
          2009.7,
          2022.3
         ],
         "tick0": 2010
        },
        "yaxis": {
         "range": [
          0,
          204
         ],
         "tick0": 0,
         "tickformat": ",.0f",
         "title": {
          "text": ""
         }
        }
       }
      }
     },
     "metadata": {},
     "output_type": "display_data"
    },
    {
     "data": {
      "application/vnd.plotly.v1+json": {
       "config": {
        "plotlyServerURL": "https://plot.ly"
       },
       "data": [
        {
         "hovertemplate": "%{y}<extra></extra>",
         "meta": "Lancashire",
         "mode": "lines",
         "name": "12 months or more",
         "type": "scatter",
         "x": [
          2010,
          2011,
          2012,
          2013,
          2014,
          2015,
          2016,
          2017,
          2018,
          2019,
          2020,
          2021,
          2022
         ],
         "y": [
          61,
          71,
          70,
          66,
          79,
          76,
          48,
          46,
          51,
          52,
          47,
          68,
          45
         ]
        },
        {
         "hovertemplate": "%{y}<extra></extra>",
         "meta": "Lancashire",
         "mode": "lines",
         "name": "6 months to less than 12 months",
         "type": "scatter",
         "x": [
          2010,
          2011,
          2012,
          2013,
          2014,
          2015,
          2016,
          2017,
          2018,
          2019,
          2020,
          2021,
          2022
         ],
         "y": [
          28,
          21,
          29,
          33,
          27,
          22,
          26,
          17,
          23,
          11,
          13,
          22,
          18
         ]
        },
        {
         "hovertemplate": "%{y}<extra></extra>",
         "meta": "Lancashire",
         "mode": "lines",
         "name": "Less than 6 months",
         "type": "scatter",
         "x": [
          2010,
          2011,
          2012,
          2013,
          2014,
          2015,
          2016,
          2017,
          2018,
          2019,
          2020,
          2021,
          2022
         ],
         "y": [
          96,
          95,
          104,
          140,
          128,
          117,
          94,
          135,
          124,
          101,
          53,
          57,
          53
         ]
        }
       ],
       "layout": {
        "annotations": [
         {
          "align": "left",
          "font": {
           "color": "#A01D28",
           "size": 10
          },
          "showarrow": false,
          "text": "12 months or more",
          "x": 2022,
          "xanchor": "left",
          "xref": "x",
          "y": 45,
          "yref": "y"
         },
         {
          "align": "left",
          "font": {
           "color": "#499CC9",
           "size": 10
          },
          "showarrow": false,
          "text": "6 months to less than 12 months",
          "x": 2022,
          "xanchor": "left",
          "xref": "x",
          "y": 18,
          "yref": "y"
         },
         {
          "align": "left",
          "font": {
           "color": "#F9A237",
           "size": 10
          },
          "showarrow": false,
          "text": "Less than 6 months",
          "x": 2022,
          "xanchor": "left",
          "xref": "x",
          "y": 53,
          "yref": "y"
         },
         {
          "align": "left",
          "font": {
           "size": 12
          },
          "showarrow": false,
          "text": "Source: Ministry of Justice, Criminal justice statistics",
          "x": -0.08,
          "xref": "paper",
          "y": -0.19,
          "yref": "paper"
         },
         {
          "align": "left",
          "font": {
           "size": 12
          },
          "showarrow": false,
          "text": "Women sentenced to custody",
          "x": 2010,
          "xanchor": "left",
          "xref": "x",
          "y": 1.04,
          "yref": "paper"
         }
        ],
        "height": 500,
        "hovermode": "x",
        "margin": {
         "b": 75,
         "l": 63,
         "r": 100
        },
        "template": {
         "layout": {
          "colorway": [
           "#A01D28",
           "#499CC9",
           "#F9A237",
           "#6FBA3A",
           "#573D6B"
          ],
          "font": {
           "color": "#54565B",
           "family": "Helvetica Neue, Arial",
           "size": 12
          },
          "modebar": {
           "activecolor": "#A01D28"
          },
          "paper_bgcolor": "#F7F2F2",
          "plot_bgcolor": "#F7F2F2",
          "showlegend": false,
          "title": {
           "font": {
            "family": "Helvetica Neue, Arial",
            "size": 17
           },
           "y": 0.94,
           "yanchor": "bottom"
          },
          "xaxis": {
           "showgrid": false,
           "tickcolor": "#54565B"
          }
         }
        },
        "title": {
         "text": "<b>Use of immediate imprisonment for women in<br>Lancashire 2009–2021</b>"
        },
        "width": 655,
        "xaxis": {
         "dtick": 2,
         "range": [
          2009.7,
          2022.3
         ],
         "tick0": 2010
        },
        "yaxis": {
         "range": [
          0,
          204
         ],
         "tick0": 0,
         "tickformat": ",.0f",
         "title": {
          "text": ""
         }
        }
       }
      }
     },
     "metadata": {},
     "output_type": "display_data"
    },
    {
     "data": {
      "application/vnd.plotly.v1+json": {
       "config": {
        "plotlyServerURL": "https://plot.ly"
       },
       "data": [
        {
         "hovertemplate": "%{y}<extra></extra>",
         "meta": "Leicestershire",
         "mode": "lines",
         "name": "12 months or more",
         "type": "scatter",
         "x": [
          2010,
          2011,
          2012,
          2013,
          2014,
          2015,
          2016,
          2017,
          2018,
          2019,
          2020,
          2021,
          2022
         ],
         "y": [
          33,
          46,
          30,
          28,
          25,
          23,
          20,
          26,
          16,
          17,
          16,
          22,
          23
         ]
        },
        {
         "hovertemplate": "%{y}<extra></extra>",
         "meta": "Leicestershire",
         "mode": "lines",
         "name": "6 months to less than 12 months",
         "type": "scatter",
         "x": [
          2010,
          2011,
          2012,
          2013,
          2014,
          2015,
          2016,
          2017,
          2018,
          2019,
          2020,
          2021,
          2022
         ],
         "y": [
          12,
          12,
          13,
          13,
          6,
          4,
          8,
          7,
          9,
          8,
          9,
          3,
          9
         ]
        },
        {
         "hovertemplate": "%{y}<extra></extra>",
         "meta": "Leicestershire",
         "mode": "lines",
         "name": "Less than 6 months",
         "type": "scatter",
         "x": [
          2010,
          2011,
          2012,
          2013,
          2014,
          2015,
          2016,
          2017,
          2018,
          2019,
          2020,
          2021,
          2022
         ],
         "y": [
          58,
          58,
          69,
          63,
          71,
          61,
          67,
          76,
          87,
          70,
          65,
          38,
          38
         ]
        }
       ],
       "layout": {
        "annotations": [
         {
          "align": "left",
          "font": {
           "color": "#A01D28",
           "size": 10
          },
          "showarrow": false,
          "text": "12 months or more",
          "x": 2022,
          "xanchor": "left",
          "xref": "x",
          "y": 23,
          "yref": "y"
         },
         {
          "align": "left",
          "font": {
           "color": "#499CC9",
           "size": 10
          },
          "showarrow": false,
          "text": "6 months to less than 12 months",
          "x": 2022,
          "xanchor": "left",
          "xref": "x",
          "y": 9,
          "yref": "y"
         },
         {
          "align": "left",
          "font": {
           "color": "#F9A237",
           "size": 10
          },
          "showarrow": false,
          "text": "Less than 6 months",
          "x": 2022,
          "xanchor": "left",
          "xref": "x",
          "y": 38,
          "yref": "y"
         },
         {
          "align": "left",
          "font": {
           "size": 12
          },
          "showarrow": false,
          "text": "Source: Ministry of Justice, Criminal justice statistics",
          "x": -0.08,
          "xref": "paper",
          "y": -0.19,
          "yref": "paper"
         },
         {
          "align": "left",
          "font": {
           "size": 12
          },
          "showarrow": false,
          "text": "Women sentenced to custody",
          "x": 2010,
          "xanchor": "left",
          "xref": "x",
          "y": 1.04,
          "yref": "paper"
         }
        ],
        "height": 500,
        "hovermode": "x",
        "margin": {
         "b": 75,
         "l": 63,
         "r": 100
        },
        "template": {
         "layout": {
          "colorway": [
           "#A01D28",
           "#499CC9",
           "#F9A237",
           "#6FBA3A",
           "#573D6B"
          ],
          "font": {
           "color": "#54565B",
           "family": "Helvetica Neue, Arial",
           "size": 12
          },
          "modebar": {
           "activecolor": "#A01D28"
          },
          "paper_bgcolor": "#F7F2F2",
          "plot_bgcolor": "#F7F2F2",
          "showlegend": false,
          "title": {
           "font": {
            "family": "Helvetica Neue, Arial",
            "size": 17
           },
           "y": 0.94,
           "yanchor": "bottom"
          },
          "xaxis": {
           "showgrid": false,
           "tickcolor": "#54565B"
          }
         }
        },
        "title": {
         "text": "<b>Use of immediate imprisonment for women in<br>Leicestershire 2009–2021</b>"
        },
        "width": 655,
        "xaxis": {
         "dtick": 2,
         "range": [
          2009.7,
          2022.3
         ],
         "tick0": 2010
        },
        "yaxis": {
         "range": [
          0,
          103
         ],
         "tick0": 0,
         "tickformat": ",.0f",
         "title": {
          "text": ""
         }
        }
       }
      }
     },
     "metadata": {},
     "output_type": "display_data"
    },
    {
     "data": {
      "application/vnd.plotly.v1+json": {
       "config": {
        "plotlyServerURL": "https://plot.ly"
       },
       "data": [
        {
         "hovertemplate": "%{y}<extra></extra>",
         "meta": "Lincolnshire",
         "mode": "lines",
         "name": "12 months or more",
         "type": "scatter",
         "x": [
          2010,
          2011,
          2012,
          2013,
          2014,
          2015,
          2016,
          2017,
          2018,
          2019,
          2020,
          2021,
          2022
         ],
         "y": [
          21,
          23,
          25,
          15,
          10,
          16,
          18,
          24,
          23,
          19,
          15,
          20,
          12
         ]
        },
        {
         "hovertemplate": "%{y}<extra></extra>",
         "meta": "Lincolnshire",
         "mode": "lines",
         "name": "6 months to less than 12 months",
         "type": "scatter",
         "x": [
          2010,
          2011,
          2012,
          2013,
          2014,
          2015,
          2016,
          2017,
          2018,
          2019,
          2020,
          2021,
          2022
         ],
         "y": [
          10,
          10,
          6,
          6,
          5,
          6,
          4,
          6,
          10,
          7,
          2,
          3,
          4
         ]
        },
        {
         "hovertemplate": "%{y}<extra></extra>",
         "meta": "Lincolnshire",
         "mode": "lines",
         "name": "Less than 6 months",
         "type": "scatter",
         "x": [
          2010,
          2011,
          2012,
          2013,
          2014,
          2015,
          2016,
          2017,
          2018,
          2019,
          2020,
          2021,
          2022
         ],
         "y": [
          20,
          23,
          29,
          45,
          25,
          30,
          44,
          31,
          40,
          39,
          14,
          20,
          30
         ]
        }
       ],
       "layout": {
        "annotations": [
         {
          "align": "left",
          "font": {
           "color": "#A01D28",
           "size": 10
          },
          "showarrow": false,
          "text": "12 months or more",
          "x": 2022,
          "xanchor": "left",
          "xref": "x",
          "y": 12,
          "yref": "y"
         },
         {
          "align": "left",
          "font": {
           "color": "#499CC9",
           "size": 10
          },
          "showarrow": false,
          "text": "6 months to less than 12 months",
          "x": 2022,
          "xanchor": "left",
          "xref": "x",
          "y": 4,
          "yref": "y"
         },
         {
          "align": "left",
          "font": {
           "color": "#F9A237",
           "size": 10
          },
          "showarrow": false,
          "text": "Less than 6 months",
          "x": 2022,
          "xanchor": "left",
          "xref": "x",
          "y": 30,
          "yref": "y"
         },
         {
          "align": "left",
          "font": {
           "size": 12
          },
          "showarrow": false,
          "text": "Source: Ministry of Justice, Criminal justice statistics",
          "x": -0.08,
          "xref": "paper",
          "y": -0.19,
          "yref": "paper"
         },
         {
          "align": "left",
          "font": {
           "size": 12
          },
          "showarrow": false,
          "text": "Women sentenced to custody",
          "x": 2010,
          "xanchor": "left",
          "xref": "x",
          "y": 1.04,
          "yref": "paper"
         }
        ],
        "height": 500,
        "hovermode": "x",
        "margin": {
         "b": 75,
         "l": 63,
         "r": 100
        },
        "template": {
         "layout": {
          "colorway": [
           "#A01D28",
           "#499CC9",
           "#F9A237",
           "#6FBA3A",
           "#573D6B"
          ],
          "font": {
           "color": "#54565B",
           "family": "Helvetica Neue, Arial",
           "size": 12
          },
          "modebar": {
           "activecolor": "#A01D28"
          },
          "paper_bgcolor": "#F7F2F2",
          "plot_bgcolor": "#F7F2F2",
          "showlegend": false,
          "title": {
           "font": {
            "family": "Helvetica Neue, Arial",
            "size": 17
           },
           "y": 0.94,
           "yanchor": "bottom"
          },
          "xaxis": {
           "showgrid": false,
           "tickcolor": "#54565B"
          }
         }
        },
        "title": {
         "text": "<b>Use of immediate imprisonment for women in<br>Lincolnshire 2009–2021</b>"
        },
        "width": 655,
        "xaxis": {
         "dtick": 2,
         "range": [
          2009.7,
          2022.3
         ],
         "tick0": 2010
        },
        "yaxis": {
         "range": [
          0,
          52
         ],
         "tick0": 0,
         "tickformat": ",.0f",
         "title": {
          "text": ""
         }
        }
       }
      }
     },
     "metadata": {},
     "output_type": "display_data"
    },
    {
     "data": {
      "application/vnd.plotly.v1+json": {
       "config": {
        "plotlyServerURL": "https://plot.ly"
       },
       "data": [
        {
         "hovertemplate": "%{y}<extra></extra>",
         "meta": "Merseyside",
         "mode": "lines",
         "name": "12 months or more",
         "type": "scatter",
         "x": [
          2010,
          2011,
          2012,
          2013,
          2014,
          2015,
          2016,
          2017,
          2018,
          2019,
          2020,
          2021,
          2022
         ],
         "y": [
          52,
          74,
          51,
          51,
          63,
          56,
          57,
          47,
          43,
          47,
          55,
          85,
          94
         ]
        },
        {
         "hovertemplate": "%{y}<extra></extra>",
         "meta": "Merseyside",
         "mode": "lines",
         "name": "6 months to less than 12 months",
         "type": "scatter",
         "x": [
          2010,
          2011,
          2012,
          2013,
          2014,
          2015,
          2016,
          2017,
          2018,
          2019,
          2020,
          2021,
          2022
         ],
         "y": [
          28,
          25,
          16,
          23,
          20,
          25,
          18,
          17,
          16,
          16,
          24,
          17,
          18
         ]
        },
        {
         "hovertemplate": "%{y}<extra></extra>",
         "meta": "Merseyside",
         "mode": "lines",
         "name": "Less than 6 months",
         "type": "scatter",
         "x": [
          2010,
          2011,
          2012,
          2013,
          2014,
          2015,
          2016,
          2017,
          2018,
          2019,
          2020,
          2021,
          2022
         ],
         "y": [
          165,
          160,
          162,
          158,
          164,
          185,
          190,
          172,
          144,
          150,
          84,
          94,
          83
         ]
        }
       ],
       "layout": {
        "annotations": [
         {
          "align": "left",
          "font": {
           "color": "#A01D28",
           "size": 10
          },
          "showarrow": false,
          "text": "12 months or more",
          "x": 2022,
          "xanchor": "left",
          "xref": "x",
          "y": 94,
          "yref": "y"
         },
         {
          "align": "left",
          "font": {
           "color": "#499CC9",
           "size": 10
          },
          "showarrow": false,
          "text": "6 months to less than 12 months",
          "x": 2022,
          "xanchor": "left",
          "xref": "x",
          "y": 18,
          "yref": "y"
         },
         {
          "align": "left",
          "font": {
           "color": "#F9A237",
           "size": 10
          },
          "showarrow": false,
          "text": "Less than 6 months",
          "x": 2022,
          "xanchor": "left",
          "xref": "x",
          "y": 83,
          "yref": "y"
         },
         {
          "align": "left",
          "font": {
           "size": 12
          },
          "showarrow": false,
          "text": "Source: Ministry of Justice, Criminal justice statistics",
          "x": -0.08,
          "xref": "paper",
          "y": -0.19,
          "yref": "paper"
         },
         {
          "align": "left",
          "font": {
           "size": 12
          },
          "showarrow": false,
          "text": "Women sentenced to custody",
          "x": 2010,
          "xanchor": "left",
          "xref": "x",
          "y": 1.04,
          "yref": "paper"
         }
        ],
        "height": 500,
        "hovermode": "x",
        "margin": {
         "b": 75,
         "l": 63,
         "r": 100
        },
        "template": {
         "layout": {
          "colorway": [
           "#A01D28",
           "#499CC9",
           "#F9A237",
           "#6FBA3A",
           "#573D6B"
          ],
          "font": {
           "color": "#54565B",
           "family": "Helvetica Neue, Arial",
           "size": 12
          },
          "modebar": {
           "activecolor": "#A01D28"
          },
          "paper_bgcolor": "#F7F2F2",
          "plot_bgcolor": "#F7F2F2",
          "showlegend": false,
          "title": {
           "font": {
            "family": "Helvetica Neue, Arial",
            "size": 17
           },
           "y": 0.94,
           "yanchor": "bottom"
          },
          "xaxis": {
           "showgrid": false,
           "tickcolor": "#54565B"
          }
         }
        },
        "title": {
         "text": "<b>Use of immediate imprisonment for women in<br>Merseyside 2009–2021</b>"
        },
        "width": 655,
        "xaxis": {
         "dtick": 2,
         "range": [
          2009.7,
          2022.3
         ],
         "tick0": 2010
        },
        "yaxis": {
         "range": [
          0,
          204
         ],
         "tick0": 0,
         "tickformat": ",.0f",
         "title": {
          "text": ""
         }
        }
       }
      }
     },
     "metadata": {},
     "output_type": "display_data"
    },
    {
     "data": {
      "application/vnd.plotly.v1+json": {
       "config": {
        "plotlyServerURL": "https://plot.ly"
       },
       "data": [
        {
         "hovertemplate": "%{y}<extra></extra>",
         "meta": "Metropolitan Police",
         "mode": "lines",
         "name": "12 months or more",
         "type": "scatter",
         "x": [
          2010,
          2011,
          2012,
          2013,
          2014,
          2015,
          2016,
          2017,
          2018,
          2019,
          2020,
          2021,
          2022
         ],
         "y": [
          357,
          439,
          391,
          280,
          314,
          282,
          282,
          292,
          244,
          210,
          164,
          172,
          187
         ]
        },
        {
         "hovertemplate": "%{y}<extra></extra>",
         "meta": "Metropolitan Police",
         "mode": "lines",
         "name": "6 months to less than 12 months",
         "type": "scatter",
         "x": [
          2010,
          2011,
          2012,
          2013,
          2014,
          2015,
          2016,
          2017,
          2018,
          2019,
          2020,
          2021,
          2022
         ],
         "y": [
          215,
          246,
          190,
          154,
          131,
          113,
          132,
          122,
          88,
          82,
          69,
          58,
          58
         ]
        },
        {
         "hovertemplate": "%{y}<extra></extra>",
         "meta": "Metropolitan Police",
         "mode": "lines",
         "name": "Less than 6 months",
         "type": "scatter",
         "x": [
          2010,
          2011,
          2012,
          2013,
          2014,
          2015,
          2016,
          2017,
          2018,
          2019,
          2020,
          2021,
          2022
         ],
         "y": [
          1066,
          1060,
          942,
          852,
          845,
          785,
          858,
          778,
          666,
          592,
          399,
          306,
          331
         ]
        }
       ],
       "layout": {
        "annotations": [
         {
          "align": "left",
          "font": {
           "color": "#A01D28",
           "size": 10
          },
          "showarrow": false,
          "text": "12 months or more",
          "x": 2022,
          "xanchor": "left",
          "xref": "x",
          "y": 187,
          "yref": "y"
         },
         {
          "align": "left",
          "font": {
           "color": "#499CC9",
           "size": 10
          },
          "showarrow": false,
          "text": "6 months to less than 12 months",
          "x": 2022,
          "xanchor": "left",
          "xref": "x",
          "y": 58,
          "yref": "y"
         },
         {
          "align": "left",
          "font": {
           "color": "#F9A237",
           "size": 10
          },
          "showarrow": false,
          "text": "Less than 6 months",
          "x": 2022,
          "xanchor": "left",
          "xref": "x",
          "y": 331,
          "yref": "y"
         },
         {
          "align": "left",
          "font": {
           "size": 12
          },
          "showarrow": false,
          "text": "Source: Ministry of Justice, Criminal justice statistics",
          "x": -0.08,
          "xref": "paper",
          "y": -0.19,
          "yref": "paper"
         },
         {
          "align": "left",
          "font": {
           "size": 12
          },
          "showarrow": false,
          "text": "Women sentenced to custody",
          "x": 2010,
          "xanchor": "left",
          "xref": "x",
          "y": 1.04,
          "yref": "paper"
         }
        ],
        "height": 500,
        "hovermode": "x",
        "margin": {
         "b": 75,
         "l": 63,
         "r": 100
        },
        "template": {
         "layout": {
          "colorway": [
           "#A01D28",
           "#499CC9",
           "#F9A237",
           "#6FBA3A",
           "#573D6B"
          ],
          "font": {
           "color": "#54565B",
           "family": "Helvetica Neue, Arial",
           "size": 12
          },
          "modebar": {
           "activecolor": "#A01D28"
          },
          "paper_bgcolor": "#F7F2F2",
          "plot_bgcolor": "#F7F2F2",
          "showlegend": false,
          "title": {
           "font": {
            "family": "Helvetica Neue, Arial",
            "size": 17
           },
           "y": 0.94,
           "yanchor": "bottom"
          },
          "xaxis": {
           "showgrid": false,
           "tickcolor": "#54565B"
          }
         }
        },
        "title": {
         "text": "<b>Use of immediate imprisonment for women in<br>Metropolitan Police 2009–2021</b>"
        },
        "width": 655,
        "xaxis": {
         "dtick": 2,
         "range": [
          2009.7,
          2022.3
         ],
         "tick0": 2010
        },
        "yaxis": {
         "range": [
          0,
          1210
         ],
         "tick0": 0,
         "tickformat": ",.0f",
         "title": {
          "text": ""
         }
        }
       }
      }
     },
     "metadata": {},
     "output_type": "display_data"
    },
    {
     "data": {
      "application/vnd.plotly.v1+json": {
       "config": {
        "plotlyServerURL": "https://plot.ly"
       },
       "data": [
        {
         "hovertemplate": "%{y}<extra></extra>",
         "meta": "Norfolk",
         "mode": "lines",
         "name": "12 months or more",
         "type": "scatter",
         "x": [
          2010,
          2011,
          2012,
          2013,
          2014,
          2015,
          2016,
          2017,
          2018,
          2019,
          2020,
          2021,
          2022
         ],
         "y": [
          20,
          23,
          21,
          28,
          25,
          21,
          17,
          33,
          24,
          17,
          27,
          24,
          20
         ]
        },
        {
         "hovertemplate": "%{y}<extra></extra>",
         "meta": "Norfolk",
         "mode": "lines",
         "name": "6 months to less than 12 months",
         "type": "scatter",
         "x": [
          2010,
          2011,
          2012,
          2013,
          2014,
          2015,
          2016,
          2017,
          2018,
          2019,
          2020,
          2021,
          2022
         ],
         "y": [
          18,
          10,
          9,
          6,
          12,
          11,
          16,
          4,
          6,
          10,
          3,
          6,
          4
         ]
        },
        {
         "hovertemplate": "%{y}<extra></extra>",
         "meta": "Norfolk",
         "mode": "lines",
         "name": "Less than 6 months",
         "type": "scatter",
         "x": [
          2010,
          2011,
          2012,
          2013,
          2014,
          2015,
          2016,
          2017,
          2018,
          2019,
          2020,
          2021,
          2022
         ],
         "y": [
          58,
          58,
          62,
          39,
          49,
          66,
          91,
          71,
          68,
          57,
          46,
          32,
          30
         ]
        }
       ],
       "layout": {
        "annotations": [
         {
          "align": "left",
          "font": {
           "color": "#A01D28",
           "size": 10
          },
          "showarrow": false,
          "text": "12 months or more",
          "x": 2022,
          "xanchor": "left",
          "xref": "x",
          "y": 20,
          "yref": "y"
         },
         {
          "align": "left",
          "font": {
           "color": "#499CC9",
           "size": 10
          },
          "showarrow": false,
          "text": "6 months to less than 12 months",
          "x": 2022,
          "xanchor": "left",
          "xref": "x",
          "y": 4,
          "yref": "y"
         },
         {
          "align": "left",
          "font": {
           "color": "#F9A237",
           "size": 10
          },
          "showarrow": false,
          "text": "Less than 6 months",
          "x": 2022,
          "xanchor": "left",
          "xref": "x",
          "y": 30,
          "yref": "y"
         },
         {
          "align": "left",
          "font": {
           "size": 12
          },
          "showarrow": false,
          "text": "Source: Ministry of Justice, Criminal justice statistics",
          "x": -0.08,
          "xref": "paper",
          "y": -0.19,
          "yref": "paper"
         },
         {
          "align": "left",
          "font": {
           "size": 12
          },
          "showarrow": false,
          "text": "Women sentenced to custody",
          "x": 2010,
          "xanchor": "left",
          "xref": "x",
          "y": 1.04,
          "yref": "paper"
         }
        ],
        "height": 500,
        "hovermode": "x",
        "margin": {
         "b": 75,
         "l": 63,
         "r": 100
        },
        "template": {
         "layout": {
          "colorway": [
           "#A01D28",
           "#499CC9",
           "#F9A237",
           "#6FBA3A",
           "#573D6B"
          ],
          "font": {
           "color": "#54565B",
           "family": "Helvetica Neue, Arial",
           "size": 12
          },
          "modebar": {
           "activecolor": "#A01D28"
          },
          "paper_bgcolor": "#F7F2F2",
          "plot_bgcolor": "#F7F2F2",
          "showlegend": false,
          "title": {
           "font": {
            "family": "Helvetica Neue, Arial",
            "size": 17
           },
           "y": 0.94,
           "yanchor": "bottom"
          },
          "xaxis": {
           "showgrid": false,
           "tickcolor": "#54565B"
          }
         }
        },
        "title": {
         "text": "<b>Use of immediate imprisonment for women in<br>Norfolk 2009–2021</b>"
        },
        "width": 655,
        "xaxis": {
         "dtick": 2,
         "range": [
          2009.7,
          2022.3
         ],
         "tick0": 2010
        },
        "yaxis": {
         "range": [
          0,
          103
         ],
         "tick0": 0,
         "tickformat": ",.0f",
         "title": {
          "text": ""
         }
        }
       }
      }
     },
     "metadata": {},
     "output_type": "display_data"
    },
    {
     "data": {
      "application/vnd.plotly.v1+json": {
       "config": {
        "plotlyServerURL": "https://plot.ly"
       },
       "data": [
        {
         "hovertemplate": "%{y}<extra></extra>",
         "meta": "North Wales",
         "mode": "lines",
         "name": "12 months or more",
         "type": "scatter",
         "x": [
          2010,
          2011,
          2012,
          2013,
          2014,
          2015,
          2016,
          2017,
          2018,
          2019,
          2020,
          2021,
          2022
         ],
         "y": [
          20,
          21,
          30,
          25,
          19,
          23,
          24,
          12,
          35,
          30,
          16,
          22,
          22
         ]
        },
        {
         "hovertemplate": "%{y}<extra></extra>",
         "meta": "North Wales",
         "mode": "lines",
         "name": "6 months to less than 12 months",
         "type": "scatter",
         "x": [
          2010,
          2011,
          2012,
          2013,
          2014,
          2015,
          2016,
          2017,
          2018,
          2019,
          2020,
          2021,
          2022
         ],
         "y": [
          11,
          14,
          17,
          13,
          9,
          9,
          4,
          19,
          7,
          9,
          11,
          9,
          6
         ]
        },
        {
         "hovertemplate": "%{y}<extra></extra>",
         "meta": "North Wales",
         "mode": "lines",
         "name": "Less than 6 months",
         "type": "scatter",
         "x": [
          2010,
          2011,
          2012,
          2013,
          2014,
          2015,
          2016,
          2017,
          2018,
          2019,
          2020,
          2021,
          2022
         ],
         "y": [
          40,
          35,
          46,
          60,
          63,
          74,
          87,
          75,
          69,
          50,
          38,
          48,
          58
         ]
        }
       ],
       "layout": {
        "annotations": [
         {
          "align": "left",
          "font": {
           "color": "#A01D28",
           "size": 10
          },
          "showarrow": false,
          "text": "12 months or more",
          "x": 2022,
          "xanchor": "left",
          "xref": "x",
          "y": 22,
          "yref": "y"
         },
         {
          "align": "left",
          "font": {
           "color": "#499CC9",
           "size": 10
          },
          "showarrow": false,
          "text": "6 months to less than 12 months",
          "x": 2022,
          "xanchor": "left",
          "xref": "x",
          "y": 6,
          "yref": "y"
         },
         {
          "align": "left",
          "font": {
           "color": "#F9A237",
           "size": 10
          },
          "showarrow": false,
          "text": "Less than 6 months",
          "x": 2022,
          "xanchor": "left",
          "xref": "x",
          "y": 58,
          "yref": "y"
         },
         {
          "align": "left",
          "font": {
           "size": 12
          },
          "showarrow": false,
          "text": "Source: Ministry of Justice, Criminal justice statistics",
          "x": -0.08,
          "xref": "paper",
          "y": -0.19,
          "yref": "paper"
         },
         {
          "align": "left",
          "font": {
           "size": 12
          },
          "showarrow": false,
          "text": "Women sentenced to custody",
          "x": 2010,
          "xanchor": "left",
          "xref": "x",
          "y": 1.04,
          "yref": "paper"
         }
        ],
        "height": 500,
        "hovermode": "x",
        "margin": {
         "b": 75,
         "l": 63,
         "r": 100
        },
        "template": {
         "layout": {
          "colorway": [
           "#A01D28",
           "#499CC9",
           "#F9A237",
           "#6FBA3A",
           "#573D6B"
          ],
          "font": {
           "color": "#54565B",
           "family": "Helvetica Neue, Arial",
           "size": 12
          },
          "modebar": {
           "activecolor": "#A01D28"
          },
          "paper_bgcolor": "#F7F2F2",
          "plot_bgcolor": "#F7F2F2",
          "showlegend": false,
          "title": {
           "font": {
            "family": "Helvetica Neue, Arial",
            "size": 17
           },
           "y": 0.94,
           "yanchor": "bottom"
          },
          "xaxis": {
           "showgrid": false,
           "tickcolor": "#54565B"
          }
         }
        },
        "title": {
         "text": "<b>Use of immediate imprisonment for women in<br>North Wales 2009–2021</b>"
        },
        "width": 655,
        "xaxis": {
         "dtick": 2,
         "range": [
          2009.7,
          2022.3
         ],
         "tick0": 2010
        },
        "yaxis": {
         "range": [
          0,
          103
         ],
         "tick0": 0,
         "tickformat": ",.0f",
         "title": {
          "text": ""
         }
        }
       }
      }
     },
     "metadata": {},
     "output_type": "display_data"
    },
    {
     "data": {
      "application/vnd.plotly.v1+json": {
       "config": {
        "plotlyServerURL": "https://plot.ly"
       },
       "data": [
        {
         "hovertemplate": "%{y}<extra></extra>",
         "meta": "North Yorkshire",
         "mode": "lines",
         "name": "12 months or more",
         "type": "scatter",
         "x": [
          2010,
          2011,
          2012,
          2013,
          2014,
          2015,
          2016,
          2017,
          2018,
          2019,
          2020,
          2021,
          2022
         ],
         "y": [
          16,
          15,
          22,
          13,
          21,
          20,
          26,
          28,
          20,
          21,
          16,
          16,
          10
         ]
        },
        {
         "hovertemplate": "%{y}<extra></extra>",
         "meta": "North Yorkshire",
         "mode": "lines",
         "name": "6 months to less than 12 months",
         "type": "scatter",
         "x": [
          2010,
          2011,
          2012,
          2013,
          2014,
          2015,
          2016,
          2017,
          2018,
          2019,
          2020,
          2021,
          2022
         ],
         "y": [
          10,
          10,
          7,
          10,
          5,
          10,
          5,
          5,
          10,
          13,
          12,
          6,
          7
         ]
        },
        {
         "hovertemplate": "%{y}<extra></extra>",
         "meta": "North Yorkshire",
         "mode": "lines",
         "name": "Less than 6 months",
         "type": "scatter",
         "x": [
          2010,
          2011,
          2012,
          2013,
          2014,
          2015,
          2016,
          2017,
          2018,
          2019,
          2020,
          2021,
          2022
         ],
         "y": [
          62,
          63,
          72,
          55,
          56,
          48,
          52,
          57,
          58,
          61,
          54,
          30,
          35
         ]
        }
       ],
       "layout": {
        "annotations": [
         {
          "align": "left",
          "font": {
           "color": "#A01D28",
           "size": 10
          },
          "showarrow": false,
          "text": "12 months or more",
          "x": 2022,
          "xanchor": "left",
          "xref": "x",
          "y": 12,
          "yref": "y"
         },
         {
          "align": "left",
          "font": {
           "color": "#499CC9",
           "size": 10
          },
          "showarrow": false,
          "text": "6 months to less than 12 months",
          "x": 2022,
          "xanchor": "left",
          "xref": "x",
          "y": 7,
          "yref": "y"
         },
         {
          "align": "left",
          "font": {
           "color": "#F9A237",
           "size": 10
          },
          "showarrow": false,
          "text": "Less than 6 months",
          "x": 2022,
          "xanchor": "left",
          "xref": "x",
          "y": 35,
          "yref": "y"
         },
         {
          "align": "left",
          "font": {
           "size": 12
          },
          "showarrow": false,
          "text": "Source: Ministry of Justice, Criminal justice statistics",
          "x": -0.08,
          "xref": "paper",
          "y": -0.19,
          "yref": "paper"
         },
         {
          "align": "left",
          "font": {
           "size": 12
          },
          "showarrow": false,
          "text": "Women sentenced to custody",
          "x": 2010,
          "xanchor": "left",
          "xref": "x",
          "y": 1.04,
          "yref": "paper"
         }
        ],
        "height": 500,
        "hovermode": "x",
        "margin": {
         "b": 75,
         "l": 63,
         "r": 100
        },
        "template": {
         "layout": {
          "colorway": [
           "#A01D28",
           "#499CC9",
           "#F9A237",
           "#6FBA3A",
           "#573D6B"
          ],
          "font": {
           "color": "#54565B",
           "family": "Helvetica Neue, Arial",
           "size": 12
          },
          "modebar": {
           "activecolor": "#A01D28"
          },
          "paper_bgcolor": "#F7F2F2",
          "plot_bgcolor": "#F7F2F2",
          "showlegend": false,
          "title": {
           "font": {
            "family": "Helvetica Neue, Arial",
            "size": 17
           },
           "y": 0.94,
           "yanchor": "bottom"
          },
          "xaxis": {
           "showgrid": false,
           "tickcolor": "#54565B"
          }
         }
        },
        "title": {
         "text": "<b>Use of immediate imprisonment for women in<br>North Yorkshire 2009–2021</b>"
        },
        "width": 655,
        "xaxis": {
         "dtick": 2,
         "range": [
          2009.7,
          2022.3
         ],
         "tick0": 2010
        },
        "yaxis": {
         "range": [
          0,
          103
         ],
         "tick0": 0,
         "tickformat": ",.0f",
         "title": {
          "text": ""
         }
        }
       }
      }
     },
     "metadata": {},
     "output_type": "display_data"
    },
    {
     "data": {
      "application/vnd.plotly.v1+json": {
       "config": {
        "plotlyServerURL": "https://plot.ly"
       },
       "data": [
        {
         "hovertemplate": "%{y}<extra></extra>",
         "meta": "Northamptonshire",
         "mode": "lines",
         "name": "12 months or more",
         "type": "scatter",
         "x": [
          2010,
          2011,
          2012,
          2013,
          2014,
          2015,
          2016,
          2017,
          2018,
          2019,
          2020,
          2021,
          2022
         ],
         "y": [
          34,
          20,
          30,
          13,
          17,
          15,
          19,
          7,
          16,
          17,
          10,
          22,
          14
         ]
        },
        {
         "hovertemplate": "%{y}<extra></extra>",
         "meta": "Northamptonshire",
         "mode": "lines",
         "name": "6 months to less than 12 months",
         "type": "scatter",
         "x": [
          2010,
          2011,
          2012,
          2013,
          2014,
          2015,
          2016,
          2017,
          2018,
          2019,
          2020,
          2021,
          2022
         ],
         "y": [
          13,
          18,
          18,
          11,
          9,
          3,
          7,
          6,
          2,
          4,
          3,
          4,
          5
         ]
        },
        {
         "hovertemplate": "%{y}<extra></extra>",
         "meta": "Northamptonshire",
         "mode": "lines",
         "name": "Less than 6 months",
         "type": "scatter",
         "x": [
          2010,
          2011,
          2012,
          2013,
          2014,
          2015,
          2016,
          2017,
          2018,
          2019,
          2020,
          2021,
          2022
         ],
         "y": [
          80,
          75,
          74,
          69,
          66,
          52,
          52,
          49,
          43,
          41,
          23,
          38,
          29
         ]
        }
       ],
       "layout": {
        "annotations": [
         {
          "align": "left",
          "font": {
           "color": "#A01D28",
           "size": 10
          },
          "showarrow": false,
          "text": "12 months or more",
          "x": 2022,
          "xanchor": "left",
          "xref": "x",
          "y": 14,
          "yref": "y"
         },
         {
          "align": "left",
          "font": {
           "color": "#499CC9",
           "size": 10
          },
          "showarrow": false,
          "text": "6 months to less than 12 months",
          "x": 2022,
          "xanchor": "left",
          "xref": "x",
          "y": 5,
          "yref": "y"
         },
         {
          "align": "left",
          "font": {
           "color": "#F9A237",
           "size": 10
          },
          "showarrow": false,
          "text": "Less than 6 months",
          "x": 2022,
          "xanchor": "left",
          "xref": "x",
          "y": 29,
          "yref": "y"
         },
         {
          "align": "left",
          "font": {
           "size": 12
          },
          "showarrow": false,
          "text": "Source: Ministry of Justice, Criminal justice statistics",
          "x": -0.08,
          "xref": "paper",
          "y": -0.19,
          "yref": "paper"
         },
         {
          "align": "left",
          "font": {
           "size": 12
          },
          "showarrow": false,
          "text": "Women sentenced to custody",
          "x": 2010,
          "xanchor": "left",
          "xref": "x",
          "y": 1.04,
          "yref": "paper"
         }
        ],
        "height": 500,
        "hovermode": "x",
        "margin": {
         "b": 75,
         "l": 63,
         "r": 100
        },
        "template": {
         "layout": {
          "colorway": [
           "#A01D28",
           "#499CC9",
           "#F9A237",
           "#6FBA3A",
           "#573D6B"
          ],
          "font": {
           "color": "#54565B",
           "family": "Helvetica Neue, Arial",
           "size": 12
          },
          "modebar": {
           "activecolor": "#A01D28"
          },
          "paper_bgcolor": "#F7F2F2",
          "plot_bgcolor": "#F7F2F2",
          "showlegend": false,
          "title": {
           "font": {
            "family": "Helvetica Neue, Arial",
            "size": 17
           },
           "y": 0.94,
           "yanchor": "bottom"
          },
          "xaxis": {
           "showgrid": false,
           "tickcolor": "#54565B"
          }
         }
        },
        "title": {
         "text": "<b>Use of immediate imprisonment for women in<br>Northamptonshire 2009–2021</b>"
        },
        "width": 655,
        "xaxis": {
         "dtick": 2,
         "range": [
          2009.7,
          2022.3
         ],
         "tick0": 2010
        },
        "yaxis": {
         "range": [
          0,
          103
         ],
         "tick0": 0,
         "tickformat": ",.0f",
         "title": {
          "text": ""
         }
        }
       }
      }
     },
     "metadata": {},
     "output_type": "display_data"
    },
    {
     "data": {
      "application/vnd.plotly.v1+json": {
       "config": {
        "plotlyServerURL": "https://plot.ly"
       },
       "data": [
        {
         "hovertemplate": "%{y}<extra></extra>",
         "meta": "Northumbria",
         "mode": "lines",
         "name": "12 months or more",
         "type": "scatter",
         "x": [
          2010,
          2011,
          2012,
          2013,
          2014,
          2015,
          2016,
          2017,
          2018,
          2019,
          2020,
          2021,
          2022
         ],
         "y": [
          40,
          64,
          36,
          30,
          43,
          43,
          46,
          20,
          24,
          29,
          20,
          39,
          46
         ]
        },
        {
         "hovertemplate": "%{y}<extra></extra>",
         "meta": "Northumbria",
         "mode": "lines",
         "name": "6 months to less than 12 months",
         "type": "scatter",
         "x": [
          2010,
          2011,
          2012,
          2013,
          2014,
          2015,
          2016,
          2017,
          2018,
          2019,
          2020,
          2021,
          2022
         ],
         "y": [
          16,
          11,
          17,
          21,
          6,
          9,
          17,
          14,
          7,
          16,
          13,
          15,
          15
         ]
        },
        {
         "hovertemplate": "%{y}<extra></extra>",
         "meta": "Northumbria",
         "mode": "lines",
         "name": "Less than 6 months",
         "type": "scatter",
         "x": [
          2010,
          2011,
          2012,
          2013,
          2014,
          2015,
          2016,
          2017,
          2018,
          2019,
          2020,
          2021,
          2022
         ],
         "y": [
          99,
          122,
          108,
          85,
          123,
          125,
          102,
          113,
          110,
          92,
          49,
          54,
          53
         ]
        }
       ],
       "layout": {
        "annotations": [
         {
          "align": "left",
          "font": {
           "color": "#A01D28",
           "size": 10
          },
          "showarrow": false,
          "text": "12 months or more",
          "x": 2022,
          "xanchor": "left",
          "xref": "x",
          "y": 46,
          "yref": "y"
         },
         {
          "align": "left",
          "font": {
           "color": "#499CC9",
           "size": 10
          },
          "showarrow": false,
          "text": "6 months to less than 12 months",
          "x": 2022,
          "xanchor": "left",
          "xref": "x",
          "y": 15,
          "yref": "y"
         },
         {
          "align": "left",
          "font": {
           "color": "#F9A237",
           "size": 10
          },
          "showarrow": false,
          "text": "Less than 6 months",
          "x": 2022,
          "xanchor": "left",
          "xref": "x",
          "y": 53,
          "yref": "y"
         },
         {
          "align": "left",
          "font": {
           "size": 12
          },
          "showarrow": false,
          "text": "Source: Ministry of Justice, Criminal justice statistics",
          "x": -0.08,
          "xref": "paper",
          "y": -0.19,
          "yref": "paper"
         },
         {
          "align": "left",
          "font": {
           "size": 12
          },
          "showarrow": false,
          "text": "Women sentenced to custody",
          "x": 2010,
          "xanchor": "left",
          "xref": "x",
          "y": 1.04,
          "yref": "paper"
         }
        ],
        "height": 500,
        "hovermode": "x",
        "margin": {
         "b": 75,
         "l": 63,
         "r": 100
        },
        "template": {
         "layout": {
          "colorway": [
           "#A01D28",
           "#499CC9",
           "#F9A237",
           "#6FBA3A",
           "#573D6B"
          ],
          "font": {
           "color": "#54565B",
           "family": "Helvetica Neue, Arial",
           "size": 12
          },
          "modebar": {
           "activecolor": "#A01D28"
          },
          "paper_bgcolor": "#F7F2F2",
          "plot_bgcolor": "#F7F2F2",
          "showlegend": false,
          "title": {
           "font": {
            "family": "Helvetica Neue, Arial",
            "size": 17
           },
           "y": 0.94,
           "yanchor": "bottom"
          },
          "xaxis": {
           "showgrid": false,
           "tickcolor": "#54565B"
          }
         }
        },
        "title": {
         "text": "<b>Use of immediate imprisonment for women in<br>Northumbria 2009–2021</b>"
        },
        "width": 655,
        "xaxis": {
         "dtick": 2,
         "range": [
          2009.7,
          2022.3
         ],
         "tick0": 2010
        },
        "yaxis": {
         "range": [
          0,
          204
         ],
         "tick0": 0,
         "tickformat": ",.0f",
         "title": {
          "text": ""
         }
        }
       }
      }
     },
     "metadata": {},
     "output_type": "display_data"
    },
    {
     "data": {
      "application/vnd.plotly.v1+json": {
       "config": {
        "plotlyServerURL": "https://plot.ly"
       },
       "data": [
        {
         "hovertemplate": "%{y}<extra></extra>",
         "meta": "Nottinghamshire",
         "mode": "lines",
         "name": "12 months or more",
         "type": "scatter",
         "x": [
          2010,
          2011,
          2012,
          2013,
          2014,
          2015,
          2016,
          2017,
          2018,
          2019,
          2020,
          2021,
          2022
         ],
         "y": [
          41,
          36,
          45,
          26,
          24,
          37,
          29,
          31,
          35,
          35,
          28,
          24,
          29
         ]
        },
        {
         "hovertemplate": "%{y}<extra></extra>",
         "meta": "Nottinghamshire",
         "mode": "lines",
         "name": "6 months to less than 12 months",
         "type": "scatter",
         "x": [
          2010,
          2011,
          2012,
          2013,
          2014,
          2015,
          2016,
          2017,
          2018,
          2019,
          2020,
          2021,
          2022
         ],
         "y": [
          13,
          15,
          19,
          9,
          8,
          11,
          8,
          11,
          13,
          14,
          8,
          9,
          6
         ]
        },
        {
         "hovertemplate": "%{y}<extra></extra>",
         "meta": "Nottinghamshire",
         "mode": "lines",
         "name": "Less than 6 months",
         "type": "scatter",
         "x": [
          2010,
          2011,
          2012,
          2013,
          2014,
          2015,
          2016,
          2017,
          2018,
          2019,
          2020,
          2021,
          2022
         ],
         "y": [
          125,
          98,
          78,
          82,
          110,
          119,
          110,
          121,
          123,
          135,
          73,
          72,
          97
         ]
        }
       ],
       "layout": {
        "annotations": [
         {
          "align": "left",
          "font": {
           "color": "#A01D28",
           "size": 10
          },
          "showarrow": false,
          "text": "12 months or more",
          "x": 2022,
          "xanchor": "left",
          "xref": "x",
          "y": 29,
          "yref": "y"
         },
         {
          "align": "left",
          "font": {
           "color": "#499CC9",
           "size": 10
          },
          "showarrow": false,
          "text": "6 months to less than 12 months",
          "x": 2022,
          "xanchor": "left",
          "xref": "x",
          "y": 6,
          "yref": "y"
         },
         {
          "align": "left",
          "font": {
           "color": "#F9A237",
           "size": 10
          },
          "showarrow": false,
          "text": "Less than 6 months",
          "x": 2022,
          "xanchor": "left",
          "xref": "x",
          "y": 97,
          "yref": "y"
         },
         {
          "align": "left",
          "font": {
           "size": 12
          },
          "showarrow": false,
          "text": "Source: Ministry of Justice, Criminal justice statistics",
          "x": -0.08,
          "xref": "paper",
          "y": -0.19,
          "yref": "paper"
         },
         {
          "align": "left",
          "font": {
           "size": 12
          },
          "showarrow": false,
          "text": "Women sentenced to custody",
          "x": 2010,
          "xanchor": "left",
          "xref": "x",
          "y": 1.04,
          "yref": "paper"
         }
        ],
        "height": 500,
        "hovermode": "x",
        "margin": {
         "b": 75,
         "l": 63,
         "r": 100
        },
        "template": {
         "layout": {
          "colorway": [
           "#A01D28",
           "#499CC9",
           "#F9A237",
           "#6FBA3A",
           "#573D6B"
          ],
          "font": {
           "color": "#54565B",
           "family": "Helvetica Neue, Arial",
           "size": 12
          },
          "modebar": {
           "activecolor": "#A01D28"
          },
          "paper_bgcolor": "#F7F2F2",
          "plot_bgcolor": "#F7F2F2",
          "showlegend": false,
          "title": {
           "font": {
            "family": "Helvetica Neue, Arial",
            "size": 17
           },
           "y": 0.94,
           "yanchor": "bottom"
          },
          "xaxis": {
           "showgrid": false,
           "tickcolor": "#54565B"
          }
         }
        },
        "title": {
         "text": "<b>Use of immediate imprisonment for women in<br>Nottinghamshire 2009–2021</b>"
        },
        "width": 655,
        "xaxis": {
         "dtick": 2,
         "range": [
          2009.7,
          2022.3
         ],
         "tick0": 2010
        },
        "yaxis": {
         "range": [
          0,
          204
         ],
         "tick0": 0,
         "tickformat": ",.0f",
         "title": {
          "text": ""
         }
        }
       }
      }
     },
     "metadata": {},
     "output_type": "display_data"
    },
    {
     "data": {
      "application/vnd.plotly.v1+json": {
       "config": {
        "plotlyServerURL": "https://plot.ly"
       },
       "data": [
        {
         "hovertemplate": "%{y}<extra></extra>",
         "meta": "South Wales",
         "mode": "lines",
         "name": "12 months or more",
         "type": "scatter",
         "x": [
          2010,
          2011,
          2012,
          2013,
          2014,
          2015,
          2016,
          2017,
          2018,
          2019,
          2020,
          2021,
          2022
         ],
         "y": [
          55,
          90,
          73,
          74,
          70,
          65,
          59,
          58,
          65,
          78,
          70,
          85,
          57
         ]
        },
        {
         "hovertemplate": "%{y}<extra></extra>",
         "meta": "South Wales",
         "mode": "lines",
         "name": "6 months to less than 12 months",
         "type": "scatter",
         "x": [
          2010,
          2011,
          2012,
          2013,
          2014,
          2015,
          2016,
          2017,
          2018,
          2019,
          2020,
          2021,
          2022
         ],
         "y": [
          28,
          38,
          27,
          36,
          40,
          27,
          37,
          27,
          29,
          31,
          15,
          24,
          17
         ]
        },
        {
         "hovertemplate": "%{y}<extra></extra>",
         "meta": "South Wales",
         "mode": "lines",
         "name": "Less than 6 months",
         "type": "scatter",
         "x": [
          2010,
          2011,
          2012,
          2013,
          2014,
          2015,
          2016,
          2017,
          2018,
          2019,
          2020,
          2021,
          2022
         ],
         "y": [
          234,
          196,
          188,
          231,
          233,
          235,
          291,
          266,
          268,
          231,
          164,
          134,
          91
         ]
        }
       ],
       "layout": {
        "annotations": [
         {
          "align": "left",
          "font": {
           "color": "#A01D28",
           "size": 10
          },
          "showarrow": false,
          "text": "12 months or more",
          "x": 2022,
          "xanchor": "left",
          "xref": "x",
          "y": 57,
          "yref": "y"
         },
         {
          "align": "left",
          "font": {
           "color": "#499CC9",
           "size": 10
          },
          "showarrow": false,
          "text": "6 months to less than 12 months",
          "x": 2022,
          "xanchor": "left",
          "xref": "x",
          "y": 17,
          "yref": "y"
         },
         {
          "align": "left",
          "font": {
           "color": "#F9A237",
           "size": 10
          },
          "showarrow": false,
          "text": "Less than 6 months",
          "x": 2022,
          "xanchor": "left",
          "xref": "x",
          "y": 91,
          "yref": "y"
         },
         {
          "align": "left",
          "font": {
           "size": 12
          },
          "showarrow": false,
          "text": "Source: Ministry of Justice, Criminal justice statistics",
          "x": -0.08,
          "xref": "paper",
          "y": -0.19,
          "yref": "paper"
         },
         {
          "align": "left",
          "font": {
           "size": 12
          },
          "showarrow": false,
          "text": "Women sentenced to custody",
          "x": 2010,
          "xanchor": "left",
          "xref": "x",
          "y": 1.04,
          "yref": "paper"
         }
        ],
        "height": 500,
        "hovermode": "x",
        "margin": {
         "b": 75,
         "l": 63,
         "r": 100
        },
        "template": {
         "layout": {
          "colorway": [
           "#A01D28",
           "#499CC9",
           "#F9A237",
           "#6FBA3A",
           "#573D6B"
          ],
          "font": {
           "color": "#54565B",
           "family": "Helvetica Neue, Arial",
           "size": 12
          },
          "modebar": {
           "activecolor": "#A01D28"
          },
          "paper_bgcolor": "#F7F2F2",
          "plot_bgcolor": "#F7F2F2",
          "showlegend": false,
          "title": {
           "font": {
            "family": "Helvetica Neue, Arial",
            "size": 17
           },
           "y": 0.94,
           "yanchor": "bottom"
          },
          "xaxis": {
           "showgrid": false,
           "tickcolor": "#54565B"
          }
         }
        },
        "title": {
         "text": "<b>Use of immediate imprisonment for women in<br>South Wales 2009–2021</b>"
        },
        "width": 655,
        "xaxis": {
         "dtick": 2,
         "range": [
          2009.7,
          2022.3
         ],
         "tick0": 2010
        },
        "yaxis": {
         "range": [
          0,
          305
         ],
         "tick0": 0,
         "tickformat": ",.0f",
         "title": {
          "text": ""
         }
        }
       }
      }
     },
     "metadata": {},
     "output_type": "display_data"
    },
    {
     "data": {
      "application/vnd.plotly.v1+json": {
       "config": {
        "plotlyServerURL": "https://plot.ly"
       },
       "data": [
        {
         "hovertemplate": "%{y}<extra></extra>",
         "meta": "South Yorkshire",
         "mode": "lines",
         "name": "12 months or more",
         "type": "scatter",
         "x": [
          2010,
          2011,
          2012,
          2013,
          2014,
          2015,
          2016,
          2017,
          2018,
          2019,
          2020,
          2021,
          2022
         ],
         "y": [
          52,
          72,
          39,
          55,
          45,
          36,
          38,
          52,
          43,
          63,
          44,
          39,
          44
         ]
        },
        {
         "hovertemplate": "%{y}<extra></extra>",
         "meta": "South Yorkshire",
         "mode": "lines",
         "name": "6 months to less than 12 months",
         "type": "scatter",
         "x": [
          2010,
          2011,
          2012,
          2013,
          2014,
          2015,
          2016,
          2017,
          2018,
          2019,
          2020,
          2021,
          2022
         ],
         "y": [
          21,
          36,
          21,
          44,
          25,
          31,
          13,
          17,
          19,
          16,
          20,
          11,
          7
         ]
        },
        {
         "hovertemplate": "%{y}<extra></extra>",
         "meta": "South Yorkshire",
         "mode": "lines",
         "name": "Less than 6 months",
         "type": "scatter",
         "x": [
          2010,
          2011,
          2012,
          2013,
          2014,
          2015,
          2016,
          2017,
          2018,
          2019,
          2020,
          2021,
          2022
         ],
         "y": [
          128,
          120,
          139,
          168,
          175,
          162,
          143,
          149,
          91,
          93,
          74,
          48,
          56
         ]
        }
       ],
       "layout": {
        "annotations": [
         {
          "align": "left",
          "font": {
           "color": "#A01D28",
           "size": 10
          },
          "showarrow": false,
          "text": "12 months or more",
          "x": 2022,
          "xanchor": "left",
          "xref": "x",
          "y": 44,
          "yref": "y"
         },
         {
          "align": "left",
          "font": {
           "color": "#499CC9",
           "size": 10
          },
          "showarrow": false,
          "text": "6 months to less than 12 months",
          "x": 2022,
          "xanchor": "left",
          "xref": "x",
          "y": 7,
          "yref": "y"
         },
         {
          "align": "left",
          "font": {
           "color": "#F9A237",
           "size": 10
          },
          "showarrow": false,
          "text": "Less than 6 months",
          "x": 2022,
          "xanchor": "left",
          "xref": "x",
          "y": 56,
          "yref": "y"
         },
         {
          "align": "left",
          "font": {
           "size": 12
          },
          "showarrow": false,
          "text": "Source: Ministry of Justice, Criminal justice statistics",
          "x": -0.08,
          "xref": "paper",
          "y": -0.19,
          "yref": "paper"
         },
         {
          "align": "left",
          "font": {
           "size": 12
          },
          "showarrow": false,
          "text": "Women sentenced to custody",
          "x": 2010,
          "xanchor": "left",
          "xref": "x",
          "y": 1.04,
          "yref": "paper"
         }
        ],
        "height": 500,
        "hovermode": "x",
        "margin": {
         "b": 75,
         "l": 63,
         "r": 100
        },
        "template": {
         "layout": {
          "colorway": [
           "#A01D28",
           "#499CC9",
           "#F9A237",
           "#6FBA3A",
           "#573D6B"
          ],
          "font": {
           "color": "#54565B",
           "family": "Helvetica Neue, Arial",
           "size": 12
          },
          "modebar": {
           "activecolor": "#A01D28"
          },
          "paper_bgcolor": "#F7F2F2",
          "plot_bgcolor": "#F7F2F2",
          "showlegend": false,
          "title": {
           "font": {
            "family": "Helvetica Neue, Arial",
            "size": 17
           },
           "y": 0.94,
           "yanchor": "bottom"
          },
          "xaxis": {
           "showgrid": false,
           "tickcolor": "#54565B"
          }
         }
        },
        "title": {
         "text": "<b>Use of immediate imprisonment for women in<br>South Yorkshire 2009–2021</b>"
        },
        "width": 655,
        "xaxis": {
         "dtick": 2,
         "range": [
          2009.7,
          2022.3
         ],
         "tick0": 2010
        },
        "yaxis": {
         "range": [
          0,
          204
         ],
         "tick0": 0,
         "tickformat": ",.0f",
         "title": {
          "text": ""
         }
        }
       }
      }
     },
     "metadata": {},
     "output_type": "display_data"
    },
    {
     "data": {
      "application/vnd.plotly.v1+json": {
       "config": {
        "plotlyServerURL": "https://plot.ly"
       },
       "data": [
        {
         "hovertemplate": "%{y}<extra></extra>",
         "meta": "Staffordshire",
         "mode": "lines",
         "name": "12 months or more",
         "type": "scatter",
         "x": [
          2010,
          2011,
          2012,
          2013,
          2014,
          2015,
          2016,
          2017,
          2018,
          2019,
          2020,
          2021,
          2022
         ],
         "y": [
          37,
          33,
          40,
          29,
          33,
          33,
          34,
          35,
          29,
          36,
          21,
          30,
          21
         ]
        },
        {
         "hovertemplate": "%{y}<extra></extra>",
         "meta": "Staffordshire",
         "mode": "lines",
         "name": "6 months to less than 12 months",
         "type": "scatter",
         "x": [
          2010,
          2011,
          2012,
          2013,
          2014,
          2015,
          2016,
          2017,
          2018,
          2019,
          2020,
          2021,
          2022
         ],
         "y": [
          27,
          14,
          12,
          10,
          10,
          12,
          12,
          17,
          8,
          16,
          17,
          13,
          7
         ]
        },
        {
         "hovertemplate": "%{y}<extra></extra>",
         "meta": "Staffordshire",
         "mode": "lines",
         "name": "Less than 6 months",
         "type": "scatter",
         "x": [
          2010,
          2011,
          2012,
          2013,
          2014,
          2015,
          2016,
          2017,
          2018,
          2019,
          2020,
          2021,
          2022
         ],
         "y": [
          81,
          94,
          90,
          62,
          81,
          81,
          67,
          76,
          77,
          80,
          50,
          53,
          50
         ]
        }
       ],
       "layout": {
        "annotations": [
         {
          "align": "left",
          "font": {
           "color": "#A01D28",
           "size": 10
          },
          "showarrow": false,
          "text": "12 months or more",
          "x": 2022,
          "xanchor": "left",
          "xref": "x",
          "y": 21,
          "yref": "y"
         },
         {
          "align": "left",
          "font": {
           "color": "#499CC9",
           "size": 10
          },
          "showarrow": false,
          "text": "6 months to less than 12 months",
          "x": 2022,
          "xanchor": "left",
          "xref": "x",
          "y": 7,
          "yref": "y"
         },
         {
          "align": "left",
          "font": {
           "color": "#F9A237",
           "size": 10
          },
          "showarrow": false,
          "text": "Less than 6 months",
          "x": 2022,
          "xanchor": "left",
          "xref": "x",
          "y": 50,
          "yref": "y"
         },
         {
          "align": "left",
          "font": {
           "size": 12
          },
          "showarrow": false,
          "text": "Source: Ministry of Justice, Criminal justice statistics",
          "x": -0.08,
          "xref": "paper",
          "y": -0.19,
          "yref": "paper"
         },
         {
          "align": "left",
          "font": {
           "size": 12
          },
          "showarrow": false,
          "text": "Women sentenced to custody",
          "x": 2010,
          "xanchor": "left",
          "xref": "x",
          "y": 1.04,
          "yref": "paper"
         }
        ],
        "height": 500,
        "hovermode": "x",
        "margin": {
         "b": 75,
         "l": 63,
         "r": 100
        },
        "template": {
         "layout": {
          "colorway": [
           "#A01D28",
           "#499CC9",
           "#F9A237",
           "#6FBA3A",
           "#573D6B"
          ],
          "font": {
           "color": "#54565B",
           "family": "Helvetica Neue, Arial",
           "size": 12
          },
          "modebar": {
           "activecolor": "#A01D28"
          },
          "paper_bgcolor": "#F7F2F2",
          "plot_bgcolor": "#F7F2F2",
          "showlegend": false,
          "title": {
           "font": {
            "family": "Helvetica Neue, Arial",
            "size": 17
           },
           "y": 0.94,
           "yanchor": "bottom"
          },
          "xaxis": {
           "showgrid": false,
           "tickcolor": "#54565B"
          }
         }
        },
        "title": {
         "text": "<b>Use of immediate imprisonment for women in<br>Staffordshire 2009–2021</b>"
        },
        "width": 655,
        "xaxis": {
         "dtick": 2,
         "range": [
          2009.7,
          2022.3
         ],
         "tick0": 2010
        },
        "yaxis": {
         "range": [
          0,
          103
         ],
         "tick0": 0,
         "tickformat": ",.0f",
         "title": {
          "text": ""
         }
        }
       }
      }
     },
     "metadata": {},
     "output_type": "display_data"
    },
    {
     "data": {
      "application/vnd.plotly.v1+json": {
       "config": {
        "plotlyServerURL": "https://plot.ly"
       },
       "data": [
        {
         "hovertemplate": "%{y}<extra></extra>",
         "meta": "Suffolk",
         "mode": "lines",
         "name": "12 months or more",
         "type": "scatter",
         "x": [
          2010,
          2011,
          2012,
          2013,
          2014,
          2015,
          2016,
          2017,
          2018,
          2019,
          2020,
          2021,
          2022
         ],
         "y": [
          12,
          18,
          16,
          19,
          19,
          23,
          14,
          17,
          7,
          14,
          6,
          17,
          8
         ]
        },
        {
         "hovertemplate": "%{y}<extra></extra>",
         "meta": "Suffolk",
         "mode": "lines",
         "name": "6 months to less than 12 months",
         "type": "scatter",
         "x": [
          2010,
          2011,
          2012,
          2013,
          2014,
          2015,
          2016,
          2017,
          2018,
          2019,
          2020,
          2021,
          2022
         ],
         "y": [
          4,
          3,
          0,
          6,
          7,
          4,
          4,
          9,
          8,
          2,
          5,
          9,
          2
         ]
        },
        {
         "hovertemplate": "%{y}<extra></extra>",
         "meta": "Suffolk",
         "mode": "lines",
         "name": "Less than 6 months",
         "type": "scatter",
         "x": [
          2010,
          2011,
          2012,
          2013,
          2014,
          2015,
          2016,
          2017,
          2018,
          2019,
          2020,
          2021,
          2022
         ],
         "y": [
          35,
          55,
          26,
          39,
          53,
          46,
          31,
          46,
          38,
          22,
          28,
          16,
          26
         ]
        }
       ],
       "layout": {
        "annotations": [
         {
          "align": "left",
          "font": {
           "color": "#A01D28",
           "size": 10
          },
          "showarrow": false,
          "text": "12 months or more",
          "x": 2022,
          "xanchor": "left",
          "xref": "x",
          "y": 8,
          "yref": "y"
         },
         {
          "align": "left",
          "font": {
           "color": "#499CC9",
           "size": 10
          },
          "showarrow": false,
          "text": "6 months to less than 12 months",
          "x": 2022,
          "xanchor": "left",
          "xref": "x",
          "y": 2,
          "yref": "y"
         },
         {
          "align": "left",
          "font": {
           "color": "#F9A237",
           "size": 10
          },
          "showarrow": false,
          "text": "Less than 6 months",
          "x": 2022,
          "xanchor": "left",
          "xref": "x",
          "y": 26,
          "yref": "y"
         },
         {
          "align": "left",
          "font": {
           "size": 12
          },
          "showarrow": false,
          "text": "Source: Ministry of Justice, Criminal justice statistics",
          "x": -0.08,
          "xref": "paper",
          "y": -0.19,
          "yref": "paper"
         },
         {
          "align": "left",
          "font": {
           "size": 12
          },
          "showarrow": false,
          "text": "Women sentenced to custody",
          "x": 2010,
          "xanchor": "left",
          "xref": "x",
          "y": 1.04,
          "yref": "paper"
         }
        ],
        "height": 500,
        "hovermode": "x",
        "margin": {
         "b": 75,
         "l": 63,
         "r": 100
        },
        "template": {
         "layout": {
          "colorway": [
           "#A01D28",
           "#499CC9",
           "#F9A237",
           "#6FBA3A",
           "#573D6B"
          ],
          "font": {
           "color": "#54565B",
           "family": "Helvetica Neue, Arial",
           "size": 12
          },
          "modebar": {
           "activecolor": "#A01D28"
          },
          "paper_bgcolor": "#F7F2F2",
          "plot_bgcolor": "#F7F2F2",
          "showlegend": false,
          "title": {
           "font": {
            "family": "Helvetica Neue, Arial",
            "size": 17
           },
           "y": 0.94,
           "yanchor": "bottom"
          },
          "xaxis": {
           "showgrid": false,
           "tickcolor": "#54565B"
          }
         }
        },
        "title": {
         "text": "<b>Use of immediate imprisonment for women in<br>Suffolk 2009–2021</b>"
        },
        "width": 655,
        "xaxis": {
         "dtick": 2,
         "range": [
          2009.7,
          2022.3
         ],
         "tick0": 2010
        },
        "yaxis": {
         "range": [
          0,
          103
         ],
         "tick0": 0,
         "tickformat": ",.0f",
         "title": {
          "text": ""
         }
        }
       }
      }
     },
     "metadata": {},
     "output_type": "display_data"
    },
    {
     "data": {
      "application/vnd.plotly.v1+json": {
       "config": {
        "plotlyServerURL": "https://plot.ly"
       },
       "data": [
        {
         "hovertemplate": "%{y}<extra></extra>",
         "meta": "Surrey",
         "mode": "lines",
         "name": "12 months or more",
         "type": "scatter",
         "x": [
          2010,
          2011,
          2012,
          2013,
          2014,
          2015,
          2016,
          2017,
          2018,
          2019,
          2020,
          2021,
          2022
         ],
         "y": [
          29,
          19,
          30,
          13,
          25,
          15,
          17,
          18,
          8,
          12,
          6,
          19,
          8
         ]
        },
        {
         "hovertemplate": "%{y}<extra></extra>",
         "meta": "Surrey",
         "mode": "lines",
         "name": "6 months to less than 12 months",
         "type": "scatter",
         "x": [
          2010,
          2011,
          2012,
          2013,
          2014,
          2015,
          2016,
          2017,
          2018,
          2019,
          2020,
          2021,
          2022
         ],
         "y": [
          9,
          18,
          14,
          8,
          6,
          5,
          7,
          13,
          7,
          6,
          5,
          7,
          1
         ]
        },
        {
         "hovertemplate": "%{y}<extra></extra>",
         "meta": "Surrey",
         "mode": "lines",
         "name": "Less than 6 months",
         "type": "scatter",
         "x": [
          2010,
          2011,
          2012,
          2013,
          2014,
          2015,
          2016,
          2017,
          2018,
          2019,
          2020,
          2021,
          2022
         ],
         "y": [
          53,
          62,
          69,
          61,
          59,
          43,
          39,
          45,
          29,
          24,
          18,
          8,
          10
         ]
        }
       ],
       "layout": {
        "annotations": [
         {
          "align": "left",
          "font": {
           "color": "#A01D28",
           "size": 10
          },
          "showarrow": false,
          "text": "12 months or more",
          "x": 2022,
          "xanchor": "left",
          "xref": "x",
          "y": 8,
          "yref": "y"
         },
         {
          "align": "left",
          "font": {
           "color": "#499CC9",
           "size": 10
          },
          "showarrow": false,
          "text": "6 months to less than 12 months",
          "x": 2022,
          "xanchor": "left",
          "xref": "x",
          "y": 1,
          "yref": "y"
         },
         {
          "align": "left",
          "font": {
           "color": "#F9A237",
           "size": 10
          },
          "showarrow": false,
          "text": "Less than 6 months",
          "x": 2022,
          "xanchor": "left",
          "xref": "x",
          "y": 13,
          "yref": "y"
         },
         {
          "align": "left",
          "font": {
           "size": 12
          },
          "showarrow": false,
          "text": "Source: Ministry of Justice, Criminal justice statistics",
          "x": -0.08,
          "xref": "paper",
          "y": -0.19,
          "yref": "paper"
         },
         {
          "align": "left",
          "font": {
           "size": 12
          },
          "showarrow": false,
          "text": "Women sentenced to custody",
          "x": 2010,
          "xanchor": "left",
          "xref": "x",
          "y": 1.04,
          "yref": "paper"
         }
        ],
        "height": 500,
        "hovermode": "x",
        "margin": {
         "b": 75,
         "l": 63,
         "r": 100
        },
        "template": {
         "layout": {
          "colorway": [
           "#A01D28",
           "#499CC9",
           "#F9A237",
           "#6FBA3A",
           "#573D6B"
          ],
          "font": {
           "color": "#54565B",
           "family": "Helvetica Neue, Arial",
           "size": 12
          },
          "modebar": {
           "activecolor": "#A01D28"
          },
          "paper_bgcolor": "#F7F2F2",
          "plot_bgcolor": "#F7F2F2",
          "showlegend": false,
          "title": {
           "font": {
            "family": "Helvetica Neue, Arial",
            "size": 17
           },
           "y": 0.94,
           "yanchor": "bottom"
          },
          "xaxis": {
           "showgrid": false,
           "tickcolor": "#54565B"
          }
         }
        },
        "title": {
         "text": "<b>Use of immediate imprisonment for women in<br>Surrey 2009–2021</b>"
        },
        "width": 655,
        "xaxis": {
         "dtick": 2,
         "range": [
          2009.7,
          2022.3
         ],
         "tick0": 2010
        },
        "yaxis": {
         "range": [
          0,
          103
         ],
         "tick0": 0,
         "tickformat": ",.0f",
         "title": {
          "text": ""
         }
        }
       }
      }
     },
     "metadata": {},
     "output_type": "display_data"
    },
    {
     "data": {
      "application/vnd.plotly.v1+json": {
       "config": {
        "plotlyServerURL": "https://plot.ly"
       },
       "data": [
        {
         "hovertemplate": "%{y}<extra></extra>",
         "meta": "Sussex",
         "mode": "lines",
         "name": "12 months or more",
         "type": "scatter",
         "x": [
          2010,
          2011,
          2012,
          2013,
          2014,
          2015,
          2016,
          2017,
          2018,
          2019,
          2020,
          2021,
          2022
         ],
         "y": [
          88,
          101,
          65,
          46,
          46,
          48,
          33,
          28,
          30,
          36,
          20,
          34,
          28
         ]
        },
        {
         "hovertemplate": "%{y}<extra></extra>",
         "meta": "Sussex",
         "mode": "lines",
         "name": "6 months to less than 12 months",
         "type": "scatter",
         "x": [
          2010,
          2011,
          2012,
          2013,
          2014,
          2015,
          2016,
          2017,
          2018,
          2019,
          2020,
          2021,
          2022
         ],
         "y": [
          22,
          12,
          11,
          14,
          15,
          12,
          16,
          7,
          4,
          9,
          11,
          10,
          6
         ]
        },
        {
         "hovertemplate": "%{y}<extra></extra>",
         "meta": "Sussex",
         "mode": "lines",
         "name": "Less than 6 months",
         "type": "scatter",
         "x": [
          2010,
          2011,
          2012,
          2013,
          2014,
          2015,
          2016,
          2017,
          2018,
          2019,
          2020,
          2021,
          2022
         ],
         "y": [
          140,
          118,
          118,
          84,
          70,
          100,
          80,
          69,
          63,
          40,
          35,
          21,
          28
         ]
        }
       ],
       "layout": {
        "annotations": [
         {
          "align": "left",
          "font": {
           "color": "#A01D28",
           "size": 10
          },
          "showarrow": false,
          "text": "12 months or more",
          "x": 2022,
          "xanchor": "left",
          "xref": "x",
          "y": 33,
          "yref": "y"
         },
         {
          "align": "left",
          "font": {
           "color": "#499CC9",
           "size": 10
          },
          "showarrow": false,
          "text": "6 months to less than 12 months",
          "x": 2022,
          "xanchor": "left",
          "xref": "x",
          "y": 6,
          "yref": "y"
         },
         {
          "align": "left",
          "font": {
           "color": "#F9A237",
           "size": 10
          },
          "showarrow": false,
          "text": "Less than 6 months",
          "x": 2022,
          "xanchor": "left",
          "xref": "x",
          "y": 28,
          "yref": "y"
         },
         {
          "align": "left",
          "font": {
           "size": 12
          },
          "showarrow": false,
          "text": "Source: Ministry of Justice, Criminal justice statistics",
          "x": -0.08,
          "xref": "paper",
          "y": -0.19,
          "yref": "paper"
         },
         {
          "align": "left",
          "font": {
           "size": 12
          },
          "showarrow": false,
          "text": "Women sentenced to custody",
          "x": 2010,
          "xanchor": "left",
          "xref": "x",
          "y": 1.04,
          "yref": "paper"
         }
        ],
        "height": 500,
        "hovermode": "x",
        "margin": {
         "b": 75,
         "l": 63,
         "r": 100
        },
        "template": {
         "layout": {
          "colorway": [
           "#A01D28",
           "#499CC9",
           "#F9A237",
           "#6FBA3A",
           "#573D6B"
          ],
          "font": {
           "color": "#54565B",
           "family": "Helvetica Neue, Arial",
           "size": 12
          },
          "modebar": {
           "activecolor": "#A01D28"
          },
          "paper_bgcolor": "#F7F2F2",
          "plot_bgcolor": "#F7F2F2",
          "showlegend": false,
          "title": {
           "font": {
            "family": "Helvetica Neue, Arial",
            "size": 17
           },
           "y": 0.94,
           "yanchor": "bottom"
          },
          "xaxis": {
           "showgrid": false,
           "tickcolor": "#54565B"
          }
         }
        },
        "title": {
         "text": "<b>Use of immediate imprisonment for women in<br>Sussex 2009–2021</b>"
        },
        "width": 655,
        "xaxis": {
         "dtick": 2,
         "range": [
          2009.7,
          2022.3
         ],
         "tick0": 2010
        },
        "yaxis": {
         "range": [
          0,
          204
         ],
         "tick0": 0,
         "tickformat": ",.0f",
         "title": {
          "text": ""
         }
        }
       }
      }
     },
     "metadata": {},
     "output_type": "display_data"
    },
    {
     "data": {
      "application/vnd.plotly.v1+json": {
       "config": {
        "plotlyServerURL": "https://plot.ly"
       },
       "data": [
        {
         "hovertemplate": "%{y}<extra></extra>",
         "meta": "Thames Valley",
         "mode": "lines",
         "name": "12 months or more",
         "type": "scatter",
         "x": [
          2010,
          2011,
          2012,
          2013,
          2014,
          2015,
          2016,
          2017,
          2018,
          2019,
          2020,
          2021,
          2022
         ],
         "y": [
          54,
          63,
          52,
          49,
          44,
          55,
          41,
          67,
          53,
          43,
          36,
          51,
          44
         ]
        },
        {
         "hovertemplate": "%{y}<extra></extra>",
         "meta": "Thames Valley",
         "mode": "lines",
         "name": "6 months to less than 12 months",
         "type": "scatter",
         "x": [
          2010,
          2011,
          2012,
          2013,
          2014,
          2015,
          2016,
          2017,
          2018,
          2019,
          2020,
          2021,
          2022
         ],
         "y": [
          20,
          23,
          15,
          17,
          18,
          25,
          25,
          25,
          20,
          13,
          15,
          16,
          13
         ]
        },
        {
         "hovertemplate": "%{y}<extra></extra>",
         "meta": "Thames Valley",
         "mode": "lines",
         "name": "Less than 6 months",
         "type": "scatter",
         "x": [
          2010,
          2011,
          2012,
          2013,
          2014,
          2015,
          2016,
          2017,
          2018,
          2019,
          2020,
          2021,
          2022
         ],
         "y": [
          166,
          164,
          142,
          136,
          151,
          175,
          155,
          133,
          121,
          104,
          50,
          75,
          86
         ]
        }
       ],
       "layout": {
        "annotations": [
         {
          "align": "left",
          "font": {
           "color": "#A01D28",
           "size": 10
          },
          "showarrow": false,
          "text": "12 months or more",
          "x": 2022,
          "xanchor": "left",
          "xref": "x",
          "y": 44,
          "yref": "y"
         },
         {
          "align": "left",
          "font": {
           "color": "#499CC9",
           "size": 10
          },
          "showarrow": false,
          "text": "6 months to less than 12 months",
          "x": 2022,
          "xanchor": "left",
          "xref": "x",
          "y": 13,
          "yref": "y"
         },
         {
          "align": "left",
          "font": {
           "color": "#F9A237",
           "size": 10
          },
          "showarrow": false,
          "text": "Less than 6 months",
          "x": 2022,
          "xanchor": "left",
          "xref": "x",
          "y": 86,
          "yref": "y"
         },
         {
          "align": "left",
          "font": {
           "size": 12
          },
          "showarrow": false,
          "text": "Source: Ministry of Justice, Criminal justice statistics",
          "x": -0.08,
          "xref": "paper",
          "y": -0.19,
          "yref": "paper"
         },
         {
          "align": "left",
          "font": {
           "size": 12
          },
          "showarrow": false,
          "text": "Women sentenced to custody",
          "x": 2010,
          "xanchor": "left",
          "xref": "x",
          "y": 1.04,
          "yref": "paper"
         }
        ],
        "height": 500,
        "hovermode": "x",
        "margin": {
         "b": 75,
         "l": 63,
         "r": 100
        },
        "template": {
         "layout": {
          "colorway": [
           "#A01D28",
           "#499CC9",
           "#F9A237",
           "#6FBA3A",
           "#573D6B"
          ],
          "font": {
           "color": "#54565B",
           "family": "Helvetica Neue, Arial",
           "size": 12
          },
          "modebar": {
           "activecolor": "#A01D28"
          },
          "paper_bgcolor": "#F7F2F2",
          "plot_bgcolor": "#F7F2F2",
          "showlegend": false,
          "title": {
           "font": {
            "family": "Helvetica Neue, Arial",
            "size": 17
           },
           "y": 0.94,
           "yanchor": "bottom"
          },
          "xaxis": {
           "showgrid": false,
           "tickcolor": "#54565B"
          }
         }
        },
        "title": {
         "text": "<b>Use of immediate imprisonment for women in<br>Thames Valley 2009–2021</b>"
        },
        "width": 655,
        "xaxis": {
         "dtick": 2,
         "range": [
          2009.7,
          2022.3
         ],
         "tick0": 2010
        },
        "yaxis": {
         "range": [
          0,
          204
         ],
         "tick0": 0,
         "tickformat": ",.0f",
         "title": {
          "text": ""
         }
        }
       }
      }
     },
     "metadata": {},
     "output_type": "display_data"
    },
    {
     "data": {
      "application/vnd.plotly.v1+json": {
       "config": {
        "plotlyServerURL": "https://plot.ly"
       },
       "data": [
        {
         "hovertemplate": "%{y}<extra></extra>",
         "meta": "Warwickshire",
         "mode": "lines",
         "name": "12 months or more",
         "type": "scatter",
         "x": [
          2010,
          2011,
          2012,
          2013,
          2014,
          2015,
          2016,
          2017,
          2018,
          2019,
          2020,
          2021,
          2022
         ],
         "y": [
          8,
          13,
          13,
          8,
          8,
          9,
          13,
          19,
          6,
          20,
          21,
          19,
          26
         ]
        },
        {
         "hovertemplate": "%{y}<extra></extra>",
         "meta": "Warwickshire",
         "mode": "lines",
         "name": "6 months to less than 12 months",
         "type": "scatter",
         "x": [
          2010,
          2011,
          2012,
          2013,
          2014,
          2015,
          2016,
          2017,
          2018,
          2019,
          2020,
          2021,
          2022
         ],
         "y": [
          1,
          3,
          4,
          7,
          5,
          4,
          7,
          3,
          1,
          2,
          6,
          0,
          6
         ]
        },
        {
         "hovertemplate": "%{y}<extra></extra>",
         "meta": "Warwickshire",
         "mode": "lines",
         "name": "Less than 6 months",
         "type": "scatter",
         "x": [
          2010,
          2011,
          2012,
          2013,
          2014,
          2015,
          2016,
          2017,
          2018,
          2019,
          2020,
          2021,
          2022
         ],
         "y": [
          16,
          23,
          20,
          25,
          28,
          44,
          40,
          45,
          24,
          24,
          11,
          9,
          9
         ]
        }
       ],
       "layout": {
        "annotations": [
         {
          "align": "left",
          "font": {
           "color": "#A01D28",
           "size": 10
          },
          "showarrow": false,
          "text": "12 months or more",
          "x": 2022,
          "xanchor": "left",
          "xref": "x",
          "y": 26,
          "yref": "y"
         },
         {
          "align": "left",
          "font": {
           "color": "#499CC9",
           "size": 10
          },
          "showarrow": false,
          "text": "6 months to less than 12 months",
          "x": 2022,
          "xanchor": "left",
          "xref": "x",
          "y": 6,
          "yref": "y"
         },
         {
          "align": "left",
          "font": {
           "color": "#F9A237",
           "size": 10
          },
          "showarrow": false,
          "text": "Less than 6 months",
          "x": 2022,
          "xanchor": "left",
          "xref": "x",
          "y": 11,
          "yref": "y"
         },
         {
          "align": "left",
          "font": {
           "size": 12
          },
          "showarrow": false,
          "text": "Source: Ministry of Justice, Criminal justice statistics",
          "x": -0.08,
          "xref": "paper",
          "y": -0.19,
          "yref": "paper"
         },
         {
          "align": "left",
          "font": {
           "size": 12
          },
          "showarrow": false,
          "text": "Women sentenced to custody",
          "x": 2010,
          "xanchor": "left",
          "xref": "x",
          "y": 1.04,
          "yref": "paper"
         }
        ],
        "height": 500,
        "hovermode": "x",
        "margin": {
         "b": 75,
         "l": 63,
         "r": 100
        },
        "template": {
         "layout": {
          "colorway": [
           "#A01D28",
           "#499CC9",
           "#F9A237",
           "#6FBA3A",
           "#573D6B"
          ],
          "font": {
           "color": "#54565B",
           "family": "Helvetica Neue, Arial",
           "size": 12
          },
          "modebar": {
           "activecolor": "#A01D28"
          },
          "paper_bgcolor": "#F7F2F2",
          "plot_bgcolor": "#F7F2F2",
          "showlegend": false,
          "title": {
           "font": {
            "family": "Helvetica Neue, Arial",
            "size": 17
           },
           "y": 0.94,
           "yanchor": "bottom"
          },
          "xaxis": {
           "showgrid": false,
           "tickcolor": "#54565B"
          }
         }
        },
        "title": {
         "text": "<b>Use of immediate imprisonment for women in<br>Warwickshire 2009–2021</b>"
        },
        "width": 655,
        "xaxis": {
         "dtick": 2,
         "range": [
          2009.7,
          2022.3
         ],
         "tick0": 2010
        },
        "yaxis": {
         "range": [
          0,
          52
         ],
         "tick0": 0,
         "tickformat": ",.0f",
         "title": {
          "text": ""
         }
        }
       }
      }
     },
     "metadata": {},
     "output_type": "display_data"
    },
    {
     "data": {
      "application/vnd.plotly.v1+json": {
       "config": {
        "plotlyServerURL": "https://plot.ly"
       },
       "data": [
        {
         "hovertemplate": "%{y}<extra></extra>",
         "meta": "West Mercia",
         "mode": "lines",
         "name": "12 months or more",
         "type": "scatter",
         "x": [
          2010,
          2011,
          2012,
          2013,
          2014,
          2015,
          2016,
          2017,
          2018,
          2019,
          2020,
          2021,
          2022
         ],
         "y": [
          43,
          34,
          29,
          26,
          32,
          24,
          25,
          27,
          26,
          28,
          26,
          14,
          19
         ]
        },
        {
         "hovertemplate": "%{y}<extra></extra>",
         "meta": "West Mercia",
         "mode": "lines",
         "name": "6 months to less than 12 months",
         "type": "scatter",
         "x": [
          2010,
          2011,
          2012,
          2013,
          2014,
          2015,
          2016,
          2017,
          2018,
          2019,
          2020,
          2021,
          2022
         ],
         "y": [
          17,
          7,
          13,
          8,
          5,
          12,
          10,
          6,
          5,
          13,
          8,
          4,
          6
         ]
        },
        {
         "hovertemplate": "%{y}<extra></extra>",
         "meta": "West Mercia",
         "mode": "lines",
         "name": "Less than 6 months",
         "type": "scatter",
         "x": [
          2010,
          2011,
          2012,
          2013,
          2014,
          2015,
          2016,
          2017,
          2018,
          2019,
          2020,
          2021,
          2022
         ],
         "y": [
          86,
          74,
          68,
          69,
          78,
          66,
          77,
          90,
          76,
          72,
          64,
          44,
          22
         ]
        }
       ],
       "layout": {
        "annotations": [
         {
          "align": "left",
          "font": {
           "color": "#A01D28",
           "size": 10
          },
          "showarrow": false,
          "text": "12 months or more",
          "x": 2022,
          "xanchor": "left",
          "xref": "x",
          "y": 19,
          "yref": "y"
         },
         {
          "align": "left",
          "font": {
           "color": "#499CC9",
           "size": 10
          },
          "showarrow": false,
          "text": "6 months to less than 12 months",
          "x": 2022,
          "xanchor": "left",
          "xref": "x",
          "y": 6,
          "yref": "y"
         },
         {
          "align": "left",
          "font": {
           "color": "#F9A237",
           "size": 10
          },
          "showarrow": false,
          "text": "Less than 6 months",
          "x": 2022,
          "xanchor": "left",
          "xref": "x",
          "y": 24,
          "yref": "y"
         },
         {
          "align": "left",
          "font": {
           "size": 12
          },
          "showarrow": false,
          "text": "Source: Ministry of Justice, Criminal justice statistics",
          "x": -0.08,
          "xref": "paper",
          "y": -0.19,
          "yref": "paper"
         },
         {
          "align": "left",
          "font": {
           "size": 12
          },
          "showarrow": false,
          "text": "Women sentenced to custody",
          "x": 2010,
          "xanchor": "left",
          "xref": "x",
          "y": 1.04,
          "yref": "paper"
         }
        ],
        "height": 500,
        "hovermode": "x",
        "margin": {
         "b": 75,
         "l": 63,
         "r": 100
        },
        "template": {
         "layout": {
          "colorway": [
           "#A01D28",
           "#499CC9",
           "#F9A237",
           "#6FBA3A",
           "#573D6B"
          ],
          "font": {
           "color": "#54565B",
           "family": "Helvetica Neue, Arial",
           "size": 12
          },
          "modebar": {
           "activecolor": "#A01D28"
          },
          "paper_bgcolor": "#F7F2F2",
          "plot_bgcolor": "#F7F2F2",
          "showlegend": false,
          "title": {
           "font": {
            "family": "Helvetica Neue, Arial",
            "size": 17
           },
           "y": 0.94,
           "yanchor": "bottom"
          },
          "xaxis": {
           "showgrid": false,
           "tickcolor": "#54565B"
          }
         }
        },
        "title": {
         "text": "<b>Use of immediate imprisonment for women in<br>West Mercia 2009–2021</b>"
        },
        "width": 655,
        "xaxis": {
         "dtick": 2,
         "range": [
          2009.7,
          2022.3
         ],
         "tick0": 2010
        },
        "yaxis": {
         "range": [
          0,
          103
         ],
         "tick0": 0,
         "tickformat": ",.0f",
         "title": {
          "text": ""
         }
        }
       }
      }
     },
     "metadata": {},
     "output_type": "display_data"
    },
    {
     "data": {
      "application/vnd.plotly.v1+json": {
       "config": {
        "plotlyServerURL": "https://plot.ly"
       },
       "data": [
        {
         "hovertemplate": "%{y}<extra></extra>",
         "meta": "West Midlands",
         "mode": "lines",
         "name": "12 months or more",
         "type": "scatter",
         "x": [
          2010,
          2011,
          2012,
          2013,
          2014,
          2015,
          2016,
          2017,
          2018,
          2019,
          2020,
          2021,
          2022
         ],
         "y": [
          117,
          129,
          122,
          98,
          102,
          96,
          134,
          113,
          74,
          105,
          63,
          61,
          46
         ]
        },
        {
         "hovertemplate": "%{y}<extra></extra>",
         "meta": "West Midlands",
         "mode": "lines",
         "name": "6 months to less than 12 months",
         "type": "scatter",
         "x": [
          2010,
          2011,
          2012,
          2013,
          2014,
          2015,
          2016,
          2017,
          2018,
          2019,
          2020,
          2021,
          2022
         ],
         "y": [
          42,
          37,
          50,
          35,
          35,
          42,
          33,
          26,
          35,
          27,
          17,
          22,
          23
         ]
        },
        {
         "hovertemplate": "%{y}<extra></extra>",
         "meta": "West Midlands",
         "mode": "lines",
         "name": "Less than 6 months",
         "type": "scatter",
         "x": [
          2010,
          2011,
          2012,
          2013,
          2014,
          2015,
          2016,
          2017,
          2018,
          2019,
          2020,
          2021,
          2022
         ],
         "y": [
          447,
          384,
          403,
          354,
          389,
          378,
          388,
          338,
          287,
          274,
          174,
          143,
          147
         ]
        }
       ],
       "layout": {
        "annotations": [
         {
          "align": "left",
          "font": {
           "color": "#A01D28",
           "size": 10
          },
          "showarrow": false,
          "text": "12 months or more",
          "x": 2022,
          "xanchor": "left",
          "xref": "x",
          "y": 46,
          "yref": "y"
         },
         {
          "align": "left",
          "font": {
           "color": "#499CC9",
           "size": 10
          },
          "showarrow": false,
          "text": "6 months to less than 12 months",
          "x": 2022,
          "xanchor": "left",
          "xref": "x",
          "y": 23,
          "yref": "y"
         },
         {
          "align": "left",
          "font": {
           "color": "#F9A237",
           "size": 10
          },
          "showarrow": false,
          "text": "Less than 6 months",
          "x": 2022,
          "xanchor": "left",
          "xref": "x",
          "y": 147,
          "yref": "y"
         },
         {
          "align": "left",
          "font": {
           "size": 12
          },
          "showarrow": false,
          "text": "Source: Ministry of Justice, Criminal justice statistics",
          "x": -0.08,
          "xref": "paper",
          "y": -0.19,
          "yref": "paper"
         },
         {
          "align": "left",
          "font": {
           "size": 12
          },
          "showarrow": false,
          "text": "Women sentenced to custody",
          "x": 2010,
          "xanchor": "left",
          "xref": "x",
          "y": 1.04,
          "yref": "paper"
         }
        ],
        "height": 500,
        "hovermode": "x",
        "margin": {
         "b": 75,
         "l": 63,
         "r": 100
        },
        "template": {
         "layout": {
          "colorway": [
           "#A01D28",
           "#499CC9",
           "#F9A237",
           "#6FBA3A",
           "#573D6B"
          ],
          "font": {
           "color": "#54565B",
           "family": "Helvetica Neue, Arial",
           "size": 12
          },
          "modebar": {
           "activecolor": "#A01D28"
          },
          "paper_bgcolor": "#F7F2F2",
          "plot_bgcolor": "#F7F2F2",
          "showlegend": false,
          "title": {
           "font": {
            "family": "Helvetica Neue, Arial",
            "size": 17
           },
           "y": 0.94,
           "yanchor": "bottom"
          },
          "xaxis": {
           "showgrid": false,
           "tickcolor": "#54565B"
          }
         }
        },
        "title": {
         "text": "<b>Use of immediate imprisonment for women in<br>West Midlands 2009–2021</b>"
        },
        "width": 655,
        "xaxis": {
         "dtick": 2,
         "range": [
          2009.7,
          2022.3
         ],
         "tick0": 2010
        },
        "yaxis": {
         "range": [
          0,
          606
         ],
         "tick0": 0,
         "tickformat": ",.0f",
         "title": {
          "text": ""
         }
        }
       }
      }
     },
     "metadata": {},
     "output_type": "display_data"
    },
    {
     "data": {
      "application/vnd.plotly.v1+json": {
       "config": {
        "plotlyServerURL": "https://plot.ly"
       },
       "data": [
        {
         "hovertemplate": "%{y}<extra></extra>",
         "meta": "West Yorkshire",
         "mode": "lines",
         "name": "12 months or more",
         "type": "scatter",
         "x": [
          2010,
          2011,
          2012,
          2013,
          2014,
          2015,
          2016,
          2017,
          2018,
          2019,
          2020,
          2021,
          2022
         ],
         "y": [
          87,
          80,
          77,
          53,
          77,
          74,
          87,
          70,
          60,
          66,
          63,
          69,
          55
         ]
        },
        {
         "hovertemplate": "%{y}<extra></extra>",
         "meta": "West Yorkshire",
         "mode": "lines",
         "name": "6 months to less than 12 months",
         "type": "scatter",
         "x": [
          2010,
          2011,
          2012,
          2013,
          2014,
          2015,
          2016,
          2017,
          2018,
          2019,
          2020,
          2021,
          2022
         ],
         "y": [
          17,
          33,
          32,
          34,
          31,
          31,
          21,
          31,
          16,
          30,
          38,
          30,
          22
         ]
        },
        {
         "hovertemplate": "%{y}<extra></extra>",
         "meta": "West Yorkshire",
         "mode": "lines",
         "name": "Less than 6 months",
         "type": "scatter",
         "x": [
          2010,
          2011,
          2012,
          2013,
          2014,
          2015,
          2016,
          2017,
          2018,
          2019,
          2020,
          2021,
          2022
         ],
         "y": [
          151,
          151,
          151,
          179,
          188,
          187,
          227,
          233,
          209,
          205,
          162,
          151,
          174
         ]
        }
       ],
       "layout": {
        "annotations": [
         {
          "align": "left",
          "font": {
           "color": "#A01D28",
           "size": 10
          },
          "showarrow": false,
          "text": "12 months or more",
          "x": 2022,
          "xanchor": "left",
          "xref": "x",
          "y": 55,
          "yref": "y"
         },
         {
          "align": "left",
          "font": {
           "color": "#499CC9",
           "size": 10
          },
          "showarrow": false,
          "text": "6 months to less than 12 months",
          "x": 2022,
          "xanchor": "left",
          "xref": "x",
          "y": 22,
          "yref": "y"
         },
         {
          "align": "left",
          "font": {
           "color": "#F9A237",
           "size": 10
          },
          "showarrow": false,
          "text": "Less than 6 months",
          "x": 2022,
          "xanchor": "left",
          "xref": "x",
          "y": 174,
          "yref": "y"
         },
         {
          "align": "left",
          "font": {
           "size": 12
          },
          "showarrow": false,
          "text": "Source: Ministry of Justice, Criminal justice statistics",
          "x": -0.08,
          "xref": "paper",
          "y": -0.19,
          "yref": "paper"
         },
         {
          "align": "left",
          "font": {
           "size": 12
          },
          "showarrow": false,
          "text": "Women sentenced to custody",
          "x": 2010,
          "xanchor": "left",
          "xref": "x",
          "y": 1.04,
          "yref": "paper"
         }
        ],
        "height": 500,
        "hovermode": "x",
        "margin": {
         "b": 75,
         "l": 63,
         "r": 100
        },
        "template": {
         "layout": {
          "colorway": [
           "#A01D28",
           "#499CC9",
           "#F9A237",
           "#6FBA3A",
           "#573D6B"
          ],
          "font": {
           "color": "#54565B",
           "family": "Helvetica Neue, Arial",
           "size": 12
          },
          "modebar": {
           "activecolor": "#A01D28"
          },
          "paper_bgcolor": "#F7F2F2",
          "plot_bgcolor": "#F7F2F2",
          "showlegend": false,
          "title": {
           "font": {
            "family": "Helvetica Neue, Arial",
            "size": 17
           },
           "y": 0.94,
           "yanchor": "bottom"
          },
          "xaxis": {
           "showgrid": false,
           "tickcolor": "#54565B"
          }
         }
        },
        "title": {
         "text": "<b>Use of immediate imprisonment for women in<br>West Yorkshire 2009–2021</b>"
        },
        "width": 655,
        "xaxis": {
         "dtick": 2,
         "range": [
          2009.7,
          2022.3
         ],
         "tick0": 2010
        },
        "yaxis": {
         "range": [
          0,
          305
         ],
         "tick0": 0,
         "tickformat": ",.0f",
         "title": {
          "text": ""
         }
        }
       }
      }
     },
     "metadata": {},
     "output_type": "display_data"
    },
    {
     "data": {
      "application/vnd.plotly.v1+json": {
       "config": {
        "plotlyServerURL": "https://plot.ly"
       },
       "data": [
        {
         "hovertemplate": "%{y}<extra></extra>",
         "meta": "Wiltshire",
         "mode": "lines",
         "name": "12 months or more",
         "type": "scatter",
         "x": [
          2010,
          2011,
          2012,
          2013,
          2014,
          2015,
          2016,
          2017,
          2018,
          2019,
          2020,
          2021,
          2022
         ],
         "y": [
          13,
          13,
          10,
          9,
          9,
          13,
          11,
          13,
          6,
          13,
          13,
          15,
          7
         ]
        },
        {
         "hovertemplate": "%{y}<extra></extra>",
         "meta": "Wiltshire",
         "mode": "lines",
         "name": "6 months to less than 12 months",
         "type": "scatter",
         "x": [
          2010,
          2011,
          2012,
          2013,
          2014,
          2015,
          2016,
          2017,
          2018,
          2019,
          2020,
          2021,
          2022
         ],
         "y": [
          3,
          3,
          2,
          1,
          4,
          7,
          7,
          2,
          5,
          4,
          6,
          3,
          5
         ]
        },
        {
         "hovertemplate": "%{y}<extra></extra>",
         "meta": "Wiltshire",
         "mode": "lines",
         "name": "Less than 6 months",
         "type": "scatter",
         "x": [
          2010,
          2011,
          2012,
          2013,
          2014,
          2015,
          2016,
          2017,
          2018,
          2019,
          2020,
          2021,
          2022
         ],
         "y": [
          6,
          15,
          21,
          14,
          19,
          24,
          31,
          32,
          38,
          32,
          15,
          15,
          18
         ]
        }
       ],
       "layout": {
        "annotations": [
         {
          "align": "left",
          "font": {
           "color": "#A01D28",
           "size": 10
          },
          "showarrow": false,
          "text": "12 months or more",
          "x": 2022,
          "xanchor": "left",
          "xref": "x",
          "y": 10,
          "yref": "y"
         },
         {
          "align": "left",
          "font": {
           "color": "#499CC9",
           "size": 10
          },
          "showarrow": false,
          "text": "6 months to less than 12 months",
          "x": 2022,
          "xanchor": "left",
          "xref": "x",
          "y": 5,
          "yref": "y"
         },
         {
          "align": "left",
          "font": {
           "color": "#F9A237",
           "size": 10
          },
          "showarrow": false,
          "text": "Less than 6 months",
          "x": 2022,
          "xanchor": "left",
          "xref": "x",
          "y": 18,
          "yref": "y"
         },
         {
          "align": "left",
          "font": {
           "size": 12
          },
          "showarrow": false,
          "text": "Source: Ministry of Justice, Criminal justice statistics",
          "x": -0.08,
          "xref": "paper",
          "y": -0.19,
          "yref": "paper"
         },
         {
          "align": "left",
          "font": {
           "size": 12
          },
          "showarrow": false,
          "text": "Women sentenced to custody",
          "x": 2010,
          "xanchor": "left",
          "xref": "x",
          "y": 1.04,
          "yref": "paper"
         }
        ],
        "height": 500,
        "hovermode": "x",
        "margin": {
         "b": 75,
         "l": 63,
         "r": 100
        },
        "template": {
         "layout": {
          "colorway": [
           "#A01D28",
           "#499CC9",
           "#F9A237",
           "#6FBA3A",
           "#573D6B"
          ],
          "font": {
           "color": "#54565B",
           "family": "Helvetica Neue, Arial",
           "size": 12
          },
          "modebar": {
           "activecolor": "#A01D28"
          },
          "paper_bgcolor": "#F7F2F2",
          "plot_bgcolor": "#F7F2F2",
          "showlegend": false,
          "title": {
           "font": {
            "family": "Helvetica Neue, Arial",
            "size": 17
           },
           "y": 0.94,
           "yanchor": "bottom"
          },
          "xaxis": {
           "showgrid": false,
           "tickcolor": "#54565B"
          }
         }
        },
        "title": {
         "text": "<b>Use of immediate imprisonment for women in<br>Wiltshire 2009–2021</b>"
        },
        "width": 655,
        "xaxis": {
         "dtick": 2,
         "range": [
          2009.7,
          2022.3
         ],
         "tick0": 2010
        },
        "yaxis": {
         "range": [
          0,
          52
         ],
         "tick0": 0,
         "tickformat": ",.0f",
         "title": {
          "text": ""
         }
        }
       }
      }
     },
     "metadata": {},
     "output_type": "display_data"
    }
   ],
   "source": [
    "for pfa in df['pfa'].unique():\n",
    "    pfa_df = df[df[\"pfa\"] == pfa]\n",
    "    trace_list = [] # Need to empty my trace_list with every loop through each PFA so that charts are plotted separately\n",
    "    fig = go.Figure() # Need to also instantiate the figure with every loop in order to clear fig.data values\n",
    "\n",
    "    for i in pfa_df[\"sentence_length\"].unique():  # Creating a for loop to extract unique values from the dataframe and make traces\n",
    "        pfa_df_sentence = pfa_df[pfa_df[\"sentence_length\"] == i]\n",
    "        \n",
    "        trace = go.Scatter(\n",
    "            x=pfa_df_sentence[\"year\"],\n",
    "            y=pfa_df_sentence[\"freq\"],\n",
    "            mode=\"lines\",\n",
    "            name=str(pfa_df_sentence[\"sentence_length\"].iloc[0]),\n",
    "            meta=pfa_df_sentence[\"pfa\"].iloc[0],   # Adding name of PFA in metadata to ensure data relates to only one area \n",
    "            hovertemplate=\"%{y}<extra></extra>\"\n",
    "        )\n",
    "\n",
    "        trace_list.append(trace)\n",
    "\n",
    "    fig.add_traces(trace_list)\n",
    "\n",
    "    ## Chart title\n",
    "    title = textwrap.wrap(f'<b>Use of immediate imprisonment for women in {pfa_df_sentence[\"pfa\"].iloc[0]} 2009–2021</b>', width=45)\n",
    "\n",
    "    fig.update_layout(\n",
    "        margin=dict(l=63, b=75, r=100),\n",
    "        title=\"<br>\".join(title),\n",
    "        yaxis_title=\"\",\n",
    "        yaxis_tickformat=\",.0f\",\n",
    "        yaxis_tick0=0,\n",
    "        xaxis_dtick=2,\n",
    "        xaxis_tick0=2010,\n",
    "        hovermode=\"x\",\n",
    "        width=655,\n",
    "        height=500,\n",
    "    )\n",
    "\n",
    "    ## Chart annotations\n",
    "    annotations = []\n",
    "\n",
    "    # Adding trace annotations\n",
    "    for j in range(0, len(trace_list)):\n",
    "        annotations.append(\n",
    "            dict(\n",
    "                xref=\"x\",\n",
    "                yref=\"y\",\n",
    "                x=fig.data[j].x[-1],\n",
    "                y=fig.data[j].y[-1],\n",
    "                text=str(fig.data[j].name),\n",
    "                xanchor=\"left\",\n",
    "                align=\"left\",\n",
    "                showarrow=False,\n",
    "                font_color=fig.layout.template.layout.colorway[j],\n",
    "                font_size=10,\n",
    "            )\n",
    "        )\n",
    "    # # Adding source label\n",
    "    source = prt_theme.sourceAnnotation(\"Ministry of Justice, Criminal justice statistics\", annotations)\n",
    "\n",
    "    # Adding y-axis label\n",
    "    annotations.append(\n",
    "        dict(\n",
    "            xref=\"x\",\n",
    "            yref=\"paper\",\n",
    "            x=df['year'].iloc[0],\n",
    "            y=1.04,\n",
    "            align=\"left\",\n",
    "            xanchor=\"left\",\n",
    "            showarrow=False,\n",
    "            text=\"Women sentenced to custody\",\n",
    "            font_size=12,\n",
    "        )\n",
    "    )\n",
    "    \n",
    "    # Checking for overlapping annotations on trace labels\n",
    "    y_vals = annotation_yvals()\n",
    "    \n",
    "    space = 5\n",
    "    if check_overlap(y_vals, space) == False:\n",
    "        adjust_overlap(y_vals, space)\n",
    "    \n",
    "    # Adding annotations to layout\n",
    "    fig.update_layout(annotations=annotations)\n",
    "\n",
    "    ## Setting chart axis ranges\n",
    "    max_y_val = 0\n",
    "    for i in range(len(fig.data)):\n",
    "        max_trace = (fig.data[i].y).max()\n",
    "        if max_trace > max_y_val:\n",
    "            max_y_val = max_trace\n",
    "\n",
    "    y_intervals = [52, 103, 204, 305, 405, 606, 1210]\n",
    "    y_max_idx = min(range(len(y_intervals)), key = lambda i: abs(y_intervals[i]-max_y_val))\n",
    "    if y_intervals[y_max_idx] <= max_y_val:\n",
    "        y_max = y_intervals[y_max_idx + 1]\n",
    "    else: \n",
    "        y_max = y_intervals[y_max_idx]\n",
    "\n",
    "    # y_max = y_intervals[min(range(len(y_intervals)), key = lambda i: abs(y_intervals[i]-max_y_val))]\n",
    "    \n",
    "    fig.update_yaxes(range=[0, y_max])\n",
    "    fig.update_xaxes(range=[2009.7, 2022.3])\n",
    "\n",
    "    fig.show()\n",
    "    # fig.show(config=config)\n",
    "\n",
    "    ## Exporting to static image\n",
    "\n",
    "    # Save results to ../reports/figures/custody_sentence_lengths, generate if does not exist.\n",
    "    export_path = Path.joinpath(Path.cwd().parent, \"reports\", \"figures\", \"custody_sentence_lengths_test\")\n",
    "    export_path.mkdir(parents=True, exist_ok=True)\n",
    "\n",
    "    # Setting filename variable and full path\n",
    "\n",
    "    filename = str(pfa_df_sentence[\"pfa\"].iloc[0])\n",
    "    export_eps_path = Path.joinpath(export_path, f'{filename}' + '.eps')\n",
    "\n",
    "    # fig.write_image(export_eps_path)"
   ]
  },
  {
   "cell_type": "code",
   "execution_count": 16,
   "metadata": {},
   "outputs": [
    {
     "name": "stdout",
     "output_type": "stream",
     "text": [
      "7\n",
      "38\n",
      "15\n"
     ]
    },
    {
     "data": {
      "text/plain": [
       "38"
      ]
     },
     "execution_count": 16,
     "metadata": {},
     "output_type": "execute_result"
    }
   ],
   "source": [
    "max_trace = 0\n",
    "for i in range(len(fig.data)):\n",
    "    max_val = (fig.data[i].y).max()\n",
    "    if max_val > max_trace:\n",
    "        max_trace = max_val\n",
    "    print(max_val)\n",
    "max_trace"
   ]
  },
  {
   "cell_type": "code",
   "execution_count": null,
   "metadata": {},
   "outputs": [],
   "source": [
    "y_intervals = [55, 105, 205, 305, 405, 1210]\n",
    "y_max_idx = min(y_intervals, key = lambda x: abs(x-max_y_val))\n",
    "if y_intervals[y_max_idx] < max_y_val:\n",
    "    y_max = y_intervals[y_max_idx + 1]\n",
    "else: \n",
    "    y_max = y_intervals[y_max_idx]"
   ]
  }
 ],
 "metadata": {
  "kernelspec": {
   "display_name": "minimal_ds",
   "language": "python",
   "name": "python3"
  },
  "language_info": {
   "codemirror_mode": {
    "name": "ipython",
    "version": 3
   },
   "file_extension": ".py",
   "mimetype": "text/x-python",
   "name": "python",
   "nbconvert_exporter": "python",
   "pygments_lexer": "ipython3",
   "version": "3.11.0"
  },
  "orig_nbformat": 4
 },
 "nbformat": 4,
 "nbformat_minor": 2
}
