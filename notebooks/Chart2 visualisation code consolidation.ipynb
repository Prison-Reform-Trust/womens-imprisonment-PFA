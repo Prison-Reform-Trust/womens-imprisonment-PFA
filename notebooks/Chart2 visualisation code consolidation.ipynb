{
 "cells": [
  {
   "cell_type": "code",
   "execution_count": 3,
   "metadata": {},
   "outputs": [],
   "source": [
    "import pandas as pd\n",
    "import textwrap\n",
    "import plotly.graph_objs as go\n",
    "import plotly.io as pio\n",
    "from pathlib import Path #To create unique filenames for each PFA chart\n",
    "\n",
    "import src.data.utilities as utils\n",
    "import src.visualization.prt_theme\n",
    "\n",
    "config = utils.read_config()\n",
    "pio.templates.default = \"prt_template\""
   ]
  },
  {
   "cell_type": "code",
   "execution_count": 4,
   "metadata": {},
   "outputs": [],
   "source": [
    "def loadData(status='processed', filename='PFA_2022_offences.csv') -> pd.DataFrame:\n",
    "    \"\"\"Load CSV file into Pandas DataFrame and convert object columns to categories when they meet criteria in `categoryColumns()`\n",
    "\n",
    "    Parameters\n",
    "    ----------\n",
    "    status : {'raw', 'interim', 'processed'}, default is 'interim'\n",
    "        Status of the data processing.\n",
    "        * If 'raw' file is located in \"rawFilePath\" within config file\n",
    "        * If 'interim', file is located in \"intFilePath\"\n",
    "        * If 'processed', file is located in \"clnFilePath\"\n",
    "    filename : str, default is 'PFA_2010-22_women_cust_comm_sus.csv'\n",
    "        Name of CSV file to be loaded.\n",
    "\n",
    "    Returns\n",
    "    -------\n",
    "    DataFrame\n",
    "        CSV data is returned as Pandas DataFrame with any eligible object columns converted into category columns to limit memory requirements\n",
    "    \"\"\"\n",
    "    paths = {\n",
    "        \"raw\": 'rawFilePath',\n",
    "        \"interim\": 'intFilePath',\n",
    "        \"processed\": 'clnFilePath'\n",
    "    }\n",
    "\n",
    "    dfPath=f\"{config['data'][paths[status]]}{filename}\"\n",
    "    df = pd.read_csv(dfPath)\n",
    "    print('Data loaded')\n",
    "    return utils.categoryColumns(df)"
   ]
  },
  {
   "cell_type": "code",
   "execution_count": 5,
   "metadata": {},
   "outputs": [
    {
     "name": "stdout",
     "output_type": "stream",
     "text": [
      "Data loaded\n"
     ]
    }
   ],
   "source": [
    "df = loadData()"
   ]
  },
  {
   "cell_type": "code",
   "execution_count": 6,
   "metadata": {},
   "outputs": [],
   "source": [
    "df = df.rename({'Fraud Offences': 'Fraud offences'}, axis=1)"
   ]
  },
  {
   "cell_type": "code",
   "execution_count": null,
   "metadata": {},
   "outputs": [],
   "source": [
    "df"
   ]
  },
  {
   "cell_type": "code",
   "execution_count": 7,
   "metadata": {},
   "outputs": [],
   "source": [
    "class pfaOffencesChart:\n",
    "    \n",
    "    def __init__(self, pfa, df=df):\n",
    "        \n",
    "        self.pfa = pfa\n",
    "        self.df = df\n",
    "        self.trace_list = [] # Need to empty my trace_list with every loop through each PFA so that charts are plotted separately\n",
    "        self.annotations = []\n",
    "        self.fig = go.Figure() # Need to also instantiate the figure with every loop in order to clear fig.data values\n",
    "\n",
    "    def customWrap(self, s, width=19):\n",
    "        return \"<br>\".join(textwrap.wrap(s, width=width))\n",
    "    \n",
    "    def prepareData(self):\n",
    "        #Melting df from wide to long\n",
    "        self.df = pd.melt(self.df, id_vars='pfa', value_vars=self.df.columns[1:], var_name='offence', value_name='proportion')\n",
    "\n",
    "        #Selecting the offences that I want to continue to display at the root of the sunburst diagram\n",
    "        highlighted_offence_groups = ['Theft offences', 'Drug offences', 'Violence against the person']\n",
    "        self.filt = self.df['offence'].isin(highlighted_offence_groups)\n",
    "\n",
    "        self.df['parent'] = \"\" # Creating a new object column to prevent FutureWarning being triggered\n",
    "        self.df.loc[self.filt, 'parent'] = \"All offences\" # This method prevents that annoying copy/view warning\n",
    "        self.df.loc[~self.filt, 'parent'] = \"All other<br>offences\"\n",
    "\n",
    "        #Setting discreet plotting order\n",
    "        plot_dict = {\n",
    "            'All other offences': 0,\n",
    "            'Theft offences': 1,\n",
    "            'Drug offences': 2,\n",
    "            'Violence against the person': 3\n",
    "        }\n",
    "        self.df['plot_order'] = self.df[\"offence\"].map(plot_dict).fillna(0)\n",
    "        \n",
    "        #Wrapping longer offence text\n",
    "        self.df.loc[self.filt, 'offence'] = self.df.loc[self.filt, 'offence'].map((lambda x: self.customWrap(x, width=12))) # Wrapping highlighted_offence_groups with a smaller width argument\n",
    "        self.df.loc[~self.filt, 'offence'] = self.df.loc[~self.filt, 'offence'].map(self.customWrap) # Wrapping all other offences\n",
    "\n",
    "        return self.df\n",
    "\n",
    "    def createTraces(self):\n",
    "        self.df = self.df[self.df[\"pfa\"] == self.pfa]\n",
    "        self.df = pd.concat([\n",
    "            self.df,\n",
    "            pd.DataFrame.from_records([{\n",
    "                'pfa': self.df['pfa'].iloc[0], \n",
    "                'offence':\"All other<br>offences\", \n",
    "                'proportion': self.df.loc[~self.filt, 'proportion'].sum(), \n",
    "                'parent':\"All offences\",\n",
    "                'plot_order': 0\n",
    "            }])\n",
    "        ], ignore_index=True).sort_values(by=['plot_order', 'proportion'], ascending=True)\n",
    "\n",
    "        # Creating the Sunburst trace\n",
    "        sunburst_trace = go.Sunburst(\n",
    "            labels=self.df['offence'],\n",
    "            parents=self.df['parent'],\n",
    "            values=self.df['proportion'],\n",
    "            sort=False,\n",
    "            branchvalues='total',\n",
    "            texttemplate=\"%{label} <b>%{percentRoot: .0%}</b>\",\n",
    "            hovertemplate=\"<b>%{label}</b><br>%{percentParent: .0%} of %{parent}<extra></extra>\",\n",
    "            hoverinfo='label+percent parent',\n",
    "            insidetextorientation='radial',\n",
    "            rotation=300,\n",
    "            domain_column=0,\n",
    "            domain_row=0\n",
    "        )\n",
    "\n",
    "        self.fig.add_trace(sunburst_trace)\n",
    "\n",
    "\n",
    "    \n",
    "    def chartParams(self):\n",
    "        ## Chart title\n",
    "        title = textwrap.wrap(f'<b>Imprisonment of women in {self.df[\"pfa\"].iloc[0]} by offence group in 2022</b>', width=100)\n",
    "\n",
    "        self.fig.update_layout(\n",
    "            margin = dict(t=75, l=0, r=0, b=0),\n",
    "            title=\"<br>\".join(title),\n",
    "            title_y=0.94,\n",
    "            title_yanchor=\"bottom\",\n",
    "            # uniformtext_minsize=8,\n",
    "            # uniformtext_mode='hide',\n",
    "            width=630,\n",
    "            height=630,\n",
    "            )\n",
    "    \n",
    "    def chartAnnotations(self):\n",
    "        \n",
    "        # Adding source label\n",
    "        self.annotations.append(\n",
    "            dict(\n",
    "                xref=\"paper\",\n",
    "                yref=\"paper\",\n",
    "                xanchor=\"left\",\n",
    "                yanchor=\"top\",\n",
    "                x=0.05,\n",
    "                y=0.07,\n",
    "                showarrow=False,\n",
    "                text=f\"Source: Ministry of Justice, Criminal justice statistics\",\n",
    "                font_size=12,\n",
    "            )\n",
    "        )\n",
    "\n",
    "        # Adding annotations to layout\n",
    "        self.fig.update_layout(annotations=self.annotations)\n",
    "\n",
    "    def addMissingOffenceLabels(self, number=0):\n",
    "\n",
    "        missing_labels = self.fig.data[0].labels[:number]\n",
    "        missing_values = self.fig.data[0].values[:number]\n",
    "\n",
    "        # Manually add annotations for labels outside the sunburst chart (only for hidden labels)\n",
    "        for label, value in zip(missing_labels, missing_values):\n",
    "                self.annotations.append(\n",
    "                    dict(\n",
    "                        x=0.5,  # Adjust the x-coordinate to control the distance from the chart\n",
    "                        y=0.1,\n",
    "                        text=f\"{label} ({value:.0%})\",  # Display the label and proportion\n",
    "                        showarrow=True,\n",
    "                        xanchor='left',\n",
    "                        font=dict(size=10),  # Adjust the font size as needed\n",
    "                    )\n",
    "                )\n",
    "        # Adding annotations to layout\n",
    "        self.fig.update_layout(annotations=self.annotations)\n",
    "        \n",
    "        # Displaying chart\n",
    "        return self.fig.show()\n",
    "\n",
    "    def saveChart(self, filetype='eps'):\n",
    "        self.filetype = filetype\n",
    "\n",
    "        if self.trace_list == []: #Allows saveChart method to run without outputChart requirement\n",
    "            self.prepareData()\n",
    "            self.createTraces()\n",
    "            self.chartParams()\n",
    "            self.chartAnnotations()\n",
    "\n",
    "        export_path = Path.joinpath(Path.cwd(), f\"{config['data']['outPath']}\", f\"custody_offences_2022/{self.filetype}\")\n",
    "        export_path.mkdir(parents=True, exist_ok=True) #generate if does not exist\n",
    "\n",
    "        # Setting filename variable and full path\n",
    "        filename = str(self.df[\"pfa\"].iloc[0])\n",
    "        export_path = Path.joinpath(export_path, f'{filename}.{self.filetype}')\n",
    "    \n",
    "        self.fig.write_image(export_path)\n",
    "    \n",
    "\n",
    "    def outputChart(self):\n",
    "        self.prepareData()\n",
    "        self.createTraces()\n",
    "        self.chartParams()\n",
    "        self.chartAnnotations()\n",
    "        self.fig.show()"
   ]
  },
  {
   "cell_type": "code",
   "execution_count": 8,
   "metadata": {},
   "outputs": [],
   "source": [
    "kent = pfaOffencesChart(\"Kent\")"
   ]
  },
  {
   "cell_type": "code",
   "execution_count": 10,
   "metadata": {},
   "outputs": [
    {
     "data": {
      "application/vnd.plotly.v1+json": {
       "config": {
        "plotlyServerURL": "https://plot.ly"
       },
       "data": [
        {
         "branchvalues": "total",
         "domain": {
          "column": 0,
          "row": 0
         },
         "hoverinfo": "label+percent parent",
         "hovertemplate": "<b>%{label}</b><br>%{percentParent: .0%} of %{parent}<extra></extra>",
         "insidetextorientation": "radial",
         "labels": [
          "Possession of<br>weapons",
          "Sexual offences",
          "Criminal damage and<br>arson",
          "Summary motoring",
          "Robbery",
          "Public order<br>offences",
          "Fraud offences",
          "Summary non-<br>motoring",
          "Miscellaneous<br>crimes against<br>society",
          "All other<br>offences",
          "Theft<br>offences",
          "Drug<br>offences",
          "Violence<br>against the<br>person"
         ],
         "parents": [
          "All other<br>offences",
          "All other<br>offences",
          "All other<br>offences",
          "All other<br>offences",
          "All other<br>offences",
          "All other<br>offences",
          "All other<br>offences",
          "All other<br>offences",
          "All other<br>offences",
          "All offences",
          "All offences",
          "All offences",
          "All offences"
         ],
         "rotation": -60,
         "sort": false,
         "texttemplate": "%{label} <b>%{percentRoot: .0%}</b>",
         "type": "sunburst",
         "values": [
          0.007,
          0.007,
          0.014,
          0.014,
          0.021,
          0.042,
          0.056,
          0.077,
          0.091,
          0.329,
          0.385,
          0.063,
          0.224
         ]
        }
       ],
       "layout": {
        "annotations": [
         {
          "font": {
           "size": 12
          },
          "showarrow": false,
          "text": "Source: Ministry of Justice, Criminal justice statistics",
          "x": 0.05,
          "xanchor": "left",
          "xref": "paper",
          "y": 0.07,
          "yanchor": "top",
          "yref": "paper"
         }
        ],
        "height": 630,
        "margin": {
         "b": 0,
         "l": 0,
         "r": 0,
         "t": 75
        },
        "template": {
         "layout": {
          "colorway": [
           "#A01D28",
           "#499CC9",
           "#F9A237",
           "#6FBA3A",
           "#573D6B"
          ],
          "font": {
           "color": "#54565B",
           "family": "Helvetica Neue, Arial",
           "size": 12
          },
          "modebar": {
           "activecolor": "#A01D28"
          },
          "paper_bgcolor": "#F7F2F2",
          "plot_bgcolor": "#F7F2F2",
          "showlegend": false,
          "title": {
           "font": {
            "family": "Helvetica Neue, Arial",
            "size": 17
           },
           "y": 0.94,
           "yanchor": "bottom"
          },
          "xaxis": {
           "showgrid": false,
           "tickcolor": "#54565B"
          }
         }
        },
        "title": {
         "text": "<b>Imprisonment of women in Kent by offence group in 2022</b>",
         "y": 0.94,
         "yanchor": "bottom"
        },
        "width": 630
       }
      }
     },
     "metadata": {},
     "output_type": "display_data"
    }
   ],
   "source": [
    "kent.outputChart()"
   ]
  },
  {
   "cell_type": "code",
   "execution_count": null,
   "metadata": {},
   "outputs": [],
   "source": [
    "kent.addMissingOffenceLabels(3)"
   ]
  },
  {
   "cell_type": "code",
   "execution_count": null,
   "metadata": {},
   "outputs": [],
   "source": [
    "kent.saveChart()"
   ]
  },
  {
   "cell_type": "code",
   "execution_count": 12,
   "metadata": {},
   "outputs": [
    {
     "data": {
      "text/plain": [
       "numpy.ndarray"
      ]
     },
     "execution_count": 12,
     "metadata": {},
     "output_type": "execute_result"
    }
   ],
   "source": [
    "type(kent.fig.data[0].labels[:3])"
   ]
  },
  {
   "cell_type": "code",
   "execution_count": null,
   "metadata": {},
   "outputs": [],
   "source": []
  },
  {
   "cell_type": "code",
   "execution_count": null,
   "metadata": {},
   "outputs": [],
   "source": [
    "label_dict = {key:value for (key,value) in zip(kent.fig.data[0].labels[:3],kent.fig.data[0].values[:3])}"
   ]
  },
  {
   "cell_type": "code",
   "execution_count": null,
   "metadata": {},
   "outputs": [],
   "source": [
    "label_dict"
   ]
  },
  {
   "cell_type": "code",
   "execution_count": null,
   "metadata": {},
   "outputs": [],
   "source": [
    "for pfa in df['pfa'].unique():\n",
    "    chart = pfaOffencesChart(pfa)\n",
    "    chart.outputChart()\n",
    "    # chart.saveChart()"
   ]
  },
  {
   "cell_type": "code",
   "execution_count": null,
   "metadata": {},
   "outputs": [],
   "source": [
    "avon = pfaOffencesChart(\"Avon and Somerset\")\n",
    "avon.outputChart()"
   ]
  },
  {
   "cell_type": "code",
   "execution_count": null,
   "metadata": {},
   "outputs": [],
   "source": [
    "avon.fig.update_layout(uniformtext_mode='hide')"
   ]
  },
  {
   "cell_type": "code",
   "execution_count": null,
   "metadata": {},
   "outputs": [],
   "source": [
    "avon.fig.show()"
   ]
  },
  {
   "cell_type": "code",
   "execution_count": null,
   "metadata": {},
   "outputs": [],
   "source": []
  }
 ],
 "metadata": {
  "kernelspec": {
   "display_name": "women-PFA-outcomes",
   "language": "python",
   "name": "python3"
  },
  "language_info": {
   "codemirror_mode": {
    "name": "ipython",
    "version": 3
   },
   "file_extension": ".py",
   "mimetype": "text/x-python",
   "name": "python",
   "nbconvert_exporter": "python",
   "pygments_lexer": "ipython3",
   "version": "3.11.0"
  },
  "orig_nbformat": 4
 },
 "nbformat": 4,
 "nbformat_minor": 2
}
