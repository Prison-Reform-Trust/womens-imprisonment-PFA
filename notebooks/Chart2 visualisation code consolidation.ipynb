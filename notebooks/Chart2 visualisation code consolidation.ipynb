{
 "cells": [
  {
   "cell_type": "code",
   "execution_count": 1,
   "metadata": {},
   "outputs": [],
   "source": [
    "import pandas as pd\n",
    "import textwrap\n",
    "import plotly.graph_objs as go\n",
    "import plotly.io as pio\n",
    "from pathlib import Path #To create unique filenames for each PFA chart\n",
    "import itertools\n",
    "\n",
    "import src.data.utilities as utils\n",
    "import src.visualization.prt_theme as prt_theme\n",
    "\n",
    "config = utils.read_config()\n",
    "pio.templates.default = \"prt_template\""
   ]
  },
  {
   "cell_type": "code",
   "execution_count": 2,
   "metadata": {},
   "outputs": [],
   "source": [
    "def loadData(status='processed', filename='PFA_2022_offences.csv') -> pd.DataFrame:\n",
    "    \"\"\"Load CSV file into Pandas DataFrame and convert object columns to categories when they meet criteria in `categoryColumns()`\n",
    "\n",
    "    Parameters\n",
    "    ----------\n",
    "    status : {'raw', 'interim', 'processed'}, default is 'interim'\n",
    "        Status of the data processing.\n",
    "        * If 'raw' file is located in \"rawFilePath\" within config file\n",
    "        * If 'interim', file is located in \"intFilePath\"\n",
    "        * If 'processed', file is located in \"clnFilePath\"\n",
    "    filename : str, default is 'PFA_2010-22_women_cust_comm_sus.csv'\n",
    "        Name of CSV file to be loaded.\n",
    "\n",
    "    Returns\n",
    "    -------\n",
    "    DataFrame\n",
    "        CSV data is returned as Pandas DataFrame with any eligible object columns converted into category columns to limit memory requirements\n",
    "    \"\"\"\n",
    "    paths = {\n",
    "        \"raw\": 'rawFilePath',\n",
    "        \"interim\": 'intFilePath',\n",
    "        \"processed\": 'clnFilePath'\n",
    "    }\n",
    "\n",
    "    dfPath=f\"{config['data'][paths[status]]}{filename}\"\n",
    "    df = pd.read_csv(dfPath)\n",
    "    print('Data loaded')\n",
    "    return utils.categoryColumns(df)"
   ]
  },
  {
   "cell_type": "code",
   "execution_count": 20,
   "metadata": {},
   "outputs": [
    {
     "name": "stdout",
     "output_type": "stream",
     "text": [
      "Data loaded\n"
     ]
    }
   ],
   "source": [
    "df = loadData()"
   ]
  },
  {
   "cell_type": "code",
   "execution_count": 21,
   "metadata": {},
   "outputs": [],
   "source": [
    "df = df.rename({'Fraud Offences': 'Fraud offences'}, axis=1)"
   ]
  },
  {
   "cell_type": "code",
   "execution_count": 12,
   "metadata": {},
   "outputs": [],
   "source": [
    "#Melting df2 from wide to long\n",
    "df = pd.melt(df, id_vars='pfa', value_vars=df.columns[1:], var_name='offence', value_name='proportion')\n",
    "\n",
    "#Selecting the offences that I want to continue to display at the root of the sunburst diagram\n",
    "highlighted_offence_groups = ['Theft offences', 'Drug offences', 'Violence against the person']\n",
    "filt = df['offence'].isin(highlighted_offence_groups)\n",
    "\n",
    "df['parent'] = \"\" # Creating a new object column to prevent FutureWarning being triggered in next line\n",
    "df.loc[filt, 'parent'] = \"All offences\" # This method prevents that annoying copy/view warning\n",
    "df.loc[~filt, 'parent'] = \"All other<br>offences\"\n",
    "\n",
    "#Setting discreet plotting order\n",
    "plot_dict = {\n",
    "    'All other offences': 0,\n",
    "    'Theft offences': 1,\n",
    "    'Drug offences': 2,\n",
    "    'Violence against the person': 3\n",
    "}\n",
    "\n",
    "df['plot_order'] = df[\"offence\"].map(plot_dict).fillna(0)\n",
    "\n",
    "#Adding text wrapping for longer offence categories\n",
    "def customwrap(s,width=19):\n",
    "    return \"<br>\".join(textwrap.wrap(s,width=width))\n",
    "\n",
    "df['offence'] = df['offence'].map(customwrap)\n"
   ]
  },
  {
   "cell_type": "code",
   "execution_count": 90,
   "metadata": {},
   "outputs": [],
   "source": [
    "class pfaOffencesChart:\n",
    "    \n",
    "    def __init__(self, pfa, df=df):\n",
    "        \n",
    "        self.pfa = pfa\n",
    "        self.df = df\n",
    "        self.trace_list = [] # Need to empty my trace_list with every loop through each PFA so that charts are plotted separately\n",
    "        self.annotations = []\n",
    "        self.fig = go.Figure() # Need to also instantiate the figure with every loop in order to clear fig.data values\n",
    "\n",
    "    def customwrap(self, s, width=19):\n",
    "        return \"<br>\".join(textwrap.wrap(s, width=width))\n",
    "    \n",
    "    def prepareData(self):\n",
    "        #Melting df from wide to long\n",
    "        self.df = pd.melt(self.df, id_vars='pfa', value_vars=self.df.columns[1:], var_name='offence', value_name='proportion')\n",
    "\n",
    "        #Selecting the offences that I want to continue to display at the root of the sunburst diagram\n",
    "        highlighted_offence_groups = ['Theft offences', 'Drug offences', 'Violence against the person']\n",
    "        filt = self.df['offence'].isin(highlighted_offence_groups)\n",
    "\n",
    "        self.df['parent'] = \"\" # Creating a new object column to prevent FutureWarning being triggered\n",
    "        self.df.loc[filt, 'parent'] = \"All offences\" # This method prevents that annoying copy/view warning\n",
    "        self.df.loc[~filt, 'parent'] = \"All other<br>offences\"\n",
    "\n",
    "        #Setting discreet plotting order\n",
    "        plot_dict = {\n",
    "            'All other offences': 0,\n",
    "            'Theft offences': 1,\n",
    "            'Drug offences': 2,\n",
    "            'Violence against the person': 3\n",
    "        }\n",
    "        self.df['plot_order'] = self.df[\"offence\"].map(plot_dict).fillna(0)\n",
    "        \n",
    "        #Wrapping longer offence text\n",
    "        self.df['offence'] = self.df['offence'].map(customwrap)\n",
    "\n",
    "        return self.df\n",
    "\n",
    "    def createTraces(self):\n",
    "        \n",
    "        self.df = self.df[self.df[\"pfa\"] == self.pfa]\n",
    "        self.df = pd.concat([self.df, \n",
    "                    pd.DataFrame.from_records([{'pfa': self.df['pfa'].iloc[0], \n",
    "                                                'offence':\"All other<br>offences\", \n",
    "                                                'proportion': self.df.loc[~filt, 'proportion'].sum(), \n",
    "                                                'parent':\"All offences\",\n",
    "                                                'plot_order': 0}])\n",
    "                                                ],\n",
    "                                                ignore_index=True\n",
    "                    ).sort_values(by=['plot_order', 'proportion'], ascending=True)\n",
    "        \n",
    "        self.fig.add_trace(go.Sunburst(\n",
    "            labels=self.df['offence'],\n",
    "            parents=self.df['parent'],\n",
    "            values=self.df['proportion'],\n",
    "            sort=False,\n",
    "            branchvalues='total',\n",
    "            texttemplate=\"%{label} <b>%{percentRoot: .0%}</b>\",\n",
    "            hovertemplate=\"<b>%{label}</b><br>%{percentParent: .0%} of %{parent}<extra></extra>\",\n",
    "            hoverinfo='label+percent parent',\n",
    "            insidetextorientation='radial',\n",
    "            rotation=300,\n",
    "        )\n",
    "                    )\n",
    "\n",
    "    def chartParams(self):\n",
    "        ## Chart title\n",
    "        title = textwrap.wrap(f'<b>Imprisonment of women in {self.df[\"pfa\"].iloc[0]} by offence group in 2022</b>', width=100)\n",
    "\n",
    "        self.fig.update_layout(\n",
    "            margin = dict(t=75, l=0, r=0, b=0),\n",
    "            title=\"<br>\".join(title),\n",
    "            title_y=0.94,\n",
    "            title_yanchor=\"bottom\",\n",
    "            uniformtext_minsize=8,\n",
    "            uniformtext_mode='hide',\n",
    "            width=630,\n",
    "            height=630,\n",
    "            )\n",
    "    \n",
    "    def chartAnnotations(self):\n",
    "        # Adding source label\n",
    "        # prt_theme.sourceAnnotation(\"Ministry of Justice, Criminal justice statistics\", self.annotations)\n",
    "\n",
    "        self.annotations.append(\n",
    "            dict(\n",
    "                xref=\"paper\",\n",
    "                yref=\"paper\",\n",
    "                xanchor=\"left\",\n",
    "                yanchor=\"top\",\n",
    "                x=0.08,\n",
    "                y=0.19,\n",
    "                showarrow=False,\n",
    "                text=f\"Source: Ministry of Justice, Criminal justice statistics\",\n",
    "                font_size=12,\n",
    "            )\n",
    "        )\n",
    "\n",
    "        # Adding annotations to layout\n",
    "        self.fig.update_layout(annotations=self.annotations)\n",
    "\n",
    "    def saveChart(self, filetype='eps'):\n",
    "        self.filetype = filetype\n",
    "\n",
    "        export_path = Path.joinpath(Path.cwd(), f\"{config['data']['outPath']}\", f\"custody_offences_2022/{self.filetype}\")\n",
    "        export_path.mkdir(parents=True, exist_ok=True) #generate if does not exist\n",
    "\n",
    "        # Setting filename variable and full path\n",
    "        filename = str(self.df[\"pfa\"].iloc[0])\n",
    "        export_path = Path.joinpath(export_path, f'{filename}.{self.filetype}')\n",
    "    \n",
    "        self.fig.write_image(export_path)\n",
    "    \n",
    "\n",
    "    def outputChart(self):\n",
    "        self.prepareData()\n",
    "        self.createTraces()\n",
    "        self.chartParams()\n",
    "        self.chartAnnotations()\n",
    "        self.fig.show()"
   ]
  },
  {
   "cell_type": "code",
   "execution_count": 91,
   "metadata": {},
   "outputs": [],
   "source": [
    "kent = pfaOffencesChart(\"Kent\")"
   ]
  },
  {
   "cell_type": "code",
   "execution_count": 92,
   "metadata": {},
   "outputs": [
    {
     "data": {
      "application/vnd.plotly.v1+json": {
       "config": {
        "plotlyServerURL": "https://plot.ly"
       },
       "data": [
        {
         "branchvalues": "total",
         "hoverinfo": "label+percent parent",
         "hovertemplate": "<b>%{label}</b><br>%{percentParent: .0%} of %{parent}<extra></extra>",
         "insidetextorientation": "radial",
         "labels": [
          "Possession of<br>weapons",
          "Sexual offences",
          "Criminal damage and<br>arson",
          "Summary motoring",
          "Robbery",
          "Public order<br>offences",
          "Fraud offences",
          "Summary non-<br>motoring",
          "Miscellaneous<br>crimes against<br>society",
          "All other<br>offences",
          "Theft offences",
          "Drug offences",
          "Violence against<br>the person"
         ],
         "parents": [
          "All other<br>offences",
          "All other<br>offences",
          "All other<br>offences",
          "All other<br>offences",
          "All other<br>offences",
          "All other<br>offences",
          "All other<br>offences",
          "All other<br>offences",
          "All other<br>offences",
          "All offences",
          "All offences",
          "All offences",
          "All offences"
         ],
         "rotation": -60,
         "sort": false,
         "texttemplate": "%{label} <b>%{percentRoot: .0%}</b>",
         "type": "sunburst",
         "values": [
          0.007,
          0.007,
          0.014,
          0.014,
          0.021,
          0.042,
          0.056,
          0.077,
          0.091,
          0.329,
          0.385,
          0.063,
          0.224
         ]
        }
       ],
       "layout": {
        "annotations": [
         {
          "font": {
           "size": 12
          },
          "showarrow": false,
          "text": "Source: Ministry of Justice, Criminal justice statistics",
          "x": -0.08,
          "xanchor": "left",
          "xref": "paper",
          "y": -0.19,
          "yanchor": "top",
          "yref": "paper"
         }
        ],
        "height": 630,
        "margin": {
         "b": 0,
         "l": 0,
         "r": 0,
         "t": 75
        },
        "template": {
         "layout": {
          "colorway": [
           "#A01D28",
           "#499CC9",
           "#F9A237",
           "#6FBA3A",
           "#573D6B"
          ],
          "font": {
           "color": "#54565B",
           "family": "Helvetica Neue, Arial",
           "size": 12
          },
          "modebar": {
           "activecolor": "#A01D28"
          },
          "paper_bgcolor": "#F7F2F2",
          "plot_bgcolor": "#F7F2F2",
          "showlegend": false,
          "title": {
           "font": {
            "family": "Helvetica Neue, Arial",
            "size": 17
           },
           "y": 0.94,
           "yanchor": "bottom"
          },
          "xaxis": {
           "showgrid": false,
           "tickcolor": "#54565B"
          }
         }
        },
        "title": {
         "text": "<b>Imprisonment of women in Kent by offence group in 2022</b>",
         "y": 0.94,
         "yanchor": "bottom"
        },
        "uniformtext": {
         "minsize": 8,
         "mode": "hide"
        },
        "width": 630
       }
      }
     },
     "metadata": {},
     "output_type": "display_data"
    }
   ],
   "source": [
    "kent.outputChart()"
   ]
  },
  {
   "cell_type": "code",
   "execution_count": 75,
   "metadata": {},
   "outputs": [],
   "source": [
    "kent.saveChart()"
   ]
  },
  {
   "cell_type": "code",
   "execution_count": 80,
   "metadata": {},
   "outputs": [
    {
     "data": {
      "application/vnd.plotly.v1+json": {
       "config": {
        "plotlyServerURL": "https://plot.ly"
       },
       "data": [
        {
         "branchvalues": "total",
         "hoverinfo": "label+percent parent",
         "hovertemplate": "<b>%{label}</b><br>%{percentParent: .0%} of %{parent}<extra></extra>",
         "insidetextorientation": "radial",
         "labels": [
          "Possession of<br>weapons",
          "Robbery",
          "Sexual offences",
          "Criminal damage and<br>arson",
          "Fraud offences",
          "Summary motoring",
          "Miscellaneous<br>crimes against<br>society",
          "Public order<br>offences",
          "Summary non-<br>motoring",
          "All other<br>offences",
          "Theft offences",
          "Drug offences",
          "Violence against<br>the person"
         ],
         "parents": [
          "All other<br>offences",
          "All other<br>offences",
          "All other<br>offences",
          "All other<br>offences",
          "All other<br>offences",
          "All other<br>offences",
          "All other<br>offences",
          "All other<br>offences",
          "All other<br>offences",
          "All offences",
          "All offences",
          "All offences",
          "All offences"
         ],
         "rotation": -60,
         "sort": false,
         "texttemplate": "%{label} <b>%{percentRoot: .0%}</b>",
         "type": "sunburst",
         "values": [
          0.009,
          0.009,
          0.009,
          0.017,
          0.017,
          0.017,
          0.026,
          0.069,
          0.155,
          0.328,
          0.224,
          0.103,
          0.345
         ]
        }
       ],
       "layout": {
        "annotations": [
         {
          "font": {
           "size": 12
          },
          "showarrow": false,
          "text": "Source: Ministry of Justice, Criminal justice statistics",
          "x": -0.08,
          "xanchor": "left",
          "xref": "paper",
          "y": -0.19,
          "yanchor": "top",
          "yref": "paper"
         }
        ],
        "height": 630,
        "margin": {
         "b": 0,
         "l": 0,
         "r": 0,
         "t": 75
        },
        "template": {
         "layout": {
          "colorway": [
           "#A01D28",
           "#499CC9",
           "#F9A237",
           "#6FBA3A",
           "#573D6B"
          ],
          "font": {
           "color": "#54565B",
           "family": "Helvetica Neue, Arial",
           "size": 12
          },
          "modebar": {
           "activecolor": "#A01D28"
          },
          "paper_bgcolor": "#F7F2F2",
          "plot_bgcolor": "#F7F2F2",
          "showlegend": false,
          "title": {
           "font": {
            "family": "Helvetica Neue, Arial",
            "size": 17
           },
           "y": 0.94,
           "yanchor": "bottom"
          },
          "xaxis": {
           "showgrid": false,
           "tickcolor": "#54565B"
          }
         }
        },
        "title": {
         "text": "<b>Imprisonment of women in Avon and Somerset by offence group in 2022</b>",
         "y": 0.94,
         "yanchor": "bottom"
        },
        "uniformtext": {
         "minsize": 8,
         "mode": "hide"
        },
        "width": 630
       }
      }
     },
     "metadata": {},
     "output_type": "display_data"
    },
    {
     "data": {
      "application/vnd.plotly.v1+json": {
       "config": {
        "plotlyServerURL": "https://plot.ly"
       },
       "data": [
        {
         "branchvalues": "total",
         "hoverinfo": "label+percent parent",
         "hovertemplate": "<b>%{label}</b><br>%{percentParent: .0%} of %{parent}<extra></extra>",
         "insidetextorientation": "radial",
         "labels": [
          "Criminal damage and<br>arson",
          "Fraud offences",
          "Summary motoring",
          "Robbery",
          "Sexual offences",
          "Miscellaneous<br>crimes against<br>society",
          "Public order<br>offences",
          "Summary non-<br>motoring",
          "Possession of<br>weapons",
          "All other<br>offences",
          "Theft offences",
          "Drug offences",
          "Violence against<br>the person"
         ],
         "parents": [
          "All other<br>offences",
          "All other<br>offences",
          "All other<br>offences",
          "All other<br>offences",
          "All other<br>offences",
          "All other<br>offences",
          "All other<br>offences",
          "All other<br>offences",
          "All other<br>offences",
          "All offences",
          "All offences",
          "All offences",
          "All offences"
         ],
         "rotation": -60,
         "sort": false,
         "texttemplate": "%{label} <b>%{percentRoot: .0%}</b>",
         "type": "sunburst",
         "values": [
          0,
          0,
          0,
          0.026,
          0.026,
          0.053,
          0.053,
          0.079,
          0.132,
          0.369,
          0.316,
          0.079,
          0.237
         ]
        }
       ],
       "layout": {
        "annotations": [
         {
          "font": {
           "size": 12
          },
          "showarrow": false,
          "text": "Source: Ministry of Justice, Criminal justice statistics",
          "x": -0.08,
          "xanchor": "left",
          "xref": "paper",
          "y": -0.19,
          "yanchor": "top",
          "yref": "paper"
         }
        ],
        "height": 630,
        "margin": {
         "b": 0,
         "l": 0,
         "r": 0,
         "t": 75
        },
        "template": {
         "layout": {
          "colorway": [
           "#A01D28",
           "#499CC9",
           "#F9A237",
           "#6FBA3A",
           "#573D6B"
          ],
          "font": {
           "color": "#54565B",
           "family": "Helvetica Neue, Arial",
           "size": 12
          },
          "modebar": {
           "activecolor": "#A01D28"
          },
          "paper_bgcolor": "#F7F2F2",
          "plot_bgcolor": "#F7F2F2",
          "showlegend": false,
          "title": {
           "font": {
            "family": "Helvetica Neue, Arial",
            "size": 17
           },
           "y": 0.94,
           "yanchor": "bottom"
          },
          "xaxis": {
           "showgrid": false,
           "tickcolor": "#54565B"
          }
         }
        },
        "title": {
         "text": "<b>Imprisonment of women in Bedfordshire by offence group in 2022</b>",
         "y": 0.94,
         "yanchor": "bottom"
        },
        "uniformtext": {
         "minsize": 8,
         "mode": "hide"
        },
        "width": 630
       }
      }
     },
     "metadata": {},
     "output_type": "display_data"
    },
    {
     "data": {
      "application/vnd.plotly.v1+json": {
       "config": {
        "plotlyServerURL": "https://plot.ly"
       },
       "data": [
        {
         "branchvalues": "total",
         "hoverinfo": "label+percent parent",
         "hovertemplate": "<b>%{label}</b><br>%{percentParent: .0%} of %{parent}<extra></extra>",
         "insidetextorientation": "radial",
         "labels": [
          "Criminal damage and<br>arson",
          "Sexual offences",
          "Summary motoring",
          "Miscellaneous<br>crimes against<br>society",
          "Robbery",
          "Fraud offences",
          "Possession of<br>weapons",
          "Public order<br>offences",
          "Summary non-<br>motoring",
          "All other<br>offences",
          "Theft offences",
          "Drug offences",
          "Violence against<br>the person"
         ],
         "parents": [
          "All other<br>offences",
          "All other<br>offences",
          "All other<br>offences",
          "All other<br>offences",
          "All other<br>offences",
          "All other<br>offences",
          "All other<br>offences",
          "All other<br>offences",
          "All other<br>offences",
          "All offences",
          "All offences",
          "All offences",
          "All offences"
         ],
         "rotation": -60,
         "sort": false,
         "texttemplate": "%{label} <b>%{percentRoot: .0%}</b>",
         "type": "sunburst",
         "values": [
          0,
          0,
          0,
          0.015,
          0.015,
          0.044,
          0.059,
          0.074,
          0.162,
          0.369,
          0.324,
          0.118,
          0.191
         ]
        }
       ],
       "layout": {
        "annotations": [
         {
          "font": {
           "size": 12
          },
          "showarrow": false,
          "text": "Source: Ministry of Justice, Criminal justice statistics",
          "x": -0.08,
          "xanchor": "left",
          "xref": "paper",
          "y": -0.19,
          "yanchor": "top",
          "yref": "paper"
         }
        ],
        "height": 630,
        "margin": {
         "b": 0,
         "l": 0,
         "r": 0,
         "t": 75
        },
        "template": {
         "layout": {
          "colorway": [
           "#A01D28",
           "#499CC9",
           "#F9A237",
           "#6FBA3A",
           "#573D6B"
          ],
          "font": {
           "color": "#54565B",
           "family": "Helvetica Neue, Arial",
           "size": 12
          },
          "modebar": {
           "activecolor": "#A01D28"
          },
          "paper_bgcolor": "#F7F2F2",
          "plot_bgcolor": "#F7F2F2",
          "showlegend": false,
          "title": {
           "font": {
            "family": "Helvetica Neue, Arial",
            "size": 17
           },
           "y": 0.94,
           "yanchor": "bottom"
          },
          "xaxis": {
           "showgrid": false,
           "tickcolor": "#54565B"
          }
         }
        },
        "title": {
         "text": "<b>Imprisonment of women in Cambridgeshire by offence group in 2022</b>",
         "y": 0.94,
         "yanchor": "bottom"
        },
        "uniformtext": {
         "minsize": 8,
         "mode": "hide"
        },
        "width": 630
       }
      }
     },
     "metadata": {},
     "output_type": "display_data"
    },
    {
     "data": {
      "application/vnd.plotly.v1+json": {
       "config": {
        "plotlyServerURL": "https://plot.ly"
       },
       "data": [
        {
         "branchvalues": "total",
         "hoverinfo": "label+percent parent",
         "hovertemplate": "<b>%{label}</b><br>%{percentParent: .0%} of %{parent}<extra></extra>",
         "insidetextorientation": "radial",
         "labels": [
          "Sexual offences",
          "Criminal damage and<br>arson",
          "Miscellaneous<br>crimes against<br>society",
          "Summary motoring",
          "Robbery",
          "Possession of<br>weapons",
          "Public order<br>offences",
          "Summary non-<br>motoring",
          "Fraud offences",
          "All other<br>offences",
          "Theft offences",
          "Drug offences",
          "Violence against<br>the person"
         ],
         "parents": [
          "All other<br>offences",
          "All other<br>offences",
          "All other<br>offences",
          "All other<br>offences",
          "All other<br>offences",
          "All other<br>offences",
          "All other<br>offences",
          "All other<br>offences",
          "All other<br>offences",
          "All offences",
          "All offences",
          "All offences",
          "All offences"
         ],
         "rotation": -60,
         "sort": false,
         "texttemplate": "%{label} <b>%{percentRoot: .0%}</b>",
         "type": "sunburst",
         "values": [
          0,
          0.014,
          0.014,
          0.014,
          0.027,
          0.041,
          0.054,
          0.095,
          0.108,
          0.367,
          0.297,
          0.122,
          0.216
         ]
        }
       ],
       "layout": {
        "annotations": [
         {
          "font": {
           "size": 12
          },
          "showarrow": false,
          "text": "Source: Ministry of Justice, Criminal justice statistics",
          "x": -0.08,
          "xanchor": "left",
          "xref": "paper",
          "y": -0.19,
          "yanchor": "top",
          "yref": "paper"
         }
        ],
        "height": 630,
        "margin": {
         "b": 0,
         "l": 0,
         "r": 0,
         "t": 75
        },
        "template": {
         "layout": {
          "colorway": [
           "#A01D28",
           "#499CC9",
           "#F9A237",
           "#6FBA3A",
           "#573D6B"
          ],
          "font": {
           "color": "#54565B",
           "family": "Helvetica Neue, Arial",
           "size": 12
          },
          "modebar": {
           "activecolor": "#A01D28"
          },
          "paper_bgcolor": "#F7F2F2",
          "plot_bgcolor": "#F7F2F2",
          "showlegend": false,
          "title": {
           "font": {
            "family": "Helvetica Neue, Arial",
            "size": 17
           },
           "y": 0.94,
           "yanchor": "bottom"
          },
          "xaxis": {
           "showgrid": false,
           "tickcolor": "#54565B"
          }
         }
        },
        "title": {
         "text": "<b>Imprisonment of women in Cheshire by offence group in 2022</b>",
         "y": 0.94,
         "yanchor": "bottom"
        },
        "uniformtext": {
         "minsize": 8,
         "mode": "hide"
        },
        "width": 630
       }
      }
     },
     "metadata": {},
     "output_type": "display_data"
    },
    {
     "data": {
      "application/vnd.plotly.v1+json": {
       "config": {
        "plotlyServerURL": "https://plot.ly"
       },
       "data": [
        {
         "branchvalues": "total",
         "hoverinfo": "label+percent parent",
         "hovertemplate": "<b>%{label}</b><br>%{percentParent: .0%} of %{parent}<extra></extra>",
         "insidetextorientation": "radial",
         "labels": [
          "Criminal damage and<br>arson",
          "Public order<br>offences",
          "Sexual offences",
          "Fraud offences",
          "Summary motoring",
          "Robbery",
          "Miscellaneous<br>crimes against<br>society",
          "Possession of<br>weapons",
          "Summary non-<br>motoring",
          "All other<br>offences",
          "Theft offences",
          "Drug offences",
          "Violence against<br>the person"
         ],
         "parents": [
          "All other<br>offences",
          "All other<br>offences",
          "All other<br>offences",
          "All other<br>offences",
          "All other<br>offences",
          "All other<br>offences",
          "All other<br>offences",
          "All other<br>offences",
          "All other<br>offences",
          "All offences",
          "All offences",
          "All offences",
          "All offences"
         ],
         "rotation": -60,
         "sort": false,
         "texttemplate": "%{label} <b>%{percentRoot: .0%}</b>",
         "type": "sunburst",
         "values": [
          0.01,
          0.02,
          0.02,
          0.03,
          0.03,
          0.05,
          0.06,
          0.06,
          0.07,
          0.35000000000000003,
          0.41,
          0.08,
          0.16
         ]
        }
       ],
       "layout": {
        "annotations": [
         {
          "font": {
           "size": 12
          },
          "showarrow": false,
          "text": "Source: Ministry of Justice, Criminal justice statistics",
          "x": -0.08,
          "xanchor": "left",
          "xref": "paper",
          "y": -0.19,
          "yanchor": "top",
          "yref": "paper"
         }
        ],
        "height": 630,
        "margin": {
         "b": 0,
         "l": 0,
         "r": 0,
         "t": 75
        },
        "template": {
         "layout": {
          "colorway": [
           "#A01D28",
           "#499CC9",
           "#F9A237",
           "#6FBA3A",
           "#573D6B"
          ],
          "font": {
           "color": "#54565B",
           "family": "Helvetica Neue, Arial",
           "size": 12
          },
          "modebar": {
           "activecolor": "#A01D28"
          },
          "paper_bgcolor": "#F7F2F2",
          "plot_bgcolor": "#F7F2F2",
          "showlegend": false,
          "title": {
           "font": {
            "family": "Helvetica Neue, Arial",
            "size": 17
           },
           "y": 0.94,
           "yanchor": "bottom"
          },
          "xaxis": {
           "showgrid": false,
           "tickcolor": "#54565B"
          }
         }
        },
        "title": {
         "text": "<b>Imprisonment of women in Cleveland by offence group in 2022</b>",
         "y": 0.94,
         "yanchor": "bottom"
        },
        "uniformtext": {
         "minsize": 8,
         "mode": "hide"
        },
        "width": 630
       }
      }
     },
     "metadata": {},
     "output_type": "display_data"
    },
    {
     "data": {
      "application/vnd.plotly.v1+json": {
       "config": {
        "plotlyServerURL": "https://plot.ly"
       },
       "data": [
        {
         "branchvalues": "total",
         "hoverinfo": "label+percent parent",
         "hovertemplate": "<b>%{label}</b><br>%{percentParent: .0%} of %{parent}<extra></extra>",
         "insidetextorientation": "radial",
         "labels": [
          "Criminal damage and<br>arson",
          "Fraud offences",
          "Miscellaneous<br>crimes against<br>society",
          "Possession of<br>weapons",
          "Robbery",
          "Sexual offences",
          "Summary motoring",
          "Summary non-<br>motoring",
          "Public order<br>offences",
          "All other<br>offences",
          "Theft offences",
          "Drug offences",
          "Violence against<br>the person"
         ],
         "parents": [
          "All other<br>offences",
          "All other<br>offences",
          "All other<br>offences",
          "All other<br>offences",
          "All other<br>offences",
          "All other<br>offences",
          "All other<br>offences",
          "All other<br>offences",
          "All other<br>offences",
          "All offences",
          "All offences",
          "All offences",
          "All offences"
         ],
         "rotation": -60,
         "sort": false,
         "texttemplate": "%{label} <b>%{percentRoot: .0%}</b>",
         "type": "sunburst",
         "values": [
          0,
          0,
          0,
          0,
          0,
          0,
          0.034,
          0.069,
          0.172,
          0.275,
          0.345,
          0.069,
          0.31
         ]
        }
       ],
       "layout": {
        "annotations": [
         {
          "font": {
           "size": 12
          },
          "showarrow": false,
          "text": "Source: Ministry of Justice, Criminal justice statistics",
          "x": -0.08,
          "xanchor": "left",
          "xref": "paper",
          "y": -0.19,
          "yanchor": "top",
          "yref": "paper"
         }
        ],
        "height": 630,
        "margin": {
         "b": 0,
         "l": 0,
         "r": 0,
         "t": 75
        },
        "template": {
         "layout": {
          "colorway": [
           "#A01D28",
           "#499CC9",
           "#F9A237",
           "#6FBA3A",
           "#573D6B"
          ],
          "font": {
           "color": "#54565B",
           "family": "Helvetica Neue, Arial",
           "size": 12
          },
          "modebar": {
           "activecolor": "#A01D28"
          },
          "paper_bgcolor": "#F7F2F2",
          "plot_bgcolor": "#F7F2F2",
          "showlegend": false,
          "title": {
           "font": {
            "family": "Helvetica Neue, Arial",
            "size": 17
           },
           "y": 0.94,
           "yanchor": "bottom"
          },
          "xaxis": {
           "showgrid": false,
           "tickcolor": "#54565B"
          }
         }
        },
        "title": {
         "text": "<b>Imprisonment of women in Cumbria by offence group in 2022</b>",
         "y": 0.94,
         "yanchor": "bottom"
        },
        "uniformtext": {
         "minsize": 8,
         "mode": "hide"
        },
        "width": 630
       }
      }
     },
     "metadata": {},
     "output_type": "display_data"
    },
    {
     "data": {
      "application/vnd.plotly.v1+json": {
       "config": {
        "plotlyServerURL": "https://plot.ly"
       },
       "data": [
        {
         "branchvalues": "total",
         "hoverinfo": "label+percent parent",
         "hovertemplate": "<b>%{label}</b><br>%{percentParent: .0%} of %{parent}<extra></extra>",
         "insidetextorientation": "radial",
         "labels": [
          "Criminal damage and<br>arson",
          "Sexual offences",
          "Miscellaneous<br>crimes against<br>society",
          "Possession of<br>weapons",
          "Robbery",
          "Summary motoring",
          "Public order<br>offences",
          "Fraud offences",
          "Summary non-<br>motoring",
          "All other<br>offences",
          "Theft offences",
          "Drug offences",
          "Violence against<br>the person"
         ],
         "parents": [
          "All other<br>offences",
          "All other<br>offences",
          "All other<br>offences",
          "All other<br>offences",
          "All other<br>offences",
          "All other<br>offences",
          "All other<br>offences",
          "All other<br>offences",
          "All other<br>offences",
          "All offences",
          "All offences",
          "All offences",
          "All offences"
         ],
         "rotation": -60,
         "sort": false,
         "texttemplate": "%{label} <b>%{percentRoot: .0%}</b>",
         "type": "sunburst",
         "values": [
          0,
          0,
          0.025,
          0.025,
          0.025,
          0.033,
          0.041,
          0.057,
          0.082,
          0.28800000000000003,
          0.443,
          0.057,
          0.213
         ]
        }
       ],
       "layout": {
        "annotations": [
         {
          "font": {
           "size": 12
          },
          "showarrow": false,
          "text": "Source: Ministry of Justice, Criminal justice statistics",
          "x": -0.08,
          "xanchor": "left",
          "xref": "paper",
          "y": -0.19,
          "yanchor": "top",
          "yref": "paper"
         }
        ],
        "height": 630,
        "margin": {
         "b": 0,
         "l": 0,
         "r": 0,
         "t": 75
        },
        "template": {
         "layout": {
          "colorway": [
           "#A01D28",
           "#499CC9",
           "#F9A237",
           "#6FBA3A",
           "#573D6B"
          ],
          "font": {
           "color": "#54565B",
           "family": "Helvetica Neue, Arial",
           "size": 12
          },
          "modebar": {
           "activecolor": "#A01D28"
          },
          "paper_bgcolor": "#F7F2F2",
          "plot_bgcolor": "#F7F2F2",
          "showlegend": false,
          "title": {
           "font": {
            "family": "Helvetica Neue, Arial",
            "size": 17
           },
           "y": 0.94,
           "yanchor": "bottom"
          },
          "xaxis": {
           "showgrid": false,
           "tickcolor": "#54565B"
          }
         }
        },
        "title": {
         "text": "<b>Imprisonment of women in Derbyshire by offence group in 2022</b>",
         "y": 0.94,
         "yanchor": "bottom"
        },
        "uniformtext": {
         "minsize": 8,
         "mode": "hide"
        },
        "width": 630
       }
      }
     },
     "metadata": {},
     "output_type": "display_data"
    },
    {
     "data": {
      "application/vnd.plotly.v1+json": {
       "config": {
        "plotlyServerURL": "https://plot.ly"
       },
       "data": [
        {
         "branchvalues": "total",
         "hoverinfo": "label+percent parent",
         "hovertemplate": "<b>%{label}</b><br>%{percentParent: .0%} of %{parent}<extra></extra>",
         "insidetextorientation": "radial",
         "labels": [
          "Criminal damage and<br>arson",
          "Robbery",
          "Fraud offences",
          "Miscellaneous<br>crimes against<br>society",
          "Sexual offences",
          "Summary motoring",
          "Summary non-<br>motoring",
          "Possession of<br>weapons",
          "Public order<br>offences",
          "All other<br>offences",
          "Theft offences",
          "Drug offences",
          "Violence against<br>the person"
         ],
         "parents": [
          "All other<br>offences",
          "All other<br>offences",
          "All other<br>offences",
          "All other<br>offences",
          "All other<br>offences",
          "All other<br>offences",
          "All other<br>offences",
          "All other<br>offences",
          "All other<br>offences",
          "All offences",
          "All offences",
          "All offences",
          "All offences"
         ],
         "rotation": -60,
         "sort": false,
         "texttemplate": "%{label} <b>%{percentRoot: .0%}</b>",
         "type": "sunburst",
         "values": [
          0,
          0,
          0.032,
          0.032,
          0.048,
          0.063,
          0.095,
          0.111,
          0.159,
          0.54,
          0.222,
          0.032,
          0.206
         ]
        }
       ],
       "layout": {
        "annotations": [
         {
          "font": {
           "size": 12
          },
          "showarrow": false,
          "text": "Source: Ministry of Justice, Criminal justice statistics",
          "x": -0.08,
          "xanchor": "left",
          "xref": "paper",
          "y": -0.19,
          "yanchor": "top",
          "yref": "paper"
         }
        ],
        "height": 630,
        "margin": {
         "b": 0,
         "l": 0,
         "r": 0,
         "t": 75
        },
        "template": {
         "layout": {
          "colorway": [
           "#A01D28",
           "#499CC9",
           "#F9A237",
           "#6FBA3A",
           "#573D6B"
          ],
          "font": {
           "color": "#54565B",
           "family": "Helvetica Neue, Arial",
           "size": 12
          },
          "modebar": {
           "activecolor": "#A01D28"
          },
          "paper_bgcolor": "#F7F2F2",
          "plot_bgcolor": "#F7F2F2",
          "showlegend": false,
          "title": {
           "font": {
            "family": "Helvetica Neue, Arial",
            "size": 17
           },
           "y": 0.94,
           "yanchor": "bottom"
          },
          "xaxis": {
           "showgrid": false,
           "tickcolor": "#54565B"
          }
         }
        },
        "title": {
         "text": "<b>Imprisonment of women in Devon and Cornwall by offence group in 2022</b>",
         "y": 0.94,
         "yanchor": "bottom"
        },
        "uniformtext": {
         "minsize": 8,
         "mode": "hide"
        },
        "width": 630
       }
      }
     },
     "metadata": {},
     "output_type": "display_data"
    },
    {
     "data": {
      "application/vnd.plotly.v1+json": {
       "config": {
        "plotlyServerURL": "https://plot.ly"
       },
       "data": [
        {
         "branchvalues": "total",
         "hoverinfo": "label+percent parent",
         "hovertemplate": "<b>%{label}</b><br>%{percentParent: .0%} of %{parent}<extra></extra>",
         "insidetextorientation": "radial",
         "labels": [
          "Public order<br>offences",
          "Robbery",
          "Sexual offences",
          "Summary motoring",
          "Criminal damage and<br>arson",
          "Miscellaneous<br>crimes against<br>society",
          "Possession of<br>weapons",
          "Summary non-<br>motoring",
          "Fraud offences",
          "All other<br>offences",
          "Theft offences",
          "Drug offences",
          "Violence against<br>the person"
         ],
         "parents": [
          "All other<br>offences",
          "All other<br>offences",
          "All other<br>offences",
          "All other<br>offences",
          "All other<br>offences",
          "All other<br>offences",
          "All other<br>offences",
          "All other<br>offences",
          "All other<br>offences",
          "All offences",
          "All offences",
          "All offences",
          "All offences"
         ],
         "rotation": -60,
         "sort": false,
         "texttemplate": "%{label} <b>%{percentRoot: .0%}</b>",
         "type": "sunburst",
         "values": [
          0,
          0,
          0,
          0,
          0.043,
          0.043,
          0.043,
          0.087,
          0.13,
          0.346,
          0.174,
          0.174,
          0.304
         ]
        }
       ],
       "layout": {
        "annotations": [
         {
          "font": {
           "size": 12
          },
          "showarrow": false,
          "text": "Source: Ministry of Justice, Criminal justice statistics",
          "x": -0.08,
          "xanchor": "left",
          "xref": "paper",
          "y": -0.19,
          "yanchor": "top",
          "yref": "paper"
         }
        ],
        "height": 630,
        "margin": {
         "b": 0,
         "l": 0,
         "r": 0,
         "t": 75
        },
        "template": {
         "layout": {
          "colorway": [
           "#A01D28",
           "#499CC9",
           "#F9A237",
           "#6FBA3A",
           "#573D6B"
          ],
          "font": {
           "color": "#54565B",
           "family": "Helvetica Neue, Arial",
           "size": 12
          },
          "modebar": {
           "activecolor": "#A01D28"
          },
          "paper_bgcolor": "#F7F2F2",
          "plot_bgcolor": "#F7F2F2",
          "showlegend": false,
          "title": {
           "font": {
            "family": "Helvetica Neue, Arial",
            "size": 17
           },
           "y": 0.94,
           "yanchor": "bottom"
          },
          "xaxis": {
           "showgrid": false,
           "tickcolor": "#54565B"
          }
         }
        },
        "title": {
         "text": "<b>Imprisonment of women in Dorset by offence group in 2022</b>",
         "y": 0.94,
         "yanchor": "bottom"
        },
        "uniformtext": {
         "minsize": 8,
         "mode": "hide"
        },
        "width": 630
       }
      }
     },
     "metadata": {},
     "output_type": "display_data"
    },
    {
     "data": {
      "application/vnd.plotly.v1+json": {
       "config": {
        "plotlyServerURL": "https://plot.ly"
       },
       "data": [
        {
         "branchvalues": "total",
         "hoverinfo": "label+percent parent",
         "hovertemplate": "<b>%{label}</b><br>%{percentParent: .0%} of %{parent}<extra></extra>",
         "insidetextorientation": "radial",
         "labels": [
          "Criminal damage and<br>arson",
          "Fraud offences",
          "Possession of<br>weapons",
          "Robbery",
          "Sexual offences",
          "Summary motoring",
          "Public order<br>offences",
          "Summary non-<br>motoring",
          "Miscellaneous<br>crimes against<br>society",
          "All other<br>offences",
          "Theft offences",
          "Drug offences",
          "Violence against<br>the person"
         ],
         "parents": [
          "All other<br>offences",
          "All other<br>offences",
          "All other<br>offences",
          "All other<br>offences",
          "All other<br>offences",
          "All other<br>offences",
          "All other<br>offences",
          "All other<br>offences",
          "All other<br>offences",
          "All offences",
          "All offences",
          "All offences",
          "All offences"
         ],
         "rotation": -60,
         "sort": false,
         "texttemplate": "%{label} <b>%{percentRoot: .0%}</b>",
         "type": "sunburst",
         "values": [
          0,
          0,
          0,
          0.018,
          0.035,
          0.053,
          0.07,
          0.07,
          0.105,
          0.351,
          0.421,
          0,
          0.228
         ]
        }
       ],
       "layout": {
        "annotations": [
         {
          "font": {
           "size": 12
          },
          "showarrow": false,
          "text": "Source: Ministry of Justice, Criminal justice statistics",
          "x": -0.08,
          "xanchor": "left",
          "xref": "paper",
          "y": -0.19,
          "yanchor": "top",
          "yref": "paper"
         }
        ],
        "height": 630,
        "margin": {
         "b": 0,
         "l": 0,
         "r": 0,
         "t": 75
        },
        "template": {
         "layout": {
          "colorway": [
           "#A01D28",
           "#499CC9",
           "#F9A237",
           "#6FBA3A",
           "#573D6B"
          ],
          "font": {
           "color": "#54565B",
           "family": "Helvetica Neue, Arial",
           "size": 12
          },
          "modebar": {
           "activecolor": "#A01D28"
          },
          "paper_bgcolor": "#F7F2F2",
          "plot_bgcolor": "#F7F2F2",
          "showlegend": false,
          "title": {
           "font": {
            "family": "Helvetica Neue, Arial",
            "size": 17
           },
           "y": 0.94,
           "yanchor": "bottom"
          },
          "xaxis": {
           "showgrid": false,
           "tickcolor": "#54565B"
          }
         }
        },
        "title": {
         "text": "<b>Imprisonment of women in Durham by offence group in 2022</b>",
         "y": 0.94,
         "yanchor": "bottom"
        },
        "uniformtext": {
         "minsize": 8,
         "mode": "hide"
        },
        "width": 630
       }
      }
     },
     "metadata": {},
     "output_type": "display_data"
    },
    {
     "data": {
      "application/vnd.plotly.v1+json": {
       "config": {
        "plotlyServerURL": "https://plot.ly"
       },
       "data": [
        {
         "branchvalues": "total",
         "hoverinfo": "label+percent parent",
         "hovertemplate": "<b>%{label}</b><br>%{percentParent: .0%} of %{parent}<extra></extra>",
         "insidetextorientation": "radial",
         "labels": [
          "Fraud offences",
          "Possession of<br>weapons",
          "Robbery",
          "Sexual offences",
          "Criminal damage and<br>arson",
          "Miscellaneous<br>crimes against<br>society",
          "Public order<br>offences",
          "Summary motoring",
          "Summary non-<br>motoring",
          "All other<br>offences",
          "Theft offences",
          "Drug offences",
          "Violence against<br>the person"
         ],
         "parents": [
          "All other<br>offences",
          "All other<br>offences",
          "All other<br>offences",
          "All other<br>offences",
          "All other<br>offences",
          "All other<br>offences",
          "All other<br>offences",
          "All other<br>offences",
          "All other<br>offences",
          "All offences",
          "All offences",
          "All offences",
          "All offences"
         ],
         "rotation": -60,
         "sort": false,
         "texttemplate": "%{label} <b>%{percentRoot: .0%}</b>",
         "type": "sunburst",
         "values": [
          0,
          0,
          0,
          0,
          0.05,
          0.1,
          0.1,
          0.1,
          0.2,
          0.55,
          0.15,
          0.05,
          0.25
         ]
        }
       ],
       "layout": {
        "annotations": [
         {
          "font": {
           "size": 12
          },
          "showarrow": false,
          "text": "Source: Ministry of Justice, Criminal justice statistics",
          "x": -0.08,
          "xanchor": "left",
          "xref": "paper",
          "y": -0.19,
          "yanchor": "top",
          "yref": "paper"
         }
        ],
        "height": 630,
        "margin": {
         "b": 0,
         "l": 0,
         "r": 0,
         "t": 75
        },
        "template": {
         "layout": {
          "colorway": [
           "#A01D28",
           "#499CC9",
           "#F9A237",
           "#6FBA3A",
           "#573D6B"
          ],
          "font": {
           "color": "#54565B",
           "family": "Helvetica Neue, Arial",
           "size": 12
          },
          "modebar": {
           "activecolor": "#A01D28"
          },
          "paper_bgcolor": "#F7F2F2",
          "plot_bgcolor": "#F7F2F2",
          "showlegend": false,
          "title": {
           "font": {
            "family": "Helvetica Neue, Arial",
            "size": 17
           },
           "y": 0.94,
           "yanchor": "bottom"
          },
          "xaxis": {
           "showgrid": false,
           "tickcolor": "#54565B"
          }
         }
        },
        "title": {
         "text": "<b>Imprisonment of women in Dyfed-Powys by offence group in 2022</b>",
         "y": 0.94,
         "yanchor": "bottom"
        },
        "uniformtext": {
         "minsize": 8,
         "mode": "hide"
        },
        "width": 630
       }
      }
     },
     "metadata": {},
     "output_type": "display_data"
    },
    {
     "data": {
      "application/vnd.plotly.v1+json": {
       "config": {
        "plotlyServerURL": "https://plot.ly"
       },
       "data": [
        {
         "branchvalues": "total",
         "hoverinfo": "label+percent parent",
         "hovertemplate": "<b>%{label}</b><br>%{percentParent: .0%} of %{parent}<extra></extra>",
         "insidetextorientation": "radial",
         "labels": [
          "Criminal damage and<br>arson",
          "Possession of<br>weapons",
          "Public order<br>offences",
          "Robbery",
          "Sexual offences",
          "Summary motoring",
          "Summary non-<br>motoring",
          "Fraud offences",
          "Miscellaneous<br>crimes against<br>society",
          "All other<br>offences",
          "Theft offences",
          "Drug offences",
          "Violence against<br>the person"
         ],
         "parents": [
          "All other<br>offences",
          "All other<br>offences",
          "All other<br>offences",
          "All other<br>offences",
          "All other<br>offences",
          "All other<br>offences",
          "All other<br>offences",
          "All other<br>offences",
          "All other<br>offences",
          "All offences",
          "All offences",
          "All offences",
          "All offences"
         ],
         "rotation": -60,
         "sort": false,
         "texttemplate": "%{label} <b>%{percentRoot: .0%}</b>",
         "type": "sunburst",
         "values": [
          0,
          0.011,
          0.011,
          0.011,
          0.011,
          0.033,
          0.054,
          0.076,
          0.087,
          0.294,
          0.315,
          0.217,
          0.174
         ]
        }
       ],
       "layout": {
        "annotations": [
         {
          "font": {
           "size": 12
          },
          "showarrow": false,
          "text": "Source: Ministry of Justice, Criminal justice statistics",
          "x": -0.08,
          "xanchor": "left",
          "xref": "paper",
          "y": -0.19,
          "yanchor": "top",
          "yref": "paper"
         }
        ],
        "height": 630,
        "margin": {
         "b": 0,
         "l": 0,
         "r": 0,
         "t": 75
        },
        "template": {
         "layout": {
          "colorway": [
           "#A01D28",
           "#499CC9",
           "#F9A237",
           "#6FBA3A",
           "#573D6B"
          ],
          "font": {
           "color": "#54565B",
           "family": "Helvetica Neue, Arial",
           "size": 12
          },
          "modebar": {
           "activecolor": "#A01D28"
          },
          "paper_bgcolor": "#F7F2F2",
          "plot_bgcolor": "#F7F2F2",
          "showlegend": false,
          "title": {
           "font": {
            "family": "Helvetica Neue, Arial",
            "size": 17
           },
           "y": 0.94,
           "yanchor": "bottom"
          },
          "xaxis": {
           "showgrid": false,
           "tickcolor": "#54565B"
          }
         }
        },
        "title": {
         "text": "<b>Imprisonment of women in Essex by offence group in 2022</b>",
         "y": 0.94,
         "yanchor": "bottom"
        },
        "uniformtext": {
         "minsize": 8,
         "mode": "hide"
        },
        "width": 630
       }
      }
     },
     "metadata": {},
     "output_type": "display_data"
    },
    {
     "data": {
      "application/vnd.plotly.v1+json": {
       "config": {
        "plotlyServerURL": "https://plot.ly"
       },
       "data": [
        {
         "branchvalues": "total",
         "hoverinfo": "label+percent parent",
         "hovertemplate": "<b>%{label}</b><br>%{percentParent: .0%} of %{parent}<extra></extra>",
         "insidetextorientation": "radial",
         "labels": [
          "Criminal damage and<br>arson",
          "Possession of<br>weapons",
          "Miscellaneous<br>crimes against<br>society",
          "Robbery",
          "Sexual offences",
          "Summary non-<br>motoring",
          "Summary motoring",
          "Fraud offences",
          "Public order<br>offences",
          "All other<br>offences",
          "Theft offences",
          "Drug offences",
          "Violence against<br>the person"
         ],
         "parents": [
          "All other<br>offences",
          "All other<br>offences",
          "All other<br>offences",
          "All other<br>offences",
          "All other<br>offences",
          "All other<br>offences",
          "All other<br>offences",
          "All other<br>offences",
          "All other<br>offences",
          "All offences",
          "All offences",
          "All offences",
          "All offences"
         ],
         "rotation": -60,
         "sort": false,
         "texttemplate": "%{label} <b>%{percentRoot: .0%}</b>",
         "type": "sunburst",
         "values": [
          0,
          0,
          0.043,
          0.043,
          0.043,
          0.043,
          0.087,
          0.13,
          0.217,
          0.606,
          0.13,
          0.13,
          0.13
         ]
        }
       ],
       "layout": {
        "annotations": [
         {
          "font": {
           "size": 12
          },
          "showarrow": false,
          "text": "Source: Ministry of Justice, Criminal justice statistics",
          "x": -0.08,
          "xanchor": "left",
          "xref": "paper",
          "y": -0.19,
          "yanchor": "top",
          "yref": "paper"
         }
        ],
        "height": 630,
        "margin": {
         "b": 0,
         "l": 0,
         "r": 0,
         "t": 75
        },
        "template": {
         "layout": {
          "colorway": [
           "#A01D28",
           "#499CC9",
           "#F9A237",
           "#6FBA3A",
           "#573D6B"
          ],
          "font": {
           "color": "#54565B",
           "family": "Helvetica Neue, Arial",
           "size": 12
          },
          "modebar": {
           "activecolor": "#A01D28"
          },
          "paper_bgcolor": "#F7F2F2",
          "plot_bgcolor": "#F7F2F2",
          "showlegend": false,
          "title": {
           "font": {
            "family": "Helvetica Neue, Arial",
            "size": 17
           },
           "y": 0.94,
           "yanchor": "bottom"
          },
          "xaxis": {
           "showgrid": false,
           "tickcolor": "#54565B"
          }
         }
        },
        "title": {
         "text": "<b>Imprisonment of women in Gloucestershire by offence group in 2022</b>",
         "y": 0.94,
         "yanchor": "bottom"
        },
        "uniformtext": {
         "minsize": 8,
         "mode": "hide"
        },
        "width": 630
       }
      }
     },
     "metadata": {},
     "output_type": "display_data"
    },
    {
     "data": {
      "application/vnd.plotly.v1+json": {
       "config": {
        "plotlyServerURL": "https://plot.ly"
       },
       "data": [
        {
         "branchvalues": "total",
         "hoverinfo": "label+percent parent",
         "hovertemplate": "<b>%{label}</b><br>%{percentParent: .0%} of %{parent}<extra></extra>",
         "insidetextorientation": "radial",
         "labels": [
          "Criminal damage and<br>arson",
          "Possession of<br>weapons",
          "Sexual offences",
          "Robbery",
          "Summary motoring",
          "Summary non-<br>motoring",
          "Fraud offences",
          "Public order<br>offences",
          "Miscellaneous<br>crimes against<br>society",
          "All other<br>offences",
          "Theft offences",
          "Drug offences",
          "Violence against<br>the person"
         ],
         "parents": [
          "All other<br>offences",
          "All other<br>offences",
          "All other<br>offences",
          "All other<br>offences",
          "All other<br>offences",
          "All other<br>offences",
          "All other<br>offences",
          "All other<br>offences",
          "All other<br>offences",
          "All offences",
          "All offences",
          "All offences",
          "All offences"
         ],
         "rotation": -60,
         "sort": false,
         "texttemplate": "%{label} <b>%{percentRoot: .0%}</b>",
         "type": "sunburst",
         "values": [
          0.02,
          0.02,
          0.02,
          0.025,
          0.03,
          0.05,
          0.055,
          0.055,
          0.065,
          0.34,
          0.34,
          0.08,
          0.24
         ]
        }
       ],
       "layout": {
        "annotations": [
         {
          "font": {
           "size": 12
          },
          "showarrow": false,
          "text": "Source: Ministry of Justice, Criminal justice statistics",
          "x": -0.08,
          "xanchor": "left",
          "xref": "paper",
          "y": -0.19,
          "yanchor": "top",
          "yref": "paper"
         }
        ],
        "height": 630,
        "margin": {
         "b": 0,
         "l": 0,
         "r": 0,
         "t": 75
        },
        "template": {
         "layout": {
          "colorway": [
           "#A01D28",
           "#499CC9",
           "#F9A237",
           "#6FBA3A",
           "#573D6B"
          ],
          "font": {
           "color": "#54565B",
           "family": "Helvetica Neue, Arial",
           "size": 12
          },
          "modebar": {
           "activecolor": "#A01D28"
          },
          "paper_bgcolor": "#F7F2F2",
          "plot_bgcolor": "#F7F2F2",
          "showlegend": false,
          "title": {
           "font": {
            "family": "Helvetica Neue, Arial",
            "size": 17
           },
           "y": 0.94,
           "yanchor": "bottom"
          },
          "xaxis": {
           "showgrid": false,
           "tickcolor": "#54565B"
          }
         }
        },
        "title": {
         "text": "<b>Imprisonment of women in Greater Manchester by offence group in 2022</b>",
         "y": 0.94,
         "yanchor": "bottom"
        },
        "uniformtext": {
         "minsize": 8,
         "mode": "hide"
        },
        "width": 630
       }
      }
     },
     "metadata": {},
     "output_type": "display_data"
    },
    {
     "data": {
      "application/vnd.plotly.v1+json": {
       "config": {
        "plotlyServerURL": "https://plot.ly"
       },
       "data": [
        {
         "branchvalues": "total",
         "hoverinfo": "label+percent parent",
         "hovertemplate": "<b>%{label}</b><br>%{percentParent: .0%} of %{parent}<extra></extra>",
         "insidetextorientation": "radial",
         "labels": [
          "Criminal damage and<br>arson",
          "Fraud offences",
          "Miscellaneous<br>crimes against<br>society",
          "Robbery",
          "Sexual offences",
          "Possession of<br>weapons",
          "Summary motoring",
          "Summary non-<br>motoring",
          "Public order<br>offences",
          "All other<br>offences",
          "Theft offences",
          "Drug offences",
          "Violence against<br>the person"
         ],
         "parents": [
          "All other<br>offences",
          "All other<br>offences",
          "All other<br>offences",
          "All other<br>offences",
          "All other<br>offences",
          "All other<br>offences",
          "All other<br>offences",
          "All other<br>offences",
          "All other<br>offences",
          "All offences",
          "All offences",
          "All offences",
          "All offences"
         ],
         "rotation": -60,
         "sort": false,
         "texttemplate": "%{label} <b>%{percentRoot: .0%}</b>",
         "type": "sunburst",
         "values": [
          0,
          0,
          0,
          0,
          0,
          0.059,
          0.059,
          0.118,
          0.235,
          0.471,
          0.353,
          0,
          0.176
         ]
        }
       ],
       "layout": {
        "annotations": [
         {
          "font": {
           "size": 12
          },
          "showarrow": false,
          "text": "Source: Ministry of Justice, Criminal justice statistics",
          "x": -0.08,
          "xanchor": "left",
          "xref": "paper",
          "y": -0.19,
          "yanchor": "top",
          "yref": "paper"
         }
        ],
        "height": 630,
        "margin": {
         "b": 0,
         "l": 0,
         "r": 0,
         "t": 75
        },
        "template": {
         "layout": {
          "colorway": [
           "#A01D28",
           "#499CC9",
           "#F9A237",
           "#6FBA3A",
           "#573D6B"
          ],
          "font": {
           "color": "#54565B",
           "family": "Helvetica Neue, Arial",
           "size": 12
          },
          "modebar": {
           "activecolor": "#A01D28"
          },
          "paper_bgcolor": "#F7F2F2",
          "plot_bgcolor": "#F7F2F2",
          "showlegend": false,
          "title": {
           "font": {
            "family": "Helvetica Neue, Arial",
            "size": 17
           },
           "y": 0.94,
           "yanchor": "bottom"
          },
          "xaxis": {
           "showgrid": false,
           "tickcolor": "#54565B"
          }
         }
        },
        "title": {
         "text": "<b>Imprisonment of women in Gwent by offence group in 2022</b>",
         "y": 0.94,
         "yanchor": "bottom"
        },
        "uniformtext": {
         "minsize": 8,
         "mode": "hide"
        },
        "width": 630
       }
      }
     },
     "metadata": {},
     "output_type": "display_data"
    },
    {
     "data": {
      "application/vnd.plotly.v1+json": {
       "config": {
        "plotlyServerURL": "https://plot.ly"
       },
       "data": [
        {
         "branchvalues": "total",
         "hoverinfo": "label+percent parent",
         "hovertemplate": "<b>%{label}</b><br>%{percentParent: .0%} of %{parent}<extra></extra>",
         "insidetextorientation": "radial",
         "labels": [
          "Criminal damage and<br>arson",
          "Possession of<br>weapons",
          "Robbery",
          "Sexual offences",
          "Public order<br>offences",
          "Miscellaneous<br>crimes against<br>society",
          "Summary motoring",
          "Summary non-<br>motoring",
          "Fraud offences",
          "All other<br>offences",
          "Theft offences",
          "Drug offences",
          "Violence against<br>the person"
         ],
         "parents": [
          "All other<br>offences",
          "All other<br>offences",
          "All other<br>offences",
          "All other<br>offences",
          "All other<br>offences",
          "All other<br>offences",
          "All other<br>offences",
          "All other<br>offences",
          "All other<br>offences",
          "All offences",
          "All offences",
          "All offences",
          "All offences"
         ],
         "rotation": -60,
         "sort": false,
         "texttemplate": "%{label} <b>%{percentRoot: .0%}</b>",
         "type": "sunburst",
         "values": [
          0,
          0.011,
          0.023,
          0.023,
          0.034,
          0.057,
          0.057,
          0.08,
          0.091,
          0.37600000000000006,
          0.284,
          0.057,
          0.284
         ]
        }
       ],
       "layout": {
        "annotations": [
         {
          "font": {
           "size": 12
          },
          "showarrow": false,
          "text": "Source: Ministry of Justice, Criminal justice statistics",
          "x": -0.08,
          "xanchor": "left",
          "xref": "paper",
          "y": -0.19,
          "yanchor": "top",
          "yref": "paper"
         }
        ],
        "height": 630,
        "margin": {
         "b": 0,
         "l": 0,
         "r": 0,
         "t": 75
        },
        "template": {
         "layout": {
          "colorway": [
           "#A01D28",
           "#499CC9",
           "#F9A237",
           "#6FBA3A",
           "#573D6B"
          ],
          "font": {
           "color": "#54565B",
           "family": "Helvetica Neue, Arial",
           "size": 12
          },
          "modebar": {
           "activecolor": "#A01D28"
          },
          "paper_bgcolor": "#F7F2F2",
          "plot_bgcolor": "#F7F2F2",
          "showlegend": false,
          "title": {
           "font": {
            "family": "Helvetica Neue, Arial",
            "size": 17
           },
           "y": 0.94,
           "yanchor": "bottom"
          },
          "xaxis": {
           "showgrid": false,
           "tickcolor": "#54565B"
          }
         }
        },
        "title": {
         "text": "<b>Imprisonment of women in Hampshire by offence group in 2022</b>",
         "y": 0.94,
         "yanchor": "bottom"
        },
        "uniformtext": {
         "minsize": 8,
         "mode": "hide"
        },
        "width": 630
       }
      }
     },
     "metadata": {},
     "output_type": "display_data"
    },
    {
     "data": {
      "application/vnd.plotly.v1+json": {
       "config": {
        "plotlyServerURL": "https://plot.ly"
       },
       "data": [
        {
         "branchvalues": "total",
         "hoverinfo": "label+percent parent",
         "hovertemplate": "<b>%{label}</b><br>%{percentParent: .0%} of %{parent}<extra></extra>",
         "insidetextorientation": "radial",
         "labels": [
          "Criminal damage and<br>arson",
          "Possession of<br>weapons",
          "Robbery",
          "Summary motoring",
          "Sexual offences",
          "Public order<br>offences",
          "Summary non-<br>motoring",
          "Miscellaneous<br>crimes against<br>society",
          "Fraud offences",
          "All other<br>offences",
          "Theft offences",
          "Drug offences",
          "Violence against<br>the person"
         ],
         "parents": [
          "All other<br>offences",
          "All other<br>offences",
          "All other<br>offences",
          "All other<br>offences",
          "All other<br>offences",
          "All other<br>offences",
          "All other<br>offences",
          "All other<br>offences",
          "All other<br>offences",
          "All offences",
          "All offences",
          "All offences",
          "All offences"
         ],
         "rotation": -60,
         "sort": false,
         "texttemplate": "%{label} <b>%{percentRoot: .0%}</b>",
         "type": "sunburst",
         "values": [
          0,
          0,
          0,
          0,
          0.023,
          0.068,
          0.068,
          0.136,
          0.159,
          0.454,
          0.341,
          0.023,
          0.182
         ]
        }
       ],
       "layout": {
        "annotations": [
         {
          "font": {
           "size": 12
          },
          "showarrow": false,
          "text": "Source: Ministry of Justice, Criminal justice statistics",
          "x": -0.08,
          "xanchor": "left",
          "xref": "paper",
          "y": -0.19,
          "yanchor": "top",
          "yref": "paper"
         }
        ],
        "height": 630,
        "margin": {
         "b": 0,
         "l": 0,
         "r": 0,
         "t": 75
        },
        "template": {
         "layout": {
          "colorway": [
           "#A01D28",
           "#499CC9",
           "#F9A237",
           "#6FBA3A",
           "#573D6B"
          ],
          "font": {
           "color": "#54565B",
           "family": "Helvetica Neue, Arial",
           "size": 12
          },
          "modebar": {
           "activecolor": "#A01D28"
          },
          "paper_bgcolor": "#F7F2F2",
          "plot_bgcolor": "#F7F2F2",
          "showlegend": false,
          "title": {
           "font": {
            "family": "Helvetica Neue, Arial",
            "size": 17
           },
           "y": 0.94,
           "yanchor": "bottom"
          },
          "xaxis": {
           "showgrid": false,
           "tickcolor": "#54565B"
          }
         }
        },
        "title": {
         "text": "<b>Imprisonment of women in Hertfordshire by offence group in 2022</b>",
         "y": 0.94,
         "yanchor": "bottom"
        },
        "uniformtext": {
         "minsize": 8,
         "mode": "hide"
        },
        "width": 630
       }
      }
     },
     "metadata": {},
     "output_type": "display_data"
    },
    {
     "data": {
      "application/vnd.plotly.v1+json": {
       "config": {
        "plotlyServerURL": "https://plot.ly"
       },
       "data": [
        {
         "branchvalues": "total",
         "hoverinfo": "label+percent parent",
         "hovertemplate": "<b>%{label}</b><br>%{percentParent: .0%} of %{parent}<extra></extra>",
         "insidetextorientation": "radial",
         "labels": [
          "Summary motoring",
          "Criminal damage and<br>arson",
          "Sexual offences",
          "Public order<br>offences",
          "Robbery",
          "Fraud offences",
          "Possession of<br>weapons",
          "Miscellaneous<br>crimes against<br>society",
          "Summary non-<br>motoring",
          "All other<br>offences",
          "Theft offences",
          "Drug offences",
          "Violence against<br>the person"
         ],
         "parents": [
          "All other<br>offences",
          "All other<br>offences",
          "All other<br>offences",
          "All other<br>offences",
          "All other<br>offences",
          "All other<br>offences",
          "All other<br>offences",
          "All other<br>offences",
          "All other<br>offences",
          "All offences",
          "All offences",
          "All offences",
          "All offences"
         ],
         "rotation": -60,
         "sort": false,
         "texttemplate": "%{label} <b>%{percentRoot: .0%}</b>",
         "type": "sunburst",
         "values": [
          0.008,
          0.017,
          0.017,
          0.025,
          0.034,
          0.05,
          0.059,
          0.067,
          0.101,
          0.378,
          0.294,
          0.109,
          0.218
         ]
        }
       ],
       "layout": {
        "annotations": [
         {
          "font": {
           "size": 12
          },
          "showarrow": false,
          "text": "Source: Ministry of Justice, Criminal justice statistics",
          "x": -0.08,
          "xanchor": "left",
          "xref": "paper",
          "y": -0.19,
          "yanchor": "top",
          "yref": "paper"
         }
        ],
        "height": 630,
        "margin": {
         "b": 0,
         "l": 0,
         "r": 0,
         "t": 75
        },
        "template": {
         "layout": {
          "colorway": [
           "#A01D28",
           "#499CC9",
           "#F9A237",
           "#6FBA3A",
           "#573D6B"
          ],
          "font": {
           "color": "#54565B",
           "family": "Helvetica Neue, Arial",
           "size": 12
          },
          "modebar": {
           "activecolor": "#A01D28"
          },
          "paper_bgcolor": "#F7F2F2",
          "plot_bgcolor": "#F7F2F2",
          "showlegend": false,
          "title": {
           "font": {
            "family": "Helvetica Neue, Arial",
            "size": 17
           },
           "y": 0.94,
           "yanchor": "bottom"
          },
          "xaxis": {
           "showgrid": false,
           "tickcolor": "#54565B"
          }
         }
        },
        "title": {
         "text": "<b>Imprisonment of women in Humberside by offence group in 2022</b>",
         "y": 0.94,
         "yanchor": "bottom"
        },
        "uniformtext": {
         "minsize": 8,
         "mode": "hide"
        },
        "width": 630
       }
      }
     },
     "metadata": {},
     "output_type": "display_data"
    },
    {
     "data": {
      "application/vnd.plotly.v1+json": {
       "config": {
        "plotlyServerURL": "https://plot.ly"
       },
       "data": [
        {
         "branchvalues": "total",
         "hoverinfo": "label+percent parent",
         "hovertemplate": "<b>%{label}</b><br>%{percentParent: .0%} of %{parent}<extra></extra>",
         "insidetextorientation": "radial",
         "labels": [
          "Possession of<br>weapons",
          "Sexual offences",
          "Criminal damage and<br>arson",
          "Summary motoring",
          "Robbery",
          "Public order<br>offences",
          "Fraud offences",
          "Summary non-<br>motoring",
          "Miscellaneous<br>crimes against<br>society",
          "All other<br>offences",
          "Theft offences",
          "Drug offences",
          "Violence against<br>the person"
         ],
         "parents": [
          "All other<br>offences",
          "All other<br>offences",
          "All other<br>offences",
          "All other<br>offences",
          "All other<br>offences",
          "All other<br>offences",
          "All other<br>offences",
          "All other<br>offences",
          "All other<br>offences",
          "All offences",
          "All offences",
          "All offences",
          "All offences"
         ],
         "rotation": -60,
         "sort": false,
         "texttemplate": "%{label} <b>%{percentRoot: .0%}</b>",
         "type": "sunburst",
         "values": [
          0.007,
          0.007,
          0.014,
          0.014,
          0.021,
          0.042,
          0.056,
          0.077,
          0.091,
          0.329,
          0.385,
          0.063,
          0.224
         ]
        }
       ],
       "layout": {
        "annotations": [
         {
          "font": {
           "size": 12
          },
          "showarrow": false,
          "text": "Source: Ministry of Justice, Criminal justice statistics",
          "x": -0.08,
          "xanchor": "left",
          "xref": "paper",
          "y": -0.19,
          "yanchor": "top",
          "yref": "paper"
         }
        ],
        "height": 630,
        "margin": {
         "b": 0,
         "l": 0,
         "r": 0,
         "t": 75
        },
        "template": {
         "layout": {
          "colorway": [
           "#A01D28",
           "#499CC9",
           "#F9A237",
           "#6FBA3A",
           "#573D6B"
          ],
          "font": {
           "color": "#54565B",
           "family": "Helvetica Neue, Arial",
           "size": 12
          },
          "modebar": {
           "activecolor": "#A01D28"
          },
          "paper_bgcolor": "#F7F2F2",
          "plot_bgcolor": "#F7F2F2",
          "showlegend": false,
          "title": {
           "font": {
            "family": "Helvetica Neue, Arial",
            "size": 17
           },
           "y": 0.94,
           "yanchor": "bottom"
          },
          "xaxis": {
           "showgrid": false,
           "tickcolor": "#54565B"
          }
         }
        },
        "title": {
         "text": "<b>Imprisonment of women in Kent by offence group in 2022</b>",
         "y": 0.94,
         "yanchor": "bottom"
        },
        "uniformtext": {
         "minsize": 8,
         "mode": "hide"
        },
        "width": 630
       }
      }
     },
     "metadata": {},
     "output_type": "display_data"
    },
    {
     "data": {
      "application/vnd.plotly.v1+json": {
       "config": {
        "plotlyServerURL": "https://plot.ly"
       },
       "data": [
        {
         "branchvalues": "total",
         "hoverinfo": "label+percent parent",
         "hovertemplate": "<b>%{label}</b><br>%{percentParent: .0%} of %{parent}<extra></extra>",
         "insidetextorientation": "radial",
         "labels": [
          "Sexual offences",
          "Criminal damage and<br>arson",
          "Fraud offences",
          "Summary motoring",
          "Public order<br>offences",
          "Possession of<br>weapons",
          "Robbery",
          "Miscellaneous<br>crimes against<br>society",
          "Summary non-<br>motoring",
          "All other<br>offences",
          "Theft offences",
          "Drug offences",
          "Violence against<br>the person"
         ],
         "parents": [
          "All other<br>offences",
          "All other<br>offences",
          "All other<br>offences",
          "All other<br>offences",
          "All other<br>offences",
          "All other<br>offences",
          "All other<br>offences",
          "All other<br>offences",
          "All other<br>offences",
          "All offences",
          "All offences",
          "All offences",
          "All offences"
         ],
         "rotation": -60,
         "sort": false,
         "texttemplate": "%{label} <b>%{percentRoot: .0%}</b>",
         "type": "sunburst",
         "values": [
          0.009,
          0.017,
          0.017,
          0.017,
          0.052,
          0.069,
          0.069,
          0.112,
          0.121,
          0.483,
          0.216,
          0.112,
          0.19
         ]
        }
       ],
       "layout": {
        "annotations": [
         {
          "font": {
           "size": 12
          },
          "showarrow": false,
          "text": "Source: Ministry of Justice, Criminal justice statistics",
          "x": -0.08,
          "xanchor": "left",
          "xref": "paper",
          "y": -0.19,
          "yanchor": "top",
          "yref": "paper"
         }
        ],
        "height": 630,
        "margin": {
         "b": 0,
         "l": 0,
         "r": 0,
         "t": 75
        },
        "template": {
         "layout": {
          "colorway": [
           "#A01D28",
           "#499CC9",
           "#F9A237",
           "#6FBA3A",
           "#573D6B"
          ],
          "font": {
           "color": "#54565B",
           "family": "Helvetica Neue, Arial",
           "size": 12
          },
          "modebar": {
           "activecolor": "#A01D28"
          },
          "paper_bgcolor": "#F7F2F2",
          "plot_bgcolor": "#F7F2F2",
          "showlegend": false,
          "title": {
           "font": {
            "family": "Helvetica Neue, Arial",
            "size": 17
           },
           "y": 0.94,
           "yanchor": "bottom"
          },
          "xaxis": {
           "showgrid": false,
           "tickcolor": "#54565B"
          }
         }
        },
        "title": {
         "text": "<b>Imprisonment of women in Lancashire by offence group in 2022</b>",
         "y": 0.94,
         "yanchor": "bottom"
        },
        "uniformtext": {
         "minsize": 8,
         "mode": "hide"
        },
        "width": 630
       }
      }
     },
     "metadata": {},
     "output_type": "display_data"
    },
    {
     "data": {
      "application/vnd.plotly.v1+json": {
       "config": {
        "plotlyServerURL": "https://plot.ly"
       },
       "data": [
        {
         "branchvalues": "total",
         "hoverinfo": "label+percent parent",
         "hovertemplate": "<b>%{label}</b><br>%{percentParent: .0%} of %{parent}<extra></extra>",
         "insidetextorientation": "radial",
         "labels": [
          "Criminal damage and<br>arson",
          "Summary motoring",
          "Possession of<br>weapons",
          "Robbery",
          "Sexual offences",
          "Miscellaneous<br>crimes against<br>society",
          "Public order<br>offences",
          "Fraud offences",
          "Summary non-<br>motoring",
          "All other<br>offences",
          "Theft offences",
          "Drug offences",
          "Violence against<br>the person"
         ],
         "parents": [
          "All other<br>offences",
          "All other<br>offences",
          "All other<br>offences",
          "All other<br>offences",
          "All other<br>offences",
          "All other<br>offences",
          "All other<br>offences",
          "All other<br>offences",
          "All other<br>offences",
          "All offences",
          "All offences",
          "All offences",
          "All offences"
         ],
         "rotation": -60,
         "sort": false,
         "texttemplate": "%{label} <b>%{percentRoot: .0%}</b>",
         "type": "sunburst",
         "values": [
          0,
          0,
          0.014,
          0.014,
          0.014,
          0.043,
          0.043,
          0.129,
          0.157,
          0.41400000000000003,
          0.271,
          0.114,
          0.2
         ]
        }
       ],
       "layout": {
        "annotations": [
         {
          "font": {
           "size": 12
          },
          "showarrow": false,
          "text": "Source: Ministry of Justice, Criminal justice statistics",
          "x": -0.08,
          "xanchor": "left",
          "xref": "paper",
          "y": -0.19,
          "yanchor": "top",
          "yref": "paper"
         }
        ],
        "height": 630,
        "margin": {
         "b": 0,
         "l": 0,
         "r": 0,
         "t": 75
        },
        "template": {
         "layout": {
          "colorway": [
           "#A01D28",
           "#499CC9",
           "#F9A237",
           "#6FBA3A",
           "#573D6B"
          ],
          "font": {
           "color": "#54565B",
           "family": "Helvetica Neue, Arial",
           "size": 12
          },
          "modebar": {
           "activecolor": "#A01D28"
          },
          "paper_bgcolor": "#F7F2F2",
          "plot_bgcolor": "#F7F2F2",
          "showlegend": false,
          "title": {
           "font": {
            "family": "Helvetica Neue, Arial",
            "size": 17
           },
           "y": 0.94,
           "yanchor": "bottom"
          },
          "xaxis": {
           "showgrid": false,
           "tickcolor": "#54565B"
          }
         }
        },
        "title": {
         "text": "<b>Imprisonment of women in Leicestershire by offence group in 2022</b>",
         "y": 0.94,
         "yanchor": "bottom"
        },
        "uniformtext": {
         "minsize": 8,
         "mode": "hide"
        },
        "width": 630
       }
      }
     },
     "metadata": {},
     "output_type": "display_data"
    },
    {
     "data": {
      "application/vnd.plotly.v1+json": {
       "config": {
        "plotlyServerURL": "https://plot.ly"
       },
       "data": [
        {
         "branchvalues": "total",
         "hoverinfo": "label+percent parent",
         "hovertemplate": "<b>%{label}</b><br>%{percentParent: .0%} of %{parent}<extra></extra>",
         "insidetextorientation": "radial",
         "labels": [
          "Criminal damage and<br>arson",
          "Fraud offences",
          "Possession of<br>weapons",
          "Robbery",
          "Miscellaneous<br>crimes against<br>society",
          "Public order<br>offences",
          "Summary motoring",
          "Sexual offences",
          "Summary non-<br>motoring",
          "All other<br>offences",
          "Theft offences",
          "Drug offences",
          "Violence against<br>the person"
         ],
         "parents": [
          "All other<br>offences",
          "All other<br>offences",
          "All other<br>offences",
          "All other<br>offences",
          "All other<br>offences",
          "All other<br>offences",
          "All other<br>offences",
          "All other<br>offences",
          "All other<br>offences",
          "All offences",
          "All offences",
          "All offences",
          "All offences"
         ],
         "rotation": -60,
         "sort": false,
         "texttemplate": "%{label} <b>%{percentRoot: .0%}</b>",
         "type": "sunburst",
         "values": [
          0,
          0.022,
          0.022,
          0.022,
          0.043,
          0.043,
          0.043,
          0.065,
          0.065,
          0.325,
          0.283,
          0.043,
          0.348
         ]
        }
       ],
       "layout": {
        "annotations": [
         {
          "font": {
           "size": 12
          },
          "showarrow": false,
          "text": "Source: Ministry of Justice, Criminal justice statistics",
          "x": -0.08,
          "xanchor": "left",
          "xref": "paper",
          "y": -0.19,
          "yanchor": "top",
          "yref": "paper"
         }
        ],
        "height": 630,
        "margin": {
         "b": 0,
         "l": 0,
         "r": 0,
         "t": 75
        },
        "template": {
         "layout": {
          "colorway": [
           "#A01D28",
           "#499CC9",
           "#F9A237",
           "#6FBA3A",
           "#573D6B"
          ],
          "font": {
           "color": "#54565B",
           "family": "Helvetica Neue, Arial",
           "size": 12
          },
          "modebar": {
           "activecolor": "#A01D28"
          },
          "paper_bgcolor": "#F7F2F2",
          "plot_bgcolor": "#F7F2F2",
          "showlegend": false,
          "title": {
           "font": {
            "family": "Helvetica Neue, Arial",
            "size": 17
           },
           "y": 0.94,
           "yanchor": "bottom"
          },
          "xaxis": {
           "showgrid": false,
           "tickcolor": "#54565B"
          }
         }
        },
        "title": {
         "text": "<b>Imprisonment of women in Lincolnshire by offence group in 2022</b>",
         "y": 0.94,
         "yanchor": "bottom"
        },
        "uniformtext": {
         "minsize": 8,
         "mode": "hide"
        },
        "width": 630
       }
      }
     },
     "metadata": {},
     "output_type": "display_data"
    },
    {
     "data": {
      "application/vnd.plotly.v1+json": {
       "config": {
        "plotlyServerURL": "https://plot.ly"
       },
       "data": [
        {
         "branchvalues": "total",
         "hoverinfo": "label+percent parent",
         "hovertemplate": "<b>%{label}</b><br>%{percentParent: .0%} of %{parent}<extra></extra>",
         "insidetextorientation": "radial",
         "labels": [
          "Sexual offences",
          "Summary motoring",
          "Criminal damage and<br>arson",
          "Possession of<br>weapons",
          "Robbery",
          "Fraud offences",
          "Miscellaneous<br>crimes against<br>society",
          "Public order<br>offences",
          "Summary non-<br>motoring",
          "All other<br>offences",
          "Theft offences",
          "Drug offences",
          "Violence against<br>the person"
         ],
         "parents": [
          "All other<br>offences",
          "All other<br>offences",
          "All other<br>offences",
          "All other<br>offences",
          "All other<br>offences",
          "All other<br>offences",
          "All other<br>offences",
          "All other<br>offences",
          "All other<br>offences",
          "All offences",
          "All offences",
          "All offences",
          "All offences"
         ],
         "rotation": -60,
         "sort": false,
         "texttemplate": "%{label} <b>%{percentRoot: .0%}</b>",
         "type": "sunburst",
         "values": [
          0.01,
          0.01,
          0.015,
          0.021,
          0.031,
          0.056,
          0.072,
          0.077,
          0.082,
          0.37400000000000005,
          0.231,
          0.21,
          0.185
         ]
        }
       ],
       "layout": {
        "annotations": [
         {
          "font": {
           "size": 12
          },
          "showarrow": false,
          "text": "Source: Ministry of Justice, Criminal justice statistics",
          "x": -0.08,
          "xanchor": "left",
          "xref": "paper",
          "y": -0.19,
          "yanchor": "top",
          "yref": "paper"
         }
        ],
        "height": 630,
        "margin": {
         "b": 0,
         "l": 0,
         "r": 0,
         "t": 75
        },
        "template": {
         "layout": {
          "colorway": [
           "#A01D28",
           "#499CC9",
           "#F9A237",
           "#6FBA3A",
           "#573D6B"
          ],
          "font": {
           "color": "#54565B",
           "family": "Helvetica Neue, Arial",
           "size": 12
          },
          "modebar": {
           "activecolor": "#A01D28"
          },
          "paper_bgcolor": "#F7F2F2",
          "plot_bgcolor": "#F7F2F2",
          "showlegend": false,
          "title": {
           "font": {
            "family": "Helvetica Neue, Arial",
            "size": 17
           },
           "y": 0.94,
           "yanchor": "bottom"
          },
          "xaxis": {
           "showgrid": false,
           "tickcolor": "#54565B"
          }
         }
        },
        "title": {
         "text": "<b>Imprisonment of women in Merseyside by offence group in 2022</b>",
         "y": 0.94,
         "yanchor": "bottom"
        },
        "uniformtext": {
         "minsize": 8,
         "mode": "hide"
        },
        "width": 630
       }
      }
     },
     "metadata": {},
     "output_type": "display_data"
    },
    {
     "data": {
      "application/vnd.plotly.v1+json": {
       "config": {
        "plotlyServerURL": "https://plot.ly"
       },
       "data": [
        {
         "branchvalues": "total",
         "hoverinfo": "label+percent parent",
         "hovertemplate": "<b>%{label}</b><br>%{percentParent: .0%} of %{parent}<extra></extra>",
         "insidetextorientation": "radial",
         "labels": [
          "Sexual offences",
          "Criminal damage and<br>arson",
          "Summary motoring",
          "Robbery",
          "Possession of<br>weapons",
          "Fraud offences",
          "Public order<br>offences",
          "Miscellaneous<br>crimes against<br>society",
          "Summary non-<br>motoring",
          "All other<br>offences",
          "Theft offences",
          "Drug offences",
          "Violence against<br>the person"
         ],
         "parents": [
          "All other<br>offences",
          "All other<br>offences",
          "All other<br>offences",
          "All other<br>offences",
          "All other<br>offences",
          "All other<br>offences",
          "All other<br>offences",
          "All other<br>offences",
          "All other<br>offences",
          "All offences",
          "All offences",
          "All offences",
          "All offences"
         ],
         "rotation": -60,
         "sort": false,
         "texttemplate": "%{label} <b>%{percentRoot: .0%}</b>",
         "type": "sunburst",
         "values": [
          0.005,
          0.009,
          0.01,
          0.031,
          0.036,
          0.047,
          0.066,
          0.082,
          0.111,
          0.39699999999999996,
          0.304,
          0.118,
          0.181
         ]
        }
       ],
       "layout": {
        "annotations": [
         {
          "font": {
           "size": 12
          },
          "showarrow": false,
          "text": "Source: Ministry of Justice, Criminal justice statistics",
          "x": -0.08,
          "xanchor": "left",
          "xref": "paper",
          "y": -0.19,
          "yanchor": "top",
          "yref": "paper"
         }
        ],
        "height": 630,
        "margin": {
         "b": 0,
         "l": 0,
         "r": 0,
         "t": 75
        },
        "template": {
         "layout": {
          "colorway": [
           "#A01D28",
           "#499CC9",
           "#F9A237",
           "#6FBA3A",
           "#573D6B"
          ],
          "font": {
           "color": "#54565B",
           "family": "Helvetica Neue, Arial",
           "size": 12
          },
          "modebar": {
           "activecolor": "#A01D28"
          },
          "paper_bgcolor": "#F7F2F2",
          "plot_bgcolor": "#F7F2F2",
          "showlegend": false,
          "title": {
           "font": {
            "family": "Helvetica Neue, Arial",
            "size": 17
           },
           "y": 0.94,
           "yanchor": "bottom"
          },
          "xaxis": {
           "showgrid": false,
           "tickcolor": "#54565B"
          }
         }
        },
        "title": {
         "text": "<b>Imprisonment of women in Metropolitan Police by offence group in 2022</b>",
         "y": 0.94,
         "yanchor": "bottom"
        },
        "uniformtext": {
         "minsize": 8,
         "mode": "hide"
        },
        "width": 630
       }
      }
     },
     "metadata": {},
     "output_type": "display_data"
    },
    {
     "data": {
      "application/vnd.plotly.v1+json": {
       "config": {
        "plotlyServerURL": "https://plot.ly"
       },
       "data": [
        {
         "branchvalues": "total",
         "hoverinfo": "label+percent parent",
         "hovertemplate": "<b>%{label}</b><br>%{percentParent: .0%} of %{parent}<extra></extra>",
         "insidetextorientation": "radial",
         "labels": [
          "Summary motoring",
          "Miscellaneous<br>crimes against<br>society",
          "Robbery",
          "Fraud offences",
          "Possession of<br>weapons",
          "Criminal damage and<br>arson",
          "Sexual offences",
          "Public order<br>offences",
          "Summary non-<br>motoring",
          "All other<br>offences",
          "Theft offences",
          "Drug offences",
          "Violence against<br>the person"
         ],
         "parents": [
          "All other<br>offences",
          "All other<br>offences",
          "All other<br>offences",
          "All other<br>offences",
          "All other<br>offences",
          "All other<br>offences",
          "All other<br>offences",
          "All other<br>offences",
          "All other<br>offences",
          "All offences",
          "All offences",
          "All offences",
          "All offences"
         ],
         "rotation": -60,
         "sort": false,
         "texttemplate": "%{label} <b>%{percentRoot: .0%}</b>",
         "type": "sunburst",
         "values": [
          0,
          0.019,
          0.019,
          0.037,
          0.037,
          0.056,
          0.056,
          0.13,
          0.13,
          0.484,
          0.241,
          0.13,
          0.148
         ]
        }
       ],
       "layout": {
        "annotations": [
         {
          "font": {
           "size": 12
          },
          "showarrow": false,
          "text": "Source: Ministry of Justice, Criminal justice statistics",
          "x": -0.08,
          "xanchor": "left",
          "xref": "paper",
          "y": -0.19,
          "yanchor": "top",
          "yref": "paper"
         }
        ],
        "height": 630,
        "margin": {
         "b": 0,
         "l": 0,
         "r": 0,
         "t": 75
        },
        "template": {
         "layout": {
          "colorway": [
           "#A01D28",
           "#499CC9",
           "#F9A237",
           "#6FBA3A",
           "#573D6B"
          ],
          "font": {
           "color": "#54565B",
           "family": "Helvetica Neue, Arial",
           "size": 12
          },
          "modebar": {
           "activecolor": "#A01D28"
          },
          "paper_bgcolor": "#F7F2F2",
          "plot_bgcolor": "#F7F2F2",
          "showlegend": false,
          "title": {
           "font": {
            "family": "Helvetica Neue, Arial",
            "size": 17
           },
           "y": 0.94,
           "yanchor": "bottom"
          },
          "xaxis": {
           "showgrid": false,
           "tickcolor": "#54565B"
          }
         }
        },
        "title": {
         "text": "<b>Imprisonment of women in Norfolk by offence group in 2022</b>",
         "y": 0.94,
         "yanchor": "bottom"
        },
        "uniformtext": {
         "minsize": 8,
         "mode": "hide"
        },
        "width": 630
       }
      }
     },
     "metadata": {},
     "output_type": "display_data"
    },
    {
     "data": {
      "application/vnd.plotly.v1+json": {
       "config": {
        "plotlyServerURL": "https://plot.ly"
       },
       "data": [
        {
         "branchvalues": "total",
         "hoverinfo": "label+percent parent",
         "hovertemplate": "<b>%{label}</b><br>%{percentParent: .0%} of %{parent}<extra></extra>",
         "insidetextorientation": "radial",
         "labels": [
          "Summary motoring",
          "Possession of<br>weapons",
          "Robbery",
          "Sexual offences",
          "Criminal damage and<br>arson",
          "Fraud offences",
          "Miscellaneous<br>crimes against<br>society",
          "Public order<br>offences",
          "Summary non-<br>motoring",
          "All other<br>offences",
          "Theft offences",
          "Drug offences",
          "Violence against<br>the person"
         ],
         "parents": [
          "All other<br>offences",
          "All other<br>offences",
          "All other<br>offences",
          "All other<br>offences",
          "All other<br>offences",
          "All other<br>offences",
          "All other<br>offences",
          "All other<br>offences",
          "All other<br>offences",
          "All offences",
          "All offences",
          "All offences",
          "All offences"
         ],
         "rotation": -60,
         "sort": false,
         "texttemplate": "%{label} <b>%{percentRoot: .0%}</b>",
         "type": "sunburst",
         "values": [
          0,
          0.012,
          0.012,
          0.012,
          0.023,
          0.023,
          0.035,
          0.081,
          0.128,
          0.326,
          0.349,
          0.174,
          0.151
         ]
        }
       ],
       "layout": {
        "annotations": [
         {
          "font": {
           "size": 12
          },
          "showarrow": false,
          "text": "Source: Ministry of Justice, Criminal justice statistics",
          "x": -0.08,
          "xanchor": "left",
          "xref": "paper",
          "y": -0.19,
          "yanchor": "top",
          "yref": "paper"
         }
        ],
        "height": 630,
        "margin": {
         "b": 0,
         "l": 0,
         "r": 0,
         "t": 75
        },
        "template": {
         "layout": {
          "colorway": [
           "#A01D28",
           "#499CC9",
           "#F9A237",
           "#6FBA3A",
           "#573D6B"
          ],
          "font": {
           "color": "#54565B",
           "family": "Helvetica Neue, Arial",
           "size": 12
          },
          "modebar": {
           "activecolor": "#A01D28"
          },
          "paper_bgcolor": "#F7F2F2",
          "plot_bgcolor": "#F7F2F2",
          "showlegend": false,
          "title": {
           "font": {
            "family": "Helvetica Neue, Arial",
            "size": 17
           },
           "y": 0.94,
           "yanchor": "bottom"
          },
          "xaxis": {
           "showgrid": false,
           "tickcolor": "#54565B"
          }
         }
        },
        "title": {
         "text": "<b>Imprisonment of women in North Wales by offence group in 2022</b>",
         "y": 0.94,
         "yanchor": "bottom"
        },
        "uniformtext": {
         "minsize": 8,
         "mode": "hide"
        },
        "width": 630
       }
      }
     },
     "metadata": {},
     "output_type": "display_data"
    },
    {
     "data": {
      "application/vnd.plotly.v1+json": {
       "config": {
        "plotlyServerURL": "https://plot.ly"
       },
       "data": [
        {
         "branchvalues": "total",
         "hoverinfo": "label+percent parent",
         "hovertemplate": "<b>%{label}</b><br>%{percentParent: .0%} of %{parent}<extra></extra>",
         "insidetextorientation": "radial",
         "labels": [
          "Criminal damage and<br>arson",
          "Fraud offences",
          "Possession of<br>weapons",
          "Robbery",
          "Sexual offences",
          "Summary motoring",
          "Public order<br>offences",
          "Summary non-<br>motoring",
          "Miscellaneous<br>crimes against<br>society",
          "All other<br>offences",
          "Theft offences",
          "Drug offences",
          "Violence against<br>the person"
         ],
         "parents": [
          "All other<br>offences",
          "All other<br>offences",
          "All other<br>offences",
          "All other<br>offences",
          "All other<br>offences",
          "All other<br>offences",
          "All other<br>offences",
          "All other<br>offences",
          "All other<br>offences",
          "All offences",
          "All offences",
          "All offences",
          "All offences"
         ],
         "rotation": -60,
         "sort": false,
         "texttemplate": "%{label} <b>%{percentRoot: .0%}</b>",
         "type": "sunburst",
         "values": [
          0,
          0,
          0,
          0,
          0.019,
          0.019,
          0.058,
          0.115,
          0.192,
          0.403,
          0.308,
          0.096,
          0.192
         ]
        }
       ],
       "layout": {
        "annotations": [
         {
          "font": {
           "size": 12
          },
          "showarrow": false,
          "text": "Source: Ministry of Justice, Criminal justice statistics",
          "x": -0.08,
          "xanchor": "left",
          "xref": "paper",
          "y": -0.19,
          "yanchor": "top",
          "yref": "paper"
         }
        ],
        "height": 630,
        "margin": {
         "b": 0,
         "l": 0,
         "r": 0,
         "t": 75
        },
        "template": {
         "layout": {
          "colorway": [
           "#A01D28",
           "#499CC9",
           "#F9A237",
           "#6FBA3A",
           "#573D6B"
          ],
          "font": {
           "color": "#54565B",
           "family": "Helvetica Neue, Arial",
           "size": 12
          },
          "modebar": {
           "activecolor": "#A01D28"
          },
          "paper_bgcolor": "#F7F2F2",
          "plot_bgcolor": "#F7F2F2",
          "showlegend": false,
          "title": {
           "font": {
            "family": "Helvetica Neue, Arial",
            "size": 17
           },
           "y": 0.94,
           "yanchor": "bottom"
          },
          "xaxis": {
           "showgrid": false,
           "tickcolor": "#54565B"
          }
         }
        },
        "title": {
         "text": "<b>Imprisonment of women in North Yorkshire by offence group in 2022</b>",
         "y": 0.94,
         "yanchor": "bottom"
        },
        "uniformtext": {
         "minsize": 8,
         "mode": "hide"
        },
        "width": 630
       }
      }
     },
     "metadata": {},
     "output_type": "display_data"
    },
    {
     "data": {
      "application/vnd.plotly.v1+json": {
       "config": {
        "plotlyServerURL": "https://plot.ly"
       },
       "data": [
        {
         "branchvalues": "total",
         "hoverinfo": "label+percent parent",
         "hovertemplate": "<b>%{label}</b><br>%{percentParent: .0%} of %{parent}<extra></extra>",
         "insidetextorientation": "radial",
         "labels": [
          "Criminal damage and<br>arson",
          "Sexual offences",
          "Summary motoring",
          "Public order<br>offences",
          "Miscellaneous<br>crimes against<br>society",
          "Possession of<br>weapons",
          "Robbery",
          "Fraud offences",
          "Summary non-<br>motoring",
          "All other<br>offences",
          "Theft offences",
          "Drug offences",
          "Violence against<br>the person"
         ],
         "parents": [
          "All other<br>offences",
          "All other<br>offences",
          "All other<br>offences",
          "All other<br>offences",
          "All other<br>offences",
          "All other<br>offences",
          "All other<br>offences",
          "All other<br>offences",
          "All other<br>offences",
          "All offences",
          "All offences",
          "All offences",
          "All offences"
         ],
         "rotation": -60,
         "sort": false,
         "texttemplate": "%{label} <b>%{percentRoot: .0%}</b>",
         "type": "sunburst",
         "values": [
          0,
          0,
          0,
          0.021,
          0.042,
          0.042,
          0.042,
          0.062,
          0.104,
          0.313,
          0.333,
          0.146,
          0.208
         ]
        }
       ],
       "layout": {
        "annotations": [
         {
          "font": {
           "size": 12
          },
          "showarrow": false,
          "text": "Source: Ministry of Justice, Criminal justice statistics",
          "x": -0.08,
          "xanchor": "left",
          "xref": "paper",
          "y": -0.19,
          "yanchor": "top",
          "yref": "paper"
         }
        ],
        "height": 630,
        "margin": {
         "b": 0,
         "l": 0,
         "r": 0,
         "t": 75
        },
        "template": {
         "layout": {
          "colorway": [
           "#A01D28",
           "#499CC9",
           "#F9A237",
           "#6FBA3A",
           "#573D6B"
          ],
          "font": {
           "color": "#54565B",
           "family": "Helvetica Neue, Arial",
           "size": 12
          },
          "modebar": {
           "activecolor": "#A01D28"
          },
          "paper_bgcolor": "#F7F2F2",
          "plot_bgcolor": "#F7F2F2",
          "showlegend": false,
          "title": {
           "font": {
            "family": "Helvetica Neue, Arial",
            "size": 17
           },
           "y": 0.94,
           "yanchor": "bottom"
          },
          "xaxis": {
           "showgrid": false,
           "tickcolor": "#54565B"
          }
         }
        },
        "title": {
         "text": "<b>Imprisonment of women in Northamptonshire by offence group in 2022</b>",
         "y": 0.94,
         "yanchor": "bottom"
        },
        "uniformtext": {
         "minsize": 8,
         "mode": "hide"
        },
        "width": 630
       }
      }
     },
     "metadata": {},
     "output_type": "display_data"
    },
    {
     "data": {
      "application/vnd.plotly.v1+json": {
       "config": {
        "plotlyServerURL": "https://plot.ly"
       },
       "data": [
        {
         "branchvalues": "total",
         "hoverinfo": "label+percent parent",
         "hovertemplate": "<b>%{label}</b><br>%{percentParent: .0%} of %{parent}<extra></extra>",
         "insidetextorientation": "radial",
         "labels": [
          "Summary motoring",
          "Criminal damage and<br>arson",
          "Sexual offences",
          "Public order<br>offences",
          "Fraud offences",
          "Robbery",
          "Summary non-<br>motoring",
          "Possession of<br>weapons",
          "Miscellaneous<br>crimes against<br>society",
          "All other<br>offences",
          "Theft offences",
          "Drug offences",
          "Violence against<br>the person"
         ],
         "parents": [
          "All other<br>offences",
          "All other<br>offences",
          "All other<br>offences",
          "All other<br>offences",
          "All other<br>offences",
          "All other<br>offences",
          "All other<br>offences",
          "All other<br>offences",
          "All other<br>offences",
          "All offences",
          "All offences",
          "All offences",
          "All offences"
         ],
         "rotation": -60,
         "sort": false,
         "texttemplate": "%{label} <b>%{percentRoot: .0%}</b>",
         "type": "sunburst",
         "values": [
          0.009,
          0.018,
          0.018,
          0.026,
          0.035,
          0.035,
          0.079,
          0.096,
          0.105,
          0.421,
          0.281,
          0.088,
          0.211
         ]
        }
       ],
       "layout": {
        "annotations": [
         {
          "font": {
           "size": 12
          },
          "showarrow": false,
          "text": "Source: Ministry of Justice, Criminal justice statistics",
          "x": -0.08,
          "xanchor": "left",
          "xref": "paper",
          "y": -0.19,
          "yanchor": "top",
          "yref": "paper"
         }
        ],
        "height": 630,
        "margin": {
         "b": 0,
         "l": 0,
         "r": 0,
         "t": 75
        },
        "template": {
         "layout": {
          "colorway": [
           "#A01D28",
           "#499CC9",
           "#F9A237",
           "#6FBA3A",
           "#573D6B"
          ],
          "font": {
           "color": "#54565B",
           "family": "Helvetica Neue, Arial",
           "size": 12
          },
          "modebar": {
           "activecolor": "#A01D28"
          },
          "paper_bgcolor": "#F7F2F2",
          "plot_bgcolor": "#F7F2F2",
          "showlegend": false,
          "title": {
           "font": {
            "family": "Helvetica Neue, Arial",
            "size": 17
           },
           "y": 0.94,
           "yanchor": "bottom"
          },
          "xaxis": {
           "showgrid": false,
           "tickcolor": "#54565B"
          }
         }
        },
        "title": {
         "text": "<b>Imprisonment of women in Northumbria by offence group in 2022</b>",
         "y": 0.94,
         "yanchor": "bottom"
        },
        "uniformtext": {
         "minsize": 8,
         "mode": "hide"
        },
        "width": 630
       }
      }
     },
     "metadata": {},
     "output_type": "display_data"
    },
    {
     "data": {
      "application/vnd.plotly.v1+json": {
       "config": {
        "plotlyServerURL": "https://plot.ly"
       },
       "data": [
        {
         "branchvalues": "total",
         "hoverinfo": "label+percent parent",
         "hovertemplate": "<b>%{label}</b><br>%{percentParent: .0%} of %{parent}<extra></extra>",
         "insidetextorientation": "radial",
         "labels": [
          "Criminal damage and<br>arson",
          "Summary motoring",
          "Robbery",
          "Sexual offences",
          "Possession of<br>weapons",
          "Public order<br>offences",
          "Fraud offences",
          "Miscellaneous<br>crimes against<br>society",
          "Summary non-<br>motoring",
          "All other<br>offences",
          "Theft offences",
          "Drug offences",
          "Violence against<br>the person"
         ],
         "parents": [
          "All other<br>offences",
          "All other<br>offences",
          "All other<br>offences",
          "All other<br>offences",
          "All other<br>offences",
          "All other<br>offences",
          "All other<br>offences",
          "All other<br>offences",
          "All other<br>offences",
          "All offences",
          "All offences",
          "All offences",
          "All offences"
         ],
         "rotation": -60,
         "sort": false,
         "texttemplate": "%{label} <b>%{percentRoot: .0%}</b>",
         "type": "sunburst",
         "values": [
          0,
          0.008,
          0.023,
          0.023,
          0.03,
          0.03,
          0.038,
          0.045,
          0.068,
          0.265,
          0.53,
          0.083,
          0.121
         ]
        }
       ],
       "layout": {
        "annotations": [
         {
          "font": {
           "size": 12
          },
          "showarrow": false,
          "text": "Source: Ministry of Justice, Criminal justice statistics",
          "x": -0.08,
          "xanchor": "left",
          "xref": "paper",
          "y": -0.19,
          "yanchor": "top",
          "yref": "paper"
         }
        ],
        "height": 630,
        "margin": {
         "b": 0,
         "l": 0,
         "r": 0,
         "t": 75
        },
        "template": {
         "layout": {
          "colorway": [
           "#A01D28",
           "#499CC9",
           "#F9A237",
           "#6FBA3A",
           "#573D6B"
          ],
          "font": {
           "color": "#54565B",
           "family": "Helvetica Neue, Arial",
           "size": 12
          },
          "modebar": {
           "activecolor": "#A01D28"
          },
          "paper_bgcolor": "#F7F2F2",
          "plot_bgcolor": "#F7F2F2",
          "showlegend": false,
          "title": {
           "font": {
            "family": "Helvetica Neue, Arial",
            "size": 17
           },
           "y": 0.94,
           "yanchor": "bottom"
          },
          "xaxis": {
           "showgrid": false,
           "tickcolor": "#54565B"
          }
         }
        },
        "title": {
         "text": "<b>Imprisonment of women in Nottinghamshire by offence group in 2022</b>",
         "y": 0.94,
         "yanchor": "bottom"
        },
        "uniformtext": {
         "minsize": 8,
         "mode": "hide"
        },
        "width": 630
       }
      }
     },
     "metadata": {},
     "output_type": "display_data"
    },
    {
     "data": {
      "application/vnd.plotly.v1+json": {
       "config": {
        "plotlyServerURL": "https://plot.ly"
       },
       "data": [
        {
         "branchvalues": "total",
         "hoverinfo": "label+percent parent",
         "hovertemplate": "<b>%{label}</b><br>%{percentParent: .0%} of %{parent}<extra></extra>",
         "insidetextorientation": "radial",
         "labels": [
          "Criminal damage and<br>arson",
          "Sexual offences",
          "Summary motoring",
          "Fraud offences",
          "Possession of<br>weapons",
          "Robbery",
          "Public order<br>offences",
          "Miscellaneous<br>crimes against<br>society",
          "Summary non-<br>motoring",
          "All other<br>offences",
          "Theft offences",
          "Drug offences",
          "Violence against<br>the person"
         ],
         "parents": [
          "All other<br>offences",
          "All other<br>offences",
          "All other<br>offences",
          "All other<br>offences",
          "All other<br>offences",
          "All other<br>offences",
          "All other<br>offences",
          "All other<br>offences",
          "All other<br>offences",
          "All offences",
          "All offences",
          "All offences",
          "All offences"
         ],
         "rotation": -60,
         "sort": false,
         "texttemplate": "%{label} <b>%{percentRoot: .0%}</b>",
         "type": "sunburst",
         "values": [
          0.006,
          0.012,
          0.024,
          0.03,
          0.03,
          0.036,
          0.048,
          0.061,
          0.085,
          0.332,
          0.291,
          0.158,
          0.218
         ]
        }
       ],
       "layout": {
        "annotations": [
         {
          "font": {
           "size": 12
          },
          "showarrow": false,
          "text": "Source: Ministry of Justice, Criminal justice statistics",
          "x": -0.08,
          "xanchor": "left",
          "xref": "paper",
          "y": -0.19,
          "yanchor": "top",
          "yref": "paper"
         }
        ],
        "height": 630,
        "margin": {
         "b": 0,
         "l": 0,
         "r": 0,
         "t": 75
        },
        "template": {
         "layout": {
          "colorway": [
           "#A01D28",
           "#499CC9",
           "#F9A237",
           "#6FBA3A",
           "#573D6B"
          ],
          "font": {
           "color": "#54565B",
           "family": "Helvetica Neue, Arial",
           "size": 12
          },
          "modebar": {
           "activecolor": "#A01D28"
          },
          "paper_bgcolor": "#F7F2F2",
          "plot_bgcolor": "#F7F2F2",
          "showlegend": false,
          "title": {
           "font": {
            "family": "Helvetica Neue, Arial",
            "size": 17
           },
           "y": 0.94,
           "yanchor": "bottom"
          },
          "xaxis": {
           "showgrid": false,
           "tickcolor": "#54565B"
          }
         }
        },
        "title": {
         "text": "<b>Imprisonment of women in South Wales by offence group in 2022</b>",
         "y": 0.94,
         "yanchor": "bottom"
        },
        "uniformtext": {
         "minsize": 8,
         "mode": "hide"
        },
        "width": 630
       }
      }
     },
     "metadata": {},
     "output_type": "display_data"
    },
    {
     "data": {
      "application/vnd.plotly.v1+json": {
       "config": {
        "plotlyServerURL": "https://plot.ly"
       },
       "data": [
        {
         "branchvalues": "total",
         "hoverinfo": "label+percent parent",
         "hovertemplate": "<b>%{label}</b><br>%{percentParent: .0%} of %{parent}<extra></extra>",
         "insidetextorientation": "radial",
         "labels": [
          "Public order<br>offences",
          "Sexual offences",
          "Summary motoring",
          "Criminal damage and<br>arson",
          "Robbery",
          "Fraud offences",
          "Possession of<br>weapons",
          "Miscellaneous<br>crimes against<br>society",
          "Summary non-<br>motoring",
          "All other<br>offences",
          "Theft offences",
          "Drug offences",
          "Violence against<br>the person"
         ],
         "parents": [
          "All other<br>offences",
          "All other<br>offences",
          "All other<br>offences",
          "All other<br>offences",
          "All other<br>offences",
          "All other<br>offences",
          "All other<br>offences",
          "All other<br>offences",
          "All other<br>offences",
          "All offences",
          "All offences",
          "All offences",
          "All offences"
         ],
         "rotation": -60,
         "sort": false,
         "texttemplate": "%{label} <b>%{percentRoot: .0%}</b>",
         "type": "sunburst",
         "values": [
          0.009,
          0.019,
          0.019,
          0.037,
          0.037,
          0.047,
          0.047,
          0.065,
          0.065,
          0.34500000000000003,
          0.355,
          0.084,
          0.215
         ]
        }
       ],
       "layout": {
        "annotations": [
         {
          "font": {
           "size": 12
          },
          "showarrow": false,
          "text": "Source: Ministry of Justice, Criminal justice statistics",
          "x": -0.08,
          "xanchor": "left",
          "xref": "paper",
          "y": -0.19,
          "yanchor": "top",
          "yref": "paper"
         }
        ],
        "height": 630,
        "margin": {
         "b": 0,
         "l": 0,
         "r": 0,
         "t": 75
        },
        "template": {
         "layout": {
          "colorway": [
           "#A01D28",
           "#499CC9",
           "#F9A237",
           "#6FBA3A",
           "#573D6B"
          ],
          "font": {
           "color": "#54565B",
           "family": "Helvetica Neue, Arial",
           "size": 12
          },
          "modebar": {
           "activecolor": "#A01D28"
          },
          "paper_bgcolor": "#F7F2F2",
          "plot_bgcolor": "#F7F2F2",
          "showlegend": false,
          "title": {
           "font": {
            "family": "Helvetica Neue, Arial",
            "size": 17
           },
           "y": 0.94,
           "yanchor": "bottom"
          },
          "xaxis": {
           "showgrid": false,
           "tickcolor": "#54565B"
          }
         }
        },
        "title": {
         "text": "<b>Imprisonment of women in South Yorkshire by offence group in 2022</b>",
         "y": 0.94,
         "yanchor": "bottom"
        },
        "uniformtext": {
         "minsize": 8,
         "mode": "hide"
        },
        "width": 630
       }
      }
     },
     "metadata": {},
     "output_type": "display_data"
    },
    {
     "data": {
      "application/vnd.plotly.v1+json": {
       "config": {
        "plotlyServerURL": "https://plot.ly"
       },
       "data": [
        {
         "branchvalues": "total",
         "hoverinfo": "label+percent parent",
         "hovertemplate": "<b>%{label}</b><br>%{percentParent: .0%} of %{parent}<extra></extra>",
         "insidetextorientation": "radial",
         "labels": [
          "Sexual offences",
          "Criminal damage and<br>arson",
          "Robbery",
          "Public order<br>offences",
          "Possession of<br>weapons",
          "Summary motoring",
          "Fraud offences",
          "Miscellaneous<br>crimes against<br>society",
          "Summary non-<br>motoring",
          "All other<br>offences",
          "Theft offences",
          "Drug offences",
          "Violence against<br>the person"
         ],
         "parents": [
          "All other<br>offences",
          "All other<br>offences",
          "All other<br>offences",
          "All other<br>offences",
          "All other<br>offences",
          "All other<br>offences",
          "All other<br>offences",
          "All other<br>offences",
          "All other<br>offences",
          "All offences",
          "All offences",
          "All offences",
          "All offences"
         ],
         "rotation": -60,
         "sort": false,
         "texttemplate": "%{label} <b>%{percentRoot: .0%}</b>",
         "type": "sunburst",
         "values": [
          0,
          0.013,
          0.026,
          0.038,
          0.051,
          0.064,
          0.077,
          0.103,
          0.154,
          0.526,
          0.154,
          0.128,
          0.192
         ]
        }
       ],
       "layout": {
        "annotations": [
         {
          "font": {
           "size": 12
          },
          "showarrow": false,
          "text": "Source: Ministry of Justice, Criminal justice statistics",
          "x": -0.08,
          "xanchor": "left",
          "xref": "paper",
          "y": -0.19,
          "yanchor": "top",
          "yref": "paper"
         }
        ],
        "height": 630,
        "margin": {
         "b": 0,
         "l": 0,
         "r": 0,
         "t": 75
        },
        "template": {
         "layout": {
          "colorway": [
           "#A01D28",
           "#499CC9",
           "#F9A237",
           "#6FBA3A",
           "#573D6B"
          ],
          "font": {
           "color": "#54565B",
           "family": "Helvetica Neue, Arial",
           "size": 12
          },
          "modebar": {
           "activecolor": "#A01D28"
          },
          "paper_bgcolor": "#F7F2F2",
          "plot_bgcolor": "#F7F2F2",
          "showlegend": false,
          "title": {
           "font": {
            "family": "Helvetica Neue, Arial",
            "size": 17
           },
           "y": 0.94,
           "yanchor": "bottom"
          },
          "xaxis": {
           "showgrid": false,
           "tickcolor": "#54565B"
          }
         }
        },
        "title": {
         "text": "<b>Imprisonment of women in Staffordshire by offence group in 2022</b>",
         "y": 0.94,
         "yanchor": "bottom"
        },
        "uniformtext": {
         "minsize": 8,
         "mode": "hide"
        },
        "width": 630
       }
      }
     },
     "metadata": {},
     "output_type": "display_data"
    },
    {
     "data": {
      "application/vnd.plotly.v1+json": {
       "config": {
        "plotlyServerURL": "https://plot.ly"
       },
       "data": [
        {
         "branchvalues": "total",
         "hoverinfo": "label+percent parent",
         "hovertemplate": "<b>%{label}</b><br>%{percentParent: .0%} of %{parent}<extra></extra>",
         "insidetextorientation": "radial",
         "labels": [
          "Criminal damage and<br>arson",
          "Fraud offences",
          "Summary motoring",
          "Robbery",
          "Sexual offences",
          "Miscellaneous<br>crimes against<br>society",
          "Possession of<br>weapons",
          "Public order<br>offences",
          "Summary non-<br>motoring",
          "All other<br>offences",
          "Theft offences",
          "Drug offences",
          "Violence against<br>the person"
         ],
         "parents": [
          "All other<br>offences",
          "All other<br>offences",
          "All other<br>offences",
          "All other<br>offences",
          "All other<br>offences",
          "All other<br>offences",
          "All other<br>offences",
          "All other<br>offences",
          "All other<br>offences",
          "All offences",
          "All offences",
          "All offences",
          "All offences"
         ],
         "rotation": -60,
         "sort": false,
         "texttemplate": "%{label} <b>%{percentRoot: .0%}</b>",
         "type": "sunburst",
         "values": [
          0,
          0,
          0,
          0.028,
          0.028,
          0.056,
          0.056,
          0.056,
          0.083,
          0.307,
          0.444,
          0.139,
          0.111
         ]
        }
       ],
       "layout": {
        "annotations": [
         {
          "font": {
           "size": 12
          },
          "showarrow": false,
          "text": "Source: Ministry of Justice, Criminal justice statistics",
          "x": -0.08,
          "xanchor": "left",
          "xref": "paper",
          "y": -0.19,
          "yanchor": "top",
          "yref": "paper"
         }
        ],
        "height": 630,
        "margin": {
         "b": 0,
         "l": 0,
         "r": 0,
         "t": 75
        },
        "template": {
         "layout": {
          "colorway": [
           "#A01D28",
           "#499CC9",
           "#F9A237",
           "#6FBA3A",
           "#573D6B"
          ],
          "font": {
           "color": "#54565B",
           "family": "Helvetica Neue, Arial",
           "size": 12
          },
          "modebar": {
           "activecolor": "#A01D28"
          },
          "paper_bgcolor": "#F7F2F2",
          "plot_bgcolor": "#F7F2F2",
          "showlegend": false,
          "title": {
           "font": {
            "family": "Helvetica Neue, Arial",
            "size": 17
           },
           "y": 0.94,
           "yanchor": "bottom"
          },
          "xaxis": {
           "showgrid": false,
           "tickcolor": "#54565B"
          }
         }
        },
        "title": {
         "text": "<b>Imprisonment of women in Suffolk by offence group in 2022</b>",
         "y": 0.94,
         "yanchor": "bottom"
        },
        "uniformtext": {
         "minsize": 8,
         "mode": "hide"
        },
        "width": 630
       }
      }
     },
     "metadata": {},
     "output_type": "display_data"
    },
    {
     "data": {
      "application/vnd.plotly.v1+json": {
       "config": {
        "plotlyServerURL": "https://plot.ly"
       },
       "data": [
        {
         "branchvalues": "total",
         "hoverinfo": "label+percent parent",
         "hovertemplate": "<b>%{label}</b><br>%{percentParent: .0%} of %{parent}<extra></extra>",
         "insidetextorientation": "radial",
         "labels": [
          "Criminal damage and<br>arson",
          "Fraud offences",
          "Possession of<br>weapons",
          "Public order<br>offences",
          "Robbery",
          "Sexual offences",
          "Summary motoring",
          "Summary non-<br>motoring",
          "Miscellaneous<br>crimes against<br>society",
          "All other<br>offences",
          "Theft offences",
          "Drug offences",
          "Violence against<br>the person"
         ],
         "parents": [
          "All other<br>offences",
          "All other<br>offences",
          "All other<br>offences",
          "All other<br>offences",
          "All other<br>offences",
          "All other<br>offences",
          "All other<br>offences",
          "All other<br>offences",
          "All other<br>offences",
          "All offences",
          "All offences",
          "All offences",
          "All offences"
         ],
         "rotation": -60,
         "sort": false,
         "texttemplate": "%{label} <b>%{percentRoot: .0%}</b>",
         "type": "sunburst",
         "values": [
          0,
          0,
          0,
          0,
          0,
          0,
          0,
          0.053,
          0.316,
          0.369,
          0.316,
          0.053,
          0.263
         ]
        }
       ],
       "layout": {
        "annotations": [
         {
          "font": {
           "size": 12
          },
          "showarrow": false,
          "text": "Source: Ministry of Justice, Criminal justice statistics",
          "x": -0.08,
          "xanchor": "left",
          "xref": "paper",
          "y": -0.19,
          "yanchor": "top",
          "yref": "paper"
         }
        ],
        "height": 630,
        "margin": {
         "b": 0,
         "l": 0,
         "r": 0,
         "t": 75
        },
        "template": {
         "layout": {
          "colorway": [
           "#A01D28",
           "#499CC9",
           "#F9A237",
           "#6FBA3A",
           "#573D6B"
          ],
          "font": {
           "color": "#54565B",
           "family": "Helvetica Neue, Arial",
           "size": 12
          },
          "modebar": {
           "activecolor": "#A01D28"
          },
          "paper_bgcolor": "#F7F2F2",
          "plot_bgcolor": "#F7F2F2",
          "showlegend": false,
          "title": {
           "font": {
            "family": "Helvetica Neue, Arial",
            "size": 17
           },
           "y": 0.94,
           "yanchor": "bottom"
          },
          "xaxis": {
           "showgrid": false,
           "tickcolor": "#54565B"
          }
         }
        },
        "title": {
         "text": "<b>Imprisonment of women in Surrey by offence group in 2022</b>",
         "y": 0.94,
         "yanchor": "bottom"
        },
        "uniformtext": {
         "minsize": 8,
         "mode": "hide"
        },
        "width": 630
       }
      }
     },
     "metadata": {},
     "output_type": "display_data"
    },
    {
     "data": {
      "application/vnd.plotly.v1+json": {
       "config": {
        "plotlyServerURL": "https://plot.ly"
       },
       "data": [
        {
         "branchvalues": "total",
         "hoverinfo": "label+percent parent",
         "hovertemplate": "<b>%{label}</b><br>%{percentParent: .0%} of %{parent}<extra></extra>",
         "insidetextorientation": "radial",
         "labels": [
          "Miscellaneous<br>crimes against<br>society",
          "Criminal damage and<br>arson",
          "Fraud offences",
          "Public order<br>offences",
          "Sexual offences",
          "Possession of<br>weapons",
          "Robbery",
          "Summary motoring",
          "Summary non-<br>motoring",
          "All other<br>offences",
          "Theft offences",
          "Drug offences",
          "Violence against<br>the person"
         ],
         "parents": [
          "All other<br>offences",
          "All other<br>offences",
          "All other<br>offences",
          "All other<br>offences",
          "All other<br>offences",
          "All other<br>offences",
          "All other<br>offences",
          "All other<br>offences",
          "All other<br>offences",
          "All offences",
          "All offences",
          "All offences",
          "All offences"
         ],
         "rotation": -60,
         "sort": false,
         "texttemplate": "%{label} <b>%{percentRoot: .0%}</b>",
         "type": "sunburst",
         "values": [
          0,
          0.016,
          0.016,
          0.016,
          0.016,
          0.032,
          0.032,
          0.048,
          0.065,
          0.241,
          0.339,
          0.194,
          0.226
         ]
        }
       ],
       "layout": {
        "annotations": [
         {
          "font": {
           "size": 12
          },
          "showarrow": false,
          "text": "Source: Ministry of Justice, Criminal justice statistics",
          "x": -0.08,
          "xanchor": "left",
          "xref": "paper",
          "y": -0.19,
          "yanchor": "top",
          "yref": "paper"
         }
        ],
        "height": 630,
        "margin": {
         "b": 0,
         "l": 0,
         "r": 0,
         "t": 75
        },
        "template": {
         "layout": {
          "colorway": [
           "#A01D28",
           "#499CC9",
           "#F9A237",
           "#6FBA3A",
           "#573D6B"
          ],
          "font": {
           "color": "#54565B",
           "family": "Helvetica Neue, Arial",
           "size": 12
          },
          "modebar": {
           "activecolor": "#A01D28"
          },
          "paper_bgcolor": "#F7F2F2",
          "plot_bgcolor": "#F7F2F2",
          "showlegend": false,
          "title": {
           "font": {
            "family": "Helvetica Neue, Arial",
            "size": 17
           },
           "y": 0.94,
           "yanchor": "bottom"
          },
          "xaxis": {
           "showgrid": false,
           "tickcolor": "#54565B"
          }
         }
        },
        "title": {
         "text": "<b>Imprisonment of women in Sussex by offence group in 2022</b>",
         "y": 0.94,
         "yanchor": "bottom"
        },
        "uniformtext": {
         "minsize": 8,
         "mode": "hide"
        },
        "width": 630
       }
      }
     },
     "metadata": {},
     "output_type": "display_data"
    },
    {
     "data": {
      "application/vnd.plotly.v1+json": {
       "config": {
        "plotlyServerURL": "https://plot.ly"
       },
       "data": [
        {
         "branchvalues": "total",
         "hoverinfo": "label+percent parent",
         "hovertemplate": "<b>%{label}</b><br>%{percentParent: .0%} of %{parent}<extra></extra>",
         "insidetextorientation": "radial",
         "labels": [
          "Criminal damage and<br>arson",
          "Sexual offences",
          "Summary motoring",
          "Possession of<br>weapons",
          "Fraud offences",
          "Miscellaneous<br>crimes against<br>society",
          "Robbery",
          "Public order<br>offences",
          "Summary non-<br>motoring",
          "All other<br>offences",
          "Theft offences",
          "Drug offences",
          "Violence against<br>the person"
         ],
         "parents": [
          "All other<br>offences",
          "All other<br>offences",
          "All other<br>offences",
          "All other<br>offences",
          "All other<br>offences",
          "All other<br>offences",
          "All other<br>offences",
          "All other<br>offences",
          "All other<br>offences",
          "All offences",
          "All offences",
          "All offences",
          "All offences"
         ],
         "rotation": -60,
         "sort": false,
         "texttemplate": "%{label} <b>%{percentRoot: .0%}</b>",
         "type": "sunburst",
         "values": [
          0.007,
          0.007,
          0.007,
          0.028,
          0.042,
          0.042,
          0.049,
          0.091,
          0.126,
          0.399,
          0.301,
          0.056,
          0.245
         ]
        }
       ],
       "layout": {
        "annotations": [
         {
          "font": {
           "size": 12
          },
          "showarrow": false,
          "text": "Source: Ministry of Justice, Criminal justice statistics",
          "x": -0.08,
          "xanchor": "left",
          "xref": "paper",
          "y": -0.19,
          "yanchor": "top",
          "yref": "paper"
         }
        ],
        "height": 630,
        "margin": {
         "b": 0,
         "l": 0,
         "r": 0,
         "t": 75
        },
        "template": {
         "layout": {
          "colorway": [
           "#A01D28",
           "#499CC9",
           "#F9A237",
           "#6FBA3A",
           "#573D6B"
          ],
          "font": {
           "color": "#54565B",
           "family": "Helvetica Neue, Arial",
           "size": 12
          },
          "modebar": {
           "activecolor": "#A01D28"
          },
          "paper_bgcolor": "#F7F2F2",
          "plot_bgcolor": "#F7F2F2",
          "showlegend": false,
          "title": {
           "font": {
            "family": "Helvetica Neue, Arial",
            "size": 17
           },
           "y": 0.94,
           "yanchor": "bottom"
          },
          "xaxis": {
           "showgrid": false,
           "tickcolor": "#54565B"
          }
         }
        },
        "title": {
         "text": "<b>Imprisonment of women in Thames Valley by offence group in 2022</b>",
         "y": 0.94,
         "yanchor": "bottom"
        },
        "uniformtext": {
         "minsize": 8,
         "mode": "hide"
        },
        "width": 630
       }
      }
     },
     "metadata": {},
     "output_type": "display_data"
    },
    {
     "data": {
      "application/vnd.plotly.v1+json": {
       "config": {
        "plotlyServerURL": "https://plot.ly"
       },
       "data": [
        {
         "branchvalues": "total",
         "hoverinfo": "label+percent parent",
         "hovertemplate": "<b>%{label}</b><br>%{percentParent: .0%} of %{parent}<extra></extra>",
         "insidetextorientation": "radial",
         "labels": [
          "Criminal damage and<br>arson",
          "Sexual offences",
          "Summary motoring",
          "Possession of<br>weapons",
          "Public order<br>offences",
          "Summary non-<br>motoring",
          "Miscellaneous<br>crimes against<br>society",
          "Robbery",
          "Fraud offences",
          "All other<br>offences",
          "Theft offences",
          "Drug offences",
          "Violence against<br>the person"
         ],
         "parents": [
          "All other<br>offences",
          "All other<br>offences",
          "All other<br>offences",
          "All other<br>offences",
          "All other<br>offences",
          "All other<br>offences",
          "All other<br>offences",
          "All other<br>offences",
          "All other<br>offences",
          "All offences",
          "All offences",
          "All offences",
          "All offences"
         ],
         "rotation": -60,
         "sort": false,
         "texttemplate": "%{label} <b>%{percentRoot: .0%}</b>",
         "type": "sunburst",
         "values": [
          0,
          0,
          0,
          0.024,
          0.024,
          0.049,
          0.073,
          0.073,
          0.171,
          0.414,
          0.195,
          0.171,
          0.22
         ]
        }
       ],
       "layout": {
        "annotations": [
         {
          "font": {
           "size": 12
          },
          "showarrow": false,
          "text": "Source: Ministry of Justice, Criminal justice statistics",
          "x": -0.08,
          "xanchor": "left",
          "xref": "paper",
          "y": -0.19,
          "yanchor": "top",
          "yref": "paper"
         }
        ],
        "height": 630,
        "margin": {
         "b": 0,
         "l": 0,
         "r": 0,
         "t": 75
        },
        "template": {
         "layout": {
          "colorway": [
           "#A01D28",
           "#499CC9",
           "#F9A237",
           "#6FBA3A",
           "#573D6B"
          ],
          "font": {
           "color": "#54565B",
           "family": "Helvetica Neue, Arial",
           "size": 12
          },
          "modebar": {
           "activecolor": "#A01D28"
          },
          "paper_bgcolor": "#F7F2F2",
          "plot_bgcolor": "#F7F2F2",
          "showlegend": false,
          "title": {
           "font": {
            "family": "Helvetica Neue, Arial",
            "size": 17
           },
           "y": 0.94,
           "yanchor": "bottom"
          },
          "xaxis": {
           "showgrid": false,
           "tickcolor": "#54565B"
          }
         }
        },
        "title": {
         "text": "<b>Imprisonment of women in Warwickshire by offence group in 2022</b>",
         "y": 0.94,
         "yanchor": "bottom"
        },
        "uniformtext": {
         "minsize": 8,
         "mode": "hide"
        },
        "width": 630
       }
      }
     },
     "metadata": {},
     "output_type": "display_data"
    },
    {
     "data": {
      "application/vnd.plotly.v1+json": {
       "config": {
        "plotlyServerURL": "https://plot.ly"
       },
       "data": [
        {
         "branchvalues": "total",
         "hoverinfo": "label+percent parent",
         "hovertemplate": "<b>%{label}</b><br>%{percentParent: .0%} of %{parent}<extra></extra>",
         "insidetextorientation": "radial",
         "labels": [
          "Criminal damage and<br>arson",
          "Possession of<br>weapons",
          "Robbery",
          "Miscellaneous<br>crimes against<br>society",
          "Summary motoring",
          "Summary non-<br>motoring",
          "Sexual offences",
          "Public order<br>offences",
          "Fraud offences",
          "All other<br>offences",
          "Theft offences",
          "Drug offences",
          "Violence against<br>the person"
         ],
         "parents": [
          "All other<br>offences",
          "All other<br>offences",
          "All other<br>offences",
          "All other<br>offences",
          "All other<br>offences",
          "All other<br>offences",
          "All other<br>offences",
          "All other<br>offences",
          "All other<br>offences",
          "All offences",
          "All offences",
          "All offences",
          "All offences"
         ],
         "rotation": -60,
         "sort": false,
         "texttemplate": "%{label} <b>%{percentRoot: .0%}</b>",
         "type": "sunburst",
         "values": [
          0,
          0,
          0,
          0.043,
          0.043,
          0.043,
          0.064,
          0.085,
          0.106,
          0.38399999999999995,
          0.298,
          0.064,
          0.255
         ]
        }
       ],
       "layout": {
        "annotations": [
         {
          "font": {
           "size": 12
          },
          "showarrow": false,
          "text": "Source: Ministry of Justice, Criminal justice statistics",
          "x": -0.08,
          "xanchor": "left",
          "xref": "paper",
          "y": -0.19,
          "yanchor": "top",
          "yref": "paper"
         }
        ],
        "height": 630,
        "margin": {
         "b": 0,
         "l": 0,
         "r": 0,
         "t": 75
        },
        "template": {
         "layout": {
          "colorway": [
           "#A01D28",
           "#499CC9",
           "#F9A237",
           "#6FBA3A",
           "#573D6B"
          ],
          "font": {
           "color": "#54565B",
           "family": "Helvetica Neue, Arial",
           "size": 12
          },
          "modebar": {
           "activecolor": "#A01D28"
          },
          "paper_bgcolor": "#F7F2F2",
          "plot_bgcolor": "#F7F2F2",
          "showlegend": false,
          "title": {
           "font": {
            "family": "Helvetica Neue, Arial",
            "size": 17
           },
           "y": 0.94,
           "yanchor": "bottom"
          },
          "xaxis": {
           "showgrid": false,
           "tickcolor": "#54565B"
          }
         }
        },
        "title": {
         "text": "<b>Imprisonment of women in West Mercia by offence group in 2022</b>",
         "y": 0.94,
         "yanchor": "bottom"
        },
        "uniformtext": {
         "minsize": 8,
         "mode": "hide"
        },
        "width": 630
       }
      }
     },
     "metadata": {},
     "output_type": "display_data"
    },
    {
     "data": {
      "application/vnd.plotly.v1+json": {
       "config": {
        "plotlyServerURL": "https://plot.ly"
       },
       "data": [
        {
         "branchvalues": "total",
         "hoverinfo": "label+percent parent",
         "hovertemplate": "<b>%{label}</b><br>%{percentParent: .0%} of %{parent}<extra></extra>",
         "insidetextorientation": "radial",
         "labels": [
          "Criminal damage and<br>arson",
          "Sexual offences",
          "Fraud offences",
          "Summary motoring",
          "Public order<br>offences",
          "Robbery",
          "Possession of<br>weapons",
          "Summary non-<br>motoring",
          "Miscellaneous<br>crimes against<br>society",
          "All other<br>offences",
          "Theft offences",
          "Drug offences",
          "Violence against<br>the person"
         ],
         "parents": [
          "All other<br>offences",
          "All other<br>offences",
          "All other<br>offences",
          "All other<br>offences",
          "All other<br>offences",
          "All other<br>offences",
          "All other<br>offences",
          "All other<br>offences",
          "All other<br>offences",
          "All offences",
          "All offences",
          "All offences",
          "All offences"
         ],
         "rotation": -60,
         "sort": false,
         "texttemplate": "%{label} <b>%{percentRoot: .0%}</b>",
         "type": "sunburst",
         "values": [
          0.005,
          0.005,
          0.019,
          0.023,
          0.032,
          0.032,
          0.037,
          0.056,
          0.065,
          0.274,
          0.468,
          0.028,
          0.231
         ]
        }
       ],
       "layout": {
        "annotations": [
         {
          "font": {
           "size": 12
          },
          "showarrow": false,
          "text": "Source: Ministry of Justice, Criminal justice statistics",
          "x": -0.08,
          "xanchor": "left",
          "xref": "paper",
          "y": -0.19,
          "yanchor": "top",
          "yref": "paper"
         }
        ],
        "height": 630,
        "margin": {
         "b": 0,
         "l": 0,
         "r": 0,
         "t": 75
        },
        "template": {
         "layout": {
          "colorway": [
           "#A01D28",
           "#499CC9",
           "#F9A237",
           "#6FBA3A",
           "#573D6B"
          ],
          "font": {
           "color": "#54565B",
           "family": "Helvetica Neue, Arial",
           "size": 12
          },
          "modebar": {
           "activecolor": "#A01D28"
          },
          "paper_bgcolor": "#F7F2F2",
          "plot_bgcolor": "#F7F2F2",
          "showlegend": false,
          "title": {
           "font": {
            "family": "Helvetica Neue, Arial",
            "size": 17
           },
           "y": 0.94,
           "yanchor": "bottom"
          },
          "xaxis": {
           "showgrid": false,
           "tickcolor": "#54565B"
          }
         }
        },
        "title": {
         "text": "<b>Imprisonment of women in West Midlands by offence group in 2022</b>",
         "y": 0.94,
         "yanchor": "bottom"
        },
        "uniformtext": {
         "minsize": 8,
         "mode": "hide"
        },
        "width": 630
       }
      }
     },
     "metadata": {},
     "output_type": "display_data"
    },
    {
     "data": {
      "application/vnd.plotly.v1+json": {
       "config": {
        "plotlyServerURL": "https://plot.ly"
       },
       "data": [
        {
         "branchvalues": "total",
         "hoverinfo": "label+percent parent",
         "hovertemplate": "<b>%{label}</b><br>%{percentParent: .0%} of %{parent}<extra></extra>",
         "insidetextorientation": "radial",
         "labels": [
          "Sexual offences",
          "Robbery",
          "Summary motoring",
          "Criminal damage and<br>arson",
          "Fraud offences",
          "Possession of<br>weapons",
          "Summary non-<br>motoring",
          "Miscellaneous<br>crimes against<br>society",
          "Public order<br>offences",
          "All other<br>offences",
          "Theft offences",
          "Drug offences",
          "Violence against<br>the person"
         ],
         "parents": [
          "All other<br>offences",
          "All other<br>offences",
          "All other<br>offences",
          "All other<br>offences",
          "All other<br>offences",
          "All other<br>offences",
          "All other<br>offences",
          "All other<br>offences",
          "All other<br>offences",
          "All offences",
          "All offences",
          "All offences",
          "All offences"
         ],
         "rotation": -60,
         "sort": false,
         "texttemplate": "%{label} <b>%{percentRoot: .0%}</b>",
         "type": "sunburst",
         "values": [
          0,
          0.012,
          0.012,
          0.02,
          0.036,
          0.052,
          0.096,
          0.104,
          0.104,
          0.43599999999999994,
          0.315,
          0.056,
          0.195
         ]
        }
       ],
       "layout": {
        "annotations": [
         {
          "font": {
           "size": 12
          },
          "showarrow": false,
          "text": "Source: Ministry of Justice, Criminal justice statistics",
          "x": -0.08,
          "xanchor": "left",
          "xref": "paper",
          "y": -0.19,
          "yanchor": "top",
          "yref": "paper"
         }
        ],
        "height": 630,
        "margin": {
         "b": 0,
         "l": 0,
         "r": 0,
         "t": 75
        },
        "template": {
         "layout": {
          "colorway": [
           "#A01D28",
           "#499CC9",
           "#F9A237",
           "#6FBA3A",
           "#573D6B"
          ],
          "font": {
           "color": "#54565B",
           "family": "Helvetica Neue, Arial",
           "size": 12
          },
          "modebar": {
           "activecolor": "#A01D28"
          },
          "paper_bgcolor": "#F7F2F2",
          "plot_bgcolor": "#F7F2F2",
          "showlegend": false,
          "title": {
           "font": {
            "family": "Helvetica Neue, Arial",
            "size": 17
           },
           "y": 0.94,
           "yanchor": "bottom"
          },
          "xaxis": {
           "showgrid": false,
           "tickcolor": "#54565B"
          }
         }
        },
        "title": {
         "text": "<b>Imprisonment of women in West Yorkshire by offence group in 2022</b>",
         "y": 0.94,
         "yanchor": "bottom"
        },
        "uniformtext": {
         "minsize": 8,
         "mode": "hide"
        },
        "width": 630
       }
      }
     },
     "metadata": {},
     "output_type": "display_data"
    },
    {
     "data": {
      "application/vnd.plotly.v1+json": {
       "config": {
        "plotlyServerURL": "https://plot.ly"
       },
       "data": [
        {
         "branchvalues": "total",
         "hoverinfo": "label+percent parent",
         "hovertemplate": "<b>%{label}</b><br>%{percentParent: .0%} of %{parent}<extra></extra>",
         "insidetextorientation": "radial",
         "labels": [
          "Criminal damage and<br>arson",
          "Fraud offences",
          "Robbery",
          "Possession of<br>weapons",
          "Public order<br>offences",
          "Sexual offences",
          "Summary motoring",
          "Miscellaneous<br>crimes against<br>society",
          "Summary non-<br>motoring",
          "All other<br>offences",
          "Theft offences",
          "Drug offences",
          "Violence against<br>the person"
         ],
         "parents": [
          "All other<br>offences",
          "All other<br>offences",
          "All other<br>offences",
          "All other<br>offences",
          "All other<br>offences",
          "All other<br>offences",
          "All other<br>offences",
          "All other<br>offences",
          "All other<br>offences",
          "All offences",
          "All offences",
          "All offences",
          "All offences"
         ],
         "rotation": -60,
         "sort": false,
         "texttemplate": "%{label} <b>%{percentRoot: .0%}</b>",
         "type": "sunburst",
         "values": [
          0,
          0,
          0,
          0.033,
          0.033,
          0.033,
          0.033,
          0.1,
          0.133,
          0.365,
          0.333,
          0.167,
          0.133
         ]
        }
       ],
       "layout": {
        "annotations": [
         {
          "font": {
           "size": 12
          },
          "showarrow": false,
          "text": "Source: Ministry of Justice, Criminal justice statistics",
          "x": -0.08,
          "xanchor": "left",
          "xref": "paper",
          "y": -0.19,
          "yanchor": "top",
          "yref": "paper"
         }
        ],
        "height": 630,
        "margin": {
         "b": 0,
         "l": 0,
         "r": 0,
         "t": 75
        },
        "template": {
         "layout": {
          "colorway": [
           "#A01D28",
           "#499CC9",
           "#F9A237",
           "#6FBA3A",
           "#573D6B"
          ],
          "font": {
           "color": "#54565B",
           "family": "Helvetica Neue, Arial",
           "size": 12
          },
          "modebar": {
           "activecolor": "#A01D28"
          },
          "paper_bgcolor": "#F7F2F2",
          "plot_bgcolor": "#F7F2F2",
          "showlegend": false,
          "title": {
           "font": {
            "family": "Helvetica Neue, Arial",
            "size": 17
           },
           "y": 0.94,
           "yanchor": "bottom"
          },
          "xaxis": {
           "showgrid": false,
           "tickcolor": "#54565B"
          }
         }
        },
        "title": {
         "text": "<b>Imprisonment of women in Wiltshire by offence group in 2022</b>",
         "y": 0.94,
         "yanchor": "bottom"
        },
        "uniformtext": {
         "minsize": 8,
         "mode": "hide"
        },
        "width": 630
       }
      }
     },
     "metadata": {},
     "output_type": "display_data"
    }
   ],
   "source": [
    "for pfa in df['pfa'].unique():\n",
    "    chart = pfaOffencesChart(pfa)\n",
    "    chart.outputChart()\n",
    "    chart.saveChart()"
   ]
  },
  {
   "cell_type": "code",
   "execution_count": null,
   "metadata": {},
   "outputs": [],
   "source": []
  }
 ],
 "metadata": {
  "kernelspec": {
   "display_name": "women-PFA-outcomes",
   "language": "python",
   "name": "python3"
  },
  "language_info": {
   "codemirror_mode": {
    "name": "ipython",
    "version": 3
   },
   "file_extension": ".py",
   "mimetype": "text/x-python",
   "name": "python",
   "nbconvert_exporter": "python",
   "pygments_lexer": "ipython3",
   "version": "3.11.5"
  },
  "orig_nbformat": 4
 },
 "nbformat": 4,
 "nbformat_minor": 2
}
