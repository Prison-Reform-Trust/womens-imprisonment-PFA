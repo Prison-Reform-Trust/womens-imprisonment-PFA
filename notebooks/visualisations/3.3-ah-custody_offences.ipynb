{
 "cells": [
  {
   "cell_type": "markdown",
   "id": "b3302d40",
   "metadata": {},
   "source": [
    "# Women's imprisonment\n",
    "## Criminal Justice Statistics Police Force Area: Offences chart"
   ]
  },
  {
   "cell_type": "code",
   "execution_count": 1,
   "id": "69f59caf",
   "metadata": {},
   "outputs": [],
   "source": [
    "%load_ext autoreload\n",
    "%autoreload 2"
   ]
  },
  {
   "cell_type": "markdown",
   "id": "85514c65",
   "metadata": {},
   "source": [
    "## Testing `custody_offences.py`"
   ]
  },
  {
   "cell_type": "code",
   "execution_count": 2,
   "id": "5844f3aa",
   "metadata": {},
   "outputs": [],
   "source": [
    "from src.visualization import custody_offences"
   ]
  },
  {
   "cell_type": "markdown",
   "id": "be9fa991",
   "metadata": {},
   "source": [
    "Checking that the template `INPUT_FILENAME` is returned correctly"
   ]
  },
  {
   "cell_type": "code",
   "execution_count": 3,
   "id": "0f6adcd6",
   "metadata": {},
   "outputs": [
    {
     "data": {
      "text/plain": [
       "'PFA_custodial_sentences_by_offence_2024_FINAL.csv'"
      ]
     },
     "execution_count": 3,
     "metadata": {},
     "output_type": "execute_result"
    }
   ],
   "source": [
    "custody_offences.INPUT_FILENAME"
   ]
  },
  {
   "cell_type": "markdown",
   "id": "b0b136ed",
   "metadata": {},
   "source": [
    "## Moving data processing steps to `filter_custody_offences.py` and testing"
   ]
  },
  {
   "cell_type": "code",
   "execution_count": 5,
   "id": "b240ba68",
   "metadata": {},
   "outputs": [],
   "source": [
    "from src.data.processing import filter_custody_offences"
   ]
  },
  {
   "cell_type": "code",
   "execution_count": 31,
   "id": "a69c9a11",
   "metadata": {},
   "outputs": [
    {
     "name": "stderr",
     "output_type": "stream",
     "text": [
      "2025-06-19 15:36:23,601 - INFO - Loaded data from data/interim/women_cust_comm_sus.csv\n",
      "2025-06-19 15:36:23,851 - INFO - Filtering data for custodial sentences...\n",
      "2025-06-19 15:36:23,870 - INFO - Filtering data from 2024 onwards\n",
      "2025-06-19 15:36:23,877 - INFO - Grouping data by PFA, year, and offence...\n",
      "2025-06-19 15:36:23,958 - INFO - Melting DataFrame to long format...\n",
      "2025-06-19 15:36:23,964 - INFO - Creating filter for highlighted offence groups...\n",
      "2025-06-19 15:36:23,965 - INFO - Setting parent column for offence groups...\n",
      "2025-06-19 15:36:23,969 - INFO - Setting plot order for offences...\n",
      "2025-06-19 15:36:23,991 - INFO - Data successfully processed for PFA offences charts\n"
     ]
    }
   ],
   "source": [
    "df, max_year = filter_custody_offences.load_and_process_data()"
   ]
  },
  {
   "cell_type": "code",
   "execution_count": 32,
   "id": "61613012",
   "metadata": {},
   "outputs": [
    {
     "data": {
      "text/html": [
       "<div>\n",
       "<style scoped>\n",
       "    .dataframe tbody tr th:only-of-type {\n",
       "        vertical-align: middle;\n",
       "    }\n",
       "\n",
       "    .dataframe tbody tr th {\n",
       "        vertical-align: top;\n",
       "    }\n",
       "\n",
       "    .dataframe thead th {\n",
       "        text-align: right;\n",
       "    }\n",
       "</style>\n",
       "<table border=\"1\" class=\"dataframe\">\n",
       "  <thead>\n",
       "    <tr style=\"text-align: right;\">\n",
       "      <th></th>\n",
       "      <th>pfa</th>\n",
       "      <th>offence</th>\n",
       "      <th>proportion</th>\n",
       "      <th>parent</th>\n",
       "      <th>plot_order</th>\n",
       "    </tr>\n",
       "  </thead>\n",
       "  <tbody>\n",
       "    <tr>\n",
       "      <th>0</th>\n",
       "      <td>Avon and Somerset</td>\n",
       "      <td>Breaches</td>\n",
       "      <td>0.0</td>\n",
       "      <td>All other\\noffences</td>\n",
       "      <td>0.0</td>\n",
       "    </tr>\n",
       "    <tr>\n",
       "      <th>1</th>\n",
       "      <td>Bedfordshire</td>\n",
       "      <td>Breaches</td>\n",
       "      <td>0.0</td>\n",
       "      <td>All other\\noffences</td>\n",
       "      <td>0.0</td>\n",
       "    </tr>\n",
       "    <tr>\n",
       "      <th>2</th>\n",
       "      <td>Cambridgeshire</td>\n",
       "      <td>Breaches</td>\n",
       "      <td>0.0</td>\n",
       "      <td>All other\\noffences</td>\n",
       "      <td>0.0</td>\n",
       "    </tr>\n",
       "    <tr>\n",
       "      <th>3</th>\n",
       "      <td>Cheshire</td>\n",
       "      <td>Breaches</td>\n",
       "      <td>0.0</td>\n",
       "      <td>All other\\noffences</td>\n",
       "      <td>0.0</td>\n",
       "    </tr>\n",
       "    <tr>\n",
       "      <th>4</th>\n",
       "      <td>Cleveland</td>\n",
       "      <td>Breaches</td>\n",
       "      <td>0.0</td>\n",
       "      <td>All other\\noffences</td>\n",
       "      <td>0.0</td>\n",
       "    </tr>\n",
       "  </tbody>\n",
       "</table>\n",
       "</div>"
      ],
      "text/plain": [
       "                 pfa   offence  proportion               parent  plot_order\n",
       "0  Avon and Somerset  Breaches         0.0  All other\\noffences         0.0\n",
       "1       Bedfordshire  Breaches         0.0  All other\\noffences         0.0\n",
       "2     Cambridgeshire  Breaches         0.0  All other\\noffences         0.0\n",
       "3           Cheshire  Breaches         0.0  All other\\noffences         0.0\n",
       "4          Cleveland  Breaches         0.0  All other\\noffences         0.0"
      ]
     },
     "execution_count": 32,
     "metadata": {},
     "output_type": "execute_result"
    }
   ],
   "source": [
    "df.head()"
   ]
  },
  {
   "cell_type": "code",
   "execution_count": 8,
   "id": "0d8b67d3",
   "metadata": {},
   "outputs": [
    {
     "data": {
      "text/plain": [
       "np.int64(2024)"
      ]
     },
     "execution_count": 8,
     "metadata": {},
     "output_type": "execute_result"
    }
   ],
   "source": [
    "max_year"
   ]
  },
  {
   "cell_type": "code",
   "execution_count": 9,
   "id": "06cd41d6",
   "metadata": {},
   "outputs": [
    {
     "data": {
      "text/plain": [
       "offence\n",
       "Breaches                                  42\n",
       "Criminal damage and\\narson                42\n",
       "Drug\\noffences                            42\n",
       "Fraud offences                            42\n",
       "Miscellaneous\\ncrimes against\\nsociety    42\n",
       "Not known                                 42\n",
       "Possession of\\nweapons                    42\n",
       "Public order\\noffences                    42\n",
       "Robbery                                   42\n",
       "Sexual offences                           42\n",
       "Summary motoring                          42\n",
       "Summary non-\\nmotoring                    42\n",
       "Theft\\noffences                           42\n",
       "Violence\\nagainst the\\nperson             42\n",
       "Name: count, dtype: int64"
      ]
     },
     "execution_count": 9,
     "metadata": {},
     "output_type": "execute_result"
    }
   ],
   "source": [
    "df['offence'].value_counts()"
   ]
  },
  {
   "cell_type": "code",
   "execution_count": 10,
   "id": "fe0183fc",
   "metadata": {},
   "outputs": [
    {
     "data": {
      "text/plain": [
       "plot_order\n",
       "0.0    462\n",
       "2.0     42\n",
       "1.0     42\n",
       "3.0     42\n",
       "Name: count, dtype: int64"
      ]
     },
     "execution_count": 10,
     "metadata": {},
     "output_type": "execute_result"
    }
   ],
   "source": [
    "df['plot_order'].value_counts() "
   ]
  },
  {
   "cell_type": "markdown",
   "id": "7df89ddf",
   "metadata": {},
   "source": [
    "## Back to testing `custody_offences.py`"
   ]
  },
  {
   "cell_type": "code",
   "execution_count": 2,
   "id": "9441fa98",
   "metadata": {},
   "outputs": [],
   "source": [
    "from src.visualization import custody_offences"
   ]
  },
  {
   "cell_type": "markdown",
   "id": "2bf7400d",
   "metadata": {},
   "source": [
    "Having issues with the trace creation. So digging into the code to see what's happening."
   ]
  },
  {
   "cell_type": "code",
   "execution_count": 15,
   "id": "be957a0f",
   "metadata": {},
   "outputs": [],
   "source": [
    "import pandas as pd\n",
    "from src.data.processing.filter_custody_offences import filter_offences"
   ]
  },
  {
   "cell_type": "code",
   "execution_count": 19,
   "id": "1e881251",
   "metadata": {},
   "outputs": [
    {
     "name": "stderr",
     "output_type": "stream",
     "text": [
      "2025-06-19 14:54:07,137 - INFO - Creating filter for highlighted offence groups...\n"
     ]
    },
    {
     "data": {
      "text/plain": [
       "0      False\n",
       "1      False\n",
       "2      False\n",
       "3      False\n",
       "4      False\n",
       "       ...  \n",
       "583     True\n",
       "584     True\n",
       "585     True\n",
       "586     True\n",
       "587     True\n",
       "Name: offence, Length: 588, dtype: bool"
      ]
     },
     "execution_count": 19,
     "metadata": {},
     "output_type": "execute_result"
    }
   ],
   "source": [
    "filter_offences(df)"
   ]
  },
  {
   "cell_type": "code",
   "execution_count": 20,
   "id": "f2e943e5",
   "metadata": {},
   "outputs": [
    {
     "name": "stderr",
     "output_type": "stream",
     "text": [
      "2025-06-19 14:54:10,152 - INFO - Creating filter for highlighted offence groups...\n"
     ]
    },
    {
     "data": {
      "text/plain": [
       "offence\n",
       "False    462\n",
       "True     126\n",
       "Name: count, dtype: int64"
      ]
     },
     "execution_count": 20,
     "metadata": {},
     "output_type": "execute_result"
    }
   ],
   "source": [
    "filter_offences(df).value_counts()"
   ]
  },
  {
   "cell_type": "code",
   "execution_count": 22,
   "id": "8acdb059",
   "metadata": {},
   "outputs": [
    {
     "name": "stderr",
     "output_type": "stream",
     "text": [
      "2025-06-19 15:00:47,601 - INFO - Creating filter for highlighted offence groups...\n"
     ]
    }
   ],
   "source": [
    "df = pd.concat([\n",
    "    df,\n",
    "    pd.DataFrame.from_records([{\n",
    "        'pfa': df['pfa'].iloc[0],\n",
    "        'offence': \"All other<br>offences\",\n",
    "        'proportion': df.loc[~filter_offences(df), 'proportion'].sum(),\n",
    "        'parent': \"All offences\",\n",
    "        'plot_order': 0\n",
    "    }])\n",
    "])"
   ]
  },
  {
   "cell_type": "code",
   "execution_count": 27,
   "id": "c1f0150e",
   "metadata": {},
   "outputs": [
    {
     "data": {
      "text/html": [
       "<div>\n",
       "<style scoped>\n",
       "    .dataframe tbody tr th:only-of-type {\n",
       "        vertical-align: middle;\n",
       "    }\n",
       "\n",
       "    .dataframe tbody tr th {\n",
       "        vertical-align: top;\n",
       "    }\n",
       "\n",
       "    .dataframe thead th {\n",
       "        text-align: right;\n",
       "    }\n",
       "</style>\n",
       "<table border=\"1\" class=\"dataframe\">\n",
       "  <thead>\n",
       "    <tr style=\"text-align: right;\">\n",
       "      <th></th>\n",
       "      <th>pfa</th>\n",
       "      <th>offence</th>\n",
       "      <th>proportion</th>\n",
       "      <th>parent</th>\n",
       "      <th>plot_order</th>\n",
       "    </tr>\n",
       "  </thead>\n",
       "  <tbody>\n",
       "    <tr>\n",
       "      <th>0</th>\n",
       "      <td>Avon and Somerset</td>\n",
       "      <td>Breaches</td>\n",
       "      <td>0.000</td>\n",
       "      <td>All other\\noffences</td>\n",
       "      <td>0.0</td>\n",
       "    </tr>\n",
       "    <tr>\n",
       "      <th>42</th>\n",
       "      <td>Avon and Somerset</td>\n",
       "      <td>Criminal damage and\\narson</td>\n",
       "      <td>0.020</td>\n",
       "      <td>All other\\noffences</td>\n",
       "      <td>0.0</td>\n",
       "    </tr>\n",
       "    <tr>\n",
       "      <th>84</th>\n",
       "      <td>Avon and Somerset</td>\n",
       "      <td>Drug\\noffences</td>\n",
       "      <td>0.059</td>\n",
       "      <td>All offences</td>\n",
       "      <td>2.0</td>\n",
       "    </tr>\n",
       "    <tr>\n",
       "      <th>126</th>\n",
       "      <td>Avon and Somerset</td>\n",
       "      <td>Fraud offences</td>\n",
       "      <td>0.007</td>\n",
       "      <td>All other\\noffences</td>\n",
       "      <td>0.0</td>\n",
       "    </tr>\n",
       "    <tr>\n",
       "      <th>168</th>\n",
       "      <td>Avon and Somerset</td>\n",
       "      <td>Miscellaneous\\ncrimes against\\nsociety</td>\n",
       "      <td>0.026</td>\n",
       "      <td>All other\\noffences</td>\n",
       "      <td>0.0</td>\n",
       "    </tr>\n",
       "    <tr>\n",
       "      <th>210</th>\n",
       "      <td>Avon and Somerset</td>\n",
       "      <td>Not known</td>\n",
       "      <td>0.000</td>\n",
       "      <td>All other\\noffences</td>\n",
       "      <td>0.0</td>\n",
       "    </tr>\n",
       "    <tr>\n",
       "      <th>252</th>\n",
       "      <td>Avon and Somerset</td>\n",
       "      <td>Possession of\\nweapons</td>\n",
       "      <td>0.046</td>\n",
       "      <td>All other\\noffences</td>\n",
       "      <td>0.0</td>\n",
       "    </tr>\n",
       "    <tr>\n",
       "      <th>294</th>\n",
       "      <td>Avon and Somerset</td>\n",
       "      <td>Public order\\noffences</td>\n",
       "      <td>0.052</td>\n",
       "      <td>All other\\noffences</td>\n",
       "      <td>0.0</td>\n",
       "    </tr>\n",
       "    <tr>\n",
       "      <th>336</th>\n",
       "      <td>Avon and Somerset</td>\n",
       "      <td>Robbery</td>\n",
       "      <td>0.000</td>\n",
       "      <td>All other\\noffences</td>\n",
       "      <td>0.0</td>\n",
       "    </tr>\n",
       "    <tr>\n",
       "      <th>378</th>\n",
       "      <td>Avon and Somerset</td>\n",
       "      <td>Sexual offences</td>\n",
       "      <td>0.020</td>\n",
       "      <td>All other\\noffences</td>\n",
       "      <td>0.0</td>\n",
       "    </tr>\n",
       "    <tr>\n",
       "      <th>420</th>\n",
       "      <td>Avon and Somerset</td>\n",
       "      <td>Summary motoring</td>\n",
       "      <td>0.026</td>\n",
       "      <td>All other\\noffences</td>\n",
       "      <td>0.0</td>\n",
       "    </tr>\n",
       "    <tr>\n",
       "      <th>462</th>\n",
       "      <td>Avon and Somerset</td>\n",
       "      <td>Summary non-\\nmotoring</td>\n",
       "      <td>0.203</td>\n",
       "      <td>All other\\noffences</td>\n",
       "      <td>0.0</td>\n",
       "    </tr>\n",
       "    <tr>\n",
       "      <th>504</th>\n",
       "      <td>Avon and Somerset</td>\n",
       "      <td>Theft\\noffences</td>\n",
       "      <td>0.301</td>\n",
       "      <td>All offences</td>\n",
       "      <td>1.0</td>\n",
       "    </tr>\n",
       "    <tr>\n",
       "      <th>546</th>\n",
       "      <td>Avon and Somerset</td>\n",
       "      <td>Violence\\nagainst the\\nperson</td>\n",
       "      <td>0.242</td>\n",
       "      <td>All offences</td>\n",
       "      <td>3.0</td>\n",
       "    </tr>\n",
       "    <tr>\n",
       "      <th>0</th>\n",
       "      <td>Avon and Somerset</td>\n",
       "      <td>All other&lt;br&gt;offences</td>\n",
       "      <td>13.624</td>\n",
       "      <td>All offences</td>\n",
       "      <td>0.0</td>\n",
       "    </tr>\n",
       "  </tbody>\n",
       "</table>\n",
       "</div>"
      ],
      "text/plain": [
       "                   pfa                                 offence  proportion  \\\n",
       "0    Avon and Somerset                                Breaches       0.000   \n",
       "42   Avon and Somerset              Criminal damage and\\narson       0.020   \n",
       "84   Avon and Somerset                          Drug\\noffences       0.059   \n",
       "126  Avon and Somerset                          Fraud offences       0.007   \n",
       "168  Avon and Somerset  Miscellaneous\\ncrimes against\\nsociety       0.026   \n",
       "210  Avon and Somerset                               Not known       0.000   \n",
       "252  Avon and Somerset                  Possession of\\nweapons       0.046   \n",
       "294  Avon and Somerset                  Public order\\noffences       0.052   \n",
       "336  Avon and Somerset                                 Robbery       0.000   \n",
       "378  Avon and Somerset                         Sexual offences       0.020   \n",
       "420  Avon and Somerset                        Summary motoring       0.026   \n",
       "462  Avon and Somerset                  Summary non-\\nmotoring       0.203   \n",
       "504  Avon and Somerset                         Theft\\noffences       0.301   \n",
       "546  Avon and Somerset           Violence\\nagainst the\\nperson       0.242   \n",
       "0    Avon and Somerset                   All other<br>offences      13.624   \n",
       "\n",
       "                  parent  plot_order  \n",
       "0    All other\\noffences         0.0  \n",
       "42   All other\\noffences         0.0  \n",
       "84          All offences         2.0  \n",
       "126  All other\\noffences         0.0  \n",
       "168  All other\\noffences         0.0  \n",
       "210  All other\\noffences         0.0  \n",
       "252  All other\\noffences         0.0  \n",
       "294  All other\\noffences         0.0  \n",
       "336  All other\\noffences         0.0  \n",
       "378  All other\\noffences         0.0  \n",
       "420  All other\\noffences         0.0  \n",
       "462  All other\\noffences         0.0  \n",
       "504         All offences         1.0  \n",
       "546         All offences         3.0  \n",
       "0           All offences         0.0  "
      ]
     },
     "execution_count": 27,
     "metadata": {},
     "output_type": "execute_result"
    }
   ],
   "source": [
    "df.query('pfa == \"Avon and Somerset\"')"
   ]
  },
  {
   "cell_type": "code",
   "execution_count": 10,
   "id": "5cd5a311",
   "metadata": {},
   "outputs": [
    {
     "name": "stderr",
     "output_type": "stream",
     "text": [
      "2025-06-23 15:42:31,607 - INFO - Loaded data from data/processed/PFA_custodial_sentences_by_offence_2024_FINAL.csv\n",
      "2025-06-23 15:42:31,616 - INFO - Creating filter for highlighted offence groups...\n"
     ]
    }
   ],
   "source": [
    "chart = custody_offences.test_chart()"
   ]
  },
  {
   "cell_type": "code",
   "execution_count": 11,
   "id": "30784d91",
   "metadata": {},
   "outputs": [
    {
     "data": {
      "text/plain": [
       "(Sunburst({\n",
       "     'branchvalues': 'total',\n",
       "     'domain': {'column': 0, 'row': 0},\n",
       "     'hoverinfo': 'label+percent parent',\n",
       "     'hovertemplate': '<b>%{label}</b><br>%{percentParent: .0%} of %{parent}<extra></extra>',\n",
       "     'insidetextorientation': 'radial',\n",
       "     'labels': array(['Breaches', 'Criminal damage and arson', 'Fraud offences', 'Not known',\n",
       "                      'Robbery', 'Sexual offences', 'Summary motoring',\n",
       "                      'Miscellaneous crimes against society', 'Summary non-motoring',\n",
       "                      'Possession of weapons', 'Public order offences', 'All other offences',\n",
       "                      'Theft offences', 'Drug offences', 'Violence against the person'],\n",
       "                     dtype=object),\n",
       "     'parents': array(['All other offences', 'All other offences', 'All other offences',\n",
       "                       'All other offences', 'All other offences', 'All other offences',\n",
       "                       'All other offences', 'All other offences', 'All other offences',\n",
       "                       'All other offences', 'All other offences', 'All offences',\n",
       "                       'All offences', 'All offences', 'All offences'], dtype=object),\n",
       "     'rotation': -60,\n",
       "     'sort': False,\n",
       "     'texttemplate': '%{label} <b>%{percentRoot: .0%}</b>',\n",
       "     'values': array([0.   , 0.   , 0.   , 0.   , 0.   , 0.   , 0.   , 0.019, 0.019, 0.038,\n",
       "                      0.135, 0.211, 0.615, 0.   , 0.173])\n",
       " }),)"
      ]
     },
     "execution_count": 11,
     "metadata": {},
     "output_type": "execute_result"
    }
   ],
   "source": [
    "chart.data"
   ]
  },
  {
   "cell_type": "code",
   "execution_count": 12,
   "id": "6a771d54",
   "metadata": {},
   "outputs": [
    {
     "data": {
      "application/vnd.plotly.v1+json": {
       "config": {
        "plotlyServerURL": "https://plot.ly"
       },
       "data": [
        {
         "branchvalues": "total",
         "domain": {
          "column": 0,
          "row": 0
         },
         "hoverinfo": "label+percent parent",
         "hovertemplate": "<b>%{label}</b><br>%{percentParent: .0%} of %{parent}<extra></extra>",
         "insidetextorientation": "radial",
         "labels": [
          "Breaches",
          "Criminal damage and arson",
          "Fraud offences",
          "Not known",
          "Robbery",
          "Sexual offences",
          "Summary motoring",
          "Miscellaneous crimes against society",
          "Summary non-motoring",
          "Possession of weapons",
          "Public order offences",
          "All other offences",
          "Theft offences",
          "Drug offences",
          "Violence against the person"
         ],
         "parents": [
          "All other offences",
          "All other offences",
          "All other offences",
          "All other offences",
          "All other offences",
          "All other offences",
          "All other offences",
          "All other offences",
          "All other offences",
          "All other offences",
          "All other offences",
          "All offences",
          "All offences",
          "All offences",
          "All offences"
         ],
         "rotation": -60,
         "sort": false,
         "texttemplate": "%{label} <b>%{percentRoot: .0%}</b>",
         "type": "sunburst",
         "values": {
          "bdata": "AAAAAAAAAAAAAAAAAAAAAAAAAAAAAAAAAAAAAAAAAAAAAAAAAAAAAAAAAAAAAAAAAAAAAAAAAADb+X5qvHSTP9v5fmq8dJM/2/l+arx0oz9I4XoUrkfBPzVeukkMAss/rkfhehSu4z8AAAAAAAAAAL6fGi/dJMY/",
          "dtype": "f8"
         }
        }
       ],
       "layout": {
        "annotations": [
         {
          "font": {
           "size": 12
          },
          "showarrow": false,
          "text": "Source: Ministry of Justice, Criminal justice statistics",
          "x": 0.05,
          "xanchor": "left",
          "xref": "paper",
          "y": 0.07,
          "yanchor": "top",
          "yref": "paper"
         }
        ],
        "height": 630,
        "margin": {
         "b": 0,
         "l": 0,
         "r": 0,
         "t": 75
        },
        "template": {
         "data": {
          "scatter": [
           {
            "line": {
             "width": 4
            },
            "marker": {
             "size": 10
            },
            "type": "scatter"
           }
          ]
         },
         "layout": {
          "colorway": [
           "#A01D28",
           "#499CC9",
           "#F9A237",
           "#6FBA3A",
           "#573D6B"
          ],
          "dragmode": false,
          "font": {
           "color": "#54565B",
           "family": "Helvetica Neue, Arial",
           "size": 14
          },
          "height": 360,
          "margin": {
           "b": 70,
           "l": 40,
           "r": 100,
           "t": 80
          },
          "modebar": {
           "activecolor": "#A01D28"
          },
          "paper_bgcolor": "#F7F2F2",
          "plot_bgcolor": "#F7F2F2",
          "showlegend": false,
          "title": {
           "font": {
            "family": "Helvetica Neue, Arial",
            "size": 20
           },
           "y": 0.94,
           "yanchor": "bottom"
          },
          "width": 655,
          "xaxis": {
           "gridcolor": "rgba(84, 86, 91, 0.15)",
           "showgrid": false,
           "tickcolor": "#54565B",
           "ticks": "outside"
          },
          "yaxis": {
           "gridcolor": "rgba(84, 86, 91, 0.15)"
          }
         }
        },
        "title": {
         "text": "<b>Imprisonment of women in Gwent by offence<br>group in 2022</b>",
         "y": 0.94,
         "yanchor": "bottom"
        },
        "width": 630
       }
      }
     },
     "metadata": {},
     "output_type": "display_data"
    }
   ],
   "source": [
    "chart"
   ]
  },
  {
   "cell_type": "markdown",
   "id": "aacc6f2a",
   "metadata": {},
   "source": [
    "Okay, so trace creation seems to be happening, but for whatever reason it's not being generated onto the figure."
   ]
  },
  {
   "cell_type": "markdown",
   "id": "6f1549f1",
   "metadata": {},
   "source": [
    "### Temporary deactivation of the chart parameters and annotations"
   ]
  },
  {
   "cell_type": "code",
   "execution_count": 65,
   "id": "7b9b8440",
   "metadata": {},
   "outputs": [
    {
     "name": "stderr",
     "output_type": "stream",
     "text": [
      "2025-06-19 16:00:35,645 - INFO - Loaded data from data/processed/PFA_custodial_sentences_by_offence_2024_FINAL.csv\n",
      "2025-06-19 16:00:35,661 - INFO - Creating filter for highlighted offence groups...\n"
     ]
    },
    {
     "data": {
      "application/vnd.plotly.v1+json": {
       "config": {
        "plotlyServerURL": "https://plot.ly"
       },
       "data": [
        {
         "branchvalues": "total",
         "domain": {
          "column": 0,
          "row": 0
         },
         "hoverinfo": "label+percent parent",
         "hovertemplate": "<b>%{label}</b><br>%{percentParent: .0%} of %{parent}<extra></extra>",
         "insidetextorientation": "radial",
         "labels": [
          "Breaches",
          "Criminal damage and\narson",
          "Fraud offences",
          "Not known",
          "Robbery",
          "Sexual offences",
          "Summary motoring",
          "Miscellaneous\ncrimes against\nsociety",
          "Summary non-\nmotoring",
          "Possession of\nweapons",
          "Public order\noffences",
          "All other<br>offences",
          "Theft\noffences",
          "Drug\noffences",
          "Violence\nagainst the\nperson"
         ],
         "parents": [
          "All other\noffences",
          "All other\noffences",
          "All other\noffences",
          "All other\noffences",
          "All other\noffences",
          "All other\noffences",
          "All other\noffences",
          "All other\noffences",
          "All other\noffences",
          "All other\noffences",
          "All other\noffences",
          "All offences",
          "All offences",
          "All offences",
          "All offences"
         ],
         "rotation": -60,
         "sort": false,
         "texttemplate": "%{label} <b>%{percentRoot: .0%}</b>",
         "type": "sunburst",
         "values": {
          "bdata": "AAAAAAAAAAAAAAAAAAAAAAAAAAAAAAAAAAAAAAAAAAAAAAAAAAAAAAAAAAAAAAAAAAAAAAAAAADb+X5qvHSTP9v5fmq8dJM/2/l+arx0oz9I4XoUrkfBPzVeukkMAss/rkfhehSu4z8AAAAAAAAAAL6fGi/dJMY/",
          "dtype": "f8"
         }
        }
       ],
       "layout": {
        "template": {
         "data": {
          "scatter": [
           {
            "line": {
             "width": 4
            },
            "marker": {
             "size": 10
            },
            "type": "scatter"
           }
          ]
         },
         "layout": {
          "colorway": [
           "#A01D28",
           "#499CC9",
           "#F9A237",
           "#6FBA3A",
           "#573D6B"
          ],
          "dragmode": false,
          "font": {
           "color": "#54565B",
           "family": "Helvetica Neue, Arial",
           "size": 14
          },
          "height": 360,
          "margin": {
           "b": 70,
           "l": 40,
           "r": 100,
           "t": 80
          },
          "modebar": {
           "activecolor": "#A01D28"
          },
          "paper_bgcolor": "#F7F2F2",
          "plot_bgcolor": "#F7F2F2",
          "showlegend": false,
          "title": {
           "font": {
            "family": "Helvetica Neue, Arial",
            "size": 20
           },
           "y": 0.94,
           "yanchor": "bottom"
          },
          "width": 655,
          "xaxis": {
           "gridcolor": "rgba(84, 86, 91, 0.15)",
           "showgrid": false,
           "tickcolor": "#54565B",
           "ticks": "outside"
          },
          "yaxis": {
           "gridcolor": "rgba(84, 86, 91, 0.15)"
          }
         }
        }
       }
      }
     },
     "metadata": {},
     "output_type": "display_data"
    }
   ],
   "source": [
    "chart = custody_offences.test_chart()\n",
    "chart"
   ]
  },
  {
   "cell_type": "markdown",
   "id": "015b1ad8",
   "metadata": {},
   "source": [
    "Okay, that's not affected it."
   ]
  },
  {
   "cell_type": "code",
   "execution_count": 6,
   "id": "64c8feb1",
   "metadata": {},
   "outputs": [
    {
     "data": {
      "text/plain": [
       "Layout({\n",
       "    'annotations': [{'font': {'size': 12},\n",
       "                     'showarrow': False,\n",
       "                     'text': 'Source: Ministry of Justice, Criminal justice statistics',\n",
       "                     'x': 0.05,\n",
       "                     'xanchor': 'left',\n",
       "                     'xref': 'paper',\n",
       "                     'y': 0.07,\n",
       "                     'yanchor': 'top',\n",
       "                     'yref': 'paper'}],\n",
       "    'height': 630,\n",
       "    'margin': {'b': 0, 'l': 0, 'r': 0, 't': 75},\n",
       "    'template': '...',\n",
       "    'title': {'text': '<b>Imprisonment of women in Gwent by offence<br>group in 2022</b>', 'y': 0.94, 'yanchor': 'bottom'},\n",
       "    'width': 630\n",
       "})"
      ]
     },
     "execution_count": 6,
     "metadata": {},
     "output_type": "execute_result"
    }
   ],
   "source": [
    "chart.layout"
   ]
  },
  {
   "cell_type": "markdown",
   "id": "b21eea55",
   "metadata": {},
   "source": [
    "Let's try to use some dummy data and see whether that renders as expected."
   ]
  },
  {
   "cell_type": "code",
   "execution_count": 7,
   "id": "3a3d11c7",
   "metadata": {},
   "outputs": [
    {
     "name": "stderr",
     "output_type": "stream",
     "text": [
      "2025-06-20 10:44:28,631 - INFO - Creating filter for highlighted offence groups...\n"
     ]
    },
    {
     "data": {
      "application/vnd.plotly.v1+json": {
       "config": {
        "plotlyServerURL": "https://plot.ly"
       },
       "data": [
        {
         "branchvalues": "total",
         "domain": {
          "column": 0,
          "row": 0
         },
         "hoverinfo": "label+percent parent",
         "hovertemplate": "<b>%{label}</b><br>%{percentParent: .0%} of %{parent}<extra></extra>",
         "insidetextorientation": "radial",
         "labels": [
          "Dummy Offence",
          "All other<br>offences"
         ],
         "parents": [
          "All offences",
          "All offences"
         ],
         "rotation": -60,
         "sort": false,
         "texttemplate": "%{label} <b>%{percentRoot: .0%}</b>",
         "type": "sunburst",
         "values": {
          "bdata": "AAAAAAAA4D8AAAAAAADgPw==",
          "dtype": "f8"
         }
        }
       ],
       "layout": {
        "annotations": [
         {
          "font": {
           "size": 12
          },
          "showarrow": false,
          "text": "Source: Ministry of Justice, Criminal justice statistics",
          "x": 0.05,
          "xanchor": "left",
          "xref": "paper",
          "y": 0.07,
          "yanchor": "top",
          "yref": "paper"
         }
        ],
        "height": 630,
        "margin": {
         "b": 0,
         "l": 0,
         "r": 0,
         "t": 75
        },
        "template": {
         "data": {
          "scatter": [
           {
            "line": {
             "width": 4
            },
            "marker": {
             "size": 10
            },
            "type": "scatter"
           }
          ]
         },
         "layout": {
          "colorway": [
           "#A01D28",
           "#499CC9",
           "#F9A237",
           "#6FBA3A",
           "#573D6B"
          ],
          "dragmode": false,
          "font": {
           "color": "#54565B",
           "family": "Helvetica Neue, Arial",
           "size": 14
          },
          "height": 360,
          "margin": {
           "b": 70,
           "l": 40,
           "r": 100,
           "t": 80
          },
          "modebar": {
           "activecolor": "#A01D28"
          },
          "paper_bgcolor": "#F7F2F2",
          "plot_bgcolor": "#F7F2F2",
          "showlegend": false,
          "title": {
           "font": {
            "family": "Helvetica Neue, Arial",
            "size": 20
           },
           "y": 0.94,
           "yanchor": "bottom"
          },
          "width": 655,
          "xaxis": {
           "gridcolor": "rgba(84, 86, 91, 0.15)",
           "showgrid": false,
           "tickcolor": "#54565B",
           "ticks": "outside"
          },
          "yaxis": {
           "gridcolor": "rgba(84, 86, 91, 0.15)"
          }
         }
        },
        "title": {
         "text": "<b>Imprisonment of women in Dummy PFA by<br>offence group in 2022</b>",
         "y": 0.94,
         "yanchor": "bottom"
        },
        "width": 630
       }
      }
     },
     "metadata": {},
     "output_type": "display_data"
    }
   ],
   "source": [
    "dummy_chart = custody_offences.dummy_chart()\n",
    "dummy_chart"
   ]
  },
  {
   "cell_type": "code",
   "execution_count": 8,
   "id": "5ccb7820",
   "metadata": {},
   "outputs": [
    {
     "data": {
      "text/plain": [
       "(Sunburst({\n",
       "     'branchvalues': 'total',\n",
       "     'domain': {'column': 0, 'row': 0},\n",
       "     'hoverinfo': 'label+percent parent',\n",
       "     'hovertemplate': '<b>%{label}</b><br>%{percentParent: .0%} of %{parent}<extra></extra>',\n",
       "     'insidetextorientation': 'radial',\n",
       "     'labels': array(['Dummy Offence', 'All other<br>offences'], dtype=object),\n",
       "     'parents': array(['All offences', 'All offences'], dtype=object),\n",
       "     'rotation': -60,\n",
       "     'sort': False,\n",
       "     'texttemplate': '%{label} <b>%{percentRoot: .0%}</b>',\n",
       "     'values': array([0.5, 0.5])\n",
       " }),)"
      ]
     },
     "execution_count": 8,
     "metadata": {},
     "output_type": "execute_result"
    }
   ],
   "source": [
    "dummy_chart.data"
   ]
  },
  {
   "cell_type": "code",
   "execution_count": 9,
   "id": "911ddd16",
   "metadata": {},
   "outputs": [
    {
     "data": {
      "text/plain": [
       "(Sunburst({\n",
       "     'branchvalues': 'total',\n",
       "     'domain': {'column': 0, 'row': 0},\n",
       "     'hoverinfo': 'label+percent parent',\n",
       "     'hovertemplate': '<b>%{label}</b><br>%{percentParent: .0%} of %{parent}<extra></extra>',\n",
       "     'insidetextorientation': 'radial',\n",
       "     'labels': array(['Breaches', 'Criminal damage and\\narson', 'Fraud offences', 'Not known',\n",
       "                      'Robbery', 'Sexual offences', 'Summary motoring',\n",
       "                      'Miscellaneous\\ncrimes against\\nsociety', 'Summary non-\\nmotoring',\n",
       "                      'Possession of\\nweapons', 'Public order\\noffences',\n",
       "                      'All other<br>offences', 'Theft\\noffences', 'Drug\\noffences',\n",
       "                      'Violence\\nagainst the\\nperson'], dtype=object),\n",
       "     'parents': array(['All other\\noffences', 'All other\\noffences', 'All other\\noffences',\n",
       "                       'All other\\noffences', 'All other\\noffences', 'All other\\noffences',\n",
       "                       'All other\\noffences', 'All other\\noffences', 'All other\\noffences',\n",
       "                       'All other\\noffences', 'All other\\noffences', 'All offences',\n",
       "                       'All offences', 'All offences', 'All offences'], dtype=object),\n",
       "     'rotation': -60,\n",
       "     'sort': False,\n",
       "     'texttemplate': '%{label} <b>%{percentRoot: .0%}</b>',\n",
       "     'values': array([0.   , 0.   , 0.   , 0.   , 0.   , 0.   , 0.   , 0.019, 0.019, 0.038,\n",
       "                      0.135, 0.211, 0.615, 0.   , 0.173])\n",
       " }),)"
      ]
     },
     "execution_count": 9,
     "metadata": {},
     "output_type": "execute_result"
    }
   ],
   "source": [
    "chart.data"
   ]
  },
  {
   "cell_type": "code",
   "execution_count": 10,
   "id": "7d56f873",
   "metadata": {},
   "outputs": [
    {
     "data": {
      "text/plain": [
       "Layout({\n",
       "    'annotations': [{'font': {'size': 12},\n",
       "                     'showarrow': False,\n",
       "                     'text': 'Source: Ministry of Justice, Criminal justice statistics',\n",
       "                     'x': 0.05,\n",
       "                     'xanchor': 'left',\n",
       "                     'xref': 'paper',\n",
       "                     'y': 0.07,\n",
       "                     'yanchor': 'top',\n",
       "                     'yref': 'paper'}],\n",
       "    'height': 630,\n",
       "    'margin': {'b': 0, 'l': 0, 'r': 0, 't': 75},\n",
       "    'template': '...',\n",
       "    'title': {'text': '<b>Imprisonment of women in Dummy PFA by<br>offence group in 2022</b>',\n",
       "              'y': 0.94,\n",
       "              'yanchor': 'bottom'},\n",
       "    'width': 630\n",
       "})"
      ]
     },
     "execution_count": 10,
     "metadata": {},
     "output_type": "execute_result"
    }
   ],
   "source": [
    "dummy_chart.layout"
   ]
  },
  {
   "cell_type": "code",
   "execution_count": 11,
   "id": "8598c96d",
   "metadata": {},
   "outputs": [
    {
     "data": {
      "text/plain": [
       "Layout({\n",
       "    'annotations': [{'font': {'size': 12},\n",
       "                     'showarrow': False,\n",
       "                     'text': 'Source: Ministry of Justice, Criminal justice statistics',\n",
       "                     'x': 0.05,\n",
       "                     'xanchor': 'left',\n",
       "                     'xref': 'paper',\n",
       "                     'y': 0.07,\n",
       "                     'yanchor': 'top',\n",
       "                     'yref': 'paper'}],\n",
       "    'height': 630,\n",
       "    'margin': {'b': 0, 'l': 0, 'r': 0, 't': 75},\n",
       "    'template': '...',\n",
       "    'title': {'text': '<b>Imprisonment of women in Gwent by offence<br>group in 2022</b>', 'y': 0.94, 'yanchor': 'bottom'},\n",
       "    'width': 630\n",
       "})"
      ]
     },
     "execution_count": 11,
     "metadata": {},
     "output_type": "execute_result"
    }
   ],
   "source": [
    "chart.layout"
   ]
  },
  {
   "cell_type": "markdown",
   "id": "672a69a7",
   "metadata": {},
   "source": [
    "Have added some logging statements to check the filtering process. I've also spotted the use of a `<br>` tag in there, rather than a `\\n` which could be causing issues."
   ]
  },
  {
   "cell_type": "code",
   "execution_count": 16,
   "id": "84f7e8a4",
   "metadata": {},
   "outputs": [
    {
     "name": "stderr",
     "output_type": "stream",
     "text": [
      "2025-06-20 11:38:59,598 - INFO - Loaded data from data/processed/PFA_custodial_sentences_by_offence_2024_FINAL.csv\n",
      "2025-06-20 11:38:59,606 - INFO - Creating filter for highlighted offence groups...\n"
     ]
    },
    {
     "data": {
      "application/vnd.plotly.v1+json": {
       "config": {
        "plotlyServerURL": "https://plot.ly"
       },
       "data": [
        {
         "branchvalues": "total",
         "domain": {
          "column": 0,
          "row": 0
         },
         "hoverinfo": "label+percent parent",
         "hovertemplate": "<b>%{label}</b><br>%{percentParent: .0%} of %{parent}<extra></extra>",
         "insidetextorientation": "radial",
         "labels": [
          "Breaches",
          "Criminal damage and\narson",
          "Fraud offences",
          "Not known",
          "Robbery",
          "Sexual offences",
          "Summary motoring",
          "Miscellaneous\ncrimes against\nsociety",
          "Summary non-\nmotoring",
          "Possession of\nweapons",
          "Public order\noffences",
          "All other\noffences",
          "Theft\noffences",
          "Drug\noffences",
          "Violence\nagainst the\nperson"
         ],
         "parents": [
          "All other\noffences",
          "All other\noffences",
          "All other\noffences",
          "All other\noffences",
          "All other\noffences",
          "All other\noffences",
          "All other\noffences",
          "All other\noffences",
          "All other\noffences",
          "All other\noffences",
          "All other\noffences",
          "All offences",
          "All offences",
          "All offences",
          "All offences"
         ],
         "rotation": -60,
         "sort": false,
         "texttemplate": "%{label} <b>%{percentRoot: .0%}</b>",
         "type": "sunburst",
         "values": {
          "bdata": "AAAAAAAAAAAAAAAAAAAAAAAAAAAAAAAAAAAAAAAAAAAAAAAAAAAAAAAAAAAAAAAAAAAAAAAAAADb+X5qvHSTP9v5fmq8dJM/2/l+arx0oz9I4XoUrkfBPzVeukkMAss/rkfhehSu4z8AAAAAAAAAAL6fGi/dJMY/",
          "dtype": "f8"
         }
        }
       ],
       "layout": {
        "annotations": [
         {
          "font": {
           "size": 12
          },
          "showarrow": false,
          "text": "Source: Ministry of Justice, Criminal justice statistics",
          "x": 0.05,
          "xanchor": "left",
          "xref": "paper",
          "y": 0.07,
          "yanchor": "top",
          "yref": "paper"
         }
        ],
        "height": 630,
        "margin": {
         "b": 0,
         "l": 0,
         "r": 0,
         "t": 75
        },
        "template": {
         "data": {
          "scatter": [
           {
            "line": {
             "width": 4
            },
            "marker": {
             "size": 10
            },
            "type": "scatter"
           }
          ]
         },
         "layout": {
          "colorway": [
           "#A01D28",
           "#499CC9",
           "#F9A237",
           "#6FBA3A",
           "#573D6B"
          ],
          "dragmode": false,
          "font": {
           "color": "#54565B",
           "family": "Helvetica Neue, Arial",
           "size": 14
          },
          "height": 360,
          "margin": {
           "b": 70,
           "l": 40,
           "r": 100,
           "t": 80
          },
          "modebar": {
           "activecolor": "#A01D28"
          },
          "paper_bgcolor": "#F7F2F2",
          "plot_bgcolor": "#F7F2F2",
          "showlegend": false,
          "title": {
           "font": {
            "family": "Helvetica Neue, Arial",
            "size": 20
           },
           "y": 0.94,
           "yanchor": "bottom"
          },
          "width": 655,
          "xaxis": {
           "gridcolor": "rgba(84, 86, 91, 0.15)",
           "showgrid": false,
           "tickcolor": "#54565B",
           "ticks": "outside"
          },
          "yaxis": {
           "gridcolor": "rgba(84, 86, 91, 0.15)"
          }
         }
        },
        "title": {
         "text": "<b>Imprisonment of women in Gwent by offence<br>group in 2022</b>",
         "y": 0.94,
         "yanchor": "bottom"
        },
        "width": 630
       }
      }
     },
     "metadata": {},
     "output_type": "display_data"
    }
   ],
   "source": [
    "chart = custody_offences.test_chart()\n",
    "chart"
   ]
  },
  {
   "cell_type": "markdown",
   "id": "19f93b58",
   "metadata": {},
   "source": [
    "Ah ha! I think the rogue `<br>` character was the issue. But I also notice that those `\\n` are not breaking the lines anyway, so this will be an opportunity for developing a more robust solution. I'll remove all new line and break tags from the data processing for now, and pass them through a textwrap function when they're called for the trace construction."
   ]
  },
  {
   "cell_type": "code",
   "execution_count": null,
   "id": "18fc4a11",
   "metadata": {},
   "outputs": [],
   "source": []
  }
 ],
 "metadata": {
  "kernelspec": {
   "display_name": "Python 3",
   "language": "python",
   "name": "python3"
  },
  "language_info": {
   "codemirror_mode": {
    "name": "ipython",
    "version": 3
   },
   "file_extension": ".py",
   "mimetype": "text/x-python",
   "name": "python",
   "nbconvert_exporter": "python",
   "pygments_lexer": "ipython3",
   "version": "3.13.3"
  }
 },
 "nbformat": 4,
 "nbformat_minor": 5
}
