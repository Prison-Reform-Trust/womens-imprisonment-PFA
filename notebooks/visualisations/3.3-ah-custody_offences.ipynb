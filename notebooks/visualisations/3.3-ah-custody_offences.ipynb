{
 "cells": [
  {
   "cell_type": "markdown",
   "id": "b3302d40",
   "metadata": {},
   "source": [
    "# Women's imprisonment\n",
    "## Criminal Justice Statistics Police Force Area: Offences chart"
   ]
  },
  {
   "cell_type": "code",
   "execution_count": 1,
   "id": "69f59caf",
   "metadata": {},
   "outputs": [],
   "source": [
    "%load_ext autoreload\n",
    "%autoreload 2"
   ]
  },
  {
   "cell_type": "markdown",
   "id": "85514c65",
   "metadata": {},
   "source": [
    "## Testing `custody_offences.py`"
   ]
  },
  {
   "cell_type": "code",
   "execution_count": 2,
   "id": "5844f3aa",
   "metadata": {},
   "outputs": [],
   "source": [
    "from src.visualization import custody_offences"
   ]
  },
  {
   "cell_type": "markdown",
   "id": "be9fa991",
   "metadata": {},
   "source": [
    "Checking that the template `INPUT_FILENAME` is returned correctly"
   ]
  },
  {
   "cell_type": "code",
   "execution_count": 3,
   "id": "0f6adcd6",
   "metadata": {},
   "outputs": [
    {
     "data": {
      "text/plain": [
       "'PFA_custodial_sentences_by_offence_2024_FINAL.csv'"
      ]
     },
     "execution_count": 3,
     "metadata": {},
     "output_type": "execute_result"
    }
   ],
   "source": [
    "custody_offences.INPUT_FILENAME"
   ]
  },
  {
   "cell_type": "code",
   "execution_count": 9,
   "id": "ca871e7e",
   "metadata": {},
   "outputs": [
    {
     "name": "stderr",
     "output_type": "stream",
     "text": [
      "2025-06-18 16:01:27,177 - INFO - Loaded data from data/processed/PFA_custodial_sentences_by_offence_2024_FINAL.csv\n"
     ]
    },
    {
     "name": "stderr",
     "output_type": "stream",
     "text": [
      "2025-06-18 16:01:27,179 - INFO - Preparing data for PFA offences chart\n",
      "2025-06-18 16:01:27,213 - INFO - Data successfully prepared for PFA offences chart\n"
     ]
    },
    {
     "data": {
      "text/html": [
       "<div>\n",
       "<style scoped>\n",
       "    .dataframe tbody tr th:only-of-type {\n",
       "        vertical-align: middle;\n",
       "    }\n",
       "\n",
       "    .dataframe tbody tr th {\n",
       "        vertical-align: top;\n",
       "    }\n",
       "\n",
       "    .dataframe thead th {\n",
       "        text-align: right;\n",
       "    }\n",
       "</style>\n",
       "<table border=\"1\" class=\"dataframe\">\n",
       "  <thead>\n",
       "    <tr style=\"text-align: right;\">\n",
       "      <th></th>\n",
       "      <th>pfa</th>\n",
       "      <th>offence</th>\n",
       "      <th>proportion</th>\n",
       "      <th>parent</th>\n",
       "      <th>plot_order</th>\n",
       "    </tr>\n",
       "  </thead>\n",
       "  <tbody>\n",
       "    <tr>\n",
       "      <th>0</th>\n",
       "      <td>Avon and Somerset</td>\n",
       "      <td>Breaches</td>\n",
       "      <td>0.000</td>\n",
       "      <td>All other&lt;br&gt;offences</td>\n",
       "      <td>0.0</td>\n",
       "    </tr>\n",
       "    <tr>\n",
       "      <th>1</th>\n",
       "      <td>Bedfordshire</td>\n",
       "      <td>Breaches</td>\n",
       "      <td>0.000</td>\n",
       "      <td>All other&lt;br&gt;offences</td>\n",
       "      <td>0.0</td>\n",
       "    </tr>\n",
       "    <tr>\n",
       "      <th>2</th>\n",
       "      <td>Cambridgeshire</td>\n",
       "      <td>Breaches</td>\n",
       "      <td>0.000</td>\n",
       "      <td>All other&lt;br&gt;offences</td>\n",
       "      <td>0.0</td>\n",
       "    </tr>\n",
       "    <tr>\n",
       "      <th>3</th>\n",
       "      <td>Cheshire</td>\n",
       "      <td>Breaches</td>\n",
       "      <td>0.000</td>\n",
       "      <td>All other&lt;br&gt;offences</td>\n",
       "      <td>0.0</td>\n",
       "    </tr>\n",
       "    <tr>\n",
       "      <th>4</th>\n",
       "      <td>Cleveland</td>\n",
       "      <td>Breaches</td>\n",
       "      <td>0.000</td>\n",
       "      <td>All other&lt;br&gt;offences</td>\n",
       "      <td>0.0</td>\n",
       "    </tr>\n",
       "    <tr>\n",
       "      <th>...</th>\n",
       "      <td>...</td>\n",
       "      <td>...</td>\n",
       "      <td>...</td>\n",
       "      <td>...</td>\n",
       "      <td>...</td>\n",
       "    </tr>\n",
       "    <tr>\n",
       "      <th>583</th>\n",
       "      <td>Warwickshire</td>\n",
       "      <td>Violence\\nagainst the\\nperson</td>\n",
       "      <td>0.178</td>\n",
       "      <td>All offences</td>\n",
       "      <td>3.0</td>\n",
       "    </tr>\n",
       "    <tr>\n",
       "      <th>584</th>\n",
       "      <td>West Mercia</td>\n",
       "      <td>Violence\\nagainst the\\nperson</td>\n",
       "      <td>0.140</td>\n",
       "      <td>All offences</td>\n",
       "      <td>3.0</td>\n",
       "    </tr>\n",
       "    <tr>\n",
       "      <th>585</th>\n",
       "      <td>West Midlands</td>\n",
       "      <td>Violence\\nagainst the\\nperson</td>\n",
       "      <td>0.176</td>\n",
       "      <td>All offences</td>\n",
       "      <td>3.0</td>\n",
       "    </tr>\n",
       "    <tr>\n",
       "      <th>586</th>\n",
       "      <td>West Yorkshire</td>\n",
       "      <td>Violence\\nagainst the\\nperson</td>\n",
       "      <td>0.192</td>\n",
       "      <td>All offences</td>\n",
       "      <td>3.0</td>\n",
       "    </tr>\n",
       "    <tr>\n",
       "      <th>587</th>\n",
       "      <td>Wiltshire</td>\n",
       "      <td>Violence\\nagainst the\\nperson</td>\n",
       "      <td>0.156</td>\n",
       "      <td>All offences</td>\n",
       "      <td>3.0</td>\n",
       "    </tr>\n",
       "  </tbody>\n",
       "</table>\n",
       "<p>588 rows × 5 columns</p>\n",
       "</div>"
      ],
      "text/plain": [
       "                   pfa                        offence  proportion  \\\n",
       "0    Avon and Somerset                       Breaches       0.000   \n",
       "1         Bedfordshire                       Breaches       0.000   \n",
       "2       Cambridgeshire                       Breaches       0.000   \n",
       "3             Cheshire                       Breaches       0.000   \n",
       "4            Cleveland                       Breaches       0.000   \n",
       "..                 ...                            ...         ...   \n",
       "583       Warwickshire  Violence\\nagainst the\\nperson       0.178   \n",
       "584        West Mercia  Violence\\nagainst the\\nperson       0.140   \n",
       "585      West Midlands  Violence\\nagainst the\\nperson       0.176   \n",
       "586     West Yorkshire  Violence\\nagainst the\\nperson       0.192   \n",
       "587          Wiltshire  Violence\\nagainst the\\nperson       0.156   \n",
       "\n",
       "                    parent  plot_order  \n",
       "0    All other<br>offences         0.0  \n",
       "1    All other<br>offences         0.0  \n",
       "2    All other<br>offences         0.0  \n",
       "3    All other<br>offences         0.0  \n",
       "4    All other<br>offences         0.0  \n",
       "..                     ...         ...  \n",
       "583           All offences         3.0  \n",
       "584           All offences         3.0  \n",
       "585           All offences         3.0  \n",
       "586           All offences         3.0  \n",
       "587           All offences         3.0  \n",
       "\n",
       "[588 rows x 5 columns]"
      ]
     },
     "execution_count": 9,
     "metadata": {},
     "output_type": "execute_result"
    }
   ],
   "source": [
    "df = custody_offences.get_data()\n",
    "df"
   ]
  },
  {
   "cell_type": "markdown",
   "id": "b0b136ed",
   "metadata": {},
   "source": [
    "## Moving data processing steps to `filter_custody_offences.py` and testing"
   ]
  },
  {
   "cell_type": "code",
   "execution_count": 10,
   "id": "b240ba68",
   "metadata": {},
   "outputs": [],
   "source": [
    "from src.data.processing import filter_custody_offences"
   ]
  },
  {
   "cell_type": "code",
   "execution_count": 37,
   "id": "a69c9a11",
   "metadata": {},
   "outputs": [
    {
     "name": "stderr",
     "output_type": "stream",
     "text": [
      "2025-06-18 16:52:58,921 - INFO - Loaded data from data/interim/women_cust_comm_sus.csv\n",
      "2025-06-18 16:52:59,220 - INFO - Filtering data for custodial sentences...\n",
      "2025-06-18 16:52:59,230 - INFO - Filtering data from 2024 onwards\n",
      "2025-06-18 16:52:59,233 - INFO - Grouping data by PFA, year, and offence...\n",
      "2025-06-18 16:52:59,253 - INFO - Melting DataFrame to long format...\n",
      "2025-06-18 16:52:59,258 - INFO - Creating filter for highlighted offence groups...\n",
      "2025-06-18 16:52:59,259 - INFO - Setting parent column for offence groups...\n",
      "2025-06-18 16:52:59,261 - INFO - Setting plot order for offences...\n",
      "2025-06-18 16:52:59,285 - INFO - Data successfully processed for PFA offences charts\n"
     ]
    }
   ],
   "source": [
    "df, max_year = filter_custody_offences.load_and_process_data()"
   ]
  },
  {
   "cell_type": "code",
   "execution_count": null,
   "id": "61613012",
   "metadata": {},
   "outputs": [
    {
     "data": {
      "text/html": [
       "<div>\n",
       "<style scoped>\n",
       "    .dataframe tbody tr th:only-of-type {\n",
       "        vertical-align: middle;\n",
       "    }\n",
       "\n",
       "    .dataframe tbody tr th {\n",
       "        vertical-align: top;\n",
       "    }\n",
       "\n",
       "    .dataframe thead th {\n",
       "        text-align: right;\n",
       "    }\n",
       "</style>\n",
       "<table border=\"1\" class=\"dataframe\">\n",
       "  <thead>\n",
       "    <tr style=\"text-align: right;\">\n",
       "      <th></th>\n",
       "      <th>pfa</th>\n",
       "      <th>offence</th>\n",
       "      <th>proportion</th>\n",
       "      <th>parent</th>\n",
       "      <th>plot_order</th>\n",
       "    </tr>\n",
       "  </thead>\n",
       "  <tbody>\n",
       "    <tr>\n",
       "      <th>0</th>\n",
       "      <td>Avon and Somerset</td>\n",
       "      <td>Breaches</td>\n",
       "      <td>0.0</td>\n",
       "      <td>All other\\noffences</td>\n",
       "      <td>0.0</td>\n",
       "    </tr>\n",
       "    <tr>\n",
       "      <th>1</th>\n",
       "      <td>Bedfordshire</td>\n",
       "      <td>Breaches</td>\n",
       "      <td>0.0</td>\n",
       "      <td>All other\\noffences</td>\n",
       "      <td>0.0</td>\n",
       "    </tr>\n",
       "    <tr>\n",
       "      <th>2</th>\n",
       "      <td>Cambridgeshire</td>\n",
       "      <td>Breaches</td>\n",
       "      <td>0.0</td>\n",
       "      <td>All other\\noffences</td>\n",
       "      <td>0.0</td>\n",
       "    </tr>\n",
       "    <tr>\n",
       "      <th>3</th>\n",
       "      <td>Cheshire</td>\n",
       "      <td>Breaches</td>\n",
       "      <td>0.0</td>\n",
       "      <td>All other\\noffences</td>\n",
       "      <td>0.0</td>\n",
       "    </tr>\n",
       "    <tr>\n",
       "      <th>4</th>\n",
       "      <td>Cleveland</td>\n",
       "      <td>Breaches</td>\n",
       "      <td>0.0</td>\n",
       "      <td>All other\\noffences</td>\n",
       "      <td>0.0</td>\n",
       "    </tr>\n",
       "  </tbody>\n",
       "</table>\n",
       "</div>"
      ],
      "text/plain": [
       "                 pfa   offence  proportion               parent  plot_order\n",
       "0  Avon and Somerset  Breaches         0.0  All other\\noffences         0.0\n",
       "1       Bedfordshire  Breaches         0.0  All other\\noffences         0.0\n",
       "2     Cambridgeshire  Breaches         0.0  All other\\noffences         0.0\n",
       "3           Cheshire  Breaches         0.0  All other\\noffences         0.0\n",
       "4          Cleveland  Breaches         0.0  All other\\noffences         0.0"
      ]
     },
     "execution_count": 34,
     "metadata": {},
     "output_type": "execute_result"
    }
   ],
   "source": [
    "df.head()"
   ]
  },
  {
   "cell_type": "code",
   "execution_count": 35,
   "id": "0d8b67d3",
   "metadata": {},
   "outputs": [
    {
     "data": {
      "text/plain": [
       "np.int64(2024)"
      ]
     },
     "execution_count": 35,
     "metadata": {},
     "output_type": "execute_result"
    }
   ],
   "source": [
    "max_year"
   ]
  },
  {
   "cell_type": "code",
   "execution_count": 36,
   "id": "06cd41d6",
   "metadata": {},
   "outputs": [
    {
     "data": {
      "text/plain": [
       "offence\n",
       "Breaches                                  42\n",
       "Criminal damage and\\narson                42\n",
       "Drug\\noffences                            42\n",
       "Fraud offences                            42\n",
       "Miscellaneous\\ncrimes against\\nsociety    42\n",
       "Not known                                 42\n",
       "Possession of\\nweapons                    42\n",
       "Public order\\noffences                    42\n",
       "Robbery                                   42\n",
       "Sexual offences                           42\n",
       "Summary motoring                          42\n",
       "Summary non-\\nmotoring                    42\n",
       "Theft\\noffences                           42\n",
       "Violence\\nagainst the\\nperson             42\n",
       "Name: count, dtype: int64"
      ]
     },
     "execution_count": 36,
     "metadata": {},
     "output_type": "execute_result"
    }
   ],
   "source": [
    "df['offence'].value_counts()"
   ]
  },
  {
   "cell_type": "code",
   "execution_count": 38,
   "id": "fe0183fc",
   "metadata": {},
   "outputs": [
    {
     "data": {
      "text/plain": [
       "plot_order\n",
       "0.0    462\n",
       "2.0     42\n",
       "1.0     42\n",
       "3.0     42\n",
       "Name: count, dtype: int64"
      ]
     },
     "execution_count": 38,
     "metadata": {},
     "output_type": "execute_result"
    }
   ],
   "source": [
    "df['plot_order'].value_counts() "
   ]
  },
  {
   "cell_type": "code",
   "execution_count": null,
   "id": "9441fa98",
   "metadata": {},
   "outputs": [],
   "source": []
  }
 ],
 "metadata": {
  "kernelspec": {
   "display_name": "Python 3",
   "language": "python",
   "name": "python3"
  },
  "language_info": {
   "codemirror_mode": {
    "name": "ipython",
    "version": 3
   },
   "file_extension": ".py",
   "mimetype": "text/x-python",
   "name": "python",
   "nbconvert_exporter": "python",
   "pygments_lexer": "ipython3",
   "version": "3.13.3"
  }
 },
 "nbformat": 4,
 "nbformat_minor": 5
}
