{
 "cells": [
  {
   "cell_type": "markdown",
   "id": "be66d8ea",
   "metadata": {},
   "source": [
    "# Women's imprisonment\n",
    "## Criminal Justice Statistics Police Force Area: Custodial sentence lengths chart"
   ]
  },
  {
   "cell_type": "code",
   "execution_count": 1,
   "id": "3d606adf",
   "metadata": {},
   "outputs": [],
   "source": [
    "%load_ext autoreload\n",
    "%autoreload 2"
   ]
  },
  {
   "cell_type": "markdown",
   "id": "76a4090c",
   "metadata": {},
   "source": [
    "## Testing `Chart1_Use_of_imprisonment_PFAs.py`"
   ]
  },
  {
   "cell_type": "code",
   "execution_count": 4,
   "id": "8e6ac4a9",
   "metadata": {},
   "outputs": [],
   "source": [
    "from src.visualization import Chart1_Use_of_imprisonment_PFAs as chart1"
   ]
  },
  {
   "cell_type": "code",
   "execution_count": 7,
   "id": "4b83f75e",
   "metadata": {},
   "outputs": [
    {
     "name": "stderr",
     "output_type": "stream",
     "text": [
      "2025-06-12 16:30:18,458 - INFO - Loaded data from data/processed/women_cust_sentence_len_FINAL.csv\n",
      "2025-06-12 16:30:18,484 - INFO - Adding chart annotations...\n",
      "2025-06-12 16:30:18,485 - INFO - Setting trace labels...\n",
      "2025-06-12 16:30:18,486 - INFO - Label index: {0}, Adjustment: {0}\n",
      "2025-06-12 16:30:18,491 - INFO - Setting source annotation...\n",
      "2025-06-12 16:30:18,496 - INFO - Annotations added successfully.\n"
     ]
    },
    {
     "data": {
      "application/vnd.plotly.v1+json": {
       "config": {
        "plotlyServerURL": "https://plot.ly"
       },
       "data": [
        {
         "hovertemplate": "%{y}<extra></extra>",
         "meta": "Avon and Somerset",
         "mode": "lines",
         "name": "Less than 6 months",
         "type": "scatter",
         "x": {
          "bdata": "2gfbB9wH3QfeB98H4AfhB+IH4wfkB+UH5gfnB+gH",
          "dtype": "i2"
         },
         "y": {
          "bdata": "cQCOAHgAhwCPAH4AaQBcAGIAWgBQAD0APgBdAHUA",
          "dtype": "i2"
         }
        },
        {
         "hovertemplate": "%{y}<extra></extra>",
         "meta": "Avon and Somerset",
         "mode": "lines",
         "name": "6 months—<br>less than 12 months",
         "type": "scatter",
         "x": {
          "bdata": "2gfbB9wH3QfeB98H4AfhB+IH4wfkB+UH5gfnB+gH",
          "dtype": "i2"
         },
         "y": {
          "bdata": "EBUMCw4ICwUPGAgICwYM",
          "dtype": "i1"
         }
        },
        {
         "hovertemplate": "%{y}<extra></extra>",
         "meta": "Avon and Somerset",
         "mode": "lines",
         "name": "12 months or more",
         "type": "scatter",
         "x": {
          "bdata": "2gfbB9wH3QfeB98H4AfhB+IH4wfkB+UH5gfnB+gH",
          "dtype": "i2"
         },
         "y": {
          "bdata": "MS4mIyciMQkmJxMZKBUY",
          "dtype": "i1"
         }
        }
       ],
       "layout": {
        "annotations": [
         {
          "align": "left",
          "font": {
           "color": "#A01D28",
           "size": 10
          },
          "showarrow": false,
          "text": "Less than 6 months",
          "x": 2024,
          "xanchor": "left",
          "xref": "x",
          "y": 117,
          "yanchor": "bottom",
          "yref": "y"
         },
         {
          "align": "left",
          "font": {
           "color": "#499CC9",
           "size": 10
          },
          "showarrow": false,
          "text": "6 months—<br>less than 12 months",
          "x": 2024,
          "xanchor": "left",
          "xref": "x",
          "y": 0,
          "yanchor": "bottom",
          "yref": "y"
         },
         {
          "align": "left",
          "font": {
           "color": "#F9A237",
           "size": 10
          },
          "showarrow": false,
          "text": "12 months or more",
          "x": 2024,
          "xanchor": "left",
          "xref": "x",
          "y": 24,
          "yanchor": "bottom",
          "yref": "y"
         },
         {
          "align": "left",
          "font": {
           "size": 12
          },
          "showarrow": false,
          "text": "Source: Ministry of Justice, Criminal justice statistics",
          "x": 0,
          "xanchor": "left",
          "xref": "paper",
          "y": -0.1,
          "yanchor": "top",
          "yref": "paper"
         },
         {
          "font": {
           "size": 14
          },
          "showarrow": false,
          "text": "Women sentenced to custody",
          "x": 0,
          "xanchor": "left",
          "xref": "paper",
          "y": 1,
          "yanchor": "bottom",
          "yref": "paper"
         }
        ],
        "hovermode": "x",
        "template": {
         "data": {
          "scatter": [
           {
            "line": {
             "width": 4
            },
            "marker": {
             "size": 10
            },
            "type": "scatter"
           }
          ]
         },
         "layout": {
          "colorway": [
           "#A01D28",
           "#499CC9",
           "#F9A237",
           "#6FBA3A",
           "#573D6B"
          ],
          "dragmode": false,
          "font": {
           "color": "#54565B",
           "family": "Helvetica Neue, Arial",
           "size": 14
          },
          "height": 360,
          "margin": {
           "b": 75,
           "l": 63,
           "r": 100
          },
          "modebar": {
           "activecolor": "#A01D28"
          },
          "paper_bgcolor": "rgba(1,1,1,0)",
          "plot_bgcolor": "rgba(1,1,1,0)",
          "showlegend": false,
          "title": {
           "font": {
            "family": "Helvetica Neue, Arial",
            "size": 20
           },
           "y": 0.94,
           "yanchor": "bottom"
          },
          "width": 655,
          "xaxis": {
           "gridcolor": "rgba(84, 86, 91, 0.15)",
           "showgrid": false,
           "tickcolor": "#54565B",
           "ticks": "inside"
          },
          "yaxis": {
           "gridcolor": "rgba(84, 86, 91, 0.15)"
          }
         }
        },
        "title": {
         "automargin": true,
         "text": "<b>Use of immediate imprisonment for women in<br>Avon and Somerset 2010—2024</b>",
         "x": 0,
         "xanchor": "left",
         "yref": "container"
        },
        "xaxis": {
         "dtick": 2,
         "range": [
          2009.7,
          2024.3
         ],
         "tick0": 2010
        },
        "yaxis": {
         "range": [
          0,
          210
         ],
         "tick0": 0,
         "tickformat": ",.0f",
         "title": {
          "text": ""
         }
        }
       }
      }
     },
     "metadata": {},
     "output_type": "display_data"
    }
   ],
   "source": [
    "chart1.test_chart()"
   ]
  },
  {
   "cell_type": "code",
   "execution_count": 9,
   "id": "c7ed6e9e",
   "metadata": {},
   "outputs": [
    {
     "name": "stderr",
     "output_type": "stream",
     "text": [
      "2025-06-12 16:37:32,447 - INFO - Loaded data from data/processed/women_cust_sentence_len_FINAL.csv\n",
      "2025-06-12 16:37:32,472 - INFO - Adding chart annotations...\n",
      "2025-06-12 16:37:32,474 - INFO - Setting trace labels...\n",
      "2025-06-12 16:37:32,476 - INFO - Label index: {0}, Adjustment: {0}\n",
      "2025-06-12 16:37:32,515 - INFO - Setting source annotation...\n",
      "2025-06-12 16:37:32,546 - INFO - Annotations added successfully.\n"
     ]
    },
    {
     "data": {
      "application/vnd.plotly.v1+json": {
       "config": {
        "plotlyServerURL": "https://plot.ly"
       },
       "data": [
        {
         "hovertemplate": "%{y}<extra></extra>",
         "meta": "Avon and Somerset",
         "mode": "lines",
         "name": "Less than 6 months",
         "type": "scatter",
         "x": {
          "bdata": "2gfbB9wH3QfeB98H4AfhB+IH4wfkB+UH5gfnB+gH",
          "dtype": "i2"
         },
         "y": {
          "bdata": "cQCOAHgAhwCPAH4AaQBcAGIAWgBQAD0APgBdAHUA",
          "dtype": "i2"
         }
        },
        {
         "hovertemplate": "%{y}<extra></extra>",
         "meta": "Avon and Somerset",
         "mode": "lines",
         "name": "6 months—<br>less than 12 months",
         "type": "scatter",
         "x": {
          "bdata": "2gfbB9wH3QfeB98H4AfhB+IH4wfkB+UH5gfnB+gH",
          "dtype": "i2"
         },
         "y": {
          "bdata": "EBUMCw4ICwUPGAgICwYM",
          "dtype": "i1"
         }
        },
        {
         "hovertemplate": "%{y}<extra></extra>",
         "meta": "Avon and Somerset",
         "mode": "lines",
         "name": "12 months or more",
         "type": "scatter",
         "x": {
          "bdata": "2gfbB9wH3QfeB98H4AfhB+IH4wfkB+UH5gfnB+gH",
          "dtype": "i2"
         },
         "y": {
          "bdata": "MS4mIyciMQkmJxMZKBUY",
          "dtype": "i1"
         }
        }
       ],
       "layout": {
        "annotations": [
         {
          "align": "left",
          "font": {
           "color": "#A01D28",
           "size": 10
          },
          "showarrow": false,
          "text": "Less than 6 months",
          "x": 2024,
          "xanchor": "left",
          "xref": "x",
          "y": 117,
          "yanchor": "bottom",
          "yref": "y"
         },
         {
          "align": "left",
          "font": {
           "color": "#499CC9",
           "size": 10
          },
          "showarrow": false,
          "text": "6 months—<br>less than 12 months",
          "x": 2024,
          "xanchor": "left",
          "xref": "x",
          "y": 0,
          "yanchor": "bottom",
          "yref": "y"
         },
         {
          "align": "left",
          "font": {
           "color": "#F9A237",
           "size": 10
          },
          "showarrow": false,
          "text": "12 months or more",
          "x": 2024,
          "xanchor": "left",
          "xref": "x",
          "y": 24,
          "yanchor": "bottom",
          "yref": "y"
         },
         {
          "align": "left",
          "font": {
           "size": 12
          },
          "showarrow": false,
          "text": "Source: Ministry of Justice, Criminal justice statistics",
          "x": 0,
          "xanchor": "left",
          "xref": "paper",
          "y": -0.1,
          "yanchor": "top",
          "yref": "paper"
         },
         {
          "font": {
           "size": 14
          },
          "showarrow": false,
          "text": "Women sentenced to custody",
          "x": 0,
          "xanchor": "left",
          "xref": "paper",
          "y": 1,
          "yanchor": "bottom",
          "yref": "paper"
         }
        ],
        "hovermode": "x",
        "template": {
         "data": {
          "scatter": [
           {
            "line": {
             "width": 4
            },
            "marker": {
             "size": 10
            },
            "type": "scatter"
           }
          ]
         },
         "layout": {
          "colorway": [
           "#A01D28",
           "#499CC9",
           "#F9A237",
           "#6FBA3A",
           "#573D6B"
          ],
          "dragmode": false,
          "font": {
           "color": "#54565B",
           "family": "Helvetica Neue, Arial",
           "size": 14
          },
          "height": 360,
          "margin": {
           "b": 75,
           "l": 63,
           "r": 100
          },
          "modebar": {
           "activecolor": "#A01D28"
          },
          "paper_bgcolor": "rgba(1,1,1,0)",
          "plot_bgcolor": "rgba(1,1,1,0)",
          "showlegend": false,
          "title": {
           "font": {
            "family": "Helvetica Neue, Arial",
            "size": 20
           },
           "y": 0.94,
           "yanchor": "bottom"
          },
          "width": 655,
          "xaxis": {
           "gridcolor": "rgba(84, 86, 91, 0.15)",
           "showgrid": false,
           "tickcolor": "#54565B",
           "ticks": "inside"
          },
          "yaxis": {
           "gridcolor": "rgba(84, 86, 91, 0.15)"
          }
         }
        },
        "title": {
         "automargin": true,
         "text": "<b>Use of immediate imprisonment for women in<br>Avon and Somerset 2010—2024</b>",
         "x": 0,
         "xanchor": "left",
         "yref": "container"
        },
        "xaxis": {
         "dtick": 2,
         "range": [
          2009.7,
          2024.3
         ],
         "tick0": 2010
        },
        "yaxis": {
         "range": [
          0,
          210
         ],
         "tick0": 0,
         "tickformat": ",.0f",
         "title": {
          "text": ""
         }
        }
       }
      }
     },
     "metadata": {},
     "output_type": "display_data"
    },
    {
     "name": "stderr",
     "output_type": "stream",
     "text": [
      "2025-06-12 16:37:32,566 - INFO - Adding chart annotations...\n",
      "2025-06-12 16:37:32,567 - INFO - Setting trace labels...\n",
      "2025-06-12 16:37:32,568 - INFO - Label index: {0}, Adjustment: {0}\n",
      "2025-06-12 16:37:32,573 - INFO - Setting source annotation...\n",
      "2025-06-12 16:37:32,578 - INFO - Annotations added successfully.\n"
     ]
    },
    {
     "data": {
      "application/vnd.plotly.v1+json": {
       "config": {
        "plotlyServerURL": "https://plot.ly"
       },
       "data": [
        {
         "hovertemplate": "%{y}<extra></extra>",
         "meta": "Bedfordshire",
         "mode": "lines",
         "name": "Less than 6 months",
         "type": "scatter",
         "x": {
          "bdata": "2gfbB9wH3QfeB98H4AfhB+IH4wfkB+UH5gfnB+gH",
          "dtype": "i2"
         },
         "y": {
          "bdata": "MSwlIzAyISIZGA4KFBUX",
          "dtype": "i1"
         }
        },
        {
         "hovertemplate": "%{y}<extra></extra>",
         "meta": "Bedfordshire",
         "mode": "lines",
         "name": "6 months—<br>less than 12 months",
         "type": "scatter",
         "x": {
          "bdata": "2gfbB9wH3QfeB98H4AfhB+IH4wfkB+UH5gfnB+gH",
          "dtype": "i2"
         },
         "y": {
          "bdata": "EhUIAgQFBQMEAgMEBAMB",
          "dtype": "i1"
         }
        },
        {
         "hovertemplate": "%{y}<extra></extra>",
         "meta": "Bedfordshire",
         "mode": "lines",
         "name": "12 months or more",
         "type": "scatter",
         "x": {
          "bdata": "2gfbB9wH3QfeB98H4AfhB+IH4wfkB+UH5gfnB+gH",
          "dtype": "i2"
         },
         "y": {
          "bdata": "JBUoBhQZEwkMCAgFDRAL",
          "dtype": "i1"
         }
        }
       ],
       "layout": {
        "annotations": [
         {
          "align": "left",
          "font": {
           "color": "#A01D28",
           "size": 10
          },
          "showarrow": false,
          "text": "Less than 6 months",
          "x": 2024,
          "xanchor": "left",
          "xref": "x",
          "y": 23,
          "yanchor": "bottom",
          "yref": "y"
         },
         {
          "align": "left",
          "font": {
           "color": "#499CC9",
           "size": 10
          },
          "showarrow": false,
          "text": "6 months—<br>less than 12 months",
          "x": 2024,
          "xanchor": "left",
          "xref": "x",
          "y": 0,
          "yanchor": "bottom",
          "yref": "y"
         },
         {
          "align": "left",
          "font": {
           "color": "#F9A237",
           "size": 10
          },
          "showarrow": false,
          "text": "12 months or more",
          "x": 2024,
          "xanchor": "left",
          "xref": "x",
          "y": 11,
          "yanchor": "bottom",
          "yref": "y"
         },
         {
          "align": "left",
          "font": {
           "size": 12
          },
          "showarrow": false,
          "text": "Source: Ministry of Justice, Criminal justice statistics",
          "x": 0,
          "xanchor": "left",
          "xref": "paper",
          "y": -0.1,
          "yanchor": "top",
          "yref": "paper"
         },
         {
          "font": {
           "size": 14
          },
          "showarrow": false,
          "text": "Women sentenced to custody",
          "x": 0,
          "xanchor": "left",
          "xref": "paper",
          "y": 1,
          "yanchor": "bottom",
          "yref": "paper"
         }
        ],
        "hovermode": "x",
        "template": {
         "data": {
          "scatter": [
           {
            "line": {
             "width": 4
            },
            "marker": {
             "size": 10
            },
            "type": "scatter"
           }
          ]
         },
         "layout": {
          "colorway": [
           "#A01D28",
           "#499CC9",
           "#F9A237",
           "#6FBA3A",
           "#573D6B"
          ],
          "dragmode": false,
          "font": {
           "color": "#54565B",
           "family": "Helvetica Neue, Arial",
           "size": 14
          },
          "height": 360,
          "margin": {
           "b": 75,
           "l": 63,
           "r": 100
          },
          "modebar": {
           "activecolor": "#A01D28"
          },
          "paper_bgcolor": "rgba(1,1,1,0)",
          "plot_bgcolor": "rgba(1,1,1,0)",
          "showlegend": false,
          "title": {
           "font": {
            "family": "Helvetica Neue, Arial",
            "size": 20
           },
           "y": 0.94,
           "yanchor": "bottom"
          },
          "width": 655,
          "xaxis": {
           "gridcolor": "rgba(84, 86, 91, 0.15)",
           "showgrid": false,
           "tickcolor": "#54565B",
           "ticks": "inside"
          },
          "yaxis": {
           "gridcolor": "rgba(84, 86, 91, 0.15)"
          }
         }
        },
        "title": {
         "automargin": true,
         "text": "<b>Use of immediate imprisonment for women in<br>Bedfordshire 2010—2024</b>",
         "x": 0,
         "xanchor": "left",
         "yref": "container"
        },
        "xaxis": {
         "dtick": 2,
         "range": [
          2009.7,
          2024.3
         ],
         "tick0": 2010
        },
        "yaxis": {
         "range": [
          0,
          52
         ],
         "tick0": 0,
         "tickformat": ",.0f",
         "title": {
          "text": ""
         }
        }
       }
      }
     },
     "metadata": {},
     "output_type": "display_data"
    },
    {
     "name": "stderr",
     "output_type": "stream",
     "text": [
      "2025-06-12 16:37:32,596 - INFO - Adding chart annotations...\n",
      "2025-06-12 16:37:32,596 - INFO - Setting trace labels...\n",
      "2025-06-12 16:37:32,597 - INFO - Label index: {0}, Adjustment: {0}\n",
      "2025-06-12 16:37:32,602 - INFO - Setting source annotation...\n",
      "2025-06-12 16:37:32,607 - INFO - Annotations added successfully.\n"
     ]
    },
    {
     "data": {
      "application/vnd.plotly.v1+json": {
       "config": {
        "plotlyServerURL": "https://plot.ly"
       },
       "data": [
        {
         "hovertemplate": "%{y}<extra></extra>",
         "meta": "Cambridgeshire",
         "mode": "lines",
         "name": "Less than 6 months",
         "type": "scatter",
         "x": {
          "bdata": "2gfbB9wH3QfeB98H4AfhB+IH4wfkB+UH5gfnB+gH",
          "dtype": "i2"
         },
         "y": {
          "bdata": "bE5SVTc4VFJZPCwgLTg6",
          "dtype": "i1"
         }
        },
        {
         "hovertemplate": "%{y}<extra></extra>",
         "meta": "Cambridgeshire",
         "mode": "lines",
         "name": "6 months—<br>less than 12 months",
         "type": "scatter",
         "x": {
          "bdata": "2gfbB9wH3QfeB98H4AfhB+IH4wfkB+UH5gfnB+gH",
          "dtype": "i2"
         },
         "y": {
          "bdata": "EwwNEgcJCggICQgEDAUE",
          "dtype": "i1"
         }
        },
        {
         "hovertemplate": "%{y}<extra></extra>",
         "meta": "Cambridgeshire",
         "mode": "lines",
         "name": "12 months or more",
         "type": "scatter",
         "x": {
          "bdata": "2gfbB9wH3QfeB98H4AfhB+IH4wfkB+UH5gfnB+gH",
          "dtype": "i2"
         },
         "y": {
          "bdata": "GCQgHx8bGQwUFRgLDBQV",
          "dtype": "i1"
         }
        }
       ],
       "layout": {
        "annotations": [
         {
          "align": "left",
          "font": {
           "color": "#A01D28",
           "size": 10
          },
          "showarrow": false,
          "text": "Less than 6 months",
          "x": 2024,
          "xanchor": "left",
          "xref": "x",
          "y": 58,
          "yanchor": "bottom",
          "yref": "y"
         },
         {
          "align": "left",
          "font": {
           "color": "#499CC9",
           "size": 10
          },
          "showarrow": false,
          "text": "6 months—<br>less than 12 months",
          "x": 2024,
          "xanchor": "left",
          "xref": "x",
          "y": 0,
          "yanchor": "bottom",
          "yref": "y"
         },
         {
          "align": "left",
          "font": {
           "color": "#F9A237",
           "size": 10
          },
          "showarrow": false,
          "text": "12 months or more",
          "x": 2024,
          "xanchor": "left",
          "xref": "x",
          "y": 21,
          "yanchor": "bottom",
          "yref": "y"
         },
         {
          "align": "left",
          "font": {
           "size": 12
          },
          "showarrow": false,
          "text": "Source: Ministry of Justice, Criminal justice statistics",
          "x": 0,
          "xanchor": "left",
          "xref": "paper",
          "y": -0.1,
          "yanchor": "top",
          "yref": "paper"
         },
         {
          "font": {
           "size": 14
          },
          "showarrow": false,
          "text": "Women sentenced to custody",
          "x": 0,
          "xanchor": "left",
          "xref": "paper",
          "y": 1,
          "yanchor": "bottom",
          "yref": "paper"
         }
        ],
        "hovermode": "x",
        "template": {
         "data": {
          "scatter": [
           {
            "line": {
             "width": 4
            },
            "marker": {
             "size": 10
            },
            "type": "scatter"
           }
          ]
         },
         "layout": {
          "colorway": [
           "#A01D28",
           "#499CC9",
           "#F9A237",
           "#6FBA3A",
           "#573D6B"
          ],
          "dragmode": false,
          "font": {
           "color": "#54565B",
           "family": "Helvetica Neue, Arial",
           "size": 14
          },
          "height": 360,
          "margin": {
           "b": 75,
           "l": 63,
           "r": 100
          },
          "modebar": {
           "activecolor": "#A01D28"
          },
          "paper_bgcolor": "rgba(1,1,1,0)",
          "plot_bgcolor": "rgba(1,1,1,0)",
          "showlegend": false,
          "title": {
           "font": {
            "family": "Helvetica Neue, Arial",
            "size": 20
           },
           "y": 0.94,
           "yanchor": "bottom"
          },
          "width": 655,
          "xaxis": {
           "gridcolor": "rgba(84, 86, 91, 0.15)",
           "showgrid": false,
           "tickcolor": "#54565B",
           "ticks": "inside"
          },
          "yaxis": {
           "gridcolor": "rgba(84, 86, 91, 0.15)"
          }
         }
        },
        "title": {
         "automargin": true,
         "text": "<b>Use of immediate imprisonment for women in<br>Cambridgeshire 2010—2024</b>",
         "x": 0,
         "xanchor": "left",
         "yref": "container"
        },
        "xaxis": {
         "dtick": 2,
         "range": [
          2009.7,
          2024.3
         ],
         "tick0": 2010
        },
        "yaxis": {
         "range": [
          0,
          210
         ],
         "tick0": 0,
         "tickformat": ",.0f",
         "title": {
          "text": ""
         }
        }
       }
      }
     },
     "metadata": {},
     "output_type": "display_data"
    },
    {
     "name": "stderr",
     "output_type": "stream",
     "text": [
      "2025-06-12 16:37:32,628 - INFO - Adding chart annotations...\n",
      "2025-06-12 16:37:32,629 - INFO - Setting trace labels...\n",
      "2025-06-12 16:37:32,630 - INFO - Label index: {0}, Adjustment: {0}\n",
      "2025-06-12 16:37:32,634 - INFO - Setting source annotation...\n",
      "2025-06-12 16:37:32,726 - INFO - Annotations added successfully.\n"
     ]
    },
    {
     "data": {
      "application/vnd.plotly.v1+json": {
       "config": {
        "plotlyServerURL": "https://plot.ly"
       },
       "data": [
        {
         "hovertemplate": "%{y}<extra></extra>",
         "meta": "Cheshire",
         "mode": "lines",
         "name": "Less than 6 months",
         "type": "scatter",
         "x": {
          "bdata": "2gfbB9wH3QfeB98H4AfhB+IH4wfkB+UH5gfnB+gH",
          "dtype": "i2"
         },
         "y": {
          "bdata": "ZgBTAFcAUgB8AIMAfQB+AHIAYgBPADYAJwBCAEEA",
          "dtype": "i2"
         }
        },
        {
         "hovertemplate": "%{y}<extra></extra>",
         "meta": "Cheshire",
         "mode": "lines",
         "name": "6 months—<br>less than 12 months",
         "type": "scatter",
         "x": {
          "bdata": "2gfbB9wH3QfeB98H4AfhB+IH4wfkB+UH5gfnB+gH",
          "dtype": "i2"
         },
         "y": {
          "bdata": "CA0FCA4IDQgJCQkMCAYG",
          "dtype": "i1"
         }
        },
        {
         "hovertemplate": "%{y}<extra></extra>",
         "meta": "Cheshire",
         "mode": "lines",
         "name": "12 months or more",
         "type": "scatter",
         "x": {
          "bdata": "2gfbB9wH3QfeB98H4AfhB+IH4wfkB+UH5gfnB+gH",
          "dtype": "i2"
         },
         "y": {
          "bdata": "GB8cGB4oGw4lICAkEiQZ",
          "dtype": "i1"
         }
        }
       ],
       "layout": {
        "annotations": [
         {
          "align": "left",
          "font": {
           "color": "#A01D28",
           "size": 10
          },
          "showarrow": false,
          "text": "Less than 6 months",
          "x": 2024,
          "xanchor": "left",
          "xref": "x",
          "y": 65,
          "yanchor": "bottom",
          "yref": "y"
         },
         {
          "align": "left",
          "font": {
           "color": "#499CC9",
           "size": 10
          },
          "showarrow": false,
          "text": "6 months—<br>less than 12 months",
          "x": 2024,
          "xanchor": "left",
          "xref": "x",
          "y": 0,
          "yanchor": "bottom",
          "yref": "y"
         },
         {
          "align": "left",
          "font": {
           "color": "#F9A237",
           "size": 10
          },
          "showarrow": false,
          "text": "12 months or more",
          "x": 2024,
          "xanchor": "left",
          "xref": "x",
          "y": 25,
          "yanchor": "bottom",
          "yref": "y"
         },
         {
          "align": "left",
          "font": {
           "size": 12
          },
          "showarrow": false,
          "text": "Source: Ministry of Justice, Criminal justice statistics",
          "x": 0,
          "xanchor": "left",
          "xref": "paper",
          "y": -0.1,
          "yanchor": "top",
          "yref": "paper"
         },
         {
          "font": {
           "size": 14
          },
          "showarrow": false,
          "text": "Women sentenced to custody",
          "x": 0,
          "xanchor": "left",
          "xref": "paper",
          "y": 1,
          "yanchor": "bottom",
          "yref": "paper"
         }
        ],
        "hovermode": "x",
        "template": {
         "data": {
          "scatter": [
           {
            "line": {
             "width": 4
            },
            "marker": {
             "size": 10
            },
            "type": "scatter"
           }
          ]
         },
         "layout": {
          "colorway": [
           "#A01D28",
           "#499CC9",
           "#F9A237",
           "#6FBA3A",
           "#573D6B"
          ],
          "dragmode": false,
          "font": {
           "color": "#54565B",
           "family": "Helvetica Neue, Arial",
           "size": 14
          },
          "height": 360,
          "margin": {
           "b": 75,
           "l": 63,
           "r": 100
          },
          "modebar": {
           "activecolor": "#A01D28"
          },
          "paper_bgcolor": "rgba(1,1,1,0)",
          "plot_bgcolor": "rgba(1,1,1,0)",
          "showlegend": false,
          "title": {
           "font": {
            "family": "Helvetica Neue, Arial",
            "size": 20
           },
           "y": 0.94,
           "yanchor": "bottom"
          },
          "width": 655,
          "xaxis": {
           "gridcolor": "rgba(84, 86, 91, 0.15)",
           "showgrid": false,
           "tickcolor": "#54565B",
           "ticks": "inside"
          },
          "yaxis": {
           "gridcolor": "rgba(84, 86, 91, 0.15)"
          }
         }
        },
        "title": {
         "automargin": true,
         "text": "<b>Use of immediate imprisonment for women in<br>Cheshire 2010—2024</b>",
         "x": 0,
         "xanchor": "left",
         "yref": "container"
        },
        "xaxis": {
         "dtick": 2,
         "range": [
          2009.7,
          2024.3
         ],
         "tick0": 2010
        },
        "yaxis": {
         "range": [
          0,
          210
         ],
         "tick0": 0,
         "tickformat": ",.0f",
         "title": {
          "text": ""
         }
        }
       }
      }
     },
     "metadata": {},
     "output_type": "display_data"
    },
    {
     "name": "stderr",
     "output_type": "stream",
     "text": [
      "2025-06-12 16:37:32,745 - INFO - Adding chart annotations...\n",
      "2025-06-12 16:37:32,748 - INFO - Setting trace labels...\n",
      "2025-06-12 16:37:32,752 - INFO - Label index: {0}, Adjustment: {0}\n",
      "2025-06-12 16:37:32,767 - INFO - Setting source annotation...\n",
      "2025-06-12 16:37:32,789 - INFO - Annotations added successfully.\n"
     ]
    },
    {
     "data": {
      "application/vnd.plotly.v1+json": {
       "config": {
        "plotlyServerURL": "https://plot.ly"
       },
       "data": [
        {
         "hovertemplate": "%{y}<extra></extra>",
         "meta": "Cleveland",
         "mode": "lines",
         "name": "Less than 6 months",
         "type": "scatter",
         "x": {
          "bdata": "2gfbB9wH3QfeB98H4AfhB+IH4wfkB+UH5gfnB+gH",
          "dtype": "i2"
         },
         "y": {
          "bdata": "QgA1AEcAQABJADAARQBnAGwAPAAcADIAOABbAIoA",
          "dtype": "i2"
         }
        },
        {
         "hovertemplate": "%{y}<extra></extra>",
         "meta": "Cleveland",
         "mode": "lines",
         "name": "6 months—<br>less than 12 months",
         "type": "scatter",
         "x": {
          "bdata": "2gfbB9wH3QfeB98H4AfhB+IH4wfkB+UH5gfnB+gH",
          "dtype": "i2"
         },
         "y": {
          "bdata": "EgwKCgQJEQQFDAoIBQgO",
          "dtype": "i1"
         }
        },
        {
         "hovertemplate": "%{y}<extra></extra>",
         "meta": "Cleveland",
         "mode": "lines",
         "name": "12 months or more",
         "type": "scatter",
         "x": {
          "bdata": "2gfbB9wH3QfeB98H4AfhB+IH4wfkB+UH5gfnB+gH",
          "dtype": "i2"
         },
         "y": {
          "bdata": "MyIZIiQhIxYwHREmIyko",
          "dtype": "i1"
         }
        }
       ],
       "layout": {
        "annotations": [
         {
          "align": "left",
          "font": {
           "color": "#A01D28",
           "size": 10
          },
          "showarrow": false,
          "text": "Less than 6 months",
          "x": 2024,
          "xanchor": "left",
          "xref": "x",
          "y": 138,
          "yanchor": "bottom",
          "yref": "y"
         },
         {
          "align": "left",
          "font": {
           "color": "#499CC9",
           "size": 10
          },
          "showarrow": false,
          "text": "6 months—<br>less than 12 months",
          "x": 2024,
          "xanchor": "left",
          "xref": "x",
          "y": 0,
          "yanchor": "bottom",
          "yref": "y"
         },
         {
          "align": "left",
          "font": {
           "color": "#F9A237",
           "size": 10
          },
          "showarrow": false,
          "text": "12 months or more",
          "x": 2024,
          "xanchor": "left",
          "xref": "x",
          "y": 40,
          "yanchor": "bottom",
          "yref": "y"
         },
         {
          "align": "left",
          "font": {
           "size": 12
          },
          "showarrow": false,
          "text": "Source: Ministry of Justice, Criminal justice statistics",
          "x": 0,
          "xanchor": "left",
          "xref": "paper",
          "y": -0.1,
          "yanchor": "top",
          "yref": "paper"
         },
         {
          "font": {
           "size": 14
          },
          "showarrow": false,
          "text": "Women sentenced to custody",
          "x": 0,
          "xanchor": "left",
          "xref": "paper",
          "y": 1,
          "yanchor": "bottom",
          "yref": "paper"
         }
        ],
        "hovermode": "x",
        "template": {
         "data": {
          "scatter": [
           {
            "line": {
             "width": 4
            },
            "marker": {
             "size": 10
            },
            "type": "scatter"
           }
          ]
         },
         "layout": {
          "colorway": [
           "#A01D28",
           "#499CC9",
           "#F9A237",
           "#6FBA3A",
           "#573D6B"
          ],
          "dragmode": false,
          "font": {
           "color": "#54565B",
           "family": "Helvetica Neue, Arial",
           "size": 14
          },
          "height": 360,
          "margin": {
           "b": 75,
           "l": 63,
           "r": 100
          },
          "modebar": {
           "activecolor": "#A01D28"
          },
          "paper_bgcolor": "rgba(1,1,1,0)",
          "plot_bgcolor": "rgba(1,1,1,0)",
          "showlegend": false,
          "title": {
           "font": {
            "family": "Helvetica Neue, Arial",
            "size": 20
           },
           "y": 0.94,
           "yanchor": "bottom"
          },
          "width": 655,
          "xaxis": {
           "gridcolor": "rgba(84, 86, 91, 0.15)",
           "showgrid": false,
           "tickcolor": "#54565B",
           "ticks": "inside"
          },
          "yaxis": {
           "gridcolor": "rgba(84, 86, 91, 0.15)"
          }
         }
        },
        "title": {
         "automargin": true,
         "text": "<b>Use of immediate imprisonment for women in<br>Cleveland 2010—2024</b>",
         "x": 0,
         "xanchor": "left",
         "yref": "container"
        },
        "xaxis": {
         "dtick": 2,
         "range": [
          2009.7,
          2024.3
         ],
         "tick0": 2010
        },
        "yaxis": {
         "range": [
          0,
          210
         ],
         "tick0": 0,
         "tickformat": ",.0f",
         "title": {
          "text": ""
         }
        }
       }
      }
     },
     "metadata": {},
     "output_type": "display_data"
    },
    {
     "name": "stderr",
     "output_type": "stream",
     "text": [
      "2025-06-12 16:37:32,828 - INFO - Adding chart annotations...\n",
      "2025-06-12 16:37:32,829 - INFO - Setting trace labels...\n",
      "2025-06-12 16:37:32,831 - INFO - Label index: {0}, Adjustment: {0}\n",
      "2025-06-12 16:37:32,835 - INFO - Setting source annotation...\n",
      "2025-06-12 16:37:32,839 - INFO - Annotations added successfully.\n"
     ]
    },
    {
     "data": {
      "application/vnd.plotly.v1+json": {
       "config": {
        "plotlyServerURL": "https://plot.ly"
       },
       "data": [
        {
         "hovertemplate": "%{y}<extra></extra>",
         "meta": "Cumbria",
         "mode": "lines",
         "name": "Less than 6 months",
         "type": "scatter",
         "x": {
          "bdata": "2gfbB9wH3QfeB98H4AfhB+IH4wfkB+UH5gfnB+gH",
          "dtype": "i2"
         },
         "y": {
          "bdata": "NkU6MDw7PEFeMBsUEiQx",
          "dtype": "i1"
         }
        },
        {
         "hovertemplate": "%{y}<extra></extra>",
         "meta": "Cumbria",
         "mode": "lines",
         "name": "6 months—<br>less than 12 months",
         "type": "scatter",
         "x": {
          "bdata": "2gfbB9wH3QfeB98H4AfhB+IH4wfkB+UH5gfnB+gH",
          "dtype": "i2"
         },
         "y": {
          "bdata": "BgsIBwcFBwcIAwkCAQEI",
          "dtype": "i1"
         }
        },
        {
         "hovertemplate": "%{y}<extra></extra>",
         "meta": "Cumbria",
         "mode": "lines",
         "name": "12 months or more",
         "type": "scatter",
         "x": {
          "bdata": "2gfbB9wH3QfeB98H4AfhB+IH4wfkB+UH5gfnB+gH",
          "dtype": "i2"
         },
         "y": {
          "bdata": "ChIRFBIUDwgSFQURCBAL",
          "dtype": "i1"
         }
        }
       ],
       "layout": {
        "annotations": [
         {
          "align": "left",
          "font": {
           "color": "#A01D28",
           "size": 10
          },
          "showarrow": false,
          "text": "Less than 6 months",
          "x": 2024,
          "xanchor": "left",
          "xref": "x",
          "y": 49,
          "yanchor": "bottom",
          "yref": "y"
         },
         {
          "align": "left",
          "font": {
           "color": "#499CC9",
           "size": 10
          },
          "showarrow": false,
          "text": "6 months—<br>less than 12 months",
          "x": 2024,
          "xanchor": "left",
          "xref": "x",
          "y": 0,
          "yanchor": "bottom",
          "yref": "y"
         },
         {
          "align": "left",
          "font": {
           "color": "#F9A237",
           "size": 10
          },
          "showarrow": false,
          "text": "12 months or more",
          "x": 2024,
          "xanchor": "left",
          "xref": "x",
          "y": 11,
          "yanchor": "bottom",
          "yref": "y"
         },
         {
          "align": "left",
          "font": {
           "size": 12
          },
          "showarrow": false,
          "text": "Source: Ministry of Justice, Criminal justice statistics",
          "x": 0,
          "xanchor": "left",
          "xref": "paper",
          "y": -0.1,
          "yanchor": "top",
          "yref": "paper"
         },
         {
          "font": {
           "size": 14
          },
          "showarrow": false,
          "text": "Women sentenced to custody",
          "x": 0,
          "xanchor": "left",
          "xref": "paper",
          "y": 1,
          "yanchor": "bottom",
          "yref": "paper"
         }
        ],
        "hovermode": "x",
        "template": {
         "data": {
          "scatter": [
           {
            "line": {
             "width": 4
            },
            "marker": {
             "size": 10
            },
            "type": "scatter"
           }
          ]
         },
         "layout": {
          "colorway": [
           "#A01D28",
           "#499CC9",
           "#F9A237",
           "#6FBA3A",
           "#573D6B"
          ],
          "dragmode": false,
          "font": {
           "color": "#54565B",
           "family": "Helvetica Neue, Arial",
           "size": 14
          },
          "height": 360,
          "margin": {
           "b": 75,
           "l": 63,
           "r": 100
          },
          "modebar": {
           "activecolor": "#A01D28"
          },
          "paper_bgcolor": "rgba(1,1,1,0)",
          "plot_bgcolor": "rgba(1,1,1,0)",
          "showlegend": false,
          "title": {
           "font": {
            "family": "Helvetica Neue, Arial",
            "size": 20
           },
           "y": 0.94,
           "yanchor": "bottom"
          },
          "width": 655,
          "xaxis": {
           "gridcolor": "rgba(84, 86, 91, 0.15)",
           "showgrid": false,
           "tickcolor": "#54565B",
           "ticks": "inside"
          },
          "yaxis": {
           "gridcolor": "rgba(84, 86, 91, 0.15)"
          }
         }
        },
        "title": {
         "automargin": true,
         "text": "<b>Use of immediate imprisonment for women in<br>Cumbria 2010—2024</b>",
         "x": 0,
         "xanchor": "left",
         "yref": "container"
        },
        "xaxis": {
         "dtick": 2,
         "range": [
          2009.7,
          2024.3
         ],
         "tick0": 2010
        },
        "yaxis": {
         "range": [
          0,
          103
         ],
         "tick0": 0,
         "tickformat": ",.0f",
         "title": {
          "text": ""
         }
        }
       }
      }
     },
     "metadata": {},
     "output_type": "display_data"
    },
    {
     "name": "stderr",
     "output_type": "stream",
     "text": [
      "2025-06-12 16:37:32,856 - INFO - Adding chart annotations...\n",
      "2025-06-12 16:37:32,862 - INFO - Setting trace labels...\n",
      "2025-06-12 16:37:32,866 - INFO - Label index: {0}, Adjustment: {0}\n",
      "2025-06-12 16:37:32,888 - INFO - Setting source annotation...\n",
      "2025-06-12 16:37:32,910 - INFO - Annotations added successfully.\n"
     ]
    },
    {
     "data": {
      "application/vnd.plotly.v1+json": {
       "config": {
        "plotlyServerURL": "https://plot.ly"
       },
       "data": [
        {
         "hovertemplate": "%{y}<extra></extra>",
         "meta": "Derbyshire",
         "mode": "lines",
         "name": "Less than 6 months",
         "type": "scatter",
         "x": {
          "bdata": "2gfbB9wH3QfeB98H4AfhB+IH4wfkB+UH5gfnB+gH",
          "dtype": "i2"
         },
         "y": {
          "bdata": "VwBtAEwATgB9AIYAgwB4AIYAVwBaAFIAUgBMAFIA",
          "dtype": "i2"
         }
        },
        {
         "hovertemplate": "%{y}<extra></extra>",
         "meta": "Derbyshire",
         "mode": "lines",
         "name": "6 months—<br>less than 12 months",
         "type": "scatter",
         "x": {
          "bdata": "2gfbB9wH3QfeB98H4AfhB+IH4wfkB+UH5gfnB+gH",
          "dtype": "i2"
         },
         "y": {
          "bdata": "Cg8HDBEREAMJCxMSEQ8M",
          "dtype": "i1"
         }
        },
        {
         "hovertemplate": "%{y}<extra></extra>",
         "meta": "Derbyshire",
         "mode": "lines",
         "name": "12 months or more",
         "type": "scatter",
         "x": {
          "bdata": "2gfbB9wH3QfeB98H4AfhB+IH4wfkB+UH5gfnB+gH",
          "dtype": "i2"
         },
         "y": {
          "bdata": "IxofGhcXFwIaFhEVDRMS",
          "dtype": "i1"
         }
        }
       ],
       "layout": {
        "annotations": [
         {
          "align": "left",
          "font": {
           "color": "#A01D28",
           "size": 10
          },
          "showarrow": false,
          "text": "Less than 6 months",
          "x": 2024,
          "xanchor": "left",
          "xref": "x",
          "y": 82,
          "yanchor": "bottom",
          "yref": "y"
         },
         {
          "align": "left",
          "font": {
           "color": "#499CC9",
           "size": 10
          },
          "showarrow": false,
          "text": "6 months—<br>less than 12 months",
          "x": 2024,
          "xanchor": "left",
          "xref": "x",
          "y": 0,
          "yanchor": "bottom",
          "yref": "y"
         },
         {
          "align": "left",
          "font": {
           "color": "#F9A237",
           "size": 10
          },
          "showarrow": false,
          "text": "12 months or more",
          "x": 2024,
          "xanchor": "left",
          "xref": "x",
          "y": 18,
          "yanchor": "bottom",
          "yref": "y"
         },
         {
          "align": "left",
          "font": {
           "size": 12
          },
          "showarrow": false,
          "text": "Source: Ministry of Justice, Criminal justice statistics",
          "x": 0,
          "xanchor": "left",
          "xref": "paper",
          "y": -0.1,
          "yanchor": "top",
          "yref": "paper"
         },
         {
          "font": {
           "size": 14
          },
          "showarrow": false,
          "text": "Women sentenced to custody",
          "x": 0,
          "xanchor": "left",
          "xref": "paper",
          "y": 1,
          "yanchor": "bottom",
          "yref": "paper"
         }
        ],
        "hovermode": "x",
        "template": {
         "data": {
          "scatter": [
           {
            "line": {
             "width": 4
            },
            "marker": {
             "size": 10
            },
            "type": "scatter"
           }
          ]
         },
         "layout": {
          "colorway": [
           "#A01D28",
           "#499CC9",
           "#F9A237",
           "#6FBA3A",
           "#573D6B"
          ],
          "dragmode": false,
          "font": {
           "color": "#54565B",
           "family": "Helvetica Neue, Arial",
           "size": 14
          },
          "height": 360,
          "margin": {
           "b": 75,
           "l": 63,
           "r": 100
          },
          "modebar": {
           "activecolor": "#A01D28"
          },
          "paper_bgcolor": "rgba(1,1,1,0)",
          "plot_bgcolor": "rgba(1,1,1,0)",
          "showlegend": false,
          "title": {
           "font": {
            "family": "Helvetica Neue, Arial",
            "size": 20
           },
           "y": 0.94,
           "yanchor": "bottom"
          },
          "width": 655,
          "xaxis": {
           "gridcolor": "rgba(84, 86, 91, 0.15)",
           "showgrid": false,
           "tickcolor": "#54565B",
           "ticks": "inside"
          },
          "yaxis": {
           "gridcolor": "rgba(84, 86, 91, 0.15)"
          }
         }
        },
        "title": {
         "automargin": true,
         "text": "<b>Use of immediate imprisonment for women in<br>Derbyshire 2010—2024</b>",
         "x": 0,
         "xanchor": "left",
         "yref": "container"
        },
        "xaxis": {
         "dtick": 2,
         "range": [
          2009.7,
          2024.3
         ],
         "tick0": 2010
        },
        "yaxis": {
         "range": [
          0,
          210
         ],
         "tick0": 0,
         "tickformat": ",.0f",
         "title": {
          "text": ""
         }
        }
       }
      }
     },
     "metadata": {},
     "output_type": "display_data"
    },
    {
     "name": "stderr",
     "output_type": "stream",
     "text": [
      "2025-06-12 16:37:32,932 - INFO - Adding chart annotations...\n",
      "2025-06-12 16:37:32,933 - INFO - Setting trace labels...\n",
      "2025-06-12 16:37:32,936 - INFO - Label index: {0}, Adjustment: {0}\n",
      "2025-06-12 16:37:32,943 - INFO - Setting source annotation...\n",
      "2025-06-12 16:37:32,947 - INFO - Annotations added successfully.\n"
     ]
    },
    {
     "data": {
      "application/vnd.plotly.v1+json": {
       "config": {
        "plotlyServerURL": "https://plot.ly"
       },
       "data": [
        {
         "hovertemplate": "%{y}<extra></extra>",
         "meta": "Devon and Cornwall",
         "mode": "lines",
         "name": "Less than 6 months",
         "type": "scatter",
         "x": {
          "bdata": "2gfbB9wH3QfeB98H4AfhB+IH4wfkB+UH5gfnB+gH",
          "dtype": "i2"
         },
         "y": {
          "bdata": "TlBGQElUUVdQSUU3KUhS",
          "dtype": "i1"
         }
        },
        {
         "hovertemplate": "%{y}<extra></extra>",
         "meta": "Devon and Cornwall",
         "mode": "lines",
         "name": "6 months—<br>less than 12 months",
         "type": "scatter",
         "x": {
          "bdata": "2gfbB9wH3QfeB98H4AfhB+IH4wfkB+UH5gfnB+gH",
          "dtype": "i2"
         },
         "y": {
          "bdata": "CxYEDQwHBgINBw0NCwYL",
          "dtype": "i1"
         }
        },
        {
         "hovertemplate": "%{y}<extra></extra>",
         "meta": "Devon and Cornwall",
         "mode": "lines",
         "name": "12 months or more",
         "type": "scatter",
         "x": {
          "bdata": "2gfbB9wH3QfeB98H4AfhB+IH4wfkB+UH5gfnB+gH",
          "dtype": "i2"
         },
         "y": {
          "bdata": "MTYsIB8kIAQfHhcTDgoZ",
          "dtype": "i1"
         }
        }
       ],
       "layout": {
        "annotations": [
         {
          "align": "left",
          "font": {
           "color": "#A01D28",
           "size": 10
          },
          "showarrow": false,
          "text": "Less than 6 months",
          "x": 2024,
          "xanchor": "left",
          "xref": "x",
          "y": 82,
          "yanchor": "bottom",
          "yref": "y"
         },
         {
          "align": "left",
          "font": {
           "color": "#499CC9",
           "size": 10
          },
          "showarrow": false,
          "text": "6 months—<br>less than 12 months",
          "x": 2024,
          "xanchor": "left",
          "xref": "x",
          "y": 0,
          "yanchor": "bottom",
          "yref": "y"
         },
         {
          "align": "left",
          "font": {
           "color": "#F9A237",
           "size": 10
          },
          "showarrow": false,
          "text": "12 months or more",
          "x": 2024,
          "xanchor": "left",
          "xref": "x",
          "y": 25,
          "yanchor": "bottom",
          "yref": "y"
         },
         {
          "align": "left",
          "font": {
           "size": 12
          },
          "showarrow": false,
          "text": "Source: Ministry of Justice, Criminal justice statistics",
          "x": 0,
          "xanchor": "left",
          "xref": "paper",
          "y": -0.1,
          "yanchor": "top",
          "yref": "paper"
         },
         {
          "font": {
           "size": 14
          },
          "showarrow": false,
          "text": "Women sentenced to custody",
          "x": 0,
          "xanchor": "left",
          "xref": "paper",
          "y": 1,
          "yanchor": "bottom",
          "yref": "paper"
         }
        ],
        "hovermode": "x",
        "template": {
         "data": {
          "scatter": [
           {
            "line": {
             "width": 4
            },
            "marker": {
             "size": 10
            },
            "type": "scatter"
           }
          ]
         },
         "layout": {
          "colorway": [
           "#A01D28",
           "#499CC9",
           "#F9A237",
           "#6FBA3A",
           "#573D6B"
          ],
          "dragmode": false,
          "font": {
           "color": "#54565B",
           "family": "Helvetica Neue, Arial",
           "size": 14
          },
          "height": 360,
          "margin": {
           "b": 75,
           "l": 63,
           "r": 100
          },
          "modebar": {
           "activecolor": "#A01D28"
          },
          "paper_bgcolor": "rgba(1,1,1,0)",
          "plot_bgcolor": "rgba(1,1,1,0)",
          "showlegend": false,
          "title": {
           "font": {
            "family": "Helvetica Neue, Arial",
            "size": 20
           },
           "y": 0.94,
           "yanchor": "bottom"
          },
          "width": 655,
          "xaxis": {
           "gridcolor": "rgba(84, 86, 91, 0.15)",
           "showgrid": false,
           "tickcolor": "#54565B",
           "ticks": "inside"
          },
          "yaxis": {
           "gridcolor": "rgba(84, 86, 91, 0.15)"
          }
         }
        },
        "title": {
         "automargin": true,
         "text": "<b>Use of immediate imprisonment for women in<br>Devon and Cornwall 2010—2024</b>",
         "x": 0,
         "xanchor": "left",
         "yref": "container"
        },
        "xaxis": {
         "dtick": 2,
         "range": [
          2009.7,
          2024.3
         ],
         "tick0": 2010
        },
        "yaxis": {
         "range": [
          0,
          103
         ],
         "tick0": 0,
         "tickformat": ",.0f",
         "title": {
          "text": ""
         }
        }
       }
      }
     },
     "metadata": {},
     "output_type": "display_data"
    },
    {
     "name": "stderr",
     "output_type": "stream",
     "text": [
      "2025-06-12 16:37:32,971 - INFO - Adding chart annotations...\n",
      "2025-06-12 16:37:32,972 - INFO - Setting trace labels...\n",
      "2025-06-12 16:37:32,973 - INFO - Label index: {0}, Adjustment: {0}\n",
      "2025-06-12 16:37:32,979 - INFO - Setting source annotation...\n",
      "2025-06-12 16:37:32,983 - INFO - Annotations added successfully.\n"
     ]
    },
    {
     "data": {
      "application/vnd.plotly.v1+json": {
       "config": {
        "plotlyServerURL": "https://plot.ly"
       },
       "data": [
        {
         "hovertemplate": "%{y}<extra></extra>",
         "meta": "Dorset",
         "mode": "lines",
         "name": "Less than 6 months",
         "type": "scatter",
         "x": {
          "bdata": "2gfbB9wH3QfeB98H4AfhB+IH4wfkB+UH5gfnB+gH",
          "dtype": "i2"
         },
         "y": {
          "bdata": "MxwhGCQxKCgjLBgPCh0c",
          "dtype": "i1"
         }
        },
        {
         "hovertemplate": "%{y}<extra></extra>",
         "meta": "Dorset",
         "mode": "lines",
         "name": "6 months—<br>less than 12 months",
         "type": "scatter",
         "x": {
          "bdata": "2gfbB9wH3QfeB98H4AfiB+MH5AflB+YH5wfoBw==",
          "dtype": "i2"
         },
         "y": {
          "bdata": "BgMFCAUHAwcDAQYDBAM=",
          "dtype": "i1"
         }
        },
        {
         "hovertemplate": "%{y}<extra></extra>",
         "meta": "Dorset",
         "mode": "lines",
         "name": "12 months or more",
         "type": "scatter",
         "x": {
          "bdata": "2gfbB9wH3QfeB98H4AfhB+IH4wfkB+UH5gfnB+gH",
          "dtype": "i2"
         },
         "y": {
          "bdata": "EAUJDREJCwYMEAsOCQ4N",
          "dtype": "i1"
         }
        }
       ],
       "layout": {
        "annotations": [
         {
          "align": "left",
          "font": {
           "color": "#A01D28",
           "size": 10
          },
          "showarrow": false,
          "text": "Less than 6 months",
          "x": 2024,
          "xanchor": "left",
          "xref": "x",
          "y": 28,
          "yanchor": "bottom",
          "yref": "y"
         },
         {
          "align": "left",
          "font": {
           "color": "#499CC9",
           "size": 10
          },
          "showarrow": false,
          "text": "6 months—<br>less than 12 months",
          "x": 2024,
          "xanchor": "left",
          "xref": "x",
          "y": 0,
          "yanchor": "bottom",
          "yref": "y"
         },
         {
          "align": "left",
          "font": {
           "color": "#F9A237",
           "size": 10
          },
          "showarrow": false,
          "text": "12 months or more",
          "x": 2024,
          "xanchor": "left",
          "xref": "x",
          "y": 13,
          "yanchor": "bottom",
          "yref": "y"
         },
         {
          "align": "left",
          "font": {
           "size": 12
          },
          "showarrow": false,
          "text": "Source: Ministry of Justice, Criminal justice statistics",
          "x": 0,
          "xanchor": "left",
          "xref": "paper",
          "y": -0.1,
          "yanchor": "top",
          "yref": "paper"
         },
         {
          "font": {
           "size": 14
          },
          "showarrow": false,
          "text": "Women sentenced to custody",
          "x": 0,
          "xanchor": "left",
          "xref": "paper",
          "y": 1,
          "yanchor": "bottom",
          "yref": "paper"
         }
        ],
        "hovermode": "x",
        "template": {
         "data": {
          "scatter": [
           {
            "line": {
             "width": 4
            },
            "marker": {
             "size": 10
            },
            "type": "scatter"
           }
          ]
         },
         "layout": {
          "colorway": [
           "#A01D28",
           "#499CC9",
           "#F9A237",
           "#6FBA3A",
           "#573D6B"
          ],
          "dragmode": false,
          "font": {
           "color": "#54565B",
           "family": "Helvetica Neue, Arial",
           "size": 14
          },
          "height": 360,
          "margin": {
           "b": 75,
           "l": 63,
           "r": 100
          },
          "modebar": {
           "activecolor": "#A01D28"
          },
          "paper_bgcolor": "rgba(1,1,1,0)",
          "plot_bgcolor": "rgba(1,1,1,0)",
          "showlegend": false,
          "title": {
           "font": {
            "family": "Helvetica Neue, Arial",
            "size": 20
           },
           "y": 0.94,
           "yanchor": "bottom"
          },
          "width": 655,
          "xaxis": {
           "gridcolor": "rgba(84, 86, 91, 0.15)",
           "showgrid": false,
           "tickcolor": "#54565B",
           "ticks": "inside"
          },
          "yaxis": {
           "gridcolor": "rgba(84, 86, 91, 0.15)"
          }
         }
        },
        "title": {
         "automargin": true,
         "text": "<b>Use of immediate imprisonment for women in<br>Dorset 2010—2024</b>",
         "x": 0,
         "xanchor": "left",
         "yref": "container"
        },
        "xaxis": {
         "dtick": 2,
         "range": [
          2009.7,
          2024.3
         ],
         "tick0": 2010
        },
        "yaxis": {
         "range": [
          0,
          52
         ],
         "tick0": 0,
         "tickformat": ",.0f",
         "title": {
          "text": ""
         }
        }
       }
      }
     },
     "metadata": {},
     "output_type": "display_data"
    },
    {
     "name": "stderr",
     "output_type": "stream",
     "text": [
      "2025-06-12 16:37:33,002 - INFO - Adding chart annotations...\n",
      "2025-06-12 16:37:33,003 - INFO - Setting trace labels...\n",
      "2025-06-12 16:37:33,004 - INFO - Label index: {0}, Adjustment: {0}\n",
      "2025-06-12 16:37:33,009 - INFO - Setting source annotation...\n",
      "2025-06-12 16:37:33,015 - INFO - Annotations added successfully.\n"
     ]
    },
    {
     "data": {
      "application/vnd.plotly.v1+json": {
       "config": {
        "plotlyServerURL": "https://plot.ly"
       },
       "data": [
        {
         "hovertemplate": "%{y}<extra></extra>",
         "meta": "Durham",
         "mode": "lines",
         "name": "Less than 6 months",
         "type": "scatter",
         "x": {
          "bdata": "2gfbB9wH3QfeB98H4AfhB+IH4wfkB+UH5gfnB+gH",
          "dtype": "i2"
         },
         "y": {
          "bdata": "LyQxODcyNSgwGh4aKTA0",
          "dtype": "i1"
         }
        },
        {
         "hovertemplate": "%{y}<extra></extra>",
         "meta": "Durham",
         "mode": "lines",
         "name": "6 months—<br>less than 12 months",
         "type": "scatter",
         "x": {
          "bdata": "2gfbB9wH3QfeB98H4AfiB+MH5AflB+YH5wfoBw==",
          "dtype": "i2"
         },
         "y": {
          "bdata": "CAYEBgUGCAQCBQQDAQo=",
          "dtype": "i1"
         }
        },
        {
         "hovertemplate": "%{y}<extra></extra>",
         "meta": "Durham",
         "mode": "lines",
         "name": "12 months or more",
         "type": "scatter",
         "x": {
          "bdata": "2gfbB9wH3QfeB98H4AfhB+IH4wfkB+UH5gfnB+gH",
          "dtype": "i2"
         },
         "y": {
          "bdata": "DQoNCA8PCgIOCRcRDQsJ",
          "dtype": "i1"
         }
        }
       ],
       "layout": {
        "annotations": [
         {
          "align": "left",
          "font": {
           "color": "#A01D28",
           "size": 10
          },
          "showarrow": false,
          "text": "Less than 6 months",
          "x": 2024,
          "xanchor": "left",
          "xref": "x",
          "y": 52,
          "yanchor": "bottom",
          "yref": "y"
         },
         {
          "align": "left",
          "font": {
           "color": "#499CC9",
           "size": 10
          },
          "showarrow": false,
          "text": "6 months—<br>less than 12 months",
          "x": 2024,
          "xanchor": "left",
          "xref": "x",
          "y": 0,
          "yanchor": "bottom",
          "yref": "y"
         },
         {
          "align": "left",
          "font": {
           "color": "#F9A237",
           "size": 10
          },
          "showarrow": false,
          "text": "12 months or more",
          "x": 2024,
          "xanchor": "left",
          "xref": "x",
          "y": 9,
          "yanchor": "bottom",
          "yref": "y"
         },
         {
          "align": "left",
          "font": {
           "size": 12
          },
          "showarrow": false,
          "text": "Source: Ministry of Justice, Criminal justice statistics",
          "x": 0,
          "xanchor": "left",
          "xref": "paper",
          "y": -0.1,
          "yanchor": "top",
          "yref": "paper"
         },
         {
          "font": {
           "size": 14
          },
          "showarrow": false,
          "text": "Women sentenced to custody",
          "x": 0,
          "xanchor": "left",
          "xref": "paper",
          "y": 1,
          "yanchor": "bottom",
          "yref": "paper"
         }
        ],
        "hovermode": "x",
        "template": {
         "data": {
          "scatter": [
           {
            "line": {
             "width": 4
            },
            "marker": {
             "size": 10
            },
            "type": "scatter"
           }
          ]
         },
         "layout": {
          "colorway": [
           "#A01D28",
           "#499CC9",
           "#F9A237",
           "#6FBA3A",
           "#573D6B"
          ],
          "dragmode": false,
          "font": {
           "color": "#54565B",
           "family": "Helvetica Neue, Arial",
           "size": 14
          },
          "height": 360,
          "margin": {
           "b": 75,
           "l": 63,
           "r": 100
          },
          "modebar": {
           "activecolor": "#A01D28"
          },
          "paper_bgcolor": "rgba(1,1,1,0)",
          "plot_bgcolor": "rgba(1,1,1,0)",
          "showlegend": false,
          "title": {
           "font": {
            "family": "Helvetica Neue, Arial",
            "size": 20
           },
           "y": 0.94,
           "yanchor": "bottom"
          },
          "width": 655,
          "xaxis": {
           "gridcolor": "rgba(84, 86, 91, 0.15)",
           "showgrid": false,
           "tickcolor": "#54565B",
           "ticks": "inside"
          },
          "yaxis": {
           "gridcolor": "rgba(84, 86, 91, 0.15)"
          }
         }
        },
        "title": {
         "automargin": true,
         "text": "<b>Use of immediate imprisonment for women in<br>Durham 2010—2024</b>",
         "x": 0,
         "xanchor": "left",
         "yref": "container"
        },
        "xaxis": {
         "dtick": 2,
         "range": [
          2009.7,
          2024.3
         ],
         "tick0": 2010
        },
        "yaxis": {
         "range": [
          0,
          103
         ],
         "tick0": 0,
         "tickformat": ",.0f",
         "title": {
          "text": ""
         }
        }
       }
      }
     },
     "metadata": {},
     "output_type": "display_data"
    },
    {
     "name": "stderr",
     "output_type": "stream",
     "text": [
      "2025-06-12 16:37:33,060 - INFO - Adding chart annotations...\n",
      "2025-06-12 16:37:33,067 - INFO - Setting trace labels...\n",
      "2025-06-12 16:37:33,073 - INFO - Label index: {0}, Adjustment: {0}\n",
      "2025-06-12 16:37:33,082 - INFO - Setting source annotation...\n",
      "2025-06-12 16:37:33,086 - INFO - Annotations added successfully.\n"
     ]
    },
    {
     "data": {
      "application/vnd.plotly.v1+json": {
       "config": {
        "plotlyServerURL": "https://plot.ly"
       },
       "data": [
        {
         "hovertemplate": "%{y}<extra></extra>",
         "meta": "Dyfed Powys",
         "mode": "lines",
         "name": "Less than 6 months",
         "type": "scatter",
         "x": {
          "bdata": "2gfbB9wH3QfeB98H4AfhB+IH4wfkB+UH5gfnB+gH",
          "dtype": "i2"
         },
         "y": {
          "bdata": "FiAYGhETEhgTHA8NFBcJ",
          "dtype": "i1"
         }
        },
        {
         "hovertemplate": "%{y}<extra></extra>",
         "meta": "Dyfed Powys",
         "mode": "lines",
         "name": "6 months—<br>less than 12 months",
         "type": "scatter",
         "x": {
          "bdata": "2wfcB94H4AfhB+IH4wfnB+gH",
          "dtype": "i2"
         },
         "y": {
          "bdata": "AQEBAQIBAwEB",
          "dtype": "i1"
         }
        }
       ],
       "layout": {
        "annotations": [
         {
          "align": "left",
          "font": {
           "color": "#A01D28",
           "size": 10
          },
          "showarrow": false,
          "text": "Less than 6 months",
          "x": 2024,
          "xanchor": "left",
          "xref": "x",
          "y": 9,
          "yanchor": "bottom",
          "yref": "y"
         },
         {
          "align": "left",
          "font": {
           "color": "#499CC9",
           "size": 10
          },
          "showarrow": false,
          "text": "6 months—<br>less than 12 months",
          "x": 2024,
          "xanchor": "left",
          "xref": "x",
          "y": 0,
          "yanchor": "bottom",
          "yref": "y"
         },
         {
          "align": "left",
          "font": {
           "size": 12
          },
          "showarrow": false,
          "text": "Source: Ministry of Justice, Criminal justice statistics",
          "x": 0,
          "xanchor": "left",
          "xref": "paper",
          "y": -0.1,
          "yanchor": "top",
          "yref": "paper"
         },
         {
          "font": {
           "size": 14
          },
          "showarrow": false,
          "text": "Women sentenced to custody",
          "x": 0,
          "xanchor": "left",
          "xref": "paper",
          "y": 1,
          "yanchor": "bottom",
          "yref": "paper"
         }
        ],
        "hovermode": "x",
        "template": {
         "data": {
          "scatter": [
           {
            "line": {
             "width": 4
            },
            "marker": {
             "size": 10
            },
            "type": "scatter"
           }
          ]
         },
         "layout": {
          "colorway": [
           "#A01D28",
           "#499CC9",
           "#F9A237",
           "#6FBA3A",
           "#573D6B"
          ],
          "dragmode": false,
          "font": {
           "color": "#54565B",
           "family": "Helvetica Neue, Arial",
           "size": 14
          },
          "height": 360,
          "margin": {
           "b": 75,
           "l": 63,
           "r": 100
          },
          "modebar": {
           "activecolor": "#A01D28"
          },
          "paper_bgcolor": "rgba(1,1,1,0)",
          "plot_bgcolor": "rgba(1,1,1,0)",
          "showlegend": false,
          "title": {
           "font": {
            "family": "Helvetica Neue, Arial",
            "size": 20
           },
           "y": 0.94,
           "yanchor": "bottom"
          },
          "width": 655,
          "xaxis": {
           "gridcolor": "rgba(84, 86, 91, 0.15)",
           "showgrid": false,
           "tickcolor": "#54565B",
           "ticks": "inside"
          },
          "yaxis": {
           "gridcolor": "rgba(84, 86, 91, 0.15)"
          }
         }
        },
        "title": {
         "automargin": true,
         "text": "<b>Use of immediate imprisonment for women in<br>Dyfed Powys 2011—2024</b>",
         "x": 0,
         "xanchor": "left",
         "yref": "container"
        },
        "xaxis": {
         "dtick": 2,
         "range": [
          2010.7,
          2024.3
         ],
         "tick0": 2011
        },
        "yaxis": {
         "range": [
          0,
          52
         ],
         "tick0": 0,
         "tickformat": ",.0f",
         "title": {
          "text": ""
         }
        }
       }
      }
     },
     "metadata": {},
     "output_type": "display_data"
    },
    {
     "name": "stderr",
     "output_type": "stream",
     "text": [
      "2025-06-12 16:37:33,104 - INFO - Adding chart annotations...\n",
      "2025-06-12 16:37:33,105 - INFO - Setting trace labels...\n",
      "2025-06-12 16:37:33,105 - INFO - Label index: {0}, Adjustment: {0}\n",
      "2025-06-12 16:37:33,110 - INFO - Setting source annotation...\n",
      "2025-06-12 16:37:33,113 - INFO - Annotations added successfully.\n"
     ]
    },
    {
     "data": {
      "application/vnd.plotly.v1+json": {
       "config": {
        "plotlyServerURL": "https://plot.ly"
       },
       "data": [
        {
         "hovertemplate": "%{y}<extra></extra>",
         "meta": "Essex",
         "mode": "lines",
         "name": "Less than 6 months",
         "type": "scatter",
         "x": {
          "bdata": "2gfbB9wH3QfeB98H4AfhB+IH4wfkB+UH5gfnB+gH",
          "dtype": "i2"
         },
         "y": {
          "bdata": "mQCjAJQAjACdAHUAeQBrAIMAdgBAADUAMwA0ADgA",
          "dtype": "i2"
         }
        },
        {
         "hovertemplate": "%{y}<extra></extra>",
         "meta": "Essex",
         "mode": "lines",
         "name": "6 months—<br>less than 12 months",
         "type": "scatter",
         "x": {
          "bdata": "2gfbB9wH3QfeB98H4AfhB+IH4wfkB+UH5gfnB+gH",
          "dtype": "i2"
         },
         "y": {
          "bdata": "FRoTDREMEAcSCwkFCQkJ",
          "dtype": "i1"
         }
        },
        {
         "hovertemplate": "%{y}<extra></extra>",
         "meta": "Essex",
         "mode": "lines",
         "name": "12 months or more",
         "type": "scatter",
         "x": {
          "bdata": "2gfbB9wH3QfeB98H4AfhB+IH4wfkB+UH5gfnB+gH",
          "dtype": "i2"
         },
         "y": {
          "bdata": "LS8gKhkmKxEiGRQWGiAb",
          "dtype": "i1"
         }
        }
       ],
       "layout": {
        "annotations": [
         {
          "align": "left",
          "font": {
           "color": "#A01D28",
           "size": 10
          },
          "showarrow": false,
          "text": "Less than 6 months",
          "x": 2024,
          "xanchor": "left",
          "xref": "x",
          "y": 56,
          "yanchor": "bottom",
          "yref": "y"
         },
         {
          "align": "left",
          "font": {
           "color": "#499CC9",
           "size": 10
          },
          "showarrow": false,
          "text": "6 months—<br>less than 12 months",
          "x": 2024,
          "xanchor": "left",
          "xref": "x",
          "y": 0,
          "yanchor": "bottom",
          "yref": "y"
         },
         {
          "align": "left",
          "font": {
           "color": "#F9A237",
           "size": 10
          },
          "showarrow": false,
          "text": "12 months or more",
          "x": 2024,
          "xanchor": "left",
          "xref": "x",
          "y": 27,
          "yanchor": "bottom",
          "yref": "y"
         },
         {
          "align": "left",
          "font": {
           "size": 12
          },
          "showarrow": false,
          "text": "Source: Ministry of Justice, Criminal justice statistics",
          "x": 0,
          "xanchor": "left",
          "xref": "paper",
          "y": -0.1,
          "yanchor": "top",
          "yref": "paper"
         },
         {
          "font": {
           "size": 14
          },
          "showarrow": false,
          "text": "Women sentenced to custody",
          "x": 0,
          "xanchor": "left",
          "xref": "paper",
          "y": 1,
          "yanchor": "bottom",
          "yref": "paper"
         }
        ],
        "hovermode": "x",
        "template": {
         "data": {
          "scatter": [
           {
            "line": {
             "width": 4
            },
            "marker": {
             "size": 10
            },
            "type": "scatter"
           }
          ]
         },
         "layout": {
          "colorway": [
           "#A01D28",
           "#499CC9",
           "#F9A237",
           "#6FBA3A",
           "#573D6B"
          ],
          "dragmode": false,
          "font": {
           "color": "#54565B",
           "family": "Helvetica Neue, Arial",
           "size": 14
          },
          "height": 360,
          "margin": {
           "b": 75,
           "l": 63,
           "r": 100
          },
          "modebar": {
           "activecolor": "#A01D28"
          },
          "paper_bgcolor": "rgba(1,1,1,0)",
          "plot_bgcolor": "rgba(1,1,1,0)",
          "showlegend": false,
          "title": {
           "font": {
            "family": "Helvetica Neue, Arial",
            "size": 20
           },
           "y": 0.94,
           "yanchor": "bottom"
          },
          "width": 655,
          "xaxis": {
           "gridcolor": "rgba(84, 86, 91, 0.15)",
           "showgrid": false,
           "tickcolor": "#54565B",
           "ticks": "inside"
          },
          "yaxis": {
           "gridcolor": "rgba(84, 86, 91, 0.15)"
          }
         }
        },
        "title": {
         "automargin": true,
         "text": "<b>Use of immediate imprisonment for women in<br>Essex 2010—2024</b>",
         "x": 0,
         "xanchor": "left",
         "yref": "container"
        },
        "xaxis": {
         "dtick": 2,
         "range": [
          2009.7,
          2024.3
         ],
         "tick0": 2010
        },
        "yaxis": {
         "range": [
          0,
          210
         ],
         "tick0": 0,
         "tickformat": ",.0f",
         "title": {
          "text": ""
         }
        }
       }
      }
     },
     "metadata": {},
     "output_type": "display_data"
    },
    {
     "name": "stderr",
     "output_type": "stream",
     "text": [
      "2025-06-12 16:37:33,130 - INFO - Adding chart annotations...\n",
      "2025-06-12 16:37:33,131 - INFO - Setting trace labels...\n",
      "2025-06-12 16:37:33,132 - INFO - Label index: {0}, Adjustment: {0}\n",
      "2025-06-12 16:37:33,136 - INFO - Setting source annotation...\n",
      "2025-06-12 16:37:33,140 - INFO - Annotations added successfully.\n"
     ]
    },
    {
     "data": {
      "application/vnd.plotly.v1+json": {
       "config": {
        "plotlyServerURL": "https://plot.ly"
       },
       "data": [
        {
         "hovertemplate": "%{y}<extra></extra>",
         "meta": "Gloucestershire",
         "mode": "lines",
         "name": "Less than 6 months",
         "type": "scatter",
         "x": {
          "bdata": "2gfbB9wH3QfeB98H4AfhB+IH4wfkB+UH5gfnB+gH",
          "dtype": "i2"
         },
         "y": {
          "bdata": "KyUiLDIyKSQaGggFDBQd",
          "dtype": "i1"
         }
        },
        {
         "hovertemplate": "%{y}<extra></extra>",
         "meta": "Gloucestershire",
         "mode": "lines",
         "name": "6 months—<br>less than 12 months",
         "type": "scatter",
         "x": {
          "bdata": "2gfbB9wH3QfeB98H4AfhB+IH4wfkB+UH5gfnB+gH",
          "dtype": "i2"
         },
         "y": {
          "bdata": "BwYDBAIHCAEDBgIBAQEF",
          "dtype": "i1"
         }
        },
        {
         "hovertemplate": "%{y}<extra></extra>",
         "meta": "Gloucestershire",
         "mode": "lines",
         "name": "12 months or more",
         "type": "scatter",
         "x": {
          "bdata": "2gfbB9wH3QfeB98H4AfhB+IH4wfkB+UH5gfnB+gH",
          "dtype": "i2"
         },
         "y": {
          "bdata": "DggMCgwNBwMKCgcICwYL",
          "dtype": "i1"
         }
        }
       ],
       "layout": {
        "annotations": [
         {
          "align": "left",
          "font": {
           "color": "#A01D28",
           "size": 10
          },
          "showarrow": false,
          "text": "Less than 6 months",
          "x": 2024,
          "xanchor": "left",
          "xref": "x",
          "y": 29,
          "yanchor": "bottom",
          "yref": "y"
         },
         {
          "align": "left",
          "font": {
           "color": "#499CC9",
           "size": 10
          },
          "showarrow": false,
          "text": "6 months—<br>less than 12 months",
          "x": 2024,
          "xanchor": "left",
          "xref": "x",
          "y": 0,
          "yanchor": "bottom",
          "yref": "y"
         },
         {
          "align": "left",
          "font": {
           "color": "#F9A237",
           "size": 10
          },
          "showarrow": false,
          "text": "12 months or more",
          "x": 2024,
          "xanchor": "left",
          "xref": "x",
          "y": 11,
          "yanchor": "bottom",
          "yref": "y"
         },
         {
          "align": "left",
          "font": {
           "size": 12
          },
          "showarrow": false,
          "text": "Source: Ministry of Justice, Criminal justice statistics",
          "x": 0,
          "xanchor": "left",
          "xref": "paper",
          "y": -0.1,
          "yanchor": "top",
          "yref": "paper"
         },
         {
          "font": {
           "size": 14
          },
          "showarrow": false,
          "text": "Women sentenced to custody",
          "x": 0,
          "xanchor": "left",
          "xref": "paper",
          "y": 1,
          "yanchor": "bottom",
          "yref": "paper"
         }
        ],
        "hovermode": "x",
        "template": {
         "data": {
          "scatter": [
           {
            "line": {
             "width": 4
            },
            "marker": {
             "size": 10
            },
            "type": "scatter"
           }
          ]
         },
         "layout": {
          "colorway": [
           "#A01D28",
           "#499CC9",
           "#F9A237",
           "#6FBA3A",
           "#573D6B"
          ],
          "dragmode": false,
          "font": {
           "color": "#54565B",
           "family": "Helvetica Neue, Arial",
           "size": 14
          },
          "height": 360,
          "margin": {
           "b": 75,
           "l": 63,
           "r": 100
          },
          "modebar": {
           "activecolor": "#A01D28"
          },
          "paper_bgcolor": "rgba(1,1,1,0)",
          "plot_bgcolor": "rgba(1,1,1,0)",
          "showlegend": false,
          "title": {
           "font": {
            "family": "Helvetica Neue, Arial",
            "size": 20
           },
           "y": 0.94,
           "yanchor": "bottom"
          },
          "width": 655,
          "xaxis": {
           "gridcolor": "rgba(84, 86, 91, 0.15)",
           "showgrid": false,
           "tickcolor": "#54565B",
           "ticks": "inside"
          },
          "yaxis": {
           "gridcolor": "rgba(84, 86, 91, 0.15)"
          }
         }
        },
        "title": {
         "automargin": true,
         "text": "<b>Use of immediate imprisonment for women in<br>Gloucestershire 2010—2024</b>",
         "x": 0,
         "xanchor": "left",
         "yref": "container"
        },
        "xaxis": {
         "dtick": 2,
         "range": [
          2009.7,
          2024.3
         ],
         "tick0": 2010
        },
        "yaxis": {
         "range": [
          0,
          52
         ],
         "tick0": 0,
         "tickformat": ",.0f",
         "title": {
          "text": ""
         }
        }
       }
      }
     },
     "metadata": {},
     "output_type": "display_data"
    },
    {
     "name": "stderr",
     "output_type": "stream",
     "text": [
      "2025-06-12 16:37:33,157 - INFO - Adding chart annotations...\n",
      "2025-06-12 16:37:33,162 - INFO - Setting trace labels...\n",
      "2025-06-12 16:37:33,165 - INFO - Label index: {0}, Adjustment: {0}\n",
      "2025-06-12 16:37:33,170 - INFO - Setting source annotation...\n",
      "2025-06-12 16:37:33,174 - INFO - Annotations added successfully.\n"
     ]
    },
    {
     "data": {
      "application/vnd.plotly.v1+json": {
       "config": {
        "plotlyServerURL": "https://plot.ly"
       },
       "data": [
        {
         "hovertemplate": "%{y}<extra></extra>",
         "meta": "Greater Manchester",
         "mode": "lines",
         "name": "Less than 6 months",
         "type": "scatter",
         "x": {
          "bdata": "2gfbB9wH3QfeB98H4AfhB+IH4wfkB+UH5gfnB+gH",
          "dtype": "i2"
         },
         "y": {
          "bdata": "BwEbAQkBCgEuAe8AqgCXAH8AdQBeAFkAbwCzAPgA",
          "dtype": "i2"
         }
        },
        {
         "hovertemplate": "%{y}<extra></extra>",
         "meta": "Greater Manchester",
         "mode": "lines",
         "name": "6 months—<br>less than 12 months",
         "type": "scatter",
         "x": {
          "bdata": "2gfbB9wH3QfeB98H4AfhB+IH4wfkB+UH5gfnB+gH",
          "dtype": "i2"
         },
         "y": {
          "bdata": "NCglISgqHgkeIRcQFhUg",
          "dtype": "i1"
         }
        },
        {
         "hovertemplate": "%{y}<extra></extra>",
         "meta": "Greater Manchester",
         "mode": "lines",
         "name": "12 months or more",
         "type": "scatter",
         "x": {
          "bdata": "2gfbB9wH3QfeB98H4AfhB+IH4wfkB+UH5gfnB+gH",
          "dtype": "i2"
         },
         "y": {
          "bdata": "cHNSX1plWi5GVzxBOTVK",
          "dtype": "i1"
         }
        }
       ],
       "layout": {
        "annotations": [
         {
          "align": "left",
          "font": {
           "color": "#A01D28",
           "size": 10
          },
          "showarrow": false,
          "text": "Less than 6 months",
          "x": 2024,
          "xanchor": "left",
          "xref": "x",
          "y": 248,
          "yanchor": "bottom",
          "yref": "y"
         },
         {
          "align": "left",
          "font": {
           "color": "#499CC9",
           "size": 10
          },
          "showarrow": false,
          "text": "6 months—<br>less than 12 months",
          "x": 2024,
          "xanchor": "left",
          "xref": "x",
          "y": 0,
          "yanchor": "bottom",
          "yref": "y"
         },
         {
          "align": "left",
          "font": {
           "color": "#F9A237",
           "size": 10
          },
          "showarrow": false,
          "text": "12 months or more",
          "x": 2024,
          "xanchor": "left",
          "xref": "x",
          "y": 74,
          "yanchor": "bottom",
          "yref": "y"
         },
         {
          "align": "left",
          "font": {
           "size": 12
          },
          "showarrow": false,
          "text": "Source: Ministry of Justice, Criminal justice statistics",
          "x": 0,
          "xanchor": "left",
          "xref": "paper",
          "y": -0.1,
          "yanchor": "top",
          "yref": "paper"
         },
         {
          "font": {
           "size": 14
          },
          "showarrow": false,
          "text": "Women sentenced to custody",
          "x": 0,
          "xanchor": "left",
          "xref": "paper",
          "y": 1,
          "yanchor": "bottom",
          "yref": "paper"
         }
        ],
        "hovermode": "x",
        "template": {
         "data": {
          "scatter": [
           {
            "line": {
             "width": 4
            },
            "marker": {
             "size": 10
            },
            "type": "scatter"
           }
          ]
         },
         "layout": {
          "colorway": [
           "#A01D28",
           "#499CC9",
           "#F9A237",
           "#6FBA3A",
           "#573D6B"
          ],
          "dragmode": false,
          "font": {
           "color": "#54565B",
           "family": "Helvetica Neue, Arial",
           "size": 14
          },
          "height": 360,
          "margin": {
           "b": 75,
           "l": 63,
           "r": 100
          },
          "modebar": {
           "activecolor": "#A01D28"
          },
          "paper_bgcolor": "rgba(1,1,1,0)",
          "plot_bgcolor": "rgba(1,1,1,0)",
          "showlegend": false,
          "title": {
           "font": {
            "family": "Helvetica Neue, Arial",
            "size": 20
           },
           "y": 0.94,
           "yanchor": "bottom"
          },
          "width": 655,
          "xaxis": {
           "gridcolor": "rgba(84, 86, 91, 0.15)",
           "showgrid": false,
           "tickcolor": "#54565B",
           "ticks": "inside"
          },
          "yaxis": {
           "gridcolor": "rgba(84, 86, 91, 0.15)"
          }
         }
        },
        "title": {
         "automargin": true,
         "text": "<b>Use of immediate imprisonment for women in<br>Greater Manchester 2010—2024</b>",
         "x": 0,
         "xanchor": "left",
         "yref": "container"
        },
        "xaxis": {
         "dtick": 2,
         "range": [
          2009.7,
          2024.3
         ],
         "tick0": 2010
        },
        "yaxis": {
         "range": [
          0,
          305
         ],
         "tick0": 0,
         "tickformat": ",.0f",
         "title": {
          "text": ""
         }
        }
       }
      }
     },
     "metadata": {},
     "output_type": "display_data"
    },
    {
     "name": "stderr",
     "output_type": "stream",
     "text": [
      "2025-06-12 16:37:33,191 - INFO - Adding chart annotations...\n",
      "2025-06-12 16:37:33,193 - INFO - Setting trace labels...\n",
      "2025-06-12 16:37:33,194 - INFO - Label index: {0}, Adjustment: {0}\n",
      "2025-06-12 16:37:33,198 - INFO - Setting source annotation...\n",
      "2025-06-12 16:37:33,202 - INFO - Annotations added successfully.\n"
     ]
    },
    {
     "data": {
      "application/vnd.plotly.v1+json": {
       "config": {
        "plotlyServerURL": "https://plot.ly"
       },
       "data": [
        {
         "hovertemplate": "%{y}<extra></extra>",
         "meta": "Gwent",
         "mode": "lines",
         "name": "Less than 6 months",
         "type": "scatter",
         "x": {
          "bdata": "2gfbB9wH3QfeB98H4AfhB+IH4wfkB+UH5gfnB+gH",
          "dtype": "i2"
         },
         "y": {
          "bdata": "KStBMzcyNUc0GxEVEB0z",
          "dtype": "i1"
         }
        },
        {
         "hovertemplate": "%{y}<extra></extra>",
         "meta": "Gwent",
         "mode": "lines",
         "name": "6 months—<br>less than 12 months",
         "type": "scatter",
         "x": {
          "bdata": "3QfeB98H4AfhB+IH5AflB+YH5wfoBw==",
          "dtype": "i2"
         },
         "y": {
          "bdata": "AQEBAgMEAQMBAgE=",
          "dtype": "i1"
         }
        }
       ],
       "layout": {
        "annotations": [
         {
          "align": "left",
          "font": {
           "color": "#A01D28",
           "size": 10
          },
          "showarrow": false,
          "text": "Less than 6 months",
          "x": 2024,
          "xanchor": "left",
          "xref": "x",
          "y": 51,
          "yanchor": "bottom",
          "yref": "y"
         },
         {
          "align": "left",
          "font": {
           "color": "#499CC9",
           "size": 10
          },
          "showarrow": false,
          "text": "6 months—<br>less than 12 months",
          "x": 2024,
          "xanchor": "left",
          "xref": "x",
          "y": 0,
          "yanchor": "bottom",
          "yref": "y"
         },
         {
          "align": "left",
          "font": {
           "size": 12
          },
          "showarrow": false,
          "text": "Source: Ministry of Justice, Criminal justice statistics",
          "x": 0,
          "xanchor": "left",
          "xref": "paper",
          "y": -0.1,
          "yanchor": "top",
          "yref": "paper"
         },
         {
          "font": {
           "size": 14
          },
          "showarrow": false,
          "text": "Women sentenced to custody",
          "x": 0,
          "xanchor": "left",
          "xref": "paper",
          "y": 1,
          "yanchor": "bottom",
          "yref": "paper"
         }
        ],
        "hovermode": "x",
        "template": {
         "data": {
          "scatter": [
           {
            "line": {
             "width": 4
            },
            "marker": {
             "size": 10
            },
            "type": "scatter"
           }
          ]
         },
         "layout": {
          "colorway": [
           "#A01D28",
           "#499CC9",
           "#F9A237",
           "#6FBA3A",
           "#573D6B"
          ],
          "dragmode": false,
          "font": {
           "color": "#54565B",
           "family": "Helvetica Neue, Arial",
           "size": 14
          },
          "height": 360,
          "margin": {
           "b": 75,
           "l": 63,
           "r": 100
          },
          "modebar": {
           "activecolor": "#A01D28"
          },
          "paper_bgcolor": "rgba(1,1,1,0)",
          "plot_bgcolor": "rgba(1,1,1,0)",
          "showlegend": false,
          "title": {
           "font": {
            "family": "Helvetica Neue, Arial",
            "size": 20
           },
           "y": 0.94,
           "yanchor": "bottom"
          },
          "width": 655,
          "xaxis": {
           "gridcolor": "rgba(84, 86, 91, 0.15)",
           "showgrid": false,
           "tickcolor": "#54565B",
           "ticks": "inside"
          },
          "yaxis": {
           "gridcolor": "rgba(84, 86, 91, 0.15)"
          }
         }
        },
        "title": {
         "automargin": true,
         "text": "<b>Use of immediate imprisonment for women in<br>Gwent 2013—2024</b>",
         "x": 0,
         "xanchor": "left",
         "yref": "container"
        },
        "xaxis": {
         "dtick": 2,
         "range": [
          2012.7,
          2024.3
         ],
         "tick0": 2013
        },
        "yaxis": {
         "range": [
          0,
          103
         ],
         "tick0": 0,
         "tickformat": ",.0f",
         "title": {
          "text": ""
         }
        }
       }
      }
     },
     "metadata": {},
     "output_type": "display_data"
    },
    {
     "name": "stderr",
     "output_type": "stream",
     "text": [
      "2025-06-12 16:37:33,219 - INFO - Adding chart annotations...\n",
      "2025-06-12 16:37:33,220 - INFO - Setting trace labels...\n",
      "2025-06-12 16:37:33,221 - INFO - Label index: {0}, Adjustment: {0}\n",
      "2025-06-12 16:37:33,227 - INFO - Setting source annotation...\n",
      "2025-06-12 16:37:33,236 - INFO - Annotations added successfully.\n"
     ]
    },
    {
     "data": {
      "application/vnd.plotly.v1+json": {
       "config": {
        "plotlyServerURL": "https://plot.ly"
       },
       "data": [
        {
         "hovertemplate": "%{y}<extra></extra>",
         "meta": "Hampshire",
         "mode": "lines",
         "name": "Less than 6 months",
         "type": "scatter",
         "x": {
          "bdata": "2gfbB9wH3QfeB98H4AfhB+IH4wfkB+UH5gfnB+gH",
          "dtype": "i2"
         },
         "y": {
          "bdata": "jQCuAKEAXgCCAIoAawB3AGIAVgBXADUAPgA+AIoA",
          "dtype": "i2"
         }
        },
        {
         "hovertemplate": "%{y}<extra></extra>",
         "meta": "Hampshire",
         "mode": "lines",
         "name": "6 months—<br>less than 12 months",
         "type": "scatter",
         "x": {
          "bdata": "2gfbB9wH3QfeB98H4AfhB+IH4wfkB+UH5gfnB+gH",
          "dtype": "i2"
         },
         "y": {
          "bdata": "ChAWFRIYEgEODA0RBwgP",
          "dtype": "i1"
         }
        },
        {
         "hovertemplate": "%{y}<extra></extra>",
         "meta": "Hampshire",
         "mode": "lines",
         "name": "12 months or more",
         "type": "scatter",
         "x": {
          "bdata": "2gfbB9wH3QfeB98H4AfhB+IH4wfkB+UH5gfnB+gH",
          "dtype": "i2"
         },
         "y": {
          "bdata": "J0A/KSowIAgtHiIjFxsh",
          "dtype": "i1"
         }
        }
       ],
       "layout": {
        "annotations": [
         {
          "align": "left",
          "font": {
           "color": "#A01D28",
           "size": 10
          },
          "showarrow": false,
          "text": "Less than 6 months",
          "x": 2024,
          "xanchor": "left",
          "xref": "x",
          "y": 138,
          "yanchor": "bottom",
          "yref": "y"
         },
         {
          "align": "left",
          "font": {
           "color": "#499CC9",
           "size": 10
          },
          "showarrow": false,
          "text": "6 months—<br>less than 12 months",
          "x": 2024,
          "xanchor": "left",
          "xref": "x",
          "y": 0,
          "yanchor": "bottom",
          "yref": "y"
         },
         {
          "align": "left",
          "font": {
           "color": "#F9A237",
           "size": 10
          },
          "showarrow": false,
          "text": "12 months or more",
          "x": 2024,
          "xanchor": "left",
          "xref": "x",
          "y": 33,
          "yanchor": "bottom",
          "yref": "y"
         },
         {
          "align": "left",
          "font": {
           "size": 12
          },
          "showarrow": false,
          "text": "Source: Ministry of Justice, Criminal justice statistics",
          "x": 0,
          "xanchor": "left",
          "xref": "paper",
          "y": -0.1,
          "yanchor": "top",
          "yref": "paper"
         },
         {
          "font": {
           "size": 14
          },
          "showarrow": false,
          "text": "Women sentenced to custody",
          "x": 0,
          "xanchor": "left",
          "xref": "paper",
          "y": 1,
          "yanchor": "bottom",
          "yref": "paper"
         }
        ],
        "hovermode": "x",
        "template": {
         "data": {
          "scatter": [
           {
            "line": {
             "width": 4
            },
            "marker": {
             "size": 10
            },
            "type": "scatter"
           }
          ]
         },
         "layout": {
          "colorway": [
           "#A01D28",
           "#499CC9",
           "#F9A237",
           "#6FBA3A",
           "#573D6B"
          ],
          "dragmode": false,
          "font": {
           "color": "#54565B",
           "family": "Helvetica Neue, Arial",
           "size": 14
          },
          "height": 360,
          "margin": {
           "b": 75,
           "l": 63,
           "r": 100
          },
          "modebar": {
           "activecolor": "#A01D28"
          },
          "paper_bgcolor": "rgba(1,1,1,0)",
          "plot_bgcolor": "rgba(1,1,1,0)",
          "showlegend": false,
          "title": {
           "font": {
            "family": "Helvetica Neue, Arial",
            "size": 20
           },
           "y": 0.94,
           "yanchor": "bottom"
          },
          "width": 655,
          "xaxis": {
           "gridcolor": "rgba(84, 86, 91, 0.15)",
           "showgrid": false,
           "tickcolor": "#54565B",
           "ticks": "inside"
          },
          "yaxis": {
           "gridcolor": "rgba(84, 86, 91, 0.15)"
          }
         }
        },
        "title": {
         "automargin": true,
         "text": "<b>Use of immediate imprisonment for women in<br>Hampshire 2010—2024</b>",
         "x": 0,
         "xanchor": "left",
         "yref": "container"
        },
        "xaxis": {
         "dtick": 2,
         "range": [
          2009.7,
          2024.3
         ],
         "tick0": 2010
        },
        "yaxis": {
         "range": [
          0,
          210
         ],
         "tick0": 0,
         "tickformat": ",.0f",
         "title": {
          "text": ""
         }
        }
       }
      }
     },
     "metadata": {},
     "output_type": "display_data"
    },
    {
     "name": "stderr",
     "output_type": "stream",
     "text": [
      "2025-06-12 16:37:33,268 - INFO - Adding chart annotations...\n",
      "2025-06-12 16:37:33,269 - INFO - Setting trace labels...\n",
      "2025-06-12 16:37:33,270 - INFO - Label index: {0}, Adjustment: {0}\n",
      "2025-06-12 16:37:33,276 - INFO - Setting source annotation...\n",
      "2025-06-12 16:37:33,281 - INFO - Annotations added successfully.\n"
     ]
    },
    {
     "data": {
      "application/vnd.plotly.v1+json": {
       "config": {
        "plotlyServerURL": "https://plot.ly"
       },
       "data": [
        {
         "hovertemplate": "%{y}<extra></extra>",
         "meta": "Hertfordshire",
         "mode": "lines",
         "name": "Less than 6 months",
         "type": "scatter",
         "x": {
          "bdata": "2gfbB9wH3QfeB98H4AfhB+IH4wfkB+UH5gfnB+gH",
          "dtype": "i2"
         },
         "y": {
          "bdata": "RDJPSD9AUEI3KRYVGSAl",
          "dtype": "i1"
         }
        },
        {
         "hovertemplate": "%{y}<extra></extra>",
         "meta": "Hertfordshire",
         "mode": "lines",
         "name": "6 months—<br>less than 12 months",
         "type": "scatter",
         "x": {
          "bdata": "2gfbB9wH3QfeB98H4AfhB+IH4wfkB+UH5gfnB+gH",
          "dtype": "i2"
         },
         "y": {
          "bdata": "BAkGBgcDAwcBBAYGAwcC",
          "dtype": "i1"
         }
        },
        {
         "hovertemplate": "%{y}<extra></extra>",
         "meta": "Hertfordshire",
         "mode": "lines",
         "name": "12 months or more",
         "type": "scatter",
         "x": {
          "bdata": "2gfbB9wH3QfeB98H4AfhB+IH4wfkB+UH5gfnB+gH",
          "dtype": "i2"
         },
         "y": {
          "bdata": "DB4ODxAREAcNFAkKDRAP",
          "dtype": "i1"
         }
        }
       ],
       "layout": {
        "annotations": [
         {
          "align": "left",
          "font": {
           "color": "#A01D28",
           "size": 10
          },
          "showarrow": false,
          "text": "Less than 6 months",
          "x": 2024,
          "xanchor": "left",
          "xref": "x",
          "y": 37,
          "yanchor": "bottom",
          "yref": "y"
         },
         {
          "align": "left",
          "font": {
           "color": "#499CC9",
           "size": 10
          },
          "showarrow": false,
          "text": "6 months—<br>less than 12 months",
          "x": 2024,
          "xanchor": "left",
          "xref": "x",
          "y": 0,
          "yanchor": "bottom",
          "yref": "y"
         },
         {
          "align": "left",
          "font": {
           "color": "#F9A237",
           "size": 10
          },
          "showarrow": false,
          "text": "12 months or more",
          "x": 2024,
          "xanchor": "left",
          "xref": "x",
          "y": 15,
          "yanchor": "bottom",
          "yref": "y"
         },
         {
          "align": "left",
          "font": {
           "size": 12
          },
          "showarrow": false,
          "text": "Source: Ministry of Justice, Criminal justice statistics",
          "x": 0,
          "xanchor": "left",
          "xref": "paper",
          "y": -0.1,
          "yanchor": "top",
          "yref": "paper"
         },
         {
          "font": {
           "size": 14
          },
          "showarrow": false,
          "text": "Women sentenced to custody",
          "x": 0,
          "xanchor": "left",
          "xref": "paper",
          "y": 1,
          "yanchor": "bottom",
          "yref": "paper"
         }
        ],
        "hovermode": "x",
        "template": {
         "data": {
          "scatter": [
           {
            "line": {
             "width": 4
            },
            "marker": {
             "size": 10
            },
            "type": "scatter"
           }
          ]
         },
         "layout": {
          "colorway": [
           "#A01D28",
           "#499CC9",
           "#F9A237",
           "#6FBA3A",
           "#573D6B"
          ],
          "dragmode": false,
          "font": {
           "color": "#54565B",
           "family": "Helvetica Neue, Arial",
           "size": 14
          },
          "height": 360,
          "margin": {
           "b": 75,
           "l": 63,
           "r": 100
          },
          "modebar": {
           "activecolor": "#A01D28"
          },
          "paper_bgcolor": "rgba(1,1,1,0)",
          "plot_bgcolor": "rgba(1,1,1,0)",
          "showlegend": false,
          "title": {
           "font": {
            "family": "Helvetica Neue, Arial",
            "size": 20
           },
           "y": 0.94,
           "yanchor": "bottom"
          },
          "width": 655,
          "xaxis": {
           "gridcolor": "rgba(84, 86, 91, 0.15)",
           "showgrid": false,
           "tickcolor": "#54565B",
           "ticks": "inside"
          },
          "yaxis": {
           "gridcolor": "rgba(84, 86, 91, 0.15)"
          }
         }
        },
        "title": {
         "automargin": true,
         "text": "<b>Use of immediate imprisonment for women in<br>Hertfordshire 2010—2024</b>",
         "x": 0,
         "xanchor": "left",
         "yref": "container"
        },
        "xaxis": {
         "dtick": 2,
         "range": [
          2009.7,
          2024.3
         ],
         "tick0": 2010
        },
        "yaxis": {
         "range": [
          0,
          103
         ],
         "tick0": 0,
         "tickformat": ",.0f",
         "title": {
          "text": ""
         }
        }
       }
      }
     },
     "metadata": {},
     "output_type": "display_data"
    },
    {
     "name": "stderr",
     "output_type": "stream",
     "text": [
      "2025-06-12 16:37:33,301 - INFO - Adding chart annotations...\n",
      "2025-06-12 16:37:33,302 - INFO - Setting trace labels...\n",
      "2025-06-12 16:37:33,303 - INFO - Label index: {0}, Adjustment: {0}\n",
      "2025-06-12 16:37:33,311 - INFO - Setting source annotation...\n",
      "2025-06-12 16:37:33,316 - INFO - Annotations added successfully.\n"
     ]
    },
    {
     "data": {
      "application/vnd.plotly.v1+json": {
       "config": {
        "plotlyServerURL": "https://plot.ly"
       },
       "data": [
        {
         "hovertemplate": "%{y}<extra></extra>",
         "meta": "Humberside",
         "mode": "lines",
         "name": "Less than 6 months",
         "type": "scatter",
         "x": {
          "bdata": "2gfbB9wH3QfeB98H4AfhB+IH4wfkB+UH5gfnB+gH",
          "dtype": "i2"
         },
         "y": {
          "bdata": "RUxaVltUZERvYFpMQldk",
          "dtype": "i1"
         }
        },
        {
         "hovertemplate": "%{y}<extra></extra>",
         "meta": "Humberside",
         "mode": "lines",
         "name": "6 months—<br>less than 12 months",
         "type": "scatter",
         "x": {
          "bdata": "2gfbB9wH3QfeB98H4AfhB+IH4wfkB+UH5gfnB+gH",
          "dtype": "i2"
         },
         "y": {
          "bdata": "EhkOEQ8OBQoPEQsJDQYK",
          "dtype": "i1"
         }
        },
        {
         "hovertemplate": "%{y}<extra></extra>",
         "meta": "Humberside",
         "mode": "lines",
         "name": "12 months or more",
         "type": "scatter",
         "x": {
          "bdata": "2gfbB9wH3QfeB98H4AfhB+IH4wfkB+UH5gfnB+gH",
          "dtype": "i2"
         },
         "y": {
          "bdata": "JSwuIisYHBQqHScxKSIf",
          "dtype": "i1"
         }
        }
       ],
       "layout": {
        "annotations": [
         {
          "align": "left",
          "font": {
           "color": "#A01D28",
           "size": 10
          },
          "showarrow": false,
          "text": "Less than 6 months",
          "x": 2024,
          "xanchor": "left",
          "xref": "x",
          "y": 100,
          "yanchor": "bottom",
          "yref": "y"
         },
         {
          "align": "left",
          "font": {
           "color": "#499CC9",
           "size": 10
          },
          "showarrow": false,
          "text": "6 months—<br>less than 12 months",
          "x": 2024,
          "xanchor": "left",
          "xref": "x",
          "y": 0,
          "yanchor": "bottom",
          "yref": "y"
         },
         {
          "align": "left",
          "font": {
           "color": "#F9A237",
           "size": 10
          },
          "showarrow": false,
          "text": "12 months or more",
          "x": 2024,
          "xanchor": "left",
          "xref": "x",
          "y": 31,
          "yanchor": "bottom",
          "yref": "y"
         },
         {
          "align": "left",
          "font": {
           "size": 12
          },
          "showarrow": false,
          "text": "Source: Ministry of Justice, Criminal justice statistics",
          "x": 0,
          "xanchor": "left",
          "xref": "paper",
          "y": -0.1,
          "yanchor": "top",
          "yref": "paper"
         },
         {
          "font": {
           "size": 14
          },
          "showarrow": false,
          "text": "Women sentenced to custody",
          "x": 0,
          "xanchor": "left",
          "xref": "paper",
          "y": 1,
          "yanchor": "bottom",
          "yref": "paper"
         }
        ],
        "hovermode": "x",
        "template": {
         "data": {
          "scatter": [
           {
            "line": {
             "width": 4
            },
            "marker": {
             "size": 10
            },
            "type": "scatter"
           }
          ]
         },
         "layout": {
          "colorway": [
           "#A01D28",
           "#499CC9",
           "#F9A237",
           "#6FBA3A",
           "#573D6B"
          ],
          "dragmode": false,
          "font": {
           "color": "#54565B",
           "family": "Helvetica Neue, Arial",
           "size": 14
          },
          "height": 360,
          "margin": {
           "b": 75,
           "l": 63,
           "r": 100
          },
          "modebar": {
           "activecolor": "#A01D28"
          },
          "paper_bgcolor": "rgba(1,1,1,0)",
          "plot_bgcolor": "rgba(1,1,1,0)",
          "showlegend": false,
          "title": {
           "font": {
            "family": "Helvetica Neue, Arial",
            "size": 20
           },
           "y": 0.94,
           "yanchor": "bottom"
          },
          "width": 655,
          "xaxis": {
           "gridcolor": "rgba(84, 86, 91, 0.15)",
           "showgrid": false,
           "tickcolor": "#54565B",
           "ticks": "inside"
          },
          "yaxis": {
           "gridcolor": "rgba(84, 86, 91, 0.15)"
          }
         }
        },
        "title": {
         "automargin": true,
         "text": "<b>Use of immediate imprisonment for women in<br>Humberside 2010—2024</b>",
         "x": 0,
         "xanchor": "left",
         "yref": "container"
        },
        "xaxis": {
         "dtick": 2,
         "range": [
          2009.7,
          2024.3
         ],
         "tick0": 2010
        },
        "yaxis": {
         "range": [
          0,
          210
         ],
         "tick0": 0,
         "tickformat": ",.0f",
         "title": {
          "text": ""
         }
        }
       }
      }
     },
     "metadata": {},
     "output_type": "display_data"
    },
    {
     "name": "stderr",
     "output_type": "stream",
     "text": [
      "2025-06-12 16:37:33,339 - INFO - Adding chart annotations...\n",
      "2025-06-12 16:37:33,340 - INFO - Setting trace labels...\n",
      "2025-06-12 16:37:33,342 - INFO - Label index: {0}, Adjustment: {0}\n",
      "2025-06-12 16:37:33,348 - INFO - Setting source annotation...\n",
      "2025-06-12 16:37:33,352 - INFO - Annotations added successfully.\n"
     ]
    },
    {
     "data": {
      "application/vnd.plotly.v1+json": {
       "config": {
        "plotlyServerURL": "https://plot.ly"
       },
       "data": [
        {
         "hovertemplate": "%{y}<extra></extra>",
         "meta": "Kent",
         "mode": "lines",
         "name": "Less than 6 months",
         "type": "scatter",
         "x": {
          "bdata": "2gfbB9wH3QfeB98H4AfhB+IH4wfkB+UH5gfnB+gH",
          "dtype": "i2"
         },
         "y": {
          "bdata": "gAB+AG0AegB+AG8AgQBtAGgAUgBRAFgARgBUAGQA",
          "dtype": "i2"
         }
        },
        {
         "hovertemplate": "%{y}<extra></extra>",
         "meta": "Kent",
         "mode": "lines",
         "name": "6 months—<br>less than 12 months",
         "type": "scatter",
         "x": {
          "bdata": "2gfbB9wH3QfeB98H4AfhB+IH4wfkB+UH5gfnB+gH",
          "dtype": "i2"
         },
         "y": {
          "bdata": "ExoPExgVFQ8RCw0MDgwP",
          "dtype": "i1"
         }
        },
        {
         "hovertemplate": "%{y}<extra></extra>",
         "meta": "Kent",
         "mode": "lines",
         "name": "12 months or more",
         "type": "scatter",
         "x": {
          "bdata": "2gfbB9wH3QfeB98H4AfhB+IH4wfkB+UH5gfnB+gH",
          "dtype": "i2"
         },
         "y": {
          "bdata": "OkU4NS44QxZAOCsvOSUp",
          "dtype": "i1"
         }
        }
       ],
       "layout": {
        "annotations": [
         {
          "align": "left",
          "font": {
           "color": "#A01D28",
           "size": 10
          },
          "showarrow": false,
          "text": "Less than 6 months",
          "x": 2024,
          "xanchor": "left",
          "xref": "x",
          "y": 100,
          "yanchor": "bottom",
          "yref": "y"
         },
         {
          "align": "left",
          "font": {
           "color": "#499CC9",
           "size": 10
          },
          "showarrow": false,
          "text": "6 months—<br>less than 12 months",
          "x": 2024,
          "xanchor": "left",
          "xref": "x",
          "y": 0,
          "yanchor": "bottom",
          "yref": "y"
         },
         {
          "align": "left",
          "font": {
           "color": "#F9A237",
           "size": 10
          },
          "showarrow": false,
          "text": "12 months or more",
          "x": 2024,
          "xanchor": "left",
          "xref": "x",
          "y": 41,
          "yanchor": "bottom",
          "yref": "y"
         },
         {
          "align": "left",
          "font": {
           "size": 12
          },
          "showarrow": false,
          "text": "Source: Ministry of Justice, Criminal justice statistics",
          "x": 0,
          "xanchor": "left",
          "xref": "paper",
          "y": -0.1,
          "yanchor": "top",
          "yref": "paper"
         },
         {
          "font": {
           "size": 14
          },
          "showarrow": false,
          "text": "Women sentenced to custody",
          "x": 0,
          "xanchor": "left",
          "xref": "paper",
          "y": 1,
          "yanchor": "bottom",
          "yref": "paper"
         }
        ],
        "hovermode": "x",
        "template": {
         "data": {
          "scatter": [
           {
            "line": {
             "width": 4
            },
            "marker": {
             "size": 10
            },
            "type": "scatter"
           }
          ]
         },
         "layout": {
          "colorway": [
           "#A01D28",
           "#499CC9",
           "#F9A237",
           "#6FBA3A",
           "#573D6B"
          ],
          "dragmode": false,
          "font": {
           "color": "#54565B",
           "family": "Helvetica Neue, Arial",
           "size": 14
          },
          "height": 360,
          "margin": {
           "b": 75,
           "l": 63,
           "r": 100
          },
          "modebar": {
           "activecolor": "#A01D28"
          },
          "paper_bgcolor": "rgba(1,1,1,0)",
          "plot_bgcolor": "rgba(1,1,1,0)",
          "showlegend": false,
          "title": {
           "font": {
            "family": "Helvetica Neue, Arial",
            "size": 20
           },
           "y": 0.94,
           "yanchor": "bottom"
          },
          "width": 655,
          "xaxis": {
           "gridcolor": "rgba(84, 86, 91, 0.15)",
           "showgrid": false,
           "tickcolor": "#54565B",
           "ticks": "inside"
          },
          "yaxis": {
           "gridcolor": "rgba(84, 86, 91, 0.15)"
          }
         }
        },
        "title": {
         "automargin": true,
         "text": "<b>Use of immediate imprisonment for women in<br>Kent 2010—2024</b>",
         "x": 0,
         "xanchor": "left",
         "yref": "container"
        },
        "xaxis": {
         "dtick": 2,
         "range": [
          2009.7,
          2024.3
         ],
         "tick0": 2010
        },
        "yaxis": {
         "range": [
          0,
          210
         ],
         "tick0": 0,
         "tickformat": ",.0f",
         "title": {
          "text": ""
         }
        }
       }
      }
     },
     "metadata": {},
     "output_type": "display_data"
    },
    {
     "name": "stderr",
     "output_type": "stream",
     "text": [
      "2025-06-12 16:37:33,368 - INFO - Adding chart annotations...\n",
      "2025-06-12 16:37:33,370 - INFO - Setting trace labels...\n",
      "2025-06-12 16:37:33,371 - INFO - Label index: {0}, Adjustment: {0}\n",
      "2025-06-12 16:37:33,376 - INFO - Setting source annotation...\n",
      "2025-06-12 16:37:33,380 - INFO - Annotations added successfully.\n"
     ]
    },
    {
     "data": {
      "application/vnd.plotly.v1+json": {
       "config": {
        "plotlyServerURL": "https://plot.ly"
       },
       "data": [
        {
         "hovertemplate": "%{y}<extra></extra>",
         "meta": "Lancashire",
         "mode": "lines",
         "name": "Less than 6 months",
         "type": "scatter",
         "x": {
          "bdata": "2gfbB9wH3QfeB98H4AfhB+IH4wfkB+UH5gfnB+gH",
          "dtype": "i2"
         },
         "y": {
          "bdata": "YgBfAGkAiwB+AHgAXgBxAIAAZAA2ADkAOgBNAJwA",
          "dtype": "i2"
         }
        },
        {
         "hovertemplate": "%{y}<extra></extra>",
         "meta": "Lancashire",
         "mode": "lines",
         "name": "6 months—<br>less than 12 months",
         "type": "scatter",
         "x": {
          "bdata": "2gfbB9wH3QfeB98H4AfhB+IH4wfkB+UH5gfnB+gH",
          "dtype": "i2"
         },
         "y": {
          "bdata": "HBYcIhwZGQsbDQ0XEwsV",
          "dtype": "i1"
         }
        },
        {
         "hovertemplate": "%{y}<extra></extra>",
         "meta": "Lancashire",
         "mode": "lines",
         "name": "12 months or more",
         "type": "scatter",
         "x": {
          "bdata": "2gfbB9wH3QfeB98H4AfhB+IH4wfkB+UH5gfnB+gH",
          "dtype": "i2"
         },
         "y": {
          "bdata": "PE9FTE5VORk+OitCKUU/",
          "dtype": "i1"
         }
        }
       ],
       "layout": {
        "annotations": [
         {
          "align": "left",
          "font": {
           "color": "#A01D28",
           "size": 10
          },
          "showarrow": false,
          "text": "Less than 6 months",
          "x": 2024,
          "xanchor": "left",
          "xref": "x",
          "y": 156,
          "yanchor": "bottom",
          "yref": "y"
         },
         {
          "align": "left",
          "font": {
           "color": "#499CC9",
           "size": 10
          },
          "showarrow": false,
          "text": "6 months—<br>less than 12 months",
          "x": 2024,
          "xanchor": "left",
          "xref": "x",
          "y": 0,
          "yanchor": "bottom",
          "yref": "y"
         },
         {
          "align": "left",
          "font": {
           "color": "#F9A237",
           "size": 10
          },
          "showarrow": false,
          "text": "12 months or more",
          "x": 2024,
          "xanchor": "left",
          "xref": "x",
          "y": 63,
          "yanchor": "bottom",
          "yref": "y"
         },
         {
          "align": "left",
          "font": {
           "size": 12
          },
          "showarrow": false,
          "text": "Source: Ministry of Justice, Criminal justice statistics",
          "x": 0,
          "xanchor": "left",
          "xref": "paper",
          "y": -0.1,
          "yanchor": "top",
          "yref": "paper"
         },
         {
          "font": {
           "size": 14
          },
          "showarrow": false,
          "text": "Women sentenced to custody",
          "x": 0,
          "xanchor": "left",
          "xref": "paper",
          "y": 1,
          "yanchor": "bottom",
          "yref": "paper"
         }
        ],
        "hovermode": "x",
        "template": {
         "data": {
          "scatter": [
           {
            "line": {
             "width": 4
            },
            "marker": {
             "size": 10
            },
            "type": "scatter"
           }
          ]
         },
         "layout": {
          "colorway": [
           "#A01D28",
           "#499CC9",
           "#F9A237",
           "#6FBA3A",
           "#573D6B"
          ],
          "dragmode": false,
          "font": {
           "color": "#54565B",
           "family": "Helvetica Neue, Arial",
           "size": 14
          },
          "height": 360,
          "margin": {
           "b": 75,
           "l": 63,
           "r": 100
          },
          "modebar": {
           "activecolor": "#A01D28"
          },
          "paper_bgcolor": "rgba(1,1,1,0)",
          "plot_bgcolor": "rgba(1,1,1,0)",
          "showlegend": false,
          "title": {
           "font": {
            "family": "Helvetica Neue, Arial",
            "size": 20
           },
           "y": 0.94,
           "yanchor": "bottom"
          },
          "width": 655,
          "xaxis": {
           "gridcolor": "rgba(84, 86, 91, 0.15)",
           "showgrid": false,
           "tickcolor": "#54565B",
           "ticks": "inside"
          },
          "yaxis": {
           "gridcolor": "rgba(84, 86, 91, 0.15)"
          }
         }
        },
        "title": {
         "automargin": true,
         "text": "<b>Use of immediate imprisonment for women in<br>Lancashire 2010—2024</b>",
         "x": 0,
         "xanchor": "left",
         "yref": "container"
        },
        "xaxis": {
         "dtick": 2,
         "range": [
          2009.7,
          2024.3
         ],
         "tick0": 2010
        },
        "yaxis": {
         "range": [
          0,
          210
         ],
         "tick0": 0,
         "tickformat": ",.0f",
         "title": {
          "text": ""
         }
        }
       }
      }
     },
     "metadata": {},
     "output_type": "display_data"
    },
    {
     "name": "stderr",
     "output_type": "stream",
     "text": [
      "2025-06-12 16:37:33,403 - INFO - Adding chart annotations...\n",
      "2025-06-12 16:37:33,404 - INFO - Setting trace labels...\n",
      "2025-06-12 16:37:33,405 - INFO - Label index: {0}, Adjustment: {0}\n",
      "2025-06-12 16:37:33,409 - INFO - Setting source annotation...\n",
      "2025-06-12 16:37:33,413 - INFO - Annotations added successfully.\n"
     ]
    },
    {
     "data": {
      "application/vnd.plotly.v1+json": {
       "config": {
        "plotlyServerURL": "https://plot.ly"
       },
       "data": [
        {
         "hovertemplate": "%{y}<extra></extra>",
         "meta": "Leicestershire",
         "mode": "lines",
         "name": "Less than 6 months",
         "type": "scatter",
         "x": {
          "bdata": "2gfbB9wH3QfeB98H4AfhB+IH4wfkB+UH5gfnB+gH",
          "dtype": "i2"
         },
         "y": {
          "bdata": "OTpFPkc9Q0FQR0EmKjAy",
          "dtype": "i1"
         }
        },
        {
         "hovertemplate": "%{y}<extra></extra>",
         "meta": "Leicestershire",
         "mode": "lines",
         "name": "6 months—<br>less than 12 months",
         "type": "scatter",
         "x": {
          "bdata": "2gfbB9wH3QfeB98H4AfhB+IH4wfkB+UH5gfnB+gH",
          "dtype": "i2"
         },
         "y": {
          "bdata": "DAwNDQYECAELCQkEBwoK",
          "dtype": "i1"
         }
        },
        {
         "hovertemplate": "%{y}<extra></extra>",
         "meta": "Leicestershire",
         "mode": "lines",
         "name": "12 months or more",
         "type": "scatter",
         "x": {
          "bdata": "2gfbB9wH3QfeB98H4AfhB+IH4wfkB+UH5gfnB+gH",
          "dtype": "i2"
         },
         "y": {
          "bdata": "IC4gHBgVFwQPDwwTERYY",
          "dtype": "i1"
         }
        }
       ],
       "layout": {
        "annotations": [
         {
          "align": "left",
          "font": {
           "color": "#A01D28",
           "size": 10
          },
          "showarrow": false,
          "text": "Less than 6 months",
          "x": 2024,
          "xanchor": "left",
          "xref": "x",
          "y": 50,
          "yanchor": "bottom",
          "yref": "y"
         },
         {
          "align": "left",
          "font": {
           "color": "#499CC9",
           "size": 10
          },
          "showarrow": false,
          "text": "6 months—<br>less than 12 months",
          "x": 2024,
          "xanchor": "left",
          "xref": "x",
          "y": 0,
          "yanchor": "bottom",
          "yref": "y"
         },
         {
          "align": "left",
          "font": {
           "color": "#F9A237",
           "size": 10
          },
          "showarrow": false,
          "text": "12 months or more",
          "x": 2024,
          "xanchor": "left",
          "xref": "x",
          "y": 24,
          "yanchor": "bottom",
          "yref": "y"
         },
         {
          "align": "left",
          "font": {
           "size": 12
          },
          "showarrow": false,
          "text": "Source: Ministry of Justice, Criminal justice statistics",
          "x": 0,
          "xanchor": "left",
          "xref": "paper",
          "y": -0.1,
          "yanchor": "top",
          "yref": "paper"
         },
         {
          "font": {
           "size": 14
          },
          "showarrow": false,
          "text": "Women sentenced to custody",
          "x": 0,
          "xanchor": "left",
          "xref": "paper",
          "y": 1,
          "yanchor": "bottom",
          "yref": "paper"
         }
        ],
        "hovermode": "x",
        "template": {
         "data": {
          "scatter": [
           {
            "line": {
             "width": 4
            },
            "marker": {
             "size": 10
            },
            "type": "scatter"
           }
          ]
         },
         "layout": {
          "colorway": [
           "#A01D28",
           "#499CC9",
           "#F9A237",
           "#6FBA3A",
           "#573D6B"
          ],
          "dragmode": false,
          "font": {
           "color": "#54565B",
           "family": "Helvetica Neue, Arial",
           "size": 14
          },
          "height": 360,
          "margin": {
           "b": 75,
           "l": 63,
           "r": 100
          },
          "modebar": {
           "activecolor": "#A01D28"
          },
          "paper_bgcolor": "rgba(1,1,1,0)",
          "plot_bgcolor": "rgba(1,1,1,0)",
          "showlegend": false,
          "title": {
           "font": {
            "family": "Helvetica Neue, Arial",
            "size": 20
           },
           "y": 0.94,
           "yanchor": "bottom"
          },
          "width": 655,
          "xaxis": {
           "gridcolor": "rgba(84, 86, 91, 0.15)",
           "showgrid": false,
           "tickcolor": "#54565B",
           "ticks": "inside"
          },
          "yaxis": {
           "gridcolor": "rgba(84, 86, 91, 0.15)"
          }
         }
        },
        "title": {
         "automargin": true,
         "text": "<b>Use of immediate imprisonment for women in<br>Leicestershire 2010—2024</b>",
         "x": 0,
         "xanchor": "left",
         "yref": "container"
        },
        "xaxis": {
         "dtick": 2,
         "range": [
          2009.7,
          2024.3
         ],
         "tick0": 2010
        },
        "yaxis": {
         "range": [
          0,
          103
         ],
         "tick0": 0,
         "tickformat": ",.0f",
         "title": {
          "text": ""
         }
        }
       }
      }
     },
     "metadata": {},
     "output_type": "display_data"
    },
    {
     "name": "stderr",
     "output_type": "stream",
     "text": [
      "2025-06-12 16:37:33,432 - INFO - Adding chart annotations...\n",
      "2025-06-12 16:37:33,435 - INFO - Setting trace labels...\n",
      "2025-06-12 16:37:33,436 - INFO - Label index: {0}, Adjustment: {0}\n",
      "2025-06-12 16:37:33,444 - INFO - Setting source annotation...\n",
      "2025-06-12 16:37:33,449 - INFO - Annotations added successfully.\n"
     ]
    },
    {
     "data": {
      "application/vnd.plotly.v1+json": {
       "config": {
        "plotlyServerURL": "https://plot.ly"
       },
       "data": [
        {
         "hovertemplate": "%{y}<extra></extra>",
         "meta": "Lincolnshire",
         "mode": "lines",
         "name": "Less than 6 months",
         "type": "scatter",
         "x": {
          "bdata": "2gfbB9wH3QfeB98H4AfhB+IH4wfkB+UH5gfnB+gH",
          "dtype": "i2"
         },
         "y": {
          "bdata": "Jx8iMx4rORsnKQ4TGxwd",
          "dtype": "i1"
         }
        },
        {
         "hovertemplate": "%{y}<extra></extra>",
         "meta": "Lincolnshire",
         "mode": "lines",
         "name": "6 months—<br>less than 12 months",
         "type": "scatter",
         "x": {
          "bdata": "2gfbB9wH3QfeB98H4AfhB+IH4wfkB+UH5gfnB+gH",
          "dtype": "i2"
         },
         "y": {
          "bdata": "CgsGBgUGBQEMCAIDBAUE",
          "dtype": "i1"
         }
        },
        {
         "hovertemplate": "%{y}<extra></extra>",
         "meta": "Lincolnshire",
         "mode": "lines",
         "name": "12 months or more",
         "type": "scatter",
         "x": {
          "bdata": "2gfbB9wH3QfeB98H4AfhB+IH4wfkB+UH5gfnB+gH",
          "dtype": "i2"
         },
         "y": {
          "bdata": "FBcZDwoQEwYbEA0KDRYR",
          "dtype": "i1"
         }
        }
       ],
       "layout": {
        "annotations": [
         {
          "align": "left",
          "font": {
           "color": "#A01D28",
           "size": 10
          },
          "showarrow": false,
          "text": "Less than 6 months",
          "x": 2024,
          "xanchor": "left",
          "xref": "x",
          "y": 29,
          "yanchor": "bottom",
          "yref": "y"
         },
         {
          "align": "left",
          "font": {
           "color": "#499CC9",
           "size": 10
          },
          "showarrow": false,
          "text": "6 months—<br>less than 12 months",
          "x": 2024,
          "xanchor": "left",
          "xref": "x",
          "y": 0,
          "yanchor": "bottom",
          "yref": "y"
         },
         {
          "align": "left",
          "font": {
           "color": "#F9A237",
           "size": 10
          },
          "showarrow": false,
          "text": "12 months or more",
          "x": 2024,
          "xanchor": "left",
          "xref": "x",
          "y": 17,
          "yanchor": "bottom",
          "yref": "y"
         },
         {
          "align": "left",
          "font": {
           "size": 12
          },
          "showarrow": false,
          "text": "Source: Ministry of Justice, Criminal justice statistics",
          "x": 0,
          "xanchor": "left",
          "xref": "paper",
          "y": -0.1,
          "yanchor": "top",
          "yref": "paper"
         },
         {
          "font": {
           "size": 14
          },
          "showarrow": false,
          "text": "Women sentenced to custody",
          "x": 0,
          "xanchor": "left",
          "xref": "paper",
          "y": 1,
          "yanchor": "bottom",
          "yref": "paper"
         }
        ],
        "hovermode": "x",
        "template": {
         "data": {
          "scatter": [
           {
            "line": {
             "width": 4
            },
            "marker": {
             "size": 10
            },
            "type": "scatter"
           }
          ]
         },
         "layout": {
          "colorway": [
           "#A01D28",
           "#499CC9",
           "#F9A237",
           "#6FBA3A",
           "#573D6B"
          ],
          "dragmode": false,
          "font": {
           "color": "#54565B",
           "family": "Helvetica Neue, Arial",
           "size": 14
          },
          "height": 360,
          "margin": {
           "b": 75,
           "l": 63,
           "r": 100
          },
          "modebar": {
           "activecolor": "#A01D28"
          },
          "paper_bgcolor": "rgba(1,1,1,0)",
          "plot_bgcolor": "rgba(1,1,1,0)",
          "showlegend": false,
          "title": {
           "font": {
            "family": "Helvetica Neue, Arial",
            "size": 20
           },
           "y": 0.94,
           "yanchor": "bottom"
          },
          "width": 655,
          "xaxis": {
           "gridcolor": "rgba(84, 86, 91, 0.15)",
           "showgrid": false,
           "tickcolor": "#54565B",
           "ticks": "inside"
          },
          "yaxis": {
           "gridcolor": "rgba(84, 86, 91, 0.15)"
          }
         }
        },
        "title": {
         "automargin": true,
         "text": "<b>Use of immediate imprisonment for women in<br>Lincolnshire 2010—2024</b>",
         "x": 0,
         "xanchor": "left",
         "yref": "container"
        },
        "xaxis": {
         "dtick": 2,
         "range": [
          2009.7,
          2024.3
         ],
         "tick0": 2010
        },
        "yaxis": {
         "range": [
          0,
          103
         ],
         "tick0": 0,
         "tickformat": ",.0f",
         "title": {
          "text": ""
         }
        }
       }
      }
     },
     "metadata": {},
     "output_type": "display_data"
    },
    {
     "name": "stderr",
     "output_type": "stream",
     "text": [
      "2025-06-12 16:37:33,467 - INFO - Adding chart annotations...\n",
      "2025-06-12 16:37:33,467 - INFO - Setting trace labels...\n",
      "2025-06-12 16:37:33,468 - INFO - Label index: {0}, Adjustment: {0}\n",
      "2025-06-12 16:37:33,472 - INFO - Setting source annotation...\n",
      "2025-06-12 16:37:33,478 - INFO - Annotations added successfully.\n"
     ]
    },
    {
     "data": {
      "application/vnd.plotly.v1+json": {
       "config": {
        "plotlyServerURL": "https://plot.ly"
       },
       "data": [
        {
         "hovertemplate": "%{y}<extra></extra>",
         "meta": "Merseyside",
         "mode": "lines",
         "name": "Less than 6 months",
         "type": "scatter",
         "x": {
          "bdata": "2gfbB9wH3QfeB98H4AfhB+IH4wfkB+UH5gfnB+gH",
          "dtype": "i2"
         },
         "y": {
          "bdata": "oQCcAJ0AmgCRALIAvgCmAJEAmABSAFoAVQBfAIcA",
          "dtype": "i2"
         }
        },
        {
         "hovertemplate": "%{y}<extra></extra>",
         "meta": "Merseyside",
         "mode": "lines",
         "name": "6 months—<br>less than 12 months",
         "type": "scatter",
         "x": {
          "bdata": "2gfbB9wH3QfeB98H4AfhB+IH4wfkB+UH5gfnB+gH",
          "dtype": "i2"
         },
         "y": {
          "bdata": "Hh8QGxcfFA0RExcUEBMX",
          "dtype": "i1"
         }
        },
        {
         "hovertemplate": "%{y}<extra></extra>",
         "meta": "Merseyside",
         "mode": "lines",
         "name": "12 months or more",
         "type": "scatter",
         "x": {
          "bdata": "2gfbB9wH3QfeB98H4AfhB+IH4wfkB+UH5gfnB+gH",
          "dtype": "i2"
         },
         "y": {
          "bdata": "RFVAN01ERx1MOS5KTlE2",
          "dtype": "i1"
         }
        }
       ],
       "layout": {
        "annotations": [
         {
          "align": "left",
          "font": {
           "color": "#A01D28",
           "size": 10
          },
          "showarrow": false,
          "text": "Less than 6 months",
          "x": 2024,
          "xanchor": "left",
          "xref": "x",
          "y": 135,
          "yanchor": "bottom",
          "yref": "y"
         },
         {
          "align": "left",
          "font": {
           "color": "#499CC9",
           "size": 10
          },
          "showarrow": false,
          "text": "6 months—<br>less than 12 months",
          "x": 2024,
          "xanchor": "left",
          "xref": "x",
          "y": 0,
          "yanchor": "bottom",
          "yref": "y"
         },
         {
          "align": "left",
          "font": {
           "color": "#F9A237",
           "size": 10
          },
          "showarrow": false,
          "text": "12 months or more",
          "x": 2024,
          "xanchor": "left",
          "xref": "x",
          "y": 54,
          "yanchor": "bottom",
          "yref": "y"
         },
         {
          "align": "left",
          "font": {
           "size": 12
          },
          "showarrow": false,
          "text": "Source: Ministry of Justice, Criminal justice statistics",
          "x": 0,
          "xanchor": "left",
          "xref": "paper",
          "y": -0.1,
          "yanchor": "top",
          "yref": "paper"
         },
         {
          "font": {
           "size": 14
          },
          "showarrow": false,
          "text": "Women sentenced to custody",
          "x": 0,
          "xanchor": "left",
          "xref": "paper",
          "y": 1,
          "yanchor": "bottom",
          "yref": "paper"
         }
        ],
        "hovermode": "x",
        "template": {
         "data": {
          "scatter": [
           {
            "line": {
             "width": 4
            },
            "marker": {
             "size": 10
            },
            "type": "scatter"
           }
          ]
         },
         "layout": {
          "colorway": [
           "#A01D28",
           "#499CC9",
           "#F9A237",
           "#6FBA3A",
           "#573D6B"
          ],
          "dragmode": false,
          "font": {
           "color": "#54565B",
           "family": "Helvetica Neue, Arial",
           "size": 14
          },
          "height": 360,
          "margin": {
           "b": 75,
           "l": 63,
           "r": 100
          },
          "modebar": {
           "activecolor": "#A01D28"
          },
          "paper_bgcolor": "rgba(1,1,1,0)",
          "plot_bgcolor": "rgba(1,1,1,0)",
          "showlegend": false,
          "title": {
           "font": {
            "family": "Helvetica Neue, Arial",
            "size": 20
           },
           "y": 0.94,
           "yanchor": "bottom"
          },
          "width": 655,
          "xaxis": {
           "gridcolor": "rgba(84, 86, 91, 0.15)",
           "showgrid": false,
           "tickcolor": "#54565B",
           "ticks": "inside"
          },
          "yaxis": {
           "gridcolor": "rgba(84, 86, 91, 0.15)"
          }
         }
        },
        "title": {
         "automargin": true,
         "text": "<b>Use of immediate imprisonment for women in<br>Merseyside 2010—2024</b>",
         "x": 0,
         "xanchor": "left",
         "yref": "container"
        },
        "xaxis": {
         "dtick": 2,
         "range": [
          2009.7,
          2024.3
         ],
         "tick0": 2010
        },
        "yaxis": {
         "range": [
          0,
          210
         ],
         "tick0": 0,
         "tickformat": ",.0f",
         "title": {
          "text": ""
         }
        }
       }
      }
     },
     "metadata": {},
     "output_type": "display_data"
    },
    {
     "name": "stderr",
     "output_type": "stream",
     "text": [
      "2025-06-12 16:37:33,497 - INFO - Adding chart annotations...\n",
      "2025-06-12 16:37:33,498 - INFO - Setting trace labels...\n",
      "2025-06-12 16:37:33,499 - INFO - Label index: {0}, Adjustment: {0}\n",
      "2025-06-12 16:37:33,503 - INFO - Setting source annotation...\n",
      "2025-06-12 16:37:33,508 - INFO - Annotations added successfully.\n"
     ]
    },
    {
     "data": {
      "application/vnd.plotly.v1+json": {
       "config": {
        "plotlyServerURL": "https://plot.ly"
       },
       "data": [
        {
         "hovertemplate": "%{y}<extra></extra>",
         "meta": "Metropolitan",
         "mode": "lines",
         "name": "Less than 6 months",
         "type": "scatter",
         "x": {
          "bdata": "2gfbB9wH3QfeB98H4AfhB+IH4wfkB+UH5gfnB+gH",
          "dtype": "i2"
         },
         "y": {
          "bdata": "NgQwBKoDUgNLAxADWQPVAqUCWgKcAUsBWAFAAZoB",
          "dtype": "i2"
         }
        },
        {
         "hovertemplate": "%{y}<extra></extra>",
         "meta": "Metropolitan",
         "mode": "lines",
         "name": "6 months—<br>less than 12 months",
         "type": "scatter",
         "x": {
          "bdata": "2gfbB9wH3QfeB98H4AfhB+IH4wfkB+UH5gfnB+gH",
          "dtype": "i2"
         },
         "y": {
          "bdata": "2wDvALsAmgCFAHAAfwBOAGAAVABOADkAOwBMAEsA",
          "dtype": "i2"
         }
        },
        {
         "hovertemplate": "%{y}<extra></extra>",
         "meta": "Metropolitan",
         "mode": "lines",
         "name": "12 months or more",
         "type": "scatter",
         "x": {
          "bdata": "2gfbB9wH3QfeB98H4AfhB+IH4wfkB+UH5gfnB+gH",
          "dtype": "i2"
         },
         "y": {
          "bdata": "jAHaAaoBJwFBASMBGwGxAAcB3gCMAJ0AtAC7ANgA",
          "dtype": "i2"
         }
        }
       ],
       "layout": {
        "annotations": [
         {
          "align": "left",
          "font": {
           "color": "#A01D28",
           "size": 10
          },
          "showarrow": false,
          "text": "Less than 6 months",
          "x": 2024,
          "xanchor": "left",
          "xref": "x",
          "y": 410,
          "yanchor": "bottom",
          "yref": "y"
         },
         {
          "align": "left",
          "font": {
           "color": "#499CC9",
           "size": 10
          },
          "showarrow": false,
          "text": "6 months—<br>less than 12 months",
          "x": 2024,
          "xanchor": "left",
          "xref": "x",
          "y": 0,
          "yanchor": "bottom",
          "yref": "y"
         },
         {
          "align": "left",
          "font": {
           "color": "#F9A237",
           "size": 10
          },
          "showarrow": false,
          "text": "12 months or more",
          "x": 2024,
          "xanchor": "left",
          "xref": "x",
          "y": 216,
          "yanchor": "bottom",
          "yref": "y"
         },
         {
          "align": "left",
          "font": {
           "size": 12
          },
          "showarrow": false,
          "text": "Source: Ministry of Justice, Criminal justice statistics",
          "x": 0,
          "xanchor": "left",
          "xref": "paper",
          "y": -0.1,
          "yanchor": "top",
          "yref": "paper"
         },
         {
          "font": {
           "size": 14
          },
          "showarrow": false,
          "text": "Women sentenced to custody",
          "x": 0,
          "xanchor": "left",
          "xref": "paper",
          "y": 1,
          "yanchor": "bottom",
          "yref": "paper"
         }
        ],
        "hovermode": "x",
        "template": {
         "data": {
          "scatter": [
           {
            "line": {
             "width": 4
            },
            "marker": {
             "size": 10
            },
            "type": "scatter"
           }
          ]
         },
         "layout": {
          "colorway": [
           "#A01D28",
           "#499CC9",
           "#F9A237",
           "#6FBA3A",
           "#573D6B"
          ],
          "dragmode": false,
          "font": {
           "color": "#54565B",
           "family": "Helvetica Neue, Arial",
           "size": 14
          },
          "height": 360,
          "margin": {
           "b": 75,
           "l": 63,
           "r": 100
          },
          "modebar": {
           "activecolor": "#A01D28"
          },
          "paper_bgcolor": "rgba(1,1,1,0)",
          "plot_bgcolor": "rgba(1,1,1,0)",
          "showlegend": false,
          "title": {
           "font": {
            "family": "Helvetica Neue, Arial",
            "size": 20
           },
           "y": 0.94,
           "yanchor": "bottom"
          },
          "width": 655,
          "xaxis": {
           "gridcolor": "rgba(84, 86, 91, 0.15)",
           "showgrid": false,
           "tickcolor": "#54565B",
           "ticks": "inside"
          },
          "yaxis": {
           "gridcolor": "rgba(84, 86, 91, 0.15)"
          }
         }
        },
        "title": {
         "automargin": true,
         "text": "<b>Use of immediate imprisonment for women in<br>Metropolitan 2010—2024</b>",
         "x": 0,
         "xanchor": "left",
         "yref": "container"
        },
        "xaxis": {
         "dtick": 2,
         "range": [
          2009.7,
          2024.3
         ],
         "tick0": 2010
        },
        "yaxis": {
         "range": [
          0,
          1210
         ],
         "tick0": 0,
         "tickformat": ",.0f",
         "title": {
          "text": ""
         }
        }
       }
      }
     },
     "metadata": {},
     "output_type": "display_data"
    },
    {
     "name": "stderr",
     "output_type": "stream",
     "text": [
      "2025-06-12 16:37:33,525 - INFO - Adding chart annotations...\n",
      "2025-06-12 16:37:33,527 - INFO - Setting trace labels...\n",
      "2025-06-12 16:37:33,528 - INFO - Label index: {0}, Adjustment: {0}\n",
      "2025-06-12 16:37:33,533 - INFO - Setting source annotation...\n",
      "2025-06-12 16:37:33,538 - INFO - Annotations added successfully.\n"
     ]
    },
    {
     "data": {
      "application/vnd.plotly.v1+json": {
       "config": {
        "plotlyServerURL": "https://plot.ly"
       },
       "data": [
        {
         "hovertemplate": "%{y}<extra></extra>",
         "meta": "Norfolk",
         "mode": "lines",
         "name": "Less than 6 months",
         "type": "scatter",
         "x": {
          "bdata": "2gfbB9wH3QfeB98H4AfhB+IH4wfkB+UH5gfnB+gH",
          "dtype": "i2"
         },
         "y": {
          "bdata": "Ozo8JzBDW0NKOTMiHDYw",
          "dtype": "i1"
         }
        },
        {
         "hovertemplate": "%{y}<extra></extra>",
         "meta": "Norfolk",
         "mode": "lines",
         "name": "6 months—<br>less than 12 months",
         "type": "scatter",
         "x": {
          "bdata": "2gfbB9wH3QfeB98H4AfhB+IH4wfkB+UH5gfnB+gH",
          "dtype": "i2"
         },
         "y": {
          "bdata": "EgoJBg0LEAMICQgGAwoC",
          "dtype": "i1"
         }
        },
        {
         "hovertemplate": "%{y}<extra></extra>",
         "meta": "Norfolk",
         "mode": "lines",
         "name": "12 months or more",
         "type": "scatter",
         "x": {
          "bdata": "2gfbB9wH3QfeB98H4AfhB+IH4wfkB+UH5gfnB+gH",
          "dtype": "i2"
         },
         "y": {
          "bdata": "ExYVHBgVEREaFBoTEhcX",
          "dtype": "i1"
         }
        }
       ],
       "layout": {
        "annotations": [
         {
          "align": "left",
          "font": {
           "color": "#A01D28",
           "size": 10
          },
          "showarrow": false,
          "text": "Less than 6 months",
          "x": 2024,
          "xanchor": "left",
          "xref": "x",
          "y": 48,
          "yanchor": "bottom",
          "yref": "y"
         },
         {
          "align": "left",
          "font": {
           "color": "#499CC9",
           "size": 10
          },
          "showarrow": false,
          "text": "6 months—<br>less than 12 months",
          "x": 2024,
          "xanchor": "left",
          "xref": "x",
          "y": 0,
          "yanchor": "bottom",
          "yref": "y"
         },
         {
          "align": "left",
          "font": {
           "color": "#F9A237",
           "size": 10
          },
          "showarrow": false,
          "text": "12 months or more",
          "x": 2024,
          "xanchor": "left",
          "xref": "x",
          "y": 23,
          "yanchor": "bottom",
          "yref": "y"
         },
         {
          "align": "left",
          "font": {
           "size": 12
          },
          "showarrow": false,
          "text": "Source: Ministry of Justice, Criminal justice statistics",
          "x": 0,
          "xanchor": "left",
          "xref": "paper",
          "y": -0.1,
          "yanchor": "top",
          "yref": "paper"
         },
         {
          "font": {
           "size": 14
          },
          "showarrow": false,
          "text": "Women sentenced to custody",
          "x": 0,
          "xanchor": "left",
          "xref": "paper",
          "y": 1,
          "yanchor": "bottom",
          "yref": "paper"
         }
        ],
        "hovermode": "x",
        "template": {
         "data": {
          "scatter": [
           {
            "line": {
             "width": 4
            },
            "marker": {
             "size": 10
            },
            "type": "scatter"
           }
          ]
         },
         "layout": {
          "colorway": [
           "#A01D28",
           "#499CC9",
           "#F9A237",
           "#6FBA3A",
           "#573D6B"
          ],
          "dragmode": false,
          "font": {
           "color": "#54565B",
           "family": "Helvetica Neue, Arial",
           "size": 14
          },
          "height": 360,
          "margin": {
           "b": 75,
           "l": 63,
           "r": 100
          },
          "modebar": {
           "activecolor": "#A01D28"
          },
          "paper_bgcolor": "rgba(1,1,1,0)",
          "plot_bgcolor": "rgba(1,1,1,0)",
          "showlegend": false,
          "title": {
           "font": {
            "family": "Helvetica Neue, Arial",
            "size": 20
           },
           "y": 0.94,
           "yanchor": "bottom"
          },
          "width": 655,
          "xaxis": {
           "gridcolor": "rgba(84, 86, 91, 0.15)",
           "showgrid": false,
           "tickcolor": "#54565B",
           "ticks": "inside"
          },
          "yaxis": {
           "gridcolor": "rgba(84, 86, 91, 0.15)"
          }
         }
        },
        "title": {
         "automargin": true,
         "text": "<b>Use of immediate imprisonment for women in<br>Norfolk 2010—2024</b>",
         "x": 0,
         "xanchor": "left",
         "yref": "container"
        },
        "xaxis": {
         "dtick": 2,
         "range": [
          2009.7,
          2024.3
         ],
         "tick0": 2010
        },
        "yaxis": {
         "range": [
          0,
          103
         ],
         "tick0": 0,
         "tickformat": ",.0f",
         "title": {
          "text": ""
         }
        }
       }
      }
     },
     "metadata": {},
     "output_type": "display_data"
    },
    {
     "name": "stderr",
     "output_type": "stream",
     "text": [
      "2025-06-12 16:37:33,553 - INFO - Adding chart annotations...\n",
      "2025-06-12 16:37:33,554 - INFO - Setting trace labels...\n",
      "2025-06-12 16:37:33,555 - INFO - Label index: {0}, Adjustment: {0}\n",
      "2025-06-12 16:37:33,559 - INFO - Setting source annotation...\n",
      "2025-06-12 16:37:33,563 - INFO - Annotations added successfully.\n"
     ]
    },
    {
     "data": {
      "application/vnd.plotly.v1+json": {
       "config": {
        "plotlyServerURL": "https://plot.ly"
       },
       "data": [
        {
         "hovertemplate": "%{y}<extra></extra>",
         "meta": "North Wales",
         "mode": "lines",
         "name": "Less than 6 months",
         "type": "scatter",
         "x": {
          "bdata": "2gfbB9wH3QfeB98H4AfhB+IH4wfkB+UH5gfnB+gH",
          "dtype": "i2"
         },
         "y": {
          "bdata": "KCQuPD9MV0VANCQtNjcv",
          "dtype": "i1"
         }
        },
        {
         "hovertemplate": "%{y}<extra></extra>",
         "meta": "North Wales",
         "mode": "lines",
         "name": "6 months—<br>less than 12 months",
         "type": "scatter",
         "x": {
          "bdata": "2gfbB9wH3QfeB98H4AfhB+IH4wfkB+UH5gfnB+gH",
          "dtype": "i2"
         },
         "y": {
          "bdata": "DQ8RDQkKBAUFBwsJBgkI",
          "dtype": "i1"
         }
        },
        {
         "hovertemplate": "%{y}<extra></extra>",
         "meta": "North Wales",
         "mode": "lines",
         "name": "12 months or more",
         "type": "scatter",
         "x": {
          "bdata": "2gfbB9wH3QfeB98H4AfhB+IH4wfkB+UH5gfnB+gH",
          "dtype": "i2"
         },
         "y": {
          "bdata": "FRUfGxMXGgIaFwsQEBUN",
          "dtype": "i1"
         }
        }
       ],
       "layout": {
        "annotations": [
         {
          "align": "left",
          "font": {
           "color": "#A01D28",
           "size": 10
          },
          "showarrow": false,
          "text": "Less than 6 months",
          "x": 2024,
          "xanchor": "left",
          "xref": "x",
          "y": 47,
          "yanchor": "bottom",
          "yref": "y"
         },
         {
          "align": "left",
          "font": {
           "color": "#499CC9",
           "size": 10
          },
          "showarrow": false,
          "text": "6 months—<br>less than 12 months",
          "x": 2024,
          "xanchor": "left",
          "xref": "x",
          "y": 0,
          "yanchor": "bottom",
          "yref": "y"
         },
         {
          "align": "left",
          "font": {
           "color": "#F9A237",
           "size": 10
          },
          "showarrow": false,
          "text": "12 months or more",
          "x": 2024,
          "xanchor": "left",
          "xref": "x",
          "y": 13,
          "yanchor": "bottom",
          "yref": "y"
         },
         {
          "align": "left",
          "font": {
           "size": 12
          },
          "showarrow": false,
          "text": "Source: Ministry of Justice, Criminal justice statistics",
          "x": 0,
          "xanchor": "left",
          "xref": "paper",
          "y": -0.1,
          "yanchor": "top",
          "yref": "paper"
         },
         {
          "font": {
           "size": 14
          },
          "showarrow": false,
          "text": "Women sentenced to custody",
          "x": 0,
          "xanchor": "left",
          "xref": "paper",
          "y": 1,
          "yanchor": "bottom",
          "yref": "paper"
         }
        ],
        "hovermode": "x",
        "template": {
         "data": {
          "scatter": [
           {
            "line": {
             "width": 4
            },
            "marker": {
             "size": 10
            },
            "type": "scatter"
           }
          ]
         },
         "layout": {
          "colorway": [
           "#A01D28",
           "#499CC9",
           "#F9A237",
           "#6FBA3A",
           "#573D6B"
          ],
          "dragmode": false,
          "font": {
           "color": "#54565B",
           "family": "Helvetica Neue, Arial",
           "size": 14
          },
          "height": 360,
          "margin": {
           "b": 75,
           "l": 63,
           "r": 100
          },
          "modebar": {
           "activecolor": "#A01D28"
          },
          "paper_bgcolor": "rgba(1,1,1,0)",
          "plot_bgcolor": "rgba(1,1,1,0)",
          "showlegend": false,
          "title": {
           "font": {
            "family": "Helvetica Neue, Arial",
            "size": 20
           },
           "y": 0.94,
           "yanchor": "bottom"
          },
          "width": 655,
          "xaxis": {
           "gridcolor": "rgba(84, 86, 91, 0.15)",
           "showgrid": false,
           "tickcolor": "#54565B",
           "ticks": "inside"
          },
          "yaxis": {
           "gridcolor": "rgba(84, 86, 91, 0.15)"
          }
         }
        },
        "title": {
         "automargin": true,
         "text": "<b>Use of immediate imprisonment for women in<br>North Wales 2010—2024</b>",
         "x": 0,
         "xanchor": "left",
         "yref": "container"
        },
        "xaxis": {
         "dtick": 2,
         "range": [
          2009.7,
          2024.3
         ],
         "tick0": 2010
        },
        "yaxis": {
         "range": [
          0,
          103
         ],
         "tick0": 0,
         "tickformat": ",.0f",
         "title": {
          "text": ""
         }
        }
       }
      }
     },
     "metadata": {},
     "output_type": "display_data"
    },
    {
     "name": "stderr",
     "output_type": "stream",
     "text": [
      "2025-06-12 16:37:33,587 - INFO - Adding chart annotations...\n",
      "2025-06-12 16:37:33,588 - INFO - Setting trace labels...\n",
      "2025-06-12 16:37:33,589 - INFO - Label index: {0}, Adjustment: {0}\n",
      "2025-06-12 16:37:33,595 - INFO - Setting source annotation...\n",
      "2025-06-12 16:37:33,600 - INFO - Annotations added successfully.\n"
     ]
    },
    {
     "data": {
      "application/vnd.plotly.v1+json": {
       "config": {
        "plotlyServerURL": "https://plot.ly"
       },
       "data": [
        {
         "hovertemplate": "%{y}<extra></extra>",
         "meta": "North Yorkshire",
         "mode": "lines",
         "name": "Less than 6 months",
         "type": "scatter",
         "x": {
          "bdata": "2gfbB9wH3QfeB98H4AfhB+IH4wfkB+UH5gfnB+gH",
          "dtype": "i2"
         },
         "y": {
          "bdata": "PT9HNzcwNDg5PzkhIjE0",
          "dtype": "i1"
         }
        },
        {
         "hovertemplate": "%{y}<extra></extra>",
         "meta": "North Yorkshire",
         "mode": "lines",
         "name": "6 months—<br>less than 12 months",
         "type": "scatter",
         "x": {
          "bdata": "2gfbB9wH3QfeB98H4AfhB+IH4wfkB+UH5gfnB+gH",
          "dtype": "i2"
         },
         "y": {
          "bdata": "CgkHCQQKBQMKDQ0IBgMG",
          "dtype": "i1"
         }
        },
        {
         "hovertemplate": "%{y}<extra></extra>",
         "meta": "North Yorkshire",
         "mode": "lines",
         "name": "12 months or more",
         "type": "scatter",
         "x": {
          "bdata": "2gfbB9wH3QfeB98H4AfhB+IH4wfkB+UH5gfnB+gH",
          "dtype": "i2"
         },
         "y": {
          "bdata": "DgsTCgsOGAwPEw4UCQ0S",
          "dtype": "i1"
         }
        }
       ],
       "layout": {
        "annotations": [
         {
          "align": "left",
          "font": {
           "color": "#A01D28",
           "size": 10
          },
          "showarrow": false,
          "text": "Less than 6 months",
          "x": 2024,
          "xanchor": "left",
          "xref": "x",
          "y": 52,
          "yanchor": "bottom",
          "yref": "y"
         },
         {
          "align": "left",
          "font": {
           "color": "#499CC9",
           "size": 10
          },
          "showarrow": false,
          "text": "6 months—<br>less than 12 months",
          "x": 2024,
          "xanchor": "left",
          "xref": "x",
          "y": 0,
          "yanchor": "bottom",
          "yref": "y"
         },
         {
          "align": "left",
          "font": {
           "color": "#F9A237",
           "size": 10
          },
          "showarrow": false,
          "text": "12 months or more",
          "x": 2024,
          "xanchor": "left",
          "xref": "x",
          "y": 18,
          "yanchor": "bottom",
          "yref": "y"
         },
         {
          "align": "left",
          "font": {
           "size": 12
          },
          "showarrow": false,
          "text": "Source: Ministry of Justice, Criminal justice statistics",
          "x": 0,
          "xanchor": "left",
          "xref": "paper",
          "y": -0.1,
          "yanchor": "top",
          "yref": "paper"
         },
         {
          "font": {
           "size": 14
          },
          "showarrow": false,
          "text": "Women sentenced to custody",
          "x": 0,
          "xanchor": "left",
          "xref": "paper",
          "y": 1,
          "yanchor": "bottom",
          "yref": "paper"
         }
        ],
        "hovermode": "x",
        "template": {
         "data": {
          "scatter": [
           {
            "line": {
             "width": 4
            },
            "marker": {
             "size": 10
            },
            "type": "scatter"
           }
          ]
         },
         "layout": {
          "colorway": [
           "#A01D28",
           "#499CC9",
           "#F9A237",
           "#6FBA3A",
           "#573D6B"
          ],
          "dragmode": false,
          "font": {
           "color": "#54565B",
           "family": "Helvetica Neue, Arial",
           "size": 14
          },
          "height": 360,
          "margin": {
           "b": 75,
           "l": 63,
           "r": 100
          },
          "modebar": {
           "activecolor": "#A01D28"
          },
          "paper_bgcolor": "rgba(1,1,1,0)",
          "plot_bgcolor": "rgba(1,1,1,0)",
          "showlegend": false,
          "title": {
           "font": {
            "family": "Helvetica Neue, Arial",
            "size": 20
           },
           "y": 0.94,
           "yanchor": "bottom"
          },
          "width": 655,
          "xaxis": {
           "gridcolor": "rgba(84, 86, 91, 0.15)",
           "showgrid": false,
           "tickcolor": "#54565B",
           "ticks": "inside"
          },
          "yaxis": {
           "gridcolor": "rgba(84, 86, 91, 0.15)"
          }
         }
        },
        "title": {
         "automargin": true,
         "text": "<b>Use of immediate imprisonment for women in<br>North Yorkshire 2010—2024</b>",
         "x": 0,
         "xanchor": "left",
         "yref": "container"
        },
        "xaxis": {
         "dtick": 2,
         "range": [
          2009.7,
          2024.3
         ],
         "tick0": 2010
        },
        "yaxis": {
         "range": [
          0,
          103
         ],
         "tick0": 0,
         "tickformat": ",.0f",
         "title": {
          "text": ""
         }
        }
       }
      }
     },
     "metadata": {},
     "output_type": "display_data"
    },
    {
     "name": "stderr",
     "output_type": "stream",
     "text": [
      "2025-06-12 16:37:33,615 - INFO - Adding chart annotations...\n",
      "2025-06-12 16:37:33,617 - INFO - Setting trace labels...\n",
      "2025-06-12 16:37:33,618 - INFO - Label index: {0}, Adjustment: {0}\n",
      "2025-06-12 16:37:33,623 - INFO - Setting source annotation...\n",
      "2025-06-12 16:37:33,628 - INFO - Annotations added successfully.\n"
     ]
    },
    {
     "data": {
      "application/vnd.plotly.v1+json": {
       "config": {
        "plotlyServerURL": "https://plot.ly"
       },
       "data": [
        {
         "hovertemplate": "%{y}<extra></extra>",
         "meta": "Northamptonshire",
         "mode": "lines",
         "name": "Less than 6 months",
         "type": "scatter",
         "x": {
          "bdata": "2gfbB9wH3QfeB98H4AfhB+IH4wfkB+UH5gfnB+gH",
          "dtype": "i2"
         },
         "y": {
          "bdata": "UEtKRUI0NCspKRYmHC87",
          "dtype": "i1"
         }
        },
        {
         "hovertemplate": "%{y}<extra></extra>",
         "meta": "Northamptonshire",
         "mode": "lines",
         "name": "6 months—<br>less than 12 months",
         "type": "scatter",
         "x": {
          "bdata": "2gfbB9wH3QfeB98H4AfhB+IH4wfkB+UH5gfnB+gH",
          "dtype": "i2"
         },
         "y": {
          "bdata": "DRITCwkDBwEBBAMEBQQC",
          "dtype": "i1"
         }
        },
        {
         "hovertemplate": "%{y}<extra></extra>",
         "meta": "Northamptonshire",
         "mode": "lines",
         "name": "12 months or more",
         "type": "scatter",
         "x": {
          "bdata": "2gfbB9wH3QfeB98H4AfhB+IH4wfkB+UH5gfnB+gH",
          "dtype": "i2"
         },
         "y": {
          "bdata": "IxQdDBIPEgEODAoTCgsL",
          "dtype": "i1"
         }
        }
       ],
       "layout": {
        "annotations": [
         {
          "align": "left",
          "font": {
           "color": "#A01D28",
           "size": 10
          },
          "showarrow": false,
          "text": "Less than 6 months",
          "x": 2024,
          "xanchor": "left",
          "xref": "x",
          "y": 59,
          "yanchor": "bottom",
          "yref": "y"
         },
         {
          "align": "left",
          "font": {
           "color": "#499CC9",
           "size": 10
          },
          "showarrow": false,
          "text": "6 months—<br>less than 12 months",
          "x": 2024,
          "xanchor": "left",
          "xref": "x",
          "y": 0,
          "yanchor": "bottom",
          "yref": "y"
         },
         {
          "align": "left",
          "font": {
           "color": "#F9A237",
           "size": 10
          },
          "showarrow": false,
          "text": "12 months or more",
          "x": 2024,
          "xanchor": "left",
          "xref": "x",
          "y": 11,
          "yanchor": "bottom",
          "yref": "y"
         },
         {
          "align": "left",
          "font": {
           "size": 12
          },
          "showarrow": false,
          "text": "Source: Ministry of Justice, Criminal justice statistics",
          "x": 0,
          "xanchor": "left",
          "xref": "paper",
          "y": -0.1,
          "yanchor": "top",
          "yref": "paper"
         },
         {
          "font": {
           "size": 14
          },
          "showarrow": false,
          "text": "Women sentenced to custody",
          "x": 0,
          "xanchor": "left",
          "xref": "paper",
          "y": 1,
          "yanchor": "bottom",
          "yref": "paper"
         }
        ],
        "hovermode": "x",
        "template": {
         "data": {
          "scatter": [
           {
            "line": {
             "width": 4
            },
            "marker": {
             "size": 10
            },
            "type": "scatter"
           }
          ]
         },
         "layout": {
          "colorway": [
           "#A01D28",
           "#499CC9",
           "#F9A237",
           "#6FBA3A",
           "#573D6B"
          ],
          "dragmode": false,
          "font": {
           "color": "#54565B",
           "family": "Helvetica Neue, Arial",
           "size": 14
          },
          "height": 360,
          "margin": {
           "b": 75,
           "l": 63,
           "r": 100
          },
          "modebar": {
           "activecolor": "#A01D28"
          },
          "paper_bgcolor": "rgba(1,1,1,0)",
          "plot_bgcolor": "rgba(1,1,1,0)",
          "showlegend": false,
          "title": {
           "font": {
            "family": "Helvetica Neue, Arial",
            "size": 20
           },
           "y": 0.94,
           "yanchor": "bottom"
          },
          "width": 655,
          "xaxis": {
           "gridcolor": "rgba(84, 86, 91, 0.15)",
           "showgrid": false,
           "tickcolor": "#54565B",
           "ticks": "inside"
          },
          "yaxis": {
           "gridcolor": "rgba(84, 86, 91, 0.15)"
          }
         }
        },
        "title": {
         "automargin": true,
         "text": "<b>Use of immediate imprisonment for women in<br>Northamptonshire 2010—2024</b>",
         "x": 0,
         "xanchor": "left",
         "yref": "container"
        },
        "xaxis": {
         "dtick": 2,
         "range": [
          2009.7,
          2024.3
         ],
         "tick0": 2010
        },
        "yaxis": {
         "range": [
          0,
          103
         ],
         "tick0": 0,
         "tickformat": ",.0f",
         "title": {
          "text": ""
         }
        }
       }
      }
     },
     "metadata": {},
     "output_type": "display_data"
    },
    {
     "name": "stderr",
     "output_type": "stream",
     "text": [
      "2025-06-12 16:37:33,649 - INFO - Adding chart annotations...\n",
      "2025-06-12 16:37:33,650 - INFO - Setting trace labels...\n",
      "2025-06-12 16:37:33,652 - INFO - Label index: {0}, Adjustment: {0}\n",
      "2025-06-12 16:37:33,658 - INFO - Setting source annotation...\n",
      "2025-06-12 16:37:33,662 - INFO - Annotations added successfully.\n"
     ]
    },
    {
     "data": {
      "application/vnd.plotly.v1+json": {
       "config": {
        "plotlyServerURL": "https://plot.ly"
       },
       "data": [
        {
         "hovertemplate": "%{y}<extra></extra>",
         "meta": "Northumbria",
         "mode": "lines",
         "name": "Less than 6 months",
         "type": "scatter",
         "x": {
          "bdata": "2gfbB9wH3QfeB98H4AfhB+IH4wfkB+UH5gfnB+gH",
          "dtype": "i2"
         },
         "y": {
          "bdata": "ZHpsVHp7Zl5yYTQ9MlFf",
          "dtype": "i1"
         }
        },
        {
         "hovertemplate": "%{y}<extra></extra>",
         "meta": "Northumbria",
         "mode": "lines",
         "name": "6 months—<br>less than 12 months",
         "type": "scatter",
         "x": {
          "bdata": "2gfbB9wH3QfeB98H4AfhB+IH4wfkB+UH5gfnB+gH",
          "dtype": "i2"
         },
         "y": {
          "bdata": "EAwRFQUKEQYLEBIQDwMN",
          "dtype": "i1"
         }
        },
        {
         "hovertemplate": "%{y}<extra></extra>",
         "meta": "Northumbria",
         "mode": "lines",
         "name": "12 months or more",
         "type": "scatter",
         "x": {
          "bdata": "2gfbB9wH3QfeB98H4AfhB+IH4wfkB+UH5gfnB+gH",
          "dtype": "i2"
         },
         "y": {
          "bdata": "KEIlHSsqLhgXIRUhJSMl",
          "dtype": "i1"
         }
        }
       ],
       "layout": {
        "annotations": [
         {
          "align": "left",
          "font": {
           "color": "#A01D28",
           "size": 10
          },
          "showarrow": false,
          "text": "Less than 6 months",
          "x": 2024,
          "xanchor": "left",
          "xref": "x",
          "y": 95,
          "yanchor": "bottom",
          "yref": "y"
         },
         {
          "align": "left",
          "font": {
           "color": "#499CC9",
           "size": 10
          },
          "showarrow": false,
          "text": "6 months—<br>less than 12 months",
          "x": 2024,
          "xanchor": "left",
          "xref": "x",
          "y": 0,
          "yanchor": "bottom",
          "yref": "y"
         },
         {
          "align": "left",
          "font": {
           "color": "#F9A237",
           "size": 10
          },
          "showarrow": false,
          "text": "12 months or more",
          "x": 2024,
          "xanchor": "left",
          "xref": "x",
          "y": 37,
          "yanchor": "bottom",
          "yref": "y"
         },
         {
          "align": "left",
          "font": {
           "size": 12
          },
          "showarrow": false,
          "text": "Source: Ministry of Justice, Criminal justice statistics",
          "x": 0,
          "xanchor": "left",
          "xref": "paper",
          "y": -0.1,
          "yanchor": "top",
          "yref": "paper"
         },
         {
          "font": {
           "size": 14
          },
          "showarrow": false,
          "text": "Women sentenced to custody",
          "x": 0,
          "xanchor": "left",
          "xref": "paper",
          "y": 1,
          "yanchor": "bottom",
          "yref": "paper"
         }
        ],
        "hovermode": "x",
        "template": {
         "data": {
          "scatter": [
           {
            "line": {
             "width": 4
            },
            "marker": {
             "size": 10
            },
            "type": "scatter"
           }
          ]
         },
         "layout": {
          "colorway": [
           "#A01D28",
           "#499CC9",
           "#F9A237",
           "#6FBA3A",
           "#573D6B"
          ],
          "dragmode": false,
          "font": {
           "color": "#54565B",
           "family": "Helvetica Neue, Arial",
           "size": 14
          },
          "height": 360,
          "margin": {
           "b": 75,
           "l": 63,
           "r": 100
          },
          "modebar": {
           "activecolor": "#A01D28"
          },
          "paper_bgcolor": "rgba(1,1,1,0)",
          "plot_bgcolor": "rgba(1,1,1,0)",
          "showlegend": false,
          "title": {
           "font": {
            "family": "Helvetica Neue, Arial",
            "size": 20
           },
           "y": 0.94,
           "yanchor": "bottom"
          },
          "width": 655,
          "xaxis": {
           "gridcolor": "rgba(84, 86, 91, 0.15)",
           "showgrid": false,
           "tickcolor": "#54565B",
           "ticks": "inside"
          },
          "yaxis": {
           "gridcolor": "rgba(84, 86, 91, 0.15)"
          }
         }
        },
        "title": {
         "automargin": true,
         "text": "<b>Use of immediate imprisonment for women in<br>Northumbria 2010—2024</b>",
         "x": 0,
         "xanchor": "left",
         "yref": "container"
        },
        "xaxis": {
         "dtick": 2,
         "range": [
          2009.7,
          2024.3
         ],
         "tick0": 2010
        },
        "yaxis": {
         "range": [
          0,
          210
         ],
         "tick0": 0,
         "tickformat": ",.0f",
         "title": {
          "text": ""
         }
        }
       }
      }
     },
     "metadata": {},
     "output_type": "display_data"
    },
    {
     "name": "stderr",
     "output_type": "stream",
     "text": [
      "2025-06-12 16:37:33,692 - INFO - Adding chart annotations...\n",
      "2025-06-12 16:37:33,692 - INFO - Setting trace labels...\n",
      "2025-06-12 16:37:33,693 - INFO - Label index: {0}, Adjustment: {0}\n",
      "2025-06-12 16:37:33,697 - INFO - Setting source annotation...\n",
      "2025-06-12 16:37:33,701 - INFO - Annotations added successfully.\n"
     ]
    },
    {
     "data": {
      "application/vnd.plotly.v1+json": {
       "config": {
        "plotlyServerURL": "https://plot.ly"
       },
       "data": [
        {
         "hovertemplate": "%{y}<extra></extra>",
         "meta": "Nottinghamshire",
         "mode": "lines",
         "name": "Less than 6 months",
         "type": "scatter",
         "x": {
          "bdata": "2gfbB9wH3QfeB98H4AfhB+IH4wfkB+UH5gfnB+gH",
          "dtype": "i2"
         },
         "y": {
          "bdata": "fQBjAE8AUwBvAHcAbwBrAHwAhwBJAEcAYgBxAIIA",
          "dtype": "i2"
         }
        },
        {
         "hovertemplate": "%{y}<extra></extra>",
         "meta": "Nottinghamshire",
         "mode": "lines",
         "name": "6 months—<br>less than 12 months",
         "type": "scatter",
         "x": {
          "bdata": "2gfbB9wH3QfeB98H4AfhB+IH4wfkB+UH5gfnB+gH",
          "dtype": "i2"
         },
         "y": {
          "bdata": "DQ4UCwgLCAUTDgoJBhER",
          "dtype": "i1"
         }
        },
        {
         "hovertemplate": "%{y}<extra></extra>",
         "meta": "Nottinghamshire",
         "mode": "lines",
         "name": "12 months or more",
         "type": "scatter",
         "x": {
          "bdata": "2gfbB9wH3QfeB98H4AfhB+IH4wfkB+UH5gfnB+gH",
          "dtype": "i2"
         },
         "y": {
          "bdata": "KiUyIBwrIQwrHhUWGBQv",
          "dtype": "i1"
         }
        }
       ],
       "layout": {
        "annotations": [
         {
          "align": "left",
          "font": {
           "color": "#A01D28",
           "size": 10
          },
          "showarrow": false,
          "text": "Less than 6 months",
          "x": 2024,
          "xanchor": "left",
          "xref": "x",
          "y": 130,
          "yanchor": "bottom",
          "yref": "y"
         },
         {
          "align": "left",
          "font": {
           "color": "#499CC9",
           "size": 10
          },
          "showarrow": false,
          "text": "6 months—<br>less than 12 months",
          "x": 2024,
          "xanchor": "left",
          "xref": "x",
          "y": 0,
          "yanchor": "bottom",
          "yref": "y"
         },
         {
          "align": "left",
          "font": {
           "color": "#F9A237",
           "size": 10
          },
          "showarrow": false,
          "text": "12 months or more",
          "x": 2024,
          "xanchor": "left",
          "xref": "x",
          "y": 47,
          "yanchor": "bottom",
          "yref": "y"
         },
         {
          "align": "left",
          "font": {
           "size": 12
          },
          "showarrow": false,
          "text": "Source: Ministry of Justice, Criminal justice statistics",
          "x": 0,
          "xanchor": "left",
          "xref": "paper",
          "y": -0.1,
          "yanchor": "top",
          "yref": "paper"
         },
         {
          "font": {
           "size": 14
          },
          "showarrow": false,
          "text": "Women sentenced to custody",
          "x": 0,
          "xanchor": "left",
          "xref": "paper",
          "y": 1,
          "yanchor": "bottom",
          "yref": "paper"
         }
        ],
        "hovermode": "x",
        "template": {
         "data": {
          "scatter": [
           {
            "line": {
             "width": 4
            },
            "marker": {
             "size": 10
            },
            "type": "scatter"
           }
          ]
         },
         "layout": {
          "colorway": [
           "#A01D28",
           "#499CC9",
           "#F9A237",
           "#6FBA3A",
           "#573D6B"
          ],
          "dragmode": false,
          "font": {
           "color": "#54565B",
           "family": "Helvetica Neue, Arial",
           "size": 14
          },
          "height": 360,
          "margin": {
           "b": 75,
           "l": 63,
           "r": 100
          },
          "modebar": {
           "activecolor": "#A01D28"
          },
          "paper_bgcolor": "rgba(1,1,1,0)",
          "plot_bgcolor": "rgba(1,1,1,0)",
          "showlegend": false,
          "title": {
           "font": {
            "family": "Helvetica Neue, Arial",
            "size": 20
           },
           "y": 0.94,
           "yanchor": "bottom"
          },
          "width": 655,
          "xaxis": {
           "gridcolor": "rgba(84, 86, 91, 0.15)",
           "showgrid": false,
           "tickcolor": "#54565B",
           "ticks": "inside"
          },
          "yaxis": {
           "gridcolor": "rgba(84, 86, 91, 0.15)"
          }
         }
        },
        "title": {
         "automargin": true,
         "text": "<b>Use of immediate imprisonment for women in<br>Nottinghamshire 2010—2024</b>",
         "x": 0,
         "xanchor": "left",
         "yref": "container"
        },
        "xaxis": {
         "dtick": 2,
         "range": [
          2009.7,
          2024.3
         ],
         "tick0": 2010
        },
        "yaxis": {
         "range": [
          0,
          210
         ],
         "tick0": 0,
         "tickformat": ",.0f",
         "title": {
          "text": ""
         }
        }
       }
      }
     },
     "metadata": {},
     "output_type": "display_data"
    },
    {
     "name": "stderr",
     "output_type": "stream",
     "text": [
      "2025-06-12 16:37:33,718 - INFO - Adding chart annotations...\n",
      "2025-06-12 16:37:33,719 - INFO - Setting trace labels...\n",
      "2025-06-12 16:37:33,719 - INFO - Label index: {0}, Adjustment: {0}\n",
      "2025-06-12 16:37:33,725 - INFO - Setting source annotation...\n",
      "2025-06-12 16:37:33,730 - INFO - Annotations added successfully.\n"
     ]
    },
    {
     "data": {
      "application/vnd.plotly.v1+json": {
       "config": {
        "plotlyServerURL": "https://plot.ly"
       },
       "data": [
        {
         "hovertemplate": "%{y}<extra></extra>",
         "meta": "South Wales",
         "mode": "lines",
         "name": "Less than 6 months",
         "type": "scatter",
         "x": {
          "bdata": "2gfbB9wH3QfeB98H4AfhB+IH4wfkB+UH5gfnB+gH",
          "dtype": "i2"
         },
         "y": {
          "bdata": "7ADRAMQA7wD1APQAKwHrAAcB6ACiAIcAbwCEALUA",
          "dtype": "i2"
         }
        },
        {
         "hovertemplate": "%{y}<extra></extra>",
         "meta": "South Wales",
         "mode": "lines",
         "name": "6 months—<br>less than 12 months",
         "type": "scatter",
         "x": {
          "bdata": "2gfbB9wH3QfeB98H4AfhB+IH4wfkB+UH5gfnB+gH",
          "dtype": "i2"
         },
         "y": {
          "bdata": "IionLzsgMAMpIxEYEhcY",
          "dtype": "i1"
         }
        },
        {
         "hovertemplate": "%{y}<extra></extra>",
         "meta": "South Wales",
         "mode": "lines",
         "name": "12 months or more",
         "type": "scatter",
         "x": {
          "bdata": "2gfbB9wH3QfeB98H4AfhB+IH4wfkB+UH5gfnB+gH",
          "dtype": "i2"
         },
         "y": {
          "bdata": "WXtgal9ZVQduTjhRTFFZ",
          "dtype": "i1"
         }
        }
       ],
       "layout": {
        "annotations": [
         {
          "align": "left",
          "font": {
           "color": "#A01D28",
           "size": 10
          },
          "showarrow": false,
          "text": "Less than 6 months",
          "x": 2024,
          "xanchor": "left",
          "xref": "x",
          "y": 181,
          "yanchor": "bottom",
          "yref": "y"
         },
         {
          "align": "left",
          "font": {
           "color": "#499CC9",
           "size": 10
          },
          "showarrow": false,
          "text": "6 months—<br>less than 12 months",
          "x": 2024,
          "xanchor": "left",
          "xref": "x",
          "y": 0,
          "yanchor": "bottom",
          "yref": "y"
         },
         {
          "align": "left",
          "font": {
           "color": "#F9A237",
           "size": 10
          },
          "showarrow": false,
          "text": "12 months or more",
          "x": 2024,
          "xanchor": "left",
          "xref": "x",
          "y": 89,
          "yanchor": "bottom",
          "yref": "y"
         },
         {
          "align": "left",
          "font": {
           "size": 12
          },
          "showarrow": false,
          "text": "Source: Ministry of Justice, Criminal justice statistics",
          "x": 0,
          "xanchor": "left",
          "xref": "paper",
          "y": -0.1,
          "yanchor": "top",
          "yref": "paper"
         },
         {
          "font": {
           "size": 14
          },
          "showarrow": false,
          "text": "Women sentenced to custody",
          "x": 0,
          "xanchor": "left",
          "xref": "paper",
          "y": 1,
          "yanchor": "bottom",
          "yref": "paper"
         }
        ],
        "hovermode": "x",
        "template": {
         "data": {
          "scatter": [
           {
            "line": {
             "width": 4
            },
            "marker": {
             "size": 10
            },
            "type": "scatter"
           }
          ]
         },
         "layout": {
          "colorway": [
           "#A01D28",
           "#499CC9",
           "#F9A237",
           "#6FBA3A",
           "#573D6B"
          ],
          "dragmode": false,
          "font": {
           "color": "#54565B",
           "family": "Helvetica Neue, Arial",
           "size": 14
          },
          "height": 360,
          "margin": {
           "b": 75,
           "l": 63,
           "r": 100
          },
          "modebar": {
           "activecolor": "#A01D28"
          },
          "paper_bgcolor": "rgba(1,1,1,0)",
          "plot_bgcolor": "rgba(1,1,1,0)",
          "showlegend": false,
          "title": {
           "font": {
            "family": "Helvetica Neue, Arial",
            "size": 20
           },
           "y": 0.94,
           "yanchor": "bottom"
          },
          "width": 655,
          "xaxis": {
           "gridcolor": "rgba(84, 86, 91, 0.15)",
           "showgrid": false,
           "tickcolor": "#54565B",
           "ticks": "inside"
          },
          "yaxis": {
           "gridcolor": "rgba(84, 86, 91, 0.15)"
          }
         }
        },
        "title": {
         "automargin": true,
         "text": "<b>Use of immediate imprisonment for women in<br>South Wales 2010—2024</b>",
         "x": 0,
         "xanchor": "left",
         "yref": "container"
        },
        "xaxis": {
         "dtick": 2,
         "range": [
          2009.7,
          2024.3
         ],
         "tick0": 2010
        },
        "yaxis": {
         "range": [
          0,
          305
         ],
         "tick0": 0,
         "tickformat": ",.0f",
         "title": {
          "text": ""
         }
        }
       }
      }
     },
     "metadata": {},
     "output_type": "display_data"
    },
    {
     "name": "stderr",
     "output_type": "stream",
     "text": [
      "2025-06-12 16:37:33,746 - INFO - Adding chart annotations...\n",
      "2025-06-12 16:37:33,747 - INFO - Setting trace labels...\n",
      "2025-06-12 16:37:33,748 - INFO - Label index: {0}, Adjustment: {0}\n",
      "2025-06-12 16:37:33,752 - INFO - Setting source annotation...\n",
      "2025-06-12 16:37:33,756 - INFO - Annotations added successfully.\n"
     ]
    },
    {
     "data": {
      "application/vnd.plotly.v1+json": {
       "config": {
        "plotlyServerURL": "https://plot.ly"
       },
       "data": [
        {
         "hovertemplate": "%{y}<extra></extra>",
         "meta": "South Yorkshire",
         "mode": "lines",
         "name": "Less than 6 months",
         "type": "scatter",
         "x": {
          "bdata": "2gfbB9wH3QfeB98H4AfhB+IH4wfkB+UH5gfnB+gH",
          "dtype": "i2"
         },
         "y": {
          "bdata": "gQB4AIoAqACvAKIAjwCJAFgAVwBIADUANQBqAJYA",
          "dtype": "i2"
         }
        },
        {
         "hovertemplate": "%{y}<extra></extra>",
         "meta": "South Yorkshire",
         "mode": "lines",
         "name": "6 months—<br>less than 12 months",
         "type": "scatter",
         "x": {
          "bdata": "2gfbB9wH3QfeB98H4AfhB+IH4wfkB+UH5gfnB+gH",
          "dtype": "i2"
         },
         "y": {
          "bdata": "FiUVLBgfDQgWFBMOCAsN",
          "dtype": "i1"
         }
        },
        {
         "hovertemplate": "%{y}<extra></extra>",
         "meta": "South Yorkshire",
         "mode": "lines",
         "name": "12 months or more",
         "type": "scatter",
         "x": {
          "bdata": "2gfbB9wH3QfeB98H4AfhB+IH4wfkB+UH5gfnB+gH",
          "dtype": "i2"
         },
         "y": {
          "bdata": "NEgnNy0lJhQ2QismKzcz",
          "dtype": "i1"
         }
        }
       ],
       "layout": {
        "annotations": [
         {
          "align": "left",
          "font": {
           "color": "#A01D28",
           "size": 10
          },
          "showarrow": false,
          "text": "Less than 6 months",
          "x": 2024,
          "xanchor": "left",
          "xref": "x",
          "y": 150,
          "yanchor": "bottom",
          "yref": "y"
         },
         {
          "align": "left",
          "font": {
           "color": "#499CC9",
           "size": 10
          },
          "showarrow": false,
          "text": "6 months—<br>less than 12 months",
          "x": 2024,
          "xanchor": "left",
          "xref": "x",
          "y": 0,
          "yanchor": "bottom",
          "yref": "y"
         },
         {
          "align": "left",
          "font": {
           "color": "#F9A237",
           "size": 10
          },
          "showarrow": false,
          "text": "12 months or more",
          "x": 2024,
          "xanchor": "left",
          "xref": "x",
          "y": 51,
          "yanchor": "bottom",
          "yref": "y"
         },
         {
          "align": "left",
          "font": {
           "size": 12
          },
          "showarrow": false,
          "text": "Source: Ministry of Justice, Criminal justice statistics",
          "x": 0,
          "xanchor": "left",
          "xref": "paper",
          "y": -0.1,
          "yanchor": "top",
          "yref": "paper"
         },
         {
          "font": {
           "size": 14
          },
          "showarrow": false,
          "text": "Women sentenced to custody",
          "x": 0,
          "xanchor": "left",
          "xref": "paper",
          "y": 1,
          "yanchor": "bottom",
          "yref": "paper"
         }
        ],
        "hovermode": "x",
        "template": {
         "data": {
          "scatter": [
           {
            "line": {
             "width": 4
            },
            "marker": {
             "size": 10
            },
            "type": "scatter"
           }
          ]
         },
         "layout": {
          "colorway": [
           "#A01D28",
           "#499CC9",
           "#F9A237",
           "#6FBA3A",
           "#573D6B"
          ],
          "dragmode": false,
          "font": {
           "color": "#54565B",
           "family": "Helvetica Neue, Arial",
           "size": 14
          },
          "height": 360,
          "margin": {
           "b": 75,
           "l": 63,
           "r": 100
          },
          "modebar": {
           "activecolor": "#A01D28"
          },
          "paper_bgcolor": "rgba(1,1,1,0)",
          "plot_bgcolor": "rgba(1,1,1,0)",
          "showlegend": false,
          "title": {
           "font": {
            "family": "Helvetica Neue, Arial",
            "size": 20
           },
           "y": 0.94,
           "yanchor": "bottom"
          },
          "width": 655,
          "xaxis": {
           "gridcolor": "rgba(84, 86, 91, 0.15)",
           "showgrid": false,
           "tickcolor": "#54565B",
           "ticks": "inside"
          },
          "yaxis": {
           "gridcolor": "rgba(84, 86, 91, 0.15)"
          }
         }
        },
        "title": {
         "automargin": true,
         "text": "<b>Use of immediate imprisonment for women in<br>South Yorkshire 2010—2024</b>",
         "x": 0,
         "xanchor": "left",
         "yref": "container"
        },
        "xaxis": {
         "dtick": 2,
         "range": [
          2009.7,
          2024.3
         ],
         "tick0": 2010
        },
        "yaxis": {
         "range": [
          0,
          210
         ],
         "tick0": 0,
         "tickformat": ",.0f",
         "title": {
          "text": ""
         }
        }
       }
      }
     },
     "metadata": {},
     "output_type": "display_data"
    },
    {
     "name": "stderr",
     "output_type": "stream",
     "text": [
      "2025-06-12 16:37:33,774 - INFO - Adding chart annotations...\n",
      "2025-06-12 16:37:33,775 - INFO - Setting trace labels...\n",
      "2025-06-12 16:37:33,777 - INFO - Label index: {0}, Adjustment: {0}\n",
      "2025-06-12 16:37:33,782 - INFO - Setting source annotation...\n",
      "2025-06-12 16:37:33,785 - INFO - Annotations added successfully.\n"
     ]
    },
    {
     "data": {
      "application/vnd.plotly.v1+json": {
       "config": {
        "plotlyServerURL": "https://plot.ly"
       },
       "data": [
        {
         "hovertemplate": "%{y}<extra></extra>",
         "meta": "Staffordshire",
         "mode": "lines",
         "name": "Less than 6 months",
         "type": "scatter",
         "x": {
          "bdata": "2gfbB9wH3QfeB98H4AfhB+IH4wfkB+UH5gfnB+gH",
          "dtype": "i2"
         },
         "y": {
          "bdata": "Ul5aPVBRQj5LUDEzMTA4",
          "dtype": "i1"
         }
        },
        {
         "hovertemplate": "%{y}<extra></extra>",
         "meta": "Staffordshire",
         "mode": "lines",
         "name": "6 months—<br>less than 12 months",
         "type": "scatter",
         "x": {
          "bdata": "2gfbB9wH3QfeB98H4AfhB+IH4wfkB+UH5gfnB+gH",
          "dtype": "i2"
         },
         "y": {
          "bdata": "Gw4MCgoNDAYJEBANBgsL",
          "dtype": "i1"
         }
        },
        {
         "hovertemplate": "%{y}<extra></extra>",
         "meta": "Staffordshire",
         "mode": "lines",
         "name": "12 months or more",
         "type": "scatter",
         "x": {
          "bdata": "2gfbB9wH3QfeB98H4AfhB+IH4wfkB+UH5gfnB+gH",
          "dtype": "i2"
         },
         "y": {
          "bdata": "JSEnHSIiIQUgIhMcEBoY",
          "dtype": "i1"
         }
        }
       ],
       "layout": {
        "annotations": [
         {
          "align": "left",
          "font": {
           "color": "#A01D28",
           "size": 10
          },
          "showarrow": false,
          "text": "Less than 6 months",
          "x": 2024,
          "xanchor": "left",
          "xref": "x",
          "y": 56,
          "yanchor": "bottom",
          "yref": "y"
         },
         {
          "align": "left",
          "font": {
           "color": "#499CC9",
           "size": 10
          },
          "showarrow": false,
          "text": "6 months—<br>less than 12 months",
          "x": 2024,
          "xanchor": "left",
          "xref": "x",
          "y": 0,
          "yanchor": "bottom",
          "yref": "y"
         },
         {
          "align": "left",
          "font": {
           "color": "#F9A237",
           "size": 10
          },
          "showarrow": false,
          "text": "12 months or more",
          "x": 2024,
          "xanchor": "left",
          "xref": "x",
          "y": 24,
          "yanchor": "bottom",
          "yref": "y"
         },
         {
          "align": "left",
          "font": {
           "size": 12
          },
          "showarrow": false,
          "text": "Source: Ministry of Justice, Criminal justice statistics",
          "x": 0,
          "xanchor": "left",
          "xref": "paper",
          "y": -0.1,
          "yanchor": "top",
          "yref": "paper"
         },
         {
          "font": {
           "size": 14
          },
          "showarrow": false,
          "text": "Women sentenced to custody",
          "x": 0,
          "xanchor": "left",
          "xref": "paper",
          "y": 1,
          "yanchor": "bottom",
          "yref": "paper"
         }
        ],
        "hovermode": "x",
        "template": {
         "data": {
          "scatter": [
           {
            "line": {
             "width": 4
            },
            "marker": {
             "size": 10
            },
            "type": "scatter"
           }
          ]
         },
         "layout": {
          "colorway": [
           "#A01D28",
           "#499CC9",
           "#F9A237",
           "#6FBA3A",
           "#573D6B"
          ],
          "dragmode": false,
          "font": {
           "color": "#54565B",
           "family": "Helvetica Neue, Arial",
           "size": 14
          },
          "height": 360,
          "margin": {
           "b": 75,
           "l": 63,
           "r": 100
          },
          "modebar": {
           "activecolor": "#A01D28"
          },
          "paper_bgcolor": "rgba(1,1,1,0)",
          "plot_bgcolor": "rgba(1,1,1,0)",
          "showlegend": false,
          "title": {
           "font": {
            "family": "Helvetica Neue, Arial",
            "size": 20
           },
           "y": 0.94,
           "yanchor": "bottom"
          },
          "width": 655,
          "xaxis": {
           "gridcolor": "rgba(84, 86, 91, 0.15)",
           "showgrid": false,
           "tickcolor": "#54565B",
           "ticks": "inside"
          },
          "yaxis": {
           "gridcolor": "rgba(84, 86, 91, 0.15)"
          }
         }
        },
        "title": {
         "automargin": true,
         "text": "<b>Use of immediate imprisonment for women in<br>Staffordshire 2010—2024</b>",
         "x": 0,
         "xanchor": "left",
         "yref": "container"
        },
        "xaxis": {
         "dtick": 2,
         "range": [
          2009.7,
          2024.3
         ],
         "tick0": 2010
        },
        "yaxis": {
         "range": [
          0,
          103
         ],
         "tick0": 0,
         "tickformat": ",.0f",
         "title": {
          "text": ""
         }
        }
       }
      }
     },
     "metadata": {},
     "output_type": "display_data"
    },
    {
     "name": "stderr",
     "output_type": "stream",
     "text": [
      "2025-06-12 16:37:33,802 - INFO - Adding chart annotations...\n",
      "2025-06-12 16:37:33,804 - INFO - Setting trace labels...\n",
      "2025-06-12 16:37:33,805 - INFO - Label index: {0}, Adjustment: {0}\n",
      "2025-06-12 16:37:33,810 - INFO - Setting source annotation...\n",
      "2025-06-12 16:37:33,813 - INFO - Annotations added successfully.\n"
     ]
    },
    {
     "data": {
      "application/vnd.plotly.v1+json": {
       "config": {
        "plotlyServerURL": "https://plot.ly"
       },
       "data": [
        {
         "hovertemplate": "%{y}<extra></extra>",
         "meta": "Suffolk",
         "mode": "lines",
         "name": "Less than 6 months",
         "type": "scatter",
         "x": {
          "bdata": "2gfbB9wH3QfeB98H4AfhB+IH4wfkB+UH5gfnB+gH",
          "dtype": "i2"
         },
         "y": {
          "bdata": "IzcaJzYuHyolFx4SGx8X",
          "dtype": "i1"
         }
        },
        {
         "hovertemplate": "%{y}<extra></extra>",
         "meta": "Suffolk",
         "mode": "lines",
         "name": "6 months—<br>less than 12 months",
         "type": "scatter",
         "x": {
          "bdata": "2gfbB9wH3QfeB98H4AfhB+IH4wfkB+UH5gfnB+gH",
          "dtype": "i2"
         },
         "y": {
          "bdata": "BAMBBwYFBAEKBgYKAgQE",
          "dtype": "i1"
         }
        },
        {
         "hovertemplate": "%{y}<extra></extra>",
         "meta": "Suffolk",
         "mode": "lines",
         "name": "12 months or more",
         "type": "scatter",
         "x": {
          "bdata": "2gfbB9wH3QfeB98H4AfhB+IH4wfkB+UH5gfnB+gH",
          "dtype": "i2"
         },
         "y": {
          "bdata": "EhIQExQXFgoIEAYRBRES",
          "dtype": "i1"
         }
        }
       ],
       "layout": {
        "annotations": [
         {
          "align": "left",
          "font": {
           "color": "#A01D28",
           "size": 10
          },
          "showarrow": false,
          "text": "Less than 6 months",
          "x": 2024,
          "xanchor": "left",
          "xref": "x",
          "y": 23,
          "yanchor": "bottom",
          "yref": "y"
         },
         {
          "align": "left",
          "font": {
           "color": "#499CC9",
           "size": 10
          },
          "showarrow": false,
          "text": "6 months—<br>less than 12 months",
          "x": 2024,
          "xanchor": "left",
          "xref": "x",
          "y": 0,
          "yanchor": "bottom",
          "yref": "y"
         },
         {
          "align": "left",
          "font": {
           "color": "#F9A237",
           "size": 10
          },
          "showarrow": false,
          "text": "12 months or more",
          "x": 2024,
          "xanchor": "left",
          "xref": "x",
          "y": 18,
          "yanchor": "bottom",
          "yref": "y"
         },
         {
          "align": "left",
          "font": {
           "size": 12
          },
          "showarrow": false,
          "text": "Source: Ministry of Justice, Criminal justice statistics",
          "x": 0,
          "xanchor": "left",
          "xref": "paper",
          "y": -0.1,
          "yanchor": "top",
          "yref": "paper"
         },
         {
          "font": {
           "size": 14
          },
          "showarrow": false,
          "text": "Women sentenced to custody",
          "x": 0,
          "xanchor": "left",
          "xref": "paper",
          "y": 1,
          "yanchor": "bottom",
          "yref": "paper"
         }
        ],
        "hovermode": "x",
        "template": {
         "data": {
          "scatter": [
           {
            "line": {
             "width": 4
            },
            "marker": {
             "size": 10
            },
            "type": "scatter"
           }
          ]
         },
         "layout": {
          "colorway": [
           "#A01D28",
           "#499CC9",
           "#F9A237",
           "#6FBA3A",
           "#573D6B"
          ],
          "dragmode": false,
          "font": {
           "color": "#54565B",
           "family": "Helvetica Neue, Arial",
           "size": 14
          },
          "height": 360,
          "margin": {
           "b": 75,
           "l": 63,
           "r": 100
          },
          "modebar": {
           "activecolor": "#A01D28"
          },
          "paper_bgcolor": "rgba(1,1,1,0)",
          "plot_bgcolor": "rgba(1,1,1,0)",
          "showlegend": false,
          "title": {
           "font": {
            "family": "Helvetica Neue, Arial",
            "size": 20
           },
           "y": 0.94,
           "yanchor": "bottom"
          },
          "width": 655,
          "xaxis": {
           "gridcolor": "rgba(84, 86, 91, 0.15)",
           "showgrid": false,
           "tickcolor": "#54565B",
           "ticks": "inside"
          },
          "yaxis": {
           "gridcolor": "rgba(84, 86, 91, 0.15)"
          }
         }
        },
        "title": {
         "automargin": true,
         "text": "<b>Use of immediate imprisonment for women in<br>Suffolk 2010—2024</b>",
         "x": 0,
         "xanchor": "left",
         "yref": "container"
        },
        "xaxis": {
         "dtick": 2,
         "range": [
          2009.7,
          2024.3
         ],
         "tick0": 2010
        },
        "yaxis": {
         "range": [
          0,
          103
         ],
         "tick0": 0,
         "tickformat": ",.0f",
         "title": {
          "text": ""
         }
        }
       }
      }
     },
     "metadata": {},
     "output_type": "display_data"
    },
    {
     "name": "stderr",
     "output_type": "stream",
     "text": [
      "2025-06-12 16:37:33,829 - INFO - Adding chart annotations...\n",
      "2025-06-12 16:37:33,831 - INFO - Setting trace labels...\n",
      "2025-06-12 16:37:33,832 - INFO - Label index: {0}, Adjustment: {0}\n",
      "2025-06-12 16:37:33,836 - INFO - Setting source annotation...\n",
      "2025-06-12 16:37:33,840 - INFO - Annotations added successfully.\n"
     ]
    },
    {
     "data": {
      "application/vnd.plotly.v1+json": {
       "config": {
        "plotlyServerURL": "https://plot.ly"
       },
       "data": [
        {
         "hovertemplate": "%{y}<extra></extra>",
         "meta": "Surrey",
         "mode": "lines",
         "name": "Less than 6 months",
         "type": "scatter",
         "x": {
          "bdata": "2gfbB9wH3QfeB98H4AfhB+IH4wfkB+UH5gfnB+gH",
          "dtype": "i2"
         },
         "y": {
          "bdata": "O0BFQD0uJyodGRQICAgQ",
          "dtype": "i1"
         }
        },
        {
         "hovertemplate": "%{y}<extra></extra>",
         "meta": "Surrey",
         "mode": "lines",
         "name": "6 months—<br>less than 12 months",
         "type": "scatter",
         "x": {
          "bdata": "2gfbB9wH3QfeB98H4AfhB+IH4wfkB+UH5gfnB+gH",
          "dtype": "i2"
         },
         "y": {
          "bdata": "DRgTDAkGCQMGBwUHAQMG",
          "dtype": "i1"
         }
        },
        {
         "hovertemplate": "%{y}<extra></extra>",
         "meta": "Surrey",
         "mode": "lines",
         "name": "12 months or more",
         "type": "scatter",
         "x": {
          "bdata": "2gfbB9wH3QfeB98H4AfhB+IH4wfkB+UH5gfnB+gH",
          "dtype": "i2"
         },
         "y": {
          "bdata": "HRshDxwZFggKCwQTBBAL",
          "dtype": "i1"
         }
        }
       ],
       "layout": {
        "annotations": [
         {
          "align": "left",
          "font": {
           "color": "#A01D28",
           "size": 10
          },
          "showarrow": false,
          "text": "Less than 6 months",
          "x": 2024,
          "xanchor": "left",
          "xref": "x",
          "y": 16,
          "yanchor": "bottom",
          "yref": "y"
         },
         {
          "align": "left",
          "font": {
           "color": "#499CC9",
           "size": 10
          },
          "showarrow": false,
          "text": "6 months—<br>less than 12 months",
          "x": 2024,
          "xanchor": "left",
          "xref": "x",
          "y": 0,
          "yanchor": "bottom",
          "yref": "y"
         },
         {
          "align": "left",
          "font": {
           "color": "#F9A237",
           "size": 10
          },
          "showarrow": false,
          "text": "12 months or more",
          "x": 2024,
          "xanchor": "left",
          "xref": "x",
          "y": 11,
          "yanchor": "bottom",
          "yref": "y"
         },
         {
          "align": "left",
          "font": {
           "size": 12
          },
          "showarrow": false,
          "text": "Source: Ministry of Justice, Criminal justice statistics",
          "x": 0,
          "xanchor": "left",
          "xref": "paper",
          "y": -0.1,
          "yanchor": "top",
          "yref": "paper"
         },
         {
          "font": {
           "size": 14
          },
          "showarrow": false,
          "text": "Women sentenced to custody",
          "x": 0,
          "xanchor": "left",
          "xref": "paper",
          "y": 1,
          "yanchor": "bottom",
          "yref": "paper"
         }
        ],
        "hovermode": "x",
        "template": {
         "data": {
          "scatter": [
           {
            "line": {
             "width": 4
            },
            "marker": {
             "size": 10
            },
            "type": "scatter"
           }
          ]
         },
         "layout": {
          "colorway": [
           "#A01D28",
           "#499CC9",
           "#F9A237",
           "#6FBA3A",
           "#573D6B"
          ],
          "dragmode": false,
          "font": {
           "color": "#54565B",
           "family": "Helvetica Neue, Arial",
           "size": 14
          },
          "height": 360,
          "margin": {
           "b": 75,
           "l": 63,
           "r": 100
          },
          "modebar": {
           "activecolor": "#A01D28"
          },
          "paper_bgcolor": "rgba(1,1,1,0)",
          "plot_bgcolor": "rgba(1,1,1,0)",
          "showlegend": false,
          "title": {
           "font": {
            "family": "Helvetica Neue, Arial",
            "size": 20
           },
           "y": 0.94,
           "yanchor": "bottom"
          },
          "width": 655,
          "xaxis": {
           "gridcolor": "rgba(84, 86, 91, 0.15)",
           "showgrid": false,
           "tickcolor": "#54565B",
           "ticks": "inside"
          },
          "yaxis": {
           "gridcolor": "rgba(84, 86, 91, 0.15)"
          }
         }
        },
        "title": {
         "automargin": true,
         "text": "<b>Use of immediate imprisonment for women in<br>Surrey 2010—2024</b>",
         "x": 0,
         "xanchor": "left",
         "yref": "container"
        },
        "xaxis": {
         "dtick": 2,
         "range": [
          2009.7,
          2024.3
         ],
         "tick0": 2010
        },
        "yaxis": {
         "range": [
          0,
          103
         ],
         "tick0": 0,
         "tickformat": ",.0f",
         "title": {
          "text": ""
         }
        }
       }
      }
     },
     "metadata": {},
     "output_type": "display_data"
    },
    {
     "name": "stderr",
     "output_type": "stream",
     "text": [
      "2025-06-12 16:37:33,857 - INFO - Adding chart annotations...\n",
      "2025-06-12 16:37:33,860 - INFO - Setting trace labels...\n",
      "2025-06-12 16:37:33,863 - INFO - Label index: {0}, Adjustment: {0}\n",
      "2025-06-12 16:37:33,867 - INFO - Setting source annotation...\n",
      "2025-06-12 16:37:33,872 - INFO - Annotations added successfully.\n"
     ]
    },
    {
     "data": {
      "application/vnd.plotly.v1+json": {
       "config": {
        "plotlyServerURL": "https://plot.ly"
       },
       "data": [
        {
         "hovertemplate": "%{y}<extra></extra>",
         "meta": "Sussex",
         "mode": "lines",
         "name": "Less than 6 months",
         "type": "scatter",
         "x": {
          "bdata": "2gfbB9wH3QfeB98H4AfhB+IH4wfkB+UH5gfnB+gH",
          "dtype": "i2"
         },
         "y": {
          "bdata": "hgB0AHUAUQBEAGEAUAA8AEIAJwAlABQAGwAcADAA",
          "dtype": "i2"
         }
        },
        {
         "hovertemplate": "%{y}<extra></extra>",
         "meta": "Sussex",
         "mode": "lines",
         "name": "6 months—<br>less than 12 months",
         "type": "scatter",
         "x": {
          "bdata": "2gfbB9wH3QfeB98H4AfhB+IH4wfkB+UH5gfnB+gH",
          "dtype": "i2"
         },
         "y": {
          "bdata": "EAUGCQwJDQQHDQ8KBgUM",
          "dtype": "i1"
         }
        },
        {
         "hovertemplate": "%{y}<extra></extra>",
         "meta": "Sussex",
         "mode": "lines",
         "name": "12 months or more",
         "type": "scatter",
         "x": {
          "bdata": "2gfbB9wH3QfeB98H4AfhB+IH4wfkB+UH5gfnB+gH",
          "dtype": "i2"
         },
         "y": {
          "bdata": "MzcYHSUZFwwbIxIfHBId",
          "dtype": "i1"
         }
        }
       ],
       "layout": {
        "annotations": [
         {
          "align": "left",
          "font": {
           "color": "#A01D28",
           "size": 10
          },
          "showarrow": false,
          "text": "Less than 6 months",
          "x": 2024,
          "xanchor": "left",
          "xref": "x",
          "y": 48,
          "yanchor": "bottom",
          "yref": "y"
         },
         {
          "align": "left",
          "font": {
           "color": "#499CC9",
           "size": 10
          },
          "showarrow": false,
          "text": "6 months—<br>less than 12 months",
          "x": 2024,
          "xanchor": "left",
          "xref": "x",
          "y": 0,
          "yanchor": "bottom",
          "yref": "y"
         },
         {
          "align": "left",
          "font": {
           "color": "#F9A237",
           "size": 10
          },
          "showarrow": false,
          "text": "12 months or more",
          "x": 2024,
          "xanchor": "left",
          "xref": "x",
          "y": 29,
          "yanchor": "bottom",
          "yref": "y"
         },
         {
          "align": "left",
          "font": {
           "size": 12
          },
          "showarrow": false,
          "text": "Source: Ministry of Justice, Criminal justice statistics",
          "x": 0,
          "xanchor": "left",
          "xref": "paper",
          "y": -0.1,
          "yanchor": "top",
          "yref": "paper"
         },
         {
          "font": {
           "size": 14
          },
          "showarrow": false,
          "text": "Women sentenced to custody",
          "x": 0,
          "xanchor": "left",
          "xref": "paper",
          "y": 1,
          "yanchor": "bottom",
          "yref": "paper"
         }
        ],
        "hovermode": "x",
        "template": {
         "data": {
          "scatter": [
           {
            "line": {
             "width": 4
            },
            "marker": {
             "size": 10
            },
            "type": "scatter"
           }
          ]
         },
         "layout": {
          "colorway": [
           "#A01D28",
           "#499CC9",
           "#F9A237",
           "#6FBA3A",
           "#573D6B"
          ],
          "dragmode": false,
          "font": {
           "color": "#54565B",
           "family": "Helvetica Neue, Arial",
           "size": 14
          },
          "height": 360,
          "margin": {
           "b": 75,
           "l": 63,
           "r": 100
          },
          "modebar": {
           "activecolor": "#A01D28"
          },
          "paper_bgcolor": "rgba(1,1,1,0)",
          "plot_bgcolor": "rgba(1,1,1,0)",
          "showlegend": false,
          "title": {
           "font": {
            "family": "Helvetica Neue, Arial",
            "size": 20
           },
           "y": 0.94,
           "yanchor": "bottom"
          },
          "width": 655,
          "xaxis": {
           "gridcolor": "rgba(84, 86, 91, 0.15)",
           "showgrid": false,
           "tickcolor": "#54565B",
           "ticks": "inside"
          },
          "yaxis": {
           "gridcolor": "rgba(84, 86, 91, 0.15)"
          }
         }
        },
        "title": {
         "automargin": true,
         "text": "<b>Use of immediate imprisonment for women in<br>Sussex 2010—2024</b>",
         "x": 0,
         "xanchor": "left",
         "yref": "container"
        },
        "xaxis": {
         "dtick": 2,
         "range": [
          2009.7,
          2024.3
         ],
         "tick0": 2010
        },
        "yaxis": {
         "range": [
          0,
          210
         ],
         "tick0": 0,
         "tickformat": ",.0f",
         "title": {
          "text": ""
         }
        }
       }
      }
     },
     "metadata": {},
     "output_type": "display_data"
    },
    {
     "name": "stderr",
     "output_type": "stream",
     "text": [
      "2025-06-12 16:37:33,903 - INFO - Adding chart annotations...\n",
      "2025-06-12 16:37:33,905 - INFO - Setting trace labels...\n",
      "2025-06-12 16:37:33,906 - INFO - Label index: {0}, Adjustment: {0}\n",
      "2025-06-12 16:37:33,911 - INFO - Setting source annotation...\n",
      "2025-06-12 16:37:33,915 - INFO - Annotations added successfully.\n"
     ]
    },
    {
     "data": {
      "application/vnd.plotly.v1+json": {
       "config": {
        "plotlyServerURL": "https://plot.ly"
       },
       "data": [
        {
         "hovertemplate": "%{y}<extra></extra>",
         "meta": "Thames Valley",
         "mode": "lines",
         "name": "Less than 6 months",
         "type": "scatter",
         "x": {
          "bdata": "2gfbB9wH3QfeB98H4AfhB+IH4wfkB+UH5gfnB+gH",
          "dtype": "i2"
         },
         "y": {
          "bdata": "pQCjAI0AiACXALAAmwB5AHgAZAAwAEoAUQBHAGUA",
          "dtype": "i2"
         }
        },
        {
         "hovertemplate": "%{y}<extra></extra>",
         "meta": "Thames Valley",
         "mode": "lines",
         "name": "6 months—<br>less than 12 months",
         "type": "scatter",
         "x": {
          "bdata": "2gfbB9wH3QfeB98H4AfhB+IH4wfkB+UH5gfnB+gH",
          "dtype": "i2"
         },
         "y": {
          "bdata": "EBcPERIbGRMVDhEPDQcK",
          "dtype": "i1"
         }
        },
        {
         "hovertemplate": "%{y}<extra></extra>",
         "meta": "Thames Valley",
         "mode": "lines",
         "name": "12 months or more",
         "type": "scatter",
         "x": {
          "bdata": "2gfbB9wH3QfeB98H4AfhB+IH4wfkB+UH5gfnB+gH",
          "dtype": "i2"
         },
         "y": {
          "bdata": "Lzk0MCk3KSA9LR8xJigj",
          "dtype": "i1"
         }
        }
       ],
       "layout": {
        "annotations": [
         {
          "align": "left",
          "font": {
           "color": "#A01D28",
           "size": 10
          },
          "showarrow": false,
          "text": "Less than 6 months",
          "x": 2024,
          "xanchor": "left",
          "xref": "x",
          "y": 101,
          "yanchor": "bottom",
          "yref": "y"
         },
         {
          "align": "left",
          "font": {
           "color": "#499CC9",
           "size": 10
          },
          "showarrow": false,
          "text": "6 months—<br>less than 12 months",
          "x": 2024,
          "xanchor": "left",
          "xref": "x",
          "y": 0,
          "yanchor": "bottom",
          "yref": "y"
         },
         {
          "align": "left",
          "font": {
           "color": "#F9A237",
           "size": 10
          },
          "showarrow": false,
          "text": "12 months or more",
          "x": 2024,
          "xanchor": "left",
          "xref": "x",
          "y": 35,
          "yanchor": "bottom",
          "yref": "y"
         },
         {
          "align": "left",
          "font": {
           "size": 12
          },
          "showarrow": false,
          "text": "Source: Ministry of Justice, Criminal justice statistics",
          "x": 0,
          "xanchor": "left",
          "xref": "paper",
          "y": -0.1,
          "yanchor": "top",
          "yref": "paper"
         },
         {
          "font": {
           "size": 14
          },
          "showarrow": false,
          "text": "Women sentenced to custody",
          "x": 0,
          "xanchor": "left",
          "xref": "paper",
          "y": 1,
          "yanchor": "bottom",
          "yref": "paper"
         }
        ],
        "hovermode": "x",
        "template": {
         "data": {
          "scatter": [
           {
            "line": {
             "width": 4
            },
            "marker": {
             "size": 10
            },
            "type": "scatter"
           }
          ]
         },
         "layout": {
          "colorway": [
           "#A01D28",
           "#499CC9",
           "#F9A237",
           "#6FBA3A",
           "#573D6B"
          ],
          "dragmode": false,
          "font": {
           "color": "#54565B",
           "family": "Helvetica Neue, Arial",
           "size": 14
          },
          "height": 360,
          "margin": {
           "b": 75,
           "l": 63,
           "r": 100
          },
          "modebar": {
           "activecolor": "#A01D28"
          },
          "paper_bgcolor": "rgba(1,1,1,0)",
          "plot_bgcolor": "rgba(1,1,1,0)",
          "showlegend": false,
          "title": {
           "font": {
            "family": "Helvetica Neue, Arial",
            "size": 20
           },
           "y": 0.94,
           "yanchor": "bottom"
          },
          "width": 655,
          "xaxis": {
           "gridcolor": "rgba(84, 86, 91, 0.15)",
           "showgrid": false,
           "tickcolor": "#54565B",
           "ticks": "inside"
          },
          "yaxis": {
           "gridcolor": "rgba(84, 86, 91, 0.15)"
          }
         }
        },
        "title": {
         "automargin": true,
         "text": "<b>Use of immediate imprisonment for women in<br>Thames Valley 2010—2024</b>",
         "x": 0,
         "xanchor": "left",
         "yref": "container"
        },
        "xaxis": {
         "dtick": 2,
         "range": [
          2009.7,
          2024.3
         ],
         "tick0": 2010
        },
        "yaxis": {
         "range": [
          0,
          210
         ],
         "tick0": 0,
         "tickformat": ",.0f",
         "title": {
          "text": ""
         }
        }
       }
      }
     },
     "metadata": {},
     "output_type": "display_data"
    },
    {
     "name": "stderr",
     "output_type": "stream",
     "text": [
      "2025-06-12 16:37:33,932 - INFO - Adding chart annotations...\n",
      "2025-06-12 16:37:33,933 - INFO - Setting trace labels...\n",
      "2025-06-12 16:37:33,934 - INFO - Label index: {0}, Adjustment: {0}\n",
      "2025-06-12 16:37:33,938 - INFO - Setting source annotation...\n",
      "2025-06-12 16:37:33,943 - INFO - Annotations added successfully.\n"
     ]
    },
    {
     "data": {
      "application/vnd.plotly.v1+json": {
       "config": {
        "plotlyServerURL": "https://plot.ly"
       },
       "data": [
        {
         "hovertemplate": "%{y}<extra></extra>",
         "meta": "Warwickshire",
         "mode": "lines",
         "name": "Less than 6 months",
         "type": "scatter",
         "x": {
          "bdata": "2gfbB9wH3QfeB98H4AfhB+IH4wfkB+UH5gfnB+gH",
          "dtype": "i2"
         },
         "y": {
          "bdata": "EhkXHEhSVk01PCkkJQoH",
          "dtype": "i1"
         }
        },
        {
         "hovertemplate": "%{y}<extra></extra>",
         "meta": "Warwickshire",
         "mode": "lines",
         "name": "6 months—<br>less than 12 months",
         "type": "scatter",
         "x": {
          "bdata": "2gfbB9wH3QfeB98H4AfhB+IH4wfkB+YH5wfoBw==",
          "dtype": "i2"
         },
         "y": {
          "bdata": "BQYGCQYHCgIHAwYIAwU=",
          "dtype": "i1"
         }
        },
        {
         "hovertemplate": "%{y}<extra></extra>",
         "meta": "Warwickshire",
         "mode": "lines",
         "name": "12 months or more",
         "type": "scatter",
         "x": {
          "bdata": "2gfbB9wH3QfeB98H4AfhB+IH4wfkB+UH5gfnB+gH",
          "dtype": "i2"
         },
         "y": {
          "bdata": "DRUSExUSFQINFxQTGB0h",
          "dtype": "i1"
         }
        }
       ],
       "layout": {
        "annotations": [
         {
          "align": "left",
          "font": {
           "color": "#A01D28",
           "size": 10
          },
          "showarrow": false,
          "text": "Less than 6 months",
          "x": 2024,
          "xanchor": "left",
          "xref": "x",
          "y": 7,
          "yanchor": "bottom",
          "yref": "y"
         },
         {
          "align": "left",
          "font": {
           "color": "#499CC9",
           "size": 10
          },
          "showarrow": false,
          "text": "6 months—<br>less than 12 months",
          "x": 2024,
          "xanchor": "left",
          "xref": "x",
          "y": 0,
          "yanchor": "bottom",
          "yref": "y"
         },
         {
          "align": "left",
          "font": {
           "color": "#F9A237",
           "size": 10
          },
          "showarrow": false,
          "text": "12 months or more",
          "x": 2024,
          "xanchor": "left",
          "xref": "x",
          "y": 33,
          "yanchor": "bottom",
          "yref": "y"
         },
         {
          "align": "left",
          "font": {
           "size": 12
          },
          "showarrow": false,
          "text": "Source: Ministry of Justice, Criminal justice statistics",
          "x": 0,
          "xanchor": "left",
          "xref": "paper",
          "y": -0.1,
          "yanchor": "top",
          "yref": "paper"
         },
         {
          "font": {
           "size": 14
          },
          "showarrow": false,
          "text": "Women sentenced to custody",
          "x": 0,
          "xanchor": "left",
          "xref": "paper",
          "y": 1,
          "yanchor": "bottom",
          "yref": "paper"
         }
        ],
        "hovermode": "x",
        "template": {
         "data": {
          "scatter": [
           {
            "line": {
             "width": 4
            },
            "marker": {
             "size": 10
            },
            "type": "scatter"
           }
          ]
         },
         "layout": {
          "colorway": [
           "#A01D28",
           "#499CC9",
           "#F9A237",
           "#6FBA3A",
           "#573D6B"
          ],
          "dragmode": false,
          "font": {
           "color": "#54565B",
           "family": "Helvetica Neue, Arial",
           "size": 14
          },
          "height": 360,
          "margin": {
           "b": 75,
           "l": 63,
           "r": 100
          },
          "modebar": {
           "activecolor": "#A01D28"
          },
          "paper_bgcolor": "rgba(1,1,1,0)",
          "plot_bgcolor": "rgba(1,1,1,0)",
          "showlegend": false,
          "title": {
           "font": {
            "family": "Helvetica Neue, Arial",
            "size": 20
           },
           "y": 0.94,
           "yanchor": "bottom"
          },
          "width": 655,
          "xaxis": {
           "gridcolor": "rgba(84, 86, 91, 0.15)",
           "showgrid": false,
           "tickcolor": "#54565B",
           "ticks": "inside"
          },
          "yaxis": {
           "gridcolor": "rgba(84, 86, 91, 0.15)"
          }
         }
        },
        "title": {
         "automargin": true,
         "text": "<b>Use of immediate imprisonment for women in<br>Warwickshire 2010—2024</b>",
         "x": 0,
         "xanchor": "left",
         "yref": "container"
        },
        "xaxis": {
         "dtick": 2,
         "range": [
          2009.7,
          2024.3
         ],
         "tick0": 2010
        },
        "yaxis": {
         "range": [
          0,
          103
         ],
         "tick0": 0,
         "tickformat": ",.0f",
         "title": {
          "text": ""
         }
        }
       }
      }
     },
     "metadata": {},
     "output_type": "display_data"
    },
    {
     "name": "stderr",
     "output_type": "stream",
     "text": [
      "2025-06-12 16:37:33,964 - INFO - Adding chart annotations...\n",
      "2025-06-12 16:37:33,967 - INFO - Setting trace labels...\n",
      "2025-06-12 16:37:33,968 - INFO - Label index: {0}, Adjustment: {0}\n",
      "2025-06-12 16:37:33,974 - INFO - Setting source annotation...\n",
      "2025-06-12 16:37:33,978 - INFO - Annotations added successfully.\n"
     ]
    },
    {
     "data": {
      "application/vnd.plotly.v1+json": {
       "config": {
        "plotlyServerURL": "https://plot.ly"
       },
       "data": [
        {
         "hovertemplate": "%{y}<extra></extra>",
         "meta": "West Mercia",
         "mode": "lines",
         "name": "Less than 6 months",
         "type": "scatter",
         "x": {
          "bdata": "2gfbB9wH3QfeB98H4AfhB+IH4wfkB+UH5gfnB+gH",
          "dtype": "i2"
         },
         "y": {
          "bdata": "VkhERU5CTU1NSkEtFCsj",
          "dtype": "i1"
         }
        },
        {
         "hovertemplate": "%{y}<extra></extra>",
         "meta": "West Mercia",
         "mode": "lines",
         "name": "6 months—<br>less than 12 months",
         "type": "scatter",
         "x": {
          "bdata": "2gfbB9wH3QfeB98H4AfiB+MH5AflB+YH5wfoBw==",
          "dtype": "i2"
         },
         "y": {
          "bdata": "EQcNCAUKCgUMCAQGBgk=",
          "dtype": "i1"
         }
        },
        {
         "hovertemplate": "%{y}<extra></extra>",
         "meta": "West Mercia",
         "mode": "lines",
         "name": "12 months or more",
         "type": "scatter",
         "x": {
          "bdata": "2gfbB9wH3QfeB98H4AfhB+IH4wfkB+UH5gfnB+gH",
          "dtype": "i2"
         },
         "y": {
          "bdata": "KyEdGB0VGQUYGxoJEg8N",
          "dtype": "i1"
         }
        }
       ],
       "layout": {
        "annotations": [
         {
          "align": "left",
          "font": {
           "color": "#A01D28",
           "size": 10
          },
          "showarrow": false,
          "text": "Less than 6 months",
          "x": 2024,
          "xanchor": "left",
          "xref": "x",
          "y": 35,
          "yanchor": "bottom",
          "yref": "y"
         },
         {
          "align": "left",
          "font": {
           "color": "#499CC9",
           "size": 10
          },
          "showarrow": false,
          "text": "6 months—<br>less than 12 months",
          "x": 2024,
          "xanchor": "left",
          "xref": "x",
          "y": 0,
          "yanchor": "bottom",
          "yref": "y"
         },
         {
          "align": "left",
          "font": {
           "color": "#F9A237",
           "size": 10
          },
          "showarrow": false,
          "text": "12 months or more",
          "x": 2024,
          "xanchor": "left",
          "xref": "x",
          "y": 13,
          "yanchor": "bottom",
          "yref": "y"
         },
         {
          "align": "left",
          "font": {
           "size": 12
          },
          "showarrow": false,
          "text": "Source: Ministry of Justice, Criminal justice statistics",
          "x": 0,
          "xanchor": "left",
          "xref": "paper",
          "y": -0.1,
          "yanchor": "top",
          "yref": "paper"
         },
         {
          "font": {
           "size": 14
          },
          "showarrow": false,
          "text": "Women sentenced to custody",
          "x": 0,
          "xanchor": "left",
          "xref": "paper",
          "y": 1,
          "yanchor": "bottom",
          "yref": "paper"
         }
        ],
        "hovermode": "x",
        "template": {
         "data": {
          "scatter": [
           {
            "line": {
             "width": 4
            },
            "marker": {
             "size": 10
            },
            "type": "scatter"
           }
          ]
         },
         "layout": {
          "colorway": [
           "#A01D28",
           "#499CC9",
           "#F9A237",
           "#6FBA3A",
           "#573D6B"
          ],
          "dragmode": false,
          "font": {
           "color": "#54565B",
           "family": "Helvetica Neue, Arial",
           "size": 14
          },
          "height": 360,
          "margin": {
           "b": 75,
           "l": 63,
           "r": 100
          },
          "modebar": {
           "activecolor": "#A01D28"
          },
          "paper_bgcolor": "rgba(1,1,1,0)",
          "plot_bgcolor": "rgba(1,1,1,0)",
          "showlegend": false,
          "title": {
           "font": {
            "family": "Helvetica Neue, Arial",
            "size": 20
           },
           "y": 0.94,
           "yanchor": "bottom"
          },
          "width": 655,
          "xaxis": {
           "gridcolor": "rgba(84, 86, 91, 0.15)",
           "showgrid": false,
           "tickcolor": "#54565B",
           "ticks": "inside"
          },
          "yaxis": {
           "gridcolor": "rgba(84, 86, 91, 0.15)"
          }
         }
        },
        "title": {
         "automargin": true,
         "text": "<b>Use of immediate imprisonment for women in<br>West Mercia 2010—2024</b>",
         "x": 0,
         "xanchor": "left",
         "yref": "container"
        },
        "xaxis": {
         "dtick": 2,
         "range": [
          2009.7,
          2024.3
         ],
         "tick0": 2010
        },
        "yaxis": {
         "range": [
          0,
          103
         ],
         "tick0": 0,
         "tickformat": ",.0f",
         "title": {
          "text": ""
         }
        }
       }
      }
     },
     "metadata": {},
     "output_type": "display_data"
    },
    {
     "name": "stderr",
     "output_type": "stream",
     "text": [
      "2025-06-12 16:37:33,996 - INFO - Adding chart annotations...\n",
      "2025-06-12 16:37:33,997 - INFO - Setting trace labels...\n",
      "2025-06-12 16:37:34,001 - INFO - Label index: {0}, Adjustment: {0}\n",
      "2025-06-12 16:37:34,034 - INFO - Setting source annotation...\n",
      "2025-06-12 16:37:34,038 - INFO - Annotations added successfully.\n"
     ]
    },
    {
     "data": {
      "application/vnd.plotly.v1+json": {
       "config": {
        "plotlyServerURL": "https://plot.ly"
       },
       "data": [
        {
         "hovertemplate": "%{y}<extra></extra>",
         "meta": "West Midlands",
         "mode": "lines",
         "name": "Less than 6 months",
         "type": "scatter",
         "x": {
          "bdata": "2gfbB9wH3QfeB98H4AfhB+IH4wfkB+UH5gfnB+gH",
          "dtype": "i2"
         },
         "y": {
          "bdata": "vgF/AZABYQFbAVQBVwESAf4A4gCMAHgAdAC5AMsA",
          "dtype": "i2"
         }
        },
        {
         "hovertemplate": "%{y}<extra></extra>",
         "meta": "West Midlands",
         "mode": "lines",
         "name": "6 months—<br>less than 12 months",
         "type": "scatter",
         "x": {
          "bdata": "2gfbB9wH3QfeB98H4AfhB+IH4wfkB+UH5gfnB+gH",
          "dtype": "i2"
         },
         "y": {
          "bdata": "JiIvISInHwcfHBUXFRMa",
          "dtype": "i1"
         }
        },
        {
         "hovertemplate": "%{y}<extra></extra>",
         "meta": "West Midlands",
         "mode": "lines",
         "name": "12 months or more",
         "type": "scatter",
         "x": {
          "bdata": "2gfbB9wH3QfeB98H4AfhB+IH4wfkB+UH5gfnB+gH",
          "dtype": "i2"
         },
         "y": {
          "bdata": "cXl0Wlxbfw9MVTc1LERU",
          "dtype": "i1"
         }
        }
       ],
       "layout": {
        "annotations": [
         {
          "align": "left",
          "font": {
           "color": "#A01D28",
           "size": 10
          },
          "showarrow": false,
          "text": "Less than 6 months",
          "x": 2024,
          "xanchor": "left",
          "xref": "x",
          "y": 203,
          "yanchor": "bottom",
          "yref": "y"
         },
         {
          "align": "left",
          "font": {
           "color": "#499CC9",
           "size": 10
          },
          "showarrow": false,
          "text": "6 months—<br>less than 12 months",
          "x": 2024,
          "xanchor": "left",
          "xref": "x",
          "y": 0,
          "yanchor": "bottom",
          "yref": "y"
         },
         {
          "align": "left",
          "font": {
           "color": "#F9A237",
           "size": 10
          },
          "showarrow": false,
          "text": "12 months or more",
          "x": 2024,
          "xanchor": "left",
          "xref": "x",
          "y": 84,
          "yanchor": "bottom",
          "yref": "y"
         },
         {
          "align": "left",
          "font": {
           "size": 12
          },
          "showarrow": false,
          "text": "Source: Ministry of Justice, Criminal justice statistics",
          "x": 0,
          "xanchor": "left",
          "xref": "paper",
          "y": -0.1,
          "yanchor": "top",
          "yref": "paper"
         },
         {
          "font": {
           "size": 14
          },
          "showarrow": false,
          "text": "Women sentenced to custody",
          "x": 0,
          "xanchor": "left",
          "xref": "paper",
          "y": 1,
          "yanchor": "bottom",
          "yref": "paper"
         }
        ],
        "hovermode": "x",
        "template": {
         "data": {
          "scatter": [
           {
            "line": {
             "width": 4
            },
            "marker": {
             "size": 10
            },
            "type": "scatter"
           }
          ]
         },
         "layout": {
          "colorway": [
           "#A01D28",
           "#499CC9",
           "#F9A237",
           "#6FBA3A",
           "#573D6B"
          ],
          "dragmode": false,
          "font": {
           "color": "#54565B",
           "family": "Helvetica Neue, Arial",
           "size": 14
          },
          "height": 360,
          "margin": {
           "b": 75,
           "l": 63,
           "r": 100
          },
          "modebar": {
           "activecolor": "#A01D28"
          },
          "paper_bgcolor": "rgba(1,1,1,0)",
          "plot_bgcolor": "rgba(1,1,1,0)",
          "showlegend": false,
          "title": {
           "font": {
            "family": "Helvetica Neue, Arial",
            "size": 20
           },
           "y": 0.94,
           "yanchor": "bottom"
          },
          "width": 655,
          "xaxis": {
           "gridcolor": "rgba(84, 86, 91, 0.15)",
           "showgrid": false,
           "tickcolor": "#54565B",
           "ticks": "inside"
          },
          "yaxis": {
           "gridcolor": "rgba(84, 86, 91, 0.15)"
          }
         }
        },
        "title": {
         "automargin": true,
         "text": "<b>Use of immediate imprisonment for women in<br>West Midlands 2010—2024</b>",
         "x": 0,
         "xanchor": "left",
         "yref": "container"
        },
        "xaxis": {
         "dtick": 2,
         "range": [
          2009.7,
          2024.3
         ],
         "tick0": 2010
        },
        "yaxis": {
         "range": [
          0,
          606
         ],
         "tick0": 0,
         "tickformat": ",.0f",
         "title": {
          "text": ""
         }
        }
       }
      }
     },
     "metadata": {},
     "output_type": "display_data"
    },
    {
     "name": "stderr",
     "output_type": "stream",
     "text": [
      "2025-06-12 16:37:34,065 - INFO - Adding chart annotations...\n",
      "2025-06-12 16:37:34,067 - INFO - Setting trace labels...\n",
      "2025-06-12 16:37:34,069 - INFO - Label index: {0}, Adjustment: {0}\n",
      "2025-06-12 16:37:34,076 - INFO - Setting source annotation...\n",
      "2025-06-12 16:37:34,081 - INFO - Annotations added successfully.\n"
     ]
    },
    {
     "data": {
      "application/vnd.plotly.v1+json": {
       "config": {
        "plotlyServerURL": "https://plot.ly"
       },
       "data": [
        {
         "hovertemplate": "%{y}<extra></extra>",
         "meta": "West Yorkshire",
         "mode": "lines",
         "name": "Less than 6 months",
         "type": "scatter",
         "x": {
          "bdata": "2gfbB9wH3QfeB98H4AfhB+IH4wfkB+UH5gfnB+gH",
          "dtype": "i2"
         },
         "y": {
          "bdata": "lwCXAJgAswC8ALsA4wDQAMcAvAClAJgAswAIARMB",
          "dtype": "i2"
         }
        },
        {
         "hovertemplate": "%{y}<extra></extra>",
         "meta": "West Yorkshire",
         "mode": "lines",
         "name": "6 months—<br>less than 12 months",
         "type": "scatter",
         "x": {
          "bdata": "2gfbB9wH3QfeB98H4AfhB+IH4wfkB+UH5gfnB+gH",
          "dtype": "i2"
         },
         "y": {
          "bdata": "ESAgIR8fFQ8WISgqFBom",
          "dtype": "i1"
         }
        },
        {
         "hovertemplate": "%{y}<extra></extra>",
         "meta": "West Yorkshire",
         "mode": "lines",
         "name": "12 months or more",
         "type": "scatter",
         "x": {
          "bdata": "2gfbB9wH3QfeB98H4AfhB+IH4wfkB+UH5gfnB+gH",
          "dtype": "i2"
         },
         "y": {
          "bdata": "V09ONU9MViQ5Qz4+MDtZ",
          "dtype": "i1"
         }
        }
       ],
       "layout": {
        "annotations": [
         {
          "align": "left",
          "font": {
           "color": "#A01D28",
           "size": 10
          },
          "showarrow": false,
          "text": "Less than 6 months",
          "x": 2024,
          "xanchor": "left",
          "xref": "x",
          "y": 275,
          "yanchor": "bottom",
          "yref": "y"
         },
         {
          "align": "left",
          "font": {
           "color": "#499CC9",
           "size": 10
          },
          "showarrow": false,
          "text": "6 months—<br>less than 12 months",
          "x": 2024,
          "xanchor": "left",
          "xref": "x",
          "y": 0,
          "yanchor": "bottom",
          "yref": "y"
         },
         {
          "align": "left",
          "font": {
           "color": "#F9A237",
           "size": 10
          },
          "showarrow": false,
          "text": "12 months or more",
          "x": 2024,
          "xanchor": "left",
          "xref": "x",
          "y": 89,
          "yanchor": "bottom",
          "yref": "y"
         },
         {
          "align": "left",
          "font": {
           "size": 12
          },
          "showarrow": false,
          "text": "Source: Ministry of Justice, Criminal justice statistics",
          "x": 0,
          "xanchor": "left",
          "xref": "paper",
          "y": -0.1,
          "yanchor": "top",
          "yref": "paper"
         },
         {
          "font": {
           "size": 14
          },
          "showarrow": false,
          "text": "Women sentenced to custody",
          "x": 0,
          "xanchor": "left",
          "xref": "paper",
          "y": 1,
          "yanchor": "bottom",
          "yref": "paper"
         }
        ],
        "hovermode": "x",
        "template": {
         "data": {
          "scatter": [
           {
            "line": {
             "width": 4
            },
            "marker": {
             "size": 10
            },
            "type": "scatter"
           }
          ]
         },
         "layout": {
          "colorway": [
           "#A01D28",
           "#499CC9",
           "#F9A237",
           "#6FBA3A",
           "#573D6B"
          ],
          "dragmode": false,
          "font": {
           "color": "#54565B",
           "family": "Helvetica Neue, Arial",
           "size": 14
          },
          "height": 360,
          "margin": {
           "b": 75,
           "l": 63,
           "r": 100
          },
          "modebar": {
           "activecolor": "#A01D28"
          },
          "paper_bgcolor": "rgba(1,1,1,0)",
          "plot_bgcolor": "rgba(1,1,1,0)",
          "showlegend": false,
          "title": {
           "font": {
            "family": "Helvetica Neue, Arial",
            "size": 20
           },
           "y": 0.94,
           "yanchor": "bottom"
          },
          "width": 655,
          "xaxis": {
           "gridcolor": "rgba(84, 86, 91, 0.15)",
           "showgrid": false,
           "tickcolor": "#54565B",
           "ticks": "inside"
          },
          "yaxis": {
           "gridcolor": "rgba(84, 86, 91, 0.15)"
          }
         }
        },
        "title": {
         "automargin": true,
         "text": "<b>Use of immediate imprisonment for women in<br>West Yorkshire 2010—2024</b>",
         "x": 0,
         "xanchor": "left",
         "yref": "container"
        },
        "xaxis": {
         "dtick": 2,
         "range": [
          2009.7,
          2024.3
         ],
         "tick0": 2010
        },
        "yaxis": {
         "range": [
          0,
          305
         ],
         "tick0": 0,
         "tickformat": ",.0f",
         "title": {
          "text": ""
         }
        }
       }
      }
     },
     "metadata": {},
     "output_type": "display_data"
    },
    {
     "name": "stderr",
     "output_type": "stream",
     "text": [
      "2025-06-12 16:37:34,097 - INFO - Adding chart annotations...\n",
      "2025-06-12 16:37:34,099 - INFO - Setting trace labels...\n",
      "2025-06-12 16:37:34,100 - INFO - Label index: {0}, Adjustment: {0}\n",
      "2025-06-12 16:37:34,105 - INFO - Setting source annotation...\n",
      "2025-06-12 16:37:34,111 - INFO - Annotations added successfully.\n"
     ]
    },
    {
     "data": {
      "application/vnd.plotly.v1+json": {
       "config": {
        "plotlyServerURL": "https://plot.ly"
       },
       "data": [
        {
         "hovertemplate": "%{y}<extra></extra>",
         "meta": "Wiltshire",
         "mode": "lines",
         "name": "Less than 6 months",
         "type": "scatter",
         "x": {
          "bdata": "2gfbB9wH3QfeB98H4AfhB+IH4wfkB+UH5gfnB+gH",
          "dtype": "i2"
         },
         "y": {
          "bdata": "Bg8VDhMYHx0lIBAQFRcW",
          "dtype": "i1"
         }
        },
        {
         "hovertemplate": "%{y}<extra></extra>",
         "meta": "Wiltshire",
         "mode": "lines",
         "name": "6 months—<br>less than 12 months",
         "type": "scatter",
         "x": {
          "bdata": "2gfbB9wH3QfeB98H4AfiB+MH5AflB+YH5wfoBw==",
          "dtype": "i2"
         },
         "y": {
          "bdata": "AwMCAQQHBwIEBwMFBAE=",
          "dtype": "i1"
         }
        },
        {
         "hovertemplate": "%{y}<extra></extra>",
         "meta": "Wiltshire",
         "mode": "lines",
         "name": "12 months or more",
         "type": "scatter",
         "x": {
          "bdata": "2gfbB9wH3QfeB98H4AfiB+MH5AflB+YH5wfoBw==",
          "dtype": "i2"
         },
         "y": {
          "bdata": "CwwIBwoKCwoMDA0HCgk=",
          "dtype": "i1"
         }
        }
       ],
       "layout": {
        "annotations": [
         {
          "align": "left",
          "font": {
           "color": "#A01D28",
           "size": 10
          },
          "showarrow": false,
          "text": "Less than 6 months",
          "x": 2024,
          "xanchor": "left",
          "xref": "x",
          "y": 22,
          "yanchor": "bottom",
          "yref": "y"
         },
         {
          "align": "left",
          "font": {
           "color": "#499CC9",
           "size": 10
          },
          "showarrow": false,
          "text": "6 months—<br>less than 12 months",
          "x": 2024,
          "xanchor": "left",
          "xref": "x",
          "y": 0,
          "yanchor": "bottom",
          "yref": "y"
         },
         {
          "align": "left",
          "font": {
           "color": "#F9A237",
           "size": 10
          },
          "showarrow": false,
          "text": "12 months or more",
          "x": 2024,
          "xanchor": "left",
          "xref": "x",
          "y": 9,
          "yanchor": "bottom",
          "yref": "y"
         },
         {
          "align": "left",
          "font": {
           "size": 12
          },
          "showarrow": false,
          "text": "Source: Ministry of Justice, Criminal justice statistics",
          "x": 0,
          "xanchor": "left",
          "xref": "paper",
          "y": -0.1,
          "yanchor": "top",
          "yref": "paper"
         },
         {
          "font": {
           "size": 14
          },
          "showarrow": false,
          "text": "Women sentenced to custody",
          "x": 0,
          "xanchor": "left",
          "xref": "paper",
          "y": 1,
          "yanchor": "bottom",
          "yref": "paper"
         }
        ],
        "hovermode": "x",
        "template": {
         "data": {
          "scatter": [
           {
            "line": {
             "width": 4
            },
            "marker": {
             "size": 10
            },
            "type": "scatter"
           }
          ]
         },
         "layout": {
          "colorway": [
           "#A01D28",
           "#499CC9",
           "#F9A237",
           "#6FBA3A",
           "#573D6B"
          ],
          "dragmode": false,
          "font": {
           "color": "#54565B",
           "family": "Helvetica Neue, Arial",
           "size": 14
          },
          "height": 360,
          "margin": {
           "b": 75,
           "l": 63,
           "r": 100
          },
          "modebar": {
           "activecolor": "#A01D28"
          },
          "paper_bgcolor": "rgba(1,1,1,0)",
          "plot_bgcolor": "rgba(1,1,1,0)",
          "showlegend": false,
          "title": {
           "font": {
            "family": "Helvetica Neue, Arial",
            "size": 20
           },
           "y": 0.94,
           "yanchor": "bottom"
          },
          "width": 655,
          "xaxis": {
           "gridcolor": "rgba(84, 86, 91, 0.15)",
           "showgrid": false,
           "tickcolor": "#54565B",
           "ticks": "inside"
          },
          "yaxis": {
           "gridcolor": "rgba(84, 86, 91, 0.15)"
          }
         }
        },
        "title": {
         "automargin": true,
         "text": "<b>Use of immediate imprisonment for women in<br>Wiltshire 2010—2024</b>",
         "x": 0,
         "xanchor": "left",
         "yref": "container"
        },
        "xaxis": {
         "dtick": 2,
         "range": [
          2009.7,
          2024.3
         ],
         "tick0": 2010
        },
        "yaxis": {
         "range": [
          0,
          52
         ],
         "tick0": 0,
         "tickformat": ",.0f",
         "title": {
          "text": ""
         }
        }
       }
      }
     },
     "metadata": {},
     "output_type": "display_data"
    },
    {
     "name": "stderr",
     "output_type": "stream",
     "text": [
      "2025-06-12 16:37:34,117 - INFO - Charts ready\n"
     ]
    }
   ],
   "source": [
    "chart1.main()"
   ]
  },
  {
   "cell_type": "markdown",
   "id": "bd986236",
   "metadata": {},
   "source": [
    "Potentially issues with Gwent and Dyfed-Powys, although I suspect it's because women are being sent to North and South Wales for sentencing of 12 months or more. For further investigation.\n",
    "\n",
    "There's also some weirdness with the setting of the x-axis range and title for these two as well which will need correcting."
   ]
  },
  {
   "cell_type": "markdown",
   "id": "d90d891a",
   "metadata": {},
   "source": [
    "\n"
   ]
  }
 ],
 "metadata": {
  "kernelspec": {
   "display_name": "Python 3",
   "language": "python",
   "name": "python3"
  },
  "language_info": {
   "codemirror_mode": {
    "name": "ipython",
    "version": 3
   },
   "file_extension": ".py",
   "mimetype": "text/x-python",
   "name": "python",
   "nbconvert_exporter": "python",
   "pygments_lexer": "ipython3",
   "version": "3.13.3"
  }
 },
 "nbformat": 4,
 "nbformat_minor": 5
}
