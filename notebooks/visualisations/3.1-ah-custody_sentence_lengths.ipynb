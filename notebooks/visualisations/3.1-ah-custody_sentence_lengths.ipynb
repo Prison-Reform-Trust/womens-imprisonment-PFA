{
 "cells": [
  {
   "cell_type": "markdown",
   "id": "be66d8ea",
   "metadata": {},
   "source": [
    "# Women's imprisonment\n",
    "## Criminal Justice Statistics Police Force Area: Custodial sentence lengths chart"
   ]
  },
  {
   "cell_type": "code",
   "execution_count": 5,
   "id": "3d606adf",
   "metadata": {},
   "outputs": [
    {
     "name": "stdout",
     "output_type": "stream",
     "text": [
      "The autoreload extension is already loaded. To reload it, use:\n",
      "  %reload_ext autoreload\n"
     ]
    }
   ],
   "source": [
    "%load_ext autoreload\n",
    "%autoreload 2"
   ]
  },
  {
   "cell_type": "markdown",
   "id": "76a4090c",
   "metadata": {},
   "source": [
    "## Testing `Chart1_Use_of_imprisonment_PFAs.py`"
   ]
  },
  {
   "cell_type": "code",
   "execution_count": 6,
   "id": "8e6ac4a9",
   "metadata": {},
   "outputs": [],
   "source": [
    "from src.visualization import custody_sentence_lengths as chart1"
   ]
  },
  {
   "cell_type": "code",
   "execution_count": 8,
   "id": "4b83f75e",
   "metadata": {},
   "outputs": [
    {
     "name": "stderr",
     "output_type": "stream",
     "text": [
      "2025-06-18 10:23:58,880 - INFO - Loaded data from data/processed/women_cust_sentence_len_FINAL.csv\n",
      "2025-06-18 10:23:58,902 - INFO - Adding chart annotations...\n",
      "2025-06-18 10:23:58,902 - INFO - Setting trace labels...\n",
      "2025-06-18 10:23:58,903 - INFO - Label index: 0, Adjustment: 0\n",
      "2025-06-18 10:23:58,908 - INFO - Setting source annotation...\n",
      "2025-06-18 10:23:58,914 - INFO - Annotations added successfully.\n",
      "2025-06-18 10:23:58,917 - INFO - Saving chart...\n",
      "2025-06-18 10:23:59,158 - INFO - Figure saved to reports/figures/custody_sentence_lengths/Gwent.pdf\n"
     ]
    }
   ],
   "source": [
    "chart1.test_chart()"
   ]
  },
  {
   "cell_type": "code",
   "execution_count": null,
   "id": "c7ed6e9e",
   "metadata": {},
   "outputs": [],
   "source": [
    "chart1.main()"
   ]
  },
  {
   "cell_type": "markdown",
   "id": "bd986236",
   "metadata": {},
   "source": [
    "Potentially issues with Gwent and Dyfed-Powys, although I suspect it's because women are being sent to North and South Wales for sentencing of 12 months or more. For further investigation.\n",
    "\n",
    "There's also some weirdness with the setting of the x-axis range and title for these two as well which will need correcting."
   ]
  },
  {
   "cell_type": "code",
   "execution_count": 28,
   "id": "f1972489",
   "metadata": {},
   "outputs": [
    {
     "name": "stderr",
     "output_type": "stream",
     "text": [
      "2025-06-13 16:05:11,670 - INFO - Loaded data from data/processed/women_cust_sentence_len_FINAL.csv\n",
      "2025-06-13 16:05:11,687 - INFO - Adding chart annotations...\n",
      "2025-06-13 16:05:11,687 - INFO - Setting trace labels...\n",
      "2025-06-13 16:05:11,688 - INFO - Label index: {0}, Adjustment: {0}\n",
      "2025-06-13 16:05:11,695 - INFO - Setting source annotation...\n",
      "2025-06-13 16:05:11,699 - INFO - Annotations added successfully.\n",
      "2025-06-13 16:05:11,702 - INFO - Saving chart...\n",
      "2025-06-13 16:05:11,774 - INFO - Figure saved to reports/figures/custody_sentence_lengths/Gwent.pdf\n"
     ]
    }
   ],
   "source": [
    "chart1.test_chart()"
   ]
  },
  {
   "cell_type": "markdown",
   "id": "d90d891a",
   "metadata": {},
   "source": [
    "Now refining the placement of labels with the `Records` class"
   ]
  },
  {
   "cell_type": "code",
   "execution_count": null,
   "id": "1e280ea5",
   "metadata": {},
   "outputs": [],
   "source": [
    "pfa_adjustments = [chart1.Record('Derbyshire', 2, 10)]"
   ]
  },
  {
   "cell_type": "code",
   "execution_count": 37,
   "id": "29ef516e",
   "metadata": {},
   "outputs": [
    {
     "name": "stderr",
     "output_type": "stream",
     "text": [
      "2025-06-18 11:13:43,079 - INFO - Loaded data from data/processed/women_cust_sentence_len_FINAL.csv\n",
      "2025-06-18 11:13:43,098 - INFO - Adding chart annotations...\n",
      "2025-06-18 11:13:43,099 - INFO - Setting trace labels...\n",
      "2025-06-18 11:13:43,100 - INFO - Label index: 0, Adjustment: 0\n",
      "2025-06-18 11:13:43,105 - INFO - Setting source annotation...\n",
      "2025-06-18 11:13:43,111 - INFO - Annotations added successfully.\n",
      "2025-06-18 11:13:43,114 - INFO - Saving chart...\n",
      "2025-06-18 11:13:43,186 - INFO - Figure saved to reports/figures/custody_sentence_lengths/Dorset.pdf\n",
      "2025-06-18 11:13:43,187 - INFO - Charts ready\n"
     ]
    }
   ],
   "source": [
    "chart1.test_chart(\n",
    "    pfa='Dorset',\n",
    "    # pfa_adjustments=pfa_adjustments\n",
    ")"
   ]
  },
  {
   "cell_type": "code",
   "execution_count": null,
   "id": "7bebe2fe",
   "metadata": {},
   "outputs": [],
   "source": []
  },
  {
   "cell_type": "code",
   "execution_count": null,
   "id": "71b7a194",
   "metadata": {},
   "outputs": [],
   "source": []
  }
 ],
 "metadata": {
  "kernelspec": {
   "display_name": "Python 3",
   "language": "python",
   "name": "python3"
  },
  "language_info": {
   "codemirror_mode": {
    "name": "ipython",
    "version": 3
   },
   "file_extension": ".py",
   "mimetype": "text/x-python",
   "name": "python",
   "nbconvert_exporter": "python",
   "pygments_lexer": "ipython3",
   "version": "3.13.3"
  }
 },
 "nbformat": 4,
 "nbformat_minor": 5
}
