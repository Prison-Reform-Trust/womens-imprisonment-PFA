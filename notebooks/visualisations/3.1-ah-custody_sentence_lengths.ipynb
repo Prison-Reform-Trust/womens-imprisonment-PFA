{
 "cells": [
  {
   "cell_type": "markdown",
   "id": "be66d8ea",
   "metadata": {},
   "source": [
    "# Women's imprisonment\n",
    "## Criminal Justice Statistics Police Force Area: Custodial sentence lengths chart"
   ]
  },
  {
   "cell_type": "code",
   "execution_count": 1,
   "id": "3d606adf",
   "metadata": {},
   "outputs": [],
   "source": [
    "%load_ext autoreload\n",
    "%autoreload 2"
   ]
  },
  {
   "cell_type": "markdown",
   "id": "76a4090c",
   "metadata": {},
   "source": [
    "## Testing `Chart1_Use_of_imprisonment_PFAs.py`"
   ]
  },
  {
   "cell_type": "code",
   "execution_count": null,
   "id": "8e6ac4a9",
   "metadata": {},
   "outputs": [],
   "source": [
    "from src.visualization import custody_sentence_lengths as chart1"
   ]
  },
  {
   "cell_type": "code",
   "execution_count": 7,
   "id": "4b83f75e",
   "metadata": {},
   "outputs": [
    {
     "name": "stderr",
     "output_type": "stream",
     "text": [
      "2025-06-12 16:30:18,458 - INFO - Loaded data from data/processed/women_cust_sentence_len_FINAL.csv\n",
      "2025-06-12 16:30:18,484 - INFO - Adding chart annotations...\n",
      "2025-06-12 16:30:18,485 - INFO - Setting trace labels...\n",
      "2025-06-12 16:30:18,486 - INFO - Label index: {0}, Adjustment: {0}\n",
      "2025-06-12 16:30:18,491 - INFO - Setting source annotation...\n",
      "2025-06-12 16:30:18,496 - INFO - Annotations added successfully.\n"
     ]
    },
    {
     "data": {
      "application/vnd.plotly.v1+json": {
       "config": {
        "plotlyServerURL": "https://plot.ly"
       },
       "data": [
        {
         "hovertemplate": "%{y}<extra></extra>",
         "meta": "Avon and Somerset",
         "mode": "lines",
         "name": "Less than 6 months",
         "type": "scatter",
         "x": {
          "bdata": "2gfbB9wH3QfeB98H4AfhB+IH4wfkB+UH5gfnB+gH",
          "dtype": "i2"
         },
         "y": {
          "bdata": "cQCOAHgAhwCPAH4AaQBcAGIAWgBQAD0APgBdAHUA",
          "dtype": "i2"
         }
        },
        {
         "hovertemplate": "%{y}<extra></extra>",
         "meta": "Avon and Somerset",
         "mode": "lines",
         "name": "6 months—<br>less than 12 months",
         "type": "scatter",
         "x": {
          "bdata": "2gfbB9wH3QfeB98H4AfhB+IH4wfkB+UH5gfnB+gH",
          "dtype": "i2"
         },
         "y": {
          "bdata": "EBUMCw4ICwUPGAgICwYM",
          "dtype": "i1"
         }
        },
        {
         "hovertemplate": "%{y}<extra></extra>",
         "meta": "Avon and Somerset",
         "mode": "lines",
         "name": "12 months or more",
         "type": "scatter",
         "x": {
          "bdata": "2gfbB9wH3QfeB98H4AfhB+IH4wfkB+UH5gfnB+gH",
          "dtype": "i2"
         },
         "y": {
          "bdata": "MS4mIyciMQkmJxMZKBUY",
          "dtype": "i1"
         }
        }
       ],
       "layout": {
        "annotations": [
         {
          "align": "left",
          "font": {
           "color": "#A01D28",
           "size": 10
          },
          "showarrow": false,
          "text": "Less than 6 months",
          "x": 2024,
          "xanchor": "left",
          "xref": "x",
          "y": 117,
          "yanchor": "bottom",
          "yref": "y"
         },
         {
          "align": "left",
          "font": {
           "color": "#499CC9",
           "size": 10
          },
          "showarrow": false,
          "text": "6 months—<br>less than 12 months",
          "x": 2024,
          "xanchor": "left",
          "xref": "x",
          "y": 0,
          "yanchor": "bottom",
          "yref": "y"
         },
         {
          "align": "left",
          "font": {
           "color": "#F9A237",
           "size": 10
          },
          "showarrow": false,
          "text": "12 months or more",
          "x": 2024,
          "xanchor": "left",
          "xref": "x",
          "y": 24,
          "yanchor": "bottom",
          "yref": "y"
         },
         {
          "align": "left",
          "font": {
           "size": 12
          },
          "showarrow": false,
          "text": "Source: Ministry of Justice, Criminal justice statistics",
          "x": 0,
          "xanchor": "left",
          "xref": "paper",
          "y": -0.1,
          "yanchor": "top",
          "yref": "paper"
         },
         {
          "font": {
           "size": 14
          },
          "showarrow": false,
          "text": "Women sentenced to custody",
          "x": 0,
          "xanchor": "left",
          "xref": "paper",
          "y": 1,
          "yanchor": "bottom",
          "yref": "paper"
         }
        ],
        "hovermode": "x",
        "template": {
         "data": {
          "scatter": [
           {
            "line": {
             "width": 4
            },
            "marker": {
             "size": 10
            },
            "type": "scatter"
           }
          ]
         },
         "layout": {
          "colorway": [
           "#A01D28",
           "#499CC9",
           "#F9A237",
           "#6FBA3A",
           "#573D6B"
          ],
          "dragmode": false,
          "font": {
           "color": "#54565B",
           "family": "Helvetica Neue, Arial",
           "size": 14
          },
          "height": 360,
          "margin": {
           "b": 75,
           "l": 63,
           "r": 100
          },
          "modebar": {
           "activecolor": "#A01D28"
          },
          "paper_bgcolor": "rgba(1,1,1,0)",
          "plot_bgcolor": "rgba(1,1,1,0)",
          "showlegend": false,
          "title": {
           "font": {
            "family": "Helvetica Neue, Arial",
            "size": 20
           },
           "y": 0.94,
           "yanchor": "bottom"
          },
          "width": 655,
          "xaxis": {
           "gridcolor": "rgba(84, 86, 91, 0.15)",
           "showgrid": false,
           "tickcolor": "#54565B",
           "ticks": "inside"
          },
          "yaxis": {
           "gridcolor": "rgba(84, 86, 91, 0.15)"
          }
         }
        },
        "title": {
         "automargin": true,
         "text": "<b>Use of immediate imprisonment for women in<br>Avon and Somerset 2010—2024</b>",
         "x": 0,
         "xanchor": "left",
         "yref": "container"
        },
        "xaxis": {
         "dtick": 2,
         "range": [
          2009.7,
          2024.3
         ],
         "tick0": 2010
        },
        "yaxis": {
         "range": [
          0,
          210
         ],
         "tick0": 0,
         "tickformat": ",.0f",
         "title": {
          "text": ""
         }
        }
       }
      }
     },
     "metadata": {},
     "output_type": "display_data"
    }
   ],
   "source": [
    "chart1.test_chart()"
   ]
  },
  {
   "cell_type": "code",
   "execution_count": 31,
   "id": "c7ed6e9e",
   "metadata": {},
   "outputs": [
    {
     "name": "stderr",
     "output_type": "stream",
     "text": [
      "2025-06-13 16:18:26,635 - INFO - Loaded data from data/processed/women_cust_sentence_len_FINAL.csv\n",
      "2025-06-13 16:18:26,654 - INFO - Adding chart annotations...\n",
      "2025-06-13 16:18:26,655 - INFO - Setting trace labels...\n",
      "2025-06-13 16:18:26,655 - INFO - Label index: {0}, Adjustment: {0}\n",
      "2025-06-13 16:18:26,660 - INFO - Setting source annotation...\n",
      "2025-06-13 16:18:26,665 - INFO - Annotations added successfully.\n",
      "2025-06-13 16:18:26,669 - INFO - Saving chart...\n",
      "2025-06-13 16:18:26,746 - INFO - Figure saved to reports/figures/custody_sentence_lengths/Avon and Somerset.pdf\n",
      "2025-06-13 16:18:26,760 - INFO - Adding chart annotations...\n",
      "2025-06-13 16:18:26,761 - INFO - Setting trace labels...\n",
      "2025-06-13 16:18:26,761 - INFO - Label index: {0}, Adjustment: {0}\n",
      "2025-06-13 16:18:26,768 - INFO - Setting source annotation...\n",
      "2025-06-13 16:18:26,773 - INFO - Annotations added successfully.\n",
      "2025-06-13 16:18:26,776 - INFO - Saving chart...\n",
      "2025-06-13 16:18:26,862 - INFO - Figure saved to reports/figures/custody_sentence_lengths/Bedfordshire.pdf\n",
      "2025-06-13 16:18:26,875 - INFO - Adding chart annotations...\n",
      "2025-06-13 16:18:26,876 - INFO - Setting trace labels...\n",
      "2025-06-13 16:18:26,877 - INFO - Label index: {0}, Adjustment: {0}\n",
      "2025-06-13 16:18:26,883 - INFO - Setting source annotation...\n",
      "2025-06-13 16:18:26,888 - INFO - Annotations added successfully.\n",
      "2025-06-13 16:18:26,891 - INFO - Saving chart...\n",
      "2025-06-13 16:18:26,966 - INFO - Figure saved to reports/figures/custody_sentence_lengths/Cambridgeshire.pdf\n",
      "2025-06-13 16:18:26,979 - INFO - Adding chart annotations...\n",
      "2025-06-13 16:18:26,980 - INFO - Setting trace labels...\n",
      "2025-06-13 16:18:26,980 - INFO - Label index: {0}, Adjustment: {0}\n",
      "2025-06-13 16:18:26,987 - INFO - Setting source annotation...\n",
      "2025-06-13 16:18:26,992 - INFO - Annotations added successfully.\n",
      "2025-06-13 16:18:26,996 - INFO - Saving chart...\n",
      "2025-06-13 16:18:27,062 - INFO - Figure saved to reports/figures/custody_sentence_lengths/Cheshire.pdf\n",
      "2025-06-13 16:18:27,077 - INFO - Adding chart annotations...\n",
      "2025-06-13 16:18:27,078 - INFO - Setting trace labels...\n",
      "2025-06-13 16:18:27,078 - INFO - Label index: {0}, Adjustment: {0}\n",
      "2025-06-13 16:18:27,085 - INFO - Setting source annotation...\n",
      "2025-06-13 16:18:27,089 - INFO - Annotations added successfully.\n",
      "2025-06-13 16:18:27,092 - INFO - Saving chart...\n",
      "2025-06-13 16:18:27,158 - INFO - Figure saved to reports/figures/custody_sentence_lengths/Cleveland.pdf\n",
      "2025-06-13 16:18:27,172 - INFO - Adding chart annotations...\n",
      "2025-06-13 16:18:27,173 - INFO - Setting trace labels...\n",
      "2025-06-13 16:18:27,173 - INFO - Label index: {0}, Adjustment: {0}\n",
      "2025-06-13 16:18:27,180 - INFO - Setting source annotation...\n",
      "2025-06-13 16:18:27,185 - INFO - Annotations added successfully.\n",
      "2025-06-13 16:18:27,189 - INFO - Saving chart...\n",
      "2025-06-13 16:18:27,358 - INFO - Figure saved to reports/figures/custody_sentence_lengths/Cumbria.pdf\n",
      "2025-06-13 16:18:27,371 - INFO - Adding chart annotations...\n",
      "2025-06-13 16:18:27,372 - INFO - Setting trace labels...\n",
      "2025-06-13 16:18:27,372 - INFO - Label index: {0}, Adjustment: {0}\n",
      "2025-06-13 16:18:27,379 - INFO - Setting source annotation...\n",
      "2025-06-13 16:18:27,384 - INFO - Annotations added successfully.\n",
      "2025-06-13 16:18:27,388 - INFO - Saving chart...\n",
      "2025-06-13 16:18:27,455 - INFO - Figure saved to reports/figures/custody_sentence_lengths/Derbyshire.pdf\n",
      "2025-06-13 16:18:27,469 - INFO - Adding chart annotations...\n",
      "2025-06-13 16:18:27,470 - INFO - Setting trace labels...\n",
      "2025-06-13 16:18:27,470 - INFO - Label index: {0}, Adjustment: {0}\n",
      "2025-06-13 16:18:27,476 - INFO - Setting source annotation...\n",
      "2025-06-13 16:18:27,481 - INFO - Annotations added successfully.\n",
      "2025-06-13 16:18:27,485 - INFO - Saving chart...\n",
      "2025-06-13 16:18:27,550 - INFO - Figure saved to reports/figures/custody_sentence_lengths/Devon and Cornwall.pdf\n",
      "2025-06-13 16:18:27,563 - INFO - Adding chart annotations...\n",
      "2025-06-13 16:18:27,564 - INFO - Setting trace labels...\n",
      "2025-06-13 16:18:27,565 - INFO - Label index: {0}, Adjustment: {0}\n",
      "2025-06-13 16:18:27,639 - INFO - Setting source annotation...\n",
      "2025-06-13 16:18:27,644 - INFO - Annotations added successfully.\n",
      "2025-06-13 16:18:27,650 - INFO - Saving chart...\n",
      "2025-06-13 16:18:27,734 - INFO - Figure saved to reports/figures/custody_sentence_lengths/Dorset.pdf\n",
      "2025-06-13 16:18:27,747 - INFO - Adding chart annotations...\n",
      "2025-06-13 16:18:27,748 - INFO - Setting trace labels...\n",
      "2025-06-13 16:18:27,749 - INFO - Label index: {0}, Adjustment: {0}\n",
      "2025-06-13 16:18:27,755 - INFO - Setting source annotation...\n",
      "2025-06-13 16:18:27,760 - INFO - Annotations added successfully.\n",
      "2025-06-13 16:18:27,763 - INFO - Saving chart...\n",
      "2025-06-13 16:18:27,833 - INFO - Figure saved to reports/figures/custody_sentence_lengths/Durham.pdf\n",
      "2025-06-13 16:18:27,845 - INFO - Adding chart annotations...\n",
      "2025-06-13 16:18:27,846 - INFO - Setting trace labels...\n",
      "2025-06-13 16:18:27,847 - INFO - Label index: {0}, Adjustment: {0}\n",
      "2025-06-13 16:18:27,853 - INFO - Setting source annotation...\n",
      "2025-06-13 16:18:27,856 - INFO - Annotations added successfully.\n",
      "2025-06-13 16:18:27,860 - INFO - Saving chart...\n",
      "2025-06-13 16:18:27,921 - INFO - Figure saved to reports/figures/custody_sentence_lengths/Dyfed Powys.pdf\n",
      "2025-06-13 16:18:27,934 - INFO - Adding chart annotations...\n",
      "2025-06-13 16:18:27,935 - INFO - Setting trace labels...\n",
      "2025-06-13 16:18:27,936 - INFO - Label index: {0}, Adjustment: {0}\n",
      "2025-06-13 16:18:27,942 - INFO - Setting source annotation...\n",
      "2025-06-13 16:18:27,947 - INFO - Annotations added successfully.\n",
      "2025-06-13 16:18:27,951 - INFO - Saving chart...\n",
      "2025-06-13 16:18:28,017 - INFO - Figure saved to reports/figures/custody_sentence_lengths/Essex.pdf\n",
      "2025-06-13 16:18:28,030 - INFO - Adding chart annotations...\n",
      "2025-06-13 16:18:28,031 - INFO - Setting trace labels...\n",
      "2025-06-13 16:18:28,031 - INFO - Label index: {0}, Adjustment: {0}\n",
      "2025-06-13 16:18:28,037 - INFO - Setting source annotation...\n",
      "2025-06-13 16:18:28,041 - INFO - Annotations added successfully.\n",
      "2025-06-13 16:18:28,045 - INFO - Saving chart...\n",
      "2025-06-13 16:18:28,114 - INFO - Figure saved to reports/figures/custody_sentence_lengths/Gloucestershire.pdf\n",
      "2025-06-13 16:18:28,128 - INFO - Adding chart annotations...\n",
      "2025-06-13 16:18:28,128 - INFO - Setting trace labels...\n",
      "2025-06-13 16:18:28,129 - INFO - Label index: {0}, Adjustment: {0}\n",
      "2025-06-13 16:18:28,135 - INFO - Setting source annotation...\n",
      "2025-06-13 16:18:28,140 - INFO - Annotations added successfully.\n",
      "2025-06-13 16:18:28,143 - INFO - Saving chart...\n",
      "2025-06-13 16:18:28,211 - INFO - Figure saved to reports/figures/custody_sentence_lengths/Greater Manchester.pdf\n",
      "2025-06-13 16:18:28,223 - INFO - Adding chart annotations...\n",
      "2025-06-13 16:18:28,223 - INFO - Setting trace labels...\n",
      "2025-06-13 16:18:28,224 - INFO - Label index: {0}, Adjustment: {0}\n",
      "2025-06-13 16:18:28,231 - INFO - Setting source annotation...\n",
      "2025-06-13 16:18:28,236 - INFO - Annotations added successfully.\n",
      "2025-06-13 16:18:28,239 - INFO - Saving chart...\n",
      "2025-06-13 16:18:28,298 - INFO - Figure saved to reports/figures/custody_sentence_lengths/Gwent.pdf\n",
      "2025-06-13 16:18:28,311 - INFO - Adding chart annotations...\n",
      "2025-06-13 16:18:28,312 - INFO - Setting trace labels...\n",
      "2025-06-13 16:18:28,313 - INFO - Label index: {0}, Adjustment: {0}\n",
      "2025-06-13 16:18:28,318 - INFO - Setting source annotation...\n",
      "2025-06-13 16:18:28,323 - INFO - Annotations added successfully.\n",
      "2025-06-13 16:18:28,326 - INFO - Saving chart...\n",
      "2025-06-13 16:18:28,397 - INFO - Figure saved to reports/figures/custody_sentence_lengths/Hampshire.pdf\n",
      "2025-06-13 16:18:28,411 - INFO - Adding chart annotations...\n",
      "2025-06-13 16:18:28,412 - INFO - Setting trace labels...\n",
      "2025-06-13 16:18:28,412 - INFO - Label index: {0}, Adjustment: {0}\n",
      "2025-06-13 16:18:28,417 - INFO - Setting source annotation...\n",
      "2025-06-13 16:18:28,422 - INFO - Annotations added successfully.\n",
      "2025-06-13 16:18:28,425 - INFO - Saving chart...\n",
      "2025-06-13 16:18:28,490 - INFO - Figure saved to reports/figures/custody_sentence_lengths/Hertfordshire.pdf\n",
      "2025-06-13 16:18:28,503 - INFO - Adding chart annotations...\n",
      "2025-06-13 16:18:28,504 - INFO - Setting trace labels...\n",
      "2025-06-13 16:18:28,505 - INFO - Label index: {0}, Adjustment: {0}\n",
      "2025-06-13 16:18:28,511 - INFO - Setting source annotation...\n",
      "2025-06-13 16:18:28,515 - INFO - Annotations added successfully.\n",
      "2025-06-13 16:18:28,519 - INFO - Saving chart...\n",
      "2025-06-13 16:18:28,582 - INFO - Figure saved to reports/figures/custody_sentence_lengths/Humberside.pdf\n",
      "2025-06-13 16:18:28,595 - INFO - Adding chart annotations...\n",
      "2025-06-13 16:18:28,595 - INFO - Setting trace labels...\n",
      "2025-06-13 16:18:28,596 - INFO - Label index: {0}, Adjustment: {0}\n",
      "2025-06-13 16:18:28,602 - INFO - Setting source annotation...\n",
      "2025-06-13 16:18:28,607 - INFO - Annotations added successfully.\n",
      "2025-06-13 16:18:28,610 - INFO - Saving chart...\n",
      "2025-06-13 16:18:28,675 - INFO - Figure saved to reports/figures/custody_sentence_lengths/Kent.pdf\n",
      "2025-06-13 16:18:28,688 - INFO - Adding chart annotations...\n",
      "2025-06-13 16:18:28,689 - INFO - Setting trace labels...\n",
      "2025-06-13 16:18:28,690 - INFO - Label index: {0}, Adjustment: {0}\n",
      "2025-06-13 16:18:28,696 - INFO - Setting source annotation...\n",
      "2025-06-13 16:18:28,700 - INFO - Annotations added successfully.\n",
      "2025-06-13 16:18:28,704 - INFO - Saving chart...\n",
      "2025-06-13 16:18:28,770 - INFO - Figure saved to reports/figures/custody_sentence_lengths/Lancashire.pdf\n",
      "2025-06-13 16:18:28,783 - INFO - Adding chart annotations...\n",
      "2025-06-13 16:18:28,784 - INFO - Setting trace labels...\n",
      "2025-06-13 16:18:28,784 - INFO - Label index: {0}, Adjustment: {0}\n",
      "2025-06-13 16:18:28,789 - INFO - Setting source annotation...\n",
      "2025-06-13 16:18:28,794 - INFO - Annotations added successfully.\n",
      "2025-06-13 16:18:28,798 - INFO - Saving chart...\n",
      "2025-06-13 16:18:28,863 - INFO - Figure saved to reports/figures/custody_sentence_lengths/Leicestershire.pdf\n",
      "2025-06-13 16:18:28,876 - INFO - Adding chart annotations...\n",
      "2025-06-13 16:18:28,876 - INFO - Setting trace labels...\n",
      "2025-06-13 16:18:28,877 - INFO - Label index: {0}, Adjustment: {0}\n",
      "2025-06-13 16:18:28,883 - INFO - Setting source annotation...\n",
      "2025-06-13 16:18:28,889 - INFO - Annotations added successfully.\n",
      "2025-06-13 16:18:28,892 - INFO - Saving chart...\n",
      "2025-06-13 16:18:28,953 - INFO - Figure saved to reports/figures/custody_sentence_lengths/Lincolnshire.pdf\n",
      "2025-06-13 16:18:28,967 - INFO - Adding chart annotations...\n",
      "2025-06-13 16:18:28,968 - INFO - Setting trace labels...\n",
      "2025-06-13 16:18:28,968 - INFO - Label index: {0}, Adjustment: {0}\n",
      "2025-06-13 16:18:28,974 - INFO - Setting source annotation...\n",
      "2025-06-13 16:18:28,979 - INFO - Annotations added successfully.\n",
      "2025-06-13 16:18:28,982 - INFO - Saving chart...\n",
      "2025-06-13 16:18:29,045 - INFO - Figure saved to reports/figures/custody_sentence_lengths/Merseyside.pdf\n",
      "2025-06-13 16:18:29,060 - INFO - Adding chart annotations...\n",
      "2025-06-13 16:18:29,061 - INFO - Setting trace labels...\n",
      "2025-06-13 16:18:29,061 - INFO - Label index: {0}, Adjustment: {0}\n",
      "2025-06-13 16:18:29,067 - INFO - Setting source annotation...\n",
      "2025-06-13 16:18:29,072 - INFO - Annotations added successfully.\n",
      "2025-06-13 16:18:29,075 - INFO - Saving chart...\n",
      "2025-06-13 16:18:29,214 - INFO - Figure saved to reports/figures/custody_sentence_lengths/Metropolitan.pdf\n",
      "2025-06-13 16:18:29,227 - INFO - Adding chart annotations...\n",
      "2025-06-13 16:18:29,228 - INFO - Setting trace labels...\n",
      "2025-06-13 16:18:29,228 - INFO - Label index: {0}, Adjustment: {0}\n",
      "2025-06-13 16:18:29,234 - INFO - Setting source annotation...\n",
      "2025-06-13 16:18:29,241 - INFO - Annotations added successfully.\n",
      "2025-06-13 16:18:29,245 - INFO - Saving chart...\n",
      "2025-06-13 16:18:29,313 - INFO - Figure saved to reports/figures/custody_sentence_lengths/Norfolk.pdf\n",
      "2025-06-13 16:18:29,327 - INFO - Adding chart annotations...\n",
      "2025-06-13 16:18:29,328 - INFO - Setting trace labels...\n",
      "2025-06-13 16:18:29,328 - INFO - Label index: {0}, Adjustment: {0}\n",
      "2025-06-13 16:18:29,334 - INFO - Setting source annotation...\n",
      "2025-06-13 16:18:29,339 - INFO - Annotations added successfully.\n",
      "2025-06-13 16:18:29,342 - INFO - Saving chart...\n",
      "2025-06-13 16:18:29,408 - INFO - Figure saved to reports/figures/custody_sentence_lengths/North Wales.pdf\n",
      "2025-06-13 16:18:29,425 - INFO - Adding chart annotations...\n",
      "2025-06-13 16:18:29,426 - INFO - Setting trace labels...\n",
      "2025-06-13 16:18:29,427 - INFO - Label index: {0}, Adjustment: {0}\n",
      "2025-06-13 16:18:29,433 - INFO - Setting source annotation...\n",
      "2025-06-13 16:18:29,438 - INFO - Annotations added successfully.\n",
      "2025-06-13 16:18:29,441 - INFO - Saving chart...\n",
      "2025-06-13 16:18:29,507 - INFO - Figure saved to reports/figures/custody_sentence_lengths/North Yorkshire.pdf\n",
      "2025-06-13 16:18:29,520 - INFO - Adding chart annotations...\n",
      "2025-06-13 16:18:29,520 - INFO - Setting trace labels...\n",
      "2025-06-13 16:18:29,521 - INFO - Label index: {0}, Adjustment: {0}\n",
      "2025-06-13 16:18:29,527 - INFO - Setting source annotation...\n",
      "2025-06-13 16:18:29,533 - INFO - Annotations added successfully.\n",
      "2025-06-13 16:18:29,536 - INFO - Saving chart...\n",
      "2025-06-13 16:18:29,602 - INFO - Figure saved to reports/figures/custody_sentence_lengths/Northamptonshire.pdf\n",
      "2025-06-13 16:18:29,614 - INFO - Adding chart annotations...\n",
      "2025-06-13 16:18:29,615 - INFO - Setting trace labels...\n",
      "2025-06-13 16:18:29,616 - INFO - Label index: {0}, Adjustment: {0}\n",
      "2025-06-13 16:18:29,621 - INFO - Setting source annotation...\n",
      "2025-06-13 16:18:29,626 - INFO - Annotations added successfully.\n",
      "2025-06-13 16:18:29,629 - INFO - Saving chart...\n",
      "2025-06-13 16:18:29,692 - INFO - Figure saved to reports/figures/custody_sentence_lengths/Northumbria.pdf\n",
      "2025-06-13 16:18:29,706 - INFO - Adding chart annotations...\n",
      "2025-06-13 16:18:29,707 - INFO - Setting trace labels...\n",
      "2025-06-13 16:18:29,708 - INFO - Label index: {0}, Adjustment: {0}\n",
      "2025-06-13 16:18:29,713 - INFO - Setting source annotation...\n",
      "2025-06-13 16:18:29,718 - INFO - Annotations added successfully.\n",
      "2025-06-13 16:18:29,722 - INFO - Saving chart...\n",
      "2025-06-13 16:18:29,791 - INFO - Figure saved to reports/figures/custody_sentence_lengths/Nottinghamshire.pdf\n",
      "2025-06-13 16:18:29,805 - INFO - Adding chart annotations...\n",
      "2025-06-13 16:18:29,806 - INFO - Setting trace labels...\n",
      "2025-06-13 16:18:29,807 - INFO - Label index: {0}, Adjustment: {0}\n",
      "2025-06-13 16:18:29,813 - INFO - Setting source annotation...\n",
      "2025-06-13 16:18:29,818 - INFO - Annotations added successfully.\n",
      "2025-06-13 16:18:29,821 - INFO - Saving chart...\n",
      "2025-06-13 16:18:29,896 - INFO - Figure saved to reports/figures/custody_sentence_lengths/South Wales.pdf\n",
      "2025-06-13 16:18:29,908 - INFO - Adding chart annotations...\n",
      "2025-06-13 16:18:29,909 - INFO - Setting trace labels...\n",
      "2025-06-13 16:18:29,910 - INFO - Label index: {0}, Adjustment: {0}\n",
      "2025-06-13 16:18:29,916 - INFO - Setting source annotation...\n",
      "2025-06-13 16:18:29,920 - INFO - Annotations added successfully.\n",
      "2025-06-13 16:18:29,923 - INFO - Saving chart...\n",
      "2025-06-13 16:18:29,987 - INFO - Figure saved to reports/figures/custody_sentence_lengths/South Yorkshire.pdf\n",
      "2025-06-13 16:18:30,002 - INFO - Adding chart annotations...\n",
      "2025-06-13 16:18:30,003 - INFO - Setting trace labels...\n",
      "2025-06-13 16:18:30,003 - INFO - Label index: {0}, Adjustment: {0}\n",
      "2025-06-13 16:18:30,008 - INFO - Setting source annotation...\n",
      "2025-06-13 16:18:30,014 - INFO - Annotations added successfully.\n",
      "2025-06-13 16:18:30,017 - INFO - Saving chart...\n",
      "2025-06-13 16:18:30,081 - INFO - Figure saved to reports/figures/custody_sentence_lengths/Staffordshire.pdf\n",
      "2025-06-13 16:18:30,094 - INFO - Adding chart annotations...\n",
      "2025-06-13 16:18:30,094 - INFO - Setting trace labels...\n",
      "2025-06-13 16:18:30,095 - INFO - Label index: {0}, Adjustment: {0}\n",
      "2025-06-13 16:18:30,101 - INFO - Setting source annotation...\n",
      "2025-06-13 16:18:30,106 - INFO - Annotations added successfully.\n",
      "2025-06-13 16:18:30,109 - INFO - Saving chart...\n",
      "2025-06-13 16:18:30,173 - INFO - Figure saved to reports/figures/custody_sentence_lengths/Suffolk.pdf\n",
      "2025-06-13 16:18:30,185 - INFO - Adding chart annotations...\n",
      "2025-06-13 16:18:30,186 - INFO - Setting trace labels...\n",
      "2025-06-13 16:18:30,186 - INFO - Label index: {0}, Adjustment: {0}\n",
      "2025-06-13 16:18:30,192 - INFO - Setting source annotation...\n",
      "2025-06-13 16:18:30,197 - INFO - Annotations added successfully.\n",
      "2025-06-13 16:18:30,201 - INFO - Saving chart...\n",
      "2025-06-13 16:18:30,274 - INFO - Figure saved to reports/figures/custody_sentence_lengths/Surrey.pdf\n",
      "2025-06-13 16:18:30,289 - INFO - Adding chart annotations...\n",
      "2025-06-13 16:18:30,289 - INFO - Setting trace labels...\n",
      "2025-06-13 16:18:30,290 - INFO - Label index: {0}, Adjustment: {0}\n",
      "2025-06-13 16:18:30,297 - INFO - Setting source annotation...\n",
      "2025-06-13 16:18:30,302 - INFO - Annotations added successfully.\n",
      "2025-06-13 16:18:30,305 - INFO - Saving chart...\n",
      "2025-06-13 16:18:30,369 - INFO - Figure saved to reports/figures/custody_sentence_lengths/Sussex.pdf\n",
      "2025-06-13 16:18:30,382 - INFO - Adding chart annotations...\n",
      "2025-06-13 16:18:30,382 - INFO - Setting trace labels...\n",
      "2025-06-13 16:18:30,383 - INFO - Label index: {0}, Adjustment: {0}\n",
      "2025-06-13 16:18:30,390 - INFO - Setting source annotation...\n",
      "2025-06-13 16:18:30,394 - INFO - Annotations added successfully.\n",
      "2025-06-13 16:18:30,398 - INFO - Saving chart...\n",
      "2025-06-13 16:18:30,459 - INFO - Figure saved to reports/figures/custody_sentence_lengths/Thames Valley.pdf\n",
      "2025-06-13 16:18:30,472 - INFO - Adding chart annotations...\n",
      "2025-06-13 16:18:30,473 - INFO - Setting trace labels...\n",
      "2025-06-13 16:18:30,473 - INFO - Label index: {0}, Adjustment: {0}\n",
      "2025-06-13 16:18:30,479 - INFO - Setting source annotation...\n",
      "2025-06-13 16:18:30,484 - INFO - Annotations added successfully.\n",
      "2025-06-13 16:18:30,487 - INFO - Saving chart...\n",
      "2025-06-13 16:18:30,557 - INFO - Figure saved to reports/figures/custody_sentence_lengths/Warwickshire.pdf\n",
      "2025-06-13 16:18:30,571 - INFO - Adding chart annotations...\n",
      "2025-06-13 16:18:30,572 - INFO - Setting trace labels...\n",
      "2025-06-13 16:18:30,572 - INFO - Label index: {0}, Adjustment: {0}\n",
      "2025-06-13 16:18:30,578 - INFO - Setting source annotation...\n",
      "2025-06-13 16:18:30,583 - INFO - Annotations added successfully.\n",
      "2025-06-13 16:18:30,586 - INFO - Saving chart...\n",
      "2025-06-13 16:18:30,727 - INFO - Figure saved to reports/figures/custody_sentence_lengths/West Mercia.pdf\n",
      "2025-06-13 16:18:30,739 - INFO - Adding chart annotations...\n",
      "2025-06-13 16:18:30,740 - INFO - Setting trace labels...\n",
      "2025-06-13 16:18:30,741 - INFO - Label index: {0}, Adjustment: {0}\n",
      "2025-06-13 16:18:30,748 - INFO - Setting source annotation...\n",
      "2025-06-13 16:18:30,753 - INFO - Annotations added successfully.\n",
      "2025-06-13 16:18:30,756 - INFO - Saving chart...\n",
      "2025-06-13 16:18:30,822 - INFO - Figure saved to reports/figures/custody_sentence_lengths/West Midlands.pdf\n",
      "2025-06-13 16:18:30,834 - INFO - Adding chart annotations...\n",
      "2025-06-13 16:18:30,834 - INFO - Setting trace labels...\n",
      "2025-06-13 16:18:30,835 - INFO - Label index: {0}, Adjustment: {0}\n",
      "2025-06-13 16:18:30,840 - INFO - Setting source annotation...\n",
      "2025-06-13 16:18:30,845 - INFO - Annotations added successfully.\n",
      "2025-06-13 16:18:30,848 - INFO - Saving chart...\n",
      "2025-06-13 16:18:30,915 - INFO - Figure saved to reports/figures/custody_sentence_lengths/West Yorkshire.pdf\n",
      "2025-06-13 16:18:30,929 - INFO - Adding chart annotations...\n",
      "2025-06-13 16:18:30,929 - INFO - Setting trace labels...\n",
      "2025-06-13 16:18:30,930 - INFO - Label index: {0}, Adjustment: {0}\n",
      "2025-06-13 16:18:30,937 - INFO - Setting source annotation...\n",
      "2025-06-13 16:18:30,941 - INFO - Annotations added successfully.\n",
      "2025-06-13 16:18:30,945 - INFO - Saving chart...\n",
      "2025-06-13 16:18:31,007 - INFO - Figure saved to reports/figures/custody_sentence_lengths/Wiltshire.pdf\n",
      "2025-06-13 16:18:31,007 - INFO - Charts ready\n"
     ]
    }
   ],
   "source": [
    "chart1.main()"
   ]
  },
  {
   "cell_type": "markdown",
   "id": "bd986236",
   "metadata": {},
   "source": [
    "Potentially issues with Gwent and Dyfed-Powys, although I suspect it's because women are being sent to North and South Wales for sentencing of 12 months or more. For further investigation.\n",
    "\n",
    "There's also some weirdness with the setting of the x-axis range and title for these two as well which will need correcting."
   ]
  },
  {
   "cell_type": "code",
   "execution_count": 28,
   "id": "f1972489",
   "metadata": {},
   "outputs": [
    {
     "name": "stderr",
     "output_type": "stream",
     "text": [
      "2025-06-13 16:05:11,670 - INFO - Loaded data from data/processed/women_cust_sentence_len_FINAL.csv\n",
      "2025-06-13 16:05:11,687 - INFO - Adding chart annotations...\n",
      "2025-06-13 16:05:11,687 - INFO - Setting trace labels...\n",
      "2025-06-13 16:05:11,688 - INFO - Label index: {0}, Adjustment: {0}\n",
      "2025-06-13 16:05:11,695 - INFO - Setting source annotation...\n",
      "2025-06-13 16:05:11,699 - INFO - Annotations added successfully.\n",
      "2025-06-13 16:05:11,702 - INFO - Saving chart...\n",
      "2025-06-13 16:05:11,774 - INFO - Figure saved to reports/figures/custody_sentence_lengths/Gwent.pdf\n"
     ]
    }
   ],
   "source": [
    "chart1.test_chart()"
   ]
  },
  {
   "cell_type": "markdown",
   "id": "d90d891a",
   "metadata": {},
   "source": [
    "\n"
   ]
  }
 ],
 "metadata": {
  "kernelspec": {
   "display_name": "Python 3",
   "language": "python",
   "name": "python3"
  },
  "language_info": {
   "codemirror_mode": {
    "name": "ipython",
    "version": 3
   },
   "file_extension": ".py",
   "mimetype": "text/x-python",
   "name": "python",
   "nbconvert_exporter": "python",
   "pygments_lexer": "ipython3",
   "version": "3.13.3"
  }
 },
 "nbformat": 4,
 "nbformat_minor": 5
}
