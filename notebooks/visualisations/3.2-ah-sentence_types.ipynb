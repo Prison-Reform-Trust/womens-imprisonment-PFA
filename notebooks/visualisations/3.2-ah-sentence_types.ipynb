{
 "cells": [
  {
   "cell_type": "markdown",
   "id": "bc707604",
   "metadata": {},
   "source": [
    "# Women's imprisonment\n",
    "## Criminal Justice Statistics Police Force Area: Sentence types chart"
   ]
  },
  {
   "cell_type": "code",
   "execution_count": 1,
   "id": "01cd2faa",
   "metadata": {},
   "outputs": [],
   "source": [
    "%load_ext autoreload\n",
    "%autoreload 2"
   ]
  },
  {
   "cell_type": "markdown",
   "id": "850781e8",
   "metadata": {},
   "source": [
    "## Testing `sentence_types.py`"
   ]
  },
  {
   "cell_type": "code",
   "execution_count": 17,
   "id": "cac53514",
   "metadata": {},
   "outputs": [],
   "source": [
    "from src.visualization import sentence_types"
   ]
  },
  {
   "cell_type": "code",
   "execution_count": 20,
   "id": "9f4e557e",
   "metadata": {},
   "outputs": [
    {
     "name": "stderr",
     "output_type": "stream",
     "text": [
      "2025-06-17 17:14:35,451 - INFO - Loaded data from data/processed/women_cust_comm_sus_FINAL.csv\n",
      "2025-06-17 17:14:35,473 - INFO - Adding chart annotations...\n",
      "2025-06-17 17:14:35,474 - INFO - Setting title...\n",
      "2025-06-17 17:14:35,480 - INFO - Setting source annotation...\n",
      "2025-06-17 17:14:35,481 - INFO - Setting y-axis annotation...\n",
      "2025-06-17 17:14:35,482 - INFO - Annotations added successfully.\n"
     ]
    },
    {
     "data": {
      "application/vnd.plotly.v1+json": {
       "config": {
        "plotlyServerURL": "https://plot.ly"
       },
       "data": [
        {
         "customdata": [
          "community sentence",
          "community sentence",
          "community sentence",
          "community sentence",
          "community sentence",
          "community sentence",
          "community sentence",
          "community sentence",
          "community sentence",
          "community sentence",
          "community sentence",
          "community sentence",
          "community sentence",
          "community sentence",
          "community sentence"
         ],
         "hovertemplate": "%{y} %{customdata}<extra></extra>",
         "name": "Community Sentence",
         "type": "bar",
         "x": {
          "bdata": "2gfbB9wH3QfeB98H4AfhB+IH4wfkB+UH5gfnB+gH",
          "dtype": "i2"
         },
         "y": {
          "bdata": "xQANAe4AvACKAHoAXgBvAF4AdABbAEkATwBxAHMA",
          "dtype": "i2"
         }
        },
        {
         "customdata": [
          "immediate custody",
          "immediate custody",
          "immediate custody",
          "immediate custody",
          "immediate custody",
          "immediate custody",
          "immediate custody",
          "immediate custody",
          "immediate custody",
          "immediate custody",
          "immediate custody",
          "immediate custody",
          "immediate custody",
          "immediate custody",
          "immediate custody"
         ],
         "hovertemplate": "%{y} %{customdata}<extra></extra>",
         "name": "Immediate Custody",
         "type": "bar",
         "x": {
          "bdata": "2gfbB9wH3QfeB98H4AfhB+IH4wfkB+UH5gfnB+gH",
          "dtype": "i2"
         },
         "y": {
          "bdata": "KStBNDgzN0o4GxIYER80",
          "dtype": "i1"
         }
        },
        {
         "customdata": [
          "suspended sentence",
          "suspended sentence",
          "suspended sentence",
          "suspended sentence",
          "suspended sentence",
          "suspended sentence",
          "suspended sentence",
          "suspended sentence",
          "suspended sentence",
          "suspended sentence",
          "suspended sentence",
          "suspended sentence",
          "suspended sentence",
          "suspended sentence",
          "suspended sentence"
         ],
         "hovertemplate": "%{y} %{customdata}<extra></extra>",
         "name": "Suspended Sentence",
         "type": "bar",
         "x": {
          "bdata": "2gfbB9wH3QfeB98H4AfhB+IH4wfkB+UH5gfnB+gH",
          "dtype": "i2"
         },
         "y": {
          "bdata": "LBsoPj9HSD9CJzUyNCYv",
          "dtype": "i1"
         }
        }
       ],
       "layout": {
        "barmode": "group",
        "hovermode": "x",
        "legend": {
         "x": 1,
         "xanchor": "right",
         "y": 1.05,
         "yanchor": "top"
        },
        "margin": {
         "r": 20
        },
        "showlegend": true,
        "template": {
         "data": {
          "scatter": [
           {
            "line": {
             "width": 4
            },
            "marker": {
             "size": 10
            },
            "type": "scatter"
           }
          ]
         },
         "layout": {
          "colorway": [
           "#A01D28",
           "#499CC9",
           "#F9A237",
           "#6FBA3A",
           "#573D6B"
          ],
          "dragmode": false,
          "font": {
           "color": "#54565B",
           "family": "Helvetica Neue, Arial",
           "size": 14
          },
          "height": 360,
          "margin": {
           "b": 70,
           "l": 40,
           "r": 100,
           "t": 80
          },
          "modebar": {
           "activecolor": "#A01D28"
          },
          "paper_bgcolor": "#F7F2F2",
          "plot_bgcolor": "#F7F2F2",
          "showlegend": false,
          "title": {
           "font": {
            "family": "Helvetica Neue, Arial",
            "size": 20
           },
           "y": 0.94,
           "yanchor": "bottom"
          },
          "width": 655,
          "xaxis": {
           "gridcolor": "rgba(84, 86, 91, 0.15)",
           "showgrid": false,
           "tickcolor": "#54565B",
           "ticks": "outside"
          },
          "yaxis": {
           "gridcolor": "rgba(84, 86, 91, 0.15)"
          }
         }
        },
        "title": {
         "automargin": true,
         "text": "<b>Sentencing of women in<br>Gwent, 2010—2024</b>",
         "x": 0.025,
         "xanchor": "left",
         "yref": "container"
        },
        "xaxis": {
         "dtick": 2,
         "range": [
          2009.5,
          2024.5
         ],
         "tick0": 2010
        },
        "yaxis": {
         "range": [
          0,
          305
         ],
         "tick0": 0,
         "tickformat": ",.0f"
        }
       }
      }
     },
     "metadata": {},
     "output_type": "display_data"
    }
   ],
   "source": [
    "chart = sentence_types.test_chart()\n",
    "chart"
   ]
  },
  {
   "cell_type": "code",
   "execution_count": 16,
   "id": "a27115eb",
   "metadata": {},
   "outputs": [
    {
     "name": "stderr",
     "output_type": "stream",
     "text": [
      "2025-06-17 17:12:37,019 - INFO - Loaded data from data/processed/women_cust_comm_sus_FINAL.csv\n",
      "2025-06-17 17:12:37,039 - INFO - Adding chart annotations...\n",
      "2025-06-17 17:12:37,040 - INFO - Setting title...\n",
      "2025-06-17 17:12:37,044 - INFO - Setting source annotation...\n",
      "2025-06-17 17:12:37,045 - INFO - Setting y-axis annotation...\n",
      "2025-06-17 17:12:37,046 - INFO - Annotations added successfully.\n",
      "2025-06-17 17:12:37,049 - INFO - Saving chart...\n",
      "2025-06-17 17:12:37,177 - INFO - Figure saved to reports/figures/sentence_types/Avon and Somerset.pdf\n",
      "2025-06-17 17:12:37,194 - INFO - Adding chart annotations...\n",
      "2025-06-17 17:12:37,196 - INFO - Setting title...\n",
      "2025-06-17 17:12:37,200 - INFO - Setting source annotation...\n",
      "2025-06-17 17:12:37,201 - INFO - Setting y-axis annotation...\n",
      "2025-06-17 17:12:37,202 - INFO - Annotations added successfully.\n",
      "2025-06-17 17:12:37,206 - INFO - Saving chart...\n",
      "2025-06-17 17:12:37,265 - INFO - Figure saved to reports/figures/sentence_types/Bedfordshire.pdf\n",
      "2025-06-17 17:12:37,282 - INFO - Adding chart annotations...\n",
      "2025-06-17 17:12:37,283 - INFO - Setting title...\n",
      "2025-06-17 17:12:37,288 - INFO - Setting source annotation...\n",
      "2025-06-17 17:12:37,289 - INFO - Setting y-axis annotation...\n",
      "2025-06-17 17:12:37,290 - INFO - Annotations added successfully.\n",
      "2025-06-17 17:12:37,293 - INFO - Saving chart...\n",
      "2025-06-17 17:12:37,361 - INFO - Figure saved to reports/figures/sentence_types/Cambridgeshire.pdf\n",
      "2025-06-17 17:12:37,377 - INFO - Adding chart annotations...\n",
      "2025-06-17 17:12:37,378 - INFO - Setting title...\n",
      "2025-06-17 17:12:37,383 - INFO - Setting source annotation...\n",
      "2025-06-17 17:12:37,384 - INFO - Setting y-axis annotation...\n",
      "2025-06-17 17:12:37,384 - INFO - Annotations added successfully.\n",
      "2025-06-17 17:12:37,388 - INFO - Saving chart...\n",
      "2025-06-17 17:12:37,452 - INFO - Figure saved to reports/figures/sentence_types/Cheshire.pdf\n",
      "2025-06-17 17:12:37,470 - INFO - Adding chart annotations...\n",
      "2025-06-17 17:12:37,471 - INFO - Setting title...\n",
      "2025-06-17 17:12:37,476 - INFO - Setting source annotation...\n",
      "2025-06-17 17:12:37,477 - INFO - Setting y-axis annotation...\n",
      "2025-06-17 17:12:37,478 - INFO - Annotations added successfully.\n",
      "2025-06-17 17:12:37,481 - INFO - Saving chart...\n",
      "2025-06-17 17:12:37,547 - INFO - Figure saved to reports/figures/sentence_types/Cleveland.pdf\n",
      "2025-06-17 17:12:37,564 - INFO - Adding chart annotations...\n",
      "2025-06-17 17:12:37,566 - INFO - Setting title...\n",
      "2025-06-17 17:12:37,886 - INFO - Setting source annotation...\n",
      "2025-06-17 17:12:37,887 - INFO - Setting y-axis annotation...\n",
      "2025-06-17 17:12:37,888 - INFO - Annotations added successfully.\n",
      "2025-06-17 17:12:37,891 - INFO - Saving chart...\n",
      "2025-06-17 17:12:37,954 - INFO - Figure saved to reports/figures/sentence_types/Cumbria.pdf\n",
      "2025-06-17 17:12:37,970 - INFO - Adding chart annotations...\n",
      "2025-06-17 17:12:37,971 - INFO - Setting title...\n",
      "2025-06-17 17:12:37,976 - INFO - Setting source annotation...\n",
      "2025-06-17 17:12:37,977 - INFO - Setting y-axis annotation...\n",
      "2025-06-17 17:12:37,978 - INFO - Annotations added successfully.\n",
      "2025-06-17 17:12:37,981 - INFO - Saving chart...\n",
      "2025-06-17 17:12:38,044 - INFO - Figure saved to reports/figures/sentence_types/Derbyshire.pdf\n",
      "2025-06-17 17:12:38,061 - INFO - Adding chart annotations...\n",
      "2025-06-17 17:12:38,062 - INFO - Setting title...\n",
      "2025-06-17 17:12:38,066 - INFO - Setting source annotation...\n",
      "2025-06-17 17:12:38,067 - INFO - Setting y-axis annotation...\n",
      "2025-06-17 17:12:38,068 - INFO - Annotations added successfully.\n",
      "2025-06-17 17:12:38,071 - INFO - Saving chart...\n",
      "2025-06-17 17:12:38,136 - INFO - Figure saved to reports/figures/sentence_types/Devon and Cornwall.pdf\n",
      "2025-06-17 17:12:38,153 - INFO - Adding chart annotations...\n",
      "2025-06-17 17:12:38,154 - INFO - Setting title...\n",
      "2025-06-17 17:12:38,159 - INFO - Setting source annotation...\n",
      "2025-06-17 17:12:38,159 - INFO - Setting y-axis annotation...\n",
      "2025-06-17 17:12:38,160 - INFO - Annotations added successfully.\n",
      "2025-06-17 17:12:38,163 - INFO - Saving chart...\n",
      "2025-06-17 17:12:38,220 - INFO - Figure saved to reports/figures/sentence_types/Dorset.pdf\n",
      "2025-06-17 17:12:38,236 - INFO - Adding chart annotations...\n",
      "2025-06-17 17:12:38,237 - INFO - Setting title...\n",
      "2025-06-17 17:12:38,243 - INFO - Setting source annotation...\n",
      "2025-06-17 17:12:38,244 - INFO - Setting y-axis annotation...\n",
      "2025-06-17 17:12:38,244 - INFO - Annotations added successfully.\n",
      "2025-06-17 17:12:38,247 - INFO - Saving chart...\n",
      "2025-06-17 17:12:38,323 - INFO - Figure saved to reports/figures/sentence_types/Durham.pdf\n",
      "2025-06-17 17:12:38,339 - INFO - Adding chart annotations...\n",
      "2025-06-17 17:12:38,340 - INFO - Setting title...\n",
      "2025-06-17 17:12:38,345 - INFO - Setting source annotation...\n",
      "2025-06-17 17:12:38,346 - INFO - Setting y-axis annotation...\n",
      "2025-06-17 17:12:38,346 - INFO - Annotations added successfully.\n",
      "2025-06-17 17:12:38,350 - INFO - Saving chart...\n",
      "2025-06-17 17:12:38,411 - INFO - Figure saved to reports/figures/sentence_types/Dyfed Powys.pdf\n",
      "2025-06-17 17:12:38,428 - INFO - Adding chart annotations...\n",
      "2025-06-17 17:12:38,429 - INFO - Setting title...\n",
      "2025-06-17 17:12:38,434 - INFO - Setting source annotation...\n",
      "2025-06-17 17:12:38,435 - INFO - Setting y-axis annotation...\n",
      "2025-06-17 17:12:38,435 - INFO - Annotations added successfully.\n",
      "2025-06-17 17:12:38,438 - INFO - Saving chart...\n",
      "2025-06-17 17:12:38,496 - INFO - Figure saved to reports/figures/sentence_types/Essex.pdf\n",
      "2025-06-17 17:12:38,512 - INFO - Adding chart annotations...\n",
      "2025-06-17 17:12:38,513 - INFO - Setting title...\n",
      "2025-06-17 17:12:38,519 - INFO - Setting source annotation...\n",
      "2025-06-17 17:12:38,519 - INFO - Setting y-axis annotation...\n",
      "2025-06-17 17:12:38,520 - INFO - Annotations added successfully.\n",
      "2025-06-17 17:12:38,523 - INFO - Saving chart...\n",
      "2025-06-17 17:12:38,588 - INFO - Figure saved to reports/figures/sentence_types/Gloucestershire.pdf\n",
      "2025-06-17 17:12:38,604 - INFO - Adding chart annotations...\n",
      "2025-06-17 17:12:38,605 - INFO - Setting title...\n",
      "2025-06-17 17:12:38,609 - INFO - Setting source annotation...\n",
      "2025-06-17 17:12:38,610 - INFO - Setting y-axis annotation...\n",
      "2025-06-17 17:12:38,611 - INFO - Annotations added successfully.\n",
      "2025-06-17 17:12:38,614 - INFO - Saving chart...\n",
      "2025-06-17 17:12:38,673 - INFO - Figure saved to reports/figures/sentence_types/Greater Manchester.pdf\n",
      "2025-06-17 17:12:38,690 - INFO - Adding chart annotations...\n",
      "2025-06-17 17:12:38,691 - INFO - Setting title...\n",
      "2025-06-17 17:12:38,695 - INFO - Setting source annotation...\n",
      "2025-06-17 17:12:38,696 - INFO - Setting y-axis annotation...\n",
      "2025-06-17 17:12:38,697 - INFO - Annotations added successfully.\n",
      "2025-06-17 17:12:38,700 - INFO - Saving chart...\n",
      "2025-06-17 17:12:38,758 - INFO - Figure saved to reports/figures/sentence_types/Gwent.pdf\n",
      "2025-06-17 17:12:38,774 - INFO - Adding chart annotations...\n",
      "2025-06-17 17:12:38,775 - INFO - Setting title...\n",
      "2025-06-17 17:12:38,781 - INFO - Setting source annotation...\n",
      "2025-06-17 17:12:38,782 - INFO - Setting y-axis annotation...\n",
      "2025-06-17 17:12:38,782 - INFO - Annotations added successfully.\n",
      "2025-06-17 17:12:38,785 - INFO - Saving chart...\n",
      "2025-06-17 17:12:38,844 - INFO - Figure saved to reports/figures/sentence_types/Hampshire.pdf\n",
      "2025-06-17 17:12:38,859 - INFO - Adding chart annotations...\n",
      "2025-06-17 17:12:38,860 - INFO - Setting title...\n",
      "2025-06-17 17:12:38,865 - INFO - Setting source annotation...\n",
      "2025-06-17 17:12:38,866 - INFO - Setting y-axis annotation...\n",
      "2025-06-17 17:12:38,866 - INFO - Annotations added successfully.\n",
      "2025-06-17 17:12:38,869 - INFO - Saving chart...\n",
      "2025-06-17 17:12:38,929 - INFO - Figure saved to reports/figures/sentence_types/Hertfordshire.pdf\n",
      "2025-06-17 17:12:38,945 - INFO - Adding chart annotations...\n",
      "2025-06-17 17:12:38,946 - INFO - Setting title...\n",
      "2025-06-17 17:12:38,951 - INFO - Setting source annotation...\n",
      "2025-06-17 17:12:38,952 - INFO - Setting y-axis annotation...\n",
      "2025-06-17 17:12:38,952 - INFO - Annotations added successfully.\n",
      "2025-06-17 17:12:38,956 - INFO - Saving chart...\n",
      "2025-06-17 17:12:39,016 - INFO - Figure saved to reports/figures/sentence_types/Humberside.pdf\n",
      "2025-06-17 17:12:39,033 - INFO - Adding chart annotations...\n",
      "2025-06-17 17:12:39,034 - INFO - Setting title...\n",
      "2025-06-17 17:12:39,039 - INFO - Setting source annotation...\n",
      "2025-06-17 17:12:39,040 - INFO - Setting y-axis annotation...\n",
      "2025-06-17 17:12:39,041 - INFO - Annotations added successfully.\n",
      "2025-06-17 17:12:39,044 - INFO - Saving chart...\n",
      "2025-06-17 17:12:39,104 - INFO - Figure saved to reports/figures/sentence_types/Kent.pdf\n",
      "2025-06-17 17:12:39,120 - INFO - Adding chart annotations...\n",
      "2025-06-17 17:12:39,121 - INFO - Setting title...\n",
      "2025-06-17 17:12:39,125 - INFO - Setting source annotation...\n",
      "2025-06-17 17:12:39,126 - INFO - Setting y-axis annotation...\n",
      "2025-06-17 17:12:39,127 - INFO - Annotations added successfully.\n",
      "2025-06-17 17:12:39,130 - INFO - Saving chart...\n",
      "2025-06-17 17:12:39,188 - INFO - Figure saved to reports/figures/sentence_types/Lancashire.pdf\n",
      "2025-06-17 17:12:39,205 - INFO - Adding chart annotations...\n",
      "2025-06-17 17:12:39,206 - INFO - Setting title...\n",
      "2025-06-17 17:12:39,211 - INFO - Setting source annotation...\n",
      "2025-06-17 17:12:39,212 - INFO - Setting y-axis annotation...\n",
      "2025-06-17 17:12:39,212 - INFO - Annotations added successfully.\n",
      "2025-06-17 17:12:39,216 - INFO - Saving chart...\n",
      "2025-06-17 17:12:39,278 - INFO - Figure saved to reports/figures/sentence_types/Leicestershire.pdf\n",
      "2025-06-17 17:12:39,294 - INFO - Adding chart annotations...\n",
      "2025-06-17 17:12:39,295 - INFO - Setting title...\n",
      "2025-06-17 17:12:39,301 - INFO - Setting source annotation...\n",
      "2025-06-17 17:12:39,302 - INFO - Setting y-axis annotation...\n",
      "2025-06-17 17:12:39,303 - INFO - Annotations added successfully.\n",
      "2025-06-17 17:12:39,306 - INFO - Saving chart...\n",
      "2025-06-17 17:12:39,372 - INFO - Figure saved to reports/figures/sentence_types/Lincolnshire.pdf\n",
      "2025-06-17 17:12:39,388 - INFO - Adding chart annotations...\n",
      "2025-06-17 17:12:39,389 - INFO - Setting title...\n",
      "2025-06-17 17:12:39,393 - INFO - Setting source annotation...\n",
      "2025-06-17 17:12:39,394 - INFO - Setting y-axis annotation...\n",
      "2025-06-17 17:12:39,395 - INFO - Annotations added successfully.\n",
      "2025-06-17 17:12:39,398 - INFO - Saving chart...\n",
      "2025-06-17 17:12:39,458 - INFO - Figure saved to reports/figures/sentence_types/Merseyside.pdf\n",
      "2025-06-17 17:12:39,476 - INFO - Adding chart annotations...\n",
      "2025-06-17 17:12:39,477 - INFO - Setting title...\n",
      "2025-06-17 17:12:39,481 - INFO - Setting source annotation...\n",
      "2025-06-17 17:12:39,482 - INFO - Setting y-axis annotation...\n",
      "2025-06-17 17:12:39,483 - INFO - Annotations added successfully.\n",
      "2025-06-17 17:12:39,486 - INFO - Saving chart...\n",
      "2025-06-17 17:12:39,555 - INFO - Figure saved to reports/figures/sentence_types/Metropolitan.pdf\n",
      "2025-06-17 17:12:39,571 - INFO - Adding chart annotations...\n",
      "2025-06-17 17:12:39,572 - INFO - Setting title...\n",
      "2025-06-17 17:12:39,578 - INFO - Setting source annotation...\n",
      "2025-06-17 17:12:39,579 - INFO - Setting y-axis annotation...\n",
      "2025-06-17 17:12:39,580 - INFO - Annotations added successfully.\n",
      "2025-06-17 17:12:39,583 - INFO - Saving chart...\n",
      "2025-06-17 17:12:39,652 - INFO - Figure saved to reports/figures/sentence_types/Norfolk.pdf\n",
      "2025-06-17 17:12:39,667 - INFO - Adding chart annotations...\n",
      "2025-06-17 17:12:39,668 - INFO - Setting title...\n",
      "2025-06-17 17:12:39,673 - INFO - Setting source annotation...\n",
      "2025-06-17 17:12:39,674 - INFO - Setting y-axis annotation...\n",
      "2025-06-17 17:12:39,674 - INFO - Annotations added successfully.\n",
      "2025-06-17 17:12:39,678 - INFO - Saving chart...\n",
      "2025-06-17 17:12:39,742 - INFO - Figure saved to reports/figures/sentence_types/North Wales.pdf\n",
      "2025-06-17 17:12:39,758 - INFO - Adding chart annotations...\n",
      "2025-06-17 17:12:39,759 - INFO - Setting title...\n",
      "2025-06-17 17:12:39,764 - INFO - Setting source annotation...\n",
      "2025-06-17 17:12:39,764 - INFO - Setting y-axis annotation...\n",
      "2025-06-17 17:12:39,765 - INFO - Annotations added successfully.\n",
      "2025-06-17 17:12:39,768 - INFO - Saving chart...\n",
      "2025-06-17 17:12:39,830 - INFO - Figure saved to reports/figures/sentence_types/North Yorkshire.pdf\n",
      "2025-06-17 17:12:39,846 - INFO - Adding chart annotations...\n",
      "2025-06-17 17:12:39,848 - INFO - Setting title...\n",
      "2025-06-17 17:12:39,853 - INFO - Setting source annotation...\n",
      "2025-06-17 17:12:39,854 - INFO - Setting y-axis annotation...\n",
      "2025-06-17 17:12:39,854 - INFO - Annotations added successfully.\n",
      "2025-06-17 17:12:39,857 - INFO - Saving chart...\n",
      "2025-06-17 17:12:39,921 - INFO - Figure saved to reports/figures/sentence_types/Northamptonshire.pdf\n",
      "2025-06-17 17:12:39,937 - INFO - Adding chart annotations...\n",
      "2025-06-17 17:12:39,938 - INFO - Setting title...\n",
      "2025-06-17 17:12:39,943 - INFO - Setting source annotation...\n",
      "2025-06-17 17:12:39,943 - INFO - Setting y-axis annotation...\n",
      "2025-06-17 17:12:39,944 - INFO - Annotations added successfully.\n",
      "2025-06-17 17:12:39,947 - INFO - Saving chart...\n",
      "2025-06-17 17:12:40,011 - INFO - Figure saved to reports/figures/sentence_types/Northumbria.pdf\n",
      "2025-06-17 17:12:40,028 - INFO - Adding chart annotations...\n",
      "2025-06-17 17:12:40,029 - INFO - Setting title...\n",
      "2025-06-17 17:12:40,033 - INFO - Setting source annotation...\n",
      "2025-06-17 17:12:40,034 - INFO - Setting y-axis annotation...\n",
      "2025-06-17 17:12:40,035 - INFO - Annotations added successfully.\n",
      "2025-06-17 17:12:40,039 - INFO - Saving chart...\n",
      "2025-06-17 17:12:40,108 - INFO - Figure saved to reports/figures/sentence_types/Nottinghamshire.pdf\n",
      "2025-06-17 17:12:40,124 - INFO - Adding chart annotations...\n",
      "2025-06-17 17:12:40,125 - INFO - Setting title...\n",
      "2025-06-17 17:12:40,131 - INFO - Setting source annotation...\n",
      "2025-06-17 17:12:40,132 - INFO - Setting y-axis annotation...\n",
      "2025-06-17 17:12:40,132 - INFO - Annotations added successfully.\n",
      "2025-06-17 17:12:40,135 - INFO - Saving chart...\n",
      "2025-06-17 17:12:40,202 - INFO - Figure saved to reports/figures/sentence_types/South Wales.pdf\n",
      "2025-06-17 17:12:40,217 - INFO - Adding chart annotations...\n",
      "2025-06-17 17:12:40,218 - INFO - Setting title...\n",
      "2025-06-17 17:12:40,223 - INFO - Setting source annotation...\n",
      "2025-06-17 17:12:40,224 - INFO - Setting y-axis annotation...\n",
      "2025-06-17 17:12:40,225 - INFO - Annotations added successfully.\n",
      "2025-06-17 17:12:40,228 - INFO - Saving chart...\n",
      "2025-06-17 17:12:40,291 - INFO - Figure saved to reports/figures/sentence_types/South Yorkshire.pdf\n",
      "2025-06-17 17:12:40,308 - INFO - Adding chart annotations...\n",
      "2025-06-17 17:12:40,309 - INFO - Setting title...\n",
      "2025-06-17 17:12:40,313 - INFO - Setting source annotation...\n",
      "2025-06-17 17:12:40,314 - INFO - Setting y-axis annotation...\n",
      "2025-06-17 17:12:40,315 - INFO - Annotations added successfully.\n",
      "2025-06-17 17:12:40,318 - INFO - Saving chart...\n",
      "2025-06-17 17:12:40,384 - INFO - Figure saved to reports/figures/sentence_types/Staffordshire.pdf\n",
      "2025-06-17 17:12:40,400 - INFO - Adding chart annotations...\n",
      "2025-06-17 17:12:40,401 - INFO - Setting title...\n",
      "2025-06-17 17:12:40,407 - INFO - Setting source annotation...\n",
      "2025-06-17 17:12:40,408 - INFO - Setting y-axis annotation...\n",
      "2025-06-17 17:12:40,408 - INFO - Annotations added successfully.\n",
      "2025-06-17 17:12:40,412 - INFO - Saving chart...\n",
      "2025-06-17 17:12:40,475 - INFO - Figure saved to reports/figures/sentence_types/Suffolk.pdf\n",
      "2025-06-17 17:12:40,491 - INFO - Adding chart annotations...\n",
      "2025-06-17 17:12:40,492 - INFO - Setting title...\n",
      "2025-06-17 17:12:40,497 - INFO - Setting source annotation...\n",
      "2025-06-17 17:12:40,498 - INFO - Setting y-axis annotation...\n",
      "2025-06-17 17:12:40,499 - INFO - Annotations added successfully.\n",
      "2025-06-17 17:12:40,502 - INFO - Saving chart...\n",
      "2025-06-17 17:12:40,570 - INFO - Figure saved to reports/figures/sentence_types/Surrey.pdf\n",
      "2025-06-17 17:12:40,587 - INFO - Adding chart annotations...\n",
      "2025-06-17 17:12:40,588 - INFO - Setting title...\n",
      "2025-06-17 17:12:40,592 - INFO - Setting source annotation...\n",
      "2025-06-17 17:12:40,593 - INFO - Setting y-axis annotation...\n",
      "2025-06-17 17:12:40,594 - INFO - Annotations added successfully.\n",
      "2025-06-17 17:12:40,597 - INFO - Saving chart...\n",
      "2025-06-17 17:12:40,662 - INFO - Figure saved to reports/figures/sentence_types/Sussex.pdf\n",
      "2025-06-17 17:12:40,678 - INFO - Adding chart annotations...\n",
      "2025-06-17 17:12:40,680 - INFO - Setting title...\n",
      "2025-06-17 17:12:40,685 - INFO - Setting source annotation...\n",
      "2025-06-17 17:12:40,686 - INFO - Setting y-axis annotation...\n",
      "2025-06-17 17:12:40,686 - INFO - Annotations added successfully.\n",
      "2025-06-17 17:12:40,689 - INFO - Saving chart...\n",
      "2025-06-17 17:12:40,753 - INFO - Figure saved to reports/figures/sentence_types/Thames Valley.pdf\n",
      "2025-06-17 17:12:40,769 - INFO - Adding chart annotations...\n",
      "2025-06-17 17:12:40,770 - INFO - Setting title...\n",
      "2025-06-17 17:12:40,774 - INFO - Setting source annotation...\n",
      "2025-06-17 17:12:40,775 - INFO - Setting y-axis annotation...\n",
      "2025-06-17 17:12:40,776 - INFO - Annotations added successfully.\n",
      "2025-06-17 17:12:40,779 - INFO - Saving chart...\n",
      "2025-06-17 17:12:40,844 - INFO - Figure saved to reports/figures/sentence_types/Warwickshire.pdf\n",
      "2025-06-17 17:12:40,862 - INFO - Adding chart annotations...\n",
      "2025-06-17 17:12:40,863 - INFO - Setting title...\n",
      "2025-06-17 17:12:40,867 - INFO - Setting source annotation...\n",
      "2025-06-17 17:12:40,869 - INFO - Setting y-axis annotation...\n",
      "2025-06-17 17:12:40,870 - INFO - Annotations added successfully.\n",
      "2025-06-17 17:12:40,873 - INFO - Saving chart...\n",
      "2025-06-17 17:12:40,937 - INFO - Figure saved to reports/figures/sentence_types/West Mercia.pdf\n",
      "2025-06-17 17:12:40,954 - INFO - Adding chart annotations...\n",
      "2025-06-17 17:12:40,955 - INFO - Setting title...\n",
      "2025-06-17 17:12:40,961 - INFO - Setting source annotation...\n",
      "2025-06-17 17:12:40,961 - INFO - Setting y-axis annotation...\n",
      "2025-06-17 17:12:40,962 - INFO - Annotations added successfully.\n",
      "2025-06-17 17:12:40,965 - INFO - Saving chart...\n",
      "2025-06-17 17:12:41,028 - INFO - Figure saved to reports/figures/sentence_types/West Midlands.pdf\n",
      "2025-06-17 17:12:41,044 - INFO - Adding chart annotations...\n",
      "2025-06-17 17:12:41,045 - INFO - Setting title...\n",
      "2025-06-17 17:12:41,067 - INFO - Setting source annotation...\n",
      "2025-06-17 17:12:41,068 - INFO - Setting y-axis annotation...\n",
      "2025-06-17 17:12:41,070 - INFO - Annotations added successfully.\n",
      "2025-06-17 17:12:41,072 - INFO - Saving chart...\n",
      "2025-06-17 17:12:41,141 - INFO - Figure saved to reports/figures/sentence_types/West Yorkshire.pdf\n",
      "2025-06-17 17:12:41,159 - INFO - Adding chart annotations...\n",
      "2025-06-17 17:12:41,160 - INFO - Setting title...\n",
      "2025-06-17 17:12:41,165 - INFO - Setting source annotation...\n",
      "2025-06-17 17:12:41,166 - INFO - Setting y-axis annotation...\n",
      "2025-06-17 17:12:41,166 - INFO - Annotations added successfully.\n",
      "2025-06-17 17:12:41,170 - INFO - Saving chart...\n",
      "2025-06-17 17:12:41,243 - INFO - Figure saved to reports/figures/sentence_types/Wiltshire.pdf\n",
      "2025-06-17 17:12:41,244 - INFO - Charts ready\n"
     ]
    }
   ],
   "source": [
    "sentence_types.main()"
   ]
  },
  {
   "cell_type": "code",
   "execution_count": null,
   "id": "b171fae8",
   "metadata": {},
   "outputs": [],
   "source": []
  }
 ],
 "metadata": {
  "kernelspec": {
   "display_name": "Python 3",
   "language": "python",
   "name": "python3"
  },
  "language_info": {
   "codemirror_mode": {
    "name": "ipython",
    "version": 3
   },
   "file_extension": ".py",
   "mimetype": "text/x-python",
   "name": "python",
   "nbconvert_exporter": "python",
   "pygments_lexer": "ipython3",
   "version": "3.13.3"
  }
 },
 "nbformat": 4,
 "nbformat_minor": 5
}
