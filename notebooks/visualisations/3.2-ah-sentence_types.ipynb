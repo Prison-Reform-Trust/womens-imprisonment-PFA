{
 "cells": [
  {
   "cell_type": "markdown",
   "id": "bc707604",
   "metadata": {},
   "source": [
    "# Women's imprisonment\n",
    "## Criminal Justice Statistics Police Force Area: Sentence types chart"
   ]
  },
  {
   "cell_type": "code",
   "execution_count": 1,
   "id": "01cd2faa",
   "metadata": {},
   "outputs": [],
   "source": [
    "%load_ext autoreload\n",
    "%autoreload 2"
   ]
  },
  {
   "cell_type": "markdown",
   "id": "850781e8",
   "metadata": {},
   "source": [
    "## Testing `sentence_types.py`"
   ]
  },
  {
   "cell_type": "code",
   "execution_count": 17,
   "id": "cac53514",
   "metadata": {},
   "outputs": [],
   "source": [
    "from src.visualization import sentence_types"
   ]
  },
  {
   "cell_type": "code",
   "execution_count": 21,
   "id": "9f4e557e",
   "metadata": {},
   "outputs": [
    {
     "name": "stderr",
     "output_type": "stream",
     "text": [
      "2025-06-17 17:53:05,393 - INFO - Loaded data from data/processed/women_cust_comm_sus_FINAL.csv\n",
      "2025-06-17 17:53:05,426 - INFO - Adding chart annotations...\n",
      "2025-06-17 17:53:05,428 - INFO - Setting title...\n",
      "2025-06-17 17:53:05,433 - INFO - Setting source annotation...\n",
      "2025-06-17 17:53:05,434 - INFO - Setting y-axis annotation...\n",
      "2025-06-17 17:53:05,477 - INFO - Annotations added successfully.\n"
     ]
    },
    {
     "data": {
      "application/vnd.plotly.v1+json": {
       "config": {
        "plotlyServerURL": "https://plot.ly"
       },
       "data": [
        {
         "customdata": [
          "community sentence",
          "community sentence",
          "community sentence",
          "community sentence",
          "community sentence",
          "community sentence",
          "community sentence",
          "community sentence",
          "community sentence",
          "community sentence",
          "community sentence",
          "community sentence",
          "community sentence",
          "community sentence",
          "community sentence"
         ],
         "hovertemplate": "%{y} %{customdata}<extra></extra>",
         "name": "Community Sentence",
         "type": "bar",
         "x": {
          "bdata": "2gfbB9wH3QfeB98H4AfhB+IH4wfkB+UH5gfnB+gH",
          "dtype": "i2"
         },
         "y": {
          "bdata": "xQANAe4AvACKAHoAXgBvAF4AdABbAEkATwBxAHMA",
          "dtype": "i2"
         }
        },
        {
         "customdata": [
          "immediate custody",
          "immediate custody",
          "immediate custody",
          "immediate custody",
          "immediate custody",
          "immediate custody",
          "immediate custody",
          "immediate custody",
          "immediate custody",
          "immediate custody",
          "immediate custody",
          "immediate custody",
          "immediate custody",
          "immediate custody",
          "immediate custody"
         ],
         "hovertemplate": "%{y} %{customdata}<extra></extra>",
         "name": "Immediate Custody",
         "type": "bar",
         "x": {
          "bdata": "2gfbB9wH3QfeB98H4AfhB+IH4wfkB+UH5gfnB+gH",
          "dtype": "i2"
         },
         "y": {
          "bdata": "KStBNDgzN0o4GxIYER80",
          "dtype": "i1"
         }
        },
        {
         "customdata": [
          "suspended sentence",
          "suspended sentence",
          "suspended sentence",
          "suspended sentence",
          "suspended sentence",
          "suspended sentence",
          "suspended sentence",
          "suspended sentence",
          "suspended sentence",
          "suspended sentence",
          "suspended sentence",
          "suspended sentence",
          "suspended sentence",
          "suspended sentence",
          "suspended sentence"
         ],
         "hovertemplate": "%{y} %{customdata}<extra></extra>",
         "name": "Suspended Sentence",
         "type": "bar",
         "x": {
          "bdata": "2gfbB9wH3QfeB98H4AfhB+IH4wfkB+UH5gfnB+gH",
          "dtype": "i2"
         },
         "y": {
          "bdata": "LBsoPj9HSD9CJzUyNCYv",
          "dtype": "i1"
         }
        }
       ],
       "layout": {
        "annotations": [
         {
          "align": "left",
          "font": {
           "size": 12
          },
          "showarrow": false,
          "text": "Source: Ministry of Justice, Criminal justice statistics",
          "x": -0.015,
          "xanchor": "left",
          "xref": "paper",
          "y": -0.15,
          "yanchor": "top",
          "yref": "paper"
         },
         {
          "font": {
           "size": 14
          },
          "showarrow": false,
          "text": "Women sentenced",
          "x": 0,
          "xanchor": "left",
          "xref": "paper",
          "y": 1,
          "yanchor": "bottom",
          "yref": "paper"
         }
        ],
        "barmode": "group",
        "hovermode": "x",
        "legend": {
         "x": 1,
         "xanchor": "right",
         "y": 1.05,
         "yanchor": "top"
        },
        "margin": {
         "r": 20
        },
        "showlegend": true,
        "template": {
         "data": {
          "scatter": [
           {
            "line": {
             "width": 4
            },
            "marker": {
             "size": 10
            },
            "type": "scatter"
           }
          ]
         },
         "layout": {
          "colorway": [
           "#A01D28",
           "#499CC9",
           "#F9A237",
           "#6FBA3A",
           "#573D6B"
          ],
          "dragmode": false,
          "font": {
           "color": "#54565B",
           "family": "Helvetica Neue, Arial",
           "size": 14
          },
          "height": 360,
          "margin": {
           "b": 70,
           "l": 40,
           "r": 100,
           "t": 80
          },
          "modebar": {
           "activecolor": "#A01D28"
          },
          "paper_bgcolor": "#F7F2F2",
          "plot_bgcolor": "#F7F2F2",
          "showlegend": false,
          "title": {
           "font": {
            "family": "Helvetica Neue, Arial",
            "size": 20
           },
           "y": 0.94,
           "yanchor": "bottom"
          },
          "width": 655,
          "xaxis": {
           "gridcolor": "rgba(84, 86, 91, 0.15)",
           "showgrid": false,
           "tickcolor": "#54565B",
           "ticks": "outside"
          },
          "yaxis": {
           "gridcolor": "rgba(84, 86, 91, 0.15)"
          }
         }
        },
        "title": {
         "automargin": true,
         "text": "<b>Sentencing of women in<br>Gwent, 2010—2024</b>",
         "x": 0.025,
         "xanchor": "left",
         "yref": "container"
        },
        "xaxis": {
         "dtick": 2,
         "range": [
          2009.5,
          2024.5
         ],
         "tick0": 2010
        },
        "yaxis": {
         "range": [
          0,
          305
         ],
         "tick0": 0,
         "tickformat": ",.0f"
        }
       }
      }
     },
     "metadata": {},
     "output_type": "display_data"
    }
   ],
   "source": [
    "chart = sentence_types.test_chart()\n",
    "chart"
   ]
  },
  {
   "cell_type": "code",
   "execution_count": 25,
   "id": "a27115eb",
   "metadata": {},
   "outputs": [
    {
     "name": "stderr",
     "output_type": "stream",
     "text": [
      "2025-06-18 09:59:12,195 - INFO - Loaded data from data/processed/women_cust_comm_sus_FINAL.csv\n",
      "2025-06-18 09:59:12,247 - INFO - Adding chart annotations...\n",
      "2025-06-18 09:59:12,248 - INFO - Setting title...\n",
      "2025-06-18 09:59:12,254 - INFO - Setting source annotation...\n",
      "2025-06-18 09:59:12,255 - INFO - Setting y-axis annotation...\n",
      "2025-06-18 09:59:12,258 - INFO - Annotations added successfully.\n",
      "2025-06-18 09:59:12,262 - INFO - Saving chart...\n",
      "2025-06-18 09:59:13,015 - INFO - Figure saved to reports/figures/sentence_types/Avon and Somerset.pdf\n",
      "2025-06-18 09:59:13,034 - INFO - Adding chart annotations...\n",
      "2025-06-18 09:59:13,035 - INFO - Setting title...\n",
      "2025-06-18 09:59:13,041 - INFO - Setting source annotation...\n",
      "2025-06-18 09:59:13,043 - INFO - Setting y-axis annotation...\n",
      "2025-06-18 09:59:13,045 - INFO - Annotations added successfully.\n",
      "2025-06-18 09:59:13,049 - INFO - Saving chart...\n",
      "2025-06-18 09:59:13,155 - INFO - Figure saved to reports/figures/sentence_types/Bedfordshire.pdf\n",
      "2025-06-18 09:59:13,173 - INFO - Adding chart annotations...\n",
      "2025-06-18 09:59:13,174 - INFO - Setting title...\n",
      "2025-06-18 09:59:13,178 - INFO - Setting source annotation...\n",
      "2025-06-18 09:59:13,179 - INFO - Setting y-axis annotation...\n",
      "2025-06-18 09:59:13,183 - INFO - Annotations added successfully.\n",
      "2025-06-18 09:59:13,186 - INFO - Saving chart...\n",
      "2025-06-18 09:59:13,280 - INFO - Figure saved to reports/figures/sentence_types/Cambridgeshire.pdf\n",
      "2025-06-18 09:59:13,298 - INFO - Adding chart annotations...\n",
      "2025-06-18 09:59:13,300 - INFO - Setting title...\n",
      "2025-06-18 09:59:13,305 - INFO - Setting source annotation...\n",
      "2025-06-18 09:59:13,305 - INFO - Setting y-axis annotation...\n",
      "2025-06-18 09:59:13,307 - INFO - Annotations added successfully.\n",
      "2025-06-18 09:59:13,311 - INFO - Saving chart...\n",
      "2025-06-18 09:59:13,403 - INFO - Figure saved to reports/figures/sentence_types/Cheshire.pdf\n",
      "2025-06-18 09:59:13,422 - INFO - Adding chart annotations...\n",
      "2025-06-18 09:59:13,423 - INFO - Setting title...\n",
      "2025-06-18 09:59:13,428 - INFO - Setting source annotation...\n",
      "2025-06-18 09:59:13,428 - INFO - Setting y-axis annotation...\n",
      "2025-06-18 09:59:13,431 - INFO - Annotations added successfully.\n",
      "2025-06-18 09:59:13,434 - INFO - Saving chart...\n",
      "2025-06-18 09:59:13,565 - INFO - Figure saved to reports/figures/sentence_types/Cleveland.pdf\n",
      "2025-06-18 09:59:13,583 - INFO - Adding chart annotations...\n",
      "2025-06-18 09:59:13,584 - INFO - Setting title...\n",
      "2025-06-18 09:59:13,589 - INFO - Setting source annotation...\n",
      "2025-06-18 09:59:13,590 - INFO - Setting y-axis annotation...\n",
      "2025-06-18 09:59:13,593 - INFO - Annotations added successfully.\n",
      "2025-06-18 09:59:13,596 - INFO - Saving chart...\n",
      "2025-06-18 09:59:13,671 - INFO - Figure saved to reports/figures/sentence_types/Cumbria.pdf\n",
      "2025-06-18 09:59:13,689 - INFO - Adding chart annotations...\n",
      "2025-06-18 09:59:13,690 - INFO - Setting title...\n",
      "2025-06-18 09:59:13,695 - INFO - Setting source annotation...\n",
      "2025-06-18 09:59:13,696 - INFO - Setting y-axis annotation...\n",
      "2025-06-18 09:59:13,698 - INFO - Annotations added successfully.\n",
      "2025-06-18 09:59:13,702 - INFO - Saving chart...\n",
      "2025-06-18 09:59:13,773 - INFO - Figure saved to reports/figures/sentence_types/Derbyshire.pdf\n",
      "2025-06-18 09:59:13,793 - INFO - Adding chart annotations...\n",
      "2025-06-18 09:59:13,794 - INFO - Setting title...\n",
      "2025-06-18 09:59:13,799 - INFO - Setting source annotation...\n",
      "2025-06-18 09:59:13,800 - INFO - Setting y-axis annotation...\n",
      "2025-06-18 09:59:13,802 - INFO - Annotations added successfully.\n",
      "2025-06-18 09:59:13,805 - INFO - Saving chart...\n",
      "2025-06-18 09:59:13,882 - INFO - Figure saved to reports/figures/sentence_types/Devon and Cornwall.pdf\n",
      "2025-06-18 09:59:13,900 - INFO - Adding chart annotations...\n",
      "2025-06-18 09:59:13,901 - INFO - Setting title...\n",
      "2025-06-18 09:59:13,905 - INFO - Setting source annotation...\n",
      "2025-06-18 09:59:13,906 - INFO - Setting y-axis annotation...\n",
      "2025-06-18 09:59:13,908 - INFO - Annotations added successfully.\n",
      "2025-06-18 09:59:13,912 - INFO - Saving chart...\n",
      "2025-06-18 09:59:13,981 - INFO - Figure saved to reports/figures/sentence_types/Dorset.pdf\n",
      "2025-06-18 09:59:13,996 - INFO - Adding chart annotations...\n",
      "2025-06-18 09:59:13,997 - INFO - Setting title...\n",
      "2025-06-18 09:59:14,002 - INFO - Setting source annotation...\n",
      "2025-06-18 09:59:14,003 - INFO - Setting y-axis annotation...\n",
      "2025-06-18 09:59:14,006 - INFO - Annotations added successfully.\n",
      "2025-06-18 09:59:14,009 - INFO - Saving chart...\n",
      "2025-06-18 09:59:14,080 - INFO - Figure saved to reports/figures/sentence_types/Durham.pdf\n",
      "2025-06-18 09:59:14,096 - INFO - Adding chart annotations...\n",
      "2025-06-18 09:59:14,097 - INFO - Setting title...\n",
      "2025-06-18 09:59:14,101 - INFO - Setting source annotation...\n",
      "2025-06-18 09:59:14,102 - INFO - Setting y-axis annotation...\n",
      "2025-06-18 09:59:14,104 - INFO - Annotations added successfully.\n",
      "2025-06-18 09:59:14,107 - INFO - Saving chart...\n",
      "2025-06-18 09:59:14,180 - INFO - Figure saved to reports/figures/sentence_types/Dyfed Powys.pdf\n",
      "2025-06-18 09:59:14,198 - INFO - Adding chart annotations...\n",
      "2025-06-18 09:59:14,199 - INFO - Setting title...\n",
      "2025-06-18 09:59:14,203 - INFO - Setting source annotation...\n",
      "2025-06-18 09:59:14,204 - INFO - Setting y-axis annotation...\n",
      "2025-06-18 09:59:14,206 - INFO - Annotations added successfully.\n",
      "2025-06-18 09:59:14,209 - INFO - Saving chart...\n",
      "2025-06-18 09:59:14,280 - INFO - Figure saved to reports/figures/sentence_types/Essex.pdf\n",
      "2025-06-18 09:59:14,295 - INFO - Adding chart annotations...\n",
      "2025-06-18 09:59:14,296 - INFO - Setting title...\n",
      "2025-06-18 09:59:14,301 - INFO - Setting source annotation...\n",
      "2025-06-18 09:59:14,302 - INFO - Setting y-axis annotation...\n",
      "2025-06-18 09:59:14,304 - INFO - Annotations added successfully.\n",
      "2025-06-18 09:59:14,307 - INFO - Saving chart...\n",
      "2025-06-18 09:59:14,380 - INFO - Figure saved to reports/figures/sentence_types/Gloucestershire.pdf\n",
      "2025-06-18 09:59:14,397 - INFO - Adding chart annotations...\n",
      "2025-06-18 09:59:14,398 - INFO - Setting title...\n",
      "2025-06-18 09:59:14,404 - INFO - Setting source annotation...\n",
      "2025-06-18 09:59:14,405 - INFO - Setting y-axis annotation...\n",
      "2025-06-18 09:59:14,407 - INFO - Annotations added successfully.\n",
      "2025-06-18 09:59:14,410 - INFO - Saving chart...\n",
      "2025-06-18 09:59:14,556 - INFO - Figure saved to reports/figures/sentence_types/Greater Manchester.pdf\n",
      "2025-06-18 09:59:14,574 - INFO - Adding chart annotations...\n",
      "2025-06-18 09:59:14,575 - INFO - Setting title...\n",
      "2025-06-18 09:59:14,579 - INFO - Setting source annotation...\n",
      "2025-06-18 09:59:14,580 - INFO - Setting y-axis annotation...\n",
      "2025-06-18 09:59:14,582 - INFO - Annotations added successfully.\n",
      "2025-06-18 09:59:14,585 - INFO - Saving chart...\n",
      "2025-06-18 09:59:14,660 - INFO - Figure saved to reports/figures/sentence_types/Gwent.pdf\n",
      "2025-06-18 09:59:14,678 - INFO - Adding chart annotations...\n",
      "2025-06-18 09:59:14,679 - INFO - Setting title...\n",
      "2025-06-18 09:59:14,684 - INFO - Setting source annotation...\n",
      "2025-06-18 09:59:14,685 - INFO - Setting y-axis annotation...\n",
      "2025-06-18 09:59:14,687 - INFO - Annotations added successfully.\n",
      "2025-06-18 09:59:14,690 - INFO - Saving chart...\n",
      "2025-06-18 09:59:14,763 - INFO - Figure saved to reports/figures/sentence_types/Hampshire.pdf\n",
      "2025-06-18 09:59:14,779 - INFO - Adding chart annotations...\n",
      "2025-06-18 09:59:14,781 - INFO - Setting title...\n",
      "2025-06-18 09:59:14,786 - INFO - Setting source annotation...\n",
      "2025-06-18 09:59:14,787 - INFO - Setting y-axis annotation...\n",
      "2025-06-18 09:59:14,789 - INFO - Annotations added successfully.\n",
      "2025-06-18 09:59:14,792 - INFO - Saving chart...\n",
      "2025-06-18 09:59:14,863 - INFO - Figure saved to reports/figures/sentence_types/Hertfordshire.pdf\n",
      "2025-06-18 09:59:14,880 - INFO - Adding chart annotations...\n",
      "2025-06-18 09:59:14,881 - INFO - Setting title...\n",
      "2025-06-18 09:59:14,886 - INFO - Setting source annotation...\n",
      "2025-06-18 09:59:14,887 - INFO - Setting y-axis annotation...\n",
      "2025-06-18 09:59:14,889 - INFO - Annotations added successfully.\n",
      "2025-06-18 09:59:14,892 - INFO - Saving chart...\n",
      "2025-06-18 09:59:14,960 - INFO - Figure saved to reports/figures/sentence_types/Humberside.pdf\n",
      "2025-06-18 09:59:14,977 - INFO - Adding chart annotations...\n",
      "2025-06-18 09:59:14,978 - INFO - Setting title...\n",
      "2025-06-18 09:59:14,983 - INFO - Setting source annotation...\n",
      "2025-06-18 09:59:14,984 - INFO - Setting y-axis annotation...\n",
      "2025-06-18 09:59:14,986 - INFO - Annotations added successfully.\n",
      "2025-06-18 09:59:14,989 - INFO - Saving chart...\n",
      "2025-06-18 09:59:15,057 - INFO - Figure saved to reports/figures/sentence_types/Kent.pdf\n",
      "2025-06-18 09:59:15,073 - INFO - Adding chart annotations...\n",
      "2025-06-18 09:59:15,074 - INFO - Setting title...\n",
      "2025-06-18 09:59:15,080 - INFO - Setting source annotation...\n",
      "2025-06-18 09:59:15,081 - INFO - Setting y-axis annotation...\n",
      "2025-06-18 09:59:15,083 - INFO - Annotations added successfully.\n",
      "2025-06-18 09:59:15,086 - INFO - Saving chart...\n",
      "2025-06-18 09:59:15,168 - INFO - Figure saved to reports/figures/sentence_types/Lancashire.pdf\n",
      "2025-06-18 09:59:15,184 - INFO - Adding chart annotations...\n",
      "2025-06-18 09:59:15,185 - INFO - Setting title...\n",
      "2025-06-18 09:59:15,190 - INFO - Setting source annotation...\n",
      "2025-06-18 09:59:15,191 - INFO - Setting y-axis annotation...\n",
      "2025-06-18 09:59:15,193 - INFO - Annotations added successfully.\n",
      "2025-06-18 09:59:15,197 - INFO - Saving chart...\n",
      "2025-06-18 09:59:15,272 - INFO - Figure saved to reports/figures/sentence_types/Leicestershire.pdf\n",
      "2025-06-18 09:59:15,289 - INFO - Adding chart annotations...\n",
      "2025-06-18 09:59:15,290 - INFO - Setting title...\n",
      "2025-06-18 09:59:15,295 - INFO - Setting source annotation...\n",
      "2025-06-18 09:59:15,296 - INFO - Setting y-axis annotation...\n",
      "2025-06-18 09:59:15,298 - INFO - Annotations added successfully.\n",
      "2025-06-18 09:59:15,302 - INFO - Saving chart...\n",
      "2025-06-18 09:59:15,372 - INFO - Figure saved to reports/figures/sentence_types/Lincolnshire.pdf\n",
      "2025-06-18 09:59:15,389 - INFO - Adding chart annotations...\n",
      "2025-06-18 09:59:15,390 - INFO - Setting title...\n",
      "2025-06-18 09:59:15,394 - INFO - Setting source annotation...\n",
      "2025-06-18 09:59:15,395 - INFO - Setting y-axis annotation...\n",
      "2025-06-18 09:59:15,397 - INFO - Annotations added successfully.\n",
      "2025-06-18 09:59:15,400 - INFO - Saving chart...\n",
      "2025-06-18 09:59:15,468 - INFO - Figure saved to reports/figures/sentence_types/London.pdf\n",
      "2025-06-18 09:59:15,483 - INFO - Adding chart annotations...\n",
      "2025-06-18 09:59:15,484 - INFO - Setting title...\n",
      "2025-06-18 09:59:15,490 - INFO - Setting source annotation...\n",
      "2025-06-18 09:59:15,491 - INFO - Setting y-axis annotation...\n",
      "2025-06-18 09:59:15,493 - INFO - Annotations added successfully.\n",
      "2025-06-18 09:59:15,496 - INFO - Saving chart...\n",
      "2025-06-18 09:59:15,564 - INFO - Figure saved to reports/figures/sentence_types/Merseyside.pdf\n",
      "2025-06-18 09:59:15,580 - INFO - Adding chart annotations...\n",
      "2025-06-18 09:59:15,581 - INFO - Setting title...\n",
      "2025-06-18 09:59:15,585 - INFO - Setting source annotation...\n",
      "2025-06-18 09:59:15,586 - INFO - Setting y-axis annotation...\n",
      "2025-06-18 09:59:15,588 - INFO - Annotations added successfully.\n",
      "2025-06-18 09:59:15,591 - INFO - Saving chart...\n",
      "2025-06-18 09:59:15,655 - INFO - Figure saved to reports/figures/sentence_types/Norfolk.pdf\n",
      "2025-06-18 09:59:15,673 - INFO - Adding chart annotations...\n",
      "2025-06-18 09:59:15,674 - INFO - Setting title...\n",
      "2025-06-18 09:59:15,679 - INFO - Setting source annotation...\n",
      "2025-06-18 09:59:15,680 - INFO - Setting y-axis annotation...\n",
      "2025-06-18 09:59:15,682 - INFO - Annotations added successfully.\n",
      "2025-06-18 09:59:15,685 - INFO - Saving chart...\n",
      "2025-06-18 09:59:15,749 - INFO - Figure saved to reports/figures/sentence_types/North Wales.pdf\n",
      "2025-06-18 09:59:15,766 - INFO - Adding chart annotations...\n",
      "2025-06-18 09:59:15,767 - INFO - Setting title...\n",
      "2025-06-18 09:59:15,771 - INFO - Setting source annotation...\n",
      "2025-06-18 09:59:15,772 - INFO - Setting y-axis annotation...\n",
      "2025-06-18 09:59:15,774 - INFO - Annotations added successfully.\n",
      "2025-06-18 09:59:15,777 - INFO - Saving chart...\n",
      "2025-06-18 09:59:15,855 - INFO - Figure saved to reports/figures/sentence_types/North Yorkshire.pdf\n",
      "2025-06-18 09:59:15,874 - INFO - Adding chart annotations...\n",
      "2025-06-18 09:59:15,875 - INFO - Setting title...\n",
      "2025-06-18 09:59:15,880 - INFO - Setting source annotation...\n",
      "2025-06-18 09:59:15,881 - INFO - Setting y-axis annotation...\n",
      "2025-06-18 09:59:15,884 - INFO - Annotations added successfully.\n",
      "2025-06-18 09:59:15,887 - INFO - Saving chart...\n",
      "2025-06-18 09:59:16,020 - INFO - Figure saved to reports/figures/sentence_types/Northamptonshire.pdf\n",
      "2025-06-18 09:59:16,048 - INFO - Adding chart annotations...\n",
      "2025-06-18 09:59:16,049 - INFO - Setting title...\n",
      "2025-06-18 09:59:16,053 - INFO - Setting source annotation...\n",
      "2025-06-18 09:59:16,054 - INFO - Setting y-axis annotation...\n",
      "2025-06-18 09:59:16,056 - INFO - Annotations added successfully.\n",
      "2025-06-18 09:59:16,059 - INFO - Saving chart...\n",
      "2025-06-18 09:59:16,124 - INFO - Figure saved to reports/figures/sentence_types/Northumbria.pdf\n",
      "2025-06-18 09:59:16,141 - INFO - Adding chart annotations...\n",
      "2025-06-18 09:59:16,142 - INFO - Setting title...\n",
      "2025-06-18 09:59:16,147 - INFO - Setting source annotation...\n",
      "2025-06-18 09:59:16,148 - INFO - Setting y-axis annotation...\n",
      "2025-06-18 09:59:16,150 - INFO - Annotations added successfully.\n",
      "2025-06-18 09:59:16,153 - INFO - Saving chart...\n",
      "2025-06-18 09:59:16,228 - INFO - Figure saved to reports/figures/sentence_types/Nottinghamshire.pdf\n",
      "2025-06-18 09:59:16,244 - INFO - Adding chart annotations...\n",
      "2025-06-18 09:59:16,245 - INFO - Setting title...\n",
      "2025-06-18 09:59:16,251 - INFO - Setting source annotation...\n",
      "2025-06-18 09:59:16,252 - INFO - Setting y-axis annotation...\n",
      "2025-06-18 09:59:16,254 - INFO - Annotations added successfully.\n",
      "2025-06-18 09:59:16,258 - INFO - Saving chart...\n",
      "2025-06-18 09:59:16,331 - INFO - Figure saved to reports/figures/sentence_types/South Wales.pdf\n",
      "2025-06-18 09:59:16,348 - INFO - Adding chart annotations...\n",
      "2025-06-18 09:59:16,349 - INFO - Setting title...\n",
      "2025-06-18 09:59:16,354 - INFO - Setting source annotation...\n",
      "2025-06-18 09:59:16,355 - INFO - Setting y-axis annotation...\n",
      "2025-06-18 09:59:16,357 - INFO - Annotations added successfully.\n",
      "2025-06-18 09:59:16,360 - INFO - Saving chart...\n",
      "2025-06-18 09:59:16,426 - INFO - Figure saved to reports/figures/sentence_types/South Yorkshire.pdf\n",
      "2025-06-18 09:59:16,442 - INFO - Adding chart annotations...\n",
      "2025-06-18 09:59:16,443 - INFO - Setting title...\n",
      "2025-06-18 09:59:16,447 - INFO - Setting source annotation...\n",
      "2025-06-18 09:59:16,448 - INFO - Setting y-axis annotation...\n",
      "2025-06-18 09:59:16,450 - INFO - Annotations added successfully.\n",
      "2025-06-18 09:59:16,453 - INFO - Saving chart...\n",
      "2025-06-18 09:59:16,527 - INFO - Figure saved to reports/figures/sentence_types/Staffordshire.pdf\n",
      "2025-06-18 09:59:16,544 - INFO - Adding chart annotations...\n",
      "2025-06-18 09:59:16,545 - INFO - Setting title...\n",
      "2025-06-18 09:59:16,550 - INFO - Setting source annotation...\n",
      "2025-06-18 09:59:16,551 - INFO - Setting y-axis annotation...\n",
      "2025-06-18 09:59:16,553 - INFO - Annotations added successfully.\n",
      "2025-06-18 09:59:16,556 - INFO - Saving chart...\n",
      "2025-06-18 09:59:16,626 - INFO - Figure saved to reports/figures/sentence_types/Suffolk.pdf\n",
      "2025-06-18 09:59:16,641 - INFO - Adding chart annotations...\n",
      "2025-06-18 09:59:16,642 - INFO - Setting title...\n",
      "2025-06-18 09:59:16,648 - INFO - Setting source annotation...\n",
      "2025-06-18 09:59:16,649 - INFO - Setting y-axis annotation...\n",
      "2025-06-18 09:59:16,651 - INFO - Annotations added successfully.\n",
      "2025-06-18 09:59:16,654 - INFO - Saving chart...\n",
      "2025-06-18 09:59:16,717 - INFO - Figure saved to reports/figures/sentence_types/Surrey.pdf\n",
      "2025-06-18 09:59:16,733 - INFO - Adding chart annotations...\n",
      "2025-06-18 09:59:16,734 - INFO - Setting title...\n",
      "2025-06-18 09:59:16,738 - INFO - Setting source annotation...\n",
      "2025-06-18 09:59:16,739 - INFO - Setting y-axis annotation...\n",
      "2025-06-18 09:59:16,741 - INFO - Annotations added successfully.\n",
      "2025-06-18 09:59:16,744 - INFO - Saving chart...\n",
      "2025-06-18 09:59:16,814 - INFO - Figure saved to reports/figures/sentence_types/Sussex.pdf\n",
      "2025-06-18 09:59:16,831 - INFO - Adding chart annotations...\n",
      "2025-06-18 09:59:16,832 - INFO - Setting title...\n",
      "2025-06-18 09:59:16,836 - INFO - Setting source annotation...\n",
      "2025-06-18 09:59:16,837 - INFO - Setting y-axis annotation...\n",
      "2025-06-18 09:59:16,839 - INFO - Annotations added successfully.\n",
      "2025-06-18 09:59:16,842 - INFO - Saving chart...\n",
      "2025-06-18 09:59:16,914 - INFO - Figure saved to reports/figures/sentence_types/Thames Valley.pdf\n",
      "2025-06-18 09:59:16,932 - INFO - Adding chart annotations...\n",
      "2025-06-18 09:59:16,933 - INFO - Setting title...\n",
      "2025-06-18 09:59:16,938 - INFO - Setting source annotation...\n",
      "2025-06-18 09:59:16,939 - INFO - Setting y-axis annotation...\n",
      "2025-06-18 09:59:16,941 - INFO - Annotations added successfully.\n",
      "2025-06-18 09:59:16,944 - INFO - Saving chart...\n",
      "2025-06-18 09:59:17,028 - INFO - Figure saved to reports/figures/sentence_types/Warwickshire.pdf\n",
      "2025-06-18 09:59:17,044 - INFO - Adding chart annotations...\n",
      "2025-06-18 09:59:17,045 - INFO - Setting title...\n",
      "2025-06-18 09:59:17,049 - INFO - Setting source annotation...\n",
      "2025-06-18 09:59:17,050 - INFO - Setting y-axis annotation...\n",
      "2025-06-18 09:59:17,052 - INFO - Annotations added successfully.\n",
      "2025-06-18 09:59:17,056 - INFO - Saving chart...\n",
      "2025-06-18 09:59:17,131 - INFO - Figure saved to reports/figures/sentence_types/West Mercia.pdf\n",
      "2025-06-18 09:59:17,148 - INFO - Adding chart annotations...\n",
      "2025-06-18 09:59:17,149 - INFO - Setting title...\n",
      "2025-06-18 09:59:17,153 - INFO - Setting source annotation...\n",
      "2025-06-18 09:59:17,154 - INFO - Setting y-axis annotation...\n",
      "2025-06-18 09:59:17,156 - INFO - Annotations added successfully.\n",
      "2025-06-18 09:59:17,159 - INFO - Saving chart...\n",
      "2025-06-18 09:59:17,237 - INFO - Figure saved to reports/figures/sentence_types/West Midlands.pdf\n",
      "2025-06-18 09:59:17,254 - INFO - Adding chart annotations...\n",
      "2025-06-18 09:59:17,255 - INFO - Setting title...\n",
      "2025-06-18 09:59:17,260 - INFO - Setting source annotation...\n",
      "2025-06-18 09:59:17,261 - INFO - Setting y-axis annotation...\n",
      "2025-06-18 09:59:17,263 - INFO - Annotations added successfully.\n",
      "2025-06-18 09:59:17,266 - INFO - Saving chart...\n",
      "2025-06-18 09:59:17,338 - INFO - Figure saved to reports/figures/sentence_types/West Yorkshire.pdf\n",
      "2025-06-18 09:59:17,354 - INFO - Adding chart annotations...\n",
      "2025-06-18 09:59:17,355 - INFO - Setting title...\n",
      "2025-06-18 09:59:17,360 - INFO - Setting source annotation...\n",
      "2025-06-18 09:59:17,361 - INFO - Setting y-axis annotation...\n",
      "2025-06-18 09:59:17,364 - INFO - Annotations added successfully.\n",
      "2025-06-18 09:59:17,367 - INFO - Saving chart...\n",
      "2025-06-18 09:59:17,439 - INFO - Figure saved to reports/figures/sentence_types/Wiltshire.pdf\n",
      "2025-06-18 09:59:17,439 - INFO - Charts ready\n"
     ]
    }
   ],
   "source": [
    "sentence_types.main()"
   ]
  },
  {
   "cell_type": "markdown",
   "id": "b916c156",
   "metadata": {},
   "source": [
    "Have spotted that \"Metropolitan\" is being output, rather than \"London\" in the final charts. Need to correct this earlier on in the processing."
   ]
  },
  {
   "cell_type": "code",
   "execution_count": 24,
   "id": "b171fae8",
   "metadata": {},
   "outputs": [
    {
     "name": "stderr",
     "output_type": "stream",
     "text": [
      "2025-06-18 09:43:39,195 - INFO - Loaded data from data/processed/women_cust_comm_sus_FINAL.csv\n",
      "2025-06-18 09:43:39,228 - INFO - Adding chart annotations...\n",
      "2025-06-18 09:43:39,229 - INFO - Setting title...\n",
      "2025-06-18 09:43:39,234 - INFO - Setting source annotation...\n",
      "2025-06-18 09:43:39,235 - INFO - Setting y-axis annotation...\n",
      "2025-06-18 09:43:39,238 - INFO - Annotations added successfully.\n"
     ]
    },
    {
     "data": {
      "application/vnd.plotly.v1+json": {
       "config": {
        "plotlyServerURL": "https://plot.ly"
       },
       "data": [
        {
         "customdata": [
          "community sentence",
          "community sentence",
          "community sentence",
          "community sentence",
          "community sentence",
          "community sentence",
          "community sentence",
          "community sentence",
          "community sentence",
          "community sentence",
          "community sentence",
          "community sentence",
          "community sentence",
          "community sentence",
          "community sentence"
         ],
         "hovertemplate": "%{y} %{customdata}<extra></extra>",
         "name": "Community Sentence",
         "type": "bar",
         "x": {
          "bdata": "2gfbB9wH3QfeB98H4AfhB+IH4wfkB+UH5gfnB+gH",
          "dtype": "i2"
         },
         "y": {
          "bdata": "KAESAQQB/QAMAeMAyAC9AOcAzwCgAMAAugDCAN0A",
          "dtype": "i2"
         }
        },
        {
         "customdata": [
          "immediate custody",
          "immediate custody",
          "immediate custody",
          "immediate custody",
          "immediate custody",
          "immediate custody",
          "immediate custody",
          "immediate custody",
          "immediate custody",
          "immediate custody",
          "immediate custody",
          "immediate custody",
          "immediate custody",
          "immediate custody",
          "immediate custody"
         ],
         "hovertemplate": "%{y} %{customdata}<extra></extra>",
         "name": "Immediate Custody",
         "type": "bar",
         "x": {
          "bdata": "2gfbB9wH3QfeB98H4AfhB+IH4wfkB+UH5gfnB+gH",
          "dtype": "i2"
         },
         "y": {
          "bdata": "RmJTS1VUUlB4SCknGzVE",
          "dtype": "i1"
         }
        },
        {
         "customdata": [
          "suspended sentence",
          "suspended sentence",
          "suspended sentence",
          "suspended sentence",
          "suspended sentence",
          "suspended sentence",
          "suspended sentence",
          "suspended sentence",
          "suspended sentence",
          "suspended sentence",
          "suspended sentence",
          "suspended sentence",
          "suspended sentence",
          "suspended sentence",
          "suspended sentence"
         ],
         "hovertemplate": "%{y} %{customdata}<extra></extra>",
         "name": "Suspended Sentence",
         "type": "bar",
         "x": {
          "bdata": "2gfbB9wH3QfeB98H4AfhB+IH4wfkB+UH5gfnB+gH",
          "dtype": "i2"
         },
         "y": {
          "bdata": "P0BIVVRiXUtGQzMyMCs0",
          "dtype": "i1"
         }
        }
       ],
       "layout": {
        "annotations": [
         {
          "align": "left",
          "font": {
           "size": 12
          },
          "showarrow": false,
          "text": "Source: Ministry of Justice, Criminal justice statistics",
          "x": -0.015,
          "xanchor": "left",
          "xref": "paper",
          "y": -0.15,
          "yanchor": "top",
          "yref": "paper"
         },
         {
          "font": {
           "size": 14
          },
          "showarrow": false,
          "text": "Women sentenced",
          "x": 0,
          "xanchor": "left",
          "xref": "paper",
          "y": 1,
          "yanchor": "bottom",
          "yref": "paper"
         }
        ],
        "barmode": "group",
        "hovermode": "x",
        "legend": {
         "x": 1,
         "xanchor": "right",
         "y": 1,
         "yanchor": "bottom"
        },
        "margin": {
         "r": 20
        },
        "showlegend": true,
        "template": {
         "data": {
          "scatter": [
           {
            "line": {
             "width": 4
            },
            "marker": {
             "size": 10
            },
            "type": "scatter"
           }
          ]
         },
         "layout": {
          "colorway": [
           "#A01D28",
           "#499CC9",
           "#F9A237",
           "#6FBA3A",
           "#573D6B"
          ],
          "dragmode": false,
          "font": {
           "color": "#54565B",
           "family": "Helvetica Neue, Arial",
           "size": 14
          },
          "height": 360,
          "margin": {
           "b": 70,
           "l": 40,
           "r": 100,
           "t": 80
          },
          "modebar": {
           "activecolor": "#A01D28"
          },
          "paper_bgcolor": "#F7F2F2",
          "plot_bgcolor": "#F7F2F2",
          "showlegend": false,
          "title": {
           "font": {
            "family": "Helvetica Neue, Arial",
            "size": 20
           },
           "y": 0.94,
           "yanchor": "bottom"
          },
          "width": 655,
          "xaxis": {
           "gridcolor": "rgba(84, 86, 91, 0.15)",
           "showgrid": false,
           "tickcolor": "#54565B",
           "ticks": "outside"
          },
          "yaxis": {
           "gridcolor": "rgba(84, 86, 91, 0.15)"
          }
         }
        },
        "title": {
         "automargin": true,
         "text": "<b>Sentencing of women in<br>Cumbria, 2010—2024</b>",
         "x": 0.025,
         "xanchor": "left",
         "yref": "container"
        },
        "xaxis": {
         "dtick": 2,
         "range": [
          2009.5,
          2024.5
         ],
         "tick0": 2010
        },
        "yaxis": {
         "range": [
          0,
          305
         ],
         "tick0": 0,
         "tickformat": ",.0f"
        }
       }
      }
     },
     "metadata": {},
     "output_type": "display_data"
    }
   ],
   "source": [
    "sentence_types.test_chart(pfa=\"Cumbria\")"
   ]
  },
  {
   "cell_type": "code",
   "execution_count": null,
   "id": "6c97f5df",
   "metadata": {},
   "outputs": [],
   "source": []
  }
 ],
 "metadata": {
  "kernelspec": {
   "display_name": "Python 3",
   "language": "python",
   "name": "python3"
  },
  "language_info": {
   "codemirror_mode": {
    "name": "ipython",
    "version": 3
   },
   "file_extension": ".py",
   "mimetype": "text/x-python",
   "name": "python",
   "nbconvert_exporter": "python",
   "pygments_lexer": "ipython3",
   "version": "3.13.3"
  }
 },
 "nbformat": 4,
 "nbformat_minor": 5
}
