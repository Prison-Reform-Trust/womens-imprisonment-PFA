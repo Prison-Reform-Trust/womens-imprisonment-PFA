{
 "cells": [
  {
   "cell_type": "code",
   "execution_count": 127,
   "metadata": {},
   "outputs": [],
   "source": [
    "import src.data.utilities as utils"
   ]
  },
  {
   "cell_type": "code",
   "execution_count": 117,
   "metadata": {},
   "outputs": [],
   "source": [
    "import pandas as pd"
   ]
  },
  {
   "cell_type": "code",
   "execution_count": 118,
   "metadata": {},
   "outputs": [
    {
     "data": {
      "text/html": [
       "<div>\n",
       "<style scoped>\n",
       "    .dataframe tbody tr th:only-of-type {\n",
       "        vertical-align: middle;\n",
       "    }\n",
       "\n",
       "    .dataframe tbody tr th {\n",
       "        vertical-align: top;\n",
       "    }\n",
       "\n",
       "    .dataframe thead th {\n",
       "        text-align: right;\n",
       "    }\n",
       "</style>\n",
       "<table border=\"1\" class=\"dataframe\">\n",
       "  <thead>\n",
       "    <tr style=\"text-align: right;\">\n",
       "      <th></th>\n",
       "      <th>Year</th>\n",
       "      <th>Offence group</th>\n",
       "      <th>Sex</th>\n",
       "      <th>Age group</th>\n",
       "      <th>Police Force Area</th>\n",
       "      <th>Sentence Outcome</th>\n",
       "      <th>Custodial Sentence Length</th>\n",
       "      <th>Sentenced</th>\n",
       "    </tr>\n",
       "  </thead>\n",
       "  <tbody>\n",
       "    <tr>\n",
       "      <th>0</th>\n",
       "      <td>2017</td>\n",
       "      <td>01: Violence against the person</td>\n",
       "      <td>02: Male</td>\n",
       "      <td>02: Young adults</td>\n",
       "      <td>Greater Manchester</td>\n",
       "      <td>07: Total Immediate custody</td>\n",
       "      <td>23: Custody - Life</td>\n",
       "      <td>1</td>\n",
       "    </tr>\n",
       "    <tr>\n",
       "      <th>1</th>\n",
       "      <td>2017</td>\n",
       "      <td>01: Violence against the person</td>\n",
       "      <td>02: Male</td>\n",
       "      <td>03: Adults</td>\n",
       "      <td>West Yorkshire</td>\n",
       "      <td>07: Total Immediate custody</td>\n",
       "      <td>23: Custody - Life</td>\n",
       "      <td>1</td>\n",
       "    </tr>\n",
       "    <tr>\n",
       "      <th>2</th>\n",
       "      <td>2017</td>\n",
       "      <td>01: Violence against the person</td>\n",
       "      <td>02: Male</td>\n",
       "      <td>03: Adults</td>\n",
       "      <td>Metropolitan Police</td>\n",
       "      <td>07: Total Immediate custody</td>\n",
       "      <td>23: Custody - Life</td>\n",
       "      <td>1</td>\n",
       "    </tr>\n",
       "    <tr>\n",
       "      <th>3</th>\n",
       "      <td>2017</td>\n",
       "      <td>01: Violence against the person</td>\n",
       "      <td>02: Male</td>\n",
       "      <td>03: Adults</td>\n",
       "      <td>West Yorkshire</td>\n",
       "      <td>07: Total Immediate custody</td>\n",
       "      <td>23: Custody - Life</td>\n",
       "      <td>2</td>\n",
       "    </tr>\n",
       "    <tr>\n",
       "      <th>4</th>\n",
       "      <td>2017</td>\n",
       "      <td>01: Violence against the person</td>\n",
       "      <td>02: Male</td>\n",
       "      <td>01: Children</td>\n",
       "      <td>Metropolitan Police</td>\n",
       "      <td>07: Total Immediate custody</td>\n",
       "      <td>23: Custody - Life</td>\n",
       "      <td>2</td>\n",
       "    </tr>\n",
       "  </tbody>\n",
       "</table>\n",
       "</div>"
      ],
      "text/plain": [
       "   Year                    Offence group       Sex         Age group  \\\n",
       "0  2017  01: Violence against the person  02: Male  02: Young adults   \n",
       "1  2017  01: Violence against the person  02: Male        03: Adults   \n",
       "2  2017  01: Violence against the person  02: Male        03: Adults   \n",
       "3  2017  01: Violence against the person  02: Male        03: Adults   \n",
       "4  2017  01: Violence against the person  02: Male      01: Children   \n",
       "\n",
       "     Police Force Area             Sentence Outcome Custodial Sentence Length  \\\n",
       "0   Greater Manchester  07: Total Immediate custody        23: Custody - Life   \n",
       "1       West Yorkshire  07: Total Immediate custody        23: Custody - Life   \n",
       "2  Metropolitan Police  07: Total Immediate custody        23: Custody - Life   \n",
       "3       West Yorkshire  07: Total Immediate custody        23: Custody - Life   \n",
       "4  Metropolitan Police  07: Total Immediate custody        23: Custody - Life   \n",
       "\n",
       "   Sentenced  \n",
       "0          1  \n",
       "1          1  \n",
       "2          1  \n",
       "3          2  \n",
       "4          2  "
      ]
     },
     "execution_count": 118,
     "metadata": {},
     "output_type": "execute_result"
    }
   ],
   "source": [
    "## DATASETS ##\n",
    "# 1. Sentencing data 2017–21 (from: https://assets.publishing.service.gov.uk/government/uploads/system/uploads/attachment_data/file/1076592/Data-behind-interactive-tools-3.zip)\n",
    "cols = ['Police Force Area', 'Year', 'Sex', 'Age group', 'Offence group', 'Sentence Outcome', 'Custodial Sentence Length','Sentenced']\n",
    "df = utils.loadData(\"data/external/sentencing.csv\", cols=cols)\n",
    "df.head()"
   ]
  },
  {
   "cell_type": "code",
   "execution_count": 119,
   "metadata": {},
   "outputs": [
    {
     "data": {
      "text/html": [
       "<div>\n",
       "<style scoped>\n",
       "    .dataframe tbody tr th:only-of-type {\n",
       "        vertical-align: middle;\n",
       "    }\n",
       "\n",
       "    .dataframe tbody tr th {\n",
       "        vertical-align: top;\n",
       "    }\n",
       "\n",
       "    .dataframe thead th {\n",
       "        text-align: right;\n",
       "    }\n",
       "</style>\n",
       "<table border=\"1\" class=\"dataframe\">\n",
       "  <thead>\n",
       "    <tr style=\"text-align: right;\">\n",
       "      <th></th>\n",
       "      <th>Police Force Area</th>\n",
       "      <th>Year of Appearance</th>\n",
       "      <th>Sex</th>\n",
       "      <th>Age Group</th>\n",
       "      <th>Offence Group</th>\n",
       "      <th>Outcome</th>\n",
       "      <th>Custodial Sentence Length</th>\n",
       "      <th>Count</th>\n",
       "    </tr>\n",
       "  </thead>\n",
       "  <tbody>\n",
       "    <tr>\n",
       "      <th>0</th>\n",
       "      <td>Avon and Somerset</td>\n",
       "      <td>2009</td>\n",
       "      <td>01: Male</td>\n",
       "      <td>01: Children</td>\n",
       "      <td>04: Theft Offences</td>\n",
       "      <td>13: Community sentence</td>\n",
       "      <td>NaN</td>\n",
       "      <td>1</td>\n",
       "    </tr>\n",
       "    <tr>\n",
       "      <th>1</th>\n",
       "      <td>Avon and Somerset</td>\n",
       "      <td>2009</td>\n",
       "      <td>01: Male</td>\n",
       "      <td>01: Children</td>\n",
       "      <td>03: Robbery</td>\n",
       "      <td>13: Community sentence</td>\n",
       "      <td>NaN</td>\n",
       "      <td>1</td>\n",
       "    </tr>\n",
       "    <tr>\n",
       "      <th>2</th>\n",
       "      <td>Avon and Somerset</td>\n",
       "      <td>2009</td>\n",
       "      <td>01: Male</td>\n",
       "      <td>01: Children</td>\n",
       "      <td>11: Summary non-motoring</td>\n",
       "      <td>13: Community sentence</td>\n",
       "      <td>NaN</td>\n",
       "      <td>1</td>\n",
       "    </tr>\n",
       "    <tr>\n",
       "      <th>3</th>\n",
       "      <td>Avon and Somerset</td>\n",
       "      <td>2009</td>\n",
       "      <td>01: Male</td>\n",
       "      <td>01: Children</td>\n",
       "      <td>11: Summary non-motoring</td>\n",
       "      <td>13: Community sentence</td>\n",
       "      <td>NaN</td>\n",
       "      <td>1</td>\n",
       "    </tr>\n",
       "    <tr>\n",
       "      <th>4</th>\n",
       "      <td>Avon and Somerset</td>\n",
       "      <td>2009</td>\n",
       "      <td>01: Male</td>\n",
       "      <td>01: Children</td>\n",
       "      <td>01: Violence against the person</td>\n",
       "      <td>08: Committed for trial</td>\n",
       "      <td>NaN</td>\n",
       "      <td>1</td>\n",
       "    </tr>\n",
       "  </tbody>\n",
       "</table>\n",
       "</div>"
      ],
      "text/plain": [
       "   Police Force Area  Year of Appearance       Sex     Age Group  \\\n",
       "0  Avon and Somerset                2009  01: Male  01: Children   \n",
       "1  Avon and Somerset                2009  01: Male  01: Children   \n",
       "2  Avon and Somerset                2009  01: Male  01: Children   \n",
       "3  Avon and Somerset                2009  01: Male  01: Children   \n",
       "4  Avon and Somerset                2009  01: Male  01: Children   \n",
       "\n",
       "                     Offence Group                  Outcome  \\\n",
       "0               04: Theft Offences   13: Community sentence   \n",
       "1                      03: Robbery   13: Community sentence   \n",
       "2         11: Summary non-motoring   13: Community sentence   \n",
       "3         11: Summary non-motoring   13: Community sentence   \n",
       "4  01: Violence against the person  08: Committed for trial   \n",
       "\n",
       "  Custodial Sentence Length  Count  \n",
       "0                       NaN      1  \n",
       "1                       NaN      1  \n",
       "2                       NaN      1  \n",
       "3                       NaN      1  \n",
       "4                       NaN      1  "
      ]
     },
     "execution_count": 119,
     "metadata": {},
     "output_type": "execute_result"
    }
   ],
   "source": [
    "# 2. Court outcomes by police force area 2009–2019 (from: https://assets.publishing.service.gov.uk/government/uploads/system/uploads/attachment_data/file/888561/csvs-behind-data-tools-2-2019.zip)\n",
    "cols_2009 =['Police Force Area', 'Year of Appearance', 'Sex', 'Age Group', 'Offence Group', 'Outcome', 'Custodial Sentence Length','Count'] \n",
    "df_2009 = utils.loadData('data/external/court-outcomes-by-PFA-2019.csv', cols=cols_2009)\n",
    "df_2009.head()"
   ]
  },
  {
   "cell_type": "code",
   "execution_count": 120,
   "metadata": {},
   "outputs": [],
   "source": [
    "#Dropping duplicate data from 2009 dataset that also appears in df\n",
    "filt = df_2009['Year of Appearance'] < 2017\n",
    "df_2009 = df_2009[filt].copy()"
   ]
  },
  {
   "cell_type": "code",
   "execution_count": 121,
   "metadata": {},
   "outputs": [],
   "source": [
    "#Standardising variable names\n",
    "for data in [df, df_2009]:\n",
    "    utils.lcColumns(data)\n",
    "    utils.renameColumns(data, columns={\n",
    "        'year_of_appearance': 'year',\n",
    "        'offence_group': 'offence',\n",
    "        'police_force_area': 'pfa',\n",
    "        'sentence_outcome': 'outcome',\n",
    "        'custodial_sentence_length': 'sentence_length',\n",
    "        'sentenced': 'freq',\n",
    "        'count': 'freq'}\n",
    "        )"
   ]
  },
  {
   "cell_type": "code",
   "execution_count": 129,
   "metadata": {},
   "outputs": [],
   "source": [
    "df_combined = pd.concat([df_2009, df])\n",
    "utils.remove_num_prefix(df_combined)"
   ]
  },
  {
   "cell_type": "code",
   "execution_count": 136,
   "metadata": {},
   "outputs": [
    {
     "data": {
      "text/plain": [
       "array(['07: Total Immediate custody', '03: Fine',\n",
       "       '09: Total Otherwise dealt with', '06: Suspended sentence',\n",
       "       '05: Total Community sentence', '01: Absolute discharge',\n",
       "       '02: Conditional discharge', '08: Compensation (primary disposal)'],\n",
       "      dtype=object)"
      ]
     },
     "execution_count": 136,
     "metadata": {},
     "output_type": "execute_result"
    }
   ],
   "source": [
    "df['outcome'].unique()"
   ]
  },
  {
   "cell_type": "code",
   "execution_count": 137,
   "metadata": {},
   "outputs": [
    {
     "data": {
      "text/plain": [
       "array(['13: Community sentence', '08: Committed for trial',\n",
       "       '15: Immediate custody', '16: Otherwise dealt with',\n",
       "       '02: Proceeding discontinued', '04: Withdrawn',\n",
       "       '11: Conditional discharge', '10: Absolute discharge',\n",
       "       '05: Dismissed', '07: Acquitted Crown Court',\n",
       "       '03: Discharged Sec 6', '12: Fine', '17: Compensation',\n",
       "       '06: Not tried Crown Court', '14: Suspended sentence',\n",
       "       '09: Committed for sentence'], dtype=object)"
      ]
     },
     "execution_count": 137,
     "metadata": {},
     "output_type": "execute_result"
    }
   ],
   "source": [
    "df_2009['outcome'].unique()"
   ]
  },
  {
   "cell_type": "code",
   "execution_count": 138,
   "metadata": {},
   "outputs": [],
   "source": [
    "regex = {\"Total\": \"\",\n",
    "         \"(Over)\": \"More than\",\n",
    "         \"( and including)\": \"\",\n",
    "         \"(to less than)\": \"and under\",\n",
    "         \"Life$\": \"Life sentence\"\n",
    "             }"
   ]
  },
  {
   "cell_type": "code",
   "execution_count": null,
   "metadata": {},
   "outputs": [],
   "source": [
    "#Stansardising outcomes of interest\n",
    "df_combined['outcome'] = df_combined['outcome'].str.replace(\"(Total Immediate custody)\",\"Immediate custody\", regex=True)\n",
    "df_combined['outcome'] = df_combined['outcome'].str.replace(\"(Total Community sentence)\",\"Community sentence\", regex=True)"
   ]
  }
 ],
 "metadata": {
  "kernelspec": {
   "display_name": "women-PFA-outcomes",
   "language": "python",
   "name": "python3"
  },
  "language_info": {
   "codemirror_mode": {
    "name": "ipython",
    "version": 3
   },
   "file_extension": ".py",
   "mimetype": "text/x-python",
   "name": "python",
   "nbconvert_exporter": "python",
   "pygments_lexer": "ipython3",
   "version": "3.9.6"
  },
  "orig_nbformat": 4
 },
 "nbformat": 4,
 "nbformat_minor": 2
}
