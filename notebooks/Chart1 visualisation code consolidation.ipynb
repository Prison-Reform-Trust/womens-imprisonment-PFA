{
 "cells": [
  {
   "cell_type": "markdown",
   "metadata": {},
   "source": [
    "# Chart 1: Code consolidation"
   ]
  },
  {
   "cell_type": "code",
   "execution_count": 1,
   "metadata": {},
   "outputs": [],
   "source": [
    "import pandas as pd\n",
    "import textwrap\n",
    "import plotly.graph_objs as go\n",
    "import plotly.io as pio\n",
    "from pathlib import Path #To create unique filenames for each PFA chart\n",
    "import itertools\n",
    "\n",
    "import src.data.utilities as utils\n",
    "import src.visualization.prt_theme as prt_theme\n",
    "\n",
    "config = utils.read_config()\n",
    "pio.templates.default = \"prt_template\""
   ]
  },
  {
   "cell_type": "code",
   "execution_count": 2,
   "metadata": {},
   "outputs": [],
   "source": [
    "def loadData(status='interim', filename='women_cust_sentence_length_PFA_2010-2022.csv') -> pd.DataFrame:\n",
    "    \"\"\"Load CSV file into Pandas DataFrame and convert object columns to categories when they meet criteria in `categoryColumns()`\n",
    "\n",
    "    Parameters\n",
    "    ----------\n",
    "    status : {'raw', 'interim', 'processed'}, default is 'interim'\n",
    "        Status of the data processing.\n",
    "        * If 'raw' file is located in \"rawFilePath\" within config file\n",
    "        * If 'interim', file is located in \"intFilePath\"\n",
    "        * If 'processed', file is located in \"clnFilePath\"\n",
    "    filename : str, default is 'PFA_2010-22_women_cust_comm_sus.csv'\n",
    "        Name of CSV file to be loaded.\n",
    "\n",
    "    Returns\n",
    "    -------\n",
    "    DataFrame\n",
    "        CSV data is returned as Pandas DataFrame with any eligible object columns converted into category columns to limit memory requirements\n",
    "    \"\"\"\n",
    "    paths = {\n",
    "        \"raw\": 'rawFilePath',\n",
    "        \"interim\": 'intFilePath',\n",
    "        \"processed\": 'clnFilePath'\n",
    "    }\n",
    "\n",
    "    dfPath=f\"{config['data'][paths[status]]}{filename}\"\n",
    "    df = pd.read_csv(dfPath)\n",
    "    print('Data loaded')\n",
    "    return utils.categoryColumns(df)"
   ]
  },
  {
   "cell_type": "code",
   "execution_count": 3,
   "metadata": {},
   "outputs": [
    {
     "name": "stdout",
     "output_type": "stream",
     "text": [
      "Data loaded\n"
     ]
    }
   ],
   "source": [
    "df = loadData()"
   ]
  },
  {
   "cell_type": "code",
   "execution_count": 4,
   "metadata": {},
   "outputs": [
    {
     "data": {
      "text/html": [
       "<div>\n",
       "<style scoped>\n",
       "    .dataframe tbody tr th:only-of-type {\n",
       "        vertical-align: middle;\n",
       "    }\n",
       "\n",
       "    .dataframe tbody tr th {\n",
       "        vertical-align: top;\n",
       "    }\n",
       "\n",
       "    .dataframe thead th {\n",
       "        text-align: right;\n",
       "    }\n",
       "</style>\n",
       "<table border=\"1\" class=\"dataframe\">\n",
       "  <thead>\n",
       "    <tr style=\"text-align: right;\">\n",
       "      <th></th>\n",
       "      <th>pfa</th>\n",
       "      <th>year</th>\n",
       "      <th>sentence_length</th>\n",
       "      <th>freq</th>\n",
       "    </tr>\n",
       "  </thead>\n",
       "  <tbody>\n",
       "    <tr>\n",
       "      <th>0</th>\n",
       "      <td>Avon and Somerset</td>\n",
       "      <td>2010</td>\n",
       "      <td>12 months or more</td>\n",
       "      <td>44</td>\n",
       "    </tr>\n",
       "    <tr>\n",
       "      <th>1</th>\n",
       "      <td>Avon and Somerset</td>\n",
       "      <td>2010</td>\n",
       "      <td>6 months to less than 12 months</td>\n",
       "      <td>16</td>\n",
       "    </tr>\n",
       "    <tr>\n",
       "      <th>2</th>\n",
       "      <td>Avon and Somerset</td>\n",
       "      <td>2010</td>\n",
       "      <td>Less than 6 months</td>\n",
       "      <td>113</td>\n",
       "    </tr>\n",
       "    <tr>\n",
       "      <th>3</th>\n",
       "      <td>Avon and Somerset</td>\n",
       "      <td>2011</td>\n",
       "      <td>12 months or more</td>\n",
       "      <td>43</td>\n",
       "    </tr>\n",
       "    <tr>\n",
       "      <th>4</th>\n",
       "      <td>Avon and Somerset</td>\n",
       "      <td>2011</td>\n",
       "      <td>6 months to less than 12 months</td>\n",
       "      <td>21</td>\n",
       "    </tr>\n",
       "    <tr>\n",
       "      <th>...</th>\n",
       "      <td>...</td>\n",
       "      <td>...</td>\n",
       "      <td>...</td>\n",
       "      <td>...</td>\n",
       "    </tr>\n",
       "    <tr>\n",
       "      <th>1633</th>\n",
       "      <td>Wiltshire</td>\n",
       "      <td>2021</td>\n",
       "      <td>6 months to less than 12 months</td>\n",
       "      <td>3</td>\n",
       "    </tr>\n",
       "    <tr>\n",
       "      <th>1634</th>\n",
       "      <td>Wiltshire</td>\n",
       "      <td>2021</td>\n",
       "      <td>Less than 6 months</td>\n",
       "      <td>15</td>\n",
       "    </tr>\n",
       "    <tr>\n",
       "      <th>1635</th>\n",
       "      <td>Wiltshire</td>\n",
       "      <td>2022</td>\n",
       "      <td>12 months or more</td>\n",
       "      <td>7</td>\n",
       "    </tr>\n",
       "    <tr>\n",
       "      <th>1636</th>\n",
       "      <td>Wiltshire</td>\n",
       "      <td>2022</td>\n",
       "      <td>6 months to less than 12 months</td>\n",
       "      <td>5</td>\n",
       "    </tr>\n",
       "    <tr>\n",
       "      <th>1637</th>\n",
       "      <td>Wiltshire</td>\n",
       "      <td>2022</td>\n",
       "      <td>Less than 6 months</td>\n",
       "      <td>18</td>\n",
       "    </tr>\n",
       "  </tbody>\n",
       "</table>\n",
       "<p>1638 rows × 4 columns</p>\n",
       "</div>"
      ],
      "text/plain": [
       "                    pfa  year                  sentence_length  freq\n",
       "0     Avon and Somerset  2010                12 months or more    44\n",
       "1     Avon and Somerset  2010  6 months to less than 12 months    16\n",
       "2     Avon and Somerset  2010               Less than 6 months   113\n",
       "3     Avon and Somerset  2011                12 months or more    43\n",
       "4     Avon and Somerset  2011  6 months to less than 12 months    21\n",
       "...                 ...   ...                              ...   ...\n",
       "1633          Wiltshire  2021  6 months to less than 12 months     3\n",
       "1634          Wiltshire  2021               Less than 6 months    15\n",
       "1635          Wiltshire  2022                12 months or more     7\n",
       "1636          Wiltshire  2022  6 months to less than 12 months     5\n",
       "1637          Wiltshire  2022               Less than 6 months    18\n",
       "\n",
       "[1638 rows x 4 columns]"
      ]
     },
     "execution_count": 4,
     "metadata": {},
     "output_type": "execute_result"
    }
   ],
   "source": [
    "my_df = df.copy()\n",
    "my_df"
   ]
  },
  {
   "cell_type": "code",
   "execution_count": 33,
   "metadata": {},
   "outputs": [],
   "source": [
    "def annotation_yvals():\n",
    "    y_list = [fig.data[i]['y'][-1] for i in range(len(fig.data))] #selecting last y value for each trace \n",
    "    return y_list"
   ]
  },
  {
   "cell_type": "code",
   "execution_count": 5,
   "metadata": {},
   "outputs": [],
   "source": [
    "def trace_max():\n",
    "    trace_max_list = [(fig.data[i]['y']).max() for i in range(len(fig.data))] #Selecting maximum value from each trace\n",
    "    return trace_max_list"
   ]
  },
  {
   "cell_type": "code",
   "execution_count": 6,
   "metadata": {},
   "outputs": [],
   "source": [
    "def check_duplicates(y_vals, trace_max):\n",
    "    duplicate_vals = [idx for idx, value in enumerate(y_vals) if y_vals.count(value) > 1]\n",
    "    if len(duplicate_vals) > 0:\n",
    "        print(f'Duplicates found: index {duplicate_vals}\\nUpdating...')\n",
    "        \n",
    "        max_i = 0\n",
    "        for idx in duplicate_vals:\n",
    "            if trace_max[idx] > max_i:\n",
    "                max_i = idx\n",
    "        y_vals[max_i] = y_vals[max_i] * 1.2\n",
    "        annotations[max_i]['y'] = y_vals[max_i]"
   ]
  },
  {
   "cell_type": "code",
   "execution_count": 7,
   "metadata": {},
   "outputs": [],
   "source": [
    "def check_overlap(l, space=None):\n",
    "    if space is None:\n",
    "        space = 0.7\n",
    "    return all(x1 / x2 >= space for x1,x2 in itertools.pairwise(sorted(l)))"
   ]
  },
  {
   "cell_type": "code",
   "execution_count": null,
   "metadata": {},
   "outputs": [],
   "source": []
  },
  {
   "cell_type": "code",
   "execution_count": 52,
   "metadata": {},
   "outputs": [],
   "source": [
    "##Refactoring\n",
    "def adjust_overlap(l, space=None):\n",
    "    if space is None:\n",
    "        space = 0.7\n",
    "\n",
    "    for (idx1,num1), (idx2,num2) in itertools.permutations(enumerate(l), 2):\n",
    "        ratio = l[idx1] / l[idx2]\n",
    "        if ratio > space:\n",
    "            largest = max((idx1,num1), (idx2,num2), key=lambda x:x[1])\n",
    "            largest_index = largest[0]\n",
    "            l[largest_index] = l[1] / space\n",
    "            # annotations[largest_index]['y'] = l[largest_index]\n",
    "    return l"
   ]
  },
  {
   "cell_type": "code",
   "execution_count": 53,
   "metadata": {},
   "outputs": [
    {
     "data": {
      "text/plain": [
       "[20, 55.10204081632654]"
      ]
     },
     "execution_count": 53,
     "metadata": {},
     "output_type": "execute_result"
    }
   ],
   "source": [
    "l = [20, 27]\n",
    "adjust_overlap(l)"
   ]
  },
  {
   "cell_type": "code",
   "execution_count": 11,
   "metadata": {},
   "outputs": [
    {
     "name": "stdout",
     "output_type": "stream",
     "text": [
      "0.7407407407407407\n",
      "1.35\n"
     ]
    }
   ],
   "source": [
    "l = [20, 27]\n",
    "print(l[0] / l[1])\n",
    "print(l[1] / l[0])"
   ]
  },
  {
   "cell_type": "code",
   "execution_count": 93,
   "metadata": {},
   "outputs": [
    {
     "data": {
      "text/plain": [
       "28.571428571428573"
      ]
     },
     "execution_count": 93,
     "metadata": {},
     "output_type": "execute_result"
    }
   ],
   "source": [
    "x = 20 / 0.7\n",
    "x"
   ]
  },
  {
   "cell_type": "code",
   "execution_count": 29,
   "metadata": {},
   "outputs": [
    {
     "name": "stdout",
     "output_type": "stream",
     "text": [
      "(1, 28.571428571428573)\n"
     ]
    }
   ],
   "source": [
    "for (idx1,num1), (idx2,num2) in itertools.permutations(enumerate(l), 2):\n",
    "    ratio = num1 / num2\n",
    "    if ratio > 0.7:\n",
    "        largest = max((idx1,num1), (idx2,num2), key=lambda x:x[1])\n",
    "        smallest = min((idx1,num1), (idx2,num2), key=lambda x:x[1])\n",
    "        largest_index = largest[0]\n",
    "        smallest_index = smallest[0]\n",
    "        l[largest_index] = l[smallest_index] / 0.7\n",
    "\n",
    "print(largest)"
   ]
  },
  {
   "cell_type": "code",
   "execution_count": 8,
   "metadata": {},
   "outputs": [],
   "source": [
    "##Refactoring\n",
    "def adjust_overlap(l, space=None):\n",
    "    if space is None:\n",
    "        space = 0.7\n",
    "\n",
    "    for (idx1,num1), (idx2,num2) in itertools.permutations(enumerate(l), 2):\n",
    "        ratio = num1 / num2\n",
    "        if ratio > space:\n",
    "            largest = max((idx1,num1), (idx2,num2), key=lambda x:x[1])\n",
    "            smallest = min((idx1,num1), (idx2,num2), key=lambda x:x[1])\n",
    "            largest_index = largest[0]\n",
    "            smallest_index = smallest[0]\n",
    "            l[largest_index] = l[smallest_index] / 0.7\n",
    "    return l"
   ]
  },
  {
   "cell_type": "code",
   "execution_count": 60,
   "metadata": {},
   "outputs": [
    {
     "data": {
      "text/plain": [
       "[20, 28.571428571428573]"
      ]
     },
     "execution_count": 60,
     "metadata": {},
     "output_type": "execute_result"
    }
   ],
   "source": [
    "l = [20, 27]\n",
    "adjust_overlap(l)\n",
    "l"
   ]
  },
  {
   "cell_type": "code",
   "execution_count": null,
   "metadata": {},
   "outputs": [],
   "source": []
  },
  {
   "cell_type": "code",
   "execution_count": 27,
   "metadata": {},
   "outputs": [
    {
     "data": {
      "text/plain": [
       "['12 months or more', '6 months to less than 12 months', 'Less than 6 months']\n",
       "Categories (3, object): ['12 months or more', '6 months to less than 12 months', 'Less than 6 months']"
      ]
     },
     "execution_count": 27,
     "metadata": {},
     "output_type": "execute_result"
    }
   ],
   "source": [
    "df['sentence_length'].unique()"
   ]
  },
  {
   "cell_type": "code",
   "execution_count": 69,
   "metadata": {},
   "outputs": [],
   "source": [
    "df['sentence_length'] = df['sentence_length'].replace(\"6 months to less than 12 months\", \"6 months—<br>less than 12 months\")"
   ]
  },
  {
   "cell_type": "code",
   "execution_count": 137,
   "metadata": {},
   "outputs": [],
   "source": [
    "for pfa in df['pfa'].unique():\n",
    "    pfa_df = df[df[\"pfa\"] == pfa]\n",
    "    trace_list = [] # Need to empty my trace_list with every loop through each PFA so that charts are plotted separately\n",
    "    fig = go.Figure() # Need to also instantiate the figure with every loop in order to clear fig.data values\n",
    "\n",
    "    for i in pfa_df[\"sentence_length\"].unique():  # Creating a for loop to extract unique values from the dataframe and make traces\n",
    "        pfa_df_sentence = pfa_df[pfa_df[\"sentence_length\"] == i]\n",
    "        \n",
    "        trace = go.Scatter(\n",
    "            x=pfa_df_sentence[\"year\"],\n",
    "            y=pfa_df_sentence[\"freq\"],\n",
    "            mode=\"lines\",\n",
    "            name=str(pfa_df_sentence[\"sentence_length\"].iloc[0]),\n",
    "            meta=pfa_df_sentence[\"pfa\"].iloc[0],   # Adding name of PFA in metadata to ensure data relates to only one area \n",
    "            hovertemplate=\"%{y}<extra></extra>\"\n",
    "        )\n",
    "\n",
    "        trace_list.append(trace)\n",
    "\n",
    "    fig.add_traces(trace_list)\n",
    "\n",
    "    ## Chart title\n",
    "    title = textwrap.wrap(f'<b>Use of immediate imprisonment for women in {pfa_df_sentence[\"pfa\"].iloc[0]} 2010–2022</b>', width=45)\n",
    "\n",
    "    fig.update_layout(\n",
    "        margin=dict(l=63, b=75, r=100),\n",
    "        title=\"<br>\".join(title),\n",
    "        yaxis_title=\"\",\n",
    "        yaxis_tickformat=\",.0f\",\n",
    "        yaxis_tick0=0,\n",
    "        xaxis_dtick=2,\n",
    "        xaxis_tick0=2010,\n",
    "        hovermode=\"x\",\n",
    "        width=655,\n",
    "        height=500,\n",
    "    )\n",
    "\n",
    "    ## Chart annotations\n",
    "    annotations = []\n",
    "\n",
    "    # Adding trace annotations\n",
    "    for j in range(0, len(trace_list)):\n",
    "        annotations.append(\n",
    "            dict(\n",
    "                xref=\"x\",\n",
    "                yref=\"y\",\n",
    "                x=fig.data[j].x[-1],\n",
    "                y=fig.data[j].y[-1],\n",
    "                text=str(fig.data[j].name),\n",
    "                xanchor=\"left\",\n",
    "                yanchor=\"bottom\",\n",
    "                align=\"left\",\n",
    "                showarrow=False,\n",
    "                font_color=fig.layout.template.layout.colorway[j],\n",
    "                font_size=10,\n",
    "            )\n",
    "        )\n",
    "\n",
    "    # # Adding source label\n",
    "    source = prt_theme.sourceAnnotation(\"Ministry of Justice, Criminal justice statistics\", annotations)\n",
    "\n",
    "    # Adding y-axis label\n",
    "    annotations.append(\n",
    "        dict(\n",
    "            xref=\"x\",\n",
    "            yref=\"paper\",\n",
    "            x=df['year'].iloc[0],\n",
    "            y=1.04,\n",
    "            align=\"left\",\n",
    "            xanchor=\"left\",\n",
    "            showarrow=False,\n",
    "            text=\"Women sentenced to custody\",\n",
    "            font_size=12,\n",
    "        )\n",
    "    )\n",
    "    \n",
    "    # Checking for overlapping annotations on trace labels\n",
    "    annotations[1]['y'] = 0    \n",
    "    \n",
    "    # Adding annotations to layout\n",
    "    fig.update_layout(annotations=annotations)\n",
    "\n",
    "    ## Setting chart axis ranges\n",
    "    max_y_val = 0\n",
    "    for i in range(len(fig.data)):\n",
    "        max_trace = (fig.data[i].y).max()\n",
    "        if max_trace > max_y_val:\n",
    "            max_y_val = max_trace\n",
    "\n",
    "    y_intervals = [52, 103, 204, 305, 405, 606, 1210]\n",
    "    y_max_idx = min(range(len(y_intervals)), key = lambda i: abs(y_intervals[i]-max_y_val))\n",
    "    if y_intervals[y_max_idx] <= max_y_val:\n",
    "        y_max = y_intervals[y_max_idx + 1]\n",
    "    else: \n",
    "        y_max = y_intervals[y_max_idx]\n",
    "\n",
    "    \n",
    "    fig.update_yaxes(range=[0, y_max])\n",
    "    fig.update_xaxes(range=[2009.7, 2022.3])\n",
    "\n",
    "    # fig.show()\n",
    "    # fig.show(config=config)\n",
    "\n",
    "    ## Exporting to static image\n",
    "\n",
    "    # Save results\n",
    "    \n",
    "    # export_path = f\"{config['data']['outPath']}\"\n",
    "    export_path = Path.joinpath(Path.cwd(), f\"{config['data']['outPath']}\", \"custody_sentence_lengths_2022\")\n",
    "    export_path.mkdir(parents=True, exist_ok=True) #generate if does not exist\n",
    "\n",
    "    # Setting filename variable and full path\n",
    "\n",
    "    filename = str(pfa_df_sentence[\"pfa\"].iloc[0])\n",
    "    export_eps_path = Path.joinpath(export_path, f'{filename}' + '.svg')\n",
    "\n",
    "    fig.write_image(export_eps_path)"
   ]
  },
  {
   "cell_type": "markdown",
   "metadata": {},
   "source": [
    "## Creating a chart class to allow for any adjustments needed (and then refactoring for final code)"
   ]
  },
  {
   "cell_type": "code",
   "execution_count": 135,
   "metadata": {},
   "outputs": [],
   "source": [
    "class SentenceLengthChart:\n",
    "    \n",
    "    def __init__(self, pfa, df=None, labelIDX=None, adjust=None):\n",
    "        if df is None:\n",
    "            df = df\n",
    "        \n",
    "        self.pfa = pfa\n",
    "        self.df = df\n",
    "        self.labelIDX = labelIDX\n",
    "        self.adjust = adjust\n",
    "        self.trace_list = [] # Need to empty my trace_list with every loop through each PFA so that charts are plotted separately\n",
    "        self.annotations = []\n",
    "        self.max_y_val = 0\n",
    "        self.pfa_df_sentence = None\n",
    "        self.fig = go.Figure() # Need to also instantiate the figure with every loop in order to clear fig.data values\n",
    "\n",
    "    def createTraces(self):\n",
    "        pfa_df = df[df[\"pfa\"] == self.pfa]\n",
    "\n",
    "        for i in pfa_df[\"sentence_length\"].unique():  # Creating a for loop to extract unique values from the dataframe and make traces\n",
    "            self.pfa_df_sentence = pfa_df[pfa_df[\"sentence_length\"] == i]\n",
    "            \n",
    "            trace = go.Scatter(\n",
    "                x=self.pfa_df_sentence[\"year\"],\n",
    "                y=self.pfa_df_sentence[\"freq\"],\n",
    "                mode=\"lines\",\n",
    "                name=str(self.pfa_df_sentence[\"sentence_length\"].iloc[0]),\n",
    "                meta=self.pfa_df_sentence[\"pfa\"].iloc[0],   # Adding name of PFA in metadata to ensure data relates to only one area \n",
    "                hovertemplate=\"%{y}<extra></extra>\"\n",
    "            )\n",
    "            self.trace_list.append(trace)\n",
    "\n",
    "        self.fig.add_traces(self.trace_list)\n",
    "\n",
    "    def chartParams(self):\n",
    "    ## Chart title\n",
    "\n",
    "        title = textwrap.wrap(f'<b>Use of immediate imprisonment for women in {self.pfa_df_sentence[\"pfa\"].iloc[0]} 2010–2022</b>', width=45)\n",
    "\n",
    "        self.fig.update_layout(\n",
    "            margin=dict(l=63, b=75, r=100),\n",
    "            title=\"<br>\".join(title),\n",
    "            yaxis_title=\"\",\n",
    "            yaxis_tickformat=\",.0f\",\n",
    "            yaxis_tick0=0,\n",
    "            xaxis_dtick=2,\n",
    "            xaxis_tick0=2010,\n",
    "            hovermode=\"x\",\n",
    "            width=655,\n",
    "            height=500,\n",
    "        )\n",
    "\n",
    "    ## Chart annotations\n",
    "    def chartAnnotations(self):\n",
    "\n",
    "        # Adding trace annotations\n",
    "        for j in range(0, len(self.trace_list)):\n",
    "            self.annotations.append(\n",
    "                dict(\n",
    "                    xref=\"x\",\n",
    "                    yref=\"y\",\n",
    "                    x=self.fig.data[j].x[-1],\n",
    "                    y=self.fig.data[j].y[-1],\n",
    "                    text=str(self.fig.data[j].name),\n",
    "                    xanchor=\"left\",\n",
    "                    yanchor=\"bottom\",\n",
    "                    align=\"left\",\n",
    "                    showarrow=False,\n",
    "                    font_color=self.fig.layout.template.layout.colorway[j],\n",
    "                    font_size=10,\n",
    "                )\n",
    "            )\n",
    "        # Adding source label\n",
    "        prt_theme.sourceAnnotation(\"Ministry of Justice, Criminal justice statistics\", self.annotations)\n",
    "\n",
    "        # Adding y-axis label\n",
    "        self.annotations.append(\n",
    "            dict(\n",
    "                xref=\"x\",\n",
    "                yref=\"paper\",\n",
    "                x=df['year'].iloc[0],\n",
    "                y=1.04,\n",
    "                align=\"left\",\n",
    "                xanchor=\"left\",\n",
    "                showarrow=False,\n",
    "                text=\"Women sentenced to custody\",\n",
    "                font_size=12,\n",
    "            )\n",
    "        )\n",
    "\n",
    "        if self.labelIDX is not None and self.adjust is not None:\n",
    "            self.annotations[self.labelIDX]['y'] = int(self.adjust)\n",
    "        \n",
    "        self.annotations[1]['y'] = 0\n",
    "            \n",
    "        # Adding annotations to layout\n",
    "        self.fig.update_layout(annotations=self.annotations)\n",
    "\n",
    "    def setYAxis(self):\n",
    "\n",
    "    ## Setting chart axis ranges\n",
    "    \n",
    "        for i in range(len(self.fig.data)):\n",
    "            max_trace = (self.fig.data[i].y).max()\n",
    "            if max_trace > max_y_val:\n",
    "                self.max_y_val = max_trace\n",
    "\n",
    "        y_intervals = [52, 103, 204, 305, 405, 606, 1210]\n",
    "        y_max_idx = min(range(len(y_intervals)), key = lambda i: abs(y_intervals[i]-self.max_y_val))\n",
    "        if y_intervals[y_max_idx] <= self.max_y_val:\n",
    "            y_max = y_intervals[y_max_idx + 1]\n",
    "        else: \n",
    "            y_max = y_intervals[y_max_idx]\n",
    "\n",
    "        \n",
    "        self.fig.update_yaxes(range=[0, y_max])\n",
    "        self.fig.update_xaxes(range=[2009.7, 2022.3])\n",
    "        \n",
    "    def saveChart(self, filetype='.eps'):\n",
    "        self.filetype = filetype\n",
    "\n",
    "        export_path = Path.joinpath(Path.cwd(), f\"{config['data']['outPath']}\", \"custody_sentence_lengths_2022\")\n",
    "        export_path.mkdir(parents=True, exist_ok=True) #generate if does not exist\n",
    "\n",
    "        # Setting filename variable and full path\n",
    "        filename = str(self.pfa_df_sentence[\"pfa\"].iloc[0])\n",
    "        export_eps_path = Path.joinpath(export_path, f'{filename}{self.filetype}')\n",
    "\n",
    "        self.fig.write_image(export_eps_path)\n",
    "\n",
    "\n",
    "    def outputChart(self):\n",
    "        self.createTraces()\n",
    "        self.chartParams()\n",
    "        self.chartAnnotations()\n",
    "        self.setYAxis()\n",
    "        self.fig.show()\n"
   ]
  },
  {
   "cell_type": "code",
   "execution_count": 136,
   "metadata": {},
   "outputs": [
    {
     "data": {
      "application/vnd.plotly.v1+json": {
       "config": {
        "plotlyServerURL": "https://plot.ly"
       },
       "data": [
        {
         "hovertemplate": "%{y}<extra></extra>",
         "meta": "Dorset",
         "mode": "lines",
         "name": "12 months or more",
         "type": "scatter",
         "x": [
          2010,
          2011,
          2012,
          2013,
          2014,
          2015,
          2016,
          2017,
          2018,
          2019,
          2020,
          2021,
          2022
         ],
         "y": [
          16,
          6,
          10,
          14,
          15,
          11,
          11,
          23,
          12,
          17,
          12,
          17,
          10
         ]
        },
        {
         "hovertemplate": "%{y}<extra></extra>",
         "meta": "Dorset",
         "mode": "lines",
         "name": "6 months—<br>less than 12 months",
         "type": "scatter",
         "x": [
          2010,
          2011,
          2012,
          2013,
          2014,
          2015,
          2016,
          2017,
          2018,
          2019,
          2020,
          2021,
          2022
         ],
         "y": [
          6,
          3,
          5,
          8,
          5,
          7,
          1,
          6,
          5,
          5,
          1,
          6,
          3
         ]
        },
        {
         "hovertemplate": "%{y}<extra></extra>",
         "meta": "Dorset",
         "mode": "lines",
         "name": "Less than 6 months",
         "type": "scatter",
         "x": [
          2010,
          2011,
          2012,
          2013,
          2014,
          2015,
          2016,
          2017,
          2018,
          2019,
          2020,
          2021,
          2022
         ],
         "y": [
          51,
          28,
          33,
          24,
          36,
          49,
          40,
          44,
          35,
          39,
          22,
          15,
          10
         ]
        }
       ],
       "layout": {
        "annotations": [
         {
          "align": "left",
          "font": {
           "color": "#A01D28",
           "size": 10
          },
          "showarrow": false,
          "text": "12 months or more",
          "x": 2022,
          "xanchor": "left",
          "xref": "x",
          "y": 10,
          "yanchor": "bottom",
          "yref": "y"
         },
         {
          "align": "left",
          "font": {
           "color": "#499CC9",
           "size": 10
          },
          "showarrow": false,
          "text": "6 months—<br>less than 12 months",
          "x": 2022,
          "xanchor": "left",
          "xref": "x",
          "y": 0,
          "yanchor": "bottom",
          "yref": "y"
         },
         {
          "align": "left",
          "font": {
           "color": "#F9A237",
           "size": 10
          },
          "showarrow": false,
          "text": "Less than 6 months",
          "x": 2022,
          "xanchor": "left",
          "xref": "x",
          "y": 15,
          "yanchor": "bottom",
          "yref": "y"
         },
         {
          "align": "left",
          "font": {
           "size": 12
          },
          "showarrow": false,
          "text": "Source: Ministry of Justice, Criminal justice statistics",
          "x": -0.08,
          "xref": "paper",
          "y": -0.19,
          "yref": "paper"
         },
         {
          "align": "left",
          "font": {
           "size": 12
          },
          "showarrow": false,
          "text": "Women sentenced to custody",
          "x": 2010,
          "xanchor": "left",
          "xref": "x",
          "y": 1.04,
          "yref": "paper"
         }
        ],
        "height": 500,
        "hovermode": "x",
        "margin": {
         "b": 75,
         "l": 63,
         "r": 100
        },
        "template": {
         "layout": {
          "colorway": [
           "#A01D28",
           "#499CC9",
           "#F9A237",
           "#6FBA3A",
           "#573D6B"
          ],
          "font": {
           "color": "#54565B",
           "family": "Helvetica Neue, Arial",
           "size": 12
          },
          "modebar": {
           "activecolor": "#A01D28"
          },
          "paper_bgcolor": "#F7F2F2",
          "plot_bgcolor": "#F7F2F2",
          "showlegend": false,
          "title": {
           "font": {
            "family": "Helvetica Neue, Arial",
            "size": 17
           },
           "y": 0.94,
           "yanchor": "bottom"
          },
          "xaxis": {
           "showgrid": false,
           "tickcolor": "#54565B"
          }
         }
        },
        "title": {
         "text": "<b>Use of immediate imprisonment for women in<br>Dorset 2010–2022</b>"
        },
        "width": 655,
        "xaxis": {
         "dtick": 2,
         "range": [
          2009.7,
          2022.3
         ],
         "tick0": 2010
        },
        "yaxis": {
         "range": [
          0,
          52
         ],
         "tick0": 0,
         "tickformat": ",.0f",
         "title": {
          "text": ""
         }
        }
       }
      }
     },
     "metadata": {},
     "output_type": "display_data"
    }
   ],
   "source": [
    "dorset = SentenceLengthChart(\"Dorset\", labelIDX=2, adjust=15)\n",
    "dorset.outputChart()\n",
    "dorset.saveChart(\".svg\")"
   ]
  },
  {
   "cell_type": "code",
   "execution_count": 167,
   "metadata": {},
   "outputs": [
    {
     "data": {
      "application/vnd.plotly.v1+json": {
       "config": {
        "plotlyServerURL": "https://plot.ly"
       },
       "data": [
        {
         "hovertemplate": "%{y}<extra></extra>",
         "meta": "West Mercia",
         "mode": "lines",
         "name": "12 months or more",
         "type": "scatter",
         "x": [
          2010,
          2011,
          2012,
          2013,
          2014,
          2015,
          2016,
          2017,
          2018,
          2019,
          2020,
          2021,
          2022
         ],
         "y": [
          43,
          34,
          29,
          26,
          32,
          24,
          25,
          27,
          26,
          28,
          26,
          14,
          19
         ]
        },
        {
         "hovertemplate": "%{y}<extra></extra>",
         "meta": "West Mercia",
         "mode": "lines",
         "name": "6 months—<br>less than 12 months",
         "type": "scatter",
         "x": [
          2010,
          2011,
          2012,
          2013,
          2014,
          2015,
          2016,
          2017,
          2018,
          2019,
          2020,
          2021,
          2022
         ],
         "y": [
          17,
          7,
          13,
          8,
          5,
          12,
          10,
          6,
          5,
          13,
          8,
          4,
          6
         ]
        },
        {
         "hovertemplate": "%{y}<extra></extra>",
         "meta": "West Mercia",
         "mode": "lines",
         "name": "Less than 6 months",
         "type": "scatter",
         "x": [
          2010,
          2011,
          2012,
          2013,
          2014,
          2015,
          2016,
          2017,
          2018,
          2019,
          2020,
          2021,
          2022
         ],
         "y": [
          86,
          74,
          68,
          69,
          78,
          66,
          77,
          90,
          76,
          72,
          64,
          44,
          22
         ]
        }
       ],
       "layout": {
        "annotations": [
         {
          "align": "left",
          "font": {
           "color": "#A01D28",
           "size": 10
          },
          "showarrow": false,
          "text": "12 months or more",
          "x": 2022,
          "xanchor": "left",
          "xref": "x",
          "y": 19,
          "yanchor": "bottom",
          "yref": "y"
         },
         {
          "align": "left",
          "font": {
           "color": "#499CC9",
           "size": 10
          },
          "showarrow": false,
          "text": "6 months—<br>less than 12 months",
          "x": 2022,
          "xanchor": "left",
          "xref": "x",
          "y": 0,
          "yanchor": "bottom",
          "yref": "y"
         },
         {
          "align": "left",
          "font": {
           "color": "#F9A237",
           "size": 10
          },
          "showarrow": false,
          "text": "Less than 6 months",
          "x": 2022,
          "xanchor": "left",
          "xref": "x",
          "y": 32,
          "yanchor": "bottom",
          "yref": "y"
         },
         {
          "align": "left",
          "font": {
           "size": 12
          },
          "showarrow": false,
          "text": "Source: Ministry of Justice, Criminal justice statistics",
          "x": -0.08,
          "xref": "paper",
          "y": -0.19,
          "yref": "paper"
         },
         {
          "align": "left",
          "font": {
           "size": 12
          },
          "showarrow": false,
          "text": "Women sentenced to custody",
          "x": 2010,
          "xanchor": "left",
          "xref": "x",
          "y": 1.04,
          "yref": "paper"
         }
        ],
        "height": 500,
        "hovermode": "x",
        "margin": {
         "b": 75,
         "l": 63,
         "r": 100
        },
        "template": {
         "layout": {
          "colorway": [
           "#A01D28",
           "#499CC9",
           "#F9A237",
           "#6FBA3A",
           "#573D6B"
          ],
          "font": {
           "color": "#54565B",
           "family": "Helvetica Neue, Arial",
           "size": 12
          },
          "modebar": {
           "activecolor": "#A01D28"
          },
          "paper_bgcolor": "#F7F2F2",
          "plot_bgcolor": "#F7F2F2",
          "showlegend": false,
          "title": {
           "font": {
            "family": "Helvetica Neue, Arial",
            "size": 17
           },
           "y": 0.94,
           "yanchor": "bottom"
          },
          "xaxis": {
           "showgrid": false,
           "tickcolor": "#54565B"
          }
         }
        },
        "title": {
         "text": "<b>Use of immediate imprisonment for women in<br>West Mercia 2010–2022</b>"
        },
        "width": 655,
        "xaxis": {
         "dtick": 2,
         "range": [
          2009.7,
          2022.3
         ],
         "tick0": 2010
        },
        "yaxis": {
         "range": [
          0,
          103
         ],
         "tick0": 0,
         "tickformat": ",.0f",
         "title": {
          "text": ""
         }
        }
       }
      }
     },
     "metadata": {},
     "output_type": "display_data"
    }
   ],
   "source": [
    "west_mercia = SentenceLengthChart(\"West Mercia\", labelIDX=2, adjust=32)\n",
    "west_mercia.outputChart()"
   ]
  },
  {
   "cell_type": "code",
   "execution_count": 168,
   "metadata": {},
   "outputs": [],
   "source": [
    "west_mercia.saveChart(\".svg\")"
   ]
  },
  {
   "cell_type": "code",
   "execution_count": 87,
   "metadata": {},
   "outputs": [
    {
     "data": {
      "text/plain": [
       "{'xref': 'x',\n",
       " 'yref': 'y',\n",
       " 'x': 2022,\n",
       " 'y': 25,\n",
       " 'text': '12 months or more',\n",
       " 'xanchor': 'left',\n",
       " 'yanchor': 'bottom',\n",
       " 'align': 'left',\n",
       " 'showarrow': False,\n",
       " 'font_color': '#A01D28',\n",
       " 'font_size': 10}"
      ]
     },
     "execution_count": 87,
     "metadata": {},
     "output_type": "execute_result"
    }
   ],
   "source": [
    "cumbria.annotations[0]"
   ]
  },
  {
   "cell_type": "code",
   "execution_count": 74,
   "metadata": {},
   "outputs": [
    {
     "name": "stdout",
     "output_type": "stream",
     "text": [
      "[7, 5, 18]\n"
     ]
    }
   ],
   "source": [
    "# Checking for overlapping annotations on trace labels\n",
    "y_vals = annotation_yvals()\n",
    "print(y_vals)"
   ]
  },
  {
   "cell_type": "code",
   "execution_count": 72,
   "metadata": {},
   "outputs": [
    {
     "name": "stdout",
     "output_type": "stream",
     "text": [
      "[7, 5, 18]\n",
      "[7.142857142857143, 5, 7.142857142857143]\n",
      "7\n",
      "5\n",
      "18\n"
     ]
    }
   ],
   "source": [
    "adjust_overlap(y_vals)\n",
    "print(y_vals)\n",
    "# Adding annotations to layout\n",
    "for i in range(3):\n",
    "    print(annotations[i]['y'])"
   ]
  },
  {
   "cell_type": "code",
   "execution_count": null,
   "metadata": {},
   "outputs": [],
   "source": [
    "max_trace = 0\n",
    "for i in range(len(fig.data)):\n",
    "    max_val = (fig.data[i].y).max()\n",
    "    if max_val > max_trace:\n",
    "        max_trace = max_val\n",
    "    print(max_val)\n",
    "max_trace"
   ]
  },
  {
   "cell_type": "code",
   "execution_count": null,
   "metadata": {},
   "outputs": [],
   "source": [
    "y_intervals = [55, 105, 205, 305, 405, 1210]\n",
    "y_max_idx = min(y_intervals, key = lambda x: abs(x-max_y_val))\n",
    "if y_intervals[y_max_idx] < max_y_val:\n",
    "    y_max = y_intervals[y_max_idx + 1]\n",
    "else: \n",
    "    y_max = y_intervals[y_max_idx]"
   ]
  }
 ],
 "metadata": {
  "kernelspec": {
   "display_name": "minimal_ds",
   "language": "python",
   "name": "python3"
  },
  "language_info": {
   "codemirror_mode": {
    "name": "ipython",
    "version": 3
   },
   "file_extension": ".py",
   "mimetype": "text/x-python",
   "name": "python",
   "nbconvert_exporter": "python",
   "pygments_lexer": "ipython3",
   "version": "3.11.0"
  },
  "orig_nbformat": 4
 },
 "nbformat": 4,
 "nbformat_minor": 2
}
