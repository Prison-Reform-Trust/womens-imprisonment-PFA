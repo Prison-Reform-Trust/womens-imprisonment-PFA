{
 "cells": [
  {
   "cell_type": "code",
   "execution_count": null,
   "metadata": {},
   "outputs": [],
   "source": [
    "import src.data.utilities as utils\n",
    "%load_ext autoreload\n",
    "%autoreload 2"
   ]
  },
  {
   "cell_type": "code",
   "execution_count": null,
   "metadata": {},
   "outputs": [],
   "source": [
    "import pandas as pd\n",
    "import numpy as np"
   ]
  },
  {
   "cell_type": "code",
   "execution_count": null,
   "metadata": {},
   "outputs": [],
   "source": [
    "cols = ['Police Force Area', 'Year', 'Sex', 'Age group', 'Offence group', 'Sentence Outcome', 'Custodial Sentence Length','Sentenced']\n",
    "df = pd.read_csv(\"/Users/alex/Downloads/obo_sent_pivot_2016_2022/obo_sent_pivot_2019_2022.csv\", encoding= 'unicode_escape', low_memory=True, usecols=cols)\n",
    "df.head()"
   ]
  },
  {
   "cell_type": "code",
   "execution_count": null,
   "metadata": {},
   "outputs": [],
   "source": [
    "utils.lcColumns(df)\n",
    "utils.renameColumns(df, columns={\n",
    "    'year_of_appearance': 'year',\n",
    "    'offence_group': 'offence',\n",
    "    'police_force_area': 'pfa',\n",
    "    'sentence_outcome': 'outcome',\n",
    "    'custodial_sentence_length': 'sentence_length',\n",
    "    'sentenced': 'freq',\n",
    "    'count': 'freq'}\n",
    "    )"
   ]
  },
  {
   "cell_type": "code",
   "execution_count": null,
   "metadata": {},
   "outputs": [],
   "source": [
    "df.head()"
   ]
  },
  {
   "cell_type": "code",
   "execution_count": null,
   "metadata": {},
   "outputs": [],
   "source": [
    "utils.tidy_elements(df)"
   ]
  },
  {
   "cell_type": "code",
   "execution_count": null,
   "metadata": {},
   "outputs": [],
   "source": [
    "df.head()"
   ]
  },
  {
   "cell_type": "code",
   "execution_count": null,
   "metadata": {},
   "outputs": [],
   "source": [
    "# Checking that sentence_length values have been tidied up\n",
    "df['sentence_length'].unique()"
   ]
  },
  {
   "cell_type": "code",
   "execution_count": null,
   "metadata": {},
   "outputs": [],
   "source": [
    "# Reordering columns\n",
    "column_order = ['year', 'pfa', 'sex', 'age_group', 'offence', 'outcome', 'sentence_length', 'freq']\n",
    "df = df.reindex(columns=column_order)\n",
    "\n",
    "# Setting categorical columns\n",
    "convert_dict = {'outcome': \"category\",\n",
    "                'sentence_length': \"category\"\n",
    "                }\n",
    "df = df.astype(convert_dict)"
   ]
  },
  {
   "cell_type": "code",
   "execution_count": null,
   "metadata": {},
   "outputs": [],
   "source": [
    "df.info()"
   ]
  },
  {
   "cell_type": "code",
   "execution_count": null,
   "metadata": {},
   "outputs": [],
   "source": [
    "## FILTERING DATASET\n",
    "filt1 = df['sex'] == 'Female'\n",
    "filt2 = df['outcome'].isin(['Immediate custody', 'Community sentence','Suspended sentence'])\n",
    "filt3 = df['age_group'].isin([\"Adults\", \"Young adults\"])\n",
    "filt4 = df['pfa'].isin([\"Special/miscellaneous and unknown police forces\", \"City of London\", \"Not known\"])\n",
    "filt = filt1 & filt2 & filt3 & ~filt4\n",
    "women_dataset = df[filt].sort_values(['year', 'pfa']).copy()"
   ]
  },
  {
   "cell_type": "code",
   "execution_count": null,
   "metadata": {},
   "outputs": [],
   "source": [
    "women_dataset.reset_index(drop=True, inplace=True)\n",
    "women_dataset.head()"
   ]
  },
  {
   "cell_type": "code",
   "execution_count": null,
   "metadata": {},
   "outputs": [],
   "source": [
    "len(women_dataset['pfa'].unique())"
   ]
  },
  {
   "cell_type": "code",
   "execution_count": null,
   "metadata": {},
   "outputs": [],
   "source": [
    "women_dataset_2019 = women_dataset.query('year==2019')"
   ]
  },
  {
   "attachments": {},
   "cell_type": "markdown",
   "metadata": {},
   "source": [
    "Importing previous dataset to ensure matching"
   ]
  },
  {
   "cell_type": "code",
   "execution_count": null,
   "metadata": {},
   "outputs": [],
   "source": [
    "df_orig = pd.read_csv('data/interim/PFA_2009-21_women_cust_comm_sus.csv')\n",
    "df_orig.head()"
   ]
  },
  {
   "cell_type": "code",
   "execution_count": null,
   "metadata": {},
   "outputs": [],
   "source": [
    "df_orig.query('year==2019').describe(include=['object', 'category'])"
   ]
  },
  {
   "cell_type": "code",
   "execution_count": null,
   "metadata": {},
   "outputs": [],
   "source": [
    "df_orig_2019 = df_orig.query('year==2019')"
   ]
  },
  {
   "cell_type": "code",
   "execution_count": null,
   "metadata": {},
   "outputs": [],
   "source": [
    "for column in women_dataset_2019.columns:\n",
    "    print(column, women_dataset_2019[column].unique())"
   ]
  },
  {
   "attachments": {},
   "cell_type": "markdown",
   "metadata": {},
   "source": [
    "The only `outcome` appears to be `Community sentence` so something has gone wrong with the filtering stage. Let's circle back"
   ]
  },
  {
   "cell_type": "code",
   "execution_count": null,
   "metadata": {},
   "outputs": [],
   "source": [
    "women_dataset_2019.info()"
   ]
  },
  {
   "cell_type": "code",
   "execution_count": null,
   "metadata": {},
   "outputs": [],
   "source": [
    "women_dataset_2019.describe(include=['object', 'category'])"
   ]
  },
  {
   "attachments": {},
   "cell_type": "markdown",
   "metadata": {},
   "source": [
    "Right, that seems to confirm it. Time to examine the filtering again."
   ]
  },
  {
   "cell_type": "code",
   "execution_count": null,
   "metadata": {},
   "outputs": [],
   "source": [
    "df['outcome'].unique()"
   ]
  },
  {
   "attachments": {},
   "cell_type": "markdown",
   "metadata": {},
   "source": [
    "As ever, it's silly string formatting that seems to have tripped up everything. Let's rectify by making this case agnostic."
   ]
  },
  {
   "cell_type": "code",
   "execution_count": null,
   "metadata": {},
   "outputs": [],
   "source": [
    "mylist=['Immediate custody', 'Community sentence','Suspended sentence']\n",
    "myset = set([s.lower() for s in mylist])\n",
    "myset"
   ]
  },
  {
   "cell_type": "code",
   "execution_count": null,
   "metadata": {},
   "outputs": [],
   "source": [
    "filt2 = df['outcome'].apply(lambda v: v.lower() in myset)\n",
    "df[filt2].describe(include=['object', 'category'])"
   ]
  },
  {
   "cell_type": "markdown",
   "metadata": {},
   "source": [
    "Re-filtering dataframe"
   ]
  },
  {
   "cell_type": "code",
   "execution_count": null,
   "metadata": {},
   "outputs": [],
   "source": [
    "## FILTERING DATASET\n",
    "sentences = ['Immediate custody', 'Community sentence','Suspended sentence']\n",
    "sentences_set = set([s.lower() for s in sentences])\n",
    "\n",
    "filt1 = df['sex'] == 'Female'\n",
    "filt2 = df['outcome'].apply(lambda v: v.lower() in sentences_set)\n",
    "filt3 = df['age_group'].isin([\"Adults\", \"Young adults\"])\n",
    "filt4 = df['pfa'].isin([\"Special/miscellaneous and unknown police forces\", \"City of London\", \"Not known\"])\n",
    "filt = filt1 & filt2 & filt3 & ~filt4\n",
    "women_dataset = df[filt].sort_values(['year', 'pfa']).copy()"
   ]
  },
  {
   "cell_type": "code",
   "execution_count": null,
   "metadata": {},
   "outputs": [],
   "source": [
    "women_dataset.describe(include=['object', 'category'])"
   ]
  },
  {
   "cell_type": "markdown",
   "metadata": {},
   "source": [
    "Great, we have three unique values in the `outcome` column. Let's filter for 2019 and check further"
   ]
  },
  {
   "cell_type": "code",
   "execution_count": null,
   "metadata": {},
   "outputs": [],
   "source": [
    "women_dataset_2019 = women_dataset.query('year==2019')"
   ]
  },
  {
   "cell_type": "code",
   "execution_count": null,
   "metadata": {},
   "outputs": [],
   "source": [
    "women_dataset_2019.info()"
   ]
  },
  {
   "cell_type": "code",
   "execution_count": null,
   "metadata": {},
   "outputs": [],
   "source": [
    "women_dataset_2019['freq'].sum()"
   ]
  },
  {
   "cell_type": "code",
   "execution_count": null,
   "metadata": {},
   "outputs": [],
   "source": [
    "df_orig_2019['freq'].sum()"
   ]
  },
  {
   "cell_type": "markdown",
   "metadata": {},
   "source": [
    "Right, the sum of `freq` is the same for both dataframes. Let's now check against all the years within `women_dataset` and `df_orig`"
   ]
  },
  {
   "cell_type": "code",
   "execution_count": null,
   "metadata": {},
   "outputs": [],
   "source": [
    "df_orig['year'].unique()"
   ]
  },
  {
   "cell_type": "code",
   "execution_count": null,
   "metadata": {},
   "outputs": [],
   "source": [
    "women_dataset['year'].unique()"
   ]
  },
  {
   "cell_type": "code",
   "execution_count": null,
   "metadata": {},
   "outputs": [],
   "source": [
    "for year in women_dataset['year'].unique():\n",
    "    print(year, women_dataset.query(f'year=={year}')['freq'].sum())"
   ]
  },
  {
   "cell_type": "code",
   "execution_count": null,
   "metadata": {},
   "outputs": [],
   "source": [
    "for year in women_dataset['year'].unique():\n",
    "    sentenced_sum = df_orig.query(f'year=={year}')['freq'].sum()\n",
    "    if sentenced_sum > 0:\n",
    "        print(year, sentenced_sum)"
   ]
  },
  {
   "cell_type": "markdown",
   "metadata": {},
   "source": [
    "## Excellent, think we're there. Time to bring this all together."
   ]
  },
  {
   "cell_type": "code",
   "execution_count": null,
   "metadata": {},
   "outputs": [],
   "source": [
    "import src.data.utilities as utils\n",
    "%load_ext autoreload\n",
    "%autoreload 2\n",
    "import pandas as pd\n",
    "import numpy as np"
   ]
  },
  {
   "cell_type": "code",
   "execution_count": null,
   "metadata": {},
   "outputs": [],
   "source": [
    "cols = ['Police Force Area', 'Year', 'Sex', 'Age group', 'Offence group', 'Sentence Outcome', 'Custodial Sentence Length','Sentenced']\n",
    "df = pd.read_csv(\"/Users/alex/Downloads/obo_sent_pivot_2016_2022/obo_sent_pivot_2019_2022.csv\", encoding= 'unicode_escape', low_memory=True, usecols=cols)"
   ]
  },
  {
   "cell_type": "code",
   "execution_count": null,
   "metadata": {},
   "outputs": [],
   "source": [
    "utils.lcColumns(df)\n",
    "utils.renameColumns(df, columns={\n",
    "    'year_of_appearance': 'year',\n",
    "    'offence_group': 'offence',\n",
    "    'police_force_area': 'pfa',\n",
    "    'sentence_outcome': 'outcome',\n",
    "    'custodial_sentence_length': 'sentence_length',\n",
    "    'sentenced': 'freq',\n",
    "    'count': 'freq'}\n",
    "    )\n",
    "utils.tidy_elements(df)\n",
    "\n",
    "# Reordering columns\n",
    "column_order = ['year', 'pfa', 'sex', 'age_group', 'offence', 'outcome', 'sentence_length', 'freq']\n",
    "df = df.reindex(columns=column_order)\n",
    "\n",
    "# Setting categorical columns\n",
    "convert_dict = {'outcome': \"category\",\n",
    "                'sentence_length': \"category\"\n",
    "                }\n",
    "df = df.astype(convert_dict)"
   ]
  },
  {
   "cell_type": "code",
   "execution_count": null,
   "metadata": {},
   "outputs": [],
   "source": [
    "## FILTERING DATASET\n",
    "sentences = ['Immediate custody', 'Community sentence','Suspended sentence']\n",
    "sentences_set = set([s.lower() for s in sentences])\n",
    "\n",
    "filt1 = df['sex'] == 'Female'\n",
    "filt2 = df['outcome'].apply(lambda v: v.lower() in sentences_set)\n",
    "filt3 = df['age_group'].isin([\"Adults\", \"Young adults\"])\n",
    "filt4 = df['pfa'].isin([\"Special/miscellaneous and unknown police forces\", \"City of London\", \"Not known\"])\n",
    "filt = filt1 & filt2 & filt3 & ~filt4\n",
    "women_dataset = df[filt].sort_values(['year', 'pfa']).copy()"
   ]
  },
  {
   "cell_type": "code",
   "execution_count": null,
   "metadata": {},
   "outputs": [],
   "source": [
    "women_dataset.head()"
   ]
  },
  {
   "cell_type": "code",
   "execution_count": null,
   "metadata": {},
   "outputs": [],
   "source": [
    "women_dataset['year'].unique()"
   ]
  },
  {
   "cell_type": "code",
   "execution_count": null,
   "metadata": {},
   "outputs": [],
   "source": [
    "women_dataset.query('year==2019')['freq'].sum()"
   ]
  },
  {
   "cell_type": "markdown",
   "metadata": {},
   "source": [
    "Right, that looks to have behaved. Let's now attempt to run the full `data_cleansing.py` code below, with those filtering adaptations made."
   ]
  },
  {
   "cell_type": "code",
   "execution_count": 1,
   "metadata": {},
   "outputs": [],
   "source": [
    "import src.data.utilities as utils\n",
    "%load_ext autoreload\n",
    "%autoreload 2\n",
    "\n",
    "import pandas as pd\n",
    "import glob"
   ]
  },
  {
   "cell_type": "markdown",
   "metadata": {},
   "source": [
    "Building a simple list to read in multiple csv files"
   ]
  },
  {
   "cell_type": "code",
   "execution_count": 2,
   "metadata": {},
   "outputs": [
    {
     "data": {
      "text/plain": [
       "['data/external/obo_sent_pivot_2016_2022/obo_sent_pivot_2019_2022.csv',\n",
       " 'data/external/obo_sent_pivot_2016_2022/obo_sent_pivot_2016_2018.csv']"
      ]
     },
     "execution_count": 2,
     "metadata": {},
     "output_type": "execute_result"
    }
   ],
   "source": [
    "path=\"data/external/obo_sent_pivot_2016_2022/\"\n",
    "all_files = glob.glob(path + \"*.csv\")\n",
    "all_files"
   ]
  },
  {
   "cell_type": "code",
   "execution_count": 3,
   "metadata": {},
   "outputs": [],
   "source": [
    "cols = ['Police Force Area', 'Year', 'Sex', 'Age group', 'Offence group', 'Sentence Outcome', 'Custodial Sentence Length','Sentenced']\n",
    "all_csvs = [utils.loadData(filename, cols=cols) for filename in all_files]\n",
    "df = pd.concat(all_csvs, axis=0, ignore_index=True)"
   ]
  },
  {
   "cell_type": "markdown",
   "metadata": {},
   "source": [
    "Checking that the concat has pulled through all of the dates"
   ]
  },
  {
   "cell_type": "code",
   "execution_count": 4,
   "metadata": {},
   "outputs": [
    {
     "data": {
      "text/plain": [
       "array([2019, 2020, 2021, 2022, 2016, 2017, 2018])"
      ]
     },
     "execution_count": 4,
     "metadata": {},
     "output_type": "execute_result"
    }
   ],
   "source": [
    "df['Year'].unique()"
   ]
  },
  {
   "cell_type": "markdown",
   "metadata": {},
   "source": [
    "Importing other csv and working through the `data_cleansing.py` stages"
   ]
  },
  {
   "cell_type": "code",
   "execution_count": 5,
   "metadata": {},
   "outputs": [],
   "source": [
    "# 2. Court outcomes by police force area 2009–2019 (from: https://assets.publishing.service.gov.uk/government/uploads/system/uploads/attachment_data/file/888561/csvs-behind-data-tools-2-2019.zip)\n",
    "cols_2009 =['Police Force Area', 'Year of Appearance', 'Sex', 'Age Group', 'Offence Group', 'Outcome', 'Custodial Sentence Length','Count'] \n",
    "df_2009 = utils.loadData('../womens-pfa-analysis/data/external/court-outcomes-by-PFA-2019.csv', cols=cols_2009)"
   ]
  },
  {
   "cell_type": "code",
   "execution_count": 6,
   "metadata": {},
   "outputs": [
    {
     "data": {
      "text/plain": [
       "array([2009, 2010, 2011, 2012, 2013, 2014, 2015, 2016, 2017, 2018, 2019])"
      ]
     },
     "execution_count": 6,
     "metadata": {},
     "output_type": "execute_result"
    }
   ],
   "source": [
    "df_2009['Year of Appearance'].unique()"
   ]
  },
  {
   "cell_type": "code",
   "execution_count": 7,
   "metadata": {},
   "outputs": [
    {
     "data": {
      "text/plain": [
       "array([2009, 2010, 2011, 2012, 2013, 2014, 2015])"
      ]
     },
     "execution_count": 7,
     "metadata": {},
     "output_type": "execute_result"
    }
   ],
   "source": [
    "filt = df_2009['Year of Appearance'] < 2016\n",
    "df_2009 = df_2009[filt].copy()\n",
    "df_2009['Year of Appearance'].unique()"
   ]
  },
  {
   "cell_type": "code",
   "execution_count": 8,
   "metadata": {},
   "outputs": [],
   "source": [
    "df_list = utils.dataframeList(locals())"
   ]
  },
  {
   "cell_type": "code",
   "execution_count": 9,
   "metadata": {},
   "outputs": [],
   "source": [
    "# Renaming columns\n",
    "for data in df_list:\n",
    "    utils.lcColumns(data)\n",
    "    utils.renameColumns(data, columns={\n",
    "        'year_of_appearance': 'year',\n",
    "        'offence_group': 'offence',\n",
    "        'police_force_area': 'pfa',\n",
    "        'sentence_outcome': 'outcome',\n",
    "        'custodial_sentence_length': 'sentence_length',\n",
    "        'sentenced': 'freq',\n",
    "        'count': 'freq'}\n",
    "        )\n",
    "\n",
    "# Joining and tidying elements into one DataFrame\n",
    "df_combined = pd.concat(df_list)\n",
    "utils.tidy_elements(df_combined)\n",
    "\n",
    "# Reordering columns\n",
    "column_order = ['year', 'pfa', 'sex', 'age_group', 'offence', 'outcome', 'sentence_length', 'freq']\n",
    "df_combined = df_combined.reindex(columns=column_order)"
   ]
  },
  {
   "cell_type": "code",
   "execution_count": 10,
   "metadata": {},
   "outputs": [
    {
     "data": {
      "text/html": [
       "<div>\n",
       "<style scoped>\n",
       "    .dataframe tbody tr th:only-of-type {\n",
       "        vertical-align: middle;\n",
       "    }\n",
       "\n",
       "    .dataframe tbody tr th {\n",
       "        vertical-align: top;\n",
       "    }\n",
       "\n",
       "    .dataframe thead th {\n",
       "        text-align: right;\n",
       "    }\n",
       "</style>\n",
       "<table border=\"1\" class=\"dataframe\">\n",
       "  <thead>\n",
       "    <tr style=\"text-align: right;\">\n",
       "      <th></th>\n",
       "      <th>year</th>\n",
       "      <th>pfa</th>\n",
       "      <th>sex</th>\n",
       "      <th>age_group</th>\n",
       "      <th>offence</th>\n",
       "      <th>outcome</th>\n",
       "      <th>sentence_length</th>\n",
       "      <th>freq</th>\n",
       "    </tr>\n",
       "  </thead>\n",
       "  <tbody>\n",
       "    <tr>\n",
       "      <th>0</th>\n",
       "      <td>2019</td>\n",
       "      <td>West Yorkshire</td>\n",
       "      <td>Female</td>\n",
       "      <td>Children</td>\n",
       "      <td>Violence against the person</td>\n",
       "      <td>Community sentence</td>\n",
       "      <td>24:Not known</td>\n",
       "      <td>1</td>\n",
       "    </tr>\n",
       "    <tr>\n",
       "      <th>1</th>\n",
       "      <td>2019</td>\n",
       "      <td>Metropolitan Police</td>\n",
       "      <td>Female</td>\n",
       "      <td>Children</td>\n",
       "      <td>Robbery</td>\n",
       "      <td>Immediate Custody</td>\n",
       "      <td>More than 3 months and up to 6 months</td>\n",
       "      <td>2</td>\n",
       "    </tr>\n",
       "    <tr>\n",
       "      <th>2</th>\n",
       "      <td>2019</td>\n",
       "      <td>Gloucestershire</td>\n",
       "      <td>Female</td>\n",
       "      <td>Children</td>\n",
       "      <td>Violence against the person</td>\n",
       "      <td>Community sentence</td>\n",
       "      <td>24:Not known</td>\n",
       "      <td>1</td>\n",
       "    </tr>\n",
       "    <tr>\n",
       "      <th>3</th>\n",
       "      <td>2019</td>\n",
       "      <td>Derbyshire</td>\n",
       "      <td>Female</td>\n",
       "      <td>Children</td>\n",
       "      <td>Theft offences</td>\n",
       "      <td>Community sentence</td>\n",
       "      <td>24:Not known</td>\n",
       "      <td>1</td>\n",
       "    </tr>\n",
       "    <tr>\n",
       "      <th>4</th>\n",
       "      <td>2019</td>\n",
       "      <td>Greater Manchester</td>\n",
       "      <td>Female</td>\n",
       "      <td>Children</td>\n",
       "      <td>Miscellaneous crimes against society</td>\n",
       "      <td>Community sentence</td>\n",
       "      <td>24:Not known</td>\n",
       "      <td>1</td>\n",
       "    </tr>\n",
       "    <tr>\n",
       "      <th>...</th>\n",
       "      <td>...</td>\n",
       "      <td>...</td>\n",
       "      <td>...</td>\n",
       "      <td>...</td>\n",
       "      <td>...</td>\n",
       "      <td>...</td>\n",
       "      <td>...</td>\n",
       "      <td>...</td>\n",
       "    </tr>\n",
       "    <tr>\n",
       "      <th>4085619</th>\n",
       "      <td>2015</td>\n",
       "      <td>Wiltshire</td>\n",
       "      <td>Companies, public bodies etc.</td>\n",
       "      <td>Companies, public bodies etc.</td>\n",
       "      <td>Summary motoring</td>\n",
       "      <td>Fine</td>\n",
       "      <td>NaN</td>\n",
       "      <td>1</td>\n",
       "    </tr>\n",
       "    <tr>\n",
       "      <th>4085620</th>\n",
       "      <td>2015</td>\n",
       "      <td>Wiltshire</td>\n",
       "      <td>Companies, public bodies etc.</td>\n",
       "      <td>Companies, public bodies etc.</td>\n",
       "      <td>Summary motoring</td>\n",
       "      <td>Withdrawn</td>\n",
       "      <td>NaN</td>\n",
       "      <td>1</td>\n",
       "    </tr>\n",
       "    <tr>\n",
       "      <th>4085621</th>\n",
       "      <td>2015</td>\n",
       "      <td>Wiltshire</td>\n",
       "      <td>Companies, public bodies etc.</td>\n",
       "      <td>Companies, public bodies etc.</td>\n",
       "      <td>Summary non-motoring</td>\n",
       "      <td>Fine</td>\n",
       "      <td>NaN</td>\n",
       "      <td>3</td>\n",
       "    </tr>\n",
       "    <tr>\n",
       "      <th>4085622</th>\n",
       "      <td>2015</td>\n",
       "      <td>Wiltshire</td>\n",
       "      <td>Companies, public bodies etc.</td>\n",
       "      <td>Companies, public bodies etc.</td>\n",
       "      <td>Miscellaneous crimes against society</td>\n",
       "      <td>Fine</td>\n",
       "      <td>NaN</td>\n",
       "      <td>1</td>\n",
       "    </tr>\n",
       "    <tr>\n",
       "      <th>4085623</th>\n",
       "      <td>2015</td>\n",
       "      <td>Wiltshire</td>\n",
       "      <td>Companies, public bodies etc.</td>\n",
       "      <td>Companies, public bodies etc.</td>\n",
       "      <td>Miscellaneous crimes against society</td>\n",
       "      <td>Committed for trial</td>\n",
       "      <td>NaN</td>\n",
       "      <td>1</td>\n",
       "    </tr>\n",
       "  </tbody>\n",
       "</table>\n",
       "<p>5210327 rows × 8 columns</p>\n",
       "</div>"
      ],
      "text/plain": [
       "         year                  pfa                            sex  \\\n",
       "0        2019       West Yorkshire                         Female   \n",
       "1        2019  Metropolitan Police                         Female   \n",
       "2        2019      Gloucestershire                         Female   \n",
       "3        2019           Derbyshire                         Female   \n",
       "4        2019   Greater Manchester                         Female   \n",
       "...       ...                  ...                            ...   \n",
       "4085619  2015            Wiltshire  Companies, public bodies etc.   \n",
       "4085620  2015            Wiltshire  Companies, public bodies etc.   \n",
       "4085621  2015            Wiltshire  Companies, public bodies etc.   \n",
       "4085622  2015            Wiltshire  Companies, public bodies etc.   \n",
       "4085623  2015            Wiltshire  Companies, public bodies etc.   \n",
       "\n",
       "                             age_group                               offence  \\\n",
       "0                             Children           Violence against the person   \n",
       "1                             Children                               Robbery   \n",
       "2                             Children           Violence against the person   \n",
       "3                             Children                        Theft offences   \n",
       "4                             Children  Miscellaneous crimes against society   \n",
       "...                                ...                                   ...   \n",
       "4085619  Companies, public bodies etc.                      Summary motoring   \n",
       "4085620  Companies, public bodies etc.                      Summary motoring   \n",
       "4085621  Companies, public bodies etc.                  Summary non-motoring   \n",
       "4085622  Companies, public bodies etc.  Miscellaneous crimes against society   \n",
       "4085623  Companies, public bodies etc.  Miscellaneous crimes against society   \n",
       "\n",
       "                     outcome                        sentence_length  freq  \n",
       "0         Community sentence                           24:Not known     1  \n",
       "1          Immediate Custody  More than 3 months and up to 6 months     2  \n",
       "2         Community sentence                           24:Not known     1  \n",
       "3         Community sentence                           24:Not known     1  \n",
       "4         Community sentence                           24:Not known     1  \n",
       "...                      ...                                    ...   ...  \n",
       "4085619                 Fine                                    NaN     1  \n",
       "4085620            Withdrawn                                    NaN     1  \n",
       "4085621                 Fine                                    NaN     3  \n",
       "4085622                 Fine                                    NaN     1  \n",
       "4085623  Committed for trial                                    NaN     1  \n",
       "\n",
       "[5210327 rows x 8 columns]"
      ]
     },
     "execution_count": 10,
     "metadata": {},
     "output_type": "execute_result"
    }
   ],
   "source": [
    "df_combined"
   ]
  },
  {
   "cell_type": "code",
   "execution_count": 11,
   "metadata": {},
   "outputs": [],
   "source": [
    "convert_dict = {'outcome': \"category\",\n",
    "                'sentence_length': \"category\"\n",
    "                }\n",
    "df_combined = df_combined.astype(convert_dict)"
   ]
  },
  {
   "cell_type": "markdown",
   "metadata": {},
   "source": [
    "Capitalising the outcomes for consistency before filtering"
   ]
  },
  {
   "cell_type": "code",
   "execution_count": 36,
   "metadata": {},
   "outputs": [
    {
     "data": {
      "text/plain": [
       "array(['Community sentence', 'Immediate custody', 'Otherwise dealt with',\n",
       "       'Conditional discharge', 'Absolute discharge', 'Fine',\n",
       "       'Compensation (primary disposal)', 'Suspended sentence',\n",
       "       'Committed for trial', 'Proceeding discontinued', 'Withdrawn',\n",
       "       'Dismissed', 'Acquitted crown court', 'Discharged sec 6',\n",
       "       'Compensation', 'Not tried crown court', 'Committed for sentence'],\n",
       "      dtype=object)"
      ]
     },
     "execution_count": 36,
     "metadata": {},
     "output_type": "execute_result"
    }
   ],
   "source": [
    "df_combined['outcome'] = df_combined['outcome'].str.capitalize()\n",
    "df_combined['outcome'].unique()"
   ]
  },
  {
   "cell_type": "code",
   "execution_count": 37,
   "metadata": {},
   "outputs": [],
   "source": [
    "df_combined['outcome'] = df_combined['outcome'].str.capitalize()\n",
    "\n",
    "## FILTERING DATASET\n",
    "filt1 = df_combined['sex'] == 'Female'\n",
    "filt2 = df_combined['outcome'].isin(['Immediate custody', 'Community sentence','Suspended sentence'])\n",
    "filt3 = df_combined['age_group'].isin([\"Adults\", \"Young adults\"])\n",
    "filt4 = df_combined['pfa'].isin([\"Special/miscellaneous and unknown police forces\", \"City of London\", \"Not known\"])\n",
    "filt = filt1 & filt2 & filt3 & ~filt4\n",
    "women_dataset = df_combined[filt].sort_values(['year', 'pfa']).copy()"
   ]
  },
  {
   "cell_type": "code",
   "execution_count": 39,
   "metadata": {},
   "outputs": [
    {
     "data": {
      "text/plain": [
       "array(['Community sentence', 'Suspended sentence', 'Immediate custody'],\n",
       "      dtype=object)"
      ]
     },
     "execution_count": 39,
     "metadata": {},
     "output_type": "execute_result"
    }
   ],
   "source": [
    "women_dataset['outcome'].unique()"
   ]
  },
  {
   "cell_type": "code",
   "execution_count": 41,
   "metadata": {},
   "outputs": [
    {
     "data": {
      "text/plain": [
       "19182"
      ]
     },
     "execution_count": 41,
     "metadata": {},
     "output_type": "execute_result"
    }
   ],
   "source": [
    "women_dataset.query('year==2022')['freq'].sum()"
   ]
  },
  {
   "cell_type": "code",
   "execution_count": 42,
   "metadata": {},
   "outputs": [
    {
     "name": "stdout",
     "output_type": "stream",
     "text": [
      "2009 36925\n",
      "2010 37966\n",
      "2011 37783\n",
      "2012 33929\n",
      "2013 31282\n",
      "2014 31124\n",
      "2015 32163\n",
      "2016 29795\n",
      "2017 28206\n",
      "2018 25698\n",
      "2019 24352\n",
      "2020 17377\n",
      "2021 20275\n",
      "2022 19182\n"
     ]
    }
   ],
   "source": [
    "for year in women_dataset['year'].unique():\n",
    "    sentenced_sum = women_dataset.query(f'year=={year}')['freq'].sum()\n",
    "    if sentenced_sum > 0:\n",
    "        print(year, sentenced_sum)"
   ]
  },
  {
   "cell_type": "markdown",
   "metadata": {},
   "source": [
    "Running this again, but using the 2010–2015 data also provided in the same publication, rather than the older 2009–2019 data. I've also renamed the folder to reference that the data goes back to 2010 now—so earlier code will throw and error.\n",
    "\n",
    "This means I can lose quite a bit of the stages (commented out below)"
   ]
  },
  {
   "cell_type": "code",
   "execution_count": 43,
   "metadata": {},
   "outputs": [],
   "source": [
    "## Collecting file paths with glob\n",
    "\n",
    "path=\"data/external/obo_sent_pivot_2010_2022/\"\n",
    "all_files = glob.glob(path + \"*.csv\")\n",
    "\n",
    "\n",
    "## IMPORTING DATASETS ##\n",
    "# 1. Sentencing data 2010–22 \n",
    "# (from: https://assets.publishing.service.gov.uk/government/uploads/system/uploads/attachment_data/file/1157979/obo_sent_pivot_2010_2015.zip and \n",
    "# https://assets.publishing.service.gov.uk/government/uploads/system/uploads/attachment_data/file/1157991/obo_sent_pivot_2016_2022.zip)\n",
    "\n",
    "cols = ['Police Force Area', 'Year', 'Sex', 'Age group', 'Offence group', 'Sentence Outcome', 'Custodial Sentence Length','Sentenced']\n",
    "all_csvs = [utils.loadData(filename, cols=cols) for filename in all_files]\n",
    "df = pd.concat(all_csvs, axis=0, ignore_index=True)\n",
    "\n",
    "# # 2. Court outcomes by police force area 2009–2019 (from: https://assets.publishing.service.gov.uk/government/uploads/system/uploads/attachment_data/file/888561/csvs-behind-data-tools-2-2019.zip)\n",
    "# cols_2009 =['Police Force Area', 'Year of Appearance', 'Sex', 'Age Group', 'Offence Group', 'Outcome', 'Custodial Sentence Length','Count'] \n",
    "# df_2009 = utils.loadData('../womens-pfa-analysis/data/external/court-outcomes-by-PFA-2019.csv', cols=cols_2009)\n",
    "\n",
    "# #Dropping duplicate data from 2009 dataset that also appears in df\n",
    "# filt = df_2009['Year of Appearance'] < 2016\n",
    "# df_2009 = df_2009[filt].copy()\n",
    "\n",
    "# Defining datasets to iterate through in following section\n",
    "# df_list = utils.dataframeList(locals()) #Using locals() function to retrieve local symbol table. Note this outputs a complex list, and is no longer a DataFrame.\n",
    "\n",
    "## DATA CLEANING PROCESS\n",
    "\n",
    "# Renaming columns\n",
    "utils.lcColumns(df)\n",
    "utils.renameColumns(df, columns={\n",
    "    'year_of_appearance': 'year',\n",
    "    'offence_group': 'offence',\n",
    "    'police_force_area': 'pfa',\n",
    "    'sentence_outcome': 'outcome',\n",
    "    'custodial_sentence_length': 'sentence_length',\n",
    "    'sentenced': 'freq',\n",
    "    'count': 'freq'}\n",
    "    )\n",
    "\n",
    "# Tidying elements into one DataFrame\n",
    "utils.tidy_elements(df)\n",
    "\n",
    "# Reordering columns\n",
    "column_order = ['year', 'pfa', 'sex', 'age_group', 'offence', 'outcome', 'sentence_length', 'freq']\n",
    "df = df.reindex(columns=column_order)\n",
    "\n",
    "# Setting categorical columns\n",
    "convert_dict = {'outcome': \"category\",\n",
    "                'sentence_length': \"category\"\n",
    "                }\n",
    "df = df.astype(convert_dict)\n",
    "\n",
    "# Setting outcomes to lowercase\n",
    "df['outcome'] = df['outcome'].str.capitalize()\n",
    "\n",
    "## FILTERING DATASET\n",
    "filt1 = df['sex'] == 'Female'\n",
    "filt2 = df['outcome'].isin(['Immediate custody', 'Community sentence','Suspended sentence'])\n",
    "filt3 = df['age_group'].isin([\"Adults\", \"Young adults\"])\n",
    "filt4 = df['pfa'].isin([\"Special/miscellaneous and unknown police forces\", \"City of London\", \"Not known\"])\n",
    "filt = filt1 & filt2 & filt3 & ~filt4\n",
    "women_dataset = df[filt].sort_values(['year', 'pfa']).copy()"
   ]
  },
  {
   "cell_type": "code",
   "execution_count": 44,
   "metadata": {},
   "outputs": [
    {
     "name": "stdout",
     "output_type": "stream",
     "text": [
      "2010 37966\n",
      "2011 37783\n",
      "2012 33929\n",
      "2013 31282\n",
      "2014 31124\n",
      "2015 32163\n",
      "2016 29795\n",
      "2017 28206\n",
      "2018 25698\n",
      "2019 24352\n",
      "2020 17377\n",
      "2021 20275\n",
      "2022 19182\n"
     ]
    }
   ],
   "source": [
    "for year in women_dataset['year'].unique():\n",
    "    sentenced_sum = women_dataset.query(f'year=={year}')['freq'].sum()\n",
    "    if sentenced_sum > 0:\n",
    "        print(year, sentenced_sum)"
   ]
  },
  {
   "cell_type": "code",
   "execution_count": 45,
   "metadata": {},
   "outputs": [],
   "source": [
    "women_dataset.to_csv('data/interim/TESTING_PFA_2010-22_women_cust_comm_sus.csv', index=False)"
   ]
  },
  {
   "cell_type": "markdown",
   "metadata": {},
   "source": [
    "### HERE\n",
    "Think I will add 2009 data back in from the other file next, just for continuity."
   ]
  },
  {
   "cell_type": "code",
   "execution_count": 40,
   "metadata": {},
   "outputs": [
    {
     "ename": "ParserError",
     "evalue": "Error tokenizing data. C error: Calling read(nbytes) on source failed. Try engine='python'.",
     "output_type": "error",
     "traceback": [
      "\u001b[0;31m---------------------------------------------------------------------------\u001b[0m",
      "\u001b[0;31mParserError\u001b[0m                               Traceback (most recent call last)",
      "\u001b[0;32m/var/folders/kp/698d00016j9g3g0cyrwpwpw00000gn/T/ipykernel_66029/766843629.py\u001b[0m in \u001b[0;36m<module>\u001b[0;34m\u001b[0m\n\u001b[1;32m      8\u001b[0m \u001b[0;31m# 1. Sentencing data 2016–22 (from: https://assets.publishing.service.gov.uk/government/uploads/system/uploads/attachment_data/file/1157991/obo_sent_pivot_2016_2022.zip)\u001b[0m\u001b[0;34m\u001b[0m\u001b[0;34m\u001b[0m\u001b[0;34m\u001b[0m\u001b[0m\n\u001b[1;32m      9\u001b[0m \u001b[0mcols\u001b[0m \u001b[0;34m=\u001b[0m \u001b[0;34m[\u001b[0m\u001b[0;34m'Police Force Area'\u001b[0m\u001b[0;34m,\u001b[0m \u001b[0;34m'Year'\u001b[0m\u001b[0;34m,\u001b[0m \u001b[0;34m'Sex'\u001b[0m\u001b[0;34m,\u001b[0m \u001b[0;34m'Age group'\u001b[0m\u001b[0;34m,\u001b[0m \u001b[0;34m'Offence group'\u001b[0m\u001b[0;34m,\u001b[0m \u001b[0;34m'Sentence Outcome'\u001b[0m\u001b[0;34m,\u001b[0m \u001b[0;34m'Custodial Sentence Length'\u001b[0m\u001b[0;34m,\u001b[0m\u001b[0;34m'Sentenced'\u001b[0m\u001b[0;34m]\u001b[0m\u001b[0;34m\u001b[0m\u001b[0;34m\u001b[0m\u001b[0m\n\u001b[0;32m---> 10\u001b[0;31m \u001b[0mall_csvs\u001b[0m \u001b[0;34m=\u001b[0m \u001b[0;34m[\u001b[0m\u001b[0mutils\u001b[0m\u001b[0;34m.\u001b[0m\u001b[0mloadData\u001b[0m\u001b[0;34m(\u001b[0m\u001b[0mfilename\u001b[0m\u001b[0;34m,\u001b[0m \u001b[0mcols\u001b[0m\u001b[0;34m=\u001b[0m\u001b[0mcols\u001b[0m\u001b[0;34m)\u001b[0m \u001b[0;32mfor\u001b[0m \u001b[0mfilename\u001b[0m \u001b[0;32min\u001b[0m \u001b[0mall_files\u001b[0m\u001b[0;34m]\u001b[0m\u001b[0;34m\u001b[0m\u001b[0;34m\u001b[0m\u001b[0m\n\u001b[0m\u001b[1;32m     11\u001b[0m \u001b[0mdf\u001b[0m \u001b[0;34m=\u001b[0m \u001b[0mpd\u001b[0m\u001b[0;34m.\u001b[0m\u001b[0mconcat\u001b[0m\u001b[0;34m(\u001b[0m\u001b[0mall_csvs\u001b[0m\u001b[0;34m,\u001b[0m \u001b[0maxis\u001b[0m\u001b[0;34m=\u001b[0m\u001b[0;36m0\u001b[0m\u001b[0;34m,\u001b[0m \u001b[0mignore_index\u001b[0m\u001b[0;34m=\u001b[0m\u001b[0;32mTrue\u001b[0m\u001b[0;34m)\u001b[0m\u001b[0;34m\u001b[0m\u001b[0;34m\u001b[0m\u001b[0m\n\u001b[1;32m     12\u001b[0m \u001b[0;34m\u001b[0m\u001b[0m\n",
      "\u001b[0;32m/var/folders/kp/698d00016j9g3g0cyrwpwpw00000gn/T/ipykernel_66029/766843629.py\u001b[0m in \u001b[0;36m<listcomp>\u001b[0;34m(.0)\u001b[0m\n\u001b[1;32m      8\u001b[0m \u001b[0;31m# 1. Sentencing data 2016–22 (from: https://assets.publishing.service.gov.uk/government/uploads/system/uploads/attachment_data/file/1157991/obo_sent_pivot_2016_2022.zip)\u001b[0m\u001b[0;34m\u001b[0m\u001b[0;34m\u001b[0m\u001b[0;34m\u001b[0m\u001b[0m\n\u001b[1;32m      9\u001b[0m \u001b[0mcols\u001b[0m \u001b[0;34m=\u001b[0m \u001b[0;34m[\u001b[0m\u001b[0;34m'Police Force Area'\u001b[0m\u001b[0;34m,\u001b[0m \u001b[0;34m'Year'\u001b[0m\u001b[0;34m,\u001b[0m \u001b[0;34m'Sex'\u001b[0m\u001b[0;34m,\u001b[0m \u001b[0;34m'Age group'\u001b[0m\u001b[0;34m,\u001b[0m \u001b[0;34m'Offence group'\u001b[0m\u001b[0;34m,\u001b[0m \u001b[0;34m'Sentence Outcome'\u001b[0m\u001b[0;34m,\u001b[0m \u001b[0;34m'Custodial Sentence Length'\u001b[0m\u001b[0;34m,\u001b[0m\u001b[0;34m'Sentenced'\u001b[0m\u001b[0;34m]\u001b[0m\u001b[0;34m\u001b[0m\u001b[0;34m\u001b[0m\u001b[0m\n\u001b[0;32m---> 10\u001b[0;31m \u001b[0mall_csvs\u001b[0m \u001b[0;34m=\u001b[0m \u001b[0;34m[\u001b[0m\u001b[0mutils\u001b[0m\u001b[0;34m.\u001b[0m\u001b[0mloadData\u001b[0m\u001b[0;34m(\u001b[0m\u001b[0mfilename\u001b[0m\u001b[0;34m,\u001b[0m \u001b[0mcols\u001b[0m\u001b[0;34m=\u001b[0m\u001b[0mcols\u001b[0m\u001b[0;34m)\u001b[0m \u001b[0;32mfor\u001b[0m \u001b[0mfilename\u001b[0m \u001b[0;32min\u001b[0m \u001b[0mall_files\u001b[0m\u001b[0;34m]\u001b[0m\u001b[0;34m\u001b[0m\u001b[0;34m\u001b[0m\u001b[0m\n\u001b[0m\u001b[1;32m     11\u001b[0m \u001b[0mdf\u001b[0m \u001b[0;34m=\u001b[0m \u001b[0mpd\u001b[0m\u001b[0;34m.\u001b[0m\u001b[0mconcat\u001b[0m\u001b[0;34m(\u001b[0m\u001b[0mall_csvs\u001b[0m\u001b[0;34m,\u001b[0m \u001b[0maxis\u001b[0m\u001b[0;34m=\u001b[0m\u001b[0;36m0\u001b[0m\u001b[0;34m,\u001b[0m \u001b[0mignore_index\u001b[0m\u001b[0;34m=\u001b[0m\u001b[0;32mTrue\u001b[0m\u001b[0;34m)\u001b[0m\u001b[0;34m\u001b[0m\u001b[0;34m\u001b[0m\u001b[0m\n\u001b[1;32m     12\u001b[0m \u001b[0;34m\u001b[0m\u001b[0m\n",
      "\u001b[0;32m~/Library/CloudStorage/OneDrive-PrisonReformTrust/PRT Shared Files/Policy and Communications/Python/women-pfa-2022/src/data/utilities.py\u001b[0m in \u001b[0;36mloadData\u001b[0;34m(path_to_data, cols)\u001b[0m\n\u001b[1;32m     15\u001b[0m \u001b[0;34m\u001b[0m\u001b[0m\n\u001b[1;32m     16\u001b[0m \u001b[0;32mdef\u001b[0m \u001b[0mloadData\u001b[0m\u001b[0;34m(\u001b[0m\u001b[0mpath_to_data\u001b[0m\u001b[0;34m,\u001b[0m \u001b[0mcols\u001b[0m\u001b[0;34m)\u001b[0m\u001b[0;34m:\u001b[0m\u001b[0;34m\u001b[0m\u001b[0;34m\u001b[0m\u001b[0m\n\u001b[0;32m---> 17\u001b[0;31m     \u001b[0;32mreturn\u001b[0m \u001b[0mpd\u001b[0m\u001b[0;34m.\u001b[0m\u001b[0mread_csv\u001b[0m\u001b[0;34m(\u001b[0m\u001b[0mpath_to_data\u001b[0m\u001b[0;34m,\u001b[0m \u001b[0musecols\u001b[0m\u001b[0;34m=\u001b[0m\u001b[0mcols\u001b[0m\u001b[0;34m,\u001b[0m \u001b[0mencoding\u001b[0m\u001b[0;34m=\u001b[0m \u001b[0;34m'unicode_escape'\u001b[0m\u001b[0;34m,\u001b[0m \u001b[0mlow_memory\u001b[0m\u001b[0;34m=\u001b[0m\u001b[0;32mFalse\u001b[0m\u001b[0;34m)\u001b[0m\u001b[0;34m\u001b[0m\u001b[0;34m\u001b[0m\u001b[0m\n\u001b[0m\u001b[1;32m     18\u001b[0m \u001b[0;34m\u001b[0m\u001b[0m\n\u001b[1;32m     19\u001b[0m \u001b[0;32mdef\u001b[0m \u001b[0mdataframeList\u001b[0m\u001b[0;34m(\u001b[0m\u001b[0msymbol_table\u001b[0m\u001b[0;34m)\u001b[0m\u001b[0;34m:\u001b[0m\u001b[0;34m\u001b[0m\u001b[0;34m\u001b[0m\u001b[0m\n",
      "\u001b[0;32m~/opt/miniconda3/envs/women-PFA-outcomes/lib/python3.9/site-packages/pandas/util/_decorators.py\u001b[0m in \u001b[0;36mwrapper\u001b[0;34m(*args, **kwargs)\u001b[0m\n\u001b[1;32m    309\u001b[0m                     \u001b[0mstacklevel\u001b[0m\u001b[0;34m=\u001b[0m\u001b[0mstacklevel\u001b[0m\u001b[0;34m,\u001b[0m\u001b[0;34m\u001b[0m\u001b[0;34m\u001b[0m\u001b[0m\n\u001b[1;32m    310\u001b[0m                 )\n\u001b[0;32m--> 311\u001b[0;31m             \u001b[0;32mreturn\u001b[0m \u001b[0mfunc\u001b[0m\u001b[0;34m(\u001b[0m\u001b[0;34m*\u001b[0m\u001b[0margs\u001b[0m\u001b[0;34m,\u001b[0m \u001b[0;34m**\u001b[0m\u001b[0mkwargs\u001b[0m\u001b[0;34m)\u001b[0m\u001b[0;34m\u001b[0m\u001b[0;34m\u001b[0m\u001b[0m\n\u001b[0m\u001b[1;32m    312\u001b[0m \u001b[0;34m\u001b[0m\u001b[0m\n\u001b[1;32m    313\u001b[0m         \u001b[0;32mreturn\u001b[0m \u001b[0mwrapper\u001b[0m\u001b[0;34m\u001b[0m\u001b[0;34m\u001b[0m\u001b[0m\n",
      "\u001b[0;32m~/opt/miniconda3/envs/women-PFA-outcomes/lib/python3.9/site-packages/pandas/io/parsers/readers.py\u001b[0m in \u001b[0;36mread_csv\u001b[0;34m(filepath_or_buffer, sep, delimiter, header, names, index_col, usecols, squeeze, prefix, mangle_dupe_cols, dtype, engine, converters, true_values, false_values, skipinitialspace, skiprows, skipfooter, nrows, na_values, keep_default_na, na_filter, verbose, skip_blank_lines, parse_dates, infer_datetime_format, keep_date_col, date_parser, dayfirst, cache_dates, iterator, chunksize, compression, thousands, decimal, lineterminator, quotechar, quoting, doublequote, escapechar, comment, encoding, encoding_errors, dialect, error_bad_lines, warn_bad_lines, on_bad_lines, delim_whitespace, low_memory, memory_map, float_precision, storage_options)\u001b[0m\n\u001b[1;32m    584\u001b[0m     \u001b[0mkwds\u001b[0m\u001b[0;34m.\u001b[0m\u001b[0mupdate\u001b[0m\u001b[0;34m(\u001b[0m\u001b[0mkwds_defaults\u001b[0m\u001b[0;34m)\u001b[0m\u001b[0;34m\u001b[0m\u001b[0;34m\u001b[0m\u001b[0m\n\u001b[1;32m    585\u001b[0m \u001b[0;34m\u001b[0m\u001b[0m\n\u001b[0;32m--> 586\u001b[0;31m     \u001b[0;32mreturn\u001b[0m \u001b[0m_read\u001b[0m\u001b[0;34m(\u001b[0m\u001b[0mfilepath_or_buffer\u001b[0m\u001b[0;34m,\u001b[0m \u001b[0mkwds\u001b[0m\u001b[0;34m)\u001b[0m\u001b[0;34m\u001b[0m\u001b[0;34m\u001b[0m\u001b[0m\n\u001b[0m\u001b[1;32m    587\u001b[0m \u001b[0;34m\u001b[0m\u001b[0m\n\u001b[1;32m    588\u001b[0m \u001b[0;34m\u001b[0m\u001b[0m\n",
      "\u001b[0;32m~/opt/miniconda3/envs/women-PFA-outcomes/lib/python3.9/site-packages/pandas/io/parsers/readers.py\u001b[0m in \u001b[0;36m_read\u001b[0;34m(filepath_or_buffer, kwds)\u001b[0m\n\u001b[1;32m    486\u001b[0m \u001b[0;34m\u001b[0m\u001b[0m\n\u001b[1;32m    487\u001b[0m     \u001b[0;32mwith\u001b[0m \u001b[0mparser\u001b[0m\u001b[0;34m:\u001b[0m\u001b[0;34m\u001b[0m\u001b[0;34m\u001b[0m\u001b[0m\n\u001b[0;32m--> 488\u001b[0;31m         \u001b[0;32mreturn\u001b[0m \u001b[0mparser\u001b[0m\u001b[0;34m.\u001b[0m\u001b[0mread\u001b[0m\u001b[0;34m(\u001b[0m\u001b[0mnrows\u001b[0m\u001b[0;34m)\u001b[0m\u001b[0;34m\u001b[0m\u001b[0;34m\u001b[0m\u001b[0m\n\u001b[0m\u001b[1;32m    489\u001b[0m \u001b[0;34m\u001b[0m\u001b[0m\n\u001b[1;32m    490\u001b[0m \u001b[0;34m\u001b[0m\u001b[0m\n",
      "\u001b[0;32m~/opt/miniconda3/envs/women-PFA-outcomes/lib/python3.9/site-packages/pandas/io/parsers/readers.py\u001b[0m in \u001b[0;36mread\u001b[0;34m(self, nrows)\u001b[0m\n\u001b[1;32m   1045\u001b[0m     \u001b[0;32mdef\u001b[0m \u001b[0mread\u001b[0m\u001b[0;34m(\u001b[0m\u001b[0mself\u001b[0m\u001b[0;34m,\u001b[0m \u001b[0mnrows\u001b[0m\u001b[0;34m=\u001b[0m\u001b[0;32mNone\u001b[0m\u001b[0;34m)\u001b[0m\u001b[0;34m:\u001b[0m\u001b[0;34m\u001b[0m\u001b[0;34m\u001b[0m\u001b[0m\n\u001b[1;32m   1046\u001b[0m         \u001b[0mnrows\u001b[0m \u001b[0;34m=\u001b[0m \u001b[0mvalidate_integer\u001b[0m\u001b[0;34m(\u001b[0m\u001b[0;34m\"nrows\"\u001b[0m\u001b[0;34m,\u001b[0m \u001b[0mnrows\u001b[0m\u001b[0;34m)\u001b[0m\u001b[0;34m\u001b[0m\u001b[0;34m\u001b[0m\u001b[0m\n\u001b[0;32m-> 1047\u001b[0;31m         \u001b[0mindex\u001b[0m\u001b[0;34m,\u001b[0m \u001b[0mcolumns\u001b[0m\u001b[0;34m,\u001b[0m \u001b[0mcol_dict\u001b[0m \u001b[0;34m=\u001b[0m \u001b[0mself\u001b[0m\u001b[0;34m.\u001b[0m\u001b[0m_engine\u001b[0m\u001b[0;34m.\u001b[0m\u001b[0mread\u001b[0m\u001b[0;34m(\u001b[0m\u001b[0mnrows\u001b[0m\u001b[0;34m)\u001b[0m\u001b[0;34m\u001b[0m\u001b[0;34m\u001b[0m\u001b[0m\n\u001b[0m\u001b[1;32m   1048\u001b[0m \u001b[0;34m\u001b[0m\u001b[0m\n\u001b[1;32m   1049\u001b[0m         \u001b[0;32mif\u001b[0m \u001b[0mindex\u001b[0m \u001b[0;32mis\u001b[0m \u001b[0;32mNone\u001b[0m\u001b[0;34m:\u001b[0m\u001b[0;34m\u001b[0m\u001b[0;34m\u001b[0m\u001b[0m\n",
      "\u001b[0;32m~/opt/miniconda3/envs/women-PFA-outcomes/lib/python3.9/site-packages/pandas/io/parsers/c_parser_wrapper.py\u001b[0m in \u001b[0;36mread\u001b[0;34m(self, nrows)\u001b[0m\n\u001b[1;32m    226\u001b[0m \u001b[0;34m\u001b[0m\u001b[0m\n\u001b[1;32m    227\u001b[0m             \u001b[0;32melse\u001b[0m\u001b[0;34m:\u001b[0m\u001b[0;34m\u001b[0m\u001b[0;34m\u001b[0m\u001b[0m\n\u001b[0;32m--> 228\u001b[0;31m                 \u001b[0mdata\u001b[0m \u001b[0;34m=\u001b[0m \u001b[0mself\u001b[0m\u001b[0;34m.\u001b[0m\u001b[0m_reader\u001b[0m\u001b[0;34m.\u001b[0m\u001b[0mread\u001b[0m\u001b[0;34m(\u001b[0m\u001b[0mnrows\u001b[0m\u001b[0;34m)\u001b[0m\u001b[0;34m\u001b[0m\u001b[0;34m\u001b[0m\u001b[0m\n\u001b[0m\u001b[1;32m    229\u001b[0m         \u001b[0;32mexcept\u001b[0m \u001b[0mStopIteration\u001b[0m\u001b[0;34m:\u001b[0m\u001b[0;34m\u001b[0m\u001b[0;34m\u001b[0m\u001b[0m\n\u001b[1;32m    230\u001b[0m             \u001b[0;32mif\u001b[0m \u001b[0mself\u001b[0m\u001b[0;34m.\u001b[0m\u001b[0m_first_chunk\u001b[0m\u001b[0;34m:\u001b[0m\u001b[0;34m\u001b[0m\u001b[0;34m\u001b[0m\u001b[0m\n",
      "\u001b[0;32m~/opt/miniconda3/envs/women-PFA-outcomes/lib/python3.9/site-packages/pandas/_libs/parsers.pyx\u001b[0m in \u001b[0;36mpandas._libs.parsers.TextReader.read\u001b[0;34m()\u001b[0m\n",
      "\u001b[0;32m~/opt/miniconda3/envs/women-PFA-outcomes/lib/python3.9/site-packages/pandas/_libs/parsers.pyx\u001b[0m in \u001b[0;36mpandas._libs.parsers.TextReader._read_rows\u001b[0;34m()\u001b[0m\n",
      "\u001b[0;32m~/opt/miniconda3/envs/women-PFA-outcomes/lib/python3.9/site-packages/pandas/_libs/parsers.pyx\u001b[0m in \u001b[0;36mpandas._libs.parsers.raise_parser_error\u001b[0;34m()\u001b[0m\n",
      "\u001b[0;31mParserError\u001b[0m: Error tokenizing data. C error: Calling read(nbytes) on source failed. Try engine='python'."
     ]
    }
   ],
   "source": [
    "## Collecting file paths with glob\n",
    "\n",
    "path=\"data/external/obo_sent_pivot_2010_2022/\"\n",
    "all_files = glob.glob(path + \"*.csv\")\n",
    "\n",
    "\n",
    "## IMPORTING DATASETS ##\n",
    "# 1. Sentencing data 2010–22 \n",
    "# (from: https://assets.publishing.service.gov.uk/government/uploads/system/uploads/attachment_data/file/1157979/obo_sent_pivot_2010_2015.zip and \n",
    "# https://assets.publishing.service.gov.uk/government/uploads/system/uploads/attachment_data/file/1157991/obo_sent_pivot_2016_2022.zip)\n",
    "\n",
    "cols = ['Police Force Area', 'Year', 'Sex', 'Age group', 'Offence group', 'Sentence Outcome', 'Custodial Sentence Length','Sentenced']\n",
    "all_csvs = [utils.loadData(filename, cols=cols) for filename in all_files]\n",
    "df = pd.concat(all_csvs, axis=0, ignore_index=True)\n",
    "\n",
    "# # 2. Court outcomes by police force area 2009–2019 (from: https://assets.publishing.service.gov.uk/government/uploads/system/uploads/attachment_data/file/888561/csvs-behind-data-tools-2-2019.zip)\n",
    "# cols_2009 =['Police Force Area', 'Year of Appearance', 'Sex', 'Age Group', 'Offence Group', 'Outcome', 'Custodial Sentence Length','Count'] \n",
    "# df_2009 = utils.loadData('../womens-pfa-analysis/data/external/court-outcomes-by-PFA-2019.csv', cols=cols_2009)\n",
    "\n",
    "# #Dropping duplicate data from 2009 dataset that also appears in df\n",
    "# filt = df_2009['Year of Appearance'] < 2016\n",
    "# df_2009 = df_2009[filt].copy()\n",
    "\n",
    "# Defining datasets to iterate through in following section\n",
    "# df_list = utils.dataframeList(locals()) #Using locals() function to retrieve local symbol table. Note this outputs a complex list, and is no longer a DataFrame.\n",
    "\n",
    "## DATA CLEANING PROCESS\n",
    "\n",
    "# Renaming columns\n",
    "utils.lcColumns(df)\n",
    "utils.renameColumns(df, columns={\n",
    "    'year_of_appearance': 'year',\n",
    "    'offence_group': 'offence',\n",
    "    'police_force_area': 'pfa',\n",
    "    'sentence_outcome': 'outcome',\n",
    "    'custodial_sentence_length': 'sentence_length',\n",
    "    'sentenced': 'freq',\n",
    "    'count': 'freq'}\n",
    "    )\n",
    "\n",
    "# Tidying elements into one DataFrame\n",
    "utils.tidy_elements(df)\n",
    "\n",
    "# Reordering columns\n",
    "column_order = ['year', 'pfa', 'sex', 'age_group', 'offence', 'outcome', 'sentence_length', 'freq']\n",
    "df = df.reindex(columns=column_order)\n",
    "\n",
    "# Setting categorical columns\n",
    "convert_dict = {'outcome': \"category\",\n",
    "                'sentence_length': \"category\"\n",
    "                }\n",
    "df = df.astype(convert_dict)\n",
    "\n",
    "# Setting outcomes to lowercase\n",
    "df['outcome'] = df['outcome'].str.capitalize()\n",
    "\n",
    "## FILTERING DATASET\n",
    "filt1 = df['sex'] == 'Female'\n",
    "filt2 = df['outcome'].isin(['Immediate custody', 'Community sentence','Suspended sentence'])\n",
    "filt3 = df['age_group'].isin([\"Adults\", \"Young adults\"])\n",
    "filt4 = df['pfa'].isin([\"Special/miscellaneous and unknown police forces\", \"City of London\", \"Not known\"])\n",
    "filt = filt1 & filt2 & filt3 & ~filt4\n",
    "women_dataset = df[filt].sort_values(['year', 'pfa']).copy()\n",
    "\n",
    "## OUTPUTTING INTERIM DATASET FOR FURTHER ANALYSIS\n",
    "women_dataset.to_csv('data/interim/TESTING_PFA_2010-22_women_cust_comm_sus.csv', index=False)"
   ]
  }
 ],
 "metadata": {
  "kernelspec": {
   "display_name": "women-PFA-outcomes",
   "language": "python",
   "name": "python3"
  },
  "language_info": {
   "codemirror_mode": {
    "name": "ipython",
    "version": 3
   },
   "file_extension": ".py",
   "mimetype": "text/x-python",
   "name": "python",
   "nbconvert_exporter": "python",
   "pygments_lexer": "ipython3",
   "version": "3.9.6"
  },
  "orig_nbformat": 4
 },
 "nbformat": 4,
 "nbformat_minor": 2
}
