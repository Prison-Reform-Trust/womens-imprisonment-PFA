{
 "cells": [
  {
   "cell_type": "code",
   "execution_count": null,
   "metadata": {},
   "outputs": [],
   "source": [
    "import src.data.utilities as utils\n",
    "%load_ext autoreload\n",
    "%autoreload 2"
   ]
  },
  {
   "cell_type": "code",
   "execution_count": null,
   "metadata": {},
   "outputs": [],
   "source": [
    "import pandas as pd\n",
    "import numpy as np"
   ]
  },
  {
   "cell_type": "code",
   "execution_count": null,
   "metadata": {},
   "outputs": [],
   "source": [
    "cols = ['Police Force Area', 'Year', 'Sex', 'Age group', 'Offence group', 'Sentence Outcome', 'Custodial Sentence Length','Sentenced']\n",
    "df = pd.read_csv(\"/Users/alex/Downloads/obo_sent_pivot_2016_2022/obo_sent_pivot_2019_2022.csv\", encoding= 'unicode_escape', low_memory=True, usecols=cols)\n",
    "df.head()"
   ]
  },
  {
   "cell_type": "code",
   "execution_count": null,
   "metadata": {},
   "outputs": [],
   "source": [
    "utils.lcColumns(df)\n",
    "utils.renameColumns(df, columns={\n",
    "    'year_of_appearance': 'year',\n",
    "    'offence_group': 'offence',\n",
    "    'police_force_area': 'pfa',\n",
    "    'sentence_outcome': 'outcome',\n",
    "    'custodial_sentence_length': 'sentence_length',\n",
    "    'sentenced': 'freq',\n",
    "    'count': 'freq'}\n",
    "    )"
   ]
  },
  {
   "cell_type": "code",
   "execution_count": null,
   "metadata": {},
   "outputs": [],
   "source": [
    "df.head()"
   ]
  },
  {
   "cell_type": "code",
   "execution_count": null,
   "metadata": {},
   "outputs": [],
   "source": [
    "utils.tidy_elements(df)"
   ]
  },
  {
   "cell_type": "code",
   "execution_count": null,
   "metadata": {},
   "outputs": [],
   "source": [
    "df.head()"
   ]
  },
  {
   "cell_type": "code",
   "execution_count": null,
   "metadata": {},
   "outputs": [],
   "source": [
    "# Checking that sentence_length values have been tidied up\n",
    "df['sentence_length'].unique()"
   ]
  },
  {
   "cell_type": "code",
   "execution_count": null,
   "metadata": {},
   "outputs": [],
   "source": [
    "# Reordering columns\n",
    "column_order = ['year', 'pfa', 'sex', 'age_group', 'offence', 'outcome', 'sentence_length', 'freq']\n",
    "df = df.reindex(columns=column_order)\n",
    "\n",
    "# Setting categorical columns\n",
    "convert_dict = {'outcome': \"category\",\n",
    "                'sentence_length': \"category\"\n",
    "                }\n",
    "df = df.astype(convert_dict)"
   ]
  },
  {
   "cell_type": "code",
   "execution_count": null,
   "metadata": {},
   "outputs": [],
   "source": [
    "df.info()"
   ]
  },
  {
   "cell_type": "code",
   "execution_count": null,
   "metadata": {},
   "outputs": [],
   "source": [
    "## FILTERING DATASET\n",
    "filt1 = df['sex'] == 'Female'\n",
    "filt2 = df['outcome'].isin(['Immediate custody', 'Community sentence','Suspended sentence'])\n",
    "filt3 = df['age_group'].isin([\"Adults\", \"Young adults\"])\n",
    "filt4 = df['pfa'].isin([\"Special/miscellaneous and unknown police forces\", \"City of London\", \"Not known\"])\n",
    "filt = filt1 & filt2 & filt3 & ~filt4\n",
    "women_dataset = df[filt].sort_values(['year', 'pfa']).copy()"
   ]
  },
  {
   "cell_type": "code",
   "execution_count": null,
   "metadata": {},
   "outputs": [],
   "source": [
    "women_dataset.reset_index(drop=True, inplace=True)\n",
    "women_dataset.head()"
   ]
  },
  {
   "cell_type": "code",
   "execution_count": null,
   "metadata": {},
   "outputs": [],
   "source": [
    "len(women_dataset['pfa'].unique())"
   ]
  },
  {
   "cell_type": "code",
   "execution_count": null,
   "metadata": {},
   "outputs": [],
   "source": [
    "women_dataset_2019 = women_dataset.query('year==2019')"
   ]
  },
  {
   "attachments": {},
   "cell_type": "markdown",
   "metadata": {},
   "source": [
    "Importing previous dataset to ensure matching"
   ]
  },
  {
   "cell_type": "code",
   "execution_count": null,
   "metadata": {},
   "outputs": [],
   "source": [
    "df_orig = pd.read_csv('data/interim/PFA_2009-21_women_cust_comm_sus.csv')\n",
    "df_orig.head()"
   ]
  },
  {
   "cell_type": "code",
   "execution_count": null,
   "metadata": {},
   "outputs": [],
   "source": [
    "df_orig.query('year==2019').describe(include=['object', 'category'])"
   ]
  },
  {
   "cell_type": "code",
   "execution_count": null,
   "metadata": {},
   "outputs": [],
   "source": [
    "df_orig_2019 = df_orig.query('year==2019')"
   ]
  },
  {
   "cell_type": "code",
   "execution_count": null,
   "metadata": {},
   "outputs": [],
   "source": [
    "for column in women_dataset_2019.columns:\n",
    "    print(column, women_dataset_2019[column].unique())"
   ]
  },
  {
   "attachments": {},
   "cell_type": "markdown",
   "metadata": {},
   "source": [
    "The only `outcome` appears to be `Community sentence` so something has gone wrong with the filtering stage. Let's circle back"
   ]
  },
  {
   "cell_type": "code",
   "execution_count": null,
   "metadata": {},
   "outputs": [],
   "source": [
    "women_dataset_2019.info()"
   ]
  },
  {
   "cell_type": "code",
   "execution_count": null,
   "metadata": {},
   "outputs": [],
   "source": [
    "women_dataset_2019.describe(include=['object', 'category'])"
   ]
  },
  {
   "attachments": {},
   "cell_type": "markdown",
   "metadata": {},
   "source": [
    "Right, that seems to confirm it. Time to examine the filtering again."
   ]
  },
  {
   "cell_type": "code",
   "execution_count": null,
   "metadata": {},
   "outputs": [],
   "source": [
    "df['outcome'].unique()"
   ]
  },
  {
   "attachments": {},
   "cell_type": "markdown",
   "metadata": {},
   "source": [
    "As ever, it's silly string formatting that seems to have tripped up everything. Let's rectify by making this case agnostic."
   ]
  },
  {
   "cell_type": "code",
   "execution_count": null,
   "metadata": {},
   "outputs": [],
   "source": [
    "mylist=['Immediate custody', 'Community sentence','Suspended sentence']\n",
    "myset = set([s.lower() for s in mylist])\n",
    "myset"
   ]
  },
  {
   "cell_type": "code",
   "execution_count": null,
   "metadata": {},
   "outputs": [],
   "source": [
    "filt2 = df['outcome'].apply(lambda v: v.lower() in myset)\n",
    "df[filt2].describe(include=['object', 'category'])"
   ]
  },
  {
   "attachments": {},
   "cell_type": "markdown",
   "metadata": {},
   "source": [
    "Re-filtering dataframe"
   ]
  },
  {
   "cell_type": "code",
   "execution_count": null,
   "metadata": {},
   "outputs": [],
   "source": [
    "## FILTERING DATASET\n",
    "sentences = ['Immediate custody', 'Community sentence','Suspended sentence']\n",
    "sentences_set = set([s.lower() for s in sentences])\n",
    "\n",
    "filt1 = df['sex'] == 'Female'\n",
    "filt2 = df['outcome'].apply(lambda v: v.lower() in sentences_set)\n",
    "filt3 = df['age_group'].isin([\"Adults\", \"Young adults\"])\n",
    "filt4 = df['pfa'].isin([\"Special/miscellaneous and unknown police forces\", \"City of London\", \"Not known\"])\n",
    "filt = filt1 & filt2 & filt3 & ~filt4\n",
    "women_dataset = df[filt].sort_values(['year', 'pfa']).copy()"
   ]
  },
  {
   "cell_type": "code",
   "execution_count": null,
   "metadata": {},
   "outputs": [],
   "source": [
    "women_dataset.describe(include=['object', 'category'])"
   ]
  },
  {
   "attachments": {},
   "cell_type": "markdown",
   "metadata": {},
   "source": [
    "Great, we have three unique values in the `outcome` column. Let's filter for 2019 and check further"
   ]
  },
  {
   "cell_type": "code",
   "execution_count": null,
   "metadata": {},
   "outputs": [],
   "source": [
    "women_dataset_2019 = women_dataset.query('year==2019')"
   ]
  },
  {
   "cell_type": "code",
   "execution_count": null,
   "metadata": {},
   "outputs": [],
   "source": [
    "women_dataset_2019.info()"
   ]
  },
  {
   "cell_type": "code",
   "execution_count": null,
   "metadata": {},
   "outputs": [],
   "source": [
    "women_dataset_2019['freq'].sum()"
   ]
  },
  {
   "cell_type": "code",
   "execution_count": null,
   "metadata": {},
   "outputs": [],
   "source": [
    "df_orig_2019['freq'].sum()"
   ]
  },
  {
   "attachments": {},
   "cell_type": "markdown",
   "metadata": {},
   "source": [
    "Right, the sum of `freq` is the same for both dataframes. Let's now check against all the years within `women_dataset` and `df_orig`"
   ]
  },
  {
   "cell_type": "code",
   "execution_count": null,
   "metadata": {},
   "outputs": [],
   "source": [
    "df_orig['year'].unique()"
   ]
  },
  {
   "cell_type": "code",
   "execution_count": null,
   "metadata": {},
   "outputs": [],
   "source": [
    "women_dataset['year'].unique()"
   ]
  },
  {
   "cell_type": "code",
   "execution_count": null,
   "metadata": {},
   "outputs": [],
   "source": [
    "for year in women_dataset['year'].unique():\n",
    "    print(year, women_dataset.query(f'year=={year}')['freq'].sum())"
   ]
  },
  {
   "cell_type": "code",
   "execution_count": null,
   "metadata": {},
   "outputs": [],
   "source": [
    "for year in women_dataset['year'].unique():\n",
    "    sentenced_sum = df_orig.query(f'year=={year}')['freq'].sum()\n",
    "    if sentenced_sum > 0:\n",
    "        print(year, sentenced_sum)"
   ]
  },
  {
   "attachments": {},
   "cell_type": "markdown",
   "metadata": {},
   "source": [
    "## Excellent, think we're there. Time to bring this all together."
   ]
  },
  {
   "cell_type": "code",
   "execution_count": null,
   "metadata": {},
   "outputs": [],
   "source": [
    "import src.data.utilities as utils\n",
    "%load_ext autoreload\n",
    "%autoreload 2\n",
    "import pandas as pd\n",
    "import numpy as np"
   ]
  },
  {
   "cell_type": "code",
   "execution_count": null,
   "metadata": {},
   "outputs": [],
   "source": [
    "cols = ['Police Force Area', 'Year', 'Sex', 'Age group', 'Offence group', 'Sentence Outcome', 'Custodial Sentence Length','Sentenced']\n",
    "df = pd.read_csv(\"/Users/alex/Downloads/obo_sent_pivot_2016_2022/obo_sent_pivot_2019_2022.csv\", encoding= 'unicode_escape', low_memory=True, usecols=cols)"
   ]
  },
  {
   "cell_type": "code",
   "execution_count": null,
   "metadata": {},
   "outputs": [],
   "source": [
    "utils.lcColumns(df)\n",
    "utils.renameColumns(df, columns={\n",
    "    'year_of_appearance': 'year',\n",
    "    'offence_group': 'offence',\n",
    "    'police_force_area': 'pfa',\n",
    "    'sentence_outcome': 'outcome',\n",
    "    'custodial_sentence_length': 'sentence_length',\n",
    "    'sentenced': 'freq',\n",
    "    'count': 'freq'}\n",
    "    )\n",
    "utils.tidy_elements(df)\n",
    "\n",
    "# Reordering columns\n",
    "column_order = ['year', 'pfa', 'sex', 'age_group', 'offence', 'outcome', 'sentence_length', 'freq']\n",
    "df = df.reindex(columns=column_order)\n",
    "\n",
    "# Setting categorical columns\n",
    "convert_dict = {'outcome': \"category\",\n",
    "                'sentence_length': \"category\"\n",
    "                }\n",
    "df = df.astype(convert_dict)"
   ]
  },
  {
   "cell_type": "code",
   "execution_count": null,
   "metadata": {},
   "outputs": [],
   "source": [
    "## FILTERING DATASET\n",
    "sentences = ['Immediate custody', 'Community sentence','Suspended sentence']\n",
    "sentences_set = set([s.lower() for s in sentences])\n",
    "\n",
    "filt1 = df['sex'] == 'Female'\n",
    "filt2 = df['outcome'].apply(lambda v: v.lower() in sentences_set)\n",
    "filt3 = df['age_group'].isin([\"Adults\", \"Young adults\"])\n",
    "filt4 = df['pfa'].isin([\"Special/miscellaneous and unknown police forces\", \"City of London\", \"Not known\"])\n",
    "filt = filt1 & filt2 & filt3 & ~filt4\n",
    "women_dataset = df[filt].sort_values(['year', 'pfa']).copy()"
   ]
  },
  {
   "cell_type": "code",
   "execution_count": null,
   "metadata": {},
   "outputs": [],
   "source": [
    "women_dataset.head()"
   ]
  },
  {
   "cell_type": "code",
   "execution_count": null,
   "metadata": {},
   "outputs": [],
   "source": [
    "women_dataset['year'].unique()"
   ]
  },
  {
   "cell_type": "code",
   "execution_count": null,
   "metadata": {},
   "outputs": [],
   "source": [
    "women_dataset.query('year==2019')['freq'].sum()"
   ]
  },
  {
   "attachments": {},
   "cell_type": "markdown",
   "metadata": {},
   "source": [
    "Right, that looks to have behaved. Let's now attempt to run the full `data_cleansing.py` code below, with those filtering adaptations made."
   ]
  },
  {
   "cell_type": "code",
   "execution_count": 2,
   "metadata": {},
   "outputs": [],
   "source": [
    "import src.data.utilities as utils\n",
    "%load_ext autoreload\n",
    "%autoreload 2\n",
    "\n",
    "import pandas as pd\n",
    "import glob"
   ]
  },
  {
   "attachments": {},
   "cell_type": "markdown",
   "metadata": {},
   "source": [
    "Building a simple list to read in multiple csv files"
   ]
  },
  {
   "cell_type": "code",
   "execution_count": null,
   "metadata": {},
   "outputs": [],
   "source": [
    "path=\"data/external/obo_sent_pivot_2016_2022/\"\n",
    "all_files = glob.glob(path + \"*.csv\")\n",
    "all_files"
   ]
  },
  {
   "cell_type": "code",
   "execution_count": null,
   "metadata": {},
   "outputs": [],
   "source": [
    "cols = ['Police Force Area', 'Year', 'Sex', 'Age group', 'Offence group', 'Sentence Outcome', 'Custodial Sentence Length','Sentenced']\n",
    "all_csvs = [utils.loadData(filename, cols=cols) for filename in all_files]\n",
    "df = pd.concat(all_csvs, axis=0, ignore_index=True)"
   ]
  },
  {
   "attachments": {},
   "cell_type": "markdown",
   "metadata": {},
   "source": [
    "Checking that the concat has pulled through all of the dates"
   ]
  },
  {
   "cell_type": "code",
   "execution_count": null,
   "metadata": {},
   "outputs": [],
   "source": [
    "df['Year'].unique()"
   ]
  },
  {
   "attachments": {},
   "cell_type": "markdown",
   "metadata": {},
   "source": [
    "Importing other csv and working through the `data_cleansing.py` stages"
   ]
  },
  {
   "cell_type": "code",
   "execution_count": null,
   "metadata": {},
   "outputs": [],
   "source": [
    "# 2. Court outcomes by police force area 2009–2019 (from: https://assets.publishing.service.gov.uk/government/uploads/system/uploads/attachment_data/file/888561/csvs-behind-data-tools-2-2019.zip)\n",
    "cols_2009 =['Police Force Area', 'Year of Appearance', 'Sex', 'Age Group', 'Offence Group', 'Outcome', 'Custodial Sentence Length','Count'] \n",
    "df_2009 = utils.loadData('../womens-pfa-analysis/data/external/court-outcomes-by-PFA-2019.csv', cols=cols_2009)"
   ]
  },
  {
   "cell_type": "code",
   "execution_count": null,
   "metadata": {},
   "outputs": [],
   "source": [
    "df_2009['Year of Appearance'].unique()"
   ]
  },
  {
   "cell_type": "code",
   "execution_count": null,
   "metadata": {},
   "outputs": [],
   "source": [
    "filt = df_2009['Year of Appearance'] < 2016\n",
    "df_2009 = df_2009[filt].copy()\n",
    "df_2009['Year of Appearance'].unique()"
   ]
  },
  {
   "cell_type": "code",
   "execution_count": null,
   "metadata": {},
   "outputs": [],
   "source": [
    "df_list = utils.dataframeList(locals())"
   ]
  },
  {
   "cell_type": "code",
   "execution_count": null,
   "metadata": {},
   "outputs": [],
   "source": [
    "# Renaming columns\n",
    "for data in df_list:\n",
    "    utils.lcColumns(data)\n",
    "    utils.renameColumns(data, columns={\n",
    "        'year_of_appearance': 'year',\n",
    "        'offence_group': 'offence',\n",
    "        'police_force_area': 'pfa',\n",
    "        'sentence_outcome': 'outcome',\n",
    "        'custodial_sentence_length': 'sentence_length',\n",
    "        'sentenced': 'freq',\n",
    "        'count': 'freq'}\n",
    "        )\n",
    "\n",
    "# Joining and tidying elements into one DataFrame\n",
    "df_combined = pd.concat(df_list)\n",
    "utils.tidy_elements(df_combined)\n",
    "\n",
    "# Reordering columns\n",
    "column_order = ['year', 'pfa', 'sex', 'age_group', 'offence', 'outcome', 'sentence_length', 'freq']\n",
    "df_combined = df_combined.reindex(columns=column_order)"
   ]
  },
  {
   "cell_type": "code",
   "execution_count": null,
   "metadata": {},
   "outputs": [],
   "source": [
    "df_combined"
   ]
  },
  {
   "cell_type": "code",
   "execution_count": null,
   "metadata": {},
   "outputs": [],
   "source": [
    "convert_dict = {'outcome': \"category\",\n",
    "                'sentence_length': \"category\"\n",
    "                }\n",
    "df_combined = df_combined.astype(convert_dict)"
   ]
  },
  {
   "attachments": {},
   "cell_type": "markdown",
   "metadata": {},
   "source": [
    "Capitalising the outcomes for consistency before filtering"
   ]
  },
  {
   "cell_type": "code",
   "execution_count": null,
   "metadata": {},
   "outputs": [],
   "source": [
    "df_combined['outcome'] = df_combined['outcome'].str.capitalize()\n",
    "df_combined['outcome'].unique()"
   ]
  },
  {
   "cell_type": "code",
   "execution_count": null,
   "metadata": {},
   "outputs": [],
   "source": [
    "df_combined['outcome'] = df_combined['outcome'].str.capitalize()\n",
    "\n",
    "## FILTERING DATASET\n",
    "filt1 = df_combined['sex'] == 'Female'\n",
    "filt2 = df_combined['outcome'].isin(['Immediate custody', 'Community sentence','Suspended sentence'])\n",
    "filt3 = df_combined['age_group'].isin([\"Adults\", \"Young adults\"])\n",
    "filt4 = df_combined['pfa'].isin([\"Special/miscellaneous and unknown police forces\", \"City of London\", \"Not known\"])\n",
    "filt = filt1 & filt2 & filt3 & ~filt4\n",
    "women_dataset = df_combined[filt].sort_values(['year', 'pfa']).copy()"
   ]
  },
  {
   "cell_type": "code",
   "execution_count": null,
   "metadata": {},
   "outputs": [],
   "source": [
    "women_dataset['outcome'].unique()"
   ]
  },
  {
   "cell_type": "code",
   "execution_count": null,
   "metadata": {},
   "outputs": [],
   "source": [
    "women_dataset.query('year==2022')['freq'].sum()"
   ]
  },
  {
   "cell_type": "code",
   "execution_count": null,
   "metadata": {},
   "outputs": [],
   "source": [
    "for year in women_dataset['year'].unique():\n",
    "    sentenced_sum = women_dataset.query(f'year=={year}')['freq'].sum()\n",
    "    if sentenced_sum > 0:\n",
    "        print(year, sentenced_sum)"
   ]
  },
  {
   "attachments": {},
   "cell_type": "markdown",
   "metadata": {},
   "source": [
    "Running this again, but using the 2010–2015 data also provided in the same publication, rather than the older 2009–2019 data. I've also renamed the folder to reference that the data goes back to 2010 now—so earlier code will throw an error.\n",
    "\n",
    "This means I can lose quite a bit of the stages (commented out below)"
   ]
  },
  {
   "cell_type": "code",
   "execution_count": null,
   "metadata": {},
   "outputs": [],
   "source": [
    "## Collecting file paths with glob\n",
    "\n",
    "path=\"data/external/obo_sent_pivot_2010_2022/\"\n",
    "all_files = glob.glob(path + \"*.csv\")\n",
    "\n",
    "\n",
    "## IMPORTING DATASETS ##\n",
    "# 1. Sentencing data 2010–22 \n",
    "# (from: https://assets.publishing.service.gov.uk/government/uploads/system/uploads/attachment_data/file/1157979/obo_sent_pivot_2010_2015.zip and \n",
    "# https://assets.publishing.service.gov.uk/government/uploads/system/uploads/attachment_data/file/1157991/obo_sent_pivot_2016_2022.zip)\n",
    "\n",
    "cols = ['Police Force Area', 'Year', 'Sex', 'Age group', 'Offence group', 'Sentence Outcome', 'Custodial Sentence Length','Sentenced']\n",
    "all_csvs = [utils.loadData(filename, cols=cols) for filename in all_files]\n",
    "df = pd.concat(all_csvs, axis=0, ignore_index=True)\n",
    "\n",
    "# # 2. Court outcomes by police force area 2009–2019 (from: https://assets.publishing.service.gov.uk/government/uploads/system/uploads/attachment_data/file/888561/csvs-behind-data-tools-2-2019.zip)\n",
    "# cols_2009 =['Police Force Area', 'Year of Appearance', 'Sex', 'Age Group', 'Offence Group', 'Outcome', 'Custodial Sentence Length','Count'] \n",
    "# df_2009 = utils.loadData('../womens-pfa-analysis/data/external/court-outcomes-by-PFA-2019.csv', cols=cols_2009)\n",
    "\n",
    "# #Dropping duplicate data from 2009 dataset that also appears in df\n",
    "# filt = df_2009['Year of Appearance'] < 2016\n",
    "# df_2009 = df_2009[filt].copy()\n",
    "\n",
    "# Defining datasets to iterate through in following section\n",
    "# df_list = utils.dataframeList(locals()) #Using locals() function to retrieve local symbol table. Note this outputs a complex list, and is no longer a DataFrame.\n",
    "\n",
    "## DATA CLEANING PROCESS\n",
    "\n",
    "# Renaming columns\n",
    "utils.lcColumns(df)\n",
    "utils.renameColumns(df, columns={\n",
    "    'year_of_appearance': 'year',\n",
    "    'offence_group': 'offence',\n",
    "    'police_force_area': 'pfa',\n",
    "    'sentence_outcome': 'outcome',\n",
    "    'custodial_sentence_length': 'sentence_length',\n",
    "    'sentenced': 'freq',\n",
    "    'count': 'freq'}\n",
    "    )\n",
    "\n",
    "# Tidying elements into one DataFrame\n",
    "utils.tidy_elements(df)\n",
    "\n",
    "# Reordering columns\n",
    "column_order = ['year', 'pfa', 'sex', 'age_group', 'offence', 'outcome', 'sentence_length', 'freq']\n",
    "df = df.reindex(columns=column_order)\n",
    "\n",
    "# Setting categorical columns\n",
    "convert_dict = {'outcome': \"category\",\n",
    "                'sentence_length': \"category\"\n",
    "                }\n",
    "df = df.astype(convert_dict)\n",
    "\n",
    "# Setting outcomes to lowercase\n",
    "df['outcome'] = df['outcome'].str.capitalize()\n",
    "\n",
    "## FILTERING DATASET\n",
    "filt1 = df['sex'] == 'Female'\n",
    "filt2 = df['outcome'].isin(['Immediate custody', 'Community sentence','Suspended sentence'])\n",
    "filt3 = df['age_group'].isin([\"Adults\", \"Young adults\"])\n",
    "filt4 = df['pfa'].isin([\"Special/miscellaneous and unknown police forces\", \"City of London\", \"Not known\"])\n",
    "filt = filt1 & filt2 & filt3 & ~filt4\n",
    "women_dataset = df[filt].sort_values(['year', 'pfa']).copy()"
   ]
  },
  {
   "cell_type": "code",
   "execution_count": null,
   "metadata": {},
   "outputs": [],
   "source": [
    "for year in women_dataset['year'].unique():\n",
    "    sentenced_sum = women_dataset.query(f'year=={year}')['freq'].sum()\n",
    "    if sentenced_sum > 0:\n",
    "        print(year, sentenced_sum)"
   ]
  },
  {
   "cell_type": "code",
   "execution_count": null,
   "metadata": {},
   "outputs": [],
   "source": [
    "for year in women_dataset['year'].unique():\n",
    "    sentenced_sum = women_dataset.query(f'year=={year}')['freq'].sum()\n",
    "    if sentenced_sum > 0:\n",
    "        print(year, sentenced_sum)"
   ]
  },
  {
   "cell_type": "code",
   "execution_count": null,
   "metadata": {},
   "outputs": [],
   "source": [
    "women_dataset.to_csv('data/interim/TESTING_PFA_2010-22_women_cust_comm_sus.csv', index=False)"
   ]
  },
  {
   "cell_type": "code",
   "execution_count": null,
   "metadata": {},
   "outputs": [],
   "source": [
    "women_dataset.to_csv('data/interim/TESTING_PFA_2010-22_women_cust_comm_sus.csv', index=False)"
   ]
  },
  {
   "attachments": {},
   "cell_type": "markdown",
   "metadata": {},
   "source": [
    "Think I will add 2009 data back in from the other file next, just for continuity."
   ]
  },
  {
   "cell_type": "code",
   "execution_count": 3,
   "metadata": {},
   "outputs": [],
   "source": [
    "## Collecting file paths with glob\n",
    "\n",
    "path=\"data/external/obo_sent_pivot_2010_2022/\"\n",
    "all_files = glob.glob(path + \"*.csv\")\n",
    "\n",
    "\n",
    "## IMPORTING DATASETS ##\n",
    "# 1. Sentencing data 2010–22 \n",
    "# (from: https://assets.publishing.service.gov.uk/government/uploads/system/uploads/attachment_data/file/1157979/obo_sent_pivot_2010_2015.zip and \n",
    "# https://assets.publishing.service.gov.uk/government/uploads/system/uploads/attachment_data/file/1157991/obo_sent_pivot_2016_2022.zip)\n",
    "\n",
    "cols = ['Police Force Area', 'Year', 'Sex', 'Age group', 'Offence group', 'Sentence Outcome', 'Custodial Sentence Length','Sentenced']\n",
    "all_csvs = [utils.loadData(filename, cols=cols) for filename in all_files]\n",
    "df = pd.concat(all_csvs, axis=0, ignore_index=True)\n",
    "\n",
    "# 2. Court outcomes by police force area 2009–2019 (from: https://assets.publishing.service.gov.uk/government/uploads/system/uploads/attachment_data/file/888561/csvs-behind-data-tools-2-2019.zip)\n",
    "cols_2009 =['Police Force Area', 'Year of Appearance', 'Sex', 'Age Group', 'Offence Group', 'Outcome', 'Custodial Sentence Length','Count'] \n",
    "df_2009 = utils.loadData('../womens-pfa-analysis/data/external/court-outcomes-by-PFA-2019.csv', cols=cols_2009)\n",
    "\n",
    "#Dropping duplicate data from 2009 dataset that also appears in df\n",
    "filt = df_2009['Year of Appearance'] == 2009\n",
    "df_2009 = df_2009[filt].copy()\n",
    "\n",
    "# Defining datasets to iterate through in following section\n",
    "df_list = utils.dataframeList(locals()) #Using locals() function to retrieve local symbol table. Note this outputs a complex list, and is no longer a DataFrame.\n",
    "\n",
    "## DATA CLEANING PROCESS\n",
    "\n",
    "# Renaming columns\n",
    "for data in df_list:\n",
    "    utils.lcColumns(data)\n",
    "    utils.renameColumns(data, columns={\n",
    "        'year_of_appearance': 'year',\n",
    "        'offence_group': 'offence',\n",
    "        'police_force_area': 'pfa',\n",
    "        'sentence_outcome': 'outcome',\n",
    "        'custodial_sentence_length': 'sentence_length',\n",
    "        'sentenced': 'freq',\n",
    "        'count': 'freq'}\n",
    "        )\n",
    "\n",
    "# Joining and tidying elements into one DataFrame\n",
    "df_combined = pd.concat(df_list)\n",
    "utils.tidy_elements(df_combined)\n",
    "\n",
    "# Reordering columns\n",
    "column_order = ['year', 'pfa', 'sex', 'age_group', 'offence', 'outcome', 'sentence_length', 'freq']\n",
    "df_combined = df_combined.reindex(columns=column_order)\n",
    "\n",
    "# Setting categorical columns\n",
    "convert_dict = {'outcome': \"category\",\n",
    "                'sentence_length': \"category\"\n",
    "                }\n",
    "df_combined = df_combined.astype(convert_dict)\n",
    "\n",
    "# Setting outcomes to lowercase\n",
    "df_combined['outcome'] = df_combined['outcome'].str.capitalize()\n",
    "\n",
    "## FILTERING DATASET\n",
    "filt1 = df_combined['sex'] == 'Female'\n",
    "filt2 = df_combined['outcome'].isin(['Immediate custody', 'Community sentence','Suspended sentence'])\n",
    "filt3 = df_combined['age_group'].isin([\"Adults\", \"Young adults\"])\n",
    "filt4 = df_combined['pfa'].isin([\"Special/miscellaneous and unknown police forces\", \"City of London\", \"Not known\"])\n",
    "filt = filt1 & filt2 & filt3 & ~filt4\n",
    "women_dataset = df_combined[filt].sort_values(['year', 'pfa']).copy()\n",
    "\n",
    "## OUTPUTTING INTERIM DATASET FOR FURTHER ANALYSIS\n",
    "# women_dataset.to_csv('data/interim/TESTING_PFA_2010-22_women_cust_comm_sus.csv', index=False)"
   ]
  },
  {
   "attachments": {},
   "cell_type": "markdown",
   "metadata": {},
   "source": [
    "Checking issue with 2009"
   ]
  },
  {
   "cell_type": "code",
   "execution_count": null,
   "metadata": {},
   "outputs": [],
   "source": []
  },
  {
   "cell_type": "code",
   "execution_count": 16,
   "metadata": {},
   "outputs": [
    {
     "data": {
      "text/html": [
       "<div>\n",
       "<style scoped>\n",
       "    .dataframe tbody tr th:only-of-type {\n",
       "        vertical-align: middle;\n",
       "    }\n",
       "\n",
       "    .dataframe tbody tr th {\n",
       "        vertical-align: top;\n",
       "    }\n",
       "\n",
       "    .dataframe thead th {\n",
       "        text-align: right;\n",
       "    }\n",
       "</style>\n",
       "<table border=\"1\" class=\"dataframe\">\n",
       "  <thead>\n",
       "    <tr style=\"text-align: right;\">\n",
       "      <th></th>\n",
       "      <th>Police Force Area</th>\n",
       "      <th>Year of Appearance</th>\n",
       "      <th>Sex</th>\n",
       "      <th>Age Group</th>\n",
       "      <th>Offence Group</th>\n",
       "      <th>Outcome</th>\n",
       "      <th>Custodial Sentence Length</th>\n",
       "      <th>Count</th>\n",
       "    </tr>\n",
       "  </thead>\n",
       "  <tbody>\n",
       "    <tr>\n",
       "      <th>0</th>\n",
       "      <td>Avon and Somerset</td>\n",
       "      <td>2009</td>\n",
       "      <td>01: Male</td>\n",
       "      <td>01: Children</td>\n",
       "      <td>04: Theft Offences</td>\n",
       "      <td>13: Community sentence</td>\n",
       "      <td>NaN</td>\n",
       "      <td>1</td>\n",
       "    </tr>\n",
       "    <tr>\n",
       "      <th>1</th>\n",
       "      <td>Avon and Somerset</td>\n",
       "      <td>2009</td>\n",
       "      <td>01: Male</td>\n",
       "      <td>01: Children</td>\n",
       "      <td>03: Robbery</td>\n",
       "      <td>13: Community sentence</td>\n",
       "      <td>NaN</td>\n",
       "      <td>1</td>\n",
       "    </tr>\n",
       "    <tr>\n",
       "      <th>2</th>\n",
       "      <td>Avon and Somerset</td>\n",
       "      <td>2009</td>\n",
       "      <td>01: Male</td>\n",
       "      <td>01: Children</td>\n",
       "      <td>11: Summary non-motoring</td>\n",
       "      <td>13: Community sentence</td>\n",
       "      <td>NaN</td>\n",
       "      <td>1</td>\n",
       "    </tr>\n",
       "    <tr>\n",
       "      <th>3</th>\n",
       "      <td>Avon and Somerset</td>\n",
       "      <td>2009</td>\n",
       "      <td>01: Male</td>\n",
       "      <td>01: Children</td>\n",
       "      <td>11: Summary non-motoring</td>\n",
       "      <td>13: Community sentence</td>\n",
       "      <td>NaN</td>\n",
       "      <td>1</td>\n",
       "    </tr>\n",
       "    <tr>\n",
       "      <th>4</th>\n",
       "      <td>Avon and Somerset</td>\n",
       "      <td>2009</td>\n",
       "      <td>01: Male</td>\n",
       "      <td>01: Children</td>\n",
       "      <td>01: Violence against the person</td>\n",
       "      <td>08: Committed for trial</td>\n",
       "      <td>NaN</td>\n",
       "      <td>1</td>\n",
       "    </tr>\n",
       "    <tr>\n",
       "      <th>...</th>\n",
       "      <td>...</td>\n",
       "      <td>...</td>\n",
       "      <td>...</td>\n",
       "      <td>...</td>\n",
       "      <td>...</td>\n",
       "      <td>...</td>\n",
       "      <td>...</td>\n",
       "      <td>...</td>\n",
       "    </tr>\n",
       "    <tr>\n",
       "      <th>4102850</th>\n",
       "      <td>Wiltshire</td>\n",
       "      <td>2019</td>\n",
       "      <td>03: Companies, public bodies etc.</td>\n",
       "      <td>04: Companies, public bodies etc.</td>\n",
       "      <td>12: Summary motoring</td>\n",
       "      <td>04: Withdrawn</td>\n",
       "      <td>NaN</td>\n",
       "      <td>1</td>\n",
       "    </tr>\n",
       "    <tr>\n",
       "      <th>4102851</th>\n",
       "      <td>Wiltshire</td>\n",
       "      <td>2019</td>\n",
       "      <td>03: Companies, public bodies etc.</td>\n",
       "      <td>04: Companies, public bodies etc.</td>\n",
       "      <td>12: Summary motoring</td>\n",
       "      <td>12: Fine</td>\n",
       "      <td>NaN</td>\n",
       "      <td>1</td>\n",
       "    </tr>\n",
       "    <tr>\n",
       "      <th>4102852</th>\n",
       "      <td>Wiltshire</td>\n",
       "      <td>2019</td>\n",
       "      <td>03: Companies, public bodies etc.</td>\n",
       "      <td>04: Companies, public bodies etc.</td>\n",
       "      <td>12: Summary motoring</td>\n",
       "      <td>04: Withdrawn</td>\n",
       "      <td>NaN</td>\n",
       "      <td>2</td>\n",
       "    </tr>\n",
       "    <tr>\n",
       "      <th>4102853</th>\n",
       "      <td>Wiltshire</td>\n",
       "      <td>2019</td>\n",
       "      <td>03: Companies, public bodies etc.</td>\n",
       "      <td>04: Companies, public bodies etc.</td>\n",
       "      <td>11: Summary non-motoring</td>\n",
       "      <td>12: Fine</td>\n",
       "      <td>NaN</td>\n",
       "      <td>10</td>\n",
       "    </tr>\n",
       "    <tr>\n",
       "      <th>4102854</th>\n",
       "      <td>Wiltshire</td>\n",
       "      <td>2019</td>\n",
       "      <td>03: Companies, public bodies etc.</td>\n",
       "      <td>04: Companies, public bodies etc.</td>\n",
       "      <td>11: Summary non-motoring</td>\n",
       "      <td>04: Withdrawn</td>\n",
       "      <td>NaN</td>\n",
       "      <td>15</td>\n",
       "    </tr>\n",
       "  </tbody>\n",
       "</table>\n",
       "<p>4102855 rows × 8 columns</p>\n",
       "</div>"
      ],
      "text/plain": [
       "         Police Force Area  Year of Appearance   \n",
       "0        Avon and Somerset                2009  \\\n",
       "1        Avon and Somerset                2009   \n",
       "2        Avon and Somerset                2009   \n",
       "3        Avon and Somerset                2009   \n",
       "4        Avon and Somerset                2009   \n",
       "...                    ...                 ...   \n",
       "4102850          Wiltshire                2019   \n",
       "4102851          Wiltshire                2019   \n",
       "4102852          Wiltshire                2019   \n",
       "4102853          Wiltshire                2019   \n",
       "4102854          Wiltshire                2019   \n",
       "\n",
       "                                       Sex                          Age Group   \n",
       "0                                 01: Male                       01: Children  \\\n",
       "1                                 01: Male                       01: Children   \n",
       "2                                 01: Male                       01: Children   \n",
       "3                                 01: Male                       01: Children   \n",
       "4                                 01: Male                       01: Children   \n",
       "...                                    ...                                ...   \n",
       "4102850  03: Companies, public bodies etc.  04: Companies, public bodies etc.   \n",
       "4102851  03: Companies, public bodies etc.  04: Companies, public bodies etc.   \n",
       "4102852  03: Companies, public bodies etc.  04: Companies, public bodies etc.   \n",
       "4102853  03: Companies, public bodies etc.  04: Companies, public bodies etc.   \n",
       "4102854  03: Companies, public bodies etc.  04: Companies, public bodies etc.   \n",
       "\n",
       "                           Offence Group                  Outcome   \n",
       "0                     04: Theft Offences   13: Community sentence  \\\n",
       "1                            03: Robbery   13: Community sentence   \n",
       "2               11: Summary non-motoring   13: Community sentence   \n",
       "3               11: Summary non-motoring   13: Community sentence   \n",
       "4        01: Violence against the person  08: Committed for trial   \n",
       "...                                  ...                      ...   \n",
       "4102850             12: Summary motoring            04: Withdrawn   \n",
       "4102851             12: Summary motoring                 12: Fine   \n",
       "4102852             12: Summary motoring            04: Withdrawn   \n",
       "4102853         11: Summary non-motoring                 12: Fine   \n",
       "4102854         11: Summary non-motoring            04: Withdrawn   \n",
       "\n",
       "        Custodial Sentence Length  Count  \n",
       "0                             NaN      1  \n",
       "1                             NaN      1  \n",
       "2                             NaN      1  \n",
       "3                             NaN      1  \n",
       "4                             NaN      1  \n",
       "...                           ...    ...  \n",
       "4102850                       NaN      1  \n",
       "4102851                       NaN      1  \n",
       "4102852                       NaN      2  \n",
       "4102853                       NaN     10  \n",
       "4102854                       NaN     15  \n",
       "\n",
       "[4102855 rows x 8 columns]"
      ]
     },
     "execution_count": 16,
     "metadata": {},
     "output_type": "execute_result"
    }
   ],
   "source": [
    "# 2. Court outcomes by police force area 2009–2019 (from: https://assets.publishing.service.gov.uk/government/uploads/system/uploads/attachment_data/file/888561/csvs-behind-data-tools-2-2019.zip)\n",
    "cols_2009 =['Police Force Area', 'Year of Appearance', 'Sex', 'Age Group', 'Offence Group', 'Outcome', 'Custodial Sentence Length','Count'] \n",
    "df_2009 = utils.loadData('../womens-pfa-analysis/data/external/court-outcomes-by-PFA-2019.csv', cols=cols_2009)\n",
    "df_2009"
   ]
  },
  {
   "cell_type": "code",
   "execution_count": 17,
   "metadata": {},
   "outputs": [],
   "source": [
    "# Renaming columns\n",
    "utils.lcColumns(df_2009)\n",
    "utils.renameColumns(df_2009, columns={\n",
    "    'year_of_appearance': 'year',\n",
    "    'offence_group': 'offence',\n",
    "    'police_force_area': 'pfa',\n",
    "    'sentence_outcome': 'outcome',\n",
    "    'custodial_sentence_length': 'sentence_length',\n",
    "    'sentenced': 'freq',\n",
    "    'count': 'freq'}\n",
    "    )\n",
    "utils.tidy_elements(df_2009)"
   ]
  },
  {
   "cell_type": "code",
   "execution_count": 18,
   "metadata": {},
   "outputs": [
    {
     "data": {
      "text/html": [
       "<div>\n",
       "<style scoped>\n",
       "    .dataframe tbody tr th:only-of-type {\n",
       "        vertical-align: middle;\n",
       "    }\n",
       "\n",
       "    .dataframe tbody tr th {\n",
       "        vertical-align: top;\n",
       "    }\n",
       "\n",
       "    .dataframe thead th {\n",
       "        text-align: right;\n",
       "    }\n",
       "</style>\n",
       "<table border=\"1\" class=\"dataframe\">\n",
       "  <thead>\n",
       "    <tr style=\"text-align: right;\">\n",
       "      <th></th>\n",
       "      <th>pfa</th>\n",
       "      <th>year</th>\n",
       "      <th>sex</th>\n",
       "      <th>age_group</th>\n",
       "      <th>offence</th>\n",
       "      <th>outcome</th>\n",
       "      <th>sentence_length</th>\n",
       "      <th>freq</th>\n",
       "    </tr>\n",
       "  </thead>\n",
       "  <tbody>\n",
       "    <tr>\n",
       "      <th>0</th>\n",
       "      <td>Avon and Somerset</td>\n",
       "      <td>2009</td>\n",
       "      <td>Male</td>\n",
       "      <td>Children</td>\n",
       "      <td>Theft Offences</td>\n",
       "      <td>Community sentence</td>\n",
       "      <td>NaN</td>\n",
       "      <td>1</td>\n",
       "    </tr>\n",
       "    <tr>\n",
       "      <th>1</th>\n",
       "      <td>Avon and Somerset</td>\n",
       "      <td>2009</td>\n",
       "      <td>Male</td>\n",
       "      <td>Children</td>\n",
       "      <td>Robbery</td>\n",
       "      <td>Community sentence</td>\n",
       "      <td>NaN</td>\n",
       "      <td>1</td>\n",
       "    </tr>\n",
       "    <tr>\n",
       "      <th>2</th>\n",
       "      <td>Avon and Somerset</td>\n",
       "      <td>2009</td>\n",
       "      <td>Male</td>\n",
       "      <td>Children</td>\n",
       "      <td>Summary non-motoring</td>\n",
       "      <td>Community sentence</td>\n",
       "      <td>NaN</td>\n",
       "      <td>1</td>\n",
       "    </tr>\n",
       "    <tr>\n",
       "      <th>3</th>\n",
       "      <td>Avon and Somerset</td>\n",
       "      <td>2009</td>\n",
       "      <td>Male</td>\n",
       "      <td>Children</td>\n",
       "      <td>Summary non-motoring</td>\n",
       "      <td>Community sentence</td>\n",
       "      <td>NaN</td>\n",
       "      <td>1</td>\n",
       "    </tr>\n",
       "    <tr>\n",
       "      <th>4</th>\n",
       "      <td>Avon and Somerset</td>\n",
       "      <td>2009</td>\n",
       "      <td>Male</td>\n",
       "      <td>Children</td>\n",
       "      <td>Violence against the person</td>\n",
       "      <td>Committed for trial</td>\n",
       "      <td>NaN</td>\n",
       "      <td>1</td>\n",
       "    </tr>\n",
       "    <tr>\n",
       "      <th>...</th>\n",
       "      <td>...</td>\n",
       "      <td>...</td>\n",
       "      <td>...</td>\n",
       "      <td>...</td>\n",
       "      <td>...</td>\n",
       "      <td>...</td>\n",
       "      <td>...</td>\n",
       "      <td>...</td>\n",
       "    </tr>\n",
       "    <tr>\n",
       "      <th>4102850</th>\n",
       "      <td>Wiltshire</td>\n",
       "      <td>2019</td>\n",
       "      <td>Companies, public bodies etc.</td>\n",
       "      <td>Companies, public bodies etc.</td>\n",
       "      <td>Summary motoring</td>\n",
       "      <td>Withdrawn</td>\n",
       "      <td>NaN</td>\n",
       "      <td>1</td>\n",
       "    </tr>\n",
       "    <tr>\n",
       "      <th>4102851</th>\n",
       "      <td>Wiltshire</td>\n",
       "      <td>2019</td>\n",
       "      <td>Companies, public bodies etc.</td>\n",
       "      <td>Companies, public bodies etc.</td>\n",
       "      <td>Summary motoring</td>\n",
       "      <td>Fine</td>\n",
       "      <td>NaN</td>\n",
       "      <td>1</td>\n",
       "    </tr>\n",
       "    <tr>\n",
       "      <th>4102852</th>\n",
       "      <td>Wiltshire</td>\n",
       "      <td>2019</td>\n",
       "      <td>Companies, public bodies etc.</td>\n",
       "      <td>Companies, public bodies etc.</td>\n",
       "      <td>Summary motoring</td>\n",
       "      <td>Withdrawn</td>\n",
       "      <td>NaN</td>\n",
       "      <td>2</td>\n",
       "    </tr>\n",
       "    <tr>\n",
       "      <th>4102853</th>\n",
       "      <td>Wiltshire</td>\n",
       "      <td>2019</td>\n",
       "      <td>Companies, public bodies etc.</td>\n",
       "      <td>Companies, public bodies etc.</td>\n",
       "      <td>Summary non-motoring</td>\n",
       "      <td>Fine</td>\n",
       "      <td>NaN</td>\n",
       "      <td>10</td>\n",
       "    </tr>\n",
       "    <tr>\n",
       "      <th>4102854</th>\n",
       "      <td>Wiltshire</td>\n",
       "      <td>2019</td>\n",
       "      <td>Companies, public bodies etc.</td>\n",
       "      <td>Companies, public bodies etc.</td>\n",
       "      <td>Summary non-motoring</td>\n",
       "      <td>Withdrawn</td>\n",
       "      <td>NaN</td>\n",
       "      <td>15</td>\n",
       "    </tr>\n",
       "  </tbody>\n",
       "</table>\n",
       "<p>4102855 rows × 8 columns</p>\n",
       "</div>"
      ],
      "text/plain": [
       "                       pfa  year                            sex   \n",
       "0        Avon and Somerset  2009                           Male  \\\n",
       "1        Avon and Somerset  2009                           Male   \n",
       "2        Avon and Somerset  2009                           Male   \n",
       "3        Avon and Somerset  2009                           Male   \n",
       "4        Avon and Somerset  2009                           Male   \n",
       "...                    ...   ...                            ...   \n",
       "4102850          Wiltshire  2019  Companies, public bodies etc.   \n",
       "4102851          Wiltshire  2019  Companies, public bodies etc.   \n",
       "4102852          Wiltshire  2019  Companies, public bodies etc.   \n",
       "4102853          Wiltshire  2019  Companies, public bodies etc.   \n",
       "4102854          Wiltshire  2019  Companies, public bodies etc.   \n",
       "\n",
       "                             age_group                      offence   \n",
       "0                             Children               Theft Offences  \\\n",
       "1                             Children                      Robbery   \n",
       "2                             Children         Summary non-motoring   \n",
       "3                             Children         Summary non-motoring   \n",
       "4                             Children  Violence against the person   \n",
       "...                                ...                          ...   \n",
       "4102850  Companies, public bodies etc.             Summary motoring   \n",
       "4102851  Companies, public bodies etc.             Summary motoring   \n",
       "4102852  Companies, public bodies etc.             Summary motoring   \n",
       "4102853  Companies, public bodies etc.         Summary non-motoring   \n",
       "4102854  Companies, public bodies etc.         Summary non-motoring   \n",
       "\n",
       "                     outcome sentence_length  freq  \n",
       "0         Community sentence             NaN     1  \n",
       "1         Community sentence             NaN     1  \n",
       "2         Community sentence             NaN     1  \n",
       "3         Community sentence             NaN     1  \n",
       "4        Committed for trial             NaN     1  \n",
       "...                      ...             ...   ...  \n",
       "4102850            Withdrawn             NaN     1  \n",
       "4102851                 Fine             NaN     1  \n",
       "4102852            Withdrawn             NaN     2  \n",
       "4102853                 Fine             NaN    10  \n",
       "4102854            Withdrawn             NaN    15  \n",
       "\n",
       "[4102855 rows x 8 columns]"
      ]
     },
     "execution_count": 18,
     "metadata": {},
     "output_type": "execute_result"
    }
   ],
   "source": [
    "df_2009"
   ]
  },
  {
   "cell_type": "code",
   "execution_count": 23,
   "metadata": {},
   "outputs": [],
   "source": [
    "# Reordering columns\n",
    "column_order = ['year', 'pfa', 'sex', 'age_group', 'offence', 'outcome', 'sentence_length', 'freq']\n",
    "df_2009 = df_2009.reindex(columns=column_order)\n",
    "\n",
    "# Setting categorical columns\n",
    "convert_dict = {'outcome': \"category\",\n",
    "                'sentence_length': \"category\"\n",
    "                }\n",
    "df_2009 = df_2009.astype(convert_dict)\n",
    "\n",
    "# Setting outcomes to lowercase\n",
    "df_2009['outcome'] = df_2009['outcome'].str.capitalize()\n",
    "\n",
    "## FILTERING DATASET\n",
    "filt1 = df_2009['sex'] == 'Female'\n",
    "filt2 = df_2009['outcome'].isin(['Immediate custody', 'Community sentence','Suspended sentence'])\n",
    "filt3 = df_2009['age_group'].isin([\"Adults\", \"Young adults\"])\n",
    "filt4 = df_2009['pfa'].isin([\"Special/miscellaneous and unknown police forces\", \"City of London\", \"Not known\"])\n",
    "filt = filt1 & filt2 & filt3 & ~filt4\n",
    "df_2009 = df_2009[filt].sort_values(['year', 'pfa']).copy()"
   ]
  },
  {
   "cell_type": "code",
   "execution_count": 27,
   "metadata": {},
   "outputs": [
    {
     "data": {
      "text/plain": [
       "sentence_length\n",
       "12 months                                   41\n",
       "4 Years                                     15\n",
       "6 months                                    49\n",
       "Imprisonment for public protection           2\n",
       "Life sentence                                0\n",
       "More than 1 month and up to 2 months       189\n",
       "More than 10 years and up to 15 years        0\n",
       "More than 12 months and up to 18 months     61\n",
       "More than 15 years and less than life        0\n",
       "More than 18 months and up to 2 years       45\n",
       "More than 2 months and up to 3 months       98\n",
       "More than 2 years and up to 3 years         77\n",
       "More than 3 months and under 6 months      137\n",
       "More than 3 years and under 4 years         18\n",
       "More than 4 years and up to 5 years         13\n",
       "More than 5 years and up to 6 years          9\n",
       "More than 6 months and up to 9 months       45\n",
       "More than 6 years and up to 7 years          4\n",
       "More than 7 years and up to 8 years          7\n",
       "More than 8 years and up to 9 years          0\n",
       "More than 9 months and under 12 months       9\n",
       "More than 9 years and up to 10 years         3\n",
       "Up to 1 month                              368\n",
       "Name: freq, dtype: int64"
      ]
     },
     "execution_count": 27,
     "metadata": {},
     "output_type": "execute_result"
    }
   ],
   "source": [
    "df_2009.query('pfa == \"Cleveland\" & outcome == \"Immediate custody\"').groupby(['sentence_length'])['freq'].sum()"
   ]
  },
  {
   "cell_type": "markdown",
   "metadata": {},
   "source": [
    "Right, following further inspection in `script_testing.ipynb` I suspect that the issue is a combination of two factors:\n",
    "1. My `tidy_elements()` function removing \"and including\" from the sentence lengths\n",
    "2. That I should not be combining with the earlier 2009 dataset—as MoJ explictly warns not to do this and that the new 2010+ are the single source of truth\n",
    "\n",
    "After updating `tidy_elements()` I'm going to try consolidating the code below and running again."
   ]
  },
  {
   "cell_type": "code",
   "execution_count": 2,
   "metadata": {},
   "outputs": [],
   "source": [
    "import src.data.utilities as utils\n",
    "%load_ext autoreload\n",
    "%autoreload 2\n",
    "\n",
    "import pandas as pd\n",
    "import glob"
   ]
  },
  {
   "cell_type": "code",
   "execution_count": 3,
   "metadata": {},
   "outputs": [],
   "source": [
    "## Collecting file paths with glob\n",
    "\n",
    "path=\"data/external/obo_sent_pivot_2010_2022/\"\n",
    "all_files = glob.glob(path + \"*.csv\")\n",
    "\n",
    "\n",
    "## IMPORTING DATASETS ##\n",
    "\n",
    "# 1. Sentencing data 2010–22 \n",
    "# (from: https://assets.publishing.service.gov.uk/government/uploads/system/uploads/attachment_data/file/1157979/obo_sent_pivot_2010_2015.zip and \n",
    "# https://assets.publishing.service.gov.uk/government/uploads/system/uploads/attachment_data/file/1157991/obo_sent_pivot_2016_2022.zip)\n",
    "\n",
    "cols = ['Police Force Area', 'Year', 'Sex', 'Age group', 'Offence group', 'Sentence Outcome', 'Custodial Sentence Length','Sentenced']\n",
    "all_csvs = [utils.loadData(filename, cols=cols) for filename in all_files]\n",
    "df = pd.concat(all_csvs, axis=0, ignore_index=True)\n",
    "\n",
    "\n",
    "## DATA CLEANING PROCESS\n",
    "\n",
    "# Renaming columns\n",
    "utils.lcColumns(df)\n",
    "utils.renameColumns(df, columns={\n",
    "    'year_of_appearance': 'year',\n",
    "    'offence_group': 'offence',\n",
    "    'police_force_area': 'pfa',\n",
    "    'sentence_outcome': 'outcome',\n",
    "    'custodial_sentence_length': 'sentence_length',\n",
    "    'sentenced': 'freq',\n",
    "    'count': 'freq'}\n",
    "    )\n",
    "\n",
    "# Tidying elements using regex function\n",
    "utils.tidy_elements(df)\n",
    "\n",
    "# Reordering columns\n",
    "column_order = ['year', 'pfa', 'sex', 'age_group', 'offence', 'outcome', 'sentence_length', 'freq']\n",
    "df = df.reindex(columns=column_order)\n",
    "\n",
    "# Setting categorical columns\n",
    "convert_dict = {'outcome': \"category\",\n",
    "                'sentence_length': \"category\"\n",
    "                }\n",
    "df = df.astype(convert_dict)\n",
    "\n",
    "# Setting outcomes to lowercase\n",
    "df['outcome'] = df['outcome'].str.capitalize()\n",
    "\n",
    "## FILTERING DATASET\n",
    "filt1 = df['sex'] == 'Female'\n",
    "filt2 = df['outcome'].isin(['Immediate custody', 'Community sentence','Suspended sentence'])\n",
    "filt3 = df['age_group'].isin([\"Adults\", \"Young adults\"])\n",
    "filt4 = df['pfa'].isin([\"City of London\", \"Not known\"])\n",
    "filt = filt1 & filt2 & filt3 & ~filt4\n",
    "women_dataset = df[filt].sort_values(['year', 'pfa']).copy()"
   ]
  },
  {
   "attachments": {},
   "cell_type": "markdown",
   "metadata": {},
   "source": [
    "Checking `freq` values against those in `df_orig`—the previous dataset"
   ]
  },
  {
   "cell_type": "code",
   "execution_count": 6,
   "metadata": {},
   "outputs": [
    {
     "data": {
      "text/html": [
       "<div>\n",
       "<style scoped>\n",
       "    .dataframe tbody tr th:only-of-type {\n",
       "        vertical-align: middle;\n",
       "    }\n",
       "\n",
       "    .dataframe tbody tr th {\n",
       "        vertical-align: top;\n",
       "    }\n",
       "\n",
       "    .dataframe thead th {\n",
       "        text-align: right;\n",
       "    }\n",
       "</style>\n",
       "<table border=\"1\" class=\"dataframe\">\n",
       "  <thead>\n",
       "    <tr style=\"text-align: right;\">\n",
       "      <th></th>\n",
       "      <th>year</th>\n",
       "      <th>pfa</th>\n",
       "      <th>sex</th>\n",
       "      <th>age_group</th>\n",
       "      <th>offence</th>\n",
       "      <th>outcome</th>\n",
       "      <th>sentence_len</th>\n",
       "      <th>freq</th>\n",
       "    </tr>\n",
       "  </thead>\n",
       "  <tbody>\n",
       "    <tr>\n",
       "      <th>0</th>\n",
       "      <td>2009</td>\n",
       "      <td>Avon and Somerset</td>\n",
       "      <td>Female</td>\n",
       "      <td>Young adults</td>\n",
       "      <td>Violence against the person</td>\n",
       "      <td>Community sentence</td>\n",
       "      <td>NaN</td>\n",
       "      <td>2</td>\n",
       "    </tr>\n",
       "    <tr>\n",
       "      <th>1</th>\n",
       "      <td>2009</td>\n",
       "      <td>Avon and Somerset</td>\n",
       "      <td>Female</td>\n",
       "      <td>Young adults</td>\n",
       "      <td>Violence against the person</td>\n",
       "      <td>Suspended sentence</td>\n",
       "      <td>NaN</td>\n",
       "      <td>1</td>\n",
       "    </tr>\n",
       "    <tr>\n",
       "      <th>2</th>\n",
       "      <td>2009</td>\n",
       "      <td>Avon and Somerset</td>\n",
       "      <td>Female</td>\n",
       "      <td>Young adults</td>\n",
       "      <td>Violence against the person</td>\n",
       "      <td>Suspended sentence</td>\n",
       "      <td>NaN</td>\n",
       "      <td>1</td>\n",
       "    </tr>\n",
       "    <tr>\n",
       "      <th>3</th>\n",
       "      <td>2009</td>\n",
       "      <td>Avon and Somerset</td>\n",
       "      <td>Female</td>\n",
       "      <td>Young adults</td>\n",
       "      <td>Public order offences</td>\n",
       "      <td>Community sentence</td>\n",
       "      <td>NaN</td>\n",
       "      <td>1</td>\n",
       "    </tr>\n",
       "    <tr>\n",
       "      <th>4</th>\n",
       "      <td>2009</td>\n",
       "      <td>Avon and Somerset</td>\n",
       "      <td>Female</td>\n",
       "      <td>Young adults</td>\n",
       "      <td>Miscellaneous crimes against society</td>\n",
       "      <td>Community sentence</td>\n",
       "      <td>NaN</td>\n",
       "      <td>1</td>\n",
       "    </tr>\n",
       "  </tbody>\n",
       "</table>\n",
       "</div>"
      ],
      "text/plain": [
       "   year                pfa     sex     age_group  \\\n",
       "0  2009  Avon and Somerset  Female  Young adults   \n",
       "1  2009  Avon and Somerset  Female  Young adults   \n",
       "2  2009  Avon and Somerset  Female  Young adults   \n",
       "3  2009  Avon and Somerset  Female  Young adults   \n",
       "4  2009  Avon and Somerset  Female  Young adults   \n",
       "\n",
       "                                offence             outcome sentence_len  freq  \n",
       "0           Violence against the person  Community sentence          NaN     2  \n",
       "1           Violence against the person  Suspended sentence          NaN     1  \n",
       "2           Violence against the person  Suspended sentence          NaN     1  \n",
       "3                 Public order offences  Community sentence          NaN     1  \n",
       "4  Miscellaneous crimes against society  Community sentence          NaN     1  "
      ]
     },
     "execution_count": 6,
     "metadata": {},
     "output_type": "execute_result"
    }
   ],
   "source": [
    "df_orig = pd.read_csv('data/interim/PFA_2009-21_women_cust_comm_sus.csv')\n",
    "df_orig.head()"
   ]
  },
  {
   "cell_type": "code",
   "execution_count": 7,
   "metadata": {},
   "outputs": [
    {
     "name": "stdout",
     "output_type": "stream",
     "text": [
      "2009 36925\n",
      "2010 37966\n",
      "2011 37783\n",
      "2012 33929\n",
      "2013 31282\n",
      "2014 31124\n",
      "2015 32163\n",
      "2016 29795\n",
      "2017 28204\n",
      "2018 25698\n",
      "2019 24352\n",
      "2020 17377\n",
      "2021 20275\n"
     ]
    }
   ],
   "source": [
    "for year in df_orig['year'].unique():\n",
    "    sentenced_sum = df_orig.query(f'year=={year}')['freq'].sum()\n",
    "    if sentenced_sum > 0:\n",
    "        print(year, sentenced_sum)"
   ]
  },
  {
   "cell_type": "code",
   "execution_count": 8,
   "metadata": {},
   "outputs": [
    {
     "name": "stdout",
     "output_type": "stream",
     "text": [
      "2010 37966\n",
      "2011 37783\n",
      "2012 33929\n",
      "2013 31282\n",
      "2014 31124\n",
      "2015 32163\n",
      "2016 29795\n",
      "2017 28206\n",
      "2018 25698\n",
      "2019 24352\n",
      "2020 17377\n",
      "2021 20275\n",
      "2022 19182\n"
     ]
    }
   ],
   "source": [
    "for year in women_dataset['year'].unique():\n",
    "    sentenced_sum = women_dataset.query(f'year=={year}')['freq'].sum()\n",
    "    if sentenced_sum > 0:\n",
    "        print(year, sentenced_sum)"
   ]
  },
  {
   "attachments": {},
   "cell_type": "markdown",
   "metadata": {},
   "source": [
    "Just one very small difference in the values for 2017, which I suspect are a data revision. Everything else is looking good, so let's save out"
   ]
  },
  {
   "cell_type": "code",
   "execution_count": 5,
   "metadata": {},
   "outputs": [],
   "source": [
    "women_dataset.to_csv('data/interim/PFA_2010-22_women_cust_comm_sus.csv', index=False)"
   ]
  },
  {
   "cell_type": "code",
   "execution_count": null,
   "metadata": {},
   "outputs": [],
   "source": []
  }
 ],
 "metadata": {
  "kernelspec": {
   "display_name": "women-PFA-outcomes",
   "language": "python",
   "name": "python3"
  },
  "language_info": {
   "codemirror_mode": {
    "name": "ipython",
    "version": 3
   },
   "file_extension": ".py",
   "mimetype": "text/x-python",
   "name": "python",
   "nbconvert_exporter": "python",
   "pygments_lexer": "ipython3",
   "version": "3.9.6"
  },
  "orig_nbformat": 4
 },
 "nbformat": 4,
 "nbformat_minor": 2
}
