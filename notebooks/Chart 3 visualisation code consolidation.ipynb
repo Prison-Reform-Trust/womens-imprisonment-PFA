{
 "cells": [
  {
   "cell_type": "code",
   "execution_count": 1,
   "metadata": {},
   "outputs": [],
   "source": [
    "import pandas as pd\n",
    "import textwrap\n",
    "import plotly.graph_objs as go\n",
    "import plotly.io as pio\n",
    "from pathlib import Path #To create unique filenames for each PFA chart\n",
    "import itertools\n",
    "\n",
    "import src.data.utilities as utils\n",
    "import src.visualization.prt_theme as prt_theme\n",
    "\n",
    "config = utils.read_config()\n",
    "pio.templates.default = \"prt_template\""
   ]
  },
  {
   "cell_type": "code",
   "execution_count": 2,
   "metadata": {},
   "outputs": [],
   "source": [
    "def loadData(status='processed', filename='sentencesByPFA.csv') -> pd.DataFrame:\n",
    "    \"\"\"Load CSV file into Pandas DataFrame and convert object columns to categories when they meet criteria in `categoryColumns()`\n",
    "\n",
    "    Parameters\n",
    "    ----------\n",
    "    status : {'raw', 'interim', 'processed'}, default is 'interim'\n",
    "        Status of the data processing.\n",
    "        * If 'raw' file is located in \"rawFilePath\" within config file\n",
    "        * If 'interim', file is located in \"intFilePath\"\n",
    "        * If 'processed', file is located in \"clnFilePath\"\n",
    "    filename : str, default is 'PFA_2010-22_women_cust_comm_sus.csv'\n",
    "        Name of CSV file to be loaded.\n",
    "\n",
    "    Returns\n",
    "    -------\n",
    "    DataFrame\n",
    "        CSV data is returned as Pandas DataFrame with any eligible object columns converted into category columns to limit memory requirements\n",
    "    \"\"\"\n",
    "    paths = {\n",
    "        \"raw\": 'rawFilePath',\n",
    "        \"interim\": 'intFilePath',\n",
    "        \"processed\": 'clnFilePath'\n",
    "    }\n",
    "\n",
    "    dfPath=f\"{config['data'][paths[status]]}{filename}\"\n",
    "    df = pd.read_csv(dfPath)\n",
    "    print('Data loaded')\n",
    "    return utils.categoryColumns(df)"
   ]
  },
  {
   "cell_type": "code",
   "execution_count": 3,
   "metadata": {},
   "outputs": [
    {
     "name": "stdout",
     "output_type": "stream",
     "text": [
      "Data loaded\n"
     ]
    }
   ],
   "source": [
    "df = loadData()"
   ]
  },
  {
   "cell_type": "code",
   "execution_count": 4,
   "metadata": {},
   "outputs": [
    {
     "data": {
      "text/plain": [
       "Index(['pfa', 'year', 'outcome', 'freq'], dtype='object')"
      ]
     },
     "execution_count": 4,
     "metadata": {},
     "output_type": "execute_result"
    }
   ],
   "source": [
    "df.columns"
   ]
  },
  {
   "cell_type": "code",
   "execution_count": null,
   "metadata": {},
   "outputs": [],
   "source": []
  },
  {
   "cell_type": "code",
   "execution_count": 18,
   "metadata": {},
   "outputs": [],
   "source": [
    "for pfa in df['pfa'].unique():\n",
    "    pfa_df = df[df[\"pfa\"] == pfa]\n",
    "    trace_list = [] # Need to empty my trace_list with every loop through each PFA so that charts are plotted separately\n",
    "    fig = go.Figure() # Need to also instantiate the figure with every loop in order to clear fig.data values\n",
    "\n",
    "    for i in pfa_df[\"outcome\"].unique():  # Creating a for loop to extract unique values from the dataframe and make traces\n",
    "        pfa_df_outcome = pfa_df[pfa_df[\"outcome\"] == i]\n",
    "        \n",
    "        \n",
    "        trace = go.Bar(\n",
    "            x=pfa_df_outcome[\"year\"],\n",
    "            y=pfa_df_outcome[\"freq\"],\n",
    "            name=str(pfa_df_outcome[\"outcome\"].iloc[0]),\n",
    "            customdata=pfa_df_outcome[\"outcome\"].str.lower(),\n",
    "            hovertemplate=\"%{y} %{customdata}<extra></extra>\",\n",
    "        )\n",
    "\n",
    "        trace_list.append(trace)\n",
    "\n",
    "    fig.add_traces(trace_list)\n",
    "\n",
    "    ## Chart title\n",
    "    title = textwrap.wrap(f'<b>Sentencing of women in {pfa_df_outcome[\"pfa\"].iloc[0]} 2010–2022</b>', width=60)\n",
    "\n",
    "    fig.update_layout(\n",
    "        margin=dict(l=64, b=75, r=20),\n",
    "        barmode=\"group\",\n",
    "        title=\"<br>\".join(title),\n",
    "        title_y=0.94,\n",
    "        title_yanchor=\"bottom\",\n",
    "        yaxis_title=\"\",\n",
    "        yaxis_tick0=0,\n",
    "        yaxis_tickformat=\",.0f\",\n",
    "        xaxis_showgrid=False,\n",
    "        xaxis_tickcolor=\"#54565B\",\n",
    "        xaxis_dtick=2,\n",
    "        xaxis_tick0=2010,\n",
    "        showlegend=True,\n",
    "        hovermode=\"x\",\n",
    "        modebar_activecolor=\"#A01D28\",\n",
    "        width=655,\n",
    "        height=500,\n",
    "    )\n",
    "\n",
    "    fig.update_layout(legend=dict(\n",
    "        yanchor=\"top\",\n",
    "        y=0.99,\n",
    "        xanchor=\"right\",\n",
    "        x=1\n",
    "    ))\n",
    "\n",
    "    ## Chart annotations\n",
    "    annotations = []\n",
    "\n",
    "    # # Adding source label\n",
    "    source = prt_theme.sourceAnnotation(\"Ministry of Justice, Criminal justice statistics\", annotations)\n",
    "\n",
    "    # Adding y-axis label\n",
    "    annotations.append(\n",
    "        dict(\n",
    "            xref=\"x\",\n",
    "            yref=\"paper\",\n",
    "            x=pfa_df_outcome[\"year\"].iloc[0],\n",
    "            y=1.04,\n",
    "            align=\"left\",\n",
    "            xanchor=\"left\",\n",
    "            showarrow=False,\n",
    "            text=\"Women sentenced\",\n",
    "            font_size=12,\n",
    "        )\n",
    "    )\n",
    "\n",
    "    # Adding annotations to layout\n",
    "    fig.update_layout(annotations=annotations)\n",
    "\n",
    "\n",
    "    ## Setting chart axis ranges\n",
    "    max_y_val = 0\n",
    "    for i in range(len(fig.data)):\n",
    "        max_trace = (fig.data[i].y).max()\n",
    "        if max_trace > max_y_val:\n",
    "            max_y_val = max_trace\n",
    "\n",
    "    y_intervals = [52, 103, 204, 305, 405, 606, 909, 1210, 2020, 3040]\n",
    "    y_max_idx = min(range(len(y_intervals)), key = lambda i: abs(y_intervals[i]-max_y_val))\n",
    "    if y_intervals[y_max_idx] <= max_y_val:\n",
    "        y_max = y_intervals[y_max_idx + 1]\n",
    "    else: \n",
    "        y_max = y_intervals[y_max_idx]\n",
    "\n",
    "    \n",
    "    fig.update_yaxes(range=[0, y_max])\n",
    "    fig.update_xaxes(range=[2009.3, 2022.8])\n",
    "\n",
    "    # fig.show()\n",
    "\n",
    "    ## Exporting to static image\n",
    "\n",
    "    # Save results to ../reports/figures/cust_comm_sus_sent, generate if does not exist.\n",
    "    export_path = Path.joinpath(Path.cwd(), f\"{config['data']['outPath']}\", \"cust_comm_sus_sent\")\n",
    "    export_path.mkdir(parents=True, exist_ok=True) #generate if does not exist\n",
    "\n",
    "    # Setting filename variable and full path\n",
    "\n",
    "    filename = str(pfa_df_outcome[\"pfa\"].iloc[0])\n",
    "    export_svg_path = Path.joinpath(export_path, f'{filename}' + '.svg')\n",
    "\n",
    "    fig.write_image(export_svg_path)"
   ]
  },
  {
   "cell_type": "code",
   "execution_count": null,
   "metadata": {},
   "outputs": [],
   "source": []
  }
 ],
 "metadata": {
  "kernelspec": {
   "display_name": "women-pfa-2022",
   "language": "python",
   "name": "python3"
  },
  "language_info": {
   "codemirror_mode": {
    "name": "ipython",
    "version": 3
   },
   "file_extension": ".py",
   "mimetype": "text/x-python",
   "name": "python",
   "nbconvert_exporter": "python",
   "pygments_lexer": "ipython3",
   "version": "3.11.0"
  },
  "orig_nbformat": 4
 },
 "nbformat": 4,
 "nbformat_minor": 2
}
