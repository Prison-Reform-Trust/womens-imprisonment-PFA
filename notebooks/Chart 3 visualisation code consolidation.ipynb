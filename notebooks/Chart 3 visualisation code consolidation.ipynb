{
 "cells": [
  {
   "cell_type": "code",
   "execution_count": 1,
   "metadata": {},
   "outputs": [],
   "source": [
    "import pandas as pd\n",
    "import textwrap\n",
    "import plotly.graph_objs as go\n",
    "import plotly.io as pio\n",
    "from pathlib import Path #To create unique filenames for each PFA chart\n",
    "import itertools\n",
    "\n",
    "import src.data.utilities as utils\n",
    "import src.visualization.prt_theme as prt_theme\n",
    "\n",
    "config = utils.read_config()\n",
    "pio.templates.default = \"prt_template\""
   ]
  },
  {
   "cell_type": "code",
   "execution_count": 2,
   "metadata": {},
   "outputs": [],
   "source": [
    "def loadData(status='processed', filename='sentencesByPFA.csv') -> pd.DataFrame:\n",
    "    \"\"\"Load CSV file into Pandas DataFrame and convert object columns to categories when they meet criteria in `categoryColumns()`\n",
    "\n",
    "    Parameters\n",
    "    ----------\n",
    "    status : {'raw', 'interim', 'processed'}, default is 'interim'\n",
    "        Status of the data processing.\n",
    "        * If 'raw' file is located in \"rawFilePath\" within config file\n",
    "        * If 'interim', file is located in \"intFilePath\"\n",
    "        * If 'processed', file is located in \"clnFilePath\"\n",
    "    filename : str, default is 'PFA_2010-22_women_cust_comm_sus.csv'\n",
    "        Name of CSV file to be loaded.\n",
    "\n",
    "    Returns\n",
    "    -------\n",
    "    DataFrame\n",
    "        CSV data is returned as Pandas DataFrame with any eligible object columns converted into category columns to limit memory requirements\n",
    "    \"\"\"\n",
    "    paths = {\n",
    "        \"raw\": 'rawFilePath',\n",
    "        \"interim\": 'intFilePath',\n",
    "        \"processed\": 'clnFilePath'\n",
    "    }\n",
    "\n",
    "    dfPath=f\"{config['data'][paths[status]]}{filename}\"\n",
    "    df = pd.read_csv(dfPath)\n",
    "    print('Data loaded')\n",
    "    return utils.categoryColumns(df)"
   ]
  },
  {
   "cell_type": "code",
   "execution_count": 3,
   "metadata": {},
   "outputs": [
    {
     "name": "stdout",
     "output_type": "stream",
     "text": [
      "Data loaded\n"
     ]
    }
   ],
   "source": [
    "df = loadData()"
   ]
  },
  {
   "cell_type": "code",
   "execution_count": 4,
   "metadata": {},
   "outputs": [
    {
     "data": {
      "text/plain": [
       "Index(['pfa', 'year', 'outcome', 'freq'], dtype='object')"
      ]
     },
     "execution_count": 4,
     "metadata": {},
     "output_type": "execute_result"
    }
   ],
   "source": [
    "df.columns"
   ]
  },
  {
   "cell_type": "code",
   "execution_count": null,
   "metadata": {},
   "outputs": [],
   "source": []
  },
  {
   "cell_type": "code",
   "execution_count": 65,
   "metadata": {},
   "outputs": [
    {
     "data": {
      "application/vnd.plotly.v1+json": {
       "config": {
        "plotlyServerURL": "https://plot.ly"
       },
       "data": [
        {
         "customdata": [
          "community sentence",
          "community sentence",
          "community sentence",
          "community sentence",
          "community sentence",
          "community sentence",
          "community sentence",
          "community sentence",
          "community sentence",
          "community sentence",
          "community sentence",
          "community sentence",
          "community sentence"
         ],
         "hovertemplate": "%{y} %{customdata}<extra></extra>",
         "name": "Community sentence",
         "type": "bar",
         "x": [
          2010,
          2011,
          2012,
          2013,
          2014,
          2015,
          2016,
          2017,
          2018,
          2019,
          2020,
          2021,
          2022
         ],
         "y": [
          618,
          732,
          740,
          675,
          583,
          542,
          461,
          444,
          394,
          447,
          295,
          411,
          327
         ]
        },
        {
         "customdata": [
          "immediate custody",
          "immediate custody",
          "immediate custody",
          "immediate custody",
          "immediate custody",
          "immediate custody",
          "immediate custody",
          "immediate custody",
          "immediate custody",
          "immediate custody",
          "immediate custody",
          "immediate custody",
          "immediate custody"
         ],
         "hovertemplate": "%{y} %{customdata}<extra></extra>",
         "name": "Immediate custody",
         "type": "bar",
         "x": [
          2010,
          2011,
          2012,
          2013,
          2014,
          2015,
          2016,
          2017,
          2018,
          2019,
          2020,
          2021,
          2022
         ],
         "y": [
          173,
          206,
          169,
          177,
          196,
          165,
          164,
          158,
          148,
          151,
          103,
          103,
          116
         ]
        },
        {
         "customdata": [
          "suspended sentence",
          "suspended sentence",
          "suspended sentence",
          "suspended sentence",
          "suspended sentence",
          "suspended sentence",
          "suspended sentence",
          "suspended sentence",
          "suspended sentence",
          "suspended sentence",
          "suspended sentence",
          "suspended sentence",
          "suspended sentence"
         ],
         "hovertemplate": "%{y} %{customdata}<extra></extra>",
         "name": "Suspended sentence",
         "type": "bar",
         "x": [
          2010,
          2011,
          2012,
          2013,
          2014,
          2015,
          2016,
          2017,
          2018,
          2019,
          2020,
          2021,
          2022
         ],
         "y": [
          164,
          183,
          186,
          192,
          223,
          227,
          202,
          211,
          167,
          109,
          115,
          150,
          116
         ]
        }
       ],
       "layout": {
        "annotations": [
         {
          "font": {
           "size": 12
          },
          "showarrow": false,
          "text": "Source: Ministry of Justice, Criminal justice statistics",
          "x": -0.08,
          "xanchor": "left",
          "xref": "paper",
          "y": -0.19,
          "yanchor": "top",
          "yref": "paper"
         },
         {
          "align": "left",
          "font": {
           "size": 12
          },
          "showarrow": false,
          "text": "Women sentenced",
          "x": 2010,
          "xanchor": "left",
          "xref": "x",
          "y": 1.04,
          "yref": "paper"
         }
        ],
        "barmode": "group",
        "height": 360,
        "hovermode": "x",
        "legend": {
         "x": 1,
         "xanchor": "right",
         "y": 1.05,
         "yanchor": "top"
        },
        "margin": {
         "b": 75,
         "l": 63,
         "r": 20
        },
        "modebar": {
         "activecolor": "#A01D28"
        },
        "showlegend": true,
        "template": {
         "layout": {
          "colorway": [
           "#A01D28",
           "#499CC9",
           "#F9A237",
           "#6FBA3A",
           "#573D6B"
          ],
          "font": {
           "color": "#54565B",
           "family": "Helvetica Neue, Arial",
           "size": 12
          },
          "modebar": {
           "activecolor": "#A01D28"
          },
          "paper_bgcolor": "#F7F2F2",
          "plot_bgcolor": "#F7F2F2",
          "showlegend": false,
          "title": {
           "font": {
            "family": "Helvetica Neue, Arial",
            "size": 17
           },
           "y": 0.94,
           "yanchor": "bottom"
          },
          "xaxis": {
           "showgrid": false,
           "tickcolor": "#54565B"
          }
         }
        },
        "title": {
         "text": "<b>Sentencing of women in Avon and Somerset 2010–2022</b>",
         "y": 0.94,
         "yanchor": "bottom"
        },
        "width": 655,
        "xaxis": {
         "dtick": 2,
         "range": [
          2009.3,
          2022.8
         ],
         "showgrid": false,
         "tick0": 2010,
         "tickcolor": "#54565B"
        },
        "yaxis": {
         "range": [
          0,
          830
         ],
         "tick0": 0,
         "tickformat": ",.0f",
         "title": {
          "text": ""
         }
        }
       }
      }
     },
     "metadata": {},
     "output_type": "display_data"
    },
    {
     "data": {
      "application/vnd.plotly.v1+json": {
       "config": {
        "plotlyServerURL": "https://plot.ly"
       },
       "data": [
        {
         "customdata": [
          "community sentence",
          "community sentence",
          "community sentence",
          "community sentence",
          "community sentence",
          "community sentence",
          "community sentence",
          "community sentence",
          "community sentence",
          "community sentence",
          "community sentence",
          "community sentence",
          "community sentence"
         ],
         "hovertemplate": "%{y} %{customdata}<extra></extra>",
         "name": "Community sentence",
         "type": "bar",
         "x": [
          2010,
          2011,
          2012,
          2013,
          2014,
          2015,
          2016,
          2017,
          2018,
          2019,
          2020,
          2021,
          2022
         ],
         "y": [
          187,
          185,
          165,
          107,
          91,
          148,
          86,
          91,
          80,
          60,
          38,
          61,
          63
         ]
        },
        {
         "customdata": [
          "immediate custody",
          "immediate custody",
          "immediate custody",
          "immediate custody",
          "immediate custody",
          "immediate custody",
          "immediate custody",
          "immediate custody",
          "immediate custody",
          "immediate custody",
          "immediate custody",
          "immediate custody",
          "immediate custody"
         ],
         "hovertemplate": "%{y} %{customdata}<extra></extra>",
         "name": "Immediate custody",
         "type": "bar",
         "x": [
          2010,
          2011,
          2012,
          2013,
          2014,
          2015,
          2016,
          2017,
          2018,
          2019,
          2020,
          2021,
          2022
         ],
         "y": [
          99,
          75,
          84,
          42,
          69,
          80,
          53,
          53,
          36,
          31,
          23,
          20,
          38
         ]
        },
        {
         "customdata": [
          "suspended sentence",
          "suspended sentence",
          "suspended sentence",
          "suspended sentence",
          "suspended sentence",
          "suspended sentence",
          "suspended sentence",
          "suspended sentence",
          "suspended sentence",
          "suspended sentence",
          "suspended sentence",
          "suspended sentence",
          "suspended sentence"
         ],
         "hovertemplate": "%{y} %{customdata}<extra></extra>",
         "name": "Suspended sentence",
         "type": "bar",
         "x": [
          2010,
          2011,
          2012,
          2013,
          2014,
          2015,
          2016,
          2017,
          2018,
          2019,
          2020,
          2021,
          2022
         ],
         "y": [
          65,
          61,
          46,
          65,
          55,
          66,
          50,
          59,
          40,
          51,
          40,
          41,
          48
         ]
        }
       ],
       "layout": {
        "annotations": [
         {
          "font": {
           "size": 12
          },
          "showarrow": false,
          "text": "Source: Ministry of Justice, Criminal justice statistics",
          "x": -0.08,
          "xanchor": "left",
          "xref": "paper",
          "y": -0.19,
          "yanchor": "top",
          "yref": "paper"
         },
         {
          "align": "left",
          "font": {
           "size": 12
          },
          "showarrow": false,
          "text": "Women sentenced",
          "x": 2010,
          "xanchor": "left",
          "xref": "x",
          "y": 1.04,
          "yref": "paper"
         }
        ],
        "barmode": "group",
        "height": 360,
        "hovermode": "x",
        "legend": {
         "x": 1,
         "xanchor": "right",
         "y": 1.05,
         "yanchor": "top"
        },
        "margin": {
         "b": 75,
         "l": 63,
         "r": 20
        },
        "modebar": {
         "activecolor": "#A01D28"
        },
        "showlegend": true,
        "template": {
         "layout": {
          "colorway": [
           "#A01D28",
           "#499CC9",
           "#F9A237",
           "#6FBA3A",
           "#573D6B"
          ],
          "font": {
           "color": "#54565B",
           "family": "Helvetica Neue, Arial",
           "size": 12
          },
          "modebar": {
           "activecolor": "#A01D28"
          },
          "paper_bgcolor": "#F7F2F2",
          "plot_bgcolor": "#F7F2F2",
          "showlegend": false,
          "title": {
           "font": {
            "family": "Helvetica Neue, Arial",
            "size": 17
           },
           "y": 0.94,
           "yanchor": "bottom"
          },
          "xaxis": {
           "showgrid": false,
           "tickcolor": "#54565B"
          }
         }
        },
        "title": {
         "text": "<b>Sentencing of women in Bedfordshire 2010–2022</b>",
         "y": 0.94,
         "yanchor": "bottom"
        },
        "width": 655,
        "xaxis": {
         "dtick": 2,
         "range": [
          2009.3,
          2022.8
         ],
         "showgrid": false,
         "tick0": 2010,
         "tickcolor": "#54565B"
        },
        "yaxis": {
         "range": [
          0,
          208
         ],
         "tick0": 0,
         "tickformat": ",.0f",
         "title": {
          "text": ""
         }
        }
       }
      }
     },
     "metadata": {},
     "output_type": "display_data"
    },
    {
     "data": {
      "application/vnd.plotly.v1+json": {
       "config": {
        "plotlyServerURL": "https://plot.ly"
       },
       "data": [
        {
         "customdata": [
          "community sentence",
          "community sentence",
          "community sentence",
          "community sentence",
          "community sentence",
          "community sentence",
          "community sentence",
          "community sentence",
          "community sentence",
          "community sentence",
          "community sentence",
          "community sentence",
          "community sentence"
         ],
         "hovertemplate": "%{y} %{customdata}<extra></extra>",
         "name": "Community sentence",
         "type": "bar",
         "x": [
          2010,
          2011,
          2012,
          2013,
          2014,
          2015,
          2016,
          2017,
          2018,
          2019,
          2020,
          2021,
          2022
         ],
         "y": [
          250,
          255,
          231,
          216,
          174,
          171,
          185,
          142,
          110,
          136,
          91,
          107,
          117
         ]
        },
        {
         "customdata": [
          "immediate custody",
          "immediate custody",
          "immediate custody",
          "immediate custody",
          "immediate custody",
          "immediate custody",
          "immediate custody",
          "immediate custody",
          "immediate custody",
          "immediate custody",
          "immediate custody",
          "immediate custody",
          "immediate custody"
         ],
         "hovertemplate": "%{y} %{customdata}<extra></extra>",
         "name": "Immediate custody",
         "type": "bar",
         "x": [
          2010,
          2011,
          2012,
          2013,
          2014,
          2015,
          2016,
          2017,
          2018,
          2019,
          2020,
          2021,
          2022
         ],
         "y": [
          140,
          111,
          119,
          130,
          91,
          89,
          112,
          115,
          116,
          89,
          78,
          47,
          68
         ]
        },
        {
         "customdata": [
          "suspended sentence",
          "suspended sentence",
          "suspended sentence",
          "suspended sentence",
          "suspended sentence",
          "suspended sentence",
          "suspended sentence",
          "suspended sentence",
          "suspended sentence",
          "suspended sentence",
          "suspended sentence",
          "suspended sentence",
          "suspended sentence"
         ],
         "hovertemplate": "%{y} %{customdata}<extra></extra>",
         "name": "Suspended sentence",
         "type": "bar",
         "x": [
          2010,
          2011,
          2012,
          2013,
          2014,
          2015,
          2016,
          2017,
          2018,
          2019,
          2020,
          2021,
          2022
         ],
         "y": [
          96,
          105,
          99,
          95,
          114,
          104,
          107,
          108,
          96,
          83,
          68,
          77,
          64
         ]
        }
       ],
       "layout": {
        "annotations": [
         {
          "font": {
           "size": 12
          },
          "showarrow": false,
          "text": "Source: Ministry of Justice, Criminal justice statistics",
          "x": -0.08,
          "xanchor": "left",
          "xref": "paper",
          "y": -0.19,
          "yanchor": "top",
          "yref": "paper"
         },
         {
          "align": "left",
          "font": {
           "size": 12
          },
          "showarrow": false,
          "text": "Women sentenced",
          "x": 2010,
          "xanchor": "left",
          "xref": "x",
          "y": 1.04,
          "yref": "paper"
         }
        ],
        "barmode": "group",
        "height": 360,
        "hovermode": "x",
        "legend": {
         "x": 1,
         "xanchor": "right",
         "y": 1.05,
         "yanchor": "top"
        },
        "margin": {
         "b": 75,
         "l": 63,
         "r": 20
        },
        "modebar": {
         "activecolor": "#A01D28"
        },
        "showlegend": true,
        "template": {
         "layout": {
          "colorway": [
           "#A01D28",
           "#499CC9",
           "#F9A237",
           "#6FBA3A",
           "#573D6B"
          ],
          "font": {
           "color": "#54565B",
           "family": "Helvetica Neue, Arial",
           "size": 12
          },
          "modebar": {
           "activecolor": "#A01D28"
          },
          "paper_bgcolor": "#F7F2F2",
          "plot_bgcolor": "#F7F2F2",
          "showlegend": false,
          "title": {
           "font": {
            "family": "Helvetica Neue, Arial",
            "size": 17
           },
           "y": 0.94,
           "yanchor": "bottom"
          },
          "xaxis": {
           "showgrid": false,
           "tickcolor": "#54565B"
          }
         }
        },
        "title": {
         "text": "<b>Sentencing of women in Cambridgeshire 2010–2022</b>",
         "y": 0.94,
         "yanchor": "bottom"
        },
        "width": 655,
        "xaxis": {
         "dtick": 2,
         "range": [
          2009.3,
          2022.8
         ],
         "showgrid": false,
         "tick0": 2010,
         "tickcolor": "#54565B"
        },
        "yaxis": {
         "range": [
          0,
          315
         ],
         "tick0": 0,
         "tickformat": ",.0f",
         "title": {
          "text": ""
         }
        }
       }
      }
     },
     "metadata": {},
     "output_type": "display_data"
    },
    {
     "data": {
      "application/vnd.plotly.v1+json": {
       "config": {
        "plotlyServerURL": "https://plot.ly"
       },
       "data": [
        {
         "customdata": [
          "community sentence",
          "community sentence",
          "community sentence",
          "community sentence",
          "community sentence",
          "community sentence",
          "community sentence",
          "community sentence",
          "community sentence",
          "community sentence",
          "community sentence",
          "community sentence",
          "community sentence"
         ],
         "hovertemplate": "%{y} %{customdata}<extra></extra>",
         "name": "Community sentence",
         "type": "bar",
         "x": [
          2010,
          2011,
          2012,
          2013,
          2014,
          2015,
          2016,
          2017,
          2018,
          2019,
          2020,
          2021,
          2022
         ],
         "y": [
          539,
          424,
          415,
          326,
          364,
          396,
          351,
          326,
          352,
          291,
          194,
          194,
          261
         ]
        },
        {
         "customdata": [
          "immediate custody",
          "immediate custody",
          "immediate custody",
          "immediate custody",
          "immediate custody",
          "immediate custody",
          "immediate custody",
          "immediate custody",
          "immediate custody",
          "immediate custody",
          "immediate custody",
          "immediate custody",
          "immediate custody"
         ],
         "hovertemplate": "%{y} %{customdata}<extra></extra>",
         "name": "Immediate custody",
         "type": "bar",
         "x": [
          2010,
          2011,
          2012,
          2013,
          2014,
          2015,
          2016,
          2017,
          2018,
          2019,
          2020,
          2021,
          2022
         ],
         "y": [
          135,
          129,
          120,
          116,
          169,
          181,
          167,
          172,
          176,
          149,
          123,
          117,
          74
         ]
        },
        {
         "customdata": [
          "suspended sentence",
          "suspended sentence",
          "suspended sentence",
          "suspended sentence",
          "suspended sentence",
          "suspended sentence",
          "suspended sentence",
          "suspended sentence",
          "suspended sentence",
          "suspended sentence",
          "suspended sentence",
          "suspended sentence",
          "suspended sentence"
         ],
         "hovertemplate": "%{y} %{customdata}<extra></extra>",
         "name": "Suspended sentence",
         "type": "bar",
         "x": [
          2010,
          2011,
          2012,
          2013,
          2014,
          2015,
          2016,
          2017,
          2018,
          2019,
          2020,
          2021,
          2022
         ],
         "y": [
          130,
          113,
          105,
          142,
          224,
          203,
          219,
          201,
          174,
          164,
          121,
          111,
          127
         ]
        }
       ],
       "layout": {
        "annotations": [
         {
          "font": {
           "size": 12
          },
          "showarrow": false,
          "text": "Source: Ministry of Justice, Criminal justice statistics",
          "x": -0.08,
          "xanchor": "left",
          "xref": "paper",
          "y": -0.19,
          "yanchor": "top",
          "yref": "paper"
         },
         {
          "align": "left",
          "font": {
           "size": 12
          },
          "showarrow": false,
          "text": "Women sentenced",
          "x": 2010,
          "xanchor": "left",
          "xref": "x",
          "y": 1.04,
          "yref": "paper"
         }
        ],
        "barmode": "group",
        "height": 360,
        "hovermode": "x",
        "legend": {
         "x": 1,
         "xanchor": "right",
         "y": 1.05,
         "yanchor": "top"
        },
        "margin": {
         "b": 75,
         "l": 63,
         "r": 20
        },
        "modebar": {
         "activecolor": "#A01D28"
        },
        "showlegend": true,
        "template": {
         "layout": {
          "colorway": [
           "#A01D28",
           "#499CC9",
           "#F9A237",
           "#6FBA3A",
           "#573D6B"
          ],
          "font": {
           "color": "#54565B",
           "family": "Helvetica Neue, Arial",
           "size": 12
          },
          "modebar": {
           "activecolor": "#A01D28"
          },
          "paper_bgcolor": "#F7F2F2",
          "plot_bgcolor": "#F7F2F2",
          "showlegend": false,
          "title": {
           "font": {
            "family": "Helvetica Neue, Arial",
            "size": 17
           },
           "y": 0.94,
           "yanchor": "bottom"
          },
          "xaxis": {
           "showgrid": false,
           "tickcolor": "#54565B"
          }
         }
        },
        "title": {
         "text": "<b>Sentencing of women in Cheshire 2010–2022</b>",
         "y": 0.94,
         "yanchor": "bottom"
        },
        "width": 655,
        "xaxis": {
         "dtick": 2,
         "range": [
          2009.3,
          2022.8
         ],
         "showgrid": false,
         "tick0": 2010,
         "tickcolor": "#54565B"
        },
        "yaxis": {
         "range": [
          0,
          540
         ],
         "tick0": 0,
         "tickformat": ",.0f",
         "title": {
          "text": ""
         }
        }
       }
      }
     },
     "metadata": {},
     "output_type": "display_data"
    },
    {
     "data": {
      "application/vnd.plotly.v1+json": {
       "config": {
        "plotlyServerURL": "https://plot.ly"
       },
       "data": [
        {
         "customdata": [
          "community sentence",
          "community sentence",
          "community sentence",
          "community sentence",
          "community sentence",
          "community sentence",
          "community sentence",
          "community sentence",
          "community sentence",
          "community sentence",
          "community sentence",
          "community sentence",
          "community sentence"
         ],
         "hovertemplate": "%{y} %{customdata}<extra></extra>",
         "name": "Community sentence",
         "type": "bar",
         "x": [
          2010,
          2011,
          2012,
          2013,
          2014,
          2015,
          2016,
          2017,
          2018,
          2019,
          2020,
          2021,
          2022
         ],
         "y": [
          489,
          500,
          420,
          365,
          352,
          374,
          341,
          335,
          368,
          306,
          164,
          273,
          262
         ]
        },
        {
         "customdata": [
          "immediate custody",
          "immediate custody",
          "immediate custody",
          "immediate custody",
          "immediate custody",
          "immediate custody",
          "immediate custody",
          "immediate custody",
          "immediate custody",
          "immediate custody",
          "immediate custody",
          "immediate custody",
          "immediate custody"
         ],
         "hovertemplate": "%{y} %{customdata}<extra></extra>",
         "name": "Immediate custody",
         "type": "bar",
         "x": [
          2010,
          2011,
          2012,
          2013,
          2014,
          2015,
          2016,
          2017,
          2018,
          2019,
          2020,
          2021,
          2022
         ],
         "y": [
          116,
          89,
          92,
          93,
          91,
          78,
          108,
          152,
          140,
          98,
          55,
          103,
          100
         ]
        },
        {
         "customdata": [
          "suspended sentence",
          "suspended sentence",
          "suspended sentence",
          "suspended sentence",
          "suspended sentence",
          "suspended sentence",
          "suspended sentence",
          "suspended sentence",
          "suspended sentence",
          "suspended sentence",
          "suspended sentence",
          "suspended sentence",
          "suspended sentence"
         ],
         "hovertemplate": "%{y} %{customdata}<extra></extra>",
         "name": "Suspended sentence",
         "type": "bar",
         "x": [
          2010,
          2011,
          2012,
          2013,
          2014,
          2015,
          2016,
          2017,
          2018,
          2019,
          2020,
          2021,
          2022
         ],
         "y": [
          108,
          129,
          98,
          103,
          136,
          118,
          175,
          183,
          125,
          95,
          75,
          124,
          103
         ]
        }
       ],
       "layout": {
        "annotations": [
         {
          "font": {
           "size": 12
          },
          "showarrow": false,
          "text": "Source: Ministry of Justice, Criminal justice statistics",
          "x": -0.08,
          "xanchor": "left",
          "xref": "paper",
          "y": -0.19,
          "yanchor": "top",
          "yref": "paper"
         },
         {
          "align": "left",
          "font": {
           "size": 12
          },
          "showarrow": false,
          "text": "Women sentenced",
          "x": 2010,
          "xanchor": "left",
          "xref": "x",
          "y": 1.04,
          "yref": "paper"
         }
        ],
        "barmode": "group",
        "height": 360,
        "hovermode": "x",
        "legend": {
         "x": 1,
         "xanchor": "right",
         "y": 1.05,
         "yanchor": "top"
        },
        "margin": {
         "b": 75,
         "l": 63,
         "r": 20
        },
        "modebar": {
         "activecolor": "#A01D28"
        },
        "showlegend": true,
        "template": {
         "layout": {
          "colorway": [
           "#A01D28",
           "#499CC9",
           "#F9A237",
           "#6FBA3A",
           "#573D6B"
          ],
          "font": {
           "color": "#54565B",
           "family": "Helvetica Neue, Arial",
           "size": 12
          },
          "modebar": {
           "activecolor": "#A01D28"
          },
          "paper_bgcolor": "#F7F2F2",
          "plot_bgcolor": "#F7F2F2",
          "showlegend": false,
          "title": {
           "font": {
            "family": "Helvetica Neue, Arial",
            "size": 17
           },
           "y": 0.94,
           "yanchor": "bottom"
          },
          "xaxis": {
           "showgrid": false,
           "tickcolor": "#54565B"
          }
         }
        },
        "title": {
         "text": "<b>Sentencing of women in Cleveland 2010–2022</b>",
         "y": 0.94,
         "yanchor": "bottom"
        },
        "width": 655,
        "xaxis": {
         "dtick": 2,
         "range": [
          2009.3,
          2022.8
         ],
         "showgrid": false,
         "tick0": 2010,
         "tickcolor": "#54565B"
        },
        "yaxis": {
         "range": [
          0,
          540
         ],
         "tick0": 0,
         "tickformat": ",.0f",
         "title": {
          "text": ""
         }
        }
       }
      }
     },
     "metadata": {},
     "output_type": "display_data"
    },
    {
     "data": {
      "application/vnd.plotly.v1+json": {
       "config": {
        "plotlyServerURL": "https://plot.ly"
       },
       "data": [
        {
         "customdata": [
          "community sentence",
          "community sentence",
          "community sentence",
          "community sentence",
          "community sentence",
          "community sentence",
          "community sentence",
          "community sentence",
          "community sentence",
          "community sentence",
          "community sentence",
          "community sentence",
          "community sentence"
         ],
         "hovertemplate": "%{y} %{customdata}<extra></extra>",
         "name": "Community sentence",
         "type": "bar",
         "x": [
          2010,
          2011,
          2012,
          2013,
          2014,
          2015,
          2016,
          2017,
          2018,
          2019,
          2020,
          2021,
          2022
         ],
         "y": [
          304,
          284,
          266,
          262,
          282,
          235,
          203,
          195,
          232,
          202,
          153,
          183,
          188
         ]
        },
        {
         "customdata": [
          "immediate custody",
          "immediate custody",
          "immediate custody",
          "immediate custody",
          "immediate custody",
          "immediate custody",
          "immediate custody",
          "immediate custody",
          "immediate custody",
          "immediate custody",
          "immediate custody",
          "immediate custody",
          "immediate custody"
         ],
         "hovertemplate": "%{y} %{customdata}<extra></extra>",
         "name": "Immediate custody",
         "type": "bar",
         "x": [
          2010,
          2011,
          2012,
          2013,
          2014,
          2015,
          2016,
          2017,
          2018,
          2019,
          2020,
          2021,
          2022
         ],
         "y": [
          77,
          107,
          83,
          88,
          92,
          103,
          92,
          104,
          132,
          72,
          45,
          40,
          29
         ]
        },
        {
         "customdata": [
          "suspended sentence",
          "suspended sentence",
          "suspended sentence",
          "suspended sentence",
          "suspended sentence",
          "suspended sentence",
          "suspended sentence",
          "suspended sentence",
          "suspended sentence",
          "suspended sentence",
          "suspended sentence",
          "suspended sentence",
          "suspended sentence"
         ],
         "hovertemplate": "%{y} %{customdata}<extra></extra>",
         "name": "Suspended sentence",
         "type": "bar",
         "x": [
          2010,
          2011,
          2012,
          2013,
          2014,
          2015,
          2016,
          2017,
          2018,
          2019,
          2020,
          2021,
          2022
         ],
         "y": [
          71,
          71,
          79,
          92,
          100,
          115,
          104,
          104,
          82,
          74,
          52,
          49,
          52
         ]
        }
       ],
       "layout": {
        "annotations": [
         {
          "font": {
           "size": 12
          },
          "showarrow": false,
          "text": "Source: Ministry of Justice, Criminal justice statistics",
          "x": -0.08,
          "xanchor": "left",
          "xref": "paper",
          "y": -0.19,
          "yanchor": "top",
          "yref": "paper"
         },
         {
          "align": "left",
          "font": {
           "size": 12
          },
          "showarrow": false,
          "text": "Women sentenced",
          "x": 2010,
          "xanchor": "left",
          "xref": "x",
          "y": 1.04,
          "yref": "paper"
         }
        ],
        "barmode": "group",
        "height": 360,
        "hovermode": "x",
        "legend": {
         "x": 1,
         "xanchor": "right",
         "y": 1.05,
         "yanchor": "top"
        },
        "margin": {
         "b": 75,
         "l": 63,
         "r": 20
        },
        "modebar": {
         "activecolor": "#A01D28"
        },
        "showlegend": true,
        "template": {
         "layout": {
          "colorway": [
           "#A01D28",
           "#499CC9",
           "#F9A237",
           "#6FBA3A",
           "#573D6B"
          ],
          "font": {
           "color": "#54565B",
           "family": "Helvetica Neue, Arial",
           "size": 12
          },
          "modebar": {
           "activecolor": "#A01D28"
          },
          "paper_bgcolor": "#F7F2F2",
          "plot_bgcolor": "#F7F2F2",
          "showlegend": false,
          "title": {
           "font": {
            "family": "Helvetica Neue, Arial",
            "size": 17
           },
           "y": 0.94,
           "yanchor": "bottom"
          },
          "xaxis": {
           "showgrid": false,
           "tickcolor": "#54565B"
          }
         }
        },
        "title": {
         "text": "<b>Sentencing of women in Cumbria 2010–2022</b>",
         "y": 0.94,
         "yanchor": "bottom"
        },
        "width": 655,
        "xaxis": {
         "dtick": 2,
         "range": [
          2009.3,
          2022.8
         ],
         "showgrid": false,
         "tick0": 2010,
         "tickcolor": "#54565B"
        },
        "yaxis": {
         "range": [
          0,
          315
         ],
         "tick0": 0,
         "tickformat": ",.0f",
         "title": {
          "text": ""
         }
        }
       }
      }
     },
     "metadata": {},
     "output_type": "display_data"
    },
    {
     "data": {
      "application/vnd.plotly.v1+json": {
       "config": {
        "plotlyServerURL": "https://plot.ly"
       },
       "data": [
        {
         "customdata": [
          "community sentence",
          "community sentence",
          "community sentence",
          "community sentence",
          "community sentence",
          "community sentence",
          "community sentence",
          "community sentence",
          "community sentence",
          "community sentence",
          "community sentence",
          "community sentence",
          "community sentence"
         ],
         "hovertemplate": "%{y} %{customdata}<extra></extra>",
         "name": "Community sentence",
         "type": "bar",
         "x": [
          2010,
          2011,
          2012,
          2013,
          2014,
          2015,
          2016,
          2017,
          2018,
          2019,
          2020,
          2021,
          2022
         ],
         "y": [
          408,
          422,
          344,
          284,
          280,
          275,
          257,
          199,
          247,
          266,
          164,
          187,
          158
         ]
        },
        {
         "customdata": [
          "immediate custody",
          "immediate custody",
          "immediate custody",
          "immediate custody",
          "immediate custody",
          "immediate custody",
          "immediate custody",
          "immediate custody",
          "immediate custody",
          "immediate custody",
          "immediate custody",
          "immediate custody",
          "immediate custody"
         ],
         "hovertemplate": "%{y} %{customdata}<extra></extra>",
         "name": "Immediate custody",
         "type": "bar",
         "x": [
          2010,
          2011,
          2012,
          2013,
          2014,
          2015,
          2016,
          2017,
          2018,
          2019,
          2020,
          2021,
          2022
         ],
         "y": [
          131,
          150,
          119,
          123,
          171,
          179,
          176,
          174,
          178,
          123,
          130,
          126,
          122
         ]
        },
        {
         "customdata": [
          "suspended sentence",
          "suspended sentence",
          "suspended sentence",
          "suspended sentence",
          "suspended sentence",
          "suspended sentence",
          "suspended sentence",
          "suspended sentence",
          "suspended sentence",
          "suspended sentence",
          "suspended sentence",
          "suspended sentence",
          "suspended sentence"
         ],
         "hovertemplate": "%{y} %{customdata}<extra></extra>",
         "name": "Suspended sentence",
         "type": "bar",
         "x": [
          2010,
          2011,
          2012,
          2013,
          2014,
          2015,
          2016,
          2017,
          2018,
          2019,
          2020,
          2021,
          2022
         ],
         "y": [
          116,
          146,
          150,
          146,
          190,
          222,
          185,
          185,
          157,
          144,
          127,
          145,
          127
         ]
        }
       ],
       "layout": {
        "annotations": [
         {
          "font": {
           "size": 12
          },
          "showarrow": false,
          "text": "Source: Ministry of Justice, Criminal justice statistics",
          "x": -0.08,
          "xanchor": "left",
          "xref": "paper",
          "y": -0.19,
          "yanchor": "top",
          "yref": "paper"
         },
         {
          "align": "left",
          "font": {
           "size": 12
          },
          "showarrow": false,
          "text": "Women sentenced",
          "x": 2010,
          "xanchor": "left",
          "xref": "x",
          "y": 1.04,
          "yref": "paper"
         }
        ],
        "barmode": "group",
        "height": 360,
        "hovermode": "x",
        "legend": {
         "x": 1,
         "xanchor": "right",
         "y": 1.05,
         "yanchor": "top"
        },
        "margin": {
         "b": 75,
         "l": 63,
         "r": 20
        },
        "modebar": {
         "activecolor": "#A01D28"
        },
        "showlegend": true,
        "template": {
         "layout": {
          "colorway": [
           "#A01D28",
           "#499CC9",
           "#F9A237",
           "#6FBA3A",
           "#573D6B"
          ],
          "font": {
           "color": "#54565B",
           "family": "Helvetica Neue, Arial",
           "size": 12
          },
          "modebar": {
           "activecolor": "#A01D28"
          },
          "paper_bgcolor": "#F7F2F2",
          "plot_bgcolor": "#F7F2F2",
          "showlegend": false,
          "title": {
           "font": {
            "family": "Helvetica Neue, Arial",
            "size": 17
           },
           "y": 0.94,
           "yanchor": "bottom"
          },
          "xaxis": {
           "showgrid": false,
           "tickcolor": "#54565B"
          }
         }
        },
        "title": {
         "text": "<b>Sentencing of women in Derbyshire 2010–2022</b>",
         "y": 0.94,
         "yanchor": "bottom"
        },
        "width": 655,
        "xaxis": {
         "dtick": 2,
         "range": [
          2009.3,
          2022.8
         ],
         "showgrid": false,
         "tick0": 2010,
         "tickcolor": "#54565B"
        },
        "yaxis": {
         "range": [
          0,
          540
         ],
         "tick0": 0,
         "tickformat": ",.0f",
         "title": {
          "text": ""
         }
        }
       }
      }
     },
     "metadata": {},
     "output_type": "display_data"
    },
    {
     "data": {
      "application/vnd.plotly.v1+json": {
       "config": {
        "plotlyServerURL": "https://plot.ly"
       },
       "data": [
        {
         "customdata": [
          "community sentence",
          "community sentence",
          "community sentence",
          "community sentence",
          "community sentence",
          "community sentence",
          "community sentence",
          "community sentence",
          "community sentence",
          "community sentence",
          "community sentence",
          "community sentence",
          "community sentence"
         ],
         "hovertemplate": "%{y} %{customdata}<extra></extra>",
         "name": "Community sentence",
         "type": "bar",
         "x": [
          2010,
          2011,
          2012,
          2013,
          2014,
          2015,
          2016,
          2017,
          2018,
          2019,
          2020,
          2021,
          2022
         ],
         "y": [
          404,
          436,
          392,
          330,
          287,
          290,
          255,
          264,
          266,
          298,
          240,
          252,
          202
         ]
        },
        {
         "customdata": [
          "immediate custody",
          "immediate custody",
          "immediate custody",
          "immediate custody",
          "immediate custody",
          "immediate custody",
          "immediate custody",
          "immediate custody",
          "immediate custody",
          "immediate custody",
          "immediate custody",
          "immediate custody",
          "immediate custody"
         ],
         "hovertemplate": "%{y} %{customdata}<extra></extra>",
         "name": "Immediate custody",
         "type": "bar",
         "x": [
          2010,
          2011,
          2012,
          2013,
          2014,
          2015,
          2016,
          2017,
          2018,
          2019,
          2020,
          2021,
          2022
         ],
         "y": [
          138,
          156,
          118,
          109,
          116,
          126,
          120,
          148,
          120,
          106,
          106,
          86,
          63
         ]
        },
        {
         "customdata": [
          "suspended sentence",
          "suspended sentence",
          "suspended sentence",
          "suspended sentence",
          "suspended sentence",
          "suspended sentence",
          "suspended sentence",
          "suspended sentence",
          "suspended sentence",
          "suspended sentence",
          "suspended sentence",
          "suspended sentence",
          "suspended sentence"
         ],
         "hovertemplate": "%{y} %{customdata}<extra></extra>",
         "name": "Suspended sentence",
         "type": "bar",
         "x": [
          2010,
          2011,
          2012,
          2013,
          2014,
          2015,
          2016,
          2017,
          2018,
          2019,
          2020,
          2021,
          2022
         ],
         "y": [
          137,
          144,
          173,
          196,
          155,
          194,
          187,
          182,
          135,
          123,
          125,
          119,
          93
         ]
        }
       ],
       "layout": {
        "annotations": [
         {
          "font": {
           "size": 12
          },
          "showarrow": false,
          "text": "Source: Ministry of Justice, Criminal justice statistics",
          "x": -0.08,
          "xanchor": "left",
          "xref": "paper",
          "y": -0.19,
          "yanchor": "top",
          "yref": "paper"
         },
         {
          "align": "left",
          "font": {
           "size": 12
          },
          "showarrow": false,
          "text": "Women sentenced",
          "x": 2010,
          "xanchor": "left",
          "xref": "x",
          "y": 1.04,
          "yref": "paper"
         }
        ],
        "barmode": "group",
        "height": 360,
        "hovermode": "x",
        "legend": {
         "x": 1,
         "xanchor": "right",
         "y": 1.05,
         "yanchor": "top"
        },
        "margin": {
         "b": 75,
         "l": 63,
         "r": 20
        },
        "modebar": {
         "activecolor": "#A01D28"
        },
        "showlegend": true,
        "template": {
         "layout": {
          "colorway": [
           "#A01D28",
           "#499CC9",
           "#F9A237",
           "#6FBA3A",
           "#573D6B"
          ],
          "font": {
           "color": "#54565B",
           "family": "Helvetica Neue, Arial",
           "size": 12
          },
          "modebar": {
           "activecolor": "#A01D28"
          },
          "paper_bgcolor": "#F7F2F2",
          "plot_bgcolor": "#F7F2F2",
          "showlegend": false,
          "title": {
           "font": {
            "family": "Helvetica Neue, Arial",
            "size": 17
           },
           "y": 0.94,
           "yanchor": "bottom"
          },
          "xaxis": {
           "showgrid": false,
           "tickcolor": "#54565B"
          }
         }
        },
        "title": {
         "text": "<b>Sentencing of women in Devon and Cornwall 2010–2022</b>",
         "y": 0.94,
         "yanchor": "bottom"
        },
        "width": 655,
        "xaxis": {
         "dtick": 2,
         "range": [
          2009.3,
          2022.8
         ],
         "showgrid": false,
         "tick0": 2010,
         "tickcolor": "#54565B"
        },
        "yaxis": {
         "range": [
          0,
          540
         ],
         "tick0": 0,
         "tickformat": ",.0f",
         "title": {
          "text": ""
         }
        }
       }
      }
     },
     "metadata": {},
     "output_type": "display_data"
    },
    {
     "data": {
      "application/vnd.plotly.v1+json": {
       "config": {
        "plotlyServerURL": "https://plot.ly"
       },
       "data": [
        {
         "customdata": [
          "community sentence",
          "community sentence",
          "community sentence",
          "community sentence",
          "community sentence",
          "community sentence",
          "community sentence",
          "community sentence",
          "community sentence",
          "community sentence",
          "community sentence",
          "community sentence",
          "community sentence"
         ],
         "hovertemplate": "%{y} %{customdata}<extra></extra>",
         "name": "Community sentence",
         "type": "bar",
         "x": [
          2010,
          2011,
          2012,
          2013,
          2014,
          2015,
          2016,
          2017,
          2018,
          2019,
          2020,
          2021,
          2022
         ],
         "y": [
          162,
          171,
          152,
          120,
          112,
          126,
          133,
          119,
          141,
          158,
          80,
          104,
          117
         ]
        },
        {
         "customdata": [
          "immediate custody",
          "immediate custody",
          "immediate custody",
          "immediate custody",
          "immediate custody",
          "immediate custody",
          "immediate custody",
          "immediate custody",
          "immediate custody",
          "immediate custody",
          "immediate custody",
          "immediate custody",
          "immediate custody"
         ],
         "hovertemplate": "%{y} %{customdata}<extra></extra>",
         "name": "Immediate custody",
         "type": "bar",
         "x": [
          2010,
          2011,
          2012,
          2013,
          2014,
          2015,
          2016,
          2017,
          2018,
          2019,
          2020,
          2021,
          2022
         ],
         "y": [
          73,
          37,
          48,
          46,
          56,
          67,
          52,
          73,
          52,
          61,
          35,
          38,
          23
         ]
        },
        {
         "customdata": [
          "suspended sentence",
          "suspended sentence",
          "suspended sentence",
          "suspended sentence",
          "suspended sentence",
          "suspended sentence",
          "suspended sentence",
          "suspended sentence",
          "suspended sentence",
          "suspended sentence",
          "suspended sentence",
          "suspended sentence",
          "suspended sentence"
         ],
         "hovertemplate": "%{y} %{customdata}<extra></extra>",
         "name": "Suspended sentence",
         "type": "bar",
         "x": [
          2010,
          2011,
          2012,
          2013,
          2014,
          2015,
          2016,
          2017,
          2018,
          2019,
          2020,
          2021,
          2022
         ],
         "y": [
          58,
          44,
          42,
          32,
          65,
          64,
          60,
          56,
          55,
          48,
          36,
          53,
          63
         ]
        }
       ],
       "layout": {
        "annotations": [
         {
          "font": {
           "size": 12
          },
          "showarrow": false,
          "text": "Source: Ministry of Justice, Criminal justice statistics",
          "x": -0.08,
          "xanchor": "left",
          "xref": "paper",
          "y": -0.19,
          "yanchor": "top",
          "yref": "paper"
         },
         {
          "align": "left",
          "font": {
           "size": 12
          },
          "showarrow": false,
          "text": "Women sentenced",
          "x": 2010,
          "xanchor": "left",
          "xref": "x",
          "y": 1.04,
          "yref": "paper"
         }
        ],
        "barmode": "group",
        "height": 360,
        "hovermode": "x",
        "legend": {
         "x": 1,
         "xanchor": "right",
         "y": 1.05,
         "yanchor": "top"
        },
        "margin": {
         "b": 75,
         "l": 63,
         "r": 20
        },
        "modebar": {
         "activecolor": "#A01D28"
        },
        "showlegend": true,
        "template": {
         "layout": {
          "colorway": [
           "#A01D28",
           "#499CC9",
           "#F9A237",
           "#6FBA3A",
           "#573D6B"
          ],
          "font": {
           "color": "#54565B",
           "family": "Helvetica Neue, Arial",
           "size": 12
          },
          "modebar": {
           "activecolor": "#A01D28"
          },
          "paper_bgcolor": "#F7F2F2",
          "plot_bgcolor": "#F7F2F2",
          "showlegend": false,
          "title": {
           "font": {
            "family": "Helvetica Neue, Arial",
            "size": 17
           },
           "y": 0.94,
           "yanchor": "bottom"
          },
          "xaxis": {
           "showgrid": false,
           "tickcolor": "#54565B"
          }
         }
        },
        "title": {
         "text": "<b>Sentencing of women in Dorset 2010–2022</b>",
         "y": 0.94,
         "yanchor": "bottom"
        },
        "width": 655,
        "xaxis": {
         "dtick": 2,
         "range": [
          2009.3,
          2022.8
         ],
         "showgrid": false,
         "tick0": 2010,
         "tickcolor": "#54565B"
        },
        "yaxis": {
         "range": [
          0,
          208
         ],
         "tick0": 0,
         "tickformat": ",.0f",
         "title": {
          "text": ""
         }
        }
       }
      }
     },
     "metadata": {},
     "output_type": "display_data"
    },
    {
     "data": {
      "application/vnd.plotly.v1+json": {
       "config": {
        "plotlyServerURL": "https://plot.ly"
       },
       "data": [
        {
         "customdata": [
          "community sentence",
          "community sentence",
          "community sentence",
          "community sentence",
          "community sentence",
          "community sentence",
          "community sentence",
          "community sentence",
          "community sentence",
          "community sentence",
          "community sentence",
          "community sentence",
          "community sentence"
         ],
         "hovertemplate": "%{y} %{customdata}<extra></extra>",
         "name": "Community sentence",
         "type": "bar",
         "x": [
          2010,
          2011,
          2012,
          2013,
          2014,
          2015,
          2016,
          2017,
          2018,
          2019,
          2020,
          2021,
          2022
         ],
         "y": [
          278,
          289,
          215,
          189,
          173,
          170,
          161,
          137,
          142,
          151,
          101,
          146,
          122
         ]
        },
        {
         "customdata": [
          "immediate custody",
          "immediate custody",
          "immediate custody",
          "immediate custody",
          "immediate custody",
          "immediate custody",
          "immediate custody",
          "immediate custody",
          "immediate custody",
          "immediate custody",
          "immediate custody",
          "immediate custody",
          "immediate custody"
         ],
         "hovertemplate": "%{y} %{customdata}<extra></extra>",
         "name": "Immediate custody",
         "type": "bar",
         "x": [
          2010,
          2011,
          2012,
          2013,
          2014,
          2015,
          2016,
          2017,
          2018,
          2019,
          2020,
          2021,
          2022
         ],
         "y": [
          85,
          58,
          78,
          79,
          82,
          76,
          80,
          64,
          79,
          41,
          56,
          50,
          57
         ]
        },
        {
         "customdata": [
          "suspended sentence",
          "suspended sentence",
          "suspended sentence",
          "suspended sentence",
          "suspended sentence",
          "suspended sentence",
          "suspended sentence",
          "suspended sentence",
          "suspended sentence",
          "suspended sentence",
          "suspended sentence",
          "suspended sentence",
          "suspended sentence"
         ],
         "hovertemplate": "%{y} %{customdata}<extra></extra>",
         "name": "Suspended sentence",
         "type": "bar",
         "x": [
          2010,
          2011,
          2012,
          2013,
          2014,
          2015,
          2016,
          2017,
          2018,
          2019,
          2020,
          2021,
          2022
         ],
         "y": [
          80,
          87,
          91,
          91,
          141,
          142,
          102,
          83,
          65,
          45,
          55,
          66,
          40
         ]
        }
       ],
       "layout": {
        "annotations": [
         {
          "font": {
           "size": 12
          },
          "showarrow": false,
          "text": "Source: Ministry of Justice, Criminal justice statistics",
          "x": -0.08,
          "xanchor": "left",
          "xref": "paper",
          "y": -0.19,
          "yanchor": "top",
          "yref": "paper"
         },
         {
          "align": "left",
          "font": {
           "size": 12
          },
          "showarrow": false,
          "text": "Women sentenced",
          "x": 2010,
          "xanchor": "left",
          "xref": "x",
          "y": 1.04,
          "yref": "paper"
         }
        ],
        "barmode": "group",
        "height": 360,
        "hovermode": "x",
        "legend": {
         "x": 1,
         "xanchor": "right",
         "y": 1.05,
         "yanchor": "top"
        },
        "margin": {
         "b": 75,
         "l": 63,
         "r": 20
        },
        "modebar": {
         "activecolor": "#A01D28"
        },
        "showlegend": true,
        "template": {
         "layout": {
          "colorway": [
           "#A01D28",
           "#499CC9",
           "#F9A237",
           "#6FBA3A",
           "#573D6B"
          ],
          "font": {
           "color": "#54565B",
           "family": "Helvetica Neue, Arial",
           "size": 12
          },
          "modebar": {
           "activecolor": "#A01D28"
          },
          "paper_bgcolor": "#F7F2F2",
          "plot_bgcolor": "#F7F2F2",
          "showlegend": false,
          "title": {
           "font": {
            "family": "Helvetica Neue, Arial",
            "size": 17
           },
           "y": 0.94,
           "yanchor": "bottom"
          },
          "xaxis": {
           "showgrid": false,
           "tickcolor": "#54565B"
          }
         }
        },
        "title": {
         "text": "<b>Sentencing of women in Durham 2010–2022</b>",
         "y": 0.94,
         "yanchor": "bottom"
        },
        "width": 655,
        "xaxis": {
         "dtick": 2,
         "range": [
          2009.3,
          2022.8
         ],
         "showgrid": false,
         "tick0": 2010,
         "tickcolor": "#54565B"
        },
        "yaxis": {
         "range": [
          0,
          315
         ],
         "tick0": 0,
         "tickformat": ",.0f",
         "title": {
          "text": ""
         }
        }
       }
      }
     },
     "metadata": {},
     "output_type": "display_data"
    },
    {
     "data": {
      "application/vnd.plotly.v1+json": {
       "config": {
        "plotlyServerURL": "https://plot.ly"
       },
       "data": [
        {
         "customdata": [
          "community sentence",
          "community sentence",
          "community sentence",
          "community sentence",
          "community sentence",
          "community sentence",
          "community sentence",
          "community sentence",
          "community sentence",
          "community sentence",
          "community sentence",
          "community sentence",
          "community sentence"
         ],
         "hovertemplate": "%{y} %{customdata}<extra></extra>",
         "name": "Community sentence",
         "type": "bar",
         "x": [
          2010,
          2011,
          2012,
          2013,
          2014,
          2015,
          2016,
          2017,
          2018,
          2019,
          2020,
          2021,
          2022
         ],
         "y": [
          159,
          188,
          181,
          145,
          165,
          125,
          105,
          87,
          122,
          130,
          87,
          91,
          102
         ]
        },
        {
         "customdata": [
          "immediate custody",
          "immediate custody",
          "immediate custody",
          "immediate custody",
          "immediate custody",
          "immediate custody",
          "immediate custody",
          "immediate custody",
          "immediate custody",
          "immediate custody",
          "immediate custody",
          "immediate custody",
          "immediate custody"
         ],
         "hovertemplate": "%{y} %{customdata}<extra></extra>",
         "name": "Immediate custody",
         "type": "bar",
         "x": [
          2010,
          2011,
          2012,
          2013,
          2014,
          2015,
          2016,
          2017,
          2018,
          2019,
          2020,
          2021,
          2022
         ],
         "y": [
          48,
          58,
          42,
          44,
          37,
          33,
          32,
          44,
          41,
          38,
          14,
          14,
          20
         ]
        },
        {
         "customdata": [
          "suspended sentence",
          "suspended sentence",
          "suspended sentence",
          "suspended sentence",
          "suspended sentence",
          "suspended sentence",
          "suspended sentence",
          "suspended sentence",
          "suspended sentence",
          "suspended sentence",
          "suspended sentence",
          "suspended sentence",
          "suspended sentence"
         ],
         "hovertemplate": "%{y} %{customdata}<extra></extra>",
         "name": "Suspended sentence",
         "type": "bar",
         "x": [
          2010,
          2011,
          2012,
          2013,
          2014,
          2015,
          2016,
          2017,
          2018,
          2019,
          2020,
          2021,
          2022
         ],
         "y": [
          42,
          39,
          33,
          57,
          59,
          59,
          55,
          57,
          45,
          55,
          24,
          18,
          39
         ]
        }
       ],
       "layout": {
        "annotations": [
         {
          "font": {
           "size": 12
          },
          "showarrow": false,
          "text": "Source: Ministry of Justice, Criminal justice statistics",
          "x": -0.08,
          "xanchor": "left",
          "xref": "paper",
          "y": -0.19,
          "yanchor": "top",
          "yref": "paper"
         },
         {
          "align": "left",
          "font": {
           "size": 12
          },
          "showarrow": false,
          "text": "Women sentenced",
          "x": 2010,
          "xanchor": "left",
          "xref": "x",
          "y": 1.04,
          "yref": "paper"
         }
        ],
        "barmode": "group",
        "height": 360,
        "hovermode": "x",
        "legend": {
         "x": 1,
         "xanchor": "right",
         "y": 1.05,
         "yanchor": "top"
        },
        "margin": {
         "b": 75,
         "l": 63,
         "r": 20
        },
        "modebar": {
         "activecolor": "#A01D28"
        },
        "showlegend": true,
        "template": {
         "layout": {
          "colorway": [
           "#A01D28",
           "#499CC9",
           "#F9A237",
           "#6FBA3A",
           "#573D6B"
          ],
          "font": {
           "color": "#54565B",
           "family": "Helvetica Neue, Arial",
           "size": 12
          },
          "modebar": {
           "activecolor": "#A01D28"
          },
          "paper_bgcolor": "#F7F2F2",
          "plot_bgcolor": "#F7F2F2",
          "showlegend": false,
          "title": {
           "font": {
            "family": "Helvetica Neue, Arial",
            "size": 17
           },
           "y": 0.94,
           "yanchor": "bottom"
          },
          "xaxis": {
           "showgrid": false,
           "tickcolor": "#54565B"
          }
         }
        },
        "title": {
         "text": "<b>Sentencing of women in Dyfed-Powys 2010–2022</b>",
         "y": 0.94,
         "yanchor": "bottom"
        },
        "width": 655,
        "xaxis": {
         "dtick": 2,
         "range": [
          2009.3,
          2022.8
         ],
         "showgrid": false,
         "tick0": 2010,
         "tickcolor": "#54565B"
        },
        "yaxis": {
         "range": [
          0,
          208
         ],
         "tick0": 0,
         "tickformat": ",.0f",
         "title": {
          "text": ""
         }
        }
       }
      }
     },
     "metadata": {},
     "output_type": "display_data"
    },
    {
     "data": {
      "application/vnd.plotly.v1+json": {
       "config": {
        "plotlyServerURL": "https://plot.ly"
       },
       "data": [
        {
         "customdata": [
          "community sentence",
          "community sentence",
          "community sentence",
          "community sentence",
          "community sentence",
          "community sentence",
          "community sentence",
          "community sentence",
          "community sentence",
          "community sentence",
          "community sentence",
          "community sentence",
          "community sentence"
         ],
         "hovertemplate": "%{y} %{customdata}<extra></extra>",
         "name": "Community sentence",
         "type": "bar",
         "x": [
          2010,
          2011,
          2012,
          2013,
          2014,
          2015,
          2016,
          2017,
          2018,
          2019,
          2020,
          2021,
          2022
         ],
         "y": [
          633,
          694,
          499,
          588,
          559,
          456,
          383,
          326,
          373,
          414,
          295,
          390,
          343
         ]
        },
        {
         "customdata": [
          "immediate custody",
          "immediate custody",
          "immediate custody",
          "immediate custody",
          "immediate custody",
          "immediate custody",
          "immediate custody",
          "immediate custody",
          "immediate custody",
          "immediate custody",
          "immediate custody",
          "immediate custody",
          "immediate custody"
         ],
         "hovertemplate": "%{y} %{customdata}<extra></extra>",
         "name": "Immediate custody",
         "type": "bar",
         "x": [
          2010,
          2011,
          2012,
          2013,
          2014,
          2015,
          2016,
          2017,
          2018,
          2019,
          2020,
          2021,
          2022
         ],
         "y": [
          217,
          221,
          190,
          191,
          198,
          162,
          176,
          176,
          181,
          155,
          91,
          76,
          92
         ]
        },
        {
         "customdata": [
          "suspended sentence",
          "suspended sentence",
          "suspended sentence",
          "suspended sentence",
          "suspended sentence",
          "suspended sentence",
          "suspended sentence",
          "suspended sentence",
          "suspended sentence",
          "suspended sentence",
          "suspended sentence",
          "suspended sentence",
          "suspended sentence"
         ],
         "hovertemplate": "%{y} %{customdata}<extra></extra>",
         "name": "Suspended sentence",
         "type": "bar",
         "x": [
          2010,
          2011,
          2012,
          2013,
          2014,
          2015,
          2016,
          2017,
          2018,
          2019,
          2020,
          2021,
          2022
         ],
         "y": [
          209,
          224,
          199,
          194,
          222,
          208,
          189,
          226,
          155,
          151,
          142,
          166,
          162
         ]
        }
       ],
       "layout": {
        "annotations": [
         {
          "font": {
           "size": 12
          },
          "showarrow": false,
          "text": "Source: Ministry of Justice, Criminal justice statistics",
          "x": -0.08,
          "xanchor": "left",
          "xref": "paper",
          "y": -0.19,
          "yanchor": "top",
          "yref": "paper"
         },
         {
          "align": "left",
          "font": {
           "size": 12
          },
          "showarrow": false,
          "text": "Women sentenced",
          "x": 2010,
          "xanchor": "left",
          "xref": "x",
          "y": 1.04,
          "yref": "paper"
         }
        ],
        "barmode": "group",
        "height": 360,
        "hovermode": "x",
        "legend": {
         "x": 1,
         "xanchor": "right",
         "y": 1.05,
         "yanchor": "top"
        },
        "margin": {
         "b": 75,
         "l": 63,
         "r": 20
        },
        "modebar": {
         "activecolor": "#A01D28"
        },
        "showlegend": true,
        "template": {
         "layout": {
          "colorway": [
           "#A01D28",
           "#499CC9",
           "#F9A237",
           "#6FBA3A",
           "#573D6B"
          ],
          "font": {
           "color": "#54565B",
           "family": "Helvetica Neue, Arial",
           "size": 12
          },
          "modebar": {
           "activecolor": "#A01D28"
          },
          "paper_bgcolor": "#F7F2F2",
          "plot_bgcolor": "#F7F2F2",
          "showlegend": false,
          "title": {
           "font": {
            "family": "Helvetica Neue, Arial",
            "size": 17
           },
           "y": 0.94,
           "yanchor": "bottom"
          },
          "xaxis": {
           "showgrid": false,
           "tickcolor": "#54565B"
          }
         }
        },
        "title": {
         "text": "<b>Sentencing of women in Essex 2010–2022</b>",
         "y": 0.94,
         "yanchor": "bottom"
        },
        "width": 655,
        "xaxis": {
         "dtick": 2,
         "range": [
          2009.3,
          2022.8
         ],
         "showgrid": false,
         "tick0": 2010,
         "tickcolor": "#54565B"
        },
        "yaxis": {
         "range": [
          0,
          830
         ],
         "tick0": 0,
         "tickformat": ",.0f",
         "title": {
          "text": ""
         }
        }
       }
      }
     },
     "metadata": {},
     "output_type": "display_data"
    },
    {
     "data": {
      "application/vnd.plotly.v1+json": {
       "config": {
        "plotlyServerURL": "https://plot.ly"
       },
       "data": [
        {
         "customdata": [
          "community sentence",
          "community sentence",
          "community sentence",
          "community sentence",
          "community sentence",
          "community sentence",
          "community sentence",
          "community sentence",
          "community sentence",
          "community sentence",
          "community sentence",
          "community sentence",
          "community sentence"
         ],
         "hovertemplate": "%{y} %{customdata}<extra></extra>",
         "name": "Community sentence",
         "type": "bar",
         "x": [
          2010,
          2011,
          2012,
          2013,
          2014,
          2015,
          2016,
          2017,
          2018,
          2019,
          2020,
          2021,
          2022
         ],
         "y": [
          193,
          189,
          144,
          148,
          132,
          134,
          121,
          101,
          116,
          132,
          60,
          109,
          121
         ]
        },
        {
         "customdata": [
          "immediate custody",
          "immediate custody",
          "immediate custody",
          "immediate custody",
          "immediate custody",
          "immediate custody",
          "immediate custody",
          "immediate custody",
          "immediate custody",
          "immediate custody",
          "immediate custody",
          "immediate custody",
          "immediate custody"
         ],
         "hovertemplate": "%{y} %{customdata}<extra></extra>",
         "name": "Immediate custody",
         "type": "bar",
         "x": [
          2010,
          2011,
          2012,
          2013,
          2014,
          2015,
          2016,
          2017,
          2018,
          2019,
          2020,
          2021,
          2022
         ],
         "y": [
          67,
          51,
          49,
          61,
          66,
          71,
          58,
          58,
          41,
          36,
          18,
          13,
          23
         ]
        },
        {
         "customdata": [
          "suspended sentence",
          "suspended sentence",
          "suspended sentence",
          "suspended sentence",
          "suspended sentence",
          "suspended sentence",
          "suspended sentence",
          "suspended sentence",
          "suspended sentence",
          "suspended sentence",
          "suspended sentence",
          "suspended sentence",
          "suspended sentence"
         ],
         "hovertemplate": "%{y} %{customdata}<extra></extra>",
         "name": "Suspended sentence",
         "type": "bar",
         "x": [
          2010,
          2011,
          2012,
          2013,
          2014,
          2015,
          2016,
          2017,
          2018,
          2019,
          2020,
          2021,
          2022
         ],
         "y": [
          46,
          48,
          42,
          49,
          47,
          72,
          67,
          57,
          45,
          53,
          36,
          58,
          37
         ]
        }
       ],
       "layout": {
        "annotations": [
         {
          "font": {
           "size": 12
          },
          "showarrow": false,
          "text": "Source: Ministry of Justice, Criminal justice statistics",
          "x": -0.08,
          "xanchor": "left",
          "xref": "paper",
          "y": -0.19,
          "yanchor": "top",
          "yref": "paper"
         },
         {
          "align": "left",
          "font": {
           "size": 12
          },
          "showarrow": false,
          "text": "Women sentenced",
          "x": 2010,
          "xanchor": "left",
          "xref": "x",
          "y": 1.04,
          "yref": "paper"
         }
        ],
        "barmode": "group",
        "height": 360,
        "hovermode": "x",
        "legend": {
         "x": 1,
         "xanchor": "right",
         "y": 1.05,
         "yanchor": "top"
        },
        "margin": {
         "b": 75,
         "l": 63,
         "r": 20
        },
        "modebar": {
         "activecolor": "#A01D28"
        },
        "showlegend": true,
        "template": {
         "layout": {
          "colorway": [
           "#A01D28",
           "#499CC9",
           "#F9A237",
           "#6FBA3A",
           "#573D6B"
          ],
          "font": {
           "color": "#54565B",
           "family": "Helvetica Neue, Arial",
           "size": 12
          },
          "modebar": {
           "activecolor": "#A01D28"
          },
          "paper_bgcolor": "#F7F2F2",
          "plot_bgcolor": "#F7F2F2",
          "showlegend": false,
          "title": {
           "font": {
            "family": "Helvetica Neue, Arial",
            "size": 17
           },
           "y": 0.94,
           "yanchor": "bottom"
          },
          "xaxis": {
           "showgrid": false,
           "tickcolor": "#54565B"
          }
         }
        },
        "title": {
         "text": "<b>Sentencing of women in Gloucestershire 2010–2022</b>",
         "y": 0.94,
         "yanchor": "bottom"
        },
        "width": 655,
        "xaxis": {
         "dtick": 2,
         "range": [
          2009.3,
          2022.8
         ],
         "showgrid": false,
         "tick0": 2010,
         "tickcolor": "#54565B"
        },
        "yaxis": {
         "range": [
          0,
          208
         ],
         "tick0": 0,
         "tickformat": ",.0f",
         "title": {
          "text": ""
         }
        }
       }
      }
     },
     "metadata": {},
     "output_type": "display_data"
    },
    {
     "data": {
      "application/vnd.plotly.v1+json": {
       "config": {
        "plotlyServerURL": "https://plot.ly"
       },
       "data": [
        {
         "customdata": [
          "community sentence",
          "community sentence",
          "community sentence",
          "community sentence",
          "community sentence",
          "community sentence",
          "community sentence",
          "community sentence",
          "community sentence",
          "community sentence",
          "community sentence",
          "community sentence",
          "community sentence"
         ],
         "hovertemplate": "%{y} %{customdata}<extra></extra>",
         "name": "Community sentence",
         "type": "bar",
         "x": [
          2010,
          2011,
          2012,
          2013,
          2014,
          2015,
          2016,
          2017,
          2018,
          2019,
          2020,
          2021,
          2022
         ],
         "y": [
          1696,
          1580,
          1337,
          1114,
          1006,
          994,
          797,
          617,
          662,
          671,
          341,
          431,
          473
         ]
        },
        {
         "customdata": [
          "immediate custody",
          "immediate custody",
          "immediate custody",
          "immediate custody",
          "immediate custody",
          "immediate custody",
          "immediate custody",
          "immediate custody",
          "immediate custody",
          "immediate custody",
          "immediate custody",
          "immediate custody",
          "immediate custody"
         ],
         "hovertemplate": "%{y} %{customdata}<extra></extra>",
         "name": "Immediate custody",
         "type": "bar",
         "x": [
          2010,
          2011,
          2012,
          2013,
          2014,
          2015,
          2016,
          2017,
          2018,
          2019,
          2020,
          2021,
          2022
         ],
         "y": [
          440,
          460,
          400,
          402,
          446,
          402,
          307,
          269,
          217,
          251,
          186,
          182,
          200
         ]
        },
        {
         "customdata": [
          "suspended sentence",
          "suspended sentence",
          "suspended sentence",
          "suspended sentence",
          "suspended sentence",
          "suspended sentence",
          "suspended sentence",
          "suspended sentence",
          "suspended sentence",
          "suspended sentence",
          "suspended sentence",
          "suspended sentence",
          "suspended sentence"
         ],
         "hovertemplate": "%{y} %{customdata}<extra></extra>",
         "name": "Suspended sentence",
         "type": "bar",
         "x": [
          2010,
          2011,
          2012,
          2013,
          2014,
          2015,
          2016,
          2017,
          2018,
          2019,
          2020,
          2021,
          2022
         ],
         "y": [
          473,
          501,
          458,
          479,
          530,
          492,
          454,
          373,
          317,
          261,
          233,
          276,
          266
         ]
        }
       ],
       "layout": {
        "annotations": [
         {
          "font": {
           "size": 12
          },
          "showarrow": false,
          "text": "Source: Ministry of Justice, Criminal justice statistics",
          "x": -0.08,
          "xanchor": "left",
          "xref": "paper",
          "y": -0.19,
          "yanchor": "top",
          "yref": "paper"
         },
         {
          "align": "left",
          "font": {
           "size": 12
          },
          "showarrow": false,
          "text": "Women sentenced",
          "x": 2010,
          "xanchor": "left",
          "xref": "x",
          "y": 1.04,
          "yref": "paper"
         }
        ],
        "barmode": "group",
        "height": 360,
        "hovermode": "x",
        "legend": {
         "x": 1,
         "xanchor": "right",
         "y": 1.05,
         "yanchor": "top"
        },
        "margin": {
         "b": 75,
         "l": 63,
         "r": 20
        },
        "modebar": {
         "activecolor": "#A01D28"
        },
        "showlegend": true,
        "template": {
         "layout": {
          "colorway": [
           "#A01D28",
           "#499CC9",
           "#F9A237",
           "#6FBA3A",
           "#573D6B"
          ],
          "font": {
           "color": "#54565B",
           "family": "Helvetica Neue, Arial",
           "size": 12
          },
          "modebar": {
           "activecolor": "#A01D28"
          },
          "paper_bgcolor": "#F7F2F2",
          "plot_bgcolor": "#F7F2F2",
          "showlegend": false,
          "title": {
           "font": {
            "family": "Helvetica Neue, Arial",
            "size": 17
           },
           "y": 0.94,
           "yanchor": "bottom"
          },
          "xaxis": {
           "showgrid": false,
           "tickcolor": "#54565B"
          }
         }
        },
        "title": {
         "text": "<b>Sentencing of women in Greater Manchester 2010–2022</b>",
         "y": 0.94,
         "yanchor": "bottom"
        },
        "width": 655,
        "xaxis": {
         "dtick": 2,
         "range": [
          2009.3,
          2022.8
         ],
         "showgrid": false,
         "tick0": 2010,
         "tickcolor": "#54565B"
        },
        "yaxis": {
         "range": [
          0,
          2080
         ],
         "tick0": 0,
         "tickformat": ",.0f",
         "title": {
          "text": ""
         }
        }
       }
      }
     },
     "metadata": {},
     "output_type": "display_data"
    },
    {
     "data": {
      "application/vnd.plotly.v1+json": {
       "config": {
        "plotlyServerURL": "https://plot.ly"
       },
       "data": [
        {
         "customdata": [
          "community sentence",
          "community sentence",
          "community sentence",
          "community sentence",
          "community sentence",
          "community sentence",
          "community sentence",
          "community sentence",
          "community sentence",
          "community sentence",
          "community sentence",
          "community sentence",
          "community sentence"
         ],
         "hovertemplate": "%{y} %{customdata}<extra></extra>",
         "name": "Community sentence",
         "type": "bar",
         "x": [
          2010,
          2011,
          2012,
          2013,
          2014,
          2015,
          2016,
          2017,
          2018,
          2019,
          2020,
          2021,
          2022
         ],
         "y": [
          210,
          287,
          277,
          205,
          159,
          141,
          108,
          126,
          97,
          120,
          89,
          70,
          74
         ]
        },
        {
         "customdata": [
          "immediate custody",
          "immediate custody",
          "immediate custody",
          "immediate custody",
          "immediate custody",
          "immediate custody",
          "immediate custody",
          "immediate custody",
          "immediate custody",
          "immediate custody",
          "immediate custody",
          "immediate custody",
          "immediate custody"
         ],
         "hovertemplate": "%{y} %{customdata}<extra></extra>",
         "name": "Immediate custody",
         "type": "bar",
         "x": [
          2010,
          2011,
          2012,
          2013,
          2014,
          2015,
          2016,
          2017,
          2018,
          2019,
          2020,
          2021,
          2022
         ],
         "y": [
          59,
          69,
          92,
          84,
          90,
          76,
          88,
          109,
          87,
          40,
          18,
          25,
          17
         ]
        },
        {
         "customdata": [
          "suspended sentence",
          "suspended sentence",
          "suspended sentence",
          "suspended sentence",
          "suspended sentence",
          "suspended sentence",
          "suspended sentence",
          "suspended sentence",
          "suspended sentence",
          "suspended sentence",
          "suspended sentence",
          "suspended sentence",
          "suspended sentence"
         ],
         "hovertemplate": "%{y} %{customdata}<extra></extra>",
         "name": "Suspended sentence",
         "type": "bar",
         "x": [
          2010,
          2011,
          2012,
          2013,
          2014,
          2015,
          2016,
          2017,
          2018,
          2019,
          2020,
          2021,
          2022
         ],
         "y": [
          72,
          52,
          83,
          99,
          96,
          143,
          104,
          105,
          96,
          58,
          53,
          48,
          48
         ]
        }
       ],
       "layout": {
        "annotations": [
         {
          "font": {
           "size": 12
          },
          "showarrow": false,
          "text": "Source: Ministry of Justice, Criminal justice statistics",
          "x": -0.08,
          "xanchor": "left",
          "xref": "paper",
          "y": -0.19,
          "yanchor": "top",
          "yref": "paper"
         },
         {
          "align": "left",
          "font": {
           "size": 12
          },
          "showarrow": false,
          "text": "Women sentenced",
          "x": 2010,
          "xanchor": "left",
          "xref": "x",
          "y": 1.04,
          "yref": "paper"
         }
        ],
        "barmode": "group",
        "height": 360,
        "hovermode": "x",
        "legend": {
         "x": 1,
         "xanchor": "right",
         "y": 1.05,
         "yanchor": "top"
        },
        "margin": {
         "b": 75,
         "l": 63,
         "r": 20
        },
        "modebar": {
         "activecolor": "#A01D28"
        },
        "showlegend": true,
        "template": {
         "layout": {
          "colorway": [
           "#A01D28",
           "#499CC9",
           "#F9A237",
           "#6FBA3A",
           "#573D6B"
          ],
          "font": {
           "color": "#54565B",
           "family": "Helvetica Neue, Arial",
           "size": 12
          },
          "modebar": {
           "activecolor": "#A01D28"
          },
          "paper_bgcolor": "#F7F2F2",
          "plot_bgcolor": "#F7F2F2",
          "showlegend": false,
          "title": {
           "font": {
            "family": "Helvetica Neue, Arial",
            "size": 17
           },
           "y": 0.94,
           "yanchor": "bottom"
          },
          "xaxis": {
           "showgrid": false,
           "tickcolor": "#54565B"
          }
         }
        },
        "title": {
         "text": "<b>Sentencing of women in Gwent 2010–2022</b>",
         "y": 0.94,
         "yanchor": "bottom"
        },
        "width": 655,
        "xaxis": {
         "dtick": 2,
         "range": [
          2009.3,
          2022.8
         ],
         "showgrid": false,
         "tick0": 2010,
         "tickcolor": "#54565B"
        },
        "yaxis": {
         "range": [
          0,
          315
         ],
         "tick0": 0,
         "tickformat": ",.0f",
         "title": {
          "text": ""
         }
        }
       }
      }
     },
     "metadata": {},
     "output_type": "display_data"
    },
    {
     "data": {
      "application/vnd.plotly.v1+json": {
       "config": {
        "plotlyServerURL": "https://plot.ly"
       },
       "data": [
        {
         "customdata": [
          "community sentence",
          "community sentence",
          "community sentence",
          "community sentence",
          "community sentence",
          "community sentence",
          "community sentence",
          "community sentence",
          "community sentence",
          "community sentence",
          "community sentence",
          "community sentence",
          "community sentence"
         ],
         "hovertemplate": "%{y} %{customdata}<extra></extra>",
         "name": "Community sentence",
         "type": "bar",
         "x": [
          2010,
          2011,
          2012,
          2013,
          2014,
          2015,
          2016,
          2017,
          2018,
          2019,
          2020,
          2021,
          2022
         ],
         "y": [
          905,
          833,
          681,
          569,
          476,
          452,
          379,
          384,
          406,
          399,
          198,
          346,
          292
         ]
        },
        {
         "customdata": [
          "immediate custody",
          "immediate custody",
          "immediate custody",
          "immediate custody",
          "immediate custody",
          "immediate custody",
          "immediate custody",
          "immediate custody",
          "immediate custody",
          "immediate custody",
          "immediate custody",
          "immediate custody",
          "immediate custody"
         ],
         "hovertemplate": "%{y} %{customdata}<extra></extra>",
         "name": "Immediate custody",
         "type": "bar",
         "x": [
          2010,
          2011,
          2012,
          2013,
          2014,
          2015,
          2016,
          2017,
          2018,
          2019,
          2020,
          2021,
          2022
         ],
         "y": [
          189,
          254,
          242,
          153,
          191,
          207,
          158,
          172,
          158,
          126,
          128,
          100,
          88
         ]
        },
        {
         "customdata": [
          "suspended sentence",
          "suspended sentence",
          "suspended sentence",
          "suspended sentence",
          "suspended sentence",
          "suspended sentence",
          "suspended sentence",
          "suspended sentence",
          "suspended sentence",
          "suspended sentence",
          "suspended sentence",
          "suspended sentence",
          "suspended sentence"
         ],
         "hovertemplate": "%{y} %{customdata}<extra></extra>",
         "name": "Suspended sentence",
         "type": "bar",
         "x": [
          2010,
          2011,
          2012,
          2013,
          2014,
          2015,
          2016,
          2017,
          2018,
          2019,
          2020,
          2021,
          2022
         ],
         "y": [
          181,
          236,
          209,
          209,
          227,
          241,
          211,
          194,
          181,
          171,
          104,
          144,
          107
         ]
        }
       ],
       "layout": {
        "annotations": [
         {
          "font": {
           "size": 12
          },
          "showarrow": false,
          "text": "Source: Ministry of Justice, Criminal justice statistics",
          "x": -0.08,
          "xanchor": "left",
          "xref": "paper",
          "y": -0.19,
          "yanchor": "top",
          "yref": "paper"
         },
         {
          "align": "left",
          "font": {
           "size": 12
          },
          "showarrow": false,
          "text": "Women sentenced",
          "x": 2010,
          "xanchor": "left",
          "xref": "x",
          "y": 1.04,
          "yref": "paper"
         }
        ],
        "barmode": "group",
        "height": 360,
        "hovermode": "x",
        "legend": {
         "x": 1,
         "xanchor": "right",
         "y": 1.05,
         "yanchor": "top"
        },
        "margin": {
         "b": 75,
         "l": 63,
         "r": 20
        },
        "modebar": {
         "activecolor": "#A01D28"
        },
        "showlegend": true,
        "template": {
         "layout": {
          "colorway": [
           "#A01D28",
           "#499CC9",
           "#F9A237",
           "#6FBA3A",
           "#573D6B"
          ],
          "font": {
           "color": "#54565B",
           "family": "Helvetica Neue, Arial",
           "size": 12
          },
          "modebar": {
           "activecolor": "#A01D28"
          },
          "paper_bgcolor": "#F7F2F2",
          "plot_bgcolor": "#F7F2F2",
          "showlegend": false,
          "title": {
           "font": {
            "family": "Helvetica Neue, Arial",
            "size": 17
           },
           "y": 0.94,
           "yanchor": "bottom"
          },
          "xaxis": {
           "showgrid": false,
           "tickcolor": "#54565B"
          }
         }
        },
        "title": {
         "text": "<b>Sentencing of women in Hampshire 2010–2022</b>",
         "y": 0.94,
         "yanchor": "bottom"
        },
        "width": 655,
        "xaxis": {
         "dtick": 2,
         "range": [
          2009.3,
          2022.8
         ],
         "showgrid": false,
         "tick0": 2010,
         "tickcolor": "#54565B"
        },
        "yaxis": {
         "range": [
          0,
          909
         ],
         "tick0": 0,
         "tickformat": ",.0f",
         "title": {
          "text": ""
         }
        }
       }
      }
     },
     "metadata": {},
     "output_type": "display_data"
    },
    {
     "data": {
      "application/vnd.plotly.v1+json": {
       "config": {
        "plotlyServerURL": "https://plot.ly"
       },
       "data": [
        {
         "customdata": [
          "community sentence",
          "community sentence",
          "community sentence",
          "community sentence",
          "community sentence",
          "community sentence",
          "community sentence",
          "community sentence",
          "community sentence",
          "community sentence",
          "community sentence",
          "community sentence",
          "community sentence"
         ],
         "hovertemplate": "%{y} %{customdata}<extra></extra>",
         "name": "Community sentence",
         "type": "bar",
         "x": [
          2010,
          2011,
          2012,
          2013,
          2014,
          2015,
          2016,
          2017,
          2018,
          2019,
          2020,
          2021,
          2022
         ],
         "y": [
          407,
          333,
          295,
          186,
          184,
          194,
          155,
          153,
          114,
          133,
          94,
          93,
          97
         ]
        },
        {
         "customdata": [
          "immediate custody",
          "immediate custody",
          "immediate custody",
          "immediate custody",
          "immediate custody",
          "immediate custody",
          "immediate custody",
          "immediate custody",
          "immediate custody",
          "immediate custody",
          "immediate custody",
          "immediate custody",
          "immediate custody"
         ],
         "hovertemplate": "%{y} %{customdata}<extra></extra>",
         "name": "Immediate custody",
         "type": "bar",
         "x": [
          2010,
          2011,
          2012,
          2013,
          2014,
          2015,
          2016,
          2017,
          2018,
          2019,
          2020,
          2021,
          2022
         ],
         "y": [
          92,
          104,
          105,
          100,
          92,
          89,
          110,
          101,
          72,
          68,
          38,
          38,
          44
         ]
        },
        {
         "customdata": [
          "suspended sentence",
          "suspended sentence",
          "suspended sentence",
          "suspended sentence",
          "suspended sentence",
          "suspended sentence",
          "suspended sentence",
          "suspended sentence",
          "suspended sentence",
          "suspended sentence",
          "suspended sentence",
          "suspended sentence",
          "suspended sentence"
         ],
         "hovertemplate": "%{y} %{customdata}<extra></extra>",
         "name": "Suspended sentence",
         "type": "bar",
         "x": [
          2010,
          2011,
          2012,
          2013,
          2014,
          2015,
          2016,
          2017,
          2018,
          2019,
          2020,
          2021,
          2022
         ],
         "y": [
          128,
          125,
          117,
          112,
          137,
          154,
          131,
          132,
          67,
          93,
          64,
          65,
          83
         ]
        }
       ],
       "layout": {
        "annotations": [
         {
          "font": {
           "size": 12
          },
          "showarrow": false,
          "text": "Source: Ministry of Justice, Criminal justice statistics",
          "x": -0.08,
          "xanchor": "left",
          "xref": "paper",
          "y": -0.19,
          "yanchor": "top",
          "yref": "paper"
         },
         {
          "align": "left",
          "font": {
           "size": 12
          },
          "showarrow": false,
          "text": "Women sentenced",
          "x": 2010,
          "xanchor": "left",
          "xref": "x",
          "y": 1.04,
          "yref": "paper"
         }
        ],
        "barmode": "group",
        "height": 360,
        "hovermode": "x",
        "legend": {
         "x": 1,
         "xanchor": "right",
         "y": 1.05,
         "yanchor": "top"
        },
        "margin": {
         "b": 75,
         "l": 63,
         "r": 20
        },
        "modebar": {
         "activecolor": "#A01D28"
        },
        "showlegend": true,
        "template": {
         "layout": {
          "colorway": [
           "#A01D28",
           "#499CC9",
           "#F9A237",
           "#6FBA3A",
           "#573D6B"
          ],
          "font": {
           "color": "#54565B",
           "family": "Helvetica Neue, Arial",
           "size": 12
          },
          "modebar": {
           "activecolor": "#A01D28"
          },
          "paper_bgcolor": "#F7F2F2",
          "plot_bgcolor": "#F7F2F2",
          "showlegend": false,
          "title": {
           "font": {
            "family": "Helvetica Neue, Arial",
            "size": 17
           },
           "y": 0.94,
           "yanchor": "bottom"
          },
          "xaxis": {
           "showgrid": false,
           "tickcolor": "#54565B"
          }
         }
        },
        "title": {
         "text": "<b>Sentencing of women in Hertfordshire 2010–2022</b>",
         "y": 0.94,
         "yanchor": "bottom"
        },
        "width": 655,
        "xaxis": {
         "dtick": 2,
         "range": [
          2009.3,
          2022.8
         ],
         "showgrid": false,
         "tick0": 2010,
         "tickcolor": "#54565B"
        },
        "yaxis": {
         "range": [
          0,
          420
         ],
         "tick0": 0,
         "tickformat": ",.0f",
         "title": {
          "text": ""
         }
        }
       }
      }
     },
     "metadata": {},
     "output_type": "display_data"
    },
    {
     "data": {
      "application/vnd.plotly.v1+json": {
       "config": {
        "plotlyServerURL": "https://plot.ly"
       },
       "data": [
        {
         "customdata": [
          "community sentence",
          "community sentence",
          "community sentence",
          "community sentence",
          "community sentence",
          "community sentence",
          "community sentence",
          "community sentence",
          "community sentence",
          "community sentence",
          "community sentence",
          "community sentence",
          "community sentence"
         ],
         "hovertemplate": "%{y} %{customdata}<extra></extra>",
         "name": "Community sentence",
         "type": "bar",
         "x": [
          2010,
          2011,
          2012,
          2013,
          2014,
          2015,
          2016,
          2017,
          2018,
          2019,
          2020,
          2021,
          2022
         ],
         "y": [
          375,
          393,
          381,
          343,
          310,
          260,
          239,
          244,
          254,
          243,
          106,
          205,
          180
         ]
        },
        {
         "customdata": [
          "immediate custody",
          "immediate custody",
          "immediate custody",
          "immediate custody",
          "immediate custody",
          "immediate custody",
          "immediate custody",
          "immediate custody",
          "immediate custody",
          "immediate custody",
          "immediate custody",
          "immediate custody",
          "immediate custody"
         ],
         "hovertemplate": "%{y} %{customdata}<extra></extra>",
         "name": "Immediate custody",
         "type": "bar",
         "x": [
          2010,
          2011,
          2012,
          2013,
          2014,
          2015,
          2016,
          2017,
          2018,
          2019,
          2020,
          2021,
          2022
         ],
         "y": [
          145,
          153,
          154,
          144,
          154,
          136,
          147,
          122,
          157,
          129,
          137,
          134,
          119
         ]
        },
        {
         "customdata": [
          "suspended sentence",
          "suspended sentence",
          "suspended sentence",
          "suspended sentence",
          "suspended sentence",
          "suspended sentence",
          "suspended sentence",
          "suspended sentence",
          "suspended sentence",
          "suspended sentence",
          "suspended sentence",
          "suspended sentence",
          "suspended sentence"
         ],
         "hovertemplate": "%{y} %{customdata}<extra></extra>",
         "name": "Suspended sentence",
         "type": "bar",
         "x": [
          2010,
          2011,
          2012,
          2013,
          2014,
          2015,
          2016,
          2017,
          2018,
          2019,
          2020,
          2021,
          2022
         ],
         "y": [
          146,
          157,
          160,
          172,
          182,
          176,
          151,
          147,
          128,
          144,
          107,
          139,
          100
         ]
        }
       ],
       "layout": {
        "annotations": [
         {
          "font": {
           "size": 12
          },
          "showarrow": false,
          "text": "Source: Ministry of Justice, Criminal justice statistics",
          "x": -0.08,
          "xanchor": "left",
          "xref": "paper",
          "y": -0.19,
          "yanchor": "top",
          "yref": "paper"
         },
         {
          "align": "left",
          "font": {
           "size": 12
          },
          "showarrow": false,
          "text": "Women sentenced",
          "x": 2010,
          "xanchor": "left",
          "xref": "x",
          "y": 1.04,
          "yref": "paper"
         }
        ],
        "barmode": "group",
        "height": 360,
        "hovermode": "x",
        "legend": {
         "x": 1,
         "xanchor": "right",
         "y": 1.05,
         "yanchor": "top"
        },
        "margin": {
         "b": 75,
         "l": 63,
         "r": 20
        },
        "modebar": {
         "activecolor": "#A01D28"
        },
        "showlegend": true,
        "template": {
         "layout": {
          "colorway": [
           "#A01D28",
           "#499CC9",
           "#F9A237",
           "#6FBA3A",
           "#573D6B"
          ],
          "font": {
           "color": "#54565B",
           "family": "Helvetica Neue, Arial",
           "size": 12
          },
          "modebar": {
           "activecolor": "#A01D28"
          },
          "paper_bgcolor": "#F7F2F2",
          "plot_bgcolor": "#F7F2F2",
          "showlegend": false,
          "title": {
           "font": {
            "family": "Helvetica Neue, Arial",
            "size": 17
           },
           "y": 0.94,
           "yanchor": "bottom"
          },
          "xaxis": {
           "showgrid": false,
           "tickcolor": "#54565B"
          }
         }
        },
        "title": {
         "text": "<b>Sentencing of women in Humberside 2010–2022</b>",
         "y": 0.94,
         "yanchor": "bottom"
        },
        "width": 655,
        "xaxis": {
         "dtick": 2,
         "range": [
          2009.3,
          2022.8
         ],
         "showgrid": false,
         "tick0": 2010,
         "tickcolor": "#54565B"
        },
        "yaxis": {
         "range": [
          0,
          420
         ],
         "tick0": 0,
         "tickformat": ",.0f",
         "title": {
          "text": ""
         }
        }
       }
      }
     },
     "metadata": {},
     "output_type": "display_data"
    },
    {
     "data": {
      "application/vnd.plotly.v1+json": {
       "config": {
        "plotlyServerURL": "https://plot.ly"
       },
       "data": [
        {
         "customdata": [
          "community sentence",
          "community sentence",
          "community sentence",
          "community sentence",
          "community sentence",
          "community sentence",
          "community sentence",
          "community sentence",
          "community sentence",
          "community sentence",
          "community sentence",
          "community sentence",
          "community sentence"
         ],
         "hovertemplate": "%{y} %{customdata}<extra></extra>",
         "name": "Community sentence",
         "type": "bar",
         "x": [
          2010,
          2011,
          2012,
          2013,
          2014,
          2015,
          2016,
          2017,
          2018,
          2019,
          2020,
          2021,
          2022
         ],
         "y": [
          611,
          576,
          529,
          427,
          414,
          422,
          330,
          364,
          384,
          362,
          273,
          387,
          336
         ]
        },
        {
         "customdata": [
          "immediate custody",
          "immediate custody",
          "immediate custody",
          "immediate custody",
          "immediate custody",
          "immediate custody",
          "immediate custody",
          "immediate custody",
          "immediate custody",
          "immediate custody",
          "immediate custody",
          "immediate custody",
          "immediate custody"
         ],
         "hovertemplate": "%{y} %{customdata}<extra></extra>",
         "name": "Immediate custody",
         "type": "bar",
         "x": [
          2010,
          2011,
          2012,
          2013,
          2014,
          2015,
          2016,
          2017,
          2018,
          2019,
          2020,
          2021,
          2022
         ],
         "y": [
          205,
          221,
          182,
          194,
          198,
          189,
          217,
          224,
          193,
          156,
          123,
          135,
          143
         ]
        },
        {
         "customdata": [
          "suspended sentence",
          "suspended sentence",
          "suspended sentence",
          "suspended sentence",
          "suspended sentence",
          "suspended sentence",
          "suspended sentence",
          "suspended sentence",
          "suspended sentence",
          "suspended sentence",
          "suspended sentence",
          "suspended sentence",
          "suspended sentence"
         ],
         "hovertemplate": "%{y} %{customdata}<extra></extra>",
         "name": "Suspended sentence",
         "type": "bar",
         "x": [
          2010,
          2011,
          2012,
          2013,
          2014,
          2015,
          2016,
          2017,
          2018,
          2019,
          2020,
          2021,
          2022
         ],
         "y": [
          187,
          184,
          204,
          210,
          210,
          269,
          213,
          252,
          181,
          141,
          143,
          180,
          131
         ]
        }
       ],
       "layout": {
        "annotations": [
         {
          "font": {
           "size": 12
          },
          "showarrow": false,
          "text": "Source: Ministry of Justice, Criminal justice statistics",
          "x": -0.08,
          "xanchor": "left",
          "xref": "paper",
          "y": -0.19,
          "yanchor": "top",
          "yref": "paper"
         },
         {
          "align": "left",
          "font": {
           "size": 12
          },
          "showarrow": false,
          "text": "Women sentenced",
          "x": 2010,
          "xanchor": "left",
          "xref": "x",
          "y": 1.04,
          "yref": "paper"
         }
        ],
        "barmode": "group",
        "height": 360,
        "hovermode": "x",
        "legend": {
         "x": 1,
         "xanchor": "right",
         "y": 1.05,
         "yanchor": "top"
        },
        "margin": {
         "b": 75,
         "l": 63,
         "r": 20
        },
        "modebar": {
         "activecolor": "#A01D28"
        },
        "showlegend": true,
        "template": {
         "layout": {
          "colorway": [
           "#A01D28",
           "#499CC9",
           "#F9A237",
           "#6FBA3A",
           "#573D6B"
          ],
          "font": {
           "color": "#54565B",
           "family": "Helvetica Neue, Arial",
           "size": 12
          },
          "modebar": {
           "activecolor": "#A01D28"
          },
          "paper_bgcolor": "#F7F2F2",
          "plot_bgcolor": "#F7F2F2",
          "showlegend": false,
          "title": {
           "font": {
            "family": "Helvetica Neue, Arial",
            "size": 17
           },
           "y": 0.94,
           "yanchor": "bottom"
          },
          "xaxis": {
           "showgrid": false,
           "tickcolor": "#54565B"
          }
         }
        },
        "title": {
         "text": "<b>Sentencing of women in Kent 2010–2022</b>",
         "y": 0.94,
         "yanchor": "bottom"
        },
        "width": 655,
        "xaxis": {
         "dtick": 2,
         "range": [
          2009.3,
          2022.8
         ],
         "showgrid": false,
         "tick0": 2010,
         "tickcolor": "#54565B"
        },
        "yaxis": {
         "range": [
          0,
          640
         ],
         "tick0": 0,
         "tickformat": ",.0f",
         "title": {
          "text": ""
         }
        }
       }
      }
     },
     "metadata": {},
     "output_type": "display_data"
    },
    {
     "data": {
      "application/vnd.plotly.v1+json": {
       "config": {
        "plotlyServerURL": "https://plot.ly"
       },
       "data": [
        {
         "customdata": [
          "community sentence",
          "community sentence",
          "community sentence",
          "community sentence",
          "community sentence",
          "community sentence",
          "community sentence",
          "community sentence",
          "community sentence",
          "community sentence",
          "community sentence",
          "community sentence",
          "community sentence"
         ],
         "hovertemplate": "%{y} %{customdata}<extra></extra>",
         "name": "Community sentence",
         "type": "bar",
         "x": [
          2010,
          2011,
          2012,
          2013,
          2014,
          2015,
          2016,
          2017,
          2018,
          2019,
          2020,
          2021,
          2022
         ],
         "y": [
          880,
          825,
          756,
          708,
          524,
          581,
          505,
          463,
          492,
          450,
          278,
          337,
          294
         ]
        },
        {
         "customdata": [
          "immediate custody",
          "immediate custody",
          "immediate custody",
          "immediate custody",
          "immediate custody",
          "immediate custody",
          "immediate custody",
          "immediate custody",
          "immediate custody",
          "immediate custody",
          "immediate custody",
          "immediate custody",
          "immediate custody"
         ],
         "hovertemplate": "%{y} %{customdata}<extra></extra>",
         "name": "Immediate custody",
         "type": "bar",
         "x": [
          2010,
          2011,
          2012,
          2013,
          2014,
          2015,
          2016,
          2017,
          2018,
          2019,
          2020,
          2021,
          2022
         ],
         "y": [
          185,
          187,
          203,
          239,
          234,
          215,
          168,
          198,
          198,
          164,
          113,
          147,
          116
         ]
        },
        {
         "customdata": [
          "suspended sentence",
          "suspended sentence",
          "suspended sentence",
          "suspended sentence",
          "suspended sentence",
          "suspended sentence",
          "suspended sentence",
          "suspended sentence",
          "suspended sentence",
          "suspended sentence",
          "suspended sentence",
          "suspended sentence",
          "suspended sentence"
         ],
         "hovertemplate": "%{y} %{customdata}<extra></extra>",
         "name": "Suspended sentence",
         "type": "bar",
         "x": [
          2010,
          2011,
          2012,
          2013,
          2014,
          2015,
          2016,
          2017,
          2018,
          2019,
          2020,
          2021,
          2022
         ],
         "y": [
          211,
          255,
          251,
          241,
          266,
          288,
          247,
          224,
          193,
          168,
          114,
          191,
          155
         ]
        }
       ],
       "layout": {
        "annotations": [
         {
          "font": {
           "size": 12
          },
          "showarrow": false,
          "text": "Source: Ministry of Justice, Criminal justice statistics",
          "x": -0.08,
          "xanchor": "left",
          "xref": "paper",
          "y": -0.19,
          "yanchor": "top",
          "yref": "paper"
         },
         {
          "align": "left",
          "font": {
           "size": 12
          },
          "showarrow": false,
          "text": "Women sentenced",
          "x": 2010,
          "xanchor": "left",
          "xref": "x",
          "y": 1.04,
          "yref": "paper"
         }
        ],
        "barmode": "group",
        "height": 360,
        "hovermode": "x",
        "legend": {
         "x": 1,
         "xanchor": "right",
         "y": 1.05,
         "yanchor": "top"
        },
        "margin": {
         "b": 75,
         "l": 63,
         "r": 20
        },
        "modebar": {
         "activecolor": "#A01D28"
        },
        "showlegend": true,
        "template": {
         "layout": {
          "colorway": [
           "#A01D28",
           "#499CC9",
           "#F9A237",
           "#6FBA3A",
           "#573D6B"
          ],
          "font": {
           "color": "#54565B",
           "family": "Helvetica Neue, Arial",
           "size": 12
          },
          "modebar": {
           "activecolor": "#A01D28"
          },
          "paper_bgcolor": "#F7F2F2",
          "plot_bgcolor": "#F7F2F2",
          "showlegend": false,
          "title": {
           "font": {
            "family": "Helvetica Neue, Arial",
            "size": 17
           },
           "y": 0.94,
           "yanchor": "bottom"
          },
          "xaxis": {
           "showgrid": false,
           "tickcolor": "#54565B"
          }
         }
        },
        "title": {
         "text": "<b>Sentencing of women in Lancashire 2010–2022</b>",
         "y": 0.94,
         "yanchor": "bottom"
        },
        "width": 655,
        "xaxis": {
         "dtick": 2,
         "range": [
          2009.3,
          2022.8
         ],
         "showgrid": false,
         "tick0": 2010,
         "tickcolor": "#54565B"
        },
        "yaxis": {
         "range": [
          0,
          909
         ],
         "tick0": 0,
         "tickformat": ",.0f",
         "title": {
          "text": ""
         }
        }
       }
      }
     },
     "metadata": {},
     "output_type": "display_data"
    },
    {
     "data": {
      "application/vnd.plotly.v1+json": {
       "config": {
        "plotlyServerURL": "https://plot.ly"
       },
       "data": [
        {
         "customdata": [
          "community sentence",
          "community sentence",
          "community sentence",
          "community sentence",
          "community sentence",
          "community sentence",
          "community sentence",
          "community sentence",
          "community sentence",
          "community sentence",
          "community sentence",
          "community sentence",
          "community sentence"
         ],
         "hovertemplate": "%{y} %{customdata}<extra></extra>",
         "name": "Community sentence",
         "type": "bar",
         "x": [
          2010,
          2011,
          2012,
          2013,
          2014,
          2015,
          2016,
          2017,
          2018,
          2019,
          2020,
          2021,
          2022
         ],
         "y": [
          297,
          324,
          310,
          252,
          205,
          238,
          182,
          195,
          223,
          198,
          112,
          154,
          143
         ]
        },
        {
         "customdata": [
          "immediate custody",
          "immediate custody",
          "immediate custody",
          "immediate custody",
          "immediate custody",
          "immediate custody",
          "immediate custody",
          "immediate custody",
          "immediate custody",
          "immediate custody",
          "immediate custody",
          "immediate custody",
          "immediate custody"
         ],
         "hovertemplate": "%{y} %{customdata}<extra></extra>",
         "name": "Immediate custody",
         "type": "bar",
         "x": [
          2010,
          2011,
          2012,
          2013,
          2014,
          2015,
          2016,
          2017,
          2018,
          2019,
          2020,
          2021,
          2022
         ],
         "y": [
          103,
          116,
          112,
          104,
          102,
          88,
          95,
          109,
          112,
          95,
          90,
          63,
          70
         ]
        },
        {
         "customdata": [
          "suspended sentence",
          "suspended sentence",
          "suspended sentence",
          "suspended sentence",
          "suspended sentence",
          "suspended sentence",
          "suspended sentence",
          "suspended sentence",
          "suspended sentence",
          "suspended sentence",
          "suspended sentence",
          "suspended sentence",
          "suspended sentence"
         ],
         "hovertemplate": "%{y} %{customdata}<extra></extra>",
         "name": "Suspended sentence",
         "type": "bar",
         "x": [
          2010,
          2011,
          2012,
          2013,
          2014,
          2015,
          2016,
          2017,
          2018,
          2019,
          2020,
          2021,
          2022
         ],
         "y": [
          104,
          135,
          121,
          118,
          121,
          154,
          141,
          134,
          111,
          118,
          89,
          104,
          80
         ]
        }
       ],
       "layout": {
        "annotations": [
         {
          "font": {
           "size": 12
          },
          "showarrow": false,
          "text": "Source: Ministry of Justice, Criminal justice statistics",
          "x": -0.08,
          "xanchor": "left",
          "xref": "paper",
          "y": -0.19,
          "yanchor": "top",
          "yref": "paper"
         },
         {
          "align": "left",
          "font": {
           "size": 12
          },
          "showarrow": false,
          "text": "Women sentenced",
          "x": 2010,
          "xanchor": "left",
          "xref": "x",
          "y": 1.04,
          "yref": "paper"
         }
        ],
        "barmode": "group",
        "height": 360,
        "hovermode": "x",
        "legend": {
         "x": 1,
         "xanchor": "right",
         "y": 1.05,
         "yanchor": "top"
        },
        "margin": {
         "b": 75,
         "l": 63,
         "r": 20
        },
        "modebar": {
         "activecolor": "#A01D28"
        },
        "showlegend": true,
        "template": {
         "layout": {
          "colorway": [
           "#A01D28",
           "#499CC9",
           "#F9A237",
           "#6FBA3A",
           "#573D6B"
          ],
          "font": {
           "color": "#54565B",
           "family": "Helvetica Neue, Arial",
           "size": 12
          },
          "modebar": {
           "activecolor": "#A01D28"
          },
          "paper_bgcolor": "#F7F2F2",
          "plot_bgcolor": "#F7F2F2",
          "showlegend": false,
          "title": {
           "font": {
            "family": "Helvetica Neue, Arial",
            "size": 17
           },
           "y": 0.94,
           "yanchor": "bottom"
          },
          "xaxis": {
           "showgrid": false,
           "tickcolor": "#54565B"
          }
         }
        },
        "title": {
         "text": "<b>Sentencing of women in Leicestershire 2010–2022</b>",
         "y": 0.94,
         "yanchor": "bottom"
        },
        "width": 655,
        "xaxis": {
         "dtick": 2,
         "range": [
          2009.3,
          2022.8
         ],
         "showgrid": false,
         "tick0": 2010,
         "tickcolor": "#54565B"
        },
        "yaxis": {
         "range": [
          0,
          420
         ],
         "tick0": 0,
         "tickformat": ",.0f",
         "title": {
          "text": ""
         }
        }
       }
      }
     },
     "metadata": {},
     "output_type": "display_data"
    },
    {
     "data": {
      "application/vnd.plotly.v1+json": {
       "config": {
        "plotlyServerURL": "https://plot.ly"
       },
       "data": [
        {
         "customdata": [
          "community sentence",
          "community sentence",
          "community sentence",
          "community sentence",
          "community sentence",
          "community sentence",
          "community sentence",
          "community sentence",
          "community sentence",
          "community sentence",
          "community sentence",
          "community sentence",
          "community sentence"
         ],
         "hovertemplate": "%{y} %{customdata}<extra></extra>",
         "name": "Community sentence",
         "type": "bar",
         "x": [
          2010,
          2011,
          2012,
          2013,
          2014,
          2015,
          2016,
          2017,
          2018,
          2019,
          2020,
          2021,
          2022
         ],
         "y": [
          172,
          181,
          150,
          119,
          116,
          137,
          108,
          129,
          90,
          99,
          52,
          82,
          103
         ]
        },
        {
         "customdata": [
          "immediate custody",
          "immediate custody",
          "immediate custody",
          "immediate custody",
          "immediate custody",
          "immediate custody",
          "immediate custody",
          "immediate custody",
          "immediate custody",
          "immediate custody",
          "immediate custody",
          "immediate custody",
          "immediate custody"
         ],
         "hovertemplate": "%{y} %{customdata}<extra></extra>",
         "name": "Immediate custody",
         "type": "bar",
         "x": [
          2010,
          2011,
          2012,
          2013,
          2014,
          2015,
          2016,
          2017,
          2018,
          2019,
          2020,
          2021,
          2022
         ],
         "y": [
          51,
          56,
          60,
          66,
          40,
          52,
          66,
          61,
          73,
          65,
          31,
          43,
          46
         ]
        },
        {
         "customdata": [
          "suspended sentence",
          "suspended sentence",
          "suspended sentence",
          "suspended sentence",
          "suspended sentence",
          "suspended sentence",
          "suspended sentence",
          "suspended sentence",
          "suspended sentence",
          "suspended sentence",
          "suspended sentence",
          "suspended sentence",
          "suspended sentence"
         ],
         "hovertemplate": "%{y} %{customdata}<extra></extra>",
         "name": "Suspended sentence",
         "type": "bar",
         "x": [
          2010,
          2011,
          2012,
          2013,
          2014,
          2015,
          2016,
          2017,
          2018,
          2019,
          2020,
          2021,
          2022
         ],
         "y": [
          52,
          58,
          62,
          56,
          65,
          59,
          78,
          73,
          70,
          61,
          47,
          73,
          60
         ]
        }
       ],
       "layout": {
        "annotations": [
         {
          "font": {
           "size": 12
          },
          "showarrow": false,
          "text": "Source: Ministry of Justice, Criminal justice statistics",
          "x": -0.08,
          "xanchor": "left",
          "xref": "paper",
          "y": -0.19,
          "yanchor": "top",
          "yref": "paper"
         },
         {
          "align": "left",
          "font": {
           "size": 12
          },
          "showarrow": false,
          "text": "Women sentenced",
          "x": 2010,
          "xanchor": "left",
          "xref": "x",
          "y": 1.04,
          "yref": "paper"
         }
        ],
        "barmode": "group",
        "height": 360,
        "hovermode": "x",
        "legend": {
         "x": 1,
         "xanchor": "right",
         "y": 1.05,
         "yanchor": "top"
        },
        "margin": {
         "b": 75,
         "l": 63,
         "r": 20
        },
        "modebar": {
         "activecolor": "#A01D28"
        },
        "showlegend": true,
        "template": {
         "layout": {
          "colorway": [
           "#A01D28",
           "#499CC9",
           "#F9A237",
           "#6FBA3A",
           "#573D6B"
          ],
          "font": {
           "color": "#54565B",
           "family": "Helvetica Neue, Arial",
           "size": 12
          },
          "modebar": {
           "activecolor": "#A01D28"
          },
          "paper_bgcolor": "#F7F2F2",
          "plot_bgcolor": "#F7F2F2",
          "showlegend": false,
          "title": {
           "font": {
            "family": "Helvetica Neue, Arial",
            "size": 17
           },
           "y": 0.94,
           "yanchor": "bottom"
          },
          "xaxis": {
           "showgrid": false,
           "tickcolor": "#54565B"
          }
         }
        },
        "title": {
         "text": "<b>Sentencing of women in Lincolnshire 2010–2022</b>",
         "y": 0.94,
         "yanchor": "bottom"
        },
        "width": 655,
        "xaxis": {
         "dtick": 2,
         "range": [
          2009.3,
          2022.8
         ],
         "showgrid": false,
         "tick0": 2010,
         "tickcolor": "#54565B"
        },
        "yaxis": {
         "range": [
          0,
          208
         ],
         "tick0": 0,
         "tickformat": ",.0f",
         "title": {
          "text": ""
         }
        }
       }
      }
     },
     "metadata": {},
     "output_type": "display_data"
    },
    {
     "data": {
      "application/vnd.plotly.v1+json": {
       "config": {
        "plotlyServerURL": "https://plot.ly"
       },
       "data": [
        {
         "customdata": [
          "community sentence",
          "community sentence",
          "community sentence",
          "community sentence",
          "community sentence",
          "community sentence",
          "community sentence",
          "community sentence",
          "community sentence",
          "community sentence",
          "community sentence",
          "community sentence",
          "community sentence"
         ],
         "hovertemplate": "%{y} %{customdata}<extra></extra>",
         "name": "Community sentence",
         "type": "bar",
         "x": [
          2010,
          2011,
          2012,
          2013,
          2014,
          2015,
          2016,
          2017,
          2018,
          2019,
          2020,
          2021,
          2022
         ],
         "y": [
          899,
          728,
          672,
          631,
          580,
          584,
          577,
          557,
          570,
          639,
          447,
          552,
          480
         ]
        },
        {
         "customdata": [
          "immediate custody",
          "immediate custody",
          "immediate custody",
          "immediate custody",
          "immediate custody",
          "immediate custody",
          "immediate custody",
          "immediate custody",
          "immediate custody",
          "immediate custody",
          "immediate custody",
          "immediate custody",
          "immediate custody"
         ],
         "hovertemplate": "%{y} %{customdata}<extra></extra>",
         "name": "Immediate custody",
         "type": "bar",
         "x": [
          2010,
          2011,
          2012,
          2013,
          2014,
          2015,
          2016,
          2017,
          2018,
          2019,
          2020,
          2021,
          2022
         ],
         "y": [
          245,
          259,
          229,
          232,
          247,
          266,
          265,
          236,
          203,
          213,
          163,
          196,
          195
         ]
        },
        {
         "customdata": [
          "suspended sentence",
          "suspended sentence",
          "suspended sentence",
          "suspended sentence",
          "suspended sentence",
          "suspended sentence",
          "suspended sentence",
          "suspended sentence",
          "suspended sentence",
          "suspended sentence",
          "suspended sentence",
          "suspended sentence",
          "suspended sentence"
         ],
         "hovertemplate": "%{y} %{customdata}<extra></extra>",
         "name": "Suspended sentence",
         "type": "bar",
         "x": [
          2010,
          2011,
          2012,
          2013,
          2014,
          2015,
          2016,
          2017,
          2018,
          2019,
          2020,
          2021,
          2022
         ],
         "y": [
          281,
          239,
          227,
          250,
          281,
          352,
          330,
          285,
          233,
          236,
          214,
          309,
          270
         ]
        }
       ],
       "layout": {
        "annotations": [
         {
          "font": {
           "size": 12
          },
          "showarrow": false,
          "text": "Source: Ministry of Justice, Criminal justice statistics",
          "x": -0.08,
          "xanchor": "left",
          "xref": "paper",
          "y": -0.19,
          "yanchor": "top",
          "yref": "paper"
         },
         {
          "align": "left",
          "font": {
           "size": 12
          },
          "showarrow": false,
          "text": "Women sentenced",
          "x": 2010,
          "xanchor": "left",
          "xref": "x",
          "y": 1.04,
          "yref": "paper"
         }
        ],
        "barmode": "group",
        "height": 360,
        "hovermode": "x",
        "legend": {
         "x": 1,
         "xanchor": "right",
         "y": 1.05,
         "yanchor": "top"
        },
        "margin": {
         "b": 75,
         "l": 63,
         "r": 20
        },
        "modebar": {
         "activecolor": "#A01D28"
        },
        "showlegend": true,
        "template": {
         "layout": {
          "colorway": [
           "#A01D28",
           "#499CC9",
           "#F9A237",
           "#6FBA3A",
           "#573D6B"
          ],
          "font": {
           "color": "#54565B",
           "family": "Helvetica Neue, Arial",
           "size": 12
          },
          "modebar": {
           "activecolor": "#A01D28"
          },
          "paper_bgcolor": "#F7F2F2",
          "plot_bgcolor": "#F7F2F2",
          "showlegend": false,
          "title": {
           "font": {
            "family": "Helvetica Neue, Arial",
            "size": 17
           },
           "y": 0.94,
           "yanchor": "bottom"
          },
          "xaxis": {
           "showgrid": false,
           "tickcolor": "#54565B"
          }
         }
        },
        "title": {
         "text": "<b>Sentencing of women in Merseyside 2010–2022</b>",
         "y": 0.94,
         "yanchor": "bottom"
        },
        "width": 655,
        "xaxis": {
         "dtick": 2,
         "range": [
          2009.3,
          2022.8
         ],
         "showgrid": false,
         "tick0": 2010,
         "tickcolor": "#54565B"
        },
        "yaxis": {
         "range": [
          0,
          909
         ],
         "tick0": 0,
         "tickformat": ",.0f",
         "title": {
          "text": ""
         }
        }
       }
      }
     },
     "metadata": {},
     "output_type": "display_data"
    },
    {
     "data": {
      "application/vnd.plotly.v1+json": {
       "config": {
        "plotlyServerURL": "https://plot.ly"
       },
       "data": [
        {
         "customdata": [
          "community sentence",
          "community sentence",
          "community sentence",
          "community sentence",
          "community sentence",
          "community sentence",
          "community sentence",
          "community sentence",
          "community sentence",
          "community sentence",
          "community sentence",
          "community sentence",
          "community sentence"
         ],
         "hovertemplate": "%{y} %{customdata}<extra></extra>",
         "name": "Community sentence",
         "type": "bar",
         "x": [
          2010,
          2011,
          2012,
          2013,
          2014,
          2015,
          2016,
          2017,
          2018,
          2019,
          2020,
          2021,
          2022
         ],
         "y": [
          2806,
          2688,
          2195,
          1935,
          1802,
          1905,
          1854,
          1670,
          1431,
          1261,
          903,
          1200,
          942
         ]
        },
        {
         "customdata": [
          "immediate custody",
          "immediate custody",
          "immediate custody",
          "immediate custody",
          "immediate custody",
          "immediate custody",
          "immediate custody",
          "immediate custody",
          "immediate custody",
          "immediate custody",
          "immediate custody",
          "immediate custody",
          "immediate custody"
         ],
         "hovertemplate": "%{y} %{customdata}<extra></extra>",
         "name": "Immediate custody",
         "type": "bar",
         "x": [
          2010,
          2011,
          2012,
          2013,
          2014,
          2015,
          2016,
          2017,
          2018,
          2019,
          2020,
          2021,
          2022
         ],
         "y": [
          1638,
          1745,
          1523,
          1286,
          1290,
          1180,
          1272,
          1192,
          998,
          884,
          632,
          536,
          576
         ]
        },
        {
         "customdata": [
          "suspended sentence",
          "suspended sentence",
          "suspended sentence",
          "suspended sentence",
          "suspended sentence",
          "suspended sentence",
          "suspended sentence",
          "suspended sentence",
          "suspended sentence",
          "suspended sentence",
          "suspended sentence",
          "suspended sentence",
          "suspended sentence"
         ],
         "hovertemplate": "%{y} %{customdata}<extra></extra>",
         "name": "Suspended sentence",
         "type": "bar",
         "x": [
          2010,
          2011,
          2012,
          2013,
          2014,
          2015,
          2016,
          2017,
          2018,
          2019,
          2020,
          2021,
          2022
         ],
         "y": [
          1211,
          1242,
          1083,
          1071,
          1145,
          1306,
          1231,
          1149,
          800,
          716,
          539,
          614,
          645
         ]
        }
       ],
       "layout": {
        "annotations": [
         {
          "font": {
           "size": 12
          },
          "showarrow": false,
          "text": "Source: Ministry of Justice, Criminal justice statistics",
          "x": -0.08,
          "xanchor": "left",
          "xref": "paper",
          "y": -0.19,
          "yanchor": "top",
          "yref": "paper"
         },
         {
          "align": "left",
          "font": {
           "size": 12
          },
          "showarrow": false,
          "text": "Women sentenced",
          "x": 2010,
          "xanchor": "left",
          "xref": "x",
          "y": 1.04,
          "yref": "paper"
         }
        ],
        "barmode": "group",
        "height": 360,
        "hovermode": "x",
        "legend": {
         "x": 1,
         "xanchor": "right",
         "y": 1.05,
         "yanchor": "top"
        },
        "margin": {
         "b": 75,
         "l": 63,
         "r": 20
        },
        "modebar": {
         "activecolor": "#A01D28"
        },
        "showlegend": true,
        "template": {
         "layout": {
          "colorway": [
           "#A01D28",
           "#499CC9",
           "#F9A237",
           "#6FBA3A",
           "#573D6B"
          ],
          "font": {
           "color": "#54565B",
           "family": "Helvetica Neue, Arial",
           "size": 12
          },
          "modebar": {
           "activecolor": "#A01D28"
          },
          "paper_bgcolor": "#F7F2F2",
          "plot_bgcolor": "#F7F2F2",
          "showlegend": false,
          "title": {
           "font": {
            "family": "Helvetica Neue, Arial",
            "size": 17
           },
           "y": 0.94,
           "yanchor": "bottom"
          },
          "xaxis": {
           "showgrid": false,
           "tickcolor": "#54565B"
          }
         }
        },
        "title": {
         "text": "<b>Sentencing of women in Metropolitan Police 2010–2022</b>",
         "y": 0.94,
         "yanchor": "bottom"
        },
        "width": 655,
        "xaxis": {
         "dtick": 2,
         "range": [
          2009.3,
          2022.8
         ],
         "showgrid": false,
         "tick0": 2010,
         "tickcolor": "#54565B"
        },
        "yaxis": {
         "range": [
          0,
          3100
         ],
         "tick0": 0,
         "tickformat": ",.0f",
         "title": {
          "text": ""
         }
        }
       }
      }
     },
     "metadata": {},
     "output_type": "display_data"
    },
    {
     "data": {
      "application/vnd.plotly.v1+json": {
       "config": {
        "plotlyServerURL": "https://plot.ly"
       },
       "data": [
        {
         "customdata": [
          "community sentence",
          "community sentence",
          "community sentence",
          "community sentence",
          "community sentence",
          "community sentence",
          "community sentence",
          "community sentence",
          "community sentence",
          "community sentence",
          "community sentence",
          "community sentence",
          "community sentence"
         ],
         "hovertemplate": "%{y} %{customdata}<extra></extra>",
         "name": "Community sentence",
         "type": "bar",
         "x": [
          2010,
          2011,
          2012,
          2013,
          2014,
          2015,
          2016,
          2017,
          2018,
          2019,
          2020,
          2021,
          2022
         ],
         "y": [
          252,
          265,
          268,
          203,
          171,
          178,
          169,
          135,
          158,
          127,
          136,
          173,
          122
         ]
        },
        {
         "customdata": [
          "immediate custody",
          "immediate custody",
          "immediate custody",
          "immediate custody",
          "immediate custody",
          "immediate custody",
          "immediate custody",
          "immediate custody",
          "immediate custody",
          "immediate custody",
          "immediate custody",
          "immediate custody",
          "immediate custody"
         ],
         "hovertemplate": "%{y} %{customdata}<extra></extra>",
         "name": "Immediate custody",
         "type": "bar",
         "x": [
          2010,
          2011,
          2012,
          2013,
          2014,
          2015,
          2016,
          2017,
          2018,
          2019,
          2020,
          2021,
          2022
         ],
         "y": [
          96,
          91,
          92,
          73,
          86,
          98,
          124,
          108,
          98,
          84,
          76,
          62,
          54
         ]
        },
        {
         "customdata": [
          "suspended sentence",
          "suspended sentence",
          "suspended sentence",
          "suspended sentence",
          "suspended sentence",
          "suspended sentence",
          "suspended sentence",
          "suspended sentence",
          "suspended sentence",
          "suspended sentence",
          "suspended sentence",
          "suspended sentence",
          "suspended sentence"
         ],
         "hovertemplate": "%{y} %{customdata}<extra></extra>",
         "name": "Suspended sentence",
         "type": "bar",
         "x": [
          2010,
          2011,
          2012,
          2013,
          2014,
          2015,
          2016,
          2017,
          2018,
          2019,
          2020,
          2021,
          2022
         ],
         "y": [
          87,
          72,
          93,
          90,
          121,
          151,
          137,
          141,
          110,
          104,
          102,
          105,
          80
         ]
        }
       ],
       "layout": {
        "annotations": [
         {
          "font": {
           "size": 12
          },
          "showarrow": false,
          "text": "Source: Ministry of Justice, Criminal justice statistics",
          "x": -0.08,
          "xanchor": "left",
          "xref": "paper",
          "y": -0.19,
          "yanchor": "top",
          "yref": "paper"
         },
         {
          "align": "left",
          "font": {
           "size": 12
          },
          "showarrow": false,
          "text": "Women sentenced",
          "x": 2010,
          "xanchor": "left",
          "xref": "x",
          "y": 1.04,
          "yref": "paper"
         }
        ],
        "barmode": "group",
        "height": 360,
        "hovermode": "x",
        "legend": {
         "x": 1,
         "xanchor": "right",
         "y": 1.05,
         "yanchor": "top"
        },
        "margin": {
         "b": 75,
         "l": 63,
         "r": 20
        },
        "modebar": {
         "activecolor": "#A01D28"
        },
        "showlegend": true,
        "template": {
         "layout": {
          "colorway": [
           "#A01D28",
           "#499CC9",
           "#F9A237",
           "#6FBA3A",
           "#573D6B"
          ],
          "font": {
           "color": "#54565B",
           "family": "Helvetica Neue, Arial",
           "size": 12
          },
          "modebar": {
           "activecolor": "#A01D28"
          },
          "paper_bgcolor": "#F7F2F2",
          "plot_bgcolor": "#F7F2F2",
          "showlegend": false,
          "title": {
           "font": {
            "family": "Helvetica Neue, Arial",
            "size": 17
           },
           "y": 0.94,
           "yanchor": "bottom"
          },
          "xaxis": {
           "showgrid": false,
           "tickcolor": "#54565B"
          }
         }
        },
        "title": {
         "text": "<b>Sentencing of women in Norfolk 2010–2022</b>",
         "y": 0.94,
         "yanchor": "bottom"
        },
        "width": 655,
        "xaxis": {
         "dtick": 2,
         "range": [
          2009.3,
          2022.8
         ],
         "showgrid": false,
         "tick0": 2010,
         "tickcolor": "#54565B"
        },
        "yaxis": {
         "range": [
          0,
          315
         ],
         "tick0": 0,
         "tickformat": ",.0f",
         "title": {
          "text": ""
         }
        }
       }
      }
     },
     "metadata": {},
     "output_type": "display_data"
    },
    {
     "data": {
      "application/vnd.plotly.v1+json": {
       "config": {
        "plotlyServerURL": "https://plot.ly"
       },
       "data": [
        {
         "customdata": [
          "community sentence",
          "community sentence",
          "community sentence",
          "community sentence",
          "community sentence",
          "community sentence",
          "community sentence",
          "community sentence",
          "community sentence",
          "community sentence",
          "community sentence",
          "community sentence",
          "community sentence"
         ],
         "hovertemplate": "%{y} %{customdata}<extra></extra>",
         "name": "Community sentence",
         "type": "bar",
         "x": [
          2010,
          2011,
          2012,
          2013,
          2014,
          2015,
          2016,
          2017,
          2018,
          2019,
          2020,
          2021,
          2022
         ],
         "y": [
          287,
          345,
          274,
          245,
          241,
          223,
          214,
          236,
          244,
          214,
          150,
          154,
          180
         ]
        },
        {
         "customdata": [
          "immediate custody",
          "immediate custody",
          "immediate custody",
          "immediate custody",
          "immediate custody",
          "immediate custody",
          "immediate custody",
          "immediate custody",
          "immediate custody",
          "immediate custody",
          "immediate custody",
          "immediate custody",
          "immediate custody"
         ],
         "hovertemplate": "%{y} %{customdata}<extra></extra>",
         "name": "Immediate custody",
         "type": "bar",
         "x": [
          2010,
          2011,
          2012,
          2013,
          2014,
          2015,
          2016,
          2017,
          2018,
          2019,
          2020,
          2021,
          2022
         ],
         "y": [
          71,
          70,
          93,
          98,
          91,
          106,
          115,
          106,
          111,
          89,
          65,
          79,
          86
         ]
        },
        {
         "customdata": [
          "suspended sentence",
          "suspended sentence",
          "suspended sentence",
          "suspended sentence",
          "suspended sentence",
          "suspended sentence",
          "suspended sentence",
          "suspended sentence",
          "suspended sentence",
          "suspended sentence",
          "suspended sentence",
          "suspended sentence",
          "suspended sentence"
         ],
         "hovertemplate": "%{y} %{customdata}<extra></extra>",
         "name": "Suspended sentence",
         "type": "bar",
         "x": [
          2010,
          2011,
          2012,
          2013,
          2014,
          2015,
          2016,
          2017,
          2018,
          2019,
          2020,
          2021,
          2022
         ],
         "y": [
          106,
          81,
          82,
          84,
          133,
          141,
          136,
          135,
          83,
          126,
          112,
          126,
          121
         ]
        }
       ],
       "layout": {
        "annotations": [
         {
          "font": {
           "size": 12
          },
          "showarrow": false,
          "text": "Source: Ministry of Justice, Criminal justice statistics",
          "x": -0.08,
          "xanchor": "left",
          "xref": "paper",
          "y": -0.19,
          "yanchor": "top",
          "yref": "paper"
         },
         {
          "align": "left",
          "font": {
           "size": 12
          },
          "showarrow": false,
          "text": "Women sentenced",
          "x": 2010,
          "xanchor": "left",
          "xref": "x",
          "y": 1.04,
          "yref": "paper"
         }
        ],
        "barmode": "group",
        "height": 360,
        "hovermode": "x",
        "legend": {
         "x": 1,
         "xanchor": "right",
         "y": 1.05,
         "yanchor": "top"
        },
        "margin": {
         "b": 75,
         "l": 63,
         "r": 20
        },
        "modebar": {
         "activecolor": "#A01D28"
        },
        "showlegend": true,
        "template": {
         "layout": {
          "colorway": [
           "#A01D28",
           "#499CC9",
           "#F9A237",
           "#6FBA3A",
           "#573D6B"
          ],
          "font": {
           "color": "#54565B",
           "family": "Helvetica Neue, Arial",
           "size": 12
          },
          "modebar": {
           "activecolor": "#A01D28"
          },
          "paper_bgcolor": "#F7F2F2",
          "plot_bgcolor": "#F7F2F2",
          "showlegend": false,
          "title": {
           "font": {
            "family": "Helvetica Neue, Arial",
            "size": 17
           },
           "y": 0.94,
           "yanchor": "bottom"
          },
          "xaxis": {
           "showgrid": false,
           "tickcolor": "#54565B"
          }
         }
        },
        "title": {
         "text": "<b>Sentencing of women in North Wales 2010–2022</b>",
         "y": 0.94,
         "yanchor": "bottom"
        },
        "width": 655,
        "xaxis": {
         "dtick": 2,
         "range": [
          2009.3,
          2022.8
         ],
         "showgrid": false,
         "tick0": 2010,
         "tickcolor": "#54565B"
        },
        "yaxis": {
         "range": [
          0,
          420
         ],
         "tick0": 0,
         "tickformat": ",.0f",
         "title": {
          "text": ""
         }
        }
       }
      }
     },
     "metadata": {},
     "output_type": "display_data"
    },
    {
     "data": {
      "application/vnd.plotly.v1+json": {
       "config": {
        "plotlyServerURL": "https://plot.ly"
       },
       "data": [
        {
         "customdata": [
          "community sentence",
          "community sentence",
          "community sentence",
          "community sentence",
          "community sentence",
          "community sentence",
          "community sentence",
          "community sentence",
          "community sentence",
          "community sentence",
          "community sentence",
          "community sentence",
          "community sentence"
         ],
         "hovertemplate": "%{y} %{customdata}<extra></extra>",
         "name": "Community sentence",
         "type": "bar",
         "x": [
          2010,
          2011,
          2012,
          2013,
          2014,
          2015,
          2016,
          2017,
          2018,
          2019,
          2020,
          2021,
          2022
         ],
         "y": [
          371,
          304,
          323,
          294,
          281,
          287,
          325,
          262,
          235,
          270,
          161,
          150,
          143
         ]
        },
        {
         "customdata": [
          "immediate custody",
          "immediate custody",
          "immediate custody",
          "immediate custody",
          "immediate custody",
          "immediate custody",
          "immediate custody",
          "immediate custody",
          "immediate custody",
          "immediate custody",
          "immediate custody",
          "immediate custody",
          "immediate custody"
         ],
         "hovertemplate": "%{y} %{customdata}<extra></extra>",
         "name": "Immediate custody",
         "type": "bar",
         "x": [
          2010,
          2011,
          2012,
          2013,
          2014,
          2015,
          2016,
          2017,
          2018,
          2019,
          2020,
          2021,
          2022
         ],
         "y": [
          88,
          88,
          101,
          78,
          82,
          78,
          83,
          90,
          88,
          95,
          82,
          52,
          52
         ]
        },
        {
         "customdata": [
          "suspended sentence",
          "suspended sentence",
          "suspended sentence",
          "suspended sentence",
          "suspended sentence",
          "suspended sentence",
          "suspended sentence",
          "suspended sentence",
          "suspended sentence",
          "suspended sentence",
          "suspended sentence",
          "suspended sentence",
          "suspended sentence"
         ],
         "hovertemplate": "%{y} %{customdata}<extra></extra>",
         "name": "Suspended sentence",
         "type": "bar",
         "x": [
          2010,
          2011,
          2012,
          2013,
          2014,
          2015,
          2016,
          2017,
          2018,
          2019,
          2020,
          2021,
          2022
         ],
         "y": [
          56,
          76,
          71,
          56,
          63,
          91,
          84,
          71,
          60,
          64,
          31,
          39,
          48
         ]
        }
       ],
       "layout": {
        "annotations": [
         {
          "font": {
           "size": 12
          },
          "showarrow": false,
          "text": "Source: Ministry of Justice, Criminal justice statistics",
          "x": -0.08,
          "xanchor": "left",
          "xref": "paper",
          "y": -0.19,
          "yanchor": "top",
          "yref": "paper"
         },
         {
          "align": "left",
          "font": {
           "size": 12
          },
          "showarrow": false,
          "text": "Women sentenced",
          "x": 2010,
          "xanchor": "left",
          "xref": "x",
          "y": 1.04,
          "yref": "paper"
         }
        ],
        "barmode": "group",
        "height": 360,
        "hovermode": "x",
        "legend": {
         "x": 1,
         "xanchor": "right",
         "y": 1.05,
         "yanchor": "top"
        },
        "margin": {
         "b": 75,
         "l": 63,
         "r": 20
        },
        "modebar": {
         "activecolor": "#A01D28"
        },
        "showlegend": true,
        "template": {
         "layout": {
          "colorway": [
           "#A01D28",
           "#499CC9",
           "#F9A237",
           "#6FBA3A",
           "#573D6B"
          ],
          "font": {
           "color": "#54565B",
           "family": "Helvetica Neue, Arial",
           "size": 12
          },
          "modebar": {
           "activecolor": "#A01D28"
          },
          "paper_bgcolor": "#F7F2F2",
          "plot_bgcolor": "#F7F2F2",
          "showlegend": false,
          "title": {
           "font": {
            "family": "Helvetica Neue, Arial",
            "size": 17
           },
           "y": 0.94,
           "yanchor": "bottom"
          },
          "xaxis": {
           "showgrid": false,
           "tickcolor": "#54565B"
          }
         }
        },
        "title": {
         "text": "<b>Sentencing of women in North Yorkshire 2010–2022</b>",
         "y": 0.94,
         "yanchor": "bottom"
        },
        "width": 655,
        "xaxis": {
         "dtick": 2,
         "range": [
          2009.3,
          2022.8
         ],
         "showgrid": false,
         "tick0": 2010,
         "tickcolor": "#54565B"
        },
        "yaxis": {
         "range": [
          0,
          420
         ],
         "tick0": 0,
         "tickformat": ",.0f",
         "title": {
          "text": ""
         }
        }
       }
      }
     },
     "metadata": {},
     "output_type": "display_data"
    },
    {
     "data": {
      "application/vnd.plotly.v1+json": {
       "config": {
        "plotlyServerURL": "https://plot.ly"
       },
       "data": [
        {
         "customdata": [
          "community sentence",
          "community sentence",
          "community sentence",
          "community sentence",
          "community sentence",
          "community sentence",
          "community sentence",
          "community sentence",
          "community sentence",
          "community sentence",
          "community sentence",
          "community sentence",
          "community sentence"
         ],
         "hovertemplate": "%{y} %{customdata}<extra></extra>",
         "name": "Community sentence",
         "type": "bar",
         "x": [
          2010,
          2011,
          2012,
          2013,
          2014,
          2015,
          2016,
          2017,
          2018,
          2019,
          2020,
          2021,
          2022
         ],
         "y": [
          247,
          244,
          185,
          182,
          144,
          172,
          161,
          164,
          176,
          162,
          108,
          137,
          151
         ]
        },
        {
         "customdata": [
          "immediate custody",
          "immediate custody",
          "immediate custody",
          "immediate custody",
          "immediate custody",
          "immediate custody",
          "immediate custody",
          "immediate custody",
          "immediate custody",
          "immediate custody",
          "immediate custody",
          "immediate custody",
          "immediate custody"
         ],
         "hovertemplate": "%{y} %{customdata}<extra></extra>",
         "name": "Immediate custody",
         "type": "bar",
         "x": [
          2010,
          2011,
          2012,
          2013,
          2014,
          2015,
          2016,
          2017,
          2018,
          2019,
          2020,
          2021,
          2022
         ],
         "y": [
          127,
          113,
          122,
          93,
          92,
          70,
          78,
          62,
          61,
          62,
          36,
          64,
          48
         ]
        },
        {
         "customdata": [
          "suspended sentence",
          "suspended sentence",
          "suspended sentence",
          "suspended sentence",
          "suspended sentence",
          "suspended sentence",
          "suspended sentence",
          "suspended sentence",
          "suspended sentence",
          "suspended sentence",
          "suspended sentence",
          "suspended sentence",
          "suspended sentence"
         ],
         "hovertemplate": "%{y} %{customdata}<extra></extra>",
         "name": "Suspended sentence",
         "type": "bar",
         "x": [
          2010,
          2011,
          2012,
          2013,
          2014,
          2015,
          2016,
          2017,
          2018,
          2019,
          2020,
          2021,
          2022
         ],
         "y": [
          89,
          115,
          84,
          85,
          79,
          102,
          97,
          71,
          60,
          62,
          53,
          65,
          68
         ]
        }
       ],
       "layout": {
        "annotations": [
         {
          "font": {
           "size": 12
          },
          "showarrow": false,
          "text": "Source: Ministry of Justice, Criminal justice statistics",
          "x": -0.08,
          "xanchor": "left",
          "xref": "paper",
          "y": -0.19,
          "yanchor": "top",
          "yref": "paper"
         },
         {
          "align": "left",
          "font": {
           "size": 12
          },
          "showarrow": false,
          "text": "Women sentenced",
          "x": 2010,
          "xanchor": "left",
          "xref": "x",
          "y": 1.04,
          "yref": "paper"
         }
        ],
        "barmode": "group",
        "height": 360,
        "hovermode": "x",
        "legend": {
         "x": 1,
         "xanchor": "right",
         "y": 1.05,
         "yanchor": "top"
        },
        "margin": {
         "b": 75,
         "l": 63,
         "r": 20
        },
        "modebar": {
         "activecolor": "#A01D28"
        },
        "showlegend": true,
        "template": {
         "layout": {
          "colorway": [
           "#A01D28",
           "#499CC9",
           "#F9A237",
           "#6FBA3A",
           "#573D6B"
          ],
          "font": {
           "color": "#54565B",
           "family": "Helvetica Neue, Arial",
           "size": 12
          },
          "modebar": {
           "activecolor": "#A01D28"
          },
          "paper_bgcolor": "#F7F2F2",
          "plot_bgcolor": "#F7F2F2",
          "showlegend": false,
          "title": {
           "font": {
            "family": "Helvetica Neue, Arial",
            "size": 17
           },
           "y": 0.94,
           "yanchor": "bottom"
          },
          "xaxis": {
           "showgrid": false,
           "tickcolor": "#54565B"
          }
         }
        },
        "title": {
         "text": "<b>Sentencing of women in Northamptonshire 2010–2022</b>",
         "y": 0.94,
         "yanchor": "bottom"
        },
        "width": 655,
        "xaxis": {
         "dtick": 2,
         "range": [
          2009.3,
          2022.8
         ],
         "showgrid": false,
         "tick0": 2010,
         "tickcolor": "#54565B"
        },
        "yaxis": {
         "range": [
          0,
          315
         ],
         "tick0": 0,
         "tickformat": ",.0f",
         "title": {
          "text": ""
         }
        }
       }
      }
     },
     "metadata": {},
     "output_type": "display_data"
    },
    {
     "data": {
      "application/vnd.plotly.v1+json": {
       "config": {
        "plotlyServerURL": "https://plot.ly"
       },
       "data": [
        {
         "customdata": [
          "community sentence",
          "community sentence",
          "community sentence",
          "community sentence",
          "community sentence",
          "community sentence",
          "community sentence",
          "community sentence",
          "community sentence",
          "community sentence",
          "community sentence",
          "community sentence",
          "community sentence"
         ],
         "hovertemplate": "%{y} %{customdata}<extra></extra>",
         "name": "Community sentence",
         "type": "bar",
         "x": [
          2010,
          2011,
          2012,
          2013,
          2014,
          2015,
          2016,
          2017,
          2018,
          2019,
          2020,
          2021,
          2022
         ],
         "y": [
          855,
          862,
          687,
          534,
          493,
          493,
          432,
          397,
          439,
          362,
          277,
          243,
          252
         ]
        },
        {
         "customdata": [
          "immediate custody",
          "immediate custody",
          "immediate custody",
          "immediate custody",
          "immediate custody",
          "immediate custody",
          "immediate custody",
          "immediate custody",
          "immediate custody",
          "immediate custody",
          "immediate custody",
          "immediate custody",
          "immediate custody"
         ],
         "hovertemplate": "%{y} %{customdata}<extra></extra>",
         "name": "Immediate custody",
         "type": "bar",
         "x": [
          2010,
          2011,
          2012,
          2013,
          2014,
          2015,
          2016,
          2017,
          2018,
          2019,
          2020,
          2021,
          2022
         ],
         "y": [
          155,
          197,
          161,
          136,
          172,
          177,
          165,
          147,
          141,
          137,
          82,
          108,
          114
         ]
        },
        {
         "customdata": [
          "suspended sentence",
          "suspended sentence",
          "suspended sentence",
          "suspended sentence",
          "suspended sentence",
          "suspended sentence",
          "suspended sentence",
          "suspended sentence",
          "suspended sentence",
          "suspended sentence",
          "suspended sentence",
          "suspended sentence",
          "suspended sentence"
         ],
         "hovertemplate": "%{y} %{customdata}<extra></extra>",
         "name": "Suspended sentence",
         "type": "bar",
         "x": [
          2010,
          2011,
          2012,
          2013,
          2014,
          2015,
          2016,
          2017,
          2018,
          2019,
          2020,
          2021,
          2022
         ],
         "y": [
          209,
          273,
          198,
          224,
          267,
          251,
          248,
          210,
          179,
          197,
          144,
          176,
          141
         ]
        }
       ],
       "layout": {
        "annotations": [
         {
          "font": {
           "size": 12
          },
          "showarrow": false,
          "text": "Source: Ministry of Justice, Criminal justice statistics",
          "x": -0.08,
          "xanchor": "left",
          "xref": "paper",
          "y": -0.19,
          "yanchor": "top",
          "yref": "paper"
         },
         {
          "align": "left",
          "font": {
           "size": 12
          },
          "showarrow": false,
          "text": "Women sentenced",
          "x": 2010,
          "xanchor": "left",
          "xref": "x",
          "y": 1.04,
          "yref": "paper"
         }
        ],
        "barmode": "group",
        "height": 360,
        "hovermode": "x",
        "legend": {
         "x": 1,
         "xanchor": "right",
         "y": 1.05,
         "yanchor": "top"
        },
        "margin": {
         "b": 75,
         "l": 63,
         "r": 20
        },
        "modebar": {
         "activecolor": "#A01D28"
        },
        "showlegend": true,
        "template": {
         "layout": {
          "colorway": [
           "#A01D28",
           "#499CC9",
           "#F9A237",
           "#6FBA3A",
           "#573D6B"
          ],
          "font": {
           "color": "#54565B",
           "family": "Helvetica Neue, Arial",
           "size": 12
          },
          "modebar": {
           "activecolor": "#A01D28"
          },
          "paper_bgcolor": "#F7F2F2",
          "plot_bgcolor": "#F7F2F2",
          "showlegend": false,
          "title": {
           "font": {
            "family": "Helvetica Neue, Arial",
            "size": 17
           },
           "y": 0.94,
           "yanchor": "bottom"
          },
          "xaxis": {
           "showgrid": false,
           "tickcolor": "#54565B"
          }
         }
        },
        "title": {
         "text": "<b>Sentencing of women in Northumbria 2010–2022</b>",
         "y": 0.94,
         "yanchor": "bottom"
        },
        "width": 655,
        "xaxis": {
         "dtick": 2,
         "range": [
          2009.3,
          2022.8
         ],
         "showgrid": false,
         "tick0": 2010,
         "tickcolor": "#54565B"
        },
        "yaxis": {
         "range": [
          0,
          909
         ],
         "tick0": 0,
         "tickformat": ",.0f",
         "title": {
          "text": ""
         }
        }
       }
      }
     },
     "metadata": {},
     "output_type": "display_data"
    },
    {
     "data": {
      "application/vnd.plotly.v1+json": {
       "config": {
        "plotlyServerURL": "https://plot.ly"
       },
       "data": [
        {
         "customdata": [
          "community sentence",
          "community sentence",
          "community sentence",
          "community sentence",
          "community sentence",
          "community sentence",
          "community sentence",
          "community sentence",
          "community sentence",
          "community sentence",
          "community sentence",
          "community sentence",
          "community sentence"
         ],
         "hovertemplate": "%{y} %{customdata}<extra></extra>",
         "name": "Community sentence",
         "type": "bar",
         "x": [
          2010,
          2011,
          2012,
          2013,
          2014,
          2015,
          2016,
          2017,
          2018,
          2019,
          2020,
          2021,
          2022
         ],
         "y": [
          549,
          537,
          413,
          354,
          316,
          351,
          284,
          273,
          283,
          277,
          128,
          191,
          215
         ]
        },
        {
         "customdata": [
          "immediate custody",
          "immediate custody",
          "immediate custody",
          "immediate custody",
          "immediate custody",
          "immediate custody",
          "immediate custody",
          "immediate custody",
          "immediate custody",
          "immediate custody",
          "immediate custody",
          "immediate custody",
          "immediate custody"
         ],
         "hovertemplate": "%{y} %{customdata}<extra></extra>",
         "name": "Immediate custody",
         "type": "bar",
         "x": [
          2010,
          2011,
          2012,
          2013,
          2014,
          2015,
          2016,
          2017,
          2018,
          2019,
          2020,
          2021,
          2022
         ],
         "y": [
          179,
          149,
          142,
          117,
          142,
          167,
          147,
          163,
          171,
          184,
          109,
          105,
          132
         ]
        },
        {
         "customdata": [
          "suspended sentence",
          "suspended sentence",
          "suspended sentence",
          "suspended sentence",
          "suspended sentence",
          "suspended sentence",
          "suspended sentence",
          "suspended sentence",
          "suspended sentence",
          "suspended sentence",
          "suspended sentence",
          "suspended sentence",
          "suspended sentence"
         ],
         "hovertemplate": "%{y} %{customdata}<extra></extra>",
         "name": "Suspended sentence",
         "type": "bar",
         "x": [
          2010,
          2011,
          2012,
          2013,
          2014,
          2015,
          2016,
          2017,
          2018,
          2019,
          2020,
          2021,
          2022
         ],
         "y": [
          163,
          160,
          155,
          159,
          229,
          242,
          241,
          216,
          165,
          209,
          140,
          180,
          185
         ]
        }
       ],
       "layout": {
        "annotations": [
         {
          "font": {
           "size": 12
          },
          "showarrow": false,
          "text": "Source: Ministry of Justice, Criminal justice statistics",
          "x": -0.08,
          "xanchor": "left",
          "xref": "paper",
          "y": -0.19,
          "yanchor": "top",
          "yref": "paper"
         },
         {
          "align": "left",
          "font": {
           "size": 12
          },
          "showarrow": false,
          "text": "Women sentenced",
          "x": 2010,
          "xanchor": "left",
          "xref": "x",
          "y": 1.04,
          "yref": "paper"
         }
        ],
        "barmode": "group",
        "height": 360,
        "hovermode": "x",
        "legend": {
         "x": 1,
         "xanchor": "right",
         "y": 1.05,
         "yanchor": "top"
        },
        "margin": {
         "b": 75,
         "l": 63,
         "r": 20
        },
        "modebar": {
         "activecolor": "#A01D28"
        },
        "showlegend": true,
        "template": {
         "layout": {
          "colorway": [
           "#A01D28",
           "#499CC9",
           "#F9A237",
           "#6FBA3A",
           "#573D6B"
          ],
          "font": {
           "color": "#54565B",
           "family": "Helvetica Neue, Arial",
           "size": 12
          },
          "modebar": {
           "activecolor": "#A01D28"
          },
          "paper_bgcolor": "#F7F2F2",
          "plot_bgcolor": "#F7F2F2",
          "showlegend": false,
          "title": {
           "font": {
            "family": "Helvetica Neue, Arial",
            "size": 17
           },
           "y": 0.94,
           "yanchor": "bottom"
          },
          "xaxis": {
           "showgrid": false,
           "tickcolor": "#54565B"
          }
         }
        },
        "title": {
         "text": "<b>Sentencing of women in Nottinghamshire 2010–2022</b>",
         "y": 0.94,
         "yanchor": "bottom"
        },
        "width": 655,
        "xaxis": {
         "dtick": 2,
         "range": [
          2009.3,
          2022.8
         ],
         "showgrid": false,
         "tick0": 2010,
         "tickcolor": "#54565B"
        },
        "yaxis": {
         "range": [
          0,
          640
         ],
         "tick0": 0,
         "tickformat": ",.0f",
         "title": {
          "text": ""
         }
        }
       }
      }
     },
     "metadata": {},
     "output_type": "display_data"
    },
    {
     "data": {
      "application/vnd.plotly.v1+json": {
       "config": {
        "plotlyServerURL": "https://plot.ly"
       },
       "data": [
        {
         "customdata": [
          "community sentence",
          "community sentence",
          "community sentence",
          "community sentence",
          "community sentence",
          "community sentence",
          "community sentence",
          "community sentence",
          "community sentence",
          "community sentence",
          "community sentence",
          "community sentence",
          "community sentence"
         ],
         "hovertemplate": "%{y} %{customdata}<extra></extra>",
         "name": "Community sentence",
         "type": "bar",
         "x": [
          2010,
          2011,
          2012,
          2013,
          2014,
          2015,
          2016,
          2017,
          2018,
          2019,
          2020,
          2021,
          2022
         ],
         "y": [
          824,
          764,
          691,
          650,
          588,
          627,
          536,
          429,
          567,
          485,
          332,
          296,
          307
         ]
        },
        {
         "customdata": [
          "immediate custody",
          "immediate custody",
          "immediate custody",
          "immediate custody",
          "immediate custody",
          "immediate custody",
          "immediate custody",
          "immediate custody",
          "immediate custody",
          "immediate custody",
          "immediate custody",
          "immediate custody",
          "immediate custody"
         ],
         "hovertemplate": "%{y} %{customdata}<extra></extra>",
         "name": "Immediate custody",
         "type": "bar",
         "x": [
          2010,
          2011,
          2012,
          2013,
          2014,
          2015,
          2016,
          2017,
          2018,
          2019,
          2020,
          2021,
          2022
         ],
         "y": [
          317,
          324,
          288,
          341,
          343,
          327,
          387,
          351,
          362,
          340,
          249,
          243,
          165
         ]
        },
        {
         "customdata": [
          "suspended sentence",
          "suspended sentence",
          "suspended sentence",
          "suspended sentence",
          "suspended sentence",
          "suspended sentence",
          "suspended sentence",
          "suspended sentence",
          "suspended sentence",
          "suspended sentence",
          "suspended sentence",
          "suspended sentence",
          "suspended sentence"
         ],
         "hovertemplate": "%{y} %{customdata}<extra></extra>",
         "name": "Suspended sentence",
         "type": "bar",
         "x": [
          2010,
          2011,
          2012,
          2013,
          2014,
          2015,
          2016,
          2017,
          2018,
          2019,
          2020,
          2021,
          2022
         ],
         "y": [
          276,
          289,
          273,
          314,
          353,
          408,
          313,
          335,
          314,
          320,
          284,
          303,
          174
         ]
        }
       ],
       "layout": {
        "annotations": [
         {
          "font": {
           "size": 12
          },
          "showarrow": false,
          "text": "Source: Ministry of Justice, Criminal justice statistics",
          "x": -0.08,
          "xanchor": "left",
          "xref": "paper",
          "y": -0.19,
          "yanchor": "top",
          "yref": "paper"
         },
         {
          "align": "left",
          "font": {
           "size": 12
          },
          "showarrow": false,
          "text": "Women sentenced",
          "x": 2010,
          "xanchor": "left",
          "xref": "x",
          "y": 1.04,
          "yref": "paper"
         }
        ],
        "barmode": "group",
        "height": 360,
        "hovermode": "x",
        "legend": {
         "x": 1,
         "xanchor": "right",
         "y": 1.05,
         "yanchor": "top"
        },
        "margin": {
         "b": 75,
         "l": 63,
         "r": 20
        },
        "modebar": {
         "activecolor": "#A01D28"
        },
        "showlegend": true,
        "template": {
         "layout": {
          "colorway": [
           "#A01D28",
           "#499CC9",
           "#F9A237",
           "#6FBA3A",
           "#573D6B"
          ],
          "font": {
           "color": "#54565B",
           "family": "Helvetica Neue, Arial",
           "size": 12
          },
          "modebar": {
           "activecolor": "#A01D28"
          },
          "paper_bgcolor": "#F7F2F2",
          "plot_bgcolor": "#F7F2F2",
          "showlegend": false,
          "title": {
           "font": {
            "family": "Helvetica Neue, Arial",
            "size": 17
           },
           "y": 0.94,
           "yanchor": "bottom"
          },
          "xaxis": {
           "showgrid": false,
           "tickcolor": "#54565B"
          }
         }
        },
        "title": {
         "text": "<b>Sentencing of women in South Wales 2010–2022</b>",
         "y": 0.94,
         "yanchor": "bottom"
        },
        "width": 655,
        "xaxis": {
         "dtick": 2,
         "range": [
          2009.3,
          2022.8
         ],
         "showgrid": false,
         "tick0": 2010,
         "tickcolor": "#54565B"
        },
        "yaxis": {
         "range": [
          0,
          830
         ],
         "tick0": 0,
         "tickformat": ",.0f",
         "title": {
          "text": ""
         }
        }
       }
      }
     },
     "metadata": {},
     "output_type": "display_data"
    },
    {
     "data": {
      "application/vnd.plotly.v1+json": {
       "config": {
        "plotlyServerURL": "https://plot.ly"
       },
       "data": [
        {
         "customdata": [
          "community sentence",
          "community sentence",
          "community sentence",
          "community sentence",
          "community sentence",
          "community sentence",
          "community sentence",
          "community sentence",
          "community sentence",
          "community sentence",
          "community sentence",
          "community sentence",
          "community sentence"
         ],
         "hovertemplate": "%{y} %{customdata}<extra></extra>",
         "name": "Community sentence",
         "type": "bar",
         "x": [
          2010,
          2011,
          2012,
          2013,
          2014,
          2015,
          2016,
          2017,
          2018,
          2019,
          2020,
          2021,
          2022
         ],
         "y": [
          639,
          723,
          574,
          565,
          579,
          627,
          454,
          452,
          384,
          324,
          235,
          275,
          316
         ]
        },
        {
         "customdata": [
          "immediate custody",
          "immediate custody",
          "immediate custody",
          "immediate custody",
          "immediate custody",
          "immediate custody",
          "immediate custody",
          "immediate custody",
          "immediate custody",
          "immediate custody",
          "immediate custody",
          "immediate custody",
          "immediate custody"
         ],
         "hovertemplate": "%{y} %{customdata}<extra></extra>",
         "name": "Immediate custody",
         "type": "bar",
         "x": [
          2010,
          2011,
          2012,
          2013,
          2014,
          2015,
          2016,
          2017,
          2018,
          2019,
          2020,
          2021,
          2022
         ],
         "y": [
          201,
          228,
          199,
          267,
          245,
          229,
          194,
          218,
          153,
          172,
          138,
          98,
          107
         ]
        },
        {
         "customdata": [
          "suspended sentence",
          "suspended sentence",
          "suspended sentence",
          "suspended sentence",
          "suspended sentence",
          "suspended sentence",
          "suspended sentence",
          "suspended sentence",
          "suspended sentence",
          "suspended sentence",
          "suspended sentence",
          "suspended sentence",
          "suspended sentence"
         ],
         "hovertemplate": "%{y} %{customdata}<extra></extra>",
         "name": "Suspended sentence",
         "type": "bar",
         "x": [
          2010,
          2011,
          2012,
          2013,
          2014,
          2015,
          2016,
          2017,
          2018,
          2019,
          2020,
          2021,
          2022
         ],
         "y": [
          174,
          161,
          173,
          170,
          200,
          237,
          223,
          203,
          155,
          115,
          120,
          137,
          145
         ]
        }
       ],
       "layout": {
        "annotations": [
         {
          "font": {
           "size": 12
          },
          "showarrow": false,
          "text": "Source: Ministry of Justice, Criminal justice statistics",
          "x": -0.08,
          "xanchor": "left",
          "xref": "paper",
          "y": -0.19,
          "yanchor": "top",
          "yref": "paper"
         },
         {
          "align": "left",
          "font": {
           "size": 12
          },
          "showarrow": false,
          "text": "Women sentenced",
          "x": 2010,
          "xanchor": "left",
          "xref": "x",
          "y": 1.04,
          "yref": "paper"
         }
        ],
        "barmode": "group",
        "height": 360,
        "hovermode": "x",
        "legend": {
         "x": 1,
         "xanchor": "right",
         "y": 1.05,
         "yanchor": "top"
        },
        "margin": {
         "b": 75,
         "l": 63,
         "r": 20
        },
        "modebar": {
         "activecolor": "#A01D28"
        },
        "showlegend": true,
        "template": {
         "layout": {
          "colorway": [
           "#A01D28",
           "#499CC9",
           "#F9A237",
           "#6FBA3A",
           "#573D6B"
          ],
          "font": {
           "color": "#54565B",
           "family": "Helvetica Neue, Arial",
           "size": 12
          },
          "modebar": {
           "activecolor": "#A01D28"
          },
          "paper_bgcolor": "#F7F2F2",
          "plot_bgcolor": "#F7F2F2",
          "showlegend": false,
          "title": {
           "font": {
            "family": "Helvetica Neue, Arial",
            "size": 17
           },
           "y": 0.94,
           "yanchor": "bottom"
          },
          "xaxis": {
           "showgrid": false,
           "tickcolor": "#54565B"
          }
         }
        },
        "title": {
         "text": "<b>Sentencing of women in South Yorkshire 2010–2022</b>",
         "y": 0.94,
         "yanchor": "bottom"
        },
        "width": 655,
        "xaxis": {
         "dtick": 2,
         "range": [
          2009.3,
          2022.8
         ],
         "showgrid": false,
         "tick0": 2010,
         "tickcolor": "#54565B"
        },
        "yaxis": {
         "range": [
          0,
          830
         ],
         "tick0": 0,
         "tickformat": ",.0f",
         "title": {
          "text": ""
         }
        }
       }
      }
     },
     "metadata": {},
     "output_type": "display_data"
    },
    {
     "data": {
      "application/vnd.plotly.v1+json": {
       "config": {
        "plotlyServerURL": "https://plot.ly"
       },
       "data": [
        {
         "customdata": [
          "community sentence",
          "community sentence",
          "community sentence",
          "community sentence",
          "community sentence",
          "community sentence",
          "community sentence",
          "community sentence",
          "community sentence",
          "community sentence",
          "community sentence",
          "community sentence",
          "community sentence"
         ],
         "hovertemplate": "%{y} %{customdata}<extra></extra>",
         "name": "Community sentence",
         "type": "bar",
         "x": [
          2010,
          2011,
          2012,
          2013,
          2014,
          2015,
          2016,
          2017,
          2018,
          2019,
          2020,
          2021,
          2022
         ],
         "y": [
          427,
          405,
          369,
          299,
          250,
          274,
          248,
          184,
          185,
          231,
          110,
          122,
          165
         ]
        },
        {
         "customdata": [
          "immediate custody",
          "immediate custody",
          "immediate custody",
          "immediate custody",
          "immediate custody",
          "immediate custody",
          "immediate custody",
          "immediate custody",
          "immediate custody",
          "immediate custody",
          "immediate custody",
          "immediate custody",
          "immediate custody"
         ],
         "hovertemplate": "%{y} %{customdata}<extra></extra>",
         "name": "Immediate custody",
         "type": "bar",
         "x": [
          2010,
          2011,
          2012,
          2013,
          2014,
          2015,
          2016,
          2017,
          2018,
          2019,
          2020,
          2021,
          2022
         ],
         "y": [
          145,
          141,
          142,
          101,
          124,
          126,
          113,
          128,
          114,
          132,
          88,
          96,
          78
         ]
        },
        {
         "customdata": [
          "suspended sentence",
          "suspended sentence",
          "suspended sentence",
          "suspended sentence",
          "suspended sentence",
          "suspended sentence",
          "suspended sentence",
          "suspended sentence",
          "suspended sentence",
          "suspended sentence",
          "suspended sentence",
          "suspended sentence",
          "suspended sentence"
         ],
         "hovertemplate": "%{y} %{customdata}<extra></extra>",
         "name": "Suspended sentence",
         "type": "bar",
         "x": [
          2010,
          2011,
          2012,
          2013,
          2014,
          2015,
          2016,
          2017,
          2018,
          2019,
          2020,
          2021,
          2022
         ],
         "y": [
          121,
          136,
          117,
          98,
          123,
          129,
          134,
          135,
          102,
          108,
          77,
          87,
          90
         ]
        }
       ],
       "layout": {
        "annotations": [
         {
          "font": {
           "size": 12
          },
          "showarrow": false,
          "text": "Source: Ministry of Justice, Criminal justice statistics",
          "x": -0.08,
          "xanchor": "left",
          "xref": "paper",
          "y": -0.19,
          "yanchor": "top",
          "yref": "paper"
         },
         {
          "align": "left",
          "font": {
           "size": 12
          },
          "showarrow": false,
          "text": "Women sentenced",
          "x": 2010,
          "xanchor": "left",
          "xref": "x",
          "y": 1.04,
          "yref": "paper"
         }
        ],
        "barmode": "group",
        "height": 360,
        "hovermode": "x",
        "legend": {
         "x": 1,
         "xanchor": "right",
         "y": 1.05,
         "yanchor": "top"
        },
        "margin": {
         "b": 75,
         "l": 63,
         "r": 20
        },
        "modebar": {
         "activecolor": "#A01D28"
        },
        "showlegend": true,
        "template": {
         "layout": {
          "colorway": [
           "#A01D28",
           "#499CC9",
           "#F9A237",
           "#6FBA3A",
           "#573D6B"
          ],
          "font": {
           "color": "#54565B",
           "family": "Helvetica Neue, Arial",
           "size": 12
          },
          "modebar": {
           "activecolor": "#A01D28"
          },
          "paper_bgcolor": "#F7F2F2",
          "plot_bgcolor": "#F7F2F2",
          "showlegend": false,
          "title": {
           "font": {
            "family": "Helvetica Neue, Arial",
            "size": 17
           },
           "y": 0.94,
           "yanchor": "bottom"
          },
          "xaxis": {
           "showgrid": false,
           "tickcolor": "#54565B"
          }
         }
        },
        "title": {
         "text": "<b>Sentencing of women in Staffordshire 2010–2022</b>",
         "y": 0.94,
         "yanchor": "bottom"
        },
        "width": 655,
        "xaxis": {
         "dtick": 2,
         "range": [
          2009.3,
          2022.8
         ],
         "showgrid": false,
         "tick0": 2010,
         "tickcolor": "#54565B"
        },
        "yaxis": {
         "range": [
          0,
          540
         ],
         "tick0": 0,
         "tickformat": ",.0f",
         "title": {
          "text": ""
         }
        }
       }
      }
     },
     "metadata": {},
     "output_type": "display_data"
    },
    {
     "data": {
      "application/vnd.plotly.v1+json": {
       "config": {
        "plotlyServerURL": "https://plot.ly"
       },
       "data": [
        {
         "customdata": [
          "community sentence",
          "community sentence",
          "community sentence",
          "community sentence",
          "community sentence",
          "community sentence",
          "community sentence",
          "community sentence",
          "community sentence",
          "community sentence",
          "community sentence",
          "community sentence",
          "community sentence"
         ],
         "hovertemplate": "%{y} %{customdata}<extra></extra>",
         "name": "Community sentence",
         "type": "bar",
         "x": [
          2010,
          2011,
          2012,
          2013,
          2014,
          2015,
          2016,
          2017,
          2018,
          2019,
          2020,
          2021,
          2022
         ],
         "y": [
          229,
          207,
          210,
          185,
          180,
          142,
          76,
          80,
          89,
          107,
          64,
          107,
          87
         ]
        },
        {
         "customdata": [
          "immediate custody",
          "immediate custody",
          "immediate custody",
          "immediate custody",
          "immediate custody",
          "immediate custody",
          "immediate custody",
          "immediate custody",
          "immediate custody",
          "immediate custody",
          "immediate custody",
          "immediate custody",
          "immediate custody"
         ],
         "hovertemplate": "%{y} %{customdata}<extra></extra>",
         "name": "Immediate custody",
         "type": "bar",
         "x": [
          2010,
          2011,
          2012,
          2013,
          2014,
          2015,
          2016,
          2017,
          2018,
          2019,
          2020,
          2021,
          2022
         ],
         "y": [
          51,
          76,
          42,
          64,
          79,
          73,
          49,
          72,
          53,
          38,
          39,
          42,
          36
         ]
        },
        {
         "customdata": [
          "suspended sentence",
          "suspended sentence",
          "suspended sentence",
          "suspended sentence",
          "suspended sentence",
          "suspended sentence",
          "suspended sentence",
          "suspended sentence",
          "suspended sentence",
          "suspended sentence",
          "suspended sentence",
          "suspended sentence",
          "suspended sentence"
         ],
         "hovertemplate": "%{y} %{customdata}<extra></extra>",
         "name": "Suspended sentence",
         "type": "bar",
         "x": [
          2010,
          2011,
          2012,
          2013,
          2014,
          2015,
          2016,
          2017,
          2018,
          2019,
          2020,
          2021,
          2022
         ],
         "y": [
          70,
          87,
          77,
          74,
          113,
          93,
          79,
          91,
          61,
          41,
          49,
          74,
          75
         ]
        }
       ],
       "layout": {
        "annotations": [
         {
          "font": {
           "size": 12
          },
          "showarrow": false,
          "text": "Source: Ministry of Justice, Criminal justice statistics",
          "x": -0.08,
          "xanchor": "left",
          "xref": "paper",
          "y": -0.19,
          "yanchor": "top",
          "yref": "paper"
         },
         {
          "align": "left",
          "font": {
           "size": 12
          },
          "showarrow": false,
          "text": "Women sentenced",
          "x": 2010,
          "xanchor": "left",
          "xref": "x",
          "y": 1.04,
          "yref": "paper"
         }
        ],
        "barmode": "group",
        "height": 360,
        "hovermode": "x",
        "legend": {
         "x": 1,
         "xanchor": "right",
         "y": 1.05,
         "yanchor": "top"
        },
        "margin": {
         "b": 75,
         "l": 63,
         "r": 20
        },
        "modebar": {
         "activecolor": "#A01D28"
        },
        "showlegend": true,
        "template": {
         "layout": {
          "colorway": [
           "#A01D28",
           "#499CC9",
           "#F9A237",
           "#6FBA3A",
           "#573D6B"
          ],
          "font": {
           "color": "#54565B",
           "family": "Helvetica Neue, Arial",
           "size": 12
          },
          "modebar": {
           "activecolor": "#A01D28"
          },
          "paper_bgcolor": "#F7F2F2",
          "plot_bgcolor": "#F7F2F2",
          "showlegend": false,
          "title": {
           "font": {
            "family": "Helvetica Neue, Arial",
            "size": 17
           },
           "y": 0.94,
           "yanchor": "bottom"
          },
          "xaxis": {
           "showgrid": false,
           "tickcolor": "#54565B"
          }
         }
        },
        "title": {
         "text": "<b>Sentencing of women in Suffolk 2010–2022</b>",
         "y": 0.94,
         "yanchor": "bottom"
        },
        "width": 655,
        "xaxis": {
         "dtick": 2,
         "range": [
          2009.3,
          2022.8
         ],
         "showgrid": false,
         "tick0": 2010,
         "tickcolor": "#54565B"
        },
        "yaxis": {
         "range": [
          0,
          315
         ],
         "tick0": 0,
         "tickformat": ",.0f",
         "title": {
          "text": ""
         }
        }
       }
      }
     },
     "metadata": {},
     "output_type": "display_data"
    },
    {
     "data": {
      "application/vnd.plotly.v1+json": {
       "config": {
        "plotlyServerURL": "https://plot.ly"
       },
       "data": [
        {
         "customdata": [
          "community sentence",
          "community sentence",
          "community sentence",
          "community sentence",
          "community sentence",
          "community sentence",
          "community sentence",
          "community sentence",
          "community sentence",
          "community sentence",
          "community sentence",
          "community sentence",
          "community sentence"
         ],
         "hovertemplate": "%{y} %{customdata}<extra></extra>",
         "name": "Community sentence",
         "type": "bar",
         "x": [
          2010,
          2011,
          2012,
          2013,
          2014,
          2015,
          2016,
          2017,
          2018,
          2019,
          2020,
          2021,
          2022
         ],
         "y": [
          250,
          262,
          234,
          254,
          168,
          204,
          166,
          167,
          165,
          162,
          110,
          123,
          133
         ]
        },
        {
         "customdata": [
          "immediate custody",
          "immediate custody",
          "immediate custody",
          "immediate custody",
          "immediate custody",
          "immediate custody",
          "immediate custody",
          "immediate custody",
          "immediate custody",
          "immediate custody",
          "immediate custody",
          "immediate custody",
          "immediate custody"
         ],
         "hovertemplate": "%{y} %{customdata}<extra></extra>",
         "name": "Immediate custody",
         "type": "bar",
         "x": [
          2010,
          2011,
          2012,
          2013,
          2014,
          2015,
          2016,
          2017,
          2018,
          2019,
          2020,
          2021,
          2022
         ],
         "y": [
          91,
          99,
          113,
          82,
          90,
          63,
          63,
          76,
          44,
          42,
          29,
          34,
          19
         ]
        },
        {
         "customdata": [
          "suspended sentence",
          "suspended sentence",
          "suspended sentence",
          "suspended sentence",
          "suspended sentence",
          "suspended sentence",
          "suspended sentence",
          "suspended sentence",
          "suspended sentence",
          "suspended sentence",
          "suspended sentence",
          "suspended sentence",
          "suspended sentence"
         ],
         "hovertemplate": "%{y} %{customdata}<extra></extra>",
         "name": "Suspended sentence",
         "type": "bar",
         "x": [
          2010,
          2011,
          2012,
          2013,
          2014,
          2015,
          2016,
          2017,
          2018,
          2019,
          2020,
          2021,
          2022
         ],
         "y": [
          77,
          104,
          72,
          99,
          115,
          110,
          100,
          69,
          76,
          66,
          53,
          50,
          28
         ]
        }
       ],
       "layout": {
        "annotations": [
         {
          "font": {
           "size": 12
          },
          "showarrow": false,
          "text": "Source: Ministry of Justice, Criminal justice statistics",
          "x": -0.08,
          "xanchor": "left",
          "xref": "paper",
          "y": -0.19,
          "yanchor": "top",
          "yref": "paper"
         },
         {
          "align": "left",
          "font": {
           "size": 12
          },
          "showarrow": false,
          "text": "Women sentenced",
          "x": 2010,
          "xanchor": "left",
          "xref": "x",
          "y": 1.04,
          "yref": "paper"
         }
        ],
        "barmode": "group",
        "height": 360,
        "hovermode": "x",
        "legend": {
         "x": 1,
         "xanchor": "right",
         "y": 1.05,
         "yanchor": "top"
        },
        "margin": {
         "b": 75,
         "l": 63,
         "r": 20
        },
        "modebar": {
         "activecolor": "#A01D28"
        },
        "showlegend": true,
        "template": {
         "layout": {
          "colorway": [
           "#A01D28",
           "#499CC9",
           "#F9A237",
           "#6FBA3A",
           "#573D6B"
          ],
          "font": {
           "color": "#54565B",
           "family": "Helvetica Neue, Arial",
           "size": 12
          },
          "modebar": {
           "activecolor": "#A01D28"
          },
          "paper_bgcolor": "#F7F2F2",
          "plot_bgcolor": "#F7F2F2",
          "showlegend": false,
          "title": {
           "font": {
            "family": "Helvetica Neue, Arial",
            "size": 17
           },
           "y": 0.94,
           "yanchor": "bottom"
          },
          "xaxis": {
           "showgrid": false,
           "tickcolor": "#54565B"
          }
         }
        },
        "title": {
         "text": "<b>Sentencing of women in Surrey 2010–2022</b>",
         "y": 0.94,
         "yanchor": "bottom"
        },
        "width": 655,
        "xaxis": {
         "dtick": 2,
         "range": [
          2009.3,
          2022.8
         ],
         "showgrid": false,
         "tick0": 2010,
         "tickcolor": "#54565B"
        },
        "yaxis": {
         "range": [
          0,
          315
         ],
         "tick0": 0,
         "tickformat": ",.0f",
         "title": {
          "text": ""
         }
        }
       }
      }
     },
     "metadata": {},
     "output_type": "display_data"
    },
    {
     "data": {
      "application/vnd.plotly.v1+json": {
       "config": {
        "plotlyServerURL": "https://plot.ly"
       },
       "data": [
        {
         "customdata": [
          "community sentence",
          "community sentence",
          "community sentence",
          "community sentence",
          "community sentence",
          "community sentence",
          "community sentence",
          "community sentence",
          "community sentence",
          "community sentence",
          "community sentence",
          "community sentence",
          "community sentence"
         ],
         "hovertemplate": "%{y} %{customdata}<extra></extra>",
         "name": "Community sentence",
         "type": "bar",
         "x": [
          2010,
          2011,
          2012,
          2013,
          2014,
          2015,
          2016,
          2017,
          2018,
          2019,
          2020,
          2021,
          2022
         ],
         "y": [
          568,
          561,
          490,
          367,
          320,
          350,
          326,
          341,
          328,
          279,
          183,
          220,
          250
         ]
        },
        {
         "customdata": [
          "immediate custody",
          "immediate custody",
          "immediate custody",
          "immediate custody",
          "immediate custody",
          "immediate custody",
          "immediate custody",
          "immediate custody",
          "immediate custody",
          "immediate custody",
          "immediate custody",
          "immediate custody",
          "immediate custody"
         ],
         "hovertemplate": "%{y} %{customdata}<extra></extra>",
         "name": "Immediate custody",
         "type": "bar",
         "x": [
          2010,
          2011,
          2012,
          2013,
          2014,
          2015,
          2016,
          2017,
          2018,
          2019,
          2020,
          2021,
          2022
         ],
         "y": [
          250,
          231,
          194,
          144,
          131,
          160,
          129,
          104,
          97,
          85,
          66,
          65,
          62
         ]
        },
        {
         "customdata": [
          "suspended sentence",
          "suspended sentence",
          "suspended sentence",
          "suspended sentence",
          "suspended sentence",
          "suspended sentence",
          "suspended sentence",
          "suspended sentence",
          "suspended sentence",
          "suspended sentence",
          "suspended sentence",
          "suspended sentence",
          "suspended sentence"
         ],
         "hovertemplate": "%{y} %{customdata}<extra></extra>",
         "name": "Suspended sentence",
         "type": "bar",
         "x": [
          2010,
          2011,
          2012,
          2013,
          2014,
          2015,
          2016,
          2017,
          2018,
          2019,
          2020,
          2021,
          2022
         ],
         "y": [
          167,
          142,
          144,
          150,
          200,
          176,
          166,
          142,
          118,
          107,
          96,
          103,
          105
         ]
        }
       ],
       "layout": {
        "annotations": [
         {
          "font": {
           "size": 12
          },
          "showarrow": false,
          "text": "Source: Ministry of Justice, Criminal justice statistics",
          "x": -0.08,
          "xanchor": "left",
          "xref": "paper",
          "y": -0.19,
          "yanchor": "top",
          "yref": "paper"
         },
         {
          "align": "left",
          "font": {
           "size": 12
          },
          "showarrow": false,
          "text": "Women sentenced",
          "x": 2010,
          "xanchor": "left",
          "xref": "x",
          "y": 1.04,
          "yref": "paper"
         }
        ],
        "barmode": "group",
        "height": 360,
        "hovermode": "x",
        "legend": {
         "x": 1,
         "xanchor": "right",
         "y": 1.05,
         "yanchor": "top"
        },
        "margin": {
         "b": 75,
         "l": 63,
         "r": 20
        },
        "modebar": {
         "activecolor": "#A01D28"
        },
        "showlegend": true,
        "template": {
         "layout": {
          "colorway": [
           "#A01D28",
           "#499CC9",
           "#F9A237",
           "#6FBA3A",
           "#573D6B"
          ],
          "font": {
           "color": "#54565B",
           "family": "Helvetica Neue, Arial",
           "size": 12
          },
          "modebar": {
           "activecolor": "#A01D28"
          },
          "paper_bgcolor": "#F7F2F2",
          "plot_bgcolor": "#F7F2F2",
          "showlegend": false,
          "title": {
           "font": {
            "family": "Helvetica Neue, Arial",
            "size": 17
           },
           "y": 0.94,
           "yanchor": "bottom"
          },
          "xaxis": {
           "showgrid": false,
           "tickcolor": "#54565B"
          }
         }
        },
        "title": {
         "text": "<b>Sentencing of women in Sussex 2010–2022</b>",
         "y": 0.94,
         "yanchor": "bottom"
        },
        "width": 655,
        "xaxis": {
         "dtick": 2,
         "range": [
          2009.3,
          2022.8
         ],
         "showgrid": false,
         "tick0": 2010,
         "tickcolor": "#54565B"
        },
        "yaxis": {
         "range": [
          0,
          640
         ],
         "tick0": 0,
         "tickformat": ",.0f",
         "title": {
          "text": ""
         }
        }
       }
      }
     },
     "metadata": {},
     "output_type": "display_data"
    },
    {
     "data": {
      "application/vnd.plotly.v1+json": {
       "config": {
        "plotlyServerURL": "https://plot.ly"
       },
       "data": [
        {
         "customdata": [
          "community sentence",
          "community sentence",
          "community sentence",
          "community sentence",
          "community sentence",
          "community sentence",
          "community sentence",
          "community sentence",
          "community sentence",
          "community sentence",
          "community sentence",
          "community sentence",
          "community sentence"
         ],
         "hovertemplate": "%{y} %{customdata}<extra></extra>",
         "name": "Community sentence",
         "type": "bar",
         "x": [
          2010,
          2011,
          2012,
          2013,
          2014,
          2015,
          2016,
          2017,
          2018,
          2019,
          2020,
          2021,
          2022
         ],
         "y": [
          612,
          596,
          605,
          448,
          421,
          456,
          422,
          400,
          378,
          372,
          249,
          338,
          343
         ]
        },
        {
         "customdata": [
          "immediate custody",
          "immediate custody",
          "immediate custody",
          "immediate custody",
          "immediate custody",
          "immediate custody",
          "immediate custody",
          "immediate custody",
          "immediate custody",
          "immediate custody",
          "immediate custody",
          "immediate custody",
          "immediate custody"
         ],
         "hovertemplate": "%{y} %{customdata}<extra></extra>",
         "name": "Immediate custody",
         "type": "bar",
         "x": [
          2010,
          2011,
          2012,
          2013,
          2014,
          2015,
          2016,
          2017,
          2018,
          2019,
          2020,
          2021,
          2022
         ],
         "y": [
          240,
          250,
          209,
          202,
          213,
          255,
          221,
          225,
          194,
          160,
          101,
          142,
          143
         ]
        },
        {
         "customdata": [
          "suspended sentence",
          "suspended sentence",
          "suspended sentence",
          "suspended sentence",
          "suspended sentence",
          "suspended sentence",
          "suspended sentence",
          "suspended sentence",
          "suspended sentence",
          "suspended sentence",
          "suspended sentence",
          "suspended sentence",
          "suspended sentence"
         ],
         "hovertemplate": "%{y} %{customdata}<extra></extra>",
         "name": "Suspended sentence",
         "type": "bar",
         "x": [
          2010,
          2011,
          2012,
          2013,
          2014,
          2015,
          2016,
          2017,
          2018,
          2019,
          2020,
          2021,
          2022
         ],
         "y": [
          182,
          204,
          187,
          194,
          200,
          283,
          261,
          226,
          182,
          136,
          114,
          139,
          136
         ]
        }
       ],
       "layout": {
        "annotations": [
         {
          "font": {
           "size": 12
          },
          "showarrow": false,
          "text": "Source: Ministry of Justice, Criminal justice statistics",
          "x": -0.08,
          "xanchor": "left",
          "xref": "paper",
          "y": -0.19,
          "yanchor": "top",
          "yref": "paper"
         },
         {
          "align": "left",
          "font": {
           "size": 12
          },
          "showarrow": false,
          "text": "Women sentenced",
          "x": 2010,
          "xanchor": "left",
          "xref": "x",
          "y": 1.04,
          "yref": "paper"
         }
        ],
        "barmode": "group",
        "height": 360,
        "hovermode": "x",
        "legend": {
         "x": 1,
         "xanchor": "right",
         "y": 1.05,
         "yanchor": "top"
        },
        "margin": {
         "b": 75,
         "l": 63,
         "r": 20
        },
        "modebar": {
         "activecolor": "#A01D28"
        },
        "showlegend": true,
        "template": {
         "layout": {
          "colorway": [
           "#A01D28",
           "#499CC9",
           "#F9A237",
           "#6FBA3A",
           "#573D6B"
          ],
          "font": {
           "color": "#54565B",
           "family": "Helvetica Neue, Arial",
           "size": 12
          },
          "modebar": {
           "activecolor": "#A01D28"
          },
          "paper_bgcolor": "#F7F2F2",
          "plot_bgcolor": "#F7F2F2",
          "showlegend": false,
          "title": {
           "font": {
            "family": "Helvetica Neue, Arial",
            "size": 17
           },
           "y": 0.94,
           "yanchor": "bottom"
          },
          "xaxis": {
           "showgrid": false,
           "tickcolor": "#54565B"
          }
         }
        },
        "title": {
         "text": "<b>Sentencing of women in Thames Valley 2010–2022</b>",
         "y": 0.94,
         "yanchor": "bottom"
        },
        "width": 655,
        "xaxis": {
         "dtick": 2,
         "range": [
          2009.3,
          2022.8
         ],
         "showgrid": false,
         "tick0": 2010,
         "tickcolor": "#54565B"
        },
        "yaxis": {
         "range": [
          0,
          640
         ],
         "tick0": 0,
         "tickformat": ",.0f",
         "title": {
          "text": ""
         }
        }
       }
      }
     },
     "metadata": {},
     "output_type": "display_data"
    },
    {
     "data": {
      "application/vnd.plotly.v1+json": {
       "config": {
        "plotlyServerURL": "https://plot.ly"
       },
       "data": [
        {
         "customdata": [
          "community sentence",
          "community sentence",
          "community sentence",
          "community sentence",
          "community sentence",
          "community sentence",
          "community sentence",
          "community sentence",
          "community sentence",
          "community sentence",
          "community sentence",
          "community sentence",
          "community sentence"
         ],
         "hovertemplate": "%{y} %{customdata}<extra></extra>",
         "name": "Community sentence",
         "type": "bar",
         "x": [
          2010,
          2011,
          2012,
          2013,
          2014,
          2015,
          2016,
          2017,
          2018,
          2019,
          2020,
          2021,
          2022
         ],
         "y": [
          157,
          130,
          140,
          111,
          108,
          115,
          122,
          94,
          87,
          92,
          42,
          29,
          15
         ]
        },
        {
         "customdata": [
          "immediate custody",
          "immediate custody",
          "immediate custody",
          "immediate custody",
          "immediate custody",
          "immediate custody",
          "immediate custody",
          "immediate custody",
          "immediate custody",
          "immediate custody",
          "immediate custody",
          "immediate custody",
          "immediate custody"
         ],
         "hovertemplate": "%{y} %{customdata}<extra></extra>",
         "name": "Immediate custody",
         "type": "bar",
         "x": [
          2010,
          2011,
          2012,
          2013,
          2014,
          2015,
          2016,
          2017,
          2018,
          2019,
          2020,
          2021,
          2022
         ],
         "y": [
          25,
          39,
          37,
          40,
          41,
          57,
          60,
          67,
          31,
          46,
          38,
          28,
          41
         ]
        },
        {
         "customdata": [
          "suspended sentence",
          "suspended sentence",
          "suspended sentence",
          "suspended sentence",
          "suspended sentence",
          "suspended sentence",
          "suspended sentence",
          "suspended sentence",
          "suspended sentence",
          "suspended sentence",
          "suspended sentence",
          "suspended sentence",
          "suspended sentence"
         ],
         "hovertemplate": "%{y} %{customdata}<extra></extra>",
         "name": "Suspended sentence",
         "type": "bar",
         "x": [
          2010,
          2011,
          2012,
          2013,
          2014,
          2015,
          2016,
          2017,
          2018,
          2019,
          2020,
          2021,
          2022
         ],
         "y": [
          37,
          25,
          31,
          34,
          55,
          50,
          71,
          55,
          44,
          38,
          35,
          34,
          32
         ]
        }
       ],
       "layout": {
        "annotations": [
         {
          "font": {
           "size": 12
          },
          "showarrow": false,
          "text": "Source: Ministry of Justice, Criminal justice statistics",
          "x": -0.08,
          "xanchor": "left",
          "xref": "paper",
          "y": -0.19,
          "yanchor": "top",
          "yref": "paper"
         },
         {
          "align": "left",
          "font": {
           "size": 12
          },
          "showarrow": false,
          "text": "Women sentenced",
          "x": 2010,
          "xanchor": "left",
          "xref": "x",
          "y": 1.04,
          "yref": "paper"
         }
        ],
        "barmode": "group",
        "height": 360,
        "hovermode": "x",
        "legend": {
         "x": 1,
         "xanchor": "right",
         "y": 1.05,
         "yanchor": "top"
        },
        "margin": {
         "b": 75,
         "l": 63,
         "r": 20
        },
        "modebar": {
         "activecolor": "#A01D28"
        },
        "showlegend": true,
        "template": {
         "layout": {
          "colorway": [
           "#A01D28",
           "#499CC9",
           "#F9A237",
           "#6FBA3A",
           "#573D6B"
          ],
          "font": {
           "color": "#54565B",
           "family": "Helvetica Neue, Arial",
           "size": 12
          },
          "modebar": {
           "activecolor": "#A01D28"
          },
          "paper_bgcolor": "#F7F2F2",
          "plot_bgcolor": "#F7F2F2",
          "showlegend": false,
          "title": {
           "font": {
            "family": "Helvetica Neue, Arial",
            "size": 17
           },
           "y": 0.94,
           "yanchor": "bottom"
          },
          "xaxis": {
           "showgrid": false,
           "tickcolor": "#54565B"
          }
         }
        },
        "title": {
         "text": "<b>Sentencing of women in Warwickshire 2010–2022</b>",
         "y": 0.94,
         "yanchor": "bottom"
        },
        "width": 655,
        "xaxis": {
         "dtick": 2,
         "range": [
          2009.3,
          2022.8
         ],
         "showgrid": false,
         "tick0": 2010,
         "tickcolor": "#54565B"
        },
        "yaxis": {
         "range": [
          0,
          208
         ],
         "tick0": 0,
         "tickformat": ",.0f",
         "title": {
          "text": ""
         }
        }
       }
      }
     },
     "metadata": {},
     "output_type": "display_data"
    },
    {
     "data": {
      "application/vnd.plotly.v1+json": {
       "config": {
        "plotlyServerURL": "https://plot.ly"
       },
       "data": [
        {
         "customdata": [
          "community sentence",
          "community sentence",
          "community sentence",
          "community sentence",
          "community sentence",
          "community sentence",
          "community sentence",
          "community sentence",
          "community sentence",
          "community sentence",
          "community sentence",
          "community sentence",
          "community sentence"
         ],
         "hovertemplate": "%{y} %{customdata}<extra></extra>",
         "name": "Community sentence",
         "type": "bar",
         "x": [
          2010,
          2011,
          2012,
          2013,
          2014,
          2015,
          2016,
          2017,
          2018,
          2019,
          2020,
          2021,
          2022
         ],
         "y": [
          414,
          377,
          341,
          276,
          249,
          301,
          266,
          290,
          219,
          207,
          148,
          157,
          153
         ]
        },
        {
         "customdata": [
          "immediate custody",
          "immediate custody",
          "immediate custody",
          "immediate custody",
          "immediate custody",
          "immediate custody",
          "immediate custody",
          "immediate custody",
          "immediate custody",
          "immediate custody",
          "immediate custody",
          "immediate custody",
          "immediate custody"
         ],
         "hovertemplate": "%{y} %{customdata}<extra></extra>",
         "name": "Immediate custody",
         "type": "bar",
         "x": [
          2010,
          2011,
          2012,
          2013,
          2014,
          2015,
          2016,
          2017,
          2018,
          2019,
          2020,
          2021,
          2022
         ],
         "y": [
          146,
          115,
          110,
          103,
          115,
          102,
          112,
          123,
          107,
          113,
          98,
          62,
          47
         ]
        },
        {
         "customdata": [
          "suspended sentence",
          "suspended sentence",
          "suspended sentence",
          "suspended sentence",
          "suspended sentence",
          "suspended sentence",
          "suspended sentence",
          "suspended sentence",
          "suspended sentence",
          "suspended sentence",
          "suspended sentence",
          "suspended sentence",
          "suspended sentence"
         ],
         "hovertemplate": "%{y} %{customdata}<extra></extra>",
         "name": "Suspended sentence",
         "type": "bar",
         "x": [
          2010,
          2011,
          2012,
          2013,
          2014,
          2015,
          2016,
          2017,
          2018,
          2019,
          2020,
          2021,
          2022
         ],
         "y": [
          120,
          107,
          115,
          105,
          147,
          153,
          163,
          149,
          99,
          91,
          107,
          118,
          73
         ]
        }
       ],
       "layout": {
        "annotations": [
         {
          "font": {
           "size": 12
          },
          "showarrow": false,
          "text": "Source: Ministry of Justice, Criminal justice statistics",
          "x": -0.08,
          "xanchor": "left",
          "xref": "paper",
          "y": -0.19,
          "yanchor": "top",
          "yref": "paper"
         },
         {
          "align": "left",
          "font": {
           "size": 12
          },
          "showarrow": false,
          "text": "Women sentenced",
          "x": 2010,
          "xanchor": "left",
          "xref": "x",
          "y": 1.04,
          "yref": "paper"
         }
        ],
        "barmode": "group",
        "height": 360,
        "hovermode": "x",
        "legend": {
         "x": 1,
         "xanchor": "right",
         "y": 1.05,
         "yanchor": "top"
        },
        "margin": {
         "b": 75,
         "l": 63,
         "r": 20
        },
        "modebar": {
         "activecolor": "#A01D28"
        },
        "showlegend": true,
        "template": {
         "layout": {
          "colorway": [
           "#A01D28",
           "#499CC9",
           "#F9A237",
           "#6FBA3A",
           "#573D6B"
          ],
          "font": {
           "color": "#54565B",
           "family": "Helvetica Neue, Arial",
           "size": 12
          },
          "modebar": {
           "activecolor": "#A01D28"
          },
          "paper_bgcolor": "#F7F2F2",
          "plot_bgcolor": "#F7F2F2",
          "showlegend": false,
          "title": {
           "font": {
            "family": "Helvetica Neue, Arial",
            "size": 17
           },
           "y": 0.94,
           "yanchor": "bottom"
          },
          "xaxis": {
           "showgrid": false,
           "tickcolor": "#54565B"
          }
         }
        },
        "title": {
         "text": "<b>Sentencing of women in West Mercia 2010–2022</b>",
         "y": 0.94,
         "yanchor": "bottom"
        },
        "width": 655,
        "xaxis": {
         "dtick": 2,
         "range": [
          2009.3,
          2022.8
         ],
         "showgrid": false,
         "tick0": 2010,
         "tickcolor": "#54565B"
        },
        "yaxis": {
         "range": [
          0,
          420
         ],
         "tick0": 0,
         "tickformat": ",.0f",
         "title": {
          "text": ""
         }
        }
       }
      }
     },
     "metadata": {},
     "output_type": "display_data"
    },
    {
     "data": {
      "application/vnd.plotly.v1+json": {
       "config": {
        "plotlyServerURL": "https://plot.ly"
       },
       "data": [
        {
         "customdata": [
          "community sentence",
          "community sentence",
          "community sentence",
          "community sentence",
          "community sentence",
          "community sentence",
          "community sentence",
          "community sentence",
          "community sentence",
          "community sentence",
          "community sentence",
          "community sentence",
          "community sentence"
         ],
         "hovertemplate": "%{y} %{customdata}<extra></extra>",
         "name": "Community sentence",
         "type": "bar",
         "x": [
          2010,
          2011,
          2012,
          2013,
          2014,
          2015,
          2016,
          2017,
          2018,
          2019,
          2020,
          2021,
          2022
         ],
         "y": [
          1137,
          1004,
          927,
          937,
          830,
          877,
          844,
          749,
          606,
          655,
          431,
          489,
          478
         ]
        },
        {
         "customdata": [
          "immediate custody",
          "immediate custody",
          "immediate custody",
          "immediate custody",
          "immediate custody",
          "immediate custody",
          "immediate custody",
          "immediate custody",
          "immediate custody",
          "immediate custody",
          "immediate custody",
          "immediate custody",
          "immediate custody"
         ],
         "hovertemplate": "%{y} %{customdata}<extra></extra>",
         "name": "Immediate custody",
         "type": "bar",
         "x": [
          2010,
          2011,
          2012,
          2013,
          2014,
          2015,
          2016,
          2017,
          2018,
          2019,
          2020,
          2021,
          2022
         ],
         "y": [
          606,
          550,
          575,
          487,
          526,
          516,
          555,
          477,
          396,
          406,
          254,
          226,
          216
         ]
        },
        {
         "customdata": [
          "suspended sentence",
          "suspended sentence",
          "suspended sentence",
          "suspended sentence",
          "suspended sentence",
          "suspended sentence",
          "suspended sentence",
          "suspended sentence",
          "suspended sentence",
          "suspended sentence",
          "suspended sentence",
          "suspended sentence",
          "suspended sentence"
         ],
         "hovertemplate": "%{y} %{customdata}<extra></extra>",
         "name": "Suspended sentence",
         "type": "bar",
         "x": [
          2010,
          2011,
          2012,
          2013,
          2014,
          2015,
          2016,
          2017,
          2018,
          2019,
          2020,
          2021,
          2022
         ],
         "y": [
          503,
          519,
          492,
          511,
          527,
          524,
          505,
          466,
          332,
          330,
          263,
          294,
          267
         ]
        }
       ],
       "layout": {
        "annotations": [
         {
          "font": {
           "size": 12
          },
          "showarrow": false,
          "text": "Source: Ministry of Justice, Criminal justice statistics",
          "x": -0.08,
          "xanchor": "left",
          "xref": "paper",
          "y": -0.19,
          "yanchor": "top",
          "yref": "paper"
         },
         {
          "align": "left",
          "font": {
           "size": 12
          },
          "showarrow": false,
          "text": "Women sentenced",
          "x": 2010,
          "xanchor": "left",
          "xref": "x",
          "y": 1.04,
          "yref": "paper"
         }
        ],
        "barmode": "group",
        "height": 360,
        "hovermode": "x",
        "legend": {
         "x": 1,
         "xanchor": "right",
         "y": 1.05,
         "yanchor": "top"
        },
        "margin": {
         "b": 75,
         "l": 63,
         "r": 20
        },
        "modebar": {
         "activecolor": "#A01D28"
        },
        "showlegend": true,
        "template": {
         "layout": {
          "colorway": [
           "#A01D28",
           "#499CC9",
           "#F9A237",
           "#6FBA3A",
           "#573D6B"
          ],
          "font": {
           "color": "#54565B",
           "family": "Helvetica Neue, Arial",
           "size": 12
          },
          "modebar": {
           "activecolor": "#A01D28"
          },
          "paper_bgcolor": "#F7F2F2",
          "plot_bgcolor": "#F7F2F2",
          "showlegend": false,
          "title": {
           "font": {
            "family": "Helvetica Neue, Arial",
            "size": 17
           },
           "y": 0.94,
           "yanchor": "bottom"
          },
          "xaxis": {
           "showgrid": false,
           "tickcolor": "#54565B"
          }
         }
        },
        "title": {
         "text": "<b>Sentencing of women in West Midlands 2010–2022</b>",
         "y": 0.94,
         "yanchor": "bottom"
        },
        "width": 655,
        "xaxis": {
         "dtick": 2,
         "range": [
          2009.3,
          2022.8
         ],
         "showgrid": false,
         "tick0": 2010,
         "tickcolor": "#54565B"
        },
        "yaxis": {
         "range": [
          0,
          1550
         ],
         "tick0": 0,
         "tickformat": ",.0f",
         "title": {
          "text": ""
         }
        }
       }
      }
     },
     "metadata": {},
     "output_type": "display_data"
    },
    {
     "data": {
      "application/vnd.plotly.v1+json": {
       "config": {
        "plotlyServerURL": "https://plot.ly"
       },
       "data": [
        {
         "customdata": [
          "community sentence",
          "community sentence",
          "community sentence",
          "community sentence",
          "community sentence",
          "community sentence",
          "community sentence",
          "community sentence",
          "community sentence",
          "community sentence",
          "community sentence",
          "community sentence",
          "community sentence"
         ],
         "hovertemplate": "%{y} %{customdata}<extra></extra>",
         "name": "Community sentence",
         "type": "bar",
         "x": [
          2010,
          2011,
          2012,
          2013,
          2014,
          2015,
          2016,
          2017,
          2018,
          2019,
          2020,
          2021,
          2022
         ],
         "y": [
          1136,
          1013,
          868,
          745,
          683,
          765,
          718,
          674,
          706,
          687,
          464,
          671,
          714
         ]
        },
        {
         "customdata": [
          "immediate custody",
          "immediate custody",
          "immediate custody",
          "immediate custody",
          "immediate custody",
          "immediate custody",
          "immediate custody",
          "immediate custody",
          "immediate custody",
          "immediate custody",
          "immediate custody",
          "immediate custody",
          "immediate custody"
         ],
         "hovertemplate": "%{y} %{customdata}<extra></extra>",
         "name": "Immediate custody",
         "type": "bar",
         "x": [
          2010,
          2011,
          2012,
          2013,
          2014,
          2015,
          2016,
          2017,
          2018,
          2019,
          2020,
          2021,
          2022
         ],
         "y": [
          255,
          264,
          260,
          266,
          296,
          292,
          335,
          334,
          285,
          301,
          263,
          250,
          251
         ]
        },
        {
         "customdata": [
          "suspended sentence",
          "suspended sentence",
          "suspended sentence",
          "suspended sentence",
          "suspended sentence",
          "suspended sentence",
          "suspended sentence",
          "suspended sentence",
          "suspended sentence",
          "suspended sentence",
          "suspended sentence",
          "suspended sentence",
          "suspended sentence"
         ],
         "hovertemplate": "%{y} %{customdata}<extra></extra>",
         "name": "Suspended sentence",
         "type": "bar",
         "x": [
          2010,
          2011,
          2012,
          2013,
          2014,
          2015,
          2016,
          2017,
          2018,
          2019,
          2020,
          2021,
          2022
         ],
         "y": [
          204,
          233,
          201,
          237,
          248,
          283,
          311,
          294,
          232,
          209,
          199,
          278,
          287
         ]
        }
       ],
       "layout": {
        "annotations": [
         {
          "font": {
           "size": 12
          },
          "showarrow": false,
          "text": "Source: Ministry of Justice, Criminal justice statistics",
          "x": -0.08,
          "xanchor": "left",
          "xref": "paper",
          "y": -0.19,
          "yanchor": "top",
          "yref": "paper"
         },
         {
          "align": "left",
          "font": {
           "size": 12
          },
          "showarrow": false,
          "text": "Women sentenced",
          "x": 2010,
          "xanchor": "left",
          "xref": "x",
          "y": 1.04,
          "yref": "paper"
         }
        ],
        "barmode": "group",
        "height": 360,
        "hovermode": "x",
        "legend": {
         "x": 1,
         "xanchor": "right",
         "y": 1.05,
         "yanchor": "top"
        },
        "margin": {
         "b": 75,
         "l": 63,
         "r": 20
        },
        "modebar": {
         "activecolor": "#A01D28"
        },
        "showlegend": true,
        "template": {
         "layout": {
          "colorway": [
           "#A01D28",
           "#499CC9",
           "#F9A237",
           "#6FBA3A",
           "#573D6B"
          ],
          "font": {
           "color": "#54565B",
           "family": "Helvetica Neue, Arial",
           "size": 12
          },
          "modebar": {
           "activecolor": "#A01D28"
          },
          "paper_bgcolor": "#F7F2F2",
          "plot_bgcolor": "#F7F2F2",
          "showlegend": false,
          "title": {
           "font": {
            "family": "Helvetica Neue, Arial",
            "size": 17
           },
           "y": 0.94,
           "yanchor": "bottom"
          },
          "xaxis": {
           "showgrid": false,
           "tickcolor": "#54565B"
          }
         }
        },
        "title": {
         "text": "<b>Sentencing of women in West Yorkshire 2010–2022</b>",
         "y": 0.94,
         "yanchor": "bottom"
        },
        "width": 655,
        "xaxis": {
         "dtick": 2,
         "range": [
          2009.3,
          2022.8
         ],
         "showgrid": false,
         "tick0": 2010,
         "tickcolor": "#54565B"
        },
        "yaxis": {
         "range": [
          0,
          1550
         ],
         "tick0": 0,
         "tickformat": ",.0f",
         "title": {
          "text": ""
         }
        }
       }
      }
     },
     "metadata": {},
     "output_type": "display_data"
    },
    {
     "data": {
      "application/vnd.plotly.v1+json": {
       "config": {
        "plotlyServerURL": "https://plot.ly"
       },
       "data": [
        {
         "customdata": [
          "community sentence",
          "community sentence",
          "community sentence",
          "community sentence",
          "community sentence",
          "community sentence",
          "community sentence",
          "community sentence",
          "community sentence",
          "community sentence",
          "community sentence",
          "community sentence",
          "community sentence"
         ],
         "hovertemplate": "%{y} %{customdata}<extra></extra>",
         "name": "Community sentence",
         "type": "bar",
         "x": [
          2010,
          2011,
          2012,
          2013,
          2014,
          2015,
          2016,
          2017,
          2018,
          2019,
          2020,
          2021,
          2022
         ],
         "y": [
          170,
          151,
          142,
          169,
          135,
          189,
          159,
          180,
          177,
          177,
          78,
          142,
          133
         ]
        },
        {
         "customdata": [
          "immediate custody",
          "immediate custody",
          "immediate custody",
          "immediate custody",
          "immediate custody",
          "immediate custody",
          "immediate custody",
          "immediate custody",
          "immediate custody",
          "immediate custody",
          "immediate custody",
          "immediate custody",
          "immediate custody"
         ],
         "hovertemplate": "%{y} %{customdata}<extra></extra>",
         "name": "Immediate custody",
         "type": "bar",
         "x": [
          2010,
          2011,
          2012,
          2013,
          2014,
          2015,
          2016,
          2017,
          2018,
          2019,
          2020,
          2021,
          2022
         ],
         "y": [
          22,
          31,
          33,
          24,
          32,
          44,
          49,
          47,
          49,
          49,
          34,
          33,
          30
         ]
        },
        {
         "customdata": [
          "suspended sentence",
          "suspended sentence",
          "suspended sentence",
          "suspended sentence",
          "suspended sentence",
          "suspended sentence",
          "suspended sentence",
          "suspended sentence",
          "suspended sentence",
          "suspended sentence",
          "suspended sentence",
          "suspended sentence",
          "suspended sentence"
         ],
         "hovertemplate": "%{y} %{customdata}<extra></extra>",
         "name": "Suspended sentence",
         "type": "bar",
         "x": [
          2010,
          2011,
          2012,
          2013,
          2014,
          2015,
          2016,
          2017,
          2018,
          2019,
          2020,
          2021,
          2022
         ],
         "y": [
          35,
          26,
          32,
          46,
          55,
          80,
          73,
          60,
          53,
          35,
          31,
          44,
          37
         ]
        }
       ],
       "layout": {
        "annotations": [
         {
          "font": {
           "size": 12
          },
          "showarrow": false,
          "text": "Source: Ministry of Justice, Criminal justice statistics",
          "x": -0.08,
          "xanchor": "left",
          "xref": "paper",
          "y": -0.19,
          "yanchor": "top",
          "yref": "paper"
         },
         {
          "align": "left",
          "font": {
           "size": 12
          },
          "showarrow": false,
          "text": "Women sentenced",
          "x": 2010,
          "xanchor": "left",
          "xref": "x",
          "y": 1.04,
          "yref": "paper"
         }
        ],
        "barmode": "group",
        "height": 360,
        "hovermode": "x",
        "legend": {
         "x": 1,
         "xanchor": "right",
         "y": 1.05,
         "yanchor": "top"
        },
        "margin": {
         "b": 75,
         "l": 63,
         "r": 20
        },
        "modebar": {
         "activecolor": "#A01D28"
        },
        "showlegend": true,
        "template": {
         "layout": {
          "colorway": [
           "#A01D28",
           "#499CC9",
           "#F9A237",
           "#6FBA3A",
           "#573D6B"
          ],
          "font": {
           "color": "#54565B",
           "family": "Helvetica Neue, Arial",
           "size": 12
          },
          "modebar": {
           "activecolor": "#A01D28"
          },
          "paper_bgcolor": "#F7F2F2",
          "plot_bgcolor": "#F7F2F2",
          "showlegend": false,
          "title": {
           "font": {
            "family": "Helvetica Neue, Arial",
            "size": 17
           },
           "y": 0.94,
           "yanchor": "bottom"
          },
          "xaxis": {
           "showgrid": false,
           "tickcolor": "#54565B"
          }
         }
        },
        "title": {
         "text": "<b>Sentencing of women in Wiltshire 2010–2022</b>",
         "y": 0.94,
         "yanchor": "bottom"
        },
        "width": 655,
        "xaxis": {
         "dtick": 2,
         "range": [
          2009.3,
          2022.8
         ],
         "showgrid": false,
         "tick0": 2010,
         "tickcolor": "#54565B"
        },
        "yaxis": {
         "range": [
          0,
          208
         ],
         "tick0": 0,
         "tickformat": ",.0f",
         "title": {
          "text": ""
         }
        }
       }
      }
     },
     "metadata": {},
     "output_type": "display_data"
    }
   ],
   "source": [
    "for pfa in df['pfa'].unique():\n",
    "    pfa_df = df[df[\"pfa\"] == pfa]\n",
    "    trace_list = [] # Need to empty my trace_list with every loop through each PFA so that charts are plotted separately\n",
    "    fig = go.Figure() # Need to also instantiate the figure with every loop in order to clear fig.data values\n",
    "\n",
    "    for i in pfa_df[\"outcome\"].unique():  # Creating a for loop to extract unique values from the dataframe and make traces\n",
    "        pfa_df_outcome = pfa_df[pfa_df[\"outcome\"] == i]\n",
    "        \n",
    "        \n",
    "        trace = go.Bar(\n",
    "            x=pfa_df_outcome[\"year\"],\n",
    "            y=pfa_df_outcome[\"freq\"],\n",
    "            name=str(pfa_df_outcome[\"outcome\"].iloc[0]),\n",
    "            customdata=pfa_df_outcome[\"outcome\"].str.lower(),\n",
    "            hovertemplate=\"%{y} %{customdata}<extra></extra>\",\n",
    "        )\n",
    "\n",
    "        trace_list.append(trace)\n",
    "\n",
    "    fig.add_traces(trace_list)\n",
    "\n",
    "    ## Chart title\n",
    "    title = textwrap.wrap(f'<b>Sentencing of women in {pfa_df_outcome[\"pfa\"].iloc[0]} 2010–2022</b>', width=60)\n",
    "\n",
    "    fig.update_layout(\n",
    "        margin=dict(l=63, b=75, r=20),\n",
    "        barmode=\"group\",\n",
    "        title=\"<br>\".join(title),\n",
    "        title_y=0.94,\n",
    "        title_yanchor=\"bottom\",\n",
    "        yaxis_title=\"\",\n",
    "        yaxis_tick0=0,\n",
    "        yaxis_tickformat=\",.0f\",\n",
    "        xaxis_showgrid=False,\n",
    "        xaxis_tickcolor=\"#54565B\",\n",
    "        xaxis_dtick=2,\n",
    "        xaxis_tick0=2010,\n",
    "        showlegend=True,\n",
    "        hovermode=\"x\",\n",
    "        modebar_activecolor=\"#A01D28\",\n",
    "        width=655,\n",
    "        height=360,\n",
    "    )\n",
    "\n",
    "    fig.update_layout(legend=dict(\n",
    "        yanchor=\"top\",\n",
    "        y=1.05,\n",
    "        xanchor=\"right\",\n",
    "        x=1,\n",
    "    ))\n",
    "\n",
    "    ## Chart annotations\n",
    "    annotations = []\n",
    "\n",
    "    # # Adding source label\n",
    "    source = prt_theme.sourceAnnotation(\"Ministry of Justice, Criminal justice statistics\", annotations)\n",
    "\n",
    "    # Adding y-axis label\n",
    "    annotations.append(\n",
    "        dict(\n",
    "            xref=\"x\",\n",
    "            yref=\"paper\",\n",
    "            x=pfa_df_outcome[\"year\"].iloc[0],\n",
    "            y=1.04,\n",
    "            align=\"left\",\n",
    "            xanchor=\"left\",\n",
    "            showarrow=False,\n",
    "            text=\"Women sentenced\",\n",
    "            font_size=12,\n",
    "        )\n",
    "    )\n",
    "\n",
    "    # Adding annotations to layout\n",
    "    fig.update_layout(annotations=annotations)\n",
    "\n",
    "\n",
    "    ## Setting chart axis ranges\n",
    "    max_y_val = 0\n",
    "    for i in range(len(fig.data)):\n",
    "        max_trace = (fig.data[i].y).max()\n",
    "        if max_trace > max_y_val:\n",
    "            max_y_val = max_trace\n",
    "\n",
    "    y_intervals = [52, 103, 208, 315, 420, 540, 640, 830, 909, 1550, 2080, 3100]\n",
    "    y_max_idx = min(range(len(y_intervals)), key = lambda i: abs(y_intervals[i]-max_y_val))\n",
    "    if y_intervals[y_max_idx] <= max_y_val:\n",
    "        y_max = y_intervals[y_max_idx + 1]\n",
    "    else: \n",
    "        y_max = y_intervals[y_max_idx]\n",
    "\n",
    "    \n",
    "    fig.update_yaxes(range=[0, y_max])\n",
    "    fig.update_xaxes(range=[2009.3, 2022.8])\n",
    "\n",
    "    fig.show()\n",
    "\n",
    "    ## Exporting to static image\n",
    "\n",
    "    # Save results to ../reports/figures/cust_comm_sus_sent, generate if does not exist.\n",
    "    export_path = Path.joinpath(Path.cwd(), f\"{config['data']['outPath']}\", \"cust_comm_sus_sent\")\n",
    "    export_path.mkdir(parents=True, exist_ok=True) #generate if does not exist\n",
    "\n",
    "    # Setting filename variable and full path\n",
    "\n",
    "    filename = str(pfa_df_outcome[\"pfa\"].iloc[0])\n",
    "    export_eps_path = Path.joinpath(export_path, f'{filename}' + '.eps')\n",
    "\n",
    "    # fig.write_image(export_eps_path)"
   ]
  },
  {
   "cell_type": "markdown",
   "metadata": {},
   "source": [
    "Refining output of y-axis labels"
   ]
  },
  {
   "cell_type": "code",
   "execution_count": 64,
   "metadata": {},
   "outputs": [
    {
     "data": {
      "application/vnd.plotly.v1+json": {
       "config": {
        "plotlyServerURL": "https://plot.ly"
       },
       "data": [
        {
         "customdata": [
          "community sentence",
          "community sentence",
          "community sentence",
          "community sentence",
          "community sentence",
          "community sentence",
          "community sentence",
          "community sentence",
          "community sentence",
          "community sentence",
          "community sentence",
          "community sentence",
          "community sentence"
         ],
         "hovertemplate": "%{y} %{customdata}<extra></extra>",
         "name": "Community sentence",
         "type": "bar",
         "x": [
          2010,
          2011,
          2012,
          2013,
          2014,
          2015,
          2016,
          2017,
          2018,
          2019,
          2020,
          2021,
          2022
         ],
         "y": [
          170,
          151,
          142,
          169,
          135,
          189,
          159,
          180,
          177,
          177,
          78,
          142,
          133
         ]
        },
        {
         "customdata": [
          "immediate custody",
          "immediate custody",
          "immediate custody",
          "immediate custody",
          "immediate custody",
          "immediate custody",
          "immediate custody",
          "immediate custody",
          "immediate custody",
          "immediate custody",
          "immediate custody",
          "immediate custody",
          "immediate custody"
         ],
         "hovertemplate": "%{y} %{customdata}<extra></extra>",
         "name": "Immediate custody",
         "type": "bar",
         "x": [
          2010,
          2011,
          2012,
          2013,
          2014,
          2015,
          2016,
          2017,
          2018,
          2019,
          2020,
          2021,
          2022
         ],
         "y": [
          22,
          31,
          33,
          24,
          32,
          44,
          49,
          47,
          49,
          49,
          34,
          33,
          30
         ]
        },
        {
         "customdata": [
          "suspended sentence",
          "suspended sentence",
          "suspended sentence",
          "suspended sentence",
          "suspended sentence",
          "suspended sentence",
          "suspended sentence",
          "suspended sentence",
          "suspended sentence",
          "suspended sentence",
          "suspended sentence",
          "suspended sentence",
          "suspended sentence"
         ],
         "hovertemplate": "%{y} %{customdata}<extra></extra>",
         "name": "Suspended sentence",
         "type": "bar",
         "x": [
          2010,
          2011,
          2012,
          2013,
          2014,
          2015,
          2016,
          2017,
          2018,
          2019,
          2020,
          2021,
          2022
         ],
         "y": [
          35,
          26,
          32,
          46,
          55,
          80,
          73,
          60,
          53,
          35,
          31,
          44,
          37
         ]
        }
       ],
       "layout": {
        "annotations": [
         {
          "font": {
           "size": 12
          },
          "showarrow": false,
          "text": "Source: Ministry of Justice, Criminal justice statistics",
          "x": -0.08,
          "xanchor": "left",
          "xref": "paper",
          "y": -0.19,
          "yanchor": "top",
          "yref": "paper"
         },
         {
          "align": "left",
          "font": {
           "size": 12
          },
          "showarrow": false,
          "text": "Women sentenced",
          "x": 2010,
          "xanchor": "left",
          "xref": "x",
          "y": 1.04,
          "yref": "paper"
         }
        ],
        "barmode": "group",
        "height": 360,
        "hovermode": "x",
        "legend": {
         "x": 1,
         "xanchor": "right",
         "y": 1.05,
         "yanchor": "top"
        },
        "margin": {
         "b": 75,
         "l": 63,
         "r": 20
        },
        "modebar": {
         "activecolor": "#A01D28"
        },
        "showlegend": true,
        "template": {
         "layout": {
          "colorway": [
           "#A01D28",
           "#499CC9",
           "#F9A237",
           "#6FBA3A",
           "#573D6B"
          ],
          "font": {
           "color": "#54565B",
           "family": "Helvetica Neue, Arial",
           "size": 12
          },
          "modebar": {
           "activecolor": "#A01D28"
          },
          "paper_bgcolor": "#F7F2F2",
          "plot_bgcolor": "#F7F2F2",
          "showlegend": false,
          "title": {
           "font": {
            "family": "Helvetica Neue, Arial",
            "size": 17
           },
           "y": 0.94,
           "yanchor": "bottom"
          },
          "xaxis": {
           "showgrid": false,
           "tickcolor": "#54565B"
          }
         }
        },
        "title": {
         "text": "<b>Sentencing of women in Wiltshire 2010–2022</b>",
         "y": 0.94,
         "yanchor": "bottom"
        },
        "width": 655,
        "xaxis": {
         "dtick": 2,
         "range": [
          2009.3,
          2022.8
         ],
         "showgrid": false,
         "tick0": 2010,
         "tickcolor": "#54565B"
        },
        "yaxis": {
         "range": [
          0,
          208
         ],
         "tick0": 0,
         "tickformat": ",.0f",
         "title": {
          "text": ""
         }
        }
       }
      }
     },
     "metadata": {},
     "output_type": "display_data"
    }
   ],
   "source": [
    "pfa_df = df[df[\"pfa\"] == \"Wiltshire\"]\n",
    "trace_list = [] # Need to empty my trace_list with every loop through each PFA so that charts are plotted separately\n",
    "fig = go.Figure() # Need to also instantiate the figure with every loop in order to clear fig.data values\n",
    "\n",
    "for i in pfa_df[\"outcome\"].unique():  # Creating a for loop to extract unique values from the dataframe and make traces\n",
    "    pfa_df_outcome = pfa_df[pfa_df[\"outcome\"] == i]\n",
    "    \n",
    "    \n",
    "    trace = go.Bar(\n",
    "        x=pfa_df_outcome[\"year\"],\n",
    "        y=pfa_df_outcome[\"freq\"],\n",
    "        name=str(pfa_df_outcome[\"outcome\"].iloc[0]),\n",
    "        customdata=pfa_df_outcome[\"outcome\"].str.lower(),\n",
    "        hovertemplate=\"%{y} %{customdata}<extra></extra>\",\n",
    "    )\n",
    "\n",
    "    trace_list.append(trace)\n",
    "\n",
    "fig.add_traces(trace_list)\n",
    "\n",
    "## Chart title\n",
    "title = textwrap.wrap(f'<b>Sentencing of women in {pfa_df_outcome[\"pfa\"].iloc[0]} 2010–2022</b>', width=60)\n",
    "\n",
    "fig.update_layout(\n",
    "    margin=dict(l=63, b=75, r=20),\n",
    "    barmode=\"group\",\n",
    "    title=\"<br>\".join(title),\n",
    "    title_y=0.94,\n",
    "    title_yanchor=\"bottom\",\n",
    "    yaxis_title=\"\",\n",
    "    yaxis_tick0=0,\n",
    "    yaxis_tickformat=\",.0f\",\n",
    "    xaxis_showgrid=False,\n",
    "    xaxis_tickcolor=\"#54565B\",\n",
    "    xaxis_dtick=2,\n",
    "    xaxis_tick0=2010,\n",
    "    showlegend=True,\n",
    "    hovermode=\"x\",\n",
    "    modebar_activecolor=\"#A01D28\",\n",
    "    width=655,\n",
    "    height=360,\n",
    ")\n",
    "\n",
    "fig.update_layout(legend=dict(\n",
    "    yanchor=\"top\",\n",
    "    y=1.05,\n",
    "    xanchor=\"right\",\n",
    "    x=1,\n",
    "))\n",
    "\n",
    "## Chart annotations\n",
    "annotations = []\n",
    "\n",
    "# # Adding source label\n",
    "source = prt_theme.sourceAnnotation(\"Ministry of Justice, Criminal justice statistics\", annotations)\n",
    "\n",
    "# Adding y-axis label\n",
    "annotations.append(\n",
    "    dict(\n",
    "        xref=\"x\",\n",
    "        yref=\"paper\",\n",
    "        x=pfa_df_outcome[\"year\"].iloc[0],\n",
    "        y=1.04,\n",
    "        align=\"left\",\n",
    "        xanchor=\"left\",\n",
    "        showarrow=False,\n",
    "        text=\"Women sentenced\",\n",
    "        font_size=12,\n",
    "    )\n",
    ")\n",
    "\n",
    "# Adding annotations to layout\n",
    "fig.update_layout(annotations=annotations)\n",
    "\n",
    "\n",
    "## Setting chart axis ranges\n",
    "max_y_val = 0\n",
    "for i in range(len(fig.data)):\n",
    "    max_trace = (fig.data[i].y).max()\n",
    "    if max_trace > max_y_val:\n",
    "        max_y_val = max_trace\n",
    "\n",
    "y_intervals = [52, 103, 208, 315, 420, 540, 640, 830, 909, 1550, 2080, 3100]\n",
    "y_max_idx = min(range(len(y_intervals)), key = lambda i: abs(y_intervals[i]-max_y_val))\n",
    "if y_intervals[y_max_idx] <= max_y_val:\n",
    "    y_max = y_intervals[y_max_idx + 1]\n",
    "else: \n",
    "    y_max = y_intervals[y_max_idx]\n",
    "\n",
    "\n",
    "fig.update_yaxes(range=[0, y_max])\n",
    "fig.update_xaxes(range=[2009.3, 2022.8])\n",
    "\n",
    "fig.show()"
   ]
  },
  {
   "cell_type": "code",
   "execution_count": 54,
   "metadata": {},
   "outputs": [
    {
     "data": {
      "text/plain": [
       "625"
      ]
     },
     "execution_count": 54,
     "metadata": {},
     "output_type": "execute_result"
    }
   ],
   "source": [
    "y_max"
   ]
  },
  {
   "cell_type": "markdown",
   "metadata": {},
   "source": [
    "Now encapsulating"
   ]
  },
  {
   "cell_type": "code",
   "execution_count": 90,
   "metadata": {},
   "outputs": [],
   "source": [
    "class SentenceTypeChart:\n",
    "    \n",
    "    def __init__(self, pfa, df=df):\n",
    "        \n",
    "        self.pfa = pfa\n",
    "        self.df = df\n",
    "        self.trace_list = [] # Need to empty my trace_list with every loop through each PFA so that charts are plotted separately\n",
    "        self.annotations = []\n",
    "        self.max_y_val = 0\n",
    "        self.fig = go.Figure() # Need to also instantiate the figure with every loop in order to clear fig.data values\n",
    "\n",
    "    def createTraces(self):\n",
    "        pfa_df = self.df[self.df[\"pfa\"] == self.pfa]\n",
    "\n",
    "        for i in self.df[\"outcome\"].unique():  # Creating a for loop to extract unique values from the dataframe and make traces\n",
    "            self.pfa_df_outcome = pfa_df[pfa_df[\"outcome\"] == i]\n",
    "            \n",
    "            trace = go.Bar(\n",
    "                x=self.pfa_df_outcome[\"year\"],\n",
    "                y=self.pfa_df_outcome[\"freq\"],\n",
    "                name=str(self.pfa_df_outcome[\"outcome\"].iloc[0]),\n",
    "                customdata=self.pfa_df_outcome[\"outcome\"].str.lower(),\n",
    "                hovertemplate=\"%{y} %{customdata}<extra></extra>\",\n",
    "            )\n",
    "\n",
    "            self.trace_list.append(trace)\n",
    "\n",
    "        self.fig.add_traces(self.trace_list)\n",
    "\n",
    "    def chartParams(self):\n",
    "        title = textwrap.wrap(f'<b>Sentencing of women in {self.pfa_df_outcome[\"pfa\"].iloc[0]} 2010–2022</b>', width=60)\n",
    "\n",
    "        self.fig.update_layout(\n",
    "            margin=dict(l=63, b=75, r=20),\n",
    "            barmode=\"group\",\n",
    "            title=\"<br>\".join(title),\n",
    "            title_y=0.94,\n",
    "            title_yanchor=\"bottom\",\n",
    "            yaxis_title=\"\",\n",
    "            yaxis_tick0=0,\n",
    "            yaxis_tickformat=\",.0f\",\n",
    "            xaxis_showgrid=False,\n",
    "            xaxis_tickcolor=\"#54565B\",\n",
    "            xaxis_dtick=2,\n",
    "            xaxis_tick0=2010,\n",
    "            showlegend=True,\n",
    "            hovermode=\"x\",\n",
    "            modebar_activecolor=\"#A01D28\",\n",
    "            width=655,\n",
    "            height=360,\n",
    "        )\n",
    "\n",
    "        self.fig.update_layout(legend=dict(\n",
    "            yanchor=\"top\",\n",
    "            y=1.05,\n",
    "            xanchor=\"right\",\n",
    "            x=1,\n",
    "        ))\n",
    "\n",
    "    ## Chart annotations\n",
    "    def chartAnnotations(self):\n",
    "        prt_theme.sourceAnnotation(\"Ministry of Justice, Criminal justice statistics\", self.annotations)\n",
    "\n",
    "        # Adding y-axis label\n",
    "        self.annotations.append(\n",
    "            dict(\n",
    "                xref=\"x\",\n",
    "                yref=\"paper\",\n",
    "                x=self.pfa_df_outcome[\"year\"].iloc[0],\n",
    "                y=1.04,\n",
    "                align=\"left\",\n",
    "                xanchor=\"left\",\n",
    "                showarrow=False,\n",
    "                text=\"Women sentenced\",\n",
    "                font_size=12,\n",
    "            )\n",
    "        )\n",
    "\n",
    "        # Adding annotations to layout\n",
    "        self.fig.update_layout(annotations=self.annotations)\n",
    "\n",
    "    def setYAxis(self):\n",
    "        ## Setting chart axis ranges\n",
    "    \n",
    "        for i in range(len(self.fig.data)):\n",
    "            max_trace = (self.fig.data[i].y).max()\n",
    "            if max_trace > self.max_y_val:\n",
    "                self.max_y_val = max_trace\n",
    "\n",
    "        y_intervals = [52, 103, 208, 315, 420, 540, 640, 830, 909, 1550, 2080, 3100]\n",
    "        y_max_idx = min(range(len(y_intervals)), key = lambda i: abs(y_intervals[i]-self.max_y_val))\n",
    "        if y_intervals[y_max_idx] <= self.max_y_val:\n",
    "            y_max = y_intervals[y_max_idx + 1]\n",
    "        else: \n",
    "            y_max = y_intervals[y_max_idx]\n",
    "\n",
    "        \n",
    "        self.fig.update_yaxes(range=[0, y_max])\n",
    "        self.fig.update_xaxes(range=[2009.3, 2022.8])\n",
    "\n",
    "    def saveChart(self, filetype='eps'):\n",
    "        self.filetype = filetype\n",
    "\n",
    "        if self.trace_list == []: #Allows saveChart method to run without outputChart requirement\n",
    "            self.createTraces()\n",
    "            self.chartParams()\n",
    "            self.chartAnnotations()\n",
    "            self.setYAxis()\n",
    "\n",
    "        export_path = Path.joinpath(Path.cwd(), f\"{config['data']['outPath']}\", f\"cust_comm_sus_sent/{self.filetype}\")\n",
    "        export_path.mkdir(parents=True, exist_ok=True) #generate if does not exist\n",
    "\n",
    "        # Setting filename variable and full path\n",
    "        filename = str(self.pfa_df_outcome[\"pfa\"].iloc[0])\n",
    "        export_eps_path = Path.joinpath(export_path, f'{filename}.{self.filetype}')\n",
    "\n",
    "        self.fig.write_image(export_eps_path)\n",
    "\n",
    "    def outputChart(self):\n",
    "        self.createTraces()\n",
    "        self.chartParams()\n",
    "        self.chartAnnotations()\n",
    "        self.setYAxis()\n",
    "        self.fig.show()"
   ]
  },
  {
   "cell_type": "code",
   "execution_count": 91,
   "metadata": {},
   "outputs": [],
   "source": [
    "kent = SentenceTypeChart(\"Kent\")\n",
    "kent.saveChart()"
   ]
  },
  {
   "cell_type": "code",
   "execution_count": 92,
   "metadata": {},
   "outputs": [
    {
     "data": {
      "text/plain": [
       "[Bar({\n",
       "     'customdata': array(['community sentence', 'community sentence', 'community sentence',\n",
       "                          'community sentence', 'community sentence', 'community sentence',\n",
       "                          'community sentence', 'community sentence', 'community sentence',\n",
       "                          'community sentence', 'community sentence', 'community sentence',\n",
       "                          'community sentence'], dtype=object),\n",
       "     'hovertemplate': '%{y} %{customdata}<extra></extra>',\n",
       "     'name': 'Community sentence',\n",
       "     'x': array([2010, 2011, 2012, 2013, 2014, 2015, 2016, 2017, 2018, 2019, 2020, 2021,\n",
       "                 2022]),\n",
       "     'y': array([611, 576, 529, 427, 414, 422, 330, 364, 384, 362, 273, 387, 336])\n",
       " }),\n",
       " Bar({\n",
       "     'customdata': array(['immediate custody', 'immediate custody', 'immediate custody',\n",
       "                          'immediate custody', 'immediate custody', 'immediate custody',\n",
       "                          'immediate custody', 'immediate custody', 'immediate custody',\n",
       "                          'immediate custody', 'immediate custody', 'immediate custody',\n",
       "                          'immediate custody'], dtype=object),\n",
       "     'hovertemplate': '%{y} %{customdata}<extra></extra>',\n",
       "     'name': 'Immediate custody',\n",
       "     'x': array([2010, 2011, 2012, 2013, 2014, 2015, 2016, 2017, 2018, 2019, 2020, 2021,\n",
       "                 2022]),\n",
       "     'y': array([205, 221, 182, 194, 198, 189, 217, 224, 193, 156, 123, 135, 143])\n",
       " }),\n",
       " Bar({\n",
       "     'customdata': array(['suspended sentence', 'suspended sentence', 'suspended sentence',\n",
       "                          'suspended sentence', 'suspended sentence', 'suspended sentence',\n",
       "                          'suspended sentence', 'suspended sentence', 'suspended sentence',\n",
       "                          'suspended sentence', 'suspended sentence', 'suspended sentence',\n",
       "                          'suspended sentence'], dtype=object),\n",
       "     'hovertemplate': '%{y} %{customdata}<extra></extra>',\n",
       "     'name': 'Suspended sentence',\n",
       "     'x': array([2010, 2011, 2012, 2013, 2014, 2015, 2016, 2017, 2018, 2019, 2020, 2021,\n",
       "                 2022]),\n",
       "     'y': array([187, 184, 204, 210, 210, 269, 213, 252, 181, 141, 143, 180, 131])\n",
       " })]"
      ]
     },
     "execution_count": 92,
     "metadata": {},
     "output_type": "execute_result"
    }
   ],
   "source": [
    "kent.trace_list"
   ]
  },
  {
   "cell_type": "code",
   "execution_count": 79,
   "metadata": {},
   "outputs": [
    {
     "data": {
      "application/vnd.plotly.v1+json": {
       "config": {
        "plotlyServerURL": "https://plot.ly"
       },
       "data": [
        {
         "customdata": [
          "community sentence",
          "community sentence",
          "community sentence",
          "community sentence",
          "community sentence",
          "community sentence",
          "community sentence",
          "community sentence",
          "community sentence",
          "community sentence",
          "community sentence",
          "community sentence",
          "community sentence"
         ],
         "hovertemplate": "%{y} %{customdata}<extra></extra>",
         "name": "Community sentence",
         "type": "bar",
         "x": [
          2010,
          2011,
          2012,
          2013,
          2014,
          2015,
          2016,
          2017,
          2018,
          2019,
          2020,
          2021,
          2022
         ],
         "y": [
          611,
          576,
          529,
          427,
          414,
          422,
          330,
          364,
          384,
          362,
          273,
          387,
          336
         ]
        },
        {
         "customdata": [
          "immediate custody",
          "immediate custody",
          "immediate custody",
          "immediate custody",
          "immediate custody",
          "immediate custody",
          "immediate custody",
          "immediate custody",
          "immediate custody",
          "immediate custody",
          "immediate custody",
          "immediate custody",
          "immediate custody"
         ],
         "hovertemplate": "%{y} %{customdata}<extra></extra>",
         "name": "Immediate custody",
         "type": "bar",
         "x": [
          2010,
          2011,
          2012,
          2013,
          2014,
          2015,
          2016,
          2017,
          2018,
          2019,
          2020,
          2021,
          2022
         ],
         "y": [
          205,
          221,
          182,
          194,
          198,
          189,
          217,
          224,
          193,
          156,
          123,
          135,
          143
         ]
        },
        {
         "customdata": [
          "suspended sentence",
          "suspended sentence",
          "suspended sentence",
          "suspended sentence",
          "suspended sentence",
          "suspended sentence",
          "suspended sentence",
          "suspended sentence",
          "suspended sentence",
          "suspended sentence",
          "suspended sentence",
          "suspended sentence",
          "suspended sentence"
         ],
         "hovertemplate": "%{y} %{customdata}<extra></extra>",
         "name": "Suspended sentence",
         "type": "bar",
         "x": [
          2010,
          2011,
          2012,
          2013,
          2014,
          2015,
          2016,
          2017,
          2018,
          2019,
          2020,
          2021,
          2022
         ],
         "y": [
          187,
          184,
          204,
          210,
          210,
          269,
          213,
          252,
          181,
          141,
          143,
          180,
          131
         ]
        }
       ],
       "layout": {
        "annotations": [
         {
          "font": {
           "size": 12
          },
          "showarrow": false,
          "text": "Source: Ministry of Justice, Criminal justice statistics",
          "x": -0.08,
          "xanchor": "left",
          "xref": "paper",
          "y": -0.19,
          "yanchor": "top",
          "yref": "paper"
         },
         {
          "align": "left",
          "font": {
           "size": 12
          },
          "showarrow": false,
          "text": "Women sentenced",
          "x": 2010,
          "xanchor": "left",
          "xref": "x",
          "y": 1.04,
          "yref": "paper"
         }
        ],
        "barmode": "group",
        "height": 360,
        "hovermode": "x",
        "legend": {
         "x": 1,
         "xanchor": "right",
         "y": 1.05,
         "yanchor": "top"
        },
        "margin": {
         "b": 75,
         "l": 63,
         "r": 20
        },
        "modebar": {
         "activecolor": "#A01D28"
        },
        "showlegend": true,
        "template": {
         "layout": {
          "colorway": [
           "#A01D28",
           "#499CC9",
           "#F9A237",
           "#6FBA3A",
           "#573D6B"
          ],
          "font": {
           "color": "#54565B",
           "family": "Helvetica Neue, Arial",
           "size": 12
          },
          "modebar": {
           "activecolor": "#A01D28"
          },
          "paper_bgcolor": "#F7F2F2",
          "plot_bgcolor": "#F7F2F2",
          "showlegend": false,
          "title": {
           "font": {
            "family": "Helvetica Neue, Arial",
            "size": 17
           },
           "y": 0.94,
           "yanchor": "bottom"
          },
          "xaxis": {
           "showgrid": false,
           "tickcolor": "#54565B"
          }
         }
        },
        "title": {
         "text": "<b>Sentencing of women in Kent 2010–2022</b>",
         "y": 0.94,
         "yanchor": "bottom"
        },
        "width": 655,
        "xaxis": {
         "dtick": 2,
         "range": [
          2009.3,
          2022.8
         ],
         "showgrid": false,
         "tick0": 2010,
         "tickcolor": "#54565B"
        },
        "yaxis": {
         "range": [
          0,
          640
         ],
         "tick0": 0,
         "tickformat": ",.0f",
         "title": {
          "text": ""
         }
        }
       }
      }
     },
     "metadata": {},
     "output_type": "display_data"
    }
   ],
   "source": [
    "kent = SentenceTypeChart(\"Kent\")\n",
    "kent.outputChart()"
   ]
  },
  {
   "cell_type": "code",
   "execution_count": 84,
   "metadata": {},
   "outputs": [
    {
     "data": {
      "application/vnd.plotly.v1+json": {
       "config": {
        "plotlyServerURL": "https://plot.ly"
       },
       "data": [
        {
         "customdata": [
          "community sentence",
          "community sentence",
          "community sentence",
          "community sentence",
          "community sentence",
          "community sentence",
          "community sentence",
          "community sentence",
          "community sentence",
          "community sentence",
          "community sentence",
          "community sentence",
          "community sentence"
         ],
         "hovertemplate": "%{y} %{customdata}<extra></extra>",
         "name": "Community sentence",
         "type": "bar",
         "x": [
          2010,
          2011,
          2012,
          2013,
          2014,
          2015,
          2016,
          2017,
          2018,
          2019,
          2020,
          2021,
          2022
         ],
         "y": [
          618,
          732,
          740,
          675,
          583,
          542,
          461,
          444,
          394,
          447,
          295,
          411,
          327
         ]
        },
        {
         "customdata": [
          "immediate custody",
          "immediate custody",
          "immediate custody",
          "immediate custody",
          "immediate custody",
          "immediate custody",
          "immediate custody",
          "immediate custody",
          "immediate custody",
          "immediate custody",
          "immediate custody",
          "immediate custody",
          "immediate custody"
         ],
         "hovertemplate": "%{y} %{customdata}<extra></extra>",
         "name": "Immediate custody",
         "type": "bar",
         "x": [
          2010,
          2011,
          2012,
          2013,
          2014,
          2015,
          2016,
          2017,
          2018,
          2019,
          2020,
          2021,
          2022
         ],
         "y": [
          173,
          206,
          169,
          177,
          196,
          165,
          164,
          158,
          148,
          151,
          103,
          103,
          116
         ]
        },
        {
         "customdata": [
          "suspended sentence",
          "suspended sentence",
          "suspended sentence",
          "suspended sentence",
          "suspended sentence",
          "suspended sentence",
          "suspended sentence",
          "suspended sentence",
          "suspended sentence",
          "suspended sentence",
          "suspended sentence",
          "suspended sentence",
          "suspended sentence"
         ],
         "hovertemplate": "%{y} %{customdata}<extra></extra>",
         "name": "Suspended sentence",
         "type": "bar",
         "x": [
          2010,
          2011,
          2012,
          2013,
          2014,
          2015,
          2016,
          2017,
          2018,
          2019,
          2020,
          2021,
          2022
         ],
         "y": [
          164,
          183,
          186,
          192,
          223,
          227,
          202,
          211,
          167,
          109,
          115,
          150,
          116
         ]
        }
       ],
       "layout": {
        "annotations": [
         {
          "font": {
           "size": 12
          },
          "showarrow": false,
          "text": "Source: Ministry of Justice, Criminal justice statistics",
          "x": -0.08,
          "xanchor": "left",
          "xref": "paper",
          "y": -0.19,
          "yanchor": "top",
          "yref": "paper"
         },
         {
          "align": "left",
          "font": {
           "size": 12
          },
          "showarrow": false,
          "text": "Women sentenced",
          "x": 2010,
          "xanchor": "left",
          "xref": "x",
          "y": 1.04,
          "yref": "paper"
         }
        ],
        "barmode": "group",
        "height": 360,
        "hovermode": "x",
        "legend": {
         "x": 1,
         "xanchor": "right",
         "y": 1.05,
         "yanchor": "top"
        },
        "margin": {
         "b": 75,
         "l": 63,
         "r": 20
        },
        "modebar": {
         "activecolor": "#A01D28"
        },
        "showlegend": true,
        "template": {
         "layout": {
          "colorway": [
           "#A01D28",
           "#499CC9",
           "#F9A237",
           "#6FBA3A",
           "#573D6B"
          ],
          "font": {
           "color": "#54565B",
           "family": "Helvetica Neue, Arial",
           "size": 12
          },
          "modebar": {
           "activecolor": "#A01D28"
          },
          "paper_bgcolor": "#F7F2F2",
          "plot_bgcolor": "#F7F2F2",
          "showlegend": false,
          "title": {
           "font": {
            "family": "Helvetica Neue, Arial",
            "size": 17
           },
           "y": 0.94,
           "yanchor": "bottom"
          },
          "xaxis": {
           "showgrid": false,
           "tickcolor": "#54565B"
          }
         }
        },
        "title": {
         "text": "<b>Sentencing of women in Avon and Somerset 2010–2022</b>",
         "y": 0.94,
         "yanchor": "bottom"
        },
        "width": 655,
        "xaxis": {
         "dtick": 2,
         "range": [
          2009.3,
          2022.8
         ],
         "showgrid": false,
         "tick0": 2010,
         "tickcolor": "#54565B"
        },
        "yaxis": {
         "range": [
          0,
          830
         ],
         "tick0": 0,
         "tickformat": ",.0f",
         "title": {
          "text": ""
         }
        }
       }
      }
     },
     "metadata": {},
     "output_type": "display_data"
    },
    {
     "data": {
      "application/vnd.plotly.v1+json": {
       "config": {
        "plotlyServerURL": "https://plot.ly"
       },
       "data": [
        {
         "customdata": [
          "community sentence",
          "community sentence",
          "community sentence",
          "community sentence",
          "community sentence",
          "community sentence",
          "community sentence",
          "community sentence",
          "community sentence",
          "community sentence",
          "community sentence",
          "community sentence",
          "community sentence"
         ],
         "hovertemplate": "%{y} %{customdata}<extra></extra>",
         "name": "Community sentence",
         "type": "bar",
         "x": [
          2010,
          2011,
          2012,
          2013,
          2014,
          2015,
          2016,
          2017,
          2018,
          2019,
          2020,
          2021,
          2022
         ],
         "y": [
          187,
          185,
          165,
          107,
          91,
          148,
          86,
          91,
          80,
          60,
          38,
          61,
          63
         ]
        },
        {
         "customdata": [
          "immediate custody",
          "immediate custody",
          "immediate custody",
          "immediate custody",
          "immediate custody",
          "immediate custody",
          "immediate custody",
          "immediate custody",
          "immediate custody",
          "immediate custody",
          "immediate custody",
          "immediate custody",
          "immediate custody"
         ],
         "hovertemplate": "%{y} %{customdata}<extra></extra>",
         "name": "Immediate custody",
         "type": "bar",
         "x": [
          2010,
          2011,
          2012,
          2013,
          2014,
          2015,
          2016,
          2017,
          2018,
          2019,
          2020,
          2021,
          2022
         ],
         "y": [
          99,
          75,
          84,
          42,
          69,
          80,
          53,
          53,
          36,
          31,
          23,
          20,
          38
         ]
        },
        {
         "customdata": [
          "suspended sentence",
          "suspended sentence",
          "suspended sentence",
          "suspended sentence",
          "suspended sentence",
          "suspended sentence",
          "suspended sentence",
          "suspended sentence",
          "suspended sentence",
          "suspended sentence",
          "suspended sentence",
          "suspended sentence",
          "suspended sentence"
         ],
         "hovertemplate": "%{y} %{customdata}<extra></extra>",
         "name": "Suspended sentence",
         "type": "bar",
         "x": [
          2010,
          2011,
          2012,
          2013,
          2014,
          2015,
          2016,
          2017,
          2018,
          2019,
          2020,
          2021,
          2022
         ],
         "y": [
          65,
          61,
          46,
          65,
          55,
          66,
          50,
          59,
          40,
          51,
          40,
          41,
          48
         ]
        }
       ],
       "layout": {
        "annotations": [
         {
          "font": {
           "size": 12
          },
          "showarrow": false,
          "text": "Source: Ministry of Justice, Criminal justice statistics",
          "x": -0.08,
          "xanchor": "left",
          "xref": "paper",
          "y": -0.19,
          "yanchor": "top",
          "yref": "paper"
         },
         {
          "align": "left",
          "font": {
           "size": 12
          },
          "showarrow": false,
          "text": "Women sentenced",
          "x": 2010,
          "xanchor": "left",
          "xref": "x",
          "y": 1.04,
          "yref": "paper"
         }
        ],
        "barmode": "group",
        "height": 360,
        "hovermode": "x",
        "legend": {
         "x": 1,
         "xanchor": "right",
         "y": 1.05,
         "yanchor": "top"
        },
        "margin": {
         "b": 75,
         "l": 63,
         "r": 20
        },
        "modebar": {
         "activecolor": "#A01D28"
        },
        "showlegend": true,
        "template": {
         "layout": {
          "colorway": [
           "#A01D28",
           "#499CC9",
           "#F9A237",
           "#6FBA3A",
           "#573D6B"
          ],
          "font": {
           "color": "#54565B",
           "family": "Helvetica Neue, Arial",
           "size": 12
          },
          "modebar": {
           "activecolor": "#A01D28"
          },
          "paper_bgcolor": "#F7F2F2",
          "plot_bgcolor": "#F7F2F2",
          "showlegend": false,
          "title": {
           "font": {
            "family": "Helvetica Neue, Arial",
            "size": 17
           },
           "y": 0.94,
           "yanchor": "bottom"
          },
          "xaxis": {
           "showgrid": false,
           "tickcolor": "#54565B"
          }
         }
        },
        "title": {
         "text": "<b>Sentencing of women in Bedfordshire 2010–2022</b>",
         "y": 0.94,
         "yanchor": "bottom"
        },
        "width": 655,
        "xaxis": {
         "dtick": 2,
         "range": [
          2009.3,
          2022.8
         ],
         "showgrid": false,
         "tick0": 2010,
         "tickcolor": "#54565B"
        },
        "yaxis": {
         "range": [
          0,
          208
         ],
         "tick0": 0,
         "tickformat": ",.0f",
         "title": {
          "text": ""
         }
        }
       }
      }
     },
     "metadata": {},
     "output_type": "display_data"
    },
    {
     "data": {
      "application/vnd.plotly.v1+json": {
       "config": {
        "plotlyServerURL": "https://plot.ly"
       },
       "data": [
        {
         "customdata": [
          "community sentence",
          "community sentence",
          "community sentence",
          "community sentence",
          "community sentence",
          "community sentence",
          "community sentence",
          "community sentence",
          "community sentence",
          "community sentence",
          "community sentence",
          "community sentence",
          "community sentence"
         ],
         "hovertemplate": "%{y} %{customdata}<extra></extra>",
         "name": "Community sentence",
         "type": "bar",
         "x": [
          2010,
          2011,
          2012,
          2013,
          2014,
          2015,
          2016,
          2017,
          2018,
          2019,
          2020,
          2021,
          2022
         ],
         "y": [
          250,
          255,
          231,
          216,
          174,
          171,
          185,
          142,
          110,
          136,
          91,
          107,
          117
         ]
        },
        {
         "customdata": [
          "immediate custody",
          "immediate custody",
          "immediate custody",
          "immediate custody",
          "immediate custody",
          "immediate custody",
          "immediate custody",
          "immediate custody",
          "immediate custody",
          "immediate custody",
          "immediate custody",
          "immediate custody",
          "immediate custody"
         ],
         "hovertemplate": "%{y} %{customdata}<extra></extra>",
         "name": "Immediate custody",
         "type": "bar",
         "x": [
          2010,
          2011,
          2012,
          2013,
          2014,
          2015,
          2016,
          2017,
          2018,
          2019,
          2020,
          2021,
          2022
         ],
         "y": [
          140,
          111,
          119,
          130,
          91,
          89,
          112,
          115,
          116,
          89,
          78,
          47,
          68
         ]
        },
        {
         "customdata": [
          "suspended sentence",
          "suspended sentence",
          "suspended sentence",
          "suspended sentence",
          "suspended sentence",
          "suspended sentence",
          "suspended sentence",
          "suspended sentence",
          "suspended sentence",
          "suspended sentence",
          "suspended sentence",
          "suspended sentence",
          "suspended sentence"
         ],
         "hovertemplate": "%{y} %{customdata}<extra></extra>",
         "name": "Suspended sentence",
         "type": "bar",
         "x": [
          2010,
          2011,
          2012,
          2013,
          2014,
          2015,
          2016,
          2017,
          2018,
          2019,
          2020,
          2021,
          2022
         ],
         "y": [
          96,
          105,
          99,
          95,
          114,
          104,
          107,
          108,
          96,
          83,
          68,
          77,
          64
         ]
        }
       ],
       "layout": {
        "annotations": [
         {
          "font": {
           "size": 12
          },
          "showarrow": false,
          "text": "Source: Ministry of Justice, Criminal justice statistics",
          "x": -0.08,
          "xanchor": "left",
          "xref": "paper",
          "y": -0.19,
          "yanchor": "top",
          "yref": "paper"
         },
         {
          "align": "left",
          "font": {
           "size": 12
          },
          "showarrow": false,
          "text": "Women sentenced",
          "x": 2010,
          "xanchor": "left",
          "xref": "x",
          "y": 1.04,
          "yref": "paper"
         }
        ],
        "barmode": "group",
        "height": 360,
        "hovermode": "x",
        "legend": {
         "x": 1,
         "xanchor": "right",
         "y": 1.05,
         "yanchor": "top"
        },
        "margin": {
         "b": 75,
         "l": 63,
         "r": 20
        },
        "modebar": {
         "activecolor": "#A01D28"
        },
        "showlegend": true,
        "template": {
         "layout": {
          "colorway": [
           "#A01D28",
           "#499CC9",
           "#F9A237",
           "#6FBA3A",
           "#573D6B"
          ],
          "font": {
           "color": "#54565B",
           "family": "Helvetica Neue, Arial",
           "size": 12
          },
          "modebar": {
           "activecolor": "#A01D28"
          },
          "paper_bgcolor": "#F7F2F2",
          "plot_bgcolor": "#F7F2F2",
          "showlegend": false,
          "title": {
           "font": {
            "family": "Helvetica Neue, Arial",
            "size": 17
           },
           "y": 0.94,
           "yanchor": "bottom"
          },
          "xaxis": {
           "showgrid": false,
           "tickcolor": "#54565B"
          }
         }
        },
        "title": {
         "text": "<b>Sentencing of women in Cambridgeshire 2010–2022</b>",
         "y": 0.94,
         "yanchor": "bottom"
        },
        "width": 655,
        "xaxis": {
         "dtick": 2,
         "range": [
          2009.3,
          2022.8
         ],
         "showgrid": false,
         "tick0": 2010,
         "tickcolor": "#54565B"
        },
        "yaxis": {
         "range": [
          0,
          315
         ],
         "tick0": 0,
         "tickformat": ",.0f",
         "title": {
          "text": ""
         }
        }
       }
      }
     },
     "metadata": {},
     "output_type": "display_data"
    },
    {
     "data": {
      "application/vnd.plotly.v1+json": {
       "config": {
        "plotlyServerURL": "https://plot.ly"
       },
       "data": [
        {
         "customdata": [
          "community sentence",
          "community sentence",
          "community sentence",
          "community sentence",
          "community sentence",
          "community sentence",
          "community sentence",
          "community sentence",
          "community sentence",
          "community sentence",
          "community sentence",
          "community sentence",
          "community sentence"
         ],
         "hovertemplate": "%{y} %{customdata}<extra></extra>",
         "name": "Community sentence",
         "type": "bar",
         "x": [
          2010,
          2011,
          2012,
          2013,
          2014,
          2015,
          2016,
          2017,
          2018,
          2019,
          2020,
          2021,
          2022
         ],
         "y": [
          539,
          424,
          415,
          326,
          364,
          396,
          351,
          326,
          352,
          291,
          194,
          194,
          261
         ]
        },
        {
         "customdata": [
          "immediate custody",
          "immediate custody",
          "immediate custody",
          "immediate custody",
          "immediate custody",
          "immediate custody",
          "immediate custody",
          "immediate custody",
          "immediate custody",
          "immediate custody",
          "immediate custody",
          "immediate custody",
          "immediate custody"
         ],
         "hovertemplate": "%{y} %{customdata}<extra></extra>",
         "name": "Immediate custody",
         "type": "bar",
         "x": [
          2010,
          2011,
          2012,
          2013,
          2014,
          2015,
          2016,
          2017,
          2018,
          2019,
          2020,
          2021,
          2022
         ],
         "y": [
          135,
          129,
          120,
          116,
          169,
          181,
          167,
          172,
          176,
          149,
          123,
          117,
          74
         ]
        },
        {
         "customdata": [
          "suspended sentence",
          "suspended sentence",
          "suspended sentence",
          "suspended sentence",
          "suspended sentence",
          "suspended sentence",
          "suspended sentence",
          "suspended sentence",
          "suspended sentence",
          "suspended sentence",
          "suspended sentence",
          "suspended sentence",
          "suspended sentence"
         ],
         "hovertemplate": "%{y} %{customdata}<extra></extra>",
         "name": "Suspended sentence",
         "type": "bar",
         "x": [
          2010,
          2011,
          2012,
          2013,
          2014,
          2015,
          2016,
          2017,
          2018,
          2019,
          2020,
          2021,
          2022
         ],
         "y": [
          130,
          113,
          105,
          142,
          224,
          203,
          219,
          201,
          174,
          164,
          121,
          111,
          127
         ]
        }
       ],
       "layout": {
        "annotations": [
         {
          "font": {
           "size": 12
          },
          "showarrow": false,
          "text": "Source: Ministry of Justice, Criminal justice statistics",
          "x": -0.08,
          "xanchor": "left",
          "xref": "paper",
          "y": -0.19,
          "yanchor": "top",
          "yref": "paper"
         },
         {
          "align": "left",
          "font": {
           "size": 12
          },
          "showarrow": false,
          "text": "Women sentenced",
          "x": 2010,
          "xanchor": "left",
          "xref": "x",
          "y": 1.04,
          "yref": "paper"
         }
        ],
        "barmode": "group",
        "height": 360,
        "hovermode": "x",
        "legend": {
         "x": 1,
         "xanchor": "right",
         "y": 1.05,
         "yanchor": "top"
        },
        "margin": {
         "b": 75,
         "l": 63,
         "r": 20
        },
        "modebar": {
         "activecolor": "#A01D28"
        },
        "showlegend": true,
        "template": {
         "layout": {
          "colorway": [
           "#A01D28",
           "#499CC9",
           "#F9A237",
           "#6FBA3A",
           "#573D6B"
          ],
          "font": {
           "color": "#54565B",
           "family": "Helvetica Neue, Arial",
           "size": 12
          },
          "modebar": {
           "activecolor": "#A01D28"
          },
          "paper_bgcolor": "#F7F2F2",
          "plot_bgcolor": "#F7F2F2",
          "showlegend": false,
          "title": {
           "font": {
            "family": "Helvetica Neue, Arial",
            "size": 17
           },
           "y": 0.94,
           "yanchor": "bottom"
          },
          "xaxis": {
           "showgrid": false,
           "tickcolor": "#54565B"
          }
         }
        },
        "title": {
         "text": "<b>Sentencing of women in Cheshire 2010–2022</b>",
         "y": 0.94,
         "yanchor": "bottom"
        },
        "width": 655,
        "xaxis": {
         "dtick": 2,
         "range": [
          2009.3,
          2022.8
         ],
         "showgrid": false,
         "tick0": 2010,
         "tickcolor": "#54565B"
        },
        "yaxis": {
         "range": [
          0,
          540
         ],
         "tick0": 0,
         "tickformat": ",.0f",
         "title": {
          "text": ""
         }
        }
       }
      }
     },
     "metadata": {},
     "output_type": "display_data"
    },
    {
     "data": {
      "application/vnd.plotly.v1+json": {
       "config": {
        "plotlyServerURL": "https://plot.ly"
       },
       "data": [
        {
         "customdata": [
          "community sentence",
          "community sentence",
          "community sentence",
          "community sentence",
          "community sentence",
          "community sentence",
          "community sentence",
          "community sentence",
          "community sentence",
          "community sentence",
          "community sentence",
          "community sentence",
          "community sentence"
         ],
         "hovertemplate": "%{y} %{customdata}<extra></extra>",
         "name": "Community sentence",
         "type": "bar",
         "x": [
          2010,
          2011,
          2012,
          2013,
          2014,
          2015,
          2016,
          2017,
          2018,
          2019,
          2020,
          2021,
          2022
         ],
         "y": [
          489,
          500,
          420,
          365,
          352,
          374,
          341,
          335,
          368,
          306,
          164,
          273,
          262
         ]
        },
        {
         "customdata": [
          "immediate custody",
          "immediate custody",
          "immediate custody",
          "immediate custody",
          "immediate custody",
          "immediate custody",
          "immediate custody",
          "immediate custody",
          "immediate custody",
          "immediate custody",
          "immediate custody",
          "immediate custody",
          "immediate custody"
         ],
         "hovertemplate": "%{y} %{customdata}<extra></extra>",
         "name": "Immediate custody",
         "type": "bar",
         "x": [
          2010,
          2011,
          2012,
          2013,
          2014,
          2015,
          2016,
          2017,
          2018,
          2019,
          2020,
          2021,
          2022
         ],
         "y": [
          116,
          89,
          92,
          93,
          91,
          78,
          108,
          152,
          140,
          98,
          55,
          103,
          100
         ]
        },
        {
         "customdata": [
          "suspended sentence",
          "suspended sentence",
          "suspended sentence",
          "suspended sentence",
          "suspended sentence",
          "suspended sentence",
          "suspended sentence",
          "suspended sentence",
          "suspended sentence",
          "suspended sentence",
          "suspended sentence",
          "suspended sentence",
          "suspended sentence"
         ],
         "hovertemplate": "%{y} %{customdata}<extra></extra>",
         "name": "Suspended sentence",
         "type": "bar",
         "x": [
          2010,
          2011,
          2012,
          2013,
          2014,
          2015,
          2016,
          2017,
          2018,
          2019,
          2020,
          2021,
          2022
         ],
         "y": [
          108,
          129,
          98,
          103,
          136,
          118,
          175,
          183,
          125,
          95,
          75,
          124,
          103
         ]
        }
       ],
       "layout": {
        "annotations": [
         {
          "font": {
           "size": 12
          },
          "showarrow": false,
          "text": "Source: Ministry of Justice, Criminal justice statistics",
          "x": -0.08,
          "xanchor": "left",
          "xref": "paper",
          "y": -0.19,
          "yanchor": "top",
          "yref": "paper"
         },
         {
          "align": "left",
          "font": {
           "size": 12
          },
          "showarrow": false,
          "text": "Women sentenced",
          "x": 2010,
          "xanchor": "left",
          "xref": "x",
          "y": 1.04,
          "yref": "paper"
         }
        ],
        "barmode": "group",
        "height": 360,
        "hovermode": "x",
        "legend": {
         "x": 1,
         "xanchor": "right",
         "y": 1.05,
         "yanchor": "top"
        },
        "margin": {
         "b": 75,
         "l": 63,
         "r": 20
        },
        "modebar": {
         "activecolor": "#A01D28"
        },
        "showlegend": true,
        "template": {
         "layout": {
          "colorway": [
           "#A01D28",
           "#499CC9",
           "#F9A237",
           "#6FBA3A",
           "#573D6B"
          ],
          "font": {
           "color": "#54565B",
           "family": "Helvetica Neue, Arial",
           "size": 12
          },
          "modebar": {
           "activecolor": "#A01D28"
          },
          "paper_bgcolor": "#F7F2F2",
          "plot_bgcolor": "#F7F2F2",
          "showlegend": false,
          "title": {
           "font": {
            "family": "Helvetica Neue, Arial",
            "size": 17
           },
           "y": 0.94,
           "yanchor": "bottom"
          },
          "xaxis": {
           "showgrid": false,
           "tickcolor": "#54565B"
          }
         }
        },
        "title": {
         "text": "<b>Sentencing of women in Cleveland 2010–2022</b>",
         "y": 0.94,
         "yanchor": "bottom"
        },
        "width": 655,
        "xaxis": {
         "dtick": 2,
         "range": [
          2009.3,
          2022.8
         ],
         "showgrid": false,
         "tick0": 2010,
         "tickcolor": "#54565B"
        },
        "yaxis": {
         "range": [
          0,
          540
         ],
         "tick0": 0,
         "tickformat": ",.0f",
         "title": {
          "text": ""
         }
        }
       }
      }
     },
     "metadata": {},
     "output_type": "display_data"
    },
    {
     "data": {
      "application/vnd.plotly.v1+json": {
       "config": {
        "plotlyServerURL": "https://plot.ly"
       },
       "data": [
        {
         "customdata": [
          "community sentence",
          "community sentence",
          "community sentence",
          "community sentence",
          "community sentence",
          "community sentence",
          "community sentence",
          "community sentence",
          "community sentence",
          "community sentence",
          "community sentence",
          "community sentence",
          "community sentence"
         ],
         "hovertemplate": "%{y} %{customdata}<extra></extra>",
         "name": "Community sentence",
         "type": "bar",
         "x": [
          2010,
          2011,
          2012,
          2013,
          2014,
          2015,
          2016,
          2017,
          2018,
          2019,
          2020,
          2021,
          2022
         ],
         "y": [
          304,
          284,
          266,
          262,
          282,
          235,
          203,
          195,
          232,
          202,
          153,
          183,
          188
         ]
        },
        {
         "customdata": [
          "immediate custody",
          "immediate custody",
          "immediate custody",
          "immediate custody",
          "immediate custody",
          "immediate custody",
          "immediate custody",
          "immediate custody",
          "immediate custody",
          "immediate custody",
          "immediate custody",
          "immediate custody",
          "immediate custody"
         ],
         "hovertemplate": "%{y} %{customdata}<extra></extra>",
         "name": "Immediate custody",
         "type": "bar",
         "x": [
          2010,
          2011,
          2012,
          2013,
          2014,
          2015,
          2016,
          2017,
          2018,
          2019,
          2020,
          2021,
          2022
         ],
         "y": [
          77,
          107,
          83,
          88,
          92,
          103,
          92,
          104,
          132,
          72,
          45,
          40,
          29
         ]
        },
        {
         "customdata": [
          "suspended sentence",
          "suspended sentence",
          "suspended sentence",
          "suspended sentence",
          "suspended sentence",
          "suspended sentence",
          "suspended sentence",
          "suspended sentence",
          "suspended sentence",
          "suspended sentence",
          "suspended sentence",
          "suspended sentence",
          "suspended sentence"
         ],
         "hovertemplate": "%{y} %{customdata}<extra></extra>",
         "name": "Suspended sentence",
         "type": "bar",
         "x": [
          2010,
          2011,
          2012,
          2013,
          2014,
          2015,
          2016,
          2017,
          2018,
          2019,
          2020,
          2021,
          2022
         ],
         "y": [
          71,
          71,
          79,
          92,
          100,
          115,
          104,
          104,
          82,
          74,
          52,
          49,
          52
         ]
        }
       ],
       "layout": {
        "annotations": [
         {
          "font": {
           "size": 12
          },
          "showarrow": false,
          "text": "Source: Ministry of Justice, Criminal justice statistics",
          "x": -0.08,
          "xanchor": "left",
          "xref": "paper",
          "y": -0.19,
          "yanchor": "top",
          "yref": "paper"
         },
         {
          "align": "left",
          "font": {
           "size": 12
          },
          "showarrow": false,
          "text": "Women sentenced",
          "x": 2010,
          "xanchor": "left",
          "xref": "x",
          "y": 1.04,
          "yref": "paper"
         }
        ],
        "barmode": "group",
        "height": 360,
        "hovermode": "x",
        "legend": {
         "x": 1,
         "xanchor": "right",
         "y": 1.05,
         "yanchor": "top"
        },
        "margin": {
         "b": 75,
         "l": 63,
         "r": 20
        },
        "modebar": {
         "activecolor": "#A01D28"
        },
        "showlegend": true,
        "template": {
         "layout": {
          "colorway": [
           "#A01D28",
           "#499CC9",
           "#F9A237",
           "#6FBA3A",
           "#573D6B"
          ],
          "font": {
           "color": "#54565B",
           "family": "Helvetica Neue, Arial",
           "size": 12
          },
          "modebar": {
           "activecolor": "#A01D28"
          },
          "paper_bgcolor": "#F7F2F2",
          "plot_bgcolor": "#F7F2F2",
          "showlegend": false,
          "title": {
           "font": {
            "family": "Helvetica Neue, Arial",
            "size": 17
           },
           "y": 0.94,
           "yanchor": "bottom"
          },
          "xaxis": {
           "showgrid": false,
           "tickcolor": "#54565B"
          }
         }
        },
        "title": {
         "text": "<b>Sentencing of women in Cumbria 2010–2022</b>",
         "y": 0.94,
         "yanchor": "bottom"
        },
        "width": 655,
        "xaxis": {
         "dtick": 2,
         "range": [
          2009.3,
          2022.8
         ],
         "showgrid": false,
         "tick0": 2010,
         "tickcolor": "#54565B"
        },
        "yaxis": {
         "range": [
          0,
          315
         ],
         "tick0": 0,
         "tickformat": ",.0f",
         "title": {
          "text": ""
         }
        }
       }
      }
     },
     "metadata": {},
     "output_type": "display_data"
    },
    {
     "data": {
      "application/vnd.plotly.v1+json": {
       "config": {
        "plotlyServerURL": "https://plot.ly"
       },
       "data": [
        {
         "customdata": [
          "community sentence",
          "community sentence",
          "community sentence",
          "community sentence",
          "community sentence",
          "community sentence",
          "community sentence",
          "community sentence",
          "community sentence",
          "community sentence",
          "community sentence",
          "community sentence",
          "community sentence"
         ],
         "hovertemplate": "%{y} %{customdata}<extra></extra>",
         "name": "Community sentence",
         "type": "bar",
         "x": [
          2010,
          2011,
          2012,
          2013,
          2014,
          2015,
          2016,
          2017,
          2018,
          2019,
          2020,
          2021,
          2022
         ],
         "y": [
          408,
          422,
          344,
          284,
          280,
          275,
          257,
          199,
          247,
          266,
          164,
          187,
          158
         ]
        },
        {
         "customdata": [
          "immediate custody",
          "immediate custody",
          "immediate custody",
          "immediate custody",
          "immediate custody",
          "immediate custody",
          "immediate custody",
          "immediate custody",
          "immediate custody",
          "immediate custody",
          "immediate custody",
          "immediate custody",
          "immediate custody"
         ],
         "hovertemplate": "%{y} %{customdata}<extra></extra>",
         "name": "Immediate custody",
         "type": "bar",
         "x": [
          2010,
          2011,
          2012,
          2013,
          2014,
          2015,
          2016,
          2017,
          2018,
          2019,
          2020,
          2021,
          2022
         ],
         "y": [
          131,
          150,
          119,
          123,
          171,
          179,
          176,
          174,
          178,
          123,
          130,
          126,
          122
         ]
        },
        {
         "customdata": [
          "suspended sentence",
          "suspended sentence",
          "suspended sentence",
          "suspended sentence",
          "suspended sentence",
          "suspended sentence",
          "suspended sentence",
          "suspended sentence",
          "suspended sentence",
          "suspended sentence",
          "suspended sentence",
          "suspended sentence",
          "suspended sentence"
         ],
         "hovertemplate": "%{y} %{customdata}<extra></extra>",
         "name": "Suspended sentence",
         "type": "bar",
         "x": [
          2010,
          2011,
          2012,
          2013,
          2014,
          2015,
          2016,
          2017,
          2018,
          2019,
          2020,
          2021,
          2022
         ],
         "y": [
          116,
          146,
          150,
          146,
          190,
          222,
          185,
          185,
          157,
          144,
          127,
          145,
          127
         ]
        }
       ],
       "layout": {
        "annotations": [
         {
          "font": {
           "size": 12
          },
          "showarrow": false,
          "text": "Source: Ministry of Justice, Criminal justice statistics",
          "x": -0.08,
          "xanchor": "left",
          "xref": "paper",
          "y": -0.19,
          "yanchor": "top",
          "yref": "paper"
         },
         {
          "align": "left",
          "font": {
           "size": 12
          },
          "showarrow": false,
          "text": "Women sentenced",
          "x": 2010,
          "xanchor": "left",
          "xref": "x",
          "y": 1.04,
          "yref": "paper"
         }
        ],
        "barmode": "group",
        "height": 360,
        "hovermode": "x",
        "legend": {
         "x": 1,
         "xanchor": "right",
         "y": 1.05,
         "yanchor": "top"
        },
        "margin": {
         "b": 75,
         "l": 63,
         "r": 20
        },
        "modebar": {
         "activecolor": "#A01D28"
        },
        "showlegend": true,
        "template": {
         "layout": {
          "colorway": [
           "#A01D28",
           "#499CC9",
           "#F9A237",
           "#6FBA3A",
           "#573D6B"
          ],
          "font": {
           "color": "#54565B",
           "family": "Helvetica Neue, Arial",
           "size": 12
          },
          "modebar": {
           "activecolor": "#A01D28"
          },
          "paper_bgcolor": "#F7F2F2",
          "plot_bgcolor": "#F7F2F2",
          "showlegend": false,
          "title": {
           "font": {
            "family": "Helvetica Neue, Arial",
            "size": 17
           },
           "y": 0.94,
           "yanchor": "bottom"
          },
          "xaxis": {
           "showgrid": false,
           "tickcolor": "#54565B"
          }
         }
        },
        "title": {
         "text": "<b>Sentencing of women in Derbyshire 2010–2022</b>",
         "y": 0.94,
         "yanchor": "bottom"
        },
        "width": 655,
        "xaxis": {
         "dtick": 2,
         "range": [
          2009.3,
          2022.8
         ],
         "showgrid": false,
         "tick0": 2010,
         "tickcolor": "#54565B"
        },
        "yaxis": {
         "range": [
          0,
          540
         ],
         "tick0": 0,
         "tickformat": ",.0f",
         "title": {
          "text": ""
         }
        }
       }
      }
     },
     "metadata": {},
     "output_type": "display_data"
    },
    {
     "data": {
      "application/vnd.plotly.v1+json": {
       "config": {
        "plotlyServerURL": "https://plot.ly"
       },
       "data": [
        {
         "customdata": [
          "community sentence",
          "community sentence",
          "community sentence",
          "community sentence",
          "community sentence",
          "community sentence",
          "community sentence",
          "community sentence",
          "community sentence",
          "community sentence",
          "community sentence",
          "community sentence",
          "community sentence"
         ],
         "hovertemplate": "%{y} %{customdata}<extra></extra>",
         "name": "Community sentence",
         "type": "bar",
         "x": [
          2010,
          2011,
          2012,
          2013,
          2014,
          2015,
          2016,
          2017,
          2018,
          2019,
          2020,
          2021,
          2022
         ],
         "y": [
          404,
          436,
          392,
          330,
          287,
          290,
          255,
          264,
          266,
          298,
          240,
          252,
          202
         ]
        },
        {
         "customdata": [
          "immediate custody",
          "immediate custody",
          "immediate custody",
          "immediate custody",
          "immediate custody",
          "immediate custody",
          "immediate custody",
          "immediate custody",
          "immediate custody",
          "immediate custody",
          "immediate custody",
          "immediate custody",
          "immediate custody"
         ],
         "hovertemplate": "%{y} %{customdata}<extra></extra>",
         "name": "Immediate custody",
         "type": "bar",
         "x": [
          2010,
          2011,
          2012,
          2013,
          2014,
          2015,
          2016,
          2017,
          2018,
          2019,
          2020,
          2021,
          2022
         ],
         "y": [
          138,
          156,
          118,
          109,
          116,
          126,
          120,
          148,
          120,
          106,
          106,
          86,
          63
         ]
        },
        {
         "customdata": [
          "suspended sentence",
          "suspended sentence",
          "suspended sentence",
          "suspended sentence",
          "suspended sentence",
          "suspended sentence",
          "suspended sentence",
          "suspended sentence",
          "suspended sentence",
          "suspended sentence",
          "suspended sentence",
          "suspended sentence",
          "suspended sentence"
         ],
         "hovertemplate": "%{y} %{customdata}<extra></extra>",
         "name": "Suspended sentence",
         "type": "bar",
         "x": [
          2010,
          2011,
          2012,
          2013,
          2014,
          2015,
          2016,
          2017,
          2018,
          2019,
          2020,
          2021,
          2022
         ],
         "y": [
          137,
          144,
          173,
          196,
          155,
          194,
          187,
          182,
          135,
          123,
          125,
          119,
          93
         ]
        }
       ],
       "layout": {
        "annotations": [
         {
          "font": {
           "size": 12
          },
          "showarrow": false,
          "text": "Source: Ministry of Justice, Criminal justice statistics",
          "x": -0.08,
          "xanchor": "left",
          "xref": "paper",
          "y": -0.19,
          "yanchor": "top",
          "yref": "paper"
         },
         {
          "align": "left",
          "font": {
           "size": 12
          },
          "showarrow": false,
          "text": "Women sentenced",
          "x": 2010,
          "xanchor": "left",
          "xref": "x",
          "y": 1.04,
          "yref": "paper"
         }
        ],
        "barmode": "group",
        "height": 360,
        "hovermode": "x",
        "legend": {
         "x": 1,
         "xanchor": "right",
         "y": 1.05,
         "yanchor": "top"
        },
        "margin": {
         "b": 75,
         "l": 63,
         "r": 20
        },
        "modebar": {
         "activecolor": "#A01D28"
        },
        "showlegend": true,
        "template": {
         "layout": {
          "colorway": [
           "#A01D28",
           "#499CC9",
           "#F9A237",
           "#6FBA3A",
           "#573D6B"
          ],
          "font": {
           "color": "#54565B",
           "family": "Helvetica Neue, Arial",
           "size": 12
          },
          "modebar": {
           "activecolor": "#A01D28"
          },
          "paper_bgcolor": "#F7F2F2",
          "plot_bgcolor": "#F7F2F2",
          "showlegend": false,
          "title": {
           "font": {
            "family": "Helvetica Neue, Arial",
            "size": 17
           },
           "y": 0.94,
           "yanchor": "bottom"
          },
          "xaxis": {
           "showgrid": false,
           "tickcolor": "#54565B"
          }
         }
        },
        "title": {
         "text": "<b>Sentencing of women in Devon and Cornwall 2010–2022</b>",
         "y": 0.94,
         "yanchor": "bottom"
        },
        "width": 655,
        "xaxis": {
         "dtick": 2,
         "range": [
          2009.3,
          2022.8
         ],
         "showgrid": false,
         "tick0": 2010,
         "tickcolor": "#54565B"
        },
        "yaxis": {
         "range": [
          0,
          540
         ],
         "tick0": 0,
         "tickformat": ",.0f",
         "title": {
          "text": ""
         }
        }
       }
      }
     },
     "metadata": {},
     "output_type": "display_data"
    },
    {
     "data": {
      "application/vnd.plotly.v1+json": {
       "config": {
        "plotlyServerURL": "https://plot.ly"
       },
       "data": [
        {
         "customdata": [
          "community sentence",
          "community sentence",
          "community sentence",
          "community sentence",
          "community sentence",
          "community sentence",
          "community sentence",
          "community sentence",
          "community sentence",
          "community sentence",
          "community sentence",
          "community sentence",
          "community sentence"
         ],
         "hovertemplate": "%{y} %{customdata}<extra></extra>",
         "name": "Community sentence",
         "type": "bar",
         "x": [
          2010,
          2011,
          2012,
          2013,
          2014,
          2015,
          2016,
          2017,
          2018,
          2019,
          2020,
          2021,
          2022
         ],
         "y": [
          162,
          171,
          152,
          120,
          112,
          126,
          133,
          119,
          141,
          158,
          80,
          104,
          117
         ]
        },
        {
         "customdata": [
          "immediate custody",
          "immediate custody",
          "immediate custody",
          "immediate custody",
          "immediate custody",
          "immediate custody",
          "immediate custody",
          "immediate custody",
          "immediate custody",
          "immediate custody",
          "immediate custody",
          "immediate custody",
          "immediate custody"
         ],
         "hovertemplate": "%{y} %{customdata}<extra></extra>",
         "name": "Immediate custody",
         "type": "bar",
         "x": [
          2010,
          2011,
          2012,
          2013,
          2014,
          2015,
          2016,
          2017,
          2018,
          2019,
          2020,
          2021,
          2022
         ],
         "y": [
          73,
          37,
          48,
          46,
          56,
          67,
          52,
          73,
          52,
          61,
          35,
          38,
          23
         ]
        },
        {
         "customdata": [
          "suspended sentence",
          "suspended sentence",
          "suspended sentence",
          "suspended sentence",
          "suspended sentence",
          "suspended sentence",
          "suspended sentence",
          "suspended sentence",
          "suspended sentence",
          "suspended sentence",
          "suspended sentence",
          "suspended sentence",
          "suspended sentence"
         ],
         "hovertemplate": "%{y} %{customdata}<extra></extra>",
         "name": "Suspended sentence",
         "type": "bar",
         "x": [
          2010,
          2011,
          2012,
          2013,
          2014,
          2015,
          2016,
          2017,
          2018,
          2019,
          2020,
          2021,
          2022
         ],
         "y": [
          58,
          44,
          42,
          32,
          65,
          64,
          60,
          56,
          55,
          48,
          36,
          53,
          63
         ]
        }
       ],
       "layout": {
        "annotations": [
         {
          "font": {
           "size": 12
          },
          "showarrow": false,
          "text": "Source: Ministry of Justice, Criminal justice statistics",
          "x": -0.08,
          "xanchor": "left",
          "xref": "paper",
          "y": -0.19,
          "yanchor": "top",
          "yref": "paper"
         },
         {
          "align": "left",
          "font": {
           "size": 12
          },
          "showarrow": false,
          "text": "Women sentenced",
          "x": 2010,
          "xanchor": "left",
          "xref": "x",
          "y": 1.04,
          "yref": "paper"
         }
        ],
        "barmode": "group",
        "height": 360,
        "hovermode": "x",
        "legend": {
         "x": 1,
         "xanchor": "right",
         "y": 1.05,
         "yanchor": "top"
        },
        "margin": {
         "b": 75,
         "l": 63,
         "r": 20
        },
        "modebar": {
         "activecolor": "#A01D28"
        },
        "showlegend": true,
        "template": {
         "layout": {
          "colorway": [
           "#A01D28",
           "#499CC9",
           "#F9A237",
           "#6FBA3A",
           "#573D6B"
          ],
          "font": {
           "color": "#54565B",
           "family": "Helvetica Neue, Arial",
           "size": 12
          },
          "modebar": {
           "activecolor": "#A01D28"
          },
          "paper_bgcolor": "#F7F2F2",
          "plot_bgcolor": "#F7F2F2",
          "showlegend": false,
          "title": {
           "font": {
            "family": "Helvetica Neue, Arial",
            "size": 17
           },
           "y": 0.94,
           "yanchor": "bottom"
          },
          "xaxis": {
           "showgrid": false,
           "tickcolor": "#54565B"
          }
         }
        },
        "title": {
         "text": "<b>Sentencing of women in Dorset 2010–2022</b>",
         "y": 0.94,
         "yanchor": "bottom"
        },
        "width": 655,
        "xaxis": {
         "dtick": 2,
         "range": [
          2009.3,
          2022.8
         ],
         "showgrid": false,
         "tick0": 2010,
         "tickcolor": "#54565B"
        },
        "yaxis": {
         "range": [
          0,
          208
         ],
         "tick0": 0,
         "tickformat": ",.0f",
         "title": {
          "text": ""
         }
        }
       }
      }
     },
     "metadata": {},
     "output_type": "display_data"
    },
    {
     "data": {
      "application/vnd.plotly.v1+json": {
       "config": {
        "plotlyServerURL": "https://plot.ly"
       },
       "data": [
        {
         "customdata": [
          "community sentence",
          "community sentence",
          "community sentence",
          "community sentence",
          "community sentence",
          "community sentence",
          "community sentence",
          "community sentence",
          "community sentence",
          "community sentence",
          "community sentence",
          "community sentence",
          "community sentence"
         ],
         "hovertemplate": "%{y} %{customdata}<extra></extra>",
         "name": "Community sentence",
         "type": "bar",
         "x": [
          2010,
          2011,
          2012,
          2013,
          2014,
          2015,
          2016,
          2017,
          2018,
          2019,
          2020,
          2021,
          2022
         ],
         "y": [
          278,
          289,
          215,
          189,
          173,
          170,
          161,
          137,
          142,
          151,
          101,
          146,
          122
         ]
        },
        {
         "customdata": [
          "immediate custody",
          "immediate custody",
          "immediate custody",
          "immediate custody",
          "immediate custody",
          "immediate custody",
          "immediate custody",
          "immediate custody",
          "immediate custody",
          "immediate custody",
          "immediate custody",
          "immediate custody",
          "immediate custody"
         ],
         "hovertemplate": "%{y} %{customdata}<extra></extra>",
         "name": "Immediate custody",
         "type": "bar",
         "x": [
          2010,
          2011,
          2012,
          2013,
          2014,
          2015,
          2016,
          2017,
          2018,
          2019,
          2020,
          2021,
          2022
         ],
         "y": [
          85,
          58,
          78,
          79,
          82,
          76,
          80,
          64,
          79,
          41,
          56,
          50,
          57
         ]
        },
        {
         "customdata": [
          "suspended sentence",
          "suspended sentence",
          "suspended sentence",
          "suspended sentence",
          "suspended sentence",
          "suspended sentence",
          "suspended sentence",
          "suspended sentence",
          "suspended sentence",
          "suspended sentence",
          "suspended sentence",
          "suspended sentence",
          "suspended sentence"
         ],
         "hovertemplate": "%{y} %{customdata}<extra></extra>",
         "name": "Suspended sentence",
         "type": "bar",
         "x": [
          2010,
          2011,
          2012,
          2013,
          2014,
          2015,
          2016,
          2017,
          2018,
          2019,
          2020,
          2021,
          2022
         ],
         "y": [
          80,
          87,
          91,
          91,
          141,
          142,
          102,
          83,
          65,
          45,
          55,
          66,
          40
         ]
        }
       ],
       "layout": {
        "annotations": [
         {
          "font": {
           "size": 12
          },
          "showarrow": false,
          "text": "Source: Ministry of Justice, Criminal justice statistics",
          "x": -0.08,
          "xanchor": "left",
          "xref": "paper",
          "y": -0.19,
          "yanchor": "top",
          "yref": "paper"
         },
         {
          "align": "left",
          "font": {
           "size": 12
          },
          "showarrow": false,
          "text": "Women sentenced",
          "x": 2010,
          "xanchor": "left",
          "xref": "x",
          "y": 1.04,
          "yref": "paper"
         }
        ],
        "barmode": "group",
        "height": 360,
        "hovermode": "x",
        "legend": {
         "x": 1,
         "xanchor": "right",
         "y": 1.05,
         "yanchor": "top"
        },
        "margin": {
         "b": 75,
         "l": 63,
         "r": 20
        },
        "modebar": {
         "activecolor": "#A01D28"
        },
        "showlegend": true,
        "template": {
         "layout": {
          "colorway": [
           "#A01D28",
           "#499CC9",
           "#F9A237",
           "#6FBA3A",
           "#573D6B"
          ],
          "font": {
           "color": "#54565B",
           "family": "Helvetica Neue, Arial",
           "size": 12
          },
          "modebar": {
           "activecolor": "#A01D28"
          },
          "paper_bgcolor": "#F7F2F2",
          "plot_bgcolor": "#F7F2F2",
          "showlegend": false,
          "title": {
           "font": {
            "family": "Helvetica Neue, Arial",
            "size": 17
           },
           "y": 0.94,
           "yanchor": "bottom"
          },
          "xaxis": {
           "showgrid": false,
           "tickcolor": "#54565B"
          }
         }
        },
        "title": {
         "text": "<b>Sentencing of women in Durham 2010–2022</b>",
         "y": 0.94,
         "yanchor": "bottom"
        },
        "width": 655,
        "xaxis": {
         "dtick": 2,
         "range": [
          2009.3,
          2022.8
         ],
         "showgrid": false,
         "tick0": 2010,
         "tickcolor": "#54565B"
        },
        "yaxis": {
         "range": [
          0,
          315
         ],
         "tick0": 0,
         "tickformat": ",.0f",
         "title": {
          "text": ""
         }
        }
       }
      }
     },
     "metadata": {},
     "output_type": "display_data"
    },
    {
     "data": {
      "application/vnd.plotly.v1+json": {
       "config": {
        "plotlyServerURL": "https://plot.ly"
       },
       "data": [
        {
         "customdata": [
          "community sentence",
          "community sentence",
          "community sentence",
          "community sentence",
          "community sentence",
          "community sentence",
          "community sentence",
          "community sentence",
          "community sentence",
          "community sentence",
          "community sentence",
          "community sentence",
          "community sentence"
         ],
         "hovertemplate": "%{y} %{customdata}<extra></extra>",
         "name": "Community sentence",
         "type": "bar",
         "x": [
          2010,
          2011,
          2012,
          2013,
          2014,
          2015,
          2016,
          2017,
          2018,
          2019,
          2020,
          2021,
          2022
         ],
         "y": [
          159,
          188,
          181,
          145,
          165,
          125,
          105,
          87,
          122,
          130,
          87,
          91,
          102
         ]
        },
        {
         "customdata": [
          "immediate custody",
          "immediate custody",
          "immediate custody",
          "immediate custody",
          "immediate custody",
          "immediate custody",
          "immediate custody",
          "immediate custody",
          "immediate custody",
          "immediate custody",
          "immediate custody",
          "immediate custody",
          "immediate custody"
         ],
         "hovertemplate": "%{y} %{customdata}<extra></extra>",
         "name": "Immediate custody",
         "type": "bar",
         "x": [
          2010,
          2011,
          2012,
          2013,
          2014,
          2015,
          2016,
          2017,
          2018,
          2019,
          2020,
          2021,
          2022
         ],
         "y": [
          48,
          58,
          42,
          44,
          37,
          33,
          32,
          44,
          41,
          38,
          14,
          14,
          20
         ]
        },
        {
         "customdata": [
          "suspended sentence",
          "suspended sentence",
          "suspended sentence",
          "suspended sentence",
          "suspended sentence",
          "suspended sentence",
          "suspended sentence",
          "suspended sentence",
          "suspended sentence",
          "suspended sentence",
          "suspended sentence",
          "suspended sentence",
          "suspended sentence"
         ],
         "hovertemplate": "%{y} %{customdata}<extra></extra>",
         "name": "Suspended sentence",
         "type": "bar",
         "x": [
          2010,
          2011,
          2012,
          2013,
          2014,
          2015,
          2016,
          2017,
          2018,
          2019,
          2020,
          2021,
          2022
         ],
         "y": [
          42,
          39,
          33,
          57,
          59,
          59,
          55,
          57,
          45,
          55,
          24,
          18,
          39
         ]
        }
       ],
       "layout": {
        "annotations": [
         {
          "font": {
           "size": 12
          },
          "showarrow": false,
          "text": "Source: Ministry of Justice, Criminal justice statistics",
          "x": -0.08,
          "xanchor": "left",
          "xref": "paper",
          "y": -0.19,
          "yanchor": "top",
          "yref": "paper"
         },
         {
          "align": "left",
          "font": {
           "size": 12
          },
          "showarrow": false,
          "text": "Women sentenced",
          "x": 2010,
          "xanchor": "left",
          "xref": "x",
          "y": 1.04,
          "yref": "paper"
         }
        ],
        "barmode": "group",
        "height": 360,
        "hovermode": "x",
        "legend": {
         "x": 1,
         "xanchor": "right",
         "y": 1.05,
         "yanchor": "top"
        },
        "margin": {
         "b": 75,
         "l": 63,
         "r": 20
        },
        "modebar": {
         "activecolor": "#A01D28"
        },
        "showlegend": true,
        "template": {
         "layout": {
          "colorway": [
           "#A01D28",
           "#499CC9",
           "#F9A237",
           "#6FBA3A",
           "#573D6B"
          ],
          "font": {
           "color": "#54565B",
           "family": "Helvetica Neue, Arial",
           "size": 12
          },
          "modebar": {
           "activecolor": "#A01D28"
          },
          "paper_bgcolor": "#F7F2F2",
          "plot_bgcolor": "#F7F2F2",
          "showlegend": false,
          "title": {
           "font": {
            "family": "Helvetica Neue, Arial",
            "size": 17
           },
           "y": 0.94,
           "yanchor": "bottom"
          },
          "xaxis": {
           "showgrid": false,
           "tickcolor": "#54565B"
          }
         }
        },
        "title": {
         "text": "<b>Sentencing of women in Dyfed-Powys 2010–2022</b>",
         "y": 0.94,
         "yanchor": "bottom"
        },
        "width": 655,
        "xaxis": {
         "dtick": 2,
         "range": [
          2009.3,
          2022.8
         ],
         "showgrid": false,
         "tick0": 2010,
         "tickcolor": "#54565B"
        },
        "yaxis": {
         "range": [
          0,
          208
         ],
         "tick0": 0,
         "tickformat": ",.0f",
         "title": {
          "text": ""
         }
        }
       }
      }
     },
     "metadata": {},
     "output_type": "display_data"
    },
    {
     "data": {
      "application/vnd.plotly.v1+json": {
       "config": {
        "plotlyServerURL": "https://plot.ly"
       },
       "data": [
        {
         "customdata": [
          "community sentence",
          "community sentence",
          "community sentence",
          "community sentence",
          "community sentence",
          "community sentence",
          "community sentence",
          "community sentence",
          "community sentence",
          "community sentence",
          "community sentence",
          "community sentence",
          "community sentence"
         ],
         "hovertemplate": "%{y} %{customdata}<extra></extra>",
         "name": "Community sentence",
         "type": "bar",
         "x": [
          2010,
          2011,
          2012,
          2013,
          2014,
          2015,
          2016,
          2017,
          2018,
          2019,
          2020,
          2021,
          2022
         ],
         "y": [
          633,
          694,
          499,
          588,
          559,
          456,
          383,
          326,
          373,
          414,
          295,
          390,
          343
         ]
        },
        {
         "customdata": [
          "immediate custody",
          "immediate custody",
          "immediate custody",
          "immediate custody",
          "immediate custody",
          "immediate custody",
          "immediate custody",
          "immediate custody",
          "immediate custody",
          "immediate custody",
          "immediate custody",
          "immediate custody",
          "immediate custody"
         ],
         "hovertemplate": "%{y} %{customdata}<extra></extra>",
         "name": "Immediate custody",
         "type": "bar",
         "x": [
          2010,
          2011,
          2012,
          2013,
          2014,
          2015,
          2016,
          2017,
          2018,
          2019,
          2020,
          2021,
          2022
         ],
         "y": [
          217,
          221,
          190,
          191,
          198,
          162,
          176,
          176,
          181,
          155,
          91,
          76,
          92
         ]
        },
        {
         "customdata": [
          "suspended sentence",
          "suspended sentence",
          "suspended sentence",
          "suspended sentence",
          "suspended sentence",
          "suspended sentence",
          "suspended sentence",
          "suspended sentence",
          "suspended sentence",
          "suspended sentence",
          "suspended sentence",
          "suspended sentence",
          "suspended sentence"
         ],
         "hovertemplate": "%{y} %{customdata}<extra></extra>",
         "name": "Suspended sentence",
         "type": "bar",
         "x": [
          2010,
          2011,
          2012,
          2013,
          2014,
          2015,
          2016,
          2017,
          2018,
          2019,
          2020,
          2021,
          2022
         ],
         "y": [
          209,
          224,
          199,
          194,
          222,
          208,
          189,
          226,
          155,
          151,
          142,
          166,
          162
         ]
        }
       ],
       "layout": {
        "annotations": [
         {
          "font": {
           "size": 12
          },
          "showarrow": false,
          "text": "Source: Ministry of Justice, Criminal justice statistics",
          "x": -0.08,
          "xanchor": "left",
          "xref": "paper",
          "y": -0.19,
          "yanchor": "top",
          "yref": "paper"
         },
         {
          "align": "left",
          "font": {
           "size": 12
          },
          "showarrow": false,
          "text": "Women sentenced",
          "x": 2010,
          "xanchor": "left",
          "xref": "x",
          "y": 1.04,
          "yref": "paper"
         }
        ],
        "barmode": "group",
        "height": 360,
        "hovermode": "x",
        "legend": {
         "x": 1,
         "xanchor": "right",
         "y": 1.05,
         "yanchor": "top"
        },
        "margin": {
         "b": 75,
         "l": 63,
         "r": 20
        },
        "modebar": {
         "activecolor": "#A01D28"
        },
        "showlegend": true,
        "template": {
         "layout": {
          "colorway": [
           "#A01D28",
           "#499CC9",
           "#F9A237",
           "#6FBA3A",
           "#573D6B"
          ],
          "font": {
           "color": "#54565B",
           "family": "Helvetica Neue, Arial",
           "size": 12
          },
          "modebar": {
           "activecolor": "#A01D28"
          },
          "paper_bgcolor": "#F7F2F2",
          "plot_bgcolor": "#F7F2F2",
          "showlegend": false,
          "title": {
           "font": {
            "family": "Helvetica Neue, Arial",
            "size": 17
           },
           "y": 0.94,
           "yanchor": "bottom"
          },
          "xaxis": {
           "showgrid": false,
           "tickcolor": "#54565B"
          }
         }
        },
        "title": {
         "text": "<b>Sentencing of women in Essex 2010–2022</b>",
         "y": 0.94,
         "yanchor": "bottom"
        },
        "width": 655,
        "xaxis": {
         "dtick": 2,
         "range": [
          2009.3,
          2022.8
         ],
         "showgrid": false,
         "tick0": 2010,
         "tickcolor": "#54565B"
        },
        "yaxis": {
         "range": [
          0,
          830
         ],
         "tick0": 0,
         "tickformat": ",.0f",
         "title": {
          "text": ""
         }
        }
       }
      }
     },
     "metadata": {},
     "output_type": "display_data"
    },
    {
     "data": {
      "application/vnd.plotly.v1+json": {
       "config": {
        "plotlyServerURL": "https://plot.ly"
       },
       "data": [
        {
         "customdata": [
          "community sentence",
          "community sentence",
          "community sentence",
          "community sentence",
          "community sentence",
          "community sentence",
          "community sentence",
          "community sentence",
          "community sentence",
          "community sentence",
          "community sentence",
          "community sentence",
          "community sentence"
         ],
         "hovertemplate": "%{y} %{customdata}<extra></extra>",
         "name": "Community sentence",
         "type": "bar",
         "x": [
          2010,
          2011,
          2012,
          2013,
          2014,
          2015,
          2016,
          2017,
          2018,
          2019,
          2020,
          2021,
          2022
         ],
         "y": [
          193,
          189,
          144,
          148,
          132,
          134,
          121,
          101,
          116,
          132,
          60,
          109,
          121
         ]
        },
        {
         "customdata": [
          "immediate custody",
          "immediate custody",
          "immediate custody",
          "immediate custody",
          "immediate custody",
          "immediate custody",
          "immediate custody",
          "immediate custody",
          "immediate custody",
          "immediate custody",
          "immediate custody",
          "immediate custody",
          "immediate custody"
         ],
         "hovertemplate": "%{y} %{customdata}<extra></extra>",
         "name": "Immediate custody",
         "type": "bar",
         "x": [
          2010,
          2011,
          2012,
          2013,
          2014,
          2015,
          2016,
          2017,
          2018,
          2019,
          2020,
          2021,
          2022
         ],
         "y": [
          67,
          51,
          49,
          61,
          66,
          71,
          58,
          58,
          41,
          36,
          18,
          13,
          23
         ]
        },
        {
         "customdata": [
          "suspended sentence",
          "suspended sentence",
          "suspended sentence",
          "suspended sentence",
          "suspended sentence",
          "suspended sentence",
          "suspended sentence",
          "suspended sentence",
          "suspended sentence",
          "suspended sentence",
          "suspended sentence",
          "suspended sentence",
          "suspended sentence"
         ],
         "hovertemplate": "%{y} %{customdata}<extra></extra>",
         "name": "Suspended sentence",
         "type": "bar",
         "x": [
          2010,
          2011,
          2012,
          2013,
          2014,
          2015,
          2016,
          2017,
          2018,
          2019,
          2020,
          2021,
          2022
         ],
         "y": [
          46,
          48,
          42,
          49,
          47,
          72,
          67,
          57,
          45,
          53,
          36,
          58,
          37
         ]
        }
       ],
       "layout": {
        "annotations": [
         {
          "font": {
           "size": 12
          },
          "showarrow": false,
          "text": "Source: Ministry of Justice, Criminal justice statistics",
          "x": -0.08,
          "xanchor": "left",
          "xref": "paper",
          "y": -0.19,
          "yanchor": "top",
          "yref": "paper"
         },
         {
          "align": "left",
          "font": {
           "size": 12
          },
          "showarrow": false,
          "text": "Women sentenced",
          "x": 2010,
          "xanchor": "left",
          "xref": "x",
          "y": 1.04,
          "yref": "paper"
         }
        ],
        "barmode": "group",
        "height": 360,
        "hovermode": "x",
        "legend": {
         "x": 1,
         "xanchor": "right",
         "y": 1.05,
         "yanchor": "top"
        },
        "margin": {
         "b": 75,
         "l": 63,
         "r": 20
        },
        "modebar": {
         "activecolor": "#A01D28"
        },
        "showlegend": true,
        "template": {
         "layout": {
          "colorway": [
           "#A01D28",
           "#499CC9",
           "#F9A237",
           "#6FBA3A",
           "#573D6B"
          ],
          "font": {
           "color": "#54565B",
           "family": "Helvetica Neue, Arial",
           "size": 12
          },
          "modebar": {
           "activecolor": "#A01D28"
          },
          "paper_bgcolor": "#F7F2F2",
          "plot_bgcolor": "#F7F2F2",
          "showlegend": false,
          "title": {
           "font": {
            "family": "Helvetica Neue, Arial",
            "size": 17
           },
           "y": 0.94,
           "yanchor": "bottom"
          },
          "xaxis": {
           "showgrid": false,
           "tickcolor": "#54565B"
          }
         }
        },
        "title": {
         "text": "<b>Sentencing of women in Gloucestershire 2010–2022</b>",
         "y": 0.94,
         "yanchor": "bottom"
        },
        "width": 655,
        "xaxis": {
         "dtick": 2,
         "range": [
          2009.3,
          2022.8
         ],
         "showgrid": false,
         "tick0": 2010,
         "tickcolor": "#54565B"
        },
        "yaxis": {
         "range": [
          0,
          208
         ],
         "tick0": 0,
         "tickformat": ",.0f",
         "title": {
          "text": ""
         }
        }
       }
      }
     },
     "metadata": {},
     "output_type": "display_data"
    },
    {
     "data": {
      "application/vnd.plotly.v1+json": {
       "config": {
        "plotlyServerURL": "https://plot.ly"
       },
       "data": [
        {
         "customdata": [
          "community sentence",
          "community sentence",
          "community sentence",
          "community sentence",
          "community sentence",
          "community sentence",
          "community sentence",
          "community sentence",
          "community sentence",
          "community sentence",
          "community sentence",
          "community sentence",
          "community sentence"
         ],
         "hovertemplate": "%{y} %{customdata}<extra></extra>",
         "name": "Community sentence",
         "type": "bar",
         "x": [
          2010,
          2011,
          2012,
          2013,
          2014,
          2015,
          2016,
          2017,
          2018,
          2019,
          2020,
          2021,
          2022
         ],
         "y": [
          1696,
          1580,
          1337,
          1114,
          1006,
          994,
          797,
          617,
          662,
          671,
          341,
          431,
          473
         ]
        },
        {
         "customdata": [
          "immediate custody",
          "immediate custody",
          "immediate custody",
          "immediate custody",
          "immediate custody",
          "immediate custody",
          "immediate custody",
          "immediate custody",
          "immediate custody",
          "immediate custody",
          "immediate custody",
          "immediate custody",
          "immediate custody"
         ],
         "hovertemplate": "%{y} %{customdata}<extra></extra>",
         "name": "Immediate custody",
         "type": "bar",
         "x": [
          2010,
          2011,
          2012,
          2013,
          2014,
          2015,
          2016,
          2017,
          2018,
          2019,
          2020,
          2021,
          2022
         ],
         "y": [
          440,
          460,
          400,
          402,
          446,
          402,
          307,
          269,
          217,
          251,
          186,
          182,
          200
         ]
        },
        {
         "customdata": [
          "suspended sentence",
          "suspended sentence",
          "suspended sentence",
          "suspended sentence",
          "suspended sentence",
          "suspended sentence",
          "suspended sentence",
          "suspended sentence",
          "suspended sentence",
          "suspended sentence",
          "suspended sentence",
          "suspended sentence",
          "suspended sentence"
         ],
         "hovertemplate": "%{y} %{customdata}<extra></extra>",
         "name": "Suspended sentence",
         "type": "bar",
         "x": [
          2010,
          2011,
          2012,
          2013,
          2014,
          2015,
          2016,
          2017,
          2018,
          2019,
          2020,
          2021,
          2022
         ],
         "y": [
          473,
          501,
          458,
          479,
          530,
          492,
          454,
          373,
          317,
          261,
          233,
          276,
          266
         ]
        }
       ],
       "layout": {
        "annotations": [
         {
          "font": {
           "size": 12
          },
          "showarrow": false,
          "text": "Source: Ministry of Justice, Criminal justice statistics",
          "x": -0.08,
          "xanchor": "left",
          "xref": "paper",
          "y": -0.19,
          "yanchor": "top",
          "yref": "paper"
         },
         {
          "align": "left",
          "font": {
           "size": 12
          },
          "showarrow": false,
          "text": "Women sentenced",
          "x": 2010,
          "xanchor": "left",
          "xref": "x",
          "y": 1.04,
          "yref": "paper"
         }
        ],
        "barmode": "group",
        "height": 360,
        "hovermode": "x",
        "legend": {
         "x": 1,
         "xanchor": "right",
         "y": 1.05,
         "yanchor": "top"
        },
        "margin": {
         "b": 75,
         "l": 63,
         "r": 20
        },
        "modebar": {
         "activecolor": "#A01D28"
        },
        "showlegend": true,
        "template": {
         "layout": {
          "colorway": [
           "#A01D28",
           "#499CC9",
           "#F9A237",
           "#6FBA3A",
           "#573D6B"
          ],
          "font": {
           "color": "#54565B",
           "family": "Helvetica Neue, Arial",
           "size": 12
          },
          "modebar": {
           "activecolor": "#A01D28"
          },
          "paper_bgcolor": "#F7F2F2",
          "plot_bgcolor": "#F7F2F2",
          "showlegend": false,
          "title": {
           "font": {
            "family": "Helvetica Neue, Arial",
            "size": 17
           },
           "y": 0.94,
           "yanchor": "bottom"
          },
          "xaxis": {
           "showgrid": false,
           "tickcolor": "#54565B"
          }
         }
        },
        "title": {
         "text": "<b>Sentencing of women in Greater Manchester 2010–2022</b>",
         "y": 0.94,
         "yanchor": "bottom"
        },
        "width": 655,
        "xaxis": {
         "dtick": 2,
         "range": [
          2009.3,
          2022.8
         ],
         "showgrid": false,
         "tick0": 2010,
         "tickcolor": "#54565B"
        },
        "yaxis": {
         "range": [
          0,
          2080
         ],
         "tick0": 0,
         "tickformat": ",.0f",
         "title": {
          "text": ""
         }
        }
       }
      }
     },
     "metadata": {},
     "output_type": "display_data"
    },
    {
     "data": {
      "application/vnd.plotly.v1+json": {
       "config": {
        "plotlyServerURL": "https://plot.ly"
       },
       "data": [
        {
         "customdata": [
          "community sentence",
          "community sentence",
          "community sentence",
          "community sentence",
          "community sentence",
          "community sentence",
          "community sentence",
          "community sentence",
          "community sentence",
          "community sentence",
          "community sentence",
          "community sentence",
          "community sentence"
         ],
         "hovertemplate": "%{y} %{customdata}<extra></extra>",
         "name": "Community sentence",
         "type": "bar",
         "x": [
          2010,
          2011,
          2012,
          2013,
          2014,
          2015,
          2016,
          2017,
          2018,
          2019,
          2020,
          2021,
          2022
         ],
         "y": [
          210,
          287,
          277,
          205,
          159,
          141,
          108,
          126,
          97,
          120,
          89,
          70,
          74
         ]
        },
        {
         "customdata": [
          "immediate custody",
          "immediate custody",
          "immediate custody",
          "immediate custody",
          "immediate custody",
          "immediate custody",
          "immediate custody",
          "immediate custody",
          "immediate custody",
          "immediate custody",
          "immediate custody",
          "immediate custody",
          "immediate custody"
         ],
         "hovertemplate": "%{y} %{customdata}<extra></extra>",
         "name": "Immediate custody",
         "type": "bar",
         "x": [
          2010,
          2011,
          2012,
          2013,
          2014,
          2015,
          2016,
          2017,
          2018,
          2019,
          2020,
          2021,
          2022
         ],
         "y": [
          59,
          69,
          92,
          84,
          90,
          76,
          88,
          109,
          87,
          40,
          18,
          25,
          17
         ]
        },
        {
         "customdata": [
          "suspended sentence",
          "suspended sentence",
          "suspended sentence",
          "suspended sentence",
          "suspended sentence",
          "suspended sentence",
          "suspended sentence",
          "suspended sentence",
          "suspended sentence",
          "suspended sentence",
          "suspended sentence",
          "suspended sentence",
          "suspended sentence"
         ],
         "hovertemplate": "%{y} %{customdata}<extra></extra>",
         "name": "Suspended sentence",
         "type": "bar",
         "x": [
          2010,
          2011,
          2012,
          2013,
          2014,
          2015,
          2016,
          2017,
          2018,
          2019,
          2020,
          2021,
          2022
         ],
         "y": [
          72,
          52,
          83,
          99,
          96,
          143,
          104,
          105,
          96,
          58,
          53,
          48,
          48
         ]
        }
       ],
       "layout": {
        "annotations": [
         {
          "font": {
           "size": 12
          },
          "showarrow": false,
          "text": "Source: Ministry of Justice, Criminal justice statistics",
          "x": -0.08,
          "xanchor": "left",
          "xref": "paper",
          "y": -0.19,
          "yanchor": "top",
          "yref": "paper"
         },
         {
          "align": "left",
          "font": {
           "size": 12
          },
          "showarrow": false,
          "text": "Women sentenced",
          "x": 2010,
          "xanchor": "left",
          "xref": "x",
          "y": 1.04,
          "yref": "paper"
         }
        ],
        "barmode": "group",
        "height": 360,
        "hovermode": "x",
        "legend": {
         "x": 1,
         "xanchor": "right",
         "y": 1.05,
         "yanchor": "top"
        },
        "margin": {
         "b": 75,
         "l": 63,
         "r": 20
        },
        "modebar": {
         "activecolor": "#A01D28"
        },
        "showlegend": true,
        "template": {
         "layout": {
          "colorway": [
           "#A01D28",
           "#499CC9",
           "#F9A237",
           "#6FBA3A",
           "#573D6B"
          ],
          "font": {
           "color": "#54565B",
           "family": "Helvetica Neue, Arial",
           "size": 12
          },
          "modebar": {
           "activecolor": "#A01D28"
          },
          "paper_bgcolor": "#F7F2F2",
          "plot_bgcolor": "#F7F2F2",
          "showlegend": false,
          "title": {
           "font": {
            "family": "Helvetica Neue, Arial",
            "size": 17
           },
           "y": 0.94,
           "yanchor": "bottom"
          },
          "xaxis": {
           "showgrid": false,
           "tickcolor": "#54565B"
          }
         }
        },
        "title": {
         "text": "<b>Sentencing of women in Gwent 2010–2022</b>",
         "y": 0.94,
         "yanchor": "bottom"
        },
        "width": 655,
        "xaxis": {
         "dtick": 2,
         "range": [
          2009.3,
          2022.8
         ],
         "showgrid": false,
         "tick0": 2010,
         "tickcolor": "#54565B"
        },
        "yaxis": {
         "range": [
          0,
          315
         ],
         "tick0": 0,
         "tickformat": ",.0f",
         "title": {
          "text": ""
         }
        }
       }
      }
     },
     "metadata": {},
     "output_type": "display_data"
    },
    {
     "data": {
      "application/vnd.plotly.v1+json": {
       "config": {
        "plotlyServerURL": "https://plot.ly"
       },
       "data": [
        {
         "customdata": [
          "community sentence",
          "community sentence",
          "community sentence",
          "community sentence",
          "community sentence",
          "community sentence",
          "community sentence",
          "community sentence",
          "community sentence",
          "community sentence",
          "community sentence",
          "community sentence",
          "community sentence"
         ],
         "hovertemplate": "%{y} %{customdata}<extra></extra>",
         "name": "Community sentence",
         "type": "bar",
         "x": [
          2010,
          2011,
          2012,
          2013,
          2014,
          2015,
          2016,
          2017,
          2018,
          2019,
          2020,
          2021,
          2022
         ],
         "y": [
          905,
          833,
          681,
          569,
          476,
          452,
          379,
          384,
          406,
          399,
          198,
          346,
          292
         ]
        },
        {
         "customdata": [
          "immediate custody",
          "immediate custody",
          "immediate custody",
          "immediate custody",
          "immediate custody",
          "immediate custody",
          "immediate custody",
          "immediate custody",
          "immediate custody",
          "immediate custody",
          "immediate custody",
          "immediate custody",
          "immediate custody"
         ],
         "hovertemplate": "%{y} %{customdata}<extra></extra>",
         "name": "Immediate custody",
         "type": "bar",
         "x": [
          2010,
          2011,
          2012,
          2013,
          2014,
          2015,
          2016,
          2017,
          2018,
          2019,
          2020,
          2021,
          2022
         ],
         "y": [
          189,
          254,
          242,
          153,
          191,
          207,
          158,
          172,
          158,
          126,
          128,
          100,
          88
         ]
        },
        {
         "customdata": [
          "suspended sentence",
          "suspended sentence",
          "suspended sentence",
          "suspended sentence",
          "suspended sentence",
          "suspended sentence",
          "suspended sentence",
          "suspended sentence",
          "suspended sentence",
          "suspended sentence",
          "suspended sentence",
          "suspended sentence",
          "suspended sentence"
         ],
         "hovertemplate": "%{y} %{customdata}<extra></extra>",
         "name": "Suspended sentence",
         "type": "bar",
         "x": [
          2010,
          2011,
          2012,
          2013,
          2014,
          2015,
          2016,
          2017,
          2018,
          2019,
          2020,
          2021,
          2022
         ],
         "y": [
          181,
          236,
          209,
          209,
          227,
          241,
          211,
          194,
          181,
          171,
          104,
          144,
          107
         ]
        }
       ],
       "layout": {
        "annotations": [
         {
          "font": {
           "size": 12
          },
          "showarrow": false,
          "text": "Source: Ministry of Justice, Criminal justice statistics",
          "x": -0.08,
          "xanchor": "left",
          "xref": "paper",
          "y": -0.19,
          "yanchor": "top",
          "yref": "paper"
         },
         {
          "align": "left",
          "font": {
           "size": 12
          },
          "showarrow": false,
          "text": "Women sentenced",
          "x": 2010,
          "xanchor": "left",
          "xref": "x",
          "y": 1.04,
          "yref": "paper"
         }
        ],
        "barmode": "group",
        "height": 360,
        "hovermode": "x",
        "legend": {
         "x": 1,
         "xanchor": "right",
         "y": 1.05,
         "yanchor": "top"
        },
        "margin": {
         "b": 75,
         "l": 63,
         "r": 20
        },
        "modebar": {
         "activecolor": "#A01D28"
        },
        "showlegend": true,
        "template": {
         "layout": {
          "colorway": [
           "#A01D28",
           "#499CC9",
           "#F9A237",
           "#6FBA3A",
           "#573D6B"
          ],
          "font": {
           "color": "#54565B",
           "family": "Helvetica Neue, Arial",
           "size": 12
          },
          "modebar": {
           "activecolor": "#A01D28"
          },
          "paper_bgcolor": "#F7F2F2",
          "plot_bgcolor": "#F7F2F2",
          "showlegend": false,
          "title": {
           "font": {
            "family": "Helvetica Neue, Arial",
            "size": 17
           },
           "y": 0.94,
           "yanchor": "bottom"
          },
          "xaxis": {
           "showgrid": false,
           "tickcolor": "#54565B"
          }
         }
        },
        "title": {
         "text": "<b>Sentencing of women in Hampshire 2010–2022</b>",
         "y": 0.94,
         "yanchor": "bottom"
        },
        "width": 655,
        "xaxis": {
         "dtick": 2,
         "range": [
          2009.3,
          2022.8
         ],
         "showgrid": false,
         "tick0": 2010,
         "tickcolor": "#54565B"
        },
        "yaxis": {
         "range": [
          0,
          909
         ],
         "tick0": 0,
         "tickformat": ",.0f",
         "title": {
          "text": ""
         }
        }
       }
      }
     },
     "metadata": {},
     "output_type": "display_data"
    },
    {
     "data": {
      "application/vnd.plotly.v1+json": {
       "config": {
        "plotlyServerURL": "https://plot.ly"
       },
       "data": [
        {
         "customdata": [
          "community sentence",
          "community sentence",
          "community sentence",
          "community sentence",
          "community sentence",
          "community sentence",
          "community sentence",
          "community sentence",
          "community sentence",
          "community sentence",
          "community sentence",
          "community sentence",
          "community sentence"
         ],
         "hovertemplate": "%{y} %{customdata}<extra></extra>",
         "name": "Community sentence",
         "type": "bar",
         "x": [
          2010,
          2011,
          2012,
          2013,
          2014,
          2015,
          2016,
          2017,
          2018,
          2019,
          2020,
          2021,
          2022
         ],
         "y": [
          407,
          333,
          295,
          186,
          184,
          194,
          155,
          153,
          114,
          133,
          94,
          93,
          97
         ]
        },
        {
         "customdata": [
          "immediate custody",
          "immediate custody",
          "immediate custody",
          "immediate custody",
          "immediate custody",
          "immediate custody",
          "immediate custody",
          "immediate custody",
          "immediate custody",
          "immediate custody",
          "immediate custody",
          "immediate custody",
          "immediate custody"
         ],
         "hovertemplate": "%{y} %{customdata}<extra></extra>",
         "name": "Immediate custody",
         "type": "bar",
         "x": [
          2010,
          2011,
          2012,
          2013,
          2014,
          2015,
          2016,
          2017,
          2018,
          2019,
          2020,
          2021,
          2022
         ],
         "y": [
          92,
          104,
          105,
          100,
          92,
          89,
          110,
          101,
          72,
          68,
          38,
          38,
          44
         ]
        },
        {
         "customdata": [
          "suspended sentence",
          "suspended sentence",
          "suspended sentence",
          "suspended sentence",
          "suspended sentence",
          "suspended sentence",
          "suspended sentence",
          "suspended sentence",
          "suspended sentence",
          "suspended sentence",
          "suspended sentence",
          "suspended sentence",
          "suspended sentence"
         ],
         "hovertemplate": "%{y} %{customdata}<extra></extra>",
         "name": "Suspended sentence",
         "type": "bar",
         "x": [
          2010,
          2011,
          2012,
          2013,
          2014,
          2015,
          2016,
          2017,
          2018,
          2019,
          2020,
          2021,
          2022
         ],
         "y": [
          128,
          125,
          117,
          112,
          137,
          154,
          131,
          132,
          67,
          93,
          64,
          65,
          83
         ]
        }
       ],
       "layout": {
        "annotations": [
         {
          "font": {
           "size": 12
          },
          "showarrow": false,
          "text": "Source: Ministry of Justice, Criminal justice statistics",
          "x": -0.08,
          "xanchor": "left",
          "xref": "paper",
          "y": -0.19,
          "yanchor": "top",
          "yref": "paper"
         },
         {
          "align": "left",
          "font": {
           "size": 12
          },
          "showarrow": false,
          "text": "Women sentenced",
          "x": 2010,
          "xanchor": "left",
          "xref": "x",
          "y": 1.04,
          "yref": "paper"
         }
        ],
        "barmode": "group",
        "height": 360,
        "hovermode": "x",
        "legend": {
         "x": 1,
         "xanchor": "right",
         "y": 1.05,
         "yanchor": "top"
        },
        "margin": {
         "b": 75,
         "l": 63,
         "r": 20
        },
        "modebar": {
         "activecolor": "#A01D28"
        },
        "showlegend": true,
        "template": {
         "layout": {
          "colorway": [
           "#A01D28",
           "#499CC9",
           "#F9A237",
           "#6FBA3A",
           "#573D6B"
          ],
          "font": {
           "color": "#54565B",
           "family": "Helvetica Neue, Arial",
           "size": 12
          },
          "modebar": {
           "activecolor": "#A01D28"
          },
          "paper_bgcolor": "#F7F2F2",
          "plot_bgcolor": "#F7F2F2",
          "showlegend": false,
          "title": {
           "font": {
            "family": "Helvetica Neue, Arial",
            "size": 17
           },
           "y": 0.94,
           "yanchor": "bottom"
          },
          "xaxis": {
           "showgrid": false,
           "tickcolor": "#54565B"
          }
         }
        },
        "title": {
         "text": "<b>Sentencing of women in Hertfordshire 2010–2022</b>",
         "y": 0.94,
         "yanchor": "bottom"
        },
        "width": 655,
        "xaxis": {
         "dtick": 2,
         "range": [
          2009.3,
          2022.8
         ],
         "showgrid": false,
         "tick0": 2010,
         "tickcolor": "#54565B"
        },
        "yaxis": {
         "range": [
          0,
          420
         ],
         "tick0": 0,
         "tickformat": ",.0f",
         "title": {
          "text": ""
         }
        }
       }
      }
     },
     "metadata": {},
     "output_type": "display_data"
    },
    {
     "data": {
      "application/vnd.plotly.v1+json": {
       "config": {
        "plotlyServerURL": "https://plot.ly"
       },
       "data": [
        {
         "customdata": [
          "community sentence",
          "community sentence",
          "community sentence",
          "community sentence",
          "community sentence",
          "community sentence",
          "community sentence",
          "community sentence",
          "community sentence",
          "community sentence",
          "community sentence",
          "community sentence",
          "community sentence"
         ],
         "hovertemplate": "%{y} %{customdata}<extra></extra>",
         "name": "Community sentence",
         "type": "bar",
         "x": [
          2010,
          2011,
          2012,
          2013,
          2014,
          2015,
          2016,
          2017,
          2018,
          2019,
          2020,
          2021,
          2022
         ],
         "y": [
          375,
          393,
          381,
          343,
          310,
          260,
          239,
          244,
          254,
          243,
          106,
          205,
          180
         ]
        },
        {
         "customdata": [
          "immediate custody",
          "immediate custody",
          "immediate custody",
          "immediate custody",
          "immediate custody",
          "immediate custody",
          "immediate custody",
          "immediate custody",
          "immediate custody",
          "immediate custody",
          "immediate custody",
          "immediate custody",
          "immediate custody"
         ],
         "hovertemplate": "%{y} %{customdata}<extra></extra>",
         "name": "Immediate custody",
         "type": "bar",
         "x": [
          2010,
          2011,
          2012,
          2013,
          2014,
          2015,
          2016,
          2017,
          2018,
          2019,
          2020,
          2021,
          2022
         ],
         "y": [
          145,
          153,
          154,
          144,
          154,
          136,
          147,
          122,
          157,
          129,
          137,
          134,
          119
         ]
        },
        {
         "customdata": [
          "suspended sentence",
          "suspended sentence",
          "suspended sentence",
          "suspended sentence",
          "suspended sentence",
          "suspended sentence",
          "suspended sentence",
          "suspended sentence",
          "suspended sentence",
          "suspended sentence",
          "suspended sentence",
          "suspended sentence",
          "suspended sentence"
         ],
         "hovertemplate": "%{y} %{customdata}<extra></extra>",
         "name": "Suspended sentence",
         "type": "bar",
         "x": [
          2010,
          2011,
          2012,
          2013,
          2014,
          2015,
          2016,
          2017,
          2018,
          2019,
          2020,
          2021,
          2022
         ],
         "y": [
          146,
          157,
          160,
          172,
          182,
          176,
          151,
          147,
          128,
          144,
          107,
          139,
          100
         ]
        }
       ],
       "layout": {
        "annotations": [
         {
          "font": {
           "size": 12
          },
          "showarrow": false,
          "text": "Source: Ministry of Justice, Criminal justice statistics",
          "x": -0.08,
          "xanchor": "left",
          "xref": "paper",
          "y": -0.19,
          "yanchor": "top",
          "yref": "paper"
         },
         {
          "align": "left",
          "font": {
           "size": 12
          },
          "showarrow": false,
          "text": "Women sentenced",
          "x": 2010,
          "xanchor": "left",
          "xref": "x",
          "y": 1.04,
          "yref": "paper"
         }
        ],
        "barmode": "group",
        "height": 360,
        "hovermode": "x",
        "legend": {
         "x": 1,
         "xanchor": "right",
         "y": 1.05,
         "yanchor": "top"
        },
        "margin": {
         "b": 75,
         "l": 63,
         "r": 20
        },
        "modebar": {
         "activecolor": "#A01D28"
        },
        "showlegend": true,
        "template": {
         "layout": {
          "colorway": [
           "#A01D28",
           "#499CC9",
           "#F9A237",
           "#6FBA3A",
           "#573D6B"
          ],
          "font": {
           "color": "#54565B",
           "family": "Helvetica Neue, Arial",
           "size": 12
          },
          "modebar": {
           "activecolor": "#A01D28"
          },
          "paper_bgcolor": "#F7F2F2",
          "plot_bgcolor": "#F7F2F2",
          "showlegend": false,
          "title": {
           "font": {
            "family": "Helvetica Neue, Arial",
            "size": 17
           },
           "y": 0.94,
           "yanchor": "bottom"
          },
          "xaxis": {
           "showgrid": false,
           "tickcolor": "#54565B"
          }
         }
        },
        "title": {
         "text": "<b>Sentencing of women in Humberside 2010–2022</b>",
         "y": 0.94,
         "yanchor": "bottom"
        },
        "width": 655,
        "xaxis": {
         "dtick": 2,
         "range": [
          2009.3,
          2022.8
         ],
         "showgrid": false,
         "tick0": 2010,
         "tickcolor": "#54565B"
        },
        "yaxis": {
         "range": [
          0,
          420
         ],
         "tick0": 0,
         "tickformat": ",.0f",
         "title": {
          "text": ""
         }
        }
       }
      }
     },
     "metadata": {},
     "output_type": "display_data"
    },
    {
     "data": {
      "application/vnd.plotly.v1+json": {
       "config": {
        "plotlyServerURL": "https://plot.ly"
       },
       "data": [
        {
         "customdata": [
          "community sentence",
          "community sentence",
          "community sentence",
          "community sentence",
          "community sentence",
          "community sentence",
          "community sentence",
          "community sentence",
          "community sentence",
          "community sentence",
          "community sentence",
          "community sentence",
          "community sentence"
         ],
         "hovertemplate": "%{y} %{customdata}<extra></extra>",
         "name": "Community sentence",
         "type": "bar",
         "x": [
          2010,
          2011,
          2012,
          2013,
          2014,
          2015,
          2016,
          2017,
          2018,
          2019,
          2020,
          2021,
          2022
         ],
         "y": [
          611,
          576,
          529,
          427,
          414,
          422,
          330,
          364,
          384,
          362,
          273,
          387,
          336
         ]
        },
        {
         "customdata": [
          "immediate custody",
          "immediate custody",
          "immediate custody",
          "immediate custody",
          "immediate custody",
          "immediate custody",
          "immediate custody",
          "immediate custody",
          "immediate custody",
          "immediate custody",
          "immediate custody",
          "immediate custody",
          "immediate custody"
         ],
         "hovertemplate": "%{y} %{customdata}<extra></extra>",
         "name": "Immediate custody",
         "type": "bar",
         "x": [
          2010,
          2011,
          2012,
          2013,
          2014,
          2015,
          2016,
          2017,
          2018,
          2019,
          2020,
          2021,
          2022
         ],
         "y": [
          205,
          221,
          182,
          194,
          198,
          189,
          217,
          224,
          193,
          156,
          123,
          135,
          143
         ]
        },
        {
         "customdata": [
          "suspended sentence",
          "suspended sentence",
          "suspended sentence",
          "suspended sentence",
          "suspended sentence",
          "suspended sentence",
          "suspended sentence",
          "suspended sentence",
          "suspended sentence",
          "suspended sentence",
          "suspended sentence",
          "suspended sentence",
          "suspended sentence"
         ],
         "hovertemplate": "%{y} %{customdata}<extra></extra>",
         "name": "Suspended sentence",
         "type": "bar",
         "x": [
          2010,
          2011,
          2012,
          2013,
          2014,
          2015,
          2016,
          2017,
          2018,
          2019,
          2020,
          2021,
          2022
         ],
         "y": [
          187,
          184,
          204,
          210,
          210,
          269,
          213,
          252,
          181,
          141,
          143,
          180,
          131
         ]
        }
       ],
       "layout": {
        "annotations": [
         {
          "font": {
           "size": 12
          },
          "showarrow": false,
          "text": "Source: Ministry of Justice, Criminal justice statistics",
          "x": -0.08,
          "xanchor": "left",
          "xref": "paper",
          "y": -0.19,
          "yanchor": "top",
          "yref": "paper"
         },
         {
          "align": "left",
          "font": {
           "size": 12
          },
          "showarrow": false,
          "text": "Women sentenced",
          "x": 2010,
          "xanchor": "left",
          "xref": "x",
          "y": 1.04,
          "yref": "paper"
         }
        ],
        "barmode": "group",
        "height": 360,
        "hovermode": "x",
        "legend": {
         "x": 1,
         "xanchor": "right",
         "y": 1.05,
         "yanchor": "top"
        },
        "margin": {
         "b": 75,
         "l": 63,
         "r": 20
        },
        "modebar": {
         "activecolor": "#A01D28"
        },
        "showlegend": true,
        "template": {
         "layout": {
          "colorway": [
           "#A01D28",
           "#499CC9",
           "#F9A237",
           "#6FBA3A",
           "#573D6B"
          ],
          "font": {
           "color": "#54565B",
           "family": "Helvetica Neue, Arial",
           "size": 12
          },
          "modebar": {
           "activecolor": "#A01D28"
          },
          "paper_bgcolor": "#F7F2F2",
          "plot_bgcolor": "#F7F2F2",
          "showlegend": false,
          "title": {
           "font": {
            "family": "Helvetica Neue, Arial",
            "size": 17
           },
           "y": 0.94,
           "yanchor": "bottom"
          },
          "xaxis": {
           "showgrid": false,
           "tickcolor": "#54565B"
          }
         }
        },
        "title": {
         "text": "<b>Sentencing of women in Kent 2010–2022</b>",
         "y": 0.94,
         "yanchor": "bottom"
        },
        "width": 655,
        "xaxis": {
         "dtick": 2,
         "range": [
          2009.3,
          2022.8
         ],
         "showgrid": false,
         "tick0": 2010,
         "tickcolor": "#54565B"
        },
        "yaxis": {
         "range": [
          0,
          640
         ],
         "tick0": 0,
         "tickformat": ",.0f",
         "title": {
          "text": ""
         }
        }
       }
      }
     },
     "metadata": {},
     "output_type": "display_data"
    },
    {
     "data": {
      "application/vnd.plotly.v1+json": {
       "config": {
        "plotlyServerURL": "https://plot.ly"
       },
       "data": [
        {
         "customdata": [
          "community sentence",
          "community sentence",
          "community sentence",
          "community sentence",
          "community sentence",
          "community sentence",
          "community sentence",
          "community sentence",
          "community sentence",
          "community sentence",
          "community sentence",
          "community sentence",
          "community sentence"
         ],
         "hovertemplate": "%{y} %{customdata}<extra></extra>",
         "name": "Community sentence",
         "type": "bar",
         "x": [
          2010,
          2011,
          2012,
          2013,
          2014,
          2015,
          2016,
          2017,
          2018,
          2019,
          2020,
          2021,
          2022
         ],
         "y": [
          880,
          825,
          756,
          708,
          524,
          581,
          505,
          463,
          492,
          450,
          278,
          337,
          294
         ]
        },
        {
         "customdata": [
          "immediate custody",
          "immediate custody",
          "immediate custody",
          "immediate custody",
          "immediate custody",
          "immediate custody",
          "immediate custody",
          "immediate custody",
          "immediate custody",
          "immediate custody",
          "immediate custody",
          "immediate custody",
          "immediate custody"
         ],
         "hovertemplate": "%{y} %{customdata}<extra></extra>",
         "name": "Immediate custody",
         "type": "bar",
         "x": [
          2010,
          2011,
          2012,
          2013,
          2014,
          2015,
          2016,
          2017,
          2018,
          2019,
          2020,
          2021,
          2022
         ],
         "y": [
          185,
          187,
          203,
          239,
          234,
          215,
          168,
          198,
          198,
          164,
          113,
          147,
          116
         ]
        },
        {
         "customdata": [
          "suspended sentence",
          "suspended sentence",
          "suspended sentence",
          "suspended sentence",
          "suspended sentence",
          "suspended sentence",
          "suspended sentence",
          "suspended sentence",
          "suspended sentence",
          "suspended sentence",
          "suspended sentence",
          "suspended sentence",
          "suspended sentence"
         ],
         "hovertemplate": "%{y} %{customdata}<extra></extra>",
         "name": "Suspended sentence",
         "type": "bar",
         "x": [
          2010,
          2011,
          2012,
          2013,
          2014,
          2015,
          2016,
          2017,
          2018,
          2019,
          2020,
          2021,
          2022
         ],
         "y": [
          211,
          255,
          251,
          241,
          266,
          288,
          247,
          224,
          193,
          168,
          114,
          191,
          155
         ]
        }
       ],
       "layout": {
        "annotations": [
         {
          "font": {
           "size": 12
          },
          "showarrow": false,
          "text": "Source: Ministry of Justice, Criminal justice statistics",
          "x": -0.08,
          "xanchor": "left",
          "xref": "paper",
          "y": -0.19,
          "yanchor": "top",
          "yref": "paper"
         },
         {
          "align": "left",
          "font": {
           "size": 12
          },
          "showarrow": false,
          "text": "Women sentenced",
          "x": 2010,
          "xanchor": "left",
          "xref": "x",
          "y": 1.04,
          "yref": "paper"
         }
        ],
        "barmode": "group",
        "height": 360,
        "hovermode": "x",
        "legend": {
         "x": 1,
         "xanchor": "right",
         "y": 1.05,
         "yanchor": "top"
        },
        "margin": {
         "b": 75,
         "l": 63,
         "r": 20
        },
        "modebar": {
         "activecolor": "#A01D28"
        },
        "showlegend": true,
        "template": {
         "layout": {
          "colorway": [
           "#A01D28",
           "#499CC9",
           "#F9A237",
           "#6FBA3A",
           "#573D6B"
          ],
          "font": {
           "color": "#54565B",
           "family": "Helvetica Neue, Arial",
           "size": 12
          },
          "modebar": {
           "activecolor": "#A01D28"
          },
          "paper_bgcolor": "#F7F2F2",
          "plot_bgcolor": "#F7F2F2",
          "showlegend": false,
          "title": {
           "font": {
            "family": "Helvetica Neue, Arial",
            "size": 17
           },
           "y": 0.94,
           "yanchor": "bottom"
          },
          "xaxis": {
           "showgrid": false,
           "tickcolor": "#54565B"
          }
         }
        },
        "title": {
         "text": "<b>Sentencing of women in Lancashire 2010–2022</b>",
         "y": 0.94,
         "yanchor": "bottom"
        },
        "width": 655,
        "xaxis": {
         "dtick": 2,
         "range": [
          2009.3,
          2022.8
         ],
         "showgrid": false,
         "tick0": 2010,
         "tickcolor": "#54565B"
        },
        "yaxis": {
         "range": [
          0,
          909
         ],
         "tick0": 0,
         "tickformat": ",.0f",
         "title": {
          "text": ""
         }
        }
       }
      }
     },
     "metadata": {},
     "output_type": "display_data"
    },
    {
     "data": {
      "application/vnd.plotly.v1+json": {
       "config": {
        "plotlyServerURL": "https://plot.ly"
       },
       "data": [
        {
         "customdata": [
          "community sentence",
          "community sentence",
          "community sentence",
          "community sentence",
          "community sentence",
          "community sentence",
          "community sentence",
          "community sentence",
          "community sentence",
          "community sentence",
          "community sentence",
          "community sentence",
          "community sentence"
         ],
         "hovertemplate": "%{y} %{customdata}<extra></extra>",
         "name": "Community sentence",
         "type": "bar",
         "x": [
          2010,
          2011,
          2012,
          2013,
          2014,
          2015,
          2016,
          2017,
          2018,
          2019,
          2020,
          2021,
          2022
         ],
         "y": [
          297,
          324,
          310,
          252,
          205,
          238,
          182,
          195,
          223,
          198,
          112,
          154,
          143
         ]
        },
        {
         "customdata": [
          "immediate custody",
          "immediate custody",
          "immediate custody",
          "immediate custody",
          "immediate custody",
          "immediate custody",
          "immediate custody",
          "immediate custody",
          "immediate custody",
          "immediate custody",
          "immediate custody",
          "immediate custody",
          "immediate custody"
         ],
         "hovertemplate": "%{y} %{customdata}<extra></extra>",
         "name": "Immediate custody",
         "type": "bar",
         "x": [
          2010,
          2011,
          2012,
          2013,
          2014,
          2015,
          2016,
          2017,
          2018,
          2019,
          2020,
          2021,
          2022
         ],
         "y": [
          103,
          116,
          112,
          104,
          102,
          88,
          95,
          109,
          112,
          95,
          90,
          63,
          70
         ]
        },
        {
         "customdata": [
          "suspended sentence",
          "suspended sentence",
          "suspended sentence",
          "suspended sentence",
          "suspended sentence",
          "suspended sentence",
          "suspended sentence",
          "suspended sentence",
          "suspended sentence",
          "suspended sentence",
          "suspended sentence",
          "suspended sentence",
          "suspended sentence"
         ],
         "hovertemplate": "%{y} %{customdata}<extra></extra>",
         "name": "Suspended sentence",
         "type": "bar",
         "x": [
          2010,
          2011,
          2012,
          2013,
          2014,
          2015,
          2016,
          2017,
          2018,
          2019,
          2020,
          2021,
          2022
         ],
         "y": [
          104,
          135,
          121,
          118,
          121,
          154,
          141,
          134,
          111,
          118,
          89,
          104,
          80
         ]
        }
       ],
       "layout": {
        "annotations": [
         {
          "font": {
           "size": 12
          },
          "showarrow": false,
          "text": "Source: Ministry of Justice, Criminal justice statistics",
          "x": -0.08,
          "xanchor": "left",
          "xref": "paper",
          "y": -0.19,
          "yanchor": "top",
          "yref": "paper"
         },
         {
          "align": "left",
          "font": {
           "size": 12
          },
          "showarrow": false,
          "text": "Women sentenced",
          "x": 2010,
          "xanchor": "left",
          "xref": "x",
          "y": 1.04,
          "yref": "paper"
         }
        ],
        "barmode": "group",
        "height": 360,
        "hovermode": "x",
        "legend": {
         "x": 1,
         "xanchor": "right",
         "y": 1.05,
         "yanchor": "top"
        },
        "margin": {
         "b": 75,
         "l": 63,
         "r": 20
        },
        "modebar": {
         "activecolor": "#A01D28"
        },
        "showlegend": true,
        "template": {
         "layout": {
          "colorway": [
           "#A01D28",
           "#499CC9",
           "#F9A237",
           "#6FBA3A",
           "#573D6B"
          ],
          "font": {
           "color": "#54565B",
           "family": "Helvetica Neue, Arial",
           "size": 12
          },
          "modebar": {
           "activecolor": "#A01D28"
          },
          "paper_bgcolor": "#F7F2F2",
          "plot_bgcolor": "#F7F2F2",
          "showlegend": false,
          "title": {
           "font": {
            "family": "Helvetica Neue, Arial",
            "size": 17
           },
           "y": 0.94,
           "yanchor": "bottom"
          },
          "xaxis": {
           "showgrid": false,
           "tickcolor": "#54565B"
          }
         }
        },
        "title": {
         "text": "<b>Sentencing of women in Leicestershire 2010–2022</b>",
         "y": 0.94,
         "yanchor": "bottom"
        },
        "width": 655,
        "xaxis": {
         "dtick": 2,
         "range": [
          2009.3,
          2022.8
         ],
         "showgrid": false,
         "tick0": 2010,
         "tickcolor": "#54565B"
        },
        "yaxis": {
         "range": [
          0,
          420
         ],
         "tick0": 0,
         "tickformat": ",.0f",
         "title": {
          "text": ""
         }
        }
       }
      }
     },
     "metadata": {},
     "output_type": "display_data"
    },
    {
     "data": {
      "application/vnd.plotly.v1+json": {
       "config": {
        "plotlyServerURL": "https://plot.ly"
       },
       "data": [
        {
         "customdata": [
          "community sentence",
          "community sentence",
          "community sentence",
          "community sentence",
          "community sentence",
          "community sentence",
          "community sentence",
          "community sentence",
          "community sentence",
          "community sentence",
          "community sentence",
          "community sentence",
          "community sentence"
         ],
         "hovertemplate": "%{y} %{customdata}<extra></extra>",
         "name": "Community sentence",
         "type": "bar",
         "x": [
          2010,
          2011,
          2012,
          2013,
          2014,
          2015,
          2016,
          2017,
          2018,
          2019,
          2020,
          2021,
          2022
         ],
         "y": [
          172,
          181,
          150,
          119,
          116,
          137,
          108,
          129,
          90,
          99,
          52,
          82,
          103
         ]
        },
        {
         "customdata": [
          "immediate custody",
          "immediate custody",
          "immediate custody",
          "immediate custody",
          "immediate custody",
          "immediate custody",
          "immediate custody",
          "immediate custody",
          "immediate custody",
          "immediate custody",
          "immediate custody",
          "immediate custody",
          "immediate custody"
         ],
         "hovertemplate": "%{y} %{customdata}<extra></extra>",
         "name": "Immediate custody",
         "type": "bar",
         "x": [
          2010,
          2011,
          2012,
          2013,
          2014,
          2015,
          2016,
          2017,
          2018,
          2019,
          2020,
          2021,
          2022
         ],
         "y": [
          51,
          56,
          60,
          66,
          40,
          52,
          66,
          61,
          73,
          65,
          31,
          43,
          46
         ]
        },
        {
         "customdata": [
          "suspended sentence",
          "suspended sentence",
          "suspended sentence",
          "suspended sentence",
          "suspended sentence",
          "suspended sentence",
          "suspended sentence",
          "suspended sentence",
          "suspended sentence",
          "suspended sentence",
          "suspended sentence",
          "suspended sentence",
          "suspended sentence"
         ],
         "hovertemplate": "%{y} %{customdata}<extra></extra>",
         "name": "Suspended sentence",
         "type": "bar",
         "x": [
          2010,
          2011,
          2012,
          2013,
          2014,
          2015,
          2016,
          2017,
          2018,
          2019,
          2020,
          2021,
          2022
         ],
         "y": [
          52,
          58,
          62,
          56,
          65,
          59,
          78,
          73,
          70,
          61,
          47,
          73,
          60
         ]
        }
       ],
       "layout": {
        "annotations": [
         {
          "font": {
           "size": 12
          },
          "showarrow": false,
          "text": "Source: Ministry of Justice, Criminal justice statistics",
          "x": -0.08,
          "xanchor": "left",
          "xref": "paper",
          "y": -0.19,
          "yanchor": "top",
          "yref": "paper"
         },
         {
          "align": "left",
          "font": {
           "size": 12
          },
          "showarrow": false,
          "text": "Women sentenced",
          "x": 2010,
          "xanchor": "left",
          "xref": "x",
          "y": 1.04,
          "yref": "paper"
         }
        ],
        "barmode": "group",
        "height": 360,
        "hovermode": "x",
        "legend": {
         "x": 1,
         "xanchor": "right",
         "y": 1.05,
         "yanchor": "top"
        },
        "margin": {
         "b": 75,
         "l": 63,
         "r": 20
        },
        "modebar": {
         "activecolor": "#A01D28"
        },
        "showlegend": true,
        "template": {
         "layout": {
          "colorway": [
           "#A01D28",
           "#499CC9",
           "#F9A237",
           "#6FBA3A",
           "#573D6B"
          ],
          "font": {
           "color": "#54565B",
           "family": "Helvetica Neue, Arial",
           "size": 12
          },
          "modebar": {
           "activecolor": "#A01D28"
          },
          "paper_bgcolor": "#F7F2F2",
          "plot_bgcolor": "#F7F2F2",
          "showlegend": false,
          "title": {
           "font": {
            "family": "Helvetica Neue, Arial",
            "size": 17
           },
           "y": 0.94,
           "yanchor": "bottom"
          },
          "xaxis": {
           "showgrid": false,
           "tickcolor": "#54565B"
          }
         }
        },
        "title": {
         "text": "<b>Sentencing of women in Lincolnshire 2010–2022</b>",
         "y": 0.94,
         "yanchor": "bottom"
        },
        "width": 655,
        "xaxis": {
         "dtick": 2,
         "range": [
          2009.3,
          2022.8
         ],
         "showgrid": false,
         "tick0": 2010,
         "tickcolor": "#54565B"
        },
        "yaxis": {
         "range": [
          0,
          208
         ],
         "tick0": 0,
         "tickformat": ",.0f",
         "title": {
          "text": ""
         }
        }
       }
      }
     },
     "metadata": {},
     "output_type": "display_data"
    },
    {
     "data": {
      "application/vnd.plotly.v1+json": {
       "config": {
        "plotlyServerURL": "https://plot.ly"
       },
       "data": [
        {
         "customdata": [
          "community sentence",
          "community sentence",
          "community sentence",
          "community sentence",
          "community sentence",
          "community sentence",
          "community sentence",
          "community sentence",
          "community sentence",
          "community sentence",
          "community sentence",
          "community sentence",
          "community sentence"
         ],
         "hovertemplate": "%{y} %{customdata}<extra></extra>",
         "name": "Community sentence",
         "type": "bar",
         "x": [
          2010,
          2011,
          2012,
          2013,
          2014,
          2015,
          2016,
          2017,
          2018,
          2019,
          2020,
          2021,
          2022
         ],
         "y": [
          899,
          728,
          672,
          631,
          580,
          584,
          577,
          557,
          570,
          639,
          447,
          552,
          480
         ]
        },
        {
         "customdata": [
          "immediate custody",
          "immediate custody",
          "immediate custody",
          "immediate custody",
          "immediate custody",
          "immediate custody",
          "immediate custody",
          "immediate custody",
          "immediate custody",
          "immediate custody",
          "immediate custody",
          "immediate custody",
          "immediate custody"
         ],
         "hovertemplate": "%{y} %{customdata}<extra></extra>",
         "name": "Immediate custody",
         "type": "bar",
         "x": [
          2010,
          2011,
          2012,
          2013,
          2014,
          2015,
          2016,
          2017,
          2018,
          2019,
          2020,
          2021,
          2022
         ],
         "y": [
          245,
          259,
          229,
          232,
          247,
          266,
          265,
          236,
          203,
          213,
          163,
          196,
          195
         ]
        },
        {
         "customdata": [
          "suspended sentence",
          "suspended sentence",
          "suspended sentence",
          "suspended sentence",
          "suspended sentence",
          "suspended sentence",
          "suspended sentence",
          "suspended sentence",
          "suspended sentence",
          "suspended sentence",
          "suspended sentence",
          "suspended sentence",
          "suspended sentence"
         ],
         "hovertemplate": "%{y} %{customdata}<extra></extra>",
         "name": "Suspended sentence",
         "type": "bar",
         "x": [
          2010,
          2011,
          2012,
          2013,
          2014,
          2015,
          2016,
          2017,
          2018,
          2019,
          2020,
          2021,
          2022
         ],
         "y": [
          281,
          239,
          227,
          250,
          281,
          352,
          330,
          285,
          233,
          236,
          214,
          309,
          270
         ]
        }
       ],
       "layout": {
        "annotations": [
         {
          "font": {
           "size": 12
          },
          "showarrow": false,
          "text": "Source: Ministry of Justice, Criminal justice statistics",
          "x": -0.08,
          "xanchor": "left",
          "xref": "paper",
          "y": -0.19,
          "yanchor": "top",
          "yref": "paper"
         },
         {
          "align": "left",
          "font": {
           "size": 12
          },
          "showarrow": false,
          "text": "Women sentenced",
          "x": 2010,
          "xanchor": "left",
          "xref": "x",
          "y": 1.04,
          "yref": "paper"
         }
        ],
        "barmode": "group",
        "height": 360,
        "hovermode": "x",
        "legend": {
         "x": 1,
         "xanchor": "right",
         "y": 1.05,
         "yanchor": "top"
        },
        "margin": {
         "b": 75,
         "l": 63,
         "r": 20
        },
        "modebar": {
         "activecolor": "#A01D28"
        },
        "showlegend": true,
        "template": {
         "layout": {
          "colorway": [
           "#A01D28",
           "#499CC9",
           "#F9A237",
           "#6FBA3A",
           "#573D6B"
          ],
          "font": {
           "color": "#54565B",
           "family": "Helvetica Neue, Arial",
           "size": 12
          },
          "modebar": {
           "activecolor": "#A01D28"
          },
          "paper_bgcolor": "#F7F2F2",
          "plot_bgcolor": "#F7F2F2",
          "showlegend": false,
          "title": {
           "font": {
            "family": "Helvetica Neue, Arial",
            "size": 17
           },
           "y": 0.94,
           "yanchor": "bottom"
          },
          "xaxis": {
           "showgrid": false,
           "tickcolor": "#54565B"
          }
         }
        },
        "title": {
         "text": "<b>Sentencing of women in Merseyside 2010–2022</b>",
         "y": 0.94,
         "yanchor": "bottom"
        },
        "width": 655,
        "xaxis": {
         "dtick": 2,
         "range": [
          2009.3,
          2022.8
         ],
         "showgrid": false,
         "tick0": 2010,
         "tickcolor": "#54565B"
        },
        "yaxis": {
         "range": [
          0,
          909
         ],
         "tick0": 0,
         "tickformat": ",.0f",
         "title": {
          "text": ""
         }
        }
       }
      }
     },
     "metadata": {},
     "output_type": "display_data"
    },
    {
     "data": {
      "application/vnd.plotly.v1+json": {
       "config": {
        "plotlyServerURL": "https://plot.ly"
       },
       "data": [
        {
         "customdata": [
          "community sentence",
          "community sentence",
          "community sentence",
          "community sentence",
          "community sentence",
          "community sentence",
          "community sentence",
          "community sentence",
          "community sentence",
          "community sentence",
          "community sentence",
          "community sentence",
          "community sentence"
         ],
         "hovertemplate": "%{y} %{customdata}<extra></extra>",
         "name": "Community sentence",
         "type": "bar",
         "x": [
          2010,
          2011,
          2012,
          2013,
          2014,
          2015,
          2016,
          2017,
          2018,
          2019,
          2020,
          2021,
          2022
         ],
         "y": [
          2806,
          2688,
          2195,
          1935,
          1802,
          1905,
          1854,
          1670,
          1431,
          1261,
          903,
          1200,
          942
         ]
        },
        {
         "customdata": [
          "immediate custody",
          "immediate custody",
          "immediate custody",
          "immediate custody",
          "immediate custody",
          "immediate custody",
          "immediate custody",
          "immediate custody",
          "immediate custody",
          "immediate custody",
          "immediate custody",
          "immediate custody",
          "immediate custody"
         ],
         "hovertemplate": "%{y} %{customdata}<extra></extra>",
         "name": "Immediate custody",
         "type": "bar",
         "x": [
          2010,
          2011,
          2012,
          2013,
          2014,
          2015,
          2016,
          2017,
          2018,
          2019,
          2020,
          2021,
          2022
         ],
         "y": [
          1638,
          1745,
          1523,
          1286,
          1290,
          1180,
          1272,
          1192,
          998,
          884,
          632,
          536,
          576
         ]
        },
        {
         "customdata": [
          "suspended sentence",
          "suspended sentence",
          "suspended sentence",
          "suspended sentence",
          "suspended sentence",
          "suspended sentence",
          "suspended sentence",
          "suspended sentence",
          "suspended sentence",
          "suspended sentence",
          "suspended sentence",
          "suspended sentence",
          "suspended sentence"
         ],
         "hovertemplate": "%{y} %{customdata}<extra></extra>",
         "name": "Suspended sentence",
         "type": "bar",
         "x": [
          2010,
          2011,
          2012,
          2013,
          2014,
          2015,
          2016,
          2017,
          2018,
          2019,
          2020,
          2021,
          2022
         ],
         "y": [
          1211,
          1242,
          1083,
          1071,
          1145,
          1306,
          1231,
          1149,
          800,
          716,
          539,
          614,
          645
         ]
        }
       ],
       "layout": {
        "annotations": [
         {
          "font": {
           "size": 12
          },
          "showarrow": false,
          "text": "Source: Ministry of Justice, Criminal justice statistics",
          "x": -0.08,
          "xanchor": "left",
          "xref": "paper",
          "y": -0.19,
          "yanchor": "top",
          "yref": "paper"
         },
         {
          "align": "left",
          "font": {
           "size": 12
          },
          "showarrow": false,
          "text": "Women sentenced",
          "x": 2010,
          "xanchor": "left",
          "xref": "x",
          "y": 1.04,
          "yref": "paper"
         }
        ],
        "barmode": "group",
        "height": 360,
        "hovermode": "x",
        "legend": {
         "x": 1,
         "xanchor": "right",
         "y": 1.05,
         "yanchor": "top"
        },
        "margin": {
         "b": 75,
         "l": 63,
         "r": 20
        },
        "modebar": {
         "activecolor": "#A01D28"
        },
        "showlegend": true,
        "template": {
         "layout": {
          "colorway": [
           "#A01D28",
           "#499CC9",
           "#F9A237",
           "#6FBA3A",
           "#573D6B"
          ],
          "font": {
           "color": "#54565B",
           "family": "Helvetica Neue, Arial",
           "size": 12
          },
          "modebar": {
           "activecolor": "#A01D28"
          },
          "paper_bgcolor": "#F7F2F2",
          "plot_bgcolor": "#F7F2F2",
          "showlegend": false,
          "title": {
           "font": {
            "family": "Helvetica Neue, Arial",
            "size": 17
           },
           "y": 0.94,
           "yanchor": "bottom"
          },
          "xaxis": {
           "showgrid": false,
           "tickcolor": "#54565B"
          }
         }
        },
        "title": {
         "text": "<b>Sentencing of women in Metropolitan Police 2010–2022</b>",
         "y": 0.94,
         "yanchor": "bottom"
        },
        "width": 655,
        "xaxis": {
         "dtick": 2,
         "range": [
          2009.3,
          2022.8
         ],
         "showgrid": false,
         "tick0": 2010,
         "tickcolor": "#54565B"
        },
        "yaxis": {
         "range": [
          0,
          3100
         ],
         "tick0": 0,
         "tickformat": ",.0f",
         "title": {
          "text": ""
         }
        }
       }
      }
     },
     "metadata": {},
     "output_type": "display_data"
    },
    {
     "data": {
      "application/vnd.plotly.v1+json": {
       "config": {
        "plotlyServerURL": "https://plot.ly"
       },
       "data": [
        {
         "customdata": [
          "community sentence",
          "community sentence",
          "community sentence",
          "community sentence",
          "community sentence",
          "community sentence",
          "community sentence",
          "community sentence",
          "community sentence",
          "community sentence",
          "community sentence",
          "community sentence",
          "community sentence"
         ],
         "hovertemplate": "%{y} %{customdata}<extra></extra>",
         "name": "Community sentence",
         "type": "bar",
         "x": [
          2010,
          2011,
          2012,
          2013,
          2014,
          2015,
          2016,
          2017,
          2018,
          2019,
          2020,
          2021,
          2022
         ],
         "y": [
          252,
          265,
          268,
          203,
          171,
          178,
          169,
          135,
          158,
          127,
          136,
          173,
          122
         ]
        },
        {
         "customdata": [
          "immediate custody",
          "immediate custody",
          "immediate custody",
          "immediate custody",
          "immediate custody",
          "immediate custody",
          "immediate custody",
          "immediate custody",
          "immediate custody",
          "immediate custody",
          "immediate custody",
          "immediate custody",
          "immediate custody"
         ],
         "hovertemplate": "%{y} %{customdata}<extra></extra>",
         "name": "Immediate custody",
         "type": "bar",
         "x": [
          2010,
          2011,
          2012,
          2013,
          2014,
          2015,
          2016,
          2017,
          2018,
          2019,
          2020,
          2021,
          2022
         ],
         "y": [
          96,
          91,
          92,
          73,
          86,
          98,
          124,
          108,
          98,
          84,
          76,
          62,
          54
         ]
        },
        {
         "customdata": [
          "suspended sentence",
          "suspended sentence",
          "suspended sentence",
          "suspended sentence",
          "suspended sentence",
          "suspended sentence",
          "suspended sentence",
          "suspended sentence",
          "suspended sentence",
          "suspended sentence",
          "suspended sentence",
          "suspended sentence",
          "suspended sentence"
         ],
         "hovertemplate": "%{y} %{customdata}<extra></extra>",
         "name": "Suspended sentence",
         "type": "bar",
         "x": [
          2010,
          2011,
          2012,
          2013,
          2014,
          2015,
          2016,
          2017,
          2018,
          2019,
          2020,
          2021,
          2022
         ],
         "y": [
          87,
          72,
          93,
          90,
          121,
          151,
          137,
          141,
          110,
          104,
          102,
          105,
          80
         ]
        }
       ],
       "layout": {
        "annotations": [
         {
          "font": {
           "size": 12
          },
          "showarrow": false,
          "text": "Source: Ministry of Justice, Criminal justice statistics",
          "x": -0.08,
          "xanchor": "left",
          "xref": "paper",
          "y": -0.19,
          "yanchor": "top",
          "yref": "paper"
         },
         {
          "align": "left",
          "font": {
           "size": 12
          },
          "showarrow": false,
          "text": "Women sentenced",
          "x": 2010,
          "xanchor": "left",
          "xref": "x",
          "y": 1.04,
          "yref": "paper"
         }
        ],
        "barmode": "group",
        "height": 360,
        "hovermode": "x",
        "legend": {
         "x": 1,
         "xanchor": "right",
         "y": 1.05,
         "yanchor": "top"
        },
        "margin": {
         "b": 75,
         "l": 63,
         "r": 20
        },
        "modebar": {
         "activecolor": "#A01D28"
        },
        "showlegend": true,
        "template": {
         "layout": {
          "colorway": [
           "#A01D28",
           "#499CC9",
           "#F9A237",
           "#6FBA3A",
           "#573D6B"
          ],
          "font": {
           "color": "#54565B",
           "family": "Helvetica Neue, Arial",
           "size": 12
          },
          "modebar": {
           "activecolor": "#A01D28"
          },
          "paper_bgcolor": "#F7F2F2",
          "plot_bgcolor": "#F7F2F2",
          "showlegend": false,
          "title": {
           "font": {
            "family": "Helvetica Neue, Arial",
            "size": 17
           },
           "y": 0.94,
           "yanchor": "bottom"
          },
          "xaxis": {
           "showgrid": false,
           "tickcolor": "#54565B"
          }
         }
        },
        "title": {
         "text": "<b>Sentencing of women in Norfolk 2010–2022</b>",
         "y": 0.94,
         "yanchor": "bottom"
        },
        "width": 655,
        "xaxis": {
         "dtick": 2,
         "range": [
          2009.3,
          2022.8
         ],
         "showgrid": false,
         "tick0": 2010,
         "tickcolor": "#54565B"
        },
        "yaxis": {
         "range": [
          0,
          315
         ],
         "tick0": 0,
         "tickformat": ",.0f",
         "title": {
          "text": ""
         }
        }
       }
      }
     },
     "metadata": {},
     "output_type": "display_data"
    },
    {
     "data": {
      "application/vnd.plotly.v1+json": {
       "config": {
        "plotlyServerURL": "https://plot.ly"
       },
       "data": [
        {
         "customdata": [
          "community sentence",
          "community sentence",
          "community sentence",
          "community sentence",
          "community sentence",
          "community sentence",
          "community sentence",
          "community sentence",
          "community sentence",
          "community sentence",
          "community sentence",
          "community sentence",
          "community sentence"
         ],
         "hovertemplate": "%{y} %{customdata}<extra></extra>",
         "name": "Community sentence",
         "type": "bar",
         "x": [
          2010,
          2011,
          2012,
          2013,
          2014,
          2015,
          2016,
          2017,
          2018,
          2019,
          2020,
          2021,
          2022
         ],
         "y": [
          287,
          345,
          274,
          245,
          241,
          223,
          214,
          236,
          244,
          214,
          150,
          154,
          180
         ]
        },
        {
         "customdata": [
          "immediate custody",
          "immediate custody",
          "immediate custody",
          "immediate custody",
          "immediate custody",
          "immediate custody",
          "immediate custody",
          "immediate custody",
          "immediate custody",
          "immediate custody",
          "immediate custody",
          "immediate custody",
          "immediate custody"
         ],
         "hovertemplate": "%{y} %{customdata}<extra></extra>",
         "name": "Immediate custody",
         "type": "bar",
         "x": [
          2010,
          2011,
          2012,
          2013,
          2014,
          2015,
          2016,
          2017,
          2018,
          2019,
          2020,
          2021,
          2022
         ],
         "y": [
          71,
          70,
          93,
          98,
          91,
          106,
          115,
          106,
          111,
          89,
          65,
          79,
          86
         ]
        },
        {
         "customdata": [
          "suspended sentence",
          "suspended sentence",
          "suspended sentence",
          "suspended sentence",
          "suspended sentence",
          "suspended sentence",
          "suspended sentence",
          "suspended sentence",
          "suspended sentence",
          "suspended sentence",
          "suspended sentence",
          "suspended sentence",
          "suspended sentence"
         ],
         "hovertemplate": "%{y} %{customdata}<extra></extra>",
         "name": "Suspended sentence",
         "type": "bar",
         "x": [
          2010,
          2011,
          2012,
          2013,
          2014,
          2015,
          2016,
          2017,
          2018,
          2019,
          2020,
          2021,
          2022
         ],
         "y": [
          106,
          81,
          82,
          84,
          133,
          141,
          136,
          135,
          83,
          126,
          112,
          126,
          121
         ]
        }
       ],
       "layout": {
        "annotations": [
         {
          "font": {
           "size": 12
          },
          "showarrow": false,
          "text": "Source: Ministry of Justice, Criminal justice statistics",
          "x": -0.08,
          "xanchor": "left",
          "xref": "paper",
          "y": -0.19,
          "yanchor": "top",
          "yref": "paper"
         },
         {
          "align": "left",
          "font": {
           "size": 12
          },
          "showarrow": false,
          "text": "Women sentenced",
          "x": 2010,
          "xanchor": "left",
          "xref": "x",
          "y": 1.04,
          "yref": "paper"
         }
        ],
        "barmode": "group",
        "height": 360,
        "hovermode": "x",
        "legend": {
         "x": 1,
         "xanchor": "right",
         "y": 1.05,
         "yanchor": "top"
        },
        "margin": {
         "b": 75,
         "l": 63,
         "r": 20
        },
        "modebar": {
         "activecolor": "#A01D28"
        },
        "showlegend": true,
        "template": {
         "layout": {
          "colorway": [
           "#A01D28",
           "#499CC9",
           "#F9A237",
           "#6FBA3A",
           "#573D6B"
          ],
          "font": {
           "color": "#54565B",
           "family": "Helvetica Neue, Arial",
           "size": 12
          },
          "modebar": {
           "activecolor": "#A01D28"
          },
          "paper_bgcolor": "#F7F2F2",
          "plot_bgcolor": "#F7F2F2",
          "showlegend": false,
          "title": {
           "font": {
            "family": "Helvetica Neue, Arial",
            "size": 17
           },
           "y": 0.94,
           "yanchor": "bottom"
          },
          "xaxis": {
           "showgrid": false,
           "tickcolor": "#54565B"
          }
         }
        },
        "title": {
         "text": "<b>Sentencing of women in North Wales 2010–2022</b>",
         "y": 0.94,
         "yanchor": "bottom"
        },
        "width": 655,
        "xaxis": {
         "dtick": 2,
         "range": [
          2009.3,
          2022.8
         ],
         "showgrid": false,
         "tick0": 2010,
         "tickcolor": "#54565B"
        },
        "yaxis": {
         "range": [
          0,
          420
         ],
         "tick0": 0,
         "tickformat": ",.0f",
         "title": {
          "text": ""
         }
        }
       }
      }
     },
     "metadata": {},
     "output_type": "display_data"
    },
    {
     "data": {
      "application/vnd.plotly.v1+json": {
       "config": {
        "plotlyServerURL": "https://plot.ly"
       },
       "data": [
        {
         "customdata": [
          "community sentence",
          "community sentence",
          "community sentence",
          "community sentence",
          "community sentence",
          "community sentence",
          "community sentence",
          "community sentence",
          "community sentence",
          "community sentence",
          "community sentence",
          "community sentence",
          "community sentence"
         ],
         "hovertemplate": "%{y} %{customdata}<extra></extra>",
         "name": "Community sentence",
         "type": "bar",
         "x": [
          2010,
          2011,
          2012,
          2013,
          2014,
          2015,
          2016,
          2017,
          2018,
          2019,
          2020,
          2021,
          2022
         ],
         "y": [
          371,
          304,
          323,
          294,
          281,
          287,
          325,
          262,
          235,
          270,
          161,
          150,
          143
         ]
        },
        {
         "customdata": [
          "immediate custody",
          "immediate custody",
          "immediate custody",
          "immediate custody",
          "immediate custody",
          "immediate custody",
          "immediate custody",
          "immediate custody",
          "immediate custody",
          "immediate custody",
          "immediate custody",
          "immediate custody",
          "immediate custody"
         ],
         "hovertemplate": "%{y} %{customdata}<extra></extra>",
         "name": "Immediate custody",
         "type": "bar",
         "x": [
          2010,
          2011,
          2012,
          2013,
          2014,
          2015,
          2016,
          2017,
          2018,
          2019,
          2020,
          2021,
          2022
         ],
         "y": [
          88,
          88,
          101,
          78,
          82,
          78,
          83,
          90,
          88,
          95,
          82,
          52,
          52
         ]
        },
        {
         "customdata": [
          "suspended sentence",
          "suspended sentence",
          "suspended sentence",
          "suspended sentence",
          "suspended sentence",
          "suspended sentence",
          "suspended sentence",
          "suspended sentence",
          "suspended sentence",
          "suspended sentence",
          "suspended sentence",
          "suspended sentence",
          "suspended sentence"
         ],
         "hovertemplate": "%{y} %{customdata}<extra></extra>",
         "name": "Suspended sentence",
         "type": "bar",
         "x": [
          2010,
          2011,
          2012,
          2013,
          2014,
          2015,
          2016,
          2017,
          2018,
          2019,
          2020,
          2021,
          2022
         ],
         "y": [
          56,
          76,
          71,
          56,
          63,
          91,
          84,
          71,
          60,
          64,
          31,
          39,
          48
         ]
        }
       ],
       "layout": {
        "annotations": [
         {
          "font": {
           "size": 12
          },
          "showarrow": false,
          "text": "Source: Ministry of Justice, Criminal justice statistics",
          "x": -0.08,
          "xanchor": "left",
          "xref": "paper",
          "y": -0.19,
          "yanchor": "top",
          "yref": "paper"
         },
         {
          "align": "left",
          "font": {
           "size": 12
          },
          "showarrow": false,
          "text": "Women sentenced",
          "x": 2010,
          "xanchor": "left",
          "xref": "x",
          "y": 1.04,
          "yref": "paper"
         }
        ],
        "barmode": "group",
        "height": 360,
        "hovermode": "x",
        "legend": {
         "x": 1,
         "xanchor": "right",
         "y": 1.05,
         "yanchor": "top"
        },
        "margin": {
         "b": 75,
         "l": 63,
         "r": 20
        },
        "modebar": {
         "activecolor": "#A01D28"
        },
        "showlegend": true,
        "template": {
         "layout": {
          "colorway": [
           "#A01D28",
           "#499CC9",
           "#F9A237",
           "#6FBA3A",
           "#573D6B"
          ],
          "font": {
           "color": "#54565B",
           "family": "Helvetica Neue, Arial",
           "size": 12
          },
          "modebar": {
           "activecolor": "#A01D28"
          },
          "paper_bgcolor": "#F7F2F2",
          "plot_bgcolor": "#F7F2F2",
          "showlegend": false,
          "title": {
           "font": {
            "family": "Helvetica Neue, Arial",
            "size": 17
           },
           "y": 0.94,
           "yanchor": "bottom"
          },
          "xaxis": {
           "showgrid": false,
           "tickcolor": "#54565B"
          }
         }
        },
        "title": {
         "text": "<b>Sentencing of women in North Yorkshire 2010–2022</b>",
         "y": 0.94,
         "yanchor": "bottom"
        },
        "width": 655,
        "xaxis": {
         "dtick": 2,
         "range": [
          2009.3,
          2022.8
         ],
         "showgrid": false,
         "tick0": 2010,
         "tickcolor": "#54565B"
        },
        "yaxis": {
         "range": [
          0,
          420
         ],
         "tick0": 0,
         "tickformat": ",.0f",
         "title": {
          "text": ""
         }
        }
       }
      }
     },
     "metadata": {},
     "output_type": "display_data"
    },
    {
     "data": {
      "application/vnd.plotly.v1+json": {
       "config": {
        "plotlyServerURL": "https://plot.ly"
       },
       "data": [
        {
         "customdata": [
          "community sentence",
          "community sentence",
          "community sentence",
          "community sentence",
          "community sentence",
          "community sentence",
          "community sentence",
          "community sentence",
          "community sentence",
          "community sentence",
          "community sentence",
          "community sentence",
          "community sentence"
         ],
         "hovertemplate": "%{y} %{customdata}<extra></extra>",
         "name": "Community sentence",
         "type": "bar",
         "x": [
          2010,
          2011,
          2012,
          2013,
          2014,
          2015,
          2016,
          2017,
          2018,
          2019,
          2020,
          2021,
          2022
         ],
         "y": [
          247,
          244,
          185,
          182,
          144,
          172,
          161,
          164,
          176,
          162,
          108,
          137,
          151
         ]
        },
        {
         "customdata": [
          "immediate custody",
          "immediate custody",
          "immediate custody",
          "immediate custody",
          "immediate custody",
          "immediate custody",
          "immediate custody",
          "immediate custody",
          "immediate custody",
          "immediate custody",
          "immediate custody",
          "immediate custody",
          "immediate custody"
         ],
         "hovertemplate": "%{y} %{customdata}<extra></extra>",
         "name": "Immediate custody",
         "type": "bar",
         "x": [
          2010,
          2011,
          2012,
          2013,
          2014,
          2015,
          2016,
          2017,
          2018,
          2019,
          2020,
          2021,
          2022
         ],
         "y": [
          127,
          113,
          122,
          93,
          92,
          70,
          78,
          62,
          61,
          62,
          36,
          64,
          48
         ]
        },
        {
         "customdata": [
          "suspended sentence",
          "suspended sentence",
          "suspended sentence",
          "suspended sentence",
          "suspended sentence",
          "suspended sentence",
          "suspended sentence",
          "suspended sentence",
          "suspended sentence",
          "suspended sentence",
          "suspended sentence",
          "suspended sentence",
          "suspended sentence"
         ],
         "hovertemplate": "%{y} %{customdata}<extra></extra>",
         "name": "Suspended sentence",
         "type": "bar",
         "x": [
          2010,
          2011,
          2012,
          2013,
          2014,
          2015,
          2016,
          2017,
          2018,
          2019,
          2020,
          2021,
          2022
         ],
         "y": [
          89,
          115,
          84,
          85,
          79,
          102,
          97,
          71,
          60,
          62,
          53,
          65,
          68
         ]
        }
       ],
       "layout": {
        "annotations": [
         {
          "font": {
           "size": 12
          },
          "showarrow": false,
          "text": "Source: Ministry of Justice, Criminal justice statistics",
          "x": -0.08,
          "xanchor": "left",
          "xref": "paper",
          "y": -0.19,
          "yanchor": "top",
          "yref": "paper"
         },
         {
          "align": "left",
          "font": {
           "size": 12
          },
          "showarrow": false,
          "text": "Women sentenced",
          "x": 2010,
          "xanchor": "left",
          "xref": "x",
          "y": 1.04,
          "yref": "paper"
         }
        ],
        "barmode": "group",
        "height": 360,
        "hovermode": "x",
        "legend": {
         "x": 1,
         "xanchor": "right",
         "y": 1.05,
         "yanchor": "top"
        },
        "margin": {
         "b": 75,
         "l": 63,
         "r": 20
        },
        "modebar": {
         "activecolor": "#A01D28"
        },
        "showlegend": true,
        "template": {
         "layout": {
          "colorway": [
           "#A01D28",
           "#499CC9",
           "#F9A237",
           "#6FBA3A",
           "#573D6B"
          ],
          "font": {
           "color": "#54565B",
           "family": "Helvetica Neue, Arial",
           "size": 12
          },
          "modebar": {
           "activecolor": "#A01D28"
          },
          "paper_bgcolor": "#F7F2F2",
          "plot_bgcolor": "#F7F2F2",
          "showlegend": false,
          "title": {
           "font": {
            "family": "Helvetica Neue, Arial",
            "size": 17
           },
           "y": 0.94,
           "yanchor": "bottom"
          },
          "xaxis": {
           "showgrid": false,
           "tickcolor": "#54565B"
          }
         }
        },
        "title": {
         "text": "<b>Sentencing of women in Northamptonshire 2010–2022</b>",
         "y": 0.94,
         "yanchor": "bottom"
        },
        "width": 655,
        "xaxis": {
         "dtick": 2,
         "range": [
          2009.3,
          2022.8
         ],
         "showgrid": false,
         "tick0": 2010,
         "tickcolor": "#54565B"
        },
        "yaxis": {
         "range": [
          0,
          315
         ],
         "tick0": 0,
         "tickformat": ",.0f",
         "title": {
          "text": ""
         }
        }
       }
      }
     },
     "metadata": {},
     "output_type": "display_data"
    },
    {
     "data": {
      "application/vnd.plotly.v1+json": {
       "config": {
        "plotlyServerURL": "https://plot.ly"
       },
       "data": [
        {
         "customdata": [
          "community sentence",
          "community sentence",
          "community sentence",
          "community sentence",
          "community sentence",
          "community sentence",
          "community sentence",
          "community sentence",
          "community sentence",
          "community sentence",
          "community sentence",
          "community sentence",
          "community sentence"
         ],
         "hovertemplate": "%{y} %{customdata}<extra></extra>",
         "name": "Community sentence",
         "type": "bar",
         "x": [
          2010,
          2011,
          2012,
          2013,
          2014,
          2015,
          2016,
          2017,
          2018,
          2019,
          2020,
          2021,
          2022
         ],
         "y": [
          855,
          862,
          687,
          534,
          493,
          493,
          432,
          397,
          439,
          362,
          277,
          243,
          252
         ]
        },
        {
         "customdata": [
          "immediate custody",
          "immediate custody",
          "immediate custody",
          "immediate custody",
          "immediate custody",
          "immediate custody",
          "immediate custody",
          "immediate custody",
          "immediate custody",
          "immediate custody",
          "immediate custody",
          "immediate custody",
          "immediate custody"
         ],
         "hovertemplate": "%{y} %{customdata}<extra></extra>",
         "name": "Immediate custody",
         "type": "bar",
         "x": [
          2010,
          2011,
          2012,
          2013,
          2014,
          2015,
          2016,
          2017,
          2018,
          2019,
          2020,
          2021,
          2022
         ],
         "y": [
          155,
          197,
          161,
          136,
          172,
          177,
          165,
          147,
          141,
          137,
          82,
          108,
          114
         ]
        },
        {
         "customdata": [
          "suspended sentence",
          "suspended sentence",
          "suspended sentence",
          "suspended sentence",
          "suspended sentence",
          "suspended sentence",
          "suspended sentence",
          "suspended sentence",
          "suspended sentence",
          "suspended sentence",
          "suspended sentence",
          "suspended sentence",
          "suspended sentence"
         ],
         "hovertemplate": "%{y} %{customdata}<extra></extra>",
         "name": "Suspended sentence",
         "type": "bar",
         "x": [
          2010,
          2011,
          2012,
          2013,
          2014,
          2015,
          2016,
          2017,
          2018,
          2019,
          2020,
          2021,
          2022
         ],
         "y": [
          209,
          273,
          198,
          224,
          267,
          251,
          248,
          210,
          179,
          197,
          144,
          176,
          141
         ]
        }
       ],
       "layout": {
        "annotations": [
         {
          "font": {
           "size": 12
          },
          "showarrow": false,
          "text": "Source: Ministry of Justice, Criminal justice statistics",
          "x": -0.08,
          "xanchor": "left",
          "xref": "paper",
          "y": -0.19,
          "yanchor": "top",
          "yref": "paper"
         },
         {
          "align": "left",
          "font": {
           "size": 12
          },
          "showarrow": false,
          "text": "Women sentenced",
          "x": 2010,
          "xanchor": "left",
          "xref": "x",
          "y": 1.04,
          "yref": "paper"
         }
        ],
        "barmode": "group",
        "height": 360,
        "hovermode": "x",
        "legend": {
         "x": 1,
         "xanchor": "right",
         "y": 1.05,
         "yanchor": "top"
        },
        "margin": {
         "b": 75,
         "l": 63,
         "r": 20
        },
        "modebar": {
         "activecolor": "#A01D28"
        },
        "showlegend": true,
        "template": {
         "layout": {
          "colorway": [
           "#A01D28",
           "#499CC9",
           "#F9A237",
           "#6FBA3A",
           "#573D6B"
          ],
          "font": {
           "color": "#54565B",
           "family": "Helvetica Neue, Arial",
           "size": 12
          },
          "modebar": {
           "activecolor": "#A01D28"
          },
          "paper_bgcolor": "#F7F2F2",
          "plot_bgcolor": "#F7F2F2",
          "showlegend": false,
          "title": {
           "font": {
            "family": "Helvetica Neue, Arial",
            "size": 17
           },
           "y": 0.94,
           "yanchor": "bottom"
          },
          "xaxis": {
           "showgrid": false,
           "tickcolor": "#54565B"
          }
         }
        },
        "title": {
         "text": "<b>Sentencing of women in Northumbria 2010–2022</b>",
         "y": 0.94,
         "yanchor": "bottom"
        },
        "width": 655,
        "xaxis": {
         "dtick": 2,
         "range": [
          2009.3,
          2022.8
         ],
         "showgrid": false,
         "tick0": 2010,
         "tickcolor": "#54565B"
        },
        "yaxis": {
         "range": [
          0,
          909
         ],
         "tick0": 0,
         "tickformat": ",.0f",
         "title": {
          "text": ""
         }
        }
       }
      }
     },
     "metadata": {},
     "output_type": "display_data"
    },
    {
     "data": {
      "application/vnd.plotly.v1+json": {
       "config": {
        "plotlyServerURL": "https://plot.ly"
       },
       "data": [
        {
         "customdata": [
          "community sentence",
          "community sentence",
          "community sentence",
          "community sentence",
          "community sentence",
          "community sentence",
          "community sentence",
          "community sentence",
          "community sentence",
          "community sentence",
          "community sentence",
          "community sentence",
          "community sentence"
         ],
         "hovertemplate": "%{y} %{customdata}<extra></extra>",
         "name": "Community sentence",
         "type": "bar",
         "x": [
          2010,
          2011,
          2012,
          2013,
          2014,
          2015,
          2016,
          2017,
          2018,
          2019,
          2020,
          2021,
          2022
         ],
         "y": [
          549,
          537,
          413,
          354,
          316,
          351,
          284,
          273,
          283,
          277,
          128,
          191,
          215
         ]
        },
        {
         "customdata": [
          "immediate custody",
          "immediate custody",
          "immediate custody",
          "immediate custody",
          "immediate custody",
          "immediate custody",
          "immediate custody",
          "immediate custody",
          "immediate custody",
          "immediate custody",
          "immediate custody",
          "immediate custody",
          "immediate custody"
         ],
         "hovertemplate": "%{y} %{customdata}<extra></extra>",
         "name": "Immediate custody",
         "type": "bar",
         "x": [
          2010,
          2011,
          2012,
          2013,
          2014,
          2015,
          2016,
          2017,
          2018,
          2019,
          2020,
          2021,
          2022
         ],
         "y": [
          179,
          149,
          142,
          117,
          142,
          167,
          147,
          163,
          171,
          184,
          109,
          105,
          132
         ]
        },
        {
         "customdata": [
          "suspended sentence",
          "suspended sentence",
          "suspended sentence",
          "suspended sentence",
          "suspended sentence",
          "suspended sentence",
          "suspended sentence",
          "suspended sentence",
          "suspended sentence",
          "suspended sentence",
          "suspended sentence",
          "suspended sentence",
          "suspended sentence"
         ],
         "hovertemplate": "%{y} %{customdata}<extra></extra>",
         "name": "Suspended sentence",
         "type": "bar",
         "x": [
          2010,
          2011,
          2012,
          2013,
          2014,
          2015,
          2016,
          2017,
          2018,
          2019,
          2020,
          2021,
          2022
         ],
         "y": [
          163,
          160,
          155,
          159,
          229,
          242,
          241,
          216,
          165,
          209,
          140,
          180,
          185
         ]
        }
       ],
       "layout": {
        "annotations": [
         {
          "font": {
           "size": 12
          },
          "showarrow": false,
          "text": "Source: Ministry of Justice, Criminal justice statistics",
          "x": -0.08,
          "xanchor": "left",
          "xref": "paper",
          "y": -0.19,
          "yanchor": "top",
          "yref": "paper"
         },
         {
          "align": "left",
          "font": {
           "size": 12
          },
          "showarrow": false,
          "text": "Women sentenced",
          "x": 2010,
          "xanchor": "left",
          "xref": "x",
          "y": 1.04,
          "yref": "paper"
         }
        ],
        "barmode": "group",
        "height": 360,
        "hovermode": "x",
        "legend": {
         "x": 1,
         "xanchor": "right",
         "y": 1.05,
         "yanchor": "top"
        },
        "margin": {
         "b": 75,
         "l": 63,
         "r": 20
        },
        "modebar": {
         "activecolor": "#A01D28"
        },
        "showlegend": true,
        "template": {
         "layout": {
          "colorway": [
           "#A01D28",
           "#499CC9",
           "#F9A237",
           "#6FBA3A",
           "#573D6B"
          ],
          "font": {
           "color": "#54565B",
           "family": "Helvetica Neue, Arial",
           "size": 12
          },
          "modebar": {
           "activecolor": "#A01D28"
          },
          "paper_bgcolor": "#F7F2F2",
          "plot_bgcolor": "#F7F2F2",
          "showlegend": false,
          "title": {
           "font": {
            "family": "Helvetica Neue, Arial",
            "size": 17
           },
           "y": 0.94,
           "yanchor": "bottom"
          },
          "xaxis": {
           "showgrid": false,
           "tickcolor": "#54565B"
          }
         }
        },
        "title": {
         "text": "<b>Sentencing of women in Nottinghamshire 2010–2022</b>",
         "y": 0.94,
         "yanchor": "bottom"
        },
        "width": 655,
        "xaxis": {
         "dtick": 2,
         "range": [
          2009.3,
          2022.8
         ],
         "showgrid": false,
         "tick0": 2010,
         "tickcolor": "#54565B"
        },
        "yaxis": {
         "range": [
          0,
          640
         ],
         "tick0": 0,
         "tickformat": ",.0f",
         "title": {
          "text": ""
         }
        }
       }
      }
     },
     "metadata": {},
     "output_type": "display_data"
    },
    {
     "data": {
      "application/vnd.plotly.v1+json": {
       "config": {
        "plotlyServerURL": "https://plot.ly"
       },
       "data": [
        {
         "customdata": [
          "community sentence",
          "community sentence",
          "community sentence",
          "community sentence",
          "community sentence",
          "community sentence",
          "community sentence",
          "community sentence",
          "community sentence",
          "community sentence",
          "community sentence",
          "community sentence",
          "community sentence"
         ],
         "hovertemplate": "%{y} %{customdata}<extra></extra>",
         "name": "Community sentence",
         "type": "bar",
         "x": [
          2010,
          2011,
          2012,
          2013,
          2014,
          2015,
          2016,
          2017,
          2018,
          2019,
          2020,
          2021,
          2022
         ],
         "y": [
          824,
          764,
          691,
          650,
          588,
          627,
          536,
          429,
          567,
          485,
          332,
          296,
          307
         ]
        },
        {
         "customdata": [
          "immediate custody",
          "immediate custody",
          "immediate custody",
          "immediate custody",
          "immediate custody",
          "immediate custody",
          "immediate custody",
          "immediate custody",
          "immediate custody",
          "immediate custody",
          "immediate custody",
          "immediate custody",
          "immediate custody"
         ],
         "hovertemplate": "%{y} %{customdata}<extra></extra>",
         "name": "Immediate custody",
         "type": "bar",
         "x": [
          2010,
          2011,
          2012,
          2013,
          2014,
          2015,
          2016,
          2017,
          2018,
          2019,
          2020,
          2021,
          2022
         ],
         "y": [
          317,
          324,
          288,
          341,
          343,
          327,
          387,
          351,
          362,
          340,
          249,
          243,
          165
         ]
        },
        {
         "customdata": [
          "suspended sentence",
          "suspended sentence",
          "suspended sentence",
          "suspended sentence",
          "suspended sentence",
          "suspended sentence",
          "suspended sentence",
          "suspended sentence",
          "suspended sentence",
          "suspended sentence",
          "suspended sentence",
          "suspended sentence",
          "suspended sentence"
         ],
         "hovertemplate": "%{y} %{customdata}<extra></extra>",
         "name": "Suspended sentence",
         "type": "bar",
         "x": [
          2010,
          2011,
          2012,
          2013,
          2014,
          2015,
          2016,
          2017,
          2018,
          2019,
          2020,
          2021,
          2022
         ],
         "y": [
          276,
          289,
          273,
          314,
          353,
          408,
          313,
          335,
          314,
          320,
          284,
          303,
          174
         ]
        }
       ],
       "layout": {
        "annotations": [
         {
          "font": {
           "size": 12
          },
          "showarrow": false,
          "text": "Source: Ministry of Justice, Criminal justice statistics",
          "x": -0.08,
          "xanchor": "left",
          "xref": "paper",
          "y": -0.19,
          "yanchor": "top",
          "yref": "paper"
         },
         {
          "align": "left",
          "font": {
           "size": 12
          },
          "showarrow": false,
          "text": "Women sentenced",
          "x": 2010,
          "xanchor": "left",
          "xref": "x",
          "y": 1.04,
          "yref": "paper"
         }
        ],
        "barmode": "group",
        "height": 360,
        "hovermode": "x",
        "legend": {
         "x": 1,
         "xanchor": "right",
         "y": 1.05,
         "yanchor": "top"
        },
        "margin": {
         "b": 75,
         "l": 63,
         "r": 20
        },
        "modebar": {
         "activecolor": "#A01D28"
        },
        "showlegend": true,
        "template": {
         "layout": {
          "colorway": [
           "#A01D28",
           "#499CC9",
           "#F9A237",
           "#6FBA3A",
           "#573D6B"
          ],
          "font": {
           "color": "#54565B",
           "family": "Helvetica Neue, Arial",
           "size": 12
          },
          "modebar": {
           "activecolor": "#A01D28"
          },
          "paper_bgcolor": "#F7F2F2",
          "plot_bgcolor": "#F7F2F2",
          "showlegend": false,
          "title": {
           "font": {
            "family": "Helvetica Neue, Arial",
            "size": 17
           },
           "y": 0.94,
           "yanchor": "bottom"
          },
          "xaxis": {
           "showgrid": false,
           "tickcolor": "#54565B"
          }
         }
        },
        "title": {
         "text": "<b>Sentencing of women in South Wales 2010–2022</b>",
         "y": 0.94,
         "yanchor": "bottom"
        },
        "width": 655,
        "xaxis": {
         "dtick": 2,
         "range": [
          2009.3,
          2022.8
         ],
         "showgrid": false,
         "tick0": 2010,
         "tickcolor": "#54565B"
        },
        "yaxis": {
         "range": [
          0,
          830
         ],
         "tick0": 0,
         "tickformat": ",.0f",
         "title": {
          "text": ""
         }
        }
       }
      }
     },
     "metadata": {},
     "output_type": "display_data"
    },
    {
     "data": {
      "application/vnd.plotly.v1+json": {
       "config": {
        "plotlyServerURL": "https://plot.ly"
       },
       "data": [
        {
         "customdata": [
          "community sentence",
          "community sentence",
          "community sentence",
          "community sentence",
          "community sentence",
          "community sentence",
          "community sentence",
          "community sentence",
          "community sentence",
          "community sentence",
          "community sentence",
          "community sentence",
          "community sentence"
         ],
         "hovertemplate": "%{y} %{customdata}<extra></extra>",
         "name": "Community sentence",
         "type": "bar",
         "x": [
          2010,
          2011,
          2012,
          2013,
          2014,
          2015,
          2016,
          2017,
          2018,
          2019,
          2020,
          2021,
          2022
         ],
         "y": [
          639,
          723,
          574,
          565,
          579,
          627,
          454,
          452,
          384,
          324,
          235,
          275,
          316
         ]
        },
        {
         "customdata": [
          "immediate custody",
          "immediate custody",
          "immediate custody",
          "immediate custody",
          "immediate custody",
          "immediate custody",
          "immediate custody",
          "immediate custody",
          "immediate custody",
          "immediate custody",
          "immediate custody",
          "immediate custody",
          "immediate custody"
         ],
         "hovertemplate": "%{y} %{customdata}<extra></extra>",
         "name": "Immediate custody",
         "type": "bar",
         "x": [
          2010,
          2011,
          2012,
          2013,
          2014,
          2015,
          2016,
          2017,
          2018,
          2019,
          2020,
          2021,
          2022
         ],
         "y": [
          201,
          228,
          199,
          267,
          245,
          229,
          194,
          218,
          153,
          172,
          138,
          98,
          107
         ]
        },
        {
         "customdata": [
          "suspended sentence",
          "suspended sentence",
          "suspended sentence",
          "suspended sentence",
          "suspended sentence",
          "suspended sentence",
          "suspended sentence",
          "suspended sentence",
          "suspended sentence",
          "suspended sentence",
          "suspended sentence",
          "suspended sentence",
          "suspended sentence"
         ],
         "hovertemplate": "%{y} %{customdata}<extra></extra>",
         "name": "Suspended sentence",
         "type": "bar",
         "x": [
          2010,
          2011,
          2012,
          2013,
          2014,
          2015,
          2016,
          2017,
          2018,
          2019,
          2020,
          2021,
          2022
         ],
         "y": [
          174,
          161,
          173,
          170,
          200,
          237,
          223,
          203,
          155,
          115,
          120,
          137,
          145
         ]
        }
       ],
       "layout": {
        "annotations": [
         {
          "font": {
           "size": 12
          },
          "showarrow": false,
          "text": "Source: Ministry of Justice, Criminal justice statistics",
          "x": -0.08,
          "xanchor": "left",
          "xref": "paper",
          "y": -0.19,
          "yanchor": "top",
          "yref": "paper"
         },
         {
          "align": "left",
          "font": {
           "size": 12
          },
          "showarrow": false,
          "text": "Women sentenced",
          "x": 2010,
          "xanchor": "left",
          "xref": "x",
          "y": 1.04,
          "yref": "paper"
         }
        ],
        "barmode": "group",
        "height": 360,
        "hovermode": "x",
        "legend": {
         "x": 1,
         "xanchor": "right",
         "y": 1.05,
         "yanchor": "top"
        },
        "margin": {
         "b": 75,
         "l": 63,
         "r": 20
        },
        "modebar": {
         "activecolor": "#A01D28"
        },
        "showlegend": true,
        "template": {
         "layout": {
          "colorway": [
           "#A01D28",
           "#499CC9",
           "#F9A237",
           "#6FBA3A",
           "#573D6B"
          ],
          "font": {
           "color": "#54565B",
           "family": "Helvetica Neue, Arial",
           "size": 12
          },
          "modebar": {
           "activecolor": "#A01D28"
          },
          "paper_bgcolor": "#F7F2F2",
          "plot_bgcolor": "#F7F2F2",
          "showlegend": false,
          "title": {
           "font": {
            "family": "Helvetica Neue, Arial",
            "size": 17
           },
           "y": 0.94,
           "yanchor": "bottom"
          },
          "xaxis": {
           "showgrid": false,
           "tickcolor": "#54565B"
          }
         }
        },
        "title": {
         "text": "<b>Sentencing of women in South Yorkshire 2010–2022</b>",
         "y": 0.94,
         "yanchor": "bottom"
        },
        "width": 655,
        "xaxis": {
         "dtick": 2,
         "range": [
          2009.3,
          2022.8
         ],
         "showgrid": false,
         "tick0": 2010,
         "tickcolor": "#54565B"
        },
        "yaxis": {
         "range": [
          0,
          830
         ],
         "tick0": 0,
         "tickformat": ",.0f",
         "title": {
          "text": ""
         }
        }
       }
      }
     },
     "metadata": {},
     "output_type": "display_data"
    },
    {
     "data": {
      "application/vnd.plotly.v1+json": {
       "config": {
        "plotlyServerURL": "https://plot.ly"
       },
       "data": [
        {
         "customdata": [
          "community sentence",
          "community sentence",
          "community sentence",
          "community sentence",
          "community sentence",
          "community sentence",
          "community sentence",
          "community sentence",
          "community sentence",
          "community sentence",
          "community sentence",
          "community sentence",
          "community sentence"
         ],
         "hovertemplate": "%{y} %{customdata}<extra></extra>",
         "name": "Community sentence",
         "type": "bar",
         "x": [
          2010,
          2011,
          2012,
          2013,
          2014,
          2015,
          2016,
          2017,
          2018,
          2019,
          2020,
          2021,
          2022
         ],
         "y": [
          427,
          405,
          369,
          299,
          250,
          274,
          248,
          184,
          185,
          231,
          110,
          122,
          165
         ]
        },
        {
         "customdata": [
          "immediate custody",
          "immediate custody",
          "immediate custody",
          "immediate custody",
          "immediate custody",
          "immediate custody",
          "immediate custody",
          "immediate custody",
          "immediate custody",
          "immediate custody",
          "immediate custody",
          "immediate custody",
          "immediate custody"
         ],
         "hovertemplate": "%{y} %{customdata}<extra></extra>",
         "name": "Immediate custody",
         "type": "bar",
         "x": [
          2010,
          2011,
          2012,
          2013,
          2014,
          2015,
          2016,
          2017,
          2018,
          2019,
          2020,
          2021,
          2022
         ],
         "y": [
          145,
          141,
          142,
          101,
          124,
          126,
          113,
          128,
          114,
          132,
          88,
          96,
          78
         ]
        },
        {
         "customdata": [
          "suspended sentence",
          "suspended sentence",
          "suspended sentence",
          "suspended sentence",
          "suspended sentence",
          "suspended sentence",
          "suspended sentence",
          "suspended sentence",
          "suspended sentence",
          "suspended sentence",
          "suspended sentence",
          "suspended sentence",
          "suspended sentence"
         ],
         "hovertemplate": "%{y} %{customdata}<extra></extra>",
         "name": "Suspended sentence",
         "type": "bar",
         "x": [
          2010,
          2011,
          2012,
          2013,
          2014,
          2015,
          2016,
          2017,
          2018,
          2019,
          2020,
          2021,
          2022
         ],
         "y": [
          121,
          136,
          117,
          98,
          123,
          129,
          134,
          135,
          102,
          108,
          77,
          87,
          90
         ]
        }
       ],
       "layout": {
        "annotations": [
         {
          "font": {
           "size": 12
          },
          "showarrow": false,
          "text": "Source: Ministry of Justice, Criminal justice statistics",
          "x": -0.08,
          "xanchor": "left",
          "xref": "paper",
          "y": -0.19,
          "yanchor": "top",
          "yref": "paper"
         },
         {
          "align": "left",
          "font": {
           "size": 12
          },
          "showarrow": false,
          "text": "Women sentenced",
          "x": 2010,
          "xanchor": "left",
          "xref": "x",
          "y": 1.04,
          "yref": "paper"
         }
        ],
        "barmode": "group",
        "height": 360,
        "hovermode": "x",
        "legend": {
         "x": 1,
         "xanchor": "right",
         "y": 1.05,
         "yanchor": "top"
        },
        "margin": {
         "b": 75,
         "l": 63,
         "r": 20
        },
        "modebar": {
         "activecolor": "#A01D28"
        },
        "showlegend": true,
        "template": {
         "layout": {
          "colorway": [
           "#A01D28",
           "#499CC9",
           "#F9A237",
           "#6FBA3A",
           "#573D6B"
          ],
          "font": {
           "color": "#54565B",
           "family": "Helvetica Neue, Arial",
           "size": 12
          },
          "modebar": {
           "activecolor": "#A01D28"
          },
          "paper_bgcolor": "#F7F2F2",
          "plot_bgcolor": "#F7F2F2",
          "showlegend": false,
          "title": {
           "font": {
            "family": "Helvetica Neue, Arial",
            "size": 17
           },
           "y": 0.94,
           "yanchor": "bottom"
          },
          "xaxis": {
           "showgrid": false,
           "tickcolor": "#54565B"
          }
         }
        },
        "title": {
         "text": "<b>Sentencing of women in Staffordshire 2010–2022</b>",
         "y": 0.94,
         "yanchor": "bottom"
        },
        "width": 655,
        "xaxis": {
         "dtick": 2,
         "range": [
          2009.3,
          2022.8
         ],
         "showgrid": false,
         "tick0": 2010,
         "tickcolor": "#54565B"
        },
        "yaxis": {
         "range": [
          0,
          540
         ],
         "tick0": 0,
         "tickformat": ",.0f",
         "title": {
          "text": ""
         }
        }
       }
      }
     },
     "metadata": {},
     "output_type": "display_data"
    },
    {
     "data": {
      "application/vnd.plotly.v1+json": {
       "config": {
        "plotlyServerURL": "https://plot.ly"
       },
       "data": [
        {
         "customdata": [
          "community sentence",
          "community sentence",
          "community sentence",
          "community sentence",
          "community sentence",
          "community sentence",
          "community sentence",
          "community sentence",
          "community sentence",
          "community sentence",
          "community sentence",
          "community sentence",
          "community sentence"
         ],
         "hovertemplate": "%{y} %{customdata}<extra></extra>",
         "name": "Community sentence",
         "type": "bar",
         "x": [
          2010,
          2011,
          2012,
          2013,
          2014,
          2015,
          2016,
          2017,
          2018,
          2019,
          2020,
          2021,
          2022
         ],
         "y": [
          229,
          207,
          210,
          185,
          180,
          142,
          76,
          80,
          89,
          107,
          64,
          107,
          87
         ]
        },
        {
         "customdata": [
          "immediate custody",
          "immediate custody",
          "immediate custody",
          "immediate custody",
          "immediate custody",
          "immediate custody",
          "immediate custody",
          "immediate custody",
          "immediate custody",
          "immediate custody",
          "immediate custody",
          "immediate custody",
          "immediate custody"
         ],
         "hovertemplate": "%{y} %{customdata}<extra></extra>",
         "name": "Immediate custody",
         "type": "bar",
         "x": [
          2010,
          2011,
          2012,
          2013,
          2014,
          2015,
          2016,
          2017,
          2018,
          2019,
          2020,
          2021,
          2022
         ],
         "y": [
          51,
          76,
          42,
          64,
          79,
          73,
          49,
          72,
          53,
          38,
          39,
          42,
          36
         ]
        },
        {
         "customdata": [
          "suspended sentence",
          "suspended sentence",
          "suspended sentence",
          "suspended sentence",
          "suspended sentence",
          "suspended sentence",
          "suspended sentence",
          "suspended sentence",
          "suspended sentence",
          "suspended sentence",
          "suspended sentence",
          "suspended sentence",
          "suspended sentence"
         ],
         "hovertemplate": "%{y} %{customdata}<extra></extra>",
         "name": "Suspended sentence",
         "type": "bar",
         "x": [
          2010,
          2011,
          2012,
          2013,
          2014,
          2015,
          2016,
          2017,
          2018,
          2019,
          2020,
          2021,
          2022
         ],
         "y": [
          70,
          87,
          77,
          74,
          113,
          93,
          79,
          91,
          61,
          41,
          49,
          74,
          75
         ]
        }
       ],
       "layout": {
        "annotations": [
         {
          "font": {
           "size": 12
          },
          "showarrow": false,
          "text": "Source: Ministry of Justice, Criminal justice statistics",
          "x": -0.08,
          "xanchor": "left",
          "xref": "paper",
          "y": -0.19,
          "yanchor": "top",
          "yref": "paper"
         },
         {
          "align": "left",
          "font": {
           "size": 12
          },
          "showarrow": false,
          "text": "Women sentenced",
          "x": 2010,
          "xanchor": "left",
          "xref": "x",
          "y": 1.04,
          "yref": "paper"
         }
        ],
        "barmode": "group",
        "height": 360,
        "hovermode": "x",
        "legend": {
         "x": 1,
         "xanchor": "right",
         "y": 1.05,
         "yanchor": "top"
        },
        "margin": {
         "b": 75,
         "l": 63,
         "r": 20
        },
        "modebar": {
         "activecolor": "#A01D28"
        },
        "showlegend": true,
        "template": {
         "layout": {
          "colorway": [
           "#A01D28",
           "#499CC9",
           "#F9A237",
           "#6FBA3A",
           "#573D6B"
          ],
          "font": {
           "color": "#54565B",
           "family": "Helvetica Neue, Arial",
           "size": 12
          },
          "modebar": {
           "activecolor": "#A01D28"
          },
          "paper_bgcolor": "#F7F2F2",
          "plot_bgcolor": "#F7F2F2",
          "showlegend": false,
          "title": {
           "font": {
            "family": "Helvetica Neue, Arial",
            "size": 17
           },
           "y": 0.94,
           "yanchor": "bottom"
          },
          "xaxis": {
           "showgrid": false,
           "tickcolor": "#54565B"
          }
         }
        },
        "title": {
         "text": "<b>Sentencing of women in Suffolk 2010–2022</b>",
         "y": 0.94,
         "yanchor": "bottom"
        },
        "width": 655,
        "xaxis": {
         "dtick": 2,
         "range": [
          2009.3,
          2022.8
         ],
         "showgrid": false,
         "tick0": 2010,
         "tickcolor": "#54565B"
        },
        "yaxis": {
         "range": [
          0,
          315
         ],
         "tick0": 0,
         "tickformat": ",.0f",
         "title": {
          "text": ""
         }
        }
       }
      }
     },
     "metadata": {},
     "output_type": "display_data"
    },
    {
     "data": {
      "application/vnd.plotly.v1+json": {
       "config": {
        "plotlyServerURL": "https://plot.ly"
       },
       "data": [
        {
         "customdata": [
          "community sentence",
          "community sentence",
          "community sentence",
          "community sentence",
          "community sentence",
          "community sentence",
          "community sentence",
          "community sentence",
          "community sentence",
          "community sentence",
          "community sentence",
          "community sentence",
          "community sentence"
         ],
         "hovertemplate": "%{y} %{customdata}<extra></extra>",
         "name": "Community sentence",
         "type": "bar",
         "x": [
          2010,
          2011,
          2012,
          2013,
          2014,
          2015,
          2016,
          2017,
          2018,
          2019,
          2020,
          2021,
          2022
         ],
         "y": [
          250,
          262,
          234,
          254,
          168,
          204,
          166,
          167,
          165,
          162,
          110,
          123,
          133
         ]
        },
        {
         "customdata": [
          "immediate custody",
          "immediate custody",
          "immediate custody",
          "immediate custody",
          "immediate custody",
          "immediate custody",
          "immediate custody",
          "immediate custody",
          "immediate custody",
          "immediate custody",
          "immediate custody",
          "immediate custody",
          "immediate custody"
         ],
         "hovertemplate": "%{y} %{customdata}<extra></extra>",
         "name": "Immediate custody",
         "type": "bar",
         "x": [
          2010,
          2011,
          2012,
          2013,
          2014,
          2015,
          2016,
          2017,
          2018,
          2019,
          2020,
          2021,
          2022
         ],
         "y": [
          91,
          99,
          113,
          82,
          90,
          63,
          63,
          76,
          44,
          42,
          29,
          34,
          19
         ]
        },
        {
         "customdata": [
          "suspended sentence",
          "suspended sentence",
          "suspended sentence",
          "suspended sentence",
          "suspended sentence",
          "suspended sentence",
          "suspended sentence",
          "suspended sentence",
          "suspended sentence",
          "suspended sentence",
          "suspended sentence",
          "suspended sentence",
          "suspended sentence"
         ],
         "hovertemplate": "%{y} %{customdata}<extra></extra>",
         "name": "Suspended sentence",
         "type": "bar",
         "x": [
          2010,
          2011,
          2012,
          2013,
          2014,
          2015,
          2016,
          2017,
          2018,
          2019,
          2020,
          2021,
          2022
         ],
         "y": [
          77,
          104,
          72,
          99,
          115,
          110,
          100,
          69,
          76,
          66,
          53,
          50,
          28
         ]
        }
       ],
       "layout": {
        "annotations": [
         {
          "font": {
           "size": 12
          },
          "showarrow": false,
          "text": "Source: Ministry of Justice, Criminal justice statistics",
          "x": -0.08,
          "xanchor": "left",
          "xref": "paper",
          "y": -0.19,
          "yanchor": "top",
          "yref": "paper"
         },
         {
          "align": "left",
          "font": {
           "size": 12
          },
          "showarrow": false,
          "text": "Women sentenced",
          "x": 2010,
          "xanchor": "left",
          "xref": "x",
          "y": 1.04,
          "yref": "paper"
         }
        ],
        "barmode": "group",
        "height": 360,
        "hovermode": "x",
        "legend": {
         "x": 1,
         "xanchor": "right",
         "y": 1.05,
         "yanchor": "top"
        },
        "margin": {
         "b": 75,
         "l": 63,
         "r": 20
        },
        "modebar": {
         "activecolor": "#A01D28"
        },
        "showlegend": true,
        "template": {
         "layout": {
          "colorway": [
           "#A01D28",
           "#499CC9",
           "#F9A237",
           "#6FBA3A",
           "#573D6B"
          ],
          "font": {
           "color": "#54565B",
           "family": "Helvetica Neue, Arial",
           "size": 12
          },
          "modebar": {
           "activecolor": "#A01D28"
          },
          "paper_bgcolor": "#F7F2F2",
          "plot_bgcolor": "#F7F2F2",
          "showlegend": false,
          "title": {
           "font": {
            "family": "Helvetica Neue, Arial",
            "size": 17
           },
           "y": 0.94,
           "yanchor": "bottom"
          },
          "xaxis": {
           "showgrid": false,
           "tickcolor": "#54565B"
          }
         }
        },
        "title": {
         "text": "<b>Sentencing of women in Surrey 2010–2022</b>",
         "y": 0.94,
         "yanchor": "bottom"
        },
        "width": 655,
        "xaxis": {
         "dtick": 2,
         "range": [
          2009.3,
          2022.8
         ],
         "showgrid": false,
         "tick0": 2010,
         "tickcolor": "#54565B"
        },
        "yaxis": {
         "range": [
          0,
          315
         ],
         "tick0": 0,
         "tickformat": ",.0f",
         "title": {
          "text": ""
         }
        }
       }
      }
     },
     "metadata": {},
     "output_type": "display_data"
    },
    {
     "data": {
      "application/vnd.plotly.v1+json": {
       "config": {
        "plotlyServerURL": "https://plot.ly"
       },
       "data": [
        {
         "customdata": [
          "community sentence",
          "community sentence",
          "community sentence",
          "community sentence",
          "community sentence",
          "community sentence",
          "community sentence",
          "community sentence",
          "community sentence",
          "community sentence",
          "community sentence",
          "community sentence",
          "community sentence"
         ],
         "hovertemplate": "%{y} %{customdata}<extra></extra>",
         "name": "Community sentence",
         "type": "bar",
         "x": [
          2010,
          2011,
          2012,
          2013,
          2014,
          2015,
          2016,
          2017,
          2018,
          2019,
          2020,
          2021,
          2022
         ],
         "y": [
          568,
          561,
          490,
          367,
          320,
          350,
          326,
          341,
          328,
          279,
          183,
          220,
          250
         ]
        },
        {
         "customdata": [
          "immediate custody",
          "immediate custody",
          "immediate custody",
          "immediate custody",
          "immediate custody",
          "immediate custody",
          "immediate custody",
          "immediate custody",
          "immediate custody",
          "immediate custody",
          "immediate custody",
          "immediate custody",
          "immediate custody"
         ],
         "hovertemplate": "%{y} %{customdata}<extra></extra>",
         "name": "Immediate custody",
         "type": "bar",
         "x": [
          2010,
          2011,
          2012,
          2013,
          2014,
          2015,
          2016,
          2017,
          2018,
          2019,
          2020,
          2021,
          2022
         ],
         "y": [
          250,
          231,
          194,
          144,
          131,
          160,
          129,
          104,
          97,
          85,
          66,
          65,
          62
         ]
        },
        {
         "customdata": [
          "suspended sentence",
          "suspended sentence",
          "suspended sentence",
          "suspended sentence",
          "suspended sentence",
          "suspended sentence",
          "suspended sentence",
          "suspended sentence",
          "suspended sentence",
          "suspended sentence",
          "suspended sentence",
          "suspended sentence",
          "suspended sentence"
         ],
         "hovertemplate": "%{y} %{customdata}<extra></extra>",
         "name": "Suspended sentence",
         "type": "bar",
         "x": [
          2010,
          2011,
          2012,
          2013,
          2014,
          2015,
          2016,
          2017,
          2018,
          2019,
          2020,
          2021,
          2022
         ],
         "y": [
          167,
          142,
          144,
          150,
          200,
          176,
          166,
          142,
          118,
          107,
          96,
          103,
          105
         ]
        }
       ],
       "layout": {
        "annotations": [
         {
          "font": {
           "size": 12
          },
          "showarrow": false,
          "text": "Source: Ministry of Justice, Criminal justice statistics",
          "x": -0.08,
          "xanchor": "left",
          "xref": "paper",
          "y": -0.19,
          "yanchor": "top",
          "yref": "paper"
         },
         {
          "align": "left",
          "font": {
           "size": 12
          },
          "showarrow": false,
          "text": "Women sentenced",
          "x": 2010,
          "xanchor": "left",
          "xref": "x",
          "y": 1.04,
          "yref": "paper"
         }
        ],
        "barmode": "group",
        "height": 360,
        "hovermode": "x",
        "legend": {
         "x": 1,
         "xanchor": "right",
         "y": 1.05,
         "yanchor": "top"
        },
        "margin": {
         "b": 75,
         "l": 63,
         "r": 20
        },
        "modebar": {
         "activecolor": "#A01D28"
        },
        "showlegend": true,
        "template": {
         "layout": {
          "colorway": [
           "#A01D28",
           "#499CC9",
           "#F9A237",
           "#6FBA3A",
           "#573D6B"
          ],
          "font": {
           "color": "#54565B",
           "family": "Helvetica Neue, Arial",
           "size": 12
          },
          "modebar": {
           "activecolor": "#A01D28"
          },
          "paper_bgcolor": "#F7F2F2",
          "plot_bgcolor": "#F7F2F2",
          "showlegend": false,
          "title": {
           "font": {
            "family": "Helvetica Neue, Arial",
            "size": 17
           },
           "y": 0.94,
           "yanchor": "bottom"
          },
          "xaxis": {
           "showgrid": false,
           "tickcolor": "#54565B"
          }
         }
        },
        "title": {
         "text": "<b>Sentencing of women in Sussex 2010–2022</b>",
         "y": 0.94,
         "yanchor": "bottom"
        },
        "width": 655,
        "xaxis": {
         "dtick": 2,
         "range": [
          2009.3,
          2022.8
         ],
         "showgrid": false,
         "tick0": 2010,
         "tickcolor": "#54565B"
        },
        "yaxis": {
         "range": [
          0,
          640
         ],
         "tick0": 0,
         "tickformat": ",.0f",
         "title": {
          "text": ""
         }
        }
       }
      }
     },
     "metadata": {},
     "output_type": "display_data"
    },
    {
     "data": {
      "application/vnd.plotly.v1+json": {
       "config": {
        "plotlyServerURL": "https://plot.ly"
       },
       "data": [
        {
         "customdata": [
          "community sentence",
          "community sentence",
          "community sentence",
          "community sentence",
          "community sentence",
          "community sentence",
          "community sentence",
          "community sentence",
          "community sentence",
          "community sentence",
          "community sentence",
          "community sentence",
          "community sentence"
         ],
         "hovertemplate": "%{y} %{customdata}<extra></extra>",
         "name": "Community sentence",
         "type": "bar",
         "x": [
          2010,
          2011,
          2012,
          2013,
          2014,
          2015,
          2016,
          2017,
          2018,
          2019,
          2020,
          2021,
          2022
         ],
         "y": [
          612,
          596,
          605,
          448,
          421,
          456,
          422,
          400,
          378,
          372,
          249,
          338,
          343
         ]
        },
        {
         "customdata": [
          "immediate custody",
          "immediate custody",
          "immediate custody",
          "immediate custody",
          "immediate custody",
          "immediate custody",
          "immediate custody",
          "immediate custody",
          "immediate custody",
          "immediate custody",
          "immediate custody",
          "immediate custody",
          "immediate custody"
         ],
         "hovertemplate": "%{y} %{customdata}<extra></extra>",
         "name": "Immediate custody",
         "type": "bar",
         "x": [
          2010,
          2011,
          2012,
          2013,
          2014,
          2015,
          2016,
          2017,
          2018,
          2019,
          2020,
          2021,
          2022
         ],
         "y": [
          240,
          250,
          209,
          202,
          213,
          255,
          221,
          225,
          194,
          160,
          101,
          142,
          143
         ]
        },
        {
         "customdata": [
          "suspended sentence",
          "suspended sentence",
          "suspended sentence",
          "suspended sentence",
          "suspended sentence",
          "suspended sentence",
          "suspended sentence",
          "suspended sentence",
          "suspended sentence",
          "suspended sentence",
          "suspended sentence",
          "suspended sentence",
          "suspended sentence"
         ],
         "hovertemplate": "%{y} %{customdata}<extra></extra>",
         "name": "Suspended sentence",
         "type": "bar",
         "x": [
          2010,
          2011,
          2012,
          2013,
          2014,
          2015,
          2016,
          2017,
          2018,
          2019,
          2020,
          2021,
          2022
         ],
         "y": [
          182,
          204,
          187,
          194,
          200,
          283,
          261,
          226,
          182,
          136,
          114,
          139,
          136
         ]
        }
       ],
       "layout": {
        "annotations": [
         {
          "font": {
           "size": 12
          },
          "showarrow": false,
          "text": "Source: Ministry of Justice, Criminal justice statistics",
          "x": -0.08,
          "xanchor": "left",
          "xref": "paper",
          "y": -0.19,
          "yanchor": "top",
          "yref": "paper"
         },
         {
          "align": "left",
          "font": {
           "size": 12
          },
          "showarrow": false,
          "text": "Women sentenced",
          "x": 2010,
          "xanchor": "left",
          "xref": "x",
          "y": 1.04,
          "yref": "paper"
         }
        ],
        "barmode": "group",
        "height": 360,
        "hovermode": "x",
        "legend": {
         "x": 1,
         "xanchor": "right",
         "y": 1.05,
         "yanchor": "top"
        },
        "margin": {
         "b": 75,
         "l": 63,
         "r": 20
        },
        "modebar": {
         "activecolor": "#A01D28"
        },
        "showlegend": true,
        "template": {
         "layout": {
          "colorway": [
           "#A01D28",
           "#499CC9",
           "#F9A237",
           "#6FBA3A",
           "#573D6B"
          ],
          "font": {
           "color": "#54565B",
           "family": "Helvetica Neue, Arial",
           "size": 12
          },
          "modebar": {
           "activecolor": "#A01D28"
          },
          "paper_bgcolor": "#F7F2F2",
          "plot_bgcolor": "#F7F2F2",
          "showlegend": false,
          "title": {
           "font": {
            "family": "Helvetica Neue, Arial",
            "size": 17
           },
           "y": 0.94,
           "yanchor": "bottom"
          },
          "xaxis": {
           "showgrid": false,
           "tickcolor": "#54565B"
          }
         }
        },
        "title": {
         "text": "<b>Sentencing of women in Thames Valley 2010–2022</b>",
         "y": 0.94,
         "yanchor": "bottom"
        },
        "width": 655,
        "xaxis": {
         "dtick": 2,
         "range": [
          2009.3,
          2022.8
         ],
         "showgrid": false,
         "tick0": 2010,
         "tickcolor": "#54565B"
        },
        "yaxis": {
         "range": [
          0,
          640
         ],
         "tick0": 0,
         "tickformat": ",.0f",
         "title": {
          "text": ""
         }
        }
       }
      }
     },
     "metadata": {},
     "output_type": "display_data"
    },
    {
     "data": {
      "application/vnd.plotly.v1+json": {
       "config": {
        "plotlyServerURL": "https://plot.ly"
       },
       "data": [
        {
         "customdata": [
          "community sentence",
          "community sentence",
          "community sentence",
          "community sentence",
          "community sentence",
          "community sentence",
          "community sentence",
          "community sentence",
          "community sentence",
          "community sentence",
          "community sentence",
          "community sentence",
          "community sentence"
         ],
         "hovertemplate": "%{y} %{customdata}<extra></extra>",
         "name": "Community sentence",
         "type": "bar",
         "x": [
          2010,
          2011,
          2012,
          2013,
          2014,
          2015,
          2016,
          2017,
          2018,
          2019,
          2020,
          2021,
          2022
         ],
         "y": [
          157,
          130,
          140,
          111,
          108,
          115,
          122,
          94,
          87,
          92,
          42,
          29,
          15
         ]
        },
        {
         "customdata": [
          "immediate custody",
          "immediate custody",
          "immediate custody",
          "immediate custody",
          "immediate custody",
          "immediate custody",
          "immediate custody",
          "immediate custody",
          "immediate custody",
          "immediate custody",
          "immediate custody",
          "immediate custody",
          "immediate custody"
         ],
         "hovertemplate": "%{y} %{customdata}<extra></extra>",
         "name": "Immediate custody",
         "type": "bar",
         "x": [
          2010,
          2011,
          2012,
          2013,
          2014,
          2015,
          2016,
          2017,
          2018,
          2019,
          2020,
          2021,
          2022
         ],
         "y": [
          25,
          39,
          37,
          40,
          41,
          57,
          60,
          67,
          31,
          46,
          38,
          28,
          41
         ]
        },
        {
         "customdata": [
          "suspended sentence",
          "suspended sentence",
          "suspended sentence",
          "suspended sentence",
          "suspended sentence",
          "suspended sentence",
          "suspended sentence",
          "suspended sentence",
          "suspended sentence",
          "suspended sentence",
          "suspended sentence",
          "suspended sentence",
          "suspended sentence"
         ],
         "hovertemplate": "%{y} %{customdata}<extra></extra>",
         "name": "Suspended sentence",
         "type": "bar",
         "x": [
          2010,
          2011,
          2012,
          2013,
          2014,
          2015,
          2016,
          2017,
          2018,
          2019,
          2020,
          2021,
          2022
         ],
         "y": [
          37,
          25,
          31,
          34,
          55,
          50,
          71,
          55,
          44,
          38,
          35,
          34,
          32
         ]
        }
       ],
       "layout": {
        "annotations": [
         {
          "font": {
           "size": 12
          },
          "showarrow": false,
          "text": "Source: Ministry of Justice, Criminal justice statistics",
          "x": -0.08,
          "xanchor": "left",
          "xref": "paper",
          "y": -0.19,
          "yanchor": "top",
          "yref": "paper"
         },
         {
          "align": "left",
          "font": {
           "size": 12
          },
          "showarrow": false,
          "text": "Women sentenced",
          "x": 2010,
          "xanchor": "left",
          "xref": "x",
          "y": 1.04,
          "yref": "paper"
         }
        ],
        "barmode": "group",
        "height": 360,
        "hovermode": "x",
        "legend": {
         "x": 1,
         "xanchor": "right",
         "y": 1.05,
         "yanchor": "top"
        },
        "margin": {
         "b": 75,
         "l": 63,
         "r": 20
        },
        "modebar": {
         "activecolor": "#A01D28"
        },
        "showlegend": true,
        "template": {
         "layout": {
          "colorway": [
           "#A01D28",
           "#499CC9",
           "#F9A237",
           "#6FBA3A",
           "#573D6B"
          ],
          "font": {
           "color": "#54565B",
           "family": "Helvetica Neue, Arial",
           "size": 12
          },
          "modebar": {
           "activecolor": "#A01D28"
          },
          "paper_bgcolor": "#F7F2F2",
          "plot_bgcolor": "#F7F2F2",
          "showlegend": false,
          "title": {
           "font": {
            "family": "Helvetica Neue, Arial",
            "size": 17
           },
           "y": 0.94,
           "yanchor": "bottom"
          },
          "xaxis": {
           "showgrid": false,
           "tickcolor": "#54565B"
          }
         }
        },
        "title": {
         "text": "<b>Sentencing of women in Warwickshire 2010–2022</b>",
         "y": 0.94,
         "yanchor": "bottom"
        },
        "width": 655,
        "xaxis": {
         "dtick": 2,
         "range": [
          2009.3,
          2022.8
         ],
         "showgrid": false,
         "tick0": 2010,
         "tickcolor": "#54565B"
        },
        "yaxis": {
         "range": [
          0,
          208
         ],
         "tick0": 0,
         "tickformat": ",.0f",
         "title": {
          "text": ""
         }
        }
       }
      }
     },
     "metadata": {},
     "output_type": "display_data"
    },
    {
     "data": {
      "application/vnd.plotly.v1+json": {
       "config": {
        "plotlyServerURL": "https://plot.ly"
       },
       "data": [
        {
         "customdata": [
          "community sentence",
          "community sentence",
          "community sentence",
          "community sentence",
          "community sentence",
          "community sentence",
          "community sentence",
          "community sentence",
          "community sentence",
          "community sentence",
          "community sentence",
          "community sentence",
          "community sentence"
         ],
         "hovertemplate": "%{y} %{customdata}<extra></extra>",
         "name": "Community sentence",
         "type": "bar",
         "x": [
          2010,
          2011,
          2012,
          2013,
          2014,
          2015,
          2016,
          2017,
          2018,
          2019,
          2020,
          2021,
          2022
         ],
         "y": [
          414,
          377,
          341,
          276,
          249,
          301,
          266,
          290,
          219,
          207,
          148,
          157,
          153
         ]
        },
        {
         "customdata": [
          "immediate custody",
          "immediate custody",
          "immediate custody",
          "immediate custody",
          "immediate custody",
          "immediate custody",
          "immediate custody",
          "immediate custody",
          "immediate custody",
          "immediate custody",
          "immediate custody",
          "immediate custody",
          "immediate custody"
         ],
         "hovertemplate": "%{y} %{customdata}<extra></extra>",
         "name": "Immediate custody",
         "type": "bar",
         "x": [
          2010,
          2011,
          2012,
          2013,
          2014,
          2015,
          2016,
          2017,
          2018,
          2019,
          2020,
          2021,
          2022
         ],
         "y": [
          146,
          115,
          110,
          103,
          115,
          102,
          112,
          123,
          107,
          113,
          98,
          62,
          47
         ]
        },
        {
         "customdata": [
          "suspended sentence",
          "suspended sentence",
          "suspended sentence",
          "suspended sentence",
          "suspended sentence",
          "suspended sentence",
          "suspended sentence",
          "suspended sentence",
          "suspended sentence",
          "suspended sentence",
          "suspended sentence",
          "suspended sentence",
          "suspended sentence"
         ],
         "hovertemplate": "%{y} %{customdata}<extra></extra>",
         "name": "Suspended sentence",
         "type": "bar",
         "x": [
          2010,
          2011,
          2012,
          2013,
          2014,
          2015,
          2016,
          2017,
          2018,
          2019,
          2020,
          2021,
          2022
         ],
         "y": [
          120,
          107,
          115,
          105,
          147,
          153,
          163,
          149,
          99,
          91,
          107,
          118,
          73
         ]
        }
       ],
       "layout": {
        "annotations": [
         {
          "font": {
           "size": 12
          },
          "showarrow": false,
          "text": "Source: Ministry of Justice, Criminal justice statistics",
          "x": -0.08,
          "xanchor": "left",
          "xref": "paper",
          "y": -0.19,
          "yanchor": "top",
          "yref": "paper"
         },
         {
          "align": "left",
          "font": {
           "size": 12
          },
          "showarrow": false,
          "text": "Women sentenced",
          "x": 2010,
          "xanchor": "left",
          "xref": "x",
          "y": 1.04,
          "yref": "paper"
         }
        ],
        "barmode": "group",
        "height": 360,
        "hovermode": "x",
        "legend": {
         "x": 1,
         "xanchor": "right",
         "y": 1.05,
         "yanchor": "top"
        },
        "margin": {
         "b": 75,
         "l": 63,
         "r": 20
        },
        "modebar": {
         "activecolor": "#A01D28"
        },
        "showlegend": true,
        "template": {
         "layout": {
          "colorway": [
           "#A01D28",
           "#499CC9",
           "#F9A237",
           "#6FBA3A",
           "#573D6B"
          ],
          "font": {
           "color": "#54565B",
           "family": "Helvetica Neue, Arial",
           "size": 12
          },
          "modebar": {
           "activecolor": "#A01D28"
          },
          "paper_bgcolor": "#F7F2F2",
          "plot_bgcolor": "#F7F2F2",
          "showlegend": false,
          "title": {
           "font": {
            "family": "Helvetica Neue, Arial",
            "size": 17
           },
           "y": 0.94,
           "yanchor": "bottom"
          },
          "xaxis": {
           "showgrid": false,
           "tickcolor": "#54565B"
          }
         }
        },
        "title": {
         "text": "<b>Sentencing of women in West Mercia 2010–2022</b>",
         "y": 0.94,
         "yanchor": "bottom"
        },
        "width": 655,
        "xaxis": {
         "dtick": 2,
         "range": [
          2009.3,
          2022.8
         ],
         "showgrid": false,
         "tick0": 2010,
         "tickcolor": "#54565B"
        },
        "yaxis": {
         "range": [
          0,
          420
         ],
         "tick0": 0,
         "tickformat": ",.0f",
         "title": {
          "text": ""
         }
        }
       }
      }
     },
     "metadata": {},
     "output_type": "display_data"
    },
    {
     "data": {
      "application/vnd.plotly.v1+json": {
       "config": {
        "plotlyServerURL": "https://plot.ly"
       },
       "data": [
        {
         "customdata": [
          "community sentence",
          "community sentence",
          "community sentence",
          "community sentence",
          "community sentence",
          "community sentence",
          "community sentence",
          "community sentence",
          "community sentence",
          "community sentence",
          "community sentence",
          "community sentence",
          "community sentence"
         ],
         "hovertemplate": "%{y} %{customdata}<extra></extra>",
         "name": "Community sentence",
         "type": "bar",
         "x": [
          2010,
          2011,
          2012,
          2013,
          2014,
          2015,
          2016,
          2017,
          2018,
          2019,
          2020,
          2021,
          2022
         ],
         "y": [
          1137,
          1004,
          927,
          937,
          830,
          877,
          844,
          749,
          606,
          655,
          431,
          489,
          478
         ]
        },
        {
         "customdata": [
          "immediate custody",
          "immediate custody",
          "immediate custody",
          "immediate custody",
          "immediate custody",
          "immediate custody",
          "immediate custody",
          "immediate custody",
          "immediate custody",
          "immediate custody",
          "immediate custody",
          "immediate custody",
          "immediate custody"
         ],
         "hovertemplate": "%{y} %{customdata}<extra></extra>",
         "name": "Immediate custody",
         "type": "bar",
         "x": [
          2010,
          2011,
          2012,
          2013,
          2014,
          2015,
          2016,
          2017,
          2018,
          2019,
          2020,
          2021,
          2022
         ],
         "y": [
          606,
          550,
          575,
          487,
          526,
          516,
          555,
          477,
          396,
          406,
          254,
          226,
          216
         ]
        },
        {
         "customdata": [
          "suspended sentence",
          "suspended sentence",
          "suspended sentence",
          "suspended sentence",
          "suspended sentence",
          "suspended sentence",
          "suspended sentence",
          "suspended sentence",
          "suspended sentence",
          "suspended sentence",
          "suspended sentence",
          "suspended sentence",
          "suspended sentence"
         ],
         "hovertemplate": "%{y} %{customdata}<extra></extra>",
         "name": "Suspended sentence",
         "type": "bar",
         "x": [
          2010,
          2011,
          2012,
          2013,
          2014,
          2015,
          2016,
          2017,
          2018,
          2019,
          2020,
          2021,
          2022
         ],
         "y": [
          503,
          519,
          492,
          511,
          527,
          524,
          505,
          466,
          332,
          330,
          263,
          294,
          267
         ]
        }
       ],
       "layout": {
        "annotations": [
         {
          "font": {
           "size": 12
          },
          "showarrow": false,
          "text": "Source: Ministry of Justice, Criminal justice statistics",
          "x": -0.08,
          "xanchor": "left",
          "xref": "paper",
          "y": -0.19,
          "yanchor": "top",
          "yref": "paper"
         },
         {
          "align": "left",
          "font": {
           "size": 12
          },
          "showarrow": false,
          "text": "Women sentenced",
          "x": 2010,
          "xanchor": "left",
          "xref": "x",
          "y": 1.04,
          "yref": "paper"
         }
        ],
        "barmode": "group",
        "height": 360,
        "hovermode": "x",
        "legend": {
         "x": 1,
         "xanchor": "right",
         "y": 1.05,
         "yanchor": "top"
        },
        "margin": {
         "b": 75,
         "l": 63,
         "r": 20
        },
        "modebar": {
         "activecolor": "#A01D28"
        },
        "showlegend": true,
        "template": {
         "layout": {
          "colorway": [
           "#A01D28",
           "#499CC9",
           "#F9A237",
           "#6FBA3A",
           "#573D6B"
          ],
          "font": {
           "color": "#54565B",
           "family": "Helvetica Neue, Arial",
           "size": 12
          },
          "modebar": {
           "activecolor": "#A01D28"
          },
          "paper_bgcolor": "#F7F2F2",
          "plot_bgcolor": "#F7F2F2",
          "showlegend": false,
          "title": {
           "font": {
            "family": "Helvetica Neue, Arial",
            "size": 17
           },
           "y": 0.94,
           "yanchor": "bottom"
          },
          "xaxis": {
           "showgrid": false,
           "tickcolor": "#54565B"
          }
         }
        },
        "title": {
         "text": "<b>Sentencing of women in West Midlands 2010–2022</b>",
         "y": 0.94,
         "yanchor": "bottom"
        },
        "width": 655,
        "xaxis": {
         "dtick": 2,
         "range": [
          2009.3,
          2022.8
         ],
         "showgrid": false,
         "tick0": 2010,
         "tickcolor": "#54565B"
        },
        "yaxis": {
         "range": [
          0,
          1550
         ],
         "tick0": 0,
         "tickformat": ",.0f",
         "title": {
          "text": ""
         }
        }
       }
      }
     },
     "metadata": {},
     "output_type": "display_data"
    },
    {
     "data": {
      "application/vnd.plotly.v1+json": {
       "config": {
        "plotlyServerURL": "https://plot.ly"
       },
       "data": [
        {
         "customdata": [
          "community sentence",
          "community sentence",
          "community sentence",
          "community sentence",
          "community sentence",
          "community sentence",
          "community sentence",
          "community sentence",
          "community sentence",
          "community sentence",
          "community sentence",
          "community sentence",
          "community sentence"
         ],
         "hovertemplate": "%{y} %{customdata}<extra></extra>",
         "name": "Community sentence",
         "type": "bar",
         "x": [
          2010,
          2011,
          2012,
          2013,
          2014,
          2015,
          2016,
          2017,
          2018,
          2019,
          2020,
          2021,
          2022
         ],
         "y": [
          1136,
          1013,
          868,
          745,
          683,
          765,
          718,
          674,
          706,
          687,
          464,
          671,
          714
         ]
        },
        {
         "customdata": [
          "immediate custody",
          "immediate custody",
          "immediate custody",
          "immediate custody",
          "immediate custody",
          "immediate custody",
          "immediate custody",
          "immediate custody",
          "immediate custody",
          "immediate custody",
          "immediate custody",
          "immediate custody",
          "immediate custody"
         ],
         "hovertemplate": "%{y} %{customdata}<extra></extra>",
         "name": "Immediate custody",
         "type": "bar",
         "x": [
          2010,
          2011,
          2012,
          2013,
          2014,
          2015,
          2016,
          2017,
          2018,
          2019,
          2020,
          2021,
          2022
         ],
         "y": [
          255,
          264,
          260,
          266,
          296,
          292,
          335,
          334,
          285,
          301,
          263,
          250,
          251
         ]
        },
        {
         "customdata": [
          "suspended sentence",
          "suspended sentence",
          "suspended sentence",
          "suspended sentence",
          "suspended sentence",
          "suspended sentence",
          "suspended sentence",
          "suspended sentence",
          "suspended sentence",
          "suspended sentence",
          "suspended sentence",
          "suspended sentence",
          "suspended sentence"
         ],
         "hovertemplate": "%{y} %{customdata}<extra></extra>",
         "name": "Suspended sentence",
         "type": "bar",
         "x": [
          2010,
          2011,
          2012,
          2013,
          2014,
          2015,
          2016,
          2017,
          2018,
          2019,
          2020,
          2021,
          2022
         ],
         "y": [
          204,
          233,
          201,
          237,
          248,
          283,
          311,
          294,
          232,
          209,
          199,
          278,
          287
         ]
        }
       ],
       "layout": {
        "annotations": [
         {
          "font": {
           "size": 12
          },
          "showarrow": false,
          "text": "Source: Ministry of Justice, Criminal justice statistics",
          "x": -0.08,
          "xanchor": "left",
          "xref": "paper",
          "y": -0.19,
          "yanchor": "top",
          "yref": "paper"
         },
         {
          "align": "left",
          "font": {
           "size": 12
          },
          "showarrow": false,
          "text": "Women sentenced",
          "x": 2010,
          "xanchor": "left",
          "xref": "x",
          "y": 1.04,
          "yref": "paper"
         }
        ],
        "barmode": "group",
        "height": 360,
        "hovermode": "x",
        "legend": {
         "x": 1,
         "xanchor": "right",
         "y": 1.05,
         "yanchor": "top"
        },
        "margin": {
         "b": 75,
         "l": 63,
         "r": 20
        },
        "modebar": {
         "activecolor": "#A01D28"
        },
        "showlegend": true,
        "template": {
         "layout": {
          "colorway": [
           "#A01D28",
           "#499CC9",
           "#F9A237",
           "#6FBA3A",
           "#573D6B"
          ],
          "font": {
           "color": "#54565B",
           "family": "Helvetica Neue, Arial",
           "size": 12
          },
          "modebar": {
           "activecolor": "#A01D28"
          },
          "paper_bgcolor": "#F7F2F2",
          "plot_bgcolor": "#F7F2F2",
          "showlegend": false,
          "title": {
           "font": {
            "family": "Helvetica Neue, Arial",
            "size": 17
           },
           "y": 0.94,
           "yanchor": "bottom"
          },
          "xaxis": {
           "showgrid": false,
           "tickcolor": "#54565B"
          }
         }
        },
        "title": {
         "text": "<b>Sentencing of women in West Yorkshire 2010–2022</b>",
         "y": 0.94,
         "yanchor": "bottom"
        },
        "width": 655,
        "xaxis": {
         "dtick": 2,
         "range": [
          2009.3,
          2022.8
         ],
         "showgrid": false,
         "tick0": 2010,
         "tickcolor": "#54565B"
        },
        "yaxis": {
         "range": [
          0,
          1550
         ],
         "tick0": 0,
         "tickformat": ",.0f",
         "title": {
          "text": ""
         }
        }
       }
      }
     },
     "metadata": {},
     "output_type": "display_data"
    },
    {
     "data": {
      "application/vnd.plotly.v1+json": {
       "config": {
        "plotlyServerURL": "https://plot.ly"
       },
       "data": [
        {
         "customdata": [
          "community sentence",
          "community sentence",
          "community sentence",
          "community sentence",
          "community sentence",
          "community sentence",
          "community sentence",
          "community sentence",
          "community sentence",
          "community sentence",
          "community sentence",
          "community sentence",
          "community sentence"
         ],
         "hovertemplate": "%{y} %{customdata}<extra></extra>",
         "name": "Community sentence",
         "type": "bar",
         "x": [
          2010,
          2011,
          2012,
          2013,
          2014,
          2015,
          2016,
          2017,
          2018,
          2019,
          2020,
          2021,
          2022
         ],
         "y": [
          170,
          151,
          142,
          169,
          135,
          189,
          159,
          180,
          177,
          177,
          78,
          142,
          133
         ]
        },
        {
         "customdata": [
          "immediate custody",
          "immediate custody",
          "immediate custody",
          "immediate custody",
          "immediate custody",
          "immediate custody",
          "immediate custody",
          "immediate custody",
          "immediate custody",
          "immediate custody",
          "immediate custody",
          "immediate custody",
          "immediate custody"
         ],
         "hovertemplate": "%{y} %{customdata}<extra></extra>",
         "name": "Immediate custody",
         "type": "bar",
         "x": [
          2010,
          2011,
          2012,
          2013,
          2014,
          2015,
          2016,
          2017,
          2018,
          2019,
          2020,
          2021,
          2022
         ],
         "y": [
          22,
          31,
          33,
          24,
          32,
          44,
          49,
          47,
          49,
          49,
          34,
          33,
          30
         ]
        },
        {
         "customdata": [
          "suspended sentence",
          "suspended sentence",
          "suspended sentence",
          "suspended sentence",
          "suspended sentence",
          "suspended sentence",
          "suspended sentence",
          "suspended sentence",
          "suspended sentence",
          "suspended sentence",
          "suspended sentence",
          "suspended sentence",
          "suspended sentence"
         ],
         "hovertemplate": "%{y} %{customdata}<extra></extra>",
         "name": "Suspended sentence",
         "type": "bar",
         "x": [
          2010,
          2011,
          2012,
          2013,
          2014,
          2015,
          2016,
          2017,
          2018,
          2019,
          2020,
          2021,
          2022
         ],
         "y": [
          35,
          26,
          32,
          46,
          55,
          80,
          73,
          60,
          53,
          35,
          31,
          44,
          37
         ]
        }
       ],
       "layout": {
        "annotations": [
         {
          "font": {
           "size": 12
          },
          "showarrow": false,
          "text": "Source: Ministry of Justice, Criminal justice statistics",
          "x": -0.08,
          "xanchor": "left",
          "xref": "paper",
          "y": -0.19,
          "yanchor": "top",
          "yref": "paper"
         },
         {
          "align": "left",
          "font": {
           "size": 12
          },
          "showarrow": false,
          "text": "Women sentenced",
          "x": 2010,
          "xanchor": "left",
          "xref": "x",
          "y": 1.04,
          "yref": "paper"
         }
        ],
        "barmode": "group",
        "height": 360,
        "hovermode": "x",
        "legend": {
         "x": 1,
         "xanchor": "right",
         "y": 1.05,
         "yanchor": "top"
        },
        "margin": {
         "b": 75,
         "l": 63,
         "r": 20
        },
        "modebar": {
         "activecolor": "#A01D28"
        },
        "showlegend": true,
        "template": {
         "layout": {
          "colorway": [
           "#A01D28",
           "#499CC9",
           "#F9A237",
           "#6FBA3A",
           "#573D6B"
          ],
          "font": {
           "color": "#54565B",
           "family": "Helvetica Neue, Arial",
           "size": 12
          },
          "modebar": {
           "activecolor": "#A01D28"
          },
          "paper_bgcolor": "#F7F2F2",
          "plot_bgcolor": "#F7F2F2",
          "showlegend": false,
          "title": {
           "font": {
            "family": "Helvetica Neue, Arial",
            "size": 17
           },
           "y": 0.94,
           "yanchor": "bottom"
          },
          "xaxis": {
           "showgrid": false,
           "tickcolor": "#54565B"
          }
         }
        },
        "title": {
         "text": "<b>Sentencing of women in Wiltshire 2010–2022</b>",
         "y": 0.94,
         "yanchor": "bottom"
        },
        "width": 655,
        "xaxis": {
         "dtick": 2,
         "range": [
          2009.3,
          2022.8
         ],
         "showgrid": false,
         "tick0": 2010,
         "tickcolor": "#54565B"
        },
        "yaxis": {
         "range": [
          0,
          208
         ],
         "tick0": 0,
         "tickformat": ",.0f",
         "title": {
          "text": ""
         }
        }
       }
      }
     },
     "metadata": {},
     "output_type": "display_data"
    }
   ],
   "source": [
    "for pfa in df['pfa'].unique():\n",
    "    chart = SentenceTypeChart(pfa)\n",
    "    chart.outputChart()\n",
    "    chart.saveChart()"
   ]
  },
  {
   "cell_type": "markdown",
   "metadata": {},
   "source": [
    "## Refactoring to script"
   ]
  },
  {
   "cell_type": "code",
   "execution_count": 1,
   "metadata": {},
   "outputs": [],
   "source": [
    "%load_ext autoreload\n",
    "%autoreload 2"
   ]
  },
  {
   "cell_type": "code",
   "execution_count": 6,
   "metadata": {},
   "outputs": [],
   "source": [
    "from src.visualization import Chart3_Sentence_Type as chart"
   ]
  },
  {
   "cell_type": "code",
   "execution_count": 7,
   "metadata": {},
   "outputs": [
    {
     "data": {
      "text/plain": [
       "<module 'src.visualization.Chart3_Sentence_Type' from '/Users/alex/Documents/Coding/Python/women-pfa-2022/src/visualization/Chart3_Sentence_Type.py'>"
      ]
     },
     "execution_count": 7,
     "metadata": {},
     "output_type": "execute_result"
    }
   ],
   "source": [
    "chart"
   ]
  },
  {
   "cell_type": "code",
   "execution_count": 12,
   "metadata": {},
   "outputs": [
    {
     "name": "stdout",
     "output_type": "stream",
     "text": [
      "Data loaded\n",
      "Chart saved to: /Users/alex/Documents/Coding/Python/women-pfa-2022/reports/figures/sentence_types/pdf/Avon and Somerset.pdf\n",
      "Chart saved to: /Users/alex/Documents/Coding/Python/women-pfa-2022/reports/figures/sentence_types/pdf/Bedfordshire.pdf\n",
      "Chart saved to: /Users/alex/Documents/Coding/Python/women-pfa-2022/reports/figures/sentence_types/pdf/Cambridgeshire.pdf\n",
      "Chart saved to: /Users/alex/Documents/Coding/Python/women-pfa-2022/reports/figures/sentence_types/pdf/Cheshire.pdf\n",
      "Chart saved to: /Users/alex/Documents/Coding/Python/women-pfa-2022/reports/figures/sentence_types/pdf/Cleveland.pdf\n",
      "Chart saved to: /Users/alex/Documents/Coding/Python/women-pfa-2022/reports/figures/sentence_types/pdf/Cumbria.pdf\n",
      "Chart saved to: /Users/alex/Documents/Coding/Python/women-pfa-2022/reports/figures/sentence_types/pdf/Derbyshire.pdf\n",
      "Chart saved to: /Users/alex/Documents/Coding/Python/women-pfa-2022/reports/figures/sentence_types/pdf/Devon and Cornwall.pdf\n",
      "Chart saved to: /Users/alex/Documents/Coding/Python/women-pfa-2022/reports/figures/sentence_types/pdf/Dorset.pdf\n",
      "Chart saved to: /Users/alex/Documents/Coding/Python/women-pfa-2022/reports/figures/sentence_types/pdf/Durham.pdf\n",
      "Chart saved to: /Users/alex/Documents/Coding/Python/women-pfa-2022/reports/figures/sentence_types/pdf/Dyfed-Powys.pdf\n",
      "Chart saved to: /Users/alex/Documents/Coding/Python/women-pfa-2022/reports/figures/sentence_types/pdf/Essex.pdf\n",
      "Chart saved to: /Users/alex/Documents/Coding/Python/women-pfa-2022/reports/figures/sentence_types/pdf/Gloucestershire.pdf\n",
      "Chart saved to: /Users/alex/Documents/Coding/Python/women-pfa-2022/reports/figures/sentence_types/pdf/Greater Manchester.pdf\n",
      "Chart saved to: /Users/alex/Documents/Coding/Python/women-pfa-2022/reports/figures/sentence_types/pdf/Gwent.pdf\n",
      "Chart saved to: /Users/alex/Documents/Coding/Python/women-pfa-2022/reports/figures/sentence_types/pdf/Hampshire.pdf\n",
      "Chart saved to: /Users/alex/Documents/Coding/Python/women-pfa-2022/reports/figures/sentence_types/pdf/Hertfordshire.pdf\n",
      "Chart saved to: /Users/alex/Documents/Coding/Python/women-pfa-2022/reports/figures/sentence_types/pdf/Humberside.pdf\n",
      "Chart saved to: /Users/alex/Documents/Coding/Python/women-pfa-2022/reports/figures/sentence_types/pdf/Kent.pdf\n",
      "Chart saved to: /Users/alex/Documents/Coding/Python/women-pfa-2022/reports/figures/sentence_types/pdf/Lancashire.pdf\n",
      "Chart saved to: /Users/alex/Documents/Coding/Python/women-pfa-2022/reports/figures/sentence_types/pdf/Leicestershire.pdf\n",
      "Chart saved to: /Users/alex/Documents/Coding/Python/women-pfa-2022/reports/figures/sentence_types/pdf/Lincolnshire.pdf\n",
      "Chart saved to: /Users/alex/Documents/Coding/Python/women-pfa-2022/reports/figures/sentence_types/pdf/Merseyside.pdf\n",
      "Chart saved to: /Users/alex/Documents/Coding/Python/women-pfa-2022/reports/figures/sentence_types/pdf/Metropolitan Police.pdf\n",
      "Chart saved to: /Users/alex/Documents/Coding/Python/women-pfa-2022/reports/figures/sentence_types/pdf/Norfolk.pdf\n",
      "Chart saved to: /Users/alex/Documents/Coding/Python/women-pfa-2022/reports/figures/sentence_types/pdf/North Wales.pdf\n",
      "Chart saved to: /Users/alex/Documents/Coding/Python/women-pfa-2022/reports/figures/sentence_types/pdf/North Yorkshire.pdf\n",
      "Chart saved to: /Users/alex/Documents/Coding/Python/women-pfa-2022/reports/figures/sentence_types/pdf/Northamptonshire.pdf\n",
      "Chart saved to: /Users/alex/Documents/Coding/Python/women-pfa-2022/reports/figures/sentence_types/pdf/Northumbria.pdf\n",
      "Chart saved to: /Users/alex/Documents/Coding/Python/women-pfa-2022/reports/figures/sentence_types/pdf/Nottinghamshire.pdf\n",
      "Chart saved to: /Users/alex/Documents/Coding/Python/women-pfa-2022/reports/figures/sentence_types/pdf/South Wales.pdf\n",
      "Chart saved to: /Users/alex/Documents/Coding/Python/women-pfa-2022/reports/figures/sentence_types/pdf/South Yorkshire.pdf\n",
      "Chart saved to: /Users/alex/Documents/Coding/Python/women-pfa-2022/reports/figures/sentence_types/pdf/Staffordshire.pdf\n",
      "Chart saved to: /Users/alex/Documents/Coding/Python/women-pfa-2022/reports/figures/sentence_types/pdf/Suffolk.pdf\n",
      "Chart saved to: /Users/alex/Documents/Coding/Python/women-pfa-2022/reports/figures/sentence_types/pdf/Surrey.pdf\n",
      "Chart saved to: /Users/alex/Documents/Coding/Python/women-pfa-2022/reports/figures/sentence_types/pdf/Sussex.pdf\n",
      "Chart saved to: /Users/alex/Documents/Coding/Python/women-pfa-2022/reports/figures/sentence_types/pdf/Thames Valley.pdf\n",
      "Chart saved to: /Users/alex/Documents/Coding/Python/women-pfa-2022/reports/figures/sentence_types/pdf/Warwickshire.pdf\n",
      "Chart saved to: /Users/alex/Documents/Coding/Python/women-pfa-2022/reports/figures/sentence_types/pdf/West Mercia.pdf\n",
      "Chart saved to: /Users/alex/Documents/Coding/Python/women-pfa-2022/reports/figures/sentence_types/pdf/West Midlands.pdf\n",
      "Chart saved to: /Users/alex/Documents/Coding/Python/women-pfa-2022/reports/figures/sentence_types/pdf/West Yorkshire.pdf\n",
      "Chart saved to: /Users/alex/Documents/Coding/Python/women-pfa-2022/reports/figures/sentence_types/pdf/Wiltshire.pdf\n"
     ]
    }
   ],
   "source": [
    "filename = 'sentencesByPFA.csv'\n",
    "folder = 'sentence_types'\n",
    "chart.make_pfa_sentence_type_charts(filename, folder, status='processed')"
   ]
  },
  {
   "cell_type": "code",
   "execution_count": null,
   "metadata": {},
   "outputs": [],
   "source": []
  }
 ],
 "metadata": {
  "kernelspec": {
   "display_name": "women-pfa-2022",
   "language": "python",
   "name": "python3"
  },
  "language_info": {
   "codemirror_mode": {
    "name": "ipython",
    "version": 3
   },
   "file_extension": ".py",
   "mimetype": "text/x-python",
   "name": "python",
   "nbconvert_exporter": "python",
   "pygments_lexer": "ipython3",
   "version": "3.12.2"
  },
  "orig_nbformat": 4
 },
 "nbformat": 4,
 "nbformat_minor": 2
}
