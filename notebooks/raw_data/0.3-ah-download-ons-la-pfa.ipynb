{
 "cells": [
  {
   "cell_type": "markdown",
   "id": "60f11065",
   "metadata": {},
   "source": [
    "# Development of raw data downloaders\n",
    "##  ONS LA to Community Safety Partnership to PFA (December 2019) Lookup in EW"
   ]
  },
  {
   "cell_type": "code",
   "execution_count": 3,
   "id": "baa43a5c",
   "metadata": {},
   "outputs": [
    {
     "name": "stdout",
     "output_type": "stream",
     "text": [
      "The autoreload extension is already loaded. To reload it, use:\n",
      "  %reload_ext autoreload\n"
     ]
    }
   ],
   "source": [
    "%load_ext autoreload\n",
    "%autoreload 2"
   ]
  },
  {
   "cell_type": "code",
   "execution_count": 4,
   "id": "fbba22b8",
   "metadata": {},
   "outputs": [],
   "source": [
    "from src.data.raw import download_data, data_filters\n",
    "import src.utilities as utils"
   ]
  },
  {
   "cell_type": "markdown",
   "id": "b0098f4c",
   "metadata": {},
   "source": [
    "### Finding dataset ID and parameters using ONS API"
   ]
  },
  {
   "cell_type": "code",
   "execution_count": null,
   "id": "52058208",
   "metadata": {},
   "outputs": [],
   "source": [
    "import requests\n",
    "import logging\n",
    "import pandas as pd\n",
    "from typing import Tuple\n",
    "\n",
    "utils.setup_logging()\n",
    "config = utils.read_config()"
   ]
  },
  {
   "cell_type": "code",
   "execution_count": 47,
   "id": "357caedf",
   "metadata": {},
   "outputs": [],
   "source": [
    "ENDPOINT = \"https://services1.arcgis.com/ESMARspQHYMw9BZ9/arcgis/rest/services/LAD24_CSP24_PFA24_EW_LU/FeatureServer/0/query\""
   ]
  },
  {
   "cell_type": "code",
   "execution_count": 52,
   "id": "7b5e1c8e",
   "metadata": {},
   "outputs": [],
   "source": [
    "params = {\n",
    "    \"where\": \"1=1\",\n",
    "    \"outFields\": \"LAD24CD,LAD24NM,PFA24CD,PFA24NM\",\n",
    "    \"outSR\": 4326,\n",
    "    \"f\": \"json\",\n",
    "}"
   ]
  },
  {
   "cell_type": "code",
   "execution_count": 53,
   "id": "db7c4f80",
   "metadata": {},
   "outputs": [],
   "source": [
    "def request_to_gdf(url: str, query_params: dict) -> tuple[requests.Response, pd.DataFrame]:\n",
    "    \"\"\"Send a get request to ArcGIS API & Convert to GeoDataFrame.\n",
    "\n",
    "    Only works when asking for features and GeoJSON format.\n",
    "\n",
    "    Parameters\n",
    "    ----------\n",
    "    url : str\n",
    "        The url endpoint.\n",
    "    query_params : dict\n",
    "        A dictionary of query parameter : value pairs.\n",
    "\n",
    "    Returns\n",
    "    -------\n",
    "    requests.response\n",
    "        The response from ArcGIS API server.\n",
    "    pd.DataFrame\n",
    "        A DataFrame of the requested data in the records specified by\n",
    "        the response metadata.\n",
    "\n",
    "    Raises\n",
    "    ------\n",
    "    requests.exceptions.RequestException\n",
    "        The response was not ok.\n",
    "    \"\"\"\n",
    "    query_params[\"f\"] = \"geoJSON\"\n",
    "    response = requests.get(url, params=query_params, timeout=10)\n",
    "    if response.ok:\n",
    "        content = response.json()\n",
    "        records = [feature['properties'] for feature in content['features']]\n",
    "        return (\n",
    "            response,\n",
    "            pd.DataFrame(records))\n",
    "    else:\n",
    "        raise requests.RequestException(\n",
    "            f\"HTTP Code: {response.status_code}, Status: {response.reason}\"\n",
    "        )"
   ]
  },
  {
   "cell_type": "code",
   "execution_count": 54,
   "id": "d6364d35",
   "metadata": {},
   "outputs": [
    {
     "data": {
      "text/html": [
       "<div>\n",
       "<style scoped>\n",
       "    .dataframe tbody tr th:only-of-type {\n",
       "        vertical-align: middle;\n",
       "    }\n",
       "\n",
       "    .dataframe tbody tr th {\n",
       "        vertical-align: top;\n",
       "    }\n",
       "\n",
       "    .dataframe thead th {\n",
       "        text-align: right;\n",
       "    }\n",
       "</style>\n",
       "<table border=\"1\" class=\"dataframe\">\n",
       "  <thead>\n",
       "    <tr style=\"text-align: right;\">\n",
       "      <th></th>\n",
       "      <th>LAD24CD</th>\n",
       "      <th>LAD24NM</th>\n",
       "      <th>PFA24CD</th>\n",
       "      <th>PFA24NM</th>\n",
       "    </tr>\n",
       "  </thead>\n",
       "  <tbody>\n",
       "    <tr>\n",
       "      <th>0</th>\n",
       "      <td>E07000136</td>\n",
       "      <td>Boston</td>\n",
       "      <td>E23000020</td>\n",
       "      <td>Lincolnshire</td>\n",
       "    </tr>\n",
       "    <tr>\n",
       "      <th>1</th>\n",
       "      <td>E07000137</td>\n",
       "      <td>East Lindsey</td>\n",
       "      <td>E23000020</td>\n",
       "      <td>Lincolnshire</td>\n",
       "    </tr>\n",
       "    <tr>\n",
       "      <th>2</th>\n",
       "      <td>E07000138</td>\n",
       "      <td>Lincoln</td>\n",
       "      <td>E23000020</td>\n",
       "      <td>Lincolnshire</td>\n",
       "    </tr>\n",
       "    <tr>\n",
       "      <th>3</th>\n",
       "      <td>E07000139</td>\n",
       "      <td>North Kesteven</td>\n",
       "      <td>E23000020</td>\n",
       "      <td>Lincolnshire</td>\n",
       "    </tr>\n",
       "    <tr>\n",
       "      <th>4</th>\n",
       "      <td>E07000140</td>\n",
       "      <td>South Holland</td>\n",
       "      <td>E23000020</td>\n",
       "      <td>Lincolnshire</td>\n",
       "    </tr>\n",
       "  </tbody>\n",
       "</table>\n",
       "</div>"
      ],
      "text/plain": [
       "     LAD24CD         LAD24NM    PFA24CD       PFA24NM\n",
       "0  E07000136          Boston  E23000020  Lincolnshire\n",
       "1  E07000137    East Lindsey  E23000020  Lincolnshire\n",
       "2  E07000138         Lincoln  E23000020  Lincolnshire\n",
       "3  E07000139  North Kesteven  E23000020  Lincolnshire\n",
       "4  E07000140   South Holland  E23000020  Lincolnshire"
      ]
     },
     "execution_count": 54,
     "metadata": {},
     "output_type": "execute_result"
    }
   ],
   "source": [
    "_, df = request_to_gdf(ENDPOINT, params)\n",
    "df.head()"
   ]
  },
  {
   "cell_type": "code",
   "execution_count": 55,
   "id": "331b160e",
   "metadata": {},
   "outputs": [
    {
     "data": {
      "text/html": [
       "<div>\n",
       "<style scoped>\n",
       "    .dataframe tbody tr th:only-of-type {\n",
       "        vertical-align: middle;\n",
       "    }\n",
       "\n",
       "    .dataframe tbody tr th {\n",
       "        vertical-align: top;\n",
       "    }\n",
       "\n",
       "    .dataframe thead th {\n",
       "        text-align: right;\n",
       "    }\n",
       "</style>\n",
       "<table border=\"1\" class=\"dataframe\">\n",
       "  <thead>\n",
       "    <tr style=\"text-align: right;\">\n",
       "      <th></th>\n",
       "      <th>LAD24CD</th>\n",
       "      <th>LAD24NM</th>\n",
       "      <th>PFA24CD</th>\n",
       "      <th>PFA24NM</th>\n",
       "    </tr>\n",
       "  </thead>\n",
       "  <tbody>\n",
       "    <tr>\n",
       "      <th>0</th>\n",
       "      <td>E07000136</td>\n",
       "      <td>Boston</td>\n",
       "      <td>E23000020</td>\n",
       "      <td>Lincolnshire</td>\n",
       "    </tr>\n",
       "    <tr>\n",
       "      <th>1</th>\n",
       "      <td>E07000137</td>\n",
       "      <td>East Lindsey</td>\n",
       "      <td>E23000020</td>\n",
       "      <td>Lincolnshire</td>\n",
       "    </tr>\n",
       "    <tr>\n",
       "      <th>2</th>\n",
       "      <td>E07000138</td>\n",
       "      <td>Lincoln</td>\n",
       "      <td>E23000020</td>\n",
       "      <td>Lincolnshire</td>\n",
       "    </tr>\n",
       "    <tr>\n",
       "      <th>3</th>\n",
       "      <td>E07000139</td>\n",
       "      <td>North Kesteven</td>\n",
       "      <td>E23000020</td>\n",
       "      <td>Lincolnshire</td>\n",
       "    </tr>\n",
       "    <tr>\n",
       "      <th>4</th>\n",
       "      <td>E07000140</td>\n",
       "      <td>South Holland</td>\n",
       "      <td>E23000020</td>\n",
       "      <td>Lincolnshire</td>\n",
       "    </tr>\n",
       "    <tr>\n",
       "      <th>...</th>\n",
       "      <td>...</td>\n",
       "      <td>...</td>\n",
       "      <td>...</td>\n",
       "      <td>...</td>\n",
       "    </tr>\n",
       "    <tr>\n",
       "      <th>327</th>\n",
       "      <td>W06000020</td>\n",
       "      <td>Torfaen</td>\n",
       "      <td>W15000002</td>\n",
       "      <td>Gwent</td>\n",
       "    </tr>\n",
       "    <tr>\n",
       "      <th>328</th>\n",
       "      <td>W06000021</td>\n",
       "      <td>Monmouthshire</td>\n",
       "      <td>W15000002</td>\n",
       "      <td>Gwent</td>\n",
       "    </tr>\n",
       "    <tr>\n",
       "      <th>329</th>\n",
       "      <td>W06000022</td>\n",
       "      <td>Newport</td>\n",
       "      <td>W15000002</td>\n",
       "      <td>Gwent</td>\n",
       "    </tr>\n",
       "    <tr>\n",
       "      <th>330</th>\n",
       "      <td>W06000023</td>\n",
       "      <td>Powys</td>\n",
       "      <td>W15000004</td>\n",
       "      <td>Dyfed-Powys</td>\n",
       "    </tr>\n",
       "    <tr>\n",
       "      <th>331</th>\n",
       "      <td>W06000024</td>\n",
       "      <td>Merthyr Tydfil</td>\n",
       "      <td>W15000003</td>\n",
       "      <td>South Wales</td>\n",
       "    </tr>\n",
       "  </tbody>\n",
       "</table>\n",
       "<p>332 rows × 4 columns</p>\n",
       "</div>"
      ],
      "text/plain": [
       "       LAD24CD         LAD24NM    PFA24CD       PFA24NM\n",
       "0    E07000136          Boston  E23000020  Lincolnshire\n",
       "1    E07000137    East Lindsey  E23000020  Lincolnshire\n",
       "2    E07000138         Lincoln  E23000020  Lincolnshire\n",
       "3    E07000139  North Kesteven  E23000020  Lincolnshire\n",
       "4    E07000140   South Holland  E23000020  Lincolnshire\n",
       "..         ...             ...        ...           ...\n",
       "327  W06000020         Torfaen  W15000002         Gwent\n",
       "328  W06000021   Monmouthshire  W15000002         Gwent\n",
       "329  W06000022         Newport  W15000002         Gwent\n",
       "330  W06000023           Powys  W15000004   Dyfed-Powys\n",
       "331  W06000024  Merthyr Tydfil  W15000003   South Wales\n",
       "\n",
       "[332 rows x 4 columns]"
      ]
     },
     "execution_count": 55,
     "metadata": {},
     "output_type": "execute_result"
    }
   ],
   "source": [
    "df"
   ]
  },
  {
   "cell_type": "markdown",
   "id": "f2df9897",
   "metadata": {},
   "source": [
    "## Starting to build into a script"
   ]
  },
  {
   "cell_type": "code",
   "execution_count": 56,
   "id": "c9afab2e",
   "metadata": {},
   "outputs": [],
   "source": [
    "import src.data.raw.ons_ogp_api as ons_ogp_api"
   ]
  },
  {
   "cell_type": "code",
   "execution_count": 58,
   "id": "2a650368",
   "metadata": {},
   "outputs": [
    {
     "name": "stderr",
     "output_type": "stream",
     "text": [
      "2025-07-01 14:14:04,216 - INFO - Successfully retrieved data from ONS Open Geography Portal.\n",
      "2025-07-01 14:14:04,221 - INFO - Saving...\n",
      "2025-07-01 14:14:04,269 - INFO - Data successfully saved to data/interim/LA_to_PFA_(December_2024)_Lookup_in_EW.csv\n"
     ]
    }
   ],
   "source": [
    "ons_ogp_api.main()"
   ]
  },
  {
   "cell_type": "code",
   "execution_count": null,
   "id": "b2a172e4",
   "metadata": {},
   "outputs": [],
   "source": []
  }
 ],
 "metadata": {
  "kernelspec": {
   "display_name": "envs",
   "language": "python",
   "name": "python3"
  },
  "language_info": {
   "codemirror_mode": {
    "name": "ipython",
    "version": 3
   },
   "file_extension": ".py",
   "mimetype": "text/x-python",
   "name": "python",
   "nbconvert_exporter": "python",
   "pygments_lexer": "ipython3",
   "version": "3.13.3"
  }
 },
 "nbformat": 4,
 "nbformat_minor": 5
}
