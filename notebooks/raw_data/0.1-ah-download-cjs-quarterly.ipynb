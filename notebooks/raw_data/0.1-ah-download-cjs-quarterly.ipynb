{
 "cells": [
  {
   "cell_type": "markdown",
   "id": "60f11065",
   "metadata": {},
   "source": [
    "# Development of raw data downloaders\n",
    "## Criminal Justice Statistics quarterly: December 2024"
   ]
  },
  {
   "cell_type": "code",
   "execution_count": 1,
   "id": "baa43a5c",
   "metadata": {},
   "outputs": [],
   "source": [
    "%load_ext autoreload\n",
    "%autoreload 2"
   ]
  },
  {
   "cell_type": "code",
   "execution_count": null,
   "id": "fbba22b8",
   "metadata": {},
   "outputs": [],
   "source": [
    "from src.data import download_data"
   ]
  },
  {
   "cell_type": "code",
   "execution_count": null,
   "id": "4d6e58d2",
   "metadata": {},
   "outputs": [
    {
     "data": {
      "text/plain": [
       "['https://assets.publishing.service.gov.uk/media/682ee4e6e9440506ee953960/obo_2010_2016.zip',\n",
       " 'https://assets.publishing.service.gov.uk/media/682ee571b33f68eaba953948/obo_2017_2024.zip']"
      ]
     },
     "execution_count": 15,
     "metadata": {},
     "output_type": "execute_result"
    }
   ],
   "source": [
    "attachments = download_data.download_files()\n",
    "attachments"
   ]
  },
  {
   "cell_type": "code",
   "execution_count": null,
   "id": "2b402e0a",
   "metadata": {},
   "outputs": [
    {
     "name": "stderr",
     "output_type": "stream",
     "text": [
      "2025-05-23 11:28:12,057 - INFO - Downloaded file obo_2010_2016.zip to data/raw//\n",
      "2025-05-23 11:28:33,389 - INFO - Downloaded file obo_2017_2024.zip to data/raw//\n",
      "2025-05-23 11:28:33,390 - INFO - Download complete for data/raw/obo_2017_2024.zip!\n"
     ]
    }
   ],
   "source": [
    "download_data.main()"
   ]
  },
  {
   "cell_type": "code",
   "execution_count": null,
   "id": "16e70323",
   "metadata": {},
   "outputs": [],
   "source": []
  }
 ],
 "metadata": {
  "kernelspec": {
   "display_name": "Python 3",
   "language": "python",
   "name": "python3"
  },
  "language_info": {
   "codemirror_mode": {
    "name": "ipython",
    "version": 3
   },
   "file_extension": ".py",
   "mimetype": "text/x-python",
   "name": "python",
   "nbconvert_exporter": "python",
   "pygments_lexer": "ipython3",
   "version": "3.13.3"
  }
 },
 "nbformat": 4,
 "nbformat_minor": 5
}
