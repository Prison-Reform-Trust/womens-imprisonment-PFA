{
 "cells": [
  {
   "cell_type": "code",
   "execution_count": 1,
   "metadata": {},
   "outputs": [],
   "source": [
    "import pandas as pd\n",
    "import textwrap\n",
    "import plotly.graph_objs as go\n",
    "import plotly.io as pio\n",
    "from pathlib import Path #To create unique filenames for each PFA chart\n",
    "import itertools\n",
    "\n",
    "import src.data.utilities as utils\n",
    "import src.visualization.prt_theme as prt_theme\n",
    "\n",
    "config = utils.read_config()\n",
    "pio.templates.default = \"prt_template\""
   ]
  },
  {
   "cell_type": "code",
   "execution_count": 2,
   "metadata": {},
   "outputs": [],
   "source": [
    "def loadData(status='processed', filename='PFA_2022_offences.csv') -> pd.DataFrame:\n",
    "    \"\"\"Load CSV file into Pandas DataFrame and convert object columns to categories when they meet criteria in `categoryColumns()`\n",
    "\n",
    "    Parameters\n",
    "    ----------\n",
    "    status : {'raw', 'interim', 'processed'}, default is 'interim'\n",
    "        Status of the data processing.\n",
    "        * If 'raw' file is located in \"rawFilePath\" within config file\n",
    "        * If 'interim', file is located in \"intFilePath\"\n",
    "        * If 'processed', file is located in \"clnFilePath\"\n",
    "    filename : str, default is 'PFA_2010-22_women_cust_comm_sus.csv'\n",
    "        Name of CSV file to be loaded.\n",
    "\n",
    "    Returns\n",
    "    -------\n",
    "    DataFrame\n",
    "        CSV data is returned as Pandas DataFrame with any eligible object columns converted into category columns to limit memory requirements\n",
    "    \"\"\"\n",
    "    paths = {\n",
    "        \"raw\": 'rawFilePath',\n",
    "        \"interim\": 'intFilePath',\n",
    "        \"processed\": 'clnFilePath'\n",
    "    }\n",
    "\n",
    "    dfPath=f\"{config['data'][paths[status]]}{filename}\"\n",
    "    df = pd.read_csv(dfPath)\n",
    "    print('Data loaded')\n",
    "    return utils.categoryColumns(df)"
   ]
  },
  {
   "cell_type": "code",
   "execution_count": 3,
   "metadata": {},
   "outputs": [
    {
     "name": "stdout",
     "output_type": "stream",
     "text": [
      "Data loaded\n"
     ]
    }
   ],
   "source": [
    "df = loadData()"
   ]
  },
  {
   "cell_type": "code",
   "execution_count": 4,
   "metadata": {},
   "outputs": [
    {
     "data": {
      "text/plain": [
       "Index(['pfa', 'Criminal damage and arson', 'Drug offences', 'Fraud Offences',\n",
       "       'Miscellaneous crimes against society', 'Possession of weapons',\n",
       "       'Public order offences', 'Robbery', 'Sexual offences',\n",
       "       'Summary motoring', 'Summary non-motoring', 'Theft offences',\n",
       "       'Violence against the person'],\n",
       "      dtype='object')"
      ]
     },
     "execution_count": 4,
     "metadata": {},
     "output_type": "execute_result"
    }
   ],
   "source": [
    "df.columns"
   ]
  },
  {
   "cell_type": "markdown",
   "metadata": {},
   "source": [
    "Fraud offences has a capital letter, let's remove. I'll circle back and resolve this in the processing code later on."
   ]
  },
  {
   "cell_type": "code",
   "execution_count": 5,
   "metadata": {},
   "outputs": [],
   "source": [
    "df = df.rename({'Fraud Offences': 'Fraud offences'}, axis=1)"
   ]
  },
  {
   "cell_type": "code",
   "execution_count": 6,
   "metadata": {},
   "outputs": [],
   "source": [
    "#Melting df2 from wide to long\n",
    "df2 = pd.melt(df, id_vars='pfa', value_vars=df.columns[1:], var_name='offence', value_name='proportion')\n",
    "\n",
    "#Selecting the offences that I want to continue to display at the root of the sunburst diagram\n",
    "highlighted_offence_groups = ['Theft offences', 'Drug offences', 'Violence against the person']\n",
    "filt = df2['offence'].isin(highlighted_offence_groups)\n",
    "\n",
    "df2.loc[filt, 'parent'] = \"All offences\" # This method prevents that annoying copy/view warning\n",
    "df2.loc[~filt, 'parent'] = \"All other<br>offences\"\n",
    "\n",
    "#Setting discreet plotting order\n",
    "plot_dict = {\n",
    "    'All other offences': 0,\n",
    "    'Theft offences': 1,\n",
    "    'Drug offences': 2,\n",
    "    'Violence against the person': 3\n",
    "}\n",
    "\n",
    "df2['plot_order'] = df2[\"offence\"].map(plot_dict).fillna(0)\n",
    "\n",
    "#Adding text wrapping for longer offence categories\n",
    "def customwrap(s,width=19):\n",
    "    return \"<br>\".join(textwrap.wrap(s,width=width))\n",
    "\n",
    "df2['offence'] = df2['offence'].map(customwrap)\n"
   ]
  },
  {
   "cell_type": "code",
   "execution_count": 112,
   "metadata": {},
   "outputs": [],
   "source": [
    "#Melting df2 from wide to long\n",
    "df2 = pd.melt(df, id_vars='pfa', value_vars=df.columns[1:], var_name='offence', value_name='proportion')\n",
    "\n",
    "#Selecting the offences that I want to continue to display at the root of the sunburst diagram\n",
    "highlighted_offence_groups = ['Theft offences', 'Drug offences', 'Violence against the person']\n",
    "filt = df2['offence'].isin(highlighted_offence_groups)\n",
    "\n",
    "df2.loc[filt, 'parent'] = \"All offences\" # This method prevents that annoying copy/view warning\n",
    "df2.loc[~filt, 'parent'] = \"All other<br>offences\"\n",
    "\n",
    "#Adding discreet colour mapping labels\n",
    "\n",
    "colors = prt_theme.pio.templates[\"prt_template\"].layout.colorway\n",
    "\n",
    "color_dict = {\n",
    "    'All other offences': colors[0],\n",
    "    'Theft offences': colors[1],\n",
    "    'Drug offences': colors[2],\n",
    "    'Violence against the person': colors[3]\n",
    "}\n",
    "\n",
    "df2[\"colors\"] = df2[\"offence\"].map(color_dict).fillna(colors[0])\n",
    "\n",
    "#Adding text wrapping for longer offence categories\n",
    "def customwrap(s,width=19):\n",
    "    return \"<br>\".join(textwrap.wrap(s,width=width))\n",
    "\n",
    "df2['offence'] = df2['offence'].map(customwrap)"
   ]
  },
  {
   "cell_type": "code",
   "execution_count": 147,
   "metadata": {},
   "outputs": [],
   "source": [
    "#Setting discreet plotting order\n",
    "plot_dict = {\n",
    "    'All other offences': 0,\n",
    "    'Theft offences': 1,\n",
    "    'Drug offences': 2,\n",
    "    'Violence against the person': 3\n",
    "}\n",
    "\n",
    "df2['plot_order'] = df2[\"offence\"].map(plot_dict).fillna(0)"
   ]
  },
  {
   "cell_type": "code",
   "execution_count": 7,
   "metadata": {},
   "outputs": [
    {
     "ename": "NameError",
     "evalue": "name 'plot_order' is not defined",
     "output_type": "error",
     "traceback": [
      "\u001b[0;31m---------------------------------------------------------------------------\u001b[0m",
      "\u001b[0;31mNameError\u001b[0m                                 Traceback (most recent call last)",
      "\u001b[0;32m/var/folders/hy/5c2dz07s4w72_kt7ny6zg8ph0000gn/T/ipykernel_4971/650776602.py\u001b[0m in \u001b[0;36m<module>\u001b[0;34m\u001b[0m\n\u001b[0;32m----> 1\u001b[0;31m \u001b[0mplot_order\u001b[0m\u001b[0;34m\u001b[0m\u001b[0;34m\u001b[0m\u001b[0m\n\u001b[0m",
      "\u001b[0;31mNameError\u001b[0m: name 'plot_order' is not defined"
     ]
    }
   ],
   "source": [
    "plot_order"
   ]
  },
  {
   "cell_type": "code",
   "execution_count": 8,
   "metadata": {},
   "outputs": [
    {
     "data": {
      "text/html": [
       "<div>\n",
       "<style scoped>\n",
       "    .dataframe tbody tr th:only-of-type {\n",
       "        vertical-align: middle;\n",
       "    }\n",
       "\n",
       "    .dataframe tbody tr th {\n",
       "        vertical-align: top;\n",
       "    }\n",
       "\n",
       "    .dataframe thead th {\n",
       "        text-align: right;\n",
       "    }\n",
       "</style>\n",
       "<table border=\"1\" class=\"dataframe\">\n",
       "  <thead>\n",
       "    <tr style=\"text-align: right;\">\n",
       "      <th></th>\n",
       "      <th>pfa</th>\n",
       "      <th>offence</th>\n",
       "      <th>proportion</th>\n",
       "      <th>parent</th>\n",
       "      <th>plot_order</th>\n",
       "    </tr>\n",
       "  </thead>\n",
       "  <tbody>\n",
       "    <tr>\n",
       "      <th>0</th>\n",
       "      <td>Avon and Somerset</td>\n",
       "      <td>Criminal damage and&lt;br&gt;arson</td>\n",
       "      <td>0.017</td>\n",
       "      <td>All other&lt;br&gt;offences</td>\n",
       "      <td>0.0</td>\n",
       "    </tr>\n",
       "    <tr>\n",
       "      <th>1</th>\n",
       "      <td>Bedfordshire</td>\n",
       "      <td>Criminal damage and&lt;br&gt;arson</td>\n",
       "      <td>0.000</td>\n",
       "      <td>All other&lt;br&gt;offences</td>\n",
       "      <td>0.0</td>\n",
       "    </tr>\n",
       "    <tr>\n",
       "      <th>2</th>\n",
       "      <td>Cambridgeshire</td>\n",
       "      <td>Criminal damage and&lt;br&gt;arson</td>\n",
       "      <td>0.000</td>\n",
       "      <td>All other&lt;br&gt;offences</td>\n",
       "      <td>0.0</td>\n",
       "    </tr>\n",
       "    <tr>\n",
       "      <th>3</th>\n",
       "      <td>Cheshire</td>\n",
       "      <td>Criminal damage and&lt;br&gt;arson</td>\n",
       "      <td>0.014</td>\n",
       "      <td>All other&lt;br&gt;offences</td>\n",
       "      <td>0.0</td>\n",
       "    </tr>\n",
       "    <tr>\n",
       "      <th>4</th>\n",
       "      <td>Cleveland</td>\n",
       "      <td>Criminal damage and&lt;br&gt;arson</td>\n",
       "      <td>0.010</td>\n",
       "      <td>All other&lt;br&gt;offences</td>\n",
       "      <td>0.0</td>\n",
       "    </tr>\n",
       "    <tr>\n",
       "      <th>...</th>\n",
       "      <td>...</td>\n",
       "      <td>...</td>\n",
       "      <td>...</td>\n",
       "      <td>...</td>\n",
       "      <td>...</td>\n",
       "    </tr>\n",
       "    <tr>\n",
       "      <th>499</th>\n",
       "      <td>Warwickshire</td>\n",
       "      <td>Violence against&lt;br&gt;the person</td>\n",
       "      <td>0.220</td>\n",
       "      <td>All offences</td>\n",
       "      <td>3.0</td>\n",
       "    </tr>\n",
       "    <tr>\n",
       "      <th>500</th>\n",
       "      <td>West Mercia</td>\n",
       "      <td>Violence against&lt;br&gt;the person</td>\n",
       "      <td>0.255</td>\n",
       "      <td>All offences</td>\n",
       "      <td>3.0</td>\n",
       "    </tr>\n",
       "    <tr>\n",
       "      <th>501</th>\n",
       "      <td>West Midlands</td>\n",
       "      <td>Violence against&lt;br&gt;the person</td>\n",
       "      <td>0.231</td>\n",
       "      <td>All offences</td>\n",
       "      <td>3.0</td>\n",
       "    </tr>\n",
       "    <tr>\n",
       "      <th>502</th>\n",
       "      <td>West Yorkshire</td>\n",
       "      <td>Violence against&lt;br&gt;the person</td>\n",
       "      <td>0.195</td>\n",
       "      <td>All offences</td>\n",
       "      <td>3.0</td>\n",
       "    </tr>\n",
       "    <tr>\n",
       "      <th>503</th>\n",
       "      <td>Wiltshire</td>\n",
       "      <td>Violence against&lt;br&gt;the person</td>\n",
       "      <td>0.133</td>\n",
       "      <td>All offences</td>\n",
       "      <td>3.0</td>\n",
       "    </tr>\n",
       "  </tbody>\n",
       "</table>\n",
       "<p>504 rows × 5 columns</p>\n",
       "</div>"
      ],
      "text/plain": [
       "                   pfa                         offence  proportion  \\\n",
       "0    Avon and Somerset    Criminal damage and<br>arson       0.017   \n",
       "1         Bedfordshire    Criminal damage and<br>arson       0.000   \n",
       "2       Cambridgeshire    Criminal damage and<br>arson       0.000   \n",
       "3             Cheshire    Criminal damage and<br>arson       0.014   \n",
       "4            Cleveland    Criminal damage and<br>arson       0.010   \n",
       "..                 ...                             ...         ...   \n",
       "499       Warwickshire  Violence against<br>the person       0.220   \n",
       "500        West Mercia  Violence against<br>the person       0.255   \n",
       "501      West Midlands  Violence against<br>the person       0.231   \n",
       "502     West Yorkshire  Violence against<br>the person       0.195   \n",
       "503          Wiltshire  Violence against<br>the person       0.133   \n",
       "\n",
       "                    parent  plot_order  \n",
       "0    All other<br>offences         0.0  \n",
       "1    All other<br>offences         0.0  \n",
       "2    All other<br>offences         0.0  \n",
       "3    All other<br>offences         0.0  \n",
       "4    All other<br>offences         0.0  \n",
       "..                     ...         ...  \n",
       "499           All offences         3.0  \n",
       "500           All offences         3.0  \n",
       "501           All offences         3.0  \n",
       "502           All offences         3.0  \n",
       "503           All offences         3.0  \n",
       "\n",
       "[504 rows x 5 columns]"
      ]
     },
     "execution_count": 8,
     "metadata": {},
     "output_type": "execute_result"
    }
   ],
   "source": [
    "df2"
   ]
  },
  {
   "cell_type": "code",
   "execution_count": 149,
   "metadata": {},
   "outputs": [],
   "source": [
    "def customwrap(s,width=19):\n",
    "    return \"<br>\".join(textwrap.wrap(s,width=width))\n",
    "\n",
    "df2['offence'] = df2['offence'].map(customwrap)"
   ]
  },
  {
   "cell_type": "code",
   "execution_count": 150,
   "metadata": {},
   "outputs": [
    {
     "data": {
      "text/plain": [
       "array(['Criminal damage and<br>arson', 'Drug offences', 'Fraud offences',\n",
       "       'Miscellaneous<br>crimes against<br>society',\n",
       "       'Possession of<br>weapons', 'Public order<br>offences', 'Robbery',\n",
       "       'Sexual offences', 'Summary motoring', 'Summary non-<br>motoring',\n",
       "       'Theft offences', 'Violence against<br>the person'], dtype=object)"
      ]
     },
     "execution_count": 150,
     "metadata": {},
     "output_type": "execute_result"
    }
   ],
   "source": [
    "df2['offence'].unique()"
   ]
  },
  {
   "cell_type": "code",
   "execution_count": null,
   "metadata": {},
   "outputs": [],
   "source": [
    "#Filtering dataframe to remove values with null values\n",
    "mask = pfa_df['proportion'] > 0\n",
    "pfa_df = pfa_df[mask]"
   ]
  },
  {
   "cell_type": "code",
   "execution_count": 9,
   "metadata": {},
   "outputs": [
    {
     "data": {
      "application/vnd.plotly.v1+json": {
       "config": {
        "plotlyServerURL": "https://plot.ly"
       },
       "data": [
        {
         "branchvalues": "total",
         "hoverinfo": "label+percent parent",
         "hovertemplate": "<b>%{label}</b><br>%{percentParent: .0%} of %{parent}<extra></extra>",
         "insidetextorientation": "horizontal",
         "labels": [
          "Violence against the<br>person",
          "Theft offences",
          "Summary non-motoring",
          "Summary motoring",
          "Sexual offences",
          "Robbery",
          "Public order<br>offences",
          "Possession of<br>weapons",
          "Miscellaneous crimes<br>against society",
          "Fraud offences",
          "Drug offences",
          "Criminal damage and<br>arson",
          "All other<br>offences"
         ],
         "parents": [
          "All offences",
          "All offences",
          "All other<br>offences",
          "All other<br>offences",
          "All other<br>offences",
          "All other<br>offences",
          "All other<br>offences",
          "All other<br>offences",
          "All other<br>offences",
          "All other<br>offences",
          "All offences",
          "All other<br>offences",
          "All offences"
         ],
         "rotation": 90,
         "sort": false,
         "texttemplate": "%{label}<br>%{percentRoot: .0%}",
         "type": "sunburst",
         "values": [
          0.345,
          0.224,
          0.155,
          0.017,
          0.009,
          0.009,
          0.069,
          0.009,
          0.026,
          0.017,
          0.103,
          0.017,
          0.328
         ]
        }
       ],
       "layout": {
        "annotations": [
         {
          "align": "left",
          "font": {
           "size": 12
          },
          "showarrow": false,
          "text": "Source: Ministry of Justice, Criminal justice statistics",
          "x": -0.08,
          "xref": "paper",
          "y": -0.19,
          "yref": "paper"
         }
        ],
        "height": 600,
        "margin": {
         "b": 20,
         "l": 0,
         "r": 0,
         "t": 75
        },
        "template": {
         "layout": {
          "colorway": [
           "#A01D28",
           "#499CC9",
           "#F9A237",
           "#6FBA3A",
           "#573D6B"
          ],
          "font": {
           "color": "#54565B",
           "family": "Helvetica Neue, Arial",
           "size": 12
          },
          "modebar": {
           "activecolor": "#A01D28"
          },
          "paper_bgcolor": "#F7F2F2",
          "plot_bgcolor": "#F7F2F2",
          "showlegend": false,
          "title": {
           "font": {
            "family": "Helvetica Neue, Arial",
            "size": 17
           },
           "y": 0.94,
           "yanchor": "bottom"
          },
          "xaxis": {
           "showgrid": false,
           "tickcolor": "#54565B"
          }
         }
        },
        "title": {
         "text": "<b>Imprisonment of women in Avon and Somerset<br>by offence group in 2022</b>",
         "y": 0.94,
         "yanchor": "bottom"
        },
        "uniformtext": {
         "minsize": 7,
         "mode": "hide"
        },
        "width": 600,
        "xaxis": {
         "range": [
          -1,
          1
         ],
         "showticklabels": false
        },
        "yaxis": {
         "range": [
          -1,
          1
         ],
         "showticklabels": false
        }
       }
      }
     },
     "metadata": {},
     "output_type": "display_data"
    },
    {
     "data": {
      "application/vnd.plotly.v1+json": {
       "config": {
        "plotlyServerURL": "https://plot.ly"
       },
       "data": [
        {
         "branchvalues": "total",
         "hoverinfo": "label+percent parent",
         "hovertemplate": "<b>%{label}</b><br>%{percentParent: .0%} of %{parent}<extra></extra>",
         "insidetextorientation": "horizontal",
         "labels": [
          "Violence against the<br>person",
          "Theft offences",
          "Summary non-motoring",
          "Summary motoring",
          "Sexual offences",
          "Robbery",
          "Public order<br>offences",
          "Possession of<br>weapons",
          "Miscellaneous crimes<br>against society",
          "Fraud offences",
          "Drug offences",
          "Criminal damage and<br>arson",
          "All other<br>offences"
         ],
         "parents": [
          "All offences",
          "All offences",
          "All other<br>offences",
          "All other<br>offences",
          "All other<br>offences",
          "All other<br>offences",
          "All other<br>offences",
          "All other<br>offences",
          "All other<br>offences",
          "All other<br>offences",
          "All offences",
          "All other<br>offences",
          "All offences"
         ],
         "rotation": 90,
         "sort": false,
         "texttemplate": "%{label}<br>%{percentRoot: .0%}",
         "type": "sunburst",
         "values": [
          0.237,
          0.316,
          0.079,
          0,
          0.026,
          0.026,
          0.053,
          0.132,
          0.053,
          0,
          0.079,
          0,
          0.369
         ]
        }
       ],
       "layout": {
        "annotations": [
         {
          "align": "left",
          "font": {
           "size": 12
          },
          "showarrow": false,
          "text": "Source: Ministry of Justice, Criminal justice statistics",
          "x": -0.08,
          "xref": "paper",
          "y": -0.19,
          "yref": "paper"
         }
        ],
        "height": 600,
        "margin": {
         "b": 20,
         "l": 0,
         "r": 0,
         "t": 75
        },
        "template": {
         "layout": {
          "colorway": [
           "#A01D28",
           "#499CC9",
           "#F9A237",
           "#6FBA3A",
           "#573D6B"
          ],
          "font": {
           "color": "#54565B",
           "family": "Helvetica Neue, Arial",
           "size": 12
          },
          "modebar": {
           "activecolor": "#A01D28"
          },
          "paper_bgcolor": "#F7F2F2",
          "plot_bgcolor": "#F7F2F2",
          "showlegend": false,
          "title": {
           "font": {
            "family": "Helvetica Neue, Arial",
            "size": 17
           },
           "y": 0.94,
           "yanchor": "bottom"
          },
          "xaxis": {
           "showgrid": false,
           "tickcolor": "#54565B"
          }
         }
        },
        "title": {
         "text": "<b>Imprisonment of women in Bedfordshire<br>by offence group in 2022</b>",
         "y": 0.94,
         "yanchor": "bottom"
        },
        "uniformtext": {
         "minsize": 7,
         "mode": "hide"
        },
        "width": 600,
        "xaxis": {
         "range": [
          -1,
          1
         ],
         "showticklabels": false
        },
        "yaxis": {
         "range": [
          -1,
          1
         ],
         "showticklabels": false
        }
       }
      }
     },
     "metadata": {},
     "output_type": "display_data"
    },
    {
     "data": {
      "application/vnd.plotly.v1+json": {
       "config": {
        "plotlyServerURL": "https://plot.ly"
       },
       "data": [
        {
         "branchvalues": "total",
         "hoverinfo": "label+percent parent",
         "hovertemplate": "<b>%{label}</b><br>%{percentParent: .0%} of %{parent}<extra></extra>",
         "insidetextorientation": "horizontal",
         "labels": [
          "Violence against the<br>person",
          "Theft offences",
          "Summary non-motoring",
          "Summary motoring",
          "Sexual offences",
          "Robbery",
          "Public order<br>offences",
          "Possession of<br>weapons",
          "Miscellaneous crimes<br>against society",
          "Fraud offences",
          "Drug offences",
          "Criminal damage and<br>arson",
          "All other<br>offences"
         ],
         "parents": [
          "All offences",
          "All offences",
          "All other<br>offences",
          "All other<br>offences",
          "All other<br>offences",
          "All other<br>offences",
          "All other<br>offences",
          "All other<br>offences",
          "All other<br>offences",
          "All other<br>offences",
          "All offences",
          "All other<br>offences",
          "All offences"
         ],
         "rotation": 90,
         "sort": false,
         "texttemplate": "%{label}<br>%{percentRoot: .0%}",
         "type": "sunburst",
         "values": [
          0.191,
          0.324,
          0.162,
          0,
          0,
          0.015,
          0.074,
          0.059,
          0.015,
          0.044,
          0.118,
          0,
          0.369
         ]
        }
       ],
       "layout": {
        "annotations": [
         {
          "align": "left",
          "font": {
           "size": 12
          },
          "showarrow": false,
          "text": "Source: Ministry of Justice, Criminal justice statistics",
          "x": -0.08,
          "xref": "paper",
          "y": -0.19,
          "yref": "paper"
         }
        ],
        "height": 600,
        "margin": {
         "b": 20,
         "l": 0,
         "r": 0,
         "t": 75
        },
        "template": {
         "layout": {
          "colorway": [
           "#A01D28",
           "#499CC9",
           "#F9A237",
           "#6FBA3A",
           "#573D6B"
          ],
          "font": {
           "color": "#54565B",
           "family": "Helvetica Neue, Arial",
           "size": 12
          },
          "modebar": {
           "activecolor": "#A01D28"
          },
          "paper_bgcolor": "#F7F2F2",
          "plot_bgcolor": "#F7F2F2",
          "showlegend": false,
          "title": {
           "font": {
            "family": "Helvetica Neue, Arial",
            "size": 17
           },
           "y": 0.94,
           "yanchor": "bottom"
          },
          "xaxis": {
           "showgrid": false,
           "tickcolor": "#54565B"
          }
         }
        },
        "title": {
         "text": "<b>Imprisonment of women in Cambridgeshire<br>by offence group in 2022</b>",
         "y": 0.94,
         "yanchor": "bottom"
        },
        "uniformtext": {
         "minsize": 7,
         "mode": "hide"
        },
        "width": 600,
        "xaxis": {
         "range": [
          -1,
          1
         ],
         "showticklabels": false
        },
        "yaxis": {
         "range": [
          -1,
          1
         ],
         "showticklabels": false
        }
       }
      }
     },
     "metadata": {},
     "output_type": "display_data"
    },
    {
     "data": {
      "application/vnd.plotly.v1+json": {
       "config": {
        "plotlyServerURL": "https://plot.ly"
       },
       "data": [
        {
         "branchvalues": "total",
         "hoverinfo": "label+percent parent",
         "hovertemplate": "<b>%{label}</b><br>%{percentParent: .0%} of %{parent}<extra></extra>",
         "insidetextorientation": "horizontal",
         "labels": [
          "Violence against the<br>person",
          "Theft offences",
          "Summary non-motoring",
          "Summary motoring",
          "Sexual offences",
          "Robbery",
          "Public order<br>offences",
          "Possession of<br>weapons",
          "Miscellaneous crimes<br>against society",
          "Fraud offences",
          "Drug offences",
          "Criminal damage and<br>arson",
          "All other<br>offences"
         ],
         "parents": [
          "All offences",
          "All offences",
          "All other<br>offences",
          "All other<br>offences",
          "All other<br>offences",
          "All other<br>offences",
          "All other<br>offences",
          "All other<br>offences",
          "All other<br>offences",
          "All other<br>offences",
          "All offences",
          "All other<br>offences",
          "All offences"
         ],
         "rotation": 90,
         "sort": false,
         "texttemplate": "%{label}<br>%{percentRoot: .0%}",
         "type": "sunburst",
         "values": [
          0.216,
          0.297,
          0.095,
          0.014,
          0,
          0.027,
          0.054,
          0.041,
          0.014,
          0.108,
          0.122,
          0.014,
          0.367
         ]
        }
       ],
       "layout": {
        "annotations": [
         {
          "align": "left",
          "font": {
           "size": 12
          },
          "showarrow": false,
          "text": "Source: Ministry of Justice, Criminal justice statistics",
          "x": -0.08,
          "xref": "paper",
          "y": -0.19,
          "yref": "paper"
         }
        ],
        "height": 600,
        "margin": {
         "b": 20,
         "l": 0,
         "r": 0,
         "t": 75
        },
        "template": {
         "layout": {
          "colorway": [
           "#A01D28",
           "#499CC9",
           "#F9A237",
           "#6FBA3A",
           "#573D6B"
          ],
          "font": {
           "color": "#54565B",
           "family": "Helvetica Neue, Arial",
           "size": 12
          },
          "modebar": {
           "activecolor": "#A01D28"
          },
          "paper_bgcolor": "#F7F2F2",
          "plot_bgcolor": "#F7F2F2",
          "showlegend": false,
          "title": {
           "font": {
            "family": "Helvetica Neue, Arial",
            "size": 17
           },
           "y": 0.94,
           "yanchor": "bottom"
          },
          "xaxis": {
           "showgrid": false,
           "tickcolor": "#54565B"
          }
         }
        },
        "title": {
         "text": "<b>Imprisonment of women in Cheshire<br>by offence group in 2022</b>",
         "y": 0.94,
         "yanchor": "bottom"
        },
        "uniformtext": {
         "minsize": 7,
         "mode": "hide"
        },
        "width": 600,
        "xaxis": {
         "range": [
          -1,
          1
         ],
         "showticklabels": false
        },
        "yaxis": {
         "range": [
          -1,
          1
         ],
         "showticklabels": false
        }
       }
      }
     },
     "metadata": {},
     "output_type": "display_data"
    },
    {
     "data": {
      "application/vnd.plotly.v1+json": {
       "config": {
        "plotlyServerURL": "https://plot.ly"
       },
       "data": [
        {
         "branchvalues": "total",
         "hoverinfo": "label+percent parent",
         "hovertemplate": "<b>%{label}</b><br>%{percentParent: .0%} of %{parent}<extra></extra>",
         "insidetextorientation": "horizontal",
         "labels": [
          "Violence against the<br>person",
          "Theft offences",
          "Summary non-motoring",
          "Summary motoring",
          "Sexual offences",
          "Robbery",
          "Public order<br>offences",
          "Possession of<br>weapons",
          "Miscellaneous crimes<br>against society",
          "Fraud offences",
          "Drug offences",
          "Criminal damage and<br>arson",
          "All other<br>offences"
         ],
         "parents": [
          "All offences",
          "All offences",
          "All other<br>offences",
          "All other<br>offences",
          "All other<br>offences",
          "All other<br>offences",
          "All other<br>offences",
          "All other<br>offences",
          "All other<br>offences",
          "All other<br>offences",
          "All offences",
          "All other<br>offences",
          "All offences"
         ],
         "rotation": 90,
         "sort": false,
         "texttemplate": "%{label}<br>%{percentRoot: .0%}",
         "type": "sunburst",
         "values": [
          0.16,
          0.41,
          0.07,
          0.03,
          0.02,
          0.05,
          0.02,
          0.06,
          0.06,
          0.03,
          0.08,
          0.01,
          0.35000000000000003
         ]
        }
       ],
       "layout": {
        "annotations": [
         {
          "align": "left",
          "font": {
           "size": 12
          },
          "showarrow": false,
          "text": "Source: Ministry of Justice, Criminal justice statistics",
          "x": -0.08,
          "xref": "paper",
          "y": -0.19,
          "yref": "paper"
         }
        ],
        "height": 600,
        "margin": {
         "b": 20,
         "l": 0,
         "r": 0,
         "t": 75
        },
        "template": {
         "layout": {
          "colorway": [
           "#A01D28",
           "#499CC9",
           "#F9A237",
           "#6FBA3A",
           "#573D6B"
          ],
          "font": {
           "color": "#54565B",
           "family": "Helvetica Neue, Arial",
           "size": 12
          },
          "modebar": {
           "activecolor": "#A01D28"
          },
          "paper_bgcolor": "#F7F2F2",
          "plot_bgcolor": "#F7F2F2",
          "showlegend": false,
          "title": {
           "font": {
            "family": "Helvetica Neue, Arial",
            "size": 17
           },
           "y": 0.94,
           "yanchor": "bottom"
          },
          "xaxis": {
           "showgrid": false,
           "tickcolor": "#54565B"
          }
         }
        },
        "title": {
         "text": "<b>Imprisonment of women in Cleveland<br>by offence group in 2022</b>",
         "y": 0.94,
         "yanchor": "bottom"
        },
        "uniformtext": {
         "minsize": 7,
         "mode": "hide"
        },
        "width": 600,
        "xaxis": {
         "range": [
          -1,
          1
         ],
         "showticklabels": false
        },
        "yaxis": {
         "range": [
          -1,
          1
         ],
         "showticklabels": false
        }
       }
      }
     },
     "metadata": {},
     "output_type": "display_data"
    },
    {
     "data": {
      "application/vnd.plotly.v1+json": {
       "config": {
        "plotlyServerURL": "https://plot.ly"
       },
       "data": [
        {
         "branchvalues": "total",
         "hoverinfo": "label+percent parent",
         "hovertemplate": "<b>%{label}</b><br>%{percentParent: .0%} of %{parent}<extra></extra>",
         "insidetextorientation": "horizontal",
         "labels": [
          "Violence against the<br>person",
          "Theft offences",
          "Summary non-motoring",
          "Summary motoring",
          "Sexual offences",
          "Robbery",
          "Public order<br>offences",
          "Possession of<br>weapons",
          "Miscellaneous crimes<br>against society",
          "Fraud offences",
          "Drug offences",
          "Criminal damage and<br>arson",
          "All other<br>offences"
         ],
         "parents": [
          "All offences",
          "All offences",
          "All other<br>offences",
          "All other<br>offences",
          "All other<br>offences",
          "All other<br>offences",
          "All other<br>offences",
          "All other<br>offences",
          "All other<br>offences",
          "All other<br>offences",
          "All offences",
          "All other<br>offences",
          "All offences"
         ],
         "rotation": 90,
         "sort": false,
         "texttemplate": "%{label}<br>%{percentRoot: .0%}",
         "type": "sunburst",
         "values": [
          0.31,
          0.345,
          0.069,
          0.034,
          0,
          0,
          0.172,
          0,
          0,
          0,
          0.069,
          0,
          0.275
         ]
        }
       ],
       "layout": {
        "annotations": [
         {
          "align": "left",
          "font": {
           "size": 12
          },
          "showarrow": false,
          "text": "Source: Ministry of Justice, Criminal justice statistics",
          "x": -0.08,
          "xref": "paper",
          "y": -0.19,
          "yref": "paper"
         }
        ],
        "height": 600,
        "margin": {
         "b": 20,
         "l": 0,
         "r": 0,
         "t": 75
        },
        "template": {
         "layout": {
          "colorway": [
           "#A01D28",
           "#499CC9",
           "#F9A237",
           "#6FBA3A",
           "#573D6B"
          ],
          "font": {
           "color": "#54565B",
           "family": "Helvetica Neue, Arial",
           "size": 12
          },
          "modebar": {
           "activecolor": "#A01D28"
          },
          "paper_bgcolor": "#F7F2F2",
          "plot_bgcolor": "#F7F2F2",
          "showlegend": false,
          "title": {
           "font": {
            "family": "Helvetica Neue, Arial",
            "size": 17
           },
           "y": 0.94,
           "yanchor": "bottom"
          },
          "xaxis": {
           "showgrid": false,
           "tickcolor": "#54565B"
          }
         }
        },
        "title": {
         "text": "<b>Imprisonment of women in Cumbria<br>by offence group in 2022</b>",
         "y": 0.94,
         "yanchor": "bottom"
        },
        "uniformtext": {
         "minsize": 7,
         "mode": "hide"
        },
        "width": 600,
        "xaxis": {
         "range": [
          -1,
          1
         ],
         "showticklabels": false
        },
        "yaxis": {
         "range": [
          -1,
          1
         ],
         "showticklabels": false
        }
       }
      }
     },
     "metadata": {},
     "output_type": "display_data"
    },
    {
     "data": {
      "application/vnd.plotly.v1+json": {
       "config": {
        "plotlyServerURL": "https://plot.ly"
       },
       "data": [
        {
         "branchvalues": "total",
         "hoverinfo": "label+percent parent",
         "hovertemplate": "<b>%{label}</b><br>%{percentParent: .0%} of %{parent}<extra></extra>",
         "insidetextorientation": "horizontal",
         "labels": [
          "Violence against the<br>person",
          "Theft offences",
          "Summary non-motoring",
          "Summary motoring",
          "Sexual offences",
          "Robbery",
          "Public order<br>offences",
          "Possession of<br>weapons",
          "Miscellaneous crimes<br>against society",
          "Fraud offences",
          "Drug offences",
          "Criminal damage and<br>arson",
          "All other<br>offences"
         ],
         "parents": [
          "All offences",
          "All offences",
          "All other<br>offences",
          "All other<br>offences",
          "All other<br>offences",
          "All other<br>offences",
          "All other<br>offences",
          "All other<br>offences",
          "All other<br>offences",
          "All other<br>offences",
          "All offences",
          "All other<br>offences",
          "All offences"
         ],
         "rotation": 90,
         "sort": false,
         "texttemplate": "%{label}<br>%{percentRoot: .0%}",
         "type": "sunburst",
         "values": [
          0.213,
          0.443,
          0.082,
          0.033,
          0,
          0.025,
          0.041,
          0.025,
          0.025,
          0.057,
          0.057,
          0,
          0.28800000000000003
         ]
        }
       ],
       "layout": {
        "annotations": [
         {
          "align": "left",
          "font": {
           "size": 12
          },
          "showarrow": false,
          "text": "Source: Ministry of Justice, Criminal justice statistics",
          "x": -0.08,
          "xref": "paper",
          "y": -0.19,
          "yref": "paper"
         }
        ],
        "height": 600,
        "margin": {
         "b": 20,
         "l": 0,
         "r": 0,
         "t": 75
        },
        "template": {
         "layout": {
          "colorway": [
           "#A01D28",
           "#499CC9",
           "#F9A237",
           "#6FBA3A",
           "#573D6B"
          ],
          "font": {
           "color": "#54565B",
           "family": "Helvetica Neue, Arial",
           "size": 12
          },
          "modebar": {
           "activecolor": "#A01D28"
          },
          "paper_bgcolor": "#F7F2F2",
          "plot_bgcolor": "#F7F2F2",
          "showlegend": false,
          "title": {
           "font": {
            "family": "Helvetica Neue, Arial",
            "size": 17
           },
           "y": 0.94,
           "yanchor": "bottom"
          },
          "xaxis": {
           "showgrid": false,
           "tickcolor": "#54565B"
          }
         }
        },
        "title": {
         "text": "<b>Imprisonment of women in Derbyshire<br>by offence group in 2022</b>",
         "y": 0.94,
         "yanchor": "bottom"
        },
        "uniformtext": {
         "minsize": 7,
         "mode": "hide"
        },
        "width": 600,
        "xaxis": {
         "range": [
          -1,
          1
         ],
         "showticklabels": false
        },
        "yaxis": {
         "range": [
          -1,
          1
         ],
         "showticklabels": false
        }
       }
      }
     },
     "metadata": {},
     "output_type": "display_data"
    },
    {
     "data": {
      "application/vnd.plotly.v1+json": {
       "config": {
        "plotlyServerURL": "https://plot.ly"
       },
       "data": [
        {
         "branchvalues": "total",
         "hoverinfo": "label+percent parent",
         "hovertemplate": "<b>%{label}</b><br>%{percentParent: .0%} of %{parent}<extra></extra>",
         "insidetextorientation": "horizontal",
         "labels": [
          "Violence against the<br>person",
          "Theft offences",
          "Summary non-motoring",
          "Summary motoring",
          "Sexual offences",
          "Robbery",
          "Public order<br>offences",
          "Possession of<br>weapons",
          "Miscellaneous crimes<br>against society",
          "Fraud offences",
          "Drug offences",
          "Criminal damage and<br>arson",
          "All other<br>offences"
         ],
         "parents": [
          "All offences",
          "All offences",
          "All other<br>offences",
          "All other<br>offences",
          "All other<br>offences",
          "All other<br>offences",
          "All other<br>offences",
          "All other<br>offences",
          "All other<br>offences",
          "All other<br>offences",
          "All offences",
          "All other<br>offences",
          "All offences"
         ],
         "rotation": 90,
         "sort": false,
         "texttemplate": "%{label}<br>%{percentRoot: .0%}",
         "type": "sunburst",
         "values": [
          0.206,
          0.222,
          0.095,
          0.063,
          0.048,
          0,
          0.159,
          0.111,
          0.032,
          0.032,
          0.032,
          0,
          0.54
         ]
        }
       ],
       "layout": {
        "annotations": [
         {
          "align": "left",
          "font": {
           "size": 12
          },
          "showarrow": false,
          "text": "Source: Ministry of Justice, Criminal justice statistics",
          "x": -0.08,
          "xref": "paper",
          "y": -0.19,
          "yref": "paper"
         }
        ],
        "height": 600,
        "margin": {
         "b": 20,
         "l": 0,
         "r": 0,
         "t": 75
        },
        "template": {
         "layout": {
          "colorway": [
           "#A01D28",
           "#499CC9",
           "#F9A237",
           "#6FBA3A",
           "#573D6B"
          ],
          "font": {
           "color": "#54565B",
           "family": "Helvetica Neue, Arial",
           "size": 12
          },
          "modebar": {
           "activecolor": "#A01D28"
          },
          "paper_bgcolor": "#F7F2F2",
          "plot_bgcolor": "#F7F2F2",
          "showlegend": false,
          "title": {
           "font": {
            "family": "Helvetica Neue, Arial",
            "size": 17
           },
           "y": 0.94,
           "yanchor": "bottom"
          },
          "xaxis": {
           "showgrid": false,
           "tickcolor": "#54565B"
          }
         }
        },
        "title": {
         "text": "<b>Imprisonment of women in Devon and Cornwall<br>by offence group in 2022</b>",
         "y": 0.94,
         "yanchor": "bottom"
        },
        "uniformtext": {
         "minsize": 7,
         "mode": "hide"
        },
        "width": 600,
        "xaxis": {
         "range": [
          -1,
          1
         ],
         "showticklabels": false
        },
        "yaxis": {
         "range": [
          -1,
          1
         ],
         "showticklabels": false
        }
       }
      }
     },
     "metadata": {},
     "output_type": "display_data"
    },
    {
     "data": {
      "application/vnd.plotly.v1+json": {
       "config": {
        "plotlyServerURL": "https://plot.ly"
       },
       "data": [
        {
         "branchvalues": "total",
         "hoverinfo": "label+percent parent",
         "hovertemplate": "<b>%{label}</b><br>%{percentParent: .0%} of %{parent}<extra></extra>",
         "insidetextorientation": "horizontal",
         "labels": [
          "Violence against the<br>person",
          "Theft offences",
          "Summary non-motoring",
          "Summary motoring",
          "Sexual offences",
          "Robbery",
          "Public order<br>offences",
          "Possession of<br>weapons",
          "Miscellaneous crimes<br>against society",
          "Fraud offences",
          "Drug offences",
          "Criminal damage and<br>arson",
          "All other<br>offences"
         ],
         "parents": [
          "All offences",
          "All offences",
          "All other<br>offences",
          "All other<br>offences",
          "All other<br>offences",
          "All other<br>offences",
          "All other<br>offences",
          "All other<br>offences",
          "All other<br>offences",
          "All other<br>offences",
          "All offences",
          "All other<br>offences",
          "All offences"
         ],
         "rotation": 90,
         "sort": false,
         "texttemplate": "%{label}<br>%{percentRoot: .0%}",
         "type": "sunburst",
         "values": [
          0.304,
          0.174,
          0.087,
          0,
          0,
          0,
          0,
          0.043,
          0.043,
          0.13,
          0.174,
          0.043,
          0.346
         ]
        }
       ],
       "layout": {
        "annotations": [
         {
          "align": "left",
          "font": {
           "size": 12
          },
          "showarrow": false,
          "text": "Source: Ministry of Justice, Criminal justice statistics",
          "x": -0.08,
          "xref": "paper",
          "y": -0.19,
          "yref": "paper"
         }
        ],
        "height": 600,
        "margin": {
         "b": 20,
         "l": 0,
         "r": 0,
         "t": 75
        },
        "template": {
         "layout": {
          "colorway": [
           "#A01D28",
           "#499CC9",
           "#F9A237",
           "#6FBA3A",
           "#573D6B"
          ],
          "font": {
           "color": "#54565B",
           "family": "Helvetica Neue, Arial",
           "size": 12
          },
          "modebar": {
           "activecolor": "#A01D28"
          },
          "paper_bgcolor": "#F7F2F2",
          "plot_bgcolor": "#F7F2F2",
          "showlegend": false,
          "title": {
           "font": {
            "family": "Helvetica Neue, Arial",
            "size": 17
           },
           "y": 0.94,
           "yanchor": "bottom"
          },
          "xaxis": {
           "showgrid": false,
           "tickcolor": "#54565B"
          }
         }
        },
        "title": {
         "text": "<b>Imprisonment of women in Dorset<br>by offence group in 2022</b>",
         "y": 0.94,
         "yanchor": "bottom"
        },
        "uniformtext": {
         "minsize": 7,
         "mode": "hide"
        },
        "width": 600,
        "xaxis": {
         "range": [
          -1,
          1
         ],
         "showticklabels": false
        },
        "yaxis": {
         "range": [
          -1,
          1
         ],
         "showticklabels": false
        }
       }
      }
     },
     "metadata": {},
     "output_type": "display_data"
    },
    {
     "data": {
      "application/vnd.plotly.v1+json": {
       "config": {
        "plotlyServerURL": "https://plot.ly"
       },
       "data": [
        {
         "branchvalues": "total",
         "hoverinfo": "label+percent parent",
         "hovertemplate": "<b>%{label}</b><br>%{percentParent: .0%} of %{parent}<extra></extra>",
         "insidetextorientation": "horizontal",
         "labels": [
          "Violence against the<br>person",
          "Theft offences",
          "Summary non-motoring",
          "Summary motoring",
          "Sexual offences",
          "Robbery",
          "Public order<br>offences",
          "Possession of<br>weapons",
          "Miscellaneous crimes<br>against society",
          "Fraud offences",
          "Drug offences",
          "Criminal damage and<br>arson",
          "All other<br>offences"
         ],
         "parents": [
          "All offences",
          "All offences",
          "All other<br>offences",
          "All other<br>offences",
          "All other<br>offences",
          "All other<br>offences",
          "All other<br>offences",
          "All other<br>offences",
          "All other<br>offences",
          "All other<br>offences",
          "All offences",
          "All other<br>offences",
          "All offences"
         ],
         "rotation": 90,
         "sort": false,
         "texttemplate": "%{label}<br>%{percentRoot: .0%}",
         "type": "sunburst",
         "values": [
          0.228,
          0.421,
          0.07,
          0.053,
          0.035,
          0.018,
          0.07,
          0,
          0.105,
          0,
          0,
          0,
          0.351
         ]
        }
       ],
       "layout": {
        "annotations": [
         {
          "align": "left",
          "font": {
           "size": 12
          },
          "showarrow": false,
          "text": "Source: Ministry of Justice, Criminal justice statistics",
          "x": -0.08,
          "xref": "paper",
          "y": -0.19,
          "yref": "paper"
         }
        ],
        "height": 600,
        "margin": {
         "b": 20,
         "l": 0,
         "r": 0,
         "t": 75
        },
        "template": {
         "layout": {
          "colorway": [
           "#A01D28",
           "#499CC9",
           "#F9A237",
           "#6FBA3A",
           "#573D6B"
          ],
          "font": {
           "color": "#54565B",
           "family": "Helvetica Neue, Arial",
           "size": 12
          },
          "modebar": {
           "activecolor": "#A01D28"
          },
          "paper_bgcolor": "#F7F2F2",
          "plot_bgcolor": "#F7F2F2",
          "showlegend": false,
          "title": {
           "font": {
            "family": "Helvetica Neue, Arial",
            "size": 17
           },
           "y": 0.94,
           "yanchor": "bottom"
          },
          "xaxis": {
           "showgrid": false,
           "tickcolor": "#54565B"
          }
         }
        },
        "title": {
         "text": "<b>Imprisonment of women in Durham<br>by offence group in 2022</b>",
         "y": 0.94,
         "yanchor": "bottom"
        },
        "uniformtext": {
         "minsize": 7,
         "mode": "hide"
        },
        "width": 600,
        "xaxis": {
         "range": [
          -1,
          1
         ],
         "showticklabels": false
        },
        "yaxis": {
         "range": [
          -1,
          1
         ],
         "showticklabels": false
        }
       }
      }
     },
     "metadata": {},
     "output_type": "display_data"
    },
    {
     "data": {
      "application/vnd.plotly.v1+json": {
       "config": {
        "plotlyServerURL": "https://plot.ly"
       },
       "data": [
        {
         "branchvalues": "total",
         "hoverinfo": "label+percent parent",
         "hovertemplate": "<b>%{label}</b><br>%{percentParent: .0%} of %{parent}<extra></extra>",
         "insidetextorientation": "horizontal",
         "labels": [
          "Violence against the<br>person",
          "Theft offences",
          "Summary non-motoring",
          "Summary motoring",
          "Sexual offences",
          "Robbery",
          "Public order<br>offences",
          "Possession of<br>weapons",
          "Miscellaneous crimes<br>against society",
          "Fraud offences",
          "Drug offences",
          "Criminal damage and<br>arson",
          "All other<br>offences"
         ],
         "parents": [
          "All offences",
          "All offences",
          "All other<br>offences",
          "All other<br>offences",
          "All other<br>offences",
          "All other<br>offences",
          "All other<br>offences",
          "All other<br>offences",
          "All other<br>offences",
          "All other<br>offences",
          "All offences",
          "All other<br>offences",
          "All offences"
         ],
         "rotation": 90,
         "sort": false,
         "texttemplate": "%{label}<br>%{percentRoot: .0%}",
         "type": "sunburst",
         "values": [
          0.25,
          0.15,
          0.2,
          0.1,
          0,
          0,
          0.1,
          0,
          0.1,
          0,
          0.05,
          0.05,
          0.55
         ]
        }
       ],
       "layout": {
        "annotations": [
         {
          "align": "left",
          "font": {
           "size": 12
          },
          "showarrow": false,
          "text": "Source: Ministry of Justice, Criminal justice statistics",
          "x": -0.08,
          "xref": "paper",
          "y": -0.19,
          "yref": "paper"
         }
        ],
        "height": 600,
        "margin": {
         "b": 20,
         "l": 0,
         "r": 0,
         "t": 75
        },
        "template": {
         "layout": {
          "colorway": [
           "#A01D28",
           "#499CC9",
           "#F9A237",
           "#6FBA3A",
           "#573D6B"
          ],
          "font": {
           "color": "#54565B",
           "family": "Helvetica Neue, Arial",
           "size": 12
          },
          "modebar": {
           "activecolor": "#A01D28"
          },
          "paper_bgcolor": "#F7F2F2",
          "plot_bgcolor": "#F7F2F2",
          "showlegend": false,
          "title": {
           "font": {
            "family": "Helvetica Neue, Arial",
            "size": 17
           },
           "y": 0.94,
           "yanchor": "bottom"
          },
          "xaxis": {
           "showgrid": false,
           "tickcolor": "#54565B"
          }
         }
        },
        "title": {
         "text": "<b>Imprisonment of women in Dyfed-Powys<br>by offence group in 2022</b>",
         "y": 0.94,
         "yanchor": "bottom"
        },
        "uniformtext": {
         "minsize": 7,
         "mode": "hide"
        },
        "width": 600,
        "xaxis": {
         "range": [
          -1,
          1
         ],
         "showticklabels": false
        },
        "yaxis": {
         "range": [
          -1,
          1
         ],
         "showticklabels": false
        }
       }
      }
     },
     "metadata": {},
     "output_type": "display_data"
    },
    {
     "data": {
      "application/vnd.plotly.v1+json": {
       "config": {
        "plotlyServerURL": "https://plot.ly"
       },
       "data": [
        {
         "branchvalues": "total",
         "hoverinfo": "label+percent parent",
         "hovertemplate": "<b>%{label}</b><br>%{percentParent: .0%} of %{parent}<extra></extra>",
         "insidetextorientation": "horizontal",
         "labels": [
          "Violence against the<br>person",
          "Theft offences",
          "Summary non-motoring",
          "Summary motoring",
          "Sexual offences",
          "Robbery",
          "Public order<br>offences",
          "Possession of<br>weapons",
          "Miscellaneous crimes<br>against society",
          "Fraud offences",
          "Drug offences",
          "Criminal damage and<br>arson",
          "All other<br>offences"
         ],
         "parents": [
          "All offences",
          "All offences",
          "All other<br>offences",
          "All other<br>offences",
          "All other<br>offences",
          "All other<br>offences",
          "All other<br>offences",
          "All other<br>offences",
          "All other<br>offences",
          "All other<br>offences",
          "All offences",
          "All other<br>offences",
          "All offences"
         ],
         "rotation": 90,
         "sort": false,
         "texttemplate": "%{label}<br>%{percentRoot: .0%}",
         "type": "sunburst",
         "values": [
          0.174,
          0.315,
          0.054,
          0.033,
          0.011,
          0.011,
          0.011,
          0.011,
          0.087,
          0.076,
          0.217,
          0,
          0.294
         ]
        }
       ],
       "layout": {
        "annotations": [
         {
          "align": "left",
          "font": {
           "size": 12
          },
          "showarrow": false,
          "text": "Source: Ministry of Justice, Criminal justice statistics",
          "x": -0.08,
          "xref": "paper",
          "y": -0.19,
          "yref": "paper"
         }
        ],
        "height": 600,
        "margin": {
         "b": 20,
         "l": 0,
         "r": 0,
         "t": 75
        },
        "template": {
         "layout": {
          "colorway": [
           "#A01D28",
           "#499CC9",
           "#F9A237",
           "#6FBA3A",
           "#573D6B"
          ],
          "font": {
           "color": "#54565B",
           "family": "Helvetica Neue, Arial",
           "size": 12
          },
          "modebar": {
           "activecolor": "#A01D28"
          },
          "paper_bgcolor": "#F7F2F2",
          "plot_bgcolor": "#F7F2F2",
          "showlegend": false,
          "title": {
           "font": {
            "family": "Helvetica Neue, Arial",
            "size": 17
           },
           "y": 0.94,
           "yanchor": "bottom"
          },
          "xaxis": {
           "showgrid": false,
           "tickcolor": "#54565B"
          }
         }
        },
        "title": {
         "text": "<b>Imprisonment of women in Essex<br>by offence group in 2022</b>",
         "y": 0.94,
         "yanchor": "bottom"
        },
        "uniformtext": {
         "minsize": 7,
         "mode": "hide"
        },
        "width": 600,
        "xaxis": {
         "range": [
          -1,
          1
         ],
         "showticklabels": false
        },
        "yaxis": {
         "range": [
          -1,
          1
         ],
         "showticklabels": false
        }
       }
      }
     },
     "metadata": {},
     "output_type": "display_data"
    },
    {
     "data": {
      "application/vnd.plotly.v1+json": {
       "config": {
        "plotlyServerURL": "https://plot.ly"
       },
       "data": [
        {
         "branchvalues": "total",
         "hoverinfo": "label+percent parent",
         "hovertemplate": "<b>%{label}</b><br>%{percentParent: .0%} of %{parent}<extra></extra>",
         "insidetextorientation": "horizontal",
         "labels": [
          "Violence against the<br>person",
          "Theft offences",
          "Summary non-motoring",
          "Summary motoring",
          "Sexual offences",
          "Robbery",
          "Public order<br>offences",
          "Possession of<br>weapons",
          "Miscellaneous crimes<br>against society",
          "Fraud offences",
          "Drug offences",
          "Criminal damage and<br>arson",
          "All other<br>offences"
         ],
         "parents": [
          "All offences",
          "All offences",
          "All other<br>offences",
          "All other<br>offences",
          "All other<br>offences",
          "All other<br>offences",
          "All other<br>offences",
          "All other<br>offences",
          "All other<br>offences",
          "All other<br>offences",
          "All offences",
          "All other<br>offences",
          "All offences"
         ],
         "rotation": 90,
         "sort": false,
         "texttemplate": "%{label}<br>%{percentRoot: .0%}",
         "type": "sunburst",
         "values": [
          0.13,
          0.13,
          0.043,
          0.087,
          0.043,
          0.043,
          0.217,
          0,
          0.043,
          0.13,
          0.13,
          0,
          0.606
         ]
        }
       ],
       "layout": {
        "annotations": [
         {
          "align": "left",
          "font": {
           "size": 12
          },
          "showarrow": false,
          "text": "Source: Ministry of Justice, Criminal justice statistics",
          "x": -0.08,
          "xref": "paper",
          "y": -0.19,
          "yref": "paper"
         }
        ],
        "height": 600,
        "margin": {
         "b": 20,
         "l": 0,
         "r": 0,
         "t": 75
        },
        "template": {
         "layout": {
          "colorway": [
           "#A01D28",
           "#499CC9",
           "#F9A237",
           "#6FBA3A",
           "#573D6B"
          ],
          "font": {
           "color": "#54565B",
           "family": "Helvetica Neue, Arial",
           "size": 12
          },
          "modebar": {
           "activecolor": "#A01D28"
          },
          "paper_bgcolor": "#F7F2F2",
          "plot_bgcolor": "#F7F2F2",
          "showlegend": false,
          "title": {
           "font": {
            "family": "Helvetica Neue, Arial",
            "size": 17
           },
           "y": 0.94,
           "yanchor": "bottom"
          },
          "xaxis": {
           "showgrid": false,
           "tickcolor": "#54565B"
          }
         }
        },
        "title": {
         "text": "<b>Imprisonment of women in Gloucestershire<br>by offence group in 2022</b>",
         "y": 0.94,
         "yanchor": "bottom"
        },
        "uniformtext": {
         "minsize": 7,
         "mode": "hide"
        },
        "width": 600,
        "xaxis": {
         "range": [
          -1,
          1
         ],
         "showticklabels": false
        },
        "yaxis": {
         "range": [
          -1,
          1
         ],
         "showticklabels": false
        }
       }
      }
     },
     "metadata": {},
     "output_type": "display_data"
    },
    {
     "data": {
      "application/vnd.plotly.v1+json": {
       "config": {
        "plotlyServerURL": "https://plot.ly"
       },
       "data": [
        {
         "branchvalues": "total",
         "hoverinfo": "label+percent parent",
         "hovertemplate": "<b>%{label}</b><br>%{percentParent: .0%} of %{parent}<extra></extra>",
         "insidetextorientation": "horizontal",
         "labels": [
          "Violence against the<br>person",
          "Theft offences",
          "Summary non-motoring",
          "Summary motoring",
          "Sexual offences",
          "Robbery",
          "Public order<br>offences",
          "Possession of<br>weapons",
          "Miscellaneous crimes<br>against society",
          "Fraud offences",
          "Drug offences",
          "Criminal damage and<br>arson",
          "All other<br>offences"
         ],
         "parents": [
          "All offences",
          "All offences",
          "All other<br>offences",
          "All other<br>offences",
          "All other<br>offences",
          "All other<br>offences",
          "All other<br>offences",
          "All other<br>offences",
          "All other<br>offences",
          "All other<br>offences",
          "All offences",
          "All other<br>offences",
          "All offences"
         ],
         "rotation": 90,
         "sort": false,
         "texttemplate": "%{label}<br>%{percentRoot: .0%}",
         "type": "sunburst",
         "values": [
          0.24,
          0.34,
          0.05,
          0.03,
          0.02,
          0.025,
          0.055,
          0.02,
          0.065,
          0.055,
          0.08,
          0.02,
          0.34
         ]
        }
       ],
       "layout": {
        "annotations": [
         {
          "align": "left",
          "font": {
           "size": 12
          },
          "showarrow": false,
          "text": "Source: Ministry of Justice, Criminal justice statistics",
          "x": -0.08,
          "xref": "paper",
          "y": -0.19,
          "yref": "paper"
         }
        ],
        "height": 600,
        "margin": {
         "b": 20,
         "l": 0,
         "r": 0,
         "t": 75
        },
        "template": {
         "layout": {
          "colorway": [
           "#A01D28",
           "#499CC9",
           "#F9A237",
           "#6FBA3A",
           "#573D6B"
          ],
          "font": {
           "color": "#54565B",
           "family": "Helvetica Neue, Arial",
           "size": 12
          },
          "modebar": {
           "activecolor": "#A01D28"
          },
          "paper_bgcolor": "#F7F2F2",
          "plot_bgcolor": "#F7F2F2",
          "showlegend": false,
          "title": {
           "font": {
            "family": "Helvetica Neue, Arial",
            "size": 17
           },
           "y": 0.94,
           "yanchor": "bottom"
          },
          "xaxis": {
           "showgrid": false,
           "tickcolor": "#54565B"
          }
         }
        },
        "title": {
         "text": "<b>Imprisonment of women in Greater Manchester<br>by offence group in 2022</b>",
         "y": 0.94,
         "yanchor": "bottom"
        },
        "uniformtext": {
         "minsize": 7,
         "mode": "hide"
        },
        "width": 600,
        "xaxis": {
         "range": [
          -1,
          1
         ],
         "showticklabels": false
        },
        "yaxis": {
         "range": [
          -1,
          1
         ],
         "showticklabels": false
        }
       }
      }
     },
     "metadata": {},
     "output_type": "display_data"
    },
    {
     "data": {
      "application/vnd.plotly.v1+json": {
       "config": {
        "plotlyServerURL": "https://plot.ly"
       },
       "data": [
        {
         "branchvalues": "total",
         "hoverinfo": "label+percent parent",
         "hovertemplate": "<b>%{label}</b><br>%{percentParent: .0%} of %{parent}<extra></extra>",
         "insidetextorientation": "horizontal",
         "labels": [
          "Violence against the<br>person",
          "Theft offences",
          "Summary non-motoring",
          "Summary motoring",
          "Sexual offences",
          "Robbery",
          "Public order<br>offences",
          "Possession of<br>weapons",
          "Miscellaneous crimes<br>against society",
          "Fraud offences",
          "Drug offences",
          "Criminal damage and<br>arson",
          "All other<br>offences"
         ],
         "parents": [
          "All offences",
          "All offences",
          "All other<br>offences",
          "All other<br>offences",
          "All other<br>offences",
          "All other<br>offences",
          "All other<br>offences",
          "All other<br>offences",
          "All other<br>offences",
          "All other<br>offences",
          "All offences",
          "All other<br>offences",
          "All offences"
         ],
         "rotation": 90,
         "sort": false,
         "texttemplate": "%{label}<br>%{percentRoot: .0%}",
         "type": "sunburst",
         "values": [
          0.176,
          0.353,
          0.118,
          0.059,
          0,
          0,
          0.235,
          0.059,
          0,
          0,
          0,
          0,
          0.471
         ]
        }
       ],
       "layout": {
        "annotations": [
         {
          "align": "left",
          "font": {
           "size": 12
          },
          "showarrow": false,
          "text": "Source: Ministry of Justice, Criminal justice statistics",
          "x": -0.08,
          "xref": "paper",
          "y": -0.19,
          "yref": "paper"
         }
        ],
        "height": 600,
        "margin": {
         "b": 20,
         "l": 0,
         "r": 0,
         "t": 75
        },
        "template": {
         "layout": {
          "colorway": [
           "#A01D28",
           "#499CC9",
           "#F9A237",
           "#6FBA3A",
           "#573D6B"
          ],
          "font": {
           "color": "#54565B",
           "family": "Helvetica Neue, Arial",
           "size": 12
          },
          "modebar": {
           "activecolor": "#A01D28"
          },
          "paper_bgcolor": "#F7F2F2",
          "plot_bgcolor": "#F7F2F2",
          "showlegend": false,
          "title": {
           "font": {
            "family": "Helvetica Neue, Arial",
            "size": 17
           },
           "y": 0.94,
           "yanchor": "bottom"
          },
          "xaxis": {
           "showgrid": false,
           "tickcolor": "#54565B"
          }
         }
        },
        "title": {
         "text": "<b>Imprisonment of women in Gwent<br>by offence group in 2022</b>",
         "y": 0.94,
         "yanchor": "bottom"
        },
        "uniformtext": {
         "minsize": 7,
         "mode": "hide"
        },
        "width": 600,
        "xaxis": {
         "range": [
          -1,
          1
         ],
         "showticklabels": false
        },
        "yaxis": {
         "range": [
          -1,
          1
         ],
         "showticklabels": false
        }
       }
      }
     },
     "metadata": {},
     "output_type": "display_data"
    },
    {
     "data": {
      "application/vnd.plotly.v1+json": {
       "config": {
        "plotlyServerURL": "https://plot.ly"
       },
       "data": [
        {
         "branchvalues": "total",
         "hoverinfo": "label+percent parent",
         "hovertemplate": "<b>%{label}</b><br>%{percentParent: .0%} of %{parent}<extra></extra>",
         "insidetextorientation": "horizontal",
         "labels": [
          "Violence against the<br>person",
          "Theft offences",
          "Summary non-motoring",
          "Summary motoring",
          "Sexual offences",
          "Robbery",
          "Public order<br>offences",
          "Possession of<br>weapons",
          "Miscellaneous crimes<br>against society",
          "Fraud offences",
          "Drug offences",
          "Criminal damage and<br>arson",
          "All other<br>offences"
         ],
         "parents": [
          "All offences",
          "All offences",
          "All other<br>offences",
          "All other<br>offences",
          "All other<br>offences",
          "All other<br>offences",
          "All other<br>offences",
          "All other<br>offences",
          "All other<br>offences",
          "All other<br>offences",
          "All offences",
          "All other<br>offences",
          "All offences"
         ],
         "rotation": 90,
         "sort": false,
         "texttemplate": "%{label}<br>%{percentRoot: .0%}",
         "type": "sunburst",
         "values": [
          0.284,
          0.284,
          0.08,
          0.057,
          0.023,
          0.023,
          0.034,
          0.011,
          0.057,
          0.091,
          0.057,
          0,
          0.37600000000000006
         ]
        }
       ],
       "layout": {
        "annotations": [
         {
          "align": "left",
          "font": {
           "size": 12
          },
          "showarrow": false,
          "text": "Source: Ministry of Justice, Criminal justice statistics",
          "x": -0.08,
          "xref": "paper",
          "y": -0.19,
          "yref": "paper"
         }
        ],
        "height": 600,
        "margin": {
         "b": 20,
         "l": 0,
         "r": 0,
         "t": 75
        },
        "template": {
         "layout": {
          "colorway": [
           "#A01D28",
           "#499CC9",
           "#F9A237",
           "#6FBA3A",
           "#573D6B"
          ],
          "font": {
           "color": "#54565B",
           "family": "Helvetica Neue, Arial",
           "size": 12
          },
          "modebar": {
           "activecolor": "#A01D28"
          },
          "paper_bgcolor": "#F7F2F2",
          "plot_bgcolor": "#F7F2F2",
          "showlegend": false,
          "title": {
           "font": {
            "family": "Helvetica Neue, Arial",
            "size": 17
           },
           "y": 0.94,
           "yanchor": "bottom"
          },
          "xaxis": {
           "showgrid": false,
           "tickcolor": "#54565B"
          }
         }
        },
        "title": {
         "text": "<b>Imprisonment of women in Hampshire<br>by offence group in 2022</b>",
         "y": 0.94,
         "yanchor": "bottom"
        },
        "uniformtext": {
         "minsize": 7,
         "mode": "hide"
        },
        "width": 600,
        "xaxis": {
         "range": [
          -1,
          1
         ],
         "showticklabels": false
        },
        "yaxis": {
         "range": [
          -1,
          1
         ],
         "showticklabels": false
        }
       }
      }
     },
     "metadata": {},
     "output_type": "display_data"
    },
    {
     "data": {
      "application/vnd.plotly.v1+json": {
       "config": {
        "plotlyServerURL": "https://plot.ly"
       },
       "data": [
        {
         "branchvalues": "total",
         "hoverinfo": "label+percent parent",
         "hovertemplate": "<b>%{label}</b><br>%{percentParent: .0%} of %{parent}<extra></extra>",
         "insidetextorientation": "horizontal",
         "labels": [
          "Violence against the<br>person",
          "Theft offences",
          "Summary non-motoring",
          "Summary motoring",
          "Sexual offences",
          "Robbery",
          "Public order<br>offences",
          "Possession of<br>weapons",
          "Miscellaneous crimes<br>against society",
          "Fraud offences",
          "Drug offences",
          "Criminal damage and<br>arson",
          "All other<br>offences"
         ],
         "parents": [
          "All offences",
          "All offences",
          "All other<br>offences",
          "All other<br>offences",
          "All other<br>offences",
          "All other<br>offences",
          "All other<br>offences",
          "All other<br>offences",
          "All other<br>offences",
          "All other<br>offences",
          "All offences",
          "All other<br>offences",
          "All offences"
         ],
         "rotation": 90,
         "sort": false,
         "texttemplate": "%{label}<br>%{percentRoot: .0%}",
         "type": "sunburst",
         "values": [
          0.182,
          0.341,
          0.068,
          0,
          0.023,
          0,
          0.068,
          0,
          0.136,
          0.159,
          0.023,
          0,
          0.454
         ]
        }
       ],
       "layout": {
        "annotations": [
         {
          "align": "left",
          "font": {
           "size": 12
          },
          "showarrow": false,
          "text": "Source: Ministry of Justice, Criminal justice statistics",
          "x": -0.08,
          "xref": "paper",
          "y": -0.19,
          "yref": "paper"
         }
        ],
        "height": 600,
        "margin": {
         "b": 20,
         "l": 0,
         "r": 0,
         "t": 75
        },
        "template": {
         "layout": {
          "colorway": [
           "#A01D28",
           "#499CC9",
           "#F9A237",
           "#6FBA3A",
           "#573D6B"
          ],
          "font": {
           "color": "#54565B",
           "family": "Helvetica Neue, Arial",
           "size": 12
          },
          "modebar": {
           "activecolor": "#A01D28"
          },
          "paper_bgcolor": "#F7F2F2",
          "plot_bgcolor": "#F7F2F2",
          "showlegend": false,
          "title": {
           "font": {
            "family": "Helvetica Neue, Arial",
            "size": 17
           },
           "y": 0.94,
           "yanchor": "bottom"
          },
          "xaxis": {
           "showgrid": false,
           "tickcolor": "#54565B"
          }
         }
        },
        "title": {
         "text": "<b>Imprisonment of women in Hertfordshire<br>by offence group in 2022</b>",
         "y": 0.94,
         "yanchor": "bottom"
        },
        "uniformtext": {
         "minsize": 7,
         "mode": "hide"
        },
        "width": 600,
        "xaxis": {
         "range": [
          -1,
          1
         ],
         "showticklabels": false
        },
        "yaxis": {
         "range": [
          -1,
          1
         ],
         "showticklabels": false
        }
       }
      }
     },
     "metadata": {},
     "output_type": "display_data"
    },
    {
     "data": {
      "application/vnd.plotly.v1+json": {
       "config": {
        "plotlyServerURL": "https://plot.ly"
       },
       "data": [
        {
         "branchvalues": "total",
         "hoverinfo": "label+percent parent",
         "hovertemplate": "<b>%{label}</b><br>%{percentParent: .0%} of %{parent}<extra></extra>",
         "insidetextorientation": "horizontal",
         "labels": [
          "Violence against the<br>person",
          "Theft offences",
          "Summary non-motoring",
          "Summary motoring",
          "Sexual offences",
          "Robbery",
          "Public order<br>offences",
          "Possession of<br>weapons",
          "Miscellaneous crimes<br>against society",
          "Fraud offences",
          "Drug offences",
          "Criminal damage and<br>arson",
          "All other<br>offences"
         ],
         "parents": [
          "All offences",
          "All offences",
          "All other<br>offences",
          "All other<br>offences",
          "All other<br>offences",
          "All other<br>offences",
          "All other<br>offences",
          "All other<br>offences",
          "All other<br>offences",
          "All other<br>offences",
          "All offences",
          "All other<br>offences",
          "All offences"
         ],
         "rotation": 90,
         "sort": false,
         "texttemplate": "%{label}<br>%{percentRoot: .0%}",
         "type": "sunburst",
         "values": [
          0.218,
          0.294,
          0.101,
          0.008,
          0.017,
          0.034,
          0.025,
          0.059,
          0.067,
          0.05,
          0.109,
          0.017,
          0.378
         ]
        }
       ],
       "layout": {
        "annotations": [
         {
          "align": "left",
          "font": {
           "size": 12
          },
          "showarrow": false,
          "text": "Source: Ministry of Justice, Criminal justice statistics",
          "x": -0.08,
          "xref": "paper",
          "y": -0.19,
          "yref": "paper"
         }
        ],
        "height": 600,
        "margin": {
         "b": 20,
         "l": 0,
         "r": 0,
         "t": 75
        },
        "template": {
         "layout": {
          "colorway": [
           "#A01D28",
           "#499CC9",
           "#F9A237",
           "#6FBA3A",
           "#573D6B"
          ],
          "font": {
           "color": "#54565B",
           "family": "Helvetica Neue, Arial",
           "size": 12
          },
          "modebar": {
           "activecolor": "#A01D28"
          },
          "paper_bgcolor": "#F7F2F2",
          "plot_bgcolor": "#F7F2F2",
          "showlegend": false,
          "title": {
           "font": {
            "family": "Helvetica Neue, Arial",
            "size": 17
           },
           "y": 0.94,
           "yanchor": "bottom"
          },
          "xaxis": {
           "showgrid": false,
           "tickcolor": "#54565B"
          }
         }
        },
        "title": {
         "text": "<b>Imprisonment of women in Humberside<br>by offence group in 2022</b>",
         "y": 0.94,
         "yanchor": "bottom"
        },
        "uniformtext": {
         "minsize": 7,
         "mode": "hide"
        },
        "width": 600,
        "xaxis": {
         "range": [
          -1,
          1
         ],
         "showticklabels": false
        },
        "yaxis": {
         "range": [
          -1,
          1
         ],
         "showticklabels": false
        }
       }
      }
     },
     "metadata": {},
     "output_type": "display_data"
    },
    {
     "data": {
      "application/vnd.plotly.v1+json": {
       "config": {
        "plotlyServerURL": "https://plot.ly"
       },
       "data": [
        {
         "branchvalues": "total",
         "hoverinfo": "label+percent parent",
         "hovertemplate": "<b>%{label}</b><br>%{percentParent: .0%} of %{parent}<extra></extra>",
         "insidetextorientation": "horizontal",
         "labels": [
          "Violence against the<br>person",
          "Theft offences",
          "Summary non-motoring",
          "Summary motoring",
          "Sexual offences",
          "Robbery",
          "Public order<br>offences",
          "Possession of<br>weapons",
          "Miscellaneous crimes<br>against society",
          "Fraud offences",
          "Drug offences",
          "Criminal damage and<br>arson",
          "All other<br>offences"
         ],
         "parents": [
          "All offences",
          "All offences",
          "All other<br>offences",
          "All other<br>offences",
          "All other<br>offences",
          "All other<br>offences",
          "All other<br>offences",
          "All other<br>offences",
          "All other<br>offences",
          "All other<br>offences",
          "All offences",
          "All other<br>offences",
          "All offences"
         ],
         "rotation": 90,
         "sort": false,
         "texttemplate": "%{label}<br>%{percentRoot: .0%}",
         "type": "sunburst",
         "values": [
          0.224,
          0.385,
          0.077,
          0.014,
          0.007,
          0.021,
          0.042,
          0.007,
          0.091,
          0.056,
          0.063,
          0.014,
          0.329
         ]
        }
       ],
       "layout": {
        "annotations": [
         {
          "align": "left",
          "font": {
           "size": 12
          },
          "showarrow": false,
          "text": "Source: Ministry of Justice, Criminal justice statistics",
          "x": -0.08,
          "xref": "paper",
          "y": -0.19,
          "yref": "paper"
         }
        ],
        "height": 600,
        "margin": {
         "b": 20,
         "l": 0,
         "r": 0,
         "t": 75
        },
        "template": {
         "layout": {
          "colorway": [
           "#A01D28",
           "#499CC9",
           "#F9A237",
           "#6FBA3A",
           "#573D6B"
          ],
          "font": {
           "color": "#54565B",
           "family": "Helvetica Neue, Arial",
           "size": 12
          },
          "modebar": {
           "activecolor": "#A01D28"
          },
          "paper_bgcolor": "#F7F2F2",
          "plot_bgcolor": "#F7F2F2",
          "showlegend": false,
          "title": {
           "font": {
            "family": "Helvetica Neue, Arial",
            "size": 17
           },
           "y": 0.94,
           "yanchor": "bottom"
          },
          "xaxis": {
           "showgrid": false,
           "tickcolor": "#54565B"
          }
         }
        },
        "title": {
         "text": "<b>Imprisonment of women in Kent<br>by offence group in 2022</b>",
         "y": 0.94,
         "yanchor": "bottom"
        },
        "uniformtext": {
         "minsize": 7,
         "mode": "hide"
        },
        "width": 600,
        "xaxis": {
         "range": [
          -1,
          1
         ],
         "showticklabels": false
        },
        "yaxis": {
         "range": [
          -1,
          1
         ],
         "showticklabels": false
        }
       }
      }
     },
     "metadata": {},
     "output_type": "display_data"
    },
    {
     "data": {
      "application/vnd.plotly.v1+json": {
       "config": {
        "plotlyServerURL": "https://plot.ly"
       },
       "data": [
        {
         "branchvalues": "total",
         "hoverinfo": "label+percent parent",
         "hovertemplate": "<b>%{label}</b><br>%{percentParent: .0%} of %{parent}<extra></extra>",
         "insidetextorientation": "horizontal",
         "labels": [
          "Violence against the<br>person",
          "Theft offences",
          "Summary non-motoring",
          "Summary motoring",
          "Sexual offences",
          "Robbery",
          "Public order<br>offences",
          "Possession of<br>weapons",
          "Miscellaneous crimes<br>against society",
          "Fraud offences",
          "Drug offences",
          "Criminal damage and<br>arson",
          "All other<br>offences"
         ],
         "parents": [
          "All offences",
          "All offences",
          "All other<br>offences",
          "All other<br>offences",
          "All other<br>offences",
          "All other<br>offences",
          "All other<br>offences",
          "All other<br>offences",
          "All other<br>offences",
          "All other<br>offences",
          "All offences",
          "All other<br>offences",
          "All offences"
         ],
         "rotation": 90,
         "sort": false,
         "texttemplate": "%{label}<br>%{percentRoot: .0%}",
         "type": "sunburst",
         "values": [
          0.19,
          0.216,
          0.121,
          0.017,
          0.009,
          0.069,
          0.052,
          0.069,
          0.112,
          0.017,
          0.112,
          0.017,
          0.483
         ]
        }
       ],
       "layout": {
        "annotations": [
         {
          "align": "left",
          "font": {
           "size": 12
          },
          "showarrow": false,
          "text": "Source: Ministry of Justice, Criminal justice statistics",
          "x": -0.08,
          "xref": "paper",
          "y": -0.19,
          "yref": "paper"
         }
        ],
        "height": 600,
        "margin": {
         "b": 20,
         "l": 0,
         "r": 0,
         "t": 75
        },
        "template": {
         "layout": {
          "colorway": [
           "#A01D28",
           "#499CC9",
           "#F9A237",
           "#6FBA3A",
           "#573D6B"
          ],
          "font": {
           "color": "#54565B",
           "family": "Helvetica Neue, Arial",
           "size": 12
          },
          "modebar": {
           "activecolor": "#A01D28"
          },
          "paper_bgcolor": "#F7F2F2",
          "plot_bgcolor": "#F7F2F2",
          "showlegend": false,
          "title": {
           "font": {
            "family": "Helvetica Neue, Arial",
            "size": 17
           },
           "y": 0.94,
           "yanchor": "bottom"
          },
          "xaxis": {
           "showgrid": false,
           "tickcolor": "#54565B"
          }
         }
        },
        "title": {
         "text": "<b>Imprisonment of women in Lancashire<br>by offence group in 2022</b>",
         "y": 0.94,
         "yanchor": "bottom"
        },
        "uniformtext": {
         "minsize": 7,
         "mode": "hide"
        },
        "width": 600,
        "xaxis": {
         "range": [
          -1,
          1
         ],
         "showticklabels": false
        },
        "yaxis": {
         "range": [
          -1,
          1
         ],
         "showticklabels": false
        }
       }
      }
     },
     "metadata": {},
     "output_type": "display_data"
    },
    {
     "data": {
      "application/vnd.plotly.v1+json": {
       "config": {
        "plotlyServerURL": "https://plot.ly"
       },
       "data": [
        {
         "branchvalues": "total",
         "hoverinfo": "label+percent parent",
         "hovertemplate": "<b>%{label}</b><br>%{percentParent: .0%} of %{parent}<extra></extra>",
         "insidetextorientation": "horizontal",
         "labels": [
          "Violence against the<br>person",
          "Theft offences",
          "Summary non-motoring",
          "Summary motoring",
          "Sexual offences",
          "Robbery",
          "Public order<br>offences",
          "Possession of<br>weapons",
          "Miscellaneous crimes<br>against society",
          "Fraud offences",
          "Drug offences",
          "Criminal damage and<br>arson",
          "All other<br>offences"
         ],
         "parents": [
          "All offences",
          "All offences",
          "All other<br>offences",
          "All other<br>offences",
          "All other<br>offences",
          "All other<br>offences",
          "All other<br>offences",
          "All other<br>offences",
          "All other<br>offences",
          "All other<br>offences",
          "All offences",
          "All other<br>offences",
          "All offences"
         ],
         "rotation": 90,
         "sort": false,
         "texttemplate": "%{label}<br>%{percentRoot: .0%}",
         "type": "sunburst",
         "values": [
          0.2,
          0.271,
          0.157,
          0,
          0.014,
          0.014,
          0.043,
          0.014,
          0.043,
          0.129,
          0.114,
          0,
          0.41400000000000003
         ]
        }
       ],
       "layout": {
        "annotations": [
         {
          "align": "left",
          "font": {
           "size": 12
          },
          "showarrow": false,
          "text": "Source: Ministry of Justice, Criminal justice statistics",
          "x": -0.08,
          "xref": "paper",
          "y": -0.19,
          "yref": "paper"
         }
        ],
        "height": 600,
        "margin": {
         "b": 20,
         "l": 0,
         "r": 0,
         "t": 75
        },
        "template": {
         "layout": {
          "colorway": [
           "#A01D28",
           "#499CC9",
           "#F9A237",
           "#6FBA3A",
           "#573D6B"
          ],
          "font": {
           "color": "#54565B",
           "family": "Helvetica Neue, Arial",
           "size": 12
          },
          "modebar": {
           "activecolor": "#A01D28"
          },
          "paper_bgcolor": "#F7F2F2",
          "plot_bgcolor": "#F7F2F2",
          "showlegend": false,
          "title": {
           "font": {
            "family": "Helvetica Neue, Arial",
            "size": 17
           },
           "y": 0.94,
           "yanchor": "bottom"
          },
          "xaxis": {
           "showgrid": false,
           "tickcolor": "#54565B"
          }
         }
        },
        "title": {
         "text": "<b>Imprisonment of women in Leicestershire<br>by offence group in 2022</b>",
         "y": 0.94,
         "yanchor": "bottom"
        },
        "uniformtext": {
         "minsize": 7,
         "mode": "hide"
        },
        "width": 600,
        "xaxis": {
         "range": [
          -1,
          1
         ],
         "showticklabels": false
        },
        "yaxis": {
         "range": [
          -1,
          1
         ],
         "showticklabels": false
        }
       }
      }
     },
     "metadata": {},
     "output_type": "display_data"
    },
    {
     "data": {
      "application/vnd.plotly.v1+json": {
       "config": {
        "plotlyServerURL": "https://plot.ly"
       },
       "data": [
        {
         "branchvalues": "total",
         "hoverinfo": "label+percent parent",
         "hovertemplate": "<b>%{label}</b><br>%{percentParent: .0%} of %{parent}<extra></extra>",
         "insidetextorientation": "horizontal",
         "labels": [
          "Violence against the<br>person",
          "Theft offences",
          "Summary non-motoring",
          "Summary motoring",
          "Sexual offences",
          "Robbery",
          "Public order<br>offences",
          "Possession of<br>weapons",
          "Miscellaneous crimes<br>against society",
          "Fraud offences",
          "Drug offences",
          "Criminal damage and<br>arson",
          "All other<br>offences"
         ],
         "parents": [
          "All offences",
          "All offences",
          "All other<br>offences",
          "All other<br>offences",
          "All other<br>offences",
          "All other<br>offences",
          "All other<br>offences",
          "All other<br>offences",
          "All other<br>offences",
          "All other<br>offences",
          "All offences",
          "All other<br>offences",
          "All offences"
         ],
         "rotation": 90,
         "sort": false,
         "texttemplate": "%{label}<br>%{percentRoot: .0%}",
         "type": "sunburst",
         "values": [
          0.348,
          0.283,
          0.065,
          0.043,
          0.065,
          0.022,
          0.043,
          0.022,
          0.043,
          0.022,
          0.043,
          0,
          0.325
         ]
        }
       ],
       "layout": {
        "annotations": [
         {
          "align": "left",
          "font": {
           "size": 12
          },
          "showarrow": false,
          "text": "Source: Ministry of Justice, Criminal justice statistics",
          "x": -0.08,
          "xref": "paper",
          "y": -0.19,
          "yref": "paper"
         }
        ],
        "height": 600,
        "margin": {
         "b": 20,
         "l": 0,
         "r": 0,
         "t": 75
        },
        "template": {
         "layout": {
          "colorway": [
           "#A01D28",
           "#499CC9",
           "#F9A237",
           "#6FBA3A",
           "#573D6B"
          ],
          "font": {
           "color": "#54565B",
           "family": "Helvetica Neue, Arial",
           "size": 12
          },
          "modebar": {
           "activecolor": "#A01D28"
          },
          "paper_bgcolor": "#F7F2F2",
          "plot_bgcolor": "#F7F2F2",
          "showlegend": false,
          "title": {
           "font": {
            "family": "Helvetica Neue, Arial",
            "size": 17
           },
           "y": 0.94,
           "yanchor": "bottom"
          },
          "xaxis": {
           "showgrid": false,
           "tickcolor": "#54565B"
          }
         }
        },
        "title": {
         "text": "<b>Imprisonment of women in Lincolnshire<br>by offence group in 2022</b>",
         "y": 0.94,
         "yanchor": "bottom"
        },
        "uniformtext": {
         "minsize": 7,
         "mode": "hide"
        },
        "width": 600,
        "xaxis": {
         "range": [
          -1,
          1
         ],
         "showticklabels": false
        },
        "yaxis": {
         "range": [
          -1,
          1
         ],
         "showticklabels": false
        }
       }
      }
     },
     "metadata": {},
     "output_type": "display_data"
    },
    {
     "data": {
      "application/vnd.plotly.v1+json": {
       "config": {
        "plotlyServerURL": "https://plot.ly"
       },
       "data": [
        {
         "branchvalues": "total",
         "hoverinfo": "label+percent parent",
         "hovertemplate": "<b>%{label}</b><br>%{percentParent: .0%} of %{parent}<extra></extra>",
         "insidetextorientation": "horizontal",
         "labels": [
          "Violence against the<br>person",
          "Theft offences",
          "Summary non-motoring",
          "Summary motoring",
          "Sexual offences",
          "Robbery",
          "Public order<br>offences",
          "Possession of<br>weapons",
          "Miscellaneous crimes<br>against society",
          "Fraud offences",
          "Drug offences",
          "Criminal damage and<br>arson",
          "All other<br>offences"
         ],
         "parents": [
          "All offences",
          "All offences",
          "All other<br>offences",
          "All other<br>offences",
          "All other<br>offences",
          "All other<br>offences",
          "All other<br>offences",
          "All other<br>offences",
          "All other<br>offences",
          "All other<br>offences",
          "All offences",
          "All other<br>offences",
          "All offences"
         ],
         "rotation": 90,
         "sort": false,
         "texttemplate": "%{label}<br>%{percentRoot: .0%}",
         "type": "sunburst",
         "values": [
          0.185,
          0.231,
          0.082,
          0.01,
          0.01,
          0.031,
          0.077,
          0.021,
          0.072,
          0.056,
          0.21,
          0.015,
          0.37400000000000005
         ]
        }
       ],
       "layout": {
        "annotations": [
         {
          "align": "left",
          "font": {
           "size": 12
          },
          "showarrow": false,
          "text": "Source: Ministry of Justice, Criminal justice statistics",
          "x": -0.08,
          "xref": "paper",
          "y": -0.19,
          "yref": "paper"
         }
        ],
        "height": 600,
        "margin": {
         "b": 20,
         "l": 0,
         "r": 0,
         "t": 75
        },
        "template": {
         "layout": {
          "colorway": [
           "#A01D28",
           "#499CC9",
           "#F9A237",
           "#6FBA3A",
           "#573D6B"
          ],
          "font": {
           "color": "#54565B",
           "family": "Helvetica Neue, Arial",
           "size": 12
          },
          "modebar": {
           "activecolor": "#A01D28"
          },
          "paper_bgcolor": "#F7F2F2",
          "plot_bgcolor": "#F7F2F2",
          "showlegend": false,
          "title": {
           "font": {
            "family": "Helvetica Neue, Arial",
            "size": 17
           },
           "y": 0.94,
           "yanchor": "bottom"
          },
          "xaxis": {
           "showgrid": false,
           "tickcolor": "#54565B"
          }
         }
        },
        "title": {
         "text": "<b>Imprisonment of women in Merseyside<br>by offence group in 2022</b>",
         "y": 0.94,
         "yanchor": "bottom"
        },
        "uniformtext": {
         "minsize": 7,
         "mode": "hide"
        },
        "width": 600,
        "xaxis": {
         "range": [
          -1,
          1
         ],
         "showticklabels": false
        },
        "yaxis": {
         "range": [
          -1,
          1
         ],
         "showticklabels": false
        }
       }
      }
     },
     "metadata": {},
     "output_type": "display_data"
    },
    {
     "data": {
      "application/vnd.plotly.v1+json": {
       "config": {
        "plotlyServerURL": "https://plot.ly"
       },
       "data": [
        {
         "branchvalues": "total",
         "hoverinfo": "label+percent parent",
         "hovertemplate": "<b>%{label}</b><br>%{percentParent: .0%} of %{parent}<extra></extra>",
         "insidetextorientation": "horizontal",
         "labels": [
          "Violence against the<br>person",
          "Theft offences",
          "Summary non-motoring",
          "Summary motoring",
          "Sexual offences",
          "Robbery",
          "Public order<br>offences",
          "Possession of<br>weapons",
          "Miscellaneous crimes<br>against society",
          "Fraud offences",
          "Drug offences",
          "Criminal damage and<br>arson",
          "All other<br>offences"
         ],
         "parents": [
          "All offences",
          "All offences",
          "All other<br>offences",
          "All other<br>offences",
          "All other<br>offences",
          "All other<br>offences",
          "All other<br>offences",
          "All other<br>offences",
          "All other<br>offences",
          "All other<br>offences",
          "All offences",
          "All other<br>offences",
          "All offences"
         ],
         "rotation": 90,
         "sort": false,
         "texttemplate": "%{label}<br>%{percentRoot: .0%}",
         "type": "sunburst",
         "values": [
          0.181,
          0.304,
          0.111,
          0.01,
          0.005,
          0.031,
          0.066,
          0.036,
          0.082,
          0.047,
          0.118,
          0.009,
          0.39699999999999996
         ]
        }
       ],
       "layout": {
        "annotations": [
         {
          "align": "left",
          "font": {
           "size": 12
          },
          "showarrow": false,
          "text": "Source: Ministry of Justice, Criminal justice statistics",
          "x": -0.08,
          "xref": "paper",
          "y": -0.19,
          "yref": "paper"
         }
        ],
        "height": 600,
        "margin": {
         "b": 20,
         "l": 0,
         "r": 0,
         "t": 75
        },
        "template": {
         "layout": {
          "colorway": [
           "#A01D28",
           "#499CC9",
           "#F9A237",
           "#6FBA3A",
           "#573D6B"
          ],
          "font": {
           "color": "#54565B",
           "family": "Helvetica Neue, Arial",
           "size": 12
          },
          "modebar": {
           "activecolor": "#A01D28"
          },
          "paper_bgcolor": "#F7F2F2",
          "plot_bgcolor": "#F7F2F2",
          "showlegend": false,
          "title": {
           "font": {
            "family": "Helvetica Neue, Arial",
            "size": 17
           },
           "y": 0.94,
           "yanchor": "bottom"
          },
          "xaxis": {
           "showgrid": false,
           "tickcolor": "#54565B"
          }
         }
        },
        "title": {
         "text": "<b>Imprisonment of women in Metropolitan Police<br>by offence group in 2022</b>",
         "y": 0.94,
         "yanchor": "bottom"
        },
        "uniformtext": {
         "minsize": 7,
         "mode": "hide"
        },
        "width": 600,
        "xaxis": {
         "range": [
          -1,
          1
         ],
         "showticklabels": false
        },
        "yaxis": {
         "range": [
          -1,
          1
         ],
         "showticklabels": false
        }
       }
      }
     },
     "metadata": {},
     "output_type": "display_data"
    },
    {
     "data": {
      "application/vnd.plotly.v1+json": {
       "config": {
        "plotlyServerURL": "https://plot.ly"
       },
       "data": [
        {
         "branchvalues": "total",
         "hoverinfo": "label+percent parent",
         "hovertemplate": "<b>%{label}</b><br>%{percentParent: .0%} of %{parent}<extra></extra>",
         "insidetextorientation": "horizontal",
         "labels": [
          "Violence against the<br>person",
          "Theft offences",
          "Summary non-motoring",
          "Summary motoring",
          "Sexual offences",
          "Robbery",
          "Public order<br>offences",
          "Possession of<br>weapons",
          "Miscellaneous crimes<br>against society",
          "Fraud offences",
          "Drug offences",
          "Criminal damage and<br>arson",
          "All other<br>offences"
         ],
         "parents": [
          "All offences",
          "All offences",
          "All other<br>offences",
          "All other<br>offences",
          "All other<br>offences",
          "All other<br>offences",
          "All other<br>offences",
          "All other<br>offences",
          "All other<br>offences",
          "All other<br>offences",
          "All offences",
          "All other<br>offences",
          "All offences"
         ],
         "rotation": 90,
         "sort": false,
         "texttemplate": "%{label}<br>%{percentRoot: .0%}",
         "type": "sunburst",
         "values": [
          0.148,
          0.241,
          0.13,
          0,
          0.056,
          0.019,
          0.13,
          0.037,
          0.019,
          0.037,
          0.13,
          0.056,
          0.484
         ]
        }
       ],
       "layout": {
        "annotations": [
         {
          "align": "left",
          "font": {
           "size": 12
          },
          "showarrow": false,
          "text": "Source: Ministry of Justice, Criminal justice statistics",
          "x": -0.08,
          "xref": "paper",
          "y": -0.19,
          "yref": "paper"
         }
        ],
        "height": 600,
        "margin": {
         "b": 20,
         "l": 0,
         "r": 0,
         "t": 75
        },
        "template": {
         "layout": {
          "colorway": [
           "#A01D28",
           "#499CC9",
           "#F9A237",
           "#6FBA3A",
           "#573D6B"
          ],
          "font": {
           "color": "#54565B",
           "family": "Helvetica Neue, Arial",
           "size": 12
          },
          "modebar": {
           "activecolor": "#A01D28"
          },
          "paper_bgcolor": "#F7F2F2",
          "plot_bgcolor": "#F7F2F2",
          "showlegend": false,
          "title": {
           "font": {
            "family": "Helvetica Neue, Arial",
            "size": 17
           },
           "y": 0.94,
           "yanchor": "bottom"
          },
          "xaxis": {
           "showgrid": false,
           "tickcolor": "#54565B"
          }
         }
        },
        "title": {
         "text": "<b>Imprisonment of women in Norfolk<br>by offence group in 2022</b>",
         "y": 0.94,
         "yanchor": "bottom"
        },
        "uniformtext": {
         "minsize": 7,
         "mode": "hide"
        },
        "width": 600,
        "xaxis": {
         "range": [
          -1,
          1
         ],
         "showticklabels": false
        },
        "yaxis": {
         "range": [
          -1,
          1
         ],
         "showticklabels": false
        }
       }
      }
     },
     "metadata": {},
     "output_type": "display_data"
    },
    {
     "data": {
      "application/vnd.plotly.v1+json": {
       "config": {
        "plotlyServerURL": "https://plot.ly"
       },
       "data": [
        {
         "branchvalues": "total",
         "hoverinfo": "label+percent parent",
         "hovertemplate": "<b>%{label}</b><br>%{percentParent: .0%} of %{parent}<extra></extra>",
         "insidetextorientation": "horizontal",
         "labels": [
          "Violence against the<br>person",
          "Theft offences",
          "Summary non-motoring",
          "Summary motoring",
          "Sexual offences",
          "Robbery",
          "Public order<br>offences",
          "Possession of<br>weapons",
          "Miscellaneous crimes<br>against society",
          "Fraud offences",
          "Drug offences",
          "Criminal damage and<br>arson",
          "All other<br>offences"
         ],
         "parents": [
          "All offences",
          "All offences",
          "All other<br>offences",
          "All other<br>offences",
          "All other<br>offences",
          "All other<br>offences",
          "All other<br>offences",
          "All other<br>offences",
          "All other<br>offences",
          "All other<br>offences",
          "All offences",
          "All other<br>offences",
          "All offences"
         ],
         "rotation": 90,
         "sort": false,
         "texttemplate": "%{label}<br>%{percentRoot: .0%}",
         "type": "sunburst",
         "values": [
          0.151,
          0.349,
          0.128,
          0,
          0.012,
          0.012,
          0.081,
          0.012,
          0.035,
          0.023,
          0.174,
          0.023,
          0.326
         ]
        }
       ],
       "layout": {
        "annotations": [
         {
          "align": "left",
          "font": {
           "size": 12
          },
          "showarrow": false,
          "text": "Source: Ministry of Justice, Criminal justice statistics",
          "x": -0.08,
          "xref": "paper",
          "y": -0.19,
          "yref": "paper"
         }
        ],
        "height": 600,
        "margin": {
         "b": 20,
         "l": 0,
         "r": 0,
         "t": 75
        },
        "template": {
         "layout": {
          "colorway": [
           "#A01D28",
           "#499CC9",
           "#F9A237",
           "#6FBA3A",
           "#573D6B"
          ],
          "font": {
           "color": "#54565B",
           "family": "Helvetica Neue, Arial",
           "size": 12
          },
          "modebar": {
           "activecolor": "#A01D28"
          },
          "paper_bgcolor": "#F7F2F2",
          "plot_bgcolor": "#F7F2F2",
          "showlegend": false,
          "title": {
           "font": {
            "family": "Helvetica Neue, Arial",
            "size": 17
           },
           "y": 0.94,
           "yanchor": "bottom"
          },
          "xaxis": {
           "showgrid": false,
           "tickcolor": "#54565B"
          }
         }
        },
        "title": {
         "text": "<b>Imprisonment of women in North Wales<br>by offence group in 2022</b>",
         "y": 0.94,
         "yanchor": "bottom"
        },
        "uniformtext": {
         "minsize": 7,
         "mode": "hide"
        },
        "width": 600,
        "xaxis": {
         "range": [
          -1,
          1
         ],
         "showticklabels": false
        },
        "yaxis": {
         "range": [
          -1,
          1
         ],
         "showticklabels": false
        }
       }
      }
     },
     "metadata": {},
     "output_type": "display_data"
    },
    {
     "data": {
      "application/vnd.plotly.v1+json": {
       "config": {
        "plotlyServerURL": "https://plot.ly"
       },
       "data": [
        {
         "branchvalues": "total",
         "hoverinfo": "label+percent parent",
         "hovertemplate": "<b>%{label}</b><br>%{percentParent: .0%} of %{parent}<extra></extra>",
         "insidetextorientation": "horizontal",
         "labels": [
          "Violence against the<br>person",
          "Theft offences",
          "Summary non-motoring",
          "Summary motoring",
          "Sexual offences",
          "Robbery",
          "Public order<br>offences",
          "Possession of<br>weapons",
          "Miscellaneous crimes<br>against society",
          "Fraud offences",
          "Drug offences",
          "Criminal damage and<br>arson",
          "All other<br>offences"
         ],
         "parents": [
          "All offences",
          "All offences",
          "All other<br>offences",
          "All other<br>offences",
          "All other<br>offences",
          "All other<br>offences",
          "All other<br>offences",
          "All other<br>offences",
          "All other<br>offences",
          "All other<br>offences",
          "All offences",
          "All other<br>offences",
          "All offences"
         ],
         "rotation": 90,
         "sort": false,
         "texttemplate": "%{label}<br>%{percentRoot: .0%}",
         "type": "sunburst",
         "values": [
          0.192,
          0.308,
          0.115,
          0.019,
          0.019,
          0,
          0.058,
          0,
          0.192,
          0,
          0.096,
          0,
          0.403
         ]
        }
       ],
       "layout": {
        "annotations": [
         {
          "align": "left",
          "font": {
           "size": 12
          },
          "showarrow": false,
          "text": "Source: Ministry of Justice, Criminal justice statistics",
          "x": -0.08,
          "xref": "paper",
          "y": -0.19,
          "yref": "paper"
         }
        ],
        "height": 600,
        "margin": {
         "b": 20,
         "l": 0,
         "r": 0,
         "t": 75
        },
        "template": {
         "layout": {
          "colorway": [
           "#A01D28",
           "#499CC9",
           "#F9A237",
           "#6FBA3A",
           "#573D6B"
          ],
          "font": {
           "color": "#54565B",
           "family": "Helvetica Neue, Arial",
           "size": 12
          },
          "modebar": {
           "activecolor": "#A01D28"
          },
          "paper_bgcolor": "#F7F2F2",
          "plot_bgcolor": "#F7F2F2",
          "showlegend": false,
          "title": {
           "font": {
            "family": "Helvetica Neue, Arial",
            "size": 17
           },
           "y": 0.94,
           "yanchor": "bottom"
          },
          "xaxis": {
           "showgrid": false,
           "tickcolor": "#54565B"
          }
         }
        },
        "title": {
         "text": "<b>Imprisonment of women in North Yorkshire<br>by offence group in 2022</b>",
         "y": 0.94,
         "yanchor": "bottom"
        },
        "uniformtext": {
         "minsize": 7,
         "mode": "hide"
        },
        "width": 600,
        "xaxis": {
         "range": [
          -1,
          1
         ],
         "showticklabels": false
        },
        "yaxis": {
         "range": [
          -1,
          1
         ],
         "showticklabels": false
        }
       }
      }
     },
     "metadata": {},
     "output_type": "display_data"
    },
    {
     "data": {
      "application/vnd.plotly.v1+json": {
       "config": {
        "plotlyServerURL": "https://plot.ly"
       },
       "data": [
        {
         "branchvalues": "total",
         "hoverinfo": "label+percent parent",
         "hovertemplate": "<b>%{label}</b><br>%{percentParent: .0%} of %{parent}<extra></extra>",
         "insidetextorientation": "horizontal",
         "labels": [
          "Violence against the<br>person",
          "Theft offences",
          "Summary non-motoring",
          "Summary motoring",
          "Sexual offences",
          "Robbery",
          "Public order<br>offences",
          "Possession of<br>weapons",
          "Miscellaneous crimes<br>against society",
          "Fraud offences",
          "Drug offences",
          "Criminal damage and<br>arson",
          "All other<br>offences"
         ],
         "parents": [
          "All offences",
          "All offences",
          "All other<br>offences",
          "All other<br>offences",
          "All other<br>offences",
          "All other<br>offences",
          "All other<br>offences",
          "All other<br>offences",
          "All other<br>offences",
          "All other<br>offences",
          "All offences",
          "All other<br>offences",
          "All offences"
         ],
         "rotation": 90,
         "sort": false,
         "texttemplate": "%{label}<br>%{percentRoot: .0%}",
         "type": "sunburst",
         "values": [
          0.208,
          0.333,
          0.104,
          0,
          0,
          0.042,
          0.021,
          0.042,
          0.042,
          0.062,
          0.146,
          0,
          0.313
         ]
        }
       ],
       "layout": {
        "annotations": [
         {
          "align": "left",
          "font": {
           "size": 12
          },
          "showarrow": false,
          "text": "Source: Ministry of Justice, Criminal justice statistics",
          "x": -0.08,
          "xref": "paper",
          "y": -0.19,
          "yref": "paper"
         }
        ],
        "height": 600,
        "margin": {
         "b": 20,
         "l": 0,
         "r": 0,
         "t": 75
        },
        "template": {
         "layout": {
          "colorway": [
           "#A01D28",
           "#499CC9",
           "#F9A237",
           "#6FBA3A",
           "#573D6B"
          ],
          "font": {
           "color": "#54565B",
           "family": "Helvetica Neue, Arial",
           "size": 12
          },
          "modebar": {
           "activecolor": "#A01D28"
          },
          "paper_bgcolor": "#F7F2F2",
          "plot_bgcolor": "#F7F2F2",
          "showlegend": false,
          "title": {
           "font": {
            "family": "Helvetica Neue, Arial",
            "size": 17
           },
           "y": 0.94,
           "yanchor": "bottom"
          },
          "xaxis": {
           "showgrid": false,
           "tickcolor": "#54565B"
          }
         }
        },
        "title": {
         "text": "<b>Imprisonment of women in Northamptonshire<br>by offence group in 2022</b>",
         "y": 0.94,
         "yanchor": "bottom"
        },
        "uniformtext": {
         "minsize": 7,
         "mode": "hide"
        },
        "width": 600,
        "xaxis": {
         "range": [
          -1,
          1
         ],
         "showticklabels": false
        },
        "yaxis": {
         "range": [
          -1,
          1
         ],
         "showticklabels": false
        }
       }
      }
     },
     "metadata": {},
     "output_type": "display_data"
    },
    {
     "data": {
      "application/vnd.plotly.v1+json": {
       "config": {
        "plotlyServerURL": "https://plot.ly"
       },
       "data": [
        {
         "branchvalues": "total",
         "hoverinfo": "label+percent parent",
         "hovertemplate": "<b>%{label}</b><br>%{percentParent: .0%} of %{parent}<extra></extra>",
         "insidetextorientation": "horizontal",
         "labels": [
          "Violence against the<br>person",
          "Theft offences",
          "Summary non-motoring",
          "Summary motoring",
          "Sexual offences",
          "Robbery",
          "Public order<br>offences",
          "Possession of<br>weapons",
          "Miscellaneous crimes<br>against society",
          "Fraud offences",
          "Drug offences",
          "Criminal damage and<br>arson",
          "All other<br>offences"
         ],
         "parents": [
          "All offences",
          "All offences",
          "All other<br>offences",
          "All other<br>offences",
          "All other<br>offences",
          "All other<br>offences",
          "All other<br>offences",
          "All other<br>offences",
          "All other<br>offences",
          "All other<br>offences",
          "All offences",
          "All other<br>offences",
          "All offences"
         ],
         "rotation": 90,
         "sort": false,
         "texttemplate": "%{label}<br>%{percentRoot: .0%}",
         "type": "sunburst",
         "values": [
          0.211,
          0.281,
          0.079,
          0.009,
          0.018,
          0.035,
          0.026,
          0.096,
          0.105,
          0.035,
          0.088,
          0.018,
          0.421
         ]
        }
       ],
       "layout": {
        "annotations": [
         {
          "align": "left",
          "font": {
           "size": 12
          },
          "showarrow": false,
          "text": "Source: Ministry of Justice, Criminal justice statistics",
          "x": -0.08,
          "xref": "paper",
          "y": -0.19,
          "yref": "paper"
         }
        ],
        "height": 600,
        "margin": {
         "b": 20,
         "l": 0,
         "r": 0,
         "t": 75
        },
        "template": {
         "layout": {
          "colorway": [
           "#A01D28",
           "#499CC9",
           "#F9A237",
           "#6FBA3A",
           "#573D6B"
          ],
          "font": {
           "color": "#54565B",
           "family": "Helvetica Neue, Arial",
           "size": 12
          },
          "modebar": {
           "activecolor": "#A01D28"
          },
          "paper_bgcolor": "#F7F2F2",
          "plot_bgcolor": "#F7F2F2",
          "showlegend": false,
          "title": {
           "font": {
            "family": "Helvetica Neue, Arial",
            "size": 17
           },
           "y": 0.94,
           "yanchor": "bottom"
          },
          "xaxis": {
           "showgrid": false,
           "tickcolor": "#54565B"
          }
         }
        },
        "title": {
         "text": "<b>Imprisonment of women in Northumbria<br>by offence group in 2022</b>",
         "y": 0.94,
         "yanchor": "bottom"
        },
        "uniformtext": {
         "minsize": 7,
         "mode": "hide"
        },
        "width": 600,
        "xaxis": {
         "range": [
          -1,
          1
         ],
         "showticklabels": false
        },
        "yaxis": {
         "range": [
          -1,
          1
         ],
         "showticklabels": false
        }
       }
      }
     },
     "metadata": {},
     "output_type": "display_data"
    },
    {
     "data": {
      "application/vnd.plotly.v1+json": {
       "config": {
        "plotlyServerURL": "https://plot.ly"
       },
       "data": [
        {
         "branchvalues": "total",
         "hoverinfo": "label+percent parent",
         "hovertemplate": "<b>%{label}</b><br>%{percentParent: .0%} of %{parent}<extra></extra>",
         "insidetextorientation": "horizontal",
         "labels": [
          "Violence against the<br>person",
          "Theft offences",
          "Summary non-motoring",
          "Summary motoring",
          "Sexual offences",
          "Robbery",
          "Public order<br>offences",
          "Possession of<br>weapons",
          "Miscellaneous crimes<br>against society",
          "Fraud offences",
          "Drug offences",
          "Criminal damage and<br>arson",
          "All other<br>offences"
         ],
         "parents": [
          "All offences",
          "All offences",
          "All other<br>offences",
          "All other<br>offences",
          "All other<br>offences",
          "All other<br>offences",
          "All other<br>offences",
          "All other<br>offences",
          "All other<br>offences",
          "All other<br>offences",
          "All offences",
          "All other<br>offences",
          "All offences"
         ],
         "rotation": 90,
         "sort": false,
         "texttemplate": "%{label}<br>%{percentRoot: .0%}",
         "type": "sunburst",
         "values": [
          0.121,
          0.53,
          0.068,
          0.008,
          0.023,
          0.023,
          0.03,
          0.03,
          0.045,
          0.038,
          0.083,
          0,
          0.265
         ]
        }
       ],
       "layout": {
        "annotations": [
         {
          "align": "left",
          "font": {
           "size": 12
          },
          "showarrow": false,
          "text": "Source: Ministry of Justice, Criminal justice statistics",
          "x": -0.08,
          "xref": "paper",
          "y": -0.19,
          "yref": "paper"
         }
        ],
        "height": 600,
        "margin": {
         "b": 20,
         "l": 0,
         "r": 0,
         "t": 75
        },
        "template": {
         "layout": {
          "colorway": [
           "#A01D28",
           "#499CC9",
           "#F9A237",
           "#6FBA3A",
           "#573D6B"
          ],
          "font": {
           "color": "#54565B",
           "family": "Helvetica Neue, Arial",
           "size": 12
          },
          "modebar": {
           "activecolor": "#A01D28"
          },
          "paper_bgcolor": "#F7F2F2",
          "plot_bgcolor": "#F7F2F2",
          "showlegend": false,
          "title": {
           "font": {
            "family": "Helvetica Neue, Arial",
            "size": 17
           },
           "y": 0.94,
           "yanchor": "bottom"
          },
          "xaxis": {
           "showgrid": false,
           "tickcolor": "#54565B"
          }
         }
        },
        "title": {
         "text": "<b>Imprisonment of women in Nottinghamshire<br>by offence group in 2022</b>",
         "y": 0.94,
         "yanchor": "bottom"
        },
        "uniformtext": {
         "minsize": 7,
         "mode": "hide"
        },
        "width": 600,
        "xaxis": {
         "range": [
          -1,
          1
         ],
         "showticklabels": false
        },
        "yaxis": {
         "range": [
          -1,
          1
         ],
         "showticklabels": false
        }
       }
      }
     },
     "metadata": {},
     "output_type": "display_data"
    },
    {
     "data": {
      "application/vnd.plotly.v1+json": {
       "config": {
        "plotlyServerURL": "https://plot.ly"
       },
       "data": [
        {
         "branchvalues": "total",
         "hoverinfo": "label+percent parent",
         "hovertemplate": "<b>%{label}</b><br>%{percentParent: .0%} of %{parent}<extra></extra>",
         "insidetextorientation": "horizontal",
         "labels": [
          "Violence against the<br>person",
          "Theft offences",
          "Summary non-motoring",
          "Summary motoring",
          "Sexual offences",
          "Robbery",
          "Public order<br>offences",
          "Possession of<br>weapons",
          "Miscellaneous crimes<br>against society",
          "Fraud offences",
          "Drug offences",
          "Criminal damage and<br>arson",
          "All other<br>offences"
         ],
         "parents": [
          "All offences",
          "All offences",
          "All other<br>offences",
          "All other<br>offences",
          "All other<br>offences",
          "All other<br>offences",
          "All other<br>offences",
          "All other<br>offences",
          "All other<br>offences",
          "All other<br>offences",
          "All offences",
          "All other<br>offences",
          "All offences"
         ],
         "rotation": 90,
         "sort": false,
         "texttemplate": "%{label}<br>%{percentRoot: .0%}",
         "type": "sunburst",
         "values": [
          0.218,
          0.291,
          0.085,
          0.024,
          0.012,
          0.036,
          0.048,
          0.03,
          0.061,
          0.03,
          0.158,
          0.006,
          0.332
         ]
        }
       ],
       "layout": {
        "annotations": [
         {
          "align": "left",
          "font": {
           "size": 12
          },
          "showarrow": false,
          "text": "Source: Ministry of Justice, Criminal justice statistics",
          "x": -0.08,
          "xref": "paper",
          "y": -0.19,
          "yref": "paper"
         }
        ],
        "height": 600,
        "margin": {
         "b": 20,
         "l": 0,
         "r": 0,
         "t": 75
        },
        "template": {
         "layout": {
          "colorway": [
           "#A01D28",
           "#499CC9",
           "#F9A237",
           "#6FBA3A",
           "#573D6B"
          ],
          "font": {
           "color": "#54565B",
           "family": "Helvetica Neue, Arial",
           "size": 12
          },
          "modebar": {
           "activecolor": "#A01D28"
          },
          "paper_bgcolor": "#F7F2F2",
          "plot_bgcolor": "#F7F2F2",
          "showlegend": false,
          "title": {
           "font": {
            "family": "Helvetica Neue, Arial",
            "size": 17
           },
           "y": 0.94,
           "yanchor": "bottom"
          },
          "xaxis": {
           "showgrid": false,
           "tickcolor": "#54565B"
          }
         }
        },
        "title": {
         "text": "<b>Imprisonment of women in South Wales<br>by offence group in 2022</b>",
         "y": 0.94,
         "yanchor": "bottom"
        },
        "uniformtext": {
         "minsize": 7,
         "mode": "hide"
        },
        "width": 600,
        "xaxis": {
         "range": [
          -1,
          1
         ],
         "showticklabels": false
        },
        "yaxis": {
         "range": [
          -1,
          1
         ],
         "showticklabels": false
        }
       }
      }
     },
     "metadata": {},
     "output_type": "display_data"
    },
    {
     "data": {
      "application/vnd.plotly.v1+json": {
       "config": {
        "plotlyServerURL": "https://plot.ly"
       },
       "data": [
        {
         "branchvalues": "total",
         "hoverinfo": "label+percent parent",
         "hovertemplate": "<b>%{label}</b><br>%{percentParent: .0%} of %{parent}<extra></extra>",
         "insidetextorientation": "horizontal",
         "labels": [
          "Violence against the<br>person",
          "Theft offences",
          "Summary non-motoring",
          "Summary motoring",
          "Sexual offences",
          "Robbery",
          "Public order<br>offences",
          "Possession of<br>weapons",
          "Miscellaneous crimes<br>against society",
          "Fraud offences",
          "Drug offences",
          "Criminal damage and<br>arson",
          "All other<br>offences"
         ],
         "parents": [
          "All offences",
          "All offences",
          "All other<br>offences",
          "All other<br>offences",
          "All other<br>offences",
          "All other<br>offences",
          "All other<br>offences",
          "All other<br>offences",
          "All other<br>offences",
          "All other<br>offences",
          "All offences",
          "All other<br>offences",
          "All offences"
         ],
         "rotation": 90,
         "sort": false,
         "texttemplate": "%{label}<br>%{percentRoot: .0%}",
         "type": "sunburst",
         "values": [
          0.215,
          0.355,
          0.065,
          0.019,
          0.019,
          0.037,
          0.009,
          0.047,
          0.065,
          0.047,
          0.084,
          0.037,
          0.34500000000000003
         ]
        }
       ],
       "layout": {
        "annotations": [
         {
          "align": "left",
          "font": {
           "size": 12
          },
          "showarrow": false,
          "text": "Source: Ministry of Justice, Criminal justice statistics",
          "x": -0.08,
          "xref": "paper",
          "y": -0.19,
          "yref": "paper"
         }
        ],
        "height": 600,
        "margin": {
         "b": 20,
         "l": 0,
         "r": 0,
         "t": 75
        },
        "template": {
         "layout": {
          "colorway": [
           "#A01D28",
           "#499CC9",
           "#F9A237",
           "#6FBA3A",
           "#573D6B"
          ],
          "font": {
           "color": "#54565B",
           "family": "Helvetica Neue, Arial",
           "size": 12
          },
          "modebar": {
           "activecolor": "#A01D28"
          },
          "paper_bgcolor": "#F7F2F2",
          "plot_bgcolor": "#F7F2F2",
          "showlegend": false,
          "title": {
           "font": {
            "family": "Helvetica Neue, Arial",
            "size": 17
           },
           "y": 0.94,
           "yanchor": "bottom"
          },
          "xaxis": {
           "showgrid": false,
           "tickcolor": "#54565B"
          }
         }
        },
        "title": {
         "text": "<b>Imprisonment of women in South Yorkshire<br>by offence group in 2022</b>",
         "y": 0.94,
         "yanchor": "bottom"
        },
        "uniformtext": {
         "minsize": 7,
         "mode": "hide"
        },
        "width": 600,
        "xaxis": {
         "range": [
          -1,
          1
         ],
         "showticklabels": false
        },
        "yaxis": {
         "range": [
          -1,
          1
         ],
         "showticklabels": false
        }
       }
      }
     },
     "metadata": {},
     "output_type": "display_data"
    },
    {
     "data": {
      "application/vnd.plotly.v1+json": {
       "config": {
        "plotlyServerURL": "https://plot.ly"
       },
       "data": [
        {
         "branchvalues": "total",
         "hoverinfo": "label+percent parent",
         "hovertemplate": "<b>%{label}</b><br>%{percentParent: .0%} of %{parent}<extra></extra>",
         "insidetextorientation": "horizontal",
         "labels": [
          "Violence against the<br>person",
          "Theft offences",
          "Summary non-motoring",
          "Summary motoring",
          "Sexual offences",
          "Robbery",
          "Public order<br>offences",
          "Possession of<br>weapons",
          "Miscellaneous crimes<br>against society",
          "Fraud offences",
          "Drug offences",
          "Criminal damage and<br>arson",
          "All other<br>offences"
         ],
         "parents": [
          "All offences",
          "All offences",
          "All other<br>offences",
          "All other<br>offences",
          "All other<br>offences",
          "All other<br>offences",
          "All other<br>offences",
          "All other<br>offences",
          "All other<br>offences",
          "All other<br>offences",
          "All offences",
          "All other<br>offences",
          "All offences"
         ],
         "rotation": 90,
         "sort": false,
         "texttemplate": "%{label}<br>%{percentRoot: .0%}",
         "type": "sunburst",
         "values": [
          0.192,
          0.154,
          0.154,
          0.064,
          0,
          0.026,
          0.038,
          0.051,
          0.103,
          0.077,
          0.128,
          0.013,
          0.526
         ]
        }
       ],
       "layout": {
        "annotations": [
         {
          "align": "left",
          "font": {
           "size": 12
          },
          "showarrow": false,
          "text": "Source: Ministry of Justice, Criminal justice statistics",
          "x": -0.08,
          "xref": "paper",
          "y": -0.19,
          "yref": "paper"
         }
        ],
        "height": 600,
        "margin": {
         "b": 20,
         "l": 0,
         "r": 0,
         "t": 75
        },
        "template": {
         "layout": {
          "colorway": [
           "#A01D28",
           "#499CC9",
           "#F9A237",
           "#6FBA3A",
           "#573D6B"
          ],
          "font": {
           "color": "#54565B",
           "family": "Helvetica Neue, Arial",
           "size": 12
          },
          "modebar": {
           "activecolor": "#A01D28"
          },
          "paper_bgcolor": "#F7F2F2",
          "plot_bgcolor": "#F7F2F2",
          "showlegend": false,
          "title": {
           "font": {
            "family": "Helvetica Neue, Arial",
            "size": 17
           },
           "y": 0.94,
           "yanchor": "bottom"
          },
          "xaxis": {
           "showgrid": false,
           "tickcolor": "#54565B"
          }
         }
        },
        "title": {
         "text": "<b>Imprisonment of women in Staffordshire<br>by offence group in 2022</b>",
         "y": 0.94,
         "yanchor": "bottom"
        },
        "uniformtext": {
         "minsize": 7,
         "mode": "hide"
        },
        "width": 600,
        "xaxis": {
         "range": [
          -1,
          1
         ],
         "showticklabels": false
        },
        "yaxis": {
         "range": [
          -1,
          1
         ],
         "showticklabels": false
        }
       }
      }
     },
     "metadata": {},
     "output_type": "display_data"
    },
    {
     "data": {
      "application/vnd.plotly.v1+json": {
       "config": {
        "plotlyServerURL": "https://plot.ly"
       },
       "data": [
        {
         "branchvalues": "total",
         "hoverinfo": "label+percent parent",
         "hovertemplate": "<b>%{label}</b><br>%{percentParent: .0%} of %{parent}<extra></extra>",
         "insidetextorientation": "horizontal",
         "labels": [
          "Violence against the<br>person",
          "Theft offences",
          "Summary non-motoring",
          "Summary motoring",
          "Sexual offences",
          "Robbery",
          "Public order<br>offences",
          "Possession of<br>weapons",
          "Miscellaneous crimes<br>against society",
          "Fraud offences",
          "Drug offences",
          "Criminal damage and<br>arson",
          "All other<br>offences"
         ],
         "parents": [
          "All offences",
          "All offences",
          "All other<br>offences",
          "All other<br>offences",
          "All other<br>offences",
          "All other<br>offences",
          "All other<br>offences",
          "All other<br>offences",
          "All other<br>offences",
          "All other<br>offences",
          "All offences",
          "All other<br>offences",
          "All offences"
         ],
         "rotation": 90,
         "sort": false,
         "texttemplate": "%{label}<br>%{percentRoot: .0%}",
         "type": "sunburst",
         "values": [
          0.111,
          0.444,
          0.083,
          0,
          0.028,
          0.028,
          0.056,
          0.056,
          0.056,
          0,
          0.139,
          0,
          0.307
         ]
        }
       ],
       "layout": {
        "annotations": [
         {
          "align": "left",
          "font": {
           "size": 12
          },
          "showarrow": false,
          "text": "Source: Ministry of Justice, Criminal justice statistics",
          "x": -0.08,
          "xref": "paper",
          "y": -0.19,
          "yref": "paper"
         }
        ],
        "height": 600,
        "margin": {
         "b": 20,
         "l": 0,
         "r": 0,
         "t": 75
        },
        "template": {
         "layout": {
          "colorway": [
           "#A01D28",
           "#499CC9",
           "#F9A237",
           "#6FBA3A",
           "#573D6B"
          ],
          "font": {
           "color": "#54565B",
           "family": "Helvetica Neue, Arial",
           "size": 12
          },
          "modebar": {
           "activecolor": "#A01D28"
          },
          "paper_bgcolor": "#F7F2F2",
          "plot_bgcolor": "#F7F2F2",
          "showlegend": false,
          "title": {
           "font": {
            "family": "Helvetica Neue, Arial",
            "size": 17
           },
           "y": 0.94,
           "yanchor": "bottom"
          },
          "xaxis": {
           "showgrid": false,
           "tickcolor": "#54565B"
          }
         }
        },
        "title": {
         "text": "<b>Imprisonment of women in Suffolk<br>by offence group in 2022</b>",
         "y": 0.94,
         "yanchor": "bottom"
        },
        "uniformtext": {
         "minsize": 7,
         "mode": "hide"
        },
        "width": 600,
        "xaxis": {
         "range": [
          -1,
          1
         ],
         "showticklabels": false
        },
        "yaxis": {
         "range": [
          -1,
          1
         ],
         "showticklabels": false
        }
       }
      }
     },
     "metadata": {},
     "output_type": "display_data"
    },
    {
     "data": {
      "application/vnd.plotly.v1+json": {
       "config": {
        "plotlyServerURL": "https://plot.ly"
       },
       "data": [
        {
         "branchvalues": "total",
         "hoverinfo": "label+percent parent",
         "hovertemplate": "<b>%{label}</b><br>%{percentParent: .0%} of %{parent}<extra></extra>",
         "insidetextorientation": "horizontal",
         "labels": [
          "Violence against the<br>person",
          "Theft offences",
          "Summary non-motoring",
          "Summary motoring",
          "Sexual offences",
          "Robbery",
          "Public order<br>offences",
          "Possession of<br>weapons",
          "Miscellaneous crimes<br>against society",
          "Fraud offences",
          "Drug offences",
          "Criminal damage and<br>arson",
          "All other<br>offences"
         ],
         "parents": [
          "All offences",
          "All offences",
          "All other<br>offences",
          "All other<br>offences",
          "All other<br>offences",
          "All other<br>offences",
          "All other<br>offences",
          "All other<br>offences",
          "All other<br>offences",
          "All other<br>offences",
          "All offences",
          "All other<br>offences",
          "All offences"
         ],
         "rotation": 90,
         "sort": false,
         "texttemplate": "%{label}<br>%{percentRoot: .0%}",
         "type": "sunburst",
         "values": [
          0.263,
          0.316,
          0.053,
          0,
          0,
          0,
          0,
          0,
          0.316,
          0,
          0.053,
          0,
          0.369
         ]
        }
       ],
       "layout": {
        "annotations": [
         {
          "align": "left",
          "font": {
           "size": 12
          },
          "showarrow": false,
          "text": "Source: Ministry of Justice, Criminal justice statistics",
          "x": -0.08,
          "xref": "paper",
          "y": -0.19,
          "yref": "paper"
         }
        ],
        "height": 600,
        "margin": {
         "b": 20,
         "l": 0,
         "r": 0,
         "t": 75
        },
        "template": {
         "layout": {
          "colorway": [
           "#A01D28",
           "#499CC9",
           "#F9A237",
           "#6FBA3A",
           "#573D6B"
          ],
          "font": {
           "color": "#54565B",
           "family": "Helvetica Neue, Arial",
           "size": 12
          },
          "modebar": {
           "activecolor": "#A01D28"
          },
          "paper_bgcolor": "#F7F2F2",
          "plot_bgcolor": "#F7F2F2",
          "showlegend": false,
          "title": {
           "font": {
            "family": "Helvetica Neue, Arial",
            "size": 17
           },
           "y": 0.94,
           "yanchor": "bottom"
          },
          "xaxis": {
           "showgrid": false,
           "tickcolor": "#54565B"
          }
         }
        },
        "title": {
         "text": "<b>Imprisonment of women in Surrey<br>by offence group in 2022</b>",
         "y": 0.94,
         "yanchor": "bottom"
        },
        "uniformtext": {
         "minsize": 7,
         "mode": "hide"
        },
        "width": 600,
        "xaxis": {
         "range": [
          -1,
          1
         ],
         "showticklabels": false
        },
        "yaxis": {
         "range": [
          -1,
          1
         ],
         "showticklabels": false
        }
       }
      }
     },
     "metadata": {},
     "output_type": "display_data"
    },
    {
     "data": {
      "application/vnd.plotly.v1+json": {
       "config": {
        "plotlyServerURL": "https://plot.ly"
       },
       "data": [
        {
         "branchvalues": "total",
         "hoverinfo": "label+percent parent",
         "hovertemplate": "<b>%{label}</b><br>%{percentParent: .0%} of %{parent}<extra></extra>",
         "insidetextorientation": "horizontal",
         "labels": [
          "Violence against the<br>person",
          "Theft offences",
          "Summary non-motoring",
          "Summary motoring",
          "Sexual offences",
          "Robbery",
          "Public order<br>offences",
          "Possession of<br>weapons",
          "Miscellaneous crimes<br>against society",
          "Fraud offences",
          "Drug offences",
          "Criminal damage and<br>arson",
          "All other<br>offences"
         ],
         "parents": [
          "All offences",
          "All offences",
          "All other<br>offences",
          "All other<br>offences",
          "All other<br>offences",
          "All other<br>offences",
          "All other<br>offences",
          "All other<br>offences",
          "All other<br>offences",
          "All other<br>offences",
          "All offences",
          "All other<br>offences",
          "All offences"
         ],
         "rotation": 90,
         "sort": false,
         "texttemplate": "%{label}<br>%{percentRoot: .0%}",
         "type": "sunburst",
         "values": [
          0.226,
          0.339,
          0.065,
          0.048,
          0.016,
          0.032,
          0.016,
          0.032,
          0,
          0.016,
          0.194,
          0.016,
          0.241
         ]
        }
       ],
       "layout": {
        "annotations": [
         {
          "align": "left",
          "font": {
           "size": 12
          },
          "showarrow": false,
          "text": "Source: Ministry of Justice, Criminal justice statistics",
          "x": -0.08,
          "xref": "paper",
          "y": -0.19,
          "yref": "paper"
         }
        ],
        "height": 600,
        "margin": {
         "b": 20,
         "l": 0,
         "r": 0,
         "t": 75
        },
        "template": {
         "layout": {
          "colorway": [
           "#A01D28",
           "#499CC9",
           "#F9A237",
           "#6FBA3A",
           "#573D6B"
          ],
          "font": {
           "color": "#54565B",
           "family": "Helvetica Neue, Arial",
           "size": 12
          },
          "modebar": {
           "activecolor": "#A01D28"
          },
          "paper_bgcolor": "#F7F2F2",
          "plot_bgcolor": "#F7F2F2",
          "showlegend": false,
          "title": {
           "font": {
            "family": "Helvetica Neue, Arial",
            "size": 17
           },
           "y": 0.94,
           "yanchor": "bottom"
          },
          "xaxis": {
           "showgrid": false,
           "tickcolor": "#54565B"
          }
         }
        },
        "title": {
         "text": "<b>Imprisonment of women in Sussex<br>by offence group in 2022</b>",
         "y": 0.94,
         "yanchor": "bottom"
        },
        "uniformtext": {
         "minsize": 7,
         "mode": "hide"
        },
        "width": 600,
        "xaxis": {
         "range": [
          -1,
          1
         ],
         "showticklabels": false
        },
        "yaxis": {
         "range": [
          -1,
          1
         ],
         "showticklabels": false
        }
       }
      }
     },
     "metadata": {},
     "output_type": "display_data"
    },
    {
     "data": {
      "application/vnd.plotly.v1+json": {
       "config": {
        "plotlyServerURL": "https://plot.ly"
       },
       "data": [
        {
         "branchvalues": "total",
         "hoverinfo": "label+percent parent",
         "hovertemplate": "<b>%{label}</b><br>%{percentParent: .0%} of %{parent}<extra></extra>",
         "insidetextorientation": "horizontal",
         "labels": [
          "Violence against the<br>person",
          "Theft offences",
          "Summary non-motoring",
          "Summary motoring",
          "Sexual offences",
          "Robbery",
          "Public order<br>offences",
          "Possession of<br>weapons",
          "Miscellaneous crimes<br>against society",
          "Fraud offences",
          "Drug offences",
          "Criminal damage and<br>arson",
          "All other<br>offences"
         ],
         "parents": [
          "All offences",
          "All offences",
          "All other<br>offences",
          "All other<br>offences",
          "All other<br>offences",
          "All other<br>offences",
          "All other<br>offences",
          "All other<br>offences",
          "All other<br>offences",
          "All other<br>offences",
          "All offences",
          "All other<br>offences",
          "All offences"
         ],
         "rotation": 90,
         "sort": false,
         "texttemplate": "%{label}<br>%{percentRoot: .0%}",
         "type": "sunburst",
         "values": [
          0.245,
          0.301,
          0.126,
          0.007,
          0.007,
          0.049,
          0.091,
          0.028,
          0.042,
          0.042,
          0.056,
          0.007,
          0.399
         ]
        }
       ],
       "layout": {
        "annotations": [
         {
          "align": "left",
          "font": {
           "size": 12
          },
          "showarrow": false,
          "text": "Source: Ministry of Justice, Criminal justice statistics",
          "x": -0.08,
          "xref": "paper",
          "y": -0.19,
          "yref": "paper"
         }
        ],
        "height": 600,
        "margin": {
         "b": 20,
         "l": 0,
         "r": 0,
         "t": 75
        },
        "template": {
         "layout": {
          "colorway": [
           "#A01D28",
           "#499CC9",
           "#F9A237",
           "#6FBA3A",
           "#573D6B"
          ],
          "font": {
           "color": "#54565B",
           "family": "Helvetica Neue, Arial",
           "size": 12
          },
          "modebar": {
           "activecolor": "#A01D28"
          },
          "paper_bgcolor": "#F7F2F2",
          "plot_bgcolor": "#F7F2F2",
          "showlegend": false,
          "title": {
           "font": {
            "family": "Helvetica Neue, Arial",
            "size": 17
           },
           "y": 0.94,
           "yanchor": "bottom"
          },
          "xaxis": {
           "showgrid": false,
           "tickcolor": "#54565B"
          }
         }
        },
        "title": {
         "text": "<b>Imprisonment of women in Thames Valley<br>by offence group in 2022</b>",
         "y": 0.94,
         "yanchor": "bottom"
        },
        "uniformtext": {
         "minsize": 7,
         "mode": "hide"
        },
        "width": 600,
        "xaxis": {
         "range": [
          -1,
          1
         ],
         "showticklabels": false
        },
        "yaxis": {
         "range": [
          -1,
          1
         ],
         "showticklabels": false
        }
       }
      }
     },
     "metadata": {},
     "output_type": "display_data"
    },
    {
     "data": {
      "application/vnd.plotly.v1+json": {
       "config": {
        "plotlyServerURL": "https://plot.ly"
       },
       "data": [
        {
         "branchvalues": "total",
         "hoverinfo": "label+percent parent",
         "hovertemplate": "<b>%{label}</b><br>%{percentParent: .0%} of %{parent}<extra></extra>",
         "insidetextorientation": "horizontal",
         "labels": [
          "Violence against the<br>person",
          "Theft offences",
          "Summary non-motoring",
          "Summary motoring",
          "Sexual offences",
          "Robbery",
          "Public order<br>offences",
          "Possession of<br>weapons",
          "Miscellaneous crimes<br>against society",
          "Fraud offences",
          "Drug offences",
          "Criminal damage and<br>arson",
          "All other<br>offences"
         ],
         "parents": [
          "All offences",
          "All offences",
          "All other<br>offences",
          "All other<br>offences",
          "All other<br>offences",
          "All other<br>offences",
          "All other<br>offences",
          "All other<br>offences",
          "All other<br>offences",
          "All other<br>offences",
          "All offences",
          "All other<br>offences",
          "All offences"
         ],
         "rotation": 90,
         "sort": false,
         "texttemplate": "%{label}<br>%{percentRoot: .0%}",
         "type": "sunburst",
         "values": [
          0.22,
          0.195,
          0.049,
          0,
          0,
          0.073,
          0.024,
          0.024,
          0.073,
          0.171,
          0.171,
          0,
          0.414
         ]
        }
       ],
       "layout": {
        "annotations": [
         {
          "align": "left",
          "font": {
           "size": 12
          },
          "showarrow": false,
          "text": "Source: Ministry of Justice, Criminal justice statistics",
          "x": -0.08,
          "xref": "paper",
          "y": -0.19,
          "yref": "paper"
         }
        ],
        "height": 600,
        "margin": {
         "b": 20,
         "l": 0,
         "r": 0,
         "t": 75
        },
        "template": {
         "layout": {
          "colorway": [
           "#A01D28",
           "#499CC9",
           "#F9A237",
           "#6FBA3A",
           "#573D6B"
          ],
          "font": {
           "color": "#54565B",
           "family": "Helvetica Neue, Arial",
           "size": 12
          },
          "modebar": {
           "activecolor": "#A01D28"
          },
          "paper_bgcolor": "#F7F2F2",
          "plot_bgcolor": "#F7F2F2",
          "showlegend": false,
          "title": {
           "font": {
            "family": "Helvetica Neue, Arial",
            "size": 17
           },
           "y": 0.94,
           "yanchor": "bottom"
          },
          "xaxis": {
           "showgrid": false,
           "tickcolor": "#54565B"
          }
         }
        },
        "title": {
         "text": "<b>Imprisonment of women in Warwickshire<br>by offence group in 2022</b>",
         "y": 0.94,
         "yanchor": "bottom"
        },
        "uniformtext": {
         "minsize": 7,
         "mode": "hide"
        },
        "width": 600,
        "xaxis": {
         "range": [
          -1,
          1
         ],
         "showticklabels": false
        },
        "yaxis": {
         "range": [
          -1,
          1
         ],
         "showticklabels": false
        }
       }
      }
     },
     "metadata": {},
     "output_type": "display_data"
    },
    {
     "data": {
      "application/vnd.plotly.v1+json": {
       "config": {
        "plotlyServerURL": "https://plot.ly"
       },
       "data": [
        {
         "branchvalues": "total",
         "hoverinfo": "label+percent parent",
         "hovertemplate": "<b>%{label}</b><br>%{percentParent: .0%} of %{parent}<extra></extra>",
         "insidetextorientation": "horizontal",
         "labels": [
          "Violence against the<br>person",
          "Theft offences",
          "Summary non-motoring",
          "Summary motoring",
          "Sexual offences",
          "Robbery",
          "Public order<br>offences",
          "Possession of<br>weapons",
          "Miscellaneous crimes<br>against society",
          "Fraud offences",
          "Drug offences",
          "Criminal damage and<br>arson",
          "All other<br>offences"
         ],
         "parents": [
          "All offences",
          "All offences",
          "All other<br>offences",
          "All other<br>offences",
          "All other<br>offences",
          "All other<br>offences",
          "All other<br>offences",
          "All other<br>offences",
          "All other<br>offences",
          "All other<br>offences",
          "All offences",
          "All other<br>offences",
          "All offences"
         ],
         "rotation": 90,
         "sort": false,
         "texttemplate": "%{label}<br>%{percentRoot: .0%}",
         "type": "sunburst",
         "values": [
          0.255,
          0.298,
          0.043,
          0.043,
          0.064,
          0,
          0.085,
          0,
          0.043,
          0.106,
          0.064,
          0,
          0.38399999999999995
         ]
        }
       ],
       "layout": {
        "annotations": [
         {
          "align": "left",
          "font": {
           "size": 12
          },
          "showarrow": false,
          "text": "Source: Ministry of Justice, Criminal justice statistics",
          "x": -0.08,
          "xref": "paper",
          "y": -0.19,
          "yref": "paper"
         }
        ],
        "height": 600,
        "margin": {
         "b": 20,
         "l": 0,
         "r": 0,
         "t": 75
        },
        "template": {
         "layout": {
          "colorway": [
           "#A01D28",
           "#499CC9",
           "#F9A237",
           "#6FBA3A",
           "#573D6B"
          ],
          "font": {
           "color": "#54565B",
           "family": "Helvetica Neue, Arial",
           "size": 12
          },
          "modebar": {
           "activecolor": "#A01D28"
          },
          "paper_bgcolor": "#F7F2F2",
          "plot_bgcolor": "#F7F2F2",
          "showlegend": false,
          "title": {
           "font": {
            "family": "Helvetica Neue, Arial",
            "size": 17
           },
           "y": 0.94,
           "yanchor": "bottom"
          },
          "xaxis": {
           "showgrid": false,
           "tickcolor": "#54565B"
          }
         }
        },
        "title": {
         "text": "<b>Imprisonment of women in West Mercia<br>by offence group in 2022</b>",
         "y": 0.94,
         "yanchor": "bottom"
        },
        "uniformtext": {
         "minsize": 7,
         "mode": "hide"
        },
        "width": 600,
        "xaxis": {
         "range": [
          -1,
          1
         ],
         "showticklabels": false
        },
        "yaxis": {
         "range": [
          -1,
          1
         ],
         "showticklabels": false
        }
       }
      }
     },
     "metadata": {},
     "output_type": "display_data"
    },
    {
     "data": {
      "application/vnd.plotly.v1+json": {
       "config": {
        "plotlyServerURL": "https://plot.ly"
       },
       "data": [
        {
         "branchvalues": "total",
         "hoverinfo": "label+percent parent",
         "hovertemplate": "<b>%{label}</b><br>%{percentParent: .0%} of %{parent}<extra></extra>",
         "insidetextorientation": "horizontal",
         "labels": [
          "Violence against the<br>person",
          "Theft offences",
          "Summary non-motoring",
          "Summary motoring",
          "Sexual offences",
          "Robbery",
          "Public order<br>offences",
          "Possession of<br>weapons",
          "Miscellaneous crimes<br>against society",
          "Fraud offences",
          "Drug offences",
          "Criminal damage and<br>arson",
          "All other<br>offences"
         ],
         "parents": [
          "All offences",
          "All offences",
          "All other<br>offences",
          "All other<br>offences",
          "All other<br>offences",
          "All other<br>offences",
          "All other<br>offences",
          "All other<br>offences",
          "All other<br>offences",
          "All other<br>offences",
          "All offences",
          "All other<br>offences",
          "All offences"
         ],
         "rotation": 90,
         "sort": false,
         "texttemplate": "%{label}<br>%{percentRoot: .0%}",
         "type": "sunburst",
         "values": [
          0.231,
          0.468,
          0.056,
          0.023,
          0.005,
          0.032,
          0.032,
          0.037,
          0.065,
          0.019,
          0.028,
          0.005,
          0.274
         ]
        }
       ],
       "layout": {
        "annotations": [
         {
          "align": "left",
          "font": {
           "size": 12
          },
          "showarrow": false,
          "text": "Source: Ministry of Justice, Criminal justice statistics",
          "x": -0.08,
          "xref": "paper",
          "y": -0.19,
          "yref": "paper"
         }
        ],
        "height": 600,
        "margin": {
         "b": 20,
         "l": 0,
         "r": 0,
         "t": 75
        },
        "template": {
         "layout": {
          "colorway": [
           "#A01D28",
           "#499CC9",
           "#F9A237",
           "#6FBA3A",
           "#573D6B"
          ],
          "font": {
           "color": "#54565B",
           "family": "Helvetica Neue, Arial",
           "size": 12
          },
          "modebar": {
           "activecolor": "#A01D28"
          },
          "paper_bgcolor": "#F7F2F2",
          "plot_bgcolor": "#F7F2F2",
          "showlegend": false,
          "title": {
           "font": {
            "family": "Helvetica Neue, Arial",
            "size": 17
           },
           "y": 0.94,
           "yanchor": "bottom"
          },
          "xaxis": {
           "showgrid": false,
           "tickcolor": "#54565B"
          }
         }
        },
        "title": {
         "text": "<b>Imprisonment of women in West Midlands<br>by offence group in 2022</b>",
         "y": 0.94,
         "yanchor": "bottom"
        },
        "uniformtext": {
         "minsize": 7,
         "mode": "hide"
        },
        "width": 600,
        "xaxis": {
         "range": [
          -1,
          1
         ],
         "showticklabels": false
        },
        "yaxis": {
         "range": [
          -1,
          1
         ],
         "showticklabels": false
        }
       }
      }
     },
     "metadata": {},
     "output_type": "display_data"
    },
    {
     "data": {
      "application/vnd.plotly.v1+json": {
       "config": {
        "plotlyServerURL": "https://plot.ly"
       },
       "data": [
        {
         "branchvalues": "total",
         "hoverinfo": "label+percent parent",
         "hovertemplate": "<b>%{label}</b><br>%{percentParent: .0%} of %{parent}<extra></extra>",
         "insidetextorientation": "horizontal",
         "labels": [
          "Violence against the<br>person",
          "Theft offences",
          "Summary non-motoring",
          "Summary motoring",
          "Sexual offences",
          "Robbery",
          "Public order<br>offences",
          "Possession of<br>weapons",
          "Miscellaneous crimes<br>against society",
          "Fraud offences",
          "Drug offences",
          "Criminal damage and<br>arson",
          "All other<br>offences"
         ],
         "parents": [
          "All offences",
          "All offences",
          "All other<br>offences",
          "All other<br>offences",
          "All other<br>offences",
          "All other<br>offences",
          "All other<br>offences",
          "All other<br>offences",
          "All other<br>offences",
          "All other<br>offences",
          "All offences",
          "All other<br>offences",
          "All offences"
         ],
         "rotation": 90,
         "sort": false,
         "texttemplate": "%{label}<br>%{percentRoot: .0%}",
         "type": "sunburst",
         "values": [
          0.195,
          0.315,
          0.096,
          0.012,
          0,
          0.012,
          0.104,
          0.052,
          0.104,
          0.036,
          0.056,
          0.02,
          0.43599999999999994
         ]
        }
       ],
       "layout": {
        "annotations": [
         {
          "align": "left",
          "font": {
           "size": 12
          },
          "showarrow": false,
          "text": "Source: Ministry of Justice, Criminal justice statistics",
          "x": -0.08,
          "xref": "paper",
          "y": -0.19,
          "yref": "paper"
         }
        ],
        "height": 600,
        "margin": {
         "b": 20,
         "l": 0,
         "r": 0,
         "t": 75
        },
        "template": {
         "layout": {
          "colorway": [
           "#A01D28",
           "#499CC9",
           "#F9A237",
           "#6FBA3A",
           "#573D6B"
          ],
          "font": {
           "color": "#54565B",
           "family": "Helvetica Neue, Arial",
           "size": 12
          },
          "modebar": {
           "activecolor": "#A01D28"
          },
          "paper_bgcolor": "#F7F2F2",
          "plot_bgcolor": "#F7F2F2",
          "showlegend": false,
          "title": {
           "font": {
            "family": "Helvetica Neue, Arial",
            "size": 17
           },
           "y": 0.94,
           "yanchor": "bottom"
          },
          "xaxis": {
           "showgrid": false,
           "tickcolor": "#54565B"
          }
         }
        },
        "title": {
         "text": "<b>Imprisonment of women in West Yorkshire<br>by offence group in 2022</b>",
         "y": 0.94,
         "yanchor": "bottom"
        },
        "uniformtext": {
         "minsize": 7,
         "mode": "hide"
        },
        "width": 600,
        "xaxis": {
         "range": [
          -1,
          1
         ],
         "showticklabels": false
        },
        "yaxis": {
         "range": [
          -1,
          1
         ],
         "showticklabels": false
        }
       }
      }
     },
     "metadata": {},
     "output_type": "display_data"
    },
    {
     "data": {
      "application/vnd.plotly.v1+json": {
       "config": {
        "plotlyServerURL": "https://plot.ly"
       },
       "data": [
        {
         "branchvalues": "total",
         "hoverinfo": "label+percent parent",
         "hovertemplate": "<b>%{label}</b><br>%{percentParent: .0%} of %{parent}<extra></extra>",
         "insidetextorientation": "horizontal",
         "labels": [
          "Violence against the<br>person",
          "Theft offences",
          "Summary non-motoring",
          "Summary motoring",
          "Sexual offences",
          "Robbery",
          "Public order<br>offences",
          "Possession of<br>weapons",
          "Miscellaneous crimes<br>against society",
          "Fraud offences",
          "Drug offences",
          "Criminal damage and<br>arson",
          "All other<br>offences"
         ],
         "parents": [
          "All offences",
          "All offences",
          "All other<br>offences",
          "All other<br>offences",
          "All other<br>offences",
          "All other<br>offences",
          "All other<br>offences",
          "All other<br>offences",
          "All other<br>offences",
          "All other<br>offences",
          "All offences",
          "All other<br>offences",
          "All offences"
         ],
         "rotation": 90,
         "sort": false,
         "texttemplate": "%{label}<br>%{percentRoot: .0%}",
         "type": "sunburst",
         "values": [
          0.133,
          0.333,
          0.133,
          0.033,
          0.033,
          0,
          0.033,
          0.033,
          0.1,
          0,
          0.167,
          0,
          0.365
         ]
        }
       ],
       "layout": {
        "annotations": [
         {
          "align": "left",
          "font": {
           "size": 12
          },
          "showarrow": false,
          "text": "Source: Ministry of Justice, Criminal justice statistics",
          "x": -0.08,
          "xref": "paper",
          "y": -0.19,
          "yref": "paper"
         }
        ],
        "height": 600,
        "margin": {
         "b": 20,
         "l": 0,
         "r": 0,
         "t": 75
        },
        "template": {
         "layout": {
          "colorway": [
           "#A01D28",
           "#499CC9",
           "#F9A237",
           "#6FBA3A",
           "#573D6B"
          ],
          "font": {
           "color": "#54565B",
           "family": "Helvetica Neue, Arial",
           "size": 12
          },
          "modebar": {
           "activecolor": "#A01D28"
          },
          "paper_bgcolor": "#F7F2F2",
          "plot_bgcolor": "#F7F2F2",
          "showlegend": false,
          "title": {
           "font": {
            "family": "Helvetica Neue, Arial",
            "size": 17
           },
           "y": 0.94,
           "yanchor": "bottom"
          },
          "xaxis": {
           "showgrid": false,
           "tickcolor": "#54565B"
          }
         }
        },
        "title": {
         "text": "<b>Imprisonment of women in Wiltshire<br>by offence group in 2022</b>",
         "y": 0.94,
         "yanchor": "bottom"
        },
        "uniformtext": {
         "minsize": 7,
         "mode": "hide"
        },
        "width": 600,
        "xaxis": {
         "range": [
          -1,
          1
         ],
         "showticklabels": false
        },
        "yaxis": {
         "range": [
          -1,
          1
         ],
         "showticklabels": false
        }
       }
      }
     },
     "metadata": {},
     "output_type": "display_data"
    }
   ],
   "source": [
    "for pfa in df2['pfa'].unique():\n",
    "    pfa_df = df2[df2[\"pfa\"] == pfa]\n",
    "    \n",
    "    #Creating an 'All other offences' parent value to contain offences listed in highlighted_offence_groups\n",
    "    pfa_df = pd.concat([pfa_df, \n",
    "                    pd.DataFrame.from_records([{'pfa': pfa_df['pfa'].iloc[0],\n",
    "                                                'offence':\"All other<br>offences\", \n",
    "                                                'proportion': pfa_df.loc[~filt, 'proportion'].sum(), \n",
    "                                                'parent':\"All offences\"}])\n",
    "                                                ],\n",
    "                                                ignore_index=True\n",
    "                    ).sort_values(by=['offence'], ascending=False)\n",
    "    \n",
    "    ## Chart title\n",
    "    title = textwrap.wrap(f'<b>Imprisonment of women in {pfa_df[\"pfa\"].iloc[0]}<br>by offence group in 2022</b>', width=100)\n",
    "\n",
    "    fig = go.Figure()    \n",
    "\n",
    "    fig.add_trace(go.Sunburst(\n",
    "        labels=pfa_df['offence'],\n",
    "        parents=pfa_df['parent'],\n",
    "        values=pfa_df['proportion'],\n",
    "        sort=False,\n",
    "        branchvalues='total',\n",
    "        texttemplate=\"%{label}<br>%{percentRoot: .0%}\",\n",
    "        hovertemplate=\"<b>%{label}</b><br>%{percentParent: .0%} of %{parent}<extra></extra>\",\n",
    "        hoverinfo='label+percent parent',\n",
    "        insidetextorientation='horizontal',\n",
    "        rotation=90,\n",
    "    )\n",
    "        )\n",
    "    \n",
    "    fig.update_layout(\n",
    "    # margin = dict(t=80, l=0, r=0, b=50),\n",
    "    title=\"<br>\".join(title),\n",
    "    title_y=0.94,\n",
    "    title_yanchor=\"bottom\",\n",
    "    uniformtext_minsize=7,\n",
    "    uniformtext_mode='hide',\n",
    "    xaxis=dict(\n",
    "        range=[-1, 1], \n",
    "        showticklabels=False\n",
    "    ),\n",
    "    yaxis=dict(\n",
    "        range=[-1, 1],\n",
    "        showticklabels=False\n",
    "    ),\n",
    "    width=600,\n",
    "    height=600,\n",
    "    margin=dict(t=75, b=20, r=0, l=0)\n",
    "    )\n",
    "\n",
    "    ## Chart annotations\n",
    "    annotations = []\n",
    "    # Adding source label\n",
    "    source = prt_theme.sourceAnnotation(\"Ministry of Justice, Criminal justice statistics\", annotations)\n",
    "\n",
    "    # Adding annotations to layout\n",
    "    fig.update_layout(annotations=annotations)\n",
    "\n",
    "    fig.show()\n",
    "\n",
    "    # export_path = Path.joinpath(Path.cwd(), f\"{config['data']['outPath']}\", \"custody_offences_2022\")\n",
    "    # export_path.mkdir(parents=True, exist_ok=True) #generate if does not exist\n",
    "\n",
    "    # Setting filename variable and full path\n",
    "\n",
    "    # filename = str(pfa_df[\"pfa\"].iloc[0])\n",
    "    # export_eps_path = Path.joinpath(export_path, f'{filename}' + '.eps')\n",
    "\n",
    "    # fig.write_image(export_eps_path)"
   ]
  },
  {
   "cell_type": "code",
   "execution_count": null,
   "metadata": {},
   "outputs": [],
   "source": [
    "fig.data[0].values == 0."
   ]
  },
  {
   "cell_type": "markdown",
   "metadata": {},
   "source": [
    "Now with two charts"
   ]
  },
  {
   "cell_type": "code",
   "execution_count": null,
   "metadata": {},
   "outputs": [],
   "source": [
    "pfa_df"
   ]
  },
  {
   "cell_type": "code",
   "execution_count": 32,
   "metadata": {},
   "outputs": [
    {
     "data": {
      "text/plain": [
       "('#A01D28', '#499CC9', '#F9A237', '#6FBA3A', '#573D6B')"
      ]
     },
     "execution_count": 32,
     "metadata": {},
     "output_type": "execute_result"
    }
   ],
   "source": [
    "prt_theme.pio.templates[\"prt_template\"].layout.colorway"
   ]
  },
  {
   "cell_type": "code",
   "execution_count": 33,
   "metadata": {},
   "outputs": [
    {
     "data": {
      "text/html": [
       "<div>\n",
       "<style scoped>\n",
       "    .dataframe tbody tr th:only-of-type {\n",
       "        vertical-align: middle;\n",
       "    }\n",
       "\n",
       "    .dataframe tbody tr th {\n",
       "        vertical-align: top;\n",
       "    }\n",
       "\n",
       "    .dataframe thead th {\n",
       "        text-align: right;\n",
       "    }\n",
       "</style>\n",
       "<table border=\"1\" class=\"dataframe\">\n",
       "  <thead>\n",
       "    <tr style=\"text-align: right;\">\n",
       "      <th></th>\n",
       "      <th>pfa</th>\n",
       "      <th>offence</th>\n",
       "      <th>proportion</th>\n",
       "      <th>parent</th>\n",
       "    </tr>\n",
       "  </thead>\n",
       "  <tbody>\n",
       "    <tr>\n",
       "      <th>11</th>\n",
       "      <td>Kent</td>\n",
       "      <td>Violence against the&lt;br&gt;person</td>\n",
       "      <td>0.224</td>\n",
       "      <td>All offences</td>\n",
       "    </tr>\n",
       "    <tr>\n",
       "      <th>10</th>\n",
       "      <td>Kent</td>\n",
       "      <td>Theft offences</td>\n",
       "      <td>0.385</td>\n",
       "      <td>All offences</td>\n",
       "    </tr>\n",
       "    <tr>\n",
       "      <th>9</th>\n",
       "      <td>Kent</td>\n",
       "      <td>Summary non-motoring</td>\n",
       "      <td>0.077</td>\n",
       "      <td>All other&lt;br&gt;offences</td>\n",
       "    </tr>\n",
       "    <tr>\n",
       "      <th>8</th>\n",
       "      <td>Kent</td>\n",
       "      <td>Summary motoring</td>\n",
       "      <td>0.014</td>\n",
       "      <td>All other&lt;br&gt;offences</td>\n",
       "    </tr>\n",
       "    <tr>\n",
       "      <th>7</th>\n",
       "      <td>Kent</td>\n",
       "      <td>Sexual offences</td>\n",
       "      <td>0.007</td>\n",
       "      <td>All other&lt;br&gt;offences</td>\n",
       "    </tr>\n",
       "    <tr>\n",
       "      <th>6</th>\n",
       "      <td>Kent</td>\n",
       "      <td>Robbery</td>\n",
       "      <td>0.021</td>\n",
       "      <td>All other&lt;br&gt;offences</td>\n",
       "    </tr>\n",
       "    <tr>\n",
       "      <th>5</th>\n",
       "      <td>Kent</td>\n",
       "      <td>Public order&lt;br&gt;offences</td>\n",
       "      <td>0.042</td>\n",
       "      <td>All other&lt;br&gt;offences</td>\n",
       "    </tr>\n",
       "    <tr>\n",
       "      <th>4</th>\n",
       "      <td>Kent</td>\n",
       "      <td>Possession of&lt;br&gt;weapons</td>\n",
       "      <td>0.007</td>\n",
       "      <td>All other&lt;br&gt;offences</td>\n",
       "    </tr>\n",
       "    <tr>\n",
       "      <th>3</th>\n",
       "      <td>Kent</td>\n",
       "      <td>Miscellaneous crimes&lt;br&gt;against society</td>\n",
       "      <td>0.091</td>\n",
       "      <td>All other&lt;br&gt;offences</td>\n",
       "    </tr>\n",
       "    <tr>\n",
       "      <th>2</th>\n",
       "      <td>Kent</td>\n",
       "      <td>Fraud offences</td>\n",
       "      <td>0.056</td>\n",
       "      <td>All other&lt;br&gt;offences</td>\n",
       "    </tr>\n",
       "    <tr>\n",
       "      <th>1</th>\n",
       "      <td>Kent</td>\n",
       "      <td>Drug offences</td>\n",
       "      <td>0.063</td>\n",
       "      <td>All offences</td>\n",
       "    </tr>\n",
       "    <tr>\n",
       "      <th>0</th>\n",
       "      <td>Kent</td>\n",
       "      <td>Criminal damage and&lt;br&gt;arson</td>\n",
       "      <td>0.014</td>\n",
       "      <td>All other&lt;br&gt;offences</td>\n",
       "    </tr>\n",
       "    <tr>\n",
       "      <th>12</th>\n",
       "      <td>Kent</td>\n",
       "      <td>All other&lt;br&gt;offences</td>\n",
       "      <td>0.329</td>\n",
       "      <td>All offences</td>\n",
       "    </tr>\n",
       "  </tbody>\n",
       "</table>\n",
       "</div>"
      ],
      "text/plain": [
       "     pfa                                  offence  proportion   \n",
       "11  Kent           Violence against the<br>person       0.224  \\\n",
       "10  Kent                           Theft offences       0.385   \n",
       "9   Kent                     Summary non-motoring       0.077   \n",
       "8   Kent                         Summary motoring       0.014   \n",
       "7   Kent                          Sexual offences       0.007   \n",
       "6   Kent                                  Robbery       0.021   \n",
       "5   Kent                 Public order<br>offences       0.042   \n",
       "4   Kent                 Possession of<br>weapons       0.007   \n",
       "3   Kent  Miscellaneous crimes<br>against society       0.091   \n",
       "2   Kent                           Fraud offences       0.056   \n",
       "1   Kent                            Drug offences       0.063   \n",
       "0   Kent             Criminal damage and<br>arson       0.014   \n",
       "12  Kent                    All other<br>offences       0.329   \n",
       "\n",
       "                   parent  \n",
       "11           All offences  \n",
       "10           All offences  \n",
       "9   All other<br>offences  \n",
       "8   All other<br>offences  \n",
       "7   All other<br>offences  \n",
       "6   All other<br>offences  \n",
       "5   All other<br>offences  \n",
       "4   All other<br>offences  \n",
       "3   All other<br>offences  \n",
       "2   All other<br>offences  \n",
       "1            All offences  \n",
       "0   All other<br>offences  \n",
       "12           All offences  "
      ]
     },
     "execution_count": 33,
     "metadata": {},
     "output_type": "execute_result"
    }
   ],
   "source": [
    "pfa_df"
   ]
  },
  {
   "cell_type": "code",
   "execution_count": 164,
   "metadata": {},
   "outputs": [
    {
     "data": {
      "text/html": [
       "<div>\n",
       "<style scoped>\n",
       "    .dataframe tbody tr th:only-of-type {\n",
       "        vertical-align: middle;\n",
       "    }\n",
       "\n",
       "    .dataframe tbody tr th {\n",
       "        vertical-align: top;\n",
       "    }\n",
       "\n",
       "    .dataframe thead th {\n",
       "        text-align: right;\n",
       "    }\n",
       "</style>\n",
       "<table border=\"1\" class=\"dataframe\">\n",
       "  <thead>\n",
       "    <tr style=\"text-align: right;\">\n",
       "      <th></th>\n",
       "      <th>pfa</th>\n",
       "      <th>offence</th>\n",
       "      <th>proportion</th>\n",
       "      <th>parent</th>\n",
       "      <th>plot_order</th>\n",
       "    </tr>\n",
       "  </thead>\n",
       "  <tbody>\n",
       "    <tr>\n",
       "      <th>18</th>\n",
       "      <td>Kent</td>\n",
       "      <td>Criminal damage and&lt;br&gt;arson</td>\n",
       "      <td>0.014</td>\n",
       "      <td>All other&lt;br&gt;offences</td>\n",
       "      <td>0.0</td>\n",
       "    </tr>\n",
       "    <tr>\n",
       "      <th>60</th>\n",
       "      <td>Kent</td>\n",
       "      <td>Drug offences</td>\n",
       "      <td>0.063</td>\n",
       "      <td>All offences</td>\n",
       "      <td>2.0</td>\n",
       "    </tr>\n",
       "    <tr>\n",
       "      <th>102</th>\n",
       "      <td>Kent</td>\n",
       "      <td>Fraud offences</td>\n",
       "      <td>0.056</td>\n",
       "      <td>All other&lt;br&gt;offences</td>\n",
       "      <td>0.0</td>\n",
       "    </tr>\n",
       "    <tr>\n",
       "      <th>144</th>\n",
       "      <td>Kent</td>\n",
       "      <td>Miscellaneous&lt;br&gt;crimes against&lt;br&gt;society</td>\n",
       "      <td>0.091</td>\n",
       "      <td>All other&lt;br&gt;offences</td>\n",
       "      <td>0.0</td>\n",
       "    </tr>\n",
       "    <tr>\n",
       "      <th>186</th>\n",
       "      <td>Kent</td>\n",
       "      <td>Possession of&lt;br&gt;weapons</td>\n",
       "      <td>0.007</td>\n",
       "      <td>All other&lt;br&gt;offences</td>\n",
       "      <td>0.0</td>\n",
       "    </tr>\n",
       "    <tr>\n",
       "      <th>228</th>\n",
       "      <td>Kent</td>\n",
       "      <td>Public order&lt;br&gt;offences</td>\n",
       "      <td>0.042</td>\n",
       "      <td>All other&lt;br&gt;offences</td>\n",
       "      <td>0.0</td>\n",
       "    </tr>\n",
       "    <tr>\n",
       "      <th>270</th>\n",
       "      <td>Kent</td>\n",
       "      <td>Robbery</td>\n",
       "      <td>0.021</td>\n",
       "      <td>All other&lt;br&gt;offences</td>\n",
       "      <td>0.0</td>\n",
       "    </tr>\n",
       "    <tr>\n",
       "      <th>312</th>\n",
       "      <td>Kent</td>\n",
       "      <td>Sexual offences</td>\n",
       "      <td>0.007</td>\n",
       "      <td>All other&lt;br&gt;offences</td>\n",
       "      <td>0.0</td>\n",
       "    </tr>\n",
       "    <tr>\n",
       "      <th>354</th>\n",
       "      <td>Kent</td>\n",
       "      <td>Summary motoring</td>\n",
       "      <td>0.014</td>\n",
       "      <td>All other&lt;br&gt;offences</td>\n",
       "      <td>0.0</td>\n",
       "    </tr>\n",
       "    <tr>\n",
       "      <th>396</th>\n",
       "      <td>Kent</td>\n",
       "      <td>Summary non-&lt;br&gt;motoring</td>\n",
       "      <td>0.077</td>\n",
       "      <td>All other&lt;br&gt;offences</td>\n",
       "      <td>0.0</td>\n",
       "    </tr>\n",
       "    <tr>\n",
       "      <th>438</th>\n",
       "      <td>Kent</td>\n",
       "      <td>Theft offences</td>\n",
       "      <td>0.385</td>\n",
       "      <td>All offences</td>\n",
       "      <td>1.0</td>\n",
       "    </tr>\n",
       "    <tr>\n",
       "      <th>480</th>\n",
       "      <td>Kent</td>\n",
       "      <td>Violence against&lt;br&gt;the person</td>\n",
       "      <td>0.224</td>\n",
       "      <td>All offences</td>\n",
       "      <td>3.0</td>\n",
       "    </tr>\n",
       "  </tbody>\n",
       "</table>\n",
       "</div>"
      ],
      "text/plain": [
       "      pfa                                     offence  proportion   \n",
       "18   Kent                Criminal damage and<br>arson       0.014  \\\n",
       "60   Kent                               Drug offences       0.063   \n",
       "102  Kent                              Fraud offences       0.056   \n",
       "144  Kent  Miscellaneous<br>crimes against<br>society       0.091   \n",
       "186  Kent                    Possession of<br>weapons       0.007   \n",
       "228  Kent                    Public order<br>offences       0.042   \n",
       "270  Kent                                     Robbery       0.021   \n",
       "312  Kent                             Sexual offences       0.007   \n",
       "354  Kent                            Summary motoring       0.014   \n",
       "396  Kent                    Summary non-<br>motoring       0.077   \n",
       "438  Kent                              Theft offences       0.385   \n",
       "480  Kent              Violence against<br>the person       0.224   \n",
       "\n",
       "                    parent  plot_order  \n",
       "18   All other<br>offences         0.0  \n",
       "60            All offences         2.0  \n",
       "102  All other<br>offences         0.0  \n",
       "144  All other<br>offences         0.0  \n",
       "186  All other<br>offences         0.0  \n",
       "228  All other<br>offences         0.0  \n",
       "270  All other<br>offences         0.0  \n",
       "312  All other<br>offences         0.0  \n",
       "354  All other<br>offences         0.0  \n",
       "396  All other<br>offences         0.0  \n",
       "438           All offences         1.0  \n",
       "480           All offences         3.0  "
      ]
     },
     "execution_count": 164,
     "metadata": {},
     "output_type": "execute_result"
    }
   ],
   "source": [
    "pfa_df = df2[df2[\"pfa\"] == \"Kent\"]\n",
    "pfa_df"
   ]
  },
  {
   "cell_type": "code",
   "execution_count": 165,
   "metadata": {},
   "outputs": [
    {
     "data": {
      "text/html": [
       "<div>\n",
       "<style scoped>\n",
       "    .dataframe tbody tr th:only-of-type {\n",
       "        vertical-align: middle;\n",
       "    }\n",
       "\n",
       "    .dataframe tbody tr th {\n",
       "        vertical-align: top;\n",
       "    }\n",
       "\n",
       "    .dataframe thead th {\n",
       "        text-align: right;\n",
       "    }\n",
       "</style>\n",
       "<table border=\"1\" class=\"dataframe\">\n",
       "  <thead>\n",
       "    <tr style=\"text-align: right;\">\n",
       "      <th></th>\n",
       "      <th>pfa</th>\n",
       "      <th>offence</th>\n",
       "      <th>proportion</th>\n",
       "      <th>parent</th>\n",
       "      <th>plot_order</th>\n",
       "    </tr>\n",
       "  </thead>\n",
       "  <tbody>\n",
       "    <tr>\n",
       "      <th>0</th>\n",
       "      <td>Kent</td>\n",
       "      <td>Criminal damage and&lt;br&gt;arson</td>\n",
       "      <td>0.014</td>\n",
       "      <td>All other&lt;br&gt;offences</td>\n",
       "      <td>0.0</td>\n",
       "    </tr>\n",
       "    <tr>\n",
       "      <th>2</th>\n",
       "      <td>Kent</td>\n",
       "      <td>Fraud offences</td>\n",
       "      <td>0.056</td>\n",
       "      <td>All other&lt;br&gt;offences</td>\n",
       "      <td>0.0</td>\n",
       "    </tr>\n",
       "    <tr>\n",
       "      <th>3</th>\n",
       "      <td>Kent</td>\n",
       "      <td>Miscellaneous&lt;br&gt;crimes against&lt;br&gt;society</td>\n",
       "      <td>0.091</td>\n",
       "      <td>All other&lt;br&gt;offences</td>\n",
       "      <td>0.0</td>\n",
       "    </tr>\n",
       "    <tr>\n",
       "      <th>4</th>\n",
       "      <td>Kent</td>\n",
       "      <td>Possession of&lt;br&gt;weapons</td>\n",
       "      <td>0.007</td>\n",
       "      <td>All other&lt;br&gt;offences</td>\n",
       "      <td>0.0</td>\n",
       "    </tr>\n",
       "    <tr>\n",
       "      <th>5</th>\n",
       "      <td>Kent</td>\n",
       "      <td>Public order&lt;br&gt;offences</td>\n",
       "      <td>0.042</td>\n",
       "      <td>All other&lt;br&gt;offences</td>\n",
       "      <td>0.0</td>\n",
       "    </tr>\n",
       "    <tr>\n",
       "      <th>6</th>\n",
       "      <td>Kent</td>\n",
       "      <td>Robbery</td>\n",
       "      <td>0.021</td>\n",
       "      <td>All other&lt;br&gt;offences</td>\n",
       "      <td>0.0</td>\n",
       "    </tr>\n",
       "    <tr>\n",
       "      <th>7</th>\n",
       "      <td>Kent</td>\n",
       "      <td>Sexual offences</td>\n",
       "      <td>0.007</td>\n",
       "      <td>All other&lt;br&gt;offences</td>\n",
       "      <td>0.0</td>\n",
       "    </tr>\n",
       "    <tr>\n",
       "      <th>8</th>\n",
       "      <td>Kent</td>\n",
       "      <td>Summary motoring</td>\n",
       "      <td>0.014</td>\n",
       "      <td>All other&lt;br&gt;offences</td>\n",
       "      <td>0.0</td>\n",
       "    </tr>\n",
       "    <tr>\n",
       "      <th>9</th>\n",
       "      <td>Kent</td>\n",
       "      <td>Summary non-&lt;br&gt;motoring</td>\n",
       "      <td>0.077</td>\n",
       "      <td>All other&lt;br&gt;offences</td>\n",
       "      <td>0.0</td>\n",
       "    </tr>\n",
       "    <tr>\n",
       "      <th>12</th>\n",
       "      <td>Kent</td>\n",
       "      <td>All other&lt;br&gt;offences</td>\n",
       "      <td>0.329</td>\n",
       "      <td>All offences</td>\n",
       "      <td>0.0</td>\n",
       "    </tr>\n",
       "    <tr>\n",
       "      <th>10</th>\n",
       "      <td>Kent</td>\n",
       "      <td>Theft offences</td>\n",
       "      <td>0.385</td>\n",
       "      <td>All offences</td>\n",
       "      <td>1.0</td>\n",
       "    </tr>\n",
       "    <tr>\n",
       "      <th>1</th>\n",
       "      <td>Kent</td>\n",
       "      <td>Drug offences</td>\n",
       "      <td>0.063</td>\n",
       "      <td>All offences</td>\n",
       "      <td>2.0</td>\n",
       "    </tr>\n",
       "    <tr>\n",
       "      <th>11</th>\n",
       "      <td>Kent</td>\n",
       "      <td>Violence against&lt;br&gt;the person</td>\n",
       "      <td>0.224</td>\n",
       "      <td>All offences</td>\n",
       "      <td>3.0</td>\n",
       "    </tr>\n",
       "  </tbody>\n",
       "</table>\n",
       "</div>"
      ],
      "text/plain": [
       "     pfa                                     offence  proportion   \n",
       "0   Kent                Criminal damage and<br>arson       0.014  \\\n",
       "2   Kent                              Fraud offences       0.056   \n",
       "3   Kent  Miscellaneous<br>crimes against<br>society       0.091   \n",
       "4   Kent                    Possession of<br>weapons       0.007   \n",
       "5   Kent                    Public order<br>offences       0.042   \n",
       "6   Kent                                     Robbery       0.021   \n",
       "7   Kent                             Sexual offences       0.007   \n",
       "8   Kent                            Summary motoring       0.014   \n",
       "9   Kent                    Summary non-<br>motoring       0.077   \n",
       "12  Kent                       All other<br>offences       0.329   \n",
       "10  Kent                              Theft offences       0.385   \n",
       "1   Kent                               Drug offences       0.063   \n",
       "11  Kent              Violence against<br>the person       0.224   \n",
       "\n",
       "                   parent  plot_order  \n",
       "0   All other<br>offences         0.0  \n",
       "2   All other<br>offences         0.0  \n",
       "3   All other<br>offences         0.0  \n",
       "4   All other<br>offences         0.0  \n",
       "5   All other<br>offences         0.0  \n",
       "6   All other<br>offences         0.0  \n",
       "7   All other<br>offences         0.0  \n",
       "8   All other<br>offences         0.0  \n",
       "9   All other<br>offences         0.0  \n",
       "12           All offences         0.0  \n",
       "10           All offences         1.0  \n",
       "1            All offences         2.0  \n",
       "11           All offences         3.0  "
      ]
     },
     "execution_count": 165,
     "metadata": {},
     "output_type": "execute_result"
    }
   ],
   "source": [
    "pfa_df = pd.concat([pfa_df, \n",
    "                pd.DataFrame.from_records([{'pfa': pfa_df['pfa'].iloc[0], \n",
    "                                            'offence':\"All other<br>offences\", \n",
    "                                            'proportion': pfa_df.loc[~filt, 'proportion'].sum(), \n",
    "                                            'parent':\"All offences\",\n",
    "                                            'plot_order': 0}])\n",
    "                                            ],\n",
    "                                            ignore_index=True\n",
    "                ).sort_values(by=['plot_order'], ascending=True)\n",
    "pfa_df"
   ]
  },
  {
   "cell_type": "code",
   "execution_count": null,
   "metadata": {},
   "outputs": [],
   "source": []
  },
  {
   "cell_type": "code",
   "execution_count": 9,
   "metadata": {},
   "outputs": [
    {
     "data": {
      "application/vnd.plotly.v1+json": {
       "config": {
        "plotlyServerURL": "https://plot.ly"
       },
       "data": [
        {
         "branchvalues": "total",
         "hoverinfo": "label+percent parent",
         "hovertemplate": "<b>%{label}</b><br>%{percentParent: .0%} of %{parent}<extra></extra>",
         "insidetextorientation": "radial",
         "labels": [
          "Possession of<br>weapons",
          "Sexual offences",
          "Criminal damage and<br>arson",
          "Summary motoring",
          "Robbery",
          "Public order<br>offences",
          "Fraud offences",
          "Summary non-<br>motoring",
          "Miscellaneous<br>crimes against<br>society",
          "All other<br>offences",
          "Theft offences",
          "Drug offences",
          "Violence against<br>the person"
         ],
         "parents": [
          "All other<br>offences",
          "All other<br>offences",
          "All other<br>offences",
          "All other<br>offences",
          "All other<br>offences",
          "All other<br>offences",
          "All other<br>offences",
          "All other<br>offences",
          "All other<br>offences",
          "All offences",
          "All offences",
          "All offences",
          "All offences"
         ],
         "rotation": -60,
         "sort": false,
         "texttemplate": "%{label} <b>%{percentRoot: .0%}</b>",
         "type": "sunburst",
         "values": [
          0.007,
          0.007,
          0.014,
          0.014,
          0.021,
          0.042,
          0.056,
          0.077,
          0.091,
          0.329,
          0.385,
          0.063,
          0.224
         ]
        }
       ],
       "layout": {
        "annotations": [
         {
          "align": "left",
          "font": {
           "size": 12
          },
          "showarrow": false,
          "text": "Source: Ministry of Justice, Criminal justice statistics",
          "x": -0.08,
          "xref": "paper",
          "y": -0.19,
          "yref": "paper"
         }
        ],
        "height": 800,
        "margin": {
         "b": 0,
         "l": 0,
         "r": 0,
         "t": 0
        },
        "template": {
         "layout": {
          "colorway": [
           "#A01D28",
           "#499CC9",
           "#F9A237",
           "#6FBA3A",
           "#573D6B"
          ],
          "font": {
           "color": "#54565B",
           "family": "Helvetica Neue, Arial",
           "size": 12
          },
          "modebar": {
           "activecolor": "#A01D28"
          },
          "paper_bgcolor": "#F7F2F2",
          "plot_bgcolor": "#F7F2F2",
          "showlegend": false,
          "title": {
           "font": {
            "family": "Helvetica Neue, Arial",
            "size": 17
           },
           "y": 0.94,
           "yanchor": "bottom"
          },
          "xaxis": {
           "showgrid": false,
           "tickcolor": "#54565B"
          }
         }
        },
        "title": {
         "text": "<b>Imprisonment of women in Kent by offence group in 2022</b>",
         "y": 0.94,
         "yanchor": "bottom"
        },
        "uniformtext": {
         "minsize": 8,
         "mode": "hide"
        },
        "width": 800
       }
      }
     },
     "metadata": {},
     "output_type": "display_data"
    }
   ],
   "source": [
    "pfa_df = df2[df2[\"pfa\"] == \"Kent\"]\n",
    "\n",
    "#Creating an 'All other offences' parent value to contain offences listed in highlighted_offence_groups\n",
    "pfa_df = pd.concat([pfa_df, \n",
    "                pd.DataFrame.from_records([{'pfa': pfa_df['pfa'].iloc[0], \n",
    "                                            'offence':\"All other<br>offences\", \n",
    "                                            'proportion': pfa_df.loc[~filt, 'proportion'].sum(), \n",
    "                                            'parent':\"All offences\",\n",
    "                                            'plot_order': 0}])\n",
    "                                            ],\n",
    "                                            ignore_index=True\n",
    "                ).sort_values(by=['plot_order', 'proportion'], ascending=True)\n",
    "    \n",
    "\n",
    "## Chart title\n",
    "title = textwrap.wrap(f'<b>Imprisonment of women in {pfa_df[\"pfa\"].iloc[0]} by offence group in 2022</b>', width=100)\n",
    "\n",
    "fig = go.Figure()\n",
    "\n",
    "fig.add_trace(go.Sunburst(\n",
    "    labels=pfa_df['offence'],\n",
    "    parents=pfa_df['parent'],\n",
    "    values=pfa_df['proportion'],\n",
    "    sort=False,\n",
    "    branchvalues='total',\n",
    "    texttemplate=\"%{label} <b>%{percentRoot: .0%}</b>\",\n",
    "    hovertemplate=\"<b>%{label}</b><br>%{percentParent: .0%} of %{parent}<extra></extra>\",\n",
    "    hoverinfo='label+percent parent',\n",
    "    insidetextorientation='radial',\n",
    "    rotation=300,\n",
    ")\n",
    "            )\n",
    "\n",
    "fig.update_layout(\n",
    "margin = dict(t=0, l=0, r=0, b=0),\n",
    "# margin = dict(t=75, l=20, r=20, b=50),\n",
    "title=\"<br>\".join(title),\n",
    "title_y=0.94,\n",
    "title_yanchor=\"bottom\",\n",
    "uniformtext_minsize=8,\n",
    "uniformtext_mode='hide',\n",
    "width=800,\n",
    "height=800,\n",
    ")\n",
    "\n",
    "## Chart annotations\n",
    "annotations = []\n",
    "# Adding source label\n",
    "source = prt_theme.sourceAnnotation(\"Ministry of Justice, Criminal justice statistics\", annotations)\n",
    "\n",
    "# Adding annotations to layout\n",
    "fig.update_layout(annotations=annotations)\n",
    "\n",
    "fig.show()\n",
    "\n",
    "# export_path = Path.joinpath(Path.cwd(), f\"{config['data']['outPath']}\", \"custody_offences_2022\")\n",
    "# export_path.mkdir(parents=True, exist_ok=True) #generate if does not exist\n",
    "\n",
    "# Setting filename variable and full path\n",
    "\n",
    "# filename = str(pfa_df[\"pfa\"].iloc[0]) \n",
    "# export_eps_path = Path.joinpath(export_path, f'{filename}' + '.eps')\n",
    "\n",
    "# fig.write_image(export_eps_path)"
   ]
  },
  {
   "cell_type": "code",
   "execution_count": null,
   "metadata": {},
   "outputs": [],
   "source": []
  },
  {
   "cell_type": "code",
   "execution_count": 176,
   "metadata": {},
   "outputs": [
    {
     "data": {
      "application/vnd.plotly.v1+json": {
       "config": {
        "plotlyServerURL": "https://plot.ly"
       },
       "data": [
        {
         "branchvalues": "total",
         "hoverinfo": "label+percent parent",
         "hovertemplate": "<b>%{label}</b><br>%{percentParent: .0%} of %{parent}<extra></extra>",
         "insidetextorientation": "radial",
         "labels": [
          "Possession of<br>weapons",
          "Robbery",
          "Sexual offences",
          "Criminal damage and<br>arson",
          "Fraud offences",
          "Summary motoring",
          "Miscellaneous<br>crimes against<br>society",
          "Public order<br>offences",
          "Summary non-<br>motoring",
          "All other<br>offences",
          "Theft offences",
          "Drug offences",
          "Violence against<br>the person"
         ],
         "parents": [
          "All other<br>offences",
          "All other<br>offences",
          "All other<br>offences",
          "All other<br>offences",
          "All other<br>offences",
          "All other<br>offences",
          "All other<br>offences",
          "All other<br>offences",
          "All other<br>offences",
          "All offences",
          "All offences",
          "All offences",
          "All offences"
         ],
         "rotation": -60,
         "sort": false,
         "texttemplate": "%{label} <b>%{percentRoot: .0%}</b>",
         "type": "sunburst",
         "values": [
          0.009,
          0.009,
          0.009,
          0.017,
          0.017,
          0.017,
          0.026,
          0.069,
          0.155,
          0.328,
          0.224,
          0.103,
          0.345
         ]
        }
       ],
       "layout": {
        "annotations": [
         {
          "align": "left",
          "font": {
           "size": 12
          },
          "showarrow": false,
          "text": "Source: Ministry of Justice, Criminal justice statistics",
          "x": -0.08,
          "xref": "paper",
          "y": -0.19,
          "yref": "paper"
         }
        ],
        "height": 800,
        "margin": {
         "b": 0,
         "l": 0,
         "r": 0,
         "t": 75
        },
        "template": {
         "layout": {
          "colorway": [
           "#A01D28",
           "#499CC9",
           "#F9A237",
           "#6FBA3A",
           "#573D6B"
          ],
          "font": {
           "color": "#54565B",
           "family": "Helvetica Neue, Arial",
           "size": 12
          },
          "modebar": {
           "activecolor": "#A01D28"
          },
          "paper_bgcolor": "#F7F2F2",
          "plot_bgcolor": "#F7F2F2",
          "showlegend": false,
          "title": {
           "font": {
            "family": "Helvetica Neue, Arial",
            "size": 17
           },
           "y": 0.94,
           "yanchor": "bottom"
          },
          "xaxis": {
           "showgrid": false,
           "tickcolor": "#54565B"
          }
         }
        },
        "title": {
         "text": "<b>Imprisonment of women in Avon and Somerset by offence group in 2022</b>",
         "y": 0.94,
         "yanchor": "bottom"
        },
        "uniformtext": {
         "minsize": 8,
         "mode": "hide"
        },
        "width": 800
       }
      }
     },
     "metadata": {},
     "output_type": "display_data"
    },
    {
     "data": {
      "application/vnd.plotly.v1+json": {
       "config": {
        "plotlyServerURL": "https://plot.ly"
       },
       "data": [
        {
         "branchvalues": "total",
         "hoverinfo": "label+percent parent",
         "hovertemplate": "<b>%{label}</b><br>%{percentParent: .0%} of %{parent}<extra></extra>",
         "insidetextorientation": "radial",
         "labels": [
          "Criminal damage and<br>arson",
          "Fraud offences",
          "Summary motoring",
          "Robbery",
          "Sexual offences",
          "Miscellaneous<br>crimes against<br>society",
          "Public order<br>offences",
          "Summary non-<br>motoring",
          "Possession of<br>weapons",
          "All other<br>offences",
          "Theft offences",
          "Drug offences",
          "Violence against<br>the person"
         ],
         "parents": [
          "All other<br>offences",
          "All other<br>offences",
          "All other<br>offences",
          "All other<br>offences",
          "All other<br>offences",
          "All other<br>offences",
          "All other<br>offences",
          "All other<br>offences",
          "All other<br>offences",
          "All offences",
          "All offences",
          "All offences",
          "All offences"
         ],
         "rotation": -60,
         "sort": false,
         "texttemplate": "%{label} <b>%{percentRoot: .0%}</b>",
         "type": "sunburst",
         "values": [
          0,
          0,
          0,
          0.026,
          0.026,
          0.053,
          0.053,
          0.079,
          0.132,
          0.369,
          0.316,
          0.079,
          0.237
         ]
        }
       ],
       "layout": {
        "annotations": [
         {
          "align": "left",
          "font": {
           "size": 12
          },
          "showarrow": false,
          "text": "Source: Ministry of Justice, Criminal justice statistics",
          "x": -0.08,
          "xref": "paper",
          "y": -0.19,
          "yref": "paper"
         }
        ],
        "height": 800,
        "margin": {
         "b": 0,
         "l": 0,
         "r": 0,
         "t": 75
        },
        "template": {
         "layout": {
          "colorway": [
           "#A01D28",
           "#499CC9",
           "#F9A237",
           "#6FBA3A",
           "#573D6B"
          ],
          "font": {
           "color": "#54565B",
           "family": "Helvetica Neue, Arial",
           "size": 12
          },
          "modebar": {
           "activecolor": "#A01D28"
          },
          "paper_bgcolor": "#F7F2F2",
          "plot_bgcolor": "#F7F2F2",
          "showlegend": false,
          "title": {
           "font": {
            "family": "Helvetica Neue, Arial",
            "size": 17
           },
           "y": 0.94,
           "yanchor": "bottom"
          },
          "xaxis": {
           "showgrid": false,
           "tickcolor": "#54565B"
          }
         }
        },
        "title": {
         "text": "<b>Imprisonment of women in Bedfordshire by offence group in 2022</b>",
         "y": 0.94,
         "yanchor": "bottom"
        },
        "uniformtext": {
         "minsize": 8,
         "mode": "hide"
        },
        "width": 800
       }
      }
     },
     "metadata": {},
     "output_type": "display_data"
    },
    {
     "data": {
      "application/vnd.plotly.v1+json": {
       "config": {
        "plotlyServerURL": "https://plot.ly"
       },
       "data": [
        {
         "branchvalues": "total",
         "hoverinfo": "label+percent parent",
         "hovertemplate": "<b>%{label}</b><br>%{percentParent: .0%} of %{parent}<extra></extra>",
         "insidetextorientation": "radial",
         "labels": [
          "Criminal damage and<br>arson",
          "Sexual offences",
          "Summary motoring",
          "Miscellaneous<br>crimes against<br>society",
          "Robbery",
          "Fraud offences",
          "Possession of<br>weapons",
          "Public order<br>offences",
          "Summary non-<br>motoring",
          "All other<br>offences",
          "Theft offences",
          "Drug offences",
          "Violence against<br>the person"
         ],
         "parents": [
          "All other<br>offences",
          "All other<br>offences",
          "All other<br>offences",
          "All other<br>offences",
          "All other<br>offences",
          "All other<br>offences",
          "All other<br>offences",
          "All other<br>offences",
          "All other<br>offences",
          "All offences",
          "All offences",
          "All offences",
          "All offences"
         ],
         "rotation": -60,
         "sort": false,
         "texttemplate": "%{label} <b>%{percentRoot: .0%}</b>",
         "type": "sunburst",
         "values": [
          0,
          0,
          0,
          0.015,
          0.015,
          0.044,
          0.059,
          0.074,
          0.162,
          0.369,
          0.324,
          0.118,
          0.191
         ]
        }
       ],
       "layout": {
        "annotations": [
         {
          "align": "left",
          "font": {
           "size": 12
          },
          "showarrow": false,
          "text": "Source: Ministry of Justice, Criminal justice statistics",
          "x": -0.08,
          "xref": "paper",
          "y": -0.19,
          "yref": "paper"
         }
        ],
        "height": 800,
        "margin": {
         "b": 0,
         "l": 0,
         "r": 0,
         "t": 75
        },
        "template": {
         "layout": {
          "colorway": [
           "#A01D28",
           "#499CC9",
           "#F9A237",
           "#6FBA3A",
           "#573D6B"
          ],
          "font": {
           "color": "#54565B",
           "family": "Helvetica Neue, Arial",
           "size": 12
          },
          "modebar": {
           "activecolor": "#A01D28"
          },
          "paper_bgcolor": "#F7F2F2",
          "plot_bgcolor": "#F7F2F2",
          "showlegend": false,
          "title": {
           "font": {
            "family": "Helvetica Neue, Arial",
            "size": 17
           },
           "y": 0.94,
           "yanchor": "bottom"
          },
          "xaxis": {
           "showgrid": false,
           "tickcolor": "#54565B"
          }
         }
        },
        "title": {
         "text": "<b>Imprisonment of women in Cambridgeshire by offence group in 2022</b>",
         "y": 0.94,
         "yanchor": "bottom"
        },
        "uniformtext": {
         "minsize": 8,
         "mode": "hide"
        },
        "width": 800
       }
      }
     },
     "metadata": {},
     "output_type": "display_data"
    },
    {
     "data": {
      "application/vnd.plotly.v1+json": {
       "config": {
        "plotlyServerURL": "https://plot.ly"
       },
       "data": [
        {
         "branchvalues": "total",
         "hoverinfo": "label+percent parent",
         "hovertemplate": "<b>%{label}</b><br>%{percentParent: .0%} of %{parent}<extra></extra>",
         "insidetextorientation": "radial",
         "labels": [
          "Sexual offences",
          "Criminal damage and<br>arson",
          "Miscellaneous<br>crimes against<br>society",
          "Summary motoring",
          "Robbery",
          "Possession of<br>weapons",
          "Public order<br>offences",
          "Summary non-<br>motoring",
          "Fraud offences",
          "All other<br>offences",
          "Theft offences",
          "Drug offences",
          "Violence against<br>the person"
         ],
         "parents": [
          "All other<br>offences",
          "All other<br>offences",
          "All other<br>offences",
          "All other<br>offences",
          "All other<br>offences",
          "All other<br>offences",
          "All other<br>offences",
          "All other<br>offences",
          "All other<br>offences",
          "All offences",
          "All offences",
          "All offences",
          "All offences"
         ],
         "rotation": -60,
         "sort": false,
         "texttemplate": "%{label} <b>%{percentRoot: .0%}</b>",
         "type": "sunburst",
         "values": [
          0,
          0.014,
          0.014,
          0.014,
          0.027,
          0.041,
          0.054,
          0.095,
          0.108,
          0.367,
          0.297,
          0.122,
          0.216
         ]
        }
       ],
       "layout": {
        "annotations": [
         {
          "align": "left",
          "font": {
           "size": 12
          },
          "showarrow": false,
          "text": "Source: Ministry of Justice, Criminal justice statistics",
          "x": -0.08,
          "xref": "paper",
          "y": -0.19,
          "yref": "paper"
         }
        ],
        "height": 800,
        "margin": {
         "b": 0,
         "l": 0,
         "r": 0,
         "t": 75
        },
        "template": {
         "layout": {
          "colorway": [
           "#A01D28",
           "#499CC9",
           "#F9A237",
           "#6FBA3A",
           "#573D6B"
          ],
          "font": {
           "color": "#54565B",
           "family": "Helvetica Neue, Arial",
           "size": 12
          },
          "modebar": {
           "activecolor": "#A01D28"
          },
          "paper_bgcolor": "#F7F2F2",
          "plot_bgcolor": "#F7F2F2",
          "showlegend": false,
          "title": {
           "font": {
            "family": "Helvetica Neue, Arial",
            "size": 17
           },
           "y": 0.94,
           "yanchor": "bottom"
          },
          "xaxis": {
           "showgrid": false,
           "tickcolor": "#54565B"
          }
         }
        },
        "title": {
         "text": "<b>Imprisonment of women in Cheshire by offence group in 2022</b>",
         "y": 0.94,
         "yanchor": "bottom"
        },
        "uniformtext": {
         "minsize": 8,
         "mode": "hide"
        },
        "width": 800
       }
      }
     },
     "metadata": {},
     "output_type": "display_data"
    },
    {
     "data": {
      "application/vnd.plotly.v1+json": {
       "config": {
        "plotlyServerURL": "https://plot.ly"
       },
       "data": [
        {
         "branchvalues": "total",
         "hoverinfo": "label+percent parent",
         "hovertemplate": "<b>%{label}</b><br>%{percentParent: .0%} of %{parent}<extra></extra>",
         "insidetextorientation": "radial",
         "labels": [
          "Criminal damage and<br>arson",
          "Public order<br>offences",
          "Sexual offences",
          "Fraud offences",
          "Summary motoring",
          "Robbery",
          "Miscellaneous<br>crimes against<br>society",
          "Possession of<br>weapons",
          "Summary non-<br>motoring",
          "All other<br>offences",
          "Theft offences",
          "Drug offences",
          "Violence against<br>the person"
         ],
         "parents": [
          "All other<br>offences",
          "All other<br>offences",
          "All other<br>offences",
          "All other<br>offences",
          "All other<br>offences",
          "All other<br>offences",
          "All other<br>offences",
          "All other<br>offences",
          "All other<br>offences",
          "All offences",
          "All offences",
          "All offences",
          "All offences"
         ],
         "rotation": -60,
         "sort": false,
         "texttemplate": "%{label} <b>%{percentRoot: .0%}</b>",
         "type": "sunburst",
         "values": [
          0.01,
          0.02,
          0.02,
          0.03,
          0.03,
          0.05,
          0.06,
          0.06,
          0.07,
          0.35000000000000003,
          0.41,
          0.08,
          0.16
         ]
        }
       ],
       "layout": {
        "annotations": [
         {
          "align": "left",
          "font": {
           "size": 12
          },
          "showarrow": false,
          "text": "Source: Ministry of Justice, Criminal justice statistics",
          "x": -0.08,
          "xref": "paper",
          "y": -0.19,
          "yref": "paper"
         }
        ],
        "height": 800,
        "margin": {
         "b": 0,
         "l": 0,
         "r": 0,
         "t": 75
        },
        "template": {
         "layout": {
          "colorway": [
           "#A01D28",
           "#499CC9",
           "#F9A237",
           "#6FBA3A",
           "#573D6B"
          ],
          "font": {
           "color": "#54565B",
           "family": "Helvetica Neue, Arial",
           "size": 12
          },
          "modebar": {
           "activecolor": "#A01D28"
          },
          "paper_bgcolor": "#F7F2F2",
          "plot_bgcolor": "#F7F2F2",
          "showlegend": false,
          "title": {
           "font": {
            "family": "Helvetica Neue, Arial",
            "size": 17
           },
           "y": 0.94,
           "yanchor": "bottom"
          },
          "xaxis": {
           "showgrid": false,
           "tickcolor": "#54565B"
          }
         }
        },
        "title": {
         "text": "<b>Imprisonment of women in Cleveland by offence group in 2022</b>",
         "y": 0.94,
         "yanchor": "bottom"
        },
        "uniformtext": {
         "minsize": 8,
         "mode": "hide"
        },
        "width": 800
       }
      }
     },
     "metadata": {},
     "output_type": "display_data"
    },
    {
     "data": {
      "application/vnd.plotly.v1+json": {
       "config": {
        "plotlyServerURL": "https://plot.ly"
       },
       "data": [
        {
         "branchvalues": "total",
         "hoverinfo": "label+percent parent",
         "hovertemplate": "<b>%{label}</b><br>%{percentParent: .0%} of %{parent}<extra></extra>",
         "insidetextorientation": "radial",
         "labels": [
          "Criminal damage and<br>arson",
          "Fraud offences",
          "Miscellaneous<br>crimes against<br>society",
          "Possession of<br>weapons",
          "Robbery",
          "Sexual offences",
          "Summary motoring",
          "Summary non-<br>motoring",
          "Public order<br>offences",
          "All other<br>offences",
          "Theft offences",
          "Drug offences",
          "Violence against<br>the person"
         ],
         "parents": [
          "All other<br>offences",
          "All other<br>offences",
          "All other<br>offences",
          "All other<br>offences",
          "All other<br>offences",
          "All other<br>offences",
          "All other<br>offences",
          "All other<br>offences",
          "All other<br>offences",
          "All offences",
          "All offences",
          "All offences",
          "All offences"
         ],
         "rotation": -60,
         "sort": false,
         "texttemplate": "%{label} <b>%{percentRoot: .0%}</b>",
         "type": "sunburst",
         "values": [
          0,
          0,
          0,
          0,
          0,
          0,
          0.034,
          0.069,
          0.172,
          0.275,
          0.345,
          0.069,
          0.31
         ]
        }
       ],
       "layout": {
        "annotations": [
         {
          "align": "left",
          "font": {
           "size": 12
          },
          "showarrow": false,
          "text": "Source: Ministry of Justice, Criminal justice statistics",
          "x": -0.08,
          "xref": "paper",
          "y": -0.19,
          "yref": "paper"
         }
        ],
        "height": 800,
        "margin": {
         "b": 0,
         "l": 0,
         "r": 0,
         "t": 75
        },
        "template": {
         "layout": {
          "colorway": [
           "#A01D28",
           "#499CC9",
           "#F9A237",
           "#6FBA3A",
           "#573D6B"
          ],
          "font": {
           "color": "#54565B",
           "family": "Helvetica Neue, Arial",
           "size": 12
          },
          "modebar": {
           "activecolor": "#A01D28"
          },
          "paper_bgcolor": "#F7F2F2",
          "plot_bgcolor": "#F7F2F2",
          "showlegend": false,
          "title": {
           "font": {
            "family": "Helvetica Neue, Arial",
            "size": 17
           },
           "y": 0.94,
           "yanchor": "bottom"
          },
          "xaxis": {
           "showgrid": false,
           "tickcolor": "#54565B"
          }
         }
        },
        "title": {
         "text": "<b>Imprisonment of women in Cumbria by offence group in 2022</b>",
         "y": 0.94,
         "yanchor": "bottom"
        },
        "uniformtext": {
         "minsize": 8,
         "mode": "hide"
        },
        "width": 800
       }
      }
     },
     "metadata": {},
     "output_type": "display_data"
    },
    {
     "data": {
      "application/vnd.plotly.v1+json": {
       "config": {
        "plotlyServerURL": "https://plot.ly"
       },
       "data": [
        {
         "branchvalues": "total",
         "hoverinfo": "label+percent parent",
         "hovertemplate": "<b>%{label}</b><br>%{percentParent: .0%} of %{parent}<extra></extra>",
         "insidetextorientation": "radial",
         "labels": [
          "Criminal damage and<br>arson",
          "Sexual offences",
          "Miscellaneous<br>crimes against<br>society",
          "Possession of<br>weapons",
          "Robbery",
          "Summary motoring",
          "Public order<br>offences",
          "Fraud offences",
          "Summary non-<br>motoring",
          "All other<br>offences",
          "Theft offences",
          "Drug offences",
          "Violence against<br>the person"
         ],
         "parents": [
          "All other<br>offences",
          "All other<br>offences",
          "All other<br>offences",
          "All other<br>offences",
          "All other<br>offences",
          "All other<br>offences",
          "All other<br>offences",
          "All other<br>offences",
          "All other<br>offences",
          "All offences",
          "All offences",
          "All offences",
          "All offences"
         ],
         "rotation": -60,
         "sort": false,
         "texttemplate": "%{label} <b>%{percentRoot: .0%}</b>",
         "type": "sunburst",
         "values": [
          0,
          0,
          0.025,
          0.025,
          0.025,
          0.033,
          0.041,
          0.057,
          0.082,
          0.28800000000000003,
          0.443,
          0.057,
          0.213
         ]
        }
       ],
       "layout": {
        "annotations": [
         {
          "align": "left",
          "font": {
           "size": 12
          },
          "showarrow": false,
          "text": "Source: Ministry of Justice, Criminal justice statistics",
          "x": -0.08,
          "xref": "paper",
          "y": -0.19,
          "yref": "paper"
         }
        ],
        "height": 800,
        "margin": {
         "b": 0,
         "l": 0,
         "r": 0,
         "t": 75
        },
        "template": {
         "layout": {
          "colorway": [
           "#A01D28",
           "#499CC9",
           "#F9A237",
           "#6FBA3A",
           "#573D6B"
          ],
          "font": {
           "color": "#54565B",
           "family": "Helvetica Neue, Arial",
           "size": 12
          },
          "modebar": {
           "activecolor": "#A01D28"
          },
          "paper_bgcolor": "#F7F2F2",
          "plot_bgcolor": "#F7F2F2",
          "showlegend": false,
          "title": {
           "font": {
            "family": "Helvetica Neue, Arial",
            "size": 17
           },
           "y": 0.94,
           "yanchor": "bottom"
          },
          "xaxis": {
           "showgrid": false,
           "tickcolor": "#54565B"
          }
         }
        },
        "title": {
         "text": "<b>Imprisonment of women in Derbyshire by offence group in 2022</b>",
         "y": 0.94,
         "yanchor": "bottom"
        },
        "uniformtext": {
         "minsize": 8,
         "mode": "hide"
        },
        "width": 800
       }
      }
     },
     "metadata": {},
     "output_type": "display_data"
    },
    {
     "data": {
      "application/vnd.plotly.v1+json": {
       "config": {
        "plotlyServerURL": "https://plot.ly"
       },
       "data": [
        {
         "branchvalues": "total",
         "hoverinfo": "label+percent parent",
         "hovertemplate": "<b>%{label}</b><br>%{percentParent: .0%} of %{parent}<extra></extra>",
         "insidetextorientation": "radial",
         "labels": [
          "Criminal damage and<br>arson",
          "Robbery",
          "Fraud offences",
          "Miscellaneous<br>crimes against<br>society",
          "Sexual offences",
          "Summary motoring",
          "Summary non-<br>motoring",
          "Possession of<br>weapons",
          "Public order<br>offences",
          "All other<br>offences",
          "Theft offences",
          "Drug offences",
          "Violence against<br>the person"
         ],
         "parents": [
          "All other<br>offences",
          "All other<br>offences",
          "All other<br>offences",
          "All other<br>offences",
          "All other<br>offences",
          "All other<br>offences",
          "All other<br>offences",
          "All other<br>offences",
          "All other<br>offences",
          "All offences",
          "All offences",
          "All offences",
          "All offences"
         ],
         "rotation": -60,
         "sort": false,
         "texttemplate": "%{label} <b>%{percentRoot: .0%}</b>",
         "type": "sunburst",
         "values": [
          0,
          0,
          0.032,
          0.032,
          0.048,
          0.063,
          0.095,
          0.111,
          0.159,
          0.54,
          0.222,
          0.032,
          0.206
         ]
        }
       ],
       "layout": {
        "annotations": [
         {
          "align": "left",
          "font": {
           "size": 12
          },
          "showarrow": false,
          "text": "Source: Ministry of Justice, Criminal justice statistics",
          "x": -0.08,
          "xref": "paper",
          "y": -0.19,
          "yref": "paper"
         }
        ],
        "height": 800,
        "margin": {
         "b": 0,
         "l": 0,
         "r": 0,
         "t": 75
        },
        "template": {
         "layout": {
          "colorway": [
           "#A01D28",
           "#499CC9",
           "#F9A237",
           "#6FBA3A",
           "#573D6B"
          ],
          "font": {
           "color": "#54565B",
           "family": "Helvetica Neue, Arial",
           "size": 12
          },
          "modebar": {
           "activecolor": "#A01D28"
          },
          "paper_bgcolor": "#F7F2F2",
          "plot_bgcolor": "#F7F2F2",
          "showlegend": false,
          "title": {
           "font": {
            "family": "Helvetica Neue, Arial",
            "size": 17
           },
           "y": 0.94,
           "yanchor": "bottom"
          },
          "xaxis": {
           "showgrid": false,
           "tickcolor": "#54565B"
          }
         }
        },
        "title": {
         "text": "<b>Imprisonment of women in Devon and Cornwall by offence group in 2022</b>",
         "y": 0.94,
         "yanchor": "bottom"
        },
        "uniformtext": {
         "minsize": 8,
         "mode": "hide"
        },
        "width": 800
       }
      }
     },
     "metadata": {},
     "output_type": "display_data"
    },
    {
     "data": {
      "application/vnd.plotly.v1+json": {
       "config": {
        "plotlyServerURL": "https://plot.ly"
       },
       "data": [
        {
         "branchvalues": "total",
         "hoverinfo": "label+percent parent",
         "hovertemplate": "<b>%{label}</b><br>%{percentParent: .0%} of %{parent}<extra></extra>",
         "insidetextorientation": "radial",
         "labels": [
          "Public order<br>offences",
          "Robbery",
          "Sexual offences",
          "Summary motoring",
          "Criminal damage and<br>arson",
          "Miscellaneous<br>crimes against<br>society",
          "Possession of<br>weapons",
          "Summary non-<br>motoring",
          "Fraud offences",
          "All other<br>offences",
          "Theft offences",
          "Drug offences",
          "Violence against<br>the person"
         ],
         "parents": [
          "All other<br>offences",
          "All other<br>offences",
          "All other<br>offences",
          "All other<br>offences",
          "All other<br>offences",
          "All other<br>offences",
          "All other<br>offences",
          "All other<br>offences",
          "All other<br>offences",
          "All offences",
          "All offences",
          "All offences",
          "All offences"
         ],
         "rotation": -60,
         "sort": false,
         "texttemplate": "%{label} <b>%{percentRoot: .0%}</b>",
         "type": "sunburst",
         "values": [
          0,
          0,
          0,
          0,
          0.043,
          0.043,
          0.043,
          0.087,
          0.13,
          0.346,
          0.174,
          0.174,
          0.304
         ]
        }
       ],
       "layout": {
        "annotations": [
         {
          "align": "left",
          "font": {
           "size": 12
          },
          "showarrow": false,
          "text": "Source: Ministry of Justice, Criminal justice statistics",
          "x": -0.08,
          "xref": "paper",
          "y": -0.19,
          "yref": "paper"
         }
        ],
        "height": 800,
        "margin": {
         "b": 0,
         "l": 0,
         "r": 0,
         "t": 75
        },
        "template": {
         "layout": {
          "colorway": [
           "#A01D28",
           "#499CC9",
           "#F9A237",
           "#6FBA3A",
           "#573D6B"
          ],
          "font": {
           "color": "#54565B",
           "family": "Helvetica Neue, Arial",
           "size": 12
          },
          "modebar": {
           "activecolor": "#A01D28"
          },
          "paper_bgcolor": "#F7F2F2",
          "plot_bgcolor": "#F7F2F2",
          "showlegend": false,
          "title": {
           "font": {
            "family": "Helvetica Neue, Arial",
            "size": 17
           },
           "y": 0.94,
           "yanchor": "bottom"
          },
          "xaxis": {
           "showgrid": false,
           "tickcolor": "#54565B"
          }
         }
        },
        "title": {
         "text": "<b>Imprisonment of women in Dorset by offence group in 2022</b>",
         "y": 0.94,
         "yanchor": "bottom"
        },
        "uniformtext": {
         "minsize": 8,
         "mode": "hide"
        },
        "width": 800
       }
      }
     },
     "metadata": {},
     "output_type": "display_data"
    },
    {
     "data": {
      "application/vnd.plotly.v1+json": {
       "config": {
        "plotlyServerURL": "https://plot.ly"
       },
       "data": [
        {
         "branchvalues": "total",
         "hoverinfo": "label+percent parent",
         "hovertemplate": "<b>%{label}</b><br>%{percentParent: .0%} of %{parent}<extra></extra>",
         "insidetextorientation": "radial",
         "labels": [
          "Criminal damage and<br>arson",
          "Fraud offences",
          "Possession of<br>weapons",
          "Robbery",
          "Sexual offences",
          "Summary motoring",
          "Public order<br>offences",
          "Summary non-<br>motoring",
          "Miscellaneous<br>crimes against<br>society",
          "All other<br>offences",
          "Theft offences",
          "Drug offences",
          "Violence against<br>the person"
         ],
         "parents": [
          "All other<br>offences",
          "All other<br>offences",
          "All other<br>offences",
          "All other<br>offences",
          "All other<br>offences",
          "All other<br>offences",
          "All other<br>offences",
          "All other<br>offences",
          "All other<br>offences",
          "All offences",
          "All offences",
          "All offences",
          "All offences"
         ],
         "rotation": -60,
         "sort": false,
         "texttemplate": "%{label} <b>%{percentRoot: .0%}</b>",
         "type": "sunburst",
         "values": [
          0,
          0,
          0,
          0.018,
          0.035,
          0.053,
          0.07,
          0.07,
          0.105,
          0.351,
          0.421,
          0,
          0.228
         ]
        }
       ],
       "layout": {
        "annotations": [
         {
          "align": "left",
          "font": {
           "size": 12
          },
          "showarrow": false,
          "text": "Source: Ministry of Justice, Criminal justice statistics",
          "x": -0.08,
          "xref": "paper",
          "y": -0.19,
          "yref": "paper"
         }
        ],
        "height": 800,
        "margin": {
         "b": 0,
         "l": 0,
         "r": 0,
         "t": 75
        },
        "template": {
         "layout": {
          "colorway": [
           "#A01D28",
           "#499CC9",
           "#F9A237",
           "#6FBA3A",
           "#573D6B"
          ],
          "font": {
           "color": "#54565B",
           "family": "Helvetica Neue, Arial",
           "size": 12
          },
          "modebar": {
           "activecolor": "#A01D28"
          },
          "paper_bgcolor": "#F7F2F2",
          "plot_bgcolor": "#F7F2F2",
          "showlegend": false,
          "title": {
           "font": {
            "family": "Helvetica Neue, Arial",
            "size": 17
           },
           "y": 0.94,
           "yanchor": "bottom"
          },
          "xaxis": {
           "showgrid": false,
           "tickcolor": "#54565B"
          }
         }
        },
        "title": {
         "text": "<b>Imprisonment of women in Durham by offence group in 2022</b>",
         "y": 0.94,
         "yanchor": "bottom"
        },
        "uniformtext": {
         "minsize": 8,
         "mode": "hide"
        },
        "width": 800
       }
      }
     },
     "metadata": {},
     "output_type": "display_data"
    },
    {
     "data": {
      "application/vnd.plotly.v1+json": {
       "config": {
        "plotlyServerURL": "https://plot.ly"
       },
       "data": [
        {
         "branchvalues": "total",
         "hoverinfo": "label+percent parent",
         "hovertemplate": "<b>%{label}</b><br>%{percentParent: .0%} of %{parent}<extra></extra>",
         "insidetextorientation": "radial",
         "labels": [
          "Fraud offences",
          "Possession of<br>weapons",
          "Robbery",
          "Sexual offences",
          "Criminal damage and<br>arson",
          "Miscellaneous<br>crimes against<br>society",
          "Public order<br>offences",
          "Summary motoring",
          "Summary non-<br>motoring",
          "All other<br>offences",
          "Theft offences",
          "Drug offences",
          "Violence against<br>the person"
         ],
         "parents": [
          "All other<br>offences",
          "All other<br>offences",
          "All other<br>offences",
          "All other<br>offences",
          "All other<br>offences",
          "All other<br>offences",
          "All other<br>offences",
          "All other<br>offences",
          "All other<br>offences",
          "All offences",
          "All offences",
          "All offences",
          "All offences"
         ],
         "rotation": -60,
         "sort": false,
         "texttemplate": "%{label} <b>%{percentRoot: .0%}</b>",
         "type": "sunburst",
         "values": [
          0,
          0,
          0,
          0,
          0.05,
          0.1,
          0.1,
          0.1,
          0.2,
          0.55,
          0.15,
          0.05,
          0.25
         ]
        }
       ],
       "layout": {
        "annotations": [
         {
          "align": "left",
          "font": {
           "size": 12
          },
          "showarrow": false,
          "text": "Source: Ministry of Justice, Criminal justice statistics",
          "x": -0.08,
          "xref": "paper",
          "y": -0.19,
          "yref": "paper"
         }
        ],
        "height": 800,
        "margin": {
         "b": 0,
         "l": 0,
         "r": 0,
         "t": 75
        },
        "template": {
         "layout": {
          "colorway": [
           "#A01D28",
           "#499CC9",
           "#F9A237",
           "#6FBA3A",
           "#573D6B"
          ],
          "font": {
           "color": "#54565B",
           "family": "Helvetica Neue, Arial",
           "size": 12
          },
          "modebar": {
           "activecolor": "#A01D28"
          },
          "paper_bgcolor": "#F7F2F2",
          "plot_bgcolor": "#F7F2F2",
          "showlegend": false,
          "title": {
           "font": {
            "family": "Helvetica Neue, Arial",
            "size": 17
           },
           "y": 0.94,
           "yanchor": "bottom"
          },
          "xaxis": {
           "showgrid": false,
           "tickcolor": "#54565B"
          }
         }
        },
        "title": {
         "text": "<b>Imprisonment of women in Dyfed-Powys by offence group in 2022</b>",
         "y": 0.94,
         "yanchor": "bottom"
        },
        "uniformtext": {
         "minsize": 8,
         "mode": "hide"
        },
        "width": 800
       }
      }
     },
     "metadata": {},
     "output_type": "display_data"
    },
    {
     "data": {
      "application/vnd.plotly.v1+json": {
       "config": {
        "plotlyServerURL": "https://plot.ly"
       },
       "data": [
        {
         "branchvalues": "total",
         "hoverinfo": "label+percent parent",
         "hovertemplate": "<b>%{label}</b><br>%{percentParent: .0%} of %{parent}<extra></extra>",
         "insidetextorientation": "radial",
         "labels": [
          "Criminal damage and<br>arson",
          "Possession of<br>weapons",
          "Public order<br>offences",
          "Robbery",
          "Sexual offences",
          "Summary motoring",
          "Summary non-<br>motoring",
          "Fraud offences",
          "Miscellaneous<br>crimes against<br>society",
          "All other<br>offences",
          "Theft offences",
          "Drug offences",
          "Violence against<br>the person"
         ],
         "parents": [
          "All other<br>offences",
          "All other<br>offences",
          "All other<br>offences",
          "All other<br>offences",
          "All other<br>offences",
          "All other<br>offences",
          "All other<br>offences",
          "All other<br>offences",
          "All other<br>offences",
          "All offences",
          "All offences",
          "All offences",
          "All offences"
         ],
         "rotation": -60,
         "sort": false,
         "texttemplate": "%{label} <b>%{percentRoot: .0%}</b>",
         "type": "sunburst",
         "values": [
          0,
          0.011,
          0.011,
          0.011,
          0.011,
          0.033,
          0.054,
          0.076,
          0.087,
          0.294,
          0.315,
          0.217,
          0.174
         ]
        }
       ],
       "layout": {
        "annotations": [
         {
          "align": "left",
          "font": {
           "size": 12
          },
          "showarrow": false,
          "text": "Source: Ministry of Justice, Criminal justice statistics",
          "x": -0.08,
          "xref": "paper",
          "y": -0.19,
          "yref": "paper"
         }
        ],
        "height": 800,
        "margin": {
         "b": 0,
         "l": 0,
         "r": 0,
         "t": 75
        },
        "template": {
         "layout": {
          "colorway": [
           "#A01D28",
           "#499CC9",
           "#F9A237",
           "#6FBA3A",
           "#573D6B"
          ],
          "font": {
           "color": "#54565B",
           "family": "Helvetica Neue, Arial",
           "size": 12
          },
          "modebar": {
           "activecolor": "#A01D28"
          },
          "paper_bgcolor": "#F7F2F2",
          "plot_bgcolor": "#F7F2F2",
          "showlegend": false,
          "title": {
           "font": {
            "family": "Helvetica Neue, Arial",
            "size": 17
           },
           "y": 0.94,
           "yanchor": "bottom"
          },
          "xaxis": {
           "showgrid": false,
           "tickcolor": "#54565B"
          }
         }
        },
        "title": {
         "text": "<b>Imprisonment of women in Essex by offence group in 2022</b>",
         "y": 0.94,
         "yanchor": "bottom"
        },
        "uniformtext": {
         "minsize": 8,
         "mode": "hide"
        },
        "width": 800
       }
      }
     },
     "metadata": {},
     "output_type": "display_data"
    },
    {
     "data": {
      "application/vnd.plotly.v1+json": {
       "config": {
        "plotlyServerURL": "https://plot.ly"
       },
       "data": [
        {
         "branchvalues": "total",
         "hoverinfo": "label+percent parent",
         "hovertemplate": "<b>%{label}</b><br>%{percentParent: .0%} of %{parent}<extra></extra>",
         "insidetextorientation": "radial",
         "labels": [
          "Criminal damage and<br>arson",
          "Possession of<br>weapons",
          "Miscellaneous<br>crimes against<br>society",
          "Robbery",
          "Sexual offences",
          "Summary non-<br>motoring",
          "Summary motoring",
          "Fraud offences",
          "Public order<br>offences",
          "All other<br>offences",
          "Theft offences",
          "Drug offences",
          "Violence against<br>the person"
         ],
         "parents": [
          "All other<br>offences",
          "All other<br>offences",
          "All other<br>offences",
          "All other<br>offences",
          "All other<br>offences",
          "All other<br>offences",
          "All other<br>offences",
          "All other<br>offences",
          "All other<br>offences",
          "All offences",
          "All offences",
          "All offences",
          "All offences"
         ],
         "rotation": -60,
         "sort": false,
         "texttemplate": "%{label} <b>%{percentRoot: .0%}</b>",
         "type": "sunburst",
         "values": [
          0,
          0,
          0.043,
          0.043,
          0.043,
          0.043,
          0.087,
          0.13,
          0.217,
          0.606,
          0.13,
          0.13,
          0.13
         ]
        }
       ],
       "layout": {
        "annotations": [
         {
          "align": "left",
          "font": {
           "size": 12
          },
          "showarrow": false,
          "text": "Source: Ministry of Justice, Criminal justice statistics",
          "x": -0.08,
          "xref": "paper",
          "y": -0.19,
          "yref": "paper"
         }
        ],
        "height": 800,
        "margin": {
         "b": 0,
         "l": 0,
         "r": 0,
         "t": 75
        },
        "template": {
         "layout": {
          "colorway": [
           "#A01D28",
           "#499CC9",
           "#F9A237",
           "#6FBA3A",
           "#573D6B"
          ],
          "font": {
           "color": "#54565B",
           "family": "Helvetica Neue, Arial",
           "size": 12
          },
          "modebar": {
           "activecolor": "#A01D28"
          },
          "paper_bgcolor": "#F7F2F2",
          "plot_bgcolor": "#F7F2F2",
          "showlegend": false,
          "title": {
           "font": {
            "family": "Helvetica Neue, Arial",
            "size": 17
           },
           "y": 0.94,
           "yanchor": "bottom"
          },
          "xaxis": {
           "showgrid": false,
           "tickcolor": "#54565B"
          }
         }
        },
        "title": {
         "text": "<b>Imprisonment of women in Gloucestershire by offence group in 2022</b>",
         "y": 0.94,
         "yanchor": "bottom"
        },
        "uniformtext": {
         "minsize": 8,
         "mode": "hide"
        },
        "width": 800
       }
      }
     },
     "metadata": {},
     "output_type": "display_data"
    },
    {
     "data": {
      "application/vnd.plotly.v1+json": {
       "config": {
        "plotlyServerURL": "https://plot.ly"
       },
       "data": [
        {
         "branchvalues": "total",
         "hoverinfo": "label+percent parent",
         "hovertemplate": "<b>%{label}</b><br>%{percentParent: .0%} of %{parent}<extra></extra>",
         "insidetextorientation": "radial",
         "labels": [
          "Criminal damage and<br>arson",
          "Possession of<br>weapons",
          "Sexual offences",
          "Robbery",
          "Summary motoring",
          "Summary non-<br>motoring",
          "Fraud offences",
          "Public order<br>offences",
          "Miscellaneous<br>crimes against<br>society",
          "All other<br>offences",
          "Theft offences",
          "Drug offences",
          "Violence against<br>the person"
         ],
         "parents": [
          "All other<br>offences",
          "All other<br>offences",
          "All other<br>offences",
          "All other<br>offences",
          "All other<br>offences",
          "All other<br>offences",
          "All other<br>offences",
          "All other<br>offences",
          "All other<br>offences",
          "All offences",
          "All offences",
          "All offences",
          "All offences"
         ],
         "rotation": -60,
         "sort": false,
         "texttemplate": "%{label} <b>%{percentRoot: .0%}</b>",
         "type": "sunburst",
         "values": [
          0.02,
          0.02,
          0.02,
          0.025,
          0.03,
          0.05,
          0.055,
          0.055,
          0.065,
          0.34,
          0.34,
          0.08,
          0.24
         ]
        }
       ],
       "layout": {
        "annotations": [
         {
          "align": "left",
          "font": {
           "size": 12
          },
          "showarrow": false,
          "text": "Source: Ministry of Justice, Criminal justice statistics",
          "x": -0.08,
          "xref": "paper",
          "y": -0.19,
          "yref": "paper"
         }
        ],
        "height": 800,
        "margin": {
         "b": 0,
         "l": 0,
         "r": 0,
         "t": 75
        },
        "template": {
         "layout": {
          "colorway": [
           "#A01D28",
           "#499CC9",
           "#F9A237",
           "#6FBA3A",
           "#573D6B"
          ],
          "font": {
           "color": "#54565B",
           "family": "Helvetica Neue, Arial",
           "size": 12
          },
          "modebar": {
           "activecolor": "#A01D28"
          },
          "paper_bgcolor": "#F7F2F2",
          "plot_bgcolor": "#F7F2F2",
          "showlegend": false,
          "title": {
           "font": {
            "family": "Helvetica Neue, Arial",
            "size": 17
           },
           "y": 0.94,
           "yanchor": "bottom"
          },
          "xaxis": {
           "showgrid": false,
           "tickcolor": "#54565B"
          }
         }
        },
        "title": {
         "text": "<b>Imprisonment of women in Greater Manchester by offence group in 2022</b>",
         "y": 0.94,
         "yanchor": "bottom"
        },
        "uniformtext": {
         "minsize": 8,
         "mode": "hide"
        },
        "width": 800
       }
      }
     },
     "metadata": {},
     "output_type": "display_data"
    },
    {
     "data": {
      "application/vnd.plotly.v1+json": {
       "config": {
        "plotlyServerURL": "https://plot.ly"
       },
       "data": [
        {
         "branchvalues": "total",
         "hoverinfo": "label+percent parent",
         "hovertemplate": "<b>%{label}</b><br>%{percentParent: .0%} of %{parent}<extra></extra>",
         "insidetextorientation": "radial",
         "labels": [
          "Criminal damage and<br>arson",
          "Fraud offences",
          "Miscellaneous<br>crimes against<br>society",
          "Robbery",
          "Sexual offences",
          "Possession of<br>weapons",
          "Summary motoring",
          "Summary non-<br>motoring",
          "Public order<br>offences",
          "All other<br>offences",
          "Theft offences",
          "Drug offences",
          "Violence against<br>the person"
         ],
         "parents": [
          "All other<br>offences",
          "All other<br>offences",
          "All other<br>offences",
          "All other<br>offences",
          "All other<br>offences",
          "All other<br>offences",
          "All other<br>offences",
          "All other<br>offences",
          "All other<br>offences",
          "All offences",
          "All offences",
          "All offences",
          "All offences"
         ],
         "rotation": -60,
         "sort": false,
         "texttemplate": "%{label} <b>%{percentRoot: .0%}</b>",
         "type": "sunburst",
         "values": [
          0,
          0,
          0,
          0,
          0,
          0.059,
          0.059,
          0.118,
          0.235,
          0.471,
          0.353,
          0,
          0.176
         ]
        }
       ],
       "layout": {
        "annotations": [
         {
          "align": "left",
          "font": {
           "size": 12
          },
          "showarrow": false,
          "text": "Source: Ministry of Justice, Criminal justice statistics",
          "x": -0.08,
          "xref": "paper",
          "y": -0.19,
          "yref": "paper"
         }
        ],
        "height": 800,
        "margin": {
         "b": 0,
         "l": 0,
         "r": 0,
         "t": 75
        },
        "template": {
         "layout": {
          "colorway": [
           "#A01D28",
           "#499CC9",
           "#F9A237",
           "#6FBA3A",
           "#573D6B"
          ],
          "font": {
           "color": "#54565B",
           "family": "Helvetica Neue, Arial",
           "size": 12
          },
          "modebar": {
           "activecolor": "#A01D28"
          },
          "paper_bgcolor": "#F7F2F2",
          "plot_bgcolor": "#F7F2F2",
          "showlegend": false,
          "title": {
           "font": {
            "family": "Helvetica Neue, Arial",
            "size": 17
           },
           "y": 0.94,
           "yanchor": "bottom"
          },
          "xaxis": {
           "showgrid": false,
           "tickcolor": "#54565B"
          }
         }
        },
        "title": {
         "text": "<b>Imprisonment of women in Gwent by offence group in 2022</b>",
         "y": 0.94,
         "yanchor": "bottom"
        },
        "uniformtext": {
         "minsize": 8,
         "mode": "hide"
        },
        "width": 800
       }
      }
     },
     "metadata": {},
     "output_type": "display_data"
    },
    {
     "data": {
      "application/vnd.plotly.v1+json": {
       "config": {
        "plotlyServerURL": "https://plot.ly"
       },
       "data": [
        {
         "branchvalues": "total",
         "hoverinfo": "label+percent parent",
         "hovertemplate": "<b>%{label}</b><br>%{percentParent: .0%} of %{parent}<extra></extra>",
         "insidetextorientation": "radial",
         "labels": [
          "Criminal damage and<br>arson",
          "Possession of<br>weapons",
          "Robbery",
          "Sexual offences",
          "Public order<br>offences",
          "Miscellaneous<br>crimes against<br>society",
          "Summary motoring",
          "Summary non-<br>motoring",
          "Fraud offences",
          "All other<br>offences",
          "Theft offences",
          "Drug offences",
          "Violence against<br>the person"
         ],
         "parents": [
          "All other<br>offences",
          "All other<br>offences",
          "All other<br>offences",
          "All other<br>offences",
          "All other<br>offences",
          "All other<br>offences",
          "All other<br>offences",
          "All other<br>offences",
          "All other<br>offences",
          "All offences",
          "All offences",
          "All offences",
          "All offences"
         ],
         "rotation": -60,
         "sort": false,
         "texttemplate": "%{label} <b>%{percentRoot: .0%}</b>",
         "type": "sunburst",
         "values": [
          0,
          0.011,
          0.023,
          0.023,
          0.034,
          0.057,
          0.057,
          0.08,
          0.091,
          0.37600000000000006,
          0.284,
          0.057,
          0.284
         ]
        }
       ],
       "layout": {
        "annotations": [
         {
          "align": "left",
          "font": {
           "size": 12
          },
          "showarrow": false,
          "text": "Source: Ministry of Justice, Criminal justice statistics",
          "x": -0.08,
          "xref": "paper",
          "y": -0.19,
          "yref": "paper"
         }
        ],
        "height": 800,
        "margin": {
         "b": 0,
         "l": 0,
         "r": 0,
         "t": 75
        },
        "template": {
         "layout": {
          "colorway": [
           "#A01D28",
           "#499CC9",
           "#F9A237",
           "#6FBA3A",
           "#573D6B"
          ],
          "font": {
           "color": "#54565B",
           "family": "Helvetica Neue, Arial",
           "size": 12
          },
          "modebar": {
           "activecolor": "#A01D28"
          },
          "paper_bgcolor": "#F7F2F2",
          "plot_bgcolor": "#F7F2F2",
          "showlegend": false,
          "title": {
           "font": {
            "family": "Helvetica Neue, Arial",
            "size": 17
           },
           "y": 0.94,
           "yanchor": "bottom"
          },
          "xaxis": {
           "showgrid": false,
           "tickcolor": "#54565B"
          }
         }
        },
        "title": {
         "text": "<b>Imprisonment of women in Hampshire by offence group in 2022</b>",
         "y": 0.94,
         "yanchor": "bottom"
        },
        "uniformtext": {
         "minsize": 8,
         "mode": "hide"
        },
        "width": 800
       }
      }
     },
     "metadata": {},
     "output_type": "display_data"
    },
    {
     "data": {
      "application/vnd.plotly.v1+json": {
       "config": {
        "plotlyServerURL": "https://plot.ly"
       },
       "data": [
        {
         "branchvalues": "total",
         "hoverinfo": "label+percent parent",
         "hovertemplate": "<b>%{label}</b><br>%{percentParent: .0%} of %{parent}<extra></extra>",
         "insidetextorientation": "radial",
         "labels": [
          "Criminal damage and<br>arson",
          "Possession of<br>weapons",
          "Robbery",
          "Summary motoring",
          "Sexual offences",
          "Public order<br>offences",
          "Summary non-<br>motoring",
          "Miscellaneous<br>crimes against<br>society",
          "Fraud offences",
          "All other<br>offences",
          "Theft offences",
          "Drug offences",
          "Violence against<br>the person"
         ],
         "parents": [
          "All other<br>offences",
          "All other<br>offences",
          "All other<br>offences",
          "All other<br>offences",
          "All other<br>offences",
          "All other<br>offences",
          "All other<br>offences",
          "All other<br>offences",
          "All other<br>offences",
          "All offences",
          "All offences",
          "All offences",
          "All offences"
         ],
         "rotation": -60,
         "sort": false,
         "texttemplate": "%{label} <b>%{percentRoot: .0%}</b>",
         "type": "sunburst",
         "values": [
          0,
          0,
          0,
          0,
          0.023,
          0.068,
          0.068,
          0.136,
          0.159,
          0.454,
          0.341,
          0.023,
          0.182
         ]
        }
       ],
       "layout": {
        "annotations": [
         {
          "align": "left",
          "font": {
           "size": 12
          },
          "showarrow": false,
          "text": "Source: Ministry of Justice, Criminal justice statistics",
          "x": -0.08,
          "xref": "paper",
          "y": -0.19,
          "yref": "paper"
         }
        ],
        "height": 800,
        "margin": {
         "b": 0,
         "l": 0,
         "r": 0,
         "t": 75
        },
        "template": {
         "layout": {
          "colorway": [
           "#A01D28",
           "#499CC9",
           "#F9A237",
           "#6FBA3A",
           "#573D6B"
          ],
          "font": {
           "color": "#54565B",
           "family": "Helvetica Neue, Arial",
           "size": 12
          },
          "modebar": {
           "activecolor": "#A01D28"
          },
          "paper_bgcolor": "#F7F2F2",
          "plot_bgcolor": "#F7F2F2",
          "showlegend": false,
          "title": {
           "font": {
            "family": "Helvetica Neue, Arial",
            "size": 17
           },
           "y": 0.94,
           "yanchor": "bottom"
          },
          "xaxis": {
           "showgrid": false,
           "tickcolor": "#54565B"
          }
         }
        },
        "title": {
         "text": "<b>Imprisonment of women in Hertfordshire by offence group in 2022</b>",
         "y": 0.94,
         "yanchor": "bottom"
        },
        "uniformtext": {
         "minsize": 8,
         "mode": "hide"
        },
        "width": 800
       }
      }
     },
     "metadata": {},
     "output_type": "display_data"
    },
    {
     "data": {
      "application/vnd.plotly.v1+json": {
       "config": {
        "plotlyServerURL": "https://plot.ly"
       },
       "data": [
        {
         "branchvalues": "total",
         "hoverinfo": "label+percent parent",
         "hovertemplate": "<b>%{label}</b><br>%{percentParent: .0%} of %{parent}<extra></extra>",
         "insidetextorientation": "radial",
         "labels": [
          "Summary motoring",
          "Criminal damage and<br>arson",
          "Sexual offences",
          "Public order<br>offences",
          "Robbery",
          "Fraud offences",
          "Possession of<br>weapons",
          "Miscellaneous<br>crimes against<br>society",
          "Summary non-<br>motoring",
          "All other<br>offences",
          "Theft offences",
          "Drug offences",
          "Violence against<br>the person"
         ],
         "parents": [
          "All other<br>offences",
          "All other<br>offences",
          "All other<br>offences",
          "All other<br>offences",
          "All other<br>offences",
          "All other<br>offences",
          "All other<br>offences",
          "All other<br>offences",
          "All other<br>offences",
          "All offences",
          "All offences",
          "All offences",
          "All offences"
         ],
         "rotation": -60,
         "sort": false,
         "texttemplate": "%{label} <b>%{percentRoot: .0%}</b>",
         "type": "sunburst",
         "values": [
          0.008,
          0.017,
          0.017,
          0.025,
          0.034,
          0.05,
          0.059,
          0.067,
          0.101,
          0.378,
          0.294,
          0.109,
          0.218
         ]
        }
       ],
       "layout": {
        "annotations": [
         {
          "align": "left",
          "font": {
           "size": 12
          },
          "showarrow": false,
          "text": "Source: Ministry of Justice, Criminal justice statistics",
          "x": -0.08,
          "xref": "paper",
          "y": -0.19,
          "yref": "paper"
         }
        ],
        "height": 800,
        "margin": {
         "b": 0,
         "l": 0,
         "r": 0,
         "t": 75
        },
        "template": {
         "layout": {
          "colorway": [
           "#A01D28",
           "#499CC9",
           "#F9A237",
           "#6FBA3A",
           "#573D6B"
          ],
          "font": {
           "color": "#54565B",
           "family": "Helvetica Neue, Arial",
           "size": 12
          },
          "modebar": {
           "activecolor": "#A01D28"
          },
          "paper_bgcolor": "#F7F2F2",
          "plot_bgcolor": "#F7F2F2",
          "showlegend": false,
          "title": {
           "font": {
            "family": "Helvetica Neue, Arial",
            "size": 17
           },
           "y": 0.94,
           "yanchor": "bottom"
          },
          "xaxis": {
           "showgrid": false,
           "tickcolor": "#54565B"
          }
         }
        },
        "title": {
         "text": "<b>Imprisonment of women in Humberside by offence group in 2022</b>",
         "y": 0.94,
         "yanchor": "bottom"
        },
        "uniformtext": {
         "minsize": 8,
         "mode": "hide"
        },
        "width": 800
       }
      }
     },
     "metadata": {},
     "output_type": "display_data"
    },
    {
     "data": {
      "application/vnd.plotly.v1+json": {
       "config": {
        "plotlyServerURL": "https://plot.ly"
       },
       "data": [
        {
         "branchvalues": "total",
         "hoverinfo": "label+percent parent",
         "hovertemplate": "<b>%{label}</b><br>%{percentParent: .0%} of %{parent}<extra></extra>",
         "insidetextorientation": "radial",
         "labels": [
          "Possession of<br>weapons",
          "Sexual offences",
          "Criminal damage and<br>arson",
          "Summary motoring",
          "Robbery",
          "Public order<br>offences",
          "Fraud offences",
          "Summary non-<br>motoring",
          "Miscellaneous<br>crimes against<br>society",
          "All other<br>offences",
          "Theft offences",
          "Drug offences",
          "Violence against<br>the person"
         ],
         "parents": [
          "All other<br>offences",
          "All other<br>offences",
          "All other<br>offences",
          "All other<br>offences",
          "All other<br>offences",
          "All other<br>offences",
          "All other<br>offences",
          "All other<br>offences",
          "All other<br>offences",
          "All offences",
          "All offences",
          "All offences",
          "All offences"
         ],
         "rotation": -60,
         "sort": false,
         "texttemplate": "%{label} <b>%{percentRoot: .0%}</b>",
         "type": "sunburst",
         "values": [
          0.007,
          0.007,
          0.014,
          0.014,
          0.021,
          0.042,
          0.056,
          0.077,
          0.091,
          0.329,
          0.385,
          0.063,
          0.224
         ]
        }
       ],
       "layout": {
        "annotations": [
         {
          "align": "left",
          "font": {
           "size": 12
          },
          "showarrow": false,
          "text": "Source: Ministry of Justice, Criminal justice statistics",
          "x": -0.08,
          "xref": "paper",
          "y": -0.19,
          "yref": "paper"
         }
        ],
        "height": 800,
        "margin": {
         "b": 0,
         "l": 0,
         "r": 0,
         "t": 75
        },
        "template": {
         "layout": {
          "colorway": [
           "#A01D28",
           "#499CC9",
           "#F9A237",
           "#6FBA3A",
           "#573D6B"
          ],
          "font": {
           "color": "#54565B",
           "family": "Helvetica Neue, Arial",
           "size": 12
          },
          "modebar": {
           "activecolor": "#A01D28"
          },
          "paper_bgcolor": "#F7F2F2",
          "plot_bgcolor": "#F7F2F2",
          "showlegend": false,
          "title": {
           "font": {
            "family": "Helvetica Neue, Arial",
            "size": 17
           },
           "y": 0.94,
           "yanchor": "bottom"
          },
          "xaxis": {
           "showgrid": false,
           "tickcolor": "#54565B"
          }
         }
        },
        "title": {
         "text": "<b>Imprisonment of women in Kent by offence group in 2022</b>",
         "y": 0.94,
         "yanchor": "bottom"
        },
        "uniformtext": {
         "minsize": 8,
         "mode": "hide"
        },
        "width": 800
       }
      }
     },
     "metadata": {},
     "output_type": "display_data"
    },
    {
     "data": {
      "application/vnd.plotly.v1+json": {
       "config": {
        "plotlyServerURL": "https://plot.ly"
       },
       "data": [
        {
         "branchvalues": "total",
         "hoverinfo": "label+percent parent",
         "hovertemplate": "<b>%{label}</b><br>%{percentParent: .0%} of %{parent}<extra></extra>",
         "insidetextorientation": "radial",
         "labels": [
          "Sexual offences",
          "Criminal damage and<br>arson",
          "Fraud offences",
          "Summary motoring",
          "Public order<br>offences",
          "Possession of<br>weapons",
          "Robbery",
          "Miscellaneous<br>crimes against<br>society",
          "Summary non-<br>motoring",
          "All other<br>offences",
          "Theft offences",
          "Drug offences",
          "Violence against<br>the person"
         ],
         "parents": [
          "All other<br>offences",
          "All other<br>offences",
          "All other<br>offences",
          "All other<br>offences",
          "All other<br>offences",
          "All other<br>offences",
          "All other<br>offences",
          "All other<br>offences",
          "All other<br>offences",
          "All offences",
          "All offences",
          "All offences",
          "All offences"
         ],
         "rotation": -60,
         "sort": false,
         "texttemplate": "%{label} <b>%{percentRoot: .0%}</b>",
         "type": "sunburst",
         "values": [
          0.009,
          0.017,
          0.017,
          0.017,
          0.052,
          0.069,
          0.069,
          0.112,
          0.121,
          0.483,
          0.216,
          0.112,
          0.19
         ]
        }
       ],
       "layout": {
        "annotations": [
         {
          "align": "left",
          "font": {
           "size": 12
          },
          "showarrow": false,
          "text": "Source: Ministry of Justice, Criminal justice statistics",
          "x": -0.08,
          "xref": "paper",
          "y": -0.19,
          "yref": "paper"
         }
        ],
        "height": 800,
        "margin": {
         "b": 0,
         "l": 0,
         "r": 0,
         "t": 75
        },
        "template": {
         "layout": {
          "colorway": [
           "#A01D28",
           "#499CC9",
           "#F9A237",
           "#6FBA3A",
           "#573D6B"
          ],
          "font": {
           "color": "#54565B",
           "family": "Helvetica Neue, Arial",
           "size": 12
          },
          "modebar": {
           "activecolor": "#A01D28"
          },
          "paper_bgcolor": "#F7F2F2",
          "plot_bgcolor": "#F7F2F2",
          "showlegend": false,
          "title": {
           "font": {
            "family": "Helvetica Neue, Arial",
            "size": 17
           },
           "y": 0.94,
           "yanchor": "bottom"
          },
          "xaxis": {
           "showgrid": false,
           "tickcolor": "#54565B"
          }
         }
        },
        "title": {
         "text": "<b>Imprisonment of women in Lancashire by offence group in 2022</b>",
         "y": 0.94,
         "yanchor": "bottom"
        },
        "uniformtext": {
         "minsize": 8,
         "mode": "hide"
        },
        "width": 800
       }
      }
     },
     "metadata": {},
     "output_type": "display_data"
    },
    {
     "data": {
      "application/vnd.plotly.v1+json": {
       "config": {
        "plotlyServerURL": "https://plot.ly"
       },
       "data": [
        {
         "branchvalues": "total",
         "hoverinfo": "label+percent parent",
         "hovertemplate": "<b>%{label}</b><br>%{percentParent: .0%} of %{parent}<extra></extra>",
         "insidetextorientation": "radial",
         "labels": [
          "Criminal damage and<br>arson",
          "Summary motoring",
          "Possession of<br>weapons",
          "Robbery",
          "Sexual offences",
          "Miscellaneous<br>crimes against<br>society",
          "Public order<br>offences",
          "Fraud offences",
          "Summary non-<br>motoring",
          "All other<br>offences",
          "Theft offences",
          "Drug offences",
          "Violence against<br>the person"
         ],
         "parents": [
          "All other<br>offences",
          "All other<br>offences",
          "All other<br>offences",
          "All other<br>offences",
          "All other<br>offences",
          "All other<br>offences",
          "All other<br>offences",
          "All other<br>offences",
          "All other<br>offences",
          "All offences",
          "All offences",
          "All offences",
          "All offences"
         ],
         "rotation": -60,
         "sort": false,
         "texttemplate": "%{label} <b>%{percentRoot: .0%}</b>",
         "type": "sunburst",
         "values": [
          0,
          0,
          0.014,
          0.014,
          0.014,
          0.043,
          0.043,
          0.129,
          0.157,
          0.41400000000000003,
          0.271,
          0.114,
          0.2
         ]
        }
       ],
       "layout": {
        "annotations": [
         {
          "align": "left",
          "font": {
           "size": 12
          },
          "showarrow": false,
          "text": "Source: Ministry of Justice, Criminal justice statistics",
          "x": -0.08,
          "xref": "paper",
          "y": -0.19,
          "yref": "paper"
         }
        ],
        "height": 800,
        "margin": {
         "b": 0,
         "l": 0,
         "r": 0,
         "t": 75
        },
        "template": {
         "layout": {
          "colorway": [
           "#A01D28",
           "#499CC9",
           "#F9A237",
           "#6FBA3A",
           "#573D6B"
          ],
          "font": {
           "color": "#54565B",
           "family": "Helvetica Neue, Arial",
           "size": 12
          },
          "modebar": {
           "activecolor": "#A01D28"
          },
          "paper_bgcolor": "#F7F2F2",
          "plot_bgcolor": "#F7F2F2",
          "showlegend": false,
          "title": {
           "font": {
            "family": "Helvetica Neue, Arial",
            "size": 17
           },
           "y": 0.94,
           "yanchor": "bottom"
          },
          "xaxis": {
           "showgrid": false,
           "tickcolor": "#54565B"
          }
         }
        },
        "title": {
         "text": "<b>Imprisonment of women in Leicestershire by offence group in 2022</b>",
         "y": 0.94,
         "yanchor": "bottom"
        },
        "uniformtext": {
         "minsize": 8,
         "mode": "hide"
        },
        "width": 800
       }
      }
     },
     "metadata": {},
     "output_type": "display_data"
    },
    {
     "data": {
      "application/vnd.plotly.v1+json": {
       "config": {
        "plotlyServerURL": "https://plot.ly"
       },
       "data": [
        {
         "branchvalues": "total",
         "hoverinfo": "label+percent parent",
         "hovertemplate": "<b>%{label}</b><br>%{percentParent: .0%} of %{parent}<extra></extra>",
         "insidetextorientation": "radial",
         "labels": [
          "Criminal damage and<br>arson",
          "Fraud offences",
          "Possession of<br>weapons",
          "Robbery",
          "Miscellaneous<br>crimes against<br>society",
          "Public order<br>offences",
          "Summary motoring",
          "Sexual offences",
          "Summary non-<br>motoring",
          "All other<br>offences",
          "Theft offences",
          "Drug offences",
          "Violence against<br>the person"
         ],
         "parents": [
          "All other<br>offences",
          "All other<br>offences",
          "All other<br>offences",
          "All other<br>offences",
          "All other<br>offences",
          "All other<br>offences",
          "All other<br>offences",
          "All other<br>offences",
          "All other<br>offences",
          "All offences",
          "All offences",
          "All offences",
          "All offences"
         ],
         "rotation": -60,
         "sort": false,
         "texttemplate": "%{label} <b>%{percentRoot: .0%}</b>",
         "type": "sunburst",
         "values": [
          0,
          0.022,
          0.022,
          0.022,
          0.043,
          0.043,
          0.043,
          0.065,
          0.065,
          0.325,
          0.283,
          0.043,
          0.348
         ]
        }
       ],
       "layout": {
        "annotations": [
         {
          "align": "left",
          "font": {
           "size": 12
          },
          "showarrow": false,
          "text": "Source: Ministry of Justice, Criminal justice statistics",
          "x": -0.08,
          "xref": "paper",
          "y": -0.19,
          "yref": "paper"
         }
        ],
        "height": 800,
        "margin": {
         "b": 0,
         "l": 0,
         "r": 0,
         "t": 75
        },
        "template": {
         "layout": {
          "colorway": [
           "#A01D28",
           "#499CC9",
           "#F9A237",
           "#6FBA3A",
           "#573D6B"
          ],
          "font": {
           "color": "#54565B",
           "family": "Helvetica Neue, Arial",
           "size": 12
          },
          "modebar": {
           "activecolor": "#A01D28"
          },
          "paper_bgcolor": "#F7F2F2",
          "plot_bgcolor": "#F7F2F2",
          "showlegend": false,
          "title": {
           "font": {
            "family": "Helvetica Neue, Arial",
            "size": 17
           },
           "y": 0.94,
           "yanchor": "bottom"
          },
          "xaxis": {
           "showgrid": false,
           "tickcolor": "#54565B"
          }
         }
        },
        "title": {
         "text": "<b>Imprisonment of women in Lincolnshire by offence group in 2022</b>",
         "y": 0.94,
         "yanchor": "bottom"
        },
        "uniformtext": {
         "minsize": 8,
         "mode": "hide"
        },
        "width": 800
       }
      }
     },
     "metadata": {},
     "output_type": "display_data"
    },
    {
     "data": {
      "application/vnd.plotly.v1+json": {
       "config": {
        "plotlyServerURL": "https://plot.ly"
       },
       "data": [
        {
         "branchvalues": "total",
         "hoverinfo": "label+percent parent",
         "hovertemplate": "<b>%{label}</b><br>%{percentParent: .0%} of %{parent}<extra></extra>",
         "insidetextorientation": "radial",
         "labels": [
          "Sexual offences",
          "Summary motoring",
          "Criminal damage and<br>arson",
          "Possession of<br>weapons",
          "Robbery",
          "Fraud offences",
          "Miscellaneous<br>crimes against<br>society",
          "Public order<br>offences",
          "Summary non-<br>motoring",
          "All other<br>offences",
          "Theft offences",
          "Drug offences",
          "Violence against<br>the person"
         ],
         "parents": [
          "All other<br>offences",
          "All other<br>offences",
          "All other<br>offences",
          "All other<br>offences",
          "All other<br>offences",
          "All other<br>offences",
          "All other<br>offences",
          "All other<br>offences",
          "All other<br>offences",
          "All offences",
          "All offences",
          "All offences",
          "All offences"
         ],
         "rotation": -60,
         "sort": false,
         "texttemplate": "%{label} <b>%{percentRoot: .0%}</b>",
         "type": "sunburst",
         "values": [
          0.01,
          0.01,
          0.015,
          0.021,
          0.031,
          0.056,
          0.072,
          0.077,
          0.082,
          0.37400000000000005,
          0.231,
          0.21,
          0.185
         ]
        }
       ],
       "layout": {
        "annotations": [
         {
          "align": "left",
          "font": {
           "size": 12
          },
          "showarrow": false,
          "text": "Source: Ministry of Justice, Criminal justice statistics",
          "x": -0.08,
          "xref": "paper",
          "y": -0.19,
          "yref": "paper"
         }
        ],
        "height": 800,
        "margin": {
         "b": 0,
         "l": 0,
         "r": 0,
         "t": 75
        },
        "template": {
         "layout": {
          "colorway": [
           "#A01D28",
           "#499CC9",
           "#F9A237",
           "#6FBA3A",
           "#573D6B"
          ],
          "font": {
           "color": "#54565B",
           "family": "Helvetica Neue, Arial",
           "size": 12
          },
          "modebar": {
           "activecolor": "#A01D28"
          },
          "paper_bgcolor": "#F7F2F2",
          "plot_bgcolor": "#F7F2F2",
          "showlegend": false,
          "title": {
           "font": {
            "family": "Helvetica Neue, Arial",
            "size": 17
           },
           "y": 0.94,
           "yanchor": "bottom"
          },
          "xaxis": {
           "showgrid": false,
           "tickcolor": "#54565B"
          }
         }
        },
        "title": {
         "text": "<b>Imprisonment of women in Merseyside by offence group in 2022</b>",
         "y": 0.94,
         "yanchor": "bottom"
        },
        "uniformtext": {
         "minsize": 8,
         "mode": "hide"
        },
        "width": 800
       }
      }
     },
     "metadata": {},
     "output_type": "display_data"
    },
    {
     "data": {
      "application/vnd.plotly.v1+json": {
       "config": {
        "plotlyServerURL": "https://plot.ly"
       },
       "data": [
        {
         "branchvalues": "total",
         "hoverinfo": "label+percent parent",
         "hovertemplate": "<b>%{label}</b><br>%{percentParent: .0%} of %{parent}<extra></extra>",
         "insidetextorientation": "radial",
         "labels": [
          "Sexual offences",
          "Criminal damage and<br>arson",
          "Summary motoring",
          "Robbery",
          "Possession of<br>weapons",
          "Fraud offences",
          "Public order<br>offences",
          "Miscellaneous<br>crimes against<br>society",
          "Summary non-<br>motoring",
          "All other<br>offences",
          "Theft offences",
          "Drug offences",
          "Violence against<br>the person"
         ],
         "parents": [
          "All other<br>offences",
          "All other<br>offences",
          "All other<br>offences",
          "All other<br>offences",
          "All other<br>offences",
          "All other<br>offences",
          "All other<br>offences",
          "All other<br>offences",
          "All other<br>offences",
          "All offences",
          "All offences",
          "All offences",
          "All offences"
         ],
         "rotation": -60,
         "sort": false,
         "texttemplate": "%{label} <b>%{percentRoot: .0%}</b>",
         "type": "sunburst",
         "values": [
          0.005,
          0.009,
          0.01,
          0.031,
          0.036,
          0.047,
          0.066,
          0.082,
          0.111,
          0.39699999999999996,
          0.304,
          0.118,
          0.181
         ]
        }
       ],
       "layout": {
        "annotations": [
         {
          "align": "left",
          "font": {
           "size": 12
          },
          "showarrow": false,
          "text": "Source: Ministry of Justice, Criminal justice statistics",
          "x": -0.08,
          "xref": "paper",
          "y": -0.19,
          "yref": "paper"
         }
        ],
        "height": 800,
        "margin": {
         "b": 0,
         "l": 0,
         "r": 0,
         "t": 75
        },
        "template": {
         "layout": {
          "colorway": [
           "#A01D28",
           "#499CC9",
           "#F9A237",
           "#6FBA3A",
           "#573D6B"
          ],
          "font": {
           "color": "#54565B",
           "family": "Helvetica Neue, Arial",
           "size": 12
          },
          "modebar": {
           "activecolor": "#A01D28"
          },
          "paper_bgcolor": "#F7F2F2",
          "plot_bgcolor": "#F7F2F2",
          "showlegend": false,
          "title": {
           "font": {
            "family": "Helvetica Neue, Arial",
            "size": 17
           },
           "y": 0.94,
           "yanchor": "bottom"
          },
          "xaxis": {
           "showgrid": false,
           "tickcolor": "#54565B"
          }
         }
        },
        "title": {
         "text": "<b>Imprisonment of women in Metropolitan Police by offence group in 2022</b>",
         "y": 0.94,
         "yanchor": "bottom"
        },
        "uniformtext": {
         "minsize": 8,
         "mode": "hide"
        },
        "width": 800
       }
      }
     },
     "metadata": {},
     "output_type": "display_data"
    },
    {
     "data": {
      "application/vnd.plotly.v1+json": {
       "config": {
        "plotlyServerURL": "https://plot.ly"
       },
       "data": [
        {
         "branchvalues": "total",
         "hoverinfo": "label+percent parent",
         "hovertemplate": "<b>%{label}</b><br>%{percentParent: .0%} of %{parent}<extra></extra>",
         "insidetextorientation": "radial",
         "labels": [
          "Summary motoring",
          "Miscellaneous<br>crimes against<br>society",
          "Robbery",
          "Fraud offences",
          "Possession of<br>weapons",
          "Criminal damage and<br>arson",
          "Sexual offences",
          "Public order<br>offences",
          "Summary non-<br>motoring",
          "All other<br>offences",
          "Theft offences",
          "Drug offences",
          "Violence against<br>the person"
         ],
         "parents": [
          "All other<br>offences",
          "All other<br>offences",
          "All other<br>offences",
          "All other<br>offences",
          "All other<br>offences",
          "All other<br>offences",
          "All other<br>offences",
          "All other<br>offences",
          "All other<br>offences",
          "All offences",
          "All offences",
          "All offences",
          "All offences"
         ],
         "rotation": -60,
         "sort": false,
         "texttemplate": "%{label} <b>%{percentRoot: .0%}</b>",
         "type": "sunburst",
         "values": [
          0,
          0.019,
          0.019,
          0.037,
          0.037,
          0.056,
          0.056,
          0.13,
          0.13,
          0.484,
          0.241,
          0.13,
          0.148
         ]
        }
       ],
       "layout": {
        "annotations": [
         {
          "align": "left",
          "font": {
           "size": 12
          },
          "showarrow": false,
          "text": "Source: Ministry of Justice, Criminal justice statistics",
          "x": -0.08,
          "xref": "paper",
          "y": -0.19,
          "yref": "paper"
         }
        ],
        "height": 800,
        "margin": {
         "b": 0,
         "l": 0,
         "r": 0,
         "t": 75
        },
        "template": {
         "layout": {
          "colorway": [
           "#A01D28",
           "#499CC9",
           "#F9A237",
           "#6FBA3A",
           "#573D6B"
          ],
          "font": {
           "color": "#54565B",
           "family": "Helvetica Neue, Arial",
           "size": 12
          },
          "modebar": {
           "activecolor": "#A01D28"
          },
          "paper_bgcolor": "#F7F2F2",
          "plot_bgcolor": "#F7F2F2",
          "showlegend": false,
          "title": {
           "font": {
            "family": "Helvetica Neue, Arial",
            "size": 17
           },
           "y": 0.94,
           "yanchor": "bottom"
          },
          "xaxis": {
           "showgrid": false,
           "tickcolor": "#54565B"
          }
         }
        },
        "title": {
         "text": "<b>Imprisonment of women in Norfolk by offence group in 2022</b>",
         "y": 0.94,
         "yanchor": "bottom"
        },
        "uniformtext": {
         "minsize": 8,
         "mode": "hide"
        },
        "width": 800
       }
      }
     },
     "metadata": {},
     "output_type": "display_data"
    },
    {
     "data": {
      "application/vnd.plotly.v1+json": {
       "config": {
        "plotlyServerURL": "https://plot.ly"
       },
       "data": [
        {
         "branchvalues": "total",
         "hoverinfo": "label+percent parent",
         "hovertemplate": "<b>%{label}</b><br>%{percentParent: .0%} of %{parent}<extra></extra>",
         "insidetextorientation": "radial",
         "labels": [
          "Summary motoring",
          "Possession of<br>weapons",
          "Robbery",
          "Sexual offences",
          "Criminal damage and<br>arson",
          "Fraud offences",
          "Miscellaneous<br>crimes against<br>society",
          "Public order<br>offences",
          "Summary non-<br>motoring",
          "All other<br>offences",
          "Theft offences",
          "Drug offences",
          "Violence against<br>the person"
         ],
         "parents": [
          "All other<br>offences",
          "All other<br>offences",
          "All other<br>offences",
          "All other<br>offences",
          "All other<br>offences",
          "All other<br>offences",
          "All other<br>offences",
          "All other<br>offences",
          "All other<br>offences",
          "All offences",
          "All offences",
          "All offences",
          "All offences"
         ],
         "rotation": -60,
         "sort": false,
         "texttemplate": "%{label} <b>%{percentRoot: .0%}</b>",
         "type": "sunburst",
         "values": [
          0,
          0.012,
          0.012,
          0.012,
          0.023,
          0.023,
          0.035,
          0.081,
          0.128,
          0.326,
          0.349,
          0.174,
          0.151
         ]
        }
       ],
       "layout": {
        "annotations": [
         {
          "align": "left",
          "font": {
           "size": 12
          },
          "showarrow": false,
          "text": "Source: Ministry of Justice, Criminal justice statistics",
          "x": -0.08,
          "xref": "paper",
          "y": -0.19,
          "yref": "paper"
         }
        ],
        "height": 800,
        "margin": {
         "b": 0,
         "l": 0,
         "r": 0,
         "t": 75
        },
        "template": {
         "layout": {
          "colorway": [
           "#A01D28",
           "#499CC9",
           "#F9A237",
           "#6FBA3A",
           "#573D6B"
          ],
          "font": {
           "color": "#54565B",
           "family": "Helvetica Neue, Arial",
           "size": 12
          },
          "modebar": {
           "activecolor": "#A01D28"
          },
          "paper_bgcolor": "#F7F2F2",
          "plot_bgcolor": "#F7F2F2",
          "showlegend": false,
          "title": {
           "font": {
            "family": "Helvetica Neue, Arial",
            "size": 17
           },
           "y": 0.94,
           "yanchor": "bottom"
          },
          "xaxis": {
           "showgrid": false,
           "tickcolor": "#54565B"
          }
         }
        },
        "title": {
         "text": "<b>Imprisonment of women in North Wales by offence group in 2022</b>",
         "y": 0.94,
         "yanchor": "bottom"
        },
        "uniformtext": {
         "minsize": 8,
         "mode": "hide"
        },
        "width": 800
       }
      }
     },
     "metadata": {},
     "output_type": "display_data"
    },
    {
     "data": {
      "application/vnd.plotly.v1+json": {
       "config": {
        "plotlyServerURL": "https://plot.ly"
       },
       "data": [
        {
         "branchvalues": "total",
         "hoverinfo": "label+percent parent",
         "hovertemplate": "<b>%{label}</b><br>%{percentParent: .0%} of %{parent}<extra></extra>",
         "insidetextorientation": "radial",
         "labels": [
          "Criminal damage and<br>arson",
          "Fraud offences",
          "Possession of<br>weapons",
          "Robbery",
          "Sexual offences",
          "Summary motoring",
          "Public order<br>offences",
          "Summary non-<br>motoring",
          "Miscellaneous<br>crimes against<br>society",
          "All other<br>offences",
          "Theft offences",
          "Drug offences",
          "Violence against<br>the person"
         ],
         "parents": [
          "All other<br>offences",
          "All other<br>offences",
          "All other<br>offences",
          "All other<br>offences",
          "All other<br>offences",
          "All other<br>offences",
          "All other<br>offences",
          "All other<br>offences",
          "All other<br>offences",
          "All offences",
          "All offences",
          "All offences",
          "All offences"
         ],
         "rotation": -60,
         "sort": false,
         "texttemplate": "%{label} <b>%{percentRoot: .0%}</b>",
         "type": "sunburst",
         "values": [
          0,
          0,
          0,
          0,
          0.019,
          0.019,
          0.058,
          0.115,
          0.192,
          0.403,
          0.308,
          0.096,
          0.192
         ]
        }
       ],
       "layout": {
        "annotations": [
         {
          "align": "left",
          "font": {
           "size": 12
          },
          "showarrow": false,
          "text": "Source: Ministry of Justice, Criminal justice statistics",
          "x": -0.08,
          "xref": "paper",
          "y": -0.19,
          "yref": "paper"
         }
        ],
        "height": 800,
        "margin": {
         "b": 0,
         "l": 0,
         "r": 0,
         "t": 75
        },
        "template": {
         "layout": {
          "colorway": [
           "#A01D28",
           "#499CC9",
           "#F9A237",
           "#6FBA3A",
           "#573D6B"
          ],
          "font": {
           "color": "#54565B",
           "family": "Helvetica Neue, Arial",
           "size": 12
          },
          "modebar": {
           "activecolor": "#A01D28"
          },
          "paper_bgcolor": "#F7F2F2",
          "plot_bgcolor": "#F7F2F2",
          "showlegend": false,
          "title": {
           "font": {
            "family": "Helvetica Neue, Arial",
            "size": 17
           },
           "y": 0.94,
           "yanchor": "bottom"
          },
          "xaxis": {
           "showgrid": false,
           "tickcolor": "#54565B"
          }
         }
        },
        "title": {
         "text": "<b>Imprisonment of women in North Yorkshire by offence group in 2022</b>",
         "y": 0.94,
         "yanchor": "bottom"
        },
        "uniformtext": {
         "minsize": 8,
         "mode": "hide"
        },
        "width": 800
       }
      }
     },
     "metadata": {},
     "output_type": "display_data"
    },
    {
     "data": {
      "application/vnd.plotly.v1+json": {
       "config": {
        "plotlyServerURL": "https://plot.ly"
       },
       "data": [
        {
         "branchvalues": "total",
         "hoverinfo": "label+percent parent",
         "hovertemplate": "<b>%{label}</b><br>%{percentParent: .0%} of %{parent}<extra></extra>",
         "insidetextorientation": "radial",
         "labels": [
          "Criminal damage and<br>arson",
          "Sexual offences",
          "Summary motoring",
          "Public order<br>offences",
          "Miscellaneous<br>crimes against<br>society",
          "Possession of<br>weapons",
          "Robbery",
          "Fraud offences",
          "Summary non-<br>motoring",
          "All other<br>offences",
          "Theft offences",
          "Drug offences",
          "Violence against<br>the person"
         ],
         "parents": [
          "All other<br>offences",
          "All other<br>offences",
          "All other<br>offences",
          "All other<br>offences",
          "All other<br>offences",
          "All other<br>offences",
          "All other<br>offences",
          "All other<br>offences",
          "All other<br>offences",
          "All offences",
          "All offences",
          "All offences",
          "All offences"
         ],
         "rotation": -60,
         "sort": false,
         "texttemplate": "%{label} <b>%{percentRoot: .0%}</b>",
         "type": "sunburst",
         "values": [
          0,
          0,
          0,
          0.021,
          0.042,
          0.042,
          0.042,
          0.062,
          0.104,
          0.313,
          0.333,
          0.146,
          0.208
         ]
        }
       ],
       "layout": {
        "annotations": [
         {
          "align": "left",
          "font": {
           "size": 12
          },
          "showarrow": false,
          "text": "Source: Ministry of Justice, Criminal justice statistics",
          "x": -0.08,
          "xref": "paper",
          "y": -0.19,
          "yref": "paper"
         }
        ],
        "height": 800,
        "margin": {
         "b": 0,
         "l": 0,
         "r": 0,
         "t": 75
        },
        "template": {
         "layout": {
          "colorway": [
           "#A01D28",
           "#499CC9",
           "#F9A237",
           "#6FBA3A",
           "#573D6B"
          ],
          "font": {
           "color": "#54565B",
           "family": "Helvetica Neue, Arial",
           "size": 12
          },
          "modebar": {
           "activecolor": "#A01D28"
          },
          "paper_bgcolor": "#F7F2F2",
          "plot_bgcolor": "#F7F2F2",
          "showlegend": false,
          "title": {
           "font": {
            "family": "Helvetica Neue, Arial",
            "size": 17
           },
           "y": 0.94,
           "yanchor": "bottom"
          },
          "xaxis": {
           "showgrid": false,
           "tickcolor": "#54565B"
          }
         }
        },
        "title": {
         "text": "<b>Imprisonment of women in Northamptonshire by offence group in 2022</b>",
         "y": 0.94,
         "yanchor": "bottom"
        },
        "uniformtext": {
         "minsize": 8,
         "mode": "hide"
        },
        "width": 800
       }
      }
     },
     "metadata": {},
     "output_type": "display_data"
    },
    {
     "data": {
      "application/vnd.plotly.v1+json": {
       "config": {
        "plotlyServerURL": "https://plot.ly"
       },
       "data": [
        {
         "branchvalues": "total",
         "hoverinfo": "label+percent parent",
         "hovertemplate": "<b>%{label}</b><br>%{percentParent: .0%} of %{parent}<extra></extra>",
         "insidetextorientation": "radial",
         "labels": [
          "Summary motoring",
          "Criminal damage and<br>arson",
          "Sexual offences",
          "Public order<br>offences",
          "Fraud offences",
          "Robbery",
          "Summary non-<br>motoring",
          "Possession of<br>weapons",
          "Miscellaneous<br>crimes against<br>society",
          "All other<br>offences",
          "Theft offences",
          "Drug offences",
          "Violence against<br>the person"
         ],
         "parents": [
          "All other<br>offences",
          "All other<br>offences",
          "All other<br>offences",
          "All other<br>offences",
          "All other<br>offences",
          "All other<br>offences",
          "All other<br>offences",
          "All other<br>offences",
          "All other<br>offences",
          "All offences",
          "All offences",
          "All offences",
          "All offences"
         ],
         "rotation": -60,
         "sort": false,
         "texttemplate": "%{label} <b>%{percentRoot: .0%}</b>",
         "type": "sunburst",
         "values": [
          0.009,
          0.018,
          0.018,
          0.026,
          0.035,
          0.035,
          0.079,
          0.096,
          0.105,
          0.421,
          0.281,
          0.088,
          0.211
         ]
        }
       ],
       "layout": {
        "annotations": [
         {
          "align": "left",
          "font": {
           "size": 12
          },
          "showarrow": false,
          "text": "Source: Ministry of Justice, Criminal justice statistics",
          "x": -0.08,
          "xref": "paper",
          "y": -0.19,
          "yref": "paper"
         }
        ],
        "height": 800,
        "margin": {
         "b": 0,
         "l": 0,
         "r": 0,
         "t": 75
        },
        "template": {
         "layout": {
          "colorway": [
           "#A01D28",
           "#499CC9",
           "#F9A237",
           "#6FBA3A",
           "#573D6B"
          ],
          "font": {
           "color": "#54565B",
           "family": "Helvetica Neue, Arial",
           "size": 12
          },
          "modebar": {
           "activecolor": "#A01D28"
          },
          "paper_bgcolor": "#F7F2F2",
          "plot_bgcolor": "#F7F2F2",
          "showlegend": false,
          "title": {
           "font": {
            "family": "Helvetica Neue, Arial",
            "size": 17
           },
           "y": 0.94,
           "yanchor": "bottom"
          },
          "xaxis": {
           "showgrid": false,
           "tickcolor": "#54565B"
          }
         }
        },
        "title": {
         "text": "<b>Imprisonment of women in Northumbria by offence group in 2022</b>",
         "y": 0.94,
         "yanchor": "bottom"
        },
        "uniformtext": {
         "minsize": 8,
         "mode": "hide"
        },
        "width": 800
       }
      }
     },
     "metadata": {},
     "output_type": "display_data"
    },
    {
     "data": {
      "application/vnd.plotly.v1+json": {
       "config": {
        "plotlyServerURL": "https://plot.ly"
       },
       "data": [
        {
         "branchvalues": "total",
         "hoverinfo": "label+percent parent",
         "hovertemplate": "<b>%{label}</b><br>%{percentParent: .0%} of %{parent}<extra></extra>",
         "insidetextorientation": "radial",
         "labels": [
          "Criminal damage and<br>arson",
          "Summary motoring",
          "Robbery",
          "Sexual offences",
          "Possession of<br>weapons",
          "Public order<br>offences",
          "Fraud offences",
          "Miscellaneous<br>crimes against<br>society",
          "Summary non-<br>motoring",
          "All other<br>offences",
          "Theft offences",
          "Drug offences",
          "Violence against<br>the person"
         ],
         "parents": [
          "All other<br>offences",
          "All other<br>offences",
          "All other<br>offences",
          "All other<br>offences",
          "All other<br>offences",
          "All other<br>offences",
          "All other<br>offences",
          "All other<br>offences",
          "All other<br>offences",
          "All offences",
          "All offences",
          "All offences",
          "All offences"
         ],
         "rotation": -60,
         "sort": false,
         "texttemplate": "%{label} <b>%{percentRoot: .0%}</b>",
         "type": "sunburst",
         "values": [
          0,
          0.008,
          0.023,
          0.023,
          0.03,
          0.03,
          0.038,
          0.045,
          0.068,
          0.265,
          0.53,
          0.083,
          0.121
         ]
        }
       ],
       "layout": {
        "annotations": [
         {
          "align": "left",
          "font": {
           "size": 12
          },
          "showarrow": false,
          "text": "Source: Ministry of Justice, Criminal justice statistics",
          "x": -0.08,
          "xref": "paper",
          "y": -0.19,
          "yref": "paper"
         }
        ],
        "height": 800,
        "margin": {
         "b": 0,
         "l": 0,
         "r": 0,
         "t": 75
        },
        "template": {
         "layout": {
          "colorway": [
           "#A01D28",
           "#499CC9",
           "#F9A237",
           "#6FBA3A",
           "#573D6B"
          ],
          "font": {
           "color": "#54565B",
           "family": "Helvetica Neue, Arial",
           "size": 12
          },
          "modebar": {
           "activecolor": "#A01D28"
          },
          "paper_bgcolor": "#F7F2F2",
          "plot_bgcolor": "#F7F2F2",
          "showlegend": false,
          "title": {
           "font": {
            "family": "Helvetica Neue, Arial",
            "size": 17
           },
           "y": 0.94,
           "yanchor": "bottom"
          },
          "xaxis": {
           "showgrid": false,
           "tickcolor": "#54565B"
          }
         }
        },
        "title": {
         "text": "<b>Imprisonment of women in Nottinghamshire by offence group in 2022</b>",
         "y": 0.94,
         "yanchor": "bottom"
        },
        "uniformtext": {
         "minsize": 8,
         "mode": "hide"
        },
        "width": 800
       }
      }
     },
     "metadata": {},
     "output_type": "display_data"
    },
    {
     "data": {
      "application/vnd.plotly.v1+json": {
       "config": {
        "plotlyServerURL": "https://plot.ly"
       },
       "data": [
        {
         "branchvalues": "total",
         "hoverinfo": "label+percent parent",
         "hovertemplate": "<b>%{label}</b><br>%{percentParent: .0%} of %{parent}<extra></extra>",
         "insidetextorientation": "radial",
         "labels": [
          "Criminal damage and<br>arson",
          "Sexual offences",
          "Summary motoring",
          "Fraud offences",
          "Possession of<br>weapons",
          "Robbery",
          "Public order<br>offences",
          "Miscellaneous<br>crimes against<br>society",
          "Summary non-<br>motoring",
          "All other<br>offences",
          "Theft offences",
          "Drug offences",
          "Violence against<br>the person"
         ],
         "parents": [
          "All other<br>offences",
          "All other<br>offences",
          "All other<br>offences",
          "All other<br>offences",
          "All other<br>offences",
          "All other<br>offences",
          "All other<br>offences",
          "All other<br>offences",
          "All other<br>offences",
          "All offences",
          "All offences",
          "All offences",
          "All offences"
         ],
         "rotation": -60,
         "sort": false,
         "texttemplate": "%{label} <b>%{percentRoot: .0%}</b>",
         "type": "sunburst",
         "values": [
          0.006,
          0.012,
          0.024,
          0.03,
          0.03,
          0.036,
          0.048,
          0.061,
          0.085,
          0.332,
          0.291,
          0.158,
          0.218
         ]
        }
       ],
       "layout": {
        "annotations": [
         {
          "align": "left",
          "font": {
           "size": 12
          },
          "showarrow": false,
          "text": "Source: Ministry of Justice, Criminal justice statistics",
          "x": -0.08,
          "xref": "paper",
          "y": -0.19,
          "yref": "paper"
         }
        ],
        "height": 800,
        "margin": {
         "b": 0,
         "l": 0,
         "r": 0,
         "t": 75
        },
        "template": {
         "layout": {
          "colorway": [
           "#A01D28",
           "#499CC9",
           "#F9A237",
           "#6FBA3A",
           "#573D6B"
          ],
          "font": {
           "color": "#54565B",
           "family": "Helvetica Neue, Arial",
           "size": 12
          },
          "modebar": {
           "activecolor": "#A01D28"
          },
          "paper_bgcolor": "#F7F2F2",
          "plot_bgcolor": "#F7F2F2",
          "showlegend": false,
          "title": {
           "font": {
            "family": "Helvetica Neue, Arial",
            "size": 17
           },
           "y": 0.94,
           "yanchor": "bottom"
          },
          "xaxis": {
           "showgrid": false,
           "tickcolor": "#54565B"
          }
         }
        },
        "title": {
         "text": "<b>Imprisonment of women in South Wales by offence group in 2022</b>",
         "y": 0.94,
         "yanchor": "bottom"
        },
        "uniformtext": {
         "minsize": 8,
         "mode": "hide"
        },
        "width": 800
       }
      }
     },
     "metadata": {},
     "output_type": "display_data"
    },
    {
     "data": {
      "application/vnd.plotly.v1+json": {
       "config": {
        "plotlyServerURL": "https://plot.ly"
       },
       "data": [
        {
         "branchvalues": "total",
         "hoverinfo": "label+percent parent",
         "hovertemplate": "<b>%{label}</b><br>%{percentParent: .0%} of %{parent}<extra></extra>",
         "insidetextorientation": "radial",
         "labels": [
          "Public order<br>offences",
          "Sexual offences",
          "Summary motoring",
          "Criminal damage and<br>arson",
          "Robbery",
          "Fraud offences",
          "Possession of<br>weapons",
          "Miscellaneous<br>crimes against<br>society",
          "Summary non-<br>motoring",
          "All other<br>offences",
          "Theft offences",
          "Drug offences",
          "Violence against<br>the person"
         ],
         "parents": [
          "All other<br>offences",
          "All other<br>offences",
          "All other<br>offences",
          "All other<br>offences",
          "All other<br>offences",
          "All other<br>offences",
          "All other<br>offences",
          "All other<br>offences",
          "All other<br>offences",
          "All offences",
          "All offences",
          "All offences",
          "All offences"
         ],
         "rotation": -60,
         "sort": false,
         "texttemplate": "%{label} <b>%{percentRoot: .0%}</b>",
         "type": "sunburst",
         "values": [
          0.009,
          0.019,
          0.019,
          0.037,
          0.037,
          0.047,
          0.047,
          0.065,
          0.065,
          0.34500000000000003,
          0.355,
          0.084,
          0.215
         ]
        }
       ],
       "layout": {
        "annotations": [
         {
          "align": "left",
          "font": {
           "size": 12
          },
          "showarrow": false,
          "text": "Source: Ministry of Justice, Criminal justice statistics",
          "x": -0.08,
          "xref": "paper",
          "y": -0.19,
          "yref": "paper"
         }
        ],
        "height": 800,
        "margin": {
         "b": 0,
         "l": 0,
         "r": 0,
         "t": 75
        },
        "template": {
         "layout": {
          "colorway": [
           "#A01D28",
           "#499CC9",
           "#F9A237",
           "#6FBA3A",
           "#573D6B"
          ],
          "font": {
           "color": "#54565B",
           "family": "Helvetica Neue, Arial",
           "size": 12
          },
          "modebar": {
           "activecolor": "#A01D28"
          },
          "paper_bgcolor": "#F7F2F2",
          "plot_bgcolor": "#F7F2F2",
          "showlegend": false,
          "title": {
           "font": {
            "family": "Helvetica Neue, Arial",
            "size": 17
           },
           "y": 0.94,
           "yanchor": "bottom"
          },
          "xaxis": {
           "showgrid": false,
           "tickcolor": "#54565B"
          }
         }
        },
        "title": {
         "text": "<b>Imprisonment of women in South Yorkshire by offence group in 2022</b>",
         "y": 0.94,
         "yanchor": "bottom"
        },
        "uniformtext": {
         "minsize": 8,
         "mode": "hide"
        },
        "width": 800
       }
      }
     },
     "metadata": {},
     "output_type": "display_data"
    },
    {
     "data": {
      "application/vnd.plotly.v1+json": {
       "config": {
        "plotlyServerURL": "https://plot.ly"
       },
       "data": [
        {
         "branchvalues": "total",
         "hoverinfo": "label+percent parent",
         "hovertemplate": "<b>%{label}</b><br>%{percentParent: .0%} of %{parent}<extra></extra>",
         "insidetextorientation": "radial",
         "labels": [
          "Sexual offences",
          "Criminal damage and<br>arson",
          "Robbery",
          "Public order<br>offences",
          "Possession of<br>weapons",
          "Summary motoring",
          "Fraud offences",
          "Miscellaneous<br>crimes against<br>society",
          "Summary non-<br>motoring",
          "All other<br>offences",
          "Theft offences",
          "Drug offences",
          "Violence against<br>the person"
         ],
         "parents": [
          "All other<br>offences",
          "All other<br>offences",
          "All other<br>offences",
          "All other<br>offences",
          "All other<br>offences",
          "All other<br>offences",
          "All other<br>offences",
          "All other<br>offences",
          "All other<br>offences",
          "All offences",
          "All offences",
          "All offences",
          "All offences"
         ],
         "rotation": -60,
         "sort": false,
         "texttemplate": "%{label} <b>%{percentRoot: .0%}</b>",
         "type": "sunburst",
         "values": [
          0,
          0.013,
          0.026,
          0.038,
          0.051,
          0.064,
          0.077,
          0.103,
          0.154,
          0.526,
          0.154,
          0.128,
          0.192
         ]
        }
       ],
       "layout": {
        "annotations": [
         {
          "align": "left",
          "font": {
           "size": 12
          },
          "showarrow": false,
          "text": "Source: Ministry of Justice, Criminal justice statistics",
          "x": -0.08,
          "xref": "paper",
          "y": -0.19,
          "yref": "paper"
         }
        ],
        "height": 800,
        "margin": {
         "b": 0,
         "l": 0,
         "r": 0,
         "t": 75
        },
        "template": {
         "layout": {
          "colorway": [
           "#A01D28",
           "#499CC9",
           "#F9A237",
           "#6FBA3A",
           "#573D6B"
          ],
          "font": {
           "color": "#54565B",
           "family": "Helvetica Neue, Arial",
           "size": 12
          },
          "modebar": {
           "activecolor": "#A01D28"
          },
          "paper_bgcolor": "#F7F2F2",
          "plot_bgcolor": "#F7F2F2",
          "showlegend": false,
          "title": {
           "font": {
            "family": "Helvetica Neue, Arial",
            "size": 17
           },
           "y": 0.94,
           "yanchor": "bottom"
          },
          "xaxis": {
           "showgrid": false,
           "tickcolor": "#54565B"
          }
         }
        },
        "title": {
         "text": "<b>Imprisonment of women in Staffordshire by offence group in 2022</b>",
         "y": 0.94,
         "yanchor": "bottom"
        },
        "uniformtext": {
         "minsize": 8,
         "mode": "hide"
        },
        "width": 800
       }
      }
     },
     "metadata": {},
     "output_type": "display_data"
    },
    {
     "data": {
      "application/vnd.plotly.v1+json": {
       "config": {
        "plotlyServerURL": "https://plot.ly"
       },
       "data": [
        {
         "branchvalues": "total",
         "hoverinfo": "label+percent parent",
         "hovertemplate": "<b>%{label}</b><br>%{percentParent: .0%} of %{parent}<extra></extra>",
         "insidetextorientation": "radial",
         "labels": [
          "Criminal damage and<br>arson",
          "Fraud offences",
          "Summary motoring",
          "Robbery",
          "Sexual offences",
          "Miscellaneous<br>crimes against<br>society",
          "Possession of<br>weapons",
          "Public order<br>offences",
          "Summary non-<br>motoring",
          "All other<br>offences",
          "Theft offences",
          "Drug offences",
          "Violence against<br>the person"
         ],
         "parents": [
          "All other<br>offences",
          "All other<br>offences",
          "All other<br>offences",
          "All other<br>offences",
          "All other<br>offences",
          "All other<br>offences",
          "All other<br>offences",
          "All other<br>offences",
          "All other<br>offences",
          "All offences",
          "All offences",
          "All offences",
          "All offences"
         ],
         "rotation": -60,
         "sort": false,
         "texttemplate": "%{label} <b>%{percentRoot: .0%}</b>",
         "type": "sunburst",
         "values": [
          0,
          0,
          0,
          0.028,
          0.028,
          0.056,
          0.056,
          0.056,
          0.083,
          0.307,
          0.444,
          0.139,
          0.111
         ]
        }
       ],
       "layout": {
        "annotations": [
         {
          "align": "left",
          "font": {
           "size": 12
          },
          "showarrow": false,
          "text": "Source: Ministry of Justice, Criminal justice statistics",
          "x": -0.08,
          "xref": "paper",
          "y": -0.19,
          "yref": "paper"
         }
        ],
        "height": 800,
        "margin": {
         "b": 0,
         "l": 0,
         "r": 0,
         "t": 75
        },
        "template": {
         "layout": {
          "colorway": [
           "#A01D28",
           "#499CC9",
           "#F9A237",
           "#6FBA3A",
           "#573D6B"
          ],
          "font": {
           "color": "#54565B",
           "family": "Helvetica Neue, Arial",
           "size": 12
          },
          "modebar": {
           "activecolor": "#A01D28"
          },
          "paper_bgcolor": "#F7F2F2",
          "plot_bgcolor": "#F7F2F2",
          "showlegend": false,
          "title": {
           "font": {
            "family": "Helvetica Neue, Arial",
            "size": 17
           },
           "y": 0.94,
           "yanchor": "bottom"
          },
          "xaxis": {
           "showgrid": false,
           "tickcolor": "#54565B"
          }
         }
        },
        "title": {
         "text": "<b>Imprisonment of women in Suffolk by offence group in 2022</b>",
         "y": 0.94,
         "yanchor": "bottom"
        },
        "uniformtext": {
         "minsize": 8,
         "mode": "hide"
        },
        "width": 800
       }
      }
     },
     "metadata": {},
     "output_type": "display_data"
    },
    {
     "data": {
      "application/vnd.plotly.v1+json": {
       "config": {
        "plotlyServerURL": "https://plot.ly"
       },
       "data": [
        {
         "branchvalues": "total",
         "hoverinfo": "label+percent parent",
         "hovertemplate": "<b>%{label}</b><br>%{percentParent: .0%} of %{parent}<extra></extra>",
         "insidetextorientation": "radial",
         "labels": [
          "Criminal damage and<br>arson",
          "Fraud offences",
          "Possession of<br>weapons",
          "Public order<br>offences",
          "Robbery",
          "Sexual offences",
          "Summary motoring",
          "Summary non-<br>motoring",
          "Miscellaneous<br>crimes against<br>society",
          "All other<br>offences",
          "Theft offences",
          "Drug offences",
          "Violence against<br>the person"
         ],
         "parents": [
          "All other<br>offences",
          "All other<br>offences",
          "All other<br>offences",
          "All other<br>offences",
          "All other<br>offences",
          "All other<br>offences",
          "All other<br>offences",
          "All other<br>offences",
          "All other<br>offences",
          "All offences",
          "All offences",
          "All offences",
          "All offences"
         ],
         "rotation": -60,
         "sort": false,
         "texttemplate": "%{label} <b>%{percentRoot: .0%}</b>",
         "type": "sunburst",
         "values": [
          0,
          0,
          0,
          0,
          0,
          0,
          0,
          0.053,
          0.316,
          0.369,
          0.316,
          0.053,
          0.263
         ]
        }
       ],
       "layout": {
        "annotations": [
         {
          "align": "left",
          "font": {
           "size": 12
          },
          "showarrow": false,
          "text": "Source: Ministry of Justice, Criminal justice statistics",
          "x": -0.08,
          "xref": "paper",
          "y": -0.19,
          "yref": "paper"
         }
        ],
        "height": 800,
        "margin": {
         "b": 0,
         "l": 0,
         "r": 0,
         "t": 75
        },
        "template": {
         "layout": {
          "colorway": [
           "#A01D28",
           "#499CC9",
           "#F9A237",
           "#6FBA3A",
           "#573D6B"
          ],
          "font": {
           "color": "#54565B",
           "family": "Helvetica Neue, Arial",
           "size": 12
          },
          "modebar": {
           "activecolor": "#A01D28"
          },
          "paper_bgcolor": "#F7F2F2",
          "plot_bgcolor": "#F7F2F2",
          "showlegend": false,
          "title": {
           "font": {
            "family": "Helvetica Neue, Arial",
            "size": 17
           },
           "y": 0.94,
           "yanchor": "bottom"
          },
          "xaxis": {
           "showgrid": false,
           "tickcolor": "#54565B"
          }
         }
        },
        "title": {
         "text": "<b>Imprisonment of women in Surrey by offence group in 2022</b>",
         "y": 0.94,
         "yanchor": "bottom"
        },
        "uniformtext": {
         "minsize": 8,
         "mode": "hide"
        },
        "width": 800
       }
      }
     },
     "metadata": {},
     "output_type": "display_data"
    },
    {
     "data": {
      "application/vnd.plotly.v1+json": {
       "config": {
        "plotlyServerURL": "https://plot.ly"
       },
       "data": [
        {
         "branchvalues": "total",
         "hoverinfo": "label+percent parent",
         "hovertemplate": "<b>%{label}</b><br>%{percentParent: .0%} of %{parent}<extra></extra>",
         "insidetextorientation": "radial",
         "labels": [
          "Miscellaneous<br>crimes against<br>society",
          "Criminal damage and<br>arson",
          "Fraud offences",
          "Public order<br>offences",
          "Sexual offences",
          "Possession of<br>weapons",
          "Robbery",
          "Summary motoring",
          "Summary non-<br>motoring",
          "All other<br>offences",
          "Theft offences",
          "Drug offences",
          "Violence against<br>the person"
         ],
         "parents": [
          "All other<br>offences",
          "All other<br>offences",
          "All other<br>offences",
          "All other<br>offences",
          "All other<br>offences",
          "All other<br>offences",
          "All other<br>offences",
          "All other<br>offences",
          "All other<br>offences",
          "All offences",
          "All offences",
          "All offences",
          "All offences"
         ],
         "rotation": -60,
         "sort": false,
         "texttemplate": "%{label} <b>%{percentRoot: .0%}</b>",
         "type": "sunburst",
         "values": [
          0,
          0.016,
          0.016,
          0.016,
          0.016,
          0.032,
          0.032,
          0.048,
          0.065,
          0.241,
          0.339,
          0.194,
          0.226
         ]
        }
       ],
       "layout": {
        "annotations": [
         {
          "align": "left",
          "font": {
           "size": 12
          },
          "showarrow": false,
          "text": "Source: Ministry of Justice, Criminal justice statistics",
          "x": -0.08,
          "xref": "paper",
          "y": -0.19,
          "yref": "paper"
         }
        ],
        "height": 800,
        "margin": {
         "b": 0,
         "l": 0,
         "r": 0,
         "t": 75
        },
        "template": {
         "layout": {
          "colorway": [
           "#A01D28",
           "#499CC9",
           "#F9A237",
           "#6FBA3A",
           "#573D6B"
          ],
          "font": {
           "color": "#54565B",
           "family": "Helvetica Neue, Arial",
           "size": 12
          },
          "modebar": {
           "activecolor": "#A01D28"
          },
          "paper_bgcolor": "#F7F2F2",
          "plot_bgcolor": "#F7F2F2",
          "showlegend": false,
          "title": {
           "font": {
            "family": "Helvetica Neue, Arial",
            "size": 17
           },
           "y": 0.94,
           "yanchor": "bottom"
          },
          "xaxis": {
           "showgrid": false,
           "tickcolor": "#54565B"
          }
         }
        },
        "title": {
         "text": "<b>Imprisonment of women in Sussex by offence group in 2022</b>",
         "y": 0.94,
         "yanchor": "bottom"
        },
        "uniformtext": {
         "minsize": 8,
         "mode": "hide"
        },
        "width": 800
       }
      }
     },
     "metadata": {},
     "output_type": "display_data"
    },
    {
     "data": {
      "application/vnd.plotly.v1+json": {
       "config": {
        "plotlyServerURL": "https://plot.ly"
       },
       "data": [
        {
         "branchvalues": "total",
         "hoverinfo": "label+percent parent",
         "hovertemplate": "<b>%{label}</b><br>%{percentParent: .0%} of %{parent}<extra></extra>",
         "insidetextorientation": "radial",
         "labels": [
          "Criminal damage and<br>arson",
          "Sexual offences",
          "Summary motoring",
          "Possession of<br>weapons",
          "Fraud offences",
          "Miscellaneous<br>crimes against<br>society",
          "Robbery",
          "Public order<br>offences",
          "Summary non-<br>motoring",
          "All other<br>offences",
          "Theft offences",
          "Drug offences",
          "Violence against<br>the person"
         ],
         "parents": [
          "All other<br>offences",
          "All other<br>offences",
          "All other<br>offences",
          "All other<br>offences",
          "All other<br>offences",
          "All other<br>offences",
          "All other<br>offences",
          "All other<br>offences",
          "All other<br>offences",
          "All offences",
          "All offences",
          "All offences",
          "All offences"
         ],
         "rotation": -60,
         "sort": false,
         "texttemplate": "%{label} <b>%{percentRoot: .0%}</b>",
         "type": "sunburst",
         "values": [
          0.007,
          0.007,
          0.007,
          0.028,
          0.042,
          0.042,
          0.049,
          0.091,
          0.126,
          0.399,
          0.301,
          0.056,
          0.245
         ]
        }
       ],
       "layout": {
        "annotations": [
         {
          "align": "left",
          "font": {
           "size": 12
          },
          "showarrow": false,
          "text": "Source: Ministry of Justice, Criminal justice statistics",
          "x": -0.08,
          "xref": "paper",
          "y": -0.19,
          "yref": "paper"
         }
        ],
        "height": 800,
        "margin": {
         "b": 0,
         "l": 0,
         "r": 0,
         "t": 75
        },
        "template": {
         "layout": {
          "colorway": [
           "#A01D28",
           "#499CC9",
           "#F9A237",
           "#6FBA3A",
           "#573D6B"
          ],
          "font": {
           "color": "#54565B",
           "family": "Helvetica Neue, Arial",
           "size": 12
          },
          "modebar": {
           "activecolor": "#A01D28"
          },
          "paper_bgcolor": "#F7F2F2",
          "plot_bgcolor": "#F7F2F2",
          "showlegend": false,
          "title": {
           "font": {
            "family": "Helvetica Neue, Arial",
            "size": 17
           },
           "y": 0.94,
           "yanchor": "bottom"
          },
          "xaxis": {
           "showgrid": false,
           "tickcolor": "#54565B"
          }
         }
        },
        "title": {
         "text": "<b>Imprisonment of women in Thames Valley by offence group in 2022</b>",
         "y": 0.94,
         "yanchor": "bottom"
        },
        "uniformtext": {
         "minsize": 8,
         "mode": "hide"
        },
        "width": 800
       }
      }
     },
     "metadata": {},
     "output_type": "display_data"
    },
    {
     "data": {
      "application/vnd.plotly.v1+json": {
       "config": {
        "plotlyServerURL": "https://plot.ly"
       },
       "data": [
        {
         "branchvalues": "total",
         "hoverinfo": "label+percent parent",
         "hovertemplate": "<b>%{label}</b><br>%{percentParent: .0%} of %{parent}<extra></extra>",
         "insidetextorientation": "radial",
         "labels": [
          "Criminal damage and<br>arson",
          "Sexual offences",
          "Summary motoring",
          "Possession of<br>weapons",
          "Public order<br>offences",
          "Summary non-<br>motoring",
          "Miscellaneous<br>crimes against<br>society",
          "Robbery",
          "Fraud offences",
          "All other<br>offences",
          "Theft offences",
          "Drug offences",
          "Violence against<br>the person"
         ],
         "parents": [
          "All other<br>offences",
          "All other<br>offences",
          "All other<br>offences",
          "All other<br>offences",
          "All other<br>offences",
          "All other<br>offences",
          "All other<br>offences",
          "All other<br>offences",
          "All other<br>offences",
          "All offences",
          "All offences",
          "All offences",
          "All offences"
         ],
         "rotation": -60,
         "sort": false,
         "texttemplate": "%{label} <b>%{percentRoot: .0%}</b>",
         "type": "sunburst",
         "values": [
          0,
          0,
          0,
          0.024,
          0.024,
          0.049,
          0.073,
          0.073,
          0.171,
          0.414,
          0.195,
          0.171,
          0.22
         ]
        }
       ],
       "layout": {
        "annotations": [
         {
          "align": "left",
          "font": {
           "size": 12
          },
          "showarrow": false,
          "text": "Source: Ministry of Justice, Criminal justice statistics",
          "x": -0.08,
          "xref": "paper",
          "y": -0.19,
          "yref": "paper"
         }
        ],
        "height": 800,
        "margin": {
         "b": 0,
         "l": 0,
         "r": 0,
         "t": 75
        },
        "template": {
         "layout": {
          "colorway": [
           "#A01D28",
           "#499CC9",
           "#F9A237",
           "#6FBA3A",
           "#573D6B"
          ],
          "font": {
           "color": "#54565B",
           "family": "Helvetica Neue, Arial",
           "size": 12
          },
          "modebar": {
           "activecolor": "#A01D28"
          },
          "paper_bgcolor": "#F7F2F2",
          "plot_bgcolor": "#F7F2F2",
          "showlegend": false,
          "title": {
           "font": {
            "family": "Helvetica Neue, Arial",
            "size": 17
           },
           "y": 0.94,
           "yanchor": "bottom"
          },
          "xaxis": {
           "showgrid": false,
           "tickcolor": "#54565B"
          }
         }
        },
        "title": {
         "text": "<b>Imprisonment of women in Warwickshire by offence group in 2022</b>",
         "y": 0.94,
         "yanchor": "bottom"
        },
        "uniformtext": {
         "minsize": 8,
         "mode": "hide"
        },
        "width": 800
       }
      }
     },
     "metadata": {},
     "output_type": "display_data"
    },
    {
     "data": {
      "application/vnd.plotly.v1+json": {
       "config": {
        "plotlyServerURL": "https://plot.ly"
       },
       "data": [
        {
         "branchvalues": "total",
         "hoverinfo": "label+percent parent",
         "hovertemplate": "<b>%{label}</b><br>%{percentParent: .0%} of %{parent}<extra></extra>",
         "insidetextorientation": "radial",
         "labels": [
          "Criminal damage and<br>arson",
          "Possession of<br>weapons",
          "Robbery",
          "Miscellaneous<br>crimes against<br>society",
          "Summary motoring",
          "Summary non-<br>motoring",
          "Sexual offences",
          "Public order<br>offences",
          "Fraud offences",
          "All other<br>offences",
          "Theft offences",
          "Drug offences",
          "Violence against<br>the person"
         ],
         "parents": [
          "All other<br>offences",
          "All other<br>offences",
          "All other<br>offences",
          "All other<br>offences",
          "All other<br>offences",
          "All other<br>offences",
          "All other<br>offences",
          "All other<br>offences",
          "All other<br>offences",
          "All offences",
          "All offences",
          "All offences",
          "All offences"
         ],
         "rotation": -60,
         "sort": false,
         "texttemplate": "%{label} <b>%{percentRoot: .0%}</b>",
         "type": "sunburst",
         "values": [
          0,
          0,
          0,
          0.043,
          0.043,
          0.043,
          0.064,
          0.085,
          0.106,
          0.38399999999999995,
          0.298,
          0.064,
          0.255
         ]
        }
       ],
       "layout": {
        "annotations": [
         {
          "align": "left",
          "font": {
           "size": 12
          },
          "showarrow": false,
          "text": "Source: Ministry of Justice, Criminal justice statistics",
          "x": -0.08,
          "xref": "paper",
          "y": -0.19,
          "yref": "paper"
         }
        ],
        "height": 800,
        "margin": {
         "b": 0,
         "l": 0,
         "r": 0,
         "t": 75
        },
        "template": {
         "layout": {
          "colorway": [
           "#A01D28",
           "#499CC9",
           "#F9A237",
           "#6FBA3A",
           "#573D6B"
          ],
          "font": {
           "color": "#54565B",
           "family": "Helvetica Neue, Arial",
           "size": 12
          },
          "modebar": {
           "activecolor": "#A01D28"
          },
          "paper_bgcolor": "#F7F2F2",
          "plot_bgcolor": "#F7F2F2",
          "showlegend": false,
          "title": {
           "font": {
            "family": "Helvetica Neue, Arial",
            "size": 17
           },
           "y": 0.94,
           "yanchor": "bottom"
          },
          "xaxis": {
           "showgrid": false,
           "tickcolor": "#54565B"
          }
         }
        },
        "title": {
         "text": "<b>Imprisonment of women in West Mercia by offence group in 2022</b>",
         "y": 0.94,
         "yanchor": "bottom"
        },
        "uniformtext": {
         "minsize": 8,
         "mode": "hide"
        },
        "width": 800
       }
      }
     },
     "metadata": {},
     "output_type": "display_data"
    },
    {
     "data": {
      "application/vnd.plotly.v1+json": {
       "config": {
        "plotlyServerURL": "https://plot.ly"
       },
       "data": [
        {
         "branchvalues": "total",
         "hoverinfo": "label+percent parent",
         "hovertemplate": "<b>%{label}</b><br>%{percentParent: .0%} of %{parent}<extra></extra>",
         "insidetextorientation": "radial",
         "labels": [
          "Criminal damage and<br>arson",
          "Sexual offences",
          "Fraud offences",
          "Summary motoring",
          "Public order<br>offences",
          "Robbery",
          "Possession of<br>weapons",
          "Summary non-<br>motoring",
          "Miscellaneous<br>crimes against<br>society",
          "All other<br>offences",
          "Theft offences",
          "Drug offences",
          "Violence against<br>the person"
         ],
         "parents": [
          "All other<br>offences",
          "All other<br>offences",
          "All other<br>offences",
          "All other<br>offences",
          "All other<br>offences",
          "All other<br>offences",
          "All other<br>offences",
          "All other<br>offences",
          "All other<br>offences",
          "All offences",
          "All offences",
          "All offences",
          "All offences"
         ],
         "rotation": -60,
         "sort": false,
         "texttemplate": "%{label} <b>%{percentRoot: .0%}</b>",
         "type": "sunburst",
         "values": [
          0.005,
          0.005,
          0.019,
          0.023,
          0.032,
          0.032,
          0.037,
          0.056,
          0.065,
          0.274,
          0.468,
          0.028,
          0.231
         ]
        }
       ],
       "layout": {
        "annotations": [
         {
          "align": "left",
          "font": {
           "size": 12
          },
          "showarrow": false,
          "text": "Source: Ministry of Justice, Criminal justice statistics",
          "x": -0.08,
          "xref": "paper",
          "y": -0.19,
          "yref": "paper"
         }
        ],
        "height": 800,
        "margin": {
         "b": 0,
         "l": 0,
         "r": 0,
         "t": 75
        },
        "template": {
         "layout": {
          "colorway": [
           "#A01D28",
           "#499CC9",
           "#F9A237",
           "#6FBA3A",
           "#573D6B"
          ],
          "font": {
           "color": "#54565B",
           "family": "Helvetica Neue, Arial",
           "size": 12
          },
          "modebar": {
           "activecolor": "#A01D28"
          },
          "paper_bgcolor": "#F7F2F2",
          "plot_bgcolor": "#F7F2F2",
          "showlegend": false,
          "title": {
           "font": {
            "family": "Helvetica Neue, Arial",
            "size": 17
           },
           "y": 0.94,
           "yanchor": "bottom"
          },
          "xaxis": {
           "showgrid": false,
           "tickcolor": "#54565B"
          }
         }
        },
        "title": {
         "text": "<b>Imprisonment of women in West Midlands by offence group in 2022</b>",
         "y": 0.94,
         "yanchor": "bottom"
        },
        "uniformtext": {
         "minsize": 8,
         "mode": "hide"
        },
        "width": 800
       }
      }
     },
     "metadata": {},
     "output_type": "display_data"
    },
    {
     "data": {
      "application/vnd.plotly.v1+json": {
       "config": {
        "plotlyServerURL": "https://plot.ly"
       },
       "data": [
        {
         "branchvalues": "total",
         "hoverinfo": "label+percent parent",
         "hovertemplate": "<b>%{label}</b><br>%{percentParent: .0%} of %{parent}<extra></extra>",
         "insidetextorientation": "radial",
         "labels": [
          "Sexual offences",
          "Robbery",
          "Summary motoring",
          "Criminal damage and<br>arson",
          "Fraud offences",
          "Possession of<br>weapons",
          "Summary non-<br>motoring",
          "Miscellaneous<br>crimes against<br>society",
          "Public order<br>offences",
          "All other<br>offences",
          "Theft offences",
          "Drug offences",
          "Violence against<br>the person"
         ],
         "parents": [
          "All other<br>offences",
          "All other<br>offences",
          "All other<br>offences",
          "All other<br>offences",
          "All other<br>offences",
          "All other<br>offences",
          "All other<br>offences",
          "All other<br>offences",
          "All other<br>offences",
          "All offences",
          "All offences",
          "All offences",
          "All offences"
         ],
         "rotation": -60,
         "sort": false,
         "texttemplate": "%{label} <b>%{percentRoot: .0%}</b>",
         "type": "sunburst",
         "values": [
          0,
          0.012,
          0.012,
          0.02,
          0.036,
          0.052,
          0.096,
          0.104,
          0.104,
          0.43599999999999994,
          0.315,
          0.056,
          0.195
         ]
        }
       ],
       "layout": {
        "annotations": [
         {
          "align": "left",
          "font": {
           "size": 12
          },
          "showarrow": false,
          "text": "Source: Ministry of Justice, Criminal justice statistics",
          "x": -0.08,
          "xref": "paper",
          "y": -0.19,
          "yref": "paper"
         }
        ],
        "height": 800,
        "margin": {
         "b": 0,
         "l": 0,
         "r": 0,
         "t": 75
        },
        "template": {
         "layout": {
          "colorway": [
           "#A01D28",
           "#499CC9",
           "#F9A237",
           "#6FBA3A",
           "#573D6B"
          ],
          "font": {
           "color": "#54565B",
           "family": "Helvetica Neue, Arial",
           "size": 12
          },
          "modebar": {
           "activecolor": "#A01D28"
          },
          "paper_bgcolor": "#F7F2F2",
          "plot_bgcolor": "#F7F2F2",
          "showlegend": false,
          "title": {
           "font": {
            "family": "Helvetica Neue, Arial",
            "size": 17
           },
           "y": 0.94,
           "yanchor": "bottom"
          },
          "xaxis": {
           "showgrid": false,
           "tickcolor": "#54565B"
          }
         }
        },
        "title": {
         "text": "<b>Imprisonment of women in West Yorkshire by offence group in 2022</b>",
         "y": 0.94,
         "yanchor": "bottom"
        },
        "uniformtext": {
         "minsize": 8,
         "mode": "hide"
        },
        "width": 800
       }
      }
     },
     "metadata": {},
     "output_type": "display_data"
    },
    {
     "data": {
      "application/vnd.plotly.v1+json": {
       "config": {
        "plotlyServerURL": "https://plot.ly"
       },
       "data": [
        {
         "branchvalues": "total",
         "hoverinfo": "label+percent parent",
         "hovertemplate": "<b>%{label}</b><br>%{percentParent: .0%} of %{parent}<extra></extra>",
         "insidetextorientation": "radial",
         "labels": [
          "Criminal damage and<br>arson",
          "Fraud offences",
          "Robbery",
          "Possession of<br>weapons",
          "Public order<br>offences",
          "Sexual offences",
          "Summary motoring",
          "Miscellaneous<br>crimes against<br>society",
          "Summary non-<br>motoring",
          "All other<br>offences",
          "Theft offences",
          "Drug offences",
          "Violence against<br>the person"
         ],
         "parents": [
          "All other<br>offences",
          "All other<br>offences",
          "All other<br>offences",
          "All other<br>offences",
          "All other<br>offences",
          "All other<br>offences",
          "All other<br>offences",
          "All other<br>offences",
          "All other<br>offences",
          "All offences",
          "All offences",
          "All offences",
          "All offences"
         ],
         "rotation": -60,
         "sort": false,
         "texttemplate": "%{label} <b>%{percentRoot: .0%}</b>",
         "type": "sunburst",
         "values": [
          0,
          0,
          0,
          0.033,
          0.033,
          0.033,
          0.033,
          0.1,
          0.133,
          0.365,
          0.333,
          0.167,
          0.133
         ]
        }
       ],
       "layout": {
        "annotations": [
         {
          "align": "left",
          "font": {
           "size": 12
          },
          "showarrow": false,
          "text": "Source: Ministry of Justice, Criminal justice statistics",
          "x": -0.08,
          "xref": "paper",
          "y": -0.19,
          "yref": "paper"
         }
        ],
        "height": 800,
        "margin": {
         "b": 0,
         "l": 0,
         "r": 0,
         "t": 75
        },
        "template": {
         "layout": {
          "colorway": [
           "#A01D28",
           "#499CC9",
           "#F9A237",
           "#6FBA3A",
           "#573D6B"
          ],
          "font": {
           "color": "#54565B",
           "family": "Helvetica Neue, Arial",
           "size": 12
          },
          "modebar": {
           "activecolor": "#A01D28"
          },
          "paper_bgcolor": "#F7F2F2",
          "plot_bgcolor": "#F7F2F2",
          "showlegend": false,
          "title": {
           "font": {
            "family": "Helvetica Neue, Arial",
            "size": 17
           },
           "y": 0.94,
           "yanchor": "bottom"
          },
          "xaxis": {
           "showgrid": false,
           "tickcolor": "#54565B"
          }
         }
        },
        "title": {
         "text": "<b>Imprisonment of women in Wiltshire by offence group in 2022</b>",
         "y": 0.94,
         "yanchor": "bottom"
        },
        "uniformtext": {
         "minsize": 8,
         "mode": "hide"
        },
        "width": 800
       }
      }
     },
     "metadata": {},
     "output_type": "display_data"
    }
   ],
   "source": [
    "for pfa in df2['pfa'].unique():\n",
    "    pfa_df = df2[df2[\"pfa\"] == pfa]\n",
    "\n",
    "    #Creating an 'All other offences' parent value to contain offences listed in highlighted_offence_groups\n",
    "    pfa_df = pd.concat([pfa_df, \n",
    "                    pd.DataFrame.from_records([{'pfa': pfa_df['pfa'].iloc[0], \n",
    "                                                'offence':\"All other<br>offences\", \n",
    "                                                'proportion': pfa_df.loc[~filt, 'proportion'].sum(), \n",
    "                                                'parent':\"All offences\",\n",
    "                                                'plot_order': 0}])\n",
    "                                                ],\n",
    "                                                ignore_index=True\n",
    "                    ).sort_values(by=['plot_order', 'proportion'], ascending=True)\n",
    "        \n",
    "\n",
    "    ## Chart title\n",
    "    title = textwrap.wrap(f'<b>Imprisonment of women in {pfa_df[\"pfa\"].iloc[0]} by offence group in 2022</b>', width=100)\n",
    "\n",
    "    fig = go.Figure()\n",
    "\n",
    "    fig.add_trace(go.Sunburst(\n",
    "        labels=pfa_df['offence'],\n",
    "        parents=pfa_df['parent'],\n",
    "        values=pfa_df['proportion'],\n",
    "        sort=False,\n",
    "        branchvalues='total',\n",
    "        texttemplate=\"%{label} <b>%{percentRoot: .0%}</b>\",\n",
    "        hovertemplate=\"<b>%{label}</b><br>%{percentParent: .0%} of %{parent}<extra></extra>\",\n",
    "        hoverinfo='label+percent parent',\n",
    "        insidetextorientation='radial',\n",
    "        rotation=300,\n",
    "    )\n",
    "                )\n",
    "\n",
    "    fig.update_layout(\n",
    "    margin = dict(t=75, l=0, r=0, b=0),\n",
    "    # margin = dict(t=75, l=20, r=20, b=50),\n",
    "    title=\"<br>\".join(title),\n",
    "    title_y=0.94,\n",
    "    title_yanchor=\"bottom\",\n",
    "    uniformtext_minsize=8,\n",
    "    uniformtext_mode='hide',\n",
    "    width=800,\n",
    "    height=800,\n",
    "    )\n",
    "\n",
    "    ## Chart annotations\n",
    "    annotations = []\n",
    "    # Adding source label\n",
    "    source = prt_theme.sourceAnnotation(\"Ministry of Justice, Criminal justice statistics\", annotations)\n",
    "\n",
    "    # Adding annotations to layout\n",
    "    fig.update_layout(annotations=annotations)\n",
    "\n",
    "    fig.show()\n",
    "\n",
    "    # export_path = Path.joinpath(Path.cwd(), f\"{config['data']['outPath']}\", \"custody_offences_2022\")\n",
    "    # export_path.mkdir(parents=True, exist_ok=True) #generate if does not exist\n",
    "\n",
    "    # Setting filename variable and full path\n",
    "\n",
    "    # filename = str(pfa_df[\"pfa\"].iloc[0]) \n",
    "    # export_eps_path = Path.joinpath(export_path, f'{filename}' + '.eps')\n",
    "\n",
    "    # fig.write_image(export_eps_path)"
   ]
  },
  {
   "cell_type": "code",
   "execution_count": null,
   "metadata": {},
   "outputs": [],
   "source": [
    "pfa_df"
   ]
  },
  {
   "cell_type": "code",
   "execution_count": null,
   "metadata": {},
   "outputs": [],
   "source": [
    "for pfa in df2['pfa'].unique():\n",
    "    pfa_df = df2[df2[\"pfa\"] == pfa]\n",
    "    \n",
    "    #Creating an 'All other offences' parent value to contain offences listed in highlighted_offence_groups\n",
    "    pfa_df = pd.concat([pfa_df, \n",
    "                    pd.DataFrame.from_records([{'pfa': pfa_df['pfa'].iloc[0], \n",
    "                                                'offence':\"All other<br>offences\", \n",
    "                                                'proportion': pfa_df.loc[~filt, 'proportion'].sum(), \n",
    "                                                'parent':\"All offences\"}])\n",
    "                                                ],\n",
    "                                                ignore_index=True\n",
    "                    ).sort_values(by=['offence'], ascending=False)\n",
    "        \n",
    "        \n",
    "    ## Chart title\n",
    "    title = textwrap.wrap(f'<b>Imprisonment of women in {pfa_df[\"pfa\"].iloc[0]}<br>by offence group in 2022</b>', width=100)\n",
    "\n",
    "    fig = go.Figure()\n",
    "\n",
    "    fig.add_trace(go.Sunburst(\n",
    "        labels=pfa_df['offence'],\n",
    "        parents=pfa_df['parent'],\n",
    "        values=pfa_df['proportion'],\n",
    "        sort=False,\n",
    "        branchvalues='total',\n",
    "        texttemplate=\"%{label}<br>%{percentRoot: .0%}\",\n",
    "        hovertemplate=\"<b>%{label}</b><br>%{percentParent: .0%} of %{parent}<extra></extra>\",\n",
    "        hoverinfo='label+percent parent',\n",
    "        insidetextorientation='horizontal',\n",
    "        rotation=90,\n",
    "        domain=dict(column=0),\n",
    "    )\n",
    "            )\n",
    "    \n",
    "    fig.add_trace(go.Sunburst(\n",
    "        labels=pfa_df['offence'],\n",
    "        parents=pfa_df['parent'],\n",
    "        values=pfa_df['proportion'],\n",
    "        sort=True,\n",
    "        branchvalues='total',\n",
    "        texttemplate=\"%{label}<br>%{percentRoot: .0%}\",\n",
    "        hovertemplate=\"<b>%{label}</b><br>%{percentParent: .0%} of %{parent}<extra></extra>\",\n",
    "        hoverinfo='label+percent parent',\n",
    "        insidetextorientation='horizontal',\n",
    "        rotation=90,\n",
    "        level='All other<br>offences',\n",
    "        domain=dict(column=1)\n",
    "    )\n",
    "                )\n",
    "    \n",
    "    fig.update_layout(\n",
    "    margin = dict(t=75, l=0, r=20, b=50),\n",
    "    grid= dict(columns=2, rows=1),\n",
    "    title=\"<br>\".join(title),\n",
    "    title_y=0.94,\n",
    "    title_yanchor=\"bottom\",\n",
    "    uniformtext_minsize=7, \n",
    "    uniformtext_mode='hide',\n",
    "    width=800,\n",
    "    height=500,    \n",
    "    )\n",
    "\n",
    "    ## Chart annotations\n",
    "    annotations = []\n",
    "    # Adding source label\n",
    "    source = prt_theme.sourceAnnotation(\"Ministry of Justice, Criminal justice statistics\", annotations)\n",
    "\n",
    "    # Adding annotations to layout\n",
    "    fig.update_layout(annotations=annotations)\n",
    "\n",
    "    fig.show()\n",
    "\n",
    "    fig.update_layout(uniformtext_mode='show')\n",
    "    fig.show()\n",
    "\n",
    "    # export_path = Path.joinpath(Path.cwd(), f\"{config['data']['outPath']}\", \"custody_offences_2022\")\n",
    "    # export_path.mkdir(parents=True, exist_ok=True) #generate if does not exist\n",
    "\n",
    "    # Setting filename variable and full path\n",
    "\n",
    "    # filename = str(pfa_df[\"pfa\"].iloc[0])\n",
    "    # export_eps_path = Path.joinpath(export_path, f'{filename}' + '.eps')\n",
    "\n",
    "    # fig.write_image(export_eps_path)"
   ]
  },
  {
   "cell_type": "code",
   "execution_count": null,
   "metadata": {},
   "outputs": [],
   "source": [
    "print(fig)"
   ]
  },
  {
   "cell_type": "markdown",
   "metadata": {},
   "source": [
    "Attempting a different graph style"
   ]
  },
  {
   "cell_type": "code",
   "execution_count": null,
   "metadata": {},
   "outputs": [],
   "source": [
    "pfa_df = df2[df2[\"pfa\"] == \"Kent\"]\n",
    "\n",
    "#Creating an 'All other offences' parent value to contain offences listed in highlighted_offence_groups\n",
    "pfa_df = pd.concat([pfa_df, \n",
    "                pd.DataFrame.from_records([{'pfa': pfa_df['pfa'].iloc[0], \n",
    "                                            'offence':\"All other<br>offences\", \n",
    "                                            'proportion': pfa_df.loc[~filt, 'proportion'].sum(), \n",
    "                                            'parent':\"All offences\"}])\n",
    "                                            ],\n",
    "                                            ignore_index=True\n",
    "                ).sort_values(by=['offence'], ascending=False)\n",
    "    \n",
    "    \n",
    "## Chart title\n",
    "title = textwrap.wrap(f'<b>Imprisonment of women in {pfa_df[\"pfa\"].iloc[0]}<br>by offence group in 2022</b>', width=100)\n",
    "\n",
    "fig =go.Figure(go.Icicle(\n",
    "    labels=pfa_df['offence'],\n",
    "    parents=pfa_df['parent'],\n",
    "    values=pfa_df['proportion'],\n",
    "    root_color=\"lightgrey\"\n",
    "))\n",
    "\n",
    "fig.show()"
   ]
  },
  {
   "cell_type": "markdown",
   "metadata": {},
   "source": [
    "Let's loop back up and remove the breaks from the text."
   ]
  },
  {
   "cell_type": "code",
   "execution_count": null,
   "metadata": {},
   "outputs": [],
   "source": [
    "#Melting df2 from wide to long\n",
    "df2 = pd.melt(df, id_vars='pfa', value_vars=df.columns[1:], var_name='offence', value_name='proportion')\n",
    "\n",
    "#Selecting the offences that I want to continue to display at the root of the sunburst diagram\n",
    "highlighted_offence_groups = ['Theft offences', 'Drug offences', 'Violence against the person']\n",
    "filt = df2['offence'].isin(highlighted_offence_groups)\n",
    "\n",
    "df2.loc[filt, 'parent'] = \"All offences\" # This method prevents that annoying copy/view warning\n",
    "df2.loc[~filt, 'parent'] = \"All other offences\""
   ]
  },
  {
   "cell_type": "code",
   "execution_count": null,
   "metadata": {},
   "outputs": [],
   "source": [
    "pfa_df = df2[df2[\"pfa\"] == \"Kent\"]\n",
    "\n",
    "#Creating an 'All other offences' parent value to contain offences listed in highlighted_offence_groups\n",
    "pfa_df = pd.concat([pfa_df, \n",
    "                pd.DataFrame.from_records([{'pfa': pfa_df['pfa'].iloc[0], \n",
    "                                            'offence':\"All other offences\", \n",
    "                                            'proportion': pfa_df.loc[~filt, 'proportion'].sum(), \n",
    "                                            'parent':\"All offences\"}])\n",
    "                                            ],\n",
    "                                            ignore_index=True\n",
    "                ).sort_values(by=['offence'], ascending=False)\n",
    "    \n",
    "    \n",
    "## Chart title\n",
    "title = textwrap.wrap(f'<b>Imprisonment of women in {pfa_df[\"pfa\"].iloc[0]}<br>by offence group in 2022</b>', width=100)\n",
    "\n",
    "fig = go.Figure()\n",
    "\n",
    "fig.add_trace(go.Icicle(\n",
    "    labels=pfa_df['offence'],\n",
    "    parents=pfa_df['parent'],\n",
    "    values=pfa_df['proportion'],\n",
    "    root_color=\"lightgrey\",\n",
    "    branchvalues='total',\n",
    "    # sort=False,\n",
    "    texttemplate=\"%{label}%{percentRoot: .0%}\",\n",
    "    hovertemplate=\"<b>%{label}</b><br>%{percentParent: .0%} of %{parent}<extra></extra>\",\n",
    "    )\n",
    "    )\n",
    "\n",
    "fig.update_layout(\n",
    "margin = dict(t=85, l=20, r=20, b=40),\n",
    "title=\"<br>\".join(title),\n",
    "title_y=0.94,\n",
    "title_yanchor=\"bottom\",\n",
    "uniformtext_minsize=9, \n",
    "uniformtext_mode='show',\n",
    "width=500,\n",
    "height=800,    \n",
    ")\n",
    "\n",
    "## Chart annotations\n",
    "annotations = []\n",
    "# Adding source label\n",
    "source = prt_theme.sourceAnnotation(\"Ministry of Justice, Criminal justice statistics\", annotations)\n",
    "\n",
    "# Adding annotations to layout\n",
    "fig.update_layout(annotations=annotations)\n",
    "\n",
    "fig.show()"
   ]
  },
  {
   "cell_type": "code",
   "execution_count": null,
   "metadata": {},
   "outputs": [],
   "source": [
    "pfa_df = df2[df2[\"pfa\"] == \"Kent\"]\n",
    "\n",
    "#Creating an 'All other offences' parent value to contain offences listed in highlighted_offence_groups\n",
    "pfa_df = pd.concat([pfa_df, \n",
    "                pd.DataFrame.from_records([{'pfa': pfa_df['pfa'].iloc[0], \n",
    "                                            'offence':\"All other offences\", \n",
    "                                            'proportion': pfa_df.loc[~filt, 'proportion'].sum(), \n",
    "                                            'parent':\"All offences\"}])\n",
    "                                            ],\n",
    "                                            ignore_index=True\n",
    "                ).sort_values(by=['offence'], ascending=False)\n",
    "    \n",
    "    \n",
    "## Chart title\n",
    "title = textwrap.wrap(f'<b>Imprisonment of women in {pfa_df[\"pfa\"].iloc[0]}<br>by offence group in 2022</b>', width=100)\n",
    "\n",
    "fig = go.Figure()\n",
    "\n",
    "mask = pfa_df['parent'] != \"All other offences\"\n",
    "\n",
    "fig.add_trace(go.Icicle(\n",
    "    labels=pfa_df['offence'][mask],\n",
    "    parents=pfa_df['parent'][mask],\n",
    "    values=pfa_df['proportion'][mask],\n",
    "    root_color=\"lightgrey\",\n",
    "    branchvalues='total',\n",
    "    # sort=False,\n",
    "    texttemplate=\"%{label}%{percentRoot: .0%}\",\n",
    "    hovertemplate=\"<b>%{label}</b><br>%{percentParent: .0%} of %{parent}<extra></extra>\",\n",
    "    domain=dict(column=0),\n",
    "    )\n",
    "    )\n",
    "\n",
    "\n",
    "fig.add_trace(go.Icicle(\n",
    "    labels=pfa_df['offence'],\n",
    "    parents=pfa_df['parent'],\n",
    "    values=pfa_df['proportion'],\n",
    "    root_color=\"lightgrey\",\n",
    "    branchvalues='total',\n",
    "    sort=True,\n",
    "    texttemplate=\"%{label}%{percentRoot: .0%}\",\n",
    "    hovertemplate=\"<b>%{label}</b><br>%{percentParent: .0%} of %{parent}<extra></extra>\",\n",
    "    level='All other offences',\n",
    "    domain=dict(column=1),\n",
    "    )\n",
    "    )\n",
    "\n",
    "fig.update_layout(\n",
    "margin = dict(t=100, l=20, r=20, b=40),\n",
    "grid= dict(columns=2, rows=1),\n",
    "title=\"<br>\".join(title),\n",
    "title_y=0.94,\n",
    "title_yanchor=\"bottom\",\n",
    "uniformtext_minsize=11, \n",
    "uniformtext_mode='show',\n",
    "width=800,\n",
    "height=800,    \n",
    ")\n",
    "\n",
    "## Chart annotations\n",
    "annotations = []\n",
    "# Adding source label\n",
    "source = prt_theme.sourceAnnotation(\"Ministry of Justice, Criminal justice statistics\", annotations)\n",
    "\n",
    "# Adding annotations to layout\n",
    "fig.update_layout(annotations=annotations)\n",
    "\n",
    "fig.show()"
   ]
  },
  {
   "cell_type": "code",
   "execution_count": null,
   "metadata": {},
   "outputs": [],
   "source": [
    "mask = pfa_df['parent'] != \"All other offences\"\n",
    "pfa_df[mask]"
   ]
  },
  {
   "cell_type": "code",
   "execution_count": null,
   "metadata": {},
   "outputs": [],
   "source": [
    "for pfa in df2['pfa'].unique():\n",
    "    pfa_df = df2[df2[\"pfa\"] == pfa]\n",
    "\n",
    "    pfa_df = df2[df2[\"pfa\"] == pfa]\n",
    "\n",
    "    #Creating an 'All other offences' parent value to contain offences listed in highlighted_offence_groups\n",
    "    pfa_df = pd.concat([pfa_df, \n",
    "                    pd.DataFrame.from_records([{'pfa': pfa_df['pfa'].iloc[0], \n",
    "                                                'offence':\"All other offences\", \n",
    "                                                'proportion': pfa_df.loc[~filt, 'proportion'].sum(), \n",
    "                                                'parent':\"All offences\"}])\n",
    "                                                ],\n",
    "                                                ignore_index=True\n",
    "                    ).sort_values(by=['offence'], ascending=False)\n",
    "        \n",
    "        \n",
    "    ## Chart title\n",
    "    title = textwrap.wrap(f'<b>Imprisonment of women in {pfa_df[\"pfa\"].iloc[0]}<br>by offence group in 2022</b>', width=100)\n",
    "\n",
    "    fig =go.Figure(go.Icicle(\n",
    "        labels=pfa_df['offence'],\n",
    "        parents=pfa_df['parent'],\n",
    "        values=pfa_df['proportion'],\n",
    "        root_color=\"lightgrey\",\n",
    "        branchvalues='total',\n",
    "        sort=True,\n",
    "        # texttemplate=\"%{label}<br>%{percentRoot: .0%}\",\n",
    "        texttemplate=\"%{label}%{percentRoot: .0%}\",\n",
    "        hovertemplate=\"<b>%{label}</b><br>%{percentParent: .0%} of %{parent}<extra></extra>\",\n",
    "    ))\n",
    "\n",
    "    fig.update_layout(\n",
    "    margin = dict(t=75, l=20, r=20, b=50),\n",
    "    title=\"<br>\".join(title),\n",
    "    title_y=0.94,\n",
    "    title_yanchor=\"bottom\",\n",
    "    uniformtext_minsize=7, \n",
    "    uniformtext_mode='show',\n",
    "    width=800,\n",
    "    height=500,    \n",
    "    )\n",
    "\n",
    "    ## Chart annotations\n",
    "    annotations = []\n",
    "    # Adding source label\n",
    "    source = prt_theme.sourceAnnotation(\"Ministry of Justice, Criminal justice statistics\", annotations)\n",
    "\n",
    "    # Adding annotations to layout\n",
    "    fig.update_layout(annotations=annotations)\n",
    "\n",
    "    fig.show()"
   ]
  },
  {
   "cell_type": "code",
   "execution_count": null,
   "metadata": {},
   "outputs": [],
   "source": [
    "pfa_df = df2[df2[\"pfa\"] == \"Kent\"]\n",
    "\n",
    "#Creating an 'All other offences' parent value to contain offences listed in highlighted_offence_groups\n",
    "pfa_df = pd.concat([pfa_df, \n",
    "                pd.DataFrame.from_records([{'pfa': pfa_df['pfa'].iloc[0], \n",
    "                                            'offence':\"All other<br>offences\", \n",
    "                                            'proportion': pfa_df.loc[~filt, 'proportion'].sum(), \n",
    "                                            'parent':\"All offences\"}])\n",
    "                                            ],\n",
    "                                            ignore_index=True\n",
    "                ).sort_values(by=['offence'], ascending=False)\n",
    "    \n",
    "    \n",
    "## Chart title\n",
    "title = textwrap.wrap(f'<b>Imprisonment of women in {pfa_df[\"pfa\"].iloc[0]}<br>by offence group in 2022</b>', width=100)\n",
    "\n",
    "fig = go.Figure()\n",
    "\n",
    "fig.add_trace(go.Sunburst(\n",
    "    labels=pfa_df['offence'],\n",
    "    parents=pfa_df['parent'],\n",
    "    values=pfa_df['proportion'],\n",
    "    sort=False,\n",
    "    branchvalues='total',\n",
    "    texttemplate=\"%{label}<br>%{percentRoot: .0%}\",\n",
    "    hovertemplate=\"<b>%{label}</b><br>%{percentParent: .0%} of %{parent}<extra></extra>\",\n",
    "    hoverinfo='label+percent parent',\n",
    "    insidetextorientation='horizontal',\n",
    "    rotation=90,\n",
    "    domain=dict(column=0),\n",
    ")\n",
    "        )"
   ]
  }
 ],
 "metadata": {
  "kernelspec": {
   "display_name": "women-pfa-2022",
   "language": "python",
   "name": "python3"
  },
  "language_info": {
   "codemirror_mode": {
    "name": "ipython",
    "version": 3
   },
   "file_extension": ".py",
   "mimetype": "text/x-python",
   "name": "python",
   "nbconvert_exporter": "python",
   "pygments_lexer": "ipython3",
   "version": "3.9.7"
  },
  "orig_nbformat": 4
 },
 "nbformat": 4,
 "nbformat_minor": 2
}
